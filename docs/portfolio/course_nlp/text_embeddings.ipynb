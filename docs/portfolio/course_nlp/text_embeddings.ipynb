{
 "cells": [
  {
   "cell_type": "markdown",
   "id": "cc94686f",
   "metadata": {
    "papermill": {
     "duration": 0.008698,
     "end_time": "2023-07-22T08:41:10.676947",
     "exception": false,
     "start_time": "2023-07-22T08:41:10.668249",
     "status": "completed"
    },
    "tags": []
   },
   "source": [
    "\n",
    "\n",
    "# <b>Векторные представления слов и работа с предобученными эмбедингами</b>\n",
    "\n",
    "## <b><span style='color:#686dec'>Введение</span></b>\n",
    "\n",
    "\n",
    "### **Работа с векторным представлением слов**\n",
    "\n",
    "- В прошлый раз мы затронули тему векторного представления отдельных слов в докуметне (`BoW`,`TF-IDF`)\n",
    "- Сегодня мы подаботаем с векторным представлением слов `word2vec` и `fasttext` (используя библиотеку `gensim`)\n",
    "- С `BoW`,`TF-IDF` нам требовалось ограничивать простанственное представление так как количество столбцов зависит от длины словаря, что приводит к очень большим матрицам\n",
    "- В `word2vec` и `fasttext` мы сопастовляем слову или предложению некое векторное представление любого постранственного размера\n",
    "\n",
    "### **Векторизация слов из Твиттера**\n",
    "\n",
    "- В данном ноутбуке мы воспользуемся данными из твиттера, сохраненные в `csv`"
   ]
  },
  {
   "cell_type": "code",
   "execution_count": 1,
   "id": "19c0c071",
   "metadata": {
    "execution": {
     "iopub.execute_input": "2023-07-22T08:41:10.695978Z",
     "iopub.status.busy": "2023-07-22T08:41:10.695289Z",
     "iopub.status.idle": "2023-07-22T08:41:23.302187Z",
     "shell.execute_reply": "2023-07-22T08:41:23.300963Z"
    },
    "papermill": {
     "duration": 12.618712,
     "end_time": "2023-07-22T08:41:23.304321",
     "exception": false,
     "start_time": "2023-07-22T08:41:10.685609",
     "status": "completed"
    },
    "tags": [],
    "trusted": false
   },
   "outputs": [
    {
     "name": "stdout",
     "output_type": "stream",
     "text": [
      "Collecting pymystem3\r\n",
      "  Downloading pymystem3-0.2.0-py3-none-any.whl (10 kB)\r\n",
      "Requirement already satisfied: requests in /opt/conda/lib/python3.10/site-packages (from pymystem3) (2.31.0)\r\n",
      "Requirement already satisfied: charset-normalizer<4,>=2 in /opt/conda/lib/python3.10/site-packages (from requests->pymystem3) (3.1.0)\r\n",
      "Requirement already satisfied: idna<4,>=2.5 in /opt/conda/lib/python3.10/site-packages (from requests->pymystem3) (3.4)\r\n",
      "Requirement already satisfied: urllib3<3,>=1.21.1 in /opt/conda/lib/python3.10/site-packages (from requests->pymystem3) (1.26.15)\r\n",
      "Requirement already satisfied: certifi>=2017.4.17 in /opt/conda/lib/python3.10/site-packages (from requests->pymystem3) (2023.5.7)\r\n",
      "Installing collected packages: pymystem3\r\n",
      "Successfully installed pymystem3-0.2.0\r\n",
      "Note: you may need to restart the kernel to use updated packages.\n"
     ]
    }
   ],
   "source": [
    "pip install pymystem3"
   ]
  },
  {
   "cell_type": "markdown",
   "id": "235eae09",
   "metadata": {
    "papermill": {
     "duration": 0.008514,
     "end_time": "2023-07-22T08:41:23.322557",
     "exception": false,
     "start_time": "2023-07-22T08:41:23.314043",
     "status": "completed"
    },
    "tags": []
   },
   "source": [
    "### **Импортируем библиотеки**"
   ]
  },
  {
   "cell_type": "code",
   "execution_count": 2,
   "id": "d6deea0e",
   "metadata": {
    "execution": {
     "iopub.execute_input": "2023-07-22T08:41:23.343963Z",
     "iopub.status.busy": "2023-07-22T08:41:23.343533Z",
     "iopub.status.idle": "2023-07-22T08:41:24.608978Z",
     "shell.execute_reply": "2023-07-22T08:41:24.608157Z"
    },
    "papermill": {
     "duration": 1.280017,
     "end_time": "2023-07-22T08:41:24.611450",
     "exception": false,
     "start_time": "2023-07-22T08:41:23.331433",
     "status": "completed"
    },
    "tags": [],
    "trusted": false
   },
   "outputs": [
    {
     "name": "stderr",
     "output_type": "stream",
     "text": [
      "/opt/conda/lib/python3.10/site-packages/scipy/__init__.py:146: UserWarning: A NumPy version >=1.16.5 and <1.23.0 is required for this version of SciPy (detected version 1.23.5\n",
      "  warnings.warn(f\"A NumPy version >={np_minversion} and <{np_maxversion}\"\n"
     ]
    }
   ],
   "source": [
    "import pandas as pd\n",
    "import random\n",
    "import numpy as np\n",
    "from sklearn.metrics import *\n",
    "from sklearn.feature_extraction.text import *\n",
    "from sklearn.model_selection import train_test_split\n",
    "from collections import Counter, defaultdict\n",
    "import warnings\n",
    "from pymystem3 import Mystem\n",
    "import re\n",
    "\n",
    "warnings.filterwarnings('ignore')\n",
    "random.seed(1228)"
   ]
  },
  {
   "cell_type": "markdown",
   "id": "63d66114",
   "metadata": {
    "papermill": {
     "duration": 0.009885,
     "end_time": "2023-07-22T08:41:24.633895",
     "exception": false,
     "start_time": "2023-07-22T08:41:24.624010",
     "status": "completed"
    },
    "tags": []
   },
   "source": [
    "## <b><span style='color:#686dec'>Данные</span></b>\n",
    "\n",
    "### **Загружаем данные**\n",
    "\n",
    "Позитивные и негативные твиты находятся в разных файлах"
   ]
  },
  {
   "cell_type": "code",
   "execution_count": 3,
   "id": "8e398b1f",
   "metadata": {
    "execution": {
     "iopub.execute_input": "2023-07-22T08:41:24.655837Z",
     "iopub.status.busy": "2023-07-22T08:41:24.655049Z",
     "iopub.status.idle": "2023-07-22T08:41:25.665254Z",
     "shell.execute_reply": "2023-07-22T08:41:25.664172Z"
    },
    "papermill": {
     "duration": 1.02455,
     "end_time": "2023-07-22T08:41:25.667446",
     "exception": false,
     "start_time": "2023-07-22T08:41:24.642896",
     "status": "completed"
    },
    "tags": [],
    "trusted": false
   },
   "outputs": [
    {
     "data": {
      "text/html": [
       "<div>\n",
       "<style scoped>\n",
       "    .dataframe tbody tr th:only-of-type {\n",
       "        vertical-align: middle;\n",
       "    }\n",
       "\n",
       "    .dataframe tbody tr th {\n",
       "        vertical-align: top;\n",
       "    }\n",
       "\n",
       "    .dataframe thead th {\n",
       "        text-align: right;\n",
       "    }\n",
       "</style>\n",
       "<table border=\"1\" class=\"dataframe\">\n",
       "  <thead>\n",
       "    <tr style=\"text-align: right;\">\n",
       "      <th></th>\n",
       "      <th>0</th>\n",
       "      <th>1</th>\n",
       "      <th>2</th>\n",
       "      <th>3</th>\n",
       "      <th>4</th>\n",
       "      <th>5</th>\n",
       "      <th>6</th>\n",
       "      <th>7</th>\n",
       "      <th>8</th>\n",
       "      <th>9</th>\n",
       "      <th>10</th>\n",
       "      <th>11</th>\n",
       "    </tr>\n",
       "  </thead>\n",
       "  <tbody>\n",
       "    <tr>\n",
       "      <th>114906</th>\n",
       "      <td>411368729235054592</td>\n",
       "      <td>1386912922</td>\n",
       "      <td>diminlisenok</td>\n",
       "      <td>Спала в родительском доме, на своей кровати......</td>\n",
       "      <td>1</td>\n",
       "      <td>0</td>\n",
       "      <td>0</td>\n",
       "      <td>0</td>\n",
       "      <td>1497</td>\n",
       "      <td>56</td>\n",
       "      <td>34</td>\n",
       "      <td>2</td>\n",
       "    </tr>\n",
       "    <tr>\n",
       "      <th>114907</th>\n",
       "      <td>411368729424187392</td>\n",
       "      <td>1386912922</td>\n",
       "      <td>qilepocagotu</td>\n",
       "      <td>RT @jebesilofyt: Эх... Мы немного решили сокра...</td>\n",
       "      <td>1</td>\n",
       "      <td>0</td>\n",
       "      <td>1</td>\n",
       "      <td>0</td>\n",
       "      <td>692</td>\n",
       "      <td>225</td>\n",
       "      <td>210</td>\n",
       "      <td>0</td>\n",
       "    </tr>\n",
       "    <tr>\n",
       "      <th>114908</th>\n",
       "      <td>411368796537257984</td>\n",
       "      <td>1386912938</td>\n",
       "      <td>DennyChooo</td>\n",
       "      <td>Что происходит со мной, когда в эфире #proacti...</td>\n",
       "      <td>1</td>\n",
       "      <td>0</td>\n",
       "      <td>0</td>\n",
       "      <td>0</td>\n",
       "      <td>4905</td>\n",
       "      <td>448</td>\n",
       "      <td>193</td>\n",
       "      <td>13</td>\n",
       "    </tr>\n",
       "    <tr>\n",
       "      <th>114909</th>\n",
       "      <td>411368797447417856</td>\n",
       "      <td>1386912938</td>\n",
       "      <td>bedowabymir</td>\n",
       "      <td>\"Любимая,я подарю тебе эту звезду...\" Имя како...</td>\n",
       "      <td>1</td>\n",
       "      <td>0</td>\n",
       "      <td>0</td>\n",
       "      <td>0</td>\n",
       "      <td>989</td>\n",
       "      <td>254</td>\n",
       "      <td>251</td>\n",
       "      <td>0</td>\n",
       "    </tr>\n",
       "    <tr>\n",
       "      <th>114910</th>\n",
       "      <td>411368857035898880</td>\n",
       "      <td>1386912953</td>\n",
       "      <td>Prituljak_Sibir</td>\n",
       "      <td>@Ma_che_rie посмотри #непытайтесьпокинутьомск ...</td>\n",
       "      <td>1</td>\n",
       "      <td>0</td>\n",
       "      <td>0</td>\n",
       "      <td>0</td>\n",
       "      <td>1005</td>\n",
       "      <td>221</td>\n",
       "      <td>178</td>\n",
       "      <td>6</td>\n",
       "    </tr>\n",
       "  </tbody>\n",
       "</table>\n",
       "</div>"
      ],
      "text/plain": [
       "                        0           1                2   \\\n",
       "114906  411368729235054592  1386912922     diminlisenok   \n",
       "114907  411368729424187392  1386912922     qilepocagotu   \n",
       "114908  411368796537257984  1386912938       DennyChooo   \n",
       "114909  411368797447417856  1386912938      bedowabymir   \n",
       "114910  411368857035898880  1386912953  Prituljak_Sibir   \n",
       "\n",
       "                                                       3   4   5   6   7   \\\n",
       "114906  Спала в родительском доме, на своей кровати......   1   0   0   0   \n",
       "114907  RT @jebesilofyt: Эх... Мы немного решили сокра...   1   0   1   0   \n",
       "114908  Что происходит со мной, когда в эфире #proacti...   1   0   0   0   \n",
       "114909  \"Любимая,я подарю тебе эту звезду...\" Имя како...   1   0   0   0   \n",
       "114910  @Ma_che_rie посмотри #непытайтесьпокинутьомск ...   1   0   0   0   \n",
       "\n",
       "          8    9    10  11  \n",
       "114906  1497   56   34   2  \n",
       "114907   692  225  210   0  \n",
       "114908  4905  448  193  13  \n",
       "114909   989  254  251   0  \n",
       "114910  1005  221  178   6  "
      ]
     },
     "execution_count": 3,
     "metadata": {},
     "output_type": "execute_result"
    }
   ],
   "source": [
    "df_pos = pd.read_csv(\"/kaggle/input/twitter/positive.csv\", sep=';', header = None)\n",
    "df_pos.tail()"
   ]
  },
  {
   "cell_type": "code",
   "execution_count": 4,
   "id": "c2b759cc",
   "metadata": {
    "execution": {
     "iopub.execute_input": "2023-07-22T08:41:25.687619Z",
     "iopub.status.busy": "2023-07-22T08:41:25.687222Z",
     "iopub.status.idle": "2023-07-22T08:41:26.679943Z",
     "shell.execute_reply": "2023-07-22T08:41:26.678784Z"
    },
    "papermill": {
     "duration": 1.005803,
     "end_time": "2023-07-22T08:41:26.682554",
     "exception": false,
     "start_time": "2023-07-22T08:41:25.676751",
     "status": "completed"
    },
    "tags": [],
    "trusted": false
   },
   "outputs": [
    {
     "data": {
      "text/html": [
       "<div>\n",
       "<style scoped>\n",
       "    .dataframe tbody tr th:only-of-type {\n",
       "        vertical-align: middle;\n",
       "    }\n",
       "\n",
       "    .dataframe tbody tr th {\n",
       "        vertical-align: top;\n",
       "    }\n",
       "\n",
       "    .dataframe thead th {\n",
       "        text-align: right;\n",
       "    }\n",
       "</style>\n",
       "<table border=\"1\" class=\"dataframe\">\n",
       "  <thead>\n",
       "    <tr style=\"text-align: right;\">\n",
       "      <th></th>\n",
       "      <th>0</th>\n",
       "      <th>1</th>\n",
       "      <th>2</th>\n",
       "      <th>3</th>\n",
       "      <th>4</th>\n",
       "      <th>5</th>\n",
       "      <th>6</th>\n",
       "      <th>7</th>\n",
       "      <th>8</th>\n",
       "      <th>9</th>\n",
       "      <th>10</th>\n",
       "      <th>11</th>\n",
       "    </tr>\n",
       "  </thead>\n",
       "  <tbody>\n",
       "    <tr>\n",
       "      <th>0</th>\n",
       "      <td>408906762813579264</td>\n",
       "      <td>1386325944</td>\n",
       "      <td>dugarchikbellko</td>\n",
       "      <td>на работе был полный пиддес :| и так каждое за...</td>\n",
       "      <td>-1</td>\n",
       "      <td>0</td>\n",
       "      <td>0</td>\n",
       "      <td>0</td>\n",
       "      <td>8064</td>\n",
       "      <td>111</td>\n",
       "      <td>94</td>\n",
       "      <td>2</td>\n",
       "    </tr>\n",
       "    <tr>\n",
       "      <th>1</th>\n",
       "      <td>408906818262687744</td>\n",
       "      <td>1386325957</td>\n",
       "      <td>nugemycejela</td>\n",
       "      <td>Коллеги сидят рубятся в Urban terror, а я из-з...</td>\n",
       "      <td>-1</td>\n",
       "      <td>0</td>\n",
       "      <td>0</td>\n",
       "      <td>0</td>\n",
       "      <td>26</td>\n",
       "      <td>42</td>\n",
       "      <td>39</td>\n",
       "      <td>0</td>\n",
       "    </tr>\n",
       "    <tr>\n",
       "      <th>2</th>\n",
       "      <td>408906858515398656</td>\n",
       "      <td>1386325966</td>\n",
       "      <td>4post21</td>\n",
       "      <td>@elina_4post как говорят обещаного три года жд...</td>\n",
       "      <td>-1</td>\n",
       "      <td>0</td>\n",
       "      <td>0</td>\n",
       "      <td>0</td>\n",
       "      <td>718</td>\n",
       "      <td>49</td>\n",
       "      <td>249</td>\n",
       "      <td>0</td>\n",
       "    </tr>\n",
       "    <tr>\n",
       "      <th>3</th>\n",
       "      <td>408906914437685248</td>\n",
       "      <td>1386325980</td>\n",
       "      <td>Poliwake</td>\n",
       "      <td>Желаю хорошего полёта и удачной посадки,я буду...</td>\n",
       "      <td>-1</td>\n",
       "      <td>0</td>\n",
       "      <td>0</td>\n",
       "      <td>0</td>\n",
       "      <td>10628</td>\n",
       "      <td>207</td>\n",
       "      <td>200</td>\n",
       "      <td>0</td>\n",
       "    </tr>\n",
       "    <tr>\n",
       "      <th>4</th>\n",
       "      <td>408906914723295232</td>\n",
       "      <td>1386325980</td>\n",
       "      <td>capyvixowe</td>\n",
       "      <td>Обновил за каким-то лешим surf, теперь не рабо...</td>\n",
       "      <td>-1</td>\n",
       "      <td>0</td>\n",
       "      <td>0</td>\n",
       "      <td>0</td>\n",
       "      <td>35</td>\n",
       "      <td>17</td>\n",
       "      <td>34</td>\n",
       "      <td>0</td>\n",
       "    </tr>\n",
       "  </tbody>\n",
       "</table>\n",
       "</div>"
      ],
      "text/plain": [
       "                   0           1                2   \\\n",
       "0  408906762813579264  1386325944  dugarchikbellko   \n",
       "1  408906818262687744  1386325957     nugemycejela   \n",
       "2  408906858515398656  1386325966          4post21   \n",
       "3  408906914437685248  1386325980         Poliwake   \n",
       "4  408906914723295232  1386325980       capyvixowe   \n",
       "\n",
       "                                                  3   4   5   6   7      8   \\\n",
       "0  на работе был полный пиддес :| и так каждое за...  -1   0   0   0   8064   \n",
       "1  Коллеги сидят рубятся в Urban terror, а я из-з...  -1   0   0   0     26   \n",
       "2  @elina_4post как говорят обещаного три года жд...  -1   0   0   0    718   \n",
       "3  Желаю хорошего полёта и удачной посадки,я буду...  -1   0   0   0  10628   \n",
       "4  Обновил за каким-то лешим surf, теперь не рабо...  -1   0   0   0     35   \n",
       "\n",
       "    9    10  11  \n",
       "0  111   94   2  \n",
       "1   42   39   0  \n",
       "2   49  249   0  \n",
       "3  207  200   0  \n",
       "4   17   34   0  "
      ]
     },
     "execution_count": 4,
     "metadata": {},
     "output_type": "execute_result"
    }
   ],
   "source": [
    "df_neg = pd.read_csv(\"/kaggle/input/twitter/negative.csv\", sep=';', header = None)\n",
    "df_neg.head()"
   ]
  },
  {
   "cell_type": "markdown",
   "id": "5e71bb0d",
   "metadata": {
    "papermill": {
     "duration": 0.00914,
     "end_time": "2023-07-22T08:41:26.701909",
     "exception": false,
     "start_time": "2023-07-22T08:41:26.692769",
     "status": "completed"
    },
    "tags": []
   },
   "source": [
    "### **Предобработка данных**\n",
    "\n",
    "Две функции которые мы можем использовать для очистки данных из соцсетей\n",
    "- `words_only` Оставляет только слова и символы которые могут быть полезны для смайликов \n",
    "- `lemmatize` Функция которая лемматизируем текст (используя pymystem3)"
   ]
  },
  {
   "cell_type": "code",
   "execution_count": 5,
   "id": "9ea1fea2",
   "metadata": {
    "execution": {
     "iopub.execute_input": "2023-07-22T08:41:26.722564Z",
     "iopub.status.busy": "2023-07-22T08:41:26.722197Z",
     "iopub.status.idle": "2023-07-22T08:41:35.494505Z",
     "shell.execute_reply": "2023-07-22T08:41:35.493421Z"
    },
    "papermill": {
     "duration": 8.785318,
     "end_time": "2023-07-22T08:41:35.496697",
     "exception": false,
     "start_time": "2023-07-22T08:41:26.711379",
     "status": "completed"
    },
    "tags": [],
    "trusted": false
   },
   "outputs": [
    {
     "name": "stderr",
     "output_type": "stream",
     "text": [
      "Installing mystem to /root/.local/bin/mystem from http://download.cdn.yandex.net/mystem/mystem-3.1-linux-64bit.tar.gz\n"
     ]
    },
    {
     "data": {
      "text/plain": [
       "'g iuhoikl kjh h одлжд :))'"
      ]
     },
     "execution_count": 5,
     "metadata": {},
     "output_type": "execute_result"
    }
   ],
   "source": [
    "# функция для предобработки с регулярками\n",
    "def words_only(text):\n",
    "    try:\n",
    "        return \" \".join(re.findall(\"[А-Яа-я:=!\\)\\()A-z\\_\\%/|]+\",text))\n",
    "    except:\n",
    "        return \"\"\n",
    "\n",
    "# функция для лемматизации с pymystem\n",
    "lemmatiser = Mystem()\n",
    "def lemmatize(text):\n",
    "    try:\n",
    "        return \"\".join(lemmatiser.lemmatize(text)).strip()  \n",
    "    except:\n",
    "        return \" \"\n",
    "    \n",
    "words_only('g;iuhoikl 7.kjh 87h одлжд :))')"
   ]
  },
  {
   "cell_type": "code",
   "execution_count": 6,
   "id": "f286e796",
   "metadata": {
    "execution": {
     "iopub.execute_input": "2023-07-22T08:41:35.517781Z",
     "iopub.status.busy": "2023-07-22T08:41:35.517024Z",
     "iopub.status.idle": "2023-07-22T08:41:36.384733Z",
     "shell.execute_reply": "2023-07-22T08:41:36.383789Z"
    },
    "papermill": {
     "duration": 0.880484,
     "end_time": "2023-07-22T08:41:36.386910",
     "exception": false,
     "start_time": "2023-07-22T08:41:35.506426",
     "status": "completed"
    },
    "tags": [],
    "trusted": false
   },
   "outputs": [
    {
     "data": {
      "text/plain": [
       "'вечер или медленный'"
      ]
     },
     "execution_count": 6,
     "metadata": {},
     "output_type": "execute_result"
    }
   ],
   "source": [
    "lemmatize('вечером или медленный')"
   ]
  },
  {
   "cell_type": "code",
   "execution_count": 7,
   "id": "6abfa191",
   "metadata": {
    "execution": {
     "iopub.execute_input": "2023-07-22T08:41:36.408805Z",
     "iopub.status.busy": "2023-07-22T08:41:36.408048Z",
     "iopub.status.idle": "2023-07-22T08:41:38.830933Z",
     "shell.execute_reply": "2023-07-22T08:41:38.829781Z"
    },
    "papermill": {
     "duration": 2.436455,
     "end_time": "2023-07-22T08:41:38.833311",
     "exception": false,
     "start_time": "2023-07-22T08:41:36.396856",
     "status": "completed"
    },
    "tags": [],
    "trusted": false
   },
   "outputs": [
    {
     "name": "stdout",
     "output_type": "stream",
     "text": [
      "CPU times: user 1.36 s, sys: 40.2 ms, total: 1.4 s\n",
      "Wall time: 1.4 s\n"
     ]
    }
   ],
   "source": [
    "df_neg = pd.read_csv(\"/kaggle/input/twitter/negative.csv\", sep=';', header = None, usecols = [3])\n",
    "df_pos = pd.read_csv(\"/kaggle/input/twitter/positive.csv\", sep=';', header = None, usecols = [3])\n",
    "df_neg['sent'] = 'neg'\n",
    "df_pos['sent'] = 'pos'\n",
    "df_pos['text'] = df_pos[3]\n",
    "df_neg['text'] = df_neg[3]\n",
    "df = pd.concat([df_neg, df_pos])\n",
    "df = df[['text', 'sent']]\n",
    "\n",
    "%time df.text = df.text.apply(words_only)\n",
    "#%time df.text = df.text.apply(lemmatize)"
   ]
  },
  {
   "cell_type": "code",
   "execution_count": 8,
   "id": "b735af3f",
   "metadata": {
    "execution": {
     "iopub.execute_input": "2023-07-22T08:41:38.856030Z",
     "iopub.status.busy": "2023-07-22T08:41:38.855625Z",
     "iopub.status.idle": "2023-07-22T08:41:38.861249Z",
     "shell.execute_reply": "2023-07-22T08:41:38.860039Z"
    },
    "papermill": {
     "duration": 0.019813,
     "end_time": "2023-07-22T08:41:38.863413",
     "exception": false,
     "start_time": "2023-07-22T08:41:38.843600",
     "status": "completed"
    },
    "tags": [],
    "trusted": false
   },
   "outputs": [
    {
     "name": "stdout",
     "output_type": "stream",
     "text": [
      "(226834, 2)\n"
     ]
    }
   ],
   "source": [
    "print(df.shape)\n",
    "#df.head()"
   ]
  },
  {
   "cell_type": "markdown",
   "id": "37c51672",
   "metadata": {
    "papermill": {
     "duration": 0.009611,
     "end_time": "2023-07-22T08:41:38.883065",
     "exception": false,
     "start_time": "2023-07-22T08:41:38.873454",
     "status": "completed"
    },
    "tags": []
   },
   "source": [
    "`Word2Vec` требует на входе токенизированные данные в формате списков"
   ]
  },
  {
   "cell_type": "code",
   "execution_count": 9,
   "id": "baaee8c0",
   "metadata": {
    "execution": {
     "iopub.execute_input": "2023-07-22T08:41:38.904991Z",
     "iopub.status.busy": "2023-07-22T08:41:38.904254Z",
     "iopub.status.idle": "2023-07-22T08:41:43.429449Z",
     "shell.execute_reply": "2023-07-22T08:41:43.428083Z"
    },
    "papermill": {
     "duration": 4.538723,
     "end_time": "2023-07-22T08:41:43.431641",
     "exception": false,
     "start_time": "2023-07-22T08:41:38.892918",
     "status": "completed"
    },
    "tags": [],
    "trusted": false
   },
   "outputs": [
    {
     "name": "stdout",
     "output_type": "stream",
     "text": [
      "226834\n"
     ]
    }
   ],
   "source": [
    "texts = [df.text.iloc[i].split() for i in range(len(df))]\n",
    "print(len(texts))"
   ]
  },
  {
   "cell_type": "markdown",
   "id": "3b6962bd",
   "metadata": {
    "papermill": {
     "duration": 0.009622,
     "end_time": "2023-07-22T08:41:43.451347",
     "exception": false,
     "start_time": "2023-07-22T08:41:43.441725",
     "status": "completed"
    },
    "tags": []
   },
   "source": [
    "## <b><span style='color:#686dec'>Обучаем модель Word2Vec</span></b>\n",
    "\n",
    "Эмбединговые представление можно получить обучив модель на наших данных из твитера\n",
    "\n",
    "- На входе подаем список токенов всех документов в корпусе `text`\n",
    "- Контекстное окно будет +/- 5 слов\n",
    "- Минимальная частота слов 5 (все что меньше игнорируется)"
   ]
  },
  {
   "cell_type": "code",
   "execution_count": 10,
   "id": "e9289a01",
   "metadata": {
    "execution": {
     "iopub.execute_input": "2023-07-22T08:41:43.473098Z",
     "iopub.status.busy": "2023-07-22T08:41:43.472677Z",
     "iopub.status.idle": "2023-07-22T08:41:56.719161Z",
     "shell.execute_reply": "2023-07-22T08:41:56.718072Z"
    },
    "papermill": {
     "duration": 13.260731,
     "end_time": "2023-07-22T08:41:56.722071",
     "exception": false,
     "start_time": "2023-07-22T08:41:43.461340",
     "status": "completed"
    },
    "tags": [],
    "trusted": false
   },
   "outputs": [
    {
     "name": "stdout",
     "output_type": "stream",
     "text": [
      "CPU times: user 36.8 s, sys: 366 ms, total: 37.1 s\n",
      "Wall time: 13.2 s\n"
     ]
    }
   ],
   "source": [
    "%%time\n",
    "from gensim.models import Word2Vec\n",
    "\n",
    "# Тренируем модель\n",
    "model = Word2Vec(texts, \n",
    "                 window=5, \n",
    "                 min_count=5, \n",
    "                 workers=4)\n",
    "\n",
    "# Сохраняем модель\n",
    "model.save(\"word2v.model\")\n",
    "\n",
    "# Загружаем модель\n",
    "#model = Word2Vec.load(\"word2v.model\") "
   ]
  },
  {
   "cell_type": "markdown",
   "id": "697547d8",
   "metadata": {
    "papermill": {
     "duration": 0.01144,
     "end_time": "2023-07-22T08:41:56.749433",
     "exception": false,
     "start_time": "2023-07-22T08:41:56.737993",
     "status": "completed"
    },
    "tags": []
   },
   "source": [
    "\n",
    "## <b><span style='color:#686dec'>Операции с векторами</span></b>\n",
    "\n",
    "Полезные `word2vec` операции:\n",
    "\n",
    "- Из модели можно выгрузить векторные представления слов с помощью `wv`\n",
    "- Мы можем найти наиболее близкие к слову слова используя `wv.most_similar`\n",
    "- С этими векторами мы можем делать вычисления и суммиование используя `wv.similar_by_vector`\n",
    "- Можем вычислить слова которые не вливаются в предложение используя `wv.doesnt_match`"
   ]
  },
  {
   "cell_type": "code",
   "execution_count": 11,
   "id": "7d812779",
   "metadata": {
    "execution": {
     "iopub.execute_input": "2023-07-22T08:41:56.771992Z",
     "iopub.status.busy": "2023-07-22T08:41:56.771116Z",
     "iopub.status.idle": "2023-07-22T08:41:56.781903Z",
     "shell.execute_reply": "2023-07-22T08:41:56.780723Z"
    },
    "papermill": {
     "duration": 0.025914,
     "end_time": "2023-07-22T08:41:56.785794",
     "exception": false,
     "start_time": "2023-07-22T08:41:56.759880",
     "status": "completed"
    },
    "tags": [],
    "trusted": false
   },
   "outputs": [
    {
     "data": {
      "text/plain": [
       "array([-0.10470013,  0.03513598,  0.41875052,  0.5153433 ,  0.9402133 ,\n",
       "       -0.2930955 ,  0.5164637 ,  0.7244828 , -0.24704719, -0.27431324,\n",
       "       -0.21855737,  0.01049238, -0.12207789, -0.257858  ,  0.3303831 ,\n",
       "       -0.5363448 ,  0.16048016, -0.00357761, -0.02529725, -0.896249  ,\n",
       "        0.00231601, -0.09299509,  0.50959855, -0.41379848, -0.58466417,\n",
       "       -0.59111625,  0.24317443, -0.27386442, -0.09665257,  0.02590754,\n",
       "        0.36794418, -0.578324  , -0.00952124,  0.15676403,  0.14984065,\n",
       "        0.28297207,  0.1306792 ,  0.45648193, -0.4614138 , -0.00394126,\n",
       "       -0.18601353,  0.28170818, -0.34839335,  0.46978518,  0.1506986 ,\n",
       "        0.18715191, -0.05226476, -0.3970961 , -0.09965609,  0.16863827,\n",
       "        0.14389691, -0.1783841 , -0.37686712,  0.22169474, -0.38901794,\n",
       "        0.35773337, -0.08235621,  0.2484024 , -0.31825948,  0.02456559,\n",
       "       -0.04911847,  0.01784658,  0.9772008 , -0.03402596, -0.7810176 ,\n",
       "        0.17957872,  0.5262285 ,  0.41534203, -0.5283286 , -0.20104289,\n",
       "       -0.22328393, -0.07975829,  0.24007888,  0.47399127,  0.2318192 ,\n",
       "        0.04374537,  0.43821317,  0.78923124, -0.7456475 ,  0.543595  ,\n",
       "       -0.1420232 , -0.61270565, -0.18691902, -0.40484717, -0.2623664 ,\n",
       "        0.24123536,  0.17079079,  0.29155582,  0.66039234, -0.15984882,\n",
       "        0.35916597, -0.24354032, -0.10610883,  1.0515662 ,  0.50824046,\n",
       "        0.69234437,  0.4339073 , -0.12926975, -0.37009227, -0.17433347],\n",
       "      dtype=float32)"
      ]
     },
     "execution_count": 11,
     "metadata": {},
     "output_type": "execute_result"
    }
   ],
   "source": [
    "model.wv['работа']"
   ]
  },
  {
   "cell_type": "code",
   "execution_count": 12,
   "id": "d981305e",
   "metadata": {
    "execution": {
     "iopub.execute_input": "2023-07-22T08:41:56.808536Z",
     "iopub.status.busy": "2023-07-22T08:41:56.807238Z",
     "iopub.status.idle": "2023-07-22T08:41:56.835374Z",
     "shell.execute_reply": "2023-07-22T08:41:56.834109Z"
    },
    "papermill": {
     "duration": 0.042674,
     "end_time": "2023-07-22T08:41:56.838514",
     "exception": false,
     "start_time": "2023-07-22T08:41:56.795840",
     "status": "completed"
    },
    "tags": [],
    "trusted": false
   },
   "outputs": [
    {
     "data": {
      "text/plain": [
       "[('школа', 0.8297739624977112),\n",
       " ('учеба', 0.8025556802749634),\n",
       " ('физика', 0.7936404347419739),\n",
       " ('ужасная', 0.7904353737831116),\n",
       " ('погода', 0.785150408744812),\n",
       " ('настоящая', 0.7794501781463623),\n",
       " ('сессия', 0.766066312789917),\n",
       " ('пара', 0.7567639946937561),\n",
       " ('елка', 0.75386643409729),\n",
       " ('алгебра', 0.7523488402366638)]"
      ]
     },
     "execution_count": 12,
     "metadata": {},
     "output_type": "execute_result"
    }
   ],
   "source": [
    "model.wv.most_similar(\"работа\")"
   ]
  },
  {
   "cell_type": "code",
   "execution_count": 13,
   "id": "194bff88",
   "metadata": {
    "execution": {
     "iopub.execute_input": "2023-07-22T08:41:56.908771Z",
     "iopub.status.busy": "2023-07-22T08:41:56.908030Z",
     "iopub.status.idle": "2023-07-22T08:41:56.920677Z",
     "shell.execute_reply": "2023-07-22T08:41:56.919481Z"
    },
    "papermill": {
     "duration": 0.055726,
     "end_time": "2023-07-22T08:41:56.923712",
     "exception": false,
     "start_time": "2023-07-22T08:41:56.867986",
     "status": "completed"
    },
    "tags": [],
    "trusted": false
   },
   "outputs": [
    {
     "data": {
      "text/plain": [
       "[('университет', 0.9683309197425842),\n",
       " ('поступлении', 0.9346603751182556),\n",
       " ('попросили', 0.9012249708175659),\n",
       " ('Конгениальность!!!', 0.835422158241272),\n",
       " ('При', 0.821401059627533),\n",
       " ('принести', 0.821234405040741),\n",
       " ('рукав', 0.7973737716674805),\n",
       " ('Мисс', 0.7918796539306641),\n",
       " ('исполнить', 0.784400224685669),\n",
       " ('сторону)', 0.761738657951355)]"
      ]
     },
     "execution_count": 13,
     "metadata": {},
     "output_type": "execute_result"
    }
   ],
   "source": [
    "vec = (model.wv['университет'] - model.wv['студент'] + model.wv['школьник'])/3\n",
    "model.wv.similar_by_vector(vec)"
   ]
  },
  {
   "cell_type": "code",
   "execution_count": 14,
   "id": "bf0ea6bf",
   "metadata": {
    "execution": {
     "iopub.execute_input": "2023-07-22T08:41:56.993849Z",
     "iopub.status.busy": "2023-07-22T08:41:56.993174Z",
     "iopub.status.idle": "2023-07-22T08:41:57.002226Z",
     "shell.execute_reply": "2023-07-22T08:41:57.001152Z"
    },
    "papermill": {
     "duration": 0.052606,
     "end_time": "2023-07-22T08:41:57.006319",
     "exception": false,
     "start_time": "2023-07-22T08:41:56.953713",
     "status": "completed"
    },
    "tags": [],
    "trusted": false
   },
   "outputs": [
    {
     "data": {
      "text/plain": [
       "'цветок'"
      ]
     },
     "execution_count": 14,
     "metadata": {},
     "output_type": "execute_result"
    }
   ],
   "source": [
    "model.wv.doesnt_match(\"цветок дерево кактус еда\".split())"
   ]
  },
  {
   "cell_type": "markdown",
   "id": "822fd467",
   "metadata": {
    "papermill": {
     "duration": 0.010211,
     "end_time": "2023-07-22T08:41:57.046876",
     "exception": false,
     "start_time": "2023-07-22T08:41:57.036665",
     "status": "completed"
    },
    "tags": []
   },
   "source": [
    "## <b><span style='color:#686dec'>Понижение размерности векторов</span></b>\n",
    "\n",
    "Для визуализации многомерного вектора в двухмерном пространстве \n",
    "- Найдем наиболее часто всречаемые слова в корпусе, будем отображать только часть слов (топ 500)\n",
    "- Визуализируем векторное пространство слов с помощью метода понижения пространств <code>TSNE</code> (manifold learning)"
   ]
  },
  {
   "cell_type": "code",
   "execution_count": 15,
   "id": "6815e3e7",
   "metadata": {
    "execution": {
     "iopub.execute_input": "2023-07-22T08:41:57.072666Z",
     "iopub.status.busy": "2023-07-22T08:41:57.072291Z",
     "iopub.status.idle": "2023-07-22T08:41:58.154444Z",
     "shell.execute_reply": "2023-07-22T08:41:58.153038Z"
    },
    "papermill": {
     "duration": 1.09717,
     "end_time": "2023-07-22T08:41:58.157246",
     "exception": false,
     "start_time": "2023-07-22T08:41:57.060076",
     "status": "completed"
    },
    "tags": [],
    "trusted": false
   },
   "outputs": [
    {
     "name": "stdout",
     "output_type": "stream",
     "text": [
      "['не', 'и', 'в', 'я', 'RT', 'на', 'что', 'http://t', 'а', 'с']\n"
     ]
    }
   ],
   "source": [
    "from collections import Counter\n",
    "\n",
    "counter = Counter()\n",
    "top_words = []\n",
    "for text in texts:\n",
    "    counter.update(text)\n",
    "    \n",
    "for i in counter.most_common(500):\n",
    "    top_words.append(i[0])\n",
    "print(top_words[:10])"
   ]
  },
  {
   "cell_type": "markdown",
   "id": "39ae9060",
   "metadata": {
    "papermill": {
     "duration": 0.010122,
     "end_time": "2023-07-22T08:41:58.178747",
     "exception": false,
     "start_time": "2023-07-22T08:41:58.168625",
     "status": "completed"
    },
    "tags": []
   },
   "source": [
    "Выберем векторное представление выбранных слов"
   ]
  },
  {
   "cell_type": "code",
   "execution_count": 16,
   "id": "1e82292d",
   "metadata": {
    "execution": {
     "iopub.execute_input": "2023-07-22T08:41:58.201311Z",
     "iopub.status.busy": "2023-07-22T08:41:58.200884Z",
     "iopub.status.idle": "2023-07-22T08:41:58.209502Z",
     "shell.execute_reply": "2023-07-22T08:41:58.208218Z"
    },
    "papermill": {
     "duration": 0.022664,
     "end_time": "2023-07-22T08:41:58.211891",
     "exception": false,
     "start_time": "2023-07-22T08:41:58.189227",
     "status": "completed"
    },
    "tags": [],
    "trusted": false
   },
   "outputs": [
    {
     "name": "stdout",
     "output_type": "stream",
     "text": [
      "(500, 100)\n"
     ]
    }
   ],
   "source": [
    "top_words_vec = model.wv[top_words]\n",
    "print(top_words_vec.shape)"
   ]
  },
  {
   "cell_type": "markdown",
   "id": "05de896b",
   "metadata": {
    "papermill": {
     "duration": 0.010351,
     "end_time": "2023-07-22T08:41:58.233051",
     "exception": false,
     "start_time": "2023-07-22T08:41:58.222700",
     "status": "completed"
    },
    "tags": []
   },
   "source": [
    "Мы можем еще кластиризивать слова на подгруппы с помощью агломеративной кластеризации из `sklearn`"
   ]
  },
  {
   "cell_type": "code",
   "execution_count": 17,
   "id": "932e33bb",
   "metadata": {
    "execution": {
     "iopub.execute_input": "2023-07-22T08:41:58.256419Z",
     "iopub.status.busy": "2023-07-22T08:41:58.256011Z",
     "iopub.status.idle": "2023-07-22T08:42:01.181538Z",
     "shell.execute_reply": "2023-07-22T08:42:01.180543Z"
    },
    "papermill": {
     "duration": 2.940609,
     "end_time": "2023-07-22T08:42:01.184574",
     "exception": false,
     "start_time": "2023-07-22T08:41:58.243965",
     "status": "completed"
    },
    "tags": [],
    "trusted": false
   },
   "outputs": [
    {
     "data": {
      "text/plain": [
       "array([[-17.201815  , -10.581679  ],\n",
       "       [ -5.498273  ,   1.1501819 ],\n",
       "       [ 24.924892  ,   5.29755   ],\n",
       "       [-22.047146  , -12.7216425 ],\n",
       "       [  4.926873  ,   7.4602714 ],\n",
       "       [ 25.276384  ,  12.435881  ],\n",
       "       [ -1.6100953 , -23.253643  ],\n",
       "       [-16.26932   ,  -0.80900466],\n",
       "       [ 25.187656  ,  -2.175251  ],\n",
       "       [ -2.679728  ,  15.2672615 ]], dtype=float32)"
      ]
     },
     "execution_count": 17,
     "metadata": {},
     "output_type": "execute_result"
    }
   ],
   "source": [
    "from sklearn.manifold import TSNE\n",
    "from sklearn.cluster import AgglomerativeClustering\n",
    "\n",
    "# TSNE manifold learning \n",
    "tsne = TSNE(n_components=2, \n",
    "            random_state=0)\n",
    "\n",
    "# Agglomerative Clusterisation\n",
    "htop_words_tsne = tsne.fit_transform(top_words_vec)\n",
    "htop_words_tsne[:10,:]"
   ]
  },
  {
   "cell_type": "markdown",
   "id": "e3d68e68",
   "metadata": {
    "papermill": {
     "duration": 0.01204,
     "end_time": "2023-07-22T08:42:01.208666",
     "exception": false,
     "start_time": "2023-07-22T08:42:01.196626",
     "status": "completed"
    },
    "tags": []
   },
   "source": [
    "## <b><span style='color:#686dec'>Кластеризация и визуализация слов</span></b>\n",
    "\n",
    "- Воспользуемся методом <code>AgglomerativeClustering</code> из библиотеки <code>sklearn</code> для того чтобы сгруппировать похожие слова в группы, в этом подходе кластеризации мы сами должны определить на сколько кластеров мы разбиваем данные\n",
    "- Получив кластерное пренодлежность для каждого слово, визуализируем результаты с помощью библиотеки `bokeh`"
   ]
  },
  {
   "cell_type": "code",
   "execution_count": 18,
   "id": "6a970fd9",
   "metadata": {
    "execution": {
     "iopub.execute_input": "2023-07-22T08:42:01.234801Z",
     "iopub.status.busy": "2023-07-22T08:42:01.233799Z",
     "iopub.status.idle": "2023-07-22T08:42:01.278314Z",
     "shell.execute_reply": "2023-07-22T08:42:01.277303Z"
    },
    "papermill": {
     "duration": 0.060657,
     "end_time": "2023-07-22T08:42:01.280745",
     "exception": false,
     "start_time": "2023-07-22T08:42:01.220088",
     "status": "completed"
    },
    "tags": [],
    "trusted": false
   },
   "outputs": [],
   "source": [
    "model = AgglomerativeClustering(n_clusters=5)\n",
    "clusters = model.fit_predict(htop_words_tsne)\n",
    "clusters = list(clusters)\n",
    "clusters = list(map(str, clusters))\n",
    "\n",
    "# combine data\n",
    "data = pd.DataFrame({'d1':htop_words_tsne[:,0],\n",
    "                     'd2':htop_words_tsne[:,1],\n",
    "                     'cluster':clusters,\n",
    "                     'names':top_words})"
   ]
  },
  {
   "cell_type": "code",
   "execution_count": 19,
   "id": "ad04336e",
   "metadata": {
    "execution": {
     "iopub.execute_input": "2023-07-22T08:42:01.303941Z",
     "iopub.status.busy": "2023-07-22T08:42:01.303588Z",
     "iopub.status.idle": "2023-07-22T08:42:02.262082Z",
     "shell.execute_reply": "2023-07-22T08:42:02.261095Z"
    },
    "papermill": {
     "duration": 0.972725,
     "end_time": "2023-07-22T08:42:02.264355",
     "exception": false,
     "start_time": "2023-07-22T08:42:01.291630",
     "status": "completed"
    },
    "tags": [],
    "trusted": false
   },
   "outputs": [
    {
     "data": {
      "text/html": [
       "<style>\n",
       "        .bk-notebook-logo {\n",
       "            display: block;\n",
       "            width: 20px;\n",
       "            height: 20px;\n",
       "            background-image: url(data:image/png;base64,iVBORw0KGgoAAAANSUhEUgAAABQAAAAUCAYAAACNiR0NAAAABHNCSVQICAgIfAhkiAAAAAlwSFlzAAALEgAACxIB0t1+/AAAABx0RVh0U29mdHdhcmUAQWRvYmUgRmlyZXdvcmtzIENTNui8sowAAAOkSURBVDiNjZRtaJVlGMd/1/08zzln5zjP1LWcU9N0NkN8m2CYjpgQYQXqSs0I84OLIC0hkEKoPtiH3gmKoiJDU7QpLgoLjLIQCpEsNJ1vqUOdO7ppbuec5+V+rj4ctwzd8IIbbi6u+8f1539dt3A78eXC7QizUF7gyV1fD1Yqg4JWz84yffhm0qkFqBogB9rM8tZdtwVsPUhWhGcFJngGeWrPzHm5oaMmkfEg1usvLFyc8jLRqDOMru7AyC8saQr7GG7f5fvDeH7Ej8CM66nIF+8yngt6HWaKh7k49Soy9nXurCi1o3qUbS3zWfrYeQDTB/Qj6kX6Ybhw4B+bOYoLKCC9H3Nu/leUTZ1JdRWkkn2ldcCamzrcf47KKXdAJllSlxAOkRgyHsGC/zRday5Qld9DyoM4/q/rUoy/CXh3jzOu3bHUVZeU+DEn8FInkPBFlu3+nW3Nw0mk6vCDiWg8CeJaxEwuHS3+z5RgY+YBR6V1Z1nxSOfoaPa4LASWxxdNp+VWTk7+4vzaou8v8PN+xo+KY2xsw6une2frhw05CTYOmQvsEhjhWjn0bmXPjpE1+kplmmkP3suftwTubK9Vq22qKmrBhpY4jvd5afdRA3wGjFAgcnTK2s4hY0/GPNIb0nErGMCRxWOOX64Z8RAC4oCXdklmEvcL8o0BfkNK4lUg9HTl+oPlQxdNo3Mg4Nv175e/1LDGzZen30MEjRUtmXSfiTVu1kK8W4txyV6BMKlbgk3lMwYCiusNy9fVfvvwMxv8Ynl6vxoByANLTWplvuj/nF9m2+PDtt1eiHPBr1oIfhCChQMBw6Aw0UulqTKZdfVvfG7VcfIqLG9bcldL/+pdWTLxLUy8Qq38heUIjh4XlzZxzQm19lLFlr8vdQ97rjZVOLf8nclzckbcD4wxXMidpX30sFd37Fv/GtwwhzhxGVAprjbg0gCAEeIgwCZyTV2Z1REEW8O4py0wsjeloKoMr6iCY6dP92H6Vw/oTyICIthibxjm/DfN9lVz8IqtqKYLUXfoKVMVQVVJOElGjrnnUt9T9wbgp8AyYKaGlqingHZU/uG2NTZSVqwHQTWkx9hxjkpWDaCg6Ckj5qebgBVbT3V3NNXMSiWSDdGV3hrtzla7J+duwPOToIg42ChPQOQjspnSlp1V+Gjdged7+8UN5CRAV7a5EdFNwCjEaBR27b3W890TE7g24NAP/mMDXRWrGoFPQI9ls/MWO2dWFAar/xcOIImbbpA3zgAAAABJRU5ErkJggg==);\n",
       "        }\n",
       "    </style>\n",
       "    <div>\n",
       "        <a href=\"https://bokeh.org\" target=\"_blank\" class=\"bk-notebook-logo\"></a>\n",
       "        <span id=\"b53cdaa5-b596-42a4-b63f-7d7c5f1201b6\">Loading BokehJS ...</span>\n",
       "    </div>\n"
      ]
     },
     "metadata": {},
     "output_type": "display_data"
    },
    {
     "data": {
      "application/javascript": "(function(root) {\n  function now() {\n    return new Date();\n  }\n\n  const force = true;\n\n  if (typeof root._bokeh_onload_callbacks === \"undefined\" || force === true) {\n    root._bokeh_onload_callbacks = [];\n    root._bokeh_is_loading = undefined;\n  }\n\nconst JS_MIME_TYPE = 'application/javascript';\n  const HTML_MIME_TYPE = 'text/html';\n  const EXEC_MIME_TYPE = 'application/vnd.bokehjs_exec.v0+json';\n  const CLASS_NAME = 'output_bokeh rendered_html';\n\n  /**\n   * Render data to the DOM node\n   */\n  function render(props, node) {\n    const script = document.createElement(\"script\");\n    node.appendChild(script);\n  }\n\n  /**\n   * Handle when an output is cleared or removed\n   */\n  function handleClearOutput(event, handle) {\n    const cell = handle.cell;\n\n    const id = cell.output_area._bokeh_element_id;\n    const server_id = cell.output_area._bokeh_server_id;\n    // Clean up Bokeh references\n    if (id != null && id in Bokeh.index) {\n      Bokeh.index[id].model.document.clear();\n      delete Bokeh.index[id];\n    }\n\n    if (server_id !== undefined) {\n      // Clean up Bokeh references\n      const cmd_clean = \"from bokeh.io.state import curstate; print(curstate().uuid_to_server['\" + server_id + \"'].get_sessions()[0].document.roots[0]._id)\";\n      cell.notebook.kernel.execute(cmd_clean, {\n        iopub: {\n          output: function(msg) {\n            const id = msg.content.text.trim();\n            if (id in Bokeh.index) {\n              Bokeh.index[id].model.document.clear();\n              delete Bokeh.index[id];\n            }\n          }\n        }\n      });\n      // Destroy server and session\n      const cmd_destroy = \"import bokeh.io.notebook as ion; ion.destroy_server('\" + server_id + \"')\";\n      cell.notebook.kernel.execute(cmd_destroy);\n    }\n  }\n\n  /**\n   * Handle when a new output is added\n   */\n  function handleAddOutput(event, handle) {\n    const output_area = handle.output_area;\n    const output = handle.output;\n\n    // limit handleAddOutput to display_data with EXEC_MIME_TYPE content only\n    if ((output.output_type != \"display_data\") || (!Object.prototype.hasOwnProperty.call(output.data, EXEC_MIME_TYPE))) {\n      return\n    }\n\n    const toinsert = output_area.element.find(\".\" + CLASS_NAME.split(' ')[0]);\n\n    if (output.metadata[EXEC_MIME_TYPE][\"id\"] !== undefined) {\n      toinsert[toinsert.length - 1].firstChild.textContent = output.data[JS_MIME_TYPE];\n      // store reference to embed id on output_area\n      output_area._bokeh_element_id = output.metadata[EXEC_MIME_TYPE][\"id\"];\n    }\n    if (output.metadata[EXEC_MIME_TYPE][\"server_id\"] !== undefined) {\n      const bk_div = document.createElement(\"div\");\n      bk_div.innerHTML = output.data[HTML_MIME_TYPE];\n      const script_attrs = bk_div.children[0].attributes;\n      for (let i = 0; i < script_attrs.length; i++) {\n        toinsert[toinsert.length - 1].firstChild.setAttribute(script_attrs[i].name, script_attrs[i].value);\n        toinsert[toinsert.length - 1].firstChild.textContent = bk_div.children[0].textContent\n      }\n      // store reference to server id on output_area\n      output_area._bokeh_server_id = output.metadata[EXEC_MIME_TYPE][\"server_id\"];\n    }\n  }\n\n  function register_renderer(events, OutputArea) {\n\n    function append_mime(data, metadata, element) {\n      // create a DOM node to render to\n      const toinsert = this.create_output_subarea(\n        metadata,\n        CLASS_NAME,\n        EXEC_MIME_TYPE\n      );\n      this.keyboard_manager.register_events(toinsert);\n      // Render to node\n      const props = {data: data, metadata: metadata[EXEC_MIME_TYPE]};\n      render(props, toinsert[toinsert.length - 1]);\n      element.append(toinsert);\n      return toinsert\n    }\n\n    /* Handle when an output is cleared or removed */\n    events.on('clear_output.CodeCell', handleClearOutput);\n    events.on('delete.Cell', handleClearOutput);\n\n    /* Handle when a new output is added */\n    events.on('output_added.OutputArea', handleAddOutput);\n\n    /**\n     * Register the mime type and append_mime function with output_area\n     */\n    OutputArea.prototype.register_mime_type(EXEC_MIME_TYPE, append_mime, {\n      /* Is output safe? */\n      safe: true,\n      /* Index of renderer in `output_area.display_order` */\n      index: 0\n    });\n  }\n\n  // register the mime type if in Jupyter Notebook environment and previously unregistered\n  if (root.Jupyter !== undefined) {\n    const events = require('base/js/events');\n    const OutputArea = require('notebook/js/outputarea').OutputArea;\n\n    if (OutputArea.prototype.mime_types().indexOf(EXEC_MIME_TYPE) == -1) {\n      register_renderer(events, OutputArea);\n    }\n  }\n  if (typeof (root._bokeh_timeout) === \"undefined\" || force === true) {\n    root._bokeh_timeout = Date.now() + 5000;\n    root._bokeh_failed_load = false;\n  }\n\n  const NB_LOAD_WARNING = {'data': {'text/html':\n     \"<div style='background-color: #fdd'>\\n\"+\n     \"<p>\\n\"+\n     \"BokehJS does not appear to have successfully loaded. If loading BokehJS from CDN, this \\n\"+\n     \"may be due to a slow or bad network connection. Possible fixes:\\n\"+\n     \"</p>\\n\"+\n     \"<ul>\\n\"+\n     \"<li>re-rerun `output_notebook()` to attempt to load from CDN again, or</li>\\n\"+\n     \"<li>use INLINE resources instead, as so:</li>\\n\"+\n     \"</ul>\\n\"+\n     \"<code>\\n\"+\n     \"from bokeh.resources import INLINE\\n\"+\n     \"output_notebook(resources=INLINE)\\n\"+\n     \"</code>\\n\"+\n     \"</div>\"}};\n\n  function display_loaded() {\n    const el = document.getElementById(\"b53cdaa5-b596-42a4-b63f-7d7c5f1201b6\");\n    if (el != null) {\n      el.textContent = \"BokehJS is loading...\";\n    }\n    if (root.Bokeh !== undefined) {\n      if (el != null) {\n        el.textContent = \"BokehJS \" + root.Bokeh.version + \" successfully loaded.\";\n      }\n    } else if (Date.now() < root._bokeh_timeout) {\n      setTimeout(display_loaded, 100)\n    }\n  }\n\n  function run_callbacks() {\n    try {\n      root._bokeh_onload_callbacks.forEach(function(callback) {\n        if (callback != null)\n          callback();\n      });\n    } finally {\n      delete root._bokeh_onload_callbacks\n    }\n    console.debug(\"Bokeh: all callbacks have finished\");\n  }\n\n  function load_libs(css_urls, js_urls, callback) {\n    if (css_urls == null) css_urls = [];\n    if (js_urls == null) js_urls = [];\n\n    root._bokeh_onload_callbacks.push(callback);\n    if (root._bokeh_is_loading > 0) {\n      console.debug(\"Bokeh: BokehJS is being loaded, scheduling callback at\", now());\n      return null;\n    }\n    if (js_urls == null || js_urls.length === 0) {\n      run_callbacks();\n      return null;\n    }\n    console.debug(\"Bokeh: BokehJS not loaded, scheduling load and callback at\", now());\n    root._bokeh_is_loading = css_urls.length + js_urls.length;\n\n    function on_load() {\n      root._bokeh_is_loading--;\n      if (root._bokeh_is_loading === 0) {\n        console.debug(\"Bokeh: all BokehJS libraries/stylesheets loaded\");\n        run_callbacks()\n      }\n    }\n\n    function on_error(url) {\n      console.error(\"failed to load \" + url);\n    }\n\n    for (let i = 0; i < css_urls.length; i++) {\n      const url = css_urls[i];\n      const element = document.createElement(\"link\");\n      element.onload = on_load;\n      element.onerror = on_error.bind(null, url);\n      element.rel = \"stylesheet\";\n      element.type = \"text/css\";\n      element.href = url;\n      console.debug(\"Bokeh: injecting link tag for BokehJS stylesheet: \", url);\n      document.body.appendChild(element);\n    }\n\n    for (let i = 0; i < js_urls.length; i++) {\n      const url = js_urls[i];\n      const element = document.createElement('script');\n      element.onload = on_load;\n      element.onerror = on_error.bind(null, url);\n      element.async = false;\n      element.src = url;\n      console.debug(\"Bokeh: injecting script tag for BokehJS library: \", url);\n      document.head.appendChild(element);\n    }\n  };\n\n  function inject_raw_css(css) {\n    const element = document.createElement(\"style\");\n    element.appendChild(document.createTextNode(css));\n    document.body.appendChild(element);\n  }\n\n  const js_urls = [\"https://cdn.bokeh.org/bokeh/release/bokeh-3.1.1.min.js\", \"https://cdn.bokeh.org/bokeh/release/bokeh-gl-3.1.1.min.js\", \"https://cdn.bokeh.org/bokeh/release/bokeh-widgets-3.1.1.min.js\", \"https://cdn.bokeh.org/bokeh/release/bokeh-tables-3.1.1.min.js\", \"https://cdn.bokeh.org/bokeh/release/bokeh-mathjax-3.1.1.min.js\"];\n  const css_urls = [];\n\n  const inline_js = [    function(Bokeh) {\n      Bokeh.set_log_level(\"info\");\n    },\nfunction(Bokeh) {\n    }\n  ];\n\n  function run_inline_js() {\n    if (root.Bokeh !== undefined || force === true) {\n          for (let i = 0; i < inline_js.length; i++) {\n      inline_js[i].call(root, root.Bokeh);\n    }\nif (force === true) {\n        display_loaded();\n      }} else if (Date.now() < root._bokeh_timeout) {\n      setTimeout(run_inline_js, 100);\n    } else if (!root._bokeh_failed_load) {\n      console.log(\"Bokeh: BokehJS failed to load within specified timeout.\");\n      root._bokeh_failed_load = true;\n    } else if (force !== true) {\n      const cell = $(document.getElementById(\"b53cdaa5-b596-42a4-b63f-7d7c5f1201b6\")).parents('.cell').data().cell;\n      cell.output_area.append_execute_result(NB_LOAD_WARNING)\n    }\n  }\n\n  if (root._bokeh_is_loading === 0) {\n    console.debug(\"Bokeh: BokehJS loaded, going straight to plotting\");\n    run_inline_js();\n  } else {\n    load_libs(css_urls, js_urls, function() {\n      console.debug(\"Bokeh: BokehJS plotting callback run at\", now());\n      run_inline_js();\n    });\n  }\n}(window));",
      "application/vnd.bokehjs_load.v0+json": ""
     },
     "metadata": {},
     "output_type": "display_data"
    },
    {
     "data": {
      "text/html": [
       "\n",
       "  <div id=\"f5a4fe34-c094-4fc7-ba99-74537314c2e3\" data-root-id=\"p1001\" style=\"display: contents;\"></div>\n"
      ]
     },
     "metadata": {},
     "output_type": "display_data"
    },
    {
     "data": {
      "application/javascript": "(function(root) {\n  function embed_document(root) {\n  const docs_json = {\"d73f2812-ebbd-463a-8b99-5862b84f3af7\":{\"version\":\"3.1.1\",\"title\":\"Bokeh Application\",\"defs\":[],\"roots\":[{\"type\":\"object\",\"name\":\"Figure\",\"id\":\"p1001\",\"attributes\":{\"x_range\":{\"type\":\"object\",\"name\":\"DataRange1d\",\"id\":\"p1002\"},\"y_range\":{\"type\":\"object\",\"name\":\"DataRange1d\",\"id\":\"p1003\"},\"x_scale\":{\"type\":\"object\",\"name\":\"LinearScale\",\"id\":\"p1015\"},\"y_scale\":{\"type\":\"object\",\"name\":\"LinearScale\",\"id\":\"p1017\"},\"title\":{\"type\":\"object\",\"name\":\"Title\",\"id\":\"p1004\",\"attributes\":{\"text\":\"word2vec T-SNE for most common words\"}},\"renderers\":[{\"type\":\"object\",\"name\":\"GlyphRenderer\",\"id\":\"p1052\",\"attributes\":{\"data_source\":{\"type\":\"object\",\"name\":\"ColumnDataSource\",\"id\":\"p1043\",\"attributes\":{\"selected\":{\"type\":\"object\",\"name\":\"Selection\",\"id\":\"p1044\",\"attributes\":{\"indices\":[],\"line_indices\":[]}},\"selection_policy\":{\"type\":\"object\",\"name\":\"UnionRenderers\",\"id\":\"p1045\"},\"data\":{\"type\":\"map\",\"entries\":[[\"index\",{\"type\":\"ndarray\",\"array\":{\"type\":\"bytes\",\"data\":\"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\"},\"shape\":[500],\"dtype\":\"int32\",\"order\":\"little\"}],[\"d1\",{\"type\":\"ndarray\",\"array\":{\"type\":\"bytes\",\"data\":\"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\"},\"shape\":[500],\"dtype\":\"float32\",\"order\":\"little\"}],[\"d2\",{\"type\":\"ndarray\",\"array\":{\"type\":\"bytes\",\"data\":\"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\"},\"shape\":[500],\"dtype\":\"float32\",\"order\":\"little\"}],[\"cluster\",{\"type\":\"ndarray\",\"array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shape\":[500],\"dtype\":\"object\",\"order\":\"little\"}],[\"names\",{\"type\":\"ndarray\",\"array\":[\"\\u043d\\u0435\",\"\\u0438\",\"\\u0432\",\"\\u044f\",\"RT\",\"\\u043d\\u0430\",\"\\u0447\\u0442\\u043e\",\"http://t\",\"\\u0430\",\"\\u0441\",\":(\",\"\\u043c\\u0435\\u043d\\u044f\",\"\\u0442\\u043e\",\"\\u043a\\u0430\\u043a\",\"\\u0443\",\":\",\")\",\"\\u044d\\u0442\\u043e\",\"\\u0442\\u0430\\u043a\",\"(\",\"\\u043c\\u043d\\u0435\",\"\\u0432\\u0441\\u0435\",\"\\u0442\\u044b\",\"\\u043d\\u043e\",\":)\",\"\\u042f\",\"\\u043f\\u043e\",\"\\u0437\\u0430\",\":D\",\"\\u0443\\u0436\\u0435\",\"\\u0436\\u0435\",\"\\u0410\",\"\\u043d\\u0443\",\"\\u0442\\u043e\\u043b\\u044c\\u043a\\u043e\",\"\\u0431\\u044b\",\"\\u0435\\u0449\\u0435\",\"\\u0434\\u0430\",\"\\u0432\\u043e\\u0442\",\"\\u043a\",\"\\u043a\\u043e\\u0433\\u0434\\u0430\",\"\\u0438\\u0437\",\"\\u0442\\u0435\\u0431\\u044f\",\"\\u043e\\u0447\\u0435\\u043d\\u044c\",\"\\u0441\\u0435\\u0433\\u043e\\u0434\\u043d\\u044f\",\"\\u043e\\u043d\",\"\\u043f\\u0440\\u043e\\u0441\\u0442\\u043e\",\"\\u043d\\u0435\\u0442\",\"\\u0445\\u043e\\u0447\\u0443\",\"\\u0431\\u0443\\u0434\\u0435\\u0442\",\"\\u043e\\u0442\",\"\\u0434\\u0435\\u043d\\u044c\",\"\\u0418\",\"\\u043c\\u044b\",\"co/\",\"\\u0442\\u0435\\u0431\\u0435\",\"\\u0431\\u044b\\u043b\\u043e\",\"\\u0442\\u043e\\u0436\\u0435\",\"\\u0434\\u043e\",\"\\u0434\\u0430\\u0436\\u0435\",\"\\u0442\\u0430\\u043c\",\"((\",\"\\u0435\\u0433\\u043e\",\"\\u043d\\u0430\\u0434\\u043e\",\"\\u0442\\u0435\\u043f\\u0435\\u0440\\u044c\",\"\\u0432\\u043e\\u043e\\u0431\\u0449\\u0435\",\"\\u0435\\u0441\\u043b\\u0438\",\"\\u043e\",\"\\u0412\",\"\\u0432\\u0441\",\"\\u0434\\u043b\\u044f\",\"))\",\"\\u043a\\u0442\\u043e\",\"\\u0435\\u0441\\u0442\\u044c\",\"\\u043d\\u0430\\u0441\",\"\\u041d\\u0435\",\"\\u043e\\u043d\\u0430\",\"\\u0437\\u0430\\u0432\\u0442\\u0440\\u0430\",\"\\u041d\\u0443\",\"(((\",\"\\u041a\\u0430\\u043a\",\"\\u0441\\u0435\\u0439\\u0447\\u0430\\u0441\",\"\\u043c\\u043e\\u0433\\u0443\",\"\\u0431\\u0443\\u0434\\u0443\",\"\\u0423\",\"\\u0431\\u0435\\u0437\",\")))\",\"\\u0442\\u0443\\u0442\",\"\\u0440\\u0430\\u0437\",\"\\u0438\\u043b\\u0438\",\"\\u0437\\u043d\\u0430\\u044e\",\"\\u043e\\u043d\\u0438\",\"\\u0441\\u043e\",\"\\u043f\\u043e\\u0447\\u0435\\u043c\\u0443\",\"\\u043d\\u0438\\u0447\\u0435\\u0433\\u043e\",\"\\u043f\\u0440\\u043e\",\"\\u0431\\u043e\\u043b\\u044c\\u0448\\u0435\",\"\\u043b\\u044e\\u0431\\u043b\\u044e\",\"\\u0432\\u044b\",\"\\u041d\\u043e\",\"\\u0447\\u0435\\u043c\",\"\\u0412\\u043e\\u0442\",\"\\u0432\\u0441\\u0435\\u0433\\u0434\\u0430\",\"\\u043c\\u043e\\u0436\\u043d\\u043e\",\"!\",\"\\u043c\\u043e\\u0439\",\"\\u043f\\u043e\\u0442\\u043e\\u043c\",\"\\u0431\\u044b\\u043b\",\"\\u0435\\u0449\",\"\\u0431\\u043b\\u0438\\u043d\",\"\\u0421\",\"\\u042d\\u0442\\u043e\",\"\\u0438\\u0445\",\"\\u043c\\u043e\\u0436\\u0435\\u0442\",\"\\u0433\\u0434\\u0435\",\"\\u0442\\u0430\\u043a\\u043e\\u0439\",\"\\u0447\\u0442\\u043e\\u0431\\u044b\",\"\\u0434\\u043e\\u043c\\u0430\",\"\\u0432\\u0440\\u0435\\u043c\\u044f\",\"/\",\"\\u0441\\u043f\\u0430\\u0442\\u044c\",\"\\u0442\",\"\\u0421\\u0435\\u0433\\u043e\\u0434\\u043d\\u044f\",\"\\u043d\\u0438\",\"\\u044d\\u0442\\u043e\\u0442\",\"\\u0445\\u043e\\u0440\\u043e\\u0448\\u043e\",\"\\u0433\\u043e\\u0434\",\"\\u0441\\u0435\\u0431\\u044f\",\"\\u0441\\u043f\\u0430\\u0441\\u0438\\u0431\\u043e\",\"\\u041c\\u043d\\u0435\",\"\\u0431\\u044b\\u0442\\u044c\",\"\\u043f\\u043e\\u0441\\u043b\\u0435\",\"\\u0431\\u044b\\u043b\\u0430\",\"\\u0434\\u0435\\u043b\\u0430\\u0442\\u044c\",\"\\u043e\\u043f\\u044f\\u0442\\u044c\",\"\\u043c\\u043d\\u043e\\u0433\\u043e\",\"\\u0412\\u0441\\u0435\",\"\\u0432\\u0441\\u0435\\u0445\",\"\\u041d\\u0430\",\"\\u0441\\u0435\\u0431\\u0435\",\"\\u043f\\u043e\\u043a\\u0430\",\"\\u0445\\u043e\\u0442\\u044c\",\"\\u043a\\u0430\\u043a\\u043e\\u0439\",\"\\u0432\\u0441\\u0435\\u043c\",\"\\u0432\\u0430\\u0441\",\"\\u043c\\u043e\\u044f\",\"\\u044d\\u0442\\u043e\\u0433\\u043e\",\"\\u0414\\u0430\",\"\\u0442\\u0430\\u043a\\u043e\\u0435\",\"\\u0427\\u0442\\u043e\",\"\\u0442\\u0430\\u043a\\u0430\\u044f\",\"\\u0442\\u0430\\u043a\\u0438\\u0435\",\"\\u0432\\u0441\\u0435\\u0433\\u043e\",\"\\u043b\\u0443\\u0447\\u0448\\u0435\",\"\\u043e\\u0434\\u0438\\u043d\",\"\\u0445\\u043e\\u0447\\u0435\\u0442\\u0441\\u044f\",\"\\u043c\",\"\\u0432\\u043e\",\"\\u0435\\u0435\",\"\\u043f\\u043e\\u0434\",\"\\u0422\\u0430\\u043a\",\"\\u043d\\u0438\\u0431\\u0443\\u0434\\u044c\",\"\\u043d\\u043e\\u0432\\u044b\\u0439\",\"\\u043d\\u0443\\u0436\\u043d\\u043e\",\"\\u043b\\u0438\",\"\\u044d\\u0442\\u043e\\u043c\",\"\\u0441\\u043e\\u0432\\u0441\\u0435\\u043c\",\"\\u043d\\u0430\\u043c\",\"\\u043f\\u043e\\u0442\\u043e\\u043c\\u0443\",\"\\u0442\\u043e\\u0433\\u043e\",\"D\",\"\\u0447\\u0435\\u0440\\u0435\\u0437\",\"\\u0447\\u0435\\u0433\\u043e\",\"\\u043c\\u043e\\u0438\",\"\\u043a\\u043e\\u0433\\u043e\",\"\\u043d\\u0435\\u0433\\u043e\",\":((\",\"\\u0434\\u043d\\u044f\",\"\\u0432\\u0435\\u0434\\u044c\",\"\\u0441\\u043a\\u043e\\u0440\\u043e\",\"\\u0440\\u0430\\u0432\\u043d\\u043e\",\"\\u043f\\u043b\\u043e\\u0445\\u043e\",\"\\u0434\\u043e\\u043c\\u043e\\u0439\",\"\\u0422\\u044b\",\"\\u0436\",\"\\u043d\\u0430\\u0441\\u0442\\u0440\\u043e\\u0435\\u043d\\u0438\\u0435\",\"\\u0432\\u0430\\u043c\",\"\\u043d\\u0438\\u043a\\u0442\\u043e\",\"\\u043a\\u043e\\u043d\\u0435\\u0447\\u043d\\u043e\",\"\\u0442\\u043e\\u0433\\u0434\\u0430\",\"=(\",\"\\u041d\\u0415\",\"\\u0432\\u0447\\u0435\\u0440\\u0430\",\"\\u0421\\u043f\\u0430\\u0441\\u0438\\u0431\\u043e\",\"\\u043d\\u0438\\u043a\\u043e\\u0433\\u0434\\u0430\",\"\\u043b\\u044e\\u0434\\u0438\",\"\\u0432\\u0435\\u0441\\u044c\",\"\\u0415\\u0441\\u043b\\u0438\",\"\\u0443\\u0442\\u0440\\u0430\",\"\\u0442\\u0430\\u043a\\u0438\",\"\\u0435\",\"=)\",\"\\u0445\\u043e\\u0442\\u044f\",\"\\u0425\\u043e\\u0447\\u0443\",\"\\u043c\\u0430\\u043c\\u0430\",\"\\u0436\\u0438\\u0437\\u043d\\u044c\",\"\\u044d\\u0442\\u0438\",\"\\u0433\\u043e\\u0434\\u0430\",\"\\u0422\\u043e\\u043b\\u044c\\u043a\\u043e\",\"_\",\"\\u0436\\u0438\\u0437\\u043d\\u0438\",\"\\u043c\\u043d\\u043e\\u0439\",\"\\u043c\\u043e\\u0435\\u0439\",\"\\u0417\\u0430\\u0432\\u0442\\u0440\\u0430\",\"\\u0432\\u0440\\u043e\\u0434\\u0435\",\"\\u043e\\u0434\\u043d\\u0430\",\"\\u043e_\\u041e\",\"\\u0434\\u0443\\u043c\\u0430\\u044e\",\"\\u043a\\u0430\\u0436\\u0435\\u0442\\u0441\\u044f\",\"\\u0411\\u043b\\u0438\\u043d\",\"\\u0443\\u0436\",\"\\u0447\\u0435\\u043b\\u043e\\u0432\\u0435\\u043a\",\"\\u043d\\u0438\\u0445\",\"\\u0441\\u043d\\u043e\\u0432\\u0430\",\"gt\",\"\\u0447\\u0430\\u0441\\u0430\",\"\\u043b\\u0435\\u0442\",\"\\u043b\",\"((((\",\"\\u0422\\u0435\\u043f\\u0435\\u0440\\u044c\",\"\\u0434\\u0432\\u0430\",\"\\u0448\\u043a\\u043e\\u043b\\u0443\",\"\\u0443\\u0442\\u0440\\u043e\",\"\\u043f\\u043e\\u0447\\u0442\\u0438\",\"\\u043a\\u043e\\u0442\\u043e\\u0440\\u044b\\u0439\",\"\\u0435\\u043c\\u0443\",\"\\u0441\\u043c\\u043e\\u0442\\u0440\\u0435\\u0442\\u044c\",\"\\u0441\\u0440\\u0430\\u0437\\u0443\",\"\\u0442\\u043e\\u0431\\u043e\\u0439\",\"\\u043d\\u0440\\u0430\\u0432\\u0438\\u0442\\u0441\\u044f\",\"\\u043f\\u043e\\u043d\\u0438\\u043c\\u0430\\u044e\",\"\\u0430\\u0445\\u0430\\u0445\",\"\\u043f\\u0440\\u0430\\u0432\\u0434\\u0430\",\"\\u0447\\u0443\\u0442\\u044c\",\"\\u0438\\u0434\\u0442\\u0438\",\"\\u0436\\u0430\\u043b\\u044c\",\"\\u041a\\u0442\\u043e\",\"\\u0434\\u0430\\u0432\\u043d\\u043e\",\"\\u0442\\u043e\\u0447\\u043d\\u043e\",\"\\u0431\\u043e\\u043b\\u0438\\u0442\",\"\\u043a\\u0443\\u0434\\u0430\",\"\\u044d\\u0442\\u043e\\u0439\",\"\\u0441\\u0438\\u0436\\u0443\",\"\\u043b\\u044e\\u0434\\u0435\\u0439\",\"\\u0431\\u044b\\u043b\\u0438\",\"\\u041f\\u043e\\u0447\\u0435\\u043c\\u0443\",\"\\u041e\",\"\\u043a\\u0430\\u043a\\u0430\\u044f\",\"\\u0432\\u0441\\u044e\",\"\\u0445\\u043e\\u0442\\u0435\\u043b\\u0430\",\"\\u041a\\u043e\\u0433\\u0434\\u0430\",\"\\u0434\\u0443\\u043c\\u0430\\u043b\\u0430\",\"\\u043d\\u043e\\u0447\\u044c\",\"\\u0441\\u0434\\u0435\\u043b\\u0430\\u0442\\u044c\",\"\\u043a\\u043e\\u0442\\u043e\\u0440\\u044b\\u0435\",\"\\u0441\\u0438\\u043b\\u044c\\u043d\\u043e\",\"\\u041c\\u044b\",\"lt\",\"\\u0444\\u0438\\u043b\\u044c\\u043c\",\":))\",\"\\u0442\\u043e\\u043c\",\"\\u044d\\u0442\\u0443\",\"\\u0445\",\"\\u0441\\u0442\\u043e\\u043b\\u044c\\u043a\\u043e\",\"\\u043f\\u043e\\u0439\\u0434\\u0443\",\"\\u0447\",\"\\u0431\",\"\\u0441:\",\"\\u0441\\u0430\\u043c\\u0430\",\"\\u0447\\u0435\",\"\\u043a\\u043e\\u043c\\u0443\",\"\\u043d\\u0430\\u0434\\u0435\\u044e\\u0441\\u044c\",\"\\u0441\\u043a\\u043e\\u043b\\u044c\\u043a\\u043e\",\"\\u0441\\u0432\\u043e\\u0439\",\"\\u0443\\u043b\\u0438\\u0446\\u0435\",\"\\u0431\\u043b\\u044f\",\"\\u041e\\u0447\\u0435\\u043d\\u044c\",\"\\u041d\\u043e\\u0432\\u044b\\u0439\",\"\\u043c\\u0430\\u043b\\u043e\",\"\\u0430\\u0445\\u0430\\u0445\\u0430\",\"\\u0435\\u0439\",\"\\u043f\\u0440\\u044f\\u043c\",\"\\u043a\\u0430\\u0436\\u0434\\u044b\\u0439\",\"\\u0437\\u043d\\u0430\\u0447\\u0438\\u0442\",\"\\u043f\\u0435\\u0440\\u0435\\u0434\",\"\\u0431\\u0443\\u0434\\u0443\\u0442\",\"\\u0442\\u0430\",\"\\u043c\\u0438\\u043d\\u0443\\u0442\",\"\\u0442\\u0435\\u043c\",\"\\u0441\\u043a\\u0443\\u0447\\u0430\\u044e\",\"\\u0441\\u043a\\u0430\\u0437\\u0430\\u043b\\u0430\",\"\\u0438\\u0431\\u043e\",\"\\u0437\\u0430\\u0447\\u0435\\u043c\",\"\\u043f\\u0435\\u0440\\u0432\\u044b\\u0439\",\"\\u0441\\u0432\\u043e\\u044e\",\"\\u043d\\u0430\\u0432\\u0435\\u0440\\u043d\\u043e\\u0435\",\"\\u0440\\u0430\\u043d\\u044c\\u0448\\u0435\",\"\\u0442\\u043e\\u0442\",\"\\u0447\\u0442\\u043e\\u0431\",\"\\u043f\\u0438\\u0441\\u0430\\u0442\\u044c\",\"\\u0441\\u0430\\u043c\\u044b\\u0439\",\"\\u043d\\u0435\\u043b\\u044c\\u0437\\u044f\",\"\\u0441\\u0430\\u043c\\u043e\\u0435\",\"\\u043d\",\"\\u043e\\u0431\",\"\\u0432\\u0440\\u0435\\u043c\\u0435\\u043d\\u0438\",\"\\u044d\\u0442\\u0430\",\"\\u043d\\u043e\\u0447\\u0438\",\"\\u043b\\u0430\\u0434\\u043d\\u043e\",\"\\u0445\\u043e\\u0447\\u0435\\u0442\",\"))))\",\"\\u043f\\u0440\\u0438\",\":(((\",\"\\u043d\\u0435\\u0439\",\"\\u0431\\u0443\\u0434\\u0435\\u043c\",\"\\u0434\\u0440\\u0443\\u0433\",\"\\u0441\\u0430\\u043c\",\"\\u0434\\u043e\\u043b\\u0433\\u043e\",\"\\u0432\\u0435\\u0447\\u0435\\u0440\",\":DD\",\":|\",\"\\u043a\\u0441\\u0442\\u0430\\u0442\\u0438\",\"\\u043d\\u0435\\u043c\\u043d\\u043e\\u0433\\u043e\",\"\\u0449\\u0430\\u0441\",\"\\u0448\\u043a\\u043e\\u043b\\u0435\",\"\\u043a\\u0435\\u043c\",\"\\u043a\\u0430\\u043a\\u0438\\u0435\",\"\\u0442\\u0430\\u043a\\u043e\\u0433\\u043e\",\"\\u043a\\u0440\\u0443\\u0442\\u043e\",\"\\u043d\\u043e\\u0440\\u043c\\u0430\\u043b\\u044c\\u043d\\u043e\",\"\\u041e\\u043d\",\"\\u0432\\u043a\",\"\\u041d\\u0430\\u0434\\u043e\",\"\\u043e\\u043d\\u043e\",\"\\u0412\\u0441\\u0435\\u043c\",\"\\u0445)\",\"\\u0441\\u043d\\u0435\\u0433\",\"\\u043f\\u043e\\u0441\\u043c\\u043e\\u0442\\u0440\\u0435\\u0442\\u044c\",\"\\u043d\\u0438\\u043c\",\"\\u0442\\u0440\\u0438\",\"\\u0438\\u043c\",\"\\u0441\\u043b\\u0438\\u0448\\u043a\\u043e\\u043c\",\"\\u0433\\u043e\\u0434\\u0443\",\"\\u043d\\u0433\",\"\\u0439\",\"\\u0447\\u0430\\u0441\\u043e\\u0432\",\"\\u043d\\u0430\\u043a\\u043e\\u043d\\u0435\\u0446\",\"\\u0444\\u043e\\u0442\\u043e\",\"\\u0442\\u0435\\u043b\\u0435\\u0444\\u043e\\u043d\",\"\\u0441\\u043a\\u0430\\u0437\\u0430\\u0442\\u044c\",\"\\u0438\\u043c\\u0435\\u043d\\u043d\\u043e\",\"\\u0447\\u0443\\u0432\\u0441\\u0442\\u0432\\u043e\",\"\\u041f\\u043e\",\"\\u0441\\u043c\\u043e\\u0442\\u0440\\u044e\",\"\\u0441\\u043a\\u0430\\u0437\\u0430\\u043b\",\"\\u043a\\u043e\",\"\\u0412\\u044b\",\"\\u0447\\u0435\\u043b\\u043e\\u0432\\u0435\\u043a\\u0430\",\"\\u0432\\u0442\\u043e\\u0440\\u043e\\u0439\",\"\\u041d\\u0413\",\"\\u043e\\u0434\\u043d\\u043e\\u0439\",\"\\u0441\\u0432\\u043e\\u0435\\u0439\",\"\\u0440\\u0430\\u0431\\u043e\\u0442\\u0443\",\"\\u043d\\u0435\\u0435\",\"\\u043f\\u043e\\u0440\",\"\\u043d\\u0435\\u0434\\u0435\\u043b\\u044e\",\"\\u043d\\u0430\\u0441\\u0442\\u0440\\u043e\\u0435\\u043d\\u0438\\u044f\",\"\\u043f\\u043e\\u043d\\u044f\\u043b\\u0430\",\"\\u0434\\u0430\\u0432\\u0430\\u0439\",\"\\u0436\\u0430\\u043b\\u043a\\u043e\",\"\\u0441\\u0432\\u043e\\u0438\",\"\\u0431\\u044b\\u0441\\u0442\\u0440\\u043e\",\"\\u0432\\u043c\\u0435\\u0441\\u0442\\u0435\",\"\\u0436\\u0434\\u0443\",\"\\u0443\\u0436\\u0430\\u0441\\u043d\\u043e\",\"\\u043b\\u0438\\u0448\\u044c\",\"^_^\",\"\\u0436\\u0438\\u0442\\u044c\",\"\\u043f\\u0430\\u0440\\u0443\",\"\\u043e\\u0439\",\"\\u043d\\u043e\\u0440\\u043c\",\"\\u043f\\u043e\\u043c\\u043d\\u044e\",\"\\u044d\\u0442\\u0438\\u043c\",\"\\u0423\\u0436\\u0435\",\"\\u043f\\u0438\\u0437\\u0434\\u0435\\u0446\",\"\\u0415\\u0449\\u0435\",\"\\u0432\\u0438\\u0434\\u0435\\u043e\",\"\\u0447\\u0443\\u0432\\u0441\\u0442\\u0432\\u0443\\u044e\",\"\\u0437\\u043d\\u0430\\u0435\\u0448\\u044c\",\"\\u0437\\u043d\\u0430\\u0435\\u0442\",\":)))\",\"\\u043f\\u0440\\u0438\\u044f\\u0442\\u043d\\u043e\",\"\\u043c\\u043e\\u0435\\u0433\\u043e\",\"\\u0431\\u043b\\u044f\\u0442\\u044c\",\"\\u0433\\u043e\\u0432\\u043e\\u0440\\u0438\\u0442\",\"\\u043f\\u043e\\u0441\\u043b\\u0435\\u0434\\u043d\\u0438\\u0439\",\"\\u0447\\u0430\\u0441\",\"\\u0433\\u043b\\u0430\\u0432\\u043d\\u043e\\u0435\",\"\\u0441\\u0442\\u043e\\u0438\\u0442\",\"\\u0443\\u0440\\u043e\\u043a\\u0438\",\"\\u041c\\u0435\\u043d\\u044f\",\"\\u0441\\u0438\\u0445\",\"\\u043d\\u0438\\u043a\\u0430\\u043a\",\"\\u041f\\u0440\\u043e\\u0441\\u0442\\u043e\",\"\\u0440\\u044f\\u0434\\u043e\\u043c\",\"\\u0441\\u043a\\u0443\\u0447\\u043d\\u043e\",\"\\u043f\\u043e\\u043b\",\"\\u0430\\u0445\\u0430\\u0445\\u0430\\u0445\",\"\\u043f\\u0440\\u0438\\u0448\\u043b\\u0430\",\"\\u043f\\u043e\\u044d\\u0442\\u043e\\u043c\\u0443\",\"\\u0434\\u0435\\u043b\\u0430\",\"\\u041d\\u0435\\u0442\",\"\\u0414\\u043e\\u0431\\u0440\\u043e\\u0435\",\"\\u043d\\u0430\\u0439\\u0442\\u0438\",\"\\u0431\\u043e\\u044e\\u0441\\u044c\",\"\\u0438\\u043d\\u0442\\u0435\\u0440\\u0435\\u0441\\u043d\\u043e\",\"\\u0414\\u0430\\u0436\\u0435\",\"\\u0442\\u0435\",\"\\u043e\\u0441\\u0442\\u0430\\u043b\\u043e\\u0441\\u044c\",\"\\u0442\\u0443\\u0434\\u0430\",\"\\u0442\\u0432\\u0438\\u0442\\u0442\\u0435\\u0440\",\"\\u043d\\u0430\\u0437\\u0430\\u0434\",\"\\u0437\\u0430\\u0442\\u043e\",\"\\u0438\\u043d\\u043e\\u0433\\u0434\\u0430\",\"\\u041b\\u044e\\u0431\\u043b\\u044e\",\"amp\",\"\\u043d\\u0435\\u0434\\u0435\\u043b\\u0438\",\"\\u0440\\u0435\\u0430\\u043b\\u044c\\u043d\\u043e\",\"\\u043c\\u043e\\u043c\\u0435\\u043d\\u0442\",\"\\u0434\",\"\\u0443\\u0442\\u0440\\u043e\\u043c\",\"\\u0440\",\"\\u0417\\u0430\",\"\\u0434\\u043d\\u0435\\u0439\",\"\\u0432\\u0440\\u043e\\u043c\\u0430\\u0439\\u0434\\u0430\\u043d\",\"\\u0433\\u043e\\u043b\\u043e\\u0432\\u0430\",\"\\u0412\\u0441\",\"\\u0431\\u0443\\u0434\\u0442\\u043e\",\"\\u0442\\u0432\\u043e\\u0439\",\"\\u0433\\u043e\\u0432\\u043e\\u0440\\u044f\\u0442\",\"\\u043f\\u0440\\u0438\\u0432\\u0435\\u0442\",\"\\u0447\\u0438\\u0442\\u0430\\u0442\\u044c\",\"\\u043d\\u0430\\u043f\\u0438\\u0441\\u0430\\u0442\\u044c\",\"\\u0440\\u043e\\u0436\\u0434\\u0435\\u043d\\u0438\\u044f\",\"\\u0437\\u0434\\u0435\\u0441\\u044c\",\"\\u043c\\u043e\\u0435\",\"\\u0445\\u043e\\u0442\\u0435\\u043b\",\"\\u0441\\u0442\\u0430\\u043b\\u043e\",\"\\u043c\\u043e\\u044e\",\"\\u0441\\u0438\\u0434\\u0435\\u0442\\u044c\",\"\\u0442\\u0430\\u043a\\u0438\\u0445\",\"\\u0440\\u0430\\u0431\\u043e\\u0442\\u0430\\u0435\\u0442\",\"\\u0421\\u0435\\u0439\\u0447\\u0430\\u0441\",\"\\u0441\\u0430\\u043c\\u043e\\u043c\",\"\\u0431\\u043e\\u043b\\u0435\\u0435\",\"\\u0435\\u0445\\u0430\\u0442\\u044c\",\"\\u0446\\u0435\\u043b\\u044b\\u0439\",\"\\u0442\\u0432\\u0438\\u0442\",\"\\u043f\\u0443\\u0441\\u0442\\u044c\",\"\\u043e\\u0431\\u0438\\u0434\\u043d\\u043e\",\"\\u0431\\u0443\\u0434\\u0435\\u0448\\u044c\",\"\\u0440\\u0430\\u0431\\u043e\\u0442\\u0435\",\"\\u0432\\u0441\\u044f\",\"\\u043d\\u0430\\u0434\",\"\\u0437\\u0430\\u0431\\u044b\\u043b\\u0430\",\"\\u0431\\u044b\\u0432\\u0430\\u0435\\u0442\",\"\\u0434\\u043d\\u0435\\u043c\",\"\\u0427\\u0422\\u041e\",\"\\u0441\\u0432\\u043e\\u0438\\u0445\",\"\\u041a\",\"\\u043e\\u0434\\u043d\\u043e\\u0433\\u043e\",\"\\u0432\\u0438\\u0436\\u0443\",\"\\u0445\\u043e\\u0447\\u0435\\u0448\\u044c\",\"\\u043b\\u044e\\u0431\\u0438\\u043c\\u044b\\u0439\",\"\\u0440\\u0430\\u043d\\u043e\",\"\\u0445\\u0432\\u0430\\u0442\\u0430\\u0435\\u0442\",\"\\u043e\\u0441\\u043e\\u0431\\u0435\\u043d\\u043d\\u043e\",\"\\u0422\\u042b\",\"\\u0433\\u043b\\u0430\\u0437\\u0430\",\"\\u043f\\u043e\\u0448\\u043b\\u0430\",\"\\u0430\\u0436\",\"\\u0434\\u0440\\u0443\\u0433\\u043e\\u0439\",\"\\u043d\\u0435\\u043d\\u0430\\u0432\\u0438\\u0436\\u0443\",\"\\u043b\\u0438\\u0431\\u043e\",\"\\u0434\\u0430\\u043b\\u044c\\u0448\\u0435\",\"\\u0436\\u0434\\u0430\\u0442\\u044c\",\"\\u0434\\u0435\\u043d\\u044c\\u0433\\u0438\",\"\\u043e\\u0431\\u044b\\u0447\\u043d\\u043e\",\"\\u0434\\u0432\\u0435\",\"\\u0441\\u043d\\u0435\\u0433\\u0430\",\"\\u0442\\u0432\\u0438\"],\"shape\":[500],\"dtype\":\"object\",\"order\":\"little\"}]]}}},\"view\":{\"type\":\"object\",\"name\":\"CDSView\",\"id\":\"p1053\",\"attributes\":{\"filter\":{\"type\":\"object\",\"name\":\"AllIndices\",\"id\":\"p1054\"}}},\"glyph\":{\"type\":\"object\",\"name\":\"Scatter\",\"id\":\"p1049\",\"attributes\":{\"x\":{\"type\":\"field\",\"field\":\"d1\"},\"y\":{\"type\":\"field\",\"field\":\"d2\"},\"size\":{\"type\":\"value\",\"value\":8},\"fill_color\":{\"type\":\"field\",\"field\":\"cluster\",\"transform\":{\"type\":\"object\",\"name\":\"LinearColorMapper\",\"id\":\"p1042\",\"attributes\":{\"palette\":[\"#440154\",\"#440255\",\"#440357\",\"#450558\",\"#45065A\",\"#45085B\",\"#46095C\",\"#460B5E\",\"#460C5F\",\"#460E61\",\"#470F62\",\"#471163\",\"#471265\",\"#471466\",\"#471567\",\"#471669\",\"#47186A\",\"#48196B\",\"#481A6C\",\"#481C6E\",\"#481D6F\",\"#481E70\",\"#482071\",\"#482172\",\"#482273\",\"#482374\",\"#472575\",\"#472676\",\"#472777\",\"#472878\",\"#472A79\",\"#472B7A\",\"#472C7B\",\"#462D7C\",\"#462F7C\",\"#46307D\",\"#46317E\",\"#45327F\",\"#45347F\",\"#453580\",\"#453681\",\"#443781\",\"#443982\",\"#433A83\",\"#433B83\",\"#433C84\",\"#423D84\",\"#423E85\",\"#424085\",\"#414186\",\"#414286\",\"#404387\",\"#404487\",\"#3F4587\",\"#3F4788\",\"#3E4888\",\"#3E4989\",\"#3D4A89\",\"#3D4B89\",\"#3D4C89\",\"#3C4D8A\",\"#3C4E8A\",\"#3B508A\",\"#3B518A\",\"#3A528B\",\"#3A538B\",\"#39548B\",\"#39558B\",\"#38568B\",\"#38578C\",\"#37588C\",\"#37598C\",\"#365A8C\",\"#365B8C\",\"#355C8C\",\"#355D8C\",\"#345E8D\",\"#345F8D\",\"#33608D\",\"#33618D\",\"#32628D\",\"#32638D\",\"#31648D\",\"#31658D\",\"#31668D\",\"#30678D\",\"#30688D\",\"#2F698D\",\"#2F6A8D\",\"#2E6B8E\",\"#2E6C8E\",\"#2E6D8E\",\"#2D6E8E\",\"#2D6F8E\",\"#2C708E\",\"#2C718E\",\"#2C728E\",\"#2B738E\",\"#2B748E\",\"#2A758E\",\"#2A768E\",\"#2A778E\",\"#29788E\",\"#29798E\",\"#287A8E\",\"#287A8E\",\"#287B8E\",\"#277C8E\",\"#277D8E\",\"#277E8E\",\"#267F8E\",\"#26808E\",\"#26818E\",\"#25828E\",\"#25838D\",\"#24848D\",\"#24858D\",\"#24868D\",\"#23878D\",\"#23888D\",\"#23898D\",\"#22898D\",\"#228A8D\",\"#228B8D\",\"#218C8D\",\"#218D8C\",\"#218E8C\",\"#208F8C\",\"#20908C\",\"#20918C\",\"#1F928C\",\"#1F938B\",\"#1F948B\",\"#1F958B\",\"#1F968B\",\"#1E978A\",\"#1E988A\",\"#1E998A\",\"#1E998A\",\"#1E9A89\",\"#1E9B89\",\"#1E9C89\",\"#1E9D88\",\"#1E9E88\",\"#1E9F88\",\"#1EA087\",\"#1FA187\",\"#1FA286\",\"#1FA386\",\"#20A485\",\"#20A585\",\"#21A685\",\"#21A784\",\"#22A784\",\"#23A883\",\"#23A982\",\"#24AA82\",\"#25AB81\",\"#26AC81\",\"#27AD80\",\"#28AE7F\",\"#29AF7F\",\"#2AB07E\",\"#2BB17D\",\"#2CB17D\",\"#2EB27C\",\"#2FB37B\",\"#30B47A\",\"#32B57A\",\"#33B679\",\"#35B778\",\"#36B877\",\"#38B976\",\"#39B976\",\"#3BBA75\",\"#3DBB74\",\"#3EBC73\",\"#40BD72\",\"#42BE71\",\"#44BE70\",\"#45BF6F\",\"#47C06E\",\"#49C16D\",\"#4BC26C\",\"#4DC26B\",\"#4FC369\",\"#51C468\",\"#53C567\",\"#55C666\",\"#57C665\",\"#59C764\",\"#5BC862\",\"#5EC961\",\"#60C960\",\"#62CA5F\",\"#64CB5D\",\"#67CC5C\",\"#69CC5B\",\"#6BCD59\",\"#6DCE58\",\"#70CE56\",\"#72CF55\",\"#74D054\",\"#77D052\",\"#79D151\",\"#7CD24F\",\"#7ED24E\",\"#81D34C\",\"#83D34B\",\"#86D449\",\"#88D547\",\"#8BD546\",\"#8DD644\",\"#90D643\",\"#92D741\",\"#95D73F\",\"#97D83E\",\"#9AD83C\",\"#9DD93A\",\"#9FD938\",\"#A2DA37\",\"#A5DA35\",\"#A7DB33\",\"#AADB32\",\"#ADDC30\",\"#AFDC2E\",\"#B2DD2C\",\"#B5DD2B\",\"#B7DD29\",\"#BADE27\",\"#BDDE26\",\"#BFDF24\",\"#C2DF22\",\"#C5DF21\",\"#C7E01F\",\"#CAE01E\",\"#CDE01D\",\"#CFE11C\",\"#D2E11B\",\"#D4E11A\",\"#D7E219\",\"#DAE218\",\"#DCE218\",\"#DFE318\",\"#E1E318\",\"#E4E318\",\"#E7E419\",\"#E9E419\",\"#ECE41A\",\"#EEE51B\",\"#F1E51C\",\"#F3E51E\",\"#F6E61F\",\"#F8E621\",\"#FAE622\",\"#FDE724\"]}}}}},\"nonselection_glyph\":{\"type\":\"object\",\"name\":\"Scatter\",\"id\":\"p1050\",\"attributes\":{\"x\":{\"type\":\"field\",\"field\":\"d1\"},\"y\":{\"type\":\"field\",\"field\":\"d2\"},\"size\":{\"type\":\"value\",\"value\":8},\"line_alpha\":{\"type\":\"value\",\"value\":0.1},\"fill_color\":{\"type\":\"field\",\"field\":\"cluster\",\"transform\":{\"id\":\"p1042\"}},\"fill_alpha\":{\"type\":\"value\",\"value\":0.1},\"hatch_alpha\":{\"type\":\"value\",\"value\":0.1}}},\"muted_glyph\":{\"type\":\"object\",\"name\":\"Scatter\",\"id\":\"p1051\",\"attributes\":{\"x\":{\"type\":\"field\",\"field\":\"d1\"},\"y\":{\"type\":\"field\",\"field\":\"d2\"},\"size\":{\"type\":\"value\",\"value\":8},\"line_alpha\":{\"type\":\"value\",\"value\":0.2},\"fill_color\":{\"type\":\"field\",\"field\":\"cluster\",\"transform\":{\"id\":\"p1042\"}},\"fill_alpha\":{\"type\":\"value\",\"value\":0.2},\"hatch_alpha\":{\"type\":\"value\",\"value\":0.2}}}}}],\"toolbar\":{\"type\":\"object\",\"name\":\"Toolbar\",\"id\":\"p1009\",\"attributes\":{\"tools\":[{\"type\":\"object\",\"name\":\"PanTool\",\"id\":\"p1033\"},{\"type\":\"object\",\"name\":\"WheelZoomTool\",\"id\":\"p1034\"},{\"type\":\"object\",\"name\":\"ResetTool\",\"id\":\"p1035\"},{\"type\":\"object\",\"name\":\"SaveTool\",\"id\":\"p1036\"}]}},\"toolbar_location\":\"above\",\"left\":[{\"type\":\"object\",\"name\":\"LinearAxis\",\"id\":\"p1026\",\"attributes\":{\"ticker\":{\"type\":\"object\",\"name\":\"BasicTicker\",\"id\":\"p1029\",\"attributes\":{\"mantissas\":[1,2,5]}},\"formatter\":{\"type\":\"object\",\"name\":\"BasicTickFormatter\",\"id\":\"p1028\"},\"major_label_policy\":{\"type\":\"object\",\"name\":\"AllLabels\",\"id\":\"p1027\"}}}],\"below\":[{\"type\":\"object\",\"name\":\"LinearAxis\",\"id\":\"p1019\",\"attributes\":{\"ticker\":{\"type\":\"object\",\"name\":\"BasicTicker\",\"id\":\"p1022\",\"attributes\":{\"mantissas\":[1,2,5]}},\"formatter\":{\"type\":\"object\",\"name\":\"BasicTickFormatter\",\"id\":\"p1021\"},\"major_label_policy\":{\"type\":\"object\",\"name\":\"AllLabels\",\"id\":\"p1020\"}}}],\"center\":[{\"type\":\"object\",\"name\":\"Grid\",\"id\":\"p1025\",\"attributes\":{\"axis\":{\"id\":\"p1019\"}}},{\"type\":\"object\",\"name\":\"Grid\",\"id\":\"p1032\",\"attributes\":{\"dimension\":1,\"axis\":{\"id\":\"p1026\"}}},{\"type\":\"object\",\"name\":\"LabelSet\",\"id\":\"p1058\",\"attributes\":{\"source\":{\"type\":\"object\",\"name\":\"ColumnDataSource\",\"id\":\"p1055\",\"attributes\":{\"selected\":{\"type\":\"object\",\"name\":\"Selection\",\"id\":\"p1056\",\"attributes\":{\"indices\":[],\"line_indices\":[]}},\"selection_policy\":{\"type\":\"object\",\"name\":\"UnionRenderers\",\"id\":\"p1057\"},\"data\":{\"type\":\"map\",\"entries\":[[\"index\",{\"type\":\"ndarray\",\"array\":{\"type\":\"bytes\",\"data\":\"AAAAAAEAAAACAAAAAwAAAAQAAAAFAAAABgAAAAcAAAAIAAAACQAAAAoAAAALAAAADAAAAA0AAAAOAAAADwAAABAAAAARAAAAEgAAABMAAAAUAAAAFQAAABYAAAAXAAAAGAAAABkAAAAaAAAAGwAAABwAAAAdAAAAHgAAAB8AAAAgAAAAIQAAACIAAAAjAAAAJAAAACUAAAAmAAAAJwAAACgAAAApAAAAKgAAACsAAAAsAAAALQAAAC4AAAAvAAAAMAAAADEAAAAyAAAAMwAAADQAAAA1AAAANgAAADcAAAA4AAAAOQAAADoAAAA7AAAAPAAAAD0AAAA+AAAAPwAAAEAAAABBAAAAQgAAAEMAAABEAAAARQAAAEYAAABHAAAASAAAAEkAAABKAAAASwAAAEwAAABNAAAATgAAAE8AAABQAAAAUQAAAFIAAABTAAAAVAAAAFUAAABWAAAAVwAAAFgAAABZAAAAWgAAAFsAAABcAAAAXQAAAF4AAABfAAAAYAAAAGEAAABiAAAAYwAAAGQAAABlAAAAZgAAAGcAAABoAAAAaQAAAGoAAABrAAAAbAAAAG0AAABuAAAAbwAAAHAAAABxAAAAcgAAAHMAAAB0AAAAdQAAAHYAAAB3AAAAeAAAAHkAAAB6AAAAewAAAHwAAAB9AAAAfgAAAH8AAACAAAAAgQAAAIIAAACDAAAAhAAAAIUAAACGAAAAhwAAAIgAAACJAAAAigAAAIsAAACMAAAAjQAAAI4AAACPAAAAkAAAAJEAAACSAAAAkwAAAJQAAACVAAAAlgAAAJcAAACYAAAAmQAAAJoAAACbAAAAnAAAAJ0AAACeAAAAnwAAAKAAAAChAAAAogAAAKMAAACkAAAApQAAAKYAAACnAAAAqAAAAKkAAACqAAAAqwAAAKwAAACtAAAArgAAAK8AAACwAAAAsQAAALIAAACzAAAAtAAAALUAAAC2AAAAtwAAALgAAAC5AAAAugAAALsAAAC8AAAAvQAAAL4AAAC/AAAAwAAAAMEAAADCAAAAwwAAAMQAAADFAAAAxgAAAMcAAADIAAAAyQAAAMoAAADLAAAAzAAAAM0AAADOAAAAzwAAANAAAADRAAAA0gAAANMAAADUAAAA1QAAANYAAADXAAAA2AAAANkAAADaAAAA2wAAANwAAADdAAAA3gAAAN8AAADgAAAA4QAAAOIAAADjAAAA5AAAAOUAAADmAAAA5wAAAOgAAADpAAAA6gAAAOsAAADsAAAA7QAAAO4AAADvAAAA8AAAAPEAAADyAAAA8wAAAPQAAAD1AAAA9gAAAPcAAAD4AAAA+QAAAPoAAAD7AAAA/AAAAP0AAAD+AAAA/wAAAAABAAABAQAAAgEAAAMBAAAEAQAABQEAAAYBAAAHAQAACAEAAAkBAAAKAQAACwEAAAwBAAANAQAADgEAAA8BAAAQAQAAEQEAABIBAAATAQAAFAEAABUBAAAWAQAAFwEAABgBAAAZAQAAGgEAABsBAAAcAQAAHQEAAB4BAAAfAQAAIAEAACEBAAAiAQAAIwEAACQBAAAlAQAAJgEAACcBAAAoAQAAKQEAACoBAAArAQAALAEAAC0BAAAuAQAALwEAADABAAAxAQAAMgEAADMBAAA0AQAANQEAADYBAAA3AQAAOAEAADkBAAA6AQAAOwEAADwBAAA9AQAAPgEAAD8BAABAAQAAQQEAAEIBAABDAQAARAEAAEUBAABGAQAARwEAAEgBAABJAQAASgEAAEsBAABMAQAATQEAAE4BAABPAQAAUAEAAFEBAABSAQAAUwEAAFQBAABVAQAAVgEAAFcBAABYAQAAWQEAAFoBAABbAQAAXAEAAF0BAABeAQAAXwEAAGABAABhAQAAYgEAAGMBAABkAQAAZQEAAGYBAABnAQAAaAEAAGkBAABqAQAAawEAAGwBAABtAQAAbgEAAG8BAABwAQAAcQEAAHIBAABzAQAAdAEAAHUBAAB2AQAAdwEAAHgBAAB5AQAAegEAAHsBAAB8AQAAfQEAAH4BAAB/AQAAgAEAAIEBAACCAQAAgwEAAIQBAACFAQAAhgEAAIcBAACIAQAAiQEAAIoBAACLAQAAjAEAAI0BAACOAQAAjwEAAJABAACRAQAAkgEAAJMBAACUAQAAlQEAAJYBAACXAQAAmAEAAJkBAACaAQAAmwEAAJwBAACdAQAAngEAAJ8BAACgAQAAoQEAAKIBAACjAQAApAEAAKUBAACmAQAApwEAAKgBAACpAQAAqgEAAKsBAACsAQAArQEAAK4BAACvAQAAsAEAALEBAACyAQAAswEAALQBAAC1AQAAtgEAALcBAAC4AQAAuQEAALoBAAC7AQAAvAEAAL0BAAC+AQAAvwEAAMABAADBAQAAwgEAAMMBAADEAQAAxQEAAMYBAADHAQAAyAEAAMkBAADKAQAAywEAAMwBAADNAQAAzgEAAM8BAADQAQAA0QEAANIBAADTAQAA1AEAANUBAADWAQAA1wEAANgBAADZAQAA2gEAANsBAADcAQAA3QEAAN4BAADfAQAA4AEAAOEBAADiAQAA4wEAAOQBAADlAQAA5gEAAOcBAADoAQAA6QEAAOoBAADrAQAA7AEAAO0BAADuAQAA7wEAAPABAADxAQAA8gEAAPMBAAA=\"},\"shape\":[500],\"dtype\":\"int32\",\"order\":\"little\"}],[\"d1\",{\"type\":\"ndarray\",\"array\":{\"type\":\"bytes\",\"data\":\"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\"},\"shape\":[500],\"dtype\":\"float32\",\"order\":\"little\"}],[\"d2\",{\"type\":\"ndarray\",\"array\":{\"type\":\"bytes\",\"data\":\"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\"},\"shape\":[500],\"dtype\":\"float32\",\"order\":\"little\"}],[\"cluster\",{\"type\":\"ndarray\",\"array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shape\":[500],\"dtype\":\"object\",\"order\":\"little\"}],[\"names\",{\"type\":\"ndarray\",\"array\":[\"\\u043d\\u0435\",\"\\u0438\",\"\\u0432\",\"\\u044f\",\"RT\",\"\\u043d\\u0430\",\"\\u0447\\u0442\\u043e\",\"http://t\",\"\\u0430\",\"\\u0441\",\":(\",\"\\u043c\\u0435\\u043d\\u044f\",\"\\u0442\\u043e\",\"\\u043a\\u0430\\u043a\",\"\\u0443\",\":\",\")\",\"\\u044d\\u0442\\u043e\",\"\\u0442\\u0430\\u043a\",\"(\",\"\\u043c\\u043d\\u0435\",\"\\u0432\\u0441\\u0435\",\"\\u0442\\u044b\",\"\\u043d\\u043e\",\":)\",\"\\u042f\",\"\\u043f\\u043e\",\"\\u0437\\u0430\",\":D\",\"\\u0443\\u0436\\u0435\",\"\\u0436\\u0435\",\"\\u0410\",\"\\u043d\\u0443\",\"\\u0442\\u043e\\u043b\\u044c\\u043a\\u043e\",\"\\u0431\\u044b\",\"\\u0435\\u0449\\u0435\",\"\\u0434\\u0430\",\"\\u0432\\u043e\\u0442\",\"\\u043a\",\"\\u043a\\u043e\\u0433\\u0434\\u0430\",\"\\u0438\\u0437\",\"\\u0442\\u0435\\u0431\\u044f\",\"\\u043e\\u0447\\u0435\\u043d\\u044c\",\"\\u0441\\u0435\\u0433\\u043e\\u0434\\u043d\\u044f\",\"\\u043e\\u043d\",\"\\u043f\\u0440\\u043e\\u0441\\u0442\\u043e\",\"\\u043d\\u0435\\u0442\",\"\\u0445\\u043e\\u0447\\u0443\",\"\\u0431\\u0443\\u0434\\u0435\\u0442\",\"\\u043e\\u0442\",\"\\u0434\\u0435\\u043d\\u044c\",\"\\u0418\",\"\\u043c\\u044b\",\"co/\",\"\\u0442\\u0435\\u0431\\u0435\",\"\\u0431\\u044b\\u043b\\u043e\",\"\\u0442\\u043e\\u0436\\u0435\",\"\\u0434\\u043e\",\"\\u0434\\u0430\\u0436\\u0435\",\"\\u0442\\u0430\\u043c\",\"((\",\"\\u0435\\u0433\\u043e\",\"\\u043d\\u0430\\u0434\\u043e\",\"\\u0442\\u0435\\u043f\\u0435\\u0440\\u044c\",\"\\u0432\\u043e\\u043e\\u0431\\u0449\\u0435\",\"\\u0435\\u0441\\u043b\\u0438\",\"\\u043e\",\"\\u0412\",\"\\u0432\\u0441\",\"\\u0434\\u043b\\u044f\",\"))\",\"\\u043a\\u0442\\u043e\",\"\\u0435\\u0441\\u0442\\u044c\",\"\\u043d\\u0430\\u0441\",\"\\u041d\\u0435\",\"\\u043e\\u043d\\u0430\",\"\\u0437\\u0430\\u0432\\u0442\\u0440\\u0430\",\"\\u041d\\u0443\",\"(((\",\"\\u041a\\u0430\\u043a\",\"\\u0441\\u0435\\u0439\\u0447\\u0430\\u0441\",\"\\u043c\\u043e\\u0433\\u0443\",\"\\u0431\\u0443\\u0434\\u0443\",\"\\u0423\",\"\\u0431\\u0435\\u0437\",\")))\",\"\\u0442\\u0443\\u0442\",\"\\u0440\\u0430\\u0437\",\"\\u0438\\u043b\\u0438\",\"\\u0437\\u043d\\u0430\\u044e\",\"\\u043e\\u043d\\u0438\",\"\\u0441\\u043e\",\"\\u043f\\u043e\\u0447\\u0435\\u043c\\u0443\",\"\\u043d\\u0438\\u0447\\u0435\\u0433\\u043e\",\"\\u043f\\u0440\\u043e\",\"\\u0431\\u043e\\u043b\\u044c\\u0448\\u0435\",\"\\u043b\\u044e\\u0431\\u043b\\u044e\",\"\\u0432\\u044b\",\"\\u041d\\u043e\",\"\\u0447\\u0435\\u043c\",\"\\u0412\\u043e\\u0442\",\"\\u0432\\u0441\\u0435\\u0433\\u0434\\u0430\",\"\\u043c\\u043e\\u0436\\u043d\\u043e\",\"!\",\"\\u043c\\u043e\\u0439\",\"\\u043f\\u043e\\u0442\\u043e\\u043c\",\"\\u0431\\u044b\\u043b\",\"\\u0435\\u0449\",\"\\u0431\\u043b\\u0438\\u043d\",\"\\u0421\",\"\\u042d\\u0442\\u043e\",\"\\u0438\\u0445\",\"\\u043c\\u043e\\u0436\\u0435\\u0442\",\"\\u0433\\u0434\\u0435\",\"\\u0442\\u0430\\u043a\\u043e\\u0439\",\"\\u0447\\u0442\\u043e\\u0431\\u044b\",\"\\u0434\\u043e\\u043c\\u0430\",\"\\u0432\\u0440\\u0435\\u043c\\u044f\",\"/\",\"\\u0441\\u043f\\u0430\\u0442\\u044c\",\"\\u0442\",\"\\u0421\\u0435\\u0433\\u043e\\u0434\\u043d\\u044f\",\"\\u043d\\u0438\",\"\\u044d\\u0442\\u043e\\u0442\",\"\\u0445\\u043e\\u0440\\u043e\\u0448\\u043e\",\"\\u0433\\u043e\\u0434\",\"\\u0441\\u0435\\u0431\\u044f\",\"\\u0441\\u043f\\u0430\\u0441\\u0438\\u0431\\u043e\",\"\\u041c\\u043d\\u0435\",\"\\u0431\\u044b\\u0442\\u044c\",\"\\u043f\\u043e\\u0441\\u043b\\u0435\",\"\\u0431\\u044b\\u043b\\u0430\",\"\\u0434\\u0435\\u043b\\u0430\\u0442\\u044c\",\"\\u043e\\u043f\\u044f\\u0442\\u044c\",\"\\u043c\\u043d\\u043e\\u0433\\u043e\",\"\\u0412\\u0441\\u0435\",\"\\u0432\\u0441\\u0435\\u0445\",\"\\u041d\\u0430\",\"\\u0441\\u0435\\u0431\\u0435\",\"\\u043f\\u043e\\u043a\\u0430\",\"\\u0445\\u043e\\u0442\\u044c\",\"\\u043a\\u0430\\u043a\\u043e\\u0439\",\"\\u0432\\u0441\\u0435\\u043c\",\"\\u0432\\u0430\\u0441\",\"\\u043c\\u043e\\u044f\",\"\\u044d\\u0442\\u043e\\u0433\\u043e\",\"\\u0414\\u0430\",\"\\u0442\\u0430\\u043a\\u043e\\u0435\",\"\\u0427\\u0442\\u043e\",\"\\u0442\\u0430\\u043a\\u0430\\u044f\",\"\\u0442\\u0430\\u043a\\u0438\\u0435\",\"\\u0432\\u0441\\u0435\\u0433\\u043e\",\"\\u043b\\u0443\\u0447\\u0448\\u0435\",\"\\u043e\\u0434\\u0438\\u043d\",\"\\u0445\\u043e\\u0447\\u0435\\u0442\\u0441\\u044f\",\"\\u043c\",\"\\u0432\\u043e\",\"\\u0435\\u0435\",\"\\u043f\\u043e\\u0434\",\"\\u0422\\u0430\\u043a\",\"\\u043d\\u0438\\u0431\\u0443\\u0434\\u044c\",\"\\u043d\\u043e\\u0432\\u044b\\u0439\",\"\\u043d\\u0443\\u0436\\u043d\\u043e\",\"\\u043b\\u0438\",\"\\u044d\\u0442\\u043e\\u043c\",\"\\u0441\\u043e\\u0432\\u0441\\u0435\\u043c\",\"\\u043d\\u0430\\u043c\",\"\\u043f\\u043e\\u0442\\u043e\\u043c\\u0443\",\"\\u0442\\u043e\\u0433\\u043e\",\"D\",\"\\u0447\\u0435\\u0440\\u0435\\u0437\",\"\\u0447\\u0435\\u0433\\u043e\",\"\\u043c\\u043e\\u0438\",\"\\u043a\\u043e\\u0433\\u043e\",\"\\u043d\\u0435\\u0433\\u043e\",\":((\",\"\\u0434\\u043d\\u044f\",\"\\u0432\\u0435\\u0434\\u044c\",\"\\u0441\\u043a\\u043e\\u0440\\u043e\",\"\\u0440\\u0430\\u0432\\u043d\\u043e\",\"\\u043f\\u043b\\u043e\\u0445\\u043e\",\"\\u0434\\u043e\\u043c\\u043e\\u0439\",\"\\u0422\\u044b\",\"\\u0436\",\"\\u043d\\u0430\\u0441\\u0442\\u0440\\u043e\\u0435\\u043d\\u0438\\u0435\",\"\\u0432\\u0430\\u043c\",\"\\u043d\\u0438\\u043a\\u0442\\u043e\",\"\\u043a\\u043e\\u043d\\u0435\\u0447\\u043d\\u043e\",\"\\u0442\\u043e\\u0433\\u0434\\u0430\",\"=(\",\"\\u041d\\u0415\",\"\\u0432\\u0447\\u0435\\u0440\\u0430\",\"\\u0421\\u043f\\u0430\\u0441\\u0438\\u0431\\u043e\",\"\\u043d\\u0438\\u043a\\u043e\\u0433\\u0434\\u0430\",\"\\u043b\\u044e\\u0434\\u0438\",\"\\u0432\\u0435\\u0441\\u044c\",\"\\u0415\\u0441\\u043b\\u0438\",\"\\u0443\\u0442\\u0440\\u0430\",\"\\u0442\\u0430\\u043a\\u0438\",\"\\u0435\",\"=)\",\"\\u0445\\u043e\\u0442\\u044f\",\"\\u0425\\u043e\\u0447\\u0443\",\"\\u043c\\u0430\\u043c\\u0430\",\"\\u0436\\u0438\\u0437\\u043d\\u044c\",\"\\u044d\\u0442\\u0438\",\"\\u0433\\u043e\\u0434\\u0430\",\"\\u0422\\u043e\\u043b\\u044c\\u043a\\u043e\",\"_\",\"\\u0436\\u0438\\u0437\\u043d\\u0438\",\"\\u043c\\u043d\\u043e\\u0439\",\"\\u043c\\u043e\\u0435\\u0439\",\"\\u0417\\u0430\\u0432\\u0442\\u0440\\u0430\",\"\\u0432\\u0440\\u043e\\u0434\\u0435\",\"\\u043e\\u0434\\u043d\\u0430\",\"\\u043e_\\u041e\",\"\\u0434\\u0443\\u043c\\u0430\\u044e\",\"\\u043a\\u0430\\u0436\\u0435\\u0442\\u0441\\u044f\",\"\\u0411\\u043b\\u0438\\u043d\",\"\\u0443\\u0436\",\"\\u0447\\u0435\\u043b\\u043e\\u0432\\u0435\\u043a\",\"\\u043d\\u0438\\u0445\",\"\\u0441\\u043d\\u043e\\u0432\\u0430\",\"gt\",\"\\u0447\\u0430\\u0441\\u0430\",\"\\u043b\\u0435\\u0442\",\"\\u043b\",\"((((\",\"\\u0422\\u0435\\u043f\\u0435\\u0440\\u044c\",\"\\u0434\\u0432\\u0430\",\"\\u0448\\u043a\\u043e\\u043b\\u0443\",\"\\u0443\\u0442\\u0440\\u043e\",\"\\u043f\\u043e\\u0447\\u0442\\u0438\",\"\\u043a\\u043e\\u0442\\u043e\\u0440\\u044b\\u0439\",\"\\u0435\\u043c\\u0443\",\"\\u0441\\u043c\\u043e\\u0442\\u0440\\u0435\\u0442\\u044c\",\"\\u0441\\u0440\\u0430\\u0437\\u0443\",\"\\u0442\\u043e\\u0431\\u043e\\u0439\",\"\\u043d\\u0440\\u0430\\u0432\\u0438\\u0442\\u0441\\u044f\",\"\\u043f\\u043e\\u043d\\u0438\\u043c\\u0430\\u044e\",\"\\u0430\\u0445\\u0430\\u0445\",\"\\u043f\\u0440\\u0430\\u0432\\u0434\\u0430\",\"\\u0447\\u0443\\u0442\\u044c\",\"\\u0438\\u0434\\u0442\\u0438\",\"\\u0436\\u0430\\u043b\\u044c\",\"\\u041a\\u0442\\u043e\",\"\\u0434\\u0430\\u0432\\u043d\\u043e\",\"\\u0442\\u043e\\u0447\\u043d\\u043e\",\"\\u0431\\u043e\\u043b\\u0438\\u0442\",\"\\u043a\\u0443\\u0434\\u0430\",\"\\u044d\\u0442\\u043e\\u0439\",\"\\u0441\\u0438\\u0436\\u0443\",\"\\u043b\\u044e\\u0434\\u0435\\u0439\",\"\\u0431\\u044b\\u043b\\u0438\",\"\\u041f\\u043e\\u0447\\u0435\\u043c\\u0443\",\"\\u041e\",\"\\u043a\\u0430\\u043a\\u0430\\u044f\",\"\\u0432\\u0441\\u044e\",\"\\u0445\\u043e\\u0442\\u0435\\u043b\\u0430\",\"\\u041a\\u043e\\u0433\\u0434\\u0430\",\"\\u0434\\u0443\\u043c\\u0430\\u043b\\u0430\",\"\\u043d\\u043e\\u0447\\u044c\",\"\\u0441\\u0434\\u0435\\u043b\\u0430\\u0442\\u044c\",\"\\u043a\\u043e\\u0442\\u043e\\u0440\\u044b\\u0435\",\"\\u0441\\u0438\\u043b\\u044c\\u043d\\u043e\",\"\\u041c\\u044b\",\"lt\",\"\\u0444\\u0438\\u043b\\u044c\\u043c\",\":))\",\"\\u0442\\u043e\\u043c\",\"\\u044d\\u0442\\u0443\",\"\\u0445\",\"\\u0441\\u0442\\u043e\\u043b\\u044c\\u043a\\u043e\",\"\\u043f\\u043e\\u0439\\u0434\\u0443\",\"\\u0447\",\"\\u0431\",\"\\u0441:\",\"\\u0441\\u0430\\u043c\\u0430\",\"\\u0447\\u0435\",\"\\u043a\\u043e\\u043c\\u0443\",\"\\u043d\\u0430\\u0434\\u0435\\u044e\\u0441\\u044c\",\"\\u0441\\u043a\\u043e\\u043b\\u044c\\u043a\\u043e\",\"\\u0441\\u0432\\u043e\\u0439\",\"\\u0443\\u043b\\u0438\\u0446\\u0435\",\"\\u0431\\u043b\\u044f\",\"\\u041e\\u0447\\u0435\\u043d\\u044c\",\"\\u041d\\u043e\\u0432\\u044b\\u0439\",\"\\u043c\\u0430\\u043b\\u043e\",\"\\u0430\\u0445\\u0430\\u0445\\u0430\",\"\\u0435\\u0439\",\"\\u043f\\u0440\\u044f\\u043c\",\"\\u043a\\u0430\\u0436\\u0434\\u044b\\u0439\",\"\\u0437\\u043d\\u0430\\u0447\\u0438\\u0442\",\"\\u043f\\u0435\\u0440\\u0435\\u0434\",\"\\u0431\\u0443\\u0434\\u0443\\u0442\",\"\\u0442\\u0430\",\"\\u043c\\u0438\\u043d\\u0443\\u0442\",\"\\u0442\\u0435\\u043c\",\"\\u0441\\u043a\\u0443\\u0447\\u0430\\u044e\",\"\\u0441\\u043a\\u0430\\u0437\\u0430\\u043b\\u0430\",\"\\u0438\\u0431\\u043e\",\"\\u0437\\u0430\\u0447\\u0435\\u043c\",\"\\u043f\\u0435\\u0440\\u0432\\u044b\\u0439\",\"\\u0441\\u0432\\u043e\\u044e\",\"\\u043d\\u0430\\u0432\\u0435\\u0440\\u043d\\u043e\\u0435\",\"\\u0440\\u0430\\u043d\\u044c\\u0448\\u0435\",\"\\u0442\\u043e\\u0442\",\"\\u0447\\u0442\\u043e\\u0431\",\"\\u043f\\u0438\\u0441\\u0430\\u0442\\u044c\",\"\\u0441\\u0430\\u043c\\u044b\\u0439\",\"\\u043d\\u0435\\u043b\\u044c\\u0437\\u044f\",\"\\u0441\\u0430\\u043c\\u043e\\u0435\",\"\\u043d\",\"\\u043e\\u0431\",\"\\u0432\\u0440\\u0435\\u043c\\u0435\\u043d\\u0438\",\"\\u044d\\u0442\\u0430\",\"\\u043d\\u043e\\u0447\\u0438\",\"\\u043b\\u0430\\u0434\\u043d\\u043e\",\"\\u0445\\u043e\\u0447\\u0435\\u0442\",\"))))\",\"\\u043f\\u0440\\u0438\",\":(((\",\"\\u043d\\u0435\\u0439\",\"\\u0431\\u0443\\u0434\\u0435\\u043c\",\"\\u0434\\u0440\\u0443\\u0433\",\"\\u0441\\u0430\\u043c\",\"\\u0434\\u043e\\u043b\\u0433\\u043e\",\"\\u0432\\u0435\\u0447\\u0435\\u0440\",\":DD\",\":|\",\"\\u043a\\u0441\\u0442\\u0430\\u0442\\u0438\",\"\\u043d\\u0435\\u043c\\u043d\\u043e\\u0433\\u043e\",\"\\u0449\\u0430\\u0441\",\"\\u0448\\u043a\\u043e\\u043b\\u0435\",\"\\u043a\\u0435\\u043c\",\"\\u043a\\u0430\\u043a\\u0438\\u0435\",\"\\u0442\\u0430\\u043a\\u043e\\u0433\\u043e\",\"\\u043a\\u0440\\u0443\\u0442\\u043e\",\"\\u043d\\u043e\\u0440\\u043c\\u0430\\u043b\\u044c\\u043d\\u043e\",\"\\u041e\\u043d\",\"\\u0432\\u043a\",\"\\u041d\\u0430\\u0434\\u043e\",\"\\u043e\\u043d\\u043e\",\"\\u0412\\u0441\\u0435\\u043c\",\"\\u0445)\",\"\\u0441\\u043d\\u0435\\u0433\",\"\\u043f\\u043e\\u0441\\u043c\\u043e\\u0442\\u0440\\u0435\\u0442\\u044c\",\"\\u043d\\u0438\\u043c\",\"\\u0442\\u0440\\u0438\",\"\\u0438\\u043c\",\"\\u0441\\u043b\\u0438\\u0448\\u043a\\u043e\\u043c\",\"\\u0433\\u043e\\u0434\\u0443\",\"\\u043d\\u0433\",\"\\u0439\",\"\\u0447\\u0430\\u0441\\u043e\\u0432\",\"\\u043d\\u0430\\u043a\\u043e\\u043d\\u0435\\u0446\",\"\\u0444\\u043e\\u0442\\u043e\",\"\\u0442\\u0435\\u043b\\u0435\\u0444\\u043e\\u043d\",\"\\u0441\\u043a\\u0430\\u0437\\u0430\\u0442\\u044c\",\"\\u0438\\u043c\\u0435\\u043d\\u043d\\u043e\",\"\\u0447\\u0443\\u0432\\u0441\\u0442\\u0432\\u043e\",\"\\u041f\\u043e\",\"\\u0441\\u043c\\u043e\\u0442\\u0440\\u044e\",\"\\u0441\\u043a\\u0430\\u0437\\u0430\\u043b\",\"\\u043a\\u043e\",\"\\u0412\\u044b\",\"\\u0447\\u0435\\u043b\\u043e\\u0432\\u0435\\u043a\\u0430\",\"\\u0432\\u0442\\u043e\\u0440\\u043e\\u0439\",\"\\u041d\\u0413\",\"\\u043e\\u0434\\u043d\\u043e\\u0439\",\"\\u0441\\u0432\\u043e\\u0435\\u0439\",\"\\u0440\\u0430\\u0431\\u043e\\u0442\\u0443\",\"\\u043d\\u0435\\u0435\",\"\\u043f\\u043e\\u0440\",\"\\u043d\\u0435\\u0434\\u0435\\u043b\\u044e\",\"\\u043d\\u0430\\u0441\\u0442\\u0440\\u043e\\u0435\\u043d\\u0438\\u044f\",\"\\u043f\\u043e\\u043d\\u044f\\u043b\\u0430\",\"\\u0434\\u0430\\u0432\\u0430\\u0439\",\"\\u0436\\u0430\\u043b\\u043a\\u043e\",\"\\u0441\\u0432\\u043e\\u0438\",\"\\u0431\\u044b\\u0441\\u0442\\u0440\\u043e\",\"\\u0432\\u043c\\u0435\\u0441\\u0442\\u0435\",\"\\u0436\\u0434\\u0443\",\"\\u0443\\u0436\\u0430\\u0441\\u043d\\u043e\",\"\\u043b\\u0438\\u0448\\u044c\",\"^_^\",\"\\u0436\\u0438\\u0442\\u044c\",\"\\u043f\\u0430\\u0440\\u0443\",\"\\u043e\\u0439\",\"\\u043d\\u043e\\u0440\\u043c\",\"\\u043f\\u043e\\u043c\\u043d\\u044e\",\"\\u044d\\u0442\\u0438\\u043c\",\"\\u0423\\u0436\\u0435\",\"\\u043f\\u0438\\u0437\\u0434\\u0435\\u0446\",\"\\u0415\\u0449\\u0435\",\"\\u0432\\u0438\\u0434\\u0435\\u043e\",\"\\u0447\\u0443\\u0432\\u0441\\u0442\\u0432\\u0443\\u044e\",\"\\u0437\\u043d\\u0430\\u0435\\u0448\\u044c\",\"\\u0437\\u043d\\u0430\\u0435\\u0442\",\":)))\",\"\\u043f\\u0440\\u0438\\u044f\\u0442\\u043d\\u043e\",\"\\u043c\\u043e\\u0435\\u0433\\u043e\",\"\\u0431\\u043b\\u044f\\u0442\\u044c\",\"\\u0433\\u043e\\u0432\\u043e\\u0440\\u0438\\u0442\",\"\\u043f\\u043e\\u0441\\u043b\\u0435\\u0434\\u043d\\u0438\\u0439\",\"\\u0447\\u0430\\u0441\",\"\\u0433\\u043b\\u0430\\u0432\\u043d\\u043e\\u0435\",\"\\u0441\\u0442\\u043e\\u0438\\u0442\",\"\\u0443\\u0440\\u043e\\u043a\\u0438\",\"\\u041c\\u0435\\u043d\\u044f\",\"\\u0441\\u0438\\u0445\",\"\\u043d\\u0438\\u043a\\u0430\\u043a\",\"\\u041f\\u0440\\u043e\\u0441\\u0442\\u043e\",\"\\u0440\\u044f\\u0434\\u043e\\u043c\",\"\\u0441\\u043a\\u0443\\u0447\\u043d\\u043e\",\"\\u043f\\u043e\\u043b\",\"\\u0430\\u0445\\u0430\\u0445\\u0430\\u0445\",\"\\u043f\\u0440\\u0438\\u0448\\u043b\\u0430\",\"\\u043f\\u043e\\u044d\\u0442\\u043e\\u043c\\u0443\",\"\\u0434\\u0435\\u043b\\u0430\",\"\\u041d\\u0435\\u0442\",\"\\u0414\\u043e\\u0431\\u0440\\u043e\\u0435\",\"\\u043d\\u0430\\u0439\\u0442\\u0438\",\"\\u0431\\u043e\\u044e\\u0441\\u044c\",\"\\u0438\\u043d\\u0442\\u0435\\u0440\\u0435\\u0441\\u043d\\u043e\",\"\\u0414\\u0430\\u0436\\u0435\",\"\\u0442\\u0435\",\"\\u043e\\u0441\\u0442\\u0430\\u043b\\u043e\\u0441\\u044c\",\"\\u0442\\u0443\\u0434\\u0430\",\"\\u0442\\u0432\\u0438\\u0442\\u0442\\u0435\\u0440\",\"\\u043d\\u0430\\u0437\\u0430\\u0434\",\"\\u0437\\u0430\\u0442\\u043e\",\"\\u0438\\u043d\\u043e\\u0433\\u0434\\u0430\",\"\\u041b\\u044e\\u0431\\u043b\\u044e\",\"amp\",\"\\u043d\\u0435\\u0434\\u0435\\u043b\\u0438\",\"\\u0440\\u0435\\u0430\\u043b\\u044c\\u043d\\u043e\",\"\\u043c\\u043e\\u043c\\u0435\\u043d\\u0442\",\"\\u0434\",\"\\u0443\\u0442\\u0440\\u043e\\u043c\",\"\\u0440\",\"\\u0417\\u0430\",\"\\u0434\\u043d\\u0435\\u0439\",\"\\u0432\\u0440\\u043e\\u043c\\u0430\\u0439\\u0434\\u0430\\u043d\",\"\\u0433\\u043e\\u043b\\u043e\\u0432\\u0430\",\"\\u0412\\u0441\",\"\\u0431\\u0443\\u0434\\u0442\\u043e\",\"\\u0442\\u0432\\u043e\\u0439\",\"\\u0433\\u043e\\u0432\\u043e\\u0440\\u044f\\u0442\",\"\\u043f\\u0440\\u0438\\u0432\\u0435\\u0442\",\"\\u0447\\u0438\\u0442\\u0430\\u0442\\u044c\",\"\\u043d\\u0430\\u043f\\u0438\\u0441\\u0430\\u0442\\u044c\",\"\\u0440\\u043e\\u0436\\u0434\\u0435\\u043d\\u0438\\u044f\",\"\\u0437\\u0434\\u0435\\u0441\\u044c\",\"\\u043c\\u043e\\u0435\",\"\\u0445\\u043e\\u0442\\u0435\\u043b\",\"\\u0441\\u0442\\u0430\\u043b\\u043e\",\"\\u043c\\u043e\\u044e\",\"\\u0441\\u0438\\u0434\\u0435\\u0442\\u044c\",\"\\u0442\\u0430\\u043a\\u0438\\u0445\",\"\\u0440\\u0430\\u0431\\u043e\\u0442\\u0430\\u0435\\u0442\",\"\\u0421\\u0435\\u0439\\u0447\\u0430\\u0441\",\"\\u0441\\u0430\\u043c\\u043e\\u043c\",\"\\u0431\\u043e\\u043b\\u0435\\u0435\",\"\\u0435\\u0445\\u0430\\u0442\\u044c\",\"\\u0446\\u0435\\u043b\\u044b\\u0439\",\"\\u0442\\u0432\\u0438\\u0442\",\"\\u043f\\u0443\\u0441\\u0442\\u044c\",\"\\u043e\\u0431\\u0438\\u0434\\u043d\\u043e\",\"\\u0431\\u0443\\u0434\\u0435\\u0448\\u044c\",\"\\u0440\\u0430\\u0431\\u043e\\u0442\\u0435\",\"\\u0432\\u0441\\u044f\",\"\\u043d\\u0430\\u0434\",\"\\u0437\\u0430\\u0431\\u044b\\u043b\\u0430\",\"\\u0431\\u044b\\u0432\\u0430\\u0435\\u0442\",\"\\u0434\\u043d\\u0435\\u043c\",\"\\u0427\\u0422\\u041e\",\"\\u0441\\u0432\\u043e\\u0438\\u0445\",\"\\u041a\",\"\\u043e\\u0434\\u043d\\u043e\\u0433\\u043e\",\"\\u0432\\u0438\\u0436\\u0443\",\"\\u0445\\u043e\\u0447\\u0435\\u0448\\u044c\",\"\\u043b\\u044e\\u0431\\u0438\\u043c\\u044b\\u0439\",\"\\u0440\\u0430\\u043d\\u043e\",\"\\u0445\\u0432\\u0430\\u0442\\u0430\\u0435\\u0442\",\"\\u043e\\u0441\\u043e\\u0431\\u0435\\u043d\\u043d\\u043e\",\"\\u0422\\u042b\",\"\\u0433\\u043b\\u0430\\u0437\\u0430\",\"\\u043f\\u043e\\u0448\\u043b\\u0430\",\"\\u0430\\u0436\",\"\\u0434\\u0440\\u0443\\u0433\\u043e\\u0439\",\"\\u043d\\u0435\\u043d\\u0430\\u0432\\u0438\\u0436\\u0443\",\"\\u043b\\u0438\\u0431\\u043e\",\"\\u0434\\u0430\\u043b\\u044c\\u0448\\u0435\",\"\\u0436\\u0434\\u0430\\u0442\\u044c\",\"\\u0434\\u0435\\u043d\\u044c\\u0433\\u0438\",\"\\u043e\\u0431\\u044b\\u0447\\u043d\\u043e\",\"\\u0434\\u0432\\u0435\",\"\\u0441\\u043d\\u0435\\u0433\\u0430\",\"\\u0442\\u0432\\u0438\"],\"shape\":[500],\"dtype\":\"object\",\"order\":\"little\"}]]}}},\"x\":{\"type\":\"field\",\"field\":\"d1\"},\"y\":{\"type\":\"field\",\"field\":\"d2\"},\"text\":{\"type\":\"field\",\"field\":\"names\"},\"y_offset\":{\"type\":\"value\",\"value\":6},\"text_color\":{\"type\":\"value\",\"value\":\"#555555\"},\"text_font_size\":{\"type\":\"value\",\"value\":\"8pt\"},\"text_align\":{\"type\":\"value\",\"value\":\"center\"}}}]}}],\"callbacks\":{\"type\":\"map\"}}};\n  const render_items = [{\"docid\":\"d73f2812-ebbd-463a-8b99-5862b84f3af7\",\"roots\":{\"p1001\":\"f5a4fe34-c094-4fc7-ba99-74537314c2e3\"},\"root_ids\":[\"p1001\"]}];\n  root.Bokeh.embed.embed_items_notebook(docs_json, render_items);\n  }\n  if (root.Bokeh !== undefined) {\n    embed_document(root);\n  } else {\n    let attempts = 0;\n    const timer = setInterval(function(root) {\n      if (root.Bokeh !== undefined) {\n        clearInterval(timer);\n        embed_document(root);\n      } else {\n        attempts++;\n        if (attempts > 100) {\n          clearInterval(timer);\n          console.log(\"Bokeh: ERROR: Unable to run BokehJS code because BokehJS library is missing\");\n        }\n      }\n    }, 10, root)\n  }\n})(window);",
      "application/vnd.bokehjs_exec.v0+json": ""
     },
     "metadata": {
      "application/vnd.bokehjs_exec.v0+json": {
       "id": "p1001"
      }
     },
     "output_type": "display_data"
    }
   ],
   "source": [
    "from bokeh.models import ColumnDataSource, LabelSet\n",
    "from bokeh.models import LinearColorMapper, ColorBar\n",
    "from bokeh.plotting import figure, show, output_file\n",
    "from bokeh.transform import transform\n",
    "from bokeh.palettes import GnBu3, OrRd3\n",
    "from bokeh.io import output_notebook\n",
    "from bokeh.transform import factor_cmap\n",
    "import colorcet as cc\n",
    "\n",
    "output_notebook()\n",
    "p = figure(tools=\"pan,wheel_zoom,reset,save\",\n",
    "           toolbar_location=\"above\",\n",
    "           title=\"word2vec T-SNE for most common words\")\n",
    "\n",
    "color = LinearColorMapper(palette = 'Viridis256')\n",
    "\n",
    "p.scatter(x=\"d1\", y=\"d2\",\n",
    "          fill_color = transform('cluster', color),\n",
    "          line_color='black',\n",
    "          size=8 ,\n",
    "          source=data)\n",
    "\n",
    "labels = LabelSet(x=\"d1\", y=\"d2\", text=\"names\", y_offset=6,\n",
    "                   text_font_size=\"8pt\", text_color=\"#555555\",\n",
    "                   source=ColumnDataSource(data), text_align='center')\n",
    "p.add_layout(labels)\n",
    "show(p)"
   ]
  },
  {
   "cell_type": "markdown",
   "id": "3f99135d",
   "metadata": {
    "papermill": {
     "duration": 0.012355,
     "end_time": "2023-07-22T08:42:02.289320",
     "exception": false,
     "start_time": "2023-07-22T08:42:02.276965",
     "status": "completed"
    },
    "tags": []
   },
   "source": [
    "## <b><span style='color:#686dec'>Предобученные эмбединги</span></b>\n",
    "\n",
    "### **Доподнение**\n",
    "\n",
    "- (1) Зайдите на сайт **RusVectores** и скачайте одну из **[предобученных моделей gensim](https://rusvectores.org/ru/models/)**\n",
    "- (2) Проведите аналогичные эксперименты с использованием скачанных векторных представлений\n",
    "\n",
    "Для нашей задачи возьмем предобученные эмбеддинги (варианты **без тагсет**)\n",
    "- **geowac_lemmas_none_fasttextskipgram_300_5_2020**\n",
    "- Тагсет это дополнение к слову (например NOUN_дерево)"
   ]
  },
  {
   "cell_type": "markdown",
   "id": "21728a63",
   "metadata": {
    "papermill": {
     "duration": 0.012216,
     "end_time": "2023-07-22T08:42:02.313782",
     "exception": false,
     "start_time": "2023-07-22T08:42:02.301566",
     "status": "completed"
    },
    "tags": []
   },
   "source": [
    "### **Утилизация Векторов**\n",
    "\n",
    "- Для того чтобы использовать предобученные эмбединги, сохраним модель на локальном диске\n",
    "- Данная модель была обучена с помощью метода `fasttext` на большом русскоязычным корпусе \n",
    "- Вектора можно использовать в разных целях; в данноом ноутбуке мы просто их визуализируем "
   ]
  },
  {
   "cell_type": "code",
   "execution_count": 20,
   "id": "97870aca",
   "metadata": {
    "execution": {
     "iopub.execute_input": "2023-07-22T08:42:02.340473Z",
     "iopub.status.busy": "2023-07-22T08:42:02.340072Z",
     "iopub.status.idle": "2023-07-22T08:42:02.345059Z",
     "shell.execute_reply": "2023-07-22T08:42:02.343998Z"
    },
    "papermill": {
     "duration": 0.02125,
     "end_time": "2023-07-22T08:42:02.347242",
     "exception": false,
     "start_time": "2023-07-22T08:42:02.325992",
     "status": "completed"
    },
    "tags": [],
    "trusted": false
   },
   "outputs": [],
   "source": [
    "import gensim\n",
    "import urllib.request\n",
    "import zipfile\n",
    "\n",
    "# название и URL\n",
    "we_models = {\"geowac_lemmas_none_fasttextskipgram_300_5_2020\": \"http://vectors.nlpl.eu/repository/20/213.zip\",}"
   ]
  },
  {
   "cell_type": "code",
   "execution_count": 21,
   "id": "58017325",
   "metadata": {
    "execution": {
     "iopub.execute_input": "2023-07-22T08:42:02.373542Z",
     "iopub.status.busy": "2023-07-22T08:42:02.373112Z",
     "iopub.status.idle": "2023-07-22T08:44:25.367795Z",
     "shell.execute_reply": "2023-07-22T08:44:25.366573Z"
    },
    "papermill": {
     "duration": 143.011227,
     "end_time": "2023-07-22T08:44:25.370807",
     "exception": false,
     "start_time": "2023-07-22T08:42:02.359580",
     "status": "completed"
    },
    "tags": [],
    "trusted": false
   },
   "outputs": [],
   "source": [
    "# сохраняем модель\n",
    "def get_models(model_url, model_name, path_to_save=\"/kaggle/working/\"):\n",
    "    model_path = path_to_save + model_name + \".zip\"\n",
    "    urllib.request.urlretrieve(model_url, model_path)\n",
    "\n",
    "for model_name, model_url in we_models.items():\n",
    "    get_models(model_url, model_name)"
   ]
  },
  {
   "cell_type": "markdown",
   "id": "18185571",
   "metadata": {
    "papermill": {
     "duration": 0.012367,
     "end_time": "2023-07-22T08:44:25.396188",
     "exception": false,
     "start_time": "2023-07-22T08:44:25.383821",
     "status": "completed"
    },
    "tags": []
   },
   "source": [
    "### **Разархивируем Модель**\n",
    "\n",
    "- Разархивируем скаченные данные и в зависимости от формата загружаем либо <code>Word2Vec</code> либо `Fasttext`\n",
    "- Загруженной нами модель размерность 300 \n",
    "- Предобученные модели нельзя дообуить данные векторов хранятся в `KeyedVectors` "
   ]
  },
  {
   "cell_type": "code",
   "execution_count": 22,
   "id": "cecbca64",
   "metadata": {
    "execution": {
     "iopub.execute_input": "2023-07-22T08:44:25.423388Z",
     "iopub.status.busy": "2023-07-22T08:44:25.422982Z",
     "iopub.status.idle": "2023-07-22T08:44:37.487208Z",
     "shell.execute_reply": "2023-07-22T08:44:37.485732Z"
    },
    "papermill": {
     "duration": 12.081094,
     "end_time": "2023-07-22T08:44:37.489941",
     "exception": false,
     "start_time": "2023-07-22T08:44:25.408847",
     "status": "completed"
    },
    "tags": [],
    "trusted": false
   },
   "outputs": [],
   "source": [
    "# Функция для чтения word2vec / FastText\n",
    "\n",
    "def open_model(model_name,model_path, is_fasttext = True):\n",
    "    \n",
    "    # word2vec (model.bin)\n",
    "    if is_fasttext == False:\n",
    "        model_file = model_path + model_name + \".zip\"\n",
    "        with zipfile.ZipFile(model_file, 'r') as archive:\n",
    "            stream = archive.open('model.bin')\n",
    "            model = gensim.models.KeyedVectors.load_word2vec_format(stream, binary=True)\n",
    "            \n",
    "    # fasttext (model.model)\n",
    "    else:\n",
    "        model_file = model_path + model_name\n",
    "        model = gensim.models.KeyedVectors.load(model_file + \"/model.model\")\n",
    "    return model\n",
    "\n",
    "with zipfile.ZipFile(\"/kaggle/working/geowac_lemmas_none_fasttextskipgram_300_5_2020.zip\", 'r') as zip_ref: \n",
    "    zip_ref.extractall(\"/kaggle/working/geowac_lemmas_none_fasttextskipgram_300_5_2020\")"
   ]
  },
  {
   "cell_type": "code",
   "execution_count": 23,
   "id": "71d00f31",
   "metadata": {
    "execution": {
     "iopub.execute_input": "2023-07-22T08:44:37.567300Z",
     "iopub.status.busy": "2023-07-22T08:44:37.566904Z",
     "iopub.status.idle": "2023-07-22T08:44:42.155885Z",
     "shell.execute_reply": "2023-07-22T08:44:42.154576Z"
    },
    "papermill": {
     "duration": 4.644408,
     "end_time": "2023-07-22T08:44:42.158671",
     "exception": false,
     "start_time": "2023-07-22T08:44:37.514263",
     "status": "completed"
    },
    "tags": [],
    "trusted": false
   },
   "outputs": [],
   "source": [
    "# загружаем KeyedVectors эмбеддинговый вектора \n",
    "geowac_model = open_model('geowac_lemmas_none_fasttextskipgram_300_5_2020','/kaggle/working/')"
   ]
  },
  {
   "cell_type": "code",
   "execution_count": 24,
   "id": "a7304c82",
   "metadata": {
    "execution": {
     "iopub.execute_input": "2023-07-22T08:44:42.186536Z",
     "iopub.status.busy": "2023-07-22T08:44:42.186111Z",
     "iopub.status.idle": "2023-07-22T08:44:42.199448Z",
     "shell.execute_reply": "2023-07-22T08:44:42.198485Z"
    },
    "papermill": {
     "duration": 0.030161,
     "end_time": "2023-07-22T08:44:42.201526",
     "exception": false,
     "start_time": "2023-07-22T08:44:42.171365",
     "status": "completed"
    },
    "tags": [],
    "trusted": false
   },
   "outputs": [
    {
     "name": "stdout",
     "output_type": "stream",
     "text": [
      "(500, 300)\n"
     ]
    }
   ],
   "source": [
    "top_words_vec = geowac_model[top_words]\n",
    "print(top_words_vec.shape)"
   ]
  },
  {
   "cell_type": "markdown",
   "id": "a8d3e5d8",
   "metadata": {
    "papermill": {
     "duration": 0.012279,
     "end_time": "2023-07-22T08:44:42.226553",
     "exception": false,
     "start_time": "2023-07-22T08:44:42.214274",
     "status": "completed"
    },
    "tags": []
   },
   "source": [
    "### **Визуализируем векторные представление**\n",
    "\n",
    "Как и в прошлом разделе визуализируем самы часто встречаюшихся слов и кластеризуем их на группы"
   ]
  },
  {
   "cell_type": "code",
   "execution_count": 25,
   "id": "41b51ddb",
   "metadata": {
    "execution": {
     "iopub.execute_input": "2023-07-22T08:44:42.254664Z",
     "iopub.status.busy": "2023-07-22T08:44:42.253932Z",
     "iopub.status.idle": "2023-07-22T08:44:42.275985Z",
     "shell.execute_reply": "2023-07-22T08:44:42.274845Z"
    },
    "papermill": {
     "duration": 0.038875,
     "end_time": "2023-07-22T08:44:42.278587",
     "exception": false,
     "start_time": "2023-07-22T08:44:42.239712",
     "status": "completed"
    },
    "tags": [],
    "trusted": false
   },
   "outputs": [],
   "source": [
    "from sklearn.manifold import TSNE\n",
    "from sklearn.cluster import AgglomerativeClustering\n",
    "from bokeh.models import ColumnDataSource, LabelSet\n",
    "from bokeh.models import LinearColorMapper\n",
    "from bokeh.plotting import figure, show, output_file\n",
    "from bokeh.transform import transform\n",
    "from bokeh.io import output_notebook\n",
    "\n",
    "def visualise_clusters(data):\n",
    "\n",
    "    '''\n",
    "\n",
    "    Vector Dimension Reduction\n",
    "\n",
    "    '''\n",
    "\n",
    "    # TSNE manifold learning \n",
    "    tsne = TSNE(n_components=2, \n",
    "                random_state=0)\n",
    "\n",
    "    # Agglomerative Clusterisation\n",
    "    htop_words_tsne = tsne.fit_transform(data)\n",
    "    htop_words_tsne[:10,:]\n",
    "\n",
    "    '''\n",
    "\n",
    "    Clusterise \n",
    "\n",
    "    '''\n",
    "\n",
    "\n",
    "    model = AgglomerativeClustering(n_clusters=10)\n",
    "    clusters = model.fit_predict(htop_words_tsne)\n",
    "    clusters = list(clusters)\n",
    "    clusters = list(map(str, clusters))\n",
    "\n",
    "    # combine data\n",
    "    data = pd.DataFrame({'d1':htop_words_tsne[:,0],\n",
    "                         'd2':htop_words_tsne[:,1],\n",
    "                         'cluster':clusters,\n",
    "                         'names':top_words})\n",
    "\n",
    "    '''\n",
    "\n",
    "    Plot Cluster \n",
    "\n",
    "    '''\n",
    "\n",
    "\n",
    "    output_notebook()\n",
    "    p = figure(tools=\"pan,wheel_zoom,reset,save\",\n",
    "               toolbar_location=\"above\",\n",
    "               title=\"word2vec T-SNE for most common words\")\n",
    "\n",
    "    color = LinearColorMapper(palette = 'Viridis256')\n",
    "\n",
    "    p.scatter(x=\"d1\", y=\"d2\",\n",
    "              fill_color = transform('cluster', color),\n",
    "              line_color='black',\n",
    "              size=8 ,\n",
    "              source=data)\n",
    "\n",
    "    labels = LabelSet(x=\"d1\", y=\"d2\", text=\"names\", y_offset=6,\n",
    "                       text_font_size=\"8pt\", text_color=\"#555555\",\n",
    "                       source=ColumnDataSource(data), text_align='center')\n",
    "    p.add_layout(labels)\n",
    "    show(p)"
   ]
  },
  {
   "cell_type": "code",
   "execution_count": 26,
   "id": "6da7020b",
   "metadata": {
    "execution": {
     "iopub.execute_input": "2023-07-22T08:44:42.305705Z",
     "iopub.status.busy": "2023-07-22T08:44:42.305248Z",
     "iopub.status.idle": "2023-07-22T08:44:45.155473Z",
     "shell.execute_reply": "2023-07-22T08:44:45.154483Z"
    },
    "papermill": {
     "duration": 2.866893,
     "end_time": "2023-07-22T08:44:45.158230",
     "exception": false,
     "start_time": "2023-07-22T08:44:42.291337",
     "status": "completed"
    },
    "tags": [],
    "trusted": false
   },
   "outputs": [
    {
     "data": {
      "text/html": [
       "<style>\n",
       "        .bk-notebook-logo {\n",
       "            display: block;\n",
       "            width: 20px;\n",
       "            height: 20px;\n",
       "            background-image: url(data:image/png;base64,iVBORw0KGgoAAAANSUhEUgAAABQAAAAUCAYAAACNiR0NAAAABHNCSVQICAgIfAhkiAAAAAlwSFlzAAALEgAACxIB0t1+/AAAABx0RVh0U29mdHdhcmUAQWRvYmUgRmlyZXdvcmtzIENTNui8sowAAAOkSURBVDiNjZRtaJVlGMd/1/08zzln5zjP1LWcU9N0NkN8m2CYjpgQYQXqSs0I84OLIC0hkEKoPtiH3gmKoiJDU7QpLgoLjLIQCpEsNJ1vqUOdO7ppbuec5+V+rj4ctwzd8IIbbi6u+8f1539dt3A78eXC7QizUF7gyV1fD1Yqg4JWz84yffhm0qkFqBogB9rM8tZdtwVsPUhWhGcFJngGeWrPzHm5oaMmkfEg1usvLFyc8jLRqDOMru7AyC8saQr7GG7f5fvDeH7Ej8CM66nIF+8yngt6HWaKh7k49Soy9nXurCi1o3qUbS3zWfrYeQDTB/Qj6kX6Ybhw4B+bOYoLKCC9H3Nu/leUTZ1JdRWkkn2ldcCamzrcf47KKXdAJllSlxAOkRgyHsGC/zRday5Qld9DyoM4/q/rUoy/CXh3jzOu3bHUVZeU+DEn8FInkPBFlu3+nW3Nw0mk6vCDiWg8CeJaxEwuHS3+z5RgY+YBR6V1Z1nxSOfoaPa4LASWxxdNp+VWTk7+4vzaou8v8PN+xo+KY2xsw6une2frhw05CTYOmQvsEhjhWjn0bmXPjpE1+kplmmkP3suftwTubK9Vq22qKmrBhpY4jvd5afdRA3wGjFAgcnTK2s4hY0/GPNIb0nErGMCRxWOOX64Z8RAC4oCXdklmEvcL8o0BfkNK4lUg9HTl+oPlQxdNo3Mg4Nv175e/1LDGzZen30MEjRUtmXSfiTVu1kK8W4txyV6BMKlbgk3lMwYCiusNy9fVfvvwMxv8Ynl6vxoByANLTWplvuj/nF9m2+PDtt1eiHPBr1oIfhCChQMBw6Aw0UulqTKZdfVvfG7VcfIqLG9bcldL/+pdWTLxLUy8Qq38heUIjh4XlzZxzQm19lLFlr8vdQ97rjZVOLf8nclzckbcD4wxXMidpX30sFd37Fv/GtwwhzhxGVAprjbg0gCAEeIgwCZyTV2Z1REEW8O4py0wsjeloKoMr6iCY6dP92H6Vw/oTyICIthibxjm/DfN9lVz8IqtqKYLUXfoKVMVQVVJOElGjrnnUt9T9wbgp8AyYKaGlqingHZU/uG2NTZSVqwHQTWkx9hxjkpWDaCg6Ckj5qebgBVbT3V3NNXMSiWSDdGV3hrtzla7J+duwPOToIg42ChPQOQjspnSlp1V+Gjdged7+8UN5CRAV7a5EdFNwCjEaBR27b3W890TE7g24NAP/mMDXRWrGoFPQI9ls/MWO2dWFAar/xcOIImbbpA3zgAAAABJRU5ErkJggg==);\n",
       "        }\n",
       "    </style>\n",
       "    <div>\n",
       "        <a href=\"https://bokeh.org\" target=\"_blank\" class=\"bk-notebook-logo\"></a>\n",
       "        <span id=\"adfdc5ee-a223-4325-954d-6c61a6cbf860\">Loading BokehJS ...</span>\n",
       "    </div>\n"
      ]
     },
     "metadata": {},
     "output_type": "display_data"
    },
    {
     "data": {
      "application/javascript": "(function(root) {\n  function now() {\n    return new Date();\n  }\n\n  const force = true;\n\n  if (typeof root._bokeh_onload_callbacks === \"undefined\" || force === true) {\n    root._bokeh_onload_callbacks = [];\n    root._bokeh_is_loading = undefined;\n  }\n\nconst JS_MIME_TYPE = 'application/javascript';\n  const HTML_MIME_TYPE = 'text/html';\n  const EXEC_MIME_TYPE = 'application/vnd.bokehjs_exec.v0+json';\n  const CLASS_NAME = 'output_bokeh rendered_html';\n\n  /**\n   * Render data to the DOM node\n   */\n  function render(props, node) {\n    const script = document.createElement(\"script\");\n    node.appendChild(script);\n  }\n\n  /**\n   * Handle when an output is cleared or removed\n   */\n  function handleClearOutput(event, handle) {\n    const cell = handle.cell;\n\n    const id = cell.output_area._bokeh_element_id;\n    const server_id = cell.output_area._bokeh_server_id;\n    // Clean up Bokeh references\n    if (id != null && id in Bokeh.index) {\n      Bokeh.index[id].model.document.clear();\n      delete Bokeh.index[id];\n    }\n\n    if (server_id !== undefined) {\n      // Clean up Bokeh references\n      const cmd_clean = \"from bokeh.io.state import curstate; print(curstate().uuid_to_server['\" + server_id + \"'].get_sessions()[0].document.roots[0]._id)\";\n      cell.notebook.kernel.execute(cmd_clean, {\n        iopub: {\n          output: function(msg) {\n            const id = msg.content.text.trim();\n            if (id in Bokeh.index) {\n              Bokeh.index[id].model.document.clear();\n              delete Bokeh.index[id];\n            }\n          }\n        }\n      });\n      // Destroy server and session\n      const cmd_destroy = \"import bokeh.io.notebook as ion; ion.destroy_server('\" + server_id + \"')\";\n      cell.notebook.kernel.execute(cmd_destroy);\n    }\n  }\n\n  /**\n   * Handle when a new output is added\n   */\n  function handleAddOutput(event, handle) {\n    const output_area = handle.output_area;\n    const output = handle.output;\n\n    // limit handleAddOutput to display_data with EXEC_MIME_TYPE content only\n    if ((output.output_type != \"display_data\") || (!Object.prototype.hasOwnProperty.call(output.data, EXEC_MIME_TYPE))) {\n      return\n    }\n\n    const toinsert = output_area.element.find(\".\" + CLASS_NAME.split(' ')[0]);\n\n    if (output.metadata[EXEC_MIME_TYPE][\"id\"] !== undefined) {\n      toinsert[toinsert.length - 1].firstChild.textContent = output.data[JS_MIME_TYPE];\n      // store reference to embed id on output_area\n      output_area._bokeh_element_id = output.metadata[EXEC_MIME_TYPE][\"id\"];\n    }\n    if (output.metadata[EXEC_MIME_TYPE][\"server_id\"] !== undefined) {\n      const bk_div = document.createElement(\"div\");\n      bk_div.innerHTML = output.data[HTML_MIME_TYPE];\n      const script_attrs = bk_div.children[0].attributes;\n      for (let i = 0; i < script_attrs.length; i++) {\n        toinsert[toinsert.length - 1].firstChild.setAttribute(script_attrs[i].name, script_attrs[i].value);\n        toinsert[toinsert.length - 1].firstChild.textContent = bk_div.children[0].textContent\n      }\n      // store reference to server id on output_area\n      output_area._bokeh_server_id = output.metadata[EXEC_MIME_TYPE][\"server_id\"];\n    }\n  }\n\n  function register_renderer(events, OutputArea) {\n\n    function append_mime(data, metadata, element) {\n      // create a DOM node to render to\n      const toinsert = this.create_output_subarea(\n        metadata,\n        CLASS_NAME,\n        EXEC_MIME_TYPE\n      );\n      this.keyboard_manager.register_events(toinsert);\n      // Render to node\n      const props = {data: data, metadata: metadata[EXEC_MIME_TYPE]};\n      render(props, toinsert[toinsert.length - 1]);\n      element.append(toinsert);\n      return toinsert\n    }\n\n    /* Handle when an output is cleared or removed */\n    events.on('clear_output.CodeCell', handleClearOutput);\n    events.on('delete.Cell', handleClearOutput);\n\n    /* Handle when a new output is added */\n    events.on('output_added.OutputArea', handleAddOutput);\n\n    /**\n     * Register the mime type and append_mime function with output_area\n     */\n    OutputArea.prototype.register_mime_type(EXEC_MIME_TYPE, append_mime, {\n      /* Is output safe? */\n      safe: true,\n      /* Index of renderer in `output_area.display_order` */\n      index: 0\n    });\n  }\n\n  // register the mime type if in Jupyter Notebook environment and previously unregistered\n  if (root.Jupyter !== undefined) {\n    const events = require('base/js/events');\n    const OutputArea = require('notebook/js/outputarea').OutputArea;\n\n    if (OutputArea.prototype.mime_types().indexOf(EXEC_MIME_TYPE) == -1) {\n      register_renderer(events, OutputArea);\n    }\n  }\n  if (typeof (root._bokeh_timeout) === \"undefined\" || force === true) {\n    root._bokeh_timeout = Date.now() + 5000;\n    root._bokeh_failed_load = false;\n  }\n\n  const NB_LOAD_WARNING = {'data': {'text/html':\n     \"<div style='background-color: #fdd'>\\n\"+\n     \"<p>\\n\"+\n     \"BokehJS does not appear to have successfully loaded. If loading BokehJS from CDN, this \\n\"+\n     \"may be due to a slow or bad network connection. Possible fixes:\\n\"+\n     \"</p>\\n\"+\n     \"<ul>\\n\"+\n     \"<li>re-rerun `output_notebook()` to attempt to load from CDN again, or</li>\\n\"+\n     \"<li>use INLINE resources instead, as so:</li>\\n\"+\n     \"</ul>\\n\"+\n     \"<code>\\n\"+\n     \"from bokeh.resources import INLINE\\n\"+\n     \"output_notebook(resources=INLINE)\\n\"+\n     \"</code>\\n\"+\n     \"</div>\"}};\n\n  function display_loaded() {\n    const el = document.getElementById(\"adfdc5ee-a223-4325-954d-6c61a6cbf860\");\n    if (el != null) {\n      el.textContent = \"BokehJS is loading...\";\n    }\n    if (root.Bokeh !== undefined) {\n      if (el != null) {\n        el.textContent = \"BokehJS \" + root.Bokeh.version + \" successfully loaded.\";\n      }\n    } else if (Date.now() < root._bokeh_timeout) {\n      setTimeout(display_loaded, 100)\n    }\n  }\n\n  function run_callbacks() {\n    try {\n      root._bokeh_onload_callbacks.forEach(function(callback) {\n        if (callback != null)\n          callback();\n      });\n    } finally {\n      delete root._bokeh_onload_callbacks\n    }\n    console.debug(\"Bokeh: all callbacks have finished\");\n  }\n\n  function load_libs(css_urls, js_urls, callback) {\n    if (css_urls == null) css_urls = [];\n    if (js_urls == null) js_urls = [];\n\n    root._bokeh_onload_callbacks.push(callback);\n    if (root._bokeh_is_loading > 0) {\n      console.debug(\"Bokeh: BokehJS is being loaded, scheduling callback at\", now());\n      return null;\n    }\n    if (js_urls == null || js_urls.length === 0) {\n      run_callbacks();\n      return null;\n    }\n    console.debug(\"Bokeh: BokehJS not loaded, scheduling load and callback at\", now());\n    root._bokeh_is_loading = css_urls.length + js_urls.length;\n\n    function on_load() {\n      root._bokeh_is_loading--;\n      if (root._bokeh_is_loading === 0) {\n        console.debug(\"Bokeh: all BokehJS libraries/stylesheets loaded\");\n        run_callbacks()\n      }\n    }\n\n    function on_error(url) {\n      console.error(\"failed to load \" + url);\n    }\n\n    for (let i = 0; i < css_urls.length; i++) {\n      const url = css_urls[i];\n      const element = document.createElement(\"link\");\n      element.onload = on_load;\n      element.onerror = on_error.bind(null, url);\n      element.rel = \"stylesheet\";\n      element.type = \"text/css\";\n      element.href = url;\n      console.debug(\"Bokeh: injecting link tag for BokehJS stylesheet: \", url);\n      document.body.appendChild(element);\n    }\n\n    for (let i = 0; i < js_urls.length; i++) {\n      const url = js_urls[i];\n      const element = document.createElement('script');\n      element.onload = on_load;\n      element.onerror = on_error.bind(null, url);\n      element.async = false;\n      element.src = url;\n      console.debug(\"Bokeh: injecting script tag for BokehJS library: \", url);\n      document.head.appendChild(element);\n    }\n  };\n\n  function inject_raw_css(css) {\n    const element = document.createElement(\"style\");\n    element.appendChild(document.createTextNode(css));\n    document.body.appendChild(element);\n  }\n\n  const js_urls = [\"https://cdn.bokeh.org/bokeh/release/bokeh-3.1.1.min.js\", \"https://cdn.bokeh.org/bokeh/release/bokeh-gl-3.1.1.min.js\", \"https://cdn.bokeh.org/bokeh/release/bokeh-widgets-3.1.1.min.js\", \"https://cdn.bokeh.org/bokeh/release/bokeh-tables-3.1.1.min.js\", \"https://cdn.bokeh.org/bokeh/release/bokeh-mathjax-3.1.1.min.js\"];\n  const css_urls = [];\n\n  const inline_js = [    function(Bokeh) {\n      Bokeh.set_log_level(\"info\");\n    },\nfunction(Bokeh) {\n    }\n  ];\n\n  function run_inline_js() {\n    if (root.Bokeh !== undefined || force === true) {\n          for (let i = 0; i < inline_js.length; i++) {\n      inline_js[i].call(root, root.Bokeh);\n    }\nif (force === true) {\n        display_loaded();\n      }} else if (Date.now() < root._bokeh_timeout) {\n      setTimeout(run_inline_js, 100);\n    } else if (!root._bokeh_failed_load) {\n      console.log(\"Bokeh: BokehJS failed to load within specified timeout.\");\n      root._bokeh_failed_load = true;\n    } else if (force !== true) {\n      const cell = $(document.getElementById(\"adfdc5ee-a223-4325-954d-6c61a6cbf860\")).parents('.cell').data().cell;\n      cell.output_area.append_execute_result(NB_LOAD_WARNING)\n    }\n  }\n\n  if (root._bokeh_is_loading === 0) {\n    console.debug(\"Bokeh: BokehJS loaded, going straight to plotting\");\n    run_inline_js();\n  } else {\n    load_libs(css_urls, js_urls, function() {\n      console.debug(\"Bokeh: BokehJS plotting callback run at\", now());\n      run_inline_js();\n    });\n  }\n}(window));",
      "application/vnd.bokehjs_load.v0+json": ""
     },
     "metadata": {},
     "output_type": "display_data"
    },
    {
     "data": {
      "text/html": [
       "\n",
       "  <div id=\"d78ff289-b1a3-4de0-8fc2-1e4a2854c413\" data-root-id=\"p1152\" style=\"display: contents;\"></div>\n"
      ]
     },
     "metadata": {},
     "output_type": "display_data"
    },
    {
     "data": {
      "application/javascript": "(function(root) {\n  function embed_document(root) {\n  const docs_json = {\"d4f24522-74ee-4652-947a-a81b4719bafe\":{\"version\":\"3.1.1\",\"title\":\"Bokeh Application\",\"defs\":[],\"roots\":[{\"type\":\"object\",\"name\":\"Figure\",\"id\":\"p1152\",\"attributes\":{\"x_range\":{\"type\":\"object\",\"name\":\"DataRange1d\",\"id\":\"p1153\"},\"y_range\":{\"type\":\"object\",\"name\":\"DataRange1d\",\"id\":\"p1154\"},\"x_scale\":{\"type\":\"object\",\"name\":\"LinearScale\",\"id\":\"p1166\"},\"y_scale\":{\"type\":\"object\",\"name\":\"LinearScale\",\"id\":\"p1168\"},\"title\":{\"type\":\"object\",\"name\":\"Title\",\"id\":\"p1155\",\"attributes\":{\"text\":\"word2vec T-SNE for most common words\"}},\"renderers\":[{\"type\":\"object\",\"name\":\"GlyphRenderer\",\"id\":\"p1203\",\"attributes\":{\"data_source\":{\"type\":\"object\",\"name\":\"ColumnDataSource\",\"id\":\"p1194\",\"attributes\":{\"selected\":{\"type\":\"object\",\"name\":\"Selection\",\"id\":\"p1195\",\"attributes\":{\"indices\":[],\"line_indices\":[]}},\"selection_policy\":{\"type\":\"object\",\"name\":\"UnionRenderers\",\"id\":\"p1196\"},\"data\":{\"type\":\"map\",\"entries\":[[\"index\",{\"type\":\"ndarray\",\"array\":{\"type\":\"bytes\",\"data\":\"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\"},\"shape\":[500],\"dtype\":\"int32\",\"order\":\"little\"}],[\"d1\",{\"type\":\"ndarray\",\"array\":{\"type\":\"bytes\",\"data\":\"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\"},\"shape\":[500],\"dtype\":\"float32\",\"order\":\"little\"}],[\"d2\",{\"type\":\"ndarray\",\"array\":{\"type\":\"bytes\",\"data\":\"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\"},\"shape\":[500],\"dtype\":\"float32\",\"order\":\"little\"}],[\"cluster\",{\"type\":\"ndarray\",\"array\":[\"2\",\"0\",\"0\",\"3\",\"1\",\"0\",\"0\",\"1\",\"0\",\"0\",\"1\",\"4\",\"0\",\"0\",\"3\",\"5\",\"8\",\"0\",\"0\",\"1\",\"9\",\"3\",\"4\",\"2\",\"1\",\"1\",\"0\",\"0\",\"1\",\"3\",\"3\",\"1\",\"6\",\"3\",\"4\",\"3\",\"2\",\"3\",\"0\",\"2\",\"0\",\"4\",\"3\",\"3\",\"0\",\"3\",\"2\",\"6\",\"4\",\"0\",\"5\",\"1\",\"3\",\"1\",\"4\",\"9\",\"3\",\"0\",\"3\",\"3\",\"1\",\"0\",\"4\",\"2\",\"3\",\"2\",\"8\",\"1\",\"1\",\"0\",\"1\",\"4\",\"4\",\"0\",\"1\",\"0\",\"6\",\"1\",\"1\",\"5\",\"3\",\"4\",\"4\",\"1\",\"0\",\"1\",\"3\",\"2\",\"7\",\"6\",\"0\",\"0\",\"4\",\"6\",\"8\",\"2\",\"9\",\"0\",\"1\",\"2\",\"1\",\"3\",\"4\",\"1\",\"2\",\"2\",\"9\",\"1\",\"6\",\"1\",\"6\",\"7\",\"6\",\"3\",\"0\",\"0\",\"3\",\"0\",\"1\",\"4\",\"1\",\"3\",\"4\",\"0\",\"4\",\"5\",\"0\",\"9\",\"1\",\"0\",\"0\",\"9\",\"8\",\"2\",\"2\",\"1\",\"2\",\"1\",\"0\",\"2\",\"2\",\"2\",\"2\",\"1\",\"1\",\"0\",\"1\",\"6\",\"6\",\"6\",\"2\",\"8\",\"6\",\"7\",\"6\",\"1\",\"0\",\"0\",\"0\",\"5\",\"4\",\"0\",\"4\",\"2\",\"0\",\"3\",\"0\",\"3\",\"0\",\"1\",\"0\",\"4\",\"7\",\"4\",\"4\",\"1\",\"5\",\"3\",\"2\",\"0\",\"4\",\"4\",\"1\",\"1\",\"0\",\"4\",\"4\",\"3\",\"2\",\"1\",\"8\",\"3\",\"9\",\"4\",\"9\",\"3\",\"1\",\"5\",\"3\",\"1\",\"1\",\"3\",\"1\",\"4\",\"0\",\"0\",\"5\",\"3\",\"0\",\"0\",\"0\",\"1\",\"6\",\"6\",\"3\",\"1\",\"6\",\"6\",\"1\",\"6\",\"9\",\"8\",\"2\",\"1\",\"5\",\"5\",\"1\",\"1\",\"3\",\"7\",\"9\",\"5\",\"0\",\"0\",\"4\",\"9\",\"2\",\"0\",\"8\",\"6\",\"9\",\"3\",\"2\",\"0\",\"4\",\"6\",\"3\",\"2\",\"2\",\"4\",\"0\",\"5\",\"9\",\"9\",\"4\",\"1\",\"6\",\"5\",\"4\",\"1\",\"6\",\"5\",\"8\",\"0\",\"2\",\"1\",\"1\",\"7\",\"1\",\"7\",\"1\",\"1\",\"2\",\"3\",\"1\",\"1\",\"1\",\"3\",\"8\",\"2\",\"1\",\"2\",\"0\",\"8\",\"6\",\"8\",\"0\",\"2\",\"9\",\"7\",\"6\",\"3\",\"3\",\"0\",\"4\",\"2\",\"5\",\"2\",\"6\",\"4\",\"3\",\"4\",\"0\",\"7\",\"3\",\"4\",\"0\",\"8\",\"8\",\"0\",\"4\",\"0\",\"1\",\"8\",\"0\",\"8\",\"5\",\"6\",\"6\",\"1\",\"0\",\"1\",\"0\",\"4\",\"0\",\"3\",\"3\",\"5\",\"1\",\"1\",\"3\",\"2\",\"5\",\"9\",\"1\",\"2\",\"4\",\"4\",\"4\",\"1\",\"1\",\"8\",\"0\",\"1\",\"1\",\"1\",\"9\",\"7\",\"7\",\"1\",\"3\",\"5\",\"1\",\"1\",\"5\",\"2\",\"7\",\"0\",\"8\",\"3\",\"0\",\"1\",\"9\",\"4\",\"2\",\"1\",\"9\",\"0\",\"1\",\"0\",\"0\",\"7\",\"2\",\"2\",\"5\",\"0\",\"6\",\"6\",\"4\",\"7\",\"2\",\"0\",\"8\",\"3\",\"8\",\"1\",\"4\",\"0\",\"2\",\"1\",\"6\",\"0\",\"8\",\"6\",\"8\",\"7\",\"0\",\"8\",\"6\",\"1\",\"4\",\"1\",\"6\",\"8\",\"0\",\"5\",\"3\",\"9\",\"1\",\"8\",\"7\",\"4\",\"3\",\"2\",\"6\",\"0\",\"9\",\"3\",\"3\",\"0\",\"8\",\"8\",\"9\",\"1\",\"4\",\"8\",\"2\",\"0\",\"4\",\"7\",\"3\",\"3\",\"3\",\"9\",\"1\",\"5\",\"3\",\"0\",\"1\",\"5\",\"1\",\"1\",\"5\",\"1\",\"0\",\"1\",\"6\",\"2\",\"8\",\"6\",\"8\",\"8\",\"7\",\"3\",\"1\",\"4\",\"0\",\"1\",\"4\",\"7\",\"8\",\"3\",\"0\",\"0\",\"4\",\"0\",\"7\",\"2\",\"4\",\"8\",\"7\",\"0\",\"0\",\"9\",\"8\",\"5\",\"1\",\"7\",\"1\",\"4\",\"5\",\"6\",\"0\",\"4\",\"8\",\"3\",\"1\",\"4\",\"8\",\"5\",\"0\",\"5\",\"7\",\"4\",\"2\",\"7\",\"3\",\"7\",\"1\",\"7\"],\"shape\":[500],\"dtype\":\"object\",\"order\":\"little\"}],[\"names\",{\"type\":\"ndarray\",\"array\":[\"\\u043d\\u0435\",\"\\u0438\",\"\\u0432\",\"\\u044f\",\"RT\",\"\\u043d\\u0430\",\"\\u0447\\u0442\\u043e\",\"http://t\",\"\\u0430\",\"\\u0441\",\":(\",\"\\u043c\\u0435\\u043d\\u044f\",\"\\u0442\\u043e\",\"\\u043a\\u0430\\u043a\",\"\\u0443\",\":\",\")\",\"\\u044d\\u0442\\u043e\",\"\\u0442\\u0430\\u043a\",\"(\",\"\\u043c\\u043d\\u0435\",\"\\u0432\\u0441\\u0435\",\"\\u0442\\u044b\",\"\\u043d\\u043e\",\":)\",\"\\u042f\",\"\\u043f\\u043e\",\"\\u0437\\u0430\",\":D\",\"\\u0443\\u0436\\u0435\",\"\\u0436\\u0435\",\"\\u0410\",\"\\u043d\\u0443\",\"\\u0442\\u043e\\u043b\\u044c\\u043a\\u043e\",\"\\u0431\\u044b\",\"\\u0435\\u0449\\u0435\",\"\\u0434\\u0430\",\"\\u0432\\u043e\\u0442\",\"\\u043a\",\"\\u043a\\u043e\\u0433\\u0434\\u0430\",\"\\u0438\\u0437\",\"\\u0442\\u0435\\u0431\\u044f\",\"\\u043e\\u0447\\u0435\\u043d\\u044c\",\"\\u0441\\u0435\\u0433\\u043e\\u0434\\u043d\\u044f\",\"\\u043e\\u043d\",\"\\u043f\\u0440\\u043e\\u0441\\u0442\\u043e\",\"\\u043d\\u0435\\u0442\",\"\\u0445\\u043e\\u0447\\u0443\",\"\\u0431\\u0443\\u0434\\u0435\\u0442\",\"\\u043e\\u0442\",\"\\u0434\\u0435\\u043d\\u044c\",\"\\u0418\",\"\\u043c\\u044b\",\"co/\",\"\\u0442\\u0435\\u0431\\u0435\",\"\\u0431\\u044b\\u043b\\u043e\",\"\\u0442\\u043e\\u0436\\u0435\",\"\\u0434\\u043e\",\"\\u0434\\u0430\\u0436\\u0435\",\"\\u0442\\u0430\\u043c\",\"((\",\"\\u0435\\u0433\\u043e\",\"\\u043d\\u0430\\u0434\\u043e\",\"\\u0442\\u0435\\u043f\\u0435\\u0440\\u044c\",\"\\u0432\\u043e\\u043e\\u0431\\u0449\\u0435\",\"\\u0435\\u0441\\u043b\\u0438\",\"\\u043e\",\"\\u0412\",\"\\u0432\\u0441\",\"\\u0434\\u043b\\u044f\",\"))\",\"\\u043a\\u0442\\u043e\",\"\\u0435\\u0441\\u0442\\u044c\",\"\\u043d\\u0430\\u0441\",\"\\u041d\\u0435\",\"\\u043e\\u043d\\u0430\",\"\\u0437\\u0430\\u0432\\u0442\\u0440\\u0430\",\"\\u041d\\u0443\",\"(((\",\"\\u041a\\u0430\\u043a\",\"\\u0441\\u0435\\u0439\\u0447\\u0430\\u0441\",\"\\u043c\\u043e\\u0433\\u0443\",\"\\u0431\\u0443\\u0434\\u0443\",\"\\u0423\",\"\\u0431\\u0435\\u0437\",\")))\",\"\\u0442\\u0443\\u0442\",\"\\u0440\\u0430\\u0437\",\"\\u0438\\u043b\\u0438\",\"\\u0437\\u043d\\u0430\\u044e\",\"\\u043e\\u043d\\u0438\",\"\\u0441\\u043e\",\"\\u043f\\u043e\\u0447\\u0435\\u043c\\u0443\",\"\\u043d\\u0438\\u0447\\u0435\\u0433\\u043e\",\"\\u043f\\u0440\\u043e\",\"\\u0431\\u043e\\u043b\\u044c\\u0448\\u0435\",\"\\u043b\\u044e\\u0431\\u043b\\u044e\",\"\\u0432\\u044b\",\"\\u041d\\u043e\",\"\\u0447\\u0435\\u043c\",\"\\u0412\\u043e\\u0442\",\"\\u0432\\u0441\\u0435\\u0433\\u0434\\u0430\",\"\\u043c\\u043e\\u0436\\u043d\\u043e\",\"!\",\"\\u043c\\u043e\\u0439\",\"\\u043f\\u043e\\u0442\\u043e\\u043c\",\"\\u0431\\u044b\\u043b\",\"\\u0435\\u0449\",\"\\u0431\\u043b\\u0438\\u043d\",\"\\u0421\",\"\\u042d\\u0442\\u043e\",\"\\u0438\\u0445\",\"\\u043c\\u043e\\u0436\\u0435\\u0442\",\"\\u0433\\u0434\\u0435\",\"\\u0442\\u0430\\u043a\\u043e\\u0439\",\"\\u0447\\u0442\\u043e\\u0431\\u044b\",\"\\u0434\\u043e\\u043c\\u0430\",\"\\u0432\\u0440\\u0435\\u043c\\u044f\",\"/\",\"\\u0441\\u043f\\u0430\\u0442\\u044c\",\"\\u0442\",\"\\u0421\\u0435\\u0433\\u043e\\u0434\\u043d\\u044f\",\"\\u043d\\u0438\",\"\\u044d\\u0442\\u043e\\u0442\",\"\\u0445\\u043e\\u0440\\u043e\\u0448\\u043e\",\"\\u0433\\u043e\\u0434\",\"\\u0441\\u0435\\u0431\\u044f\",\"\\u0441\\u043f\\u0430\\u0441\\u0438\\u0431\\u043e\",\"\\u041c\\u043d\\u0435\",\"\\u0431\\u044b\\u0442\\u044c\",\"\\u043f\\u043e\\u0441\\u043b\\u0435\",\"\\u0431\\u044b\\u043b\\u0430\",\"\\u0434\\u0435\\u043b\\u0430\\u0442\\u044c\",\"\\u043e\\u043f\\u044f\\u0442\\u044c\",\"\\u043c\\u043d\\u043e\\u0433\\u043e\",\"\\u0412\\u0441\\u0435\",\"\\u0432\\u0441\\u0435\\u0445\",\"\\u041d\\u0430\",\"\\u0441\\u0435\\u0431\\u0435\",\"\\u043f\\u043e\\u043a\\u0430\",\"\\u0445\\u043e\\u0442\\u044c\",\"\\u043a\\u0430\\u043a\\u043e\\u0439\",\"\\u0432\\u0441\\u0435\\u043c\",\"\\u0432\\u0430\\u0441\",\"\\u043c\\u043e\\u044f\",\"\\u044d\\u0442\\u043e\\u0433\\u043e\",\"\\u0414\\u0430\",\"\\u0442\\u0430\\u043a\\u043e\\u0435\",\"\\u0427\\u0442\\u043e\",\"\\u0442\\u0430\\u043a\\u0430\\u044f\",\"\\u0442\\u0430\\u043a\\u0438\\u0435\",\"\\u0432\\u0441\\u0435\\u0433\\u043e\",\"\\u043b\\u0443\\u0447\\u0448\\u0435\",\"\\u043e\\u0434\\u0438\\u043d\",\"\\u0445\\u043e\\u0447\\u0435\\u0442\\u0441\\u044f\",\"\\u043c\",\"\\u0432\\u043e\",\"\\u0435\\u0435\",\"\\u043f\\u043e\\u0434\",\"\\u0422\\u0430\\u043a\",\"\\u043d\\u0438\\u0431\\u0443\\u0434\\u044c\",\"\\u043d\\u043e\\u0432\\u044b\\u0439\",\"\\u043d\\u0443\\u0436\\u043d\\u043e\",\"\\u043b\\u0438\",\"\\u044d\\u0442\\u043e\\u043c\",\"\\u0441\\u043e\\u0432\\u0441\\u0435\\u043c\",\"\\u043d\\u0430\\u043c\",\"\\u043f\\u043e\\u0442\\u043e\\u043c\\u0443\",\"\\u0442\\u043e\\u0433\\u043e\",\"D\",\"\\u0447\\u0435\\u0440\\u0435\\u0437\",\"\\u0447\\u0435\\u0433\\u043e\",\"\\u043c\\u043e\\u0438\",\"\\u043a\\u043e\\u0433\\u043e\",\"\\u043d\\u0435\\u0433\\u043e\",\":((\",\"\\u0434\\u043d\\u044f\",\"\\u0432\\u0435\\u0434\\u044c\",\"\\u0441\\u043a\\u043e\\u0440\\u043e\",\"\\u0440\\u0430\\u0432\\u043d\\u043e\",\"\\u043f\\u043b\\u043e\\u0445\\u043e\",\"\\u0434\\u043e\\u043c\\u043e\\u0439\",\"\\u0422\\u044b\",\"\\u0436\",\"\\u043d\\u0430\\u0441\\u0442\\u0440\\u043e\\u0435\\u043d\\u0438\\u0435\",\"\\u0432\\u0430\\u043c\",\"\\u043d\\u0438\\u043a\\u0442\\u043e\",\"\\u043a\\u043e\\u043d\\u0435\\u0447\\u043d\\u043e\",\"\\u0442\\u043e\\u0433\\u0434\\u0430\",\"=(\",\"\\u041d\\u0415\",\"\\u0432\\u0447\\u0435\\u0440\\u0430\",\"\\u0421\\u043f\\u0430\\u0441\\u0438\\u0431\\u043e\",\"\\u043d\\u0438\\u043a\\u043e\\u0433\\u0434\\u0430\",\"\\u043b\\u044e\\u0434\\u0438\",\"\\u0432\\u0435\\u0441\\u044c\",\"\\u0415\\u0441\\u043b\\u0438\",\"\\u0443\\u0442\\u0440\\u0430\",\"\\u0442\\u0430\\u043a\\u0438\",\"\\u0435\",\"=)\",\"\\u0445\\u043e\\u0442\\u044f\",\"\\u0425\\u043e\\u0447\\u0443\",\"\\u043c\\u0430\\u043c\\u0430\",\"\\u0436\\u0438\\u0437\\u043d\\u044c\",\"\\u044d\\u0442\\u0438\",\"\\u0433\\u043e\\u0434\\u0430\",\"\\u0422\\u043e\\u043b\\u044c\\u043a\\u043e\",\"_\",\"\\u0436\\u0438\\u0437\\u043d\\u0438\",\"\\u043c\\u043d\\u043e\\u0439\",\"\\u043c\\u043e\\u0435\\u0439\",\"\\u0417\\u0430\\u0432\\u0442\\u0440\\u0430\",\"\\u0432\\u0440\\u043e\\u0434\\u0435\",\"\\u043e\\u0434\\u043d\\u0430\",\"\\u043e_\\u041e\",\"\\u0434\\u0443\\u043c\\u0430\\u044e\",\"\\u043a\\u0430\\u0436\\u0435\\u0442\\u0441\\u044f\",\"\\u0411\\u043b\\u0438\\u043d\",\"\\u0443\\u0436\",\"\\u0447\\u0435\\u043b\\u043e\\u0432\\u0435\\u043a\",\"\\u043d\\u0438\\u0445\",\"\\u0441\\u043d\\u043e\\u0432\\u0430\",\"gt\",\"\\u0447\\u0430\\u0441\\u0430\",\"\\u043b\\u0435\\u0442\",\"\\u043b\",\"((((\",\"\\u0422\\u0435\\u043f\\u0435\\u0440\\u044c\",\"\\u0434\\u0432\\u0430\",\"\\u0448\\u043a\\u043e\\u043b\\u0443\",\"\\u0443\\u0442\\u0440\\u043e\",\"\\u043f\\u043e\\u0447\\u0442\\u0438\",\"\\u043a\\u043e\\u0442\\u043e\\u0440\\u044b\\u0439\",\"\\u0435\\u043c\\u0443\",\"\\u0441\\u043c\\u043e\\u0442\\u0440\\u0435\\u0442\\u044c\",\"\\u0441\\u0440\\u0430\\u0437\\u0443\",\"\\u0442\\u043e\\u0431\\u043e\\u0439\",\"\\u043d\\u0440\\u0430\\u0432\\u0438\\u0442\\u0441\\u044f\",\"\\u043f\\u043e\\u043d\\u0438\\u043c\\u0430\\u044e\",\"\\u0430\\u0445\\u0430\\u0445\",\"\\u043f\\u0440\\u0430\\u0432\\u0434\\u0430\",\"\\u0447\\u0443\\u0442\\u044c\",\"\\u0438\\u0434\\u0442\\u0438\",\"\\u0436\\u0430\\u043b\\u044c\",\"\\u041a\\u0442\\u043e\",\"\\u0434\\u0430\\u0432\\u043d\\u043e\",\"\\u0442\\u043e\\u0447\\u043d\\u043e\",\"\\u0431\\u043e\\u043b\\u0438\\u0442\",\"\\u043a\\u0443\\u0434\\u0430\",\"\\u044d\\u0442\\u043e\\u0439\",\"\\u0441\\u0438\\u0436\\u0443\",\"\\u043b\\u044e\\u0434\\u0435\\u0439\",\"\\u0431\\u044b\\u043b\\u0438\",\"\\u041f\\u043e\\u0447\\u0435\\u043c\\u0443\",\"\\u041e\",\"\\u043a\\u0430\\u043a\\u0430\\u044f\",\"\\u0432\\u0441\\u044e\",\"\\u0445\\u043e\\u0442\\u0435\\u043b\\u0430\",\"\\u041a\\u043e\\u0433\\u0434\\u0430\",\"\\u0434\\u0443\\u043c\\u0430\\u043b\\u0430\",\"\\u043d\\u043e\\u0447\\u044c\",\"\\u0441\\u0434\\u0435\\u043b\\u0430\\u0442\\u044c\",\"\\u043a\\u043e\\u0442\\u043e\\u0440\\u044b\\u0435\",\"\\u0441\\u0438\\u043b\\u044c\\u043d\\u043e\",\"\\u041c\\u044b\",\"lt\",\"\\u0444\\u0438\\u043b\\u044c\\u043c\",\":))\",\"\\u0442\\u043e\\u043c\",\"\\u044d\\u0442\\u0443\",\"\\u0445\",\"\\u0441\\u0442\\u043e\\u043b\\u044c\\u043a\\u043e\",\"\\u043f\\u043e\\u0439\\u0434\\u0443\",\"\\u0447\",\"\\u0431\",\"\\u0441:\",\"\\u0441\\u0430\\u043c\\u0430\",\"\\u0447\\u0435\",\"\\u043a\\u043e\\u043c\\u0443\",\"\\u043d\\u0430\\u0434\\u0435\\u044e\\u0441\\u044c\",\"\\u0441\\u043a\\u043e\\u043b\\u044c\\u043a\\u043e\",\"\\u0441\\u0432\\u043e\\u0439\",\"\\u0443\\u043b\\u0438\\u0446\\u0435\",\"\\u0431\\u043b\\u044f\",\"\\u041e\\u0447\\u0435\\u043d\\u044c\",\"\\u041d\\u043e\\u0432\\u044b\\u0439\",\"\\u043c\\u0430\\u043b\\u043e\",\"\\u0430\\u0445\\u0430\\u0445\\u0430\",\"\\u0435\\u0439\",\"\\u043f\\u0440\\u044f\\u043c\",\"\\u043a\\u0430\\u0436\\u0434\\u044b\\u0439\",\"\\u0437\\u043d\\u0430\\u0447\\u0438\\u0442\",\"\\u043f\\u0435\\u0440\\u0435\\u0434\",\"\\u0431\\u0443\\u0434\\u0443\\u0442\",\"\\u0442\\u0430\",\"\\u043c\\u0438\\u043d\\u0443\\u0442\",\"\\u0442\\u0435\\u043c\",\"\\u0441\\u043a\\u0443\\u0447\\u0430\\u044e\",\"\\u0441\\u043a\\u0430\\u0437\\u0430\\u043b\\u0430\",\"\\u0438\\u0431\\u043e\",\"\\u0437\\u0430\\u0447\\u0435\\u043c\",\"\\u043f\\u0435\\u0440\\u0432\\u044b\\u0439\",\"\\u0441\\u0432\\u043e\\u044e\",\"\\u043d\\u0430\\u0432\\u0435\\u0440\\u043d\\u043e\\u0435\",\"\\u0440\\u0430\\u043d\\u044c\\u0448\\u0435\",\"\\u0442\\u043e\\u0442\",\"\\u0447\\u0442\\u043e\\u0431\",\"\\u043f\\u0438\\u0441\\u0430\\u0442\\u044c\",\"\\u0441\\u0430\\u043c\\u044b\\u0439\",\"\\u043d\\u0435\\u043b\\u044c\\u0437\\u044f\",\"\\u0441\\u0430\\u043c\\u043e\\u0435\",\"\\u043d\",\"\\u043e\\u0431\",\"\\u0432\\u0440\\u0435\\u043c\\u0435\\u043d\\u0438\",\"\\u044d\\u0442\\u0430\",\"\\u043d\\u043e\\u0447\\u0438\",\"\\u043b\\u0430\\u0434\\u043d\\u043e\",\"\\u0445\\u043e\\u0447\\u0435\\u0442\",\"))))\",\"\\u043f\\u0440\\u0438\",\":(((\",\"\\u043d\\u0435\\u0439\",\"\\u0431\\u0443\\u0434\\u0435\\u043c\",\"\\u0434\\u0440\\u0443\\u0433\",\"\\u0441\\u0430\\u043c\",\"\\u0434\\u043e\\u043b\\u0433\\u043e\",\"\\u0432\\u0435\\u0447\\u0435\\u0440\",\":DD\",\":|\",\"\\u043a\\u0441\\u0442\\u0430\\u0442\\u0438\",\"\\u043d\\u0435\\u043c\\u043d\\u043e\\u0433\\u043e\",\"\\u0449\\u0430\\u0441\",\"\\u0448\\u043a\\u043e\\u043b\\u0435\",\"\\u043a\\u0435\\u043c\",\"\\u043a\\u0430\\u043a\\u0438\\u0435\",\"\\u0442\\u0430\\u043a\\u043e\\u0433\\u043e\",\"\\u043a\\u0440\\u0443\\u0442\\u043e\",\"\\u043d\\u043e\\u0440\\u043c\\u0430\\u043b\\u044c\\u043d\\u043e\",\"\\u041e\\u043d\",\"\\u0432\\u043a\",\"\\u041d\\u0430\\u0434\\u043e\",\"\\u043e\\u043d\\u043e\",\"\\u0412\\u0441\\u0435\\u043c\",\"\\u0445)\",\"\\u0441\\u043d\\u0435\\u0433\",\"\\u043f\\u043e\\u0441\\u043c\\u043e\\u0442\\u0440\\u0435\\u0442\\u044c\",\"\\u043d\\u0438\\u043c\",\"\\u0442\\u0440\\u0438\",\"\\u0438\\u043c\",\"\\u0441\\u043b\\u0438\\u0448\\u043a\\u043e\\u043c\",\"\\u0433\\u043e\\u0434\\u0443\",\"\\u043d\\u0433\",\"\\u0439\",\"\\u0447\\u0430\\u0441\\u043e\\u0432\",\"\\u043d\\u0430\\u043a\\u043e\\u043d\\u0435\\u0446\",\"\\u0444\\u043e\\u0442\\u043e\",\"\\u0442\\u0435\\u043b\\u0435\\u0444\\u043e\\u043d\",\"\\u0441\\u043a\\u0430\\u0437\\u0430\\u0442\\u044c\",\"\\u0438\\u043c\\u0435\\u043d\\u043d\\u043e\",\"\\u0447\\u0443\\u0432\\u0441\\u0442\\u0432\\u043e\",\"\\u041f\\u043e\",\"\\u0441\\u043c\\u043e\\u0442\\u0440\\u044e\",\"\\u0441\\u043a\\u0430\\u0437\\u0430\\u043b\",\"\\u043a\\u043e\",\"\\u0412\\u044b\",\"\\u0447\\u0435\\u043b\\u043e\\u0432\\u0435\\u043a\\u0430\",\"\\u0432\\u0442\\u043e\\u0440\\u043e\\u0439\",\"\\u041d\\u0413\",\"\\u043e\\u0434\\u043d\\u043e\\u0439\",\"\\u0441\\u0432\\u043e\\u0435\\u0439\",\"\\u0440\\u0430\\u0431\\u043e\\u0442\\u0443\",\"\\u043d\\u0435\\u0435\",\"\\u043f\\u043e\\u0440\",\"\\u043d\\u0435\\u0434\\u0435\\u043b\\u044e\",\"\\u043d\\u0430\\u0441\\u0442\\u0440\\u043e\\u0435\\u043d\\u0438\\u044f\",\"\\u043f\\u043e\\u043d\\u044f\\u043b\\u0430\",\"\\u0434\\u0430\\u0432\\u0430\\u0439\",\"\\u0436\\u0430\\u043b\\u043a\\u043e\",\"\\u0441\\u0432\\u043e\\u0438\",\"\\u0431\\u044b\\u0441\\u0442\\u0440\\u043e\",\"\\u0432\\u043c\\u0435\\u0441\\u0442\\u0435\",\"\\u0436\\u0434\\u0443\",\"\\u0443\\u0436\\u0430\\u0441\\u043d\\u043e\",\"\\u043b\\u0438\\u0448\\u044c\",\"^_^\",\"\\u0436\\u0438\\u0442\\u044c\",\"\\u043f\\u0430\\u0440\\u0443\",\"\\u043e\\u0439\",\"\\u043d\\u043e\\u0440\\u043c\",\"\\u043f\\u043e\\u043c\\u043d\\u044e\",\"\\u044d\\u0442\\u0438\\u043c\",\"\\u0423\\u0436\\u0435\",\"\\u043f\\u0438\\u0437\\u0434\\u0435\\u0446\",\"\\u0415\\u0449\\u0435\",\"\\u0432\\u0438\\u0434\\u0435\\u043e\",\"\\u0447\\u0443\\u0432\\u0441\\u0442\\u0432\\u0443\\u044e\",\"\\u0437\\u043d\\u0430\\u0435\\u0448\\u044c\",\"\\u0437\\u043d\\u0430\\u0435\\u0442\",\":)))\",\"\\u043f\\u0440\\u0438\\u044f\\u0442\\u043d\\u043e\",\"\\u043c\\u043e\\u0435\\u0433\\u043e\",\"\\u0431\\u043b\\u044f\\u0442\\u044c\",\"\\u0433\\u043e\\u0432\\u043e\\u0440\\u0438\\u0442\",\"\\u043f\\u043e\\u0441\\u043b\\u0435\\u0434\\u043d\\u0438\\u0439\",\"\\u0447\\u0430\\u0441\",\"\\u0433\\u043b\\u0430\\u0432\\u043d\\u043e\\u0435\",\"\\u0441\\u0442\\u043e\\u0438\\u0442\",\"\\u0443\\u0440\\u043e\\u043a\\u0438\",\"\\u041c\\u0435\\u043d\\u044f\",\"\\u0441\\u0438\\u0445\",\"\\u043d\\u0438\\u043a\\u0430\\u043a\",\"\\u041f\\u0440\\u043e\\u0441\\u0442\\u043e\",\"\\u0440\\u044f\\u0434\\u043e\\u043c\",\"\\u0441\\u043a\\u0443\\u0447\\u043d\\u043e\",\"\\u043f\\u043e\\u043b\",\"\\u0430\\u0445\\u0430\\u0445\\u0430\\u0445\",\"\\u043f\\u0440\\u0438\\u0448\\u043b\\u0430\",\"\\u043f\\u043e\\u044d\\u0442\\u043e\\u043c\\u0443\",\"\\u0434\\u0435\\u043b\\u0430\",\"\\u041d\\u0435\\u0442\",\"\\u0414\\u043e\\u0431\\u0440\\u043e\\u0435\",\"\\u043d\\u0430\\u0439\\u0442\\u0438\",\"\\u0431\\u043e\\u044e\\u0441\\u044c\",\"\\u0438\\u043d\\u0442\\u0435\\u0440\\u0435\\u0441\\u043d\\u043e\",\"\\u0414\\u0430\\u0436\\u0435\",\"\\u0442\\u0435\",\"\\u043e\\u0441\\u0442\\u0430\\u043b\\u043e\\u0441\\u044c\",\"\\u0442\\u0443\\u0434\\u0430\",\"\\u0442\\u0432\\u0438\\u0442\\u0442\\u0435\\u0440\",\"\\u043d\\u0430\\u0437\\u0430\\u0434\",\"\\u0437\\u0430\\u0442\\u043e\",\"\\u0438\\u043d\\u043e\\u0433\\u0434\\u0430\",\"\\u041b\\u044e\\u0431\\u043b\\u044e\",\"amp\",\"\\u043d\\u0435\\u0434\\u0435\\u043b\\u0438\",\"\\u0440\\u0435\\u0430\\u043b\\u044c\\u043d\\u043e\",\"\\u043c\\u043e\\u043c\\u0435\\u043d\\u0442\",\"\\u0434\",\"\\u0443\\u0442\\u0440\\u043e\\u043c\",\"\\u0440\",\"\\u0417\\u0430\",\"\\u0434\\u043d\\u0435\\u0439\",\"\\u0432\\u0440\\u043e\\u043c\\u0430\\u0439\\u0434\\u0430\\u043d\",\"\\u0433\\u043e\\u043b\\u043e\\u0432\\u0430\",\"\\u0412\\u0441\",\"\\u0431\\u0443\\u0434\\u0442\\u043e\",\"\\u0442\\u0432\\u043e\\u0439\",\"\\u0433\\u043e\\u0432\\u043e\\u0440\\u044f\\u0442\",\"\\u043f\\u0440\\u0438\\u0432\\u0435\\u0442\",\"\\u0447\\u0438\\u0442\\u0430\\u0442\\u044c\",\"\\u043d\\u0430\\u043f\\u0438\\u0441\\u0430\\u0442\\u044c\",\"\\u0440\\u043e\\u0436\\u0434\\u0435\\u043d\\u0438\\u044f\",\"\\u0437\\u0434\\u0435\\u0441\\u044c\",\"\\u043c\\u043e\\u0435\",\"\\u0445\\u043e\\u0442\\u0435\\u043b\",\"\\u0441\\u0442\\u0430\\u043b\\u043e\",\"\\u043c\\u043e\\u044e\",\"\\u0441\\u0438\\u0434\\u0435\\u0442\\u044c\",\"\\u0442\\u0430\\u043a\\u0438\\u0445\",\"\\u0440\\u0430\\u0431\\u043e\\u0442\\u0430\\u0435\\u0442\",\"\\u0421\\u0435\\u0439\\u0447\\u0430\\u0441\",\"\\u0441\\u0430\\u043c\\u043e\\u043c\",\"\\u0431\\u043e\\u043b\\u0435\\u0435\",\"\\u0435\\u0445\\u0430\\u0442\\u044c\",\"\\u0446\\u0435\\u043b\\u044b\\u0439\",\"\\u0442\\u0432\\u0438\\u0442\",\"\\u043f\\u0443\\u0441\\u0442\\u044c\",\"\\u043e\\u0431\\u0438\\u0434\\u043d\\u043e\",\"\\u0431\\u0443\\u0434\\u0435\\u0448\\u044c\",\"\\u0440\\u0430\\u0431\\u043e\\u0442\\u0435\",\"\\u0432\\u0441\\u044f\",\"\\u043d\\u0430\\u0434\",\"\\u0437\\u0430\\u0431\\u044b\\u043b\\u0430\",\"\\u0431\\u044b\\u0432\\u0430\\u0435\\u0442\",\"\\u0434\\u043d\\u0435\\u043c\",\"\\u0427\\u0422\\u041e\",\"\\u0441\\u0432\\u043e\\u0438\\u0445\",\"\\u041a\",\"\\u043e\\u0434\\u043d\\u043e\\u0433\\u043e\",\"\\u0432\\u0438\\u0436\\u0443\",\"\\u0445\\u043e\\u0447\\u0435\\u0448\\u044c\",\"\\u043b\\u044e\\u0431\\u0438\\u043c\\u044b\\u0439\",\"\\u0440\\u0430\\u043d\\u043e\",\"\\u0445\\u0432\\u0430\\u0442\\u0430\\u0435\\u0442\",\"\\u043e\\u0441\\u043e\\u0431\\u0435\\u043d\\u043d\\u043e\",\"\\u0422\\u042b\",\"\\u0433\\u043b\\u0430\\u0437\\u0430\",\"\\u043f\\u043e\\u0448\\u043b\\u0430\",\"\\u0430\\u0436\",\"\\u0434\\u0440\\u0443\\u0433\\u043e\\u0439\",\"\\u043d\\u0435\\u043d\\u0430\\u0432\\u0438\\u0436\\u0443\",\"\\u043b\\u0438\\u0431\\u043e\",\"\\u0434\\u0430\\u043b\\u044c\\u0448\\u0435\",\"\\u0436\\u0434\\u0430\\u0442\\u044c\",\"\\u0434\\u0435\\u043d\\u044c\\u0433\\u0438\",\"\\u043e\\u0431\\u044b\\u0447\\u043d\\u043e\",\"\\u0434\\u0432\\u0435\",\"\\u0441\\u043d\\u0435\\u0433\\u0430\",\"\\u0442\\u0432\\u0438\"],\"shape\":[500],\"dtype\":\"object\",\"order\":\"little\"}]]}}},\"view\":{\"type\":\"object\",\"name\":\"CDSView\",\"id\":\"p1204\",\"attributes\":{\"filter\":{\"type\":\"object\",\"name\":\"AllIndices\",\"id\":\"p1205\"}}},\"glyph\":{\"type\":\"object\",\"name\":\"Scatter\",\"id\":\"p1200\",\"attributes\":{\"x\":{\"type\":\"field\",\"field\":\"d1\"},\"y\":{\"type\":\"field\",\"field\":\"d2\"},\"size\":{\"type\":\"value\",\"value\":8},\"fill_color\":{\"type\":\"field\",\"field\":\"cluster\",\"transform\":{\"type\":\"object\",\"name\":\"LinearColorMapper\",\"id\":\"p1193\",\"attributes\":{\"palette\":[\"#440154\",\"#440255\",\"#440357\",\"#450558\",\"#45065A\",\"#45085B\",\"#46095C\",\"#460B5E\",\"#460C5F\",\"#460E61\",\"#470F62\",\"#471163\",\"#471265\",\"#471466\",\"#471567\",\"#471669\",\"#47186A\",\"#48196B\",\"#481A6C\",\"#481C6E\",\"#481D6F\",\"#481E70\",\"#482071\",\"#482172\",\"#482273\",\"#482374\",\"#472575\",\"#472676\",\"#472777\",\"#472878\",\"#472A79\",\"#472B7A\",\"#472C7B\",\"#462D7C\",\"#462F7C\",\"#46307D\",\"#46317E\",\"#45327F\",\"#45347F\",\"#453580\",\"#453681\",\"#443781\",\"#443982\",\"#433A83\",\"#433B83\",\"#433C84\",\"#423D84\",\"#423E85\",\"#424085\",\"#414186\",\"#414286\",\"#404387\",\"#404487\",\"#3F4587\",\"#3F4788\",\"#3E4888\",\"#3E4989\",\"#3D4A89\",\"#3D4B89\",\"#3D4C89\",\"#3C4D8A\",\"#3C4E8A\",\"#3B508A\",\"#3B518A\",\"#3A528B\",\"#3A538B\",\"#39548B\",\"#39558B\",\"#38568B\",\"#38578C\",\"#37588C\",\"#37598C\",\"#365A8C\",\"#365B8C\",\"#355C8C\",\"#355D8C\",\"#345E8D\",\"#345F8D\",\"#33608D\",\"#33618D\",\"#32628D\",\"#32638D\",\"#31648D\",\"#31658D\",\"#31668D\",\"#30678D\",\"#30688D\",\"#2F698D\",\"#2F6A8D\",\"#2E6B8E\",\"#2E6C8E\",\"#2E6D8E\",\"#2D6E8E\",\"#2D6F8E\",\"#2C708E\",\"#2C718E\",\"#2C728E\",\"#2B738E\",\"#2B748E\",\"#2A758E\",\"#2A768E\",\"#2A778E\",\"#29788E\",\"#29798E\",\"#287A8E\",\"#287A8E\",\"#287B8E\",\"#277C8E\",\"#277D8E\",\"#277E8E\",\"#267F8E\",\"#26808E\",\"#26818E\",\"#25828E\",\"#25838D\",\"#24848D\",\"#24858D\",\"#24868D\",\"#23878D\",\"#23888D\",\"#23898D\",\"#22898D\",\"#228A8D\",\"#228B8D\",\"#218C8D\",\"#218D8C\",\"#218E8C\",\"#208F8C\",\"#20908C\",\"#20918C\",\"#1F928C\",\"#1F938B\",\"#1F948B\",\"#1F958B\",\"#1F968B\",\"#1E978A\",\"#1E988A\",\"#1E998A\",\"#1E998A\",\"#1E9A89\",\"#1E9B89\",\"#1E9C89\",\"#1E9D88\",\"#1E9E88\",\"#1E9F88\",\"#1EA087\",\"#1FA187\",\"#1FA286\",\"#1FA386\",\"#20A485\",\"#20A585\",\"#21A685\",\"#21A784\",\"#22A784\",\"#23A883\",\"#23A982\",\"#24AA82\",\"#25AB81\",\"#26AC81\",\"#27AD80\",\"#28AE7F\",\"#29AF7F\",\"#2AB07E\",\"#2BB17D\",\"#2CB17D\",\"#2EB27C\",\"#2FB37B\",\"#30B47A\",\"#32B57A\",\"#33B679\",\"#35B778\",\"#36B877\",\"#38B976\",\"#39B976\",\"#3BBA75\",\"#3DBB74\",\"#3EBC73\",\"#40BD72\",\"#42BE71\",\"#44BE70\",\"#45BF6F\",\"#47C06E\",\"#49C16D\",\"#4BC26C\",\"#4DC26B\",\"#4FC369\",\"#51C468\",\"#53C567\",\"#55C666\",\"#57C665\",\"#59C764\",\"#5BC862\",\"#5EC961\",\"#60C960\",\"#62CA5F\",\"#64CB5D\",\"#67CC5C\",\"#69CC5B\",\"#6BCD59\",\"#6DCE58\",\"#70CE56\",\"#72CF55\",\"#74D054\",\"#77D052\",\"#79D151\",\"#7CD24F\",\"#7ED24E\",\"#81D34C\",\"#83D34B\",\"#86D449\",\"#88D547\",\"#8BD546\",\"#8DD644\",\"#90D643\",\"#92D741\",\"#95D73F\",\"#97D83E\",\"#9AD83C\",\"#9DD93A\",\"#9FD938\",\"#A2DA37\",\"#A5DA35\",\"#A7DB33\",\"#AADB32\",\"#ADDC30\",\"#AFDC2E\",\"#B2DD2C\",\"#B5DD2B\",\"#B7DD29\",\"#BADE27\",\"#BDDE26\",\"#BFDF24\",\"#C2DF22\",\"#C5DF21\",\"#C7E01F\",\"#CAE01E\",\"#CDE01D\",\"#CFE11C\",\"#D2E11B\",\"#D4E11A\",\"#D7E219\",\"#DAE218\",\"#DCE218\",\"#DFE318\",\"#E1E318\",\"#E4E318\",\"#E7E419\",\"#E9E419\",\"#ECE41A\",\"#EEE51B\",\"#F1E51C\",\"#F3E51E\",\"#F6E61F\",\"#F8E621\",\"#FAE622\",\"#FDE724\"]}}}}},\"nonselection_glyph\":{\"type\":\"object\",\"name\":\"Scatter\",\"id\":\"p1201\",\"attributes\":{\"x\":{\"type\":\"field\",\"field\":\"d1\"},\"y\":{\"type\":\"field\",\"field\":\"d2\"},\"size\":{\"type\":\"value\",\"value\":8},\"line_alpha\":{\"type\":\"value\",\"value\":0.1},\"fill_color\":{\"type\":\"field\",\"field\":\"cluster\",\"transform\":{\"id\":\"p1193\"}},\"fill_alpha\":{\"type\":\"value\",\"value\":0.1},\"hatch_alpha\":{\"type\":\"value\",\"value\":0.1}}},\"muted_glyph\":{\"type\":\"object\",\"name\":\"Scatter\",\"id\":\"p1202\",\"attributes\":{\"x\":{\"type\":\"field\",\"field\":\"d1\"},\"y\":{\"type\":\"field\",\"field\":\"d2\"},\"size\":{\"type\":\"value\",\"value\":8},\"line_alpha\":{\"type\":\"value\",\"value\":0.2},\"fill_color\":{\"type\":\"field\",\"field\":\"cluster\",\"transform\":{\"id\":\"p1193\"}},\"fill_alpha\":{\"type\":\"value\",\"value\":0.2},\"hatch_alpha\":{\"type\":\"value\",\"value\":0.2}}}}}],\"toolbar\":{\"type\":\"object\",\"name\":\"Toolbar\",\"id\":\"p1160\",\"attributes\":{\"tools\":[{\"type\":\"object\",\"name\":\"PanTool\",\"id\":\"p1184\"},{\"type\":\"object\",\"name\":\"WheelZoomTool\",\"id\":\"p1185\"},{\"type\":\"object\",\"name\":\"ResetTool\",\"id\":\"p1186\"},{\"type\":\"object\",\"name\":\"SaveTool\",\"id\":\"p1187\"}]}},\"toolbar_location\":\"above\",\"left\":[{\"type\":\"object\",\"name\":\"LinearAxis\",\"id\":\"p1177\",\"attributes\":{\"ticker\":{\"type\":\"object\",\"name\":\"BasicTicker\",\"id\":\"p1180\",\"attributes\":{\"mantissas\":[1,2,5]}},\"formatter\":{\"type\":\"object\",\"name\":\"BasicTickFormatter\",\"id\":\"p1179\"},\"major_label_policy\":{\"type\":\"object\",\"name\":\"AllLabels\",\"id\":\"p1178\"}}}],\"below\":[{\"type\":\"object\",\"name\":\"LinearAxis\",\"id\":\"p1170\",\"attributes\":{\"ticker\":{\"type\":\"object\",\"name\":\"BasicTicker\",\"id\":\"p1173\",\"attributes\":{\"mantissas\":[1,2,5]}},\"formatter\":{\"type\":\"object\",\"name\":\"BasicTickFormatter\",\"id\":\"p1172\"},\"major_label_policy\":{\"type\":\"object\",\"name\":\"AllLabels\",\"id\":\"p1171\"}}}],\"center\":[{\"type\":\"object\",\"name\":\"Grid\",\"id\":\"p1176\",\"attributes\":{\"axis\":{\"id\":\"p1170\"}}},{\"type\":\"object\",\"name\":\"Grid\",\"id\":\"p1183\",\"attributes\":{\"dimension\":1,\"axis\":{\"id\":\"p1177\"}}},{\"type\":\"object\",\"name\":\"LabelSet\",\"id\":\"p1209\",\"attributes\":{\"source\":{\"type\":\"object\",\"name\":\"ColumnDataSource\",\"id\":\"p1206\",\"attributes\":{\"selected\":{\"type\":\"object\",\"name\":\"Selection\",\"id\":\"p1207\",\"attributes\":{\"indices\":[],\"line_indices\":[]}},\"selection_policy\":{\"type\":\"object\",\"name\":\"UnionRenderers\",\"id\":\"p1208\"},\"data\":{\"type\":\"map\",\"entries\":[[\"index\",{\"type\":\"ndarray\",\"array\":{\"type\":\"bytes\",\"data\":\"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\"},\"shape\":[500],\"dtype\":\"int32\",\"order\":\"little\"}],[\"d1\",{\"type\":\"ndarray\",\"array\":{\"type\":\"bytes\",\"data\":\"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\"},\"shape\":[500],\"dtype\":\"float32\",\"order\":\"little\"}],[\"d2\",{\"type\":\"ndarray\",\"array\":{\"type\":\"bytes\",\"data\":\"M8RwQHZjTUD67F5Af28Mv0YBpsD7dIBALumdQNvyT8B+r0BAI0WDQNo2p8AIySTA95WyQH3jS0A+7Bs/7YObwOLKxcCLBfJAw5OhQNKyQcA1HAjB/cVwQJgDAMAxgV5AFSFIwG5A479rAVlAW6uDQOjW+L9nsdS+/DogQJ+vFMBR8XPAoGEOQNs8OD8t5e491A6CQBiZH8BfvTdApGagQPR7G0CW3hjAaFySP2c4GsB9ZKpA4veIPy4DhUCnlQvBvtX5wGIBKEADLyPBnD4BwEryX0ALdAa/5J4VwPbtBcGqaHQ/87BTQEVCuD+UMYC/fG6GwHoGFUGEVFjA0kxiQCN5zD7QF65AvL+wP/xLD8AzoAbAaMFNQCJApb+iEEY9zFaQQAOGmECeiFDAEFWtQNRBjcCC03W/SYKIwIZFoMCtS7G/T5l5P3FsAMEYPQPA/TSGQBSzpb/1rbO/nCKPQJY7KUE7+iPB8nqyQBVDVkBpm7vAxlSRwJMxhz+KdyRBkuU+wW9f8UAIsSbAjOxAQWkrdMDxZCBAfPA3wIub4r8RIjtBq16gQGACC8GSm4TATd2NwEG63L+xs9DAItuwQAGLw8DMUEi/ycLJQEX9hECBzlVA1yUmQbNEEsCcqo1AGoWVvtlFKsCDt80/w3AEQT3RnsAMEyrBgz9zQciJhMGZuZjARpgJQLTzx0C1dgbBioUKwF5ItkB3GCNBRVPPv8LWIkFP73DAm8pzQdh4s0CtN0lAsp0EQbZzHUGVSubAdREoPyIbDkG7r6q/co9awKQ2zsAo10/BP2MCQU8v4r52yZrAlyvQQGPzFcH1mZS/C/C2QNYUEkFOrOVAsbzEwOglmL/pb99AnBtlwC/avkBX5ftAHNgBPze8kkA0Hus/qWu6QFqS37/B3R1A0AouwElTZkD3Hr88vxa8vzxIpMCRBiXByQXhPyRbfUDtXq9AWz2fwP9Ez0A7YHzAVNRZPoY3GkG1OzTAAxq4P+nIK0DNoYFAP9XZv2IbicCYZSfA8ouEwW2ZvT+lbnDBpFxqQF9TCsCoKTfBrJ0WwNHlmT1JGzXAyKx/P/aBw8CljwW/1DyCQYgVZ0FdyiPBg53KP+JZ+UCiQ4JB+6ESQRDF3MDPQY/AQBhywHDBVUAcQki/gkktwdMdF8HCjKLAipZcwOcjfMGuPK3AYaG5QBtmJ8DzHCnBR0owwQG6aL9CwIrAPVGnvsVgyEDwAnfBfF0twZkyhD/Ia/FAvL3pv/fPOcGOnpZA9eEVQeJF58D0BjnBQJlPwWvtFEB8rBRBXfkYQKANLL8oJ9DAlnaRvyy/NkCACC1Bep/XQBMxBkHpNvXA6rZ1wd2fC8G9pL3Adg8VwGjTT8HEi+LALBE1QKn/pr9N8irBFoMlwUz1C8Df5/lAOu0WQZqED8ASWxXAtGEeQAo2c8C4hwpAINlkPIhHl788Fw5BmLuEPqSZmL+nJCe+BirsPPUNjUC4eBW/zbfXQJ0crr05igxBrYecQJwSncBES77AF/2EwBOW9EB1oCRBOHpPwQUCKECMRFzA9/SIQGmG9z9h+LNABr39wE/6+0AD/h/B7H1CQVUAocBSUtRAgxuvP8bZt8BnFkpBC7R1QJTTE76coL0/MafRQFeDlr9TOWTApcAsQPQCOsAsDlJB1t6KPftIpT/skipBxZ2wP7YeIMGA7JzASnACweoBpb99m6dALi+jwCPI20CCjPDAzNK2QINXiEDwSlu/kworwXnyDMAi1eC/OU8EP4MIFUHifbjANQl3wW1Zgz8ZaAVBqCcovzFaA8Ahe5/AvwIKv/F2lcB79l3ARDuxQFAWd79NSeq//iH/wJPMOsEHzmBA5qXGQLHjoD/lWYc/0doswecJv8ADB5m9yZIvwQv4xkCT8SZANLT8PzmFNMBg0BlAIv1NQfUNgD+T9TTBr0vUQO674kDBJFXA8gl+wUd9SkF94jfAPwoEQXdBmkCrIRlBXKtQQP3qvEDmUUjBlmoYQQMfPMFDX9PARc8uv3UNxUCQ8n1AvSuQQHRbtL28hw0/N4TCvlWHEsAqvHtAETcUQJEDkUBZbX4/2w0lwQEcZ0FC3lfA30nNwOvNxMC3vSRAWFRQQXVd1MD8rh3BQylpwNDwD7/jPdrADzPBwIKETsCgEzBBwKIpwSuKAUCdIR/B7liZwAG0OMAeO2NAmPbJP/e+ez/KaldBYCiYwDMoqED5ok/B6wDlv2P2+z8BHMI/gQCIwBm1F8BTUh/B8g68PeZnK79CKkbAw+/4QMLfM0EagddAjG6+QL8Clb8Offs/5HR6v2LpPsHLxR/AfeJIwRyN677aEyFBfsR5PmtIK8G5gIE9ODdnwPPvJcHxMhw/SvHKQH8w0r/m5nDAv+Y6Qax8VMD58PbAErxpwCVAacAwURZARPmKv1xr48CC/jRAYy40QVfccD/jN1NACbGkQPSFq8By08q/5cZUQezJdD+GMZhAopDGQPFkvkD5KklArdIov7hAycA6EhlBPs43QVIvukA3yALBP1LSwKbPCcEAUYXAAZLCQKGIPMClo5E/aPIBwdQVAcF0HM9A/2T9P1w5rsCOmL0/UmsRwF4mBUA9utrAIAK8wMsNbkDImP3ARJspQeH/SD49fBxBfZsBQbAsdr8ps7FA3zD/wHyGvkA=\"},\"shape\":[500],\"dtype\":\"float32\",\"order\":\"little\"}],[\"cluster\",{\"type\":\"ndarray\",\"array\":[\"2\",\"0\",\"0\",\"3\",\"1\",\"0\",\"0\",\"1\",\"0\",\"0\",\"1\",\"4\",\"0\",\"0\",\"3\",\"5\",\"8\",\"0\",\"0\",\"1\",\"9\",\"3\",\"4\",\"2\",\"1\",\"1\",\"0\",\"0\",\"1\",\"3\",\"3\",\"1\",\"6\",\"3\",\"4\",\"3\",\"2\",\"3\",\"0\",\"2\",\"0\",\"4\",\"3\",\"3\",\"0\",\"3\",\"2\",\"6\",\"4\",\"0\",\"5\",\"1\",\"3\",\"1\",\"4\",\"9\",\"3\",\"0\",\"3\",\"3\",\"1\",\"0\",\"4\",\"2\",\"3\",\"2\",\"8\",\"1\",\"1\",\"0\",\"1\",\"4\",\"4\",\"0\",\"1\",\"0\",\"6\",\"1\",\"1\",\"5\",\"3\",\"4\",\"4\",\"1\",\"0\",\"1\",\"3\",\"2\",\"7\",\"6\",\"0\",\"0\",\"4\",\"6\",\"8\",\"2\",\"9\",\"0\",\"1\",\"2\",\"1\",\"3\",\"4\",\"1\",\"2\",\"2\",\"9\",\"1\",\"6\",\"1\",\"6\",\"7\",\"6\",\"3\",\"0\",\"0\",\"3\",\"0\",\"1\",\"4\",\"1\",\"3\",\"4\",\"0\",\"4\",\"5\",\"0\",\"9\",\"1\",\"0\",\"0\",\"9\",\"8\",\"2\",\"2\",\"1\",\"2\",\"1\",\"0\",\"2\",\"2\",\"2\",\"2\",\"1\",\"1\",\"0\",\"1\",\"6\",\"6\",\"6\",\"2\",\"8\",\"6\",\"7\",\"6\",\"1\",\"0\",\"0\",\"0\",\"5\",\"4\",\"0\",\"4\",\"2\",\"0\",\"3\",\"0\",\"3\",\"0\",\"1\",\"0\",\"4\",\"7\",\"4\",\"4\",\"1\",\"5\",\"3\",\"2\",\"0\",\"4\",\"4\",\"1\",\"1\",\"0\",\"4\",\"4\",\"3\",\"2\",\"1\",\"8\",\"3\",\"9\",\"4\",\"9\",\"3\",\"1\",\"5\",\"3\",\"1\",\"1\",\"3\",\"1\",\"4\",\"0\",\"0\",\"5\",\"3\",\"0\",\"0\",\"0\",\"1\",\"6\",\"6\",\"3\",\"1\",\"6\",\"6\",\"1\",\"6\",\"9\",\"8\",\"2\",\"1\",\"5\",\"5\",\"1\",\"1\",\"3\",\"7\",\"9\",\"5\",\"0\",\"0\",\"4\",\"9\",\"2\",\"0\",\"8\",\"6\",\"9\",\"3\",\"2\",\"0\",\"4\",\"6\",\"3\",\"2\",\"2\",\"4\",\"0\",\"5\",\"9\",\"9\",\"4\",\"1\",\"6\",\"5\",\"4\",\"1\",\"6\",\"5\",\"8\",\"0\",\"2\",\"1\",\"1\",\"7\",\"1\",\"7\",\"1\",\"1\",\"2\",\"3\",\"1\",\"1\",\"1\",\"3\",\"8\",\"2\",\"1\",\"2\",\"0\",\"8\",\"6\",\"8\",\"0\",\"2\",\"9\",\"7\",\"6\",\"3\",\"3\",\"0\",\"4\",\"2\",\"5\",\"2\",\"6\",\"4\",\"3\",\"4\",\"0\",\"7\",\"3\",\"4\",\"0\",\"8\",\"8\",\"0\",\"4\",\"0\",\"1\",\"8\",\"0\",\"8\",\"5\",\"6\",\"6\",\"1\",\"0\",\"1\",\"0\",\"4\",\"0\",\"3\",\"3\",\"5\",\"1\",\"1\",\"3\",\"2\",\"5\",\"9\",\"1\",\"2\",\"4\",\"4\",\"4\",\"1\",\"1\",\"8\",\"0\",\"1\",\"1\",\"1\",\"9\",\"7\",\"7\",\"1\",\"3\",\"5\",\"1\",\"1\",\"5\",\"2\",\"7\",\"0\",\"8\",\"3\",\"0\",\"1\",\"9\",\"4\",\"2\",\"1\",\"9\",\"0\",\"1\",\"0\",\"0\",\"7\",\"2\",\"2\",\"5\",\"0\",\"6\",\"6\",\"4\",\"7\",\"2\",\"0\",\"8\",\"3\",\"8\",\"1\",\"4\",\"0\",\"2\",\"1\",\"6\",\"0\",\"8\",\"6\",\"8\",\"7\",\"0\",\"8\",\"6\",\"1\",\"4\",\"1\",\"6\",\"8\",\"0\",\"5\",\"3\",\"9\",\"1\",\"8\",\"7\",\"4\",\"3\",\"2\",\"6\",\"0\",\"9\",\"3\",\"3\",\"0\",\"8\",\"8\",\"9\",\"1\",\"4\",\"8\",\"2\",\"0\",\"4\",\"7\",\"3\",\"3\",\"3\",\"9\",\"1\",\"5\",\"3\",\"0\",\"1\",\"5\",\"1\",\"1\",\"5\",\"1\",\"0\",\"1\",\"6\",\"2\",\"8\",\"6\",\"8\",\"8\",\"7\",\"3\",\"1\",\"4\",\"0\",\"1\",\"4\",\"7\",\"8\",\"3\",\"0\",\"0\",\"4\",\"0\",\"7\",\"2\",\"4\",\"8\",\"7\",\"0\",\"0\",\"9\",\"8\",\"5\",\"1\",\"7\",\"1\",\"4\",\"5\",\"6\",\"0\",\"4\",\"8\",\"3\",\"1\",\"4\",\"8\",\"5\",\"0\",\"5\",\"7\",\"4\",\"2\",\"7\",\"3\",\"7\",\"1\",\"7\"],\"shape\":[500],\"dtype\":\"object\",\"order\":\"little\"}],[\"names\",{\"type\":\"ndarray\",\"array\":[\"\\u043d\\u0435\",\"\\u0438\",\"\\u0432\",\"\\u044f\",\"RT\",\"\\u043d\\u0430\",\"\\u0447\\u0442\\u043e\",\"http://t\",\"\\u0430\",\"\\u0441\",\":(\",\"\\u043c\\u0435\\u043d\\u044f\",\"\\u0442\\u043e\",\"\\u043a\\u0430\\u043a\",\"\\u0443\",\":\",\")\",\"\\u044d\\u0442\\u043e\",\"\\u0442\\u0430\\u043a\",\"(\",\"\\u043c\\u043d\\u0435\",\"\\u0432\\u0441\\u0435\",\"\\u0442\\u044b\",\"\\u043d\\u043e\",\":)\",\"\\u042f\",\"\\u043f\\u043e\",\"\\u0437\\u0430\",\":D\",\"\\u0443\\u0436\\u0435\",\"\\u0436\\u0435\",\"\\u0410\",\"\\u043d\\u0443\",\"\\u0442\\u043e\\u043b\\u044c\\u043a\\u043e\",\"\\u0431\\u044b\",\"\\u0435\\u0449\\u0435\",\"\\u0434\\u0430\",\"\\u0432\\u043e\\u0442\",\"\\u043a\",\"\\u043a\\u043e\\u0433\\u0434\\u0430\",\"\\u0438\\u0437\",\"\\u0442\\u0435\\u0431\\u044f\",\"\\u043e\\u0447\\u0435\\u043d\\u044c\",\"\\u0441\\u0435\\u0433\\u043e\\u0434\\u043d\\u044f\",\"\\u043e\\u043d\",\"\\u043f\\u0440\\u043e\\u0441\\u0442\\u043e\",\"\\u043d\\u0435\\u0442\",\"\\u0445\\u043e\\u0447\\u0443\",\"\\u0431\\u0443\\u0434\\u0435\\u0442\",\"\\u043e\\u0442\",\"\\u0434\\u0435\\u043d\\u044c\",\"\\u0418\",\"\\u043c\\u044b\",\"co/\",\"\\u0442\\u0435\\u0431\\u0435\",\"\\u0431\\u044b\\u043b\\u043e\",\"\\u0442\\u043e\\u0436\\u0435\",\"\\u0434\\u043e\",\"\\u0434\\u0430\\u0436\\u0435\",\"\\u0442\\u0430\\u043c\",\"((\",\"\\u0435\\u0433\\u043e\",\"\\u043d\\u0430\\u0434\\u043e\",\"\\u0442\\u0435\\u043f\\u0435\\u0440\\u044c\",\"\\u0432\\u043e\\u043e\\u0431\\u0449\\u0435\",\"\\u0435\\u0441\\u043b\\u0438\",\"\\u043e\",\"\\u0412\",\"\\u0432\\u0441\",\"\\u0434\\u043b\\u044f\",\"))\",\"\\u043a\\u0442\\u043e\",\"\\u0435\\u0441\\u0442\\u044c\",\"\\u043d\\u0430\\u0441\",\"\\u041d\\u0435\",\"\\u043e\\u043d\\u0430\",\"\\u0437\\u0430\\u0432\\u0442\\u0440\\u0430\",\"\\u041d\\u0443\",\"(((\",\"\\u041a\\u0430\\u043a\",\"\\u0441\\u0435\\u0439\\u0447\\u0430\\u0441\",\"\\u043c\\u043e\\u0433\\u0443\",\"\\u0431\\u0443\\u0434\\u0443\",\"\\u0423\",\"\\u0431\\u0435\\u0437\",\")))\",\"\\u0442\\u0443\\u0442\",\"\\u0440\\u0430\\u0437\",\"\\u0438\\u043b\\u0438\",\"\\u0437\\u043d\\u0430\\u044e\",\"\\u043e\\u043d\\u0438\",\"\\u0441\\u043e\",\"\\u043f\\u043e\\u0447\\u0435\\u043c\\u0443\",\"\\u043d\\u0438\\u0447\\u0435\\u0433\\u043e\",\"\\u043f\\u0440\\u043e\",\"\\u0431\\u043e\\u043b\\u044c\\u0448\\u0435\",\"\\u043b\\u044e\\u0431\\u043b\\u044e\",\"\\u0432\\u044b\",\"\\u041d\\u043e\",\"\\u0447\\u0435\\u043c\",\"\\u0412\\u043e\\u0442\",\"\\u0432\\u0441\\u0435\\u0433\\u0434\\u0430\",\"\\u043c\\u043e\\u0436\\u043d\\u043e\",\"!\",\"\\u043c\\u043e\\u0439\",\"\\u043f\\u043e\\u0442\\u043e\\u043c\",\"\\u0431\\u044b\\u043b\",\"\\u0435\\u0449\",\"\\u0431\\u043b\\u0438\\u043d\",\"\\u0421\",\"\\u042d\\u0442\\u043e\",\"\\u0438\\u0445\",\"\\u043c\\u043e\\u0436\\u0435\\u0442\",\"\\u0433\\u0434\\u0435\",\"\\u0442\\u0430\\u043a\\u043e\\u0439\",\"\\u0447\\u0442\\u043e\\u0431\\u044b\",\"\\u0434\\u043e\\u043c\\u0430\",\"\\u0432\\u0440\\u0435\\u043c\\u044f\",\"/\",\"\\u0441\\u043f\\u0430\\u0442\\u044c\",\"\\u0442\",\"\\u0421\\u0435\\u0433\\u043e\\u0434\\u043d\\u044f\",\"\\u043d\\u0438\",\"\\u044d\\u0442\\u043e\\u0442\",\"\\u0445\\u043e\\u0440\\u043e\\u0448\\u043e\",\"\\u0433\\u043e\\u0434\",\"\\u0441\\u0435\\u0431\\u044f\",\"\\u0441\\u043f\\u0430\\u0441\\u0438\\u0431\\u043e\",\"\\u041c\\u043d\\u0435\",\"\\u0431\\u044b\\u0442\\u044c\",\"\\u043f\\u043e\\u0441\\u043b\\u0435\",\"\\u0431\\u044b\\u043b\\u0430\",\"\\u0434\\u0435\\u043b\\u0430\\u0442\\u044c\",\"\\u043e\\u043f\\u044f\\u0442\\u044c\",\"\\u043c\\u043d\\u043e\\u0433\\u043e\",\"\\u0412\\u0441\\u0435\",\"\\u0432\\u0441\\u0435\\u0445\",\"\\u041d\\u0430\",\"\\u0441\\u0435\\u0431\\u0435\",\"\\u043f\\u043e\\u043a\\u0430\",\"\\u0445\\u043e\\u0442\\u044c\",\"\\u043a\\u0430\\u043a\\u043e\\u0439\",\"\\u0432\\u0441\\u0435\\u043c\",\"\\u0432\\u0430\\u0441\",\"\\u043c\\u043e\\u044f\",\"\\u044d\\u0442\\u043e\\u0433\\u043e\",\"\\u0414\\u0430\",\"\\u0442\\u0430\\u043a\\u043e\\u0435\",\"\\u0427\\u0442\\u043e\",\"\\u0442\\u0430\\u043a\\u0430\\u044f\",\"\\u0442\\u0430\\u043a\\u0438\\u0435\",\"\\u0432\\u0441\\u0435\\u0433\\u043e\",\"\\u043b\\u0443\\u0447\\u0448\\u0435\",\"\\u043e\\u0434\\u0438\\u043d\",\"\\u0445\\u043e\\u0447\\u0435\\u0442\\u0441\\u044f\",\"\\u043c\",\"\\u0432\\u043e\",\"\\u0435\\u0435\",\"\\u043f\\u043e\\u0434\",\"\\u0422\\u0430\\u043a\",\"\\u043d\\u0438\\u0431\\u0443\\u0434\\u044c\",\"\\u043d\\u043e\\u0432\\u044b\\u0439\",\"\\u043d\\u0443\\u0436\\u043d\\u043e\",\"\\u043b\\u0438\",\"\\u044d\\u0442\\u043e\\u043c\",\"\\u0441\\u043e\\u0432\\u0441\\u0435\\u043c\",\"\\u043d\\u0430\\u043c\",\"\\u043f\\u043e\\u0442\\u043e\\u043c\\u0443\",\"\\u0442\\u043e\\u0433\\u043e\",\"D\",\"\\u0447\\u0435\\u0440\\u0435\\u0437\",\"\\u0447\\u0435\\u0433\\u043e\",\"\\u043c\\u043e\\u0438\",\"\\u043a\\u043e\\u0433\\u043e\",\"\\u043d\\u0435\\u0433\\u043e\",\":((\",\"\\u0434\\u043d\\u044f\",\"\\u0432\\u0435\\u0434\\u044c\",\"\\u0441\\u043a\\u043e\\u0440\\u043e\",\"\\u0440\\u0430\\u0432\\u043d\\u043e\",\"\\u043f\\u043b\\u043e\\u0445\\u043e\",\"\\u0434\\u043e\\u043c\\u043e\\u0439\",\"\\u0422\\u044b\",\"\\u0436\",\"\\u043d\\u0430\\u0441\\u0442\\u0440\\u043e\\u0435\\u043d\\u0438\\u0435\",\"\\u0432\\u0430\\u043c\",\"\\u043d\\u0438\\u043a\\u0442\\u043e\",\"\\u043a\\u043e\\u043d\\u0435\\u0447\\u043d\\u043e\",\"\\u0442\\u043e\\u0433\\u0434\\u0430\",\"=(\",\"\\u041d\\u0415\",\"\\u0432\\u0447\\u0435\\u0440\\u0430\",\"\\u0421\\u043f\\u0430\\u0441\\u0438\\u0431\\u043e\",\"\\u043d\\u0438\\u043a\\u043e\\u0433\\u0434\\u0430\",\"\\u043b\\u044e\\u0434\\u0438\",\"\\u0432\\u0435\\u0441\\u044c\",\"\\u0415\\u0441\\u043b\\u0438\",\"\\u0443\\u0442\\u0440\\u0430\",\"\\u0442\\u0430\\u043a\\u0438\",\"\\u0435\",\"=)\",\"\\u0445\\u043e\\u0442\\u044f\",\"\\u0425\\u043e\\u0447\\u0443\",\"\\u043c\\u0430\\u043c\\u0430\",\"\\u0436\\u0438\\u0437\\u043d\\u044c\",\"\\u044d\\u0442\\u0438\",\"\\u0433\\u043e\\u0434\\u0430\",\"\\u0422\\u043e\\u043b\\u044c\\u043a\\u043e\",\"_\",\"\\u0436\\u0438\\u0437\\u043d\\u0438\",\"\\u043c\\u043d\\u043e\\u0439\",\"\\u043c\\u043e\\u0435\\u0439\",\"\\u0417\\u0430\\u0432\\u0442\\u0440\\u0430\",\"\\u0432\\u0440\\u043e\\u0434\\u0435\",\"\\u043e\\u0434\\u043d\\u0430\",\"\\u043e_\\u041e\",\"\\u0434\\u0443\\u043c\\u0430\\u044e\",\"\\u043a\\u0430\\u0436\\u0435\\u0442\\u0441\\u044f\",\"\\u0411\\u043b\\u0438\\u043d\",\"\\u0443\\u0436\",\"\\u0447\\u0435\\u043b\\u043e\\u0432\\u0435\\u043a\",\"\\u043d\\u0438\\u0445\",\"\\u0441\\u043d\\u043e\\u0432\\u0430\",\"gt\",\"\\u0447\\u0430\\u0441\\u0430\",\"\\u043b\\u0435\\u0442\",\"\\u043b\",\"((((\",\"\\u0422\\u0435\\u043f\\u0435\\u0440\\u044c\",\"\\u0434\\u0432\\u0430\",\"\\u0448\\u043a\\u043e\\u043b\\u0443\",\"\\u0443\\u0442\\u0440\\u043e\",\"\\u043f\\u043e\\u0447\\u0442\\u0438\",\"\\u043a\\u043e\\u0442\\u043e\\u0440\\u044b\\u0439\",\"\\u0435\\u043c\\u0443\",\"\\u0441\\u043c\\u043e\\u0442\\u0440\\u0435\\u0442\\u044c\",\"\\u0441\\u0440\\u0430\\u0437\\u0443\",\"\\u0442\\u043e\\u0431\\u043e\\u0439\",\"\\u043d\\u0440\\u0430\\u0432\\u0438\\u0442\\u0441\\u044f\",\"\\u043f\\u043e\\u043d\\u0438\\u043c\\u0430\\u044e\",\"\\u0430\\u0445\\u0430\\u0445\",\"\\u043f\\u0440\\u0430\\u0432\\u0434\\u0430\",\"\\u0447\\u0443\\u0442\\u044c\",\"\\u0438\\u0434\\u0442\\u0438\",\"\\u0436\\u0430\\u043b\\u044c\",\"\\u041a\\u0442\\u043e\",\"\\u0434\\u0430\\u0432\\u043d\\u043e\",\"\\u0442\\u043e\\u0447\\u043d\\u043e\",\"\\u0431\\u043e\\u043b\\u0438\\u0442\",\"\\u043a\\u0443\\u0434\\u0430\",\"\\u044d\\u0442\\u043e\\u0439\",\"\\u0441\\u0438\\u0436\\u0443\",\"\\u043b\\u044e\\u0434\\u0435\\u0439\",\"\\u0431\\u044b\\u043b\\u0438\",\"\\u041f\\u043e\\u0447\\u0435\\u043c\\u0443\",\"\\u041e\",\"\\u043a\\u0430\\u043a\\u0430\\u044f\",\"\\u0432\\u0441\\u044e\",\"\\u0445\\u043e\\u0442\\u0435\\u043b\\u0430\",\"\\u041a\\u043e\\u0433\\u0434\\u0430\",\"\\u0434\\u0443\\u043c\\u0430\\u043b\\u0430\",\"\\u043d\\u043e\\u0447\\u044c\",\"\\u0441\\u0434\\u0435\\u043b\\u0430\\u0442\\u044c\",\"\\u043a\\u043e\\u0442\\u043e\\u0440\\u044b\\u0435\",\"\\u0441\\u0438\\u043b\\u044c\\u043d\\u043e\",\"\\u041c\\u044b\",\"lt\",\"\\u0444\\u0438\\u043b\\u044c\\u043c\",\":))\",\"\\u0442\\u043e\\u043c\",\"\\u044d\\u0442\\u0443\",\"\\u0445\",\"\\u0441\\u0442\\u043e\\u043b\\u044c\\u043a\\u043e\",\"\\u043f\\u043e\\u0439\\u0434\\u0443\",\"\\u0447\",\"\\u0431\",\"\\u0441:\",\"\\u0441\\u0430\\u043c\\u0430\",\"\\u0447\\u0435\",\"\\u043a\\u043e\\u043c\\u0443\",\"\\u043d\\u0430\\u0434\\u0435\\u044e\\u0441\\u044c\",\"\\u0441\\u043a\\u043e\\u043b\\u044c\\u043a\\u043e\",\"\\u0441\\u0432\\u043e\\u0439\",\"\\u0443\\u043b\\u0438\\u0446\\u0435\",\"\\u0431\\u043b\\u044f\",\"\\u041e\\u0447\\u0435\\u043d\\u044c\",\"\\u041d\\u043e\\u0432\\u044b\\u0439\",\"\\u043c\\u0430\\u043b\\u043e\",\"\\u0430\\u0445\\u0430\\u0445\\u0430\",\"\\u0435\\u0439\",\"\\u043f\\u0440\\u044f\\u043c\",\"\\u043a\\u0430\\u0436\\u0434\\u044b\\u0439\",\"\\u0437\\u043d\\u0430\\u0447\\u0438\\u0442\",\"\\u043f\\u0435\\u0440\\u0435\\u0434\",\"\\u0431\\u0443\\u0434\\u0443\\u0442\",\"\\u0442\\u0430\",\"\\u043c\\u0438\\u043d\\u0443\\u0442\",\"\\u0442\\u0435\\u043c\",\"\\u0441\\u043a\\u0443\\u0447\\u0430\\u044e\",\"\\u0441\\u043a\\u0430\\u0437\\u0430\\u043b\\u0430\",\"\\u0438\\u0431\\u043e\",\"\\u0437\\u0430\\u0447\\u0435\\u043c\",\"\\u043f\\u0435\\u0440\\u0432\\u044b\\u0439\",\"\\u0441\\u0432\\u043e\\u044e\",\"\\u043d\\u0430\\u0432\\u0435\\u0440\\u043d\\u043e\\u0435\",\"\\u0440\\u0430\\u043d\\u044c\\u0448\\u0435\",\"\\u0442\\u043e\\u0442\",\"\\u0447\\u0442\\u043e\\u0431\",\"\\u043f\\u0438\\u0441\\u0430\\u0442\\u044c\",\"\\u0441\\u0430\\u043c\\u044b\\u0439\",\"\\u043d\\u0435\\u043b\\u044c\\u0437\\u044f\",\"\\u0441\\u0430\\u043c\\u043e\\u0435\",\"\\u043d\",\"\\u043e\\u0431\",\"\\u0432\\u0440\\u0435\\u043c\\u0435\\u043d\\u0438\",\"\\u044d\\u0442\\u0430\",\"\\u043d\\u043e\\u0447\\u0438\",\"\\u043b\\u0430\\u0434\\u043d\\u043e\",\"\\u0445\\u043e\\u0447\\u0435\\u0442\",\"))))\",\"\\u043f\\u0440\\u0438\",\":(((\",\"\\u043d\\u0435\\u0439\",\"\\u0431\\u0443\\u0434\\u0435\\u043c\",\"\\u0434\\u0440\\u0443\\u0433\",\"\\u0441\\u0430\\u043c\",\"\\u0434\\u043e\\u043b\\u0433\\u043e\",\"\\u0432\\u0435\\u0447\\u0435\\u0440\",\":DD\",\":|\",\"\\u043a\\u0441\\u0442\\u0430\\u0442\\u0438\",\"\\u043d\\u0435\\u043c\\u043d\\u043e\\u0433\\u043e\",\"\\u0449\\u0430\\u0441\",\"\\u0448\\u043a\\u043e\\u043b\\u0435\",\"\\u043a\\u0435\\u043c\",\"\\u043a\\u0430\\u043a\\u0438\\u0435\",\"\\u0442\\u0430\\u043a\\u043e\\u0433\\u043e\",\"\\u043a\\u0440\\u0443\\u0442\\u043e\",\"\\u043d\\u043e\\u0440\\u043c\\u0430\\u043b\\u044c\\u043d\\u043e\",\"\\u041e\\u043d\",\"\\u0432\\u043a\",\"\\u041d\\u0430\\u0434\\u043e\",\"\\u043e\\u043d\\u043e\",\"\\u0412\\u0441\\u0435\\u043c\",\"\\u0445)\",\"\\u0441\\u043d\\u0435\\u0433\",\"\\u043f\\u043e\\u0441\\u043c\\u043e\\u0442\\u0440\\u0435\\u0442\\u044c\",\"\\u043d\\u0438\\u043c\",\"\\u0442\\u0440\\u0438\",\"\\u0438\\u043c\",\"\\u0441\\u043b\\u0438\\u0448\\u043a\\u043e\\u043c\",\"\\u0433\\u043e\\u0434\\u0443\",\"\\u043d\\u0433\",\"\\u0439\",\"\\u0447\\u0430\\u0441\\u043e\\u0432\",\"\\u043d\\u0430\\u043a\\u043e\\u043d\\u0435\\u0446\",\"\\u0444\\u043e\\u0442\\u043e\",\"\\u0442\\u0435\\u043b\\u0435\\u0444\\u043e\\u043d\",\"\\u0441\\u043a\\u0430\\u0437\\u0430\\u0442\\u044c\",\"\\u0438\\u043c\\u0435\\u043d\\u043d\\u043e\",\"\\u0447\\u0443\\u0432\\u0441\\u0442\\u0432\\u043e\",\"\\u041f\\u043e\",\"\\u0441\\u043c\\u043e\\u0442\\u0440\\u044e\",\"\\u0441\\u043a\\u0430\\u0437\\u0430\\u043b\",\"\\u043a\\u043e\",\"\\u0412\\u044b\",\"\\u0447\\u0435\\u043b\\u043e\\u0432\\u0435\\u043a\\u0430\",\"\\u0432\\u0442\\u043e\\u0440\\u043e\\u0439\",\"\\u041d\\u0413\",\"\\u043e\\u0434\\u043d\\u043e\\u0439\",\"\\u0441\\u0432\\u043e\\u0435\\u0439\",\"\\u0440\\u0430\\u0431\\u043e\\u0442\\u0443\",\"\\u043d\\u0435\\u0435\",\"\\u043f\\u043e\\u0440\",\"\\u043d\\u0435\\u0434\\u0435\\u043b\\u044e\",\"\\u043d\\u0430\\u0441\\u0442\\u0440\\u043e\\u0435\\u043d\\u0438\\u044f\",\"\\u043f\\u043e\\u043d\\u044f\\u043b\\u0430\",\"\\u0434\\u0430\\u0432\\u0430\\u0439\",\"\\u0436\\u0430\\u043b\\u043a\\u043e\",\"\\u0441\\u0432\\u043e\\u0438\",\"\\u0431\\u044b\\u0441\\u0442\\u0440\\u043e\",\"\\u0432\\u043c\\u0435\\u0441\\u0442\\u0435\",\"\\u0436\\u0434\\u0443\",\"\\u0443\\u0436\\u0430\\u0441\\u043d\\u043e\",\"\\u043b\\u0438\\u0448\\u044c\",\"^_^\",\"\\u0436\\u0438\\u0442\\u044c\",\"\\u043f\\u0430\\u0440\\u0443\",\"\\u043e\\u0439\",\"\\u043d\\u043e\\u0440\\u043c\",\"\\u043f\\u043e\\u043c\\u043d\\u044e\",\"\\u044d\\u0442\\u0438\\u043c\",\"\\u0423\\u0436\\u0435\",\"\\u043f\\u0438\\u0437\\u0434\\u0435\\u0446\",\"\\u0415\\u0449\\u0435\",\"\\u0432\\u0438\\u0434\\u0435\\u043e\",\"\\u0447\\u0443\\u0432\\u0441\\u0442\\u0432\\u0443\\u044e\",\"\\u0437\\u043d\\u0430\\u0435\\u0448\\u044c\",\"\\u0437\\u043d\\u0430\\u0435\\u0442\",\":)))\",\"\\u043f\\u0440\\u0438\\u044f\\u0442\\u043d\\u043e\",\"\\u043c\\u043e\\u0435\\u0433\\u043e\",\"\\u0431\\u043b\\u044f\\u0442\\u044c\",\"\\u0433\\u043e\\u0432\\u043e\\u0440\\u0438\\u0442\",\"\\u043f\\u043e\\u0441\\u043b\\u0435\\u0434\\u043d\\u0438\\u0439\",\"\\u0447\\u0430\\u0441\",\"\\u0433\\u043b\\u0430\\u0432\\u043d\\u043e\\u0435\",\"\\u0441\\u0442\\u043e\\u0438\\u0442\",\"\\u0443\\u0440\\u043e\\u043a\\u0438\",\"\\u041c\\u0435\\u043d\\u044f\",\"\\u0441\\u0438\\u0445\",\"\\u043d\\u0438\\u043a\\u0430\\u043a\",\"\\u041f\\u0440\\u043e\\u0441\\u0442\\u043e\",\"\\u0440\\u044f\\u0434\\u043e\\u043c\",\"\\u0441\\u043a\\u0443\\u0447\\u043d\\u043e\",\"\\u043f\\u043e\\u043b\",\"\\u0430\\u0445\\u0430\\u0445\\u0430\\u0445\",\"\\u043f\\u0440\\u0438\\u0448\\u043b\\u0430\",\"\\u043f\\u043e\\u044d\\u0442\\u043e\\u043c\\u0443\",\"\\u0434\\u0435\\u043b\\u0430\",\"\\u041d\\u0435\\u0442\",\"\\u0414\\u043e\\u0431\\u0440\\u043e\\u0435\",\"\\u043d\\u0430\\u0439\\u0442\\u0438\",\"\\u0431\\u043e\\u044e\\u0441\\u044c\",\"\\u0438\\u043d\\u0442\\u0435\\u0440\\u0435\\u0441\\u043d\\u043e\",\"\\u0414\\u0430\\u0436\\u0435\",\"\\u0442\\u0435\",\"\\u043e\\u0441\\u0442\\u0430\\u043b\\u043e\\u0441\\u044c\",\"\\u0442\\u0443\\u0434\\u0430\",\"\\u0442\\u0432\\u0438\\u0442\\u0442\\u0435\\u0440\",\"\\u043d\\u0430\\u0437\\u0430\\u0434\",\"\\u0437\\u0430\\u0442\\u043e\",\"\\u0438\\u043d\\u043e\\u0433\\u0434\\u0430\",\"\\u041b\\u044e\\u0431\\u043b\\u044e\",\"amp\",\"\\u043d\\u0435\\u0434\\u0435\\u043b\\u0438\",\"\\u0440\\u0435\\u0430\\u043b\\u044c\\u043d\\u043e\",\"\\u043c\\u043e\\u043c\\u0435\\u043d\\u0442\",\"\\u0434\",\"\\u0443\\u0442\\u0440\\u043e\\u043c\",\"\\u0440\",\"\\u0417\\u0430\",\"\\u0434\\u043d\\u0435\\u0439\",\"\\u0432\\u0440\\u043e\\u043c\\u0430\\u0439\\u0434\\u0430\\u043d\",\"\\u0433\\u043e\\u043b\\u043e\\u0432\\u0430\",\"\\u0412\\u0441\",\"\\u0431\\u0443\\u0434\\u0442\\u043e\",\"\\u0442\\u0432\\u043e\\u0439\",\"\\u0433\\u043e\\u0432\\u043e\\u0440\\u044f\\u0442\",\"\\u043f\\u0440\\u0438\\u0432\\u0435\\u0442\",\"\\u0447\\u0438\\u0442\\u0430\\u0442\\u044c\",\"\\u043d\\u0430\\u043f\\u0438\\u0441\\u0430\\u0442\\u044c\",\"\\u0440\\u043e\\u0436\\u0434\\u0435\\u043d\\u0438\\u044f\",\"\\u0437\\u0434\\u0435\\u0441\\u044c\",\"\\u043c\\u043e\\u0435\",\"\\u0445\\u043e\\u0442\\u0435\\u043b\",\"\\u0441\\u0442\\u0430\\u043b\\u043e\",\"\\u043c\\u043e\\u044e\",\"\\u0441\\u0438\\u0434\\u0435\\u0442\\u044c\",\"\\u0442\\u0430\\u043a\\u0438\\u0445\",\"\\u0440\\u0430\\u0431\\u043e\\u0442\\u0430\\u0435\\u0442\",\"\\u0421\\u0435\\u0439\\u0447\\u0430\\u0441\",\"\\u0441\\u0430\\u043c\\u043e\\u043c\",\"\\u0431\\u043e\\u043b\\u0435\\u0435\",\"\\u0435\\u0445\\u0430\\u0442\\u044c\",\"\\u0446\\u0435\\u043b\\u044b\\u0439\",\"\\u0442\\u0432\\u0438\\u0442\",\"\\u043f\\u0443\\u0441\\u0442\\u044c\",\"\\u043e\\u0431\\u0438\\u0434\\u043d\\u043e\",\"\\u0431\\u0443\\u0434\\u0435\\u0448\\u044c\",\"\\u0440\\u0430\\u0431\\u043e\\u0442\\u0435\",\"\\u0432\\u0441\\u044f\",\"\\u043d\\u0430\\u0434\",\"\\u0437\\u0430\\u0431\\u044b\\u043b\\u0430\",\"\\u0431\\u044b\\u0432\\u0430\\u0435\\u0442\",\"\\u0434\\u043d\\u0435\\u043c\",\"\\u0427\\u0422\\u041e\",\"\\u0441\\u0432\\u043e\\u0438\\u0445\",\"\\u041a\",\"\\u043e\\u0434\\u043d\\u043e\\u0433\\u043e\",\"\\u0432\\u0438\\u0436\\u0443\",\"\\u0445\\u043e\\u0447\\u0435\\u0448\\u044c\",\"\\u043b\\u044e\\u0431\\u0438\\u043c\\u044b\\u0439\",\"\\u0440\\u0430\\u043d\\u043e\",\"\\u0445\\u0432\\u0430\\u0442\\u0430\\u0435\\u0442\",\"\\u043e\\u0441\\u043e\\u0431\\u0435\\u043d\\u043d\\u043e\",\"\\u0422\\u042b\",\"\\u0433\\u043b\\u0430\\u0437\\u0430\",\"\\u043f\\u043e\\u0448\\u043b\\u0430\",\"\\u0430\\u0436\",\"\\u0434\\u0440\\u0443\\u0433\\u043e\\u0439\",\"\\u043d\\u0435\\u043d\\u0430\\u0432\\u0438\\u0436\\u0443\",\"\\u043b\\u0438\\u0431\\u043e\",\"\\u0434\\u0430\\u043b\\u044c\\u0448\\u0435\",\"\\u0436\\u0434\\u0430\\u0442\\u044c\",\"\\u0434\\u0435\\u043d\\u044c\\u0433\\u0438\",\"\\u043e\\u0431\\u044b\\u0447\\u043d\\u043e\",\"\\u0434\\u0432\\u0435\",\"\\u0441\\u043d\\u0435\\u0433\\u0430\",\"\\u0442\\u0432\\u0438\"],\"shape\":[500],\"dtype\":\"object\",\"order\":\"little\"}]]}}},\"x\":{\"type\":\"field\",\"field\":\"d1\"},\"y\":{\"type\":\"field\",\"field\":\"d2\"},\"text\":{\"type\":\"field\",\"field\":\"names\"},\"y_offset\":{\"type\":\"value\",\"value\":6},\"text_color\":{\"type\":\"value\",\"value\":\"#555555\"},\"text_font_size\":{\"type\":\"value\",\"value\":\"8pt\"},\"text_align\":{\"type\":\"value\",\"value\":\"center\"}}}]}}],\"callbacks\":{\"type\":\"map\"}}};\n  const render_items = [{\"docid\":\"d4f24522-74ee-4652-947a-a81b4719bafe\",\"roots\":{\"p1152\":\"d78ff289-b1a3-4de0-8fc2-1e4a2854c413\"},\"root_ids\":[\"p1152\"]}];\n  root.Bokeh.embed.embed_items_notebook(docs_json, render_items);\n  }\n  if (root.Bokeh !== undefined) {\n    embed_document(root);\n  } else {\n    let attempts = 0;\n    const timer = setInterval(function(root) {\n      if (root.Bokeh !== undefined) {\n        clearInterval(timer);\n        embed_document(root);\n      } else {\n        attempts++;\n        if (attempts > 100) {\n          clearInterval(timer);\n          console.log(\"Bokeh: ERROR: Unable to run BokehJS code because BokehJS library is missing\");\n        }\n      }\n    }, 10, root)\n  }\n})(window);",
      "application/vnd.bokehjs_exec.v0+json": ""
     },
     "metadata": {
      "application/vnd.bokehjs_exec.v0+json": {
       "id": "p1152"
      }
     },
     "output_type": "display_data"
    }
   ],
   "source": [
    "visualise_clusters(top_words_vec)"
   ]
  }
 ],
 "metadata": {
  "kernelspec": {
   "display_name": "Python 3",
   "language": "python",
   "name": "python3"
  },
  "language_info": {
   "codemirror_mode": {
    "name": "ipython",
    "version": 3
   },
   "file_extension": ".py",
   "mimetype": "text/x-python",
   "name": "python",
   "nbconvert_exporter": "python",
   "pygments_lexer": "ipython3",
   "version": "3.10.4"
  },
  "papermill": {
   "default_parameters": {},
   "duration": 226.495679,
   "end_time": "2023-07-22T08:44:47.793890",
   "environment_variables": {},
   "exception": null,
   "input_path": "__notebook__.ipynb",
   "output_path": "__notebook__.ipynb",
   "parameters": {},
   "start_time": "2023-07-22T08:41:01.298211",
   "version": "2.4.0"
  }
 },
 "nbformat": 4,
 "nbformat_minor": 5
}
