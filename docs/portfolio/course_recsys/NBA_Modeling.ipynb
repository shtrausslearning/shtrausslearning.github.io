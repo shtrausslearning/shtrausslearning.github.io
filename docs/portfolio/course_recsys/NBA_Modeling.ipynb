{
 "cells": [
  {
   "metadata": {
    "id": "JxFGVKwVuD8F"
   },
   "cell_type": "markdown",
   "source": "\n## <b>Задача NBA</b>\n\n### <b><span style='color:#686dec'>Предсказание последующего действия</span></b>\n\n- Задачу NBA будем решать на синтетическом датасете.\n- В данных содержится информация о клиентах вымышленного интернет-магазина\n- Клиентам рекламировали\n\n    - Ноутбук (б/у, очень старый)\n    - Телефон\n    - Зарядное устройство\n\n### <b><span style='color:#686dec'>Что нам предстоит сделать</span></b>\n\n- Построить модель NBA как **композицию бинарный моделей** отклика и сравить лучшее предложение на основе вероятностей с лучшим предложением с учетом NPV продукта.\n- Те. мы будем строить модели которые будут предсказывать для одного товара, купил или не купил. Эти модели потом можно использовать для того чтобы понять что лучше предложить клиентам (как вариант новым) \n"
  },
  {
   "metadata": {},
   "cell_type": "markdown",
   "source": "### <b><span style='color:#686dec'>Калибровка Модели</span></b>\n\nЧто такое калибровка моделей:\n- В бустинге используется **псевдо вероятности на выходе**\n- Калибровка это процесс корректировки (преобразования) от псевдовероятностных значении так чтобы они соответсвовали истиным вероятностям событий\n- Делается это для того чтобы обеспечить точность предсказанных вероятновтей\n- напр. если модель предсказывает 0.8 для события то это событие должно происходить примерно 80% случаев\n- необходимо калибровать выход каждой модели\n\nТип Калибровок:\n\nВ библиотеке scikit-learn есть два подхода:\n\n- <b><span style='color:#686dec'>Изотаническая регрессий</span></b> (предпочтительнее)\n    - Упорядочивает предсказания модели и корректирует их так чтобы они лучше соответсвовали истинным вероятностям\n\n- <b><span style='color:#686dec'>Платт Калибровка</span></b>\n    - Использует логистическую регрессию для калибровки  выходных данных модели\n    - Преобразует оценки в вероятности используя сигмоидальную функцию\n"
  },
  {
   "metadata": {
    "id": "OpZudX6cuvf3"
   },
   "cell_type": "markdown",
   "source": "### <b><span style='color:#686dec'>Загрузка данных</span></b>\n\nЗагрузим и исследуем наши данные"
  },
  {
   "metadata": {
    "id": "arTSW8vomlGq",
    "trusted": false
   },
   "cell_type": "code",
   "source": "import pandas as pd\nimport numpy as np\nimport seaborn as sns\nimport random\nfrom matplotlib import pyplot as plt\nfrom sklearn.model_selection import train_test_split\nfrom sklearn.model_selection import GridSearchCV\n\nfrom sklearn.metrics import precision_score, recall_score, f1_score, roc_auc_score\nfrom sklearn.preprocessing import StandardScaler, OrdinalEncoder\nfrom sklearn.utils import shuffle\n\nimport warnings\nwarnings.filterwarnings(\"ignore\")\n\n# Установка настроек для отображения всех колонок и строк при печати\npd.set_option('display.max_columns', None)\n# pd.set_option('display.max_rows', None)\n\n# заранее установим в константу random_state\nrandom_state = 47\n\nsns.set(style=\"whitegrid\")",
   "execution_count": null,
   "outputs": []
  },
  {
   "metadata": {},
   "cell_type": "markdown",
   "source": "- На каждый товай одна выборка, загрузим и исследуем наши фичи. В каждой выборке у нас по 10000 записей (клиентов)\n- Можно выделить колонкy **Purchase Flag**, это у нас результат взаимодействий с клиетном, либо клиент купил товар (1) либо не купил (0)\n- Все остальные фичи как то характирезуют этого клиента"
  },
  {
   "metadata": {
    "colab": {
     "base_uri": "https://localhost:8080/",
     "height": 327
    },
    "id": "2xpQJk5QdDvC",
    "outputId": "584271de-9c35-4e82-fa13-8e16b05697b4",
    "trusted": false
   },
   "cell_type": "code",
   "source": "df_Laptop = pd.read_csv('synthetic_laptop_data.csv')\ndf_Charger = pd.read_csv('synthetic_charger_data.csv')\ndf_Phone = pd.read_csv('synthetic_mobile_phone_data.csv')\n\ndf = pd.concat([df_Laptop, df_Charger, df_Phone])\nprint(df.shape)\ndf.head()",
   "execution_count": null,
   "outputs": [
    {
     "name": "stdout",
     "output_type": "stream",
     "text": "(30000, 18)\n"
    },
    {
     "data": {
      "application/vnd.google.colaboratory.intrinsic+json": {
       "summary": "{\n  \"name\": \"df\",\n  \"rows\": 30000,\n  \"fields\": [\n    {\n      \"column\": \"Age\",\n      \"properties\": {\n        \"dtype\": \"number\",\n        \"std\": 14,\n        \"min\": 18,\n        \"max\": 69,\n        \"num_unique_values\": 52,\n        \"samples\": [\n          50,\n          51,\n          18\n        ],\n        \"semantic_type\": \"\",\n        \"description\": \"\"\n      }\n    },\n    {\n      \"column\": \"Gender\",\n      \"properties\": {\n        \"dtype\": \"category\",\n        \"num_unique_values\": 2,\n        \"samples\": [\n          \"Female\",\n          \"Male\"\n        ],\n        \"semantic_type\": \"\",\n        \"description\": \"\"\n      }\n    },\n    {\n      \"column\": \"Geography\",\n      \"properties\": {\n        \"dtype\": \"category\",\n        \"num_unique_values\": 5,\n        \"samples\": [\n          \"South America\",\n          \"Europe\"\n        ],\n        \"semantic_type\": \"\",\n        \"description\": \"\"\n      }\n    },\n    {\n      \"column\": \"PreviousPurchases\",\n      \"properties\": {\n        \"dtype\": \"number\",\n        \"std\": 2857.225890008794,\n        \"min\": 100.06506277625992,\n        \"max\": 9999.741289697942,\n        \"num_unique_values\": 20000,\n        \"samples\": [\n          8341.633875896045,\n          2739.7226651198807\n        ],\n        \"semantic_type\": \"\",\n        \"description\": \"\"\n      }\n    },\n    {\n      \"column\": \"Salary\",\n      \"properties\": {\n        \"dtype\": \"number\",\n        \"std\": 37481.34012383981,\n        \"min\": 20003.41145477148,\n        \"max\": 149986.95895929786,\n        \"num_unique_values\": 20000,\n        \"samples\": [\n          57834.145966846336,\n          124271.31600297683\n        ],\n        \"semantic_type\": \"\",\n        \"description\": \"\"\n      }\n    },\n    {\n      \"column\": \"NumChildren\",\n      \"properties\": {\n        \"dtype\": \"number\",\n        \"std\": 1,\n        \"min\": 0,\n        \"max\": 4,\n        \"num_unique_values\": 5,\n        \"samples\": [\n          3,\n          1\n        ],\n        \"semantic_type\": \"\",\n        \"description\": \"\"\n      }\n    },\n    {\n      \"column\": \"Product\",\n      \"properties\": {\n        \"dtype\": \"category\",\n        \"num_unique_values\": 3,\n        \"samples\": [\n          \"Laptop\",\n          \"Charger\"\n        ],\n        \"semantic_type\": \"\",\n        \"description\": \"\"\n      }\n    },\n    {\n      \"column\": \"EducationLevel\",\n      \"properties\": {\n        \"dtype\": \"category\",\n        \"num_unique_values\": 4,\n        \"samples\": [\n          \"Master\",\n          \"PhD\"\n        ],\n        \"semantic_type\": \"\",\n        \"description\": \"\"\n      }\n    },\n    {\n      \"column\": \"MaritalStatus\",\n      \"properties\": {\n        \"dtype\": \"category\",\n        \"num_unique_values\": 4,\n        \"samples\": [\n          \"Single\",\n          \"Married\"\n        ],\n        \"semantic_type\": \"\",\n        \"description\": \"\"\n      }\n    },\n    {\n      \"column\": \"EmploymentStatus\",\n      \"properties\": {\n        \"dtype\": \"category\",\n        \"num_unique_values\": 4,\n        \"samples\": [\n          \"Unemployed\",\n          \"Student\"\n        ],\n        \"semantic_type\": \"\",\n        \"description\": \"\"\n      }\n    },\n    {\n      \"column\": \"HousingStatus\",\n      \"properties\": {\n        \"dtype\": \"category\",\n        \"num_unique_values\": 3,\n        \"samples\": [\n          \"Rent\",\n          \"Own\"\n        ],\n        \"semantic_type\": \"\",\n        \"description\": \"\"\n      }\n    },\n    {\n      \"column\": \"CreditScore\",\n      \"properties\": {\n        \"dtype\": \"number\",\n        \"std\": 158,\n        \"min\": 300,\n        \"max\": 849,\n        \"num_unique_values\": 550,\n        \"samples\": [\n          753,\n          534\n        ],\n        \"semantic_type\": \"\",\n        \"description\": \"\"\n      }\n    },\n    {\n      \"column\": \"InternetUsage\",\n      \"properties\": {\n        \"dtype\": \"number\",\n        \"std\": 2.5836691123781566,\n        \"min\": 1.0025165396747222,\n        \"max\": 9.997331133876129,\n        \"num_unique_values\": 10000,\n        \"samples\": [\n          2.4767808335852792,\n          8.23756127403517\n        ],\n        \"semantic_type\": \"\",\n        \"description\": \"\"\n      }\n    },\n    {\n      \"column\": \"NumberOfCars\",\n      \"properties\": {\n        \"dtype\": \"number\",\n        \"std\": 0,\n        \"min\": 0,\n        \"max\": 2,\n        \"num_unique_values\": 3,\n        \"samples\": [\n          0,\n          1\n        ],\n        \"semantic_type\": \"\",\n        \"description\": \"\"\n      }\n    },\n    {\n      \"column\": \"HealthStatus\",\n      \"properties\": {\n        \"dtype\": \"category\",\n        \"num_unique_values\": 4,\n        \"samples\": [\n          \"Good\",\n          \"Poor\"\n        ],\n        \"semantic_type\": \"\",\n        \"description\": \"\"\n      }\n    },\n    {\n      \"column\": \"ShoppingFrequency\",\n      \"properties\": {\n        \"dtype\": \"number\",\n        \"std\": 5,\n        \"min\": 1,\n        \"max\": 19,\n        \"num_unique_values\": 19,\n        \"samples\": [\n          6,\n          9\n        ],\n        \"semantic_type\": \"\",\n        \"description\": \"\"\n      }\n    },\n    {\n      \"column\": \"MembershipDuration\",\n      \"properties\": {\n        \"dtype\": \"number\",\n        \"std\": 5,\n        \"min\": 1,\n        \"max\": 19,\n        \"num_unique_values\": 19,\n        \"samples\": [\n          9,\n          13\n        ],\n        \"semantic_type\": \"\",\n        \"description\": \"\"\n      }\n    },\n    {\n      \"column\": \"PurchaseFlag\",\n      \"properties\": {\n        \"dtype\": \"number\",\n        \"std\": 0,\n        \"min\": 0,\n        \"max\": 1,\n        \"num_unique_values\": 2,\n        \"samples\": [\n          0,\n          1\n        ],\n        \"semantic_type\": \"\",\n        \"description\": \"\"\n      }\n    }\n  ]\n}",
       "type": "dataframe",
       "variable_name": "df"
      },
      "text/html": "\n  <div id=\"df-fba2cee6-7ec3-4f0a-babf-3fd17eaf7cf5\" class=\"colab-df-container\">\n    <div>\n<style scoped>\n    .dataframe tbody tr th:only-of-type {\n        vertical-align: middle;\n    }\n\n    .dataframe tbody tr th {\n        vertical-align: top;\n    }\n\n    .dataframe thead th {\n        text-align: right;\n    }\n</style>\n<table border=\"1\" class=\"dataframe\">\n  <thead>\n    <tr style=\"text-align: right;\">\n      <th></th>\n      <th>Age</th>\n      <th>Gender</th>\n      <th>Geography</th>\n      <th>PreviousPurchases</th>\n      <th>Salary</th>\n      <th>NumChildren</th>\n      <th>Product</th>\n      <th>EducationLevel</th>\n      <th>MaritalStatus</th>\n      <th>EmploymentStatus</th>\n      <th>HousingStatus</th>\n      <th>CreditScore</th>\n      <th>InternetUsage</th>\n      <th>NumberOfCars</th>\n      <th>HealthStatus</th>\n      <th>ShoppingFrequency</th>\n      <th>MembershipDuration</th>\n      <th>PurchaseFlag</th>\n    </tr>\n  </thead>\n  <tbody>\n    <tr>\n      <th>0</th>\n      <td>56</td>\n      <td>Male</td>\n      <td>North America</td>\n      <td>8386.985501</td>\n      <td>42217.503431</td>\n      <td>4</td>\n      <td>Laptop</td>\n      <td>Bachelor</td>\n      <td>Divorced</td>\n      <td>Employed</td>\n      <td>Rent</td>\n      <td>754</td>\n      <td>1.545836</td>\n      <td>0</td>\n      <td>Fair</td>\n      <td>6</td>\n      <td>9</td>\n      <td>1</td>\n    </tr>\n    <tr>\n      <th>1</th>\n      <td>69</td>\n      <td>Female</td>\n      <td>South America</td>\n      <td>7391.924025</td>\n      <td>44369.165492</td>\n      <td>3</td>\n      <td>Laptop</td>\n      <td>Master</td>\n      <td>Single</td>\n      <td>Employed</td>\n      <td>Own</td>\n      <td>745</td>\n      <td>8.005712</td>\n      <td>0</td>\n      <td>Good</td>\n      <td>1</td>\n      <td>3</td>\n      <td>1</td>\n    </tr>\n    <tr>\n      <th>2</th>\n      <td>46</td>\n      <td>Female</td>\n      <td>South America</td>\n      <td>7951.832329</td>\n      <td>85406.301432</td>\n      <td>3</td>\n      <td>Laptop</td>\n      <td>High School</td>\n      <td>Widowed</td>\n      <td>Unemployed</td>\n      <td>Own</td>\n      <td>552</td>\n      <td>8.154606</td>\n      <td>1</td>\n      <td>Fair</td>\n      <td>5</td>\n      <td>9</td>\n      <td>0</td>\n    </tr>\n    <tr>\n      <th>3</th>\n      <td>32</td>\n      <td>Female</td>\n      <td>Africa</td>\n      <td>2284.841225</td>\n      <td>116197.240945</td>\n      <td>4</td>\n      <td>Laptop</td>\n      <td>PhD</td>\n      <td>Widowed</td>\n      <td>Retired</td>\n      <td>Living with Parents</td>\n      <td>458</td>\n      <td>1.938812</td>\n      <td>1</td>\n      <td>Fair</td>\n      <td>17</td>\n      <td>2</td>\n      <td>1</td>\n    </tr>\n    <tr>\n      <th>4</th>\n      <td>60</td>\n      <td>Male</td>\n      <td>Asia</td>\n      <td>6520.780649</td>\n      <td>55461.014410</td>\n      <td>0</td>\n      <td>Laptop</td>\n      <td>High School</td>\n      <td>Married</td>\n      <td>Employed</td>\n      <td>Living with Parents</td>\n      <td>434</td>\n      <td>7.656888</td>\n      <td>0</td>\n      <td>Fair</td>\n      <td>10</td>\n      <td>15</td>\n      <td>0</td>\n    </tr>\n  </tbody>\n</table>\n</div>\n    <div class=\"colab-df-buttons\">\n\n  <div class=\"colab-df-container\">\n    <button class=\"colab-df-convert\" onclick=\"convertToInteractive('df-fba2cee6-7ec3-4f0a-babf-3fd17eaf7cf5')\"\n            title=\"Convert this dataframe to an interactive table.\"\n            style=\"display:none;\">\n\n  <svg xmlns=\"http://www.w3.org/2000/svg\" height=\"24px\" viewBox=\"0 -960 960 960\">\n    <path d=\"M120-120v-720h720v720H120Zm60-500h600v-160H180v160Zm220 220h160v-160H400v160Zm0 220h160v-160H400v160ZM180-400h160v-160H180v160Zm440 0h160v-160H620v160ZM180-180h160v-160H180v160Zm440 0h160v-160H620v160Z\"/>\n  </svg>\n    </button>\n\n  <style>\n    .colab-df-container {\n      display:flex;\n      gap: 12px;\n    }\n\n    .colab-df-convert {\n      background-color: #E8F0FE;\n      border: none;\n      border-radius: 50%;\n      cursor: pointer;\n      display: none;\n      fill: #1967D2;\n      height: 32px;\n      padding: 0 0 0 0;\n      width: 32px;\n    }\n\n    .colab-df-convert:hover {\n      background-color: #E2EBFA;\n      box-shadow: 0px 1px 2px rgba(60, 64, 67, 0.3), 0px 1px 3px 1px rgba(60, 64, 67, 0.15);\n      fill: #174EA6;\n    }\n\n    .colab-df-buttons div {\n      margin-bottom: 4px;\n    }\n\n    [theme=dark] .colab-df-convert {\n      background-color: #3B4455;\n      fill: #D2E3FC;\n    }\n\n    [theme=dark] .colab-df-convert:hover {\n      background-color: #434B5C;\n      box-shadow: 0px 1px 3px 1px rgba(0, 0, 0, 0.15);\n      filter: drop-shadow(0px 1px 2px rgba(0, 0, 0, 0.3));\n      fill: #FFFFFF;\n    }\n  </style>\n\n    <script>\n      const buttonEl =\n        document.querySelector('#df-fba2cee6-7ec3-4f0a-babf-3fd17eaf7cf5 button.colab-df-convert');\n      buttonEl.style.display =\n        google.colab.kernel.accessAllowed ? 'block' : 'none';\n\n      async function convertToInteractive(key) {\n        const element = document.querySelector('#df-fba2cee6-7ec3-4f0a-babf-3fd17eaf7cf5');\n        const dataTable =\n          await google.colab.kernel.invokeFunction('convertToInteractive',\n                                                    [key], {});\n        if (!dataTable) return;\n\n        const docLinkHtml = 'Like what you see? Visit the ' +\n          '<a target=\"_blank\" href=https://colab.research.google.com/notebooks/data_table.ipynb>data table notebook</a>'\n          + ' to learn more about interactive tables.';\n        element.innerHTML = '';\n        dataTable['output_type'] = 'display_data';\n        await google.colab.output.renderOutput(dataTable, element);\n        const docLink = document.createElement('div');\n        docLink.innerHTML = docLinkHtml;\n        element.appendChild(docLink);\n      }\n    </script>\n  </div>\n\n\n<div id=\"df-05a81f62-5dbf-4d83-86b6-be0344ff597c\">\n  <button class=\"colab-df-quickchart\" onclick=\"quickchart('df-05a81f62-5dbf-4d83-86b6-be0344ff597c')\"\n            title=\"Suggest charts\"\n            style=\"display:none;\">\n\n<svg xmlns=\"http://www.w3.org/2000/svg\" height=\"24px\"viewBox=\"0 0 24 24\"\n     width=\"24px\">\n    <g>\n        <path d=\"M19 3H5c-1.1 0-2 .9-2 2v14c0 1.1.9 2 2 2h14c1.1 0 2-.9 2-2V5c0-1.1-.9-2-2-2zM9 17H7v-7h2v7zm4 0h-2V7h2v10zm4 0h-2v-4h2v4z\"/>\n    </g>\n</svg>\n  </button>\n\n<style>\n  .colab-df-quickchart {\n      --bg-color: #E8F0FE;\n      --fill-color: #1967D2;\n      --hover-bg-color: #E2EBFA;\n      --hover-fill-color: #174EA6;\n      --disabled-fill-color: #AAA;\n      --disabled-bg-color: #DDD;\n  }\n\n  [theme=dark] .colab-df-quickchart {\n      --bg-color: #3B4455;\n      --fill-color: #D2E3FC;\n      --hover-bg-color: #434B5C;\n      --hover-fill-color: #FFFFFF;\n      --disabled-bg-color: #3B4455;\n      --disabled-fill-color: #666;\n  }\n\n  .colab-df-quickchart {\n    background-color: var(--bg-color);\n    border: none;\n    border-radius: 50%;\n    cursor: pointer;\n    display: none;\n    fill: var(--fill-color);\n    height: 32px;\n    padding: 0;\n    width: 32px;\n  }\n\n  .colab-df-quickchart:hover {\n    background-color: var(--hover-bg-color);\n    box-shadow: 0 1px 2px rgba(60, 64, 67, 0.3), 0 1px 3px 1px rgba(60, 64, 67, 0.15);\n    fill: var(--button-hover-fill-color);\n  }\n\n  .colab-df-quickchart-complete:disabled,\n  .colab-df-quickchart-complete:disabled:hover {\n    background-color: var(--disabled-bg-color);\n    fill: var(--disabled-fill-color);\n    box-shadow: none;\n  }\n\n  .colab-df-spinner {\n    border: 2px solid var(--fill-color);\n    border-color: transparent;\n    border-bottom-color: var(--fill-color);\n    animation:\n      spin 1s steps(1) infinite;\n  }\n\n  @keyframes spin {\n    0% {\n      border-color: transparent;\n      border-bottom-color: var(--fill-color);\n      border-left-color: var(--fill-color);\n    }\n    20% {\n      border-color: transparent;\n      border-left-color: var(--fill-color);\n      border-top-color: var(--fill-color);\n    }\n    30% {\n      border-color: transparent;\n      border-left-color: var(--fill-color);\n      border-top-color: var(--fill-color);\n      border-right-color: var(--fill-color);\n    }\n    40% {\n      border-color: transparent;\n      border-right-color: var(--fill-color);\n      border-top-color: var(--fill-color);\n    }\n    60% {\n      border-color: transparent;\n      border-right-color: var(--fill-color);\n    }\n    80% {\n      border-color: transparent;\n      border-right-color: var(--fill-color);\n      border-bottom-color: var(--fill-color);\n    }\n    90% {\n      border-color: transparent;\n      border-bottom-color: var(--fill-color);\n    }\n  }\n</style>\n\n  <script>\n    async function quickchart(key) {\n      const quickchartButtonEl =\n        document.querySelector('#' + key + ' button');\n      quickchartButtonEl.disabled = true;  // To prevent multiple clicks.\n      quickchartButtonEl.classList.add('colab-df-spinner');\n      try {\n        const charts = await google.colab.kernel.invokeFunction(\n            'suggestCharts', [key], {});\n      } catch (error) {\n        console.error('Error during call to suggestCharts:', error);\n      }\n      quickchartButtonEl.classList.remove('colab-df-spinner');\n      quickchartButtonEl.classList.add('colab-df-quickchart-complete');\n    }\n    (() => {\n      let quickchartButtonEl =\n        document.querySelector('#df-05a81f62-5dbf-4d83-86b6-be0344ff597c button');\n      quickchartButtonEl.style.display =\n        google.colab.kernel.accessAllowed ? 'block' : 'none';\n    })();\n  </script>\n</div>\n    </div>\n  </div>\n",
      "text/plain": "   Age  Gender      Geography  PreviousPurchases         Salary  NumChildren  \\\n0   56    Male  North America        8386.985501   42217.503431            4   \n1   69  Female  South America        7391.924025   44369.165492            3   \n2   46  Female  South America        7951.832329   85406.301432            3   \n3   32  Female         Africa        2284.841225  116197.240945            4   \n4   60    Male           Asia        6520.780649   55461.014410            0   \n\n  Product EducationLevel MaritalStatus EmploymentStatus        HousingStatus  \\\n0  Laptop       Bachelor      Divorced         Employed                 Rent   \n1  Laptop         Master        Single         Employed                  Own   \n2  Laptop    High School       Widowed       Unemployed                  Own   \n3  Laptop            PhD       Widowed          Retired  Living with Parents   \n4  Laptop    High School       Married         Employed  Living with Parents   \n\n   CreditScore  InternetUsage  NumberOfCars HealthStatus  ShoppingFrequency  \\\n0          754       1.545836             0         Fair                  6   \n1          745       8.005712             0         Good                  1   \n2          552       8.154606             1         Fair                  5   \n3          458       1.938812             1         Fair                 17   \n4          434       7.656888             0         Fair                 10   \n\n   MembershipDuration  PurchaseFlag  \n0                   9             1  \n1                   3             1  \n2                   9             0  \n3                   2             1  \n4                  15             0  "
     },
     "execution_count": 4,
     "metadata": {},
     "output_type": "execute_result"
    }
   ]
  },
  {
   "metadata": {
    "id": "cpeJZByMbo2f"
   },
   "cell_type": "markdown",
   "source": "### <b><span style='color:#686dec'>Описание Фич</span></b>\n\nОписание фичей:\n\n- **Age**: Возраст клиента\n- **Gender**: Пол клиента\n- **Geography**: Регион проживания клиента\n- **PreviousPurchases**: Сумма предыдущих покупок клиента в валюте\n- **Salary**: Годовая зарплата клиента в валюте\n- **NumChildren**: Количество детей у клиента\n- **EducationLevel**: Уровень образования клиента\n- **MaritalStatus**: Семейное положение клиента\n- **EmploymentStatus**: Статус занятости клиента\n- **HousingStatus**: Жилищный статус клиента\n- **CreditScore**: Кредитный рейтинг клиента\n- **InternetUsage**: Время, проведенное в интернете, в часах в день\n- **NumberOfCars**: Количество автомобилей у клиента\n- **HealthStatus**: Состояние здоровья клиента\n- **ShoppingFrequency**: Частота покупок клиента, количество покупок в месяц\n- **MembershipDuration**: Длительность членства клиента в годах\n- **Product** : Продукт, который рассматривается для покупки\n- **PurchaseFlag** : Флаг покупки, указывает на то, совершил ли клиент покупку\n\nЭти фичи содержат демографические данные клиентов, а также их покупательские и финансовые характеристики, которые используются для **предсказания вероятности покупки продукта**"
  },
  {
   "metadata": {},
   "cell_type": "markdown",
   "source": "Посмотрим на распределение класса **PurchaseFlag**, и убедились что классы достаточно сбалансированы"
  },
  {
   "metadata": {
    "colab": {
     "base_uri": "https://localhost:8080/",
     "height": 266
    },
    "id": "kkxjfjvlzpwi",
    "outputId": "646f02a6-0e4b-49d0-a8e2-93e237764162",
    "trusted": false
   },
   "cell_type": "code",
   "source": "df.groupby(['Product', 'PurchaseFlag']).agg({'Gender': 'count'})",
   "execution_count": null,
   "outputs": [
    {
     "data": {
      "application/vnd.google.colaboratory.intrinsic+json": {
       "summary": "{\n  \"name\": \"df\",\n  \"rows\": 6,\n  \"fields\": [\n    {\n      \"column\": \"Gender\",\n      \"properties\": {\n        \"dtype\": \"number\",\n        \"std\": 1008,\n        \"min\": 3459,\n        \"max\": 6541,\n        \"num_unique_values\": 6,\n        \"samples\": [\n          6541,\n          3459,\n          4951\n        ],\n        \"semantic_type\": \"\",\n        \"description\": \"\"\n      }\n    }\n  ]\n}",
       "type": "dataframe"
      },
      "text/html": "\n  <div id=\"df-3667e01b-203a-453d-b72c-012ad0d4a604\" class=\"colab-df-container\">\n    <div>\n<style scoped>\n    .dataframe tbody tr th:only-of-type {\n        vertical-align: middle;\n    }\n\n    .dataframe tbody tr th {\n        vertical-align: top;\n    }\n\n    .dataframe thead th {\n        text-align: right;\n    }\n</style>\n<table border=\"1\" class=\"dataframe\">\n  <thead>\n    <tr style=\"text-align: right;\">\n      <th></th>\n      <th></th>\n      <th>Gender</th>\n    </tr>\n    <tr>\n      <th>Product</th>\n      <th>PurchaseFlag</th>\n      <th></th>\n    </tr>\n  </thead>\n  <tbody>\n    <tr>\n      <th rowspan=\"2\" valign=\"top\">Charger</th>\n      <th>0</th>\n      <td>6541</td>\n    </tr>\n    <tr>\n      <th>1</th>\n      <td>3459</td>\n    </tr>\n    <tr>\n      <th rowspan=\"2\" valign=\"top\">Laptop</th>\n      <th>0</th>\n      <td>4594</td>\n    </tr>\n    <tr>\n      <th>1</th>\n      <td>5406</td>\n    </tr>\n    <tr>\n      <th rowspan=\"2\" valign=\"top\">Mobile Phone</th>\n      <th>0</th>\n      <td>5049</td>\n    </tr>\n    <tr>\n      <th>1</th>\n      <td>4951</td>\n    </tr>\n  </tbody>\n</table>\n</div>\n    <div class=\"colab-df-buttons\">\n\n  <div class=\"colab-df-container\">\n    <button class=\"colab-df-convert\" onclick=\"convertToInteractive('df-3667e01b-203a-453d-b72c-012ad0d4a604')\"\n            title=\"Convert this dataframe to an interactive table.\"\n            style=\"display:none;\">\n\n  <svg xmlns=\"http://www.w3.org/2000/svg\" height=\"24px\" viewBox=\"0 -960 960 960\">\n    <path d=\"M120-120v-720h720v720H120Zm60-500h600v-160H180v160Zm220 220h160v-160H400v160Zm0 220h160v-160H400v160ZM180-400h160v-160H180v160Zm440 0h160v-160H620v160ZM180-180h160v-160H180v160Zm440 0h160v-160H620v160Z\"/>\n  </svg>\n    </button>\n\n  <style>\n    .colab-df-container {\n      display:flex;\n      gap: 12px;\n    }\n\n    .colab-df-convert {\n      background-color: #E8F0FE;\n      border: none;\n      border-radius: 50%;\n      cursor: pointer;\n      display: none;\n      fill: #1967D2;\n      height: 32px;\n      padding: 0 0 0 0;\n      width: 32px;\n    }\n\n    .colab-df-convert:hover {\n      background-color: #E2EBFA;\n      box-shadow: 0px 1px 2px rgba(60, 64, 67, 0.3), 0px 1px 3px 1px rgba(60, 64, 67, 0.15);\n      fill: #174EA6;\n    }\n\n    .colab-df-buttons div {\n      margin-bottom: 4px;\n    }\n\n    [theme=dark] .colab-df-convert {\n      background-color: #3B4455;\n      fill: #D2E3FC;\n    }\n\n    [theme=dark] .colab-df-convert:hover {\n      background-color: #434B5C;\n      box-shadow: 0px 1px 3px 1px rgba(0, 0, 0, 0.15);\n      filter: drop-shadow(0px 1px 2px rgba(0, 0, 0, 0.3));\n      fill: #FFFFFF;\n    }\n  </style>\n\n    <script>\n      const buttonEl =\n        document.querySelector('#df-3667e01b-203a-453d-b72c-012ad0d4a604 button.colab-df-convert');\n      buttonEl.style.display =\n        google.colab.kernel.accessAllowed ? 'block' : 'none';\n\n      async function convertToInteractive(key) {\n        const element = document.querySelector('#df-3667e01b-203a-453d-b72c-012ad0d4a604');\n        const dataTable =\n          await google.colab.kernel.invokeFunction('convertToInteractive',\n                                                    [key], {});\n        if (!dataTable) return;\n\n        const docLinkHtml = 'Like what you see? Visit the ' +\n          '<a target=\"_blank\" href=https://colab.research.google.com/notebooks/data_table.ipynb>data table notebook</a>'\n          + ' to learn more about interactive tables.';\n        element.innerHTML = '';\n        dataTable['output_type'] = 'display_data';\n        await google.colab.output.renderOutput(dataTable, element);\n        const docLink = document.createElement('div');\n        docLink.innerHTML = docLinkHtml;\n        element.appendChild(docLink);\n      }\n    </script>\n  </div>\n\n\n<div id=\"df-7afb0cfa-6c2c-4480-8d45-a640b3a4f6e1\">\n  <button class=\"colab-df-quickchart\" onclick=\"quickchart('df-7afb0cfa-6c2c-4480-8d45-a640b3a4f6e1')\"\n            title=\"Suggest charts\"\n            style=\"display:none;\">\n\n<svg xmlns=\"http://www.w3.org/2000/svg\" height=\"24px\"viewBox=\"0 0 24 24\"\n     width=\"24px\">\n    <g>\n        <path d=\"M19 3H5c-1.1 0-2 .9-2 2v14c0 1.1.9 2 2 2h14c1.1 0 2-.9 2-2V5c0-1.1-.9-2-2-2zM9 17H7v-7h2v7zm4 0h-2V7h2v10zm4 0h-2v-4h2v4z\"/>\n    </g>\n</svg>\n  </button>\n\n<style>\n  .colab-df-quickchart {\n      --bg-color: #E8F0FE;\n      --fill-color: #1967D2;\n      --hover-bg-color: #E2EBFA;\n      --hover-fill-color: #174EA6;\n      --disabled-fill-color: #AAA;\n      --disabled-bg-color: #DDD;\n  }\n\n  [theme=dark] .colab-df-quickchart {\n      --bg-color: #3B4455;\n      --fill-color: #D2E3FC;\n      --hover-bg-color: #434B5C;\n      --hover-fill-color: #FFFFFF;\n      --disabled-bg-color: #3B4455;\n      --disabled-fill-color: #666;\n  }\n\n  .colab-df-quickchart {\n    background-color: var(--bg-color);\n    border: none;\n    border-radius: 50%;\n    cursor: pointer;\n    display: none;\n    fill: var(--fill-color);\n    height: 32px;\n    padding: 0;\n    width: 32px;\n  }\n\n  .colab-df-quickchart:hover {\n    background-color: var(--hover-bg-color);\n    box-shadow: 0 1px 2px rgba(60, 64, 67, 0.3), 0 1px 3px 1px rgba(60, 64, 67, 0.15);\n    fill: var(--button-hover-fill-color);\n  }\n\n  .colab-df-quickchart-complete:disabled,\n  .colab-df-quickchart-complete:disabled:hover {\n    background-color: var(--disabled-bg-color);\n    fill: var(--disabled-fill-color);\n    box-shadow: none;\n  }\n\n  .colab-df-spinner {\n    border: 2px solid var(--fill-color);\n    border-color: transparent;\n    border-bottom-color: var(--fill-color);\n    animation:\n      spin 1s steps(1) infinite;\n  }\n\n  @keyframes spin {\n    0% {\n      border-color: transparent;\n      border-bottom-color: var(--fill-color);\n      border-left-color: var(--fill-color);\n    }\n    20% {\n      border-color: transparent;\n      border-left-color: var(--fill-color);\n      border-top-color: var(--fill-color);\n    }\n    30% {\n      border-color: transparent;\n      border-left-color: var(--fill-color);\n      border-top-color: var(--fill-color);\n      border-right-color: var(--fill-color);\n    }\n    40% {\n      border-color: transparent;\n      border-right-color: var(--fill-color);\n      border-top-color: var(--fill-color);\n    }\n    60% {\n      border-color: transparent;\n      border-right-color: var(--fill-color);\n    }\n    80% {\n      border-color: transparent;\n      border-right-color: var(--fill-color);\n      border-bottom-color: var(--fill-color);\n    }\n    90% {\n      border-color: transparent;\n      border-bottom-color: var(--fill-color);\n    }\n  }\n</style>\n\n  <script>\n    async function quickchart(key) {\n      const quickchartButtonEl =\n        document.querySelector('#' + key + ' button');\n      quickchartButtonEl.disabled = true;  // To prevent multiple clicks.\n      quickchartButtonEl.classList.add('colab-df-spinner');\n      try {\n        const charts = await google.colab.kernel.invokeFunction(\n            'suggestCharts', [key], {});\n      } catch (error) {\n        console.error('Error during call to suggestCharts:', error);\n      }\n      quickchartButtonEl.classList.remove('colab-df-spinner');\n      quickchartButtonEl.classList.add('colab-df-quickchart-complete');\n    }\n    (() => {\n      let quickchartButtonEl =\n        document.querySelector('#df-7afb0cfa-6c2c-4480-8d45-a640b3a4f6e1 button');\n      quickchartButtonEl.style.display =\n        google.colab.kernel.accessAllowed ? 'block' : 'none';\n    })();\n  </script>\n</div>\n    </div>\n  </div>\n",
      "text/plain": "                           Gender\nProduct      PurchaseFlag        \nCharger      0               6541\n             1               3459\nLaptop       0               4594\n             1               5406\nMobile Phone 0               5049\n             1               4951"
     },
     "execution_count": 5,
     "metadata": {},
     "output_type": "execute_result"
    }
   ]
  },
  {
   "metadata": {},
   "cell_type": "markdown",
   "source": "Можно и проверить ради интереса пропорцию успешной к неуспешных продаж этой колонки"
  },
  {
   "metadata": {
    "colab": {
     "base_uri": "https://localhost:8080/",
     "height": 173
    },
    "id": "9_AaoqSw1pGG",
    "outputId": "d28c5c9e-51dd-40f6-aa4c-c5800b60bd67",
    "trusted": false
   },
   "cell_type": "code",
   "source": "df.groupby(['Product']).agg({'PurchaseFlag': 'mean'})",
   "execution_count": null,
   "outputs": [
    {
     "data": {
      "application/vnd.google.colaboratory.intrinsic+json": {
       "summary": "{\n  \"name\": \"df\",\n  \"rows\": 3,\n  \"fields\": [\n    {\n      \"column\": \"Product\",\n      \"properties\": {\n        \"dtype\": \"string\",\n        \"num_unique_values\": 3,\n        \"samples\": [\n          \"Charger\",\n          \"Laptop\",\n          \"Mobile Phone\"\n        ],\n        \"semantic_type\": \"\",\n        \"description\": \"\"\n      }\n    },\n    {\n      \"column\": \"PurchaseFlag\",\n      \"properties\": {\n        \"dtype\": \"number\",\n        \"std\": 0.1018487276961933,\n        \"min\": 0.3459,\n        \"max\": 0.5406,\n        \"num_unique_values\": 3,\n        \"samples\": [\n          0.3459,\n          0.5406,\n          0.4951\n        ],\n        \"semantic_type\": \"\",\n        \"description\": \"\"\n      }\n    }\n  ]\n}",
       "type": "dataframe"
      },
      "text/html": "\n  <div id=\"df-c13f9cef-e22a-467e-b962-8e8fd39d0183\" class=\"colab-df-container\">\n    <div>\n<style scoped>\n    .dataframe tbody tr th:only-of-type {\n        vertical-align: middle;\n    }\n\n    .dataframe tbody tr th {\n        vertical-align: top;\n    }\n\n    .dataframe thead th {\n        text-align: right;\n    }\n</style>\n<table border=\"1\" class=\"dataframe\">\n  <thead>\n    <tr style=\"text-align: right;\">\n      <th></th>\n      <th>PurchaseFlag</th>\n    </tr>\n    <tr>\n      <th>Product</th>\n      <th></th>\n    </tr>\n  </thead>\n  <tbody>\n    <tr>\n      <th>Charger</th>\n      <td>0.3459</td>\n    </tr>\n    <tr>\n      <th>Laptop</th>\n      <td>0.5406</td>\n    </tr>\n    <tr>\n      <th>Mobile Phone</th>\n      <td>0.4951</td>\n    </tr>\n  </tbody>\n</table>\n</div>\n    <div class=\"colab-df-buttons\">\n\n  <div class=\"colab-df-container\">\n    <button class=\"colab-df-convert\" onclick=\"convertToInteractive('df-c13f9cef-e22a-467e-b962-8e8fd39d0183')\"\n            title=\"Convert this dataframe to an interactive table.\"\n            style=\"display:none;\">\n\n  <svg xmlns=\"http://www.w3.org/2000/svg\" height=\"24px\" viewBox=\"0 -960 960 960\">\n    <path d=\"M120-120v-720h720v720H120Zm60-500h600v-160H180v160Zm220 220h160v-160H400v160Zm0 220h160v-160H400v160ZM180-400h160v-160H180v160Zm440 0h160v-160H620v160ZM180-180h160v-160H180v160Zm440 0h160v-160H620v160Z\"/>\n  </svg>\n    </button>\n\n  <style>\n    .colab-df-container {\n      display:flex;\n      gap: 12px;\n    }\n\n    .colab-df-convert {\n      background-color: #E8F0FE;\n      border: none;\n      border-radius: 50%;\n      cursor: pointer;\n      display: none;\n      fill: #1967D2;\n      height: 32px;\n      padding: 0 0 0 0;\n      width: 32px;\n    }\n\n    .colab-df-convert:hover {\n      background-color: #E2EBFA;\n      box-shadow: 0px 1px 2px rgba(60, 64, 67, 0.3), 0px 1px 3px 1px rgba(60, 64, 67, 0.15);\n      fill: #174EA6;\n    }\n\n    .colab-df-buttons div {\n      margin-bottom: 4px;\n    }\n\n    [theme=dark] .colab-df-convert {\n      background-color: #3B4455;\n      fill: #D2E3FC;\n    }\n\n    [theme=dark] .colab-df-convert:hover {\n      background-color: #434B5C;\n      box-shadow: 0px 1px 3px 1px rgba(0, 0, 0, 0.15);\n      filter: drop-shadow(0px 1px 2px rgba(0, 0, 0, 0.3));\n      fill: #FFFFFF;\n    }\n  </style>\n\n    <script>\n      const buttonEl =\n        document.querySelector('#df-c13f9cef-e22a-467e-b962-8e8fd39d0183 button.colab-df-convert');\n      buttonEl.style.display =\n        google.colab.kernel.accessAllowed ? 'block' : 'none';\n\n      async function convertToInteractive(key) {\n        const element = document.querySelector('#df-c13f9cef-e22a-467e-b962-8e8fd39d0183');\n        const dataTable =\n          await google.colab.kernel.invokeFunction('convertToInteractive',\n                                                    [key], {});\n        if (!dataTable) return;\n\n        const docLinkHtml = 'Like what you see? Visit the ' +\n          '<a target=\"_blank\" href=https://colab.research.google.com/notebooks/data_table.ipynb>data table notebook</a>'\n          + ' to learn more about interactive tables.';\n        element.innerHTML = '';\n        dataTable['output_type'] = 'display_data';\n        await google.colab.output.renderOutput(dataTable, element);\n        const docLink = document.createElement('div');\n        docLink.innerHTML = docLinkHtml;\n        element.appendChild(docLink);\n      }\n    </script>\n  </div>\n\n\n<div id=\"df-4fbfee16-7da6-468e-a172-f274a9ac3cd7\">\n  <button class=\"colab-df-quickchart\" onclick=\"quickchart('df-4fbfee16-7da6-468e-a172-f274a9ac3cd7')\"\n            title=\"Suggest charts\"\n            style=\"display:none;\">\n\n<svg xmlns=\"http://www.w3.org/2000/svg\" height=\"24px\"viewBox=\"0 0 24 24\"\n     width=\"24px\">\n    <g>\n        <path d=\"M19 3H5c-1.1 0-2 .9-2 2v14c0 1.1.9 2 2 2h14c1.1 0 2-.9 2-2V5c0-1.1-.9-2-2-2zM9 17H7v-7h2v7zm4 0h-2V7h2v10zm4 0h-2v-4h2v4z\"/>\n    </g>\n</svg>\n  </button>\n\n<style>\n  .colab-df-quickchart {\n      --bg-color: #E8F0FE;\n      --fill-color: #1967D2;\n      --hover-bg-color: #E2EBFA;\n      --hover-fill-color: #174EA6;\n      --disabled-fill-color: #AAA;\n      --disabled-bg-color: #DDD;\n  }\n\n  [theme=dark] .colab-df-quickchart {\n      --bg-color: #3B4455;\n      --fill-color: #D2E3FC;\n      --hover-bg-color: #434B5C;\n      --hover-fill-color: #FFFFFF;\n      --disabled-bg-color: #3B4455;\n      --disabled-fill-color: #666;\n  }\n\n  .colab-df-quickchart {\n    background-color: var(--bg-color);\n    border: none;\n    border-radius: 50%;\n    cursor: pointer;\n    display: none;\n    fill: var(--fill-color);\n    height: 32px;\n    padding: 0;\n    width: 32px;\n  }\n\n  .colab-df-quickchart:hover {\n    background-color: var(--hover-bg-color);\n    box-shadow: 0 1px 2px rgba(60, 64, 67, 0.3), 0 1px 3px 1px rgba(60, 64, 67, 0.15);\n    fill: var(--button-hover-fill-color);\n  }\n\n  .colab-df-quickchart-complete:disabled,\n  .colab-df-quickchart-complete:disabled:hover {\n    background-color: var(--disabled-bg-color);\n    fill: var(--disabled-fill-color);\n    box-shadow: none;\n  }\n\n  .colab-df-spinner {\n    border: 2px solid var(--fill-color);\n    border-color: transparent;\n    border-bottom-color: var(--fill-color);\n    animation:\n      spin 1s steps(1) infinite;\n  }\n\n  @keyframes spin {\n    0% {\n      border-color: transparent;\n      border-bottom-color: var(--fill-color);\n      border-left-color: var(--fill-color);\n    }\n    20% {\n      border-color: transparent;\n      border-left-color: var(--fill-color);\n      border-top-color: var(--fill-color);\n    }\n    30% {\n      border-color: transparent;\n      border-left-color: var(--fill-color);\n      border-top-color: var(--fill-color);\n      border-right-color: var(--fill-color);\n    }\n    40% {\n      border-color: transparent;\n      border-right-color: var(--fill-color);\n      border-top-color: var(--fill-color);\n    }\n    60% {\n      border-color: transparent;\n      border-right-color: var(--fill-color);\n    }\n    80% {\n      border-color: transparent;\n      border-right-color: var(--fill-color);\n      border-bottom-color: var(--fill-color);\n    }\n    90% {\n      border-color: transparent;\n      border-bottom-color: var(--fill-color);\n    }\n  }\n</style>\n\n  <script>\n    async function quickchart(key) {\n      const quickchartButtonEl =\n        document.querySelector('#' + key + ' button');\n      quickchartButtonEl.disabled = true;  // To prevent multiple clicks.\n      quickchartButtonEl.classList.add('colab-df-spinner');\n      try {\n        const charts = await google.colab.kernel.invokeFunction(\n            'suggestCharts', [key], {});\n      } catch (error) {\n        console.error('Error during call to suggestCharts:', error);\n      }\n      quickchartButtonEl.classList.remove('colab-df-spinner');\n      quickchartButtonEl.classList.add('colab-df-quickchart-complete');\n    }\n    (() => {\n      let quickchartButtonEl =\n        document.querySelector('#df-4fbfee16-7da6-468e-a172-f274a9ac3cd7 button');\n      quickchartButtonEl.style.display =\n        google.colab.kernel.accessAllowed ? 'block' : 'none';\n    })();\n  </script>\n</div>\n    </div>\n  </div>\n",
      "text/plain": "              PurchaseFlag\nProduct                   \nCharger             0.3459\nLaptop              0.5406\nMobile Phone        0.4951"
     },
     "execution_count": 6,
     "metadata": {},
     "output_type": "execute_result"
    }
   ]
  },
  {
   "metadata": {
    "id": "xo0Ff52FjVjE"
   },
   "cell_type": "markdown",
   "source": "### <b><span style='color:#686dec'>Кодирование</span></b>"
  },
  {
   "metadata": {
    "id": "ugG0Wfz4cd4z"
   },
   "cell_type": "markdown",
   "source": "Нам нужно сделать предобработку данных\n\n- Обучаться будем на бустинге. CatBoost гибок к типам данных. \n- Это значит, что можно не заниматься кодиррванием переменных, а просто присвоить категориальный тип данных.\n- Категориальные фичи надо будет упоменуть при обучении модели"
  },
  {
   "metadata": {
    "colab": {
     "base_uri": "https://localhost:8080/"
    },
    "id": "9IiE2gcV2a2M",
    "outputId": "0d5760f3-7d4d-4b42-feeb-1652a3465005",
    "trusted": false
   },
   "cell_type": "code",
   "source": "# Конвертируем object в category\nobject_cols = list(df.drop(['Product'], axis=1).select_dtypes('object').columns)\nprint(f'we have {len(object_cols)} object_cols')\n\ndf[object_cols] = df[object_cols].astype('category')",
   "execution_count": null,
   "outputs": [
    {
     "name": "stdout",
     "output_type": "stream",
     "text": "we have 7 object_cols\n"
    }
   ]
  },
  {
   "metadata": {
    "id": "JByeUr9HjYLA"
   },
   "cell_type": "markdown",
   "source": "### <b><span style='color:#686dec'>Семплирование</span></b>"
  },
  {
   "metadata": {
    "id": "XbNq17E54rAT",
    "trusted": false
   },
   "cell_type": "code",
   "source": "df = df.rename(columns={'PurchaseFlag': 'target'})",
   "execution_count": null,
   "outputs": []
  },
  {
   "metadata": {
    "colab": {
     "base_uri": "https://localhost:8080/"
    },
    "id": "dl982Uru33ps",
    "outputId": "08eec198-5647-4fe1-aba6-1afc74b8d0cc",
    "trusted": false
   },
   "cell_type": "code",
   "source": "df_Charger = df[df['Product'] == 'Charger']\ndf_Laptop = df[df['Product'] == 'Laptop']\ndf_Phone = df[df['Product'] == 'Mobile Phone']\n\nprint(f\"Размеры датасетов:\\n\"\n      f\"Charger: {df_Charger.shape[0]} записей и {df_Charger.shape[1]} фичей\\n\"\n      f\"Laptop: {df_Laptop.shape[0]} записей и {df_Laptop.shape[1]} фичей\\n\"\n      f\"Mobile Phone: {df_Phone.shape[0]} записей и {df_Phone.shape[1]} фичей\\n\")\n\nprint(f\"Средняя доля покупок:\\n\"\n      f\"Charger: {df_Charger.target.mean():.2f}\\n\"\n      f\"Laptop: {df_Laptop.target.mean():.2f}\\n\"\n      f\"Mobile Phone: {df_Phone.target.mean():.2f}\\n\")",
   "execution_count": null,
   "outputs": [
    {
     "name": "stdout",
     "output_type": "stream",
     "text": "Размеры датасетов:\nCharger: 10000 записей и 18 фичей\nLaptop: 10000 записей и 18 фичей\nMobile Phone: 10000 записей и 18 фичей\n\nСредняя доля покупок:\nCharger: 0.35\nLaptop: 0.54\nMobile Phone: 0.50\n\n"
    }
   ]
  },
  {
   "metadata": {
    "id": "Pd_M775-e2zL",
    "trusted": false
   },
   "cell_type": "code",
   "source": "# убирает то что мы рекламировали а целевой переменной станет купил/не купил\n# они все будут одинаковы для кажного subset\n\nfeatures_Charger = df_Charger.drop(['Product', 'target'], axis=1)\ntarget_Charger = df_Charger['target']\n\nfeatures_Laptop = df_Laptop.drop(['Product', 'target'], axis=1)\ntarget_Laptop = df_Laptop['target']\n\nfeatures_Phone = df_Phone.drop(['Product', 'target'], axis=1)\ntarget_Phone = df_Phone['target']",
   "execution_count": null,
   "outputs": []
  },
  {
   "metadata": {},
   "cell_type": "markdown",
   "source": "Вспомогательная функция `make_samples` разделяет данные на 3 подвыборки (train/valid/test)"
  },
  {
   "metadata": {
    "id": "lrxIYaRKi05d",
    "trusted": false
   },
   "cell_type": "code",
   "source": "def make_samples(features, target):\n  # отделяем 20% - пятую часть всего - на тестовую выборку\n  X_train_valid, X_test, y_train_valid, y_test = train_test_split(features, target,\n                                                                  test_size=0.2,\n                                                                  random_state=random_state)\n  \n  # отделяем 25% - четвертую часть трейн+валид - на валидирующую выборку\n  X_train, X_valid, y_train, y_valid = train_test_split(X_train_valid, y_train_valid,\n                                                        test_size=0.25,\n                                                        random_state=random_state)\n\n  s1 = y_train.size\n  s2 = y_valid.size\n  s3 = y_test.size\n  \n  print('Разбиение на выборки train:valid:test в соотношении '\n        + str(round(s1/s3)) + ':' + str(round(s2/s3)) + ':' + str(round(s3/s3)))\n  print('target rate на разбиениях:', round(y_train.mean(), 4), round(y_valid.mean(), 4), round(y_test.mean(), 4))\n  return X_train, X_valid, X_test, y_train, y_valid, y_test",
   "execution_count": null,
   "outputs": []
  },
  {
   "metadata": {
    "colab": {
     "base_uri": "https://localhost:8080/"
    },
    "id": "ZMPt-Y126HO7",
    "outputId": "0891402e-b63f-4e04-d1ad-7ca42f070299",
    "trusted": false
   },
   "cell_type": "code",
   "source": "X_train_Charger, X_valid_Charger, X_test_Charger, y_train_Charger, y_valid_Charger, y_test_Charger = make_samples(features_Charger, target_Charger)\nX_train_Laptop, X_valid_Laptop, X_test_Laptop, y_train_Laptop, y_valid_Laptop, y_test_Laptop = make_samples(features_Laptop, target_Laptop)\nX_train_Phone, X_valid_Phone, X_test_Phone, y_train_Phone, y_valid_Phone, y_test_Phone = make_samples(features_Phone, target_Phone)",
   "execution_count": null,
   "outputs": [
    {
     "name": "stdout",
     "output_type": "stream",
     "text": "Разбиение на выборки train:valid:test в соотношении 3:1:1\ntarget rate на разбиениях: 0.3532 0.3325 0.3375\nРазбиение на выборки train:valid:test в соотношении 3:1:1\ntarget rate на разбиениях: 0.5388 0.549 0.5375\nРазбиение на выборки train:valid:test в соотношении 3:1:1\ntarget rate на разбиениях: 0.4938 0.506 0.488\n"
    }
   ]
  },
  {
   "metadata": {
    "colab": {
     "base_uri": "https://localhost:8080/",
     "height": 165
    },
    "id": "CD_wDwvttmQz",
    "outputId": "74f2a22c-77ac-4a20-e59c-b3b7b69200ef",
    "trusted": false
   },
   "cell_type": "code",
   "source": "X_train_Charger.head(2)",
   "execution_count": null,
   "outputs": [
    {
     "data": {
      "application/vnd.google.colaboratory.intrinsic+json": {
       "summary": "{\n  \"name\": \"X_train_Charger\",\n  \"rows\": 6000,\n  \"fields\": [\n    {\n      \"column\": \"Age\",\n      \"properties\": {\n        \"dtype\": \"number\",\n        \"std\": 15,\n        \"min\": 18,\n        \"max\": 69,\n        \"num_unique_values\": 52,\n        \"samples\": [\n          22,\n          56,\n          45\n        ],\n        \"semantic_type\": \"\",\n        \"description\": \"\"\n      }\n    },\n    {\n      \"column\": \"Gender\",\n      \"properties\": {\n        \"dtype\": \"category\",\n        \"num_unique_values\": 2,\n        \"samples\": [\n          \"Male\",\n          \"Female\"\n        ],\n        \"semantic_type\": \"\",\n        \"description\": \"\"\n      }\n    },\n    {\n      \"column\": \"Geography\",\n      \"properties\": {\n        \"dtype\": \"category\",\n        \"num_unique_values\": 5,\n        \"samples\": [\n          \"North America\",\n          \"Europe\"\n        ],\n        \"semantic_type\": \"\",\n        \"description\": \"\"\n      }\n    },\n    {\n      \"column\": \"PreviousPurchases\",\n      \"properties\": {\n        \"dtype\": \"number\",\n        \"std\": 2850.395949045087,\n        \"min\": 100.58958991407997,\n        \"max\": 9998.41401260131,\n        \"num_unique_values\": 6000,\n        \"samples\": [\n          4694.747173387217,\n          2557.7544217280656\n        ],\n        \"semantic_type\": \"\",\n        \"description\": \"\"\n      }\n    },\n    {\n      \"column\": \"Salary\",\n      \"properties\": {\n        \"dtype\": \"number\",\n        \"std\": 37587.98084878086,\n        \"min\": 20003.41145477148,\n        \"max\": 149982.97683283407,\n        \"num_unique_values\": 6000,\n        \"samples\": [\n          53287.15026543427,\n          62595.92832214301\n        ],\n        \"semantic_type\": \"\",\n        \"description\": \"\"\n      }\n    },\n    {\n      \"column\": \"NumChildren\",\n      \"properties\": {\n        \"dtype\": \"number\",\n        \"std\": 1,\n        \"min\": 0,\n        \"max\": 4,\n        \"num_unique_values\": 5,\n        \"samples\": [\n          1,\n          4\n        ],\n        \"semantic_type\": \"\",\n        \"description\": \"\"\n      }\n    },\n    {\n      \"column\": \"EducationLevel\",\n      \"properties\": {\n        \"dtype\": \"category\",\n        \"num_unique_values\": 4,\n        \"samples\": [\n          \"High School\",\n          \"Bachelor\"\n        ],\n        \"semantic_type\": \"\",\n        \"description\": \"\"\n      }\n    },\n    {\n      \"column\": \"MaritalStatus\",\n      \"properties\": {\n        \"dtype\": \"category\",\n        \"num_unique_values\": 4,\n        \"samples\": [\n          \"Widowed\",\n          \"Married\"\n        ],\n        \"semantic_type\": \"\",\n        \"description\": \"\"\n      }\n    },\n    {\n      \"column\": \"EmploymentStatus\",\n      \"properties\": {\n        \"dtype\": \"category\",\n        \"num_unique_values\": 4,\n        \"samples\": [\n          \"Unemployed\",\n          \"Employed\"\n        ],\n        \"semantic_type\": \"\",\n        \"description\": \"\"\n      }\n    },\n    {\n      \"column\": \"HousingStatus\",\n      \"properties\": {\n        \"dtype\": \"category\",\n        \"num_unique_values\": 3,\n        \"samples\": [\n          \"Living with Parents\",\n          \"Rent\"\n        ],\n        \"semantic_type\": \"\",\n        \"description\": \"\"\n      }\n    },\n    {\n      \"column\": \"CreditScore\",\n      \"properties\": {\n        \"dtype\": \"number\",\n        \"std\": 158,\n        \"min\": 300,\n        \"max\": 849,\n        \"num_unique_values\": 550,\n        \"samples\": [\n          486,\n          562\n        ],\n        \"semantic_type\": \"\",\n        \"description\": \"\"\n      }\n    },\n    {\n      \"column\": \"InternetUsage\",\n      \"properties\": {\n        \"dtype\": \"number\",\n        \"std\": 2.589786253109458,\n        \"min\": 1.0040017092811238,\n        \"max\": 9.997331133876129,\n        \"num_unique_values\": 6000,\n        \"samples\": [\n          7.013689416916173,\n          8.970409126577124\n        ],\n        \"semantic_type\": \"\",\n        \"description\": \"\"\n      }\n    },\n    {\n      \"column\": \"NumberOfCars\",\n      \"properties\": {\n        \"dtype\": \"number\",\n        \"std\": 0,\n        \"min\": 0,\n        \"max\": 2,\n        \"num_unique_values\": 3,\n        \"samples\": [\n          0,\n          1\n        ],\n        \"semantic_type\": \"\",\n        \"description\": \"\"\n      }\n    },\n    {\n      \"column\": \"HealthStatus\",\n      \"properties\": {\n        \"dtype\": \"category\",\n        \"num_unique_values\": 4,\n        \"samples\": [\n          \"Excellent\",\n          \"Fair\"\n        ],\n        \"semantic_type\": \"\",\n        \"description\": \"\"\n      }\n    },\n    {\n      \"column\": \"ShoppingFrequency\",\n      \"properties\": {\n        \"dtype\": \"number\",\n        \"std\": 5,\n        \"min\": 1,\n        \"max\": 19,\n        \"num_unique_values\": 19,\n        \"samples\": [\n          2,\n          18\n        ],\n        \"semantic_type\": \"\",\n        \"description\": \"\"\n      }\n    },\n    {\n      \"column\": \"MembershipDuration\",\n      \"properties\": {\n        \"dtype\": \"number\",\n        \"std\": 5,\n        \"min\": 1,\n        \"max\": 19,\n        \"num_unique_values\": 19,\n        \"samples\": [\n          11,\n          14\n        ],\n        \"semantic_type\": \"\",\n        \"description\": \"\"\n      }\n    }\n  ]\n}",
       "type": "dataframe",
       "variable_name": "X_train_Charger"
      },
      "text/html": "\n  <div id=\"df-b0682cc8-9007-445a-8959-6d1acb42f4f9\" class=\"colab-df-container\">\n    <div>\n<style scoped>\n    .dataframe tbody tr th:only-of-type {\n        vertical-align: middle;\n    }\n\n    .dataframe tbody tr th {\n        vertical-align: top;\n    }\n\n    .dataframe thead th {\n        text-align: right;\n    }\n</style>\n<table border=\"1\" class=\"dataframe\">\n  <thead>\n    <tr style=\"text-align: right;\">\n      <th></th>\n      <th>Age</th>\n      <th>Gender</th>\n      <th>Geography</th>\n      <th>PreviousPurchases</th>\n      <th>Salary</th>\n      <th>NumChildren</th>\n      <th>EducationLevel</th>\n      <th>MaritalStatus</th>\n      <th>EmploymentStatus</th>\n      <th>HousingStatus</th>\n      <th>CreditScore</th>\n      <th>InternetUsage</th>\n      <th>NumberOfCars</th>\n      <th>HealthStatus</th>\n      <th>ShoppingFrequency</th>\n      <th>MembershipDuration</th>\n    </tr>\n  </thead>\n  <tbody>\n    <tr>\n      <th>9731</th>\n      <td>23</td>\n      <td>Female</td>\n      <td>South America</td>\n      <td>6042.440703</td>\n      <td>67691.979045</td>\n      <td>2</td>\n      <td>Master</td>\n      <td>Single</td>\n      <td>Student</td>\n      <td>Living with Parents</td>\n      <td>655</td>\n      <td>4.588958</td>\n      <td>0</td>\n      <td>Poor</td>\n      <td>2</td>\n      <td>11</td>\n    </tr>\n    <tr>\n      <th>6920</th>\n      <td>64</td>\n      <td>Male</td>\n      <td>North America</td>\n      <td>2497.156731</td>\n      <td>35648.888199</td>\n      <td>1</td>\n      <td>High School</td>\n      <td>Widowed</td>\n      <td>Student</td>\n      <td>Rent</td>\n      <td>379</td>\n      <td>6.842913</td>\n      <td>0</td>\n      <td>Poor</td>\n      <td>11</td>\n      <td>1</td>\n    </tr>\n  </tbody>\n</table>\n</div>\n    <div class=\"colab-df-buttons\">\n\n  <div class=\"colab-df-container\">\n    <button class=\"colab-df-convert\" onclick=\"convertToInteractive('df-b0682cc8-9007-445a-8959-6d1acb42f4f9')\"\n            title=\"Convert this dataframe to an interactive table.\"\n            style=\"display:none;\">\n\n  <svg xmlns=\"http://www.w3.org/2000/svg\" height=\"24px\" viewBox=\"0 -960 960 960\">\n    <path d=\"M120-120v-720h720v720H120Zm60-500h600v-160H180v160Zm220 220h160v-160H400v160Zm0 220h160v-160H400v160ZM180-400h160v-160H180v160Zm440 0h160v-160H620v160ZM180-180h160v-160H180v160Zm440 0h160v-160H620v160Z\"/>\n  </svg>\n    </button>\n\n  <style>\n    .colab-df-container {\n      display:flex;\n      gap: 12px;\n    }\n\n    .colab-df-convert {\n      background-color: #E8F0FE;\n      border: none;\n      border-radius: 50%;\n      cursor: pointer;\n      display: none;\n      fill: #1967D2;\n      height: 32px;\n      padding: 0 0 0 0;\n      width: 32px;\n    }\n\n    .colab-df-convert:hover {\n      background-color: #E2EBFA;\n      box-shadow: 0px 1px 2px rgba(60, 64, 67, 0.3), 0px 1px 3px 1px rgba(60, 64, 67, 0.15);\n      fill: #174EA6;\n    }\n\n    .colab-df-buttons div {\n      margin-bottom: 4px;\n    }\n\n    [theme=dark] .colab-df-convert {\n      background-color: #3B4455;\n      fill: #D2E3FC;\n    }\n\n    [theme=dark] .colab-df-convert:hover {\n      background-color: #434B5C;\n      box-shadow: 0px 1px 3px 1px rgba(0, 0, 0, 0.15);\n      filter: drop-shadow(0px 1px 2px rgba(0, 0, 0, 0.3));\n      fill: #FFFFFF;\n    }\n  </style>\n\n    <script>\n      const buttonEl =\n        document.querySelector('#df-b0682cc8-9007-445a-8959-6d1acb42f4f9 button.colab-df-convert');\n      buttonEl.style.display =\n        google.colab.kernel.accessAllowed ? 'block' : 'none';\n\n      async function convertToInteractive(key) {\n        const element = document.querySelector('#df-b0682cc8-9007-445a-8959-6d1acb42f4f9');\n        const dataTable =\n          await google.colab.kernel.invokeFunction('convertToInteractive',\n                                                    [key], {});\n        if (!dataTable) return;\n\n        const docLinkHtml = 'Like what you see? Visit the ' +\n          '<a target=\"_blank\" href=https://colab.research.google.com/notebooks/data_table.ipynb>data table notebook</a>'\n          + ' to learn more about interactive tables.';\n        element.innerHTML = '';\n        dataTable['output_type'] = 'display_data';\n        await google.colab.output.renderOutput(dataTable, element);\n        const docLink = document.createElement('div');\n        docLink.innerHTML = docLinkHtml;\n        element.appendChild(docLink);\n      }\n    </script>\n  </div>\n\n\n<div id=\"df-58c98295-6ce5-4e09-9e89-1ada9ce573d1\">\n  <button class=\"colab-df-quickchart\" onclick=\"quickchart('df-58c98295-6ce5-4e09-9e89-1ada9ce573d1')\"\n            title=\"Suggest charts\"\n            style=\"display:none;\">\n\n<svg xmlns=\"http://www.w3.org/2000/svg\" height=\"24px\"viewBox=\"0 0 24 24\"\n     width=\"24px\">\n    <g>\n        <path d=\"M19 3H5c-1.1 0-2 .9-2 2v14c0 1.1.9 2 2 2h14c1.1 0 2-.9 2-2V5c0-1.1-.9-2-2-2zM9 17H7v-7h2v7zm4 0h-2V7h2v10zm4 0h-2v-4h2v4z\"/>\n    </g>\n</svg>\n  </button>\n\n<style>\n  .colab-df-quickchart {\n      --bg-color: #E8F0FE;\n      --fill-color: #1967D2;\n      --hover-bg-color: #E2EBFA;\n      --hover-fill-color: #174EA6;\n      --disabled-fill-color: #AAA;\n      --disabled-bg-color: #DDD;\n  }\n\n  [theme=dark] .colab-df-quickchart {\n      --bg-color: #3B4455;\n      --fill-color: #D2E3FC;\n      --hover-bg-color: #434B5C;\n      --hover-fill-color: #FFFFFF;\n      --disabled-bg-color: #3B4455;\n      --disabled-fill-color: #666;\n  }\n\n  .colab-df-quickchart {\n    background-color: var(--bg-color);\n    border: none;\n    border-radius: 50%;\n    cursor: pointer;\n    display: none;\n    fill: var(--fill-color);\n    height: 32px;\n    padding: 0;\n    width: 32px;\n  }\n\n  .colab-df-quickchart:hover {\n    background-color: var(--hover-bg-color);\n    box-shadow: 0 1px 2px rgba(60, 64, 67, 0.3), 0 1px 3px 1px rgba(60, 64, 67, 0.15);\n    fill: var(--button-hover-fill-color);\n  }\n\n  .colab-df-quickchart-complete:disabled,\n  .colab-df-quickchart-complete:disabled:hover {\n    background-color: var(--disabled-bg-color);\n    fill: var(--disabled-fill-color);\n    box-shadow: none;\n  }\n\n  .colab-df-spinner {\n    border: 2px solid var(--fill-color);\n    border-color: transparent;\n    border-bottom-color: var(--fill-color);\n    animation:\n      spin 1s steps(1) infinite;\n  }\n\n  @keyframes spin {\n    0% {\n      border-color: transparent;\n      border-bottom-color: var(--fill-color);\n      border-left-color: var(--fill-color);\n    }\n    20% {\n      border-color: transparent;\n      border-left-color: var(--fill-color);\n      border-top-color: var(--fill-color);\n    }\n    30% {\n      border-color: transparent;\n      border-left-color: var(--fill-color);\n      border-top-color: var(--fill-color);\n      border-right-color: var(--fill-color);\n    }\n    40% {\n      border-color: transparent;\n      border-right-color: var(--fill-color);\n      border-top-color: var(--fill-color);\n    }\n    60% {\n      border-color: transparent;\n      border-right-color: var(--fill-color);\n    }\n    80% {\n      border-color: transparent;\n      border-right-color: var(--fill-color);\n      border-bottom-color: var(--fill-color);\n    }\n    90% {\n      border-color: transparent;\n      border-bottom-color: var(--fill-color);\n    }\n  }\n</style>\n\n  <script>\n    async function quickchart(key) {\n      const quickchartButtonEl =\n        document.querySelector('#' + key + ' button');\n      quickchartButtonEl.disabled = true;  // To prevent multiple clicks.\n      quickchartButtonEl.classList.add('colab-df-spinner');\n      try {\n        const charts = await google.colab.kernel.invokeFunction(\n            'suggestCharts', [key], {});\n      } catch (error) {\n        console.error('Error during call to suggestCharts:', error);\n      }\n      quickchartButtonEl.classList.remove('colab-df-spinner');\n      quickchartButtonEl.classList.add('colab-df-quickchart-complete');\n    }\n    (() => {\n      let quickchartButtonEl =\n        document.querySelector('#df-58c98295-6ce5-4e09-9e89-1ada9ce573d1 button');\n      quickchartButtonEl.style.display =\n        google.colab.kernel.accessAllowed ? 'block' : 'none';\n    })();\n  </script>\n</div>\n    </div>\n  </div>\n",
      "text/plain": "      Age  Gender      Geography  PreviousPurchases        Salary  \\\n9731   23  Female  South America        6042.440703  67691.979045   \n6920   64    Male  North America        2497.156731  35648.888199   \n\n      NumChildren EducationLevel MaritalStatus EmploymentStatus  \\\n9731            2         Master        Single          Student   \n6920            1    High School       Widowed          Student   \n\n            HousingStatus  CreditScore  InternetUsage  NumberOfCars  \\\n9731  Living with Parents          655       4.588958             0   \n6920                 Rent          379       6.842913             0   \n\n     HealthStatus  ShoppingFrequency  MembershipDuration  \n9731         Poor                  2                  11  \n6920         Poor                 11                   1  "
     },
     "execution_count": 14,
     "metadata": {},
     "output_type": "execute_result"
    }
   ]
  },
  {
   "metadata": {
    "id": "yiSHri0ZjqED",
    "trusted": false
   },
   "cell_type": "code",
   "source": "# Функция для оценки модели\ndef calc_metrics(model, X_train, y_train, X_valid, y_valid, X_test, y_test):\n    # Обучение\n    y_train_pred = model.predict(X_train)\n    y_train_proba = model.predict_proba(X_train)[:, 1] if hasattr(model, 'predict_proba') else model.decision_function(X_train)\n\n    # Валидация\n    y_valid_pred = model.predict(X_valid)\n    y_valid_proba = model.predict_proba(X_valid)[:, 1] if hasattr(model, 'predict_proba') else model.decision_function(X_valid)\n\n    # Тестирование\n    y_test_pred = model.predict(X_test)\n    y_test_proba = model.predict_proba(X_test)[:, 1] if hasattr(model, 'predict_proba') else model.decision_function(X_test)\n\n    train_metrics = {\n        'precision': precision_score(y_train, y_train_pred),\n        'recall': recall_score(y_train, y_train_pred),\n        'f1': f1_score(y_train, y_train_pred),\n        'roc_auc': roc_auc_score(y_train, y_train_proba)\n    }\n\n    valid_metrics = {\n        'precision': precision_score(y_valid, y_valid_pred),\n        'recall': recall_score(y_valid, y_valid_pred),\n        'f1': f1_score(y_valid, y_valid_pred),\n        'roc_auc': roc_auc_score(y_valid, y_valid_proba)\n    }\n\n    test_metrics = {\n        'precision': precision_score(y_test, y_test_pred),\n        'recall': recall_score(y_test, y_test_pred),\n        'f1': f1_score(y_test, y_test_pred),\n        'roc_auc': roc_auc_score(y_test, y_test_proba)\n    }\n\n    return train_metrics, valid_metrics, test_metrics\n\ndef print_metrics(model, X_train, y_train, X_valid, y_valid, X_test, y_test):\n    res = calc_metrics(model, X_train, y_train, X_valid, y_valid, X_test, y_test)\n    metrics = pd.DataFrame(res, index=['train', 'valid', 'test'])\n    return metrics",
   "execution_count": null,
   "outputs": []
  },
  {
   "metadata": {
    "id": "wa4xix0y28AF"
   },
   "cell_type": "markdown",
   "source": "### <b><span style='color:#686dec'>Обучаем модели</span></b>\n\n- Будем использовать градиентный бустинговую классификацию и optuna, так как она на много эффективнее для перебора гиперпараметров \n- Определяем параметры которые будем перебирать `param`\n\n\n    - learning_rate : шаг в градиетном спуске \n    - max_depth : глубина деревьев \n    - l2_leaf_reg : параметр регуляризации \n    - subsample : важен если мало данных, искуственно увеличивает количество данных \n    - random_strength : параметр регуляризации \n    - min_data_in_leaf : сколько данных может быть в листике \n\nМетрика оценка качества модели выбираем ROC-AUC (площадь под TPR/FPR кривой)\n\nДля оптимизации перебора гиперпараметров с **Optuna** нам нужно указать \"object function\", выход из этой функции и будет наша метрика"
  },
  {
   "metadata": {
    "colab": {
     "base_uri": "https://localhost:8080/"
    },
    "id": "uhtFnkpK3I77",
    "outputId": "246ca40a-af14-4b62-bbee-77a68bc89f27",
    "trusted": false
   },
   "cell_type": "code",
   "source": "!pip install catboost optuna -qqq",
   "execution_count": null,
   "outputs": [
    {
     "name": "stdout",
     "output_type": "stream",
     "text": "\u001b[2K   \u001b[90m━━━━━━━━━━━━━━━━━━━━━━━━━━━━━━━━━━━━━━━━\u001b[0m \u001b[32m98.2/98.2 MB\u001b[0m \u001b[31m6.8 MB/s\u001b[0m eta \u001b[36m0:00:00\u001b[0m\n\u001b[2K   \u001b[90m━━━━━━━━━━━━━━━━━━━━━━━━━━━━━━━━━━━━━━━━\u001b[0m \u001b[32m380.1/380.1 kB\u001b[0m \u001b[31m17.7 MB/s\u001b[0m eta \u001b[36m0:00:00\u001b[0m\n\u001b[2K   \u001b[90m━━━━━━━━━━━━━━━━━━━━━━━━━━━━━━━━━━━━━━━━\u001b[0m \u001b[32m233.0/233.0 kB\u001b[0m \u001b[31m10.1 MB/s\u001b[0m eta \u001b[36m0:00:00\u001b[0m\n\u001b[2K   \u001b[90m━━━━━━━━━━━━━━━━━━━━━━━━━━━━━━━━━━━━━━━━\u001b[0m \u001b[32m78.6/78.6 kB\u001b[0m \u001b[31m4.6 MB/s\u001b[0m eta \u001b[36m0:00:00\u001b[0m\n\u001b[?25h"
    }
   ]
  },
  {
   "metadata": {
    "id": "SMzPnfed3K6V",
    "trusted": false
   },
   "cell_type": "code",
   "source": "from catboost import CatBoostClassifier\nimport optuna",
   "execution_count": null,
   "outputs": []
  },
  {
   "metadata": {
    "id": "LiaEclXL2BaD",
    "trusted": false
   },
   "cell_type": "code",
   "source": "def objective(trial, X_train, y_train, X_valid, y_valid):\n\n    # словарь перебора параметров \n    param = {\n        \"learning_rate\": trial.suggest_float('learning_rate', 0.01, 0.9),\n        \"max_depth\": trial.suggest_int(\"max_depth\", 2, 7),\n        \"l2_leaf_reg\":trial.suggest_float('l2_leaf_reg', 0.01, 2),\n        \"subsample\": trial.suggest_float('subsample', 0.01, 1),\n        \"random_strength\": trial.suggest_float('random_strength', 1, 200),\n        \"min_data_in_leaf\":trial.suggest_float('min_data_in_leaf', 1, 500)\n    }\n\n    # модель\n    cat = CatBoostClassifier(\n        logging_level=\"Silent\",\n        eval_metric=\"AUC\",\n        grow_policy=\"Lossguide\",\n        random_seed=42,\n        **param)\n\n    # обучение \n    cat.fit(X_train, y_train,\n            cat_features=object_cols, # категориальные колонки\n            eval_set=(X_valid, y_valid),\n            verbose=False,\n            early_stopping_rounds=10\n           )\n\n    # Выводим вероятностное распределение\n    preds = cat.predict_proba(X_valid)[:,1]\n    auc = roc_auc_score(y_valid, preds)\n\n    return auc",
   "execution_count": null,
   "outputs": []
  },
  {
   "metadata": {
    "id": "M9EkqaFFDW83",
    "trusted": false
   },
   "cell_type": "code",
   "source": "optuna.logging.set_verbosity(optuna.logging.WARNING)\n\ndef train_model(X_train, y_train, X_valid, y_valid, X_test, y_test):\n\n  # создаем оптимизационный цикл\n  study = optuna.create_study(direction=\"maximize\", \n                              study_name='CatBoostClassifier')\n  \n  # запускаем оптимизационные циклы\n  study.optimize(lambda trial: objective(trial, X_train, y_train, X_valid, y_valid), n_trials=100)\n\n  '''\n  \n  на выходе получаем параметры с самым высоким ROC-AUC\n  \n  '''\n\n  # Используем оптимизированные параметры \n  best_cat = CatBoostClassifier(**study.best_params, random_state=random_state)\n\n  # Обучаем с этими параметрами\n  best_cat.fit(X_train, y_train, cat_features=object_cols,\n              eval_set=(X_valid, y_valid),\n              verbose=False,\n              early_stopping_rounds=10\n            )\n\n  # Выводим метрики\n  res_cat = print_metrics(best_cat, X_train, y_train, X_valid, y_valid, X_test, y_test)\n  return res_cat, best_cat",
   "execution_count": null,
   "outputs": []
  },
  {
   "metadata": {
    "colab": {
     "background_save": true
    },
    "collapsed": true,
    "id": "jmYs2Tg7EAea",
    "trusted": false
   },
   "cell_type": "code",
   "source": "# обучаем модели (все три модели)\nres_Laptop, model_Laptop = train_model(X_train_Laptop, y_train_Laptop, X_valid_Laptop, y_valid_Laptop, X_test_Laptop, y_test_Laptop)\nres_Charger, model_Charger = train_model(X_train_Charger, y_train_Charger, X_valid_Charger, y_valid_Charger, X_test_Charger, y_test_Charger)\nres_Phone, model_Phone = train_model(X_train_Phone, y_train_Phone, X_valid_Phone, y_valid_Phone, X_test_Phone, y_test_Phone)",
   "execution_count": null,
   "outputs": []
  },
  {
   "metadata": {
    "colab": {
     "background_save": true
    },
    "id": "XUto3SbfEXZr",
    "outputId": "dd58ef27-3796-47d1-cd5e-ce5c412fa9a6",
    "trusted": false
   },
   "cell_type": "code",
   "source": "res_Laptop",
   "execution_count": null,
   "outputs": [
    {
     "data": {
      "application/vnd.google.colaboratory.intrinsic+json": {
       "summary": "{\n  \"name\": \"res_Laptop\",\n  \"rows\": 3,\n  \"fields\": [\n    {\n      \"column\": \"precision\",\n      \"properties\": {\n        \"dtype\": \"number\",\n        \"std\": 0.023034413890133196,\n        \"min\": 0.6092767295597484,\n        \"max\": 0.6553398058252428,\n        \"num_unique_values\": 3,\n        \"samples\": [\n          0.6316778523489933,\n          0.6553398058252428,\n          0.6092767295597484\n        ],\n        \"semantic_type\": \"\",\n        \"description\": \"\"\n      }\n    },\n    {\n      \"column\": \"recall\",\n      \"properties\": {\n        \"dtype\": \"number\",\n        \"std\": 0.008432564285198653,\n        \"min\": 0.7209302325581395,\n        \"max\": 0.7377049180327869,\n        \"num_unique_values\": 3,\n        \"samples\": [\n          0.7278069904113826,\n          0.7377049180327869,\n          0.7209302325581395\n        ],\n        \"semantic_type\": \"\",\n        \"description\": \"\"\n      }\n    },\n    {\n      \"column\": \"f1\",\n      \"properties\": {\n        \"dtype\": \"number\",\n        \"std\": 0.016843097517644814,\n        \"min\": 0.6604175543246698,\n        \"max\": 0.6940874035989718,\n        \"num_unique_values\": 3,\n        \"samples\": [\n          0.6763437769473988,\n          0.6940874035989718,\n          0.6604175543246698\n        ],\n        \"semantic_type\": \"\",\n        \"description\": \"\"\n      }\n    },\n    {\n      \"column\": \"roc_auc\",\n      \"properties\": {\n        \"dtype\": \"number\",\n        \"std\": 0.026714703861010925,\n        \"min\": 0.635050157133878,\n        \"max\": 0.6867818529153995,\n        \"num_unique_values\": 3,\n        \"samples\": [\n          0.6724875194380862,\n          0.6867818529153995,\n          0.635050157133878\n        ],\n        \"semantic_type\": \"\",\n        \"description\": \"\"\n      }\n    }\n  ]\n}",
       "type": "dataframe",
       "variable_name": "res_Laptop"
      },
      "text/html": "\n  <div id=\"df-423a7b41-692b-4bea-a6c8-fce8f44ba7a7\" class=\"colab-df-container\">\n    <div>\n<style scoped>\n    .dataframe tbody tr th:only-of-type {\n        vertical-align: middle;\n    }\n\n    .dataframe tbody tr th {\n        vertical-align: top;\n    }\n\n    .dataframe thead th {\n        text-align: right;\n    }\n</style>\n<table border=\"1\" class=\"dataframe\">\n  <thead>\n    <tr style=\"text-align: right;\">\n      <th></th>\n      <th>precision</th>\n      <th>recall</th>\n      <th>f1</th>\n      <th>roc_auc</th>\n    </tr>\n  </thead>\n  <tbody>\n    <tr>\n      <th>train</th>\n      <td>0.631678</td>\n      <td>0.727807</td>\n      <td>0.676344</td>\n      <td>0.672488</td>\n    </tr>\n    <tr>\n      <th>valid</th>\n      <td>0.655340</td>\n      <td>0.737705</td>\n      <td>0.694087</td>\n      <td>0.686782</td>\n    </tr>\n    <tr>\n      <th>test</th>\n      <td>0.609277</td>\n      <td>0.720930</td>\n      <td>0.660418</td>\n      <td>0.635050</td>\n    </tr>\n  </tbody>\n</table>\n</div>\n    <div class=\"colab-df-buttons\">\n\n  <div class=\"colab-df-container\">\n    <button class=\"colab-df-convert\" onclick=\"convertToInteractive('df-423a7b41-692b-4bea-a6c8-fce8f44ba7a7')\"\n            title=\"Convert this dataframe to an interactive table.\"\n            style=\"display:none;\">\n\n  <svg xmlns=\"http://www.w3.org/2000/svg\" height=\"24px\" viewBox=\"0 -960 960 960\">\n    <path d=\"M120-120v-720h720v720H120Zm60-500h600v-160H180v160Zm220 220h160v-160H400v160Zm0 220h160v-160H400v160ZM180-400h160v-160H180v160Zm440 0h160v-160H620v160ZM180-180h160v-160H180v160Zm440 0h160v-160H620v160Z\"/>\n  </svg>\n    </button>\n\n  <style>\n    .colab-df-container {\n      display:flex;\n      gap: 12px;\n    }\n\n    .colab-df-convert {\n      background-color: #E8F0FE;\n      border: none;\n      border-radius: 50%;\n      cursor: pointer;\n      display: none;\n      fill: #1967D2;\n      height: 32px;\n      padding: 0 0 0 0;\n      width: 32px;\n    }\n\n    .colab-df-convert:hover {\n      background-color: #E2EBFA;\n      box-shadow: 0px 1px 2px rgba(60, 64, 67, 0.3), 0px 1px 3px 1px rgba(60, 64, 67, 0.15);\n      fill: #174EA6;\n    }\n\n    .colab-df-buttons div {\n      margin-bottom: 4px;\n    }\n\n    [theme=dark] .colab-df-convert {\n      background-color: #3B4455;\n      fill: #D2E3FC;\n    }\n\n    [theme=dark] .colab-df-convert:hover {\n      background-color: #434B5C;\n      box-shadow: 0px 1px 3px 1px rgba(0, 0, 0, 0.15);\n      filter: drop-shadow(0px 1px 2px rgba(0, 0, 0, 0.3));\n      fill: #FFFFFF;\n    }\n  </style>\n\n    <script>\n      const buttonEl =\n        document.querySelector('#df-423a7b41-692b-4bea-a6c8-fce8f44ba7a7 button.colab-df-convert');\n      buttonEl.style.display =\n        google.colab.kernel.accessAllowed ? 'block' : 'none';\n\n      async function convertToInteractive(key) {\n        const element = document.querySelector('#df-423a7b41-692b-4bea-a6c8-fce8f44ba7a7');\n        const dataTable =\n          await google.colab.kernel.invokeFunction('convertToInteractive',\n                                                    [key], {});\n        if (!dataTable) return;\n\n        const docLinkHtml = 'Like what you see? Visit the ' +\n          '<a target=\"_blank\" href=https://colab.research.google.com/notebooks/data_table.ipynb>data table notebook</a>'\n          + ' to learn more about interactive tables.';\n        element.innerHTML = '';\n        dataTable['output_type'] = 'display_data';\n        await google.colab.output.renderOutput(dataTable, element);\n        const docLink = document.createElement('div');\n        docLink.innerHTML = docLinkHtml;\n        element.appendChild(docLink);\n      }\n    </script>\n  </div>\n\n\n<div id=\"df-5d0f0874-dfb4-4f56-a58a-c73aefa51045\">\n  <button class=\"colab-df-quickchart\" onclick=\"quickchart('df-5d0f0874-dfb4-4f56-a58a-c73aefa51045')\"\n            title=\"Suggest charts\"\n            style=\"display:none;\">\n\n<svg xmlns=\"http://www.w3.org/2000/svg\" height=\"24px\"viewBox=\"0 0 24 24\"\n     width=\"24px\">\n    <g>\n        <path d=\"M19 3H5c-1.1 0-2 .9-2 2v14c0 1.1.9 2 2 2h14c1.1 0 2-.9 2-2V5c0-1.1-.9-2-2-2zM9 17H7v-7h2v7zm4 0h-2V7h2v10zm4 0h-2v-4h2v4z\"/>\n    </g>\n</svg>\n  </button>\n\n<style>\n  .colab-df-quickchart {\n      --bg-color: #E8F0FE;\n      --fill-color: #1967D2;\n      --hover-bg-color: #E2EBFA;\n      --hover-fill-color: #174EA6;\n      --disabled-fill-color: #AAA;\n      --disabled-bg-color: #DDD;\n  }\n\n  [theme=dark] .colab-df-quickchart {\n      --bg-color: #3B4455;\n      --fill-color: #D2E3FC;\n      --hover-bg-color: #434B5C;\n      --hover-fill-color: #FFFFFF;\n      --disabled-bg-color: #3B4455;\n      --disabled-fill-color: #666;\n  }\n\n  .colab-df-quickchart {\n    background-color: var(--bg-color);\n    border: none;\n    border-radius: 50%;\n    cursor: pointer;\n    display: none;\n    fill: var(--fill-color);\n    height: 32px;\n    padding: 0;\n    width: 32px;\n  }\n\n  .colab-df-quickchart:hover {\n    background-color: var(--hover-bg-color);\n    box-shadow: 0 1px 2px rgba(60, 64, 67, 0.3), 0 1px 3px 1px rgba(60, 64, 67, 0.15);\n    fill: var(--button-hover-fill-color);\n  }\n\n  .colab-df-quickchart-complete:disabled,\n  .colab-df-quickchart-complete:disabled:hover {\n    background-color: var(--disabled-bg-color);\n    fill: var(--disabled-fill-color);\n    box-shadow: none;\n  }\n\n  .colab-df-spinner {\n    border: 2px solid var(--fill-color);\n    border-color: transparent;\n    border-bottom-color: var(--fill-color);\n    animation:\n      spin 1s steps(1) infinite;\n  }\n\n  @keyframes spin {\n    0% {\n      border-color: transparent;\n      border-bottom-color: var(--fill-color);\n      border-left-color: var(--fill-color);\n    }\n    20% {\n      border-color: transparent;\n      border-left-color: var(--fill-color);\n      border-top-color: var(--fill-color);\n    }\n    30% {\n      border-color: transparent;\n      border-left-color: var(--fill-color);\n      border-top-color: var(--fill-color);\n      border-right-color: var(--fill-color);\n    }\n    40% {\n      border-color: transparent;\n      border-right-color: var(--fill-color);\n      border-top-color: var(--fill-color);\n    }\n    60% {\n      border-color: transparent;\n      border-right-color: var(--fill-color);\n    }\n    80% {\n      border-color: transparent;\n      border-right-color: var(--fill-color);\n      border-bottom-color: var(--fill-color);\n    }\n    90% {\n      border-color: transparent;\n      border-bottom-color: var(--fill-color);\n    }\n  }\n</style>\n\n  <script>\n    async function quickchart(key) {\n      const quickchartButtonEl =\n        document.querySelector('#' + key + ' button');\n      quickchartButtonEl.disabled = true;  // To prevent multiple clicks.\n      quickchartButtonEl.classList.add('colab-df-spinner');\n      try {\n        const charts = await google.colab.kernel.invokeFunction(\n            'suggestCharts', [key], {});\n      } catch (error) {\n        console.error('Error during call to suggestCharts:', error);\n      }\n      quickchartButtonEl.classList.remove('colab-df-spinner');\n      quickchartButtonEl.classList.add('colab-df-quickchart-complete');\n    }\n    (() => {\n      let quickchartButtonEl =\n        document.querySelector('#df-5d0f0874-dfb4-4f56-a58a-c73aefa51045 button');\n      quickchartButtonEl.style.display =\n        google.colab.kernel.accessAllowed ? 'block' : 'none';\n    })();\n  </script>\n</div>\n    </div>\n  </div>\n",
      "text/plain": "       precision    recall        f1   roc_auc\ntrain   0.631678  0.727807  0.676344  0.672488\nvalid   0.655340  0.737705  0.694087  0.686782\ntest    0.609277  0.720930  0.660418  0.635050"
     },
     "execution_count": 21,
     "metadata": {},
     "output_type": "execute_result"
    }
   ]
  },
  {
   "metadata": {
    "colab": {
     "background_save": true
    },
    "id": "FXvTVY_rE_gd",
    "outputId": "1bc93430-d36e-4125-a310-6a74068941cb",
    "trusted": false
   },
   "cell_type": "code",
   "source": "res_Phone",
   "execution_count": null,
   "outputs": [
    {
     "data": {
      "application/vnd.google.colaboratory.intrinsic+json": {
       "summary": "{\n  \"name\": \"res_Phone\",\n  \"rows\": 3,\n  \"fields\": [\n    {\n      \"column\": \"precision\",\n      \"properties\": {\n        \"dtype\": \"number\",\n        \"std\": 0.01953018047124554,\n        \"min\": 0.5089408528198074,\n        \"max\": 0.545998160073597,\n        \"num_unique_values\": 3,\n        \"samples\": [\n          0.545998160073597,\n          0.538163001293661,\n          0.5089408528198074\n        ],\n        \"semantic_type\": \"\",\n        \"description\": \"\"\n      }\n    },\n    {\n      \"column\": \"recall\",\n      \"properties\": {\n        \"dtype\": \"number\",\n        \"std\": 0.016299562284426666,\n        \"min\": 0.3790983606557377,\n        \"max\": 0.41106719367588934,\n        \"num_unique_values\": 3,\n        \"samples\": [\n          0.4006074924063449,\n          0.41106719367588934,\n          0.3790983606557377\n        ],\n        \"semantic_type\": \"\",\n        \"description\": \"\"\n      }\n    },\n    {\n      \"column\": \"f1\",\n      \"properties\": {\n        \"dtype\": \"number\",\n        \"std\": 0.017201328561240847,\n        \"min\": 0.4345273047563124,\n        \"max\": 0.4661064425770308,\n        \"num_unique_values\": 3,\n        \"samples\": [\n          0.4621374343001752,\n          0.4661064425770308,\n          0.4345273047563124\n        ],\n        \"semantic_type\": \"\",\n        \"description\": \"\"\n      }\n    },\n    {\n      \"column\": \"roc_auc\",\n      \"properties\": {\n        \"dtype\": \"number\",\n        \"std\": 0.015385620244391045,\n        \"min\": 0.5194281906378073,\n        \"max\": 0.5489354991887099,\n        \"num_unique_values\": 3,\n        \"samples\": [\n          0.5489354991887099,\n          0.5417410107055416,\n          0.5194281906378073\n        ],\n        \"semantic_type\": \"\",\n        \"description\": \"\"\n      }\n    }\n  ]\n}",
       "type": "dataframe",
       "variable_name": "res_Phone"
      },
      "text/html": "\n  <div id=\"df-000d7af6-bfe2-4e3a-b1c0-86041b0f8fb7\" class=\"colab-df-container\">\n    <div>\n<style scoped>\n    .dataframe tbody tr th:only-of-type {\n        vertical-align: middle;\n    }\n\n    .dataframe tbody tr th {\n        vertical-align: top;\n    }\n\n    .dataframe thead th {\n        text-align: right;\n    }\n</style>\n<table border=\"1\" class=\"dataframe\">\n  <thead>\n    <tr style=\"text-align: right;\">\n      <th></th>\n      <th>precision</th>\n      <th>recall</th>\n      <th>f1</th>\n      <th>roc_auc</th>\n    </tr>\n  </thead>\n  <tbody>\n    <tr>\n      <th>train</th>\n      <td>0.545998</td>\n      <td>0.400607</td>\n      <td>0.462137</td>\n      <td>0.548935</td>\n    </tr>\n    <tr>\n      <th>valid</th>\n      <td>0.538163</td>\n      <td>0.411067</td>\n      <td>0.466106</td>\n      <td>0.541741</td>\n    </tr>\n    <tr>\n      <th>test</th>\n      <td>0.508941</td>\n      <td>0.379098</td>\n      <td>0.434527</td>\n      <td>0.519428</td>\n    </tr>\n  </tbody>\n</table>\n</div>\n    <div class=\"colab-df-buttons\">\n\n  <div class=\"colab-df-container\">\n    <button class=\"colab-df-convert\" onclick=\"convertToInteractive('df-000d7af6-bfe2-4e3a-b1c0-86041b0f8fb7')\"\n            title=\"Convert this dataframe to an interactive table.\"\n            style=\"display:none;\">\n\n  <svg xmlns=\"http://www.w3.org/2000/svg\" height=\"24px\" viewBox=\"0 -960 960 960\">\n    <path d=\"M120-120v-720h720v720H120Zm60-500h600v-160H180v160Zm220 220h160v-160H400v160Zm0 220h160v-160H400v160ZM180-400h160v-160H180v160Zm440 0h160v-160H620v160ZM180-180h160v-160H180v160Zm440 0h160v-160H620v160Z\"/>\n  </svg>\n    </button>\n\n  <style>\n    .colab-df-container {\n      display:flex;\n      gap: 12px;\n    }\n\n    .colab-df-convert {\n      background-color: #E8F0FE;\n      border: none;\n      border-radius: 50%;\n      cursor: pointer;\n      display: none;\n      fill: #1967D2;\n      height: 32px;\n      padding: 0 0 0 0;\n      width: 32px;\n    }\n\n    .colab-df-convert:hover {\n      background-color: #E2EBFA;\n      box-shadow: 0px 1px 2px rgba(60, 64, 67, 0.3), 0px 1px 3px 1px rgba(60, 64, 67, 0.15);\n      fill: #174EA6;\n    }\n\n    .colab-df-buttons div {\n      margin-bottom: 4px;\n    }\n\n    [theme=dark] .colab-df-convert {\n      background-color: #3B4455;\n      fill: #D2E3FC;\n    }\n\n    [theme=dark] .colab-df-convert:hover {\n      background-color: #434B5C;\n      box-shadow: 0px 1px 3px 1px rgba(0, 0, 0, 0.15);\n      filter: drop-shadow(0px 1px 2px rgba(0, 0, 0, 0.3));\n      fill: #FFFFFF;\n    }\n  </style>\n\n    <script>\n      const buttonEl =\n        document.querySelector('#df-000d7af6-bfe2-4e3a-b1c0-86041b0f8fb7 button.colab-df-convert');\n      buttonEl.style.display =\n        google.colab.kernel.accessAllowed ? 'block' : 'none';\n\n      async function convertToInteractive(key) {\n        const element = document.querySelector('#df-000d7af6-bfe2-4e3a-b1c0-86041b0f8fb7');\n        const dataTable =\n          await google.colab.kernel.invokeFunction('convertToInteractive',\n                                                    [key], {});\n        if (!dataTable) return;\n\n        const docLinkHtml = 'Like what you see? Visit the ' +\n          '<a target=\"_blank\" href=https://colab.research.google.com/notebooks/data_table.ipynb>data table notebook</a>'\n          + ' to learn more about interactive tables.';\n        element.innerHTML = '';\n        dataTable['output_type'] = 'display_data';\n        await google.colab.output.renderOutput(dataTable, element);\n        const docLink = document.createElement('div');\n        docLink.innerHTML = docLinkHtml;\n        element.appendChild(docLink);\n      }\n    </script>\n  </div>\n\n\n<div id=\"df-a83d9338-ad65-434f-953c-252ceb1242d8\">\n  <button class=\"colab-df-quickchart\" onclick=\"quickchart('df-a83d9338-ad65-434f-953c-252ceb1242d8')\"\n            title=\"Suggest charts\"\n            style=\"display:none;\">\n\n<svg xmlns=\"http://www.w3.org/2000/svg\" height=\"24px\"viewBox=\"0 0 24 24\"\n     width=\"24px\">\n    <g>\n        <path d=\"M19 3H5c-1.1 0-2 .9-2 2v14c0 1.1.9 2 2 2h14c1.1 0 2-.9 2-2V5c0-1.1-.9-2-2-2zM9 17H7v-7h2v7zm4 0h-2V7h2v10zm4 0h-2v-4h2v4z\"/>\n    </g>\n</svg>\n  </button>\n\n<style>\n  .colab-df-quickchart {\n      --bg-color: #E8F0FE;\n      --fill-color: #1967D2;\n      --hover-bg-color: #E2EBFA;\n      --hover-fill-color: #174EA6;\n      --disabled-fill-color: #AAA;\n      --disabled-bg-color: #DDD;\n  }\n\n  [theme=dark] .colab-df-quickchart {\n      --bg-color: #3B4455;\n      --fill-color: #D2E3FC;\n      --hover-bg-color: #434B5C;\n      --hover-fill-color: #FFFFFF;\n      --disabled-bg-color: #3B4455;\n      --disabled-fill-color: #666;\n  }\n\n  .colab-df-quickchart {\n    background-color: var(--bg-color);\n    border: none;\n    border-radius: 50%;\n    cursor: pointer;\n    display: none;\n    fill: var(--fill-color);\n    height: 32px;\n    padding: 0;\n    width: 32px;\n  }\n\n  .colab-df-quickchart:hover {\n    background-color: var(--hover-bg-color);\n    box-shadow: 0 1px 2px rgba(60, 64, 67, 0.3), 0 1px 3px 1px rgba(60, 64, 67, 0.15);\n    fill: var(--button-hover-fill-color);\n  }\n\n  .colab-df-quickchart-complete:disabled,\n  .colab-df-quickchart-complete:disabled:hover {\n    background-color: var(--disabled-bg-color);\n    fill: var(--disabled-fill-color);\n    box-shadow: none;\n  }\n\n  .colab-df-spinner {\n    border: 2px solid var(--fill-color);\n    border-color: transparent;\n    border-bottom-color: var(--fill-color);\n    animation:\n      spin 1s steps(1) infinite;\n  }\n\n  @keyframes spin {\n    0% {\n      border-color: transparent;\n      border-bottom-color: var(--fill-color);\n      border-left-color: var(--fill-color);\n    }\n    20% {\n      border-color: transparent;\n      border-left-color: var(--fill-color);\n      border-top-color: var(--fill-color);\n    }\n    30% {\n      border-color: transparent;\n      border-left-color: var(--fill-color);\n      border-top-color: var(--fill-color);\n      border-right-color: var(--fill-color);\n    }\n    40% {\n      border-color: transparent;\n      border-right-color: var(--fill-color);\n      border-top-color: var(--fill-color);\n    }\n    60% {\n      border-color: transparent;\n      border-right-color: var(--fill-color);\n    }\n    80% {\n      border-color: transparent;\n      border-right-color: var(--fill-color);\n      border-bottom-color: var(--fill-color);\n    }\n    90% {\n      border-color: transparent;\n      border-bottom-color: var(--fill-color);\n    }\n  }\n</style>\n\n  <script>\n    async function quickchart(key) {\n      const quickchartButtonEl =\n        document.querySelector('#' + key + ' button');\n      quickchartButtonEl.disabled = true;  // To prevent multiple clicks.\n      quickchartButtonEl.classList.add('colab-df-spinner');\n      try {\n        const charts = await google.colab.kernel.invokeFunction(\n            'suggestCharts', [key], {});\n      } catch (error) {\n        console.error('Error during call to suggestCharts:', error);\n      }\n      quickchartButtonEl.classList.remove('colab-df-spinner');\n      quickchartButtonEl.classList.add('colab-df-quickchart-complete');\n    }\n    (() => {\n      let quickchartButtonEl =\n        document.querySelector('#df-a83d9338-ad65-434f-953c-252ceb1242d8 button');\n      quickchartButtonEl.style.display =\n        google.colab.kernel.accessAllowed ? 'block' : 'none';\n    })();\n  </script>\n</div>\n    </div>\n  </div>\n",
      "text/plain": "       precision    recall        f1   roc_auc\ntrain   0.545998  0.400607  0.462137  0.548935\nvalid   0.538163  0.411067  0.466106  0.541741\ntest    0.508941  0.379098  0.434527  0.519428"
     },
     "execution_count": 22,
     "metadata": {},
     "output_type": "execute_result"
    }
   ]
  },
  {
   "metadata": {
    "colab": {
     "background_save": true
    },
    "id": "mSDNLaJwFEBY",
    "outputId": "9cca56f5-9f06-40c5-a2c5-f5b316c409b4",
    "trusted": false
   },
   "cell_type": "code",
   "source": "res_Charger",
   "execution_count": null,
   "outputs": [
    {
     "data": {
      "application/vnd.google.colaboratory.intrinsic+json": {
       "summary": "{\n  \"name\": \"res_Charger\",\n  \"rows\": 3,\n  \"fields\": [\n    {\n      \"column\": \"precision\",\n      \"properties\": {\n        \"dtype\": \"number\",\n        \"std\": 0.04781992668000722,\n        \"min\": 0.5539772727272727,\n        \"max\": 0.6394984326018809,\n        \"num_unique_values\": 3,\n        \"samples\": [\n          0.6394984326018809,\n          0.5539772727272727,\n          0.5596590909090909\n        ],\n        \"semantic_type\": \"\",\n        \"description\": \"\"\n      }\n    },\n    {\n      \"column\": \"recall\",\n      \"properties\": {\n        \"dtype\": \"number\",\n        \"std\": 0.0022598886877863507,\n        \"min\": 0.2888154789995281,\n        \"max\": 0.2932330827067669,\n        \"num_unique_values\": 3,\n        \"samples\": [\n          0.2888154789995281,\n          0.2932330827067669,\n          0.29185185185185186\n        ],\n        \"semantic_type\": \"\",\n        \"description\": \"\"\n      }\n    },\n    {\n      \"column\": \"f1\",\n      \"properties\": {\n        \"dtype\": \"number\",\n        \"std\": 0.00829005770974619,\n        \"min\": 0.3834808259587021,\n        \"max\": 0.39791937581274384,\n        \"num_unique_values\": 3,\n        \"samples\": [\n          0.39791937581274384,\n          0.3834808259587021,\n          0.3836416747809153\n        ],\n        \"semantic_type\": \"\",\n        \"description\": \"\"\n      }\n    },\n    {\n      \"column\": \"roc_auc\",\n      \"properties\": {\n        \"dtype\": \"number\",\n        \"std\": 0.0203819768118535,\n        \"min\": 0.6675924528301888,\n        \"max\": 0.706019050227029,\n        \"num_unique_values\": 3,\n        \"samples\": [\n          0.706019050227029,\n          0.6985880431415619,\n          0.6675924528301888\n        ],\n        \"semantic_type\": \"\",\n        \"description\": \"\"\n      }\n    }\n  ]\n}",
       "type": "dataframe",
       "variable_name": "res_Charger"
      },
      "text/html": "\n  <div id=\"df-bc5132b8-0e79-4d2f-af65-5e0d1124b8cd\" class=\"colab-df-container\">\n    <div>\n<style scoped>\n    .dataframe tbody tr th:only-of-type {\n        vertical-align: middle;\n    }\n\n    .dataframe tbody tr th {\n        vertical-align: top;\n    }\n\n    .dataframe thead th {\n        text-align: right;\n    }\n</style>\n<table border=\"1\" class=\"dataframe\">\n  <thead>\n    <tr style=\"text-align: right;\">\n      <th></th>\n      <th>precision</th>\n      <th>recall</th>\n      <th>f1</th>\n      <th>roc_auc</th>\n    </tr>\n  </thead>\n  <tbody>\n    <tr>\n      <th>train</th>\n      <td>0.639498</td>\n      <td>0.288815</td>\n      <td>0.397919</td>\n      <td>0.706019</td>\n    </tr>\n    <tr>\n      <th>valid</th>\n      <td>0.553977</td>\n      <td>0.293233</td>\n      <td>0.383481</td>\n      <td>0.698588</td>\n    </tr>\n    <tr>\n      <th>test</th>\n      <td>0.559659</td>\n      <td>0.291852</td>\n      <td>0.383642</td>\n      <td>0.667592</td>\n    </tr>\n  </tbody>\n</table>\n</div>\n    <div class=\"colab-df-buttons\">\n\n  <div class=\"colab-df-container\">\n    <button class=\"colab-df-convert\" onclick=\"convertToInteractive('df-bc5132b8-0e79-4d2f-af65-5e0d1124b8cd')\"\n            title=\"Convert this dataframe to an interactive table.\"\n            style=\"display:none;\">\n\n  <svg xmlns=\"http://www.w3.org/2000/svg\" height=\"24px\" viewBox=\"0 -960 960 960\">\n    <path d=\"M120-120v-720h720v720H120Zm60-500h600v-160H180v160Zm220 220h160v-160H400v160Zm0 220h160v-160H400v160ZM180-400h160v-160H180v160Zm440 0h160v-160H620v160ZM180-180h160v-160H180v160Zm440 0h160v-160H620v160Z\"/>\n  </svg>\n    </button>\n\n  <style>\n    .colab-df-container {\n      display:flex;\n      gap: 12px;\n    }\n\n    .colab-df-convert {\n      background-color: #E8F0FE;\n      border: none;\n      border-radius: 50%;\n      cursor: pointer;\n      display: none;\n      fill: #1967D2;\n      height: 32px;\n      padding: 0 0 0 0;\n      width: 32px;\n    }\n\n    .colab-df-convert:hover {\n      background-color: #E2EBFA;\n      box-shadow: 0px 1px 2px rgba(60, 64, 67, 0.3), 0px 1px 3px 1px rgba(60, 64, 67, 0.15);\n      fill: #174EA6;\n    }\n\n    .colab-df-buttons div {\n      margin-bottom: 4px;\n    }\n\n    [theme=dark] .colab-df-convert {\n      background-color: #3B4455;\n      fill: #D2E3FC;\n    }\n\n    [theme=dark] .colab-df-convert:hover {\n      background-color: #434B5C;\n      box-shadow: 0px 1px 3px 1px rgba(0, 0, 0, 0.15);\n      filter: drop-shadow(0px 1px 2px rgba(0, 0, 0, 0.3));\n      fill: #FFFFFF;\n    }\n  </style>\n\n    <script>\n      const buttonEl =\n        document.querySelector('#df-bc5132b8-0e79-4d2f-af65-5e0d1124b8cd button.colab-df-convert');\n      buttonEl.style.display =\n        google.colab.kernel.accessAllowed ? 'block' : 'none';\n\n      async function convertToInteractive(key) {\n        const element = document.querySelector('#df-bc5132b8-0e79-4d2f-af65-5e0d1124b8cd');\n        const dataTable =\n          await google.colab.kernel.invokeFunction('convertToInteractive',\n                                                    [key], {});\n        if (!dataTable) return;\n\n        const docLinkHtml = 'Like what you see? Visit the ' +\n          '<a target=\"_blank\" href=https://colab.research.google.com/notebooks/data_table.ipynb>data table notebook</a>'\n          + ' to learn more about interactive tables.';\n        element.innerHTML = '';\n        dataTable['output_type'] = 'display_data';\n        await google.colab.output.renderOutput(dataTable, element);\n        const docLink = document.createElement('div');\n        docLink.innerHTML = docLinkHtml;\n        element.appendChild(docLink);\n      }\n    </script>\n  </div>\n\n\n<div id=\"df-99c78c24-692a-45f4-b74b-7b8b893654ce\">\n  <button class=\"colab-df-quickchart\" onclick=\"quickchart('df-99c78c24-692a-45f4-b74b-7b8b893654ce')\"\n            title=\"Suggest charts\"\n            style=\"display:none;\">\n\n<svg xmlns=\"http://www.w3.org/2000/svg\" height=\"24px\"viewBox=\"0 0 24 24\"\n     width=\"24px\">\n    <g>\n        <path d=\"M19 3H5c-1.1 0-2 .9-2 2v14c0 1.1.9 2 2 2h14c1.1 0 2-.9 2-2V5c0-1.1-.9-2-2-2zM9 17H7v-7h2v7zm4 0h-2V7h2v10zm4 0h-2v-4h2v4z\"/>\n    </g>\n</svg>\n  </button>\n\n<style>\n  .colab-df-quickchart {\n      --bg-color: #E8F0FE;\n      --fill-color: #1967D2;\n      --hover-bg-color: #E2EBFA;\n      --hover-fill-color: #174EA6;\n      --disabled-fill-color: #AAA;\n      --disabled-bg-color: #DDD;\n  }\n\n  [theme=dark] .colab-df-quickchart {\n      --bg-color: #3B4455;\n      --fill-color: #D2E3FC;\n      --hover-bg-color: #434B5C;\n      --hover-fill-color: #FFFFFF;\n      --disabled-bg-color: #3B4455;\n      --disabled-fill-color: #666;\n  }\n\n  .colab-df-quickchart {\n    background-color: var(--bg-color);\n    border: none;\n    border-radius: 50%;\n    cursor: pointer;\n    display: none;\n    fill: var(--fill-color);\n    height: 32px;\n    padding: 0;\n    width: 32px;\n  }\n\n  .colab-df-quickchart:hover {\n    background-color: var(--hover-bg-color);\n    box-shadow: 0 1px 2px rgba(60, 64, 67, 0.3), 0 1px 3px 1px rgba(60, 64, 67, 0.15);\n    fill: var(--button-hover-fill-color);\n  }\n\n  .colab-df-quickchart-complete:disabled,\n  .colab-df-quickchart-complete:disabled:hover {\n    background-color: var(--disabled-bg-color);\n    fill: var(--disabled-fill-color);\n    box-shadow: none;\n  }\n\n  .colab-df-spinner {\n    border: 2px solid var(--fill-color);\n    border-color: transparent;\n    border-bottom-color: var(--fill-color);\n    animation:\n      spin 1s steps(1) infinite;\n  }\n\n  @keyframes spin {\n    0% {\n      border-color: transparent;\n      border-bottom-color: var(--fill-color);\n      border-left-color: var(--fill-color);\n    }\n    20% {\n      border-color: transparent;\n      border-left-color: var(--fill-color);\n      border-top-color: var(--fill-color);\n    }\n    30% {\n      border-color: transparent;\n      border-left-color: var(--fill-color);\n      border-top-color: var(--fill-color);\n      border-right-color: var(--fill-color);\n    }\n    40% {\n      border-color: transparent;\n      border-right-color: var(--fill-color);\n      border-top-color: var(--fill-color);\n    }\n    60% {\n      border-color: transparent;\n      border-right-color: var(--fill-color);\n    }\n    80% {\n      border-color: transparent;\n      border-right-color: var(--fill-color);\n      border-bottom-color: var(--fill-color);\n    }\n    90% {\n      border-color: transparent;\n      border-bottom-color: var(--fill-color);\n    }\n  }\n</style>\n\n  <script>\n    async function quickchart(key) {\n      const quickchartButtonEl =\n        document.querySelector('#' + key + ' button');\n      quickchartButtonEl.disabled = true;  // To prevent multiple clicks.\n      quickchartButtonEl.classList.add('colab-df-spinner');\n      try {\n        const charts = await google.colab.kernel.invokeFunction(\n            'suggestCharts', [key], {});\n      } catch (error) {\n        console.error('Error during call to suggestCharts:', error);\n      }\n      quickchartButtonEl.classList.remove('colab-df-spinner');\n      quickchartButtonEl.classList.add('colab-df-quickchart-complete');\n    }\n    (() => {\n      let quickchartButtonEl =\n        document.querySelector('#df-99c78c24-692a-45f4-b74b-7b8b893654ce button');\n      quickchartButtonEl.style.display =\n        google.colab.kernel.accessAllowed ? 'block' : 'none';\n    })();\n  </script>\n</div>\n    </div>\n  </div>\n",
      "text/plain": "       precision    recall        f1   roc_auc\ntrain   0.639498  0.288815  0.397919  0.706019\nvalid   0.553977  0.293233  0.383481  0.698588\ntest    0.559659  0.291852  0.383642  0.667592"
     },
     "execution_count": 23,
     "metadata": {},
     "output_type": "execute_result"
    }
   ]
  },
  {
   "metadata": {
    "id": "L6L1pD-XOgZj"
   },
   "cell_type": "markdown",
   "source": "### <b><span style='color:#686dec'>Калибровка Моделей</span></b>\n\nОбучив модели, нам всегда требуется калибровка модели, чтобы получить истинные значение вероятности, особенно если на надо сравнивать разные классификаторы."
  },
  {
   "metadata": {
    "colab": {
     "background_save": true
    },
    "id": "fVeHtGxgIYn3",
    "trusted": false
   },
   "cell_type": "code",
   "source": "# калиброваться будем на изотонике\nfrom sklearn.isotonic import IsotonicRegression\n\n# функция для калибровки\ndef calibrate(model, X_valid, y_valid):\n  y_pred = model.predict_proba(X_valid)[:, 1]\n  # y_pred2 = model.predict_proba(X_valid)[:,0]\n  iso_reg = IsotonicRegression(out_of_bounds='clip')\n  iso_reg.fit(y_pred, y_valid)\n  y_pred_iso = iso_reg.transform(y_pred)\n  return iso_reg",
   "execution_count": null,
   "outputs": []
  },
  {
   "metadata": {},
   "cell_type": "markdown",
   "source": "Все, получили наши откалиброванные модели для каждого товара"
  },
  {
   "metadata": {
    "colab": {
     "background_save": true
    },
    "id": "RN1IpqwyLO3a",
    "trusted": false
   },
   "cell_type": "code",
   "source": "# обучаем калибровку на валидационном датасете (можно и на трейне)\niso_reg_Laptop = calibrate(model_Laptop, X_valid_Laptop, y_valid_Laptop)\niso_reg_Charger = calibrate(model_Charger, X_valid_Charger, y_valid_Charger)\niso_reg_Phone = calibrate(model_Phone, X_valid_Phone, y_valid_Phone)",
   "execution_count": null,
   "outputs": []
  },
  {
   "metadata": {},
   "cell_type": "markdown",
   "source": "### <b><span style='color:#686dec'>Определяем NBA на новой выборке</span></b>\n\n- У нас осталась тестовая выборка которую мы не использовали для обучение наших моделей. Будем использовать эту выборку для пресказания последуюшего вействия. \n- От бизнесса мы получили данные о ценности каждого товара (**NPV**), будем использовать эти метрики для совместно с вероятностями"
  },
  {
   "metadata": {
    "trusted": false
   },
   "cell_type": "code",
   "source": "# net present value\n# ценность каждого товара\n# у кажного продукта свои, финансисты этим занимаются\n\nnpv_values = {\n    'Laptop': 100.0,\n    'Phone': 300.0,\n    'Charger': 200.0\n}",
   "execution_count": null,
   "outputs": []
  },
  {
   "metadata": {
    "colab": {
     "background_save": true
    },
    "id": "q4HEkoG3JX_o",
    "trusted": false
   },
   "cell_type": "code",
   "source": "# сборка датасета для удобного хранения тестовых данных\ncols = X_test_Charger.columns.tolist()\n\n# даем тот же тэг продукта\nX_test_Charger['product'] = 'Charger'\nX_test_Laptop['product'] = 'Laptop'\nX_test_Phone['product'] = 'Phone'\n\n# объединяем тестовые выборки\nX_test = pd.concat([X_test_Charger, X_test_Laptop, X_test_Phone])\ny_test = pd.concat([y_test_Charger, y_test_Laptop, y_test_Phone])\n\ntest_df = X_test[['product']]\ntest_df['NPV'] = test_df['product'].map(npv_values)\ntest_df['target'] = y_test\ntest_df['predict_Charger'] = model_Charger.predict_proba(X_test[cols])[:, 1]\ntest_df['predict_Laptop'] = model_Laptop.predict_proba(X_test[cols])[:, 1]\ntest_df['predict_Phone'] = model_Phone.predict_proba(X_test[cols])[:, 1]",
   "execution_count": null,
   "outputs": []
  },
  {
   "metadata": {},
   "cell_type": "markdown",
   "source": "В данном случае, мы можем проверить точность предсказания на тестовой выборке "
  },
  {
   "metadata": {
    "colab": {
     "base_uri": "https://localhost:8080/"
    },
    "id": "8wMlyJkxM-jq",
    "outputId": "f283722f-26de-4e22-b25f-6d18f4837a3e",
    "trusted": false
   },
   "cell_type": "code",
   "source": "# проверим, что сборка прошла удачно, нигде не ошиблись, и ROC_AUC примерно ожидаемый\nfor product in ['Charger', 'Laptop', 'Phone']:\n  tmp = test_df[test_df['product'] == product]\n  print(f'ROC_AUC for {product}:', roc_auc_score(tmp['target'], tmp[f'predict_{product}']))",
   "execution_count": null,
   "outputs": [
    {
     "name": "stdout",
     "output_type": "stream",
     "text": "ROC_AUC for Charger: 0.6675924528301888\nROC_AUC for Laptop: 0.635050157133878\nROC_AUC for Phone: 0.5194281906378073\n"
    }
   ]
  },
  {
   "metadata": {},
   "cell_type": "markdown",
   "source": "Воспользуемся откалиброванными моделями и предскажем для каждого клиента вероятность покупки каждого товара"
  },
  {
   "metadata": {
    "id": "RufTFAbpNoww",
    "trusted": false
   },
   "cell_type": "code",
   "source": "# применяем калибровку к тестовым семплам\ntest_df['predict_Charger_calibrated'] = iso_reg_Charger.transform(test_df['predict_Charger'])\ntest_df['predict_Laptop_calibrated'] = iso_reg_Laptop.transform(test_df['predict_Laptop'])\n9test_df['predict_Phone_calibrated'] = iso_reg_Phone.transform(test_df['predict_Phone'])",
   "execution_count": null,
   "outputs": []
  },
  {
   "metadata": {},
   "cell_type": "markdown",
   "source": "Каждое предсказание с учетом NPV (**Max_Score_NPV_Product**) и есть то что нам следует рекоммендовать нашему клиетну"
  },
  {
   "metadata": {
    "id": "6AXVQOisQ5iv",
    "trusted": false
   },
   "cell_type": "code",
   "source": "# Названия продуктов и их соответствие скорам\nproduct_scores = {\n    'predict_Charger_calibrated': 'Charger',\n    'predict_Laptop_calibrated': 'Laptop',\n    'predict_Phone_calibrated': 'Phone'\n}\n\n# Вычисление максимального скора и соответствующего продукта\ntest_df['Max_Score_Product'] = test_df[\n    ['predict_Charger_calibrated', 'predict_Laptop_calibrated', 'predict_Phone_calibrated']\n].idxmax(axis=1).map(product_scores)\n\n# Вычисление максимального значения скор * NPV и соответствующего продукта\ndef calculate_max_score_npv_product(row):\n    scores_with_npv = {\n        'Charger': row['predict_Charger_calibrated'] * npv_values['Charger'],\n        'Laptop': row['predict_Laptop_calibrated'] * npv_values['Laptop'],\n        'Phone': row['predict_Phone_calibrated'] * npv_values['Phone']\n    }\n    max_product = max(scores_with_npv, key=scores_with_npv.get)\n    return max_product\n\ntest_df['Max_Score_NPV_Product'] = test_df.apply(calculate_max_score_npv_product, axis=1)",
   "execution_count": null,
   "outputs": []
  },
  {
   "metadata": {
    "colab": {
     "base_uri": "https://localhost:8080/",
     "height": 255
    },
    "id": "RAIuEx-cJMr-",
    "outputId": "f3d10039-ec0b-4143-88a7-ed0a6bd3a62c",
    "trusted": false
   },
   "cell_type": "code",
   "source": "test_df[['product', 'NPV', 'target', 'predict_Charger_calibrated','predict_Laptop_calibrated',\n         'predict_Phone_calibrated',\t'Max_Score_Product',\t'Max_Score_NPV_Product']].sample(6)",
   "execution_count": null,
   "outputs": [
    {
     "data": {
      "application/vnd.google.colaboratory.intrinsic+json": {
       "summary": "{\n  \"name\": \"         'predict_Phone_calibrated',\\t'Max_Score_Product',\\t'Max_Score_NPV_Product']]\",\n  \"rows\": 6,\n  \"fields\": [\n    {\n      \"column\": \"product\",\n      \"properties\": {\n        \"dtype\": \"string\",\n        \"num_unique_values\": 3,\n        \"samples\": [\n          \"Phone\",\n          \"Laptop\",\n          \"Charger\"\n        ],\n        \"semantic_type\": \"\",\n        \"description\": \"\"\n      }\n    },\n    {\n      \"column\": \"NPV\",\n      \"properties\": {\n        \"dtype\": \"number\",\n        \"std\": 83.66600265340756,\n        \"min\": 100.0,\n        \"max\": 300.0,\n        \"num_unique_values\": 3,\n        \"samples\": [\n          300.0,\n          100.0,\n          200.0\n        ],\n        \"semantic_type\": \"\",\n        \"description\": \"\"\n      }\n    },\n    {\n      \"column\": \"target\",\n      \"properties\": {\n        \"dtype\": \"number\",\n        \"std\": 0,\n        \"min\": 0,\n        \"max\": 1,\n        \"num_unique_values\": 2,\n        \"samples\": [\n          1,\n          0\n        ],\n        \"semantic_type\": \"\",\n        \"description\": \"\"\n      }\n    },\n    {\n      \"column\": \"predict_Charger_calibrated\",\n      \"properties\": {\n        \"dtype\": \"number\",\n        \"std\": 0.12231770430326977,\n        \"min\": 0.21641791044776118,\n        \"max\": 0.5258358662613982,\n        \"num_unique_values\": 5,\n        \"samples\": [\n          0.2641509433962264,\n          0.3888888888888889\n        ],\n        \"semantic_type\": \"\",\n        \"description\": \"\"\n      }\n    },\n    {\n      \"column\": \"predict_Laptop_calibrated\",\n      \"properties\": {\n        \"dtype\": \"number\",\n        \"std\": 0.12854256723705929,\n        \"min\": 0.40425531914893614,\n        \"max\": 0.7009345794392523,\n        \"num_unique_values\": 5,\n        \"samples\": [\n          0.5652173913043478,\n          0.646551724137931\n        ],\n        \"semantic_type\": \"\",\n        \"description\": \"\"\n      }\n    },\n    {\n      \"column\": \"predict_Phone_calibrated\",\n      \"properties\": {\n        \"dtype\": \"number\",\n        \"std\": 0.021698057910626168,\n        \"min\": 0.48983050847457626,\n        \"max\": 0.5355450236966826,\n        \"num_unique_values\": 3,\n        \"samples\": [\n          0.5303776683087027,\n          0.48983050847457626\n        ],\n        \"semantic_type\": \"\",\n        \"description\": \"\"\n      }\n    },\n    {\n      \"column\": \"Max_Score_Product\",\n      \"properties\": {\n        \"dtype\": \"category\",\n        \"num_unique_values\": 2,\n        \"samples\": [\n          \"Laptop\",\n          \"Phone\"\n        ],\n        \"semantic_type\": \"\",\n        \"description\": \"\"\n      }\n    },\n    {\n      \"column\": \"Max_Score_NPV_Product\",\n      \"properties\": {\n        \"dtype\": \"category\",\n        \"num_unique_values\": 1,\n        \"samples\": [\n          \"Phone\"\n        ],\n        \"semantic_type\": \"\",\n        \"description\": \"\"\n      }\n    }\n  ]\n}",
       "type": "dataframe"
      },
      "text/html": "\n  <div id=\"df-effe5a75-fac1-41a9-86a6-3fa408308788\" class=\"colab-df-container\">\n    <div>\n<style scoped>\n    .dataframe tbody tr th:only-of-type {\n        vertical-align: middle;\n    }\n\n    .dataframe tbody tr th {\n        vertical-align: top;\n    }\n\n    .dataframe thead th {\n        text-align: right;\n    }\n</style>\n<table border=\"1\" class=\"dataframe\">\n  <thead>\n    <tr style=\"text-align: right;\">\n      <th></th>\n      <th>product</th>\n      <th>NPV</th>\n      <th>target</th>\n      <th>predict_Charger_calibrated</th>\n      <th>predict_Laptop_calibrated</th>\n      <th>predict_Phone_calibrated</th>\n      <th>Max_Score_Product</th>\n      <th>Max_Score_NPV_Product</th>\n    </tr>\n  </thead>\n  <tbody>\n    <tr>\n      <th>528</th>\n      <td>Phone</td>\n      <td>300.0</td>\n      <td>0</td>\n      <td>0.383764</td>\n      <td>0.446309</td>\n      <td>0.530378</td>\n      <td>Phone</td>\n      <td>Phone</td>\n    </tr>\n    <tr>\n      <th>8662</th>\n      <td>Phone</td>\n      <td>300.0</td>\n      <td>1</td>\n      <td>0.264151</td>\n      <td>0.565217</td>\n      <td>0.489831</td>\n      <td>Laptop</td>\n      <td>Phone</td>\n    </tr>\n    <tr>\n      <th>2287</th>\n      <td>Phone</td>\n      <td>300.0</td>\n      <td>0</td>\n      <td>0.525836</td>\n      <td>0.700935</td>\n      <td>0.530378</td>\n      <td>Laptop</td>\n      <td>Phone</td>\n    </tr>\n    <tr>\n      <th>252</th>\n      <td>Laptop</td>\n      <td>100.0</td>\n      <td>1</td>\n      <td>0.216418</td>\n      <td>0.404255</td>\n      <td>0.530378</td>\n      <td>Phone</td>\n      <td>Phone</td>\n    </tr>\n    <tr>\n      <th>7716</th>\n      <td>Charger</td>\n      <td>200.0</td>\n      <td>0</td>\n      <td>0.216418</td>\n      <td>0.646552</td>\n      <td>0.489831</td>\n      <td>Laptop</td>\n      <td>Phone</td>\n    </tr>\n    <tr>\n      <th>5078</th>\n      <td>Phone</td>\n      <td>300.0</td>\n      <td>1</td>\n      <td>0.388889</td>\n      <td>0.700935</td>\n      <td>0.535545</td>\n      <td>Laptop</td>\n      <td>Phone</td>\n    </tr>\n  </tbody>\n</table>\n</div>\n    <div class=\"colab-df-buttons\">\n\n  <div class=\"colab-df-container\">\n    <button class=\"colab-df-convert\" onclick=\"convertToInteractive('df-effe5a75-fac1-41a9-86a6-3fa408308788')\"\n            title=\"Convert this dataframe to an interactive table.\"\n            style=\"display:none;\">\n\n  <svg xmlns=\"http://www.w3.org/2000/svg\" height=\"24px\" viewBox=\"0 -960 960 960\">\n    <path d=\"M120-120v-720h720v720H120Zm60-500h600v-160H180v160Zm220 220h160v-160H400v160Zm0 220h160v-160H400v160ZM180-400h160v-160H180v160Zm440 0h160v-160H620v160ZM180-180h160v-160H180v160Zm440 0h160v-160H620v160Z\"/>\n  </svg>\n    </button>\n\n  <style>\n    .colab-df-container {\n      display:flex;\n      gap: 12px;\n    }\n\n    .colab-df-convert {\n      background-color: #E8F0FE;\n      border: none;\n      border-radius: 50%;\n      cursor: pointer;\n      display: none;\n      fill: #1967D2;\n      height: 32px;\n      padding: 0 0 0 0;\n      width: 32px;\n    }\n\n    .colab-df-convert:hover {\n      background-color: #E2EBFA;\n      box-shadow: 0px 1px 2px rgba(60, 64, 67, 0.3), 0px 1px 3px 1px rgba(60, 64, 67, 0.15);\n      fill: #174EA6;\n    }\n\n    .colab-df-buttons div {\n      margin-bottom: 4px;\n    }\n\n    [theme=dark] .colab-df-convert {\n      background-color: #3B4455;\n      fill: #D2E3FC;\n    }\n\n    [theme=dark] .colab-df-convert:hover {\n      background-color: #434B5C;\n      box-shadow: 0px 1px 3px 1px rgba(0, 0, 0, 0.15);\n      filter: drop-shadow(0px 1px 2px rgba(0, 0, 0, 0.3));\n      fill: #FFFFFF;\n    }\n  </style>\n\n    <script>\n      const buttonEl =\n        document.querySelector('#df-effe5a75-fac1-41a9-86a6-3fa408308788 button.colab-df-convert');\n      buttonEl.style.display =\n        google.colab.kernel.accessAllowed ? 'block' : 'none';\n\n      async function convertToInteractive(key) {\n        const element = document.querySelector('#df-effe5a75-fac1-41a9-86a6-3fa408308788');\n        const dataTable =\n          await google.colab.kernel.invokeFunction('convertToInteractive',\n                                                    [key], {});\n        if (!dataTable) return;\n\n        const docLinkHtml = 'Like what you see? Visit the ' +\n          '<a target=\"_blank\" href=https://colab.research.google.com/notebooks/data_table.ipynb>data table notebook</a>'\n          + ' to learn more about interactive tables.';\n        element.innerHTML = '';\n        dataTable['output_type'] = 'display_data';\n        await google.colab.output.renderOutput(dataTable, element);\n        const docLink = document.createElement('div');\n        docLink.innerHTML = docLinkHtml;\n        element.appendChild(docLink);\n      }\n    </script>\n  </div>\n\n\n<div id=\"df-c8ea3f19-1d25-41ac-93bd-1a4d1de796d4\">\n  <button class=\"colab-df-quickchart\" onclick=\"quickchart('df-c8ea3f19-1d25-41ac-93bd-1a4d1de796d4')\"\n            title=\"Suggest charts\"\n            style=\"display:none;\">\n\n<svg xmlns=\"http://www.w3.org/2000/svg\" height=\"24px\"viewBox=\"0 0 24 24\"\n     width=\"24px\">\n    <g>\n        <path d=\"M19 3H5c-1.1 0-2 .9-2 2v14c0 1.1.9 2 2 2h14c1.1 0 2-.9 2-2V5c0-1.1-.9-2-2-2zM9 17H7v-7h2v7zm4 0h-2V7h2v10zm4 0h-2v-4h2v4z\"/>\n    </g>\n</svg>\n  </button>\n\n<style>\n  .colab-df-quickchart {\n      --bg-color: #E8F0FE;\n      --fill-color: #1967D2;\n      --hover-bg-color: #E2EBFA;\n      --hover-fill-color: #174EA6;\n      --disabled-fill-color: #AAA;\n      --disabled-bg-color: #DDD;\n  }\n\n  [theme=dark] .colab-df-quickchart {\n      --bg-color: #3B4455;\n      --fill-color: #D2E3FC;\n      --hover-bg-color: #434B5C;\n      --hover-fill-color: #FFFFFF;\n      --disabled-bg-color: #3B4455;\n      --disabled-fill-color: #666;\n  }\n\n  .colab-df-quickchart {\n    background-color: var(--bg-color);\n    border: none;\n    border-radius: 50%;\n    cursor: pointer;\n    display: none;\n    fill: var(--fill-color);\n    height: 32px;\n    padding: 0;\n    width: 32px;\n  }\n\n  .colab-df-quickchart:hover {\n    background-color: var(--hover-bg-color);\n    box-shadow: 0 1px 2px rgba(60, 64, 67, 0.3), 0 1px 3px 1px rgba(60, 64, 67, 0.15);\n    fill: var(--button-hover-fill-color);\n  }\n\n  .colab-df-quickchart-complete:disabled,\n  .colab-df-quickchart-complete:disabled:hover {\n    background-color: var(--disabled-bg-color);\n    fill: var(--disabled-fill-color);\n    box-shadow: none;\n  }\n\n  .colab-df-spinner {\n    border: 2px solid var(--fill-color);\n    border-color: transparent;\n    border-bottom-color: var(--fill-color);\n    animation:\n      spin 1s steps(1) infinite;\n  }\n\n  @keyframes spin {\n    0% {\n      border-color: transparent;\n      border-bottom-color: var(--fill-color);\n      border-left-color: var(--fill-color);\n    }\n    20% {\n      border-color: transparent;\n      border-left-color: var(--fill-color);\n      border-top-color: var(--fill-color);\n    }\n    30% {\n      border-color: transparent;\n      border-left-color: var(--fill-color);\n      border-top-color: var(--fill-color);\n      border-right-color: var(--fill-color);\n    }\n    40% {\n      border-color: transparent;\n      border-right-color: var(--fill-color);\n      border-top-color: var(--fill-color);\n    }\n    60% {\n      border-color: transparent;\n      border-right-color: var(--fill-color);\n    }\n    80% {\n      border-color: transparent;\n      border-right-color: var(--fill-color);\n      border-bottom-color: var(--fill-color);\n    }\n    90% {\n      border-color: transparent;\n      border-bottom-color: var(--fill-color);\n    }\n  }\n</style>\n\n  <script>\n    async function quickchart(key) {\n      const quickchartButtonEl =\n        document.querySelector('#' + key + ' button');\n      quickchartButtonEl.disabled = true;  // To prevent multiple clicks.\n      quickchartButtonEl.classList.add('colab-df-spinner');\n      try {\n        const charts = await google.colab.kernel.invokeFunction(\n            'suggestCharts', [key], {});\n      } catch (error) {\n        console.error('Error during call to suggestCharts:', error);\n      }\n      quickchartButtonEl.classList.remove('colab-df-spinner');\n      quickchartButtonEl.classList.add('colab-df-quickchart-complete');\n    }\n    (() => {\n      let quickchartButtonEl =\n        document.querySelector('#df-c8ea3f19-1d25-41ac-93bd-1a4d1de796d4 button');\n      quickchartButtonEl.style.display =\n        google.colab.kernel.accessAllowed ? 'block' : 'none';\n    })();\n  </script>\n</div>\n    </div>\n  </div>\n",
      "text/plain": "      product    NPV  target  predict_Charger_calibrated  \\\n528     Phone  300.0       0                    0.383764   \n8662    Phone  300.0       1                    0.264151   \n2287    Phone  300.0       0                    0.525836   \n252    Laptop  100.0       1                    0.216418   \n7716  Charger  200.0       0                    0.216418   \n5078    Phone  300.0       1                    0.388889   \n\n      predict_Laptop_calibrated  predict_Phone_calibrated Max_Score_Product  \\\n528                    0.446309                  0.530378             Phone   \n8662                   0.565217                  0.489831            Laptop   \n2287                   0.700935                  0.530378            Laptop   \n252                    0.404255                  0.530378             Phone   \n7716                   0.646552                  0.489831            Laptop   \n5078                   0.700935                  0.535545            Laptop   \n\n     Max_Score_NPV_Product  \n528                  Phone  \n8662                 Phone  \n2287                 Phone  \n252                  Phone  \n7716                 Phone  \n5078                 Phone  "
     },
     "execution_count": 32,
     "metadata": {},
     "output_type": "execute_result"
    }
   ]
  },
  {
   "metadata": {
    "colab": {
     "base_uri": "https://localhost:8080/",
     "height": 219
    },
    "id": "oUopIE2RHxxU",
    "outputId": "8f5072da-a058-4a18-8526-0263c2efa0d4",
    "trusted": false
   },
   "cell_type": "code",
   "source": "test_df['Max_Score_Product'].value_counts()",
   "execution_count": null,
   "outputs": [
    {
     "data": {
      "text/html": "<div>\n<style scoped>\n    .dataframe tbody tr th:only-of-type {\n        vertical-align: middle;\n    }\n\n    .dataframe tbody tr th {\n        vertical-align: top;\n    }\n\n    .dataframe thead th {\n        text-align: right;\n    }\n</style>\n<table border=\"1\" class=\"dataframe\">\n  <thead>\n    <tr style=\"text-align: right;\">\n      <th></th>\n      <th>count</th>\n    </tr>\n    <tr>\n      <th>Max_Score_Product</th>\n      <th></th>\n    </tr>\n  </thead>\n  <tbody>\n    <tr>\n      <th>Laptop</th>\n      <td>3606</td>\n    </tr>\n    <tr>\n      <th>Phone</th>\n      <td>1966</td>\n    </tr>\n    <tr>\n      <th>Charger</th>\n      <td>428</td>\n    </tr>\n  </tbody>\n</table>\n</div><br><label><b>dtype:</b> int64</label>",
      "text/plain": "Max_Score_Product\nLaptop     3606\nPhone      1966\nCharger     428\nName: count, dtype: int64"
     },
     "execution_count": 34,
     "metadata": {},
     "output_type": "execute_result"
    }
   ]
  },
  {
   "metadata": {
    "colab": {
     "base_uri": "https://localhost:8080/",
     "height": 188
    },
    "id": "E8zUjaZpRbHz",
    "outputId": "ff2e5acb-c0aa-4ff2-c2b8-1b9543ca2a57",
    "trusted": false
   },
   "cell_type": "code",
   "source": "test_df['Max_Score_NPV_Product'].value_counts()",
   "execution_count": null,
   "outputs": [
    {
     "data": {
      "text/html": "<div>\n<style scoped>\n    .dataframe tbody tr th:only-of-type {\n        vertical-align: middle;\n    }\n\n    .dataframe tbody tr th {\n        vertical-align: top;\n    }\n\n    .dataframe thead th {\n        text-align: right;\n    }\n</style>\n<table border=\"1\" class=\"dataframe\">\n  <thead>\n    <tr style=\"text-align: right;\">\n      <th></th>\n      <th>count</th>\n    </tr>\n    <tr>\n      <th>Max_Score_NPV_Product</th>\n      <th></th>\n    </tr>\n  </thead>\n  <tbody>\n    <tr>\n      <th>Phone</th>\n      <td>5944</td>\n    </tr>\n    <tr>\n      <th>Charger</th>\n      <td>56</td>\n    </tr>\n  </tbody>\n</table>\n</div><br><label><b>dtype:</b> int64</label>",
      "text/plain": "Max_Score_NPV_Product\nPhone      5944\nCharger      56\nName: count, dtype: int64"
     },
     "execution_count": 35,
     "metadata": {},
     "output_type": "execute_result"
    }
   ]
  }
 ],
 "metadata": {
  "colab": {
   "provenance": []
  },
  "kernelspec": {
   "name": "python3",
   "display_name": "Python 3",
   "language": "python"
  },
  "language_info": {
   "name": "python",
   "version": "3.10.4",
   "mimetype": "text/x-python",
   "codemirror_mode": {
    "name": "ipython",
    "version": 3
   },
   "pygments_lexer": "ipython3",
   "nbconvert_exporter": "python",
   "file_extension": ".py"
  }
 },
 "nbformat": 4,
 "nbformat_minor": 1
}