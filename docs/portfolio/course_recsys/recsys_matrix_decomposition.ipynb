{
 "cells": [
  {
   "metadata": {
    "_uuid": "8f2839f25d086af736a60e9eeb907d3b93b6e0e5",
    "_cell_guid": "b1076dfc-b9ad-4769-8c92-a6c4dae69d19",
    "execution": {
     "iopub.status.busy": "2024-08-30T04:42:20.558593Z",
     "iopub.execute_input": "2024-08-30T04:42:20.559046Z",
     "iopub.status.idle": "2024-08-30T04:42:20.566756Z",
     "shell.execute_reply.started": "2024-08-30T04:42:20.559004Z",
     "shell.execute_reply": "2024-08-30T04:42:20.565318Z"
    },
    "trusted": false
   },
   "cell_type": "code",
   "source": "# !wget http://files.grouplens.org/datasets/movielens/ml-latest-small.zip\n# !unzip -o ml-latest-small.zip",
   "execution_count": 68,
   "outputs": []
  },
  {
   "metadata": {
    "execution": {
     "iopub.status.busy": "2024-08-30T04:34:26.165409Z",
     "iopub.execute_input": "2024-08-30T04:34:26.165867Z",
     "iopub.status.idle": "2024-08-30T04:34:39.198433Z",
     "shell.execute_reply.started": "2024-08-30T04:34:26.165817Z",
     "shell.execute_reply": "2024-08-30T04:34:39.196997Z"
    },
    "trusted": false
   },
   "cell_type": "code",
   "source": "# pip install replay-rec --quiet\n# pip install implicit -qqq",
   "execution_count": 26,
   "outputs": [
    {
     "name": "stdout",
     "text": "Note: you may need to restart the kernel to use updated packages.\n",
     "output_type": "stream"
    }
   ]
  },
  {
   "metadata": {},
   "cell_type": "markdown",
   "source": "## Методы матричной факторизации\n\n### <b><span style='color:#686dec'>Импортируем библиотеки </span></b>\n\n- Будем использовать `implicit` для ALS\n- Нам так же нужна бибиотека `replay-rec`, из нее будем использовать `replay.metrics`"
  },
  {
   "metadata": {
    "execution": {
     "iopub.status.busy": "2024-08-30T04:34:52.190383Z",
     "iopub.execute_input": "2024-08-30T04:34:52.190976Z",
     "iopub.status.idle": "2024-08-30T04:34:52.199240Z",
     "shell.execute_reply.started": "2024-08-30T04:34:52.190918Z",
     "shell.execute_reply": "2024-08-30T04:34:52.198039Z"
    },
    "trusted": false
   },
   "cell_type": "code",
   "source": "import numpy as np\nimport pandas as pd\nimport os\nfrom sklearn.metrics import mean_absolute_error\nfrom scipy.sparse import csr_matrix\nfrom scipy.sparse.linalg import svds\nimport scipy.sparse as sparse\nimport scipy\nimport matplotlib.pyplot as plt\nfrom tqdm import tqdm\nimport warnings; warnings.filterwarnings('ignore')\n\nfrom replay.metrics import HitRate, NDCG, MAP, Experiment # подсчет метрик \nimport implicit # для ALS",
   "execution_count": 28,
   "outputs": []
  },
  {
   "metadata": {},
   "cell_type": "markdown",
   "source": "### <b><span style='color:#686dec'>Датасет реитингов пользователей </span></b>\n\nРассмотрим датасет от `GroupLens` $-$ [`MovieLens`](https://grouplens.org/datasets/movielens/):\nЭто набор данных из $27 000$ фильмов и $138 000$ пользователей, с общим количеством оценок в $20$ миллионов.\n\nНо мы воспользуемся уменьшенной версией для быстроты вычислений: $9 000$ фильмов, $700$ пользователей, $100 000$ оценок.\nСкачать напрямую датасет можно по этой [ссылке](http://files.grouplens.org/datasets/movielens/ml-latest-small.zip)"
  },
  {
   "metadata": {
    "execution": {
     "iopub.status.busy": "2024-08-30T04:34:52.202466Z",
     "iopub.execute_input": "2024-08-30T04:34:52.202991Z",
     "iopub.status.idle": "2024-08-30T04:34:52.333490Z",
     "shell.execute_reply.started": "2024-08-30T04:34:52.202944Z",
     "shell.execute_reply": "2024-08-30T04:34:52.332277Z"
    },
    "trusted": false
   },
   "cell_type": "code",
   "source": "# data source 1\nratings = pd.read_csv('./ml-latest-small/ratings.csv', parse_dates=['timestamp'])\nratings.head()",
   "execution_count": 29,
   "outputs": [
    {
     "execution_count": 29,
     "output_type": "execute_result",
     "data": {
      "text/plain": "   userId  movieId  rating  timestamp\n0       1        1     4.0  964982703\n1       1        3     4.0  964981247\n2       1        6     4.0  964982224\n3       1       47     5.0  964983815\n4       1       50     5.0  964982931",
      "text/html": "<div>\n<style scoped>\n    .dataframe tbody tr th:only-of-type {\n        vertical-align: middle;\n    }\n\n    .dataframe tbody tr th {\n        vertical-align: top;\n    }\n\n    .dataframe thead th {\n        text-align: right;\n    }\n</style>\n<table border=\"1\" class=\"dataframe\">\n  <thead>\n    <tr style=\"text-align: right;\">\n      <th></th>\n      <th>userId</th>\n      <th>movieId</th>\n      <th>rating</th>\n      <th>timestamp</th>\n    </tr>\n  </thead>\n  <tbody>\n    <tr>\n      <th>0</th>\n      <td>1</td>\n      <td>1</td>\n      <td>4.0</td>\n      <td>964982703</td>\n    </tr>\n    <tr>\n      <th>1</th>\n      <td>1</td>\n      <td>3</td>\n      <td>4.0</td>\n      <td>964981247</td>\n    </tr>\n    <tr>\n      <th>2</th>\n      <td>1</td>\n      <td>6</td>\n      <td>4.0</td>\n      <td>964982224</td>\n    </tr>\n    <tr>\n      <th>3</th>\n      <td>1</td>\n      <td>47</td>\n      <td>5.0</td>\n      <td>964983815</td>\n    </tr>\n    <tr>\n      <th>4</th>\n      <td>1</td>\n      <td>50</td>\n      <td>5.0</td>\n      <td>964982931</td>\n    </tr>\n  </tbody>\n</table>\n</div>"
     },
     "metadata": {}
    }
   ]
  },
  {
   "metadata": {
    "execution": {
     "iopub.status.busy": "2024-08-30T04:34:52.334726Z",
     "iopub.execute_input": "2024-08-30T04:34:52.335076Z",
     "iopub.status.idle": "2024-08-30T04:34:52.344593Z",
     "shell.execute_reply.started": "2024-08-30T04:34:52.335042Z",
     "shell.execute_reply": "2024-08-30T04:34:52.343513Z"
    },
    "trusted": false
   },
   "cell_type": "code",
   "source": "print(f'Уникальных юзеров: {ratings[\"userId\"].nunique()}')\nprint(f'Уникальных фильмов: {ratings[\"movieId\"].nunique()}')",
   "execution_count": 30,
   "outputs": [
    {
     "name": "stdout",
     "text": "Уникальных юзеров: 610\nУникальных фильмов: 9724\n",
     "output_type": "stream"
    }
   ]
  },
  {
   "metadata": {
    "execution": {
     "iopub.status.busy": "2024-08-30T04:34:52.346181Z",
     "iopub.execute_input": "2024-08-30T04:34:52.346679Z",
     "iopub.status.idle": "2024-08-30T04:34:52.361631Z",
     "shell.execute_reply.started": "2024-08-30T04:34:52.346636Z",
     "shell.execute_reply": "2024-08-30T04:34:52.360229Z"
    },
    "trusted": false
   },
   "cell_type": "code",
   "source": "ratings['rating'].value_counts()",
   "execution_count": 31,
   "outputs": [
    {
     "execution_count": 31,
     "output_type": "execute_result",
     "data": {
      "text/plain": "rating\n4.0    26818\n3.0    20047\n5.0    13211\n3.5    13136\n4.5     8551\n2.0     7551\n2.5     5550\n1.0     2811\n1.5     1791\n0.5     1370\nName: count, dtype: int64"
     },
     "metadata": {}
    }
   ]
  },
  {
   "metadata": {},
   "cell_type": "markdown",
   "source": "- Посчитаем сколько раз каждый фильм был оценен \n- Выбираем только те фильмы которые имеют больше 20 оценок\n- Из `ratings` фильтруем те фильмы которые имеют больше 20 оценок"
  },
  {
   "metadata": {
    "execution": {
     "iopub.status.busy": "2024-08-30T04:34:52.439695Z",
     "iopub.execute_input": "2024-08-30T04:34:52.440033Z",
     "iopub.status.idle": "2024-08-30T04:34:52.467252Z",
     "shell.execute_reply.started": "2024-08-30T04:34:52.439999Z",
     "shell.execute_reply": "2024-08-30T04:34:52.466150Z"
    },
    "trusted": false
   },
   "cell_type": "code",
   "source": "\"\"\"\n\nSelect subset of ratings data\n\n\"\"\"\n\n# count how many times each movie was rated\nitem_counts = ratings.groupby('movieId')['userId'].count() # number of ratings for each movie\npop_items = item_counts[item_counts > 20] # select only movies with counts > 20\nratings = ratings[ratings['movieId'].isin(pop_items.index)] # select subset of user ratings for movies that have counts > 20\nratings",
   "execution_count": 34,
   "outputs": [
    {
     "execution_count": 34,
     "output_type": "execute_result",
     "data": {
      "text/plain": "        userId  movieId  rating   timestamp\n0            1        1     4.0   964982703\n1            1        3     4.0   964981247\n2            1        6     4.0   964982224\n3            1       47     5.0   964983815\n4            1       50     5.0   964982931\n...        ...      ...     ...         ...\n100803     610   148626     4.0  1493847175\n100808     610   152081     4.0  1493846503\n100829     610   164179     5.0  1493845631\n100830     610   166528     4.0  1493879365\n100834     610   168252     5.0  1493846352\n\n[66658 rows x 4 columns]",
      "text/html": "<div>\n<style scoped>\n    .dataframe tbody tr th:only-of-type {\n        vertical-align: middle;\n    }\n\n    .dataframe tbody tr th {\n        vertical-align: top;\n    }\n\n    .dataframe thead th {\n        text-align: right;\n    }\n</style>\n<table border=\"1\" class=\"dataframe\">\n  <thead>\n    <tr style=\"text-align: right;\">\n      <th></th>\n      <th>userId</th>\n      <th>movieId</th>\n      <th>rating</th>\n      <th>timestamp</th>\n    </tr>\n  </thead>\n  <tbody>\n    <tr>\n      <th>0</th>\n      <td>1</td>\n      <td>1</td>\n      <td>4.0</td>\n      <td>964982703</td>\n    </tr>\n    <tr>\n      <th>1</th>\n      <td>1</td>\n      <td>3</td>\n      <td>4.0</td>\n      <td>964981247</td>\n    </tr>\n    <tr>\n      <th>2</th>\n      <td>1</td>\n      <td>6</td>\n      <td>4.0</td>\n      <td>964982224</td>\n    </tr>\n    <tr>\n      <th>3</th>\n      <td>1</td>\n      <td>47</td>\n      <td>5.0</td>\n      <td>964983815</td>\n    </tr>\n    <tr>\n      <th>4</th>\n      <td>1</td>\n      <td>50</td>\n      <td>5.0</td>\n      <td>964982931</td>\n    </tr>\n    <tr>\n      <th>...</th>\n      <td>...</td>\n      <td>...</td>\n      <td>...</td>\n      <td>...</td>\n    </tr>\n    <tr>\n      <th>100803</th>\n      <td>610</td>\n      <td>148626</td>\n      <td>4.0</td>\n      <td>1493847175</td>\n    </tr>\n    <tr>\n      <th>100808</th>\n      <td>610</td>\n      <td>152081</td>\n      <td>4.0</td>\n      <td>1493846503</td>\n    </tr>\n    <tr>\n      <th>100829</th>\n      <td>610</td>\n      <td>164179</td>\n      <td>5.0</td>\n      <td>1493845631</td>\n    </tr>\n    <tr>\n      <th>100830</th>\n      <td>610</td>\n      <td>166528</td>\n      <td>4.0</td>\n      <td>1493879365</td>\n    </tr>\n    <tr>\n      <th>100834</th>\n      <td>610</td>\n      <td>168252</td>\n      <td>5.0</td>\n      <td>1493846352</td>\n    </tr>\n  </tbody>\n</table>\n<p>66658 rows × 4 columns</p>\n</div>"
     },
     "metadata": {}
    }
   ]
  },
  {
   "metadata": {},
   "cell_type": "markdown",
   "source": "создалим свою еннумерацию для всех пользователей и фильмов"
  },
  {
   "metadata": {
    "execution": {
     "iopub.status.busy": "2024-08-30T04:34:52.468586Z",
     "iopub.execute_input": "2024-08-30T04:34:52.468930Z",
     "iopub.status.idle": "2024-08-30T04:34:52.486585Z",
     "shell.execute_reply.started": "2024-08-30T04:34:52.468895Z",
     "shell.execute_reply": "2024-08-30T04:34:52.484919Z"
    },
    "trusted": false
   },
   "cell_type": "code",
   "source": "all_users = ratings['userId'].unique().tolist()  # all unique users in ratings data\nall_items = ratings['movieId'].unique().tolist() # all unique movies in ratings data\n\nn_users = ratings['userId'].nunique() # number of unique users\nn_items = ratings['movieId'].nunique() # number of unique movies\n\nuser_id2idx = dict(zip(all_users, range(n_users)))\nitem_id2idx = dict(zip(all_items, range(n_items)))\n\nratings['userId'] = ratings['userId'].map(user_id2idx) # redefine user id  (for better interpretation)\nratings['movieId'] = ratings['movieId'].map(item_id2idx) # redefine movie id (for better interpretation)",
   "execution_count": 35,
   "outputs": []
  },
  {
   "metadata": {},
   "cell_type": "markdown",
   "source": "### <b><span style='color:#686dec'>Разбиваем Выборку</span></b>\n\n- Сгрупируем все рейтинги для каждого `userId`\n- Выбираем последнюю по дате рейтинг у каждого пользователя и кладем ее в `test`\n- все оствльное у нас идет в `train`"
  },
  {
   "metadata": {
    "execution": {
     "iopub.status.busy": "2024-08-30T04:34:52.488416Z",
     "iopub.execute_input": "2024-08-30T04:34:52.488847Z",
     "iopub.status.idle": "2024-08-30T04:34:52.603141Z",
     "shell.execute_reply.started": "2024-08-30T04:34:52.488805Z",
     "shell.execute_reply": "2024-08-30T04:34:52.601994Z"
    },
    "trusted": false
   },
   "cell_type": "code",
   "source": "# group\nfull_history = ratings.sort_values(['userId', 'timestamp']).groupby('userId') # group by userid w/ sorted data\n\ntest = full_history.tail(1) # get last movie rating for each user\ntrain = full_history.head(-1) # get all other movie ratings for each user except for first\n\ntrain.shape, test.shape",
   "execution_count": 36,
   "outputs": [
    {
     "execution_count": 36,
     "output_type": "execute_result",
     "data": {
      "text/plain": "((66048, 4), (610, 4))"
     },
     "metadata": {}
    }
   ]
  },
  {
   "metadata": {
    "execution": {
     "iopub.status.busy": "2024-08-30T04:34:52.604573Z",
     "iopub.execute_input": "2024-08-30T04:34:52.604937Z",
     "iopub.status.idle": "2024-08-30T04:34:52.614615Z",
     "shell.execute_reply.started": "2024-08-30T04:34:52.604900Z",
     "shell.execute_reply": "2024-08-30T04:34:52.613275Z"
    },
    "trusted": false
   },
   "cell_type": "code",
   "source": "train = train.reset_index()\ntest = test.reset_index()",
   "execution_count": 37,
   "outputs": []
  },
  {
   "metadata": {},
   "cell_type": "markdown",
   "source": " Оставим толко те рейтинги фильмов для которых они постввили 5"
  },
  {
   "metadata": {
    "execution": {
     "iopub.status.busy": "2024-08-30T04:34:52.619748Z",
     "iopub.execute_input": "2024-08-30T04:34:52.620177Z",
     "iopub.status.idle": "2024-08-30T04:34:52.630035Z",
     "shell.execute_reply.started": "2024-08-30T04:34:52.620135Z",
     "shell.execute_reply": "2024-08-30T04:34:52.628832Z"
    },
    "trusted": false
   },
   "cell_type": "code",
   "source": "test = test[test['rating'] == 5] # lets select only users who give 5.0 ratings to movies\ntest.shape",
   "execution_count": 38,
   "outputs": [
    {
     "execution_count": 38,
     "output_type": "execute_result",
     "data": {
      "text/plain": "(117, 5)"
     },
     "metadata": {}
    }
   ]
  },
  {
   "metadata": {},
   "cell_type": "markdown",
   "source": "### <b><span style='color:#686dec'>Вспомогательная Функция</span></b>\n\nСоздалим базовый родительский класс от которого наши дальнейшие классы `SVD`, `FunkSVD` будут наследовать. `ALS` тоже будет использовать шаги предобработки в этом классе.\n\n**`BaseFactorizationModel`**\n\n- `get_rating_matrix` принимает на вход обучающую выборку, как и раньше мы создаем сводную таблицу с пользователями и фильмами, где числа это соответсвующий рейтинг пользователь поставил  \n- `predict` делает что и раньше, сортирует и выбирает для каждого пользователя топ к фильмов и возвращает `movieId` и его score из SVD"
  },
  {
   "metadata": {
    "execution": {
     "iopub.status.busy": "2024-08-30T04:34:52.648885Z",
     "iopub.execute_input": "2024-08-30T04:34:52.649422Z",
     "iopub.status.idle": "2024-08-30T04:34:52.665795Z",
     "shell.execute_reply.started": "2024-08-30T04:34:52.649365Z",
     "shell.execute_reply": "2024-08-30T04:34:52.664373Z"
    },
    "trusted": true
   },
   "cell_type": "code",
   "source": "class BaseFactorizationModel:\n    def __init__(self, random_state=0, user_col='userId', item_col='movieId', rating_col='rating'):\n        self.random_state = np.random.RandomState(random_state)\n        self.user_col = user_col\n        self.item_col = item_col\n        self.rating_col = rating_col\n        self.user_matrix = None\n        self.item_matrix = None\n\n    # matrix which we will decompose\n    def get_rating_matrix(self, data):\n        return pd.pivot_table(\n            data,\n            values=self.rating_col,\n            index=self.user_col,\n            columns=self.item_col,\n            fill_value=0\n            ).values\n\n    \n    \"\"\"\n    \n    When we receive the matrix with scores, for each user\n    sort and get the top k \n    \n    \"\"\"\n    \n    def predict(self, \n                scores,  # (user,film) score matrix\n                rating_matrix=None, # (user,film) rating matrix\n                filter_seen=True, \n                k=10):\n        \n        # filter out films that already have been seen \n        if filter_seen:\n            scores = np.multiply(scores,\n            np.invert(rating_matrix.astype(bool))\n            )\n\n        # scores index : userId column : filmId \n\n        # get indicies of top k scores (indicies : movieId) in user array\n        ind_part = np.argpartition(scores, -k + 1)[:, -k:].copy()  \n\n        # get the values of the top k scores \n        scores_not_sorted = np.take_along_axis(scores, ind_part, axis=1)\n\n        # indicies of scores from lowest to highest \n        ind_sorted = np.argsort(scores_not_sorted, axis=1) # \n\n        # scores from lowest to highest \n        scores_sorted = np.sort(scores_not_sorted, axis=1) \n\n        # get the indicies of the movieId with the highest scores\n        indices = np.take_along_axis(ind_part, ind_sorted, axis=1)\n\n        # for each user return the movies with the highest scores\n        preds = pd.DataFrame({\n            self.user_col: range(scores.shape[0]), # each user \n            self.item_col: np.flip(indices, axis=1).tolist(), # movieId index \n            self.rating_col: np.flip(scores_sorted, axis=1).tolist() # movieId score\n            })\n        \n        # convert arrays (user_col,item_col) into rows for each user \n        preds = preds.explode([self.item_col, self.rating_col])\n\n        return preds",
   "execution_count": 1,
   "outputs": []
  },
  {
   "metadata": {},
   "cell_type": "markdown",
   "source": "### <b><span style='color:#686dec'>SVD</span></b>\n\n`SVD` из `scipy`\n\n- В базовом методе 1 гиперпараметр `n_factors` \n- включает один метод `fit`; генерирует матрицу рейтингов для каждого уникального пользователя и фильма\n\n\nСмысл `SVD` разложения:\n- Ииспользует методы линейной алгебры для нахождения этих матриц и может быть вычислен с помощью прямых методов, таких как QR-разложение\n- Мы формируем матрицу (get_rating_matrix) рейтингов фильмов `movieId` для каждого пользователя `userId` в выборке \n- `SVD` разлагает эту матрицу взаимодейстий пользователей на три матрицы (U,\n- Оставляя только размерность k (latern features) для матрих **U** (`userId`,k) и **V** (`movieID`,k) и ΣI (k,k)\n- Эта апроксимации \nматрицы **U** и **V** захватывают скрытые признаки, представляющие основные закономерности в данных\n- Если мы не указываем `n_factors` то мы получаем наиболее точную разложение мартицы рейтинга (get_rating_matrix)\n"
  },
  {
   "metadata": {
    "execution": {
     "iopub.status.busy": "2024-08-30T04:34:52.667346Z",
     "iopub.execute_input": "2024-08-30T04:34:52.667875Z",
     "iopub.status.idle": "2024-08-30T04:34:52.683736Z",
     "shell.execute_reply.started": "2024-08-30T04:34:52.667820Z",
     "shell.execute_reply": "2024-08-30T04:34:52.682397Z"
    },
    "trusted": false
   },
   "cell_type": "code",
   "source": "class SVD(BaseFactorizationModel):\n    \n    def __init__(self, \n                 random_state=0, \n                 user_col='userId', \n                 item_col='movieId',\n                 n_factors=20): # hyperparameter\n        super().__init__(random_state, user_col, item_col)\n        self.n_factors = n_factors\n\n    \"\"\"\n    \n    Calculate the scores for each user\n    \n    \"\"\"\n        \n    def fit(self, data):\n        \n        # user,movie rating matrix\n        self.rating_matrix = self.get_rating_matrix(data) # (unique users,unique films) ratings\n        csr_rating_matrix = csr_matrix(self.rating_matrix.astype(float))\n        \n        # svd decomposition \n        user_matrix, singular_values, item_matrix = svds(A=csr_rating_matrix, \n                                                         k=self.n_factors)\n    \n        user_matrix = user_matrix * np.sqrt(singular_values)  # (unique users,k latent features)\n        item_matrix = item_matrix.T * np.sqrt(singular_values) # (unique films, k latent features)\n        self.scores = user_matrix @ item_matrix.T  # score matrix for each user & film (unique users, unique films)\n        \n        self.user_matrix = user_matrix\n        self.item_matrix = item_matrix",
   "execution_count": 41,
   "outputs": []
  },
  {
   "metadata": {
    "execution": {
     "iopub.status.busy": "2024-08-30T04:34:52.685314Z",
     "iopub.execute_input": "2024-08-30T04:34:52.686108Z",
     "iopub.status.idle": "2024-08-30T04:34:52.825783Z",
     "shell.execute_reply.started": "2024-08-30T04:34:52.686064Z",
     "shell.execute_reply": "2024-08-30T04:34:52.824236Z"
    },
    "trusted": false
   },
   "cell_type": "code",
   "source": "svd_model = SVD()\nsvd_model.fit(train)",
   "execution_count": 42,
   "outputs": []
  },
  {
   "metadata": {
    "execution": {
     "iopub.status.busy": "2024-08-30T04:34:52.828181Z",
     "iopub.execute_input": "2024-08-30T04:34:52.828741Z",
     "iopub.status.idle": "2024-08-30T04:34:52.920663Z",
     "shell.execute_reply.started": "2024-08-30T04:34:52.828686Z",
     "shell.execute_reply": "2024-08-30T04:34:52.919208Z"
    },
    "trusted": false
   },
   "cell_type": "code",
   "source": "preds_svd = svd_model.predict(svd_model.scores,        # user movie scores from svd decomposition\n                              svd_model.rating_matrix) # user movie ratings \npreds_svd",
   "execution_count": 43,
   "outputs": [
    {
     "execution_count": 43,
     "output_type": "execute_result",
     "data": {
      "text/plain": "     userId movieId    rating\n0         0     676  3.941808\n0         0     677  3.500389\n0         0     588  3.180376\n0         0     593  3.135802\n0         0    1062  2.902454\n..      ...     ...       ...\n609     609    1158  3.092268\n609     609      61  3.092064\n609     609    1201   3.08826\n609     609     717  3.053321\n609     609    1062  3.044532\n\n[6100 rows x 3 columns]",
      "text/html": "<div>\n<style scoped>\n    .dataframe tbody tr th:only-of-type {\n        vertical-align: middle;\n    }\n\n    .dataframe tbody tr th {\n        vertical-align: top;\n    }\n\n    .dataframe thead th {\n        text-align: right;\n    }\n</style>\n<table border=\"1\" class=\"dataframe\">\n  <thead>\n    <tr style=\"text-align: right;\">\n      <th></th>\n      <th>userId</th>\n      <th>movieId</th>\n      <th>rating</th>\n    </tr>\n  </thead>\n  <tbody>\n    <tr>\n      <th>0</th>\n      <td>0</td>\n      <td>676</td>\n      <td>3.941808</td>\n    </tr>\n    <tr>\n      <th>0</th>\n      <td>0</td>\n      <td>677</td>\n      <td>3.500389</td>\n    </tr>\n    <tr>\n      <th>0</th>\n      <td>0</td>\n      <td>588</td>\n      <td>3.180376</td>\n    </tr>\n    <tr>\n      <th>0</th>\n      <td>0</td>\n      <td>593</td>\n      <td>3.135802</td>\n    </tr>\n    <tr>\n      <th>0</th>\n      <td>0</td>\n      <td>1062</td>\n      <td>2.902454</td>\n    </tr>\n    <tr>\n      <th>...</th>\n      <td>...</td>\n      <td>...</td>\n      <td>...</td>\n    </tr>\n    <tr>\n      <th>609</th>\n      <td>609</td>\n      <td>1158</td>\n      <td>3.092268</td>\n    </tr>\n    <tr>\n      <th>609</th>\n      <td>609</td>\n      <td>61</td>\n      <td>3.092064</td>\n    </tr>\n    <tr>\n      <th>609</th>\n      <td>609</td>\n      <td>1201</td>\n      <td>3.08826</td>\n    </tr>\n    <tr>\n      <th>609</th>\n      <td>609</td>\n      <td>717</td>\n      <td>3.053321</td>\n    </tr>\n    <tr>\n      <th>609</th>\n      <td>609</td>\n      <td>1062</td>\n      <td>3.044532</td>\n    </tr>\n  </tbody>\n</table>\n<p>6100 rows × 3 columns</p>\n</div>"
     },
     "metadata": {}
    }
   ]
  },
  {
   "metadata": {},
   "cell_type": "markdown",
   "source": "### <b><span style='color:#686dec'>FunkSVD</span></b>\n\nТеперь попробуем с нуля подход `FunkSVD`\n    \nВ отличии от `SVD` модель обучается при помощи градиентного спуска\n- Мы обучаем матрицы **P**, **Q** (**U** и **Q** из `SVD`)"
  },
  {
   "metadata": {
    "execution": {
     "iopub.status.busy": "2024-08-30T04:34:52.923337Z",
     "iopub.execute_input": "2024-08-30T04:34:52.925381Z",
     "iopub.status.idle": "2024-08-30T04:34:52.944862Z",
     "shell.execute_reply.started": "2024-08-30T04:34:52.925299Z",
     "shell.execute_reply": "2024-08-30T04:34:52.942921Z"
    },
    "trusted": false
   },
   "cell_type": "code",
   "source": "class FunkSVD(BaseFactorizationModel):\n    def __init__(self, random_state = 0,\n                 user_col='userId', \n                 item_col='movieId',\n                 rating_col='rating', \n                 lr = 0.01,  # learning rate\n                 reg = 0.05, # coefficient of regularisation\n                 n_factors=20, # size of vectors\n                 n_epochs=5): # number of iterations\n        super().__init__(random_state, user_col, item_col, rating_col)\n        self.lr = lr\n        self.reg = reg\n        self.n_factors = n_factors\n        self.n_epochs = n_epochs\n\n\n    def fit(self, data):\n        \n        self.rating_matrix = self.get_rating_matrix(data)\n        n_users, n_items = self.rating_matrix.shape\n\n        \"\"\"\n        \n        Parameter Initialisation\n        \n        mu : глобальная средняя оценка\n        bu : смещение оценок пользователя (на сколько отличается средняя оценка от глобального)\n        bi : смещение оценок объектов (на сколько отличается средняя оценка от глобального)\n        \n        P, Q : матрицы которые мы будем обучать \n        \n        \"\"\"\n        mu = data[self.rating_col].mean() # global average rating\n        \n        # initialise shifts \n        # how much avg rating of user differs from global avg\n        bu = np.zeros(n_users)  \n        bi = np.zeros(n_items)\n        \n        # we need to learn the matricies for users and items\n        P = self.random_state.normal(size=(n_users, self.n_factors))\n        Q = self.random_state.normal(size=(n_items, self.n_factors))\n\n        # number of iterations we will be updating our weights (matrices)\n        for _ in tqdm(range(self.n_epochs)):\n            \n            errs = []\n            for _, row in data.iterrows():\n                \n                # Get ids and ratings\n                user_id = row[self.user_col]\n                item_id = row[self.item_col]\n                rating = row[self.rating_col]\n\n                # Predict current rating\n                # global avg + shift of user/item + scalar vector multiplication\n                \n                pred = mu + bu[user_id] + bi[item_id] + Q[item_id] @ P[user_id]\n\n                # calculate the difference b/w prediction and actual user ratings\n                err = rating - pred\n                errs.append(abs(err)) \n\n                \"\"\"\n                \n                Update Biases bu/bi\n                \n                \"\"\"\n\n                bu[user_id] += self.lr * (err - self.reg * bu[user_id])\n                bi[item_id] += self.lr * (err - self.reg * bi[item_id])\n                \n                \"\"\"\n                \n                Update latent factors\n                \n                \"\"\"\n\n                P[user_id] += self.lr * (err * Q[item_id] - self.reg * P[user_id])\n                Q[item_id] += self.lr * (err * P[user_id] - self.reg * Q[item_id])\n\n            print(round(np.mean(errs), 4))\n            \n        # restore all data\n        self.user_matrix = P # (userId,k)\n        self.item_matrix = Q # (itemId,k)\n        self.user_bias = bu  # (userId,)\n        self.item_bias = bi  # (itemId,)\n        self.mu = mu  # global doesn't change\n        \n        #             [ dont really neeed ]  \n        self.scores = mu + bu.reshape(-1, 1) + bi + P @ Q.T",
   "execution_count": 44,
   "outputs": []
  },
  {
   "metadata": {
    "execution": {
     "iopub.status.busy": "2024-08-30T04:34:52.946825Z",
     "iopub.execute_input": "2024-08-30T04:34:52.948092Z",
     "iopub.status.idle": "2024-08-30T04:35:23.673713Z",
     "shell.execute_reply.started": "2024-08-30T04:34:52.948041Z",
     "shell.execute_reply": "2024-08-30T04:35:23.669715Z"
    },
    "trusted": false
   },
   "cell_type": "code",
   "source": "funk_model = FunkSVD()\nfunk_model.fit(train)",
   "execution_count": 45,
   "outputs": [
    {
     "name": "stderr",
     "text": " 20%|██        | 1/5 [00:06<00:24,  6.10s/it]",
     "output_type": "stream"
    },
    {
     "name": "stdout",
     "text": "1.7948\n",
     "output_type": "stream"
    },
    {
     "name": "stderr",
     "text": " 40%|████      | 2/5 [00:12<00:18,  6.13s/it]",
     "output_type": "stream"
    },
    {
     "name": "stdout",
     "text": "0.8553\n",
     "output_type": "stream"
    },
    {
     "name": "stderr",
     "text": " 60%|██████    | 3/5 [00:18<00:12,  6.11s/it]",
     "output_type": "stream"
    },
    {
     "name": "stdout",
     "text": "0.728\n",
     "output_type": "stream"
    },
    {
     "name": "stderr",
     "text": " 80%|████████  | 4/5 [00:24<00:06,  6.11s/it]",
     "output_type": "stream"
    },
    {
     "name": "stdout",
     "text": "0.6719\n",
     "output_type": "stream"
    },
    {
     "name": "stderr",
     "text": "100%|██████████| 5/5 [00:30<00:00,  6.13s/it]",
     "output_type": "stream"
    },
    {
     "name": "stdout",
     "text": "0.6401\n",
     "output_type": "stream"
    },
    {
     "name": "stderr",
     "text": "\n",
     "output_type": "stream"
    }
   ]
  },
  {
   "metadata": {
    "execution": {
     "iopub.status.busy": "2024-08-30T04:35:23.675748Z",
     "iopub.execute_input": "2024-08-30T04:35:23.676278Z",
     "iopub.status.idle": "2024-08-30T04:35:23.714005Z",
     "shell.execute_reply.started": "2024-08-30T04:35:23.676224Z",
     "shell.execute_reply": "2024-08-30T04:35:23.712367Z"
    },
    "trusted": false
   },
   "cell_type": "code",
   "source": "preds_funk = funk_model.predict(funk_model.scores, \n                                funk_model.rating_matrix)",
   "execution_count": 46,
   "outputs": []
  },
  {
   "metadata": {
    "execution": {
     "iopub.status.busy": "2024-08-30T04:35:23.716233Z",
     "iopub.execute_input": "2024-08-30T04:35:23.717207Z",
     "iopub.status.idle": "2024-08-30T04:35:23.732257Z",
     "shell.execute_reply.started": "2024-08-30T04:35:23.717136Z",
     "shell.execute_reply": "2024-08-30T04:35:23.731076Z"
    },
    "trusted": false
   },
   "cell_type": "code",
   "source": "preds_funk",
   "execution_count": 47,
   "outputs": [
    {
     "execution_count": 47,
     "output_type": "execute_result",
     "data": {
      "text/plain": "     userId movieId    rating\n0         0     544  5.201155\n0         0     677  5.169179\n0         0    1042  5.163057\n0         0    1016  5.158277\n0         0     215  5.151932\n..      ...     ...       ...\n609     609       6  4.403011\n609     609     208   4.38257\n609     609     254   4.38018\n609     609     270  4.372523\n609     609    1107  4.366516\n\n[6100 rows x 3 columns]",
      "text/html": "<div>\n<style scoped>\n    .dataframe tbody tr th:only-of-type {\n        vertical-align: middle;\n    }\n\n    .dataframe tbody tr th {\n        vertical-align: top;\n    }\n\n    .dataframe thead th {\n        text-align: right;\n    }\n</style>\n<table border=\"1\" class=\"dataframe\">\n  <thead>\n    <tr style=\"text-align: right;\">\n      <th></th>\n      <th>userId</th>\n      <th>movieId</th>\n      <th>rating</th>\n    </tr>\n  </thead>\n  <tbody>\n    <tr>\n      <th>0</th>\n      <td>0</td>\n      <td>544</td>\n      <td>5.201155</td>\n    </tr>\n    <tr>\n      <th>0</th>\n      <td>0</td>\n      <td>677</td>\n      <td>5.169179</td>\n    </tr>\n    <tr>\n      <th>0</th>\n      <td>0</td>\n      <td>1042</td>\n      <td>5.163057</td>\n    </tr>\n    <tr>\n      <th>0</th>\n      <td>0</td>\n      <td>1016</td>\n      <td>5.158277</td>\n    </tr>\n    <tr>\n      <th>0</th>\n      <td>0</td>\n      <td>215</td>\n      <td>5.151932</td>\n    </tr>\n    <tr>\n      <th>...</th>\n      <td>...</td>\n      <td>...</td>\n      <td>...</td>\n    </tr>\n    <tr>\n      <th>609</th>\n      <td>609</td>\n      <td>6</td>\n      <td>4.403011</td>\n    </tr>\n    <tr>\n      <th>609</th>\n      <td>609</td>\n      <td>208</td>\n      <td>4.38257</td>\n    </tr>\n    <tr>\n      <th>609</th>\n      <td>609</td>\n      <td>254</td>\n      <td>4.38018</td>\n    </tr>\n    <tr>\n      <th>609</th>\n      <td>609</td>\n      <td>270</td>\n      <td>4.372523</td>\n    </tr>\n    <tr>\n      <th>609</th>\n      <td>609</td>\n      <td>1107</td>\n      <td>4.366516</td>\n    </tr>\n  </tbody>\n</table>\n<p>6100 rows × 3 columns</p>\n</div>"
     },
     "metadata": {}
    }
   ]
  },
  {
   "metadata": {
    "execution": {
     "iopub.status.busy": "2024-08-30T04:35:23.734613Z",
     "iopub.execute_input": "2024-08-30T04:35:23.735546Z",
     "iopub.status.idle": "2024-08-30T04:35:23.743340Z",
     "shell.execute_reply.started": "2024-08-30T04:35:23.735462Z",
     "shell.execute_reply": "2024-08-30T04:35:23.742186Z"
    },
    "trusted": false
   },
   "cell_type": "code",
   "source": "k = funk_model.scores.shape[1] # number of movieId\nprint(k)",
   "execution_count": 48,
   "outputs": [
    {
     "name": "stdout",
     "text": "1235\n",
     "output_type": "stream"
    }
   ]
  },
  {
   "metadata": {
    "execution": {
     "iopub.status.busy": "2024-08-30T04:35:23.745295Z",
     "iopub.execute_input": "2024-08-30T04:35:23.751601Z",
     "iopub.status.idle": "2024-08-30T04:35:24.258615Z",
     "shell.execute_reply.started": "2024-08-30T04:35:23.751534Z",
     "shell.execute_reply": "2024-08-30T04:35:24.257380Z"
    },
    "trusted": false
   },
   "cell_type": "code",
   "source": "preds_funk = funk_model.predict(funk_model.scores, \n                                funk_model.rating_matrix,\n                                k=k)\ntest_pred = test.merge(preds_funk, on=['userId', 'movieId'])",
   "execution_count": 49,
   "outputs": []
  },
  {
   "metadata": {
    "execution": {
     "iopub.status.busy": "2024-08-30T04:35:24.260410Z",
     "iopub.execute_input": "2024-08-30T04:35:24.260901Z",
     "iopub.status.idle": "2024-08-30T04:35:24.277911Z",
     "shell.execute_reply.started": "2024-08-30T04:35:24.260850Z",
     "shell.execute_reply": "2024-08-30T04:35:24.276555Z"
    },
    "trusted": false
   },
   "cell_type": "code",
   "source": "test_pred",
   "execution_count": 50,
   "outputs": [
    {
     "execution_count": 50,
     "output_type": "execute_result",
     "data": {
      "text/plain": "     index  userId movieId  rating_x   timestamp  rating_y\n0      839       5      40       5.0   845556915  3.611139\n1     4160      26     134       5.0   965151428  2.638579\n2     4876      29    1014       5.0  1500370457  2.947382\n3     5375      36     418       5.0   845927014   3.46253\n4     5756      40     730       5.0  1459369130  1.824829\n..     ...     ...     ...       ...         ...       ...\n112  89049     575    1178       5.0  1358151542 -0.153748\n113  89226     577     522       5.0  1300996817  6.002605\n114  89245     578     331       5.0   977364909  2.795876\n115  89912     583     336       5.0   834988340  9.314807\n116  90392     586     913       5.0   953142269  2.811585\n\n[117 rows x 6 columns]",
      "text/html": "<div>\n<style scoped>\n    .dataframe tbody tr th:only-of-type {\n        vertical-align: middle;\n    }\n\n    .dataframe tbody tr th {\n        vertical-align: top;\n    }\n\n    .dataframe thead th {\n        text-align: right;\n    }\n</style>\n<table border=\"1\" class=\"dataframe\">\n  <thead>\n    <tr style=\"text-align: right;\">\n      <th></th>\n      <th>index</th>\n      <th>userId</th>\n      <th>movieId</th>\n      <th>rating_x</th>\n      <th>timestamp</th>\n      <th>rating_y</th>\n    </tr>\n  </thead>\n  <tbody>\n    <tr>\n      <th>0</th>\n      <td>839</td>\n      <td>5</td>\n      <td>40</td>\n      <td>5.0</td>\n      <td>845556915</td>\n      <td>3.611139</td>\n    </tr>\n    <tr>\n      <th>1</th>\n      <td>4160</td>\n      <td>26</td>\n      <td>134</td>\n      <td>5.0</td>\n      <td>965151428</td>\n      <td>2.638579</td>\n    </tr>\n    <tr>\n      <th>2</th>\n      <td>4876</td>\n      <td>29</td>\n      <td>1014</td>\n      <td>5.0</td>\n      <td>1500370457</td>\n      <td>2.947382</td>\n    </tr>\n    <tr>\n      <th>3</th>\n      <td>5375</td>\n      <td>36</td>\n      <td>418</td>\n      <td>5.0</td>\n      <td>845927014</td>\n      <td>3.46253</td>\n    </tr>\n    <tr>\n      <th>4</th>\n      <td>5756</td>\n      <td>40</td>\n      <td>730</td>\n      <td>5.0</td>\n      <td>1459369130</td>\n      <td>1.824829</td>\n    </tr>\n    <tr>\n      <th>...</th>\n      <td>...</td>\n      <td>...</td>\n      <td>...</td>\n      <td>...</td>\n      <td>...</td>\n      <td>...</td>\n    </tr>\n    <tr>\n      <th>112</th>\n      <td>89049</td>\n      <td>575</td>\n      <td>1178</td>\n      <td>5.0</td>\n      <td>1358151542</td>\n      <td>-0.153748</td>\n    </tr>\n    <tr>\n      <th>113</th>\n      <td>89226</td>\n      <td>577</td>\n      <td>522</td>\n      <td>5.0</td>\n      <td>1300996817</td>\n      <td>6.002605</td>\n    </tr>\n    <tr>\n      <th>114</th>\n      <td>89245</td>\n      <td>578</td>\n      <td>331</td>\n      <td>5.0</td>\n      <td>977364909</td>\n      <td>2.795876</td>\n    </tr>\n    <tr>\n      <th>115</th>\n      <td>89912</td>\n      <td>583</td>\n      <td>336</td>\n      <td>5.0</td>\n      <td>834988340</td>\n      <td>9.314807</td>\n    </tr>\n    <tr>\n      <th>116</th>\n      <td>90392</td>\n      <td>586</td>\n      <td>913</td>\n      <td>5.0</td>\n      <td>953142269</td>\n      <td>2.811585</td>\n    </tr>\n  </tbody>\n</table>\n<p>117 rows × 6 columns</p>\n</div>"
     },
     "metadata": {}
    }
   ]
  },
  {
   "metadata": {
    "execution": {
     "iopub.status.busy": "2024-08-30T04:35:24.279570Z",
     "iopub.execute_input": "2024-08-30T04:35:24.280067Z",
     "iopub.status.idle": "2024-08-30T04:35:24.294230Z",
     "shell.execute_reply.started": "2024-08-30T04:35:24.280015Z",
     "shell.execute_reply": "2024-08-30T04:35:24.292957Z"
    },
    "trusted": false
   },
   "cell_type": "code",
   "source": "mean_absolute_error(test_pred['rating_x'], test_pred['rating_y'])",
   "execution_count": 51,
   "outputs": [
    {
     "execution_count": 51,
     "output_type": "execute_result",
     "data": {
      "text/plain": "1.67207526461794"
     },
     "metadata": {}
    }
   ]
  },
  {
   "metadata": {},
   "cell_type": "markdown",
   "source": "### <b><span style='color:#686dec'>iALS</span></b>\n\nМетод `ALS` похож на `funcSVD`, они оба являются итеративные медоты обучения\n- Но в `ALS` мы фиксируем матрицу пользователей `userId` и обновляем веса `itemId` \n- Потом мы фиксируем матрицу `itemId` и обновляем веса пользователей\n- Метод хорошо параллелится и можем найти решение явным виде (не методом градиентном спуском)\n- Повторяем это до схлдимости используя наименших квадратов в обоих подзадач\n\nОтличие `iALS` от `ALS`\n- `iALS` позволяет выполнять обучение инкрементально; модель может обновляться по мере поступления новых данных без необходимости переобучать всю модель с нуля.\n- Это особенно полезно в сценариях, где данные поступают непрерывно (например, в реальном времени)\n\n- `ALS` менее эффективный для больших и динамически изменяющихся наборов данных, так как требует полного пересчета матриц пользователей и товаров при каждом обновлении.\n- `iALS` позволяет более эффективно использовать вычислительные ресурсы, так как изменения в данных могут быть учтены без полного пересчета модели. Это делает его более подходящим для систем рекомендаций с постоянным потоком новых данных.\n\n"
  },
  {
   "metadata": {
    "execution": {
     "iopub.status.busy": "2024-08-30T04:35:24.295969Z",
     "iopub.execute_input": "2024-08-30T04:35:24.296547Z",
     "iopub.status.idle": "2024-08-30T04:35:24.354862Z",
     "shell.execute_reply.started": "2024-08-30T04:35:24.296493Z",
     "shell.execute_reply": "2024-08-30T04:35:24.353501Z"
    },
    "trusted": false
   },
   "cell_type": "code",
   "source": "# create the user movie rating matrix \nbase_model = BaseFactorizationModel()\nrating_matrix = base_model.get_rating_matrix(train)\ntrain_sparse = sparse.csr_matrix(rating_matrix)",
   "execution_count": 52,
   "outputs": []
  },
  {
   "metadata": {
    "trusted": true
   },
   "cell_type": "code",
   "source": "Как и `funcALS`, метод имеет способ регуляризации, количетсво итерации и размерность матриц пользователей и ",
   "execution_count": null,
   "outputs": []
  },
  {
   "metadata": {
    "execution": {
     "iopub.status.busy": "2024-08-30T04:35:24.356646Z",
     "iopub.execute_input": "2024-08-30T04:35:24.357137Z",
     "iopub.status.idle": "2024-08-30T04:35:27.647869Z",
     "shell.execute_reply.started": "2024-08-30T04:35:24.357080Z",
     "shell.execute_reply": "2024-08-30T04:35:27.646519Z"
    },
    "trusted": true
   },
   "cell_type": "code",
   "source": "ials_model = implicit.als.AlternatingLeastSquares(factors=20, \n                                                  regularization=0.1, \n                                                  iterations=50, \n                                                  use_gpu=False)\nials_model.fit((train_sparse).astype('double'))",
   "execution_count": 1,
   "outputs": []
  },
  {
   "metadata": {
    "execution": {
     "iopub.status.busy": "2024-08-30T04:35:27.654638Z",
     "iopub.execute_input": "2024-08-30T04:35:27.658210Z",
     "iopub.status.idle": "2024-08-30T04:35:27.673337Z",
     "shell.execute_reply.started": "2024-08-30T04:35:27.658137Z",
     "shell.execute_reply": "2024-08-30T04:35:27.671814Z"
    },
    "trusted": false
   },
   "cell_type": "code",
   "source": "user_vecs = ials_model.user_factors\nitem_vecs = ials_model.item_factors\n\n# проверим по размерам, что мы действиельно не перепутали users и items\nprint(train_sparse.shape)\nprint(user_vecs.shape, item_vecs.shape)",
   "execution_count": 54,
   "outputs": [
    {
     "name": "stdout",
     "text": "(610, 1235)\n(610, 20) (1235, 20)\n",
     "output_type": "stream"
    }
   ]
  },
  {
   "metadata": {},
   "cell_type": "markdown",
   "source": "Предсказание как и раньше через скаларное произвидение матриц `user_factors` и `item_factors`"
  },
  {
   "metadata": {
    "execution": {
     "iopub.status.busy": "2024-08-30T04:35:27.679290Z",
     "iopub.execute_input": "2024-08-30T04:35:27.684220Z",
     "iopub.status.idle": "2024-08-30T04:35:27.705876Z",
     "shell.execute_reply.started": "2024-08-30T04:35:27.684134Z",
     "shell.execute_reply": "2024-08-30T04:35:27.704563Z"
    },
    "trusted": false
   },
   "cell_type": "code",
   "source": "scores = user_vecs.dot(item_vecs.T)\nscores.shape",
   "execution_count": 55,
   "outputs": [
    {
     "execution_count": 55,
     "output_type": "execute_result",
     "data": {
      "text/plain": "(610, 1235)"
     },
     "metadata": {}
    }
   ]
  },
  {
   "metadata": {
    "execution": {
     "iopub.status.busy": "2024-08-30T04:35:27.713384Z",
     "iopub.execute_input": "2024-08-30T04:35:27.714494Z",
     "iopub.status.idle": "2024-08-30T04:35:27.726555Z",
     "shell.execute_reply.started": "2024-08-30T04:35:27.714411Z",
     "shell.execute_reply": "2024-08-30T04:35:27.724989Z"
    },
    "trusted": false
   },
   "cell_type": "code",
   "source": "user_vecs[0]",
   "execution_count": 56,
   "outputs": [
    {
     "execution_count": 56,
     "output_type": "execute_result",
     "data": {
      "text/plain": "array([ 1.7469772 ,  1.7536646 , -0.15816154,  0.3728279 ,  1.2622052 ,\n        0.77496713,  1.3928413 ,  1.2806208 , -0.45395368,  0.81654304,\n        0.812823  ,  1.0866945 , -0.90293694,  2.4070432 ,  1.5287678 ,\n        1.9461825 ,  0.14609063,  0.13025095,  1.2569972 , -1.7232617 ],\n      dtype=float32)"
     },
     "metadata": {}
    }
   ]
  },
  {
   "metadata": {
    "execution": {
     "iopub.status.busy": "2024-08-30T04:35:27.734537Z",
     "iopub.execute_input": "2024-08-30T04:35:27.735845Z",
     "iopub.status.idle": "2024-08-30T04:35:27.753236Z",
     "shell.execute_reply.started": "2024-08-30T04:35:27.735779Z",
     "shell.execute_reply": "2024-08-30T04:35:27.751907Z"
    },
    "trusted": false
   },
   "cell_type": "code",
   "source": "item_vecs[0]",
   "execution_count": 57,
   "outputs": [
    {
     "execution_count": 57,
     "output_type": "execute_result",
     "data": {
      "text/plain": "array([-0.00182583,  0.13658507, -0.14382875,  0.05055814,  0.09778877,\n        0.10126482,  0.03720245,  0.09039041,  0.1098939 , -0.29790142,\n       -0.04846857, -0.01657198,  0.03136025, -0.08922204,  0.31706864,\n       -0.06648538, -0.03854659,  0.06695224,  0.0011029 , -0.06568323],\n      dtype=float32)"
     },
     "metadata": {}
    }
   ]
  },
  {
   "metadata": {
    "execution": {
     "iopub.status.busy": "2024-08-30T04:41:02.607973Z",
     "iopub.execute_input": "2024-08-30T04:41:02.608430Z",
     "iopub.status.idle": "2024-08-30T04:41:02.637720Z",
     "shell.execute_reply.started": "2024-08-30T04:41:02.608386Z",
     "shell.execute_reply": "2024-08-30T04:41:02.636217Z"
    },
    "trusted": false
   },
   "cell_type": "code",
   "source": "preds_ials = base_model.predict(scores, rating_matrix)",
   "execution_count": 66,
   "outputs": []
  },
  {
   "metadata": {
    "execution": {
     "iopub.status.busy": "2024-08-30T04:36:35.754744Z",
     "iopub.execute_input": "2024-08-30T04:36:35.755174Z",
     "iopub.status.idle": "2024-08-30T04:36:38.670692Z",
     "shell.execute_reply.started": "2024-08-30T04:36:35.755133Z",
     "shell.execute_reply": "2024-08-30T04:36:38.669580Z"
    }
   },
   "cell_type": "markdown",
   "source": "### <b><span style='color:#686dec'>Оценки Моделей</span></b>\n\nВ конце оценим метрики качества всех трех подходов"
  },
  {
   "metadata": {
    "execution": {
     "iopub.status.busy": "2024-08-30T04:41:10.884269Z",
     "iopub.execute_input": "2024-08-30T04:41:10.884744Z",
     "iopub.status.idle": "2024-08-30T04:41:13.746289Z",
     "shell.execute_reply.started": "2024-08-30T04:41:10.884699Z",
     "shell.execute_reply": "2024-08-30T04:41:13.745115Z"
    },
    "trusted": false
   },
   "cell_type": "code",
   "source": "K = [10]\nmetrics = Experiment(\n    [\n        NDCG(K),\n        MAP(K),\n        HitRate(K),\n    ],\n    test,\n    query_column='userId', item_column= 'movieId'\n)\n\nmetrics.add_result(\"SVD\", preds_svd)\nmetrics.results\n\nmetrics.add_result(\"FunkSVD\", preds_funk)\nmetrics.results\n\nmetrics.add_result(\"iALS\", preds_ials)\nmetrics.results",
   "execution_count": 67,
   "outputs": [
    {
     "execution_count": 67,
     "output_type": "execute_result",
     "data": {
      "text/plain": "          NDCG@10    MAP@10  HitRate@10\nSVD      0.057592  0.036226    0.128205\nFunkSVD  0.002573  0.000950    0.008547\niALS     0.059676  0.042165    0.119658",
      "text/html": "<div>\n<style scoped>\n    .dataframe tbody tr th:only-of-type {\n        vertical-align: middle;\n    }\n\n    .dataframe tbody tr th {\n        vertical-align: top;\n    }\n\n    .dataframe thead th {\n        text-align: right;\n    }\n</style>\n<table border=\"1\" class=\"dataframe\">\n  <thead>\n    <tr style=\"text-align: right;\">\n      <th></th>\n      <th>NDCG@10</th>\n      <th>MAP@10</th>\n      <th>HitRate@10</th>\n    </tr>\n  </thead>\n  <tbody>\n    <tr>\n      <th>SVD</th>\n      <td>0.057592</td>\n      <td>0.036226</td>\n      <td>0.128205</td>\n    </tr>\n    <tr>\n      <th>FunkSVD</th>\n      <td>0.002573</td>\n      <td>0.000950</td>\n      <td>0.008547</td>\n    </tr>\n    <tr>\n      <th>iALS</th>\n      <td>0.059676</td>\n      <td>0.042165</td>\n      <td>0.119658</td>\n    </tr>\n  </tbody>\n</table>\n</div>"
     },
     "metadata": {}
    }
   ]
  }
 ],
 "metadata": {
  "kernelspec": {
   "name": "python3",
   "display_name": "Python 3",
   "language": "python"
  },
  "language_info": {
   "name": "python",
   "version": "3.10.4",
   "mimetype": "text/x-python",
   "codemirror_mode": {
    "name": "ipython",
    "version": 3
   },
   "pygments_lexer": "ipython3",
   "nbconvert_exporter": "python",
   "file_extension": ".py"
  },
  "kaggle": {
   "accelerator": "none",
   "dataSources": [],
   "dockerImageVersionId": 30761,
   "isInternetEnabled": true,
   "language": "python",
   "sourceType": "notebook",
   "isGpuEnabled": false
  }
 },
 "nbformat": 4,
 "nbformat_minor": 4
}