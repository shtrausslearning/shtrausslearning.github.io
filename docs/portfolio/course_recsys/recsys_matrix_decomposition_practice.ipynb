{
 "cells": [
  {
   "metadata": {
    "execution": {
     "iopub.status.busy": "2024-09-03T15:20:09.957177Z",
     "iopub.execute_input": "2024-09-03T15:20:09.958343Z",
     "iopub.status.idle": "2024-09-03T15:20:27.281163Z",
     "shell.execute_reply.started": "2024-09-03T15:20:09.958282Z",
     "shell.execute_reply": "2024-09-03T15:20:27.279236Z"
    },
    "trusted": false
   },
   "cell_type": "code",
   "source": "!pip install implicit -qqq",
   "execution_count": 220,
   "outputs": []
  },
  {
   "metadata": {},
   "cell_type": "markdown",
   "source": "## Practical example of Matrix Factorisation\n\n- Согодня приступим к практической части по созданию рекомендации используя методы матричного разложения\n- Будем использовать метод разложения `iALS` \n- Данные будут из MTS; приложение для чтения электронных книг, прессы и прослушивания аудиокниг, доступно для абонентов всех мобильных операторов, продукт экосистемы МТС\n\n\nЗатронем 4 пункта:\n- (1) Implicit feedback матричные подход \n- (2) Explicit feedback матричные подход\n- (3) Online (Обновление текущей score матрицы)\n- (4) Предсказание для одного пользователя\n\n### <b><span style='color:#686dec'>Импортируем модули </span></b>"
  },
  {
   "metadata": {
    "execution": {
     "iopub.status.busy": "2024-09-03T15:20:27.284669Z",
     "iopub.execute_input": "2024-09-03T15:20:27.285242Z",
     "iopub.status.idle": "2024-09-03T15:20:27.296314Z",
     "shell.execute_reply.started": "2024-09-03T15:20:27.285192Z",
     "shell.execute_reply": "2024-09-03T15:20:27.294969Z"
    },
    "trusted": false
   },
   "cell_type": "code",
   "source": "import numpy as np\nimport pandas as pd\nimport os\nimport implicit\nfrom scipy.sparse import csr_matrix\nimport scipy.sparse as sparse\nimport scipy\nimport matplotlib.pyplot as plt\nimport seaborn as sns; sns.set(style='whitegrid')\nfrom tqdm import tqdm",
   "execution_count": 221,
   "outputs": []
  },
  {
   "metadata": {},
   "cell_type": "markdown",
   "source": "### <b><span style='color:#686dec'>Общие параметр</span></b>\n\nМожем сразу определится с общими параметры которые будут использоватся в ноуте"
  },
  {
   "metadata": {
    "execution": {
     "iopub.status.busy": "2024-09-03T15:20:27.298413Z",
     "iopub.execute_input": "2024-09-03T15:20:27.298954Z",
     "iopub.status.idle": "2024-09-03T15:20:27.314118Z",
     "shell.execute_reply.started": "2024-09-03T15:20:27.298905Z",
     "shell.execute_reply": "2024-09-03T15:20:27.312709Z"
    },
    "trusted": false
   },
   "cell_type": "code",
   "source": "USER_COL = 'user_id'  # колонка пользователей \nITEM_COL = 'item_id'  # колонка с предметами\nEXP_RATING_COL = 'rating' # рейтинг предмета; книги\nIMP_RATING_COL = 'progress' # \nTIMESTAMP = 'start_date'",
   "execution_count": 222,
   "outputs": []
  },
  {
   "metadata": {},
   "cell_type": "markdown",
   "source": "### <b><span style='color:#686dec'>Чтение данных</span></b>\n\nДля формирования рекоммендации, будем использовать данные действий пользователей "
  },
  {
   "metadata": {
    "execution": {
     "iopub.status.busy": "2024-09-03T15:20:27.319378Z",
     "iopub.execute_input": "2024-09-03T15:20:27.320045Z",
     "iopub.status.idle": "2024-09-03T15:20:28.354220Z",
     "shell.execute_reply.started": "2024-09-03T15:20:27.319997Z",
     "shell.execute_reply": "2024-09-03T15:20:28.352729Z"
    },
    "trusted": false
   },
   "cell_type": "code",
   "source": "df = pd.read_csv('/kaggle/input/mts-library/interactions.csv')\ndf.head()",
   "execution_count": 223,
   "outputs": [
    {
     "execution_count": 223,
     "output_type": "execute_result",
     "data": {
      "text/plain": "   user_id  item_id  progress  rating  start_date\n0   126706    14433        80     NaN  2018-01-01\n1   127290   140952        58     NaN  2018-01-01\n2    66991   198453        89     NaN  2018-01-01\n3    46791    83486        23     5.0  2018-01-01\n4    79313   188770        88     5.0  2018-01-01",
      "text/html": "<div>\n<style scoped>\n    .dataframe tbody tr th:only-of-type {\n        vertical-align: middle;\n    }\n\n    .dataframe tbody tr th {\n        vertical-align: top;\n    }\n\n    .dataframe thead th {\n        text-align: right;\n    }\n</style>\n<table border=\"1\" class=\"dataframe\">\n  <thead>\n    <tr style=\"text-align: right;\">\n      <th></th>\n      <th>user_id</th>\n      <th>item_id</th>\n      <th>progress</th>\n      <th>rating</th>\n      <th>start_date</th>\n    </tr>\n  </thead>\n  <tbody>\n    <tr>\n      <th>0</th>\n      <td>126706</td>\n      <td>14433</td>\n      <td>80</td>\n      <td>NaN</td>\n      <td>2018-01-01</td>\n    </tr>\n    <tr>\n      <th>1</th>\n      <td>127290</td>\n      <td>140952</td>\n      <td>58</td>\n      <td>NaN</td>\n      <td>2018-01-01</td>\n    </tr>\n    <tr>\n      <th>2</th>\n      <td>66991</td>\n      <td>198453</td>\n      <td>89</td>\n      <td>NaN</td>\n      <td>2018-01-01</td>\n    </tr>\n    <tr>\n      <th>3</th>\n      <td>46791</td>\n      <td>83486</td>\n      <td>23</td>\n      <td>5.0</td>\n      <td>2018-01-01</td>\n    </tr>\n    <tr>\n      <th>4</th>\n      <td>79313</td>\n      <td>188770</td>\n      <td>88</td>\n      <td>5.0</td>\n      <td>2018-01-01</td>\n    </tr>\n  </tbody>\n</table>\n</div>"
     },
     "metadata": {}
    }
   ]
  },
  {
   "metadata": {
    "execution": {
     "iopub.status.busy": "2024-09-03T15:20:28.357723Z",
     "iopub.execute_input": "2024-09-03T15:20:28.358204Z",
     "iopub.status.idle": "2024-09-03T15:20:28.369737Z",
     "shell.execute_reply.started": "2024-09-03T15:20:28.358158Z",
     "shell.execute_reply": "2024-09-03T15:20:28.368365Z"
    },
    "trusted": false
   },
   "cell_type": "code",
   "source": "df.dtypes ",
   "execution_count": 224,
   "outputs": [
    {
     "execution_count": 224,
     "output_type": "execute_result",
     "data": {
      "text/plain": "user_id         int64\nitem_id         int64\nprogress        int64\nrating        float64\nstart_date     object\ndtype: object"
     },
     "metadata": {}
    }
   ]
  },
  {
   "metadata": {},
   "cell_type": "markdown",
   "source": "В наших данных, у нас есть информацию о времени совершенного действия `start_date`"
  },
  {
   "metadata": {
    "execution": {
     "iopub.status.busy": "2024-09-03T15:20:28.371344Z",
     "iopub.execute_input": "2024-09-03T15:20:28.371821Z",
     "iopub.status.idle": "2024-09-03T15:20:30.016836Z",
     "shell.execute_reply.started": "2024-09-03T15:20:28.371754Z",
     "shell.execute_reply": "2024-09-03T15:20:30.015353Z"
    },
    "trusted": false
   },
   "cell_type": "code",
   "source": "# конверируем данные для [start_date]\ndf['start_date'] = df['start_date'].astype('datetime64[ns]')\n\n# убираем дубликаты для комбинации [user_id] [item_id] ie. одна запись в день / пользователь\ndf = df.sort_values('start_date').drop_duplicates(subset=['user_id', 'item_id'], keep='last')",
   "execution_count": 225,
   "outputs": []
  },
  {
   "metadata": {},
   "cell_type": "markdown",
   "source": "### <b><span style='color:#686dec'>Exploratory Data Analysis</span></b>\n\nКак всегда, давай иследуем наши данные \n\n#### user_id & item_id\n\nКоличество уникальных пользователей `user_id` и книг `item_id` в датасете"
  },
  {
   "metadata": {
    "execution": {
     "iopub.status.busy": "2024-09-03T15:20:30.018556Z",
     "iopub.execute_input": "2024-09-03T15:20:30.019052Z",
     "iopub.status.idle": "2024-09-03T15:20:30.100526Z",
     "shell.execute_reply.started": "2024-09-03T15:20:30.019006Z",
     "shell.execute_reply": "2024-09-03T15:20:30.098979Z"
    },
    "trusted": false
   },
   "cell_type": "code",
   "source": "df[USER_COL].value_counts()",
   "execution_count": 226,
   "outputs": [
    {
     "execution_count": 226,
     "output_type": "execute_result",
     "data": {
      "text/plain": "user_id\n41297     2091\n150282    1352\n155199     850\n143558     832\n86301      822\n          ... \n47123        1\n217          1\n152642       1\n64702        1\n23916        1\nName: count, Length: 151600, dtype: int64"
     },
     "metadata": {}
    }
   ]
  },
  {
   "metadata": {
    "execution": {
     "iopub.status.busy": "2024-09-03T15:20:30.102379Z",
     "iopub.execute_input": "2024-09-03T15:20:30.102960Z",
     "iopub.status.idle": "2024-09-03T15:20:30.178270Z",
     "shell.execute_reply.started": "2024-09-03T15:20:30.102892Z",
     "shell.execute_reply": "2024-09-03T15:20:30.176890Z"
    },
    "trusted": false
   },
   "cell_type": "code",
   "source": "df[ITEM_COL].value_counts()",
   "execution_count": 227,
   "outputs": [
    {
     "execution_count": 227,
     "output_type": "execute_result",
     "data": {
      "text/plain": "item_id\n99357     6575\n316995    2706\n109201    2585\n241026    2300\n28889     2287\n          ... \n205629       4\n171910       3\n132600       3\n93290        3\n285283       2\nName: count, Length: 59599, dtype: int64"
     },
     "metadata": {}
    }
   ]
  },
  {
   "metadata": {},
   "cell_type": "markdown",
   "source": "#### User Feedback\n\nУ нас две колонки с feedback пользователях;\n- `rating` (пользователь оставил отзыв) [explicit]\n- `progress` (доля прочитанной книги) [implicit]\n\n**Explicit**\n- мало, иногда недоступен\n- явно отражает предпочтения пользователя\n\n**Implicit**\n- много\n- разнородный\n- часто не содержит негативного опыта/его надо извлекать на основе правил\n- косвенно показывает предпочтения пользователей"
  },
  {
   "metadata": {},
   "cell_type": "markdown",
   "source": "Пользователи взаимодействуют с книгами, которые им, скорее всего, понравятся, и предпочитают ставить оценки понравившимся, поэтому в реальных данных часто наблюдается смещение в сторону положительных оценок."
  },
  {
   "metadata": {
    "execution": {
     "iopub.status.busy": "2024-09-03T15:20:30.180200Z",
     "iopub.execute_input": "2024-09-03T15:20:30.180596Z",
     "iopub.status.idle": "2024-09-03T15:20:30.206991Z",
     "shell.execute_reply.started": "2024-09-03T15:20:30.180557Z",
     "shell.execute_reply": "2024-09-03T15:20:30.205578Z"
    },
    "trusted": false
   },
   "cell_type": "code",
   "source": "df[EXP_RATING_COL].value_counts(dropna=False)",
   "execution_count": 228,
   "outputs": [
    {
     "execution_count": 228,
     "output_type": "execute_result",
     "data": {
      "text/plain": "rating\nNaN    1247661\n5.0     214703\n4.0      40382\n3.0      18273\n1.0       6115\n2.0       5864\nName: count, dtype: int64"
     },
     "metadata": {}
    }
   ]
  },
  {
   "metadata": {
    "execution": {
     "iopub.status.busy": "2024-09-03T15:20:30.208495Z",
     "iopub.execute_input": "2024-09-03T15:20:30.208998Z",
     "iopub.status.idle": "2024-09-03T15:20:30.681399Z",
     "shell.execute_reply.started": "2024-09-03T15:20:30.208946Z",
     "shell.execute_reply": "2024-09-03T15:20:30.680001Z"
    },
    "trusted": false
   },
   "cell_type": "code",
   "source": "ax = df['rating'].hist(bins=10, figsize=(5,3));\nax.grid(color='gray', linestyle='--', linewidth=0.5,alpha=0.2) \nax.tick_params(axis='both', labelsize=9)\nsns.despine(top=True,left=True,right=True)\nplt.show()",
   "execution_count": 229,
   "outputs": [
    {
     "output_type": "display_data",
     "data": {
      "text/plain": "<Figure size 500x300 with 1 Axes>",
      "image/png": "[encoded data removed]"
     },
     "metadata": {}
    }
   ]
  },
  {
   "metadata": {},
   "cell_type": "markdown",
   "source": "На счет `progress`, мы видим что нет пропусков и большинство пользователей либо не начали читать либо прочитали книгу "
  },
  {
   "metadata": {
    "execution": {
     "iopub.status.busy": "2024-09-03T15:20:30.683268Z",
     "iopub.execute_input": "2024-09-03T15:20:30.683708Z",
     "iopub.status.idle": "2024-09-03T15:20:30.712428Z",
     "shell.execute_reply.started": "2024-09-03T15:20:30.683665Z",
     "shell.execute_reply": "2024-09-03T15:20:30.711111Z"
    },
    "trusted": false
   },
   "cell_type": "code",
   "source": "df['progress'].value_counts(dropna=False)",
   "execution_count": 230,
   "outputs": [
    {
     "execution_count": 230,
     "output_type": "execute_result",
     "data": {
      "text/plain": "progress\n100    228230\n0      200915\n99      56710\n1       48356\n2       33917\n        ...  \n74       8427\n79       8426\n76       8407\n58       8316\n63       8267\nName: count, Length: 101, dtype: int64"
     },
     "metadata": {}
    }
   ]
  },
  {
   "metadata": {
    "execution": {
     "iopub.status.busy": "2024-09-03T15:20:30.714071Z",
     "iopub.execute_input": "2024-09-03T15:20:30.714584Z",
     "iopub.status.idle": "2024-09-03T15:20:31.525104Z",
     "shell.execute_reply.started": "2024-09-03T15:20:30.714536Z",
     "shell.execute_reply": "2024-09-03T15:20:31.523236Z"
    },
    "trusted": false
   },
   "cell_type": "code",
   "source": "ax = df['progress'].hist(bins=50, figsize=(5,3));\nax.grid(color='gray', linestyle='--', linewidth=0.5,alpha=0.2) \nax.tick_params(axis='both', labelsize=9)\nsns.despine(top=True,left=True,right=True)\nplt.show()",
   "execution_count": 231,
   "outputs": [
    {
     "output_type": "display_data",
     "data": {
      "text/plain": "<Figure size 500x300 with 1 Axes>",
      "image/png": "[encoded data removed]"
     },
     "metadata": {}
    }
   ]
  },
  {
   "metadata": {},
   "cell_type": "markdown",
   "source": "#### Количество прочтений для всех пользователей"
  },
  {
   "metadata": {
    "execution": {
     "iopub.status.busy": "2024-09-03T15:20:31.526989Z",
     "iopub.execute_input": "2024-09-03T15:20:31.527580Z",
     "iopub.status.idle": "2024-09-03T15:20:32.112096Z",
     "shell.execute_reply.started": "2024-09-03T15:20:31.527506Z",
     "shell.execute_reply": "2024-09-03T15:20:32.110576Z"
    },
    "trusted": false
   },
   "cell_type": "code",
   "source": "# количество книг per пользователь\nuser_groups = df.groupby('user_id')['item_id'].count()\nax = user_groups[user_groups < user_groups.quantile(0.99)].hist(bins=50,figsize=(5,3));\nax.grid(color='gray', linestyle='--', linewidth=0.5,alpha=0.2) \nax.tick_params(axis='both', labelsize=9)\nsns.despine(top=True,left=True,right=True)\nplt.show()",
   "execution_count": 232,
   "outputs": [
    {
     "output_type": "display_data",
     "data": {
      "text/plain": "<Figure size 500x300 with 1 Axes>",
      "image/png": "[encoded data removed]"
     },
     "metadata": {}
    }
   ]
  },
  {
   "metadata": {},
   "cell_type": "markdown",
   "source": "#### Количетсво прочтений каждой книги"
  },
  {
   "metadata": {
    "execution": {
     "iopub.status.busy": "2024-09-03T15:20:32.119153Z",
     "iopub.execute_input": "2024-09-03T15:20:32.119620Z",
     "iopub.status.idle": "2024-09-03T15:20:32.685272Z",
     "shell.execute_reply.started": "2024-09-03T15:20:32.119578Z",
     "shell.execute_reply": "2024-09-03T15:20:32.683234Z"
    },
    "trusted": false
   },
   "cell_type": "code",
   "source": "item_groups = df.groupby('item_id')['user_id'].count()\nax = item_groups[item_groups < item_groups.quantile(0.99)].hist(bins=50,figsize=(5,3));\nax.grid(color='gray', linestyle='--', linewidth=0.5,alpha=0.2) \nax.tick_params(axis='both', labelsize=9)\nsns.despine(top=True,left=True,right=True)\nplt.show()",
   "execution_count": 233,
   "outputs": [
    {
     "output_type": "display_data",
     "data": {
      "text/plain": "<Figure size 500x300 with 1 Axes>",
      "image/png": "[encoded data removed]"
     },
     "metadata": {}
    }
   ]
  },
  {
   "metadata": {},
   "cell_type": "markdown",
   "source": "### <b><span style='color:#686dec'>Подготавливаем выборки</span></b>\n\n- Мы увидили что для **implicit** feedback `progress` у нас нет проблем с пропусками\n- А для колонки **explicit** feedback `rating` у нас намного меньше данных так как у нас много пропусков, \n- Разобъем выборку на две части `df_implicit` и `df_explicit`"
  },
  {
   "metadata": {
    "execution": {
     "iopub.status.busy": "2024-09-03T15:20:32.686661Z",
     "iopub.execute_input": "2024-09-03T15:20:32.687068Z",
     "iopub.status.idle": "2024-09-03T15:20:32.736053Z",
     "shell.execute_reply.started": "2024-09-03T15:20:32.687027Z",
     "shell.execute_reply": "2024-09-03T15:20:32.734438Z"
    },
    "trusted": false
   },
   "cell_type": "code",
   "source": "df_implicit = df.copy()\ndf_explicit = df.dropna()\n\nprint('implicit',df_implicit.shape)\nprint('explicit',df_explicit.shape)",
   "execution_count": 234,
   "outputs": [
    {
     "name": "stdout",
     "text": "implicit (1532998, 5)\nexplicit (285337, 5)\n",
     "output_type": "stream"
    }
   ]
  },
  {
   "metadata": {},
   "cell_type": "markdown",
   "source": "### <b><span style='color:#686dec'>Фильтрация данных</span></b>\n\nФильтруем пользователей, у которых меньше 10 прочитанных книг и книги, которые прочли менее 20 пользователей."
  },
  {
   "metadata": {
    "execution": {
     "iopub.status.busy": "2024-09-03T15:20:32.737673Z",
     "iopub.execute_input": "2024-09-03T15:20:32.738128Z",
     "iopub.status.idle": "2024-09-03T15:20:32.752602Z",
     "shell.execute_reply.started": "2024-09-03T15:20:32.738079Z",
     "shell.execute_reply": "2024-09-03T15:20:32.750713Z"
    },
    "trusted": false
   },
   "cell_type": "code",
   "source": "def filter_data(df, user_count=10, item_count=10):\n    \n    # book filter \n    item_counts = df.groupby(ITEM_COL)[USER_COL].count()\n    pop_items = item_counts[item_counts > user_count]\n    df_implicit = df[df[ITEM_COL].isin(pop_items.index)]\n\n    # user filter \n    user_counts = df.groupby(USER_COL)[ITEM_COL].count()\n    pop_users = user_counts[user_counts > item_count]\n    df = df[df[USER_COL].isin(pop_users.index)].copy()\n    return df",
   "execution_count": 235,
   "outputs": []
  },
  {
   "metadata": {
    "execution": {
     "iopub.status.busy": "2024-09-03T15:20:32.754201Z",
     "iopub.execute_input": "2024-09-03T15:20:32.754744Z",
     "iopub.status.idle": "2024-09-03T15:20:33.063667Z",
     "shell.execute_reply.started": "2024-09-03T15:20:32.754682Z",
     "shell.execute_reply": "2024-09-03T15:20:33.062185Z"
    },
    "trusted": false
   },
   "cell_type": "code",
   "source": "df_implicit = filter_data(df_implicit, \n                          user_count=10, \n                          item_count=20)\ndf_implicit.shape[0]",
   "execution_count": 236,
   "outputs": [
    {
     "execution_count": 236,
     "output_type": "execute_result",
     "data": {
      "text/plain": "459065"
     },
     "metadata": {}
    }
   ]
  },
  {
   "metadata": {},
   "cell_type": "markdown",
   "source": "### <b><span style='color:#686dec'>Train-test-split</span></b>\n\nРаздел на `train` / `test` имеет свои нюансы \n- `train` будет использоватся для обучения (разложение матрицы)\n- `test` содержит не только `train` но и все кроме последнего предсказания всех пользователей\n- `test` будет использоватся в разделе `online prediction`, в нем содержатся только те пользователи/предметы которые попали и в `train`"
  },
  {
   "metadata": {
    "execution": {
     "iopub.status.busy": "2024-09-03T15:20:33.065823Z",
     "iopub.execute_input": "2024-09-03T15:20:33.066391Z",
     "iopub.status.idle": "2024-09-03T15:20:33.082908Z",
     "shell.execute_reply.started": "2024-09-03T15:20:33.066332Z",
     "shell.execute_reply": "2024-09-03T15:20:33.081002Z"
    },
    "trusted": false
   },
   "cell_type": "code",
   "source": "def train_test_split(\n    clickstream_df,\n    test_quantile=0.9):\n    \n    '''\n    \n    Split clickstream by date\n    \n    '''\n    \n    clickstream_df = clickstream_df.sort_values([USER_COL, TIMESTAMP])\n    \n    # test set timestamp\n    test_timepoint = clickstream_df[TIMESTAMP].quantile(\n                                    q=test_quantile, \n                                    interpolation='nearest')\n    \n\n    # train/test split by timestamp\n    test = clickstream_df.query(f'{TIMESTAMP} >= @test_timepoint')    \n    train = clickstream_df.drop(test.index)\n\n    # test must contain users & books found in training set\n    test = test[test[USER_COL].isin(train[USER_COL])]\n    test = test[test[ITEM_COL].isin(train[ITEM_COL])]\n    \n    # sort & group by for each user\n    # test will be last user item read status; train will be all other\n    test_full_history = test.sort_values([USER_COL, TIMESTAMP]).groupby(USER_COL)\n    last_item = test_full_history.tail(1)\n    test_history = test_full_history.head(-1)\n\n    test = pd.concat([train, test_history])\n\n    test.reset_index(drop=True, inplace=True)\n    train.reset_index(drop=True, inplace=True)\n    \n    return train, test, last_item",
   "execution_count": 237,
   "outputs": []
  },
  {
   "metadata": {
    "execution": {
     "iopub.status.busy": "2024-09-03T15:20:33.084591Z",
     "iopub.execute_input": "2024-09-03T15:20:33.085032Z",
     "iopub.status.idle": "2024-09-03T15:20:33.260574Z",
     "shell.execute_reply.started": "2024-09-03T15:20:33.084990Z",
     "shell.execute_reply": "2024-09-03T15:20:33.259104Z"
    },
    "trusted": false
   },
   "cell_type": "code",
   "source": "train, test, last_item = train_test_split(df_implicit)\n\nprint(train.shape)\nprint(test.shape)\nprint(last_item.shape)",
   "execution_count": 238,
   "outputs": [
    {
     "name": "stdout",
     "text": "(412826, 5)\n(449660, 5)\n(4559, 5)\n",
     "output_type": "stream"
    }
   ]
  },
  {
   "metadata": {
    "execution": {
     "iopub.status.busy": "2024-09-03T15:20:33.262239Z",
     "iopub.execute_input": "2024-09-03T15:20:33.262642Z",
     "iopub.status.idle": "2024-09-03T15:20:33.279145Z",
     "shell.execute_reply.started": "2024-09-03T15:20:33.262602Z",
     "shell.execute_reply": "2024-09-03T15:20:33.277739Z"
    },
    "trusted": false
   },
   "cell_type": "code",
   "source": "print('train start',train['start_date'].min())\nprint('train end',train['start_date'].max())\nprint('test start',test['start_date'].min())\nprint('test end',test['start_date'].max())\nprint('last item start',last_item['start_date'].min())\nprint('last item end',last_item['start_date'].max())",
   "execution_count": 239,
   "outputs": [
    {
     "name": "stdout",
     "text": "train start 2018-01-01 00:00:00\ntrain end 2019-10-22 00:00:00\ntest start 2018-01-01 00:00:00\ntest end 2019-12-31 00:00:00\nlast item start 2019-10-23 00:00:00\nlast item end 2019-12-31 00:00:00\n",
     "output_type": "stream"
    }
   ]
  },
  {
   "metadata": {},
   "cell_type": "markdown",
   "source": "### <b><span style='color:#686dec'>Фильтруем `last_time`</span></b>\n\nВыбираем из `last_time` только тех пользователей которые прочитали больше 10% книги"
  },
  {
   "metadata": {
    "execution": {
     "iopub.status.busy": "2024-09-03T15:20:33.281012Z",
     "iopub.execute_input": "2024-09-03T15:20:33.281560Z",
     "iopub.status.idle": "2024-09-03T15:20:33.294275Z",
     "shell.execute_reply.started": "2024-09-03T15:20:33.281440Z",
     "shell.execute_reply": "2024-09-03T15:20:33.292507Z"
    },
    "trusted": false
   },
   "cell_type": "code",
   "source": "last_item = last_item[last_item[IMP_RATING_COL] >= 10]\nlast_item.shape",
   "execution_count": 240,
   "outputs": [
    {
     "execution_count": 240,
     "output_type": "execute_result",
     "data": {
      "text/plain": "(3675, 5)"
     },
     "metadata": {}
    }
   ]
  },
  {
   "metadata": {},
   "cell_type": "markdown",
   "source": "### <b><span style='color:#686dec'>Вспомогательные Функции</span></b>\n\n- **`get_sparse_matrix`** : Создает матрицу взаимосвязи `rating_col` пользователей и предметов \n- **`get_scores`** : Скалярное произвидение `user_id` матрицу и `item_id` матрицу : score matrix\n- **`predict`** : **Top k** рекоммендации по итогу score matrix\n- **`hr`** : Метрика hitrate"
  },
  {
   "metadata": {
    "execution": {
     "iopub.status.busy": "2024-09-03T15:20:33.296186Z",
     "iopub.execute_input": "2024-09-03T15:20:33.296769Z",
     "iopub.status.idle": "2024-09-03T15:20:33.313582Z",
     "shell.execute_reply.started": "2024-09-03T15:20:33.296703Z",
     "shell.execute_reply": "2024-09-03T15:20:33.312061Z"
    },
    "trusted": false
   },
   "cell_type": "code",
   "source": "def get_sparse_matrix(df, rating_col):\n    \n    \"\"\"\n\n    Create sparse matrix (like via pivot_table)\n    but directly into sparse_matrix format\n    \n    rating_col : value column (implicit/explicit)\n\n    \"\"\"\n    \n    rating = list(df[rating_col]) # rating\n    rows = df[USER_COL].astype('category').cat.codes # userid\n    cols = df[ITEM_COL].astype('category').cat.codes # bookid\n    df_sparse = sparse.csr_matrix((rating, (rows, cols)))\n    \n    return df_sparse, rows, cols\n\n\ndef get_scores(user_vecs, \n               item_vecs, \n               rating_matrix):\n    \n    \"\"\"\n    \n    Get the score matrix from the user & item matrices\n    don't include the books that have already been read\n    \n    R = U_{d} V^{T}_{d}\n    \n    \"\"\"\n    \n    scores = user_vecs.dot(item_vecs.T)\n    scores = np.multiply(scores,\n        np.invert(rating_matrix.astype(bool))\n        )\n    return scores\n\ndef predict(scores, rows, cols, k=10):\n    \n    \"\"\"\n    \n    Using the score matrix from [get_scores] return the \n    sorted recommendations based on the highest top k scores\n    for each user\n    \n    \"\"\"\n    \n    id2user = dict(zip(rows, train.user_id))\n    id2item = dict(zip(cols, train.item_id))\n\n    ind_part = np.argpartition(scores, -k + 1)[:, -k:].copy()\n    scores_not_sorted = np.take_along_axis(scores, ind_part, axis=1)\n    ind_sorted = np.argsort(scores_not_sorted, axis=1)\n    indices = np.take_along_axis(ind_part, ind_sorted, axis=1)\n\n    preds = pd.DataFrame({\n        USER_COL: range(scores.shape[0]),\n        'preds': np.flip(indices, axis=1).tolist(),\n        })\n    \n    preds[USER_COL] = preds[USER_COL].map(id2user)\n    preds['preds'] = preds['preds'].map(lambda inds: [id2item[i] for i in inds])\n    return preds\n\n# metric hitrate\ndef hr(df: pd.DataFrame, \n       pred_col='preds', \n       true_col='item_id') -> float:\n    \n    hr_values = []\n    for _, row in df.iterrows():\n      hr_values.append(int(row[true_col] in row[pred_col]))\n    return round(np.mean(hr_values), 4)",
   "execution_count": 241,
   "outputs": []
  },
  {
   "metadata": {},
   "cell_type": "markdown",
   "source": "### <b><span style='color:#686dec'>(a) Implicit</span></b>\n\nИспользуя долю прочитанных книг для `rating`\n\n#### **ALS Decomposition**\n\n- Разложим матрицу пользовательского прогресса различных книг `train_sparse`\n- Возмем только 50 факторов как гиперпараметр"
  },
  {
   "metadata": {
    "execution": {
     "iopub.status.busy": "2024-09-03T15:20:33.332673Z",
     "iopub.execute_input": "2024-09-03T15:20:33.333162Z",
     "iopub.status.idle": "2024-09-03T15:20:33.580195Z",
     "shell.execute_reply.started": "2024-09-03T15:20:33.333109Z",
     "shell.execute_reply": "2024-09-03T15:20:33.578396Z"
    },
    "trusted": false
   },
   "cell_type": "code",
   "source": "# train_sparse : user, book progress sparse matrix\n# IMP_RATING_COL : 'progress'\ntrain_sparse, train_rows_imp, train_cols_imp = get_sparse_matrix(train, \n                                                                 IMP_RATING_COL)",
   "execution_count": 243,
   "outputs": []
  },
  {
   "metadata": {},
   "cell_type": "markdown",
   "source": "Напрямую хранить все данные нам не имеет смысла, посмотрим каая доля у нас вообще есть "
  },
  {
   "metadata": {
    "execution": {
     "iopub.status.busy": "2024-09-03T15:20:33.606904Z",
     "iopub.execute_input": "2024-09-03T15:20:33.607377Z",
     "iopub.status.idle": "2024-09-03T15:20:57.266911Z",
     "shell.execute_reply.started": "2024-09-03T15:20:33.607332Z",
     "shell.execute_reply": "2024-09-03T15:20:57.265951Z"
    },
    "trusted": false
   },
   "cell_type": "code",
   "source": "# matrix decomposition of user item interaction matrix\nalgo = implicit.als.AlternatingLeastSquares(factors=50, \n                                            regularization=0.1, \n                                            iterations=50, \n                                            use_gpu=False)\nalgo.fit((train_sparse).astype('double'))",
   "execution_count": 245,
   "outputs": [
    {
     "output_type": "display_data",
     "data": {
      "text/plain": "  0%|          | 0/50 [00:00<?, ?it/s]",
      "application/vnd.jupyter.widget-view+json": {
       "version_major": 2,
       "version_minor": 0,
       "model_id": "f923c7d776ab44839276f68f82f2bdcc"
      }
     },
     "metadata": {}
    }
   ]
  },
  {
   "metadata": {
    "execution": {
     "iopub.status.busy": "2024-09-03T15:20:57.268489Z",
     "iopub.execute_input": "2024-09-03T15:20:57.269693Z",
     "iopub.status.idle": "2024-09-03T15:20:57.276488Z",
     "shell.execute_reply.started": "2024-09-03T15:20:57.269642Z",
     "shell.execute_reply": "2024-09-03T15:20:57.275161Z"
    },
    "trusted": false
   },
   "cell_type": "code",
   "source": "user_vecs = algo.user_factors; print(user_vecs.shape) # user matrix containing 50 features\nitem_vecs = algo.item_factors; print(item_vecs.shape) # item matrix containing 50 featyres ",
   "execution_count": 246,
   "outputs": [
    {
     "name": "stdout",
     "text": "(7561, 50)\n(51358, 50)\n",
     "output_type": "stream"
    }
   ]
  },
  {
   "metadata": {
    "execution": {
     "iopub.status.busy": "2024-09-03T15:20:57.277951Z",
     "iopub.execute_input": "2024-09-03T15:20:57.278374Z",
     "iopub.status.idle": "2024-09-03T15:21:02.243332Z",
     "shell.execute_reply.started": "2024-09-03T15:20:57.278317Z",
     "shell.execute_reply": "2024-09-03T15:21:02.241761Z"
    },
    "trusted": false
   },
   "cell_type": "code",
   "source": "# score matrix for implicit approach\nscores_imp = get_scores(user_vecs, \n                        item_vecs, \n                        train_sparse.todense())",
   "execution_count": 247,
   "outputs": []
  },
  {
   "metadata": {
    "execution": {
     "iopub.status.busy": "2024-09-03T15:21:02.244954Z",
     "iopub.execute_input": "2024-09-03T15:21:02.245413Z",
     "iopub.status.idle": "2024-09-03T15:21:07.575393Z",
     "shell.execute_reply.started": "2024-09-03T15:21:02.245346Z",
     "shell.execute_reply": "2024-09-03T15:21:07.573950Z"
    },
    "trusted": false
   },
   "cell_type": "code",
   "source": "# create recommendations \npred_imp = predict(scores_imp, \n                   train_rows_imp, \n                   train_cols_imp)\n\n# limit recommendations to only users \npred_imp = pred_imp.merge(last_item, how='right', on='user_id')",
   "execution_count": 248,
   "outputs": []
  },
  {
   "metadata": {
    "execution": {
     "iopub.status.busy": "2024-09-03T15:21:34.795302Z",
     "iopub.execute_input": "2024-09-03T15:21:34.795810Z",
     "iopub.status.idle": "2024-09-03T15:21:34.816280Z",
     "shell.execute_reply.started": "2024-09-03T15:21:34.795764Z",
     "shell.execute_reply": "2024-09-03T15:21:34.813988Z"
    },
    "trusted": false
   },
   "cell_type": "code",
   "source": "pred_imp.head()",
   "execution_count": 271,
   "outputs": [
    {
     "execution_count": 271,
     "output_type": "execute_result",
     "data": {
      "text/plain": "   user_id                                              preds  item_id  \\\n0       21  [173707, 126214, 161550, 152551, 134598, 68549...   227443   \n1       43  [84620, 39160, 306076, 70926, 181053, 18541, 7...   161017   \n2       77  [230045, 295007, 155266, 292066, 270415, 16985...   235407   \n3       83  [152716, 186680, 85287, 249564, 192249, 153677...   312297   \n4      219  [45897, 81342, 39160, 18541, 108080, 150442, 8...     3192   \n\n   progress  rating start_date  \n0       100     5.0 2019-12-19  \n1        62     NaN 2019-12-26  \n2        69     NaN 2019-12-13  \n3        51     NaN 2019-11-11  \n4        99     NaN 2019-12-10  ",
      "text/html": "<div>\n<style scoped>\n    .dataframe tbody tr th:only-of-type {\n        vertical-align: middle;\n    }\n\n    .dataframe tbody tr th {\n        vertical-align: top;\n    }\n\n    .dataframe thead th {\n        text-align: right;\n    }\n</style>\n<table border=\"1\" class=\"dataframe\">\n  <thead>\n    <tr style=\"text-align: right;\">\n      <th></th>\n      <th>user_id</th>\n      <th>preds</th>\n      <th>item_id</th>\n      <th>progress</th>\n      <th>rating</th>\n      <th>start_date</th>\n    </tr>\n  </thead>\n  <tbody>\n    <tr>\n      <th>0</th>\n      <td>21</td>\n      <td>[173707, 126214, 161550, 152551, 134598, 68549...</td>\n      <td>227443</td>\n      <td>100</td>\n      <td>5.0</td>\n      <td>2019-12-19</td>\n    </tr>\n    <tr>\n      <th>1</th>\n      <td>43</td>\n      <td>[84620, 39160, 306076, 70926, 181053, 18541, 7...</td>\n      <td>161017</td>\n      <td>62</td>\n      <td>NaN</td>\n      <td>2019-12-26</td>\n    </tr>\n    <tr>\n      <th>2</th>\n      <td>77</td>\n      <td>[230045, 295007, 155266, 292066, 270415, 16985...</td>\n      <td>235407</td>\n      <td>69</td>\n      <td>NaN</td>\n      <td>2019-12-13</td>\n    </tr>\n    <tr>\n      <th>3</th>\n      <td>83</td>\n      <td>[152716, 186680, 85287, 249564, 192249, 153677...</td>\n      <td>312297</td>\n      <td>51</td>\n      <td>NaN</td>\n      <td>2019-11-11</td>\n    </tr>\n    <tr>\n      <th>4</th>\n      <td>219</td>\n      <td>[45897, 81342, 39160, 18541, 108080, 150442, 8...</td>\n      <td>3192</td>\n      <td>99</td>\n      <td>NaN</td>\n      <td>2019-12-10</td>\n    </tr>\n  </tbody>\n</table>\n</div>"
     },
     "metadata": {}
    }
   ]
  },
  {
   "metadata": {
    "execution": {
     "iopub.status.busy": "2024-09-03T16:11:23.459685Z",
     "iopub.execute_input": "2024-09-03T16:11:23.461410Z",
     "iopub.status.idle": "2024-09-03T16:11:23.786200Z",
     "shell.execute_reply.started": "2024-09-03T16:11:23.461348Z",
     "shell.execute_reply": "2024-09-03T16:11:23.784339Z"
    },
    "trusted": false
   },
   "cell_type": "code",
   "source": "hr(pred_imp)",
   "execution_count": 288,
   "outputs": [
    {
     "execution_count": 288,
     "output_type": "execute_result",
     "data": {
      "text/plain": "0.0103"
     },
     "metadata": {}
    }
   ]
  },
  {
   "metadata": {},
   "cell_type": "markdown",
   "source": "### <b><span style='color:#686dec'>(b) Explicit</span></b>\n\nИспользуя рейтинги пользователей построим матрицу взаимосвязи пользователя и товара \n\n#### **ALS Decomposition**\n\n- Разложим матрицу пользовательского рейтингов книг `train_sparse`\n- Возмем только 50 факторов как гиперпараметр"
  },
  {
   "metadata": {
    "execution": {
     "iopub.status.busy": "2024-09-03T15:21:07.904154Z",
     "iopub.execute_input": "2024-09-03T15:21:07.904539Z",
     "iopub.status.idle": "2024-09-03T15:21:07.997798Z",
     "shell.execute_reply.started": "2024-09-03T15:21:07.904497Z",
     "shell.execute_reply": "2024-09-03T15:21:07.996390Z"
    },
    "trusted": false
   },
   "cell_type": "code",
   "source": "df_explicit = filter_data(df_explicit, \n                          user_count=10, \n                          item_count=10)\ndf_explicit.shape[0]",
   "execution_count": 251,
   "outputs": [
    {
     "execution_count": 251,
     "output_type": "execute_result",
     "data": {
      "text/plain": "101373"
     },
     "metadata": {}
    }
   ]
  },
  {
   "metadata": {},
   "cell_type": "markdown",
   "source": "Разбиваем данные на три части; как и раньше. Но для explicit подхода мы оставим только рейтинги книг 4 и выше"
  },
  {
   "metadata": {
    "execution": {
     "iopub.status.busy": "2024-09-03T15:21:07.999169Z",
     "iopub.execute_input": "2024-09-03T15:21:07.999586Z",
     "iopub.status.idle": "2024-09-03T15:21:08.045592Z",
     "shell.execute_reply.started": "2024-09-03T15:21:07.999526Z",
     "shell.execute_reply": "2024-09-03T15:21:08.043964Z"
    },
    "trusted": false
   },
   "cell_type": "code",
   "source": "train, test, last_item = train_test_split(df_explicit)\nlast_item = last_item[last_item[EXP_RATING_COL] >= 4]",
   "execution_count": 252,
   "outputs": []
  },
  {
   "metadata": {
    "execution": {
     "iopub.status.busy": "2024-09-03T15:21:08.047277Z",
     "iopub.execute_input": "2024-09-03T15:21:08.047691Z",
     "iopub.status.idle": "2024-09-03T15:21:08.114984Z",
     "shell.execute_reply.started": "2024-09-03T15:21:08.047650Z",
     "shell.execute_reply": "2024-09-03T15:21:08.113447Z"
    },
    "trusted": false
   },
   "cell_type": "code",
   "source": "# create training sparse matrix\ntrain_sparse, train_rows_exp, train_cols_exp = get_sparse_matrix(train, \n                                                                 EXP_RATING_COL)",
   "execution_count": 253,
   "outputs": []
  },
  {
   "metadata": {
    "execution": {
     "iopub.status.busy": "2024-09-03T15:21:08.134855Z",
     "iopub.execute_input": "2024-09-03T15:21:08.135355Z",
     "iopub.status.idle": "2024-09-03T15:21:16.401974Z",
     "shell.execute_reply.started": "2024-09-03T15:21:08.135309Z",
     "shell.execute_reply": "2024-09-03T15:21:16.400623Z"
    },
    "trusted": false
   },
   "cell_type": "code",
   "source": "algo = implicit.als.AlternatingLeastSquares(factors=50, \n                                            regularization=0.1, \n                                            iterations=50, \n                                            use_gpu=False)\nalgo.fit((train_sparse).astype('double'))",
   "execution_count": 255,
   "outputs": [
    {
     "output_type": "display_data",
     "data": {
      "text/plain": "  0%|          | 0/50 [00:00<?, ?it/s]",
      "application/vnd.jupyter.widget-view+json": {
       "version_major": 2,
       "version_minor": 0,
       "model_id": "7c0f84a98cb042b39a4b0c5541d43aac"
      }
     },
     "metadata": {}
    }
   ]
  },
  {
   "metadata": {
    "execution": {
     "iopub.status.busy": "2024-09-03T15:21:16.403602Z",
     "iopub.execute_input": "2024-09-03T15:21:16.404077Z",
     "iopub.status.idle": "2024-09-03T15:21:16.411702Z",
     "shell.execute_reply.started": "2024-09-03T15:21:16.404032Z",
     "shell.execute_reply": "2024-09-03T15:21:16.410383Z"
    },
    "trusted": false
   },
   "cell_type": "code",
   "source": "user_vecs = algo.user_factors # user matrix  (50 features)\nitem_vecs = algo.item_factors  # item matrix (50 features)\n\n# проверим по размерам, что мы действиельно не перепутали users и items\nprint(train_sparse.shape)\nprint(user_vecs.shape, item_vecs.shape)",
   "execution_count": 256,
   "outputs": [
    {
     "name": "stdout",
     "text": "(2514, 17943)\n(2514, 50) (17943, 50)\n",
     "output_type": "stream"
    }
   ]
  },
  {
   "metadata": {
    "execution": {
     "iopub.status.busy": "2024-09-03T15:44:19.190814Z",
     "iopub.execute_input": "2024-09-03T15:44:19.191342Z",
     "iopub.status.idle": "2024-09-03T15:44:20.039957Z",
     "shell.execute_reply.started": "2024-09-03T15:44:19.191297Z",
     "shell.execute_reply": "2024-09-03T15:44:20.038534Z"
    },
    "trusted": false
   },
   "cell_type": "code",
   "source": "# Using score matrix get the score matrix\nscores_exp = get_scores(user_vecs, \n                        item_vecs, \n                        train_sparse.todense())\n\nscores_exp.shape # (2514 users, 17943 items)",
   "execution_count": 281,
   "outputs": [
    {
     "execution_count": 281,
     "output_type": "execute_result",
     "data": {
      "text/plain": "(2514, 17943)"
     },
     "metadata": {}
    }
   ]
  },
  {
   "metadata": {
    "execution": {
     "iopub.status.busy": "2024-09-03T15:50:36.388960Z",
     "iopub.execute_input": "2024-09-03T15:50:36.389497Z",
     "iopub.status.idle": "2024-09-03T15:50:37.171258Z",
     "shell.execute_reply.started": "2024-09-03T15:50:36.389454Z",
     "shell.execute_reply": "2024-09-03T15:50:37.169660Z"
    },
    "trusted": false
   },
   "cell_type": "code",
   "source": "# Make a recommendation prediction for each user using score matrix\npred_exp = predict(scores_exp, \n                   train_rows_exp, \n                   train_cols_exp)\n\nprint(pred_exp.head())\nprint(pred_exp.shape)",
   "execution_count": 284,
   "outputs": [
    {
     "name": "stdout",
     "text": "   user_id                                              preds\n0       21  [261138, 187501, 39765, 23553, 88397, 45920, 2...\n1       83  [251645, 152716, 220122, 192249, 228394, 18668...\n2      156  [198447, 271811, 78934, 216356, 22675, 144406,...\n3      219  [77729, 77581, 75360, 43255, 113015, 222246, 2...\n4      359  [23553, 34917, 140991, 221178, 234400, 83902, ...\n(2514, 2)\n",
     "output_type": "stream"
    }
   ]
  },
  {
   "metadata": {},
   "cell_type": "markdown",
   "source": "Сделаем рекомендацию пользователям из `last_item` которые оценивали книги (4+)"
  },
  {
   "metadata": {
    "execution": {
     "iopub.status.busy": "2024-09-03T15:54:42.504135Z",
     "iopub.execute_input": "2024-09-03T15:54:42.504755Z",
     "iopub.status.idle": "2024-09-03T15:54:42.525148Z",
     "shell.execute_reply.started": "2024-09-03T15:54:42.504699Z",
     "shell.execute_reply": "2024-09-03T15:54:42.522954Z"
    },
    "trusted": false
   },
   "cell_type": "code",
   "source": "# give recommendation to users who rated books 4+ only\npred_exp = pred_exp.merge(last_item, how='right', on='user_id')\npred_exp.shape",
   "execution_count": 287,
   "outputs": [
    {
     "execution_count": 287,
     "output_type": "execute_result",
     "data": {
      "text/plain": "(771, 6)"
     },
     "metadata": {}
    }
   ]
  },
  {
   "metadata": {
    "execution": {
     "iopub.status.busy": "2024-09-03T15:21:17.961568Z",
     "iopub.execute_input": "2024-09-03T15:21:17.962196Z",
     "iopub.status.idle": "2024-09-03T15:21:18.039631Z",
     "shell.execute_reply.started": "2024-09-03T15:21:17.962140Z",
     "shell.execute_reply": "2024-09-03T15:21:18.038188Z"
    },
    "trusted": false
   },
   "cell_type": "code",
   "source": "hr(pred_exp)",
   "execution_count": 258,
   "outputs": [
    {
     "execution_count": 258,
     "output_type": "execute_result",
     "data": {
      "text/plain": "0.0285"
     },
     "metadata": {}
    }
   ]
  },
  {
   "metadata": {},
   "cell_type": "markdown",
   "source": "- По идей если мы хотим сравнить метрики между двумя подходами, нам лучше сравнивать похожие по размерности выборки (один и тот же набор пользователей)\n- explicit feedback дает нам немного лучше hitrate"
  },
  {
   "metadata": {},
   "cell_type": "markdown",
   "source": "### <b><span style='color:#686dec'>(c) Online Prediction </span></b>\n\n- Пользователи сделали дополнительные действия и мы хотим дать им новые рекоммендации\n- Мы подготовили в разделе **Train-test-split** выборку `test` (в ней у нас содержится `train` и дополнительные действий текущих пользователей что и в `train`)\n- Но хотим без переобучения модели (сново разложим матрицу 'рейтингов') \n- Мы можем делать $ \\hat{R} = R V_{d} V^{T}_{d}$ те использовать текущию матрицу \n\n\n\n  "
  },
  {
   "metadata": {},
   "cell_type": "markdown",
   "source": "Создадим sparse матрицу рейтингов книг пользователей для всей `test`"
  },
  {
   "metadata": {
    "execution": {
     "iopub.status.busy": "2024-09-03T16:18:51.789507Z",
     "iopub.execute_input": "2024-09-03T16:18:51.790102Z",
     "iopub.status.idle": "2024-09-03T16:18:51.875975Z",
     "shell.execute_reply.started": "2024-09-03T16:18:51.790053Z",
     "shell.execute_reply": "2024-09-03T16:18:51.874365Z"
    },
    "trusted": false
   },
   "cell_type": "code",
   "source": "# create sparse matrix of user, book [rating] sparse matrix \ntest_sparse, test_rows_exp, test_cols_exp = get_sparse_matrix(test, \n                                                              EXP_RATING_COL)",
   "execution_count": 289,
   "outputs": []
  },
  {
   "metadata": {
    "execution": {
     "iopub.status.busy": "2024-09-03T15:21:18.128269Z",
     "iopub.execute_input": "2024-09-03T15:21:18.128788Z",
     "iopub.status.idle": "2024-09-03T15:21:18.136669Z",
     "shell.execute_reply.started": "2024-09-03T15:21:18.128743Z",
     "shell.execute_reply": "2024-09-03T15:21:18.134699Z"
    },
    "trusted": false
   },
   "cell_type": "code",
   "source": "def get_scores_new_actions(item_vecs, \n                           updated_rating_matrix):\n   \n    \"\"\"\n    \n    [item_vecs] : \n    [updated_rating_matrix] : new rating matrix of user/item combination\n    \n    \"\"\"\n\n    scores = updated_rating_matrix.dot(item_vecs) @ item_vecs.T\n    scores = np.multiply(scores,\n        np.invert(updated_rating_matrix.astype(bool))\n        )\n    return scores",
   "execution_count": 260,
   "outputs": []
  },
  {
   "metadata": {},
   "cell_type": "markdown",
   "source": "Будем переиспользовать матрицу `item_vecs` (разложенную матриу предметов)"
  },
  {
   "metadata": {
    "execution": {
     "iopub.status.busy": "2024-09-03T16:22:01.577203Z",
     "iopub.execute_input": "2024-09-03T16:22:01.578040Z",
     "iopub.status.idle": "2024-09-03T16:22:01.594457Z",
     "shell.execute_reply.started": "2024-09-03T16:22:01.577981Z",
     "shell.execute_reply": "2024-09-03T16:22:01.592352Z"
    },
    "trusted": false
   },
   "cell_type": "code",
   "source": "item_vecs.shape",
   "execution_count": 290,
   "outputs": [
    {
     "execution_count": 290,
     "output_type": "execute_result",
     "data": {
      "text/plain": "(17943, 50)"
     },
     "metadata": {}
    }
   ]
  },
  {
   "metadata": {
    "execution": {
     "iopub.status.busy": "2024-09-03T16:25:14.066017Z",
     "iopub.execute_input": "2024-09-03T16:25:14.066680Z",
     "iopub.status.idle": "2024-09-03T16:25:17.510633Z",
     "shell.execute_reply.started": "2024-09-03T16:25:14.066627Z",
     "shell.execute_reply": "2024-09-03T16:25:17.508406Z"
    },
    "trusted": false
   },
   "cell_type": "code",
   "source": "# update existing scores using new use rating sparse matrix & existing item matrix\nscores_exp_updated = get_scores_new_actions(item_vecs, \n                                            test_sparse.todense())\n\n# update recommendations\npred_exp_updated = predict(scores_exp_updated, \n                           test_rows_exp, \n                           test_cols_exp)\n\npred_exp_updated = pred_exp_updated.merge(last_item, \n                                          how='right', \n                                          on='user_id')\npred_exp_updated.head()",
   "execution_count": 291,
   "outputs": [
    {
     "execution_count": 291,
     "output_type": "execute_result",
     "data": {
      "text/plain": "   user_id                                              preds  item_id  \\\n0       21  [199064, 11614, 148773, 285903, 299349, 196161...   227443   \n1      156  [78934, 271811, 198447, 216356, 22675, 265425,...   101867   \n2      219  [251645, 77581, 77729, 43255, 75360, 113015, 2...   109265   \n3      359  [23553, 34917, 140991, 221178, 234400, 83902, ...   256193   \n4      474  [210268, 65830, 113403, 6943, 90671, 179716, 2...   235407   \n\n   progress  rating start_date  \n0       100     5.0 2019-12-19  \n1       100     5.0 2019-12-26  \n2        99     5.0 2019-11-03  \n3       100     5.0 2019-11-26  \n4       100     5.0 2019-12-25  ",
      "text/html": "<div>\n<style scoped>\n    .dataframe tbody tr th:only-of-type {\n        vertical-align: middle;\n    }\n\n    .dataframe tbody tr th {\n        vertical-align: top;\n    }\n\n    .dataframe thead th {\n        text-align: right;\n    }\n</style>\n<table border=\"1\" class=\"dataframe\">\n  <thead>\n    <tr style=\"text-align: right;\">\n      <th></th>\n      <th>user_id</th>\n      <th>preds</th>\n      <th>item_id</th>\n      <th>progress</th>\n      <th>rating</th>\n      <th>start_date</th>\n    </tr>\n  </thead>\n  <tbody>\n    <tr>\n      <th>0</th>\n      <td>21</td>\n      <td>[199064, 11614, 148773, 285903, 299349, 196161...</td>\n      <td>227443</td>\n      <td>100</td>\n      <td>5.0</td>\n      <td>2019-12-19</td>\n    </tr>\n    <tr>\n      <th>1</th>\n      <td>156</td>\n      <td>[78934, 271811, 198447, 216356, 22675, 265425,...</td>\n      <td>101867</td>\n      <td>100</td>\n      <td>5.0</td>\n      <td>2019-12-26</td>\n    </tr>\n    <tr>\n      <th>2</th>\n      <td>219</td>\n      <td>[251645, 77581, 77729, 43255, 75360, 113015, 2...</td>\n      <td>109265</td>\n      <td>99</td>\n      <td>5.0</td>\n      <td>2019-11-03</td>\n    </tr>\n    <tr>\n      <th>3</th>\n      <td>359</td>\n      <td>[23553, 34917, 140991, 221178, 234400, 83902, ...</td>\n      <td>256193</td>\n      <td>100</td>\n      <td>5.0</td>\n      <td>2019-11-26</td>\n    </tr>\n    <tr>\n      <th>4</th>\n      <td>474</td>\n      <td>[210268, 65830, 113403, 6943, 90671, 179716, 2...</td>\n      <td>235407</td>\n      <td>100</td>\n      <td>5.0</td>\n      <td>2019-12-25</td>\n    </tr>\n  </tbody>\n</table>\n</div>"
     },
     "metadata": {}
    }
   ]
  },
  {
   "metadata": {},
   "cell_type": "markdown",
   "source": "Качество немного улучшилось; ка счет того что мы добавили новые действия"
  },
  {
   "metadata": {
    "execution": {
     "iopub.status.busy": "2024-09-03T16:25:21.848536Z",
     "iopub.execute_input": "2024-09-03T16:25:21.849049Z",
     "iopub.status.idle": "2024-09-03T16:25:21.936138Z",
     "shell.execute_reply.started": "2024-09-03T16:25:21.849005Z",
     "shell.execute_reply": "2024-09-03T16:25:21.933946Z"
    },
    "trusted": false
   },
   "cell_type": "code",
   "source": "hr(pred_exp_updated)",
   "execution_count": 292,
   "outputs": [
    {
     "execution_count": 292,
     "output_type": "execute_result",
     "data": {
      "text/plain": "0.048"
     },
     "metadata": {}
    }
   ]
  },
  {
   "metadata": {},
   "cell_type": "markdown",
   "source": "Проверим качество, используя только действия из трейна."
  },
  {
   "metadata": {
    "execution": {
     "iopub.status.busy": "2024-09-03T16:28:22.029129Z",
     "iopub.execute_input": "2024-09-03T16:28:22.030092Z",
     "iopub.status.idle": "2024-09-03T16:28:24.407634Z",
     "shell.execute_reply.started": "2024-09-03T16:28:22.030012Z",
     "shell.execute_reply": "2024-09-03T16:28:24.405768Z"
    },
    "trusted": false
   },
   "cell_type": "code",
   "source": "scores_exp = get_scores_new_actions(item_vecs, \n                                    train_sparse.todense())\npred_exp = predict(scores_exp, train_rows_exp, train_cols_exp)\npred_exp = pred_exp.merge(last_item, how='right', on='user_id')\nhr(pred_exp)",
   "execution_count": 293,
   "outputs": [
    {
     "execution_count": 293,
     "output_type": "execute_result",
     "data": {
      "text/plain": "0.0272"
     },
     "metadata": {}
    }
   ]
  },
  {
   "metadata": {},
   "cell_type": "markdown",
   "source": "### <b><span style='color:#686dec'>(d) Предсказание для одного пользователя</span></b>\n\nТеперь посмотрим как мы можем сделать рекоммендации для одного пользователя"
  },
  {
   "metadata": {
    "execution": {
     "iopub.status.busy": "2024-09-03T16:29:10.130030Z",
     "iopub.execute_input": "2024-09-03T16:29:10.130564Z",
     "iopub.status.idle": "2024-09-03T16:29:10.515975Z",
     "shell.execute_reply.started": "2024-09-03T16:29:10.130507Z",
     "shell.execute_reply": "2024-09-03T16:29:10.513625Z"
    },
    "trusted": false
   },
   "cell_type": "code",
   "source": "# book information data\nitems = pd.read_csv('/kaggle/input/mts-library/items.csv')\nitems.head()",
   "execution_count": 294,
   "outputs": [
    {
     "execution_count": 294,
     "output_type": "execute_result",
     "data": {
      "text/plain": "       id              title  \\\n0  128115   Ворон-челобитчик   \n1  210979  Скрипка Ротшильда   \n2   95632   Испорченные дети   \n3  247906   Странный человек   \n4  294280  Господа ташкентцы   \n\n                                              genres                 authors  \\\n0  Зарубежные детские книги,Сказки,Зарубежная кла...  Михаил Салтыков-Щедрин   \n1  Классическая проза,Литература 19 века,Русская ...             Антон Чехов   \n2  Зарубежная классика,Классическая проза,Литерат...  Михаил Салтыков-Щедрин   \n3             Пьесы и драматургия,Литература 19 века        Михаил Лермонтов   \n4  Зарубежная классика,Классическая проза,Литерат...  Михаил Салтыков-Щедрин   \n\n   year  \n0  1886  \n1  1894  \n2  1869  \n3  1831  \n4  1873  ",
      "text/html": "<div>\n<style scoped>\n    .dataframe tbody tr th:only-of-type {\n        vertical-align: middle;\n    }\n\n    .dataframe tbody tr th {\n        vertical-align: top;\n    }\n\n    .dataframe thead th {\n        text-align: right;\n    }\n</style>\n<table border=\"1\" class=\"dataframe\">\n  <thead>\n    <tr style=\"text-align: right;\">\n      <th></th>\n      <th>id</th>\n      <th>title</th>\n      <th>genres</th>\n      <th>authors</th>\n      <th>year</th>\n    </tr>\n  </thead>\n  <tbody>\n    <tr>\n      <th>0</th>\n      <td>128115</td>\n      <td>Ворон-челобитчик</td>\n      <td>Зарубежные детские книги,Сказки,Зарубежная кла...</td>\n      <td>Михаил Салтыков-Щедрин</td>\n      <td>1886</td>\n    </tr>\n    <tr>\n      <th>1</th>\n      <td>210979</td>\n      <td>Скрипка Ротшильда</td>\n      <td>Классическая проза,Литература 19 века,Русская ...</td>\n      <td>Антон Чехов</td>\n      <td>1894</td>\n    </tr>\n    <tr>\n      <th>2</th>\n      <td>95632</td>\n      <td>Испорченные дети</td>\n      <td>Зарубежная классика,Классическая проза,Литерат...</td>\n      <td>Михаил Салтыков-Щедрин</td>\n      <td>1869</td>\n    </tr>\n    <tr>\n      <th>3</th>\n      <td>247906</td>\n      <td>Странный человек</td>\n      <td>Пьесы и драматургия,Литература 19 века</td>\n      <td>Михаил Лермонтов</td>\n      <td>1831</td>\n    </tr>\n    <tr>\n      <th>4</th>\n      <td>294280</td>\n      <td>Господа ташкентцы</td>\n      <td>Зарубежная классика,Классическая проза,Литерат...</td>\n      <td>Михаил Салтыков-Щедрин</td>\n      <td>1873</td>\n    </tr>\n  </tbody>\n</table>\n</div>"
     },
     "metadata": {}
    }
   ]
  },
  {
   "metadata": {
    "execution": {
     "iopub.status.busy": "2024-09-03T17:22:33.128609Z",
     "iopub.execute_input": "2024-09-03T17:22:33.129152Z",
     "iopub.status.idle": "2024-09-03T17:22:33.226334Z",
     "shell.execute_reply.started": "2024-09-03T17:22:33.129105Z",
     "shell.execute_reply": "2024-09-03T17:22:33.224671Z"
    },
    "trusted": false
   },
   "cell_type": "code",
   "source": "# mappers to actual user_id and item_id from the dataset\n# we used ordered user and item identifiers from 0\n\nid2user = dict(zip(test_rows_exp,test.user_id))\nid2item = dict(zip(test_cols_exp,test.item_id))\nprint(id2item[0],id2user[0])",
   "execution_count": 313,
   "outputs": [
    {
     "name": "stdout",
     "text": "13 21\n",
     "output_type": "stream"
    }
   ]
  },
  {
   "metadata": {},
   "cell_type": "markdown",
   "source": "Метод `recommend` из библиотеки `implicit` позволяет нам делать рекомендацию для одного пользователя"
  },
  {
   "metadata": {
    "execution": {
     "iopub.status.busy": "2024-09-03T16:33:36.174007Z",
     "iopub.execute_input": "2024-09-03T16:33:36.175905Z",
     "iopub.status.idle": "2024-09-03T16:33:36.232003Z",
     "shell.execute_reply.started": "2024-09-03T16:33:36.175810Z",
     "shell.execute_reply": "2024-09-03T16:33:36.228941Z"
    },
    "trusted": false
   },
   "cell_type": "code",
   "source": "# method realised in library implicit\nrecommendations = algo.recommend(0, test_sparse[0])\nrecommendations # (index array,scores array)",
   "execution_count": 296,
   "outputs": [
    {
     "execution_count": 296,
     "output_type": "execute_result",
     "data": {
      "text/plain": "(array([14547, 10450,  2246,  1322,  4866,  2586,   124,  1238, 11283,\n         7814], dtype=int32),\n array([0.12248802, 0.11428122, 0.11298379, 0.11208673, 0.11028358,\n        0.1084349 , 0.1075625 , 0.10495262, 0.10148995, 0.10100657],\n       dtype=float32))"
     },
     "metadata": {}
    }
   ]
  },
  {
   "metadata": {},
   "cell_type": "markdown",
   "source": "Посмотрим на рекомендацидля этого пользователя"
  },
  {
   "metadata": {
    "execution": {
     "iopub.status.busy": "2024-09-03T16:38:16.472327Z",
     "iopub.execute_input": "2024-09-03T16:38:16.472876Z",
     "iopub.status.idle": "2024-09-03T16:38:16.498943Z",
     "shell.execute_reply.started": "2024-09-03T16:38:16.472814Z",
     "shell.execute_reply": "2024-09-03T16:38:16.497359Z"
    },
    "trusted": false
   },
   "cell_type": "code",
   "source": "# recommendations for user id=0\npd.DataFrame([id2item[i] for i in recommendations[0]]).merge(items, left_on=0, right_on='id')",
   "execution_count": 304,
   "outputs": [
    {
     "execution_count": 304,
     "output_type": "execute_result",
     "data": {
      "text/plain": "        0      id                              title  \\\n0  261138  261138                              Летос   \n1  187501  187501  Разрушитель божественных замыслов   \n2   39765   39765               Первые сполохи войны   \n3   23553   23553                   Вся правда о нас   \n4   88397   88397               Пешка в большой игре   \n5   45920   45920                Вторая жизнь майора   \n6    2028    2028            Скорпион Его Величества   \n7   22066   22066             Заложник долга и чести   \n8  202547  202547                         Чужая сила   \n9  140991  140991          Лабиринт Мёнина (сборник)   \n\n                                              genres           authors  year  \n0                 Героическое фэнтези,Боевое фэнтези     Алексей Пехов  2014  \n1       Героическое фэнтези,Попаданцы,Боевое фэнтези  Владимир Сухинин  2017  \n2       Героическое фэнтези,Попаданцы,Боевое фэнтези  Владимир Сухинин  2018  \n3  Детективное фэнтези,Городское фэнтези,Книги пр...         Макс Фрай  2015  \n4       Героическое фэнтези,Попаданцы,Боевое фэнтези  Владимир Сухинин  2017  \n5       Героическое фэнтези,Попаданцы,Боевое фэнтези  Владимир Сухинин  2017  \n6       Героическое фэнтези,Попаданцы,Боевое фэнтези  Владимир Сухинин  2018  \n7       Героическое фэнтези,Попаданцы,Боевое фэнтези  Владимир Сухинин  2018  \n8            Городское фэнтези,Книги про волшебников   Андрей Васильев  2017  \n9  Детективное фэнтези,Героическое фэнтези,Городс...         Макс Фрай  2000  ",
      "text/html": "<div>\n<style scoped>\n    .dataframe tbody tr th:only-of-type {\n        vertical-align: middle;\n    }\n\n    .dataframe tbody tr th {\n        vertical-align: top;\n    }\n\n    .dataframe thead th {\n        text-align: right;\n    }\n</style>\n<table border=\"1\" class=\"dataframe\">\n  <thead>\n    <tr style=\"text-align: right;\">\n      <th></th>\n      <th>0</th>\n      <th>id</th>\n      <th>title</th>\n      <th>genres</th>\n      <th>authors</th>\n      <th>year</th>\n    </tr>\n  </thead>\n  <tbody>\n    <tr>\n      <th>0</th>\n      <td>261138</td>\n      <td>261138</td>\n      <td>Летос</td>\n      <td>Героическое фэнтези,Боевое фэнтези</td>\n      <td>Алексей Пехов</td>\n      <td>2014</td>\n    </tr>\n    <tr>\n      <th>1</th>\n      <td>187501</td>\n      <td>187501</td>\n      <td>Разрушитель божественных замыслов</td>\n      <td>Героическое фэнтези,Попаданцы,Боевое фэнтези</td>\n      <td>Владимир Сухинин</td>\n      <td>2017</td>\n    </tr>\n    <tr>\n      <th>2</th>\n      <td>39765</td>\n      <td>39765</td>\n      <td>Первые сполохи войны</td>\n      <td>Героическое фэнтези,Попаданцы,Боевое фэнтези</td>\n      <td>Владимир Сухинин</td>\n      <td>2018</td>\n    </tr>\n    <tr>\n      <th>3</th>\n      <td>23553</td>\n      <td>23553</td>\n      <td>Вся правда о нас</td>\n      <td>Детективное фэнтези,Городское фэнтези,Книги пр...</td>\n      <td>Макс Фрай</td>\n      <td>2015</td>\n    </tr>\n    <tr>\n      <th>4</th>\n      <td>88397</td>\n      <td>88397</td>\n      <td>Пешка в большой игре</td>\n      <td>Героическое фэнтези,Попаданцы,Боевое фэнтези</td>\n      <td>Владимир Сухинин</td>\n      <td>2017</td>\n    </tr>\n    <tr>\n      <th>5</th>\n      <td>45920</td>\n      <td>45920</td>\n      <td>Вторая жизнь майора</td>\n      <td>Героическое фэнтези,Попаданцы,Боевое фэнтези</td>\n      <td>Владимир Сухинин</td>\n      <td>2017</td>\n    </tr>\n    <tr>\n      <th>6</th>\n      <td>2028</td>\n      <td>2028</td>\n      <td>Скорпион Его Величества</td>\n      <td>Героическое фэнтези,Попаданцы,Боевое фэнтези</td>\n      <td>Владимир Сухинин</td>\n      <td>2018</td>\n    </tr>\n    <tr>\n      <th>7</th>\n      <td>22066</td>\n      <td>22066</td>\n      <td>Заложник долга и чести</td>\n      <td>Героическое фэнтези,Попаданцы,Боевое фэнтези</td>\n      <td>Владимир Сухинин</td>\n      <td>2018</td>\n    </tr>\n    <tr>\n      <th>8</th>\n      <td>202547</td>\n      <td>202547</td>\n      <td>Чужая сила</td>\n      <td>Городское фэнтези,Книги про волшебников</td>\n      <td>Андрей Васильев</td>\n      <td>2017</td>\n    </tr>\n    <tr>\n      <th>9</th>\n      <td>140991</td>\n      <td>140991</td>\n      <td>Лабиринт Мёнина (сборник)</td>\n      <td>Детективное фэнтези,Героическое фэнтези,Городс...</td>\n      <td>Макс Фрай</td>\n      <td>2000</td>\n    </tr>\n  </tbody>\n</table>\n</div>"
     },
     "metadata": {}
    }
   ]
  },
  {
   "metadata": {},
   "cell_type": "markdown",
   "source": "Посмотрим на историю взаимодействий пользователя"
  },
  {
   "metadata": {
    "execution": {
     "iopub.status.busy": "2024-09-03T16:39:53.032307Z",
     "iopub.execute_input": "2024-09-03T16:39:53.032985Z",
     "iopub.status.idle": "2024-09-03T16:39:53.063410Z",
     "shell.execute_reply.started": "2024-09-03T16:39:53.032929Z",
     "shell.execute_reply": "2024-09-03T16:39:53.061984Z"
    },
    "trusted": false
   },
   "cell_type": "code",
   "source": "# user read history\nuser_history = test[test[USER_COL] == 21][[ITEM_COL]] # user idx=0, id=21\nuser_history.merge(items, left_on='item_id', right_on='id')",
   "execution_count": 306,
   "outputs": [
    {
     "execution_count": 306,
     "output_type": "execute_result",
     "data": {
      "text/plain": "    item_id      id                                title  \\\n0    193711  193711   История Бернарды и Тайры на Архане   \n1     32399   32399                               Спектр   \n2    155015  155015    Выиграть жизнь. Сказки из сундука   \n3    121640  121640                       Золотые костры   \n4    136668  136668                          Синее пламя   \n5     11951   11951                              Талорис   \n6    204089  204089                               Змейка   \n7    128170  128170                   Инстинкт зла. Тень   \n8     31873   31873              Инстинкт Зла. Вершитель   \n9    131575  131575           Инстинкт Зла. Возрожденная   \n10   257435  257435                    Зачем цветет лори   \n11   261889  261889                 Для кого цветет лори   \n12   303208  303208   Отражение не меня. Сердце Оххарона   \n13   192161  192161                        Проникновение   \n14   117269  117269             Ветер Севера. Риверстейн   \n15   132276  132276               Ветер Севера. Аларания   \n16   124256  124256   Королевская кровь. Сорванный венец   \n17   186710  186710     Королевская кровь. Скрытое пламя   \n18   264910  264910  Королевская кровь. Связанные судьбы   \n19   163270  163270   Королевская кровь. Темное наследие   \n20   171916  171916     Королевская кровь. Огненный путь   \n\n                                               genres            authors  \\\n0   Любовно-фантастические романы,Научная фантасти...     Вероника Мелан   \n1   Социальная фантастика,Космическая фантастика,Н...  Сергей Лукьяненко   \n2                     Этнография,Книги о путешествиях   Виталий Сундаков   \n3                  Героическое фэнтези,Боевое фэнтези      Алексей Пехов   \n4   Героическое фэнтези,Боевое фэнтези,Книги про в...      Алексей Пехов   \n5   Героическое фэнтези,Боевое фэнтези,Книги про в...      Алексей Пехов   \n6                  Героическое фэнтези,Боевое фэнтези      Алексей Пехов   \n7   Эротическое фэнтези,Городское фэнтези,Любовное...  Марина Суржевская   \n8   Эротическое фэнтези,Городское фэнтези,Любовное...  Марина Суржевская   \n9   Эротическое фэнтези,Городское фэнтези,Любовное...  Марина Суржевская   \n10               Эротическое фэнтези,Любовное фэнтези  Марина Суржевская   \n11               Эротическое фэнтези,Любовное фэнтези  Марина Суржевская   \n12                                   Любовное фэнтези  Марина Суржевская   \n13               Героическое фэнтези,Любовное фэнтези  Марина Суржевская   \n14               Героическое фэнтези,Любовное фэнтези  Марина Суржевская   \n15               Героическое фэнтези,Любовное фэнтези  Марина Суржевская   \n16  Героическое фэнтези,Книги про волшебников,Любо...       Ирина Котова   \n17               Героическое фэнтези,Любовное фэнтези       Ирина Котова   \n18  Героическое фэнтези,Книги про волшебников,Любо...       Ирина Котова   \n19               Героическое фэнтези,Любовное фэнтези       Ирина Котова   \n20               Героическое фэнтези,Любовное фэнтези       Ирина Котова   \n\n       year  \n0      2015  \n1   2001-02  \n2      2018  \n3      2012  \n4      2015  \n5      2019  \n6      2005  \n7      2017  \n8      2016  \n9      2016  \n10     2017  \n11     2018  \n12     2018  \n13     2019  \n14     2017  \n15     2018  \n16     2016  \n17     2016  \n18     2017  \n19     2018  \n20     2018  ",
      "text/html": "<div>\n<style scoped>\n    .dataframe tbody tr th:only-of-type {\n        vertical-align: middle;\n    }\n\n    .dataframe tbody tr th {\n        vertical-align: top;\n    }\n\n    .dataframe thead th {\n        text-align: right;\n    }\n</style>\n<table border=\"1\" class=\"dataframe\">\n  <thead>\n    <tr style=\"text-align: right;\">\n      <th></th>\n      <th>item_id</th>\n      <th>id</th>\n      <th>title</th>\n      <th>genres</th>\n      <th>authors</th>\n      <th>year</th>\n    </tr>\n  </thead>\n  <tbody>\n    <tr>\n      <th>0</th>\n      <td>193711</td>\n      <td>193711</td>\n      <td>История Бернарды и Тайры на Архане</td>\n      <td>Любовно-фантастические романы,Научная фантасти...</td>\n      <td>Вероника Мелан</td>\n      <td>2015</td>\n    </tr>\n    <tr>\n      <th>1</th>\n      <td>32399</td>\n      <td>32399</td>\n      <td>Спектр</td>\n      <td>Социальная фантастика,Космическая фантастика,Н...</td>\n      <td>Сергей Лукьяненко</td>\n      <td>2001-02</td>\n    </tr>\n    <tr>\n      <th>2</th>\n      <td>155015</td>\n      <td>155015</td>\n      <td>Выиграть жизнь. Сказки из сундука</td>\n      <td>Этнография,Книги о путешествиях</td>\n      <td>Виталий Сундаков</td>\n      <td>2018</td>\n    </tr>\n    <tr>\n      <th>3</th>\n      <td>121640</td>\n      <td>121640</td>\n      <td>Золотые костры</td>\n      <td>Героическое фэнтези,Боевое фэнтези</td>\n      <td>Алексей Пехов</td>\n      <td>2012</td>\n    </tr>\n    <tr>\n      <th>4</th>\n      <td>136668</td>\n      <td>136668</td>\n      <td>Синее пламя</td>\n      <td>Героическое фэнтези,Боевое фэнтези,Книги про в...</td>\n      <td>Алексей Пехов</td>\n      <td>2015</td>\n    </tr>\n    <tr>\n      <th>5</th>\n      <td>11951</td>\n      <td>11951</td>\n      <td>Талорис</td>\n      <td>Героическое фэнтези,Боевое фэнтези,Книги про в...</td>\n      <td>Алексей Пехов</td>\n      <td>2019</td>\n    </tr>\n    <tr>\n      <th>6</th>\n      <td>204089</td>\n      <td>204089</td>\n      <td>Змейка</td>\n      <td>Героическое фэнтези,Боевое фэнтези</td>\n      <td>Алексей Пехов</td>\n      <td>2005</td>\n    </tr>\n    <tr>\n      <th>7</th>\n      <td>128170</td>\n      <td>128170</td>\n      <td>Инстинкт зла. Тень</td>\n      <td>Эротическое фэнтези,Городское фэнтези,Любовное...</td>\n      <td>Марина Суржевская</td>\n      <td>2017</td>\n    </tr>\n    <tr>\n      <th>8</th>\n      <td>31873</td>\n      <td>31873</td>\n      <td>Инстинкт Зла. Вершитель</td>\n      <td>Эротическое фэнтези,Городское фэнтези,Любовное...</td>\n      <td>Марина Суржевская</td>\n      <td>2016</td>\n    </tr>\n    <tr>\n      <th>9</th>\n      <td>131575</td>\n      <td>131575</td>\n      <td>Инстинкт Зла. Возрожденная</td>\n      <td>Эротическое фэнтези,Городское фэнтези,Любовное...</td>\n      <td>Марина Суржевская</td>\n      <td>2016</td>\n    </tr>\n    <tr>\n      <th>10</th>\n      <td>257435</td>\n      <td>257435</td>\n      <td>Зачем цветет лори</td>\n      <td>Эротическое фэнтези,Любовное фэнтези</td>\n      <td>Марина Суржевская</td>\n      <td>2017</td>\n    </tr>\n    <tr>\n      <th>11</th>\n      <td>261889</td>\n      <td>261889</td>\n      <td>Для кого цветет лори</td>\n      <td>Эротическое фэнтези,Любовное фэнтези</td>\n      <td>Марина Суржевская</td>\n      <td>2018</td>\n    </tr>\n    <tr>\n      <th>12</th>\n      <td>303208</td>\n      <td>303208</td>\n      <td>Отражение не меня. Сердце Оххарона</td>\n      <td>Любовное фэнтези</td>\n      <td>Марина Суржевская</td>\n      <td>2018</td>\n    </tr>\n    <tr>\n      <th>13</th>\n      <td>192161</td>\n      <td>192161</td>\n      <td>Проникновение</td>\n      <td>Героическое фэнтези,Любовное фэнтези</td>\n      <td>Марина Суржевская</td>\n      <td>2019</td>\n    </tr>\n    <tr>\n      <th>14</th>\n      <td>117269</td>\n      <td>117269</td>\n      <td>Ветер Севера. Риверстейн</td>\n      <td>Героическое фэнтези,Любовное фэнтези</td>\n      <td>Марина Суржевская</td>\n      <td>2017</td>\n    </tr>\n    <tr>\n      <th>15</th>\n      <td>132276</td>\n      <td>132276</td>\n      <td>Ветер Севера. Аларания</td>\n      <td>Героическое фэнтези,Любовное фэнтези</td>\n      <td>Марина Суржевская</td>\n      <td>2018</td>\n    </tr>\n    <tr>\n      <th>16</th>\n      <td>124256</td>\n      <td>124256</td>\n      <td>Королевская кровь. Сорванный венец</td>\n      <td>Героическое фэнтези,Книги про волшебников,Любо...</td>\n      <td>Ирина Котова</td>\n      <td>2016</td>\n    </tr>\n    <tr>\n      <th>17</th>\n      <td>186710</td>\n      <td>186710</td>\n      <td>Королевская кровь. Скрытое пламя</td>\n      <td>Героическое фэнтези,Любовное фэнтези</td>\n      <td>Ирина Котова</td>\n      <td>2016</td>\n    </tr>\n    <tr>\n      <th>18</th>\n      <td>264910</td>\n      <td>264910</td>\n      <td>Королевская кровь. Связанные судьбы</td>\n      <td>Героическое фэнтези,Книги про волшебников,Любо...</td>\n      <td>Ирина Котова</td>\n      <td>2017</td>\n    </tr>\n    <tr>\n      <th>19</th>\n      <td>163270</td>\n      <td>163270</td>\n      <td>Королевская кровь. Темное наследие</td>\n      <td>Героическое фэнтези,Любовное фэнтези</td>\n      <td>Ирина Котова</td>\n      <td>2018</td>\n    </tr>\n    <tr>\n      <th>20</th>\n      <td>171916</td>\n      <td>171916</td>\n      <td>Королевская кровь. Огненный путь</td>\n      <td>Героическое фэнтези,Любовное фэнтези</td>\n      <td>Ирина Котова</td>\n      <td>2018</td>\n    </tr>\n  </tbody>\n</table>\n</div>"
     },
     "metadata": {}
    }
   ]
  }
 ],
 "metadata": {
  "kaggle": {
   "accelerator": "none",
   "dataSources": [
    {
     "sourceId": 1544602,
     "sourceType": "datasetVersion",
     "datasetId": 911139
    }
   ],
   "dockerImageVersionId": 30761,
   "isInternetEnabled": true,
   "language": "python",
   "sourceType": "notebook",
   "isGpuEnabled": false
  },
  "kernelspec": {
   "name": "python3",
   "display_name": "Python 3",
   "language": "python"
  },
  "language_info": {
   "name": "python",
   "version": "3.10.4",
   "mimetype": "text/x-python",
   "codemirror_mode": {
    "name": "ipython",
    "version": 3
   },
   "pygments_lexer": "ipython3",
   "nbconvert_exporter": "python",
   "file_extension": ".py"
  }
 },
 "nbformat": 4,
 "nbformat_minor": 4
}