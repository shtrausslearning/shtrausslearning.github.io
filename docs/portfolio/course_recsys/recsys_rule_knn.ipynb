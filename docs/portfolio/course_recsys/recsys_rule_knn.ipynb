{
 "cells": [
  {
   "metadata": {},
   "cell_type": "markdown",
   "source": "## Эвристические модели. Коллаборативная фильтрация"
  },
  {
   "metadata": {
    "trusted": true
   },
   "cell_type": "code",
   "source": "import warnings\nwarnings.simplefilter('ignore')\nfrom collections import Counter\n\nimport pandas as pd\nimport numpy as np\nimport matplotlib.pyplot as plt\nfrom tqdm import tqdm_notebook\nfrom sklearn.metrics import mean_squared_error\nfrom sklearn.base import BaseEstimator\nfrom sklearn.metrics.pairwise import cosine_similarity",
   "execution_count": 1,
   "outputs": []
  },
  {
   "metadata": {},
   "cell_type": "markdown",
   "source": "### <b><span style='color:#686dec'>Датасет реитингов пользователей </span></b>\n\nРассмотрим датасет от `GroupLens` $-$ [`MovieLens`](https://grouplens.org/datasets/movielens/):\nЭто набор данных из $27 000$ фильмов и $138 000$ пользователей, с общим количеством оценок в $20$ миллионов.\n\nНо мы воспользуемся уменьшенной версией для быстроты вычислений: $9 000$ фильмов, $700$ пользователей, $100 000$ оценок.\nСкачать напрямую датасет можно по этой [ссылке](http://files.grouplens.org/datasets/movielens/ml-latest-small.zip)"
  },
  {
   "metadata": {},
   "cell_type": "markdown",
   "source": "#### Для начала немного посмотрим на данные\n- `links.csv` $-$ связь между `id` фильма в датасете и `id` соответствующего фильма на `imdb.com` и `themoviedb.org`;\n- `movies.csv` $-$ описание каждого фильма с его названием и жанрами;\n- `ratings.csv` $-$ оценки пользователей фильмов с временной отметкой;\n- `tags.csv` $-$ список тегов, которые поставил пользователь фильму, с временной отметкой.\n\nДля данной задачи нам понадобятся только часть данных $-$ информация о том, какой рейтинг ставили пользователи фильмам."
  },
  {
   "metadata": {
    "trusted": true
   },
   "cell_type": "code",
   "source": "ratings = pd.read_csv('./ml-latest-small/ratings.csv', parse_dates=['timestamp'])\nratings.head()",
   "execution_count": 2,
   "outputs": [
    {
     "output_type": "execute_result",
     "execution_count": 2,
     "data": {
      "text/plain": "   userId  movieId  rating  timestamp\n0       1        1     4.0  964982703\n1       1        3     4.0  964981247\n2       1        6     4.0  964982224\n3       1       47     5.0  964983815\n4       1       50     5.0  964982931",
      "text/html": "<div>\n<style scoped>\n    .dataframe tbody tr th:only-of-type {\n        vertical-align: middle;\n    }\n\n    .dataframe tbody tr th {\n        vertical-align: top;\n    }\n\n    .dataframe thead th {\n        text-align: right;\n    }\n</style>\n<table border=\"1\" class=\"dataframe\">\n  <thead>\n    <tr style=\"text-align: right;\">\n      <th></th>\n      <th>userId</th>\n      <th>movieId</th>\n      <th>rating</th>\n      <th>timestamp</th>\n    </tr>\n  </thead>\n  <tbody>\n    <tr>\n      <th>0</th>\n      <td>1</td>\n      <td>1</td>\n      <td>4.0</td>\n      <td>964982703</td>\n    </tr>\n    <tr>\n      <th>1</th>\n      <td>1</td>\n      <td>3</td>\n      <td>4.0</td>\n      <td>964981247</td>\n    </tr>\n    <tr>\n      <th>2</th>\n      <td>1</td>\n      <td>6</td>\n      <td>4.0</td>\n      <td>964982224</td>\n    </tr>\n    <tr>\n      <th>3</th>\n      <td>1</td>\n      <td>47</td>\n      <td>5.0</td>\n      <td>964983815</td>\n    </tr>\n    <tr>\n      <th>4</th>\n      <td>1</td>\n      <td>50</td>\n      <td>5.0</td>\n      <td>964982931</td>\n    </tr>\n  </tbody>\n</table>\n</div>"
     },
     "metadata": {}
    }
   ]
  },
  {
   "metadata": {
    "trusted": true
   },
   "cell_type": "code",
   "source": "# распределение оценок пользователей\nratings.rating.value_counts()",
   "execution_count": 3,
   "outputs": [
    {
     "output_type": "execute_result",
     "execution_count": 3,
     "data": {
      "text/plain": "4.0    26818\n3.0    20047\n5.0    13211\n3.5    13136\n4.5     8551\n2.0     7551\n2.5     5550\n1.0     2811\n1.5     1791\n0.5     1370\nName: rating, dtype: int64"
     },
     "metadata": {}
    }
   ]
  },
  {
   "metadata": {
    "trusted": true
   },
   "cell_type": "code",
   "source": "len(ratings) / (ratings.userId.nunique() * ratings.movieId.nunique())",
   "execution_count": 4,
   "outputs": [
    {
     "output_type": "execute_result",
     "execution_count": 4,
     "data": {
      "text/plain": "0.016999683055613623"
     },
     "metadata": {}
    }
   ]
  },
  {
   "metadata": {},
   "cell_type": "markdown",
   "source": "### <b><span style='color:#686dec'>Предобработка</span></b>\n\n#### Leave-one-out разбиение данных на train и test\n\nДля каждого пользователя берем все кроме последнего отзыва и кладем их в обучающию выборку. В тестовую закидываем только последнюю оцену"
  },
  {
   "metadata": {
    "trusted": true
   },
   "cell_type": "code",
   "source": "ratings['timestamp'] = ratings['timestamp'].astype(int)",
   "execution_count": 5,
   "outputs": []
  },
  {
   "metadata": {
    "trusted": true
   },
   "cell_type": "code",
   "source": "def train_test_split(X):\n    \n    X.sort_values(by=['timestamp'], inplace=True) \n    # фильмы которым пользователь даль оценку\n    movies = X.groupby(['userId'], sort=False)['movieId'].apply(list).reset_index() \n    # оценки который пользователь дал \n    ratings = X.groupby(['userId'], sort=False)['rating'].apply(list).reset_index() \n    # создаем список рейтингов для каждого пользователя\n    X = movies.merge(ratings)\n    \n    train = pd.DataFrame(X['userId'])  # отделяем все кроме последнего оцененного фильма в train\n    train['movieId'] = X.movieId.apply(lambda x: x[:-1]) \n    train['rating'] = X.rating.apply(lambda x: x[:-1]) \n    \n    # отделяем все кроме последнего рейтинги в train\n    train = train.explode(['movieId', 'rating'])\n\n    \"\"\"\n    \n    Тестовая Выборка (последний рейтинг польз.)\n    \n    \"\"\"    \n    test = pd.DataFrame(X['userId'])\n    test['movieId'] = X.movieId.apply(lambda x: x[-1:]) # отделяем последний фильм в test\n    test['rating'] = X.rating.apply(lambda x: x[-1:]) # отделяем последний рейтинг в test\n    test = test.explode(['movieId', 'rating'])\n    \n    return train, test",
   "execution_count": 6,
   "outputs": []
  },
  {
   "metadata": {
    "trusted": true
   },
   "cell_type": "code",
   "source": "train, test = train_test_split(ratings)\nprint(test.shape)",
   "execution_count": 7,
   "outputs": [
    {
     "output_type": "stream",
     "text": "(610, 3)\n",
     "name": "stdout"
    }
   ]
  },
  {
   "metadata": {},
   "cell_type": "markdown",
   "source": "#### **Тестовая Выборка**\n\nМы предсказываем фильмы, которые должны понравиться, поэтому оценивать будем только на фильмах с высоким рейтингом от пользователя."
  },
  {
   "metadata": {
    "trusted": true
   },
   "cell_type": "code",
   "source": "test = test[test['rating'] == 5]\ntest.shape",
   "execution_count": 8,
   "outputs": [
    {
     "output_type": "execute_result",
     "execution_count": 8,
     "data": {
      "text/plain": "(117, 3)"
     },
     "metadata": {}
    }
   ]
  },
  {
   "metadata": {
    "trusted": true
   },
   "cell_type": "code",
   "source": "test",
   "execution_count": 9,
   "outputs": [
    {
     "output_type": "execute_result",
     "execution_count": 9,
     "data": {
      "text/plain": "     userId movieId rating\n2       191     673    5.0\n8        40     685    5.0\n11      136     188    5.0\n21      385     750    5.0\n24      584      60    5.0\n..      ...     ...    ...\n581     382   55247    5.0\n600     296    4144    5.0\n602     556  112852    5.0\n604     258    4995    5.0\n606      25  187593    5.0\n\n[117 rows x 3 columns]",
      "text/html": "<div>\n<style scoped>\n    .dataframe tbody tr th:only-of-type {\n        vertical-align: middle;\n    }\n\n    .dataframe tbody tr th {\n        vertical-align: top;\n    }\n\n    .dataframe thead th {\n        text-align: right;\n    }\n</style>\n<table border=\"1\" class=\"dataframe\">\n  <thead>\n    <tr style=\"text-align: right;\">\n      <th></th>\n      <th>userId</th>\n      <th>movieId</th>\n      <th>rating</th>\n    </tr>\n  </thead>\n  <tbody>\n    <tr>\n      <th>2</th>\n      <td>191</td>\n      <td>673</td>\n      <td>5.0</td>\n    </tr>\n    <tr>\n      <th>8</th>\n      <td>40</td>\n      <td>685</td>\n      <td>5.0</td>\n    </tr>\n    <tr>\n      <th>11</th>\n      <td>136</td>\n      <td>188</td>\n      <td>5.0</td>\n    </tr>\n    <tr>\n      <th>21</th>\n      <td>385</td>\n      <td>750</td>\n      <td>5.0</td>\n    </tr>\n    <tr>\n      <th>24</th>\n      <td>584</td>\n      <td>60</td>\n      <td>5.0</td>\n    </tr>\n    <tr>\n      <th>...</th>\n      <td>...</td>\n      <td>...</td>\n      <td>...</td>\n    </tr>\n    <tr>\n      <th>581</th>\n      <td>382</td>\n      <td>55247</td>\n      <td>5.0</td>\n    </tr>\n    <tr>\n      <th>600</th>\n      <td>296</td>\n      <td>4144</td>\n      <td>5.0</td>\n    </tr>\n    <tr>\n      <th>602</th>\n      <td>556</td>\n      <td>112852</td>\n      <td>5.0</td>\n    </tr>\n    <tr>\n      <th>604</th>\n      <td>258</td>\n      <td>4995</td>\n      <td>5.0</td>\n    </tr>\n    <tr>\n      <th>606</th>\n      <td>25</td>\n      <td>187593</td>\n      <td>5.0</td>\n    </tr>\n  </tbody>\n</table>\n<p>117 rows × 3 columns</p>\n</div>"
     },
     "metadata": {}
    }
   ]
  },
  {
   "metadata": {},
   "cell_type": "markdown",
   "source": "### <b><span style='color:#686dec'>Метрики</span></b>\n\n#### (1) MRR\n\n- Это среднее обратное ранжирование. Используется для оценки качества систем, которые возвращают упорядоченные списки результатов. \n- Рассчитывается как среднее значение обратных рангов первых релевантных результатов для всех запросов.\n\n#### (2) HR\n\n- Это метрика, которая показывает долю запросов, для которых хотя бы один релевантный элемент был найден в результатах. \n- Рассчитывается как отношение количества успешных запросов (где найден хотя бы один релевантный элемент) к общему количеству запросов:\n      HR = Количество успешных запросов/Общее количество запросов\n      \n      \n#### (3) NDCG\n\n- Это метрика, которая учитывает как релевантность результатов, так и их порядок. \n- Она нормализует накопленную полезность с учетом позиции, на которой находится результат.\n\n#### (4) Coverage\n\n- Метрика coverage (покрытие) в контексте рекомендательных систем измеряет, насколько хорошо система охватывает доступные элементы (например, товары, фильмы, песни и т.д.) в своих рекомендациях.\n- Она показывает долю уникальных элементов, которые были рекомендованы пользователям, по сравнению с общим количеством доступных элементов в системе.\n"
  },
  {
   "metadata": {
    "trusted": true
   },
   "cell_type": "code",
   "source": "# mean reciprocal rate\ndef mrr(df: pd.DataFrame, pred_col='preds', true_col='true') -> float:\n    mrr_values = []\n    for _, row in df.iterrows():\n      try:\n        user_mrr = 1 / (row[pred_col].index(row[true_col]) + 1)\n      except ValueError:\n        user_mrr = 0\n      mrr_values.append(user_mrr)\n    return np.mean(mrr_values)\n\n# hit rate \ndef hr(df: pd.DataFrame, pred_col='preds', true_col='true') -> float:\n    hr_values = []\n    for _, row in df.iterrows():\n      hr_values.append(int(row[true_col] in row[pred_col]))\n    return np.mean(hr_values)\n\n# normalised discounted cumulative gain\ndef ndcg(df: pd.DataFrame, pred_col='preds', true_col='true') -> float:\n    # ideal dcg == 1 при стратегии разделения leave-one-out\n    ndcg_values = []\n    for _, row in df.iterrows():\n      try:\n        user_ndcg = 1 / np.log2(row[pred_col].index(row[true_col]) + 2)\n      except ValueError:\n        user_ndcg = 0\n      ndcg_values.append(user_ndcg)\n    return np.mean(ndcg_values)\n\n\ndef coverage(train_df: pd.DataFrame, pred_df: pd.DataFrame, item_id='item_id', pred_col='preds') -> float:\n    total_items_num = train_df[item_id].nunique()\n    pred_items_num = len(set.union(*pred_df[pred_col].map(lambda x: set(x))))\n    return pred_items_num / total_items_num",
   "execution_count": 10,
   "outputs": []
  },
  {
   "metadata": {
    "trusted": true
   },
   "cell_type": "code",
   "source": "def calculate_metrics(train_df: pd.DataFrame, pred_df: pd.DataFrame, item_id='item_id', pred_col='preds', true_col='true'):\n    print(f'mrr = {mrr(pred_df, true_col=true_col).round(4)}')\n    print(f'hr = {hr(pred_df, true_col=true_col).round(4)}')\n    print(f'ndcg = {ndcg(pred_df, true_col=true_col).round(4)}')\n    print(f'coverage = {round(coverage(train_df, pred_df, item_id=item_id),4)}')",
   "execution_count": 11,
   "outputs": []
  },
  {
   "metadata": {},
   "cell_type": "markdown",
   "source": "### <b><span style='color:#686dec'>Эвристические Подходы</span></b>\n\n#### (1) Популярная модель\n\nВыбрать топ 10\n\n- самых популярных фильмов (по количеству отзывов)\n- Они могут иметь разные рейтинги"
  },
  {
   "metadata": {
    "trusted": true
   },
   "cell_type": "code",
   "source": "k = 10\n\n# фильм, количество \ncount_items = Counter(train.movieId)\ncount_items = [*count_items.items()]\ncount_items.sort(key=lambda x: x[1], reverse=True)",
   "execution_count": 12,
   "outputs": []
  },
  {
   "metadata": {
    "trusted": true
   },
   "cell_type": "code",
   "source": "# top 10 самых популярнвх фильмов \npred_items = [k for k, v in count_items[:k]]\npred_items",
   "execution_count": 13,
   "outputs": [
    {
     "output_type": "execute_result",
     "execution_count": 13,
     "data": {
      "text/plain": "[356, 318, 296, 593, 2571, 260, 110, 480, 589, 2959]"
     },
     "metadata": {}
    }
   ]
  },
  {
   "metadata": {
    "trusted": true
   },
   "cell_type": "code",
   "source": "pred = test.copy()\npred['preds'] = [pred_items] * len(pred)\npred",
   "execution_count": 14,
   "outputs": [
    {
     "output_type": "execute_result",
     "execution_count": 14,
     "data": {
      "text/plain": "     userId movieId rating                                              preds\n2       191     673    5.0  [356, 318, 296, 593, 2571, 260, 110, 480, 589,...\n8        40     685    5.0  [356, 318, 296, 593, 2571, 260, 110, 480, 589,...\n11      136     188    5.0  [356, 318, 296, 593, 2571, 260, 110, 480, 589,...\n21      385     750    5.0  [356, 318, 296, 593, 2571, 260, 110, 480, 589,...\n24      584      60    5.0  [356, 318, 296, 593, 2571, 260, 110, 480, 589,...\n..      ...     ...    ...                                                ...\n581     382   55247    5.0  [356, 318, 296, 593, 2571, 260, 110, 480, 589,...\n600     296    4144    5.0  [356, 318, 296, 593, 2571, 260, 110, 480, 589,...\n602     556  112852    5.0  [356, 318, 296, 593, 2571, 260, 110, 480, 589,...\n604     258    4995    5.0  [356, 318, 296, 593, 2571, 260, 110, 480, 589,...\n606      25  187593    5.0  [356, 318, 296, 593, 2571, 260, 110, 480, 589,...\n\n[117 rows x 4 columns]",
      "text/html": "<div>\n<style scoped>\n    .dataframe tbody tr th:only-of-type {\n        vertical-align: middle;\n    }\n\n    .dataframe tbody tr th {\n        vertical-align: top;\n    }\n\n    .dataframe thead th {\n        text-align: right;\n    }\n</style>\n<table border=\"1\" class=\"dataframe\">\n  <thead>\n    <tr style=\"text-align: right;\">\n      <th></th>\n      <th>userId</th>\n      <th>movieId</th>\n      <th>rating</th>\n      <th>preds</th>\n    </tr>\n  </thead>\n  <tbody>\n    <tr>\n      <th>2</th>\n      <td>191</td>\n      <td>673</td>\n      <td>5.0</td>\n      <td>[356, 318, 296, 593, 2571, 260, 110, 480, 589,...</td>\n    </tr>\n    <tr>\n      <th>8</th>\n      <td>40</td>\n      <td>685</td>\n      <td>5.0</td>\n      <td>[356, 318, 296, 593, 2571, 260, 110, 480, 589,...</td>\n    </tr>\n    <tr>\n      <th>11</th>\n      <td>136</td>\n      <td>188</td>\n      <td>5.0</td>\n      <td>[356, 318, 296, 593, 2571, 260, 110, 480, 589,...</td>\n    </tr>\n    <tr>\n      <th>21</th>\n      <td>385</td>\n      <td>750</td>\n      <td>5.0</td>\n      <td>[356, 318, 296, 593, 2571, 260, 110, 480, 589,...</td>\n    </tr>\n    <tr>\n      <th>24</th>\n      <td>584</td>\n      <td>60</td>\n      <td>5.0</td>\n      <td>[356, 318, 296, 593, 2571, 260, 110, 480, 589,...</td>\n    </tr>\n    <tr>\n      <th>...</th>\n      <td>...</td>\n      <td>...</td>\n      <td>...</td>\n      <td>...</td>\n    </tr>\n    <tr>\n      <th>581</th>\n      <td>382</td>\n      <td>55247</td>\n      <td>5.0</td>\n      <td>[356, 318, 296, 593, 2571, 260, 110, 480, 589,...</td>\n    </tr>\n    <tr>\n      <th>600</th>\n      <td>296</td>\n      <td>4144</td>\n      <td>5.0</td>\n      <td>[356, 318, 296, 593, 2571, 260, 110, 480, 589,...</td>\n    </tr>\n    <tr>\n      <th>602</th>\n      <td>556</td>\n      <td>112852</td>\n      <td>5.0</td>\n      <td>[356, 318, 296, 593, 2571, 260, 110, 480, 589,...</td>\n    </tr>\n    <tr>\n      <th>604</th>\n      <td>258</td>\n      <td>4995</td>\n      <td>5.0</td>\n      <td>[356, 318, 296, 593, 2571, 260, 110, 480, 589,...</td>\n    </tr>\n    <tr>\n      <th>606</th>\n      <td>25</td>\n      <td>187593</td>\n      <td>5.0</td>\n      <td>[356, 318, 296, 593, 2571, 260, 110, 480, 589,...</td>\n    </tr>\n  </tbody>\n</table>\n<p>117 rows × 4 columns</p>\n</div>"
     },
     "metadata": {}
    }
   ]
  },
  {
   "metadata": {},
   "cell_type": "markdown",
   "source": "Достаем информацию о филме которую мы рекоммендуем, всем фильмам поставили оценку 5"
  },
  {
   "metadata": {
    "trusted": true
   },
   "cell_type": "code",
   "source": "movies = pd.read_csv('./ml-latest-small/movies.csv')\nmovies[movies['movieId'].isin(pred_items)]",
   "execution_count": 15,
   "outputs": [
    {
     "output_type": "execute_result",
     "execution_count": 15,
     "data": {
      "text/plain": "      movieId                                      title  \\\n97        110                          Braveheart (1995)   \n224       260  Star Wars: Episode IV - A New Hope (1977)   \n257       296                        Pulp Fiction (1994)   \n277       318           Shawshank Redemption, The (1994)   \n314       356                        Forrest Gump (1994)   \n418       480                       Jurassic Park (1993)   \n507       589          Terminator 2: Judgment Day (1991)   \n510       593           Silence of the Lambs, The (1991)   \n1939     2571                         Matrix, The (1999)   \n2226     2959                          Fight Club (1999)   \n\n                                genres  \n97                    Action|Drama|War  \n224            Action|Adventure|Sci-Fi  \n257        Comedy|Crime|Drama|Thriller  \n277                        Crime|Drama  \n314           Comedy|Drama|Romance|War  \n418   Action|Adventure|Sci-Fi|Thriller  \n507                      Action|Sci-Fi  \n510              Crime|Horror|Thriller  \n1939            Action|Sci-Fi|Thriller  \n2226       Action|Crime|Drama|Thriller  ",
      "text/html": "<div>\n<style scoped>\n    .dataframe tbody tr th:only-of-type {\n        vertical-align: middle;\n    }\n\n    .dataframe tbody tr th {\n        vertical-align: top;\n    }\n\n    .dataframe thead th {\n        text-align: right;\n    }\n</style>\n<table border=\"1\" class=\"dataframe\">\n  <thead>\n    <tr style=\"text-align: right;\">\n      <th></th>\n      <th>movieId</th>\n      <th>title</th>\n      <th>genres</th>\n    </tr>\n  </thead>\n  <tbody>\n    <tr>\n      <th>97</th>\n      <td>110</td>\n      <td>Braveheart (1995)</td>\n      <td>Action|Drama|War</td>\n    </tr>\n    <tr>\n      <th>224</th>\n      <td>260</td>\n      <td>Star Wars: Episode IV - A New Hope (1977)</td>\n      <td>Action|Adventure|Sci-Fi</td>\n    </tr>\n    <tr>\n      <th>257</th>\n      <td>296</td>\n      <td>Pulp Fiction (1994)</td>\n      <td>Comedy|Crime|Drama|Thriller</td>\n    </tr>\n    <tr>\n      <th>277</th>\n      <td>318</td>\n      <td>Shawshank Redemption, The (1994)</td>\n      <td>Crime|Drama</td>\n    </tr>\n    <tr>\n      <th>314</th>\n      <td>356</td>\n      <td>Forrest Gump (1994)</td>\n      <td>Comedy|Drama|Romance|War</td>\n    </tr>\n    <tr>\n      <th>418</th>\n      <td>480</td>\n      <td>Jurassic Park (1993)</td>\n      <td>Action|Adventure|Sci-Fi|Thriller</td>\n    </tr>\n    <tr>\n      <th>507</th>\n      <td>589</td>\n      <td>Terminator 2: Judgment Day (1991)</td>\n      <td>Action|Sci-Fi</td>\n    </tr>\n    <tr>\n      <th>510</th>\n      <td>593</td>\n      <td>Silence of the Lambs, The (1991)</td>\n      <td>Crime|Horror|Thriller</td>\n    </tr>\n    <tr>\n      <th>1939</th>\n      <td>2571</td>\n      <td>Matrix, The (1999)</td>\n      <td>Action|Sci-Fi|Thriller</td>\n    </tr>\n    <tr>\n      <th>2226</th>\n      <td>2959</td>\n      <td>Fight Club (1999)</td>\n      <td>Action|Crime|Drama|Thriller</td>\n    </tr>\n  </tbody>\n</table>\n</div>"
     },
     "metadata": {}
    }
   ]
  },
  {
   "metadata": {
    "trusted": true
   },
   "cell_type": "code",
   "source": "calculate_metrics(train, pred, item_id='movieId', true_col='movieId')",
   "execution_count": 16,
   "outputs": [
    {
     "output_type": "stream",
     "text": "mrr = 0.0218\nhr = 0.0598\nndcg = 0.0306\ncoverage = 0.001\n",
     "name": "stdout"
    }
   ]
  },
  {
   "metadata": {},
   "cell_type": "markdown",
   "source": "#### (2) Популярные с высоким рейтингом\n\nВыбрать топ 10\n\n- Рекоммендуем самые высоко оцененные фильмы всеми пользователями\n- Все имеют толко оценку 5"
  },
  {
   "metadata": {
    "trusted": true
   },
   "cell_type": "code",
   "source": "count_items = Counter(train[train.rating == 5]['movieId'])\ncount_items = [*count_items.items()]\ncount_items.sort(key=lambda x: x[1], reverse=True)",
   "execution_count": 17,
   "outputs": []
  },
  {
   "metadata": {
    "trusted": true
   },
   "cell_type": "code",
   "source": "pred_items = [k for k, v in count_items[:k]]\n\npred = test.copy()\npred['preds'] = [pred_items] * len(pred)",
   "execution_count": 18,
   "outputs": []
  },
  {
   "metadata": {
    "trusted": true
   },
   "cell_type": "code",
   "source": "movies = pd.read_csv('./ml-latest-small/movies.csv')\nmovies[movies['movieId'].isin(pred_items)]",
   "execution_count": 19,
   "outputs": [
    {
     "output_type": "execute_result",
     "execution_count": 19,
     "data": {
      "text/plain": "      movieId                                              title  \\\n224       260          Star Wars: Episode IV - A New Hope (1977)   \n257       296                                Pulp Fiction (1994)   \n277       318                   Shawshank Redemption, The (1994)   \n314       356                                Forrest Gump (1994)   \n461       527                            Schindler's List (1993)   \n510       593                   Silence of the Lambs, The (1991)   \n659       858                              Godfather, The (1972)   \n898      1196  Star Wars: Episode V - The Empire Strikes Back...   \n1939     2571                                 Matrix, The (1999)   \n2226     2959                                  Fight Club (1999)   \n\n                           genres  \n224       Action|Adventure|Sci-Fi  \n257   Comedy|Crime|Drama|Thriller  \n277                   Crime|Drama  \n314      Comedy|Drama|Romance|War  \n461                     Drama|War  \n510         Crime|Horror|Thriller  \n659                   Crime|Drama  \n898       Action|Adventure|Sci-Fi  \n1939       Action|Sci-Fi|Thriller  \n2226  Action|Crime|Drama|Thriller  ",
      "text/html": "<div>\n<style scoped>\n    .dataframe tbody tr th:only-of-type {\n        vertical-align: middle;\n    }\n\n    .dataframe tbody tr th {\n        vertical-align: top;\n    }\n\n    .dataframe thead th {\n        text-align: right;\n    }\n</style>\n<table border=\"1\" class=\"dataframe\">\n  <thead>\n    <tr style=\"text-align: right;\">\n      <th></th>\n      <th>movieId</th>\n      <th>title</th>\n      <th>genres</th>\n    </tr>\n  </thead>\n  <tbody>\n    <tr>\n      <th>224</th>\n      <td>260</td>\n      <td>Star Wars: Episode IV - A New Hope (1977)</td>\n      <td>Action|Adventure|Sci-Fi</td>\n    </tr>\n    <tr>\n      <th>257</th>\n      <td>296</td>\n      <td>Pulp Fiction (1994)</td>\n      <td>Comedy|Crime|Drama|Thriller</td>\n    </tr>\n    <tr>\n      <th>277</th>\n      <td>318</td>\n      <td>Shawshank Redemption, The (1994)</td>\n      <td>Crime|Drama</td>\n    </tr>\n    <tr>\n      <th>314</th>\n      <td>356</td>\n      <td>Forrest Gump (1994)</td>\n      <td>Comedy|Drama|Romance|War</td>\n    </tr>\n    <tr>\n      <th>461</th>\n      <td>527</td>\n      <td>Schindler's List (1993)</td>\n      <td>Drama|War</td>\n    </tr>\n    <tr>\n      <th>510</th>\n      <td>593</td>\n      <td>Silence of the Lambs, The (1991)</td>\n      <td>Crime|Horror|Thriller</td>\n    </tr>\n    <tr>\n      <th>659</th>\n      <td>858</td>\n      <td>Godfather, The (1972)</td>\n      <td>Crime|Drama</td>\n    </tr>\n    <tr>\n      <th>898</th>\n      <td>1196</td>\n      <td>Star Wars: Episode V - The Empire Strikes Back...</td>\n      <td>Action|Adventure|Sci-Fi</td>\n    </tr>\n    <tr>\n      <th>1939</th>\n      <td>2571</td>\n      <td>Matrix, The (1999)</td>\n      <td>Action|Sci-Fi|Thriller</td>\n    </tr>\n    <tr>\n      <th>2226</th>\n      <td>2959</td>\n      <td>Fight Club (1999)</td>\n      <td>Action|Crime|Drama|Thriller</td>\n    </tr>\n  </tbody>\n</table>\n</div>"
     },
     "metadata": {}
    }
   ]
  },
  {
   "metadata": {
    "trusted": true
   },
   "cell_type": "code",
   "source": "calculate_metrics(train, pred, item_id='movieId', true_col='movieId')",
   "execution_count": 20,
   "outputs": [
    {
     "output_type": "stream",
     "text": "mrr = 0.0233\nhr = 0.0598\nndcg = 0.0318\ncoverage = 0.001\n",
     "name": "stdout"
    }
   ]
  },
  {
   "metadata": {},
   "cell_type": "markdown",
   "source": "### <b><span style='color:#686dec'>Методы коллаборативной фильтрации</span></b>\n\n#### **(1) User-based (userKNN)**\n\n**User-based model** является моделью коллаборативной фильтрации, основная идея которой `похожим пользователям обычно нравятся похожие объекты`\n\nИдея алгоритма:\n\n* Найти, насколько другие пользователи в базе данных похожи на данного пользователя.\n\n* По оценкам других пользователей предсказать, какую оценку даст данный пользователь данному продукту, учитывая с большим весом тех пользователей, которые больше похожи на данного.\n\n* Отранжировать товары в порядке убывания предсказанных рейтингов и взять top k.\n\n\nОпределять **схожесть двух пользователей** можно с помощью косинусной меры близости между векторами поставленных оценок"
  },
  {
   "metadata": {
    "trusted": true
   },
   "cell_type": "code",
   "source": "# маппинг id в индексы\ndef get_mapping(data):\n    \n    # уникальые пользователи в выборке\n    user_ids = data['userId'].unique().tolist()\n      # уникальные фильмы в нашей выборке\n    item_ids = data['movieId'].unique().tolist()\n\n    n_users = len(user_ids)\n    n_items = len(item_ids)\n\n    user_idx = range(n_users)\n    item_idx = range(n_items)\n    # идентификатор для пользователей и фильмов\n    user_mapping = dict(zip(user_ids, user_idx)) # {user_id: user_ind}\n    item_mapping = dict(zip(item_ids, item_idx)) # {item_id: item_ind}\n    return user_mapping, item_mapping\n\nuser_mapping, item_mapping = get_mapping(ratings)\ntrain['userId'] = train['userId'].map(user_mapping)\ntest['userId'] = test['userId'].map(user_mapping)\ntrain['movieId'] = train['movieId'].map(item_mapping)\ntest['movieId'] = test['movieId'].map(item_mapping)",
   "execution_count": 21,
   "outputs": []
  },
  {
   "metadata": {},
   "cell_type": "markdown",
   "source": "\nТаким образом формула схожести двух пользователей:\n\n<br>\n\n$$\n    \\textit{sim(u, v)} = \\frac\n    {\\sum_i{\\big(r_{ui} \\times r_{vi}\\big)}}\n    {\\sqrt{\\sum_i{r_{ui}^2}} \\times \\sqrt{\\sum_i{r_{vi}^2}}}\n$$\n\n<br>\n\nИнтуитивно понятно, что предполагаемый рейтинг для пользователя можно оценить как средний рейтинг между схожими пользователями, но, благодаря введению понятия схожести, можно улучшить эту оценку, используя взвешенные веса и учитывая всех пользователей, которые посмотрели этот фильм.\n\n<br>\n\nИтак, приближаем новый рейтинг как сумму рейтингов других пользователей, взвешенных весами (т. е. похожестью):\n\n<br>\n\n$$\n    r_{ui} = \\frac\n    {\\sum_{v \\in User_i}\\big(\\textit{sim(u, v)} \\times r_{vi}\\big)}\n    {\\sum_{v \\in User_i}\\textit{|sim(u, v)|}}\n$$\n\n"
  },
  {
   "metadata": {
    "trusted": true
   },
   "cell_type": "code",
   "source": "\"\"\"\n\nUserKNN\n\n\"\"\"\n\ndef userKNN(train_data, test_data, k_neighb, k):\n    \n    \"\"\"\n    \n    Rating Matrix for each user (row)\n    \n    \"\"\"\n    \n    # shape = n_users * n_items\n    R = pd.pivot_table(train_data, \n                       values='rating', \n                       index='userId', \n                       columns='movieId', fill_value=0) \n    \n    \"\"\"\n    \n    Matrix of similarity for each user (row)\n    \n    \"\"\"\n    \n    # Сходство между пользователями\n    user_sim = cosine_similarity(R) # shape = n_users * n_users\n    \n    # расспределение similarity\n    # plt.hist(user_sim.flatten(), bins=30);\n    \n    # делаем предсказание для пользователей в тестовой выборке\n    preds = []\n    for _, row in tqdm_notebook(test_data.iterrows()):\n        \n        user = int(row['userId']) # current user row\n        \n        # sort and reverse similarity vector values for current row user (exclude itself)\n        # choose the number of similar users \n        neighb_inds = np.argsort(user_sim[user])[::-1][1: k_neighb + 1] # argument \n        neighb_sim = np.sort(user_sim[user])[::-1][1: k_neighb + 1] # value of neighbours\n\n        # .astype(bool) : Факт того что была оценка\n        # rating of indicies \n        \n        # multiply each neighbour movie rating vector by coefficient of its similarity to the user\n        sum_ratings = (R.iloc[neighb_inds] * neighb_sim.reshape(k_neighb, -1)).sum(axis=0) # numerator\n        sum_sim = (R.iloc[neighb_inds].astype(bool) * neighb_sim.reshape(k_neighb, -1)).sum(axis=0) # denominator\n        user_ratings = sum_ratings / (sum_sim + 1e-10)\n        \n        user_ratings = pd.DataFrame(user_ratings, columns=['pred']).reset_index()\n        user_ratings.sort_values(by=['pred'], ascending=False, inplace=True)\n        preds.append(user_ratings['movieId'][:k].tolist())\n\n    preds_data = test_data.copy()\n    preds_data['preds'] = preds\n    return preds_data",
   "execution_count": 22,
   "outputs": []
  },
  {
   "metadata": {
    "trusted": true
   },
   "cell_type": "code",
   "source": "k_neighb = 5\npred = userKNN(train, test, k_neighb, k)",
   "execution_count": 23,
   "outputs": [
    {
     "output_type": "display_data",
     "data": {
      "text/plain": "0it [00:00, ?it/s]",
      "application/vnd.jupyter.widget-view+json": {
       "version_major": 2,
       "version_minor": 0,
       "model_id": "26d1b03896e54901a111e59d9cd3c6e0"
      }
     },
     "metadata": {}
    }
   ]
  },
  {
   "metadata": {
    "trusted": true
   },
   "cell_type": "code",
   "source": "pred.head()",
   "execution_count": 24,
   "outputs": [
    {
     "output_type": "execute_result",
     "execution_count": 24,
     "data": {
      "text/plain": "    userId  movieId rating                                              preds\n2        2      134    5.0    [112, 129, 66, 82, 349, 77, 116, 187, 113, 117]\n8        8      210    5.0    [264, 107, 200, 219, 78, 238, 35, 33, 112, 277]\n11      11      215    5.0   [64, 246, 256, 248, 128, 20, 347, 187, 190, 194]\n21      21      817    5.0  [264, 128, 48, 617, 717, 704, 960, 814, 535, 631]\n24      24       41    5.0        [55, 64, 346, 107, 9, 440, 68, 33, 16, 106]",
      "text/html": "<div>\n<style scoped>\n    .dataframe tbody tr th:only-of-type {\n        vertical-align: middle;\n    }\n\n    .dataframe tbody tr th {\n        vertical-align: top;\n    }\n\n    .dataframe thead th {\n        text-align: right;\n    }\n</style>\n<table border=\"1\" class=\"dataframe\">\n  <thead>\n    <tr style=\"text-align: right;\">\n      <th></th>\n      <th>userId</th>\n      <th>movieId</th>\n      <th>rating</th>\n      <th>preds</th>\n    </tr>\n  </thead>\n  <tbody>\n    <tr>\n      <th>2</th>\n      <td>2</td>\n      <td>134</td>\n      <td>5.0</td>\n      <td>[112, 129, 66, 82, 349, 77, 116, 187, 113, 117]</td>\n    </tr>\n    <tr>\n      <th>8</th>\n      <td>8</td>\n      <td>210</td>\n      <td>5.0</td>\n      <td>[264, 107, 200, 219, 78, 238, 35, 33, 112, 277]</td>\n    </tr>\n    <tr>\n      <th>11</th>\n      <td>11</td>\n      <td>215</td>\n      <td>5.0</td>\n      <td>[64, 246, 256, 248, 128, 20, 347, 187, 190, 194]</td>\n    </tr>\n    <tr>\n      <th>21</th>\n      <td>21</td>\n      <td>817</td>\n      <td>5.0</td>\n      <td>[264, 128, 48, 617, 717, 704, 960, 814, 535, 631]</td>\n    </tr>\n    <tr>\n      <th>24</th>\n      <td>24</td>\n      <td>41</td>\n      <td>5.0</td>\n      <td>[55, 64, 346, 107, 9, 440, 68, 33, 16, 106]</td>\n    </tr>\n  </tbody>\n</table>\n</div>"
     },
     "metadata": {}
    }
   ]
  },
  {
   "metadata": {
    "trusted": true
   },
   "cell_type": "code",
   "source": "calculate_metrics(train, pred, item_id='movieId', true_col='movieId')",
   "execution_count": 25,
   "outputs": [
    {
     "output_type": "stream",
     "text": "mrr = 0.0182\nhr = 0.0598\nndcg = 0.0277\ncoverage = 0.0598\n",
     "name": "stdout"
    }
   ]
  },
  {
   "metadata": {},
   "cell_type": "markdown",
   "source": "#### **(2) Item-based model (itemKNN)**\n**Item-based model** очень похожа на предыдущую модель по структуре, но теперь мы `ищем похожие товары`, а не пользователей. А именно:\n\n* Для продуктов, которые оценил пользователь найти, насколько они похожи на другие продукты в базе данных.\n    \n* По оценкам других продуктов предсказать, какую оценку даст данный пользователь данному продукту, учитывая с большим весом те продукты, которые больше похожи на данный.\n\n\nПоэтому при вычисление $r_{ui}$ мы посмотрим на все фильмы пользователя $u$, оценим их схожесть с фильмом $i$ и посчитаем взвешенную сумму:\n\n<br>\n\n$$\n    r_{ui} = \\frac\n    {\\sum_{j \\in Item_u}\\big(\\textit{sim(i, j)} \\times r_{uj} \\big)}\n    {\\sum_{j \\in Item_u}\\textit{|sim(i, j)|}}\n$$\n\n<br>\n\nОценивать же схожесть двух фильмов будем с помощью той же косинусной меры близости:\n\n<br>\n\n$$\n    \\textit{sim(i, j)} = \\frac\n    {\\sum_u{\\big(r_{ui} \\times r_{uj}\\big)}}\n    {\\sqrt{\\sum_u{r_{ui}^2}} \\times \\sqrt{\\sum_u{r_{uj}^2}}}\n$$"
  },
  {
   "metadata": {
    "trusted": true
   },
   "cell_type": "code",
   "source": "# ссылаемся к данным из\ntrain.head()",
   "execution_count": 26,
   "outputs": [
    {
     "output_type": "execute_result",
     "execution_count": 26,
     "data": {
      "text/plain": "   userId  movieId rating\n0       0        0    5.0\n0       0        1    5.0\n0       0        2    5.0\n0       0        3    5.0\n0       0        4    3.0",
      "text/html": "<div>\n<style scoped>\n    .dataframe tbody tr th:only-of-type {\n        vertical-align: middle;\n    }\n\n    .dataframe tbody tr th {\n        vertical-align: top;\n    }\n\n    .dataframe thead th {\n        text-align: right;\n    }\n</style>\n<table border=\"1\" class=\"dataframe\">\n  <thead>\n    <tr style=\"text-align: right;\">\n      <th></th>\n      <th>userId</th>\n      <th>movieId</th>\n      <th>rating</th>\n    </tr>\n  </thead>\n  <tbody>\n    <tr>\n      <th>0</th>\n      <td>0</td>\n      <td>0</td>\n      <td>5.0</td>\n    </tr>\n    <tr>\n      <th>0</th>\n      <td>0</td>\n      <td>1</td>\n      <td>5.0</td>\n    </tr>\n    <tr>\n      <th>0</th>\n      <td>0</td>\n      <td>2</td>\n      <td>5.0</td>\n    </tr>\n    <tr>\n      <th>0</th>\n      <td>0</td>\n      <td>3</td>\n      <td>5.0</td>\n    </tr>\n    <tr>\n      <th>0</th>\n      <td>0</td>\n      <td>4</td>\n      <td>3.0</td>\n    </tr>\n  </tbody>\n</table>\n</div>"
     },
     "metadata": {}
    }
   ]
  },
  {
   "metadata": {
    "trusted": true
   },
   "cell_type": "code",
   "source": "\"\"\"\n\nitemKNN\n\n\"\"\"\n\ndef itemKNN(train_data, test_data, k_neighb, k):\n    \n    # shape = n_users * n_items\n    R = pd.pivot_table(train_data, \n                       values='rating',\n                       index='userId', \n                       columns='movieId', fill_value=0) \n    \n    # movies vs user cosine similarity\n    item_sim = cosine_similarity(R.T) # shape = n_items * n_items\n    \n    preds = []\n    for _, row in tqdm_notebook(test_data.iterrows()):\n    \n        \"\"\"\n        \n        User interactions subset selection (user_interactions)\n        \n        \"\"\"\n    \n        user = row['userId']\n        user_interactions = train_data[train_data['userId'] == user] # user rating subset\n        user_interactions = user_interactions[user_interactions['rating'] == 5] # select ratings of 5 only\n\n        \"\"\"\n        \n        For each user interaction row\n        \n        \tuserId\tmovieId\trating\n        0\t     0\t      0\t   5.0  \n        \n        \"\"\"\n        \n        # for each user interaction row (user ratings of 5 only)\n        item_preds = pd.DataFrame()\n        for _, row in user_interactions.iterrows():\n            \n            \"\"\"\n            \n            Find top k similar movies \n            \n            \"\"\"\n            \n            # find the most similar movies (index and value)\n            item = row['movieId']  # index of movie \n            \n            # find similar to it movies index and value\n            neighb_inds = np.argsort(item_sim[item])[::-1][1: k_neighb + 1] \n            neighb_sim = np.sort(item_sim[item])[::-1][1: k_neighb + 1] \n\n            sum_ratings = (R.T.iloc[neighb_inds] * neighb_sim.reshape(k_neighb, -1)).sum(axis=1) # numerator\n            sum_sim = (R.T.iloc[neighb_inds].astype(bool) * neighb_sim.reshape(k_neighb, -1)).sum(axis=1) # denominator\n            item_ratings = sum_ratings / (sum_sim + 1e-10)\n            \n            item_ratings = pd.DataFrame(item_ratings, columns=['pred']).reset_index()\n            item_preds = pd.concat([item_preds, item_ratings])\n\n        item_preds.sort_values(by=['pred'], ascending=False, inplace=True)\n        preds.append(item_preds['movieId'][:k].tolist())\n\n    preds_data = test_data.copy()\n    preds_data['preds'] = preds\n    return preds_data",
   "execution_count": 27,
   "outputs": []
  },
  {
   "metadata": {
    "trusted": true
   },
   "cell_type": "code",
   "source": "pred = itemKNN(train, test, k_neighb, k)",
   "execution_count": 28,
   "outputs": [
    {
     "output_type": "display_data",
     "data": {
      "text/plain": "0it [00:00, ?it/s]",
      "application/vnd.jupyter.widget-view+json": {
       "version_major": 2,
       "version_minor": 0,
       "model_id": "f53a7d9141c14d1dbbd482cf3e64801c"
      }
     },
     "metadata": {}
    }
   ]
  },
  {
   "metadata": {
    "trusted": true
   },
   "cell_type": "code",
   "source": "pred.head()",
   "execution_count": 29,
   "outputs": [
    {
     "output_type": "execute_result",
     "execution_count": 29,
     "data": {
      "text/plain": "    userId  movieId rating                                              preds\n2        2      134    5.0       [67, 67, 67, 67, 67, 67, 132, 132, 132, 108]\n8        8      210    5.0  [112, 349, 817, 678, 114, 114, 372, 601, 264, ...\n11      11      215    5.0  [673, 814, 121, 121, 121, 166, 246, 246, 161, ...\n21      21      817    5.0  [1497, 1698, 717, 617, 673, 673, 545, 114, 372...\n24      24       41    5.0  [112, 372, 814, 121, 121, 121, 166, 166, 246, ...",
      "text/html": "<div>\n<style scoped>\n    .dataframe tbody tr th:only-of-type {\n        vertical-align: middle;\n    }\n\n    .dataframe tbody tr th {\n        vertical-align: top;\n    }\n\n    .dataframe thead th {\n        text-align: right;\n    }\n</style>\n<table border=\"1\" class=\"dataframe\">\n  <thead>\n    <tr style=\"text-align: right;\">\n      <th></th>\n      <th>userId</th>\n      <th>movieId</th>\n      <th>rating</th>\n      <th>preds</th>\n    </tr>\n  </thead>\n  <tbody>\n    <tr>\n      <th>2</th>\n      <td>2</td>\n      <td>134</td>\n      <td>5.0</td>\n      <td>[67, 67, 67, 67, 67, 67, 132, 132, 132, 108]</td>\n    </tr>\n    <tr>\n      <th>8</th>\n      <td>8</td>\n      <td>210</td>\n      <td>5.0</td>\n      <td>[112, 349, 817, 678, 114, 114, 372, 601, 264, ...</td>\n    </tr>\n    <tr>\n      <th>11</th>\n      <td>11</td>\n      <td>215</td>\n      <td>5.0</td>\n      <td>[673, 814, 121, 121, 121, 166, 246, 246, 161, ...</td>\n    </tr>\n    <tr>\n      <th>21</th>\n      <td>21</td>\n      <td>817</td>\n      <td>5.0</td>\n      <td>[1497, 1698, 717, 617, 673, 673, 545, 114, 372...</td>\n    </tr>\n    <tr>\n      <th>24</th>\n      <td>24</td>\n      <td>41</td>\n      <td>5.0</td>\n      <td>[112, 372, 814, 121, 121, 121, 166, 166, 246, ...</td>\n    </tr>\n  </tbody>\n</table>\n</div>"
     },
     "metadata": {}
    }
   ]
  },
  {
   "metadata": {
    "trusted": true
   },
   "cell_type": "code",
   "source": "calculate_metrics(train, pred, item_id='movieId', true_col='movieId')",
   "execution_count": 30,
   "outputs": [
    {
     "output_type": "stream",
     "text": "mrr = 0.0105\nhr = 0.0427\nndcg = 0.018\ncoverage = 0.0355\n",
     "name": "stdout"
    }
   ]
  },
  {
   "metadata": {},
   "cell_type": "markdown",
   "source": "Как можно заметить данные алгоритмы имеют общие недостатки, например:\n1. Они не могут решить проблему холодного старта, когда у нас нет информации о пользователе или товаре.\n2. Для нетипичных пользователей или предметов сложно дать объективные предсказания, так как они мало похожи на остальных.\n\nСуществуют и более сложные модели коллаборативной фильтрации.\nКроме того есть и другие принципы:\n- Контентная фильтрация\n- Смешанные подходы $-$ объединяют в себе content based и collaborative фильтрации."
  }
 ],
 "metadata": {
  "language_info": {
   "name": "python",
   "version": "3.10.4",
   "mimetype": "text/x-python",
   "codemirror_mode": {
    "name": "ipython",
    "version": 3
   },
   "pygments_lexer": "ipython3",
   "nbconvert_exporter": "python",
   "file_extension": ".py"
  },
  "kernelspec": {
   "name": "python3",
   "display_name": "Python 3",
   "language": "python"
  }
 },
 "nbformat": 4,
 "nbformat_minor": 2
}