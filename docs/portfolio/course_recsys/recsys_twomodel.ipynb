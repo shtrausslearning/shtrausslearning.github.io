{
 "cells": [
  {
   "metadata": {
    "execution": {
     "iopub.status.busy": "2024-10-07T20:07:58.645763Z",
     "iopub.execute_input": "2024-10-07T20:07:58.646341Z",
     "iopub.status.idle": "2024-10-07T20:08:27.233238Z",
     "shell.execute_reply.started": "2024-10-07T20:07:58.646293Z",
     "shell.execute_reply": "2024-10-07T20:08:27.231487Z"
    },
    "trusted": false
   },
   "cell_type": "code",
   "source": "!pip install implicit -qqq\n!pip install catboost -qqq",
   "execution_count": 2,
   "outputs": []
  },
  {
   "metadata": {
    "execution": {
     "iopub.status.busy": "2024-10-07T20:08:27.236473Z",
     "iopub.execute_input": "2024-10-07T20:08:27.237117Z",
     "iopub.status.idle": "2024-10-07T20:08:28.568678Z",
     "shell.execute_reply.started": "2024-10-07T20:08:27.237044Z",
     "shell.execute_reply": "2024-10-07T20:08:28.567598Z"
    },
    "trusted": false
   },
   "cell_type": "code",
   "source": "import datetime\nimport numpy as np\nimport pandas as pd\nfrom tqdm.auto import tqdm\nimport matplotlib.pyplot as plt\nimport seaborn as sns\nfrom sklearn.utils import shuffle\nfrom sklearn.model_selection import train_test_split\nfrom sklearn.metrics import roc_auc_score\nimport scipy.sparse as sparse\n\nfrom catboost import CatBoostClassifier\nimport implicit\nimport warnings; warnings.filterwarnings('ignore')",
   "execution_count": 3,
   "outputs": []
  },
  {
   "metadata": {},
   "cell_type": "markdown",
   "source": "## <div style=\"padding: 30px;color:white;margin:10;font-size:60%;text-align:left;display:fill;border-radius:10px;background-color:#FFFFFF;overflow:hidden;background-color:#232834\"><b><span style='color:#686dec'>2 |</span></b> <b>KION Dataset</b></div>\n\nПросмотры фильмов и сериалов в приложении KION:\n\n- данные взаимодействий пользователя с товарами (фильмы) `interactions`\n- данные о пользователях `users`\n- данные об айтемах (фильмы, сериалы и т.д.) `items`"
  },
  {
   "metadata": {
    "execution": {
     "iopub.status.busy": "2024-10-07T20:08:28.582822Z",
     "iopub.execute_input": "2024-10-07T20:08:28.583471Z",
     "iopub.status.idle": "2024-10-07T20:08:34.753005Z",
     "shell.execute_reply.started": "2024-10-07T20:08:28.583425Z",
     "shell.execute_reply": "2024-10-07T20:08:34.751703Z"
    },
    "trusted": false
   },
   "cell_type": "code",
   "source": "interactions = pd.read_csv(\"/kaggle/input/kion-data/interactions_df.csv\")\nitems = pd.read_csv(\"/kaggle/input/kion-data/items.csv\")\nusers = pd.read_csv(\"/kaggle/input/kion-data/users.csv\")",
   "execution_count": 5,
   "outputs": []
  },
  {
   "metadata": {
    "execution": {
     "iopub.status.busy": "2024-10-07T20:08:34.754426Z",
     "iopub.execute_input": "2024-10-07T20:08:34.754818Z",
     "iopub.status.idle": "2024-10-07T20:08:53.571935Z",
     "shell.execute_reply.started": "2024-10-07T20:08:34.754776Z",
     "shell.execute_reply": "2024-10-07T20:08:53.570784Z"
    },
    "trusted": false
   },
   "cell_type": "code",
   "source": "# обработка даты\ninteractions['last_watch_dt'] = pd.to_datetime(interactions['last_watch_dt']).map(lambda x: x.date())\n\nprint(f\"Уникальных юзеров в interactions: {interactions['user_id'].nunique()}\")\nprint(f\"Уникальных айтемов в interactions: {interactions['item_id'].nunique()}\")",
   "execution_count": 6,
   "outputs": [
    {
     "name": "stdout",
     "text": "Уникальных юзеров в interactions: 962179\nУникальных айтемов в interactions: 15706\n",
     "output_type": "stream"
    }
   ]
  },
  {
   "metadata": {},
   "cell_type": "markdown",
   "source": "### <b><span style='color:#686dec'>Данные о взаимодействий пользователях с фильмами </span></b>\n\nКак и ранше у нас стандартые фичи\n- `user_id` : пользователь\n- `item_id` : фильм \n\nУ нас есть фича времени последнего запуска фильма \n\n- `last_watch_dt` дата просмотра\n\nИ фичи взаимодействий:\n\n- `total_dur` длительность просмотра\n- `watched_pct` доля просмотра в %\n\nБудем использовать эти данные как основной источник данных для формирования рекомендации"
  },
  {
   "metadata": {
    "execution": {
     "iopub.status.busy": "2024-10-07T20:08:53.573274Z",
     "iopub.execute_input": "2024-10-07T20:08:53.573637Z",
     "iopub.status.idle": "2024-10-07T20:08:53.591198Z",
     "shell.execute_reply.started": "2024-10-07T20:08:53.573597Z",
     "shell.execute_reply": "2024-10-07T20:08:53.589940Z"
    },
    "trusted": false
   },
   "cell_type": "code",
   "source": "interactions.head()",
   "execution_count": 7,
   "outputs": [
    {
     "execution_count": 7,
     "output_type": "execute_result",
     "data": {
      "text/plain": "   user_id  item_id last_watch_dt  total_dur  watched_pct\n0   176549     9506    2021-05-11       4250         72.0\n1   699317     1659    2021-05-29       8317        100.0\n2   656683     7107    2021-05-09         10          0.0\n3   864613     7638    2021-07-05      14483        100.0\n4   964868     9506    2021-04-30       6725        100.0",
      "text/html": "<div>\n<style scoped>\n    .dataframe tbody tr th:only-of-type {\n        vertical-align: middle;\n    }\n\n    .dataframe tbody tr th {\n        vertical-align: top;\n    }\n\n    .dataframe thead th {\n        text-align: right;\n    }\n</style>\n<table border=\"1\" class=\"dataframe\">\n  <thead>\n    <tr style=\"text-align: right;\">\n      <th></th>\n      <th>user_id</th>\n      <th>item_id</th>\n      <th>last_watch_dt</th>\n      <th>total_dur</th>\n      <th>watched_pct</th>\n    </tr>\n  </thead>\n  <tbody>\n    <tr>\n      <th>0</th>\n      <td>176549</td>\n      <td>9506</td>\n      <td>2021-05-11</td>\n      <td>4250</td>\n      <td>72.0</td>\n    </tr>\n    <tr>\n      <th>1</th>\n      <td>699317</td>\n      <td>1659</td>\n      <td>2021-05-29</td>\n      <td>8317</td>\n      <td>100.0</td>\n    </tr>\n    <tr>\n      <th>2</th>\n      <td>656683</td>\n      <td>7107</td>\n      <td>2021-05-09</td>\n      <td>10</td>\n      <td>0.0</td>\n    </tr>\n    <tr>\n      <th>3</th>\n      <td>864613</td>\n      <td>7638</td>\n      <td>2021-07-05</td>\n      <td>14483</td>\n      <td>100.0</td>\n    </tr>\n    <tr>\n      <th>4</th>\n      <td>964868</td>\n      <td>9506</td>\n      <td>2021-04-30</td>\n      <td>6725</td>\n      <td>100.0</td>\n    </tr>\n  </tbody>\n</table>\n</div>"
     },
     "metadata": {}
    }
   ]
  },
  {
   "metadata": {},
   "cell_type": "markdown",
   "source": "### <b><span style='color:#686dec'>Данные о товарах\n</span></b>\n\nДанные о самих товарах\n\n- `content_type` - тип контента\n- `title` - название на русском\n- `title_orig` - название оригинальное\n- `release_year` - год выпуска\n- `countries` - страны\n- `for_kids` - флаг контент для детей\n- `age_rating`- Возрастной рейтинг\n- `studios` - студии\n- `directors` - режиссеры\n- `actors`- актеры\n- `keywords` - ключевые слова\n- `description` - описание"
  },
  {
   "metadata": {
    "execution": {
     "iopub.status.busy": "2024-10-07T20:08:53.592687Z",
     "iopub.execute_input": "2024-10-07T20:08:53.593177Z",
     "iopub.status.idle": "2024-10-07T20:08:53.616206Z",
     "shell.execute_reply.started": "2024-10-07T20:08:53.593125Z",
     "shell.execute_reply": "2024-10-07T20:08:53.615021Z"
    },
    "trusted": false
   },
   "cell_type": "code",
   "source": "items.head()",
   "execution_count": 8,
   "outputs": [
    {
     "execution_count": 8,
     "output_type": "execute_result",
     "data": {
      "text/plain": "   item_id content_type                 title      title_orig  release_year  \\\n0    10711         film        Поговори с ней  Hable con ella        2002.0   \n1     2508         film           Голые перцы    Search Party        2014.0   \n2    10716         film      Тактическая сила  Tactical Force        2011.0   \n3     7868         film                45 лет        45 Years        2015.0   \n4    16268         film  Все решает мгновение             NaN        1978.0   \n\n                                             genres       countries  for_kids  \\\n0           драмы, зарубежные, детективы, мелодрамы         Испания       NaN   \n1                  зарубежные, приключения, комедии             США       NaN   \n2  криминал, зарубежные, триллеры, боевики, комедии          Канада       NaN   \n3                      драмы, зарубежные, мелодрамы  Великобритания       NaN   \n4                драмы, спорт, советские, мелодрамы            СССР       NaN   \n\n   age_rating   studios         directors  \\\n0        16.0       NaN  Педро Альмодовар   \n1        16.0       NaN    Скот Армстронг   \n2        16.0       NaN  Адам П. Калтраро   \n3        16.0       NaN         Эндрю Хэй   \n4        12.0  Ленфильм  Виктор Садовский   \n\n                                              actors  \\\n0  Адольфо Фернандес, Ана Фернандес, Дарио Гранди...   \n1  Адам Палли, Брайан Хаски, Дж.Б. Смув, Джейсон ...   \n2  Адриан Холмс, Даррен Шалави, Джерри Вассерман,...   \n3  Александра Риддлстон-Барретт, Джеральдин Джейм...   \n4  Александр Абдулов, Александр Демьяненко, Алекс...   \n\n                                         description  \\\n0  Мелодрама легендарного Педро Альмодовара «Пого...   \n1  Уморительная современная комедия на популярную...   \n2  Профессиональный рестлер Стив Остин («Все или ...   \n3  Шарлотта Рэмплинг, Том Кортни, Джеральдин Джей...   \n4  Расчетливая чаровница из советского кинохита «...   \n\n                                            keywords  \n0  Поговори, ней, 2002, Испания, друзья, любовь, ...  \n1  Голые, перцы, 2014, США, друзья, свадьбы, прео...  \n2  Тактическая, сила, 2011, Канада, бандиты, ганг...  \n3  45, лет, 2015, Великобритания, брак, жизнь, лю...  \n4  Все, решает, мгновение, 1978, СССР, сильные, ж...  ",
      "text/html": "<div>\n<style scoped>\n    .dataframe tbody tr th:only-of-type {\n        vertical-align: middle;\n    }\n\n    .dataframe tbody tr th {\n        vertical-align: top;\n    }\n\n    .dataframe thead th {\n        text-align: right;\n    }\n</style>\n<table border=\"1\" class=\"dataframe\">\n  <thead>\n    <tr style=\"text-align: right;\">\n      <th></th>\n      <th>item_id</th>\n      <th>content_type</th>\n      <th>title</th>\n      <th>title_orig</th>\n      <th>release_year</th>\n      <th>genres</th>\n      <th>countries</th>\n      <th>for_kids</th>\n      <th>age_rating</th>\n      <th>studios</th>\n      <th>directors</th>\n      <th>actors</th>\n      <th>description</th>\n      <th>keywords</th>\n    </tr>\n  </thead>\n  <tbody>\n    <tr>\n      <th>0</th>\n      <td>10711</td>\n      <td>film</td>\n      <td>Поговори с ней</td>\n      <td>Hable con ella</td>\n      <td>2002.0</td>\n      <td>драмы, зарубежные, детективы, мелодрамы</td>\n      <td>Испания</td>\n      <td>NaN</td>\n      <td>16.0</td>\n      <td>NaN</td>\n      <td>Педро Альмодовар</td>\n      <td>Адольфо Фернандес, Ана Фернандес, Дарио Гранди...</td>\n      <td>Мелодрама легендарного Педро Альмодовара «Пого...</td>\n      <td>Поговори, ней, 2002, Испания, друзья, любовь, ...</td>\n    </tr>\n    <tr>\n      <th>1</th>\n      <td>2508</td>\n      <td>film</td>\n      <td>Голые перцы</td>\n      <td>Search Party</td>\n      <td>2014.0</td>\n      <td>зарубежные, приключения, комедии</td>\n      <td>США</td>\n      <td>NaN</td>\n      <td>16.0</td>\n      <td>NaN</td>\n      <td>Скот Армстронг</td>\n      <td>Адам Палли, Брайан Хаски, Дж.Б. Смув, Джейсон ...</td>\n      <td>Уморительная современная комедия на популярную...</td>\n      <td>Голые, перцы, 2014, США, друзья, свадьбы, прео...</td>\n    </tr>\n    <tr>\n      <th>2</th>\n      <td>10716</td>\n      <td>film</td>\n      <td>Тактическая сила</td>\n      <td>Tactical Force</td>\n      <td>2011.0</td>\n      <td>криминал, зарубежные, триллеры, боевики, комедии</td>\n      <td>Канада</td>\n      <td>NaN</td>\n      <td>16.0</td>\n      <td>NaN</td>\n      <td>Адам П. Калтраро</td>\n      <td>Адриан Холмс, Даррен Шалави, Джерри Вассерман,...</td>\n      <td>Профессиональный рестлер Стив Остин («Все или ...</td>\n      <td>Тактическая, сила, 2011, Канада, бандиты, ганг...</td>\n    </tr>\n    <tr>\n      <th>3</th>\n      <td>7868</td>\n      <td>film</td>\n      <td>45 лет</td>\n      <td>45 Years</td>\n      <td>2015.0</td>\n      <td>драмы, зарубежные, мелодрамы</td>\n      <td>Великобритания</td>\n      <td>NaN</td>\n      <td>16.0</td>\n      <td>NaN</td>\n      <td>Эндрю Хэй</td>\n      <td>Александра Риддлстон-Барретт, Джеральдин Джейм...</td>\n      <td>Шарлотта Рэмплинг, Том Кортни, Джеральдин Джей...</td>\n      <td>45, лет, 2015, Великобритания, брак, жизнь, лю...</td>\n    </tr>\n    <tr>\n      <th>4</th>\n      <td>16268</td>\n      <td>film</td>\n      <td>Все решает мгновение</td>\n      <td>NaN</td>\n      <td>1978.0</td>\n      <td>драмы, спорт, советские, мелодрамы</td>\n      <td>СССР</td>\n      <td>NaN</td>\n      <td>12.0</td>\n      <td>Ленфильм</td>\n      <td>Виктор Садовский</td>\n      <td>Александр Абдулов, Александр Демьяненко, Алекс...</td>\n      <td>Расчетливая чаровница из советского кинохита «...</td>\n      <td>Все, решает, мгновение, 1978, СССР, сильные, ж...</td>\n    </tr>\n  </tbody>\n</table>\n</div>"
     },
     "metadata": {}
    }
   ]
  },
  {
   "metadata": {},
   "cell_type": "markdown",
   "source": "\n### <b><span style='color:#686dec'>Данные о пользователях</span></b>\n\nВсе признаки - результат предсказания соцдем моделей\n\n- `age` : Возростная группа \n- `income` : Группа дохода пользователя \n- `sex` : Пол пользователя\n- `kids_flg` : флаг наличия детей\n"
  },
  {
   "metadata": {
    "execution": {
     "iopub.status.busy": "2024-10-07T20:08:53.617628Z",
     "iopub.execute_input": "2024-10-07T20:08:53.618007Z",
     "iopub.status.idle": "2024-10-07T20:08:53.634189Z",
     "shell.execute_reply.started": "2024-10-07T20:08:53.617940Z",
     "shell.execute_reply": "2024-10-07T20:08:53.632766Z"
    },
    "trusted": false
   },
   "cell_type": "code",
   "source": "users.head()",
   "execution_count": 9,
   "outputs": [
    {
     "execution_count": 9,
     "output_type": "execute_result",
     "data": {
      "text/plain": "   user_id        age        income sex  kids_flg\n0   973171  age_25_34  income_60_90   М         1\n1   962099  age_18_24  income_20_40   М         0\n2  1047345  age_45_54  income_40_60   Ж         0\n3   721985  age_45_54  income_20_40   Ж         0\n4   704055  age_35_44  income_60_90   Ж         0",
      "text/html": "<div>\n<style scoped>\n    .dataframe tbody tr th:only-of-type {\n        vertical-align: middle;\n    }\n\n    .dataframe tbody tr th {\n        vertical-align: top;\n    }\n\n    .dataframe thead th {\n        text-align: right;\n    }\n</style>\n<table border=\"1\" class=\"dataframe\">\n  <thead>\n    <tr style=\"text-align: right;\">\n      <th></th>\n      <th>user_id</th>\n      <th>age</th>\n      <th>income</th>\n      <th>sex</th>\n      <th>kids_flg</th>\n    </tr>\n  </thead>\n  <tbody>\n    <tr>\n      <th>0</th>\n      <td>973171</td>\n      <td>age_25_34</td>\n      <td>income_60_90</td>\n      <td>М</td>\n      <td>1</td>\n    </tr>\n    <tr>\n      <th>1</th>\n      <td>962099</td>\n      <td>age_18_24</td>\n      <td>income_20_40</td>\n      <td>М</td>\n      <td>0</td>\n    </tr>\n    <tr>\n      <th>2</th>\n      <td>1047345</td>\n      <td>age_45_54</td>\n      <td>income_40_60</td>\n      <td>Ж</td>\n      <td>0</td>\n    </tr>\n    <tr>\n      <th>3</th>\n      <td>721985</td>\n      <td>age_45_54</td>\n      <td>income_20_40</td>\n      <td>Ж</td>\n      <td>0</td>\n    </tr>\n    <tr>\n      <th>4</th>\n      <td>704055</td>\n      <td>age_35_44</td>\n      <td>income_60_90</td>\n      <td>Ж</td>\n      <td>0</td>\n    </tr>\n  </tbody>\n</table>\n</div>"
     },
     "metadata": {}
    }
   ]
  },
  {
   "metadata": {
    "execution": {
     "iopub.status.busy": "2024-10-07T20:08:53.635762Z",
     "iopub.execute_input": "2024-10-07T20:08:53.636211Z",
     "iopub.status.idle": "2024-10-07T20:08:53.646798Z",
     "shell.execute_reply.started": "2024-10-07T20:08:53.636158Z",
     "shell.execute_reply": "2024-10-07T20:08:53.645394Z"
    },
    "trusted": false
   },
   "cell_type": "code",
   "source": "\"\"\"\n\nPreprocessing\n\n- Filter from [interactions] views with less than 300 second views\n- Filter [users] (user_id) who have less than 10 film views\n- Filter out [movies] (item_id) which have less than 10 film views\n\n\"\"\"",
   "execution_count": 10,
   "outputs": [
    {
     "execution_count": 10,
     "output_type": "execute_result",
     "data": {
      "text/plain": "'\\n\\nPreprocessing\\n\\n- Filter from [interactions] views with less than 300 second views\\n- Filter [users] (user_id) who have less than 10 film views\\n- Filter out [movies] (item_id) which have less than 10 film views\\n\\n'"
     },
     "metadata": {}
    }
   ]
  },
  {
   "metadata": {},
   "cell_type": "markdown",
   "source": "## <div style=\"padding: 30px;color:white;margin:10;font-size:60%;text-align:left;display:fill;border-radius:10px;background-color:#FFFFFF;overflow:hidden;background-color:#232834\"><b><span style='color:#686dec'>3 |</span></b> <b>Preprocessing</b></div>\n\n### <b><span style='color:#686dec'>1) Фильтруем случайные просмотры</span></b>\n\nНе будем использовать все данные, на первой стадий отфильруем случайные просмотры из `interactions`"
  },
  {
   "metadata": {
    "execution": {
     "iopub.status.busy": "2024-10-07T20:08:53.652588Z",
     "iopub.execute_input": "2024-10-07T20:08:53.653135Z",
     "iopub.status.idle": "2024-10-07T20:08:53.877158Z",
     "shell.execute_reply.started": "2024-10-07T20:08:53.653073Z",
     "shell.execute_reply": "2024-10-07T20:08:53.876177Z"
    },
    "trusted": false
   },
   "cell_type": "code",
   "source": "# Не будем использовать все данные, на первой стадий отфильруем случайные просмотры из interactions\ninteractions = interactions[interactions['total_dur'] >= 300]",
   "execution_count": 11,
   "outputs": []
  },
  {
   "metadata": {},
   "cell_type": "markdown",
   "source": "### <b><span style='color:#686dec'>2) Фильтрация пользователей</span></b>\n\nДалее отфильтруем конкретных фользователей из выборки, нас интересуют только те пользователи у которых 10 или больше просмотров"
  },
  {
   "metadata": {
    "execution": {
     "iopub.status.busy": "2024-10-07T20:08:53.878654Z",
     "iopub.execute_input": "2024-10-07T20:08:53.879040Z",
     "iopub.status.idle": "2024-10-07T20:08:55.880756Z",
     "shell.execute_reply.started": "2024-10-07T20:08:53.879000Z",
     "shell.execute_reply": "2024-10-07T20:08:55.879490Z"
    },
    "trusted": false
   },
   "cell_type": "code",
   "source": "user_interactions_count = interactions.groupby('user_id')[['item_id']].count().reset_index()\nfiltered_users = user_interactions_count[user_interactions_count['item_id'] >= 10][['user_id']]\ninteractions = filtered_users.merge(interactions, how='left')",
   "execution_count": 12,
   "outputs": []
  },
  {
   "metadata": {},
   "cell_type": "markdown",
   "source": "### <b><span style='color:#686dec'>3) Фильтрация фильмов</span></b>\n\nДалее будем фильтровать уже по фильмам, нас интересуют только фильмы у которых больше 10 просмотров вреди всех пользователей"
  },
  {
   "metadata": {
    "execution": {
     "iopub.status.busy": "2024-10-07T20:08:55.882373Z",
     "iopub.execute_input": "2024-10-07T20:08:55.882837Z",
     "iopub.status.idle": "2024-10-07T20:08:57.005819Z",
     "shell.execute_reply.started": "2024-10-07T20:08:55.882780Z",
     "shell.execute_reply": "2024-10-07T20:08:57.004484Z"
    },
    "trusted": false
   },
   "cell_type": "code",
   "source": "item_interactions_count = interactions.groupby('item_id')[['user_id']].count().reset_index()\nfiltered_items = item_interactions_count[item_interactions_count['user_id'] >= 10][['item_id']]\ninteractions = filtered_items.merge(interactions, how='left')",
   "execution_count": 13,
   "outputs": []
  },
  {
   "metadata": {},
   "cell_type": "markdown",
   "source": "## <div style=\"padding: 30px;color:white;margin:10;font-size:60%;text-align:left;display:fill;border-radius:10px;background-color:#FFFFFF;overflow:hidden;background-color:#232834\"><b><span style='color:#686dec'>4 |</span></b> <b>Train/Test Splitting</b></div>\n\n### <b><span style='color:#686dec'>Диапазоны времени</span></b>\n\nТак как мы будем разбивать выборку на части используя время, найдем диапазоны которые содержатся в данных"
  },
  {
   "metadata": {
    "execution": {
     "iopub.status.busy": "2024-10-07T20:08:57.007450Z",
     "iopub.execute_input": "2024-10-07T20:08:57.007945Z",
     "iopub.status.idle": "2024-10-07T20:08:58.295806Z",
     "shell.execute_reply.started": "2024-10-07T20:08:57.007889Z",
     "shell.execute_reply": "2024-10-07T20:08:58.294546Z"
    },
    "trusted": false
   },
   "cell_type": "code",
   "source": "max_date = interactions['last_watch_dt'].max()\nmin_date = interactions['last_watch_dt'].min()\n\nprint(f\"min дата в interactions: {min_date}\")\nprint(f\"max дата в interactions: {max_date}\")",
   "execution_count": 14,
   "outputs": [
    {
     "name": "stdout",
     "text": "min дата в interactions: 2021-03-13\nmax дата в interactions: 2021-08-22\n",
     "output_type": "stream"
    }
   ]
  },
  {
   "metadata": {},
   "cell_type": "markdown",
   "source": "- [test] : содержит последние 7 дней взаимодействий \n\n- [train_val] : train & validation dataset <= 7 days\n- [train_val] then split into two :\n    - [train] up to last 60 days of interactions (to test start date)\n    - [val] last 60 days of interactions (to test start date)\n"
  },
  {
   "metadata": {
    "execution": {
     "iopub.status.busy": "2024-10-07T20:08:58.297415Z",
     "iopub.execute_input": "2024-10-07T20:08:58.297800Z",
     "iopub.status.idle": "2024-10-07T20:09:00.765500Z",
     "shell.execute_reply.started": "2024-10-07T20:08:58.297759Z",
     "shell.execute_reply": "2024-10-07T20:09:00.764212Z"
    },
    "trusted": false
   },
   "cell_type": "code",
   "source": "test_threshold = max_date - pd.Timedelta(days=7)\nval_threshold = test_threshold - pd.Timedelta(days=60) # два месяца для обучения модели второго уровня\n\ntest = interactions[(interactions['last_watch_dt'] >= test_threshold)]\ntrain_val = interactions[(interactions['last_watch_dt'] < test_threshold)]\n\nval = train_val[(train_val['last_watch_dt'] >= val_threshold)]\ntrain = train_val[(train_val['last_watch_dt'] < val_threshold)]\n\nprint(f\"train: {train.shape}\")\nprint(f\"val: {val.shape}\")\nprint(f\"test: {test.shape}\")",
   "execution_count": 15,
   "outputs": [
    {
     "name": "stdout",
     "text": "train: (881660, 5)\nval: (1246263, 5)\ntest: (172593, 5)\n",
     "output_type": "stream"
    }
   ]
  },
  {
   "metadata": {},
   "cell_type": "markdown",
   "source": "## <div style=\"padding: 30px;color:white;margin:10;font-size:60%;text-align:left;display:fill;border-radius:10px;background-color:#FFFFFF;overflow:hidden;background-color:#232834\"><b><span style='color:#686dec'>5 |</span></b> <b>Stage 1 Model : BPR Matrix Decomposition </b></div>\n\n- [val] : must contain users found in [train]\n- [train] : used to train first level model\n\n- use [train] to create an initial selection of user recommendations\n  for each user we select 30 items for each user, stored in [pred_bpr]\n  \n- Having created recommendations using [train], we compare them with \n  the films they watched in the validation dataset (ie future) and \n  evaluate metrics"
  },
  {
   "metadata": {
    "execution": {
     "iopub.status.busy": "2024-10-07T20:09:00.777500Z",
     "iopub.execute_input": "2024-10-07T20:09:00.777897Z",
     "iopub.status.idle": "2024-10-07T20:09:00.935152Z",
     "shell.execute_reply.started": "2024-10-07T20:09:00.777857Z",
     "shell.execute_reply": "2024-10-07T20:09:00.933835Z"
    },
    "trusted": false
   },
   "cell_type": "code",
   "source": "# В val выборке должны быть пользователи которые были в train\nprint(val.shape)\nval = val[val['user_id'].isin(train['user_id'].unique())]\nprint(val.shape)",
   "execution_count": 17,
   "outputs": [
    {
     "name": "stdout",
     "text": "(1246263, 5)\n(694032, 5)\n",
     "output_type": "stream"
    }
   ]
  },
  {
   "metadata": {
    "execution": {
     "iopub.status.busy": "2024-10-07T20:09:00.936688Z",
     "iopub.execute_input": "2024-10-07T20:09:00.937110Z",
     "iopub.status.idle": "2024-10-07T20:09:11.758598Z",
     "shell.execute_reply.started": "2024-10-07T20:09:00.937068Z",
     "shell.execute_reply": "2024-10-07T20:09:11.757312Z"
    },
    "trusted": false
   },
   "cell_type": "code",
   "source": "# train model on [train]\nusers_id = list(np.sort(train.user_id.unique()))\nitems_train = list(train.item_id.unique())\nratings_train = list(train.watched_pct)\n\nrows_train = train.user_id.astype('category').cat.codes\ncols_train = train.item_id.astype('category').cat.codes\n\ntrain_sparse = sparse.csr_matrix((ratings_train, (rows_train, cols_train)), \n                                 shape=(len(users_id), len(items_train)))\n\nalgo = implicit.bpr.BayesianPersonalizedRanking(factors=50, \n                                                regularization=0.01, \n                                                iterations=50, \n                                                use_gpu=False)\nalgo.fit((train_sparse).astype('double'))",
   "execution_count": 18,
   "outputs": [
    {
     "output_type": "display_data",
     "data": {
      "text/plain": "  0%|          | 0/50 [00:00<?, ?it/s]",
      "application/vnd.jupyter.widget-view+json": {
       "version_major": 2,
       "version_minor": 0,
       "model_id": "520f72a7e62b4885b8142cd345ef48c6"
      }
     },
     "metadata": {}
    }
   ]
  },
  {
   "metadata": {
    "execution": {
     "iopub.status.busy": "2024-10-07T20:09:11.760545Z",
     "iopub.execute_input": "2024-10-07T20:09:11.760926Z",
     "iopub.status.idle": "2024-10-07T20:09:11.767981Z",
     "shell.execute_reply.started": "2024-10-07T20:09:11.760886Z",
     "shell.execute_reply": "2024-10-07T20:09:11.766237Z"
    },
    "trusted": false
   },
   "cell_type": "code",
   "source": "# Output [1] from first model; \n# user and item factorisation matrices\nuser_vecs = algo.user_factors\nitem_vecs = algo.item_factors",
   "execution_count": 19,
   "outputs": []
  },
  {
   "metadata": {
    "execution": {
     "iopub.status.busy": "2024-10-07T20:09:11.770619Z",
     "iopub.execute_input": "2024-10-07T20:09:11.771130Z",
     "iopub.status.idle": "2024-10-07T20:09:11.782877Z",
     "shell.execute_reply.started": "2024-10-07T20:09:11.771081Z",
     "shell.execute_reply": "2024-10-07T20:09:11.781494Z"
    },
    "trusted": false
   },
   "cell_type": "code",
   "source": "def predict(user_vecs, item_vecs, k=10):\n    \n    \"\"\"\n    \n    Helper function for matrix factorisation prediction\n    \n    \"\"\"\n    \n    id2user = dict(zip(rows_train, train.user_id))\n    id2item = dict(zip(cols_train, train.item_id))\n    scores = user_vecs.dot(item_vecs.T)\n\n    ind_part = np.argpartition(scores, -k + 1)[:, -k:].copy()\n    scores_not_sorted = np.take_along_axis(scores, ind_part, axis=1)\n    ind_sorted = np.argsort(scores_not_sorted, axis=1)\n    indices = np.take_along_axis(ind_part, ind_sorted, axis=1)\n    indices = np.flip(indices, 1)\n    preds = pd.DataFrame({\n        'user_id': range(user_vecs.shape[0]),\n        'preds': indices.tolist(),\n        })\n    preds['user_id'] = preds['user_id'].map(id2user)\n    preds['preds'] = preds['preds'].map(lambda inds: [id2item[i] for i in inds])\n    return preds",
   "execution_count": 20,
   "outputs": []
  },
  {
   "metadata": {
    "execution": {
     "iopub.status.busy": "2024-10-07T20:09:11.784624Z",
     "iopub.execute_input": "2024-10-07T20:09:11.785130Z",
     "iopub.status.idle": "2024-10-07T20:09:26.027183Z",
     "shell.execute_reply.started": "2024-10-07T20:09:11.785083Z",
     "shell.execute_reply": "2024-10-07T20:09:26.026000Z"
    },
    "trusted": false
   },
   "cell_type": "code",
   "source": "k=30\nval_user_history = val.groupby('user_id')[['item_id']].agg(lambda x: list(x))\npred_bpr = predict(user_vecs, item_vecs, k)\npred_bpr = val_user_history.merge(pred_bpr, how='left', on='user_id')\npred_bpr.head()",
   "execution_count": 21,
   "outputs": [
    {
     "execution_count": 21,
     "output_type": "execute_result",
     "data": {
      "text/plain": "   user_id                                            item_id  \\\n0        2  [242, 3628, 5819, 7106, 7921, 8482, 9164, 1077...   \n1       21  [308, 3784, 4495, 5077, 6384, 7102, 7571, 8251...   \n2       30  [1107, 2346, 2743, 3031, 7250, 9728, 9842, 112...   \n3       46                                            [10440]   \n4       60  [1179, 1343, 1590, 3550, 6044, 6606, 8612, 972...   \n\n                                               preds  \n0  [1267, 4475, 6470, 4072, 6738, 85, 3166, 9164,...  \n1  [849, 24, 1053, 11237, 14703, 8636, 12659, 496...  \n2  [142, 16201, 13865, 10440, 4880, 1465, 2303, 1...  \n3  [142, 4880, 6809, 10440, 8636, 5287, 1465, 999...  \n4  [4880, 13865, 7571, 4151, 1449, 598, 2657, 710...  ",
      "text/html": "<div>\n<style scoped>\n    .dataframe tbody tr th:only-of-type {\n        vertical-align: middle;\n    }\n\n    .dataframe tbody tr th {\n        vertical-align: top;\n    }\n\n    .dataframe thead th {\n        text-align: right;\n    }\n</style>\n<table border=\"1\" class=\"dataframe\">\n  <thead>\n    <tr style=\"text-align: right;\">\n      <th></th>\n      <th>user_id</th>\n      <th>item_id</th>\n      <th>preds</th>\n    </tr>\n  </thead>\n  <tbody>\n    <tr>\n      <th>0</th>\n      <td>2</td>\n      <td>[242, 3628, 5819, 7106, 7921, 8482, 9164, 1077...</td>\n      <td>[1267, 4475, 6470, 4072, 6738, 85, 3166, 9164,...</td>\n    </tr>\n    <tr>\n      <th>1</th>\n      <td>21</td>\n      <td>[308, 3784, 4495, 5077, 6384, 7102, 7571, 8251...</td>\n      <td>[849, 24, 1053, 11237, 14703, 8636, 12659, 496...</td>\n    </tr>\n    <tr>\n      <th>2</th>\n      <td>30</td>\n      <td>[1107, 2346, 2743, 3031, 7250, 9728, 9842, 112...</td>\n      <td>[142, 16201, 13865, 10440, 4880, 1465, 2303, 1...</td>\n    </tr>\n    <tr>\n      <th>3</th>\n      <td>46</td>\n      <td>[10440]</td>\n      <td>[142, 4880, 6809, 10440, 8636, 5287, 1465, 999...</td>\n    </tr>\n    <tr>\n      <th>4</th>\n      <td>60</td>\n      <td>[1179, 1343, 1590, 3550, 6044, 6606, 8612, 972...</td>\n      <td>[4880, 13865, 7571, 4151, 1449, 598, 2657, 710...</td>\n    </tr>\n  </tbody>\n</table>\n</div>"
     },
     "metadata": {}
    }
   ]
  },
  {
   "metadata": {},
   "cell_type": "markdown",
   "source": "### <b><span style='color:#686dec'>train/test пересечение</span></b>\n\nИмея рекемендации от первой модели (обученная на [train]), посмотрим на метрики совпадения между [train] и [val]"
  },
  {
   "metadata": {
    "execution": {
     "iopub.status.busy": "2024-10-07T20:09:26.028454Z",
     "iopub.execute_input": "2024-10-07T20:09:26.028805Z",
     "iopub.status.idle": "2024-10-07T20:09:26.042412Z",
     "shell.execute_reply.started": "2024-10-07T20:09:26.028767Z",
     "shell.execute_reply": "2024-10-07T20:09:26.041008Z"
    },
    "trusted": false
   },
   "cell_type": "code",
   "source": "def recall(df: pd.DataFrame, pred_col='preds', true_col='item_id', k=30) -> float:\n    recall_values = []\n    for _, row in df.iterrows():\n      num_relevant = len(set(row[true_col]) & set(row[pred_col][:k]))\n      num_true = len(row[true_col])\n      recall_values.append(num_relevant / num_true)\n    return np.mean(recall_values)\n\ndef precision(df: pd.DataFrame, pred_col='preds', true_col='item_id', k=30) -> float:\n    precision_values = []\n    for _, row in df.iterrows():\n      num_relevant = len(set(row[true_col]) & set(row[pred_col][:k]))\n      num_true = min(k, len(row[true_col]))\n      precision_values.append(num_relevant / num_true)\n    return np.mean(precision_values)\n\ndef mrr(df: pd.DataFrame, pred_col='preds', true_col='item_id', k=30) -> float:\n    mrr_values = []\n    for _, row in df.iterrows():\n      intersection = set(row[true_col]) & set(row[pred_col][:k])\n      user_mrr = 0\n      if len(intersection) > 0:\n          for item in intersection:\n              user_mrr = max(user_mrr, 1 / (row[pred_col].index(item) + 1))\n      mrr_values.append(user_mrr)\n    return np.mean(mrr_values)",
   "execution_count": 22,
   "outputs": []
  },
  {
   "metadata": {
    "execution": {
     "iopub.status.busy": "2024-10-07T20:09:26.043868Z",
     "iopub.execute_input": "2024-10-07T20:09:26.044273Z",
     "iopub.status.idle": "2024-10-07T20:09:41.468129Z",
     "shell.execute_reply.started": "2024-10-07T20:09:26.044232Z",
     "shell.execute_reply": "2024-10-07T20:09:41.466894Z"
    },
    "trusted": false
   },
   "cell_type": "code",
   "source": "print('recall',round(recall(pred_bpr),3))\nprint('precision',round(precision(pred_bpr),3))\nprint('mrr',round(mrr(pred_bpr),3))",
   "execution_count": 23,
   "outputs": [
    {
     "name": "stdout",
     "text": "recall 0.118\nprecision 0.119\nmrr 0.136\n",
     "output_type": "stream"
    }
   ]
  },
  {
   "metadata": {},
   "cell_type": "markdown",
   "source": "### <b><span style='color:#686dec'>Подготовка кандидатов 2й модели</span></b>\n\nК предсказаниям добавим ранк порятка самого предсказания "
  },
  {
   "metadata": {
    "execution": {
     "iopub.status.busy": "2024-10-07T20:09:41.469677Z",
     "iopub.execute_input": "2024-10-07T20:09:41.470094Z",
     "iopub.status.idle": "2024-10-07T20:09:41.807605Z",
     "shell.execute_reply.started": "2024-10-07T20:09:41.470051Z",
     "shell.execute_reply": "2024-10-07T20:09:41.806218Z"
    },
    "trusted": false
   },
   "cell_type": "code",
   "source": "# генерируем предказания\ncandidates = pred_bpr[['user_id', 'preds']]\ncandidates = candidates.explode('preds').rename(columns={'preds': 'item_id'})\ncandidates['rank'] = candidates.groupby('user_id').cumcount() + 1\ncandidates.head()",
   "execution_count": 24,
   "outputs": [
    {
     "execution_count": 24,
     "output_type": "execute_result",
     "data": {
      "text/plain": "   user_id item_id  rank\n0        2    1267     1\n0        2    4475     2\n0        2    6470     3\n0        2    4072     4\n0        2    6738     5",
      "text/html": "<div>\n<style scoped>\n    .dataframe tbody tr th:only-of-type {\n        vertical-align: middle;\n    }\n\n    .dataframe tbody tr th {\n        vertical-align: top;\n    }\n\n    .dataframe thead th {\n        text-align: right;\n    }\n</style>\n<table border=\"1\" class=\"dataframe\">\n  <thead>\n    <tr style=\"text-align: right;\">\n      <th></th>\n      <th>user_id</th>\n      <th>item_id</th>\n      <th>rank</th>\n    </tr>\n  </thead>\n  <tbody>\n    <tr>\n      <th>0</th>\n      <td>2</td>\n      <td>1267</td>\n      <td>1</td>\n    </tr>\n    <tr>\n      <th>0</th>\n      <td>2</td>\n      <td>4475</td>\n      <td>2</td>\n    </tr>\n    <tr>\n      <th>0</th>\n      <td>2</td>\n      <td>6470</td>\n      <td>3</td>\n    </tr>\n    <tr>\n      <th>0</th>\n      <td>2</td>\n      <td>4072</td>\n      <td>4</td>\n    </tr>\n    <tr>\n      <th>0</th>\n      <td>2</td>\n      <td>6738</td>\n      <td>5</td>\n    </tr>\n  </tbody>\n</table>\n</div>"
     },
     "metadata": {}
    }
   ]
  },
  {
   "metadata": {},
   "cell_type": "markdown",
   "source": "## <div style=\"padding: 30px;color:white;margin:10;font-size:60%;text-align:left;display:fill;border-radius:10px;background-color:#FFFFFF;overflow:hidden;background-color:#232834\"><b><span style='color:#686dec'>6 |</span></b> <b>Stage 2 Model : Gradient Biositng Classifier</b></div>\n\n- Ставим задачу как `бинарную классификацию`, будем предсказывать на сколько `user_id` понравится фильм которые мы определили в кандидаты\n- Мы имеем валидационная выборку; знаем какие фильмы они посмотрят в будуйщем, относительно `train`\n- Мы так же имеем предсказание рекомендации \n- Выбираем `CatBoostClassifier`, так как много категориальных признаков\n- Матпица фичей: `признаки юзера`, `признаки айтема`, `взаимные признаки`,`ранки/эмбеддинги` \n\n### <b><span style='color:#686dec'>Собираем выборку</span></b>\n\nМы знаем что в будуйщем он посмотрит фильмы из `val`\n\n- `target = 1` Позитивные взаимодействия = все что пользователь посмотрел из `кандидатов bpr`(первая модель)"
  },
  {
   "metadata": {
    "execution": {
     "iopub.status.busy": "2024-10-07T20:09:41.818161Z",
     "iopub.execute_input": "2024-10-07T20:09:41.818607Z",
     "iopub.status.idle": "2024-10-07T20:09:43.186015Z",
     "shell.execute_reply.started": "2024-10-07T20:09:41.818549Z",
     "shell.execute_reply": "2024-10-07T20:09:43.184701Z"
    },
    "trusted": false
   },
   "cell_type": "code",
   "source": "# предсказанные кандидаты (item_id) действительно находятся \n# в валидационной выборке (future) у пользователя (user_id)\npos = candidates.merge(val,\n                       on=['user_id', 'item_id'],\n                       how='inner')\n\npos['target'] = 1\npos.head()",
   "execution_count": 26,
   "outputs": [
    {
     "execution_count": 26,
     "output_type": "execute_result",
     "data": {
      "text/plain": "   user_id item_id  rank last_watch_dt  total_dur  watched_pct  target\n0        2    9164     8    2021-06-23       6650        100.0       1\n1        2    8482    11    2021-06-18       5886        100.0       1\n2       46   10440     4    2021-07-05       7449         20.0       1\n3       81   10440     4    2021-06-16       5940         20.0       1\n4       81    6317     9    2021-06-25       3837         72.0       1",
      "text/html": "<div>\n<style scoped>\n    .dataframe tbody tr th:only-of-type {\n        vertical-align: middle;\n    }\n\n    .dataframe tbody tr th {\n        vertical-align: top;\n    }\n\n    .dataframe thead th {\n        text-align: right;\n    }\n</style>\n<table border=\"1\" class=\"dataframe\">\n  <thead>\n    <tr style=\"text-align: right;\">\n      <th></th>\n      <th>user_id</th>\n      <th>item_id</th>\n      <th>rank</th>\n      <th>last_watch_dt</th>\n      <th>total_dur</th>\n      <th>watched_pct</th>\n      <th>target</th>\n    </tr>\n  </thead>\n  <tbody>\n    <tr>\n      <th>0</th>\n      <td>2</td>\n      <td>9164</td>\n      <td>8</td>\n      <td>2021-06-23</td>\n      <td>6650</td>\n      <td>100.0</td>\n      <td>1</td>\n    </tr>\n    <tr>\n      <th>1</th>\n      <td>2</td>\n      <td>8482</td>\n      <td>11</td>\n      <td>2021-06-18</td>\n      <td>5886</td>\n      <td>100.0</td>\n      <td>1</td>\n    </tr>\n    <tr>\n      <th>2</th>\n      <td>46</td>\n      <td>10440</td>\n      <td>4</td>\n      <td>2021-07-05</td>\n      <td>7449</td>\n      <td>20.0</td>\n      <td>1</td>\n    </tr>\n    <tr>\n      <th>3</th>\n      <td>81</td>\n      <td>10440</td>\n      <td>4</td>\n      <td>2021-06-16</td>\n      <td>5940</td>\n      <td>20.0</td>\n      <td>1</td>\n    </tr>\n    <tr>\n      <th>4</th>\n      <td>81</td>\n      <td>6317</td>\n      <td>9</td>\n      <td>2021-06-25</td>\n      <td>3837</td>\n      <td>72.0</td>\n      <td>1</td>\n    </tr>\n  </tbody>\n</table>\n</div>"
     },
     "metadata": {}
    }
   ]
  },
  {
   "metadata": {},
   "cell_type": "markdown",
   "source": "- `target = 0` Негативные взаимодействия = все что пользователь НЕ посмотрел из `кандидатов bpr` (первая модель). Добавим сэмплирование для негативного класса, чтобы соблюсти баланс классов"
  },
  {
   "metadata": {
    "execution": {
     "iopub.status.busy": "2024-10-07T20:09:43.187549Z",
     "iopub.execute_input": "2024-10-07T20:09:43.187942Z",
     "iopub.status.idle": "2024-10-07T20:09:44.557504Z",
     "shell.execute_reply.started": "2024-10-07T20:09:43.187904Z",
     "shell.execute_reply": "2024-10-07T20:09:44.556277Z"
    },
    "trusted": false
   },
   "cell_type": "code",
   "source": "# предсказанные фильмы они не смотрели в валидационной выборке\nneg = candidates.set_index(['user_id', 'item_id'])\\\n        .join(val.set_index(['user_id', 'item_id']))\n\nneg = neg[neg['watched_pct'].isnull()].reset_index()\nneg = neg.sample(frac=0.07)\nneg['target'] = 0\nneg.head()",
   "execution_count": 27,
   "outputs": [
    {
     "execution_count": 27,
     "output_type": "execute_result",
     "data": {
      "text/plain": "         user_id  item_id  rank last_watch_dt  total_dur  watched_pct  target\n453077    275088     1112    17           NaN        NaN          NaN       0\n222321    137576    13191    21           NaN        NaN          NaN       0\n313583    192361    13193    30           NaN        NaN          NaN       0\n1765573  1069563     5658    11           NaN        NaN          NaN       0\n52667      32283     8447     7           NaN        NaN          NaN       0",
      "text/html": "<div>\n<style scoped>\n    .dataframe tbody tr th:only-of-type {\n        vertical-align: middle;\n    }\n\n    .dataframe tbody tr th {\n        vertical-align: top;\n    }\n\n    .dataframe thead th {\n        text-align: right;\n    }\n</style>\n<table border=\"1\" class=\"dataframe\">\n  <thead>\n    <tr style=\"text-align: right;\">\n      <th></th>\n      <th>user_id</th>\n      <th>item_id</th>\n      <th>rank</th>\n      <th>last_watch_dt</th>\n      <th>total_dur</th>\n      <th>watched_pct</th>\n      <th>target</th>\n    </tr>\n  </thead>\n  <tbody>\n    <tr>\n      <th>453077</th>\n      <td>275088</td>\n      <td>1112</td>\n      <td>17</td>\n      <td>NaN</td>\n      <td>NaN</td>\n      <td>NaN</td>\n      <td>0</td>\n    </tr>\n    <tr>\n      <th>222321</th>\n      <td>137576</td>\n      <td>13191</td>\n      <td>21</td>\n      <td>NaN</td>\n      <td>NaN</td>\n      <td>NaN</td>\n      <td>0</td>\n    </tr>\n    <tr>\n      <th>313583</th>\n      <td>192361</td>\n      <td>13193</td>\n      <td>30</td>\n      <td>NaN</td>\n      <td>NaN</td>\n      <td>NaN</td>\n      <td>0</td>\n    </tr>\n    <tr>\n      <th>1765573</th>\n      <td>1069563</td>\n      <td>5658</td>\n      <td>11</td>\n      <td>NaN</td>\n      <td>NaN</td>\n      <td>NaN</td>\n      <td>0</td>\n    </tr>\n    <tr>\n      <th>52667</th>\n      <td>32283</td>\n      <td>8447</td>\n      <td>7</td>\n      <td>NaN</td>\n      <td>NaN</td>\n      <td>NaN</td>\n      <td>0</td>\n    </tr>\n  </tbody>\n</table>\n</div>"
     },
     "metadata": {}
    }
   ]
  },
  {
   "metadata": {},
   "cell_type": "markdown",
   "source": "### <b><span style='color:#686dec'>Формируем выборки для 2й модели</span></b>\n- Важно! Делим по пользователям (`user_id`), а не по дате\n- Для негативных взаимодействий нет даты\n- Проверяем устойчивость бустинга относительно новых (холодных) пользователей\n\n\n\n- `ctb_train_users` (используется для обучения классификатора, при обучений будет использоваться `ctb_eval_users` для валидации во время обучения градиентного бустинга \n- `ctb_test_users` выборка для отложенной оценки метрик "
  },
  {
   "metadata": {
    "execution": {
     "iopub.status.busy": "2024-10-07T20:09:44.559192Z",
     "iopub.execute_input": "2024-10-07T20:09:44.559673Z",
     "iopub.status.idle": "2024-10-07T20:09:44.585939Z",
     "shell.execute_reply.started": "2024-10-07T20:09:44.559618Z",
     "shell.execute_reply": "2024-10-07T20:09:44.584801Z"
    },
    "trusted": false
   },
   "cell_type": "code",
   "source": "'''\n\nSplit the [val] user_id into two parts for the second model\n\n'''\n\nctb_train_users, ctb_test_users = train_test_split(val['user_id'].unique(),\n                                                  random_state=1,\n                                                  test_size=0.2)\n\n# выделяем 10% под механизм early stopping\nctb_train_users, ctb_eval_users = train_test_split(ctb_train_users,\n                                                  random_state=1,\n                                                  test_size=0.1)\n\nprint(ctb_train_users)\nprint(ctb_eval_users)\nprint(ctb_test_users)",
   "execution_count": 28,
   "outputs": [
    {
     "name": "stdout",
     "text": "[ 769823 1042326  885613 ...  244793  190557  420273]\n[369391 116371 382606 ... 696553 200712 264251]\n[336196 145367 754473 ... 415363 308596 533105]\n",
     "output_type": "stream"
    }
   ]
  },
  {
   "metadata": {},
   "cell_type": "markdown",
   "source": "### <b><span style='color:#686dec'>Формируем Фичи</span></b>\n\n- В этом ноутбуке рассмотрен бейзлайн с минимальной обработкой признаков - оставляем ее для Catboost\n- Выбираем простые категориальные признаки, которые не нужно предобрабатывать\n- Как признак также используем `rank` от модели 1 этапа\n- в первой части добавляем колонки ('user_id', 'item_id', 'rank', 'target')"
  },
  {
   "metadata": {
    "execution": {
     "iopub.status.busy": "2024-10-07T20:09:44.594850Z",
     "iopub.execute_input": "2024-10-07T20:09:44.595297Z",
     "iopub.status.idle": "2024-10-07T20:09:44.933919Z",
     "shell.execute_reply.started": "2024-10-07T20:09:44.595256Z",
     "shell.execute_reply": "2024-10-07T20:09:44.932527Z"
    },
    "trusted": false
   },
   "cell_type": "code",
   "source": "select_col = ['user_id', 'item_id', 'rank', 'target']\n\n# Catboost train\nctb_train = shuffle(\n    pd.concat([\n        pos[pos['user_id'].isin(ctb_train_users)],\n        neg[neg['user_id'].isin(ctb_train_users)]\n])[select_col]\n)\ndisplay(ctb_train.head())\n\n\n# Catboost test\nctb_test = shuffle(\n    pd.concat([\n        pos[pos['user_id'].isin(ctb_test_users)],\n        neg[neg['user_id'].isin(ctb_test_users)]\n])[select_col]\n)\n\nctb_eval = shuffle(\n    pd.concat([\n        pos[pos['user_id'].isin(ctb_eval_users)],\n        neg[neg['user_id'].isin(ctb_eval_users)]\n])[select_col]\n)",
   "execution_count": 29,
   "outputs": [
    {
     "output_type": "display_data",
     "data": {
      "text/plain": "         user_id item_id  rank  target\n860476    520330    1348    23       0\n1345100   813295    2657    11       0\n715585    431557   13452    21       0\n1676873  1015851    9986    27       0\n26785     451018   15297    15       1",
      "text/html": "<div>\n<style scoped>\n    .dataframe tbody tr th:only-of-type {\n        vertical-align: middle;\n    }\n\n    .dataframe tbody tr th {\n        vertical-align: top;\n    }\n\n    .dataframe thead th {\n        text-align: right;\n    }\n</style>\n<table border=\"1\" class=\"dataframe\">\n  <thead>\n    <tr style=\"text-align: right;\">\n      <th></th>\n      <th>user_id</th>\n      <th>item_id</th>\n      <th>rank</th>\n      <th>target</th>\n    </tr>\n  </thead>\n  <tbody>\n    <tr>\n      <th>860476</th>\n      <td>520330</td>\n      <td>1348</td>\n      <td>23</td>\n      <td>0</td>\n    </tr>\n    <tr>\n      <th>1345100</th>\n      <td>813295</td>\n      <td>2657</td>\n      <td>11</td>\n      <td>0</td>\n    </tr>\n    <tr>\n      <th>715585</th>\n      <td>431557</td>\n      <td>13452</td>\n      <td>21</td>\n      <td>0</td>\n    </tr>\n    <tr>\n      <th>1676873</th>\n      <td>1015851</td>\n      <td>9986</td>\n      <td>27</td>\n      <td>0</td>\n    </tr>\n    <tr>\n      <th>26785</th>\n      <td>451018</td>\n      <td>15297</td>\n      <td>15</td>\n      <td>1</td>\n    </tr>\n  </tbody>\n</table>\n</div>"
     },
     "metadata": {}
    }
   ]
  },
  {
   "metadata": {},
   "cell_type": "markdown",
   "source": "Добавляем признаки пользователей и фильмов для тех же выборок"
  },
  {
   "metadata": {
    "execution": {
     "iopub.status.busy": "2024-10-07T20:09:44.935355Z",
     "iopub.execute_input": "2024-10-07T20:09:44.935722Z",
     "iopub.status.idle": "2024-10-07T20:09:45.541979Z",
     "shell.execute_reply.started": "2024-10-07T20:09:44.935685Z",
     "shell.execute_reply": "2024-10-07T20:09:45.540625Z"
    },
    "trusted": false
   },
   "cell_type": "code",
   "source": "'''\n\nAdd User and Item Features to [ctb_train] & [ctb_eval]\n\n- [ctb_test] will be defined later\n\n'''\n\nuser_col = ['user_id', 'age', 'income', 'sex', 'kids_flg']\nitem_col = ['item_id', 'content_type', 'countries', 'for_kids', 'age_rating', 'studios']\n\n# train   \ntrain_feat = (ctb_train\n              .merge(users[user_col], on=['user_id'], how='left')\n              .merge(items[item_col], on=['item_id'], how='left'))\n\n# evaluation dataset with train for early stopping\neval_feat = (ctb_eval\n             .merge(users[user_col], on=['user_id'], how='left')\n             .merge(items[item_col], on=['item_id'], how='left'))\n\ntrain_feat.head()",
   "execution_count": 30,
   "outputs": [
    {
     "execution_count": 30,
     "output_type": "execute_result",
     "data": {
      "text/plain": "   user_id item_id  rank  target        age        income  sex  kids_flg  \\\n0   520330    1348    23       0  age_25_34  income_40_60    Ж       0.0   \n1   813295    2657    11       0        NaN           NaN  NaN       NaN   \n2   431557   13452    21       0  age_45_54  income_20_40    М       1.0   \n3  1015851    9986    27       0  age_25_34  income_40_60    Ж       1.0   \n4   451018   15297    15       1  age_35_44  income_60_90    Ж       1.0   \n\n  content_type         countries  for_kids  age_rating studios  \n0         film               США       NaN        16.0     NaN  \n1       series            Россия       NaN        16.0     NaN  \n2         film            Россия       0.0        18.0     NaN  \n3       series  Республика Корея       NaN        16.0     NaN  \n4       series            Россия       NaN        18.0     NaN  ",
      "text/html": "<div>\n<style scoped>\n    .dataframe tbody tr th:only-of-type {\n        vertical-align: middle;\n    }\n\n    .dataframe tbody tr th {\n        vertical-align: top;\n    }\n\n    .dataframe thead th {\n        text-align: right;\n    }\n</style>\n<table border=\"1\" class=\"dataframe\">\n  <thead>\n    <tr style=\"text-align: right;\">\n      <th></th>\n      <th>user_id</th>\n      <th>item_id</th>\n      <th>rank</th>\n      <th>target</th>\n      <th>age</th>\n      <th>income</th>\n      <th>sex</th>\n      <th>kids_flg</th>\n      <th>content_type</th>\n      <th>countries</th>\n      <th>for_kids</th>\n      <th>age_rating</th>\n      <th>studios</th>\n    </tr>\n  </thead>\n  <tbody>\n    <tr>\n      <th>0</th>\n      <td>520330</td>\n      <td>1348</td>\n      <td>23</td>\n      <td>0</td>\n      <td>age_25_34</td>\n      <td>income_40_60</td>\n      <td>Ж</td>\n      <td>0.0</td>\n      <td>film</td>\n      <td>США</td>\n      <td>NaN</td>\n      <td>16.0</td>\n      <td>NaN</td>\n    </tr>\n    <tr>\n      <th>1</th>\n      <td>813295</td>\n      <td>2657</td>\n      <td>11</td>\n      <td>0</td>\n      <td>NaN</td>\n      <td>NaN</td>\n      <td>NaN</td>\n      <td>NaN</td>\n      <td>series</td>\n      <td>Россия</td>\n      <td>NaN</td>\n      <td>16.0</td>\n      <td>NaN</td>\n    </tr>\n    <tr>\n      <th>2</th>\n      <td>431557</td>\n      <td>13452</td>\n      <td>21</td>\n      <td>0</td>\n      <td>age_45_54</td>\n      <td>income_20_40</td>\n      <td>М</td>\n      <td>1.0</td>\n      <td>film</td>\n      <td>Россия</td>\n      <td>0.0</td>\n      <td>18.0</td>\n      <td>NaN</td>\n    </tr>\n    <tr>\n      <th>3</th>\n      <td>1015851</td>\n      <td>9986</td>\n      <td>27</td>\n      <td>0</td>\n      <td>age_25_34</td>\n      <td>income_40_60</td>\n      <td>Ж</td>\n      <td>1.0</td>\n      <td>series</td>\n      <td>Республика Корея</td>\n      <td>NaN</td>\n      <td>16.0</td>\n      <td>NaN</td>\n    </tr>\n    <tr>\n      <th>4</th>\n      <td>451018</td>\n      <td>15297</td>\n      <td>15</td>\n      <td>1</td>\n      <td>age_35_44</td>\n      <td>income_60_90</td>\n      <td>Ж</td>\n      <td>1.0</td>\n      <td>series</td>\n      <td>Россия</td>\n      <td>NaN</td>\n      <td>18.0</td>\n      <td>NaN</td>\n    </tr>\n  </tbody>\n</table>\n</div>"
     },
     "metadata": {}
    }
   ]
  },
  {
   "metadata": {
    "execution": {
     "iopub.status.busy": "2024-10-07T20:09:45.543559Z",
     "iopub.execute_input": "2024-10-07T20:09:45.544042Z",
     "iopub.status.idle": "2024-10-07T20:09:45.579699Z",
     "shell.execute_reply.started": "2024-10-07T20:09:45.543997Z",
     "shell.execute_reply": "2024-10-07T20:09:45.578496Z"
    },
    "trusted": false
   },
   "cell_type": "code",
   "source": "'''\n\nDefine column information for model \n\n- drop columns [user_id], [item_id]\n- target column: [target]\n- categorical columns: [age] [income] [sex] [content_type] [countries] [studios]\n\n'''\n\ndrop_col = ['user_id', 'item_id']\ntarget_col = ['target']\ncat_col = ['age', 'income', 'sex', 'content_type', 'countries', 'studios']\n\nX_train, y_train = train_feat.drop(drop_col + target_col, axis=1), train_feat[target_col]\nX_val, y_val = eval_feat.drop(drop_col + target_col, axis=1), eval_feat[target_col]\nX_train.shape, y_train.shape, X_val.shape, y_val.shape\nX_train.head()",
   "execution_count": 31,
   "outputs": [
    {
     "execution_count": 31,
     "output_type": "execute_result",
     "data": {
      "text/plain": "   rank        age        income  sex  kids_flg content_type  \\\n0    23  age_25_34  income_40_60    Ж       0.0         film   \n1    11        NaN           NaN  NaN       NaN       series   \n2    21  age_45_54  income_20_40    М       1.0         film   \n3    27  age_25_34  income_40_60    Ж       1.0       series   \n4    15  age_35_44  income_60_90    Ж       1.0       series   \n\n          countries  for_kids  age_rating studios  \n0               США       NaN        16.0     NaN  \n1            Россия       NaN        16.0     NaN  \n2            Россия       0.0        18.0     NaN  \n3  Республика Корея       NaN        16.0     NaN  \n4            Россия       NaN        18.0     NaN  ",
      "text/html": "<div>\n<style scoped>\n    .dataframe tbody tr th:only-of-type {\n        vertical-align: middle;\n    }\n\n    .dataframe tbody tr th {\n        vertical-align: top;\n    }\n\n    .dataframe thead th {\n        text-align: right;\n    }\n</style>\n<table border=\"1\" class=\"dataframe\">\n  <thead>\n    <tr style=\"text-align: right;\">\n      <th></th>\n      <th>rank</th>\n      <th>age</th>\n      <th>income</th>\n      <th>sex</th>\n      <th>kids_flg</th>\n      <th>content_type</th>\n      <th>countries</th>\n      <th>for_kids</th>\n      <th>age_rating</th>\n      <th>studios</th>\n    </tr>\n  </thead>\n  <tbody>\n    <tr>\n      <th>0</th>\n      <td>23</td>\n      <td>age_25_34</td>\n      <td>income_40_60</td>\n      <td>Ж</td>\n      <td>0.0</td>\n      <td>film</td>\n      <td>США</td>\n      <td>NaN</td>\n      <td>16.0</td>\n      <td>NaN</td>\n    </tr>\n    <tr>\n      <th>1</th>\n      <td>11</td>\n      <td>NaN</td>\n      <td>NaN</td>\n      <td>NaN</td>\n      <td>NaN</td>\n      <td>series</td>\n      <td>Россия</td>\n      <td>NaN</td>\n      <td>16.0</td>\n      <td>NaN</td>\n    </tr>\n    <tr>\n      <th>2</th>\n      <td>21</td>\n      <td>age_45_54</td>\n      <td>income_20_40</td>\n      <td>М</td>\n      <td>1.0</td>\n      <td>film</td>\n      <td>Россия</td>\n      <td>0.0</td>\n      <td>18.0</td>\n      <td>NaN</td>\n    </tr>\n    <tr>\n      <th>3</th>\n      <td>27</td>\n      <td>age_25_34</td>\n      <td>income_40_60</td>\n      <td>Ж</td>\n      <td>1.0</td>\n      <td>series</td>\n      <td>Республика Корея</td>\n      <td>NaN</td>\n      <td>16.0</td>\n      <td>NaN</td>\n    </tr>\n    <tr>\n      <th>4</th>\n      <td>15</td>\n      <td>age_35_44</td>\n      <td>income_60_90</td>\n      <td>Ж</td>\n      <td>1.0</td>\n      <td>series</td>\n      <td>Россия</td>\n      <td>NaN</td>\n      <td>18.0</td>\n      <td>NaN</td>\n    </tr>\n  </tbody>\n</table>\n</div>"
     },
     "metadata": {}
    }
   ]
  },
  {
   "metadata": {
    "execution": {
     "iopub.status.busy": "2024-10-07T20:09:45.581193Z",
     "iopub.execute_input": "2024-10-07T20:09:45.581676Z",
     "iopub.status.idle": "2024-10-07T20:09:46.003857Z",
     "shell.execute_reply.started": "2024-10-07T20:09:45.581632Z",
     "shell.execute_reply": "2024-10-07T20:09:46.002520Z"
    },
    "trusted": false
   },
   "cell_type": "code",
   "source": "# fillna for catboost with the most frequent value\nX_train = X_train.fillna(X_train.mode().iloc[0])\n\n# fillna for catboost with the most frequent value\nX_val = X_val.fillna(X_train.mode().iloc[0])",
   "execution_count": 32,
   "outputs": []
  },
  {
   "metadata": {
    "execution": {
     "iopub.status.busy": "2024-10-07T20:09:46.005614Z",
     "iopub.execute_input": "2024-10-07T20:09:46.006131Z",
     "iopub.status.idle": "2024-10-07T20:09:46.027151Z",
     "shell.execute_reply.started": "2024-10-07T20:09:46.006078Z",
     "shell.execute_reply": "2024-10-07T20:09:46.025896Z"
    },
    "trusted": false
   },
   "cell_type": "code",
   "source": "X_train.head()",
   "execution_count": 33,
   "outputs": [
    {
     "execution_count": 33,
     "output_type": "execute_result",
     "data": {
      "text/plain": "   rank        age        income sex  kids_flg content_type         countries  \\\n0    23  age_25_34  income_40_60   Ж       0.0         film               США   \n1    11  age_35_44  income_20_40   М       0.0       series            Россия   \n2    21  age_45_54  income_20_40   М       1.0         film            Россия   \n3    27  age_25_34  income_40_60   Ж       1.0       series  Республика Корея   \n4    15  age_35_44  income_60_90   Ж       1.0       series            Россия   \n\n   for_kids  age_rating studios  \n0       0.0        16.0     HBO  \n1       0.0        16.0     HBO  \n2       0.0        18.0     HBO  \n3       0.0        16.0     HBO  \n4       0.0        18.0     HBO  ",
      "text/html": "<div>\n<style scoped>\n    .dataframe tbody tr th:only-of-type {\n        vertical-align: middle;\n    }\n\n    .dataframe tbody tr th {\n        vertical-align: top;\n    }\n\n    .dataframe thead th {\n        text-align: right;\n    }\n</style>\n<table border=\"1\" class=\"dataframe\">\n  <thead>\n    <tr style=\"text-align: right;\">\n      <th></th>\n      <th>rank</th>\n      <th>age</th>\n      <th>income</th>\n      <th>sex</th>\n      <th>kids_flg</th>\n      <th>content_type</th>\n      <th>countries</th>\n      <th>for_kids</th>\n      <th>age_rating</th>\n      <th>studios</th>\n    </tr>\n  </thead>\n  <tbody>\n    <tr>\n      <th>0</th>\n      <td>23</td>\n      <td>age_25_34</td>\n      <td>income_40_60</td>\n      <td>Ж</td>\n      <td>0.0</td>\n      <td>film</td>\n      <td>США</td>\n      <td>0.0</td>\n      <td>16.0</td>\n      <td>HBO</td>\n    </tr>\n    <tr>\n      <th>1</th>\n      <td>11</td>\n      <td>age_35_44</td>\n      <td>income_20_40</td>\n      <td>М</td>\n      <td>0.0</td>\n      <td>series</td>\n      <td>Россия</td>\n      <td>0.0</td>\n      <td>16.0</td>\n      <td>HBO</td>\n    </tr>\n    <tr>\n      <th>2</th>\n      <td>21</td>\n      <td>age_45_54</td>\n      <td>income_20_40</td>\n      <td>М</td>\n      <td>1.0</td>\n      <td>film</td>\n      <td>Россия</td>\n      <td>0.0</td>\n      <td>18.0</td>\n      <td>HBO</td>\n    </tr>\n    <tr>\n      <th>3</th>\n      <td>27</td>\n      <td>age_25_34</td>\n      <td>income_40_60</td>\n      <td>Ж</td>\n      <td>1.0</td>\n      <td>series</td>\n      <td>Республика Корея</td>\n      <td>0.0</td>\n      <td>16.0</td>\n      <td>HBO</td>\n    </tr>\n    <tr>\n      <th>4</th>\n      <td>15</td>\n      <td>age_35_44</td>\n      <td>income_60_90</td>\n      <td>Ж</td>\n      <td>1.0</td>\n      <td>series</td>\n      <td>Россия</td>\n      <td>0.0</td>\n      <td>18.0</td>\n      <td>HBO</td>\n    </tr>\n  </tbody>\n</table>\n</div>"
     },
     "metadata": {}
    }
   ]
  },
  {
   "metadata": {
    "execution": {
     "iopub.status.busy": "2024-10-07T20:09:46.028579Z",
     "iopub.execute_input": "2024-10-07T20:09:46.029157Z",
     "iopub.status.idle": "2024-10-07T20:09:46.040561Z",
     "shell.execute_reply.started": "2024-10-07T20:09:46.029115Z",
     "shell.execute_reply": "2024-10-07T20:09:46.039272Z"
    },
    "trusted": false
   },
   "cell_type": "code",
   "source": "y_train.head()",
   "execution_count": 34,
   "outputs": [
    {
     "execution_count": 34,
     "output_type": "execute_result",
     "data": {
      "text/plain": "   target\n0       0\n1       0\n2       0\n3       0\n4       1",
      "text/html": "<div>\n<style scoped>\n    .dataframe tbody tr th:only-of-type {\n        vertical-align: middle;\n    }\n\n    .dataframe tbody tr th {\n        vertical-align: top;\n    }\n\n    .dataframe thead th {\n        text-align: right;\n    }\n</style>\n<table border=\"1\" class=\"dataframe\">\n  <thead>\n    <tr style=\"text-align: right;\">\n      <th></th>\n      <th>target</th>\n    </tr>\n  </thead>\n  <tbody>\n    <tr>\n      <th>0</th>\n      <td>0</td>\n    </tr>\n    <tr>\n      <th>1</th>\n      <td>0</td>\n    </tr>\n    <tr>\n      <th>2</th>\n      <td>0</td>\n    </tr>\n    <tr>\n      <th>3</th>\n      <td>0</td>\n    </tr>\n    <tr>\n      <th>4</th>\n      <td>1</td>\n    </tr>\n  </tbody>\n</table>\n</div>"
     },
     "metadata": {}
    }
   ]
  },
  {
   "metadata": {},
   "cell_type": "markdown",
   "source": "### <b><span style='color:#686dec'>Обучаем Модель 2го Этапа</span></b>\n\n- аналогично 1 этапу, предполагаем что оптимальные гиперпараметры уже выбраны\n- используем только механизм early_stopping для выбора оптимального количества деревьев на небольшой валидационной выборке"
  },
  {
   "metadata": {
    "execution": {
     "iopub.status.busy": "2024-10-07T20:09:46.042117Z",
     "iopub.execute_input": "2024-10-07T20:09:46.042622Z",
     "iopub.status.idle": "2024-10-07T20:09:46.052666Z",
     "shell.execute_reply.started": "2024-10-07T20:09:46.042570Z",
     "shell.execute_reply": "2024-10-07T20:09:46.051381Z"
    },
    "trusted": false
   },
   "cell_type": "code",
   "source": "'''\n\nDefine Hyperparameters for Classifier\n\n'''\n\n# параметры для обучения\nest_params = {\n  'subsample': 0.9,\n  'max_depth': 5,\n  'n_estimators': 2000,\n  'learning_rate': 0.01,\n  'thread_count': 20,\n  'random_state': 42,\n  'verbose': 200,\n}\n\nctb_model = CatBoostClassifier(**est_params)",
   "execution_count": 35,
   "outputs": []
  },
  {
   "metadata": {
    "execution": {
     "iopub.status.busy": "2024-10-07T20:09:46.054085Z",
     "iopub.execute_input": "2024-10-07T20:09:46.054455Z",
     "iopub.status.idle": "2024-10-07T20:12:56.626632Z",
     "shell.execute_reply.started": "2024-10-07T20:09:46.054418Z",
     "shell.execute_reply": "2024-10-07T20:12:56.625170Z"
    },
    "trusted": false
   },
   "cell_type": "code",
   "source": "import warnings; warnings.filterwarnings('ignore')\nctb_model.fit(X_train,\n              y_train,\n              eval_set=(X_val, y_val),\n              early_stopping_rounds=100,\n              cat_features=cat_col)",
   "execution_count": 36,
   "outputs": [
    {
     "name": "stderr",
     "text": "TBB Warning: The number of workers is currently limited to 3. The request for 19 workers is ignored. Further requests for more workers will be silently ignored until the limit changes.\n\n",
     "output_type": "stream"
    },
    {
     "name": "stdout",
     "text": "0:\tlearn: 0.6902969\ttest: 0.6903719\tbest: 0.6903719 (0)\ttotal: 181ms\tremaining: 6m 1s\n200:\tlearn: 0.5354166\ttest: 0.5395160\tbest: 0.5395160 (200)\ttotal: 19.2s\tremaining: 2m 51s\n400:\tlearn: 0.5279576\ttest: 0.5323657\tbest: 0.5323657 (400)\ttotal: 39s\tremaining: 2m 35s\n600:\tlearn: 0.5254369\ttest: 0.5302019\tbest: 0.5302019 (600)\ttotal: 58.8s\tremaining: 2m 16s\n800:\tlearn: 0.5241116\ttest: 0.5291537\tbest: 0.5291523 (799)\ttotal: 1m 18s\tremaining: 1m 57s\n1000:\tlearn: 0.5231913\ttest: 0.5284756\tbest: 0.5284747 (995)\ttotal: 1m 38s\tremaining: 1m 37s\n1200:\tlearn: 0.5223263\ttest: 0.5278324\tbest: 0.5278321 (1199)\ttotal: 1m 56s\tremaining: 1m 17s\n1400:\tlearn: 0.5215318\ttest: 0.5273351\tbest: 0.5273351 (1400)\ttotal: 2m 15s\tremaining: 58s\n1600:\tlearn: 0.5210299\ttest: 0.5271259\tbest: 0.5271247 (1597)\ttotal: 2m 33s\tremaining: 38.3s\n1800:\tlearn: 0.5205906\ttest: 0.5269580\tbest: 0.5269575 (1798)\ttotal: 2m 51s\tremaining: 19s\n1999:\tlearn: 0.5202115\ttest: 0.5268008\tbest: 0.5268008 (1999)\ttotal: 3m 8s\tremaining: 0us\n\nbestTest = 0.5268008195\nbestIteration = 1999\n\n",
     "output_type": "stream"
    },
    {
     "execution_count": 36,
     "output_type": "execute_result",
     "data": {
      "text/plain": "<catboost.core.CatBoostClassifier at 0x787ab457cb80>"
     },
     "metadata": {}
    }
   ]
  },
  {
   "metadata": {
    "execution": {
     "iopub.status.busy": "2024-10-07T20:12:56.628296Z",
     "iopub.execute_input": "2024-10-07T20:12:56.628710Z",
     "iopub.status.idle": "2024-10-07T20:12:57.707142Z",
     "shell.execute_reply.started": "2024-10-07T20:12:56.628667Z",
     "shell.execute_reply": "2024-10-07T20:12:57.705601Z"
    },
    "trusted": false
   },
   "cell_type": "code",
   "source": "y_pred = ctb_model.predict_proba(X_train)\nf\"ROC AUC score = {roc_auc_score(y_train, y_pred[:, 1]):.2f}\"",
   "execution_count": 37,
   "outputs": [
    {
     "execution_count": 37,
     "output_type": "execute_result",
     "data": {
      "text/plain": "'ROC AUC score = 0.78'"
     },
     "metadata": {}
    }
   ]
  },
  {
   "metadata": {
    "execution": {
     "iopub.status.busy": "2024-10-07T20:12:57.708936Z",
     "iopub.execute_input": "2024-10-07T20:12:57.709430Z",
     "iopub.status.idle": "2024-10-07T20:12:58.157461Z",
     "shell.execute_reply.started": "2024-10-07T20:12:57.709382Z",
     "shell.execute_reply": "2024-10-07T20:12:58.156148Z"
    },
    "trusted": false
   },
   "cell_type": "code",
   "source": "'''\n\nVisualise the feature importances of features\n\n'''\n\nimp_catboost = pd.DataFrame(X_train.columns, columns = ['feature'])\nimp_catboost['importance'] = ctb_model.feature_importances_\n\nsns.barplot(data=imp_catboost.sort_values(by='importance', ascending=False), x='importance', y='feature', palette=\"BuGn_r\")\nplt.title('Top feature importances');",
   "execution_count": 38,
   "outputs": [
    {
     "output_type": "display_data",
     "data": {
      "text/plain": "<Figure size 640x480 with 1 Axes>",
      "image/png": "[encoded data removed]"
     },
     "metadata": {}
    }
   ]
  },
  {
   "metadata": {},
   "cell_type": "markdown",
   "source": "### <b><span style='color:#686dec'>Проверяем качество Модели 2 этапа на отложенной выборке</span></b>"
  },
  {
   "metadata": {
    "execution": {
     "iopub.status.busy": "2024-10-07T20:12:58.159252Z",
     "iopub.execute_input": "2024-10-07T20:12:58.159759Z",
     "iopub.status.idle": "2024-10-07T20:12:58.925274Z",
     "shell.execute_reply.started": "2024-10-07T20:12:58.159712Z",
     "shell.execute_reply": "2024-10-07T20:12:58.924006Z"
    },
    "trusted": false
   },
   "cell_type": "code",
   "source": "'''\n\nPrepare Test Set\n\n'''\n\ntest_feat = (ctb_test\n             .merge(users[user_col], on=['user_id'], how='left')\n             .merge(items[item_col], on=['item_id'], how='left'))\n\n# fillna for catboost with the most frequent value\ntest_feat = test_feat.fillna(X_train.mode().iloc[0])\n\nX_test, y_test = test_feat.drop(drop_col + target_col, axis=1), test_feat['target']\n\n'''\n\nMake prediction on test set\n\n'''\n\ny_pred = ctb_model.predict_proba(X_test)\nf\"ROC AUC score = {roc_auc_score(y_test, y_pred[:, 1]):.2f}\"",
   "execution_count": 39,
   "outputs": [
    {
     "execution_count": 39,
     "output_type": "execute_result",
     "data": {
      "text/plain": "'ROC AUC score = 0.77'"
     },
     "metadata": {}
    }
   ]
  },
  {
   "metadata": {},
   "cell_type": "markdown",
   "source": "## <div style=\"padding: 30px;color:white;margin:10;font-size:60%;text-align:left;display:fill;border-radius:10px;background-color:#FFFFFF;overflow:hidden;background-color:#232834\"><b><span style='color:#686dec'>7 |</span></b> <b>Метрики качества на глобальном test</b></div>\n\n\n- Формируем рекомендации отдельно моделью 1 этапа - bpr\n- Отдельно двухэтапной моделью bpr + Catboost\n- Сравниваем\n\n### <b><span style='color:#686dec'>Метрики качества bpr</span></b>"
  },
  {
   "metadata": {
    "execution": {
     "iopub.status.busy": "2024-10-07T20:12:58.926798Z",
     "iopub.execute_input": "2024-10-07T20:12:58.927218Z",
     "iopub.status.idle": "2024-10-07T20:12:59.711712Z",
     "shell.execute_reply.started": "2024-10-07T20:12:58.927174Z",
     "shell.execute_reply": "2024-10-07T20:12:59.710430Z"
    },
    "trusted": false
   },
   "cell_type": "code",
   "source": "'''\n\nGlobal Test [test] \n\n'''\n\n# group [item_id] for each [user_id] in test (main test)\ntest = test[test['user_id'].isin(val['user_id'].unique())] # test user_id must contain val user_id\ntest_user_history = test.groupby('user_id')[['item_id']].agg(lambda x: list(x))\ndisplay(test_user_history.head())",
   "execution_count": 40,
   "outputs": [
    {
     "output_type": "display_data",
     "data": {
      "text/plain": "                                                   item_id\nuser_id                                                   \n21                                          [13787, 14488]\n30                                      [4181, 8584, 8636]\n98                                               [89, 512]\n106      [337, 1439, 2808, 2836, 5411, 6267, 10544, 128...\n241                             [6162, 8986, 10440, 12138]",
      "text/html": "<div>\n<style scoped>\n    .dataframe tbody tr th:only-of-type {\n        vertical-align: middle;\n    }\n\n    .dataframe tbody tr th {\n        vertical-align: top;\n    }\n\n    .dataframe thead th {\n        text-align: right;\n    }\n</style>\n<table border=\"1\" class=\"dataframe\">\n  <thead>\n    <tr style=\"text-align: right;\">\n      <th></th>\n      <th>item_id</th>\n    </tr>\n    <tr>\n      <th>user_id</th>\n      <th></th>\n    </tr>\n  </thead>\n  <tbody>\n    <tr>\n      <th>21</th>\n      <td>[13787, 14488]</td>\n    </tr>\n    <tr>\n      <th>30</th>\n      <td>[4181, 8584, 8636]</td>\n    </tr>\n    <tr>\n      <th>98</th>\n      <td>[89, 512]</td>\n    </tr>\n    <tr>\n      <th>106</th>\n      <td>[337, 1439, 2808, 2836, 5411, 6267, 10544, 128...</td>\n    </tr>\n    <tr>\n      <th>241</th>\n      <td>[6162, 8986, 10440, 12138]</td>\n    </tr>\n  </tbody>\n</table>\n</div>"
     },
     "metadata": {}
    }
   ]
  },
  {
   "metadata": {
    "execution": {
     "iopub.status.busy": "2024-10-07T20:12:59.713328Z",
     "iopub.execute_input": "2024-10-07T20:12:59.713806Z",
     "iopub.status.idle": "2024-10-07T20:13:16.866658Z",
     "shell.execute_reply.started": "2024-10-07T20:12:59.713760Z",
     "shell.execute_reply": "2024-10-07T20:13:16.865347Z"
    },
    "trusted": false
   },
   "cell_type": "code",
   "source": "'''\n\n(1) User first model for prediction of recommendations for [test] set\n\n'''\n\n# first model prediction for k=100\npred_bpr = predict(user_vecs, item_vecs, k=100)\npred_bpr = test_user_history.merge(pred_bpr, how='left', on='user_id')\ndisplay(pred_bpr.head()) # overlap b/w [train] (user_vect/item_vecs) prediction and test set (item_id)\n\n# determine overlapping metrics b/w test and train\nprint('recall',round(recall(pred_bpr, k=20),3))\nprint('precision',round(precision(pred_bpr, k=20),3))\nprint('mrr',round(mrr(pred_bpr, k=20),3))",
   "execution_count": 41,
   "outputs": [
    {
     "output_type": "display_data",
     "data": {
      "text/plain": "   user_id                                            item_id  \\\n0       21                                     [13787, 14488]   \n1       30                                 [4181, 8584, 8636]   \n2       98                                          [89, 512]   \n3      106  [337, 1439, 2808, 2836, 5411, 6267, 10544, 128...   \n4      241                         [6162, 8986, 10440, 12138]   \n\n                                               preds  \n0  [849, 24, 1053, 11237, 14703, 8636, 12659, 496...  \n1  [142, 16201, 13865, 10440, 4880, 1465, 2303, 1...  \n2  [2786, 16201, 14337, 4350, 11402, 14053, 12994...  \n3  [16166, 14942, 16270, 3632, 11539, 15084, 1522...  \n4  [13653, 16174, 2823, 7571, 13018, 7889, 16166,...  ",
      "text/html": "<div>\n<style scoped>\n    .dataframe tbody tr th:only-of-type {\n        vertical-align: middle;\n    }\n\n    .dataframe tbody tr th {\n        vertical-align: top;\n    }\n\n    .dataframe thead th {\n        text-align: right;\n    }\n</style>\n<table border=\"1\" class=\"dataframe\">\n  <thead>\n    <tr style=\"text-align: right;\">\n      <th></th>\n      <th>user_id</th>\n      <th>item_id</th>\n      <th>preds</th>\n    </tr>\n  </thead>\n  <tbody>\n    <tr>\n      <th>0</th>\n      <td>21</td>\n      <td>[13787, 14488]</td>\n      <td>[849, 24, 1053, 11237, 14703, 8636, 12659, 496...</td>\n    </tr>\n    <tr>\n      <th>1</th>\n      <td>30</td>\n      <td>[4181, 8584, 8636]</td>\n      <td>[142, 16201, 13865, 10440, 4880, 1465, 2303, 1...</td>\n    </tr>\n    <tr>\n      <th>2</th>\n      <td>98</td>\n      <td>[89, 512]</td>\n      <td>[2786, 16201, 14337, 4350, 11402, 14053, 12994...</td>\n    </tr>\n    <tr>\n      <th>3</th>\n      <td>106</td>\n      <td>[337, 1439, 2808, 2836, 5411, 6267, 10544, 128...</td>\n      <td>[16166, 14942, 16270, 3632, 11539, 15084, 1522...</td>\n    </tr>\n    <tr>\n      <th>4</th>\n      <td>241</td>\n      <td>[6162, 8986, 10440, 12138]</td>\n      <td>[13653, 16174, 2823, 7571, 13018, 7889, 16166,...</td>\n    </tr>\n  </tbody>\n</table>\n</div>"
     },
     "metadata": {}
    },
    {
     "name": "stdout",
     "text": "recall 0.044\nprecision 0.044\nmrr 0.023\n",
     "output_type": "stream"
    }
   ]
  },
  {
   "metadata": {
    "execution": {
     "iopub.status.busy": "2024-10-07T20:13:16.868151Z",
     "iopub.execute_input": "2024-10-07T20:13:16.868903Z",
     "iopub.status.idle": "2024-10-07T20:13:17.294457Z",
     "shell.execute_reply.started": "2024-10-07T20:13:16.868854Z",
     "shell.execute_reply": "2024-10-07T20:13:17.293192Z"
    },
    "trusted": false
   },
   "cell_type": "code",
   "source": "'''\n\n(1a) Improve the first model factorisation parameter (k=100)\n\n'''\n\n# генерируем предказания от первой модели (k=100)\npred_bpr = pred_bpr[['user_id', 'preds']] \npred_bpr = pred_bpr.explode('preds').rename(columns={'preds': 'item_id'})\npred_bpr['rank'] = pred_bpr.groupby('user_id').cumcount() + 1 # give rank to each item_id order\npred_bpr.head()",
   "execution_count": 42,
   "outputs": [
    {
     "execution_count": 42,
     "output_type": "execute_result",
     "data": {
      "text/plain": "   user_id item_id  rank\n0       21     849     1\n0       21      24     2\n0       21    1053     3\n0       21   11237     4\n0       21   14703     5",
      "text/html": "<div>\n<style scoped>\n    .dataframe tbody tr th:only-of-type {\n        vertical-align: middle;\n    }\n\n    .dataframe tbody tr th {\n        vertical-align: top;\n    }\n\n    .dataframe thead th {\n        text-align: right;\n    }\n</style>\n<table border=\"1\" class=\"dataframe\">\n  <thead>\n    <tr style=\"text-align: right;\">\n      <th></th>\n      <th>user_id</th>\n      <th>item_id</th>\n      <th>rank</th>\n    </tr>\n  </thead>\n  <tbody>\n    <tr>\n      <th>0</th>\n      <td>21</td>\n      <td>849</td>\n      <td>1</td>\n    </tr>\n    <tr>\n      <th>0</th>\n      <td>21</td>\n      <td>24</td>\n      <td>2</td>\n    </tr>\n    <tr>\n      <th>0</th>\n      <td>21</td>\n      <td>1053</td>\n      <td>3</td>\n    </tr>\n    <tr>\n      <th>0</th>\n      <td>21</td>\n      <td>11237</td>\n      <td>4</td>\n    </tr>\n    <tr>\n      <th>0</th>\n      <td>21</td>\n      <td>14703</td>\n      <td>5</td>\n    </tr>\n  </tbody>\n</table>\n</div>"
     },
     "metadata": {}
    }
   ]
  },
  {
   "metadata": {},
   "cell_type": "markdown",
   "source": "### <b><span style='color:#686dec'>Метрики качества двухэтапной модели: `bpr` + `Catboost`</span></b>\n\n- `pred_bpr` contains predictions from first model with k=100\n- Add user and item based features to recommendations from first model\n- Use 2nd stage model, trained on validation set `val` to get probability of positive class (`ctb_pred`)"
  },
  {
   "metadata": {
    "execution": {
     "iopub.status.busy": "2024-10-07T20:13:17.295936Z",
     "iopub.execute_input": "2024-10-07T20:13:17.296366Z",
     "iopub.status.idle": "2024-10-07T20:13:22.355648Z",
     "shell.execute_reply.started": "2024-10-07T20:13:17.296322Z",
     "shell.execute_reply": "2024-10-07T20:13:22.354281Z"
    },
    "trusted": false
   },
   "cell_type": "code",
   "source": "'''\n\n(2a) Prepare the dataset for the second model prediction\n\n'''\n\npred_bpr_ctb = pred_bpr.copy()\n\n# фичи для теста\nscore_feat = (pred_bpr_ctb\n              .merge(users[user_col], on=['user_id'], how='left')\n              .merge(items[item_col], on=['item_id'], how='left'))\n\n# fillna for catboost with the most frequent value\nscore_feat = score_feat.fillna(X_train.mode().iloc[0])\nscore_feat.head()",
   "execution_count": 43,
   "outputs": [
    {
     "execution_count": 43,
     "output_type": "execute_result",
     "data": {
      "text/plain": "   user_id item_id  rank        age        income sex  kids_flg content_type  \\\n0       21     849     1  age_45_54  income_20_40   Ж       0.0         film   \n1       21      24     2  age_45_54  income_20_40   Ж       0.0       series   \n2       21    1053     3  age_45_54  income_20_40   Ж       0.0         film   \n3       21   11237     4  age_45_54  income_20_40   Ж       0.0         film   \n4       21   14703     5  age_45_54  income_20_40   Ж       0.0         film   \n\n  countries  for_kids  age_rating studios  \n0       США       0.0        18.0     HBO  \n1  Германия       0.0        16.0     HBO  \n2       США       0.0        18.0     HBO  \n3    Россия       0.0        16.0     HBO  \n4       США       0.0        18.0     HBO  ",
      "text/html": "<div>\n<style scoped>\n    .dataframe tbody tr th:only-of-type {\n        vertical-align: middle;\n    }\n\n    .dataframe tbody tr th {\n        vertical-align: top;\n    }\n\n    .dataframe thead th {\n        text-align: right;\n    }\n</style>\n<table border=\"1\" class=\"dataframe\">\n  <thead>\n    <tr style=\"text-align: right;\">\n      <th></th>\n      <th>user_id</th>\n      <th>item_id</th>\n      <th>rank</th>\n      <th>age</th>\n      <th>income</th>\n      <th>sex</th>\n      <th>kids_flg</th>\n      <th>content_type</th>\n      <th>countries</th>\n      <th>for_kids</th>\n      <th>age_rating</th>\n      <th>studios</th>\n    </tr>\n  </thead>\n  <tbody>\n    <tr>\n      <th>0</th>\n      <td>21</td>\n      <td>849</td>\n      <td>1</td>\n      <td>age_45_54</td>\n      <td>income_20_40</td>\n      <td>Ж</td>\n      <td>0.0</td>\n      <td>film</td>\n      <td>США</td>\n      <td>0.0</td>\n      <td>18.0</td>\n      <td>HBO</td>\n    </tr>\n    <tr>\n      <th>1</th>\n      <td>21</td>\n      <td>24</td>\n      <td>2</td>\n      <td>age_45_54</td>\n      <td>income_20_40</td>\n      <td>Ж</td>\n      <td>0.0</td>\n      <td>series</td>\n      <td>Германия</td>\n      <td>0.0</td>\n      <td>16.0</td>\n      <td>HBO</td>\n    </tr>\n    <tr>\n      <th>2</th>\n      <td>21</td>\n      <td>1053</td>\n      <td>3</td>\n      <td>age_45_54</td>\n      <td>income_20_40</td>\n      <td>Ж</td>\n      <td>0.0</td>\n      <td>film</td>\n      <td>США</td>\n      <td>0.0</td>\n      <td>18.0</td>\n      <td>HBO</td>\n    </tr>\n    <tr>\n      <th>3</th>\n      <td>21</td>\n      <td>11237</td>\n      <td>4</td>\n      <td>age_45_54</td>\n      <td>income_20_40</td>\n      <td>Ж</td>\n      <td>0.0</td>\n      <td>film</td>\n      <td>Россия</td>\n      <td>0.0</td>\n      <td>16.0</td>\n      <td>HBO</td>\n    </tr>\n    <tr>\n      <th>4</th>\n      <td>21</td>\n      <td>14703</td>\n      <td>5</td>\n      <td>age_45_54</td>\n      <td>income_20_40</td>\n      <td>Ж</td>\n      <td>0.0</td>\n      <td>film</td>\n      <td>США</td>\n      <td>0.0</td>\n      <td>18.0</td>\n      <td>HBO</td>\n    </tr>\n  </tbody>\n</table>\n</div>"
     },
     "metadata": {}
    }
   ]
  },
  {
   "metadata": {
    "execution": {
     "iopub.status.busy": "2024-10-07T20:13:22.357365Z",
     "iopub.execute_input": "2024-10-07T20:13:22.357882Z",
     "iopub.status.idle": "2024-10-07T20:13:39.431902Z",
     "shell.execute_reply.started": "2024-10-07T20:13:22.357824Z",
     "shell.execute_reply": "2024-10-07T20:13:39.430749Z"
    },
    "trusted": false
   },
   "cell_type": "code",
   "source": "'''\n\n(2b) User second model; trained on validation dataset \n\n'''\n\nctb_prediction = ctb_model.predict_proba(score_feat.drop(drop_col, axis=1, errors='ignore'))\n\npred_bpr_ctb['ctb_pred'] = ctb_prediction[:, 1] # prob for positive class\npred_bpr_ctb.head(3)",
   "execution_count": 44,
   "outputs": [
    {
     "execution_count": 44,
     "output_type": "execute_result",
     "data": {
      "text/plain": "   user_id item_id  rank  ctb_pred\n0       21     849     1  0.269009\n0       21      24     2  0.228995\n0       21    1053     3  0.261176",
      "text/html": "<div>\n<style scoped>\n    .dataframe tbody tr th:only-of-type {\n        vertical-align: middle;\n    }\n\n    .dataframe tbody tr th {\n        vertical-align: top;\n    }\n\n    .dataframe thead th {\n        text-align: right;\n    }\n</style>\n<table border=\"1\" class=\"dataframe\">\n  <thead>\n    <tr style=\"text-align: right;\">\n      <th></th>\n      <th>user_id</th>\n      <th>item_id</th>\n      <th>rank</th>\n      <th>ctb_pred</th>\n    </tr>\n  </thead>\n  <tbody>\n    <tr>\n      <th>0</th>\n      <td>21</td>\n      <td>849</td>\n      <td>1</td>\n      <td>0.269009</td>\n    </tr>\n    <tr>\n      <th>0</th>\n      <td>21</td>\n      <td>24</td>\n      <td>2</td>\n      <td>0.228995</td>\n    </tr>\n    <tr>\n      <th>0</th>\n      <td>21</td>\n      <td>1053</td>\n      <td>3</td>\n      <td>0.261176</td>\n    </tr>\n  </tbody>\n</table>\n</div>"
     },
     "metadata": {}
    }
   ]
  },
  {
   "metadata": {},
   "cell_type": "markdown",
   "source": "- Проставляем итоговый ранк двухэтапной модели `rank_ctb`"
  },
  {
   "metadata": {
    "execution": {
     "iopub.status.busy": "2024-10-07T20:13:39.433640Z",
     "iopub.execute_input": "2024-10-07T20:13:39.434168Z",
     "iopub.status.idle": "2024-10-07T20:13:40.310129Z",
     "shell.execute_reply.started": "2024-10-07T20:13:39.434111Z",
     "shell.execute_reply": "2024-10-07T20:13:40.308947Z"
    },
    "trusted": false
   },
   "cell_type": "code",
   "source": "# сортируем по скору внутри одного пользователя и проставляем новый ранг\npred_bpr_ctb = pred_bpr_ctb.sort_values(\n                                        by=['user_id', 'ctb_pred'], \n                                        ascending=[True, False])\npred_bpr_ctb['rank_ctb'] = pred_bpr_ctb.groupby('user_id').cumcount() + 1\npred_bpr_ctb.head()",
   "execution_count": 45,
   "outputs": [
    {
     "execution_count": 45,
     "output_type": "execute_result",
     "data": {
      "text/plain": "   user_id item_id  rank  ctb_pred  rank_ctb\n0       21   11237     4  0.481346         1\n0       21    8636     6  0.370781         2\n0       21   11661     9  0.350955         3\n0       21     496     8  0.336498         4\n0       21    8252    36  0.289617         5",
      "text/html": "<div>\n<style scoped>\n    .dataframe tbody tr th:only-of-type {\n        vertical-align: middle;\n    }\n\n    .dataframe tbody tr th {\n        vertical-align: top;\n    }\n\n    .dataframe thead th {\n        text-align: right;\n    }\n</style>\n<table border=\"1\" class=\"dataframe\">\n  <thead>\n    <tr style=\"text-align: right;\">\n      <th></th>\n      <th>user_id</th>\n      <th>item_id</th>\n      <th>rank</th>\n      <th>ctb_pred</th>\n      <th>rank_ctb</th>\n    </tr>\n  </thead>\n  <tbody>\n    <tr>\n      <th>0</th>\n      <td>21</td>\n      <td>11237</td>\n      <td>4</td>\n      <td>0.481346</td>\n      <td>1</td>\n    </tr>\n    <tr>\n      <th>0</th>\n      <td>21</td>\n      <td>8636</td>\n      <td>6</td>\n      <td>0.370781</td>\n      <td>2</td>\n    </tr>\n    <tr>\n      <th>0</th>\n      <td>21</td>\n      <td>11661</td>\n      <td>9</td>\n      <td>0.350955</td>\n      <td>3</td>\n    </tr>\n    <tr>\n      <th>0</th>\n      <td>21</td>\n      <td>496</td>\n      <td>8</td>\n      <td>0.336498</td>\n      <td>4</td>\n    </tr>\n    <tr>\n      <th>0</th>\n      <td>21</td>\n      <td>8252</td>\n      <td>36</td>\n      <td>0.289617</td>\n      <td>5</td>\n    </tr>\n  </tbody>\n</table>\n</div>"
     },
     "metadata": {}
    }
   ]
  },
  {
   "metadata": {},
   "cell_type": "markdown",
   "source": "Подсчет метрик прексказания перврой + второй модели относительно просморов в те товой ыыборке"
  },
  {
   "metadata": {
    "execution": {
     "iopub.status.busy": "2024-10-07T20:13:40.311570Z",
     "iopub.execute_input": "2024-10-07T20:13:40.311942Z",
     "iopub.status.idle": "2024-10-07T20:13:47.663786Z",
     "shell.execute_reply.started": "2024-10-07T20:13:40.311901Z",
     "shell.execute_reply": "2024-10-07T20:13:47.662381Z"
    },
    "trusted": false
   },
   "cell_type": "code",
   "source": "'''\n\n1+2 этапы bpr + Сatboost: Метрики\n\n'''\n\ntrue_items = test.groupby('user_id').agg(lambda x: list(x))[['item_id']].reset_index()\npred_items = pred_bpr_ctb.groupby('user_id').agg(lambda x: list(x))[['item_id']].reset_index().rename(columns={'item_id': 'preds'})\ntrue_pred_items = true_items.merge(pred_items, how='left')\ntrue_pred_items.head()",
   "execution_count": 46,
   "outputs": [
    {
     "execution_count": 46,
     "output_type": "execute_result",
     "data": {
      "text/plain": "   user_id                                            item_id  \\\n0       21                                     [13787, 14488]   \n1       30                                 [4181, 8584, 8636]   \n2       98                                          [89, 512]   \n3      106  [337, 1439, 2808, 2836, 5411, 6267, 10544, 128...   \n4      241                         [6162, 8986, 10440, 12138]   \n\n                                               preds  \n0  [11237, 8636, 11661, 496, 8252, 12701, 10313, ...  \n1  [1465, 4880, 10440, 4151, 14192, 15297, 1261, ...  \n2  [14192, 16201, 7829, 1299, 12346, 5648, 10152,...  \n3  [16166, 7571, 14942, 11539, 13243, 3632, 3834,...  \n4  [16174, 7571, 13018, 16166, 5979, 242, 13913, ...  ",
      "text/html": "<div>\n<style scoped>\n    .dataframe tbody tr th:only-of-type {\n        vertical-align: middle;\n    }\n\n    .dataframe tbody tr th {\n        vertical-align: top;\n    }\n\n    .dataframe thead th {\n        text-align: right;\n    }\n</style>\n<table border=\"1\" class=\"dataframe\">\n  <thead>\n    <tr style=\"text-align: right;\">\n      <th></th>\n      <th>user_id</th>\n      <th>item_id</th>\n      <th>preds</th>\n    </tr>\n  </thead>\n  <tbody>\n    <tr>\n      <th>0</th>\n      <td>21</td>\n      <td>[13787, 14488]</td>\n      <td>[11237, 8636, 11661, 496, 8252, 12701, 10313, ...</td>\n    </tr>\n    <tr>\n      <th>1</th>\n      <td>30</td>\n      <td>[4181, 8584, 8636]</td>\n      <td>[1465, 4880, 10440, 4151, 14192, 15297, 1261, ...</td>\n    </tr>\n    <tr>\n      <th>2</th>\n      <td>98</td>\n      <td>[89, 512]</td>\n      <td>[14192, 16201, 7829, 1299, 12346, 5648, 10152,...</td>\n    </tr>\n    <tr>\n      <th>3</th>\n      <td>106</td>\n      <td>[337, 1439, 2808, 2836, 5411, 6267, 10544, 128...</td>\n      <td>[16166, 7571, 14942, 11539, 13243, 3632, 3834,...</td>\n    </tr>\n    <tr>\n      <th>4</th>\n      <td>241</td>\n      <td>[6162, 8986, 10440, 12138]</td>\n      <td>[16174, 7571, 13018, 16166, 5979, 242, 13913, ...</td>\n    </tr>\n  </tbody>\n</table>\n</div>"
     },
     "metadata": {}
    }
   ]
  },
  {
   "metadata": {
    "execution": {
     "iopub.status.busy": "2024-10-07T20:13:47.665428Z",
     "iopub.execute_input": "2024-10-07T20:13:47.665852Z",
     "iopub.status.idle": "2024-10-07T20:13:53.035894Z",
     "shell.execute_reply.started": "2024-10-07T20:13:47.665808Z",
     "shell.execute_reply": "2024-10-07T20:13:53.034642Z"
    },
    "trusted": false
   },
   "cell_type": "code",
   "source": "print('recall',round(recall(true_pred_items, k=20),3))\nprint('precision',round(precision(true_pred_items, k=20),3))\nprint('mrr',round(mrr(true_pred_items, k=20),3))",
   "execution_count": 47,
   "outputs": [
    {
     "name": "stdout",
     "text": "recall 0.055\nprecision 0.055\nmrr 0.033\n",
     "output_type": "stream"
    }
   ]
  }
 ],
 "metadata": {
  "kernelspec": {
   "name": "python3",
   "display_name": "Python 3",
   "language": "python"
  },
  "language_info": {
   "name": "python",
   "version": "3.10.4",
   "mimetype": "text/x-python",
   "codemirror_mode": {
    "name": "ipython",
    "version": 3
   },
   "pygments_lexer": "ipython3",
   "nbconvert_exporter": "python",
   "file_extension": ".py"
  },
  "kaggle": {
   "accelerator": "none",
   "dataSources": [
    {
     "sourceId": 9465066,
     "sourceType": "datasetVersion",
     "datasetId": 5755040
    }
   ],
   "dockerImageVersionId": 30786,
   "isInternetEnabled": true,
   "language": "python",
   "sourceType": "notebook",
   "isGpuEnabled": false
  }
 },
 "nbformat": 4,
 "nbformat_minor": 4
}