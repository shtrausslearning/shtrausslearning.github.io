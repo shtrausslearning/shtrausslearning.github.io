{
 "cells": [
  {
   "cell_type": "markdown",
   "metadata": {
    "editable": true,
    "slideshow": {
     "slide_type": ""
    },
    "tags": []
   },
   "source": [
    "## <div style=\"padding: 25px;color:white;margin:00px;font-size:60%;text-align:left;border-radius:10px;background-color:#686dec;overflow:hidden\"><b><span style='color:white'>1 | BACKGROUND</b></div>\n",
    "\n",
    "### <b><span style='color:#686dec'>Blog Recommendation</span> </b> \n",
    "    \n",
    "A large number of blogs are published on a daily basis on a variety of subjects by different users. Its important to keep the user invested in material located on a particular website for a variety of reasons. \n",
    "    \n",
    "If a user is interested in a particular article and has made their way from for example a search engine onto the website/blog, its hightly likely that they are interested in something specific at this particular moment in time.\n",
    "    \n",
    "As as result, it would be favourable to show the user material that would likely peek their interest and hopefully make them interact with other material on the website, keeping them on the website longer.\n",
    "    \n",
    "### <b><span style='color:#686dec'>Notebook Aim</span> </b> \n",
    "    \n",
    "In this notebook, we will aim to create a **user recommendations** for blog content found on `medium`, which is a popular source of information for a variety of topics related to information technology.\n",
    "    \n",
    "Only the essential data has been scrapped, in other words, we won't be using the scrapped data of the entire blog article, and will only use a short preview which is selected for each article post.\n",
    "    \n",
    "### <b><span style='color:#686dec'>Recommendation Approaches</span> </b> \n",
    "    \n",
    "There are a couple of routes we will go with our data:\n",
    "- (a) We have `medium` user feedback in the form of blog ratings, which means we can not only use this information to filter our recommendations, but also create a rating based recommendation for the users, which they might have missed.\n",
    "\n",
    "- (b) We have blog article previews, from which we can create recommendations based on similar content for "
   ]
  },
  {
   "cell_type": "markdown",
   "metadata": {},
   "source": [
    "## <div style=\"padding: 25px;color:white;margin:00px;font-size:60%;text-align:left;border-radius:10px;background-color:#686dec;overflow:hidden\"><b><span style='color:white'>2 | LOADING DATA</b></div>\n",
    "    \n",
    "Lets finally load and preview our dataset, looking at only the essetial information:\n",
    "    \n",
    "We have three sources of data:\n",
    "- `authors` : Information about each author \n",
    "- `blog` : Information about the blog post\n",
    "- `ratings` : Blog post ratings set by `medium` users (`user_id`), no other information is parsed about each user"
   ]
  },
  {
   "cell_type": "code",
   "execution_count": 1,
   "metadata": {
    "editable": true,
    "slideshow": {
     "slide_type": ""
    },
    "tags": []
   },
   "outputs": [],
   "source": [
    "import pandas as pd \n",
    "import numpy as np\n",
    "import seaborn as sns\n",
    "import matplotlib.pyplot as plt\n",
    "from collections import Counter"
   ]
  },
  {
   "cell_type": "markdown",
   "metadata": {},
   "source": [
    "Load blog article information (unique blog information)"
   ]
  },
  {
   "cell_type": "code",
   "execution_count": 2,
   "metadata": {
    "editable": true,
    "scrolled": true,
    "slideshow": {
     "slide_type": ""
    },
    "tags": []
   },
   "outputs": [
    {
     "data": {
      "text/html": [
       "<div>\n",
       "<style scoped>\n",
       "    .dataframe tbody tr th:only-of-type {\n",
       "        vertical-align: middle;\n",
       "    }\n",
       "\n",
       "    .dataframe tbody tr th {\n",
       "        vertical-align: top;\n",
       "    }\n",
       "\n",
       "    .dataframe thead th {\n",
       "        text-align: right;\n",
       "    }\n",
       "</style>\n",
       "<table border=\"1\" class=\"dataframe\">\n",
       "  <thead>\n",
       "    <tr style=\"text-align: right;\">\n",
       "      <th></th>\n",
       "      <th>blog_id</th>\n",
       "      <th>author_id</th>\n",
       "      <th>blog_title</th>\n",
       "      <th>blog_preview</th>\n",
       "      <th>topic</th>\n",
       "      <th>scrape_time</th>\n",
       "    </tr>\n",
       "  </thead>\n",
       "  <tbody>\n",
       "    <tr>\n",
       "      <th>0</th>\n",
       "      <td>1</td>\n",
       "      <td>4</td>\n",
       "      <td>Let’s Dominate The Launchpad Space Again</td>\n",
       "      <td>Hello, fam! If you’ve been with us since 2021,...</td>\n",
       "      <td>ai</td>\n",
       "      <td>2023-02-27 07:37:48</td>\n",
       "    </tr>\n",
       "    <tr>\n",
       "      <th>1</th>\n",
       "      <td>3</td>\n",
       "      <td>4</td>\n",
       "      <td>Let’s Dominate The Launchpad Space Again</td>\n",
       "      <td>Hello, fam! If you’ve been with us since 2021,...</td>\n",
       "      <td>ai</td>\n",
       "      <td>2023-02-27 07:41:47</td>\n",
       "    </tr>\n",
       "    <tr>\n",
       "      <th>2</th>\n",
       "      <td>4</td>\n",
       "      <td>7</td>\n",
       "      <td>Using ChatGPT for User Research</td>\n",
       "      <td>Applying AI to 4 common user research activiti...</td>\n",
       "      <td>ai</td>\n",
       "      <td>2023-02-27 07:41:47</td>\n",
       "    </tr>\n",
       "    <tr>\n",
       "      <th>3</th>\n",
       "      <td>5</td>\n",
       "      <td>8</td>\n",
       "      <td>The Automated Stable-Diffusion Checkpoint Merg...</td>\n",
       "      <td>Checkpoint merging is powerful. The power of c...</td>\n",
       "      <td>ai</td>\n",
       "      <td>2023-02-27 07:41:47</td>\n",
       "    </tr>\n",
       "    <tr>\n",
       "      <th>4</th>\n",
       "      <td>6</td>\n",
       "      <td>9</td>\n",
       "      <td>The Art of Lazy Creativity: My Experience Co-W...</td>\n",
       "      <td>I was feeling particularly lazy one day and co...</td>\n",
       "      <td>ai</td>\n",
       "      <td>2023-02-27 07:41:47</td>\n",
       "    </tr>\n",
       "  </tbody>\n",
       "</table>\n",
       "</div>"
      ],
      "text/plain": [
       "   blog_id  author_id                                         blog_title  \\\n",
       "0        1          4           Let’s Dominate The Launchpad Space Again   \n",
       "1        3          4           Let’s Dominate The Launchpad Space Again   \n",
       "2        4          7                    Using ChatGPT for User Research   \n",
       "3        5          8  The Automated Stable-Diffusion Checkpoint Merg...   \n",
       "4        6          9  The Art of Lazy Creativity: My Experience Co-W...   \n",
       "\n",
       "                                        blog_preview topic  \\\n",
       "0  Hello, fam! If you’ve been with us since 2021,...    ai   \n",
       "1  Hello, fam! If you’ve been with us since 2021,...    ai   \n",
       "2  Applying AI to 4 common user research activiti...    ai   \n",
       "3  Checkpoint merging is powerful. The power of c...    ai   \n",
       "4  I was feeling particularly lazy one day and co...    ai   \n",
       "\n",
       "           scrape_time  \n",
       "0  2023-02-27 07:37:48  \n",
       "1  2023-02-27 07:41:47  \n",
       "2  2023-02-27 07:41:47  \n",
       "3  2023-02-27 07:41:47  \n",
       "4  2023-02-27 07:41:47  "
      ]
     },
     "execution_count": 2,
     "metadata": {},
     "output_type": "execute_result"
    }
   ],
   "source": [
    "blog = pd.read_csv('blog.csv')\n",
    "blog = blog.drop(['blog_img','blog_link'],axis=1)\n",
    "blog = blog.rename(columns={'blog_content':'blog_preview'})\n",
    "blog.head()"
   ]
  },
  {
   "cell_type": "markdown",
   "metadata": {},
   "source": [
    "Load blog article author information (all unique authors)"
   ]
  },
  {
   "cell_type": "code",
   "execution_count": 3,
   "metadata": {},
   "outputs": [
    {
     "data": {
      "text/html": [
       "<div>\n",
       "<style scoped>\n",
       "    .dataframe tbody tr th:only-of-type {\n",
       "        vertical-align: middle;\n",
       "    }\n",
       "\n",
       "    .dataframe tbody tr th {\n",
       "        vertical-align: top;\n",
       "    }\n",
       "\n",
       "    .dataframe thead th {\n",
       "        text-align: right;\n",
       "    }\n",
       "</style>\n",
       "<table border=\"1\" class=\"dataframe\">\n",
       "  <thead>\n",
       "    <tr style=\"text-align: right;\">\n",
       "      <th></th>\n",
       "      <th>author_id</th>\n",
       "      <th>author_name</th>\n",
       "    </tr>\n",
       "  </thead>\n",
       "  <tbody>\n",
       "    <tr>\n",
       "      <th>0</th>\n",
       "      <td>1</td>\n",
       "      <td>yaksh</td>\n",
       "    </tr>\n",
       "    <tr>\n",
       "      <th>1</th>\n",
       "      <td>2</td>\n",
       "      <td>XIT</td>\n",
       "    </tr>\n",
       "    <tr>\n",
       "      <th>2</th>\n",
       "      <td>3</td>\n",
       "      <td>Daniel Meyer</td>\n",
       "    </tr>\n",
       "    <tr>\n",
       "      <th>3</th>\n",
       "      <td>4</td>\n",
       "      <td>Seedify Fund</td>\n",
       "    </tr>\n",
       "    <tr>\n",
       "      <th>4</th>\n",
       "      <td>5</td>\n",
       "      <td>Ifedolapo Shiloh Olotu</td>\n",
       "    </tr>\n",
       "  </tbody>\n",
       "</table>\n",
       "</div>"
      ],
      "text/plain": [
       "   author_id             author_name\n",
       "0          1                   yaksh\n",
       "1          2                     XIT\n",
       "2          3            Daniel Meyer\n",
       "3          4            Seedify Fund\n",
       "4          5  Ifedolapo Shiloh Olotu"
      ]
     },
     "execution_count": 3,
     "metadata": {},
     "output_type": "execute_result"
    }
   ],
   "source": [
    "authors = pd.read_csv('authors.csv')\n",
    "authors.head()"
   ]
  },
  {
   "cell_type": "markdown",
   "metadata": {},
   "source": [
    "All ratings set by `user_id` on `blog_id`"
   ]
  },
  {
   "cell_type": "code",
   "execution_count": 4,
   "metadata": {},
   "outputs": [
    {
     "data": {
      "text/html": [
       "<div>\n",
       "<style scoped>\n",
       "    .dataframe tbody tr th:only-of-type {\n",
       "        vertical-align: middle;\n",
       "    }\n",
       "\n",
       "    .dataframe tbody tr th {\n",
       "        vertical-align: top;\n",
       "    }\n",
       "\n",
       "    .dataframe thead th {\n",
       "        text-align: right;\n",
       "    }\n",
       "</style>\n",
       "<table border=\"1\" class=\"dataframe\">\n",
       "  <thead>\n",
       "    <tr style=\"text-align: right;\">\n",
       "      <th></th>\n",
       "      <th>blog_id</th>\n",
       "      <th>user_id</th>\n",
       "      <th>ratings</th>\n",
       "    </tr>\n",
       "  </thead>\n",
       "  <tbody>\n",
       "    <tr>\n",
       "      <th>0</th>\n",
       "      <td>9025</td>\n",
       "      <td>11</td>\n",
       "      <td>3.5</td>\n",
       "    </tr>\n",
       "    <tr>\n",
       "      <th>1</th>\n",
       "      <td>9320</td>\n",
       "      <td>11</td>\n",
       "      <td>5.0</td>\n",
       "    </tr>\n",
       "    <tr>\n",
       "      <th>2</th>\n",
       "      <td>9246</td>\n",
       "      <td>11</td>\n",
       "      <td>3.5</td>\n",
       "    </tr>\n",
       "    <tr>\n",
       "      <th>3</th>\n",
       "      <td>9431</td>\n",
       "      <td>11</td>\n",
       "      <td>5.0</td>\n",
       "    </tr>\n",
       "    <tr>\n",
       "      <th>4</th>\n",
       "      <td>875</td>\n",
       "      <td>11</td>\n",
       "      <td>2.0</td>\n",
       "    </tr>\n",
       "  </tbody>\n",
       "</table>\n",
       "</div>"
      ],
      "text/plain": [
       "   blog_id  user_id  ratings\n",
       "0     9025       11      3.5\n",
       "1     9320       11      5.0\n",
       "2     9246       11      3.5\n",
       "3     9431       11      5.0\n",
       "4      875       11      2.0"
      ]
     },
     "execution_count": 4,
     "metadata": {},
     "output_type": "execute_result"
    }
   ],
   "source": [
    "ratings = pd.read_csv('ratings.csv')\n",
    "ratings = ratings.rename(columns={'userId':'user_id'})\n",
    "ratings.head()"
   ]
  },
  {
   "cell_type": "markdown",
   "metadata": {},
   "source": [
    "Merge user ratings with the blog information"
   ]
  },
  {
   "cell_type": "code",
   "execution_count": 6,
   "metadata": {},
   "outputs": [
    {
     "data": {
      "text/html": [
       "<div>\n",
       "<style scoped>\n",
       "    .dataframe tbody tr th:only-of-type {\n",
       "        vertical-align: middle;\n",
       "    }\n",
       "\n",
       "    .dataframe tbody tr th {\n",
       "        vertical-align: top;\n",
       "    }\n",
       "\n",
       "    .dataframe thead th {\n",
       "        text-align: right;\n",
       "    }\n",
       "</style>\n",
       "<table border=\"1\" class=\"dataframe\">\n",
       "  <thead>\n",
       "    <tr style=\"text-align: right;\">\n",
       "      <th></th>\n",
       "      <th>blog_id</th>\n",
       "      <th>user_id</th>\n",
       "      <th>ratings</th>\n",
       "      <th>author_id</th>\n",
       "      <th>blog_title</th>\n",
       "      <th>blog_preview</th>\n",
       "      <th>topic</th>\n",
       "      <th>scrape_time</th>\n",
       "      <th>author_name</th>\n",
       "    </tr>\n",
       "  </thead>\n",
       "  <tbody>\n",
       "    <tr>\n",
       "      <th>0</th>\n",
       "      <td>9025</td>\n",
       "      <td>11</td>\n",
       "      <td>3.5</td>\n",
       "      <td>5960</td>\n",
       "      <td>How I became a Frontend Developer</td>\n",
       "      <td>A little bit of background about me: as a teen...</td>\n",
       "      <td>web-development</td>\n",
       "      <td>2023-04-04 08:53:52</td>\n",
       "      <td>Steven Dornan</td>\n",
       "    </tr>\n",
       "    <tr>\n",
       "      <th>1</th>\n",
       "      <td>9320</td>\n",
       "      <td>11</td>\n",
       "      <td>5.0</td>\n",
       "      <td>6155</td>\n",
       "      <td>Writing an Algorithm to Calculate Article Read...</td>\n",
       "      <td>You have probably noticed a read-time number u...</td>\n",
       "      <td>web-development</td>\n",
       "      <td>2023-04-04 08:53:52</td>\n",
       "      <td>Daniel Pericich</td>\n",
       "    </tr>\n",
       "    <tr>\n",
       "      <th>2</th>\n",
       "      <td>9246</td>\n",
       "      <td>11</td>\n",
       "      <td>3.5</td>\n",
       "      <td>6114</td>\n",
       "      <td>Diving into HTML and the Tools of the Trade</td>\n",
       "      <td>It’s been an incredible first week as a Bytewi...</td>\n",
       "      <td>web-development</td>\n",
       "      <td>2023-04-04 08:53:52</td>\n",
       "      <td>Muhammad Naeem Tahir</td>\n",
       "    </tr>\n",
       "  </tbody>\n",
       "</table>\n",
       "</div>"
      ],
      "text/plain": [
       "   blog_id  user_id  ratings  author_id  \\\n",
       "0     9025       11      3.5       5960   \n",
       "1     9320       11      5.0       6155   \n",
       "2     9246       11      3.5       6114   \n",
       "\n",
       "                                          blog_title  \\\n",
       "0                  How I became a Frontend Developer   \n",
       "1  Writing an Algorithm to Calculate Article Read...   \n",
       "2        Diving into HTML and the Tools of the Trade   \n",
       "\n",
       "                                        blog_preview            topic  \\\n",
       "0  A little bit of background about me: as a teen...  web-development   \n",
       "1  You have probably noticed a read-time number u...  web-development   \n",
       "2  It’s been an incredible first week as a Bytewi...  web-development   \n",
       "\n",
       "           scrape_time           author_name  \n",
       "0  2023-04-04 08:53:52         Steven Dornan  \n",
       "1  2023-04-04 08:53:52       Daniel Pericich  \n",
       "2  2023-04-04 08:53:52  Muhammad Naeem Tahir  "
      ]
     },
     "execution_count": 6,
     "metadata": {},
     "output_type": "execute_result"
    }
   ],
   "source": [
    "\"\"\"\n",
    "\n",
    "All blog article user rating data\n",
    "\n",
    "\"\"\"\n",
    "\n",
    "blog_ratings = ratings.merge(blog,on='blog_id',how='left')\n",
    "blog_ratings = blog_ratings.merge(authors,on='author_id',how='left')\n",
    "blog_ratings.head(3)"
   ]
  },
  {
   "cell_type": "code",
   "execution_count": 7,
   "metadata": {},
   "outputs": [
    {
     "data": {
      "text/html": [
       "<div>\n",
       "<style scoped>\n",
       "    .dataframe tbody tr th:only-of-type {\n",
       "        vertical-align: middle;\n",
       "    }\n",
       "\n",
       "    .dataframe tbody tr th {\n",
       "        vertical-align: top;\n",
       "    }\n",
       "\n",
       "    .dataframe thead th {\n",
       "        text-align: right;\n",
       "    }\n",
       "</style>\n",
       "<table border=\"1\" class=\"dataframe\">\n",
       "  <thead>\n",
       "    <tr style=\"text-align: right;\">\n",
       "      <th></th>\n",
       "      <th>blog_id</th>\n",
       "      <th>author_id</th>\n",
       "      <th>blog_title</th>\n",
       "      <th>blog_preview</th>\n",
       "      <th>topic</th>\n",
       "      <th>scrape_time</th>\n",
       "      <th>author_name</th>\n",
       "    </tr>\n",
       "  </thead>\n",
       "  <tbody>\n",
       "    <tr>\n",
       "      <th>0</th>\n",
       "      <td>1</td>\n",
       "      <td>4</td>\n",
       "      <td>Let’s Dominate The Launchpad Space Again</td>\n",
       "      <td>Hello, fam! If you’ve been with us since 2021,...</td>\n",
       "      <td>ai</td>\n",
       "      <td>2023-02-27 07:37:48</td>\n",
       "      <td>Seedify Fund</td>\n",
       "    </tr>\n",
       "    <tr>\n",
       "      <th>1</th>\n",
       "      <td>3</td>\n",
       "      <td>4</td>\n",
       "      <td>Let’s Dominate The Launchpad Space Again</td>\n",
       "      <td>Hello, fam! If you’ve been with us since 2021,...</td>\n",
       "      <td>ai</td>\n",
       "      <td>2023-02-27 07:41:47</td>\n",
       "      <td>Seedify Fund</td>\n",
       "    </tr>\n",
       "    <tr>\n",
       "      <th>2</th>\n",
       "      <td>4</td>\n",
       "      <td>7</td>\n",
       "      <td>Using ChatGPT for User Research</td>\n",
       "      <td>Applying AI to 4 common user research activiti...</td>\n",
       "      <td>ai</td>\n",
       "      <td>2023-02-27 07:41:47</td>\n",
       "      <td>Nick Babich</td>\n",
       "    </tr>\n",
       "  </tbody>\n",
       "</table>\n",
       "</div>"
      ],
      "text/plain": [
       "   blog_id  author_id                                blog_title  \\\n",
       "0        1          4  Let’s Dominate The Launchpad Space Again   \n",
       "1        3          4  Let’s Dominate The Launchpad Space Again   \n",
       "2        4          7           Using ChatGPT for User Research   \n",
       "\n",
       "                                        blog_preview topic  \\\n",
       "0  Hello, fam! If you’ve been with us since 2021,...    ai   \n",
       "1  Hello, fam! If you’ve been with us since 2021,...    ai   \n",
       "2  Applying AI to 4 common user research activiti...    ai   \n",
       "\n",
       "           scrape_time   author_name  \n",
       "0  2023-02-27 07:37:48  Seedify Fund  \n",
       "1  2023-02-27 07:41:47  Seedify Fund  \n",
       "2  2023-02-27 07:41:47   Nick Babich  "
      ]
     },
     "execution_count": 7,
     "metadata": {},
     "output_type": "execute_result"
    }
   ],
   "source": [
    "blogs = blog.merge(authors,on='author_id',how='left')\n",
    "blogs.head(3)"
   ]
  },
  {
   "cell_type": "markdown",
   "metadata": {},
   "source": [
    "## <div style=\"padding: 25px;color:white;margin:00px;font-size:60%;text-align:left;border-radius:10px;background-color:#686dec;overflow:hidden\"><b><span style='color:white'>3 | DATA EXPLORATION</b></div>"
   ]
  },
  {
   "cell_type": "markdown",
   "metadata": {},
   "source": [
    "### <b><span style='color:#686dec'>Blog Ratings Count</span> </b> \n",
    "\n",
    "Let's check the number of ratings for each blog article in the form of a histogram"
   ]
  },
  {
   "cell_type": "code",
   "execution_count": 25,
   "metadata": {},
   "outputs": [
    {
     "data": {
      "image/png": "[encoded data removed]",
      "text/plain": [
       "<Figure size 1000x400 with 1 Axes>"
      ]
     },
     "metadata": {},
     "output_type": "display_data"
    }
   ],
   "source": [
    "# user blog ratings\n",
    "rating_ordered = ratings.groupby('blog_id').count()['ratings'].sort_values(ascending=False).reset_index()\n",
    "\n",
    "plt.figure(figsize=(10,4))\n",
    "ax = rating_ordered['ratings'].hist(bins=60)\n",
    "\n",
    "ax.grid(color='gray',ls='--',lw=1,alpha=0.2)\n",
    "sns.despine(top=True,right=True,left=True)\n",
    "plt.tick_params(axis='both',colors='#2E2E2E')\n",
    "plt.xlabel('Number of blog ratings',color='#2E2E2E')\n",
    "plt.ylabel('Frequency',color='#2E2E2E')\n",
    "plt.tight_layout()\n",
    "plt.show()"
   ]
  },
  {
   "cell_type": "markdown",
   "metadata": {},
   "source": [
    "### <b><span style='color:#686dec'>Blog Rating Distribution</span> </b> \n",
    "\n",
    "Most users tend to rate posts that they like or don't like (roughtly 60%)"
   ]
  },
  {
   "cell_type": "code",
   "execution_count": 18,
   "metadata": {},
   "outputs": [
    {
     "data": {
      "text/html": [
       "<div>\n",
       "<style scoped>\n",
       "    .dataframe tbody tr th:only-of-type {\n",
       "        vertical-align: middle;\n",
       "    }\n",
       "\n",
       "    .dataframe tbody tr th {\n",
       "        vertical-align: top;\n",
       "    }\n",
       "\n",
       "    .dataframe thead th {\n",
       "        text-align: right;\n",
       "    }\n",
       "</style>\n",
       "<table border=\"1\" class=\"dataframe\">\n",
       "  <thead>\n",
       "    <tr style=\"text-align: right;\">\n",
       "      <th></th>\n",
       "      <th>count</th>\n",
       "      <th>percentage</th>\n",
       "    </tr>\n",
       "    <tr>\n",
       "      <th>ratings</th>\n",
       "      <th></th>\n",
       "      <th></th>\n",
       "    </tr>\n",
       "  </thead>\n",
       "  <tbody>\n",
       "    <tr>\n",
       "      <th>0.5</th>\n",
       "      <td>40414</td>\n",
       "      <td>20.19</td>\n",
       "    </tr>\n",
       "    <tr>\n",
       "      <th>2.0</th>\n",
       "      <td>49826</td>\n",
       "      <td>24.90</td>\n",
       "    </tr>\n",
       "    <tr>\n",
       "      <th>3.5</th>\n",
       "      <td>30286</td>\n",
       "      <td>15.13</td>\n",
       "    </tr>\n",
       "    <tr>\n",
       "      <th>5.0</th>\n",
       "      <td>79614</td>\n",
       "      <td>39.78</td>\n",
       "    </tr>\n",
       "  </tbody>\n",
       "</table>\n",
       "</div>"
      ],
      "text/plain": [
       "         count  percentage\n",
       "ratings                   \n",
       "0.5      40414       20.19\n",
       "2.0      49826       24.90\n",
       "3.5      30286       15.13\n",
       "5.0      79614       39.78"
      ]
     },
     "execution_count": 18,
     "metadata": {},
     "output_type": "execute_result"
    }
   ],
   "source": [
    "count = ratings['ratings'].value_counts().round(4).sort_index()\n",
    "perc = ratings['ratings'].value_counts(normalize=True).round(4).sort_index()*100\n",
    "rating_info = pd.concat([count,perc],axis=1)\n",
    "rating_info.columns = ['count','percentage']\n",
    "rating_info"
   ]
  },
  {
   "cell_type": "markdown",
   "metadata": {},
   "source": [
    "### <b><span style='color:#686dec'>User Rating Statistics</span> </b> \n",
    "\n",
    "Lets check the `user_id` statistics; how many times has a user rated a blog article and what is the average rating for all blog article ratings of a particular user"
   ]
  },
  {
   "cell_type": "code",
   "execution_count": 20,
   "metadata": {},
   "outputs": [
    {
     "data": {
      "text/plain": [
       "array([[<Axes: title={'center': 'counts'}>,\n",
       "        <Axes: title={'center': 'average'}>]], dtype=object)"
      ]
     },
     "execution_count": 20,
     "metadata": {},
     "output_type": "execute_result"
    },
    {
     "data": {
      "image/png": "[encoded data removed]",
      "text/plain": [
       "<Figure size 1000x300 with 2 Axes>"
      ]
     },
     "metadata": {},
     "output_type": "display_data"
    }
   ],
   "source": [
    "# user based rating statistics\n",
    "blog_rating_stats = blog_ratings.groupby('user_id').agg(counts=('ratings','count'),\n",
    "                                                        average=('ratings','mean'))\n",
    "blog_rating_stats.hist(figsize=(10,3),bins=100)"
   ]
  },
  {
   "cell_type": "markdown",
   "metadata": {},
   "source": [
    "### <b><span style='color:#686dec'>Blog Rating Segmentation</span> </b> \n",
    "\n",
    "### <b><span style='color:#686dec'>Select subset</span> </b> \n",
    "\n",
    "Lets filter the blog articles into different groups (`type`), which will help us in providing different types of recommendations \n",
    "\n",
    "Evidently not all article posts are liked the same by users. Some articles have not even been discivered by many, yet we dont really know if we should recommend them. Some posts we should probably avoid recommending at all, so its useful to segment the posts by rating."
   ]
  },
  {
   "cell_type": "code",
   "execution_count": 26,
   "metadata": {},
   "outputs": [],
   "source": [
    "blogs = blogs.join(blog_ratings.groupby('blog_id').agg(nratings=('ratings','count')))\n",
    "blogs = blogs.join(blog_ratings.groupby('blog_id').agg(rating=('ratings','mean')).round(2))\n",
    "\n",
    "blogs['nratings'] = blogs['nratings'].fillna(0)\n",
    "blogs['nratings'] = blogs['nratings'].astype('int')"
   ]
  },
  {
   "cell_type": "code",
   "execution_count": 27,
   "metadata": {},
   "outputs": [
    {
     "data": {
      "text/plain": [
       "<Axes: xlabel='rating', ylabel='Count'>"
      ]
     },
     "execution_count": 27,
     "metadata": {},
     "output_type": "execute_result"
    },
    {
     "data": {
      "image/png": "[encoded data removed]",
      "text/plain": [
       "<Figure size 640x480 with 1 Axes>"
      ]
     },
     "metadata": {},
     "output_type": "display_data"
    }
   ],
   "source": [
    "blogs.loc[(blogs['nratings'] == 0),'type'] = 'undiscovered'\n",
    "blogs.loc[(blogs['rating'] >= 4),'type'] = 'excellent'\n",
    "blogs.loc[(blogs['rating'] <= 2.5),'type'] = 'poor'\n",
    "blogs.loc[(blogs['rating'] > 2.5) & (blogs['rating'] < 3.5) ,'type'] = 'average'\n",
    "blogs.loc[(blogs['rating'] > 3.5) & (blogs['rating'] < 4) ,'type'] = 'good'\n",
    "sns.histplot(blogs,x='rating',hue='type')"
   ]
  },
  {
   "cell_type": "code",
   "execution_count": 28,
   "metadata": {},
   "outputs": [
    {
     "data": {
      "text/plain": [
       "type\n",
       "average         6732\n",
       "excellent        316\n",
       "good            1172\n",
       "poor             903\n",
       "undiscovered     761\n",
       "Name: author_name, dtype: int64"
      ]
     },
     "execution_count": 28,
     "metadata": {},
     "output_type": "execute_result"
    }
   ],
   "source": [
    "blogs.groupby('type')['author_name'].count()"
   ]
  },
  {
   "cell_type": "markdown",
   "metadata": {},
   "source": [
    "- We can see that not all `topic` have articles in `excellent` group\n",
    "- We should combine thr groups `good` and `excellent` into one group and use them as top articles to read"
   ]
  },
  {
   "cell_type": "code",
   "execution_count": 29,
   "metadata": {},
   "outputs": [
    {
     "name": "stdout",
     "output_type": "stream",
     "text": [
      "topic                 type        \n",
      "Cryptocurrency        average         250\n",
      "                      excellent         7\n",
      "                      good             38\n",
      "                      poor             23\n",
      "                      undiscovered      1\n",
      "Software-Development  average         272\n",
      "                      good             21\n",
      "                      poor              5\n",
      "                      undiscovered      1\n",
      "ai                    average         383\n",
      "                      excellent        60\n",
      "                      good             94\n",
      "                      poor            119\n",
      "                      undiscovered      6\n",
      "android               average         361\n",
      "                      excellent         2\n",
      "                      good             38\n",
      "                      poor             14\n",
      "                      undiscovered      1\n",
      "app-development       average         281\n",
      "                      good             29\n",
      "                      poor              3\n",
      "                      undiscovered      1\n",
      "backend               average         197\n",
      "                      good             18\n",
      "                      poor              4\n",
      "                      undiscovered    118\n",
      "backend-development   average         191\n",
      "                      good             19\n",
      "                      poor              3\n",
      "                      undiscovered     92\n",
      "blockchain            average         381\n",
      "                      excellent        31\n",
      "                      good             85\n",
      "                      poor             98\n",
      "                      undiscovered      1\n",
      "cloud-computing       average         308\n",
      "                      excellent        38\n",
      "                      good             77\n",
      "                      poor             95\n",
      "                      undiscovered      1\n",
      "cloud-services        average         193\n",
      "                      excellent         6\n",
      "                      good             44\n",
      "                      poor             31\n",
      "                      undiscovered     45\n",
      "cybersecurity         average         393\n",
      "                      excellent        36\n",
      "                      good             77\n",
      "                      poor             78\n",
      "                      undiscovered      8\n",
      "data-analysis         average         361\n",
      "                      excellent        28\n",
      "                      good             98\n",
      "                      poor             77\n",
      "                      undiscovered      1\n",
      "data-science          average         316\n",
      "                      excellent         9\n",
      "                      good             47\n",
      "                      poor             46\n",
      "                      undiscovered      2\n",
      "deep-learning         average         291\n",
      "                      excellent        10\n",
      "                      good             68\n",
      "                      poor             28\n",
      "                      undiscovered      2\n",
      "dev-ops               average         256\n",
      "                      excellent        13\n",
      "                      good             57\n",
      "                      poor             42\n",
      "                      undiscovered      1\n",
      "flutter               average         295\n",
      "                      good             30\n",
      "                      poor              3\n",
      "                      undiscovered     10\n",
      "image-processing      average         238\n",
      "                      excellent        12\n",
      "                      good             38\n",
      "                      poor             25\n",
      "                      undiscovered     30\n",
      "information-security  average         254\n",
      "                      excellent        10\n",
      "                      good             39\n",
      "                      poor             26\n",
      "                      undiscovered     30\n",
      "machine-learning      average         299\n",
      "                      excellent        19\n",
      "                      good             67\n",
      "                      poor             47\n",
      "nlp                   average         195\n",
      "                      excellent         2\n",
      "                      good             27\n",
      "                      poor             15\n",
      "                      undiscovered    194\n",
      "security              average         341\n",
      "                      excellent        15\n",
      "                      good             66\n",
      "                      poor             64\n",
      "                      undiscovered      4\n",
      "web-development       average         355\n",
      "                      excellent         1\n",
      "                      good             40\n",
      "                      poor             18\n",
      "                      undiscovered    210\n",
      "web3                  average         321\n",
      "                      excellent        17\n",
      "                      good             55\n",
      "                      poor             39\n",
      "                      undiscovered      2\n"
     ]
    }
   ],
   "source": [
    "print(blogs.groupby(['topic','type'])['author_name'].count().to_string())"
   ]
  },
  {
   "cell_type": "markdown",
   "metadata": {},
   "source": [
    "## <div style=\"padding: 25px;color:white;margin:00px;font-size:60%;text-align:left;border-radius:10px;background-color:#686dec;overflow:hidden\"><b><span style='color:white'>4 | RECOMMENDATIONS FOR EXISTING USERS</b></div>\n",
    " \n",
    "First, we will start creating recommendations for existing users. Having a rating system evaluation for registered users only, users are quite likely to be familiar with how things work on the website, and so will probably tend to ingore posts with lower ratigs.   \n",
    "    \n",
    "#### <b><span style='color:#686dec'>Define subset segment for recommendations</span> </b>      \n",
    "    \n",
    "For this reason, lets create recommendations based on their previously rated content. We will do this by filtering `blogs` to include only subsets `good` and `excellent` only. From the above data exploration, we can see that these two subsets sfill do make a fair portion to choose from."
   ]
  },
  {
   "cell_type": "code",
   "execution_count": 98,
   "metadata": {},
   "outputs": [
    {
     "name": "stdout",
     "output_type": "stream",
     "text": [
      "1488 articles to recommend\n"
     ]
    }
   ],
   "source": [
    "recommended_posts = blogs[blogs['type'].isin(['good','excellent'])]\n",
    "print(recommended_posts.shape[0],'articles to recommend')\n",
    "\n",
    "# indicies of posts which are \"good\", \"excellent\" in blogs\n",
    "idx_recommended_posts = recommended_posts.blog_id"
   ]
  },
  {
   "cell_type": "code",
   "execution_count": 99,
   "metadata": {},
   "outputs": [],
   "source": [
    "# recommended blog article ratings\n",
    "data = blog_ratings[blog_ratings.blog_id.isin(idx_recommended_posts)]"
   ]
  },
  {
   "cell_type": "markdown",
   "metadata": {},
   "source": [
    "`user_id` and `blog_id` contain identifiers that are somewhat out of order, lets use ordered identifiers, utilising mappers"
   ]
  },
  {
   "cell_type": "code",
   "execution_count": 100,
   "metadata": {},
   "outputs": [
    {
     "name": "stderr",
     "output_type": "stream",
     "text": [
      "<ipython-input-100-58dcb817c81f>:12: SettingWithCopyWarning: \n",
      "A value is trying to be set on a copy of a slice from a DataFrame.\n",
      "Try using .loc[row_indexer,col_indexer] = value instead\n",
      "\n",
      "See the caveats in the documentation: https://pandas.pydata.org/pandas-docs/stable/user_guide/indexing.html#returning-a-view-versus-a-copy\n",
      "  data['user_id'] = data['user_id'].map(user_id2idx)\n",
      "<ipython-input-100-58dcb817c81f>:13: SettingWithCopyWarning: \n",
      "A value is trying to be set on a copy of a slice from a DataFrame.\n",
      "Try using .loc[row_indexer,col_indexer] = value instead\n",
      "\n",
      "See the caveats in the documentation: https://pandas.pydata.org/pandas-docs/stable/user_guide/indexing.html#returning-a-view-versus-a-copy\n",
      "  data['blog_id'] = data['blog_id'].map(item_id2idx)\n"
     ]
    },
    {
     "data": {
      "text/plain": [
       "(25991, 9)"
      ]
     },
     "execution_count": 100,
     "metadata": {},
     "output_type": "execute_result"
    }
   ],
   "source": [
    "# import warnings; warnings.filterwarnings('ignore')\n",
    "\n",
    "all_users = data['user_id'].unique().tolist()\n",
    "all_blogs = data['blog_id'].unique().tolist()\n",
    "\n",
    "n_users = len(all_users); n_items = len(all_blogs)\n",
    "user_id2idx = dict(zip(all_users,range(n_users)))\n",
    "item_id2idx = dict(zip(all_blogs,range(n_items)))\n",
    "idx2user_id = {j:i for i,j in user_id2idx.items()}\n",
    "idx2item_id = {j:i for i,j in item_id2idx.items()}\n",
    "\n",
    "data['user_id'] = data['user_id'].map(user_id2idx)\n",
    "data['blog_id'] = data['blog_id'].map(item_id2idx)\n",
    "data.shape"
   ]
  },
  {
   "cell_type": "markdown",
   "metadata": {},
   "source": [
    "### <b><span style='color:#686dec'>Define recommendation approach</span> </b>    \n",
    "The first approach we will try is a rating based `SVD` decomposition approach. We will be using the scipy realisation, and simply have split the the enitr process of data preprocessing and recommendation generation into two separate classes:\n",
    "- `BaseFactorizationModel` contains the constructor, which simply defines the names of columns, indicies and ratings, as well as set placeholders for `user` and `item` matrices (output of SVD decomposition). The class also contains method `get_rating_matrix` which generate the rating matrix (matrix contains user rating data for each article) and a generic rating prediction method `predict`, which simply interprets the decomposed matrices scalar product (scores) and returns the highest values (top k) for each user\n",
    "\n",
    "- `SVD` contains the `fit` method, which is the matrix factorisation itself"
   ]
  },
  {
   "cell_type": "code",
   "execution_count": 101,
   "metadata": {},
   "outputs": [],
   "source": [
    "class BaseFactorizationModel:\n",
    "    \n",
    "    # constructor, define user, item and rating column names\n",
    "    def __init__(self, random_state=0,\n",
    "                 user_col='user_id', \n",
    "                 item_col='blog_id', \n",
    "                 rating_col='ratings'):\n",
    "        \n",
    "        self.random_state = np.random.RandomState(random_state)\n",
    "        self.user_col = user_col\n",
    "        self.item_col = item_col\n",
    "        self.rating_col = rating_col\n",
    "        self.user_matrix = None\n",
    "        self.item_matrix = None\n",
    "\n",
    "    # matrix which we will decompose\n",
    "    def get_rating_matrix(self, data):\n",
    "        return pd.pivot_table(\n",
    "            data,\n",
    "            values=self.rating_col,\n",
    "            index=self.user_col,\n",
    "            columns=self.item_col,\n",
    "            fill_value=0\n",
    "            ).values\n",
    "\n",
    "    \n",
    "    \"\"\"\n",
    "    \n",
    "    When we receive the matrix with scores, for each user\n",
    "    sort and get the top k \n",
    "    \n",
    "    \"\"\"\n",
    "    \n",
    "    def predict(self, \n",
    "                scores,  # (user_id,blog_id) score matrix\n",
    "                rating_matrix=None, # (user_id,blog_id) rating matrix\n",
    "                filter_seen=False, \n",
    "                k=5):\n",
    "        \n",
    "        # filter out films that already have been seen \n",
    "        if filter_seen:\n",
    "            scores = np.multiply(scores,\n",
    "            np.invert(rating_matrix.astype(bool)))\n",
    "\n",
    "        # scores index : userId column : blog_id \n",
    "\n",
    "        # get indicies of top k scores (indicies : blog_id) in user array\n",
    "        ind_part = np.argpartition(scores, -k + 1)[:, -k:].copy()  \n",
    "\n",
    "        # get the values of the top k scores \n",
    "        scores_not_sorted = np.take_along_axis(scores, ind_part, axis=1)\n",
    "\n",
    "        # indicies of scores from lowest to highest \n",
    "        ind_sorted = np.argsort(scores_not_sorted, axis=1) \n",
    "\n",
    "        # scores from lowest to highest \n",
    "        scores_sorted = np.sort(scores_not_sorted, axis=1) \n",
    "\n",
    "        # get the indicies of the movieId with the highest scores\n",
    "        indices = np.take_along_axis(ind_part, ind_sorted, axis=1)\n",
    "\n",
    "        # for each user return the movies with the highest scores\n",
    "        preds = pd.DataFrame({\n",
    "            self.user_col: range(scores.shape[0]), # each user \n",
    "            self.item_col: np.flip(indices, axis=1).tolist(), # movieId index \n",
    "            self.rating_col: np.flip(scores_sorted.round(3), axis=1).tolist() # movieId score\n",
    "            })\n",
    "        \n",
    "        # convert arrays (user_col,item_col) into rows for each user \n",
    "        #preds = preds.explode([self.item_col, self.rating_col])\n",
    "\n",
    "        return preds"
   ]
  },
  {
   "cell_type": "code",
   "execution_count": 102,
   "metadata": {},
   "outputs": [],
   "source": [
    "from scipy.sparse import csr_matrix\n",
    "from scipy.sparse.linalg import svds\n",
    "\n",
    "class SVD(BaseFactorizationModel):\n",
    "    \n",
    "    def __init__(self, \n",
    "                 random_state=0, \n",
    "                 user_col='user_id', \n",
    "                 item_col='blog_id',\n",
    "                 n_factors=100): # hyperparameter\n",
    "        super().__init__(random_state, user_col, item_col)\n",
    "        self.n_factors = n_factors\n",
    "\n",
    "    \"\"\"\n",
    "    \n",
    "    Decompose the rating matrix into user_id and item_id matrices\n",
    "    followed by the scalar multiplication of the them\n",
    "    \n",
    "    \"\"\"\n",
    "        \n",
    "    def fit(self, data):\n",
    "        \n",
    "        # user,movie rating matrix\n",
    "        self.rating_matrix = self.get_rating_matrix(data) # (unique users,unique films) ratings\n",
    "        csr_rating_matrix = csr_matrix(self.rating_matrix.astype(float))\n",
    "        \n",
    "        # svd decomposition \n",
    "        user_matrix, singular_values, item_matrix = svds(A=csr_rating_matrix, \n",
    "                                                         k=self.n_factors)\n",
    "    \n",
    "        user_matrix = user_matrix * np.sqrt(singular_values)  # (unique users,k latent features)\n",
    "        item_matrix = item_matrix.T * np.sqrt(singular_values) # (unique films, k latent features)\n",
    "        self.scores = user_matrix @ item_matrix.T  # score matrix for each user & film (unique users, unique films)\n",
    "        \n",
    "        self.user_matrix = user_matrix\n",
    "        self.item_matrix = item_matrix"
   ]
  },
  {
   "cell_type": "code",
   "execution_count": 103,
   "metadata": {},
   "outputs": [
    {
     "name": "stdout",
     "output_type": "stream",
     "text": [
      "Rating matrix size (4280, 1485)\n",
      "Decomposed matrices scalar multiplication (scores) (4280, 1485)\n"
     ]
    }
   ],
   "source": [
    "# SVD decomposition of rating matrix\n",
    "svd_model = SVD()\n",
    "svd_model.fit(data)\n",
    "print('Rating matrix size',svd_model.rating_matrix.shape)\n",
    "\n",
    "# extract the too values for each user_id\n",
    "preds_svd = svd_model.predict(svd_model.scores, \n",
    "                              svd_model.rating_matrix) \n",
    "\n",
    "print('Decomposed matrices scalar multiplication (scores)',svd_model.scores.shape)"
   ]
  },
  {
   "cell_type": "markdown",
   "metadata": {},
   "source": [
    "### <b><span style='color:#686dec'>Check recommendations</span> </b>\n",
    "\n",
    "- Now lets check the top recommendations for a user based on their rating history. \n",
    "- For this particular user we can see that the user is mostly interested in the topic `backend-developement`\n",
    "- Top k recommendations from `SVD` factorisation model are also from this genre, and their average ratings are also quite high, which indicates that the model works as expected."
   ]
  },
  {
   "cell_type": "code",
   "execution_count": 104,
   "metadata": {},
   "outputs": [
    {
     "data": {
      "text/html": [
       "<div>\n",
       "<style scoped>\n",
       "    .dataframe tbody tr th:only-of-type {\n",
       "        vertical-align: middle;\n",
       "    }\n",
       "\n",
       "    .dataframe tbody tr th {\n",
       "        vertical-align: top;\n",
       "    }\n",
       "\n",
       "    .dataframe thead th {\n",
       "        text-align: right;\n",
       "    }\n",
       "</style>\n",
       "<table border=\"1\" class=\"dataframe\">\n",
       "  <thead>\n",
       "    <tr style=\"text-align: right;\">\n",
       "      <th></th>\n",
       "      <th>blog_id</th>\n",
       "      <th>author_id</th>\n",
       "      <th>blog_title</th>\n",
       "      <th>blog_preview</th>\n",
       "      <th>topic</th>\n",
       "      <th>scrape_time</th>\n",
       "      <th>author_name</th>\n",
       "      <th>nratings</th>\n",
       "      <th>rating</th>\n",
       "      <th>type</th>\n",
       "    </tr>\n",
       "  </thead>\n",
       "  <tbody>\n",
       "    <tr>\n",
       "      <th>2881</th>\n",
       "      <td>2908</td>\n",
       "      <td>2257</td>\n",
       "      <td>Why Do Some Programmers Say Frontend Is Easier...</td>\n",
       "      <td>So, you’re wondering if frontend development i...</td>\n",
       "      <td>backend-development</td>\n",
       "      <td>2023-04-04 08:53:52</td>\n",
       "      <td>Flatlogic Platform</td>\n",
       "      <td>45</td>\n",
       "      <td>3.70</td>\n",
       "      <td>good</td>\n",
       "    </tr>\n",
       "    <tr>\n",
       "      <th>2893</th>\n",
       "      <td>2920</td>\n",
       "      <td>2267</td>\n",
       "      <td>What are keywords in python programming</td>\n",
       "      <td>In Python, a keyword is a reserved word that h...</td>\n",
       "      <td>backend-development</td>\n",
       "      <td>2023-04-04 08:53:52</td>\n",
       "      <td>Anwar Ali</td>\n",
       "      <td>40</td>\n",
       "      <td>3.76</td>\n",
       "      <td>good</td>\n",
       "    </tr>\n",
       "    <tr>\n",
       "      <th>2908</th>\n",
       "      <td>2935</td>\n",
       "      <td>2279</td>\n",
       "      <td>Exploring the Power of JavaScript Maps: A Begi...</td>\n",
       "      <td>In JavaScript, a map is a built-in data struct...</td>\n",
       "      <td>backend-development</td>\n",
       "      <td>2023-04-04 08:53:52</td>\n",
       "      <td>Mohammad Basit</td>\n",
       "      <td>43</td>\n",
       "      <td>3.57</td>\n",
       "      <td>good</td>\n",
       "    </tr>\n",
       "    <tr>\n",
       "      <th>2918</th>\n",
       "      <td>2945</td>\n",
       "      <td>2285</td>\n",
       "      <td>Observer design pattern: Behavioral pattern</td>\n",
       "      <td>One of the most commonly used Behavioral patte...</td>\n",
       "      <td>backend-development</td>\n",
       "      <td>2023-04-04 08:53:52</td>\n",
       "      <td>Atul Kumar, SDE1 @ Paytm</td>\n",
       "      <td>37</td>\n",
       "      <td>3.91</td>\n",
       "      <td>good</td>\n",
       "    </tr>\n",
       "    <tr>\n",
       "      <th>3041</th>\n",
       "      <td>3068</td>\n",
       "      <td>2289</td>\n",
       "      <td>CLASS META- Django models</td>\n",
       "      <td>Meta in our English oxford dictionary means se...</td>\n",
       "      <td>backend-development</td>\n",
       "      <td>2023-04-04 08:53:52</td>\n",
       "      <td>Kkipngenokoech</td>\n",
       "      <td>37</td>\n",
       "      <td>3.62</td>\n",
       "      <td>good</td>\n",
       "    </tr>\n",
       "  </tbody>\n",
       "</table>\n",
       "</div>"
      ],
      "text/plain": [
       "      blog_id  author_id                                         blog_title  \\\n",
       "2881     2908       2257  Why Do Some Programmers Say Frontend Is Easier...   \n",
       "2893     2920       2267            What are keywords in python programming   \n",
       "2908     2935       2279  Exploring the Power of JavaScript Maps: A Begi...   \n",
       "2918     2945       2285        Observer design pattern: Behavioral pattern   \n",
       "3041     3068       2289                          CLASS META- Django models   \n",
       "\n",
       "                                           blog_preview                topic  \\\n",
       "2881  So, you’re wondering if frontend development i...  backend-development   \n",
       "2893  In Python, a keyword is a reserved word that h...  backend-development   \n",
       "2908  In JavaScript, a map is a built-in data struct...  backend-development   \n",
       "2918  One of the most commonly used Behavioral patte...  backend-development   \n",
       "3041  Meta in our English oxford dictionary means se...  backend-development   \n",
       "\n",
       "              scrape_time               author_name  nratings  rating  type  \n",
       "2881  2023-04-04 08:53:52        Flatlogic Platform        45    3.70  good  \n",
       "2893  2023-04-04 08:53:52                 Anwar Ali        40    3.76  good  \n",
       "2908  2023-04-04 08:53:52            Mohammad Basit        43    3.57  good  \n",
       "2918  2023-04-04 08:53:52  Atul Kumar, SDE1 @ Paytm        37    3.91  good  \n",
       "3041  2023-04-04 08:53:52            Kkipngenokoech        37    3.62  good  "
      ]
     },
     "execution_count": 104,
     "metadata": {},
     "output_type": "execute_result"
    }
   ],
   "source": [
    "def show_user_predictions(user_id):\n",
    "    nonmapped = preds_svd[preds_svd['user_id'] == user_id]['blog_id'].explode().tolist()\n",
    "    mapped = [idx2item_id[i] for i in nonmapped]\n",
    "    return blogs[blogs.blog_id.isin(mapped)]\n",
    "\n",
    "show_user_predictions(4277)"
   ]
  },
  {
   "cell_type": "code",
   "execution_count": 105,
   "metadata": {},
   "outputs": [
    {
     "data": {
      "text/html": [
       "<div>\n",
       "<style scoped>\n",
       "    .dataframe tbody tr th:only-of-type {\n",
       "        vertical-align: middle;\n",
       "    }\n",
       "\n",
       "    .dataframe tbody tr th {\n",
       "        vertical-align: top;\n",
       "    }\n",
       "\n",
       "    .dataframe thead th {\n",
       "        text-align: right;\n",
       "    }\n",
       "</style>\n",
       "<table border=\"1\" class=\"dataframe\">\n",
       "  <thead>\n",
       "    <tr style=\"text-align: right;\">\n",
       "      <th></th>\n",
       "      <th>blog_id</th>\n",
       "      <th>user_id</th>\n",
       "      <th>ratings</th>\n",
       "      <th>author_id</th>\n",
       "      <th>blog_title</th>\n",
       "      <th>blog_preview</th>\n",
       "      <th>topic</th>\n",
       "      <th>scrape_time</th>\n",
       "      <th>author_name</th>\n",
       "    </tr>\n",
       "  </thead>\n",
       "  <tbody>\n",
       "    <tr>\n",
       "      <th>199857</th>\n",
       "      <td>326</td>\n",
       "      <td>4277</td>\n",
       "      <td>5.0</td>\n",
       "      <td>2226</td>\n",
       "      <td>What caused Discord to switch from Go to Rust?</td>\n",
       "      <td>NOTE: This was one of the factors that led Dis...</td>\n",
       "      <td>backend-development</td>\n",
       "      <td>2023-04-04 08:53:52</td>\n",
       "      <td>Siddharth Pandey</td>\n",
       "    </tr>\n",
       "    <tr>\n",
       "      <th>199862</th>\n",
       "      <td>320</td>\n",
       "      <td>4277</td>\n",
       "      <td>5.0</td>\n",
       "      <td>2289</td>\n",
       "      <td>CLASS META- Django models</td>\n",
       "      <td>Meta in our English oxford dictionary means se...</td>\n",
       "      <td>backend-development</td>\n",
       "      <td>2023-04-04 08:53:52</td>\n",
       "      <td>Kkipngenokoech</td>\n",
       "    </tr>\n",
       "    <tr>\n",
       "      <th>199891</th>\n",
       "      <td>321</td>\n",
       "      <td>4277</td>\n",
       "      <td>5.0</td>\n",
       "      <td>2285</td>\n",
       "      <td>Observer design pattern: Behavioral pattern</td>\n",
       "      <td>One of the most commonly used Behavioral patte...</td>\n",
       "      <td>backend-development</td>\n",
       "      <td>2023-04-04 08:53:52</td>\n",
       "      <td>Atul Kumar, SDE1 @ Paytm</td>\n",
       "    </tr>\n",
       "    <tr>\n",
       "      <th>199904</th>\n",
       "      <td>318</td>\n",
       "      <td>4277</td>\n",
       "      <td>5.0</td>\n",
       "      <td>2257</td>\n",
       "      <td>Why Do Some Programmers Say Frontend Is Easier...</td>\n",
       "      <td>So, you’re wondering if frontend development i...</td>\n",
       "      <td>backend-development</td>\n",
       "      <td>2023-04-04 08:53:52</td>\n",
       "      <td>Flatlogic Platform</td>\n",
       "    </tr>\n",
       "    <tr>\n",
       "      <th>199908</th>\n",
       "      <td>315</td>\n",
       "      <td>4277</td>\n",
       "      <td>5.0</td>\n",
       "      <td>2279</td>\n",
       "      <td>Exploring the Power of JavaScript Maps: A Begi...</td>\n",
       "      <td>In JavaScript, a map is a built-in data struct...</td>\n",
       "      <td>backend-development</td>\n",
       "      <td>2023-04-04 08:53:52</td>\n",
       "      <td>Mohammad Basit</td>\n",
       "    </tr>\n",
       "    <tr>\n",
       "      <th>199913</th>\n",
       "      <td>319</td>\n",
       "      <td>4277</td>\n",
       "      <td>5.0</td>\n",
       "      <td>2267</td>\n",
       "      <td>What are keywords in python programming</td>\n",
       "      <td>In Python, a keyword is a reserved word that h...</td>\n",
       "      <td>backend-development</td>\n",
       "      <td>2023-04-04 08:53:52</td>\n",
       "      <td>Anwar Ali</td>\n",
       "    </tr>\n",
       "    <tr>\n",
       "      <th>199863</th>\n",
       "      <td>312</td>\n",
       "      <td>4277</td>\n",
       "      <td>3.5</td>\n",
       "      <td>2359</td>\n",
       "      <td>E se?</td>\n",
       "      <td>Olá estou aqui denovo, dessa vez não é para fa...</td>\n",
       "      <td>backend-development</td>\n",
       "      <td>2023-04-04 08:53:52</td>\n",
       "      <td>Vinicius Mazzeo</td>\n",
       "    </tr>\n",
       "    <tr>\n",
       "      <th>199860</th>\n",
       "      <td>566</td>\n",
       "      <td>4277</td>\n",
       "      <td>2.0</td>\n",
       "      <td>2397</td>\n",
       "      <td>APIs lifecycle Management 101</td>\n",
       "      <td>Learn everything about APIs lifecycle manageme...</td>\n",
       "      <td>backend-development</td>\n",
       "      <td>2023-04-04 08:53:52</td>\n",
       "      <td>Developer Nation</td>\n",
       "    </tr>\n",
       "    <tr>\n",
       "      <th>199866</th>\n",
       "      <td>317</td>\n",
       "      <td>4277</td>\n",
       "      <td>2.0</td>\n",
       "      <td>2372</td>\n",
       "      <td>A arte do desenvolvimento web: um guia para in...</td>\n",
       "      <td>Se você está buscando dar os primeiros passos ...</td>\n",
       "      <td>backend-development</td>\n",
       "      <td>2023-04-04 08:53:52</td>\n",
       "      <td>Lucas from Woogon</td>\n",
       "    </tr>\n",
       "    <tr>\n",
       "      <th>199923</th>\n",
       "      <td>313</td>\n",
       "      <td>4277</td>\n",
       "      <td>0.5</td>\n",
       "      <td>2240</td>\n",
       "      <td>Build A Signup, Login and Logout Feature</td>\n",
       "      <td>If you’re getting familiar with Rails, and fee...</td>\n",
       "      <td>backend-development</td>\n",
       "      <td>2023-04-04 08:53:52</td>\n",
       "      <td>Rebecca Wollard</td>\n",
       "    </tr>\n",
       "  </tbody>\n",
       "</table>\n",
       "</div>"
      ],
      "text/plain": [
       "        blog_id  user_id  ratings  author_id  \\\n",
       "199857      326     4277      5.0       2226   \n",
       "199862      320     4277      5.0       2289   \n",
       "199891      321     4277      5.0       2285   \n",
       "199904      318     4277      5.0       2257   \n",
       "199908      315     4277      5.0       2279   \n",
       "199913      319     4277      5.0       2267   \n",
       "199863      312     4277      3.5       2359   \n",
       "199860      566     4277      2.0       2397   \n",
       "199866      317     4277      2.0       2372   \n",
       "199923      313     4277      0.5       2240   \n",
       "\n",
       "                                               blog_title  \\\n",
       "199857     What caused Discord to switch from Go to Rust?   \n",
       "199862                          CLASS META- Django models   \n",
       "199891        Observer design pattern: Behavioral pattern   \n",
       "199904  Why Do Some Programmers Say Frontend Is Easier...   \n",
       "199908  Exploring the Power of JavaScript Maps: A Begi...   \n",
       "199913            What are keywords in python programming   \n",
       "199863                                              E se?   \n",
       "199860                      APIs lifecycle Management 101   \n",
       "199866  A arte do desenvolvimento web: um guia para in...   \n",
       "199923           Build A Signup, Login and Logout Feature   \n",
       "\n",
       "                                             blog_preview  \\\n",
       "199857  NOTE: This was one of the factors that led Dis...   \n",
       "199862  Meta in our English oxford dictionary means se...   \n",
       "199891  One of the most commonly used Behavioral patte...   \n",
       "199904  So, you’re wondering if frontend development i...   \n",
       "199908  In JavaScript, a map is a built-in data struct...   \n",
       "199913  In Python, a keyword is a reserved word that h...   \n",
       "199863  Olá estou aqui denovo, dessa vez não é para fa...   \n",
       "199860  Learn everything about APIs lifecycle manageme...   \n",
       "199866  Se você está buscando dar os primeiros passos ...   \n",
       "199923  If you’re getting familiar with Rails, and fee...   \n",
       "\n",
       "                      topic          scrape_time               author_name  \n",
       "199857  backend-development  2023-04-04 08:53:52          Siddharth Pandey  \n",
       "199862  backend-development  2023-04-04 08:53:52            Kkipngenokoech  \n",
       "199891  backend-development  2023-04-04 08:53:52  Atul Kumar, SDE1 @ Paytm  \n",
       "199904  backend-development  2023-04-04 08:53:52        Flatlogic Platform  \n",
       "199908  backend-development  2023-04-04 08:53:52            Mohammad Basit  \n",
       "199913  backend-development  2023-04-04 08:53:52                 Anwar Ali  \n",
       "199863  backend-development  2023-04-04 08:53:52           Vinicius Mazzeo  \n",
       "199860  backend-development  2023-04-04 08:53:52          Developer Nation  \n",
       "199866  backend-development  2023-04-04 08:53:52         Lucas from Woogon  \n",
       "199923  backend-development  2023-04-04 08:53:52           Rebecca Wollard  "
      ]
     },
     "execution_count": 105,
     "metadata": {},
     "output_type": "execute_result"
    }
   ],
   "source": [
    "# user read and rating history \n",
    "data[data['user_id'] == 4277].sort_values('ratings',ascending=False)"
   ]
  },
  {
   "cell_type": "markdown",
   "metadata": {},
   "source": [
    "## <div style=\"padding: 25px;color:white;margin:00px;font-size:60%;text-align:left;border-radius:10px;background-color:#686dec;overflow:hidden\"><b><span style='color:white'>5 | SIMILAR ARTICLE RECOMMENDATIONS</b></div>    \n",
    "    \n",
    "Now lets look at a different approach, one which utilises textual data information. Whilst the data in column `blog_preview` contains unstructured data, we can utilise a transformed matrix once again, however this time using Bag of Words (`BoW`) and a similarity evaluation method, lets use something standard `cosine similarity`"
   ]
  },
  {
   "cell_type": "code",
   "execution_count": 106,
   "metadata": {},
   "outputs": [
    {
     "ename": "ModuleNotFoundError",
     "evalue": "No module named 'sklearn.feature_selection.text'",
     "output_type": "error",
     "traceback": [
      "\u001b[0;31m---------------------------------------------------------------------------\u001b[0m",
      "\u001b[0;31mModuleNotFoundError\u001b[0m                       Traceback (most recent call last)",
      "\u001b[0;32m<ipython-input-106-fd91234d0764>\u001b[0m in \u001b[0;36m<module>\u001b[0;34m\u001b[0m\n\u001b[0;32m----> 1\u001b[0;31m \u001b[0;32mfrom\u001b[0m \u001b[0msklearn\u001b[0m\u001b[0;34m.\u001b[0m\u001b[0mfeature_selection\u001b[0m\u001b[0;34m.\u001b[0m\u001b[0mtext\u001b[0m \u001b[0;32mimport\u001b[0m \u001b[0mCountVectorizer\u001b[0m\u001b[0;34m\u001b[0m\u001b[0;34m\u001b[0m\u001b[0m\n\u001b[0m",
      "\u001b[0;31mModuleNotFoundError\u001b[0m: No module named 'sklearn.feature_selection.text'"
     ]
    }
   ],
   "source": [
    "from sklearn.feature_selection "
   ]
  }
 ],
 "metadata": {
  "kernelspec": {
   "display_name": "Python 3 (ipykernel)",
   "language": "python",
   "name": "python3"
  },
  "language_info": {
   "codemirror_mode": {
    "name": "ipython",
    "version": 3
   },
   "file_extension": ".py",
   "mimetype": "text/x-python",
   "name": "python",
   "nbconvert_exporter": "python",
   "pygments_lexer": "ipython3",
   "version": "3.12.2"
  }
 },
 "nbformat": 4,
 "nbformat_minor": 4
}
