{
 "cells": [
  {
   "metadata": {
    "slideshow": {
     "slide_type": ""
    },
    "tags": []
   },
   "id": "40385b9c-8ea2-4d0d-b06f-111e0f35ce09",
   "cell_type": "markdown",
   "source": "# **Feature Engineering and Modelling**\n\n\n## **1. Background**\n\n### **Final dataset refinement**\n\n**Estelle** conducted a further review and has provided you with a final dataset to use this for this task, named “data_for_predictions.csv”. \n\nThe outputs of your work will be shared with the AD and Estelle has given you a few points to include within the notebook:\n\n- Why did you choose the evaluation metrics that you used? Please elaborate on your choices.\n- Do you think that the model performance is satisfactory? Give justification for your answer.\n- Make sure that your work is presented clearly with comments and explanations\n\n\n### **Binary Classifier**\n\nFrom our business requirements, we know that we need to understand why our client's customers are churning. We were given data that corresponds to a binary outcome for each of their customer, which represens the fact of churn in three months (either churn, **target = 1** or stayed, **taget = 0**)\n\nWe also noted that various features which we triend to engineer all have very weak linear correlation to the target variable, which suggests that to undestand why customers churn we need to turn to a model which is able to capture the complexity of our non linearity in the dataset\n\nFor this reason we decide to treat this problem as as binary classifiation problem in which our model will learn to differentiate between the two target outcomes (churn or stayed)\n\n### **Descriptive Model**\n\nOur requirement for our model is that it needs to be able to explain which features we pass into it is relevant and those which are not, for this reason we can turn our attention to **`Random Forest`**"
  },
  {
   "metadata": {
    "trusted": false
   },
   "id": "b5a83e92",
   "cell_type": "code",
   "source": "import dask.dataframe as dd\n\ndf = dd.read_parquet('data_for_predictions.parquet')\ndf.head()",
   "execution_count": 18,
   "outputs": [
    {
     "data": {
      "text/html": "<div>\n<style scoped>\n    .dataframe tbody tr th:only-of-type {\n        vertical-align: middle;\n    }\n\n    .dataframe tbody tr th {\n        vertical-align: top;\n    }\n\n    .dataframe thead th {\n        text-align: right;\n    }\n</style>\n<table border=\"1\" class=\"dataframe\">\n  <thead>\n    <tr style=\"text-align: right;\">\n      <th></th>\n      <th>id</th>\n      <th>cons_12m</th>\n      <th>cons_gas_12m</th>\n      <th>cons_last_month</th>\n      <th>forecast_cons_12m</th>\n      <th>forecast_discount_energy</th>\n      <th>forecast_meter_rent_12m</th>\n      <th>forecast_price_energy_off_peak</th>\n      <th>forecast_price_energy_peak</th>\n      <th>forecast_price_pow_off_peak</th>\n      <th>...</th>\n      <th>months_modif_prod</th>\n      <th>months_renewal</th>\n      <th>channel_MISSING</th>\n      <th>channel_ewpakwlliwisiwduibdlfmalxowmwpci</th>\n      <th>channel_foosdfpfkusacimwkcsosbicdxkicaua</th>\n      <th>channel_lmkebamcaaclubfxadlmueccxoimlema</th>\n      <th>channel_usilxuppasemubllopkaafesmlibmsdf</th>\n      <th>origin_up_kamkkxfxxuwbdslkwifmmcsiusiuosws</th>\n      <th>origin_up_ldkssxwpmemidmecebumciepifcamkci</th>\n      <th>origin_up_lxidpiddsbxsbosboudacockeimpuepw</th>\n    </tr>\n  </thead>\n  <tbody>\n    <tr>\n      <th>0</th>\n      <td>24011ae4ebbe3035111d65fa7c15bc57</td>\n      <td>0.000000</td>\n      <td>4.739944</td>\n      <td>0.000000</td>\n      <td>0.000000</td>\n      <td>0.0</td>\n      <td>0.444045</td>\n      <td>0.114481</td>\n      <td>0.098142</td>\n      <td>40.606701</td>\n      <td>...</td>\n      <td>2</td>\n      <td>6</td>\n      <td>0</td>\n      <td>0</td>\n      <td>1</td>\n      <td>0</td>\n      <td>0</td>\n      <td>0</td>\n      <td>0</td>\n      <td>1</td>\n    </tr>\n    <tr>\n      <th>1</th>\n      <td>d29c2c54acc38ff3c0614d0a653813dd</td>\n      <td>3.668479</td>\n      <td>0.000000</td>\n      <td>0.000000</td>\n      <td>2.280920</td>\n      <td>0.0</td>\n      <td>1.237292</td>\n      <td>0.145711</td>\n      <td>0.000000</td>\n      <td>44.311378</td>\n      <td>...</td>\n      <td>76</td>\n      <td>4</td>\n      <td>1</td>\n      <td>0</td>\n      <td>0</td>\n      <td>0</td>\n      <td>0</td>\n      <td>1</td>\n      <td>0</td>\n      <td>0</td>\n    </tr>\n    <tr>\n      <th>2</th>\n      <td>764c75f661154dac3a6c254cd082ea7d</td>\n      <td>2.736397</td>\n      <td>0.000000</td>\n      <td>0.000000</td>\n      <td>1.689841</td>\n      <td>0.0</td>\n      <td>1.599009</td>\n      <td>0.165794</td>\n      <td>0.087899</td>\n      <td>44.311378</td>\n      <td>...</td>\n      <td>68</td>\n      <td>8</td>\n      <td>0</td>\n      <td>0</td>\n      <td>1</td>\n      <td>0</td>\n      <td>0</td>\n      <td>1</td>\n      <td>0</td>\n      <td>0</td>\n    </tr>\n    <tr>\n      <th>3</th>\n      <td>bba03439a292a1e166f80264c16191cb</td>\n      <td>3.200029</td>\n      <td>0.000000</td>\n      <td>0.000000</td>\n      <td>2.382089</td>\n      <td>0.0</td>\n      <td>1.318689</td>\n      <td>0.146694</td>\n      <td>0.000000</td>\n      <td>44.311378</td>\n      <td>...</td>\n      <td>69</td>\n      <td>9</td>\n      <td>0</td>\n      <td>0</td>\n      <td>0</td>\n      <td>1</td>\n      <td>0</td>\n      <td>1</td>\n      <td>0</td>\n      <td>0</td>\n    </tr>\n    <tr>\n      <th>4</th>\n      <td>149d57cf92fc41cf94415803a877cb4b</td>\n      <td>3.646011</td>\n      <td>0.000000</td>\n      <td>2.721811</td>\n      <td>2.650065</td>\n      <td>0.0</td>\n      <td>2.122969</td>\n      <td>0.116900</td>\n      <td>0.100015</td>\n      <td>40.606701</td>\n      <td>...</td>\n      <td>71</td>\n      <td>9</td>\n      <td>1</td>\n      <td>0</td>\n      <td>0</td>\n      <td>0</td>\n      <td>0</td>\n      <td>1</td>\n      <td>0</td>\n      <td>0</td>\n    </tr>\n  </tbody>\n</table>\n<p>5 rows × 63 columns</p>\n</div>",
      "text/plain": "                                 id  cons_12m  cons_gas_12m  cons_last_month  \\\n0  24011ae4ebbe3035111d65fa7c15bc57  0.000000      4.739944         0.000000   \n1  d29c2c54acc38ff3c0614d0a653813dd  3.668479      0.000000         0.000000   \n2  764c75f661154dac3a6c254cd082ea7d  2.736397      0.000000         0.000000   \n3  bba03439a292a1e166f80264c16191cb  3.200029      0.000000         0.000000   \n4  149d57cf92fc41cf94415803a877cb4b  3.646011      0.000000         2.721811   \n\n   forecast_cons_12m  forecast_discount_energy  forecast_meter_rent_12m  \\\n0           0.000000                       0.0                 0.444045   \n1           2.280920                       0.0                 1.237292   \n2           1.689841                       0.0                 1.599009   \n3           2.382089                       0.0                 1.318689   \n4           2.650065                       0.0                 2.122969   \n\n   forecast_price_energy_off_peak  forecast_price_energy_peak  \\\n0                        0.114481                    0.098142   \n1                        0.145711                    0.000000   \n2                        0.165794                    0.087899   \n3                        0.146694                    0.000000   \n4                        0.116900                    0.100015   \n\n   forecast_price_pow_off_peak  ...  months_modif_prod  months_renewal  \\\n0                    40.606701  ...                  2               6   \n1                    44.311378  ...                 76               4   \n2                    44.311378  ...                 68               8   \n3                    44.311378  ...                 69               9   \n4                    40.606701  ...                 71               9   \n\n   channel_MISSING  channel_ewpakwlliwisiwduibdlfmalxowmwpci  \\\n0                0                                         0   \n1                1                                         0   \n2                0                                         0   \n3                0                                         0   \n4                1                                         0   \n\n   channel_foosdfpfkusacimwkcsosbicdxkicaua  \\\n0                                         1   \n1                                         0   \n2                                         1   \n3                                         0   \n4                                         0   \n\n   channel_lmkebamcaaclubfxadlmueccxoimlema  \\\n0                                         0   \n1                                         0   \n2                                         0   \n3                                         1   \n4                                         0   \n\n   channel_usilxuppasemubllopkaafesmlibmsdf  \\\n0                                         0   \n1                                         0   \n2                                         0   \n3                                         0   \n4                                         0   \n\n   origin_up_kamkkxfxxuwbdslkwifmmcsiusiuosws  \\\n0                                           0   \n1                                           1   \n2                                           1   \n3                                           1   \n4                                           1   \n\n   origin_up_ldkssxwpmemidmecebumciepifcamkci  \\\n0                                           0   \n1                                           0   \n2                                           0   \n3                                           0   \n4                                           0   \n\n   origin_up_lxidpiddsbxsbosboudacockeimpuepw  \n0                                           1  \n1                                           0  \n2                                           0  \n3                                           0  \n4                                           0  \n\n[5 rows x 63 columns]"
     },
     "execution_count": 18,
     "metadata": {},
     "output_type": "execute_result"
    }
   ]
  },
  {
   "metadata": {},
   "id": "2a7e0efb-61a5-4516-8e0f-0c7ea26b4798",
   "cell_type": "markdown",
   "source": "## **7. Finally, let's create a quick summary for the client**\n\nBefore we finish up, the client wants a quick update on the project progress. Your AD wants you to draft an abstract (executive summary) of your findings so far.\n\n### **Here is your task:**\n\nDevelop an abstract slide synthesizing all the findings from the project so far, keeping in mind that this will be for the key stakeholders meeting which the Head of the SME division, as well as other various stakeholders, will be attending.\n\nNote: a steering committee meeting is a meeting where the BCG team presents key findings and recommendations (and/or project progress) to key client stakeholders.\n\n\n**A few things to think about for this abstract include:**\n\n- What is the most important number or metric to share with the client?\n- What impact would the model have on the client’s bottom line?\n\nPlease note, there are multiple ways to approach the task and that the sample answer is just one way to do it.\n\n**If you are stuck:**\n\n- What do you think the client wants to hear? How much detail should you go into, especially with the technical details of your work? \n- Always test what you write with the “so what?” test, i.e. sharing a fact, even an interesting one, only matters if the client can actually do something useful with it.\n- E.g. 60% of your customers are from City A is pointless, but customers in City A should be prioritized for giving discount as they are among your most valuable ones, if true, is an actionable finding."
  },
  {
   "metadata": {
    "trusted": false
   },
   "id": "a8d62c92-b000-4896-be59-182692242bdf",
   "cell_type": "code",
   "source": "",
   "execution_count": null,
   "outputs": []
  }
 ],
 "metadata": {
  "kernelspec": {
   "name": "python3",
   "display_name": "Python 3",
   "language": "python"
  },
  "language_info": {
   "name": "python",
   "version": "3.10.4",
   "mimetype": "text/x-python",
   "codemirror_mode": {
    "name": "ipython",
    "version": 3
   },
   "pygments_lexer": "ipython3",
   "nbconvert_exporter": "python",
   "file_extension": ".py"
  }
 },
 "nbformat": 4,
 "nbformat_minor": 5
}