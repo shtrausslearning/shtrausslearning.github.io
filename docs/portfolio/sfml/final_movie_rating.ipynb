{
 "cells": [
  {
   "metadata": {
    "execution": {
     "iopub.status.busy": "2024-09-06T06:43:12.424335Z",
     "iopub.execute_input": "2024-09-06T06:43:12.424932Z",
     "iopub.status.idle": "2024-09-06T06:43:13.376149Z",
     "shell.execute_reply.started": "2024-09-06T06:43:12.424823Z",
     "shell.execute_reply": "2024-09-06T06:43:13.374669Z"
    },
    "trusted": false
   },
   "cell_type": "code",
   "source": "import json\nimport pandas as pd\nimport numpy as np\nfrom sklearn.preprocessing import LabelEncoder, OrdinalEncoder, OneHotEncoder\nfrom sklearn.linear_model import LinearRegression\nfrom sklearn.ensemble import RandomForestRegressor",
   "execution_count": 1,
   "outputs": []
  },
  {
   "metadata": {},
   "cell_type": "markdown",
   "source": "# Final Hackathon\n\n## <div style=\"padding: 30px;color:white;margin:00px;font-size:60%;text-align:left;border-radius:10px;background-color:#686dec;overflow:hidden\"><b><span style='color:white'>1 |</span></b> <b> ВВЕДЕНИЕ</b></div>\n\n### <b><span style='color:#686dec'> Финальный хакатон</span></b> \n\n- В качестве финального хакатона мы подготовили для вас соревнование по предсказанию рейтинга отзыва в интернет-магазине. \n- Соревнование реализовано на площадке kaggle. \n- Для соревнования используется датасет **отзывов с Amazon Kindle Store**\n\n### <b><span style='color:#686dec'> Постановки Задачи</span></b> \n\n- В этом ноуте мы рассмотрим пример **NLP задачю** классификации. \n- Нам предстоит создать модель которая может **предсказывать рейтинг товара**, на основе имеющихся данных"
  },
  {
   "metadata": {},
   "cell_type": "markdown",
   "source": "## <div style=\"padding: 30px;color:white;margin:00px;font-size:60%;text-align:left;border-radius:10px;background-color:#686dec;overflow:hidden\"><b><span style='color:white'>2 |</span></b> <b> ДАННЫЕ</b></div>\n\n### <b><span style='color:#686dec'>Чтение данных</span> </b> \n\nНачнем с чиением данных тренировочной и тестовой выборки, тестовую выборку мы будем использовать для **тренировки** и **валидации** модели, а тестовую выборку мы будем использовать для предсказания.\n"
  },
  {
   "metadata": {
    "execution": {
     "iopub.status.busy": "2023-05-07T18:23:12.264343Z",
     "iopub.execute_input": "2023-05-07T18:23:12.265113Z",
     "iopub.status.idle": "2023-05-07T18:23:12.500621Z",
     "shell.execute_reply.started": "2023-05-07T18:23:12.265066Z",
     "shell.execute_reply": "2023-05-07T18:23:12.499075Z"
    },
    "trusted": false
   },
   "cell_type": "code",
   "source": "train = pd.read_csv('/kaggle/input/sf-review-stars-prediction/train.csv',index_col=0).drop(columns='Unnamed: 0.1')\ntest = pd.read_csv('/kaggle/input/sf-review-stars-prediction/test.csv',index_col=0).drop(columns='Unnamed: 0.1')",
   "execution_count": 36,
   "outputs": []
  },
  {
   "metadata": {},
   "cell_type": "markdown",
   "source": "### <b><span style='color:#686dec'>Обзор данных</span> </b> \n\nОпишим остновные признаки\n\n- `ID` - идентификационный признак (нужен для сабмита)\n- `asin` - ID товара, например B000FA64PK\n- `helpful` - полезность рейтинга по мнению других пользователей, например 2/3.\n- `reviewText` - заголовок отзыва.\n- `reviewTime` - время создания отзыва.\n- `reviewerID` - ID автора отзыва, например A3SPTOKDG7WBLN.\n- `reviewerName` - имя автора отзыва.\n- `summary` - сжатое содержание отзыва.\n- `unixReviewTime` - время создания отзыва в виде timestamp.\n- `overall` - рейтинг товара – целевая переменная.\n- `features` - BERT эмбеддинги `reviewText`\n"
  },
  {
   "metadata": {
    "execution": {
     "iopub.status.busy": "2023-05-07T18:23:12.502967Z",
     "iopub.execute_input": "2023-05-07T18:23:12.503365Z",
     "iopub.status.idle": "2023-05-07T18:23:12.525146Z",
     "shell.execute_reply.started": "2023-05-07T18:23:12.503320Z",
     "shell.execute_reply": "2023-05-07T18:23:12.523460Z"
    },
    "trusted": false
   },
   "cell_type": "code",
   "source": "train.head()",
   "execution_count": 37,
   "outputs": [
    {
     "execution_count": 37,
     "output_type": "execute_result",
     "data": {
      "text/plain": "   ID        asin helpful  overall  \\\n0   0  B000F83SZQ  [0, 0]      5.0   \n1   1  B000F83SZQ  [2, 2]      4.0   \n2   2  B000F83SZQ  [2, 2]      4.0   \n3   3  B000F83SZQ  [1, 1]      5.0   \n4   4  B000F83SZQ  [0, 1]      4.0   \n\n                                          reviewText   reviewTime  \\\n0  I enjoy vintage books and movies so I enjoyed ...   05 5, 2014   \n1  This book is a reissue of an old one; the auth...   01 6, 2014   \n2  This was a fairly interesting read.  It had ol...   04 4, 2014   \n3  I'd never read any of the Amy Brewster mysteri...  02 19, 2014   \n4  If you like period pieces - clothing, lingo, y...  03 19, 2014   \n\n       reviewerID                         reviewerName             summary  \\\n0  A1F6404F1VG29J                           Avidreader  Nice vintage story   \n1   AN0N05A9LIJEQ                             critters        Different...   \n2   A795DMNCJILA6                                  dot               Oldie   \n3  A1FV0SX13TWVXQ  Elaine H. Turley \"Montana Songbird\"  I really liked it.   \n4  A3SPTOKDG7WBLN                   Father Dowling Fan      Period Mystery   \n\n   unixReviewTime                                           features  \n0      1399248000  [-1.2551e-01, 2.7282e-02, -3.9638e-02, -8.9909...  \n1      1388966400  [ 3.6394e-01, -5.9243e-02, 1.0343e-01, -3.1970...  \n2      1396569600  [ 2.8251e-01, -3.5420e-02, -4.2864e-01, 3.1264...  \n3      1392768000  [-7.1293e-01, -2.7817e-01, 5.6167e-01, -6.9253...  \n4      1395187200  [ 3.9603e-01, 5.1992e-01, -8.5361e-01, 7.7056e...  ",
      "text/html": "<div>\n<style scoped>\n    .dataframe tbody tr th:only-of-type {\n        vertical-align: middle;\n    }\n\n    .dataframe tbody tr th {\n        vertical-align: top;\n    }\n\n    .dataframe thead th {\n        text-align: right;\n    }\n</style>\n<table border=\"1\" class=\"dataframe\">\n  <thead>\n    <tr style=\"text-align: right;\">\n      <th></th>\n      <th>ID</th>\n      <th>asin</th>\n      <th>helpful</th>\n      <th>overall</th>\n      <th>reviewText</th>\n      <th>reviewTime</th>\n      <th>reviewerID</th>\n      <th>reviewerName</th>\n      <th>summary</th>\n      <th>unixReviewTime</th>\n      <th>features</th>\n    </tr>\n  </thead>\n  <tbody>\n    <tr>\n      <th>0</th>\n      <td>0</td>\n      <td>B000F83SZQ</td>\n      <td>[0, 0]</td>\n      <td>5.0</td>\n      <td>I enjoy vintage books and movies so I enjoyed ...</td>\n      <td>05 5, 2014</td>\n      <td>A1F6404F1VG29J</td>\n      <td>Avidreader</td>\n      <td>Nice vintage story</td>\n      <td>1399248000</td>\n      <td>[-1.2551e-01, 2.7282e-02, -3.9638e-02, -8.9909...</td>\n    </tr>\n    <tr>\n      <th>1</th>\n      <td>1</td>\n      <td>B000F83SZQ</td>\n      <td>[2, 2]</td>\n      <td>4.0</td>\n      <td>This book is a reissue of an old one; the auth...</td>\n      <td>01 6, 2014</td>\n      <td>AN0N05A9LIJEQ</td>\n      <td>critters</td>\n      <td>Different...</td>\n      <td>1388966400</td>\n      <td>[ 3.6394e-01, -5.9243e-02, 1.0343e-01, -3.1970...</td>\n    </tr>\n    <tr>\n      <th>2</th>\n      <td>2</td>\n      <td>B000F83SZQ</td>\n      <td>[2, 2]</td>\n      <td>4.0</td>\n      <td>This was a fairly interesting read.  It had ol...</td>\n      <td>04 4, 2014</td>\n      <td>A795DMNCJILA6</td>\n      <td>dot</td>\n      <td>Oldie</td>\n      <td>1396569600</td>\n      <td>[ 2.8251e-01, -3.5420e-02, -4.2864e-01, 3.1264...</td>\n    </tr>\n    <tr>\n      <th>3</th>\n      <td>3</td>\n      <td>B000F83SZQ</td>\n      <td>[1, 1]</td>\n      <td>5.0</td>\n      <td>I'd never read any of the Amy Brewster mysteri...</td>\n      <td>02 19, 2014</td>\n      <td>A1FV0SX13TWVXQ</td>\n      <td>Elaine H. Turley \"Montana Songbird\"</td>\n      <td>I really liked it.</td>\n      <td>1392768000</td>\n      <td>[-7.1293e-01, -2.7817e-01, 5.6167e-01, -6.9253...</td>\n    </tr>\n    <tr>\n      <th>4</th>\n      <td>4</td>\n      <td>B000F83SZQ</td>\n      <td>[0, 1]</td>\n      <td>4.0</td>\n      <td>If you like period pieces - clothing, lingo, y...</td>\n      <td>03 19, 2014</td>\n      <td>A3SPTOKDG7WBLN</td>\n      <td>Father Dowling Fan</td>\n      <td>Period Mystery</td>\n      <td>1395187200</td>\n      <td>[ 3.9603e-01, 5.1992e-01, -8.5361e-01, 7.7056e...</td>\n    </tr>\n  </tbody>\n</table>\n</div>"
     },
     "metadata": {}
    }
   ]
  },
  {
   "metadata": {},
   "cell_type": "markdown",
   "source": "Разница признаков между тренировочной и тестовой выборки, очевидно что `overall` является целевым признаком"
  },
  {
   "metadata": {
    "execution": {
     "iopub.status.busy": "2023-05-07T18:23:12.527098Z",
     "iopub.execute_input": "2023-05-07T18:23:12.527523Z",
     "iopub.status.idle": "2023-05-07T18:23:12.541421Z",
     "shell.execute_reply.started": "2023-05-07T18:23:12.527473Z",
     "shell.execute_reply": "2023-05-07T18:23:12.540010Z"
    },
    "trusted": false
   },
   "cell_type": "code",
   "source": "set(list(train.columns))-set(list(test.columns))",
   "execution_count": 38,
   "outputs": [
    {
     "execution_count": 38,
     "output_type": "execute_result",
     "data": {
      "text/plain": "{'overall'}"
     },
     "metadata": {}
    }
   ]
  },
  {
   "metadata": {},
   "cell_type": "markdown",
   "source": "Посмотрим на распределение данных в целевом признаке\n- Оценка обзора является ординалным признаком (1-5)\n- Данных обзоров с низкой оценкой (1-2) не так много по сравнению с оценками (3-5)"
  },
  {
   "metadata": {
    "execution": {
     "iopub.status.busy": "2023-05-07T18:23:12.546898Z",
     "iopub.execute_input": "2023-05-07T18:23:12.548089Z",
     "iopub.status.idle": "2023-05-07T18:23:12.560429Z",
     "shell.execute_reply.started": "2023-05-07T18:23:12.548039Z",
     "shell.execute_reply": "2023-05-07T18:23:12.558808Z"
    },
    "trusted": false
   },
   "cell_type": "code",
   "source": "train['overall'].value_counts()",
   "execution_count": 39,
   "outputs": [
    {
     "execution_count": 39,
     "output_type": "execute_result",
     "data": {
      "text/plain": "5.0    503\n4.0    261\n3.0    140\n2.0     53\n1.0     43\nName: overall, dtype: int64"
     },
     "metadata": {}
    }
   ]
  },
  {
   "metadata": {},
   "cell_type": "markdown",
   "source": "## <div style=\"padding: 30px;color:white;margin:00px;font-size:60%;text-align:left;border-radius:10px;background-color:#686dec;overflow:hidden\"><b><span style='color:white'>3 |</span></b> <b> РАЗВЕДОВАТЕЛЬНЫЙ АНАЛИЗ</b></div>\n\n\n### <b><span style='color:#686dec'>Автор обзора</span> </b> \n\nДавайте иследуем распределение авторов в тренировочной и тестовой выборке"
  },
  {
   "metadata": {
    "execution": {
     "iopub.status.busy": "2023-05-07T18:23:12.562023Z",
     "iopub.execute_input": "2023-05-07T18:23:12.562388Z",
     "iopub.status.idle": "2023-05-07T18:23:12.573778Z",
     "shell.execute_reply.started": "2023-05-07T18:23:12.562356Z",
     "shell.execute_reply": "2023-05-07T18:23:12.572203Z"
    },
    "trusted": false
   },
   "cell_type": "code",
   "source": "reviewers_train = list(train['reviewerID'].unique())\nreviewers_test = list(test['reviewerID'].unique())\nreviewers_all = reviewers_train + reviewers_test\nprint(len(reviewers_train),len(reviewers_test),len(reviewers_all),len(set(reviewers_all)))",
   "execution_count": 40,
   "outputs": [
    {
     "name": "stdout",
     "text": "827 949 1776 1758\n",
     "output_type": "stream"
    }
   ]
  },
  {
   "metadata": {},
   "cell_type": "markdown",
   "source": "### <b><span style='color:#686dec'> Предмет обзора</span></b> \n\nТеперь посмотрим на распределение данных в обоих выборок для фичи `asin` (ID товара)"
  },
  {
   "metadata": {
    "execution": {
     "iopub.status.busy": "2023-05-07T18:23:12.575642Z",
     "iopub.execute_input": "2023-05-07T18:23:12.576020Z",
     "iopub.status.idle": "2023-05-07T18:23:12.590238Z",
     "shell.execute_reply.started": "2023-05-07T18:23:12.575987Z",
     "shell.execute_reply": "2023-05-07T18:23:12.587789Z"
    },
    "trusted": false
   },
   "cell_type": "code",
   "source": "train['asin'].value_counts()\n# items_all +=list(test['asin'].nunique())",
   "execution_count": 41,
   "outputs": [
    {
     "execution_count": 41,
     "output_type": "execute_result",
     "data": {
      "text/plain": "B000JMLBHU    108\nB000R93D4Y     50\nB000WSFBO0     41\nB000NJL7Y6     24\nB000JMLHYC     23\n             ... \nB000JML5JY      5\nB000UH5Z3A      5\nB000UH5Z0I      5\nB000SIZG8A      5\nB000TU16PE      5\nName: asin, Length: 93, dtype: int64"
     },
     "metadata": {}
    }
   ]
  },
  {
   "metadata": {
    "execution": {
     "iopub.status.busy": "2023-05-07T18:23:12.592039Z",
     "iopub.execute_input": "2023-05-07T18:23:12.592884Z",
     "iopub.status.idle": "2023-05-07T18:23:12.606035Z",
     "shell.execute_reply.started": "2023-05-07T18:23:12.592846Z",
     "shell.execute_reply": "2023-05-07T18:23:12.604623Z"
    },
    "trusted": false
   },
   "cell_type": "code",
   "source": "test['asin'].value_counts()",
   "execution_count": 42,
   "outputs": [
    {
     "execution_count": 42,
     "output_type": "execute_result",
     "data": {
      "text/plain": "B00CBJXM1M    55\nB00CBFZVU6    49\nB00CB7NHC8    43\nB00CBL9IOK    41\nB00CB3SH0O    35\n              ..\nB00CB2CG1Q     5\nB00CB26IBK     5\nB00CB26IA6     5\nB00CB26G7G     5\nB00CB1OPI4     3\nName: asin, Length: 73, dtype: int64"
     },
     "metadata": {}
    }
   ]
  },
  {
   "metadata": {},
   "cell_type": "markdown",
   "source": "### <b><span style='color:#686dec'>Времменные признаки</span> </b> \n\n- У нас есть два признака связанные с временем; `ubixReviewTime` & `reviewTimez`\n- Из одного из них мы можем получить дополнительные признаки через атрибут `dt`, другой нам не нужен\n- На основе фичи `unixReviewTime` и создадим эти новые фичи"
  },
  {
   "metadata": {
    "execution": {
     "iopub.status.busy": "2023-05-07T18:23:12.607886Z",
     "iopub.execute_input": "2023-05-07T18:23:12.609081Z",
     "iopub.status.idle": "2023-05-07T18:23:12.637359Z",
     "shell.execute_reply.started": "2023-05-07T18:23:12.608958Z",
     "shell.execute_reply": "2023-05-07T18:23:12.635595Z"
    },
    "trusted": false
   },
   "cell_type": "code",
   "source": "train.drop(columns=['reviewTime'])\ntest.drop(columns=['reviewTime'])\ntrain.head()",
   "execution_count": 43,
   "outputs": [
    {
     "execution_count": 43,
     "output_type": "execute_result",
     "data": {
      "text/plain": "   ID        asin helpful  overall  \\\n0   0  B000F83SZQ  [0, 0]      5.0   \n1   1  B000F83SZQ  [2, 2]      4.0   \n2   2  B000F83SZQ  [2, 2]      4.0   \n3   3  B000F83SZQ  [1, 1]      5.0   \n4   4  B000F83SZQ  [0, 1]      4.0   \n\n                                          reviewText   reviewTime  \\\n0  I enjoy vintage books and movies so I enjoyed ...   05 5, 2014   \n1  This book is a reissue of an old one; the auth...   01 6, 2014   \n2  This was a fairly interesting read.  It had ol...   04 4, 2014   \n3  I'd never read any of the Amy Brewster mysteri...  02 19, 2014   \n4  If you like period pieces - clothing, lingo, y...  03 19, 2014   \n\n       reviewerID                         reviewerName             summary  \\\n0  A1F6404F1VG29J                           Avidreader  Nice vintage story   \n1   AN0N05A9LIJEQ                             critters        Different...   \n2   A795DMNCJILA6                                  dot               Oldie   \n3  A1FV0SX13TWVXQ  Elaine H. Turley \"Montana Songbird\"  I really liked it.   \n4  A3SPTOKDG7WBLN                   Father Dowling Fan      Period Mystery   \n\n   unixReviewTime                                           features  \n0      1399248000  [-1.2551e-01, 2.7282e-02, -3.9638e-02, -8.9909...  \n1      1388966400  [ 3.6394e-01, -5.9243e-02, 1.0343e-01, -3.1970...  \n2      1396569600  [ 2.8251e-01, -3.5420e-02, -4.2864e-01, 3.1264...  \n3      1392768000  [-7.1293e-01, -2.7817e-01, 5.6167e-01, -6.9253...  \n4      1395187200  [ 3.9603e-01, 5.1992e-01, -8.5361e-01, 7.7056e...  ",
      "text/html": "<div>\n<style scoped>\n    .dataframe tbody tr th:only-of-type {\n        vertical-align: middle;\n    }\n\n    .dataframe tbody tr th {\n        vertical-align: top;\n    }\n\n    .dataframe thead th {\n        text-align: right;\n    }\n</style>\n<table border=\"1\" class=\"dataframe\">\n  <thead>\n    <tr style=\"text-align: right;\">\n      <th></th>\n      <th>ID</th>\n      <th>asin</th>\n      <th>helpful</th>\n      <th>overall</th>\n      <th>reviewText</th>\n      <th>reviewTime</th>\n      <th>reviewerID</th>\n      <th>reviewerName</th>\n      <th>summary</th>\n      <th>unixReviewTime</th>\n      <th>features</th>\n    </tr>\n  </thead>\n  <tbody>\n    <tr>\n      <th>0</th>\n      <td>0</td>\n      <td>B000F83SZQ</td>\n      <td>[0, 0]</td>\n      <td>5.0</td>\n      <td>I enjoy vintage books and movies so I enjoyed ...</td>\n      <td>05 5, 2014</td>\n      <td>A1F6404F1VG29J</td>\n      <td>Avidreader</td>\n      <td>Nice vintage story</td>\n      <td>1399248000</td>\n      <td>[-1.2551e-01, 2.7282e-02, -3.9638e-02, -8.9909...</td>\n    </tr>\n    <tr>\n      <th>1</th>\n      <td>1</td>\n      <td>B000F83SZQ</td>\n      <td>[2, 2]</td>\n      <td>4.0</td>\n      <td>This book is a reissue of an old one; the auth...</td>\n      <td>01 6, 2014</td>\n      <td>AN0N05A9LIJEQ</td>\n      <td>critters</td>\n      <td>Different...</td>\n      <td>1388966400</td>\n      <td>[ 3.6394e-01, -5.9243e-02, 1.0343e-01, -3.1970...</td>\n    </tr>\n    <tr>\n      <th>2</th>\n      <td>2</td>\n      <td>B000F83SZQ</td>\n      <td>[2, 2]</td>\n      <td>4.0</td>\n      <td>This was a fairly interesting read.  It had ol...</td>\n      <td>04 4, 2014</td>\n      <td>A795DMNCJILA6</td>\n      <td>dot</td>\n      <td>Oldie</td>\n      <td>1396569600</td>\n      <td>[ 2.8251e-01, -3.5420e-02, -4.2864e-01, 3.1264...</td>\n    </tr>\n    <tr>\n      <th>3</th>\n      <td>3</td>\n      <td>B000F83SZQ</td>\n      <td>[1, 1]</td>\n      <td>5.0</td>\n      <td>I'd never read any of the Amy Brewster mysteri...</td>\n      <td>02 19, 2014</td>\n      <td>A1FV0SX13TWVXQ</td>\n      <td>Elaine H. Turley \"Montana Songbird\"</td>\n      <td>I really liked it.</td>\n      <td>1392768000</td>\n      <td>[-7.1293e-01, -2.7817e-01, 5.6167e-01, -6.9253...</td>\n    </tr>\n    <tr>\n      <th>4</th>\n      <td>4</td>\n      <td>B000F83SZQ</td>\n      <td>[0, 1]</td>\n      <td>4.0</td>\n      <td>If you like period pieces - clothing, lingo, y...</td>\n      <td>03 19, 2014</td>\n      <td>A3SPTOKDG7WBLN</td>\n      <td>Father Dowling Fan</td>\n      <td>Period Mystery</td>\n      <td>1395187200</td>\n      <td>[ 3.9603e-01, 5.1992e-01, -8.5361e-01, 7.7056e...</td>\n    </tr>\n  </tbody>\n</table>\n</div>"
     },
     "metadata": {}
    }
   ]
  },
  {
   "metadata": {
    "execution": {
     "iopub.status.busy": "2023-05-07T18:23:12.638909Z",
     "iopub.execute_input": "2023-05-07T18:23:12.640147Z",
     "iopub.status.idle": "2023-05-07T18:23:12.666777Z",
     "shell.execute_reply.started": "2023-05-07T18:23:12.640103Z",
     "shell.execute_reply": "2023-05-07T18:23:12.665455Z"
    },
    "trusted": false
   },
   "cell_type": "code",
   "source": "train['day'] = pd.to_datetime(train['unixReviewTime'],unit='s').dt.day\ntrain['month'] = pd.to_datetime(train['unixReviewTime'],unit='s').dt.month\ntrain['dow'] = pd.to_datetime(train['unixReviewTime'],unit='s').dt.dayofweek\n\ntest['day'] = pd.to_datetime(test['unixReviewTime'],unit='s').dt.day\ntest['month'] = pd.to_datetime(test['unixReviewTime'],unit='s').dt.month\ntest['dow'] = pd.to_datetime(test['unixReviewTime'],unit='s').dt.dayofweek\n\ntrain = train.drop(columns=['unixReviewTime'],axis=1)\ntest = test.drop(columns=['unixReviewTime'],axis=1)",
   "execution_count": 44,
   "outputs": []
  },
  {
   "metadata": {},
   "cell_type": "markdown",
   "source": "### <b><span style='color:#686dec'>Признак помощи</span></b> \n\n- В данных у нас есть призкак который отображает полезность написанного обзора, который оценивают другие пользователи\n- Найдем разницу между положительных и отрицательных оценок\n- для этого нам надо конвертировать `str` формат которую содержит csv в `список`"
  },
  {
   "metadata": {
    "execution": {
     "iopub.status.busy": "2023-05-07T18:23:12.671347Z",
     "iopub.execute_input": "2023-05-07T18:23:12.671794Z",
     "iopub.status.idle": "2023-05-07T18:23:12.680854Z",
     "shell.execute_reply.started": "2023-05-07T18:23:12.671759Z",
     "shell.execute_reply": "2023-05-07T18:23:12.679821Z"
    },
    "trusted": false
   },
   "cell_type": "code",
   "source": "train['helpful']",
   "execution_count": 45,
   "outputs": [
    {
     "execution_count": 45,
     "output_type": "execute_result",
     "data": {
      "text/plain": "0      [0, 0]\n1      [2, 2]\n2      [2, 2]\n3      [1, 1]\n4      [0, 1]\n        ...  \n995    [0, 0]\n996    [0, 0]\n997    [0, 0]\n998    [0, 0]\n999    [0, 0]\nName: helpful, Length: 1000, dtype: object"
     },
     "metadata": {}
    }
   ]
  },
  {
   "metadata": {
    "execution": {
     "iopub.status.busy": "2023-05-07T18:23:12.682172Z",
     "iopub.execute_input": "2023-05-07T18:23:12.683310Z",
     "iopub.status.idle": "2023-05-07T18:23:12.702193Z",
     "shell.execute_reply.started": "2023-05-07T18:23:12.683273Z",
     "shell.execute_reply": "2023-05-07T18:23:12.701178Z"
    },
    "trusted": false
   },
   "cell_type": "code",
   "source": "train['helpful'] = train['helpful'].apply(lambda row: eval(row))\ntrain['helpful'] = train['helpful'].apply(lambda row: row[0] - (row[1] - row[0]))",
   "execution_count": 46,
   "outputs": []
  },
  {
   "metadata": {},
   "cell_type": "markdown",
   "source": "### <b><span style='color:#686dec'>Признаки BERT</span></b> \n\n- Нам дали данные **hidden state** модели BERT, скорее всего **средний вектор** всех эмбеддингов в каждом документе в `ReviewText`\n- Данные векторов сохранялись в `DataFrame`, и читаются как `str`, воспользуемся `eval` для каждой строки"
  },
  {
   "metadata": {
    "execution": {
     "iopub.status.busy": "2023-05-07T18:23:12.703793Z",
     "iopub.execute_input": "2023-05-07T18:23:12.704332Z",
     "iopub.status.idle": "2023-05-07T18:23:12.720633Z",
     "shell.execute_reply.started": "2023-05-07T18:23:12.704299Z",
     "shell.execute_reply": "2023-05-07T18:23:12.718965Z"
    },
    "trusted": false
   },
   "cell_type": "code",
   "source": "print(train['features'][0][:100])\nprint(type(train['features'][0][:100])) \ntype(eval(train['features'][0]))  # список данных ",
   "execution_count": 47,
   "outputs": [
    {
     "name": "stdout",
     "text": "[-1.2551e-01, 2.7282e-02, -3.9638e-02, -8.9909e-02, 6.7109e-01, -3.5082e-01, -4.4905e-01, 4.4430e-01\n<class 'str'>\n",
     "output_type": "stream"
    },
    {
     "execution_count": 47,
     "output_type": "execute_result",
     "data": {
      "text/plain": "list"
     },
     "metadata": {}
    }
   ]
  },
  {
   "metadata": {},
   "cell_type": "markdown",
   "source": "Это превращает `str` в список `list` , далее превращаем данные в `np.array`"
  },
  {
   "metadata": {
    "execution": {
     "iopub.status.busy": "2023-05-07T18:23:12.722369Z",
     "iopub.execute_input": "2023-05-07T18:23:12.723058Z",
     "iopub.status.idle": "2023-05-07T18:23:15.038721Z",
     "shell.execute_reply.started": "2023-05-07T18:23:12.723020Z",
     "shell.execute_reply": "2023-05-07T18:23:15.036876Z"
    },
    "trusted": false
   },
   "cell_type": "code",
   "source": "train['features'] = train['features'].apply(lambda row:np.array(eval(row)))\ntest['features'] = test['features'].apply(lambda row:np.array(eval(row)))",
   "execution_count": 48,
   "outputs": []
  },
  {
   "metadata": {},
   "cell_type": "markdown",
   "source": "## <div style=\"padding: 30px;color:white;margin:00px;font-size:60%;text-align:left;border-radius:10px;background-color:#686dec;overflow:hidden\"><b><span style='color:white'>4 |</span></b> <b> ПРЕОБРАБОТКА ТЕКСТА</b></div>\n\n- Мы можем использовать текстовые данные для создания фичеров\n- Для этого нам надо будет обработать **текстовые данные** и преобразовать их в **цифровые данные**\n- Воспользуемся методом **TF-IDF** **TfidfVectorizer** (Один из методов мешок слов\n- Из каждого документа убираем часто всречающийся слова **stopwords**"
  },
  {
   "metadata": {
    "execution": {
     "iopub.status.busy": "2023-05-07T18:23:15.040472Z",
     "iopub.execute_input": "2023-05-07T18:23:15.040900Z",
     "iopub.status.idle": "2023-05-07T18:23:15.052400Z",
     "shell.execute_reply.started": "2023-05-07T18:23:15.040863Z",
     "shell.execute_reply": "2023-05-07T18:23:15.050590Z"
    },
    "trusted": false
   },
   "cell_type": "code",
   "source": "train['reviewText']",
   "execution_count": 49,
   "outputs": [
    {
     "execution_count": 49,
     "output_type": "execute_result",
     "data": {
      "text/plain": "0      I enjoy vintage books and movies so I enjoyed ...\n1      This book is a reissue of an old one; the auth...\n2      This was a fairly interesting read.  It had ol...\n3      I'd never read any of the Amy Brewster mysteri...\n4      If you like period pieces - clothing, lingo, y...\n                             ...                        \n995    I enjoyed reading this story.  The characters ...\n996    This was a fun book to read for the 2nd time. ...\n997    Or just a Christmas romance to make you crack-...\n998    I read \"Stop the wedding\" by this author and w...\n999    This was one of the funniest books I have ever...\nName: reviewText, Length: 1000, dtype: object"
     },
     "metadata": {}
    }
   ]
  },
  {
   "metadata": {},
   "cell_type": "markdown",
   "source": "- `TfidfVectorizer` используем с стоп словми `stop_words`\n- Так же мы заменем всю пунктуацию на пустое значение "
  },
  {
   "metadata": {
    "execution": {
     "iopub.status.busy": "2023-05-07T18:23:15.054930Z",
     "iopub.execute_input": "2023-05-07T18:23:15.055482Z",
     "iopub.status.idle": "2023-05-07T18:23:15.871115Z",
     "shell.execute_reply.started": "2023-05-07T18:23:15.055435Z",
     "shell.execute_reply": "2023-05-07T18:23:15.869533Z"
    },
    "trusted": true
   },
   "cell_type": "code",
   "source": "import re\nfrom sklearn.feature_extraction.text import TfidfVectorizer\nfrom nltk.corpus import stopwords\n\nstop_words = stopwords.words('english')\n\n# stubstitute stop words with ''\nvectoriser = TfidfVectorizer(stop_words=[re.sub(r'[a-zA-Z_0-9\\s]',r'',sw) for sw in stop_words])\n\nX_train = vectoriser.fit_transform(train['reviewText'].apply(lambda row: re.sub(r'[^a-zA-Z_0-9\\s]',r'',row)))\nX_test = vectoriser.transform(test['reviewText'].apply(lambda row: re.sub(r'[^a-zA-Z_0-9\\s]',r'',row)))",
   "execution_count": null,
   "outputs": []
  },
  {
   "metadata": {},
   "cell_type": "markdown",
   "source": "На выходе у нас sparse матрица с словарем размером 9545 слов"
  },
  {
   "metadata": {
    "execution": {
     "iopub.status.busy": "2023-05-07T18:23:15.873564Z",
     "iopub.execute_input": "2023-05-07T18:23:15.874080Z",
     "iopub.status.idle": "2023-05-07T18:23:15.882487Z",
     "shell.execute_reply.started": "2023-05-07T18:23:15.874035Z",
     "shell.execute_reply": "2023-05-07T18:23:15.880561Z"
    },
    "trusted": false
   },
   "cell_type": "code",
   "source": "X_train",
   "execution_count": 51,
   "outputs": [
    {
     "execution_count": 51,
     "output_type": "execute_result",
     "data": {
      "text/plain": "<1000x9545 sparse matrix of type '<class 'numpy.float64'>'\n\twith 59480 stored elements in Compressed Sparse Row format>"
     },
     "metadata": {}
    }
   ]
  },
  {
   "metadata": {
    "execution": {
     "iopub.status.busy": "2023-05-07T18:23:48.767456Z",
     "iopub.execute_input": "2023-05-07T18:23:48.770667Z",
     "iopub.status.idle": "2023-05-07T18:23:48.796948Z",
     "shell.execute_reply.started": "2023-05-07T18:23:48.770594Z",
     "shell.execute_reply": "2023-05-07T18:23:48.795354Z"
    },
    "trusted": false
   },
   "cell_type": "code",
   "source": "y = train['overall']\ny",
   "execution_count": 75,
   "outputs": [
    {
     "execution_count": 75,
     "output_type": "execute_result",
     "data": {
      "text/plain": "0      5.0\n1      4.0\n2      4.0\n3      5.0\n4      4.0\n      ... \n995    5.0\n996    4.0\n997    5.0\n998    1.0\n999    5.0\nName: overall, Length: 1000, dtype: float64"
     },
     "metadata": {}
    }
   ]
  },
  {
   "metadata": {},
   "cell_type": "markdown",
   "source": "## <div style=\"padding: 30px;color:white;margin:00px;font-size:60%;text-align:left;border-radius:10px;background-color:#686dec;overflow:hidden\"><b><span style='color:white'>5 |</span></b> <b> NLP МОДЕЛИ</b></div>\n\n### <b><span style='color:#686dec'> Проверка качества обучающей выборки</span></b> \n\n- Нам предстоит использовать метрику `MAE`, но мы все равно можем расматривать задачу как задачу многоклассовой классификации текса, для этого мы можем использовать `reviewText` и извлеч из нее фичи, что мы и сделали \n- Нам нужно изучить насколько хорошо работают разные модельные подходы, все вариатны которые будем обучать сохраним в список `lst_models`\n- `nlp_evals` дает нам возможность проверить качество `перекресточной валидации` и `train-test split` подходы, в классе герерируются TF-IDF вектора, как и в предыдущем разделе\n- Использовать будем модели классификации но оценивать будем метрику `MAE`\n- Разбиене происходит только на подвыборке `train`, оценив `MAE` на оценим качество и на тестовой выборке `test` в следующем разделе"
  },
  {
   "metadata": {
    "execution": {
     "iopub.status.busy": "2023-05-07T18:23:15.895217Z",
     "iopub.execute_input": "2023-05-07T18:23:15.896362Z",
     "iopub.status.idle": "2023-05-07T18:23:15.911141Z",
     "shell.execute_reply.started": "2023-05-07T18:23:15.896316Z",
     "shell.execute_reply": "2023-05-07T18:23:15.909579Z"
    },
    "jupyter": {
     "source_hidden": true
    },
    "trusted": false
   },
   "cell_type": "code",
   "source": "from sklearn.naive_bayes import BernoulliNB, ComplementNB, MultinomialNB\nfrom sklearn.ensemble  import RandomForestClassifier, ExtraTreesClassifier, AdaBoostClassifier\nfrom sklearn.linear_model import RidgeClassifier\nfrom sklearn.metrics import mean_absolute_error as MAE\nfrom sklearn.model_selection import train_test_split, KFold, cross_val_score, GridSearchCV\nfrom sklearn.metrics import accuracy_score, confusion_matrix\n\nrs = 42\n\nlst_models = []\nclf = RandomForestClassifier(n_estimators=10,max_depth=100,random_state=34567)\nclf2 = ExtraTreesClassifier(random_state=rs)\nclf3 = AdaBoostClassifier(random_state=rs)\n\nber = BernoulliNB(alpha=1)\ncom = ComplementNB(alpha=0.1)\nmn = MultinomialNB(alpha=0.01)\nrc = RidgeClassifier(alpha=0.1,tol=1e-4,solver='auto',random_state=rs)\n\nlst_models.append(('rfc',clf))\nlst_models.append(('etc',clf2))\nlst_models.append(('ada',clf3))\nlst_models.append(('ber',ber))\nlst_models.append(('com',com))\nlst_models.append(('mn',mn))\nlst_models.append(('rc',rc))",
   "execution_count": 53,
   "outputs": []
  },
  {
   "metadata": {
    "execution": {
     "iopub.status.busy": "2023-05-07T18:23:15.913957Z",
     "iopub.execute_input": "2023-05-07T18:23:15.914548Z",
     "iopub.status.idle": "2023-05-07T18:23:28.415662Z",
     "shell.execute_reply.started": "2023-05-07T18:23:15.914466Z",
     "shell.execute_reply": "2023-05-07T18:23:28.414070Z"
    },
    "trusted": false
   },
   "cell_type": "code",
   "source": "import warnings; warnings.filterwarnings('ignore')\nimport seaborn as sns; \nsns.set_style(\"whitegrid\", {\n    \"ytick.major.size\": 0.1,\n    \"ytick.minor.size\": 0.05,\n    'grid.linestyle': '--'\n })\nimport matplotlib.pyplot as plt\nimport re\nfrom sklearn.feature_extraction.text import TfidfVectorizer\nfrom nltk.corpus import stopwords\nfrom copy import deepcopy\nimport spacy\nimport en_core_web_lg\n\ndef hex_to_rgb(h):\n    h = h.lstrip('#')\n    return tuple(int(h[i:i+2], 16)/255 for i in (0, 2, 4))\n\npalette = ['#b4d2b1', '#568f8b', '#1d4a60', '#cd7e59', '#ddb247', '#d15252']\npalette_rgb = [hex_to_rgb(x) for x in palette]\n\n\nclass nlp_evals:\n    \n    def __init__(self,df,corpus,label,\n                 spacy_model='en_core_web_lg',\n                 title='accuracy evaluation'\n                ):\n        \n        self.df = deepcopy(df)\n        self.corpus = corpus\n        self.label = label\n        \n        # spacy embedding not utilised\n        self.spacy_model = spacy_model\n        \n        # generate TF-IDF features\n        self.features = self.get_tfidf()\n        self.seed = 32\n        self.num_folds = 6\n        self.title = title\n    \n    @staticmethod\n    def criterion(y,ypred):\n        return MAE(y,ypred)\n    \n    # TF-IDF vectors\n    def get_tfidf(self):\n        \n        stop_words = stopwords.words('english')\n        vectoriser = TfidfVectorizer(stop_words=[re.sub(r'[a-zA-Z_0-9\\s]',r'',sw) for sw in stop_words])\n        X_train = vectoriser.fit_transform(self.df[self.corpus].apply(lambda row: re.sub(r'[^a-zA-Z_0-9\\s]',r'',row)))\n        print(X_train.shape) \n        return X_train\n        \n    # spacy embeddings\n    def get_embeddings(self):\n        \n        # NLP pipline\n        nlp = spacy.load(self.spacy_model)\n        if(self.spacy_model is 'en_core_web_sm'):\n            embedding_dims = 96\n        elif(self.spacy_model is 'en_core_web_lg'):\n            embedding_dims = 300\n        \n        # average embedding vector for each document\n        all_vectors = np.array([np.array([token.vector for token in nlp(s) ]).mean(axis=0)*np.ones((embedding_dims)) \\\n                                   for s in self.df[self.corpus]])\n        print(all_vectors.shape)\n        print('embeddings loaded!')\n        return all_vectors\n        \n    def tts(self,ratio=0.2):\n        \n        # split out validation dataset for the end\n        Y = self.df[self.label]\n        X = self.features\n\n        X_train, X_test, y_train, y_test = train_test_split(X, Y, \n                                                            test_size=ratio, \n                                                            random_state=42)\n        \n        self.X_train = X_train\n        self.X_test = X_test\n        self.y_train = y_train \n        self.y_test = y_test\n        print('train/test split!')\n        \n    def define_models(self,models):\n        self.models = models\n        print('models set!')\n        \n    def kfold(self):\n        \n        self.results = []\n        self.names = []\n        self.test_results = []\n        self.train_results = []\n        self.cv_results = []\n        \n        lX_train = deepcopy(self.X_train)\n        lX_test = deepcopy(self.X_test)\n        ly_train = deepcopy(self.y_train.to_frame())\n        ly_test = deepcopy(self.y_test.to_frame())\n    \n        self.lst_names = []\n        for name, model in self.models:\n            \n            self.lst_names.append(name)\n            \n            # cross validation on training dataset\n            kfold = KFold(n_splits=self.num_folds, shuffle=True,random_state=self.seed)\n            cv_results = cross_val_score(model, \n                                         self.X_train, self.y_train,\n                                         cv=kfold,\n                                         scoring='neg_mean_absolute_error')\n            self.results.append(cv_results)\n            self.names.append(name)\n            self.cv_results.append(abs(cv_results.mean()))\n\n           # Full Training period\n            res = model.fit(self.X_train, self.y_train)\n            ytrain_res = res.predict(self.X_train)\n            criterion_train = self.criterion(ytrain_res,self.y_train)\n            self.train_results.append(criterion_train)\n\n            # Test results\n            ytest_res = res.predict(self.X_test)\n            criterion_test = self.criterion(ytest_res, self.y_test)\n            self.test_results.append(criterion_test)    \n\n            msg = \"%s: %f (%f) %f %f\" % (name, \n                                         cv_results.mean(), \n                                         cv_results.std(), \n                                         criterion_train, \n                                         criterion_test)\n            \n            ly_train[f'{name}_train'] = ytrain_res\n            ly_test[f'{name}_test'] = ytest_res\n            \n            # print(msg)\n            # print(confusion_matrix(ytest_res, self.y_test))\n            \n        \n        self.ly_train = ly_train\n        self.ly_test = ly_test\n        \n        self.plot_results()\n            \n        print('evaluation finished!')\n        \n    def plot_results(self):\n\n        ldf_res = pd.DataFrame({'cv':self.cv_results,\n                                'train':self.train_results,\n                                'test':self.test_results})\n        \n        plot_df = ldf_res.melt()\n        local_names = deepcopy(self.names)\n        local_names = local_names * 3\n      \n        plot_df['names'] = local_names\n        \n        ptable = pd.pivot_table(plot_df,\n                                values='value',\n                                index='variable',\n                                columns='names')\n\n        fig,ax = plt.subplots(1,2,figsize=(12,3))\n        sns.heatmap(ptable,annot=True,\n                    fmt=\".2f\",\n                    cmap='crest',\n                    linewidth=3,\n                    ax=ax[0])\n        \n        sns.boxplot(data=self.results,orient=\"v\",\n                   width=0.2,ax=ax[1],palette=palette_rgb)\n            \n        ax[1].set_xticklabels(self.lst_names)\n        sns.stripplot(data=self.results,ax=ax[1], orient='v',color=\".3\",linewidth=1)\n        ax[1].set_xticklabels(self.lst_names) \n        \n        sns.despine(left=True, bottom=True,ax=ax[1])\n        plt.title(self.title)",
   "execution_count": 54,
   "outputs": []
  },
  {
   "metadata": {},
   "cell_type": "markdown",
   "source": "Обучаем наши модели на `train` подвыборке"
  },
  {
   "metadata": {
    "execution": {
     "iopub.status.busy": "2023-05-07T18:23:28.417746Z",
     "iopub.execute_input": "2023-05-07T18:23:28.418538Z",
     "iopub.status.idle": "2023-05-07T18:23:44.611831Z",
     "shell.execute_reply.started": "2023-05-07T18:23:28.418481Z",
     "shell.execute_reply": "2023-05-07T18:23:44.610608Z"
    },
    "trusted": false
   },
   "cell_type": "code",
   "source": "# instantiate new evalation class\n\nevals_nlp = nlp_evals(df=train,            # define the corpus dataframe\n                      corpus='reviewText', # define which column contains the corpus\n                      label='overall',  # define the column which contains the label\n                      title='self defined labels') \n\nevals_nlp.tts()\nevals_nlp.define_models(lst_models)\nevals_nlp.kfold()",
   "execution_count": 55,
   "outputs": [
    {
     "name": "stdout",
     "text": "(1000, 9545)\ntrain/test split!\nmodels set!\nevaluation finished!\n",
     "output_type": "stream"
    },
    {
     "output_type": "display_data",
     "data": {
      "text/plain": "<Figure size 864x216 with 3 Axes>",
      "image/png": "[encoded data removed]"
     },
     "metadata": {}
    }
   ]
  },
  {
   "metadata": {},
   "cell_type": "markdown",
   "source": "### <b><span style='color:#686dec'> Обучаем модели</span></b> \n\nПроверив качество моделей на разных подвыборках, давайте оценим качество на всей обучающей выборке и на тестовой выборке"
  },
  {
   "metadata": {
    "execution": {
     "iopub.status.busy": "2023-05-07T18:23:44.614393Z",
     "iopub.execute_input": "2023-05-07T18:23:44.615001Z",
     "iopub.status.idle": "2023-05-07T18:23:44.720942Z",
     "shell.execute_reply.started": "2023-05-07T18:23:44.614945Z",
     "shell.execute_reply": "2023-05-07T18:23:44.720039Z"
    },
    "trusted": false
   },
   "cell_type": "code",
   "source": "tr_X = X_train[:-200]; tr_y = y[:-200]\nte_X = X_train[-200:]; te_y = y[-200:]\n\n# RF\nclf.fit(tr_X,tr_y)\ny_pred = clf.predict(te_X)\nMAE(te_y,y_pred)",
   "execution_count": 56,
   "outputs": [
    {
     "execution_count": 56,
     "output_type": "execute_result",
     "data": {
      "text/plain": "0.72"
     },
     "metadata": {}
    }
   ]
  },
  {
   "metadata": {
    "execution": {
     "iopub.status.busy": "2023-05-07T18:23:44.722342Z",
     "iopub.execute_input": "2023-05-07T18:23:44.722909Z",
     "iopub.status.idle": "2023-05-07T18:23:46.326793Z",
     "shell.execute_reply.started": "2023-05-07T18:23:44.722876Z",
     "shell.execute_reply": "2023-05-07T18:23:46.325418Z"
    },
    "trusted": false
   },
   "cell_type": "code",
   "source": "# ET\nclf2.fit(tr_X,tr_y)\ny_pred2 = clf2.predict(te_X)\nMAE(te_y,y_pred2)",
   "execution_count": 57,
   "outputs": [
    {
     "execution_count": 57,
     "output_type": "execute_result",
     "data": {
      "text/plain": "0.72"
     },
     "metadata": {}
    }
   ]
  },
  {
   "metadata": {
    "execution": {
     "iopub.status.busy": "2023-05-07T18:23:46.328271Z",
     "iopub.execute_input": "2023-05-07T18:23:46.328687Z",
     "iopub.status.idle": "2023-05-07T18:23:47.232213Z",
     "shell.execute_reply.started": "2023-05-07T18:23:46.328643Z",
     "shell.execute_reply": "2023-05-07T18:23:47.230727Z"
    },
    "trusted": false
   },
   "cell_type": "code",
   "source": "# AdaBoost\nclf3.fit(tr_X,tr_y)\ny_pred3 = clf3.predict(te_X)\nMAE(te_y,y_pred3)",
   "execution_count": 58,
   "outputs": [
    {
     "execution_count": 58,
     "output_type": "execute_result",
     "data": {
      "text/plain": "0.83"
     },
     "metadata": {}
    }
   ]
  },
  {
   "metadata": {
    "execution": {
     "iopub.status.busy": "2023-05-07T18:23:47.233914Z",
     "iopub.execute_input": "2023-05-07T18:23:47.234295Z",
     "iopub.status.idle": "2023-05-07T18:23:47.251616Z",
     "shell.execute_reply.started": "2023-05-07T18:23:47.234264Z",
     "shell.execute_reply": "2023-05-07T18:23:47.250443Z"
    },
    "trusted": false
   },
   "cell_type": "code",
   "source": "# Bernoulli Naive Bayes\nber.fit(tr_X,tr_y)\ny_pred_ber = ber.predict(te_X)\nMAE(te_y,y_pred_ber)",
   "execution_count": 59,
   "outputs": [
    {
     "execution_count": 59,
     "output_type": "execute_result",
     "data": {
      "text/plain": "0.735"
     },
     "metadata": {}
    }
   ]
  },
  {
   "metadata": {
    "execution": {
     "iopub.status.busy": "2023-05-07T18:23:47.254530Z",
     "iopub.execute_input": "2023-05-07T18:23:47.255030Z",
     "iopub.status.idle": "2023-05-07T18:23:47.269101Z",
     "shell.execute_reply.started": "2023-05-07T18:23:47.254985Z",
     "shell.execute_reply": "2023-05-07T18:23:47.267570Z"
    },
    "trusted": false
   },
   "cell_type": "code",
   "source": "# Complement Naive Bayes\ncom.fit(tr_X,tr_y)\ny_pred_com = com.predict(te_X)\nMAE(te_y,y_pred_com)",
   "execution_count": 60,
   "outputs": [
    {
     "execution_count": 60,
     "output_type": "execute_result",
     "data": {
      "text/plain": "0.83"
     },
     "metadata": {}
    }
   ]
  },
  {
   "metadata": {
    "execution": {
     "iopub.status.busy": "2023-05-07T18:23:47.270997Z",
     "iopub.execute_input": "2023-05-07T18:23:47.271858Z",
     "iopub.status.idle": "2023-05-07T18:23:47.284052Z",
     "shell.execute_reply.started": "2023-05-07T18:23:47.271822Z",
     "shell.execute_reply": "2023-05-07T18:23:47.282948Z"
    },
    "trusted": false
   },
   "cell_type": "code",
   "source": "# Multinomial Naive Bayes\nmn.fit(tr_X,tr_y)\ny_pred_mn = mn.predict(te_X)\nMAE(te_y,y_pred_mn)",
   "execution_count": 61,
   "outputs": [
    {
     "execution_count": 61,
     "output_type": "execute_result",
     "data": {
      "text/plain": "0.685"
     },
     "metadata": {}
    }
   ]
  },
  {
   "metadata": {
    "execution": {
     "iopub.status.busy": "2023-05-07T18:23:47.286064Z",
     "iopub.execute_input": "2023-05-07T18:23:47.286441Z",
     "iopub.status.idle": "2023-05-07T18:23:47.379934Z",
     "shell.execute_reply.started": "2023-05-07T18:23:47.286407Z",
     "shell.execute_reply": "2023-05-07T18:23:47.378201Z"
    },
    "trusted": false
   },
   "cell_type": "code",
   "source": "# Ridge Regression\nrc.fit(tr_X,tr_y)\ny_pred_rc = rc.predict(te_X)\nMAE(te_y,y_pred_rc)",
   "execution_count": 62,
   "outputs": [
    {
     "execution_count": 62,
     "output_type": "execute_result",
     "data": {
      "text/plain": "0.565"
     },
     "metadata": {}
    }
   ]
  },
  {
   "metadata": {},
   "cell_type": "markdown",
   "source": "Создадим простые ансамбли ответов\n\n"
  },
  {
   "metadata": {
    "execution": {
     "iopub.status.busy": "2023-05-07T18:23:47.393198Z",
     "iopub.execute_input": "2023-05-07T18:23:47.393629Z",
     "iopub.status.idle": "2023-05-07T18:23:47.408325Z",
     "shell.execute_reply.started": "2023-05-07T18:23:47.393597Z",
     "shell.execute_reply": "2023-05-07T18:23:47.407080Z"
    },
    "trusted": false
   },
   "cell_type": "code",
   "source": "y_pred_1 = mn.predict(te_X)\ny_pred_2 = rc.predict(te_X)\ny_pred_blend = (y_pred_1 + y_pred_2)/2\nMAE(te_y,y_pred_blend)",
   "execution_count": 63,
   "outputs": [
    {
     "execution_count": 63,
     "output_type": "execute_result",
     "data": {
      "text/plain": "0.59"
     },
     "metadata": {}
    }
   ]
  },
  {
   "metadata": {
    "execution": {
     "iopub.status.busy": "2023-05-07T18:23:47.410050Z",
     "iopub.execute_input": "2023-05-07T18:23:47.414900Z",
     "iopub.status.idle": "2023-05-07T18:23:47.427020Z",
     "shell.execute_reply.started": "2023-05-07T18:23:47.414852Z",
     "shell.execute_reply": "2023-05-07T18:23:47.425253Z"
    },
    "trusted": false
   },
   "cell_type": "code",
   "source": "y_test_rc = rc.predict(X_test)\ny_test_mn = mn.predict(X_test)\ny_pred = (y_test_rc + y_test_mn)/2",
   "execution_count": 64,
   "outputs": []
  },
  {
   "metadata": {
    "execution": {
     "iopub.status.busy": "2023-05-07T18:23:47.428700Z",
     "iopub.execute_input": "2023-05-07T18:23:47.429095Z",
     "iopub.status.idle": "2023-05-07T18:23:47.444532Z",
     "shell.execute_reply.started": "2023-05-07T18:23:47.429062Z",
     "shell.execute_reply": "2023-05-07T18:23:47.443275Z"
    },
    "trusted": false
   },
   "cell_type": "code",
   "source": "submission = pd.DataFrame({\n     'ID': test.ID,\n    'overall': y_pred\n })\nsubmission.to_csv('submission_1.csv', index=None)",
   "execution_count": 65,
   "outputs": []
  },
  {
   "metadata": {},
   "cell_type": "markdown",
   "source": "## <div style=\"padding: 30px;color:white;margin:00px;font-size:60%;text-align:left;border-radius:10px;background-color:#686dec;overflow:hidden\"><b><span style='color:white'>6 |</span></b> <b> BERT ЭМБЕДДИНГ МОДЕЛИ</b></div>\n\nПопробуем альтернативный подход:\n- У нас есть эмбеддинги из модели `BERT` для тектовых данных колонки `reviewText`\n- Тексту сопостовляются вектора размером 50, те. смысл содержания обзора в компактом виде можно упоковать, это намного эффективнее чем TF-IDF.\n- Посмотрим сможем ли мы улучшить качество моделей таким подходом\n\n#### Обучем модели только на признаках эмбеддингов"
  },
  {
   "metadata": {
    "execution": {
     "iopub.status.busy": "2023-05-07T18:23:47.446726Z",
     "iopub.execute_input": "2023-05-07T18:23:47.447483Z",
     "iopub.status.idle": "2023-05-07T18:23:47.466361Z",
     "shell.execute_reply.started": "2023-05-07T18:23:47.447449Z",
     "shell.execute_reply": "2023-05-07T18:23:47.465457Z"
    },
    "trusted": false
   },
   "cell_type": "code",
   "source": "# len(json.loads(train_df['features'].iloc[0])) # dimensionality of encoder layers and pooler layer (hidden size)\n# train_features = np.stack(train.features.apply(json.loads))\n# test_features = np.stack(test.features.apply(json.loads))\n# train_features.shape\n\ntrain_features_bert = np.stack(train['features'])      # training data\ntest_features_bert = np.stack(test['features'])        # test data\ntrain_features_bert.shape, test_features_bert.shape\n\ntr_X_bert = train_features_bert[:-200]; tr_y_bert = y[:-200]\nte_X_bert = train_features_bert[-200:]; te_y_bert = y[-200:]",
   "execution_count": 66,
   "outputs": []
  },
  {
   "metadata": {
    "execution": {
     "iopub.status.busy": "2023-05-07T18:23:47.468039Z",
     "iopub.execute_input": "2023-05-07T18:23:47.468384Z",
     "iopub.status.idle": "2023-05-07T18:23:47.475121Z",
     "shell.execute_reply.started": "2023-05-07T18:23:47.468353Z",
     "shell.execute_reply": "2023-05-07T18:23:47.473871Z"
    },
    "trusted": false
   },
   "cell_type": "code",
   "source": "clf = RandomForestClassifier(n_estimators=10,max_depth=100,random_state=34567)\nclf2 = ExtraTreesClassifier(random_state=rs)\nclf3 = AdaBoostClassifier(random_state=rs)\n\nber = BernoulliNB(alpha=1)\ncom = ComplementNB(alpha=0.1)\nmn = MultinomialNB(alpha=0.01)\nrc = RidgeClassifier(alpha=0.1,tol=1e-4,solver='auto',random_state=rs)",
   "execution_count": 67,
   "outputs": []
  },
  {
   "metadata": {
    "execution": {
     "iopub.status.busy": "2023-05-07T18:23:47.476581Z",
     "iopub.execute_input": "2023-05-07T18:23:47.477171Z",
     "iopub.status.idle": "2023-05-07T18:23:47.668175Z",
     "shell.execute_reply.started": "2023-05-07T18:23:47.477138Z",
     "shell.execute_reply": "2023-05-07T18:23:47.666678Z"
    },
    "trusted": false
   },
   "cell_type": "code",
   "source": "# RF\nclf.fit(tr_X_bert,tr_y_bert)\ny_pred = clf.predict(te_X_bert)\nMAE(te_y_bert,y_pred)",
   "execution_count": 68,
   "outputs": [
    {
     "execution_count": 68,
     "output_type": "execute_result",
     "data": {
      "text/plain": "0.925"
     },
     "metadata": {}
    }
   ]
  },
  {
   "metadata": {
    "execution": {
     "iopub.status.busy": "2023-05-07T18:23:47.669940Z",
     "iopub.execute_input": "2023-05-07T18:23:47.670673Z",
     "iopub.status.idle": "2023-05-07T18:23:47.791993Z",
     "shell.execute_reply.started": "2023-05-07T18:23:47.670638Z",
     "shell.execute_reply": "2023-05-07T18:23:47.790179Z"
    },
    "trusted": false
   },
   "cell_type": "code",
   "source": "# Ridge\nrc.fit(tr_X_bert,tr_y_bert)\ny_pred = rc.predict(te_X_bert)\nMAE(te_y_bert,y_pred)",
   "execution_count": 69,
   "outputs": [
    {
     "execution_count": 69,
     "output_type": "execute_result",
     "data": {
      "text/plain": "1.07"
     },
     "metadata": {}
    }
   ]
  },
  {
   "metadata": {},
   "cell_type": "markdown",
   "source": "#### Добавим TF-IDF фичи к эмбеддинговым фичам\n\nСгрупируем TF-IDF и BERT признаки в одну матрицу"
  },
  {
   "metadata": {
    "execution": {
     "iopub.status.busy": "2023-05-07T18:23:47.795102Z",
     "iopub.execute_input": "2023-05-07T18:23:47.797274Z",
     "iopub.status.idle": "2023-05-07T18:23:48.031897Z",
     "shell.execute_reply.started": "2023-05-07T18:23:47.797217Z",
     "shell.execute_reply": "2023-05-07T18:23:48.030928Z"
    },
    "trusted": false
   },
   "cell_type": "code",
   "source": "# horizontally stack data (pandas axis=1)\nX_all = np.hstack((X_train.toarray(),train_features_bert))\nX_all.shape",
   "execution_count": 70,
   "outputs": [
    {
     "execution_count": 70,
     "output_type": "execute_result",
     "data": {
      "text/plain": "(1000, 10313)"
     },
     "metadata": {}
    }
   ]
  },
  {
   "metadata": {
    "execution": {
     "iopub.status.busy": "2023-05-07T18:23:48.033171Z",
     "iopub.execute_input": "2023-05-07T18:23:48.033703Z",
     "iopub.status.idle": "2023-05-07T18:23:48.038400Z",
     "shell.execute_reply.started": "2023-05-07T18:23:48.033672Z",
     "shell.execute_reply": "2023-05-07T18:23:48.037571Z"
    },
    "trusted": false
   },
   "cell_type": "code",
   "source": "tr_X_bert = X_all[:-200]; tr_y_bert = y[:-200]\nte_X_bert = X_all[-200:]; te_y_bert = y[-200:]",
   "execution_count": 71,
   "outputs": []
  },
  {
   "metadata": {
    "execution": {
     "iopub.status.busy": "2023-05-07T18:23:48.040293Z",
     "iopub.execute_input": "2023-05-07T18:23:48.040679Z",
     "iopub.status.idle": "2023-05-07T18:23:48.230302Z",
     "shell.execute_reply.started": "2023-05-07T18:23:48.040648Z",
     "shell.execute_reply": "2023-05-07T18:23:48.229205Z"
    },
    "trusted": false
   },
   "cell_type": "code",
   "source": "# RF\nclf.fit(tr_X_bert,tr_y_bert)\ny_pred = clf.predict(te_X_bert)\nMAE(te_y_bert,y_pred)",
   "execution_count": 72,
   "outputs": [
    {
     "execution_count": 72,
     "output_type": "execute_result",
     "data": {
      "text/plain": "0.74"
     },
     "metadata": {}
    }
   ]
  },
  {
   "metadata": {
    "execution": {
     "iopub.status.busy": "2023-05-07T18:23:48.231678Z",
     "iopub.execute_input": "2023-05-07T18:23:48.232025Z",
     "iopub.status.idle": "2023-05-07T18:23:48.740527Z",
     "shell.execute_reply.started": "2023-05-07T18:23:48.231994Z",
     "shell.execute_reply": "2023-05-07T18:23:48.738909Z"
    },
    "trusted": false
   },
   "cell_type": "code",
   "source": "# Ridge\nrc.fit(tr_X_bert,tr_y_bert)\ny_pred = rc.predict(te_X_bert)\nMAE(te_y_bert,y_pred)",
   "execution_count": 73,
   "outputs": [
    {
     "execution_count": 73,
     "output_type": "execute_result",
     "data": {
      "text/plain": "0.93"
     },
     "metadata": {}
    }
   ]
  },
  {
   "metadata": {
    "execution": {
     "iopub.status.busy": "2023-05-07T18:23:48.748049Z",
     "iopub.execute_input": "2023-05-07T18:23:48.752276Z",
     "iopub.status.idle": "2023-05-07T18:23:48.761572Z",
     "shell.execute_reply.started": "2023-05-07T18:23:48.752202Z",
     "shell.execute_reply": "2023-05-07T18:23:48.760029Z"
    },
    "trusted": false
   },
   "cell_type": "code",
   "source": "submission = pd.DataFrame({\n   'ID': test.ID,\n    'overall': y_pred_blend\n})\nsubmission.to_csv('submission.csv', index=None)",
   "execution_count": 74,
   "outputs": []
  }
 ],
 "metadata": {
  "kernelspec": {
   "name": "python3",
   "display_name": "Python 3",
   "language": "python"
  },
  "language_info": {
   "name": "python",
   "version": "3.10.4",
   "mimetype": "text/x-python",
   "codemirror_mode": {
    "name": "ipython",
    "version": 3
   },
   "pygments_lexer": "ipython3",
   "nbconvert_exporter": "python",
   "file_extension": ".py"
  },
  "kaggle": {
   "accelerator": "none",
   "dataSources": [
    {
     "sourceId": 15925,
     "databundleVersionId": 689778,
     "sourceType": "competition"
    }
   ],
   "dockerImageVersionId": 30357,
   "isInternetEnabled": true,
   "language": "python",
   "sourceType": "notebook",
   "isGpuEnabled": false
  }
 },
 "nbformat": 4,
 "nbformat_minor": 4
}