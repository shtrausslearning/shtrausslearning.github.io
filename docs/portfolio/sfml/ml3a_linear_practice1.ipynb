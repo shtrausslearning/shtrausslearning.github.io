{
 "cells": [
  {
   "metadata": {},
   "cell_type": "markdown",
   "source": "## Линейная регрессия Практика\n\n### <b><span style='color:#686dec'>Предсказания Стоимости Дома</span></b>\n\n#### Данные из Бостона\n\nВ следующих заданиях будет использоваться датасет boston из `sklearn.datasets`"
  },
  {
   "metadata": {
    "trusted": false
   },
   "cell_type": "code",
   "source": "import numpy as np\nimport pandas as pd\nfrom sklearn.datasets import load_boston\nfrom sklearn.metrics import mean_squared_error, f1_score, accuracy_score, roc_curve, roc_auc_score\nfrom sklearn.model_selection import train_test_split\nfrom matplotlib import pyplot as plt",
   "execution_count": 36,
   "outputs": []
  },
  {
   "metadata": {},
   "cell_type": "markdown",
   "source": "- Загружаем датасет про цены домов в Бостоне\n- Нам нужно предсказать медиану цены жилья в 506 районах"
  },
  {
   "metadata": {
    "trusted": false
   },
   "cell_type": "code",
   "source": "data = load_boston()\ndata['data'].shape",
   "execution_count": 37,
   "outputs": [
    {
     "data": {
      "text/plain": "(506, 13)"
     },
     "execution_count": 37,
     "metadata": {},
     "output_type": "execute_result"
    }
   ]
  },
  {
   "metadata": {},
   "cell_type": "markdown",
   "source": "### <b><span style='color:#686dec'>Использованием матричных операций</span></b>"
  },
  {
   "metadata": {},
   "cell_type": "markdown",
   "source": "Линейная регрессия выражается следующей зависимостью:\n$$y=X\\theta+\\epsilon,$$\nгде \n- $X$ — матрица объекты-признаки\n- $y$ — вектор целевых значений, \n\nсоответствующих:\n- $X$, $\\theta$ — параметр линейной регрессии, $\\epsilon$ — некоторый шум.\n\nИз данного следует выражение для $\\theta$ как:\n$$X^Ty=X^TX\\theta \\rightarrow \\theta=(X^TX)^{-1}X^Ty$$\n"
  },
  {
   "metadata": {},
   "cell_type": "markdown",
   "source": "Реализуем выражение для $\\theta$ с помощью операций линейной алгебры библиотеки Numpy:"
  },
  {
   "metadata": {
    "trusted": false
   },
   "cell_type": "code",
   "source": "from numpy.linalg import inv\n\n# ЗАДАЧА Реализовать функцию, осуществляющую матричные операции для получения theta\ndef linreg_linear(X, y):\n    lsm = inv(np.dot(X.T,X))\n    Xt = np.dot(X.T,y)\n    theta = np.dot(lsm,Xt)\n    return theta",
   "execution_count": 38,
   "outputs": []
  },
  {
   "metadata": {},
   "cell_type": "markdown",
   "source": "#### Используем одну выборку "
  },
  {
   "metadata": {
    "trusted": false
   },
   "cell_type": "code",
   "source": "# Подготовить данные\n\nX, y = data['data'], data['target']\n\nX = np.hstack([np.ones(X.shape[0])[:,None], X])\nprint(X.shape)",
   "execution_count": 39,
   "outputs": [
    {
     "name": "stdout",
     "output_type": "stream",
     "text": "(506, 14)\n"
    }
   ]
  },
  {
   "metadata": {
    "trusted": false
   },
   "cell_type": "code",
   "source": "# Вычислить параметр theta\ntheta = linreg_linear(X, y)\nprint(theta)",
   "execution_count": 40,
   "outputs": [
    {
     "name": "stdout",
     "output_type": "stream",
     "text": "[ 3.64594884e+01 -1.08011358e-01  4.64204584e-02  2.05586264e-02\n  2.68673382e+00 -1.77666112e+01  3.80986521e+00  6.92224640e-04\n -1.47556685e+00  3.06049479e-01 -1.23345939e-02 -9.52747232e-01\n  9.31168327e-03 -5.24758378e-01]\n"
    }
   ]
  },
  {
   "metadata": {
    "trusted": false
   },
   "cell_type": "code",
   "source": "theta.shape",
   "execution_count": 41,
   "outputs": [
    {
     "data": {
      "text/plain": "(14,)"
     },
     "execution_count": 41,
     "metadata": {},
     "output_type": "execute_result"
    }
   ]
  },
  {
   "metadata": {
    "trusted": false
   },
   "cell_type": "code",
   "source": "# Сделать предсказания для тренировочной выборки\ny_pred = X.dot(theta)",
   "execution_count": 42,
   "outputs": []
  },
  {
   "metadata": {
    "trusted": false
   },
   "cell_type": "code",
   "source": "def print_regression_metrics(y_true, y_pred):\n    mse = mean_squared_error(y_true, y_pred)\n    rmse = np.sqrt(mse)\n    print(f'MSE = {mse:.2f}, RMSE = {rmse:.2f}')",
   "execution_count": 43,
   "outputs": []
  },
  {
   "metadata": {},
   "cell_type": "markdown",
   "source": "Посчитать значение ошибок MSE и RMSE для тренировочных данных"
  },
  {
   "metadata": {
    "trusted": false
   },
   "cell_type": "code",
   "source": "print_regression_metrics(y, y_pred)",
   "execution_count": 44,
   "outputs": [
    {
     "name": "stdout",
     "output_type": "stream",
     "text": "MSE = 21.89, RMSE = 4.68\n"
    }
   ]
  },
  {
   "metadata": {},
   "cell_type": "markdown",
   "source": "#### Проверим обобщающию способность модели\n\n- Мы обучили модель на некой выборке, и на них же посчитали метрику качества \n- Мы не проверили обобщающию способность модели"
  },
  {
   "metadata": {
    "trusted": false
   },
   "cell_type": "code",
   "source": "plt.hist(y);",
   "execution_count": 45,
   "outputs": [
    {
     "data": {
      "image/png": "[encoded data removed]",
      "text/plain": "<Figure size 480x360 with 1 Axes>"
     },
     "metadata": {
      "image/png": {
       "height": 323,
       "width": 428
      }
     },
     "output_type": "display_data"
    }
   ]
  },
  {
   "metadata": {
    "trusted": false
   },
   "cell_type": "code",
   "source": "# Разбить выборку на train/valid, вычислить theta,\n# сделать предсказания и посчитать ошибки MSE и RMSE\n\nX_train, X_valid, y_train, y_valid = train_test_split(X, y, test_size=0.2)\ntheta = linreg_linear(X_train, y_train)\ny_pred = X_valid.dot(theta)\ny_train_pred = X_train.dot(theta)",
   "execution_count": 46,
   "outputs": []
  },
  {
   "metadata": {
    "scrolled": true,
    "trusted": false
   },
   "cell_type": "code",
   "source": "print_regression_metrics(y_valid, y_pred)\nprint_regression_metrics(y_train, y_train_pred)",
   "execution_count": 47,
   "outputs": [
    {
     "name": "stdout",
     "output_type": "stream",
     "text": "MSE = 19.20, RMSE = 4.38\nMSE = 22.80, RMSE = 4.77\n"
    }
   ]
  },
  {
   "metadata": {
    "trusted": false
   },
   "cell_type": "code",
   "source": "from sklearn.linear_model import LinearRegression\n:\nlr = LinearRegression()\nlr.fit(X,y)\ny_pred = lr.predict(X)\nprint_regression_metrics(y, y_pred)",
   "execution_count": 48,
   "outputs": [
    {
     "name": "stdout",
     "output_type": "stream",
     "text": "MSE = 21.89, RMSE = 4.68\n"
    }
   ]
  },
  {
   "metadata": {},
   "cell_type": "markdown",
   "source": "### <b><span style='color:#686dec'>Использованием методов оптимизации (Градиентный Спуск)</span></b>"
  },
  {
   "metadata": {},
   "cell_type": "markdown",
   "source": "Для реализации линейной регрессии с помощью методов оптимизации будем использовать функцию ошибки **среднего квадратичного** ([Mean Squared Error](https://en.wikipedia.org/wiki/Mean_squared_error)), которая является выпуклой функцией в n-мерном пространстве $\\mathbb{R}^n$ и в общем виде выглядит следующим образом:\n$$MSE = \\frac{1}{n} * \\sum_{i=1}^{n}{(y_i - a(x_i))^2}.$$\nЗдесь $x_i$ — вектор-признак $i$-го объекта обучающей выборки, $y_i$ — истинное значение для $i$-го объекта, $a(x)$ — алгоритм, предсказывающий для данного объекта $x$ целевое значение, $n$ — кол-во объектов в выборке."
  },
  {
   "metadata": {},
   "cell_type": "markdown",
   "source": "В случае линейной регрессии $MSE$ представляется как:\n$$MSE(X, y, \\theta) = \\frac{1}{2n} * \\sum_{i=1}^{n}{(y_i - \\theta^Tx_i)^2} = \\frac{1}{2n} \\lVert{y - X\\theta}\\rVert_{2}^{2}=\\frac{1}{2n} (y - X\\theta)^T(y - X\\theta),$$\nгде $\\theta$ — параметр модели линейной регрессии, $X$ — матрица объекты-признаки, $y$ - вектор истинных значений, соответствующих $X$."
  },
  {
   "metadata": {},
   "cell_type": "markdown",
   "source": "Возьмем первый вариант представления функции ошибки и посчитаем ее градиент по параметру $\\theta$, предварительно переименовав $MSE$ в $L$:\n$$L=\\frac{1}{2n} * \\sum_{i=1}^{n}{(y_i - \\theta^Tx_i)^2}$$\n$$\\nabla L = \\frac{1}{n}\\sum_{i=1}^{n}{(\\theta^Tx_i - y_i) \\cdot x_i} = \\frac{1}{n}X^T(X\\theta - y)$$"
  },
  {
   "metadata": {},
   "cell_type": "markdown",
   "source": "Исходя из полученного выражения градиента, реализуем алгоритм градиентного спуска:"
  },
  {
   "metadata": {
    "trusted": false
   },
   "cell_type": "code",
   "source": "from tqdm.notebook import tqdm\n\n# вычисления градиента функции MSE\n\ndef calc_mse_gradient(X, y, theta):\n    n = X.shape[0]\n    grad = (1.0/n) * X.T.dot(X.dot(theta) - y)\n    return grad\n\n# Шаг градиентного спуска  \n\ndef gradient_step(theta, theta_grad, alpha):\n    return theta - alpha * theta_grad\n\n# Процедура оптимизации\n\ndef optimize(X, y, grad_func, start_theta, alpha, n_iters):\n    \n    # начальное theta\n    theta = start_theta.copy()\n    \n    for i in tqdm(range(n_iters)):\n        theta_grad = grad_func(X, y, theta)\n        theta = gradient_step(theta, theta_grad, alpha)\n    \n    return theta\n",
   "execution_count": 49,
   "outputs": []
  },
  {
   "metadata": {
    "trusted": false
   },
   "cell_type": "code",
   "source": "# Разбить таблицу данных на матрицы X и y\nX, y = data['data'], data['target']\n\n# Добавить фиктивный столбец единиц (bias линейной модели)\nX = np.hstack([np.ones(X.shape[0])[:, np.newaxis], X])\nm = X.shape[1]",
   "execution_count": 50,
   "outputs": []
  },
  {
   "metadata": {
    "trusted": false
   },
   "cell_type": "code",
   "source": "# Оптимизировать параметр линейной регрессии theta на всех данных\ntheta = optimize(X, y, calc_mse_gradient, np.ones(m), 0.001, 100)",
   "execution_count": 51,
   "outputs": [
    {
     "data": {
      "application/vnd.jupyter.widget-view+json": {
       "model_id": "93e68726a2494573b78541a1ba643db7",
       "version_major": 2,
       "version_minor": 0
      },
      "text/plain": "  0%|          | 0/100 [00:00<?, ?it/s]"
     },
     "metadata": {},
     "output_type": "display_data"
    }
   ]
  },
  {
   "metadata": {
    "trusted": false
   },
   "cell_type": "code",
   "source": "theta",
   "execution_count": 52,
   "outputs": [
    {
     "data": {
      "text/plain": "array([7.41647399e+246, 3.32349992e+247, 7.39564172e+247, 8.96295209e+247,\n       5.07578059e+245, 4.22030567e+246, 4.63094053e+247, 5.29083888e+248,\n       2.65643383e+247, 8.19991211e+247, 3.27135991e+249, 1.38363846e+248,\n       2.64323053e+249, 9.88835598e+247])"
     },
     "execution_count": 52,
     "metadata": {},
     "output_type": "execute_result"
    }
   ]
  },
  {
   "metadata": {
    "trusted": false
   },
   "cell_type": "code",
   "source": "# Проверить максимальные значения по каждому признаку в данных\nX.max(axis=0)",
   "execution_count": 53,
   "outputs": [
    {
     "data": {
      "text/plain": "array([  1.    ,  88.9762, 100.    ,  27.74  ,   1.    ,   0.871 ,\n         8.78  , 100.    ,  12.1265,  24.    , 711.    ,  22.    ,\n       396.9   ,  37.97  ])"
     },
     "execution_count": 53,
     "metadata": {},
     "output_type": "execute_result"
    }
   ]
  },
  {
   "metadata": {
    "trusted": false
   },
   "cell_type": "code",
   "source": "print(data['feature_names'][np.argmax(X.std(axis=0)) + 1])\nprint(np.max(X.std(axis=0)))",
   "execution_count": 54,
   "outputs": [
    {
     "name": "stdout",
     "output_type": "stream",
     "text": "B\n168.3704950393814\n"
    }
   ]
  },
  {
   "metadata": {
    "trusted": false
   },
   "cell_type": "code",
   "source": "# Нормализовать даннные с помощью стандартной нормализации\nX, y = data['data'], data['target']\nX = (X - X.mean(axis=0)) / X.std(axis=0)",
   "execution_count": 55,
   "outputs": []
  },
  {
   "metadata": {
    "trusted": false
   },
   "cell_type": "code",
   "source": "# Добавить фиктивный столбец единиц (bias линейной модели)\nX = np.hstack([np.ones(X.shape[0])[:,None], X])\nX.max(axis=0)",
   "execution_count": 56,
   "outputs": [
    {
     "data": {
      "text/plain": "array([1.        , 9.9339306 , 3.80423444, 2.42256516, 3.66839786,\n       2.73234648, 3.55504427, 1.11749449, 3.96051769, 1.66124525,\n       1.79819419, 1.63882832, 0.44105193, 3.54877081])"
     },
     "execution_count": 56,
     "metadata": {},
     "output_type": "execute_result"
    }
   ]
  },
  {
   "metadata": {
    "trusted": false
   },
   "cell_type": "code",
   "source": "# Оптимизировать theta на новых данных\ntheta = optimize(X, y, calc_mse_gradient, np.ones(m), 0.01, 5000)",
   "execution_count": 57,
   "outputs": [
    {
     "data": {
      "application/vnd.jupyter.widget-view+json": {
       "model_id": "da4f307be0ad463890696199c096b5ed",
       "version_major": 2,
       "version_minor": 0
      },
      "text/plain": "  0%|          | 0/5000 [00:00<?, ?it/s]"
     },
     "metadata": {},
     "output_type": "display_data"
    }
   ]
  },
  {
   "metadata": {
    "trusted": false
   },
   "cell_type": "code",
   "source": "theta",
   "execution_count": 58,
   "outputs": [
    {
     "data": {
      "text/plain": "array([ 2.25328063e+01, -9.21740195e-01,  1.07033639e+00,  1.06388396e-01,\n        6.86667316e-01, -2.05006416e+00,  2.68062168e+00,  1.40667969e-02,\n       -3.10608483e+00,  2.57511475e+00, -1.97802851e+00, -2.05725099e+00,\n        8.48690321e-01, -3.74025884e+00])"
     },
     "execution_count": 58,
     "metadata": {},
     "output_type": "execute_result"
    }
   ]
  },
  {
   "metadata": {
    "trusted": false
   },
   "cell_type": "code",
   "source": "# Сделать предсказания при полученных параметрах\ny_pred = X.dot(theta)",
   "execution_count": 59,
   "outputs": []
  },
  {
   "metadata": {
    "trusted": false
   },
   "cell_type": "code",
   "source": "# Посчитать значение ошибок MSE и RMSE для тренировочных данных\nprint_regression_metrics(y, y_pred)",
   "execution_count": 60,
   "outputs": [
    {
     "name": "stdout",
     "output_type": "stream",
     "text": "MSE = 21.90, RMSE = 4.68\n"
    }
   ]
  },
  {
   "metadata": {
    "trusted": false
   },
   "cell_type": "code",
   "source": "# Разбить выборку на train/valid, оптимизировать theta,\n# сделать предсказания и посчитать ошибки MSE и RMSE\n\nX_train, X_valid, y_train, y_valid = train_test_split(X, y, test_size=0.2)\ntheta = optimize(X_train, y_train, calc_mse_gradient, np.ones(m), 0.01, 5000)\ny_pred = X_valid.dot(theta)\n\nprint_regression_metrics(y_valid, y_pred)",
   "execution_count": 61,
   "outputs": [
    {
     "data": {
      "application/vnd.jupyter.widget-view+json": {
       "model_id": "fc89917b909a4948865a28e122e0dfb0",
       "version_major": 2,
       "version_minor": 0
      },
      "text/plain": "  0%|          | 0/5000 [00:00<?, ?it/s]"
     },
     "metadata": {},
     "output_type": "display_data"
    },
    {
     "name": "stdout",
     "output_type": "stream",
     "text": "MSE = 20.05, RMSE = 4.48\n"
    }
   ]
  },
  {
   "metadata": {},
   "cell_type": "markdown",
   "source": "### <b><span style='color:#686dec'>Задание</span></b>\n\n#### <b>Задание <span style='color:#686dec'>3.6.1</span></b> \n\n\nРеализуйте матричную линейную регрессию. Какой получился RMSE?\n\n4.68 (уже выполненно)"
  },
  {
   "metadata": {},
   "cell_type": "markdown",
   "source": "#### <b>Задание <span style='color:#686dec'>3.6.2</span></b> \n\n\nПостройте модель при помощи sklearn. Используйте параметры по умолчанию, обучите на всей выборке и посчитайте RMSE."
  },
  {
   "metadata": {
    "trusted": false
   },
   "cell_type": "code",
   "source": "from sklearn.linear_model import LinearRegression as LR\n\nX, y = data['data'], data['target']\nX = np.hstack([np.ones(X.shape[0])[:,None], X])\n\nmodel = LR()\nmodel.fit(X,y)\ny_pred = model.predict(X)\n\nprint_regression_metrics(y, y_pred)",
   "execution_count": 62,
   "outputs": [
    {
     "name": "stdout",
     "output_type": "stream",
     "text": "MSE = 21.89, RMSE = 4.68\n"
    }
   ]
  },
  {
   "metadata": {},
   "cell_type": "markdown",
   "source": "#### <b>Задание <span style='color:#686dec'>3.6.3</span></b> \n\n\nУ какого из признаков наибольшее стандартное отклонение? Чему оно равно?"
  },
  {
   "metadata": {
    "trusted": false
   },
   "cell_type": "code",
   "source": "df = pd.DataFrame(data['data'],columns=data['feature_names'])\ndf.head()",
   "execution_count": 63,
   "outputs": [
    {
     "data": {
      "text/html": "<div>\n<style scoped>\n    .dataframe tbody tr th:only-of-type {\n        vertical-align: middle;\n    }\n\n    .dataframe tbody tr th {\n        vertical-align: top;\n    }\n\n    .dataframe thead th {\n        text-align: right;\n    }\n</style>\n<table border=\"1\" class=\"dataframe\">\n  <thead>\n    <tr style=\"text-align: right;\">\n      <th></th>\n      <th>CRIM</th>\n      <th>ZN</th>\n      <th>INDUS</th>\n      <th>CHAS</th>\n      <th>NOX</th>\n      <th>RM</th>\n      <th>AGE</th>\n      <th>DIS</th>\n      <th>RAD</th>\n      <th>TAX</th>\n      <th>PTRATIO</th>\n      <th>B</th>\n      <th>LSTAT</th>\n    </tr>\n  </thead>\n  <tbody>\n    <tr>\n      <th>0</th>\n      <td>0.00632</td>\n      <td>18.0</td>\n      <td>2.31</td>\n      <td>0.0</td>\n      <td>0.538</td>\n      <td>6.575</td>\n      <td>65.2</td>\n      <td>4.0900</td>\n      <td>1.0</td>\n      <td>296.0</td>\n      <td>15.3</td>\n      <td>396.90</td>\n      <td>4.98</td>\n    </tr>\n    <tr>\n      <th>1</th>\n      <td>0.02731</td>\n      <td>0.0</td>\n      <td>7.07</td>\n      <td>0.0</td>\n      <td>0.469</td>\n      <td>6.421</td>\n      <td>78.9</td>\n      <td>4.9671</td>\n      <td>2.0</td>\n      <td>242.0</td>\n      <td>17.8</td>\n      <td>396.90</td>\n      <td>9.14</td>\n    </tr>\n    <tr>\n      <th>2</th>\n      <td>0.02729</td>\n      <td>0.0</td>\n      <td>7.07</td>\n      <td>0.0</td>\n      <td>0.469</td>\n      <td>7.185</td>\n      <td>61.1</td>\n      <td>4.9671</td>\n      <td>2.0</td>\n      <td>242.0</td>\n      <td>17.8</td>\n      <td>392.83</td>\n      <td>4.03</td>\n    </tr>\n    <tr>\n      <th>3</th>\n      <td>0.03237</td>\n      <td>0.0</td>\n      <td>2.18</td>\n      <td>0.0</td>\n      <td>0.458</td>\n      <td>6.998</td>\n      <td>45.8</td>\n      <td>6.0622</td>\n      <td>3.0</td>\n      <td>222.0</td>\n      <td>18.7</td>\n      <td>394.63</td>\n      <td>2.94</td>\n    </tr>\n    <tr>\n      <th>4</th>\n      <td>0.06905</td>\n      <td>0.0</td>\n      <td>2.18</td>\n      <td>0.0</td>\n      <td>0.458</td>\n      <td>7.147</td>\n      <td>54.2</td>\n      <td>6.0622</td>\n      <td>3.0</td>\n      <td>222.0</td>\n      <td>18.7</td>\n      <td>396.90</td>\n      <td>5.33</td>\n    </tr>\n  </tbody>\n</table>\n</div>",
      "text/plain": "      CRIM    ZN  INDUS  CHAS    NOX  ...  RAD    TAX  PTRATIO       B  LSTAT\n0  0.00632  18.0   2.31   0.0  0.538  ...  1.0  296.0     15.3  396.90   4.98\n1  0.02731   0.0   7.07   0.0  0.469  ...  2.0  242.0     17.8  396.90   9.14\n2  0.02729   0.0   7.07   0.0  0.469  ...  2.0  242.0     17.8  392.83   4.03\n3  0.03237   0.0   2.18   0.0  0.458  ...  3.0  222.0     18.7  394.63   2.94\n4  0.06905   0.0   2.18   0.0  0.458  ...  3.0  222.0     18.7  396.90   5.33\n\n[5 rows x 13 columns]"
     },
     "execution_count": 63,
     "metadata": {},
     "output_type": "execute_result"
    }
   ]
  },
  {
   "metadata": {
    "trusted": false
   },
   "cell_type": "code",
   "source": "df.describe()",
   "execution_count": 64,
   "outputs": [
    {
     "data": {
      "text/html": "<div>\n<style scoped>\n    .dataframe tbody tr th:only-of-type {\n        vertical-align: middle;\n    }\n\n    .dataframe tbody tr th {\n        vertical-align: top;\n    }\n\n    .dataframe thead th {\n        text-align: right;\n    }\n</style>\n<table border=\"1\" class=\"dataframe\">\n  <thead>\n    <tr style=\"text-align: right;\">\n      <th></th>\n      <th>CRIM</th>\n      <th>ZN</th>\n      <th>INDUS</th>\n      <th>CHAS</th>\n      <th>NOX</th>\n      <th>RM</th>\n      <th>AGE</th>\n      <th>DIS</th>\n      <th>RAD</th>\n      <th>TAX</th>\n      <th>PTRATIO</th>\n      <th>B</th>\n      <th>LSTAT</th>\n    </tr>\n  </thead>\n  <tbody>\n    <tr>\n      <th>count</th>\n      <td>506.000000</td>\n      <td>506.000000</td>\n      <td>506.000000</td>\n      <td>506.000000</td>\n      <td>506.000000</td>\n      <td>506.000000</td>\n      <td>506.000000</td>\n      <td>506.000000</td>\n      <td>506.000000</td>\n      <td>506.000000</td>\n      <td>506.000000</td>\n      <td>506.000000</td>\n      <td>506.000000</td>\n    </tr>\n    <tr>\n      <th>mean</th>\n      <td>3.613524</td>\n      <td>11.363636</td>\n      <td>11.136779</td>\n      <td>0.069170</td>\n      <td>0.554695</td>\n      <td>6.284634</td>\n      <td>68.574901</td>\n      <td>3.795043</td>\n      <td>9.549407</td>\n      <td>408.237154</td>\n      <td>18.455534</td>\n      <td>356.674032</td>\n      <td>12.653063</td>\n    </tr>\n    <tr>\n      <th>std</th>\n      <td>8.601545</td>\n      <td>23.322453</td>\n      <td>6.860353</td>\n      <td>0.253994</td>\n      <td>0.115878</td>\n      <td>0.702617</td>\n      <td>28.148861</td>\n      <td>2.105710</td>\n      <td>8.707259</td>\n      <td>168.537116</td>\n      <td>2.164946</td>\n      <td>91.294864</td>\n      <td>7.141062</td>\n    </tr>\n    <tr>\n      <th>min</th>\n      <td>0.006320</td>\n      <td>0.000000</td>\n      <td>0.460000</td>\n      <td>0.000000</td>\n      <td>0.385000</td>\n      <td>3.561000</td>\n      <td>2.900000</td>\n      <td>1.129600</td>\n      <td>1.000000</td>\n      <td>187.000000</td>\n      <td>12.600000</td>\n      <td>0.320000</td>\n      <td>1.730000</td>\n    </tr>\n    <tr>\n      <th>25%</th>\n      <td>0.082045</td>\n      <td>0.000000</td>\n      <td>5.190000</td>\n      <td>0.000000</td>\n      <td>0.449000</td>\n      <td>5.885500</td>\n      <td>45.025000</td>\n      <td>2.100175</td>\n      <td>4.000000</td>\n      <td>279.000000</td>\n      <td>17.400000</td>\n      <td>375.377500</td>\n      <td>6.950000</td>\n    </tr>\n    <tr>\n      <th>50%</th>\n      <td>0.256510</td>\n      <td>0.000000</td>\n      <td>9.690000</td>\n      <td>0.000000</td>\n      <td>0.538000</td>\n      <td>6.208500</td>\n      <td>77.500000</td>\n      <td>3.207450</td>\n      <td>5.000000</td>\n      <td>330.000000</td>\n      <td>19.050000</td>\n      <td>391.440000</td>\n      <td>11.360000</td>\n    </tr>\n    <tr>\n      <th>75%</th>\n      <td>3.677083</td>\n      <td>12.500000</td>\n      <td>18.100000</td>\n      <td>0.000000</td>\n      <td>0.624000</td>\n      <td>6.623500</td>\n      <td>94.075000</td>\n      <td>5.188425</td>\n      <td>24.000000</td>\n      <td>666.000000</td>\n      <td>20.200000</td>\n      <td>396.225000</td>\n      <td>16.955000</td>\n    </tr>\n    <tr>\n      <th>max</th>\n      <td>88.976200</td>\n      <td>100.000000</td>\n      <td>27.740000</td>\n      <td>1.000000</td>\n      <td>0.871000</td>\n      <td>8.780000</td>\n      <td>100.000000</td>\n      <td>12.126500</td>\n      <td>24.000000</td>\n      <td>711.000000</td>\n      <td>22.000000</td>\n      <td>396.900000</td>\n      <td>37.970000</td>\n    </tr>\n  </tbody>\n</table>\n</div>",
      "text/plain": "             CRIM          ZN       INDUS  ...     PTRATIO           B       LSTAT\ncount  506.000000  506.000000  506.000000  ...  506.000000  506.000000  506.000000\nmean     3.613524   11.363636   11.136779  ...   18.455534  356.674032   12.653063\nstd      8.601545   23.322453    6.860353  ...    2.164946   91.294864    7.141062\nmin      0.006320    0.000000    0.460000  ...   12.600000    0.320000    1.730000\n25%      0.082045    0.000000    5.190000  ...   17.400000  375.377500    6.950000\n50%      0.256510    0.000000    9.690000  ...   19.050000  391.440000   11.360000\n75%      3.677083   12.500000   18.100000  ...   20.200000  396.225000   16.955000\nmax     88.976200  100.000000   27.740000  ...   22.000000  396.900000   37.970000\n\n[8 rows x 13 columns]"
     },
     "execution_count": 64,
     "metadata": {},
     "output_type": "execute_result"
    }
   ]
  },
  {
   "metadata": {
    "trusted": false
   },
   "cell_type": "code",
   "source": "X, y = data['data'], data['target']\n\nprint(data.feature_names)\nprint(X.std(axis=0))",
   "execution_count": 65,
   "outputs": [
    {
     "name": "stdout",
     "output_type": "stream",
     "text": "['CRIM' 'ZN' 'INDUS' 'CHAS' 'NOX' 'RM' 'AGE' 'DIS' 'RAD' 'TAX' 'PTRATIO'\n 'B' 'LSTAT']\n[8.59304135e+00 2.32993957e+01 6.85357058e+00 2.53742935e-01\n 1.15763115e-01 7.01922514e-01 2.81210326e+01 2.10362836e+00\n 8.69865112e+00 1.68370495e+02 2.16280519e+00 9.12046075e+01\n 7.13400164e+00]\n"
    }
   ]
  },
  {
   "metadata": {},
   "cell_type": "markdown",
   "source": "#### <b>Задание <span style='color:#686dec'>3.6.4</span></b> \n\n\nОбучите регрессию без дополнительного столбца единиц. Какой получился RMSE?"
  },
  {
   "metadata": {
    "trusted": false
   },
   "cell_type": "code",
   "source": "X, y = data['data'], data['target']\n\nmodel = LR()\nmodel.fit(X,y)\ny_pred = model.predict(X)\n\nprint_regression_metrics(y, y_pred)",
   "execution_count": 66,
   "outputs": [
    {
     "name": "stdout",
     "output_type": "stream",
     "text": "MSE = 21.89, RMSE = 4.68\n"
    }
   ]
  },
  {
   "metadata": {},
   "cell_type": "markdown",
   "source": "#### <b>Задание <span style='color:#686dec'>3.6.5</span></b> \n\n\nОчистите данные от строк, где значение признака  меньше . Какой получился RMSE?"
  },
  {
   "metadata": {
    "trusted": false
   },
   "cell_type": "code",
   "source": "df = pd.DataFrame(data['data'],columns=data['feature_names'])\ndfy = pd.DataFrame(data['target'],columns=['target'])\ndf_all = pd.concat([df,dfy],axis=1)\n\nldf = df_all[~(df_all['B'] < 50)]\nldf.head()",
   "execution_count": 67,
   "outputs": [
    {
     "data": {
      "text/html": "<div>\n<style scoped>\n    .dataframe tbody tr th:only-of-type {\n        vertical-align: middle;\n    }\n\n    .dataframe tbody tr th {\n        vertical-align: top;\n    }\n\n    .dataframe thead th {\n        text-align: right;\n    }\n</style>\n<table border=\"1\" class=\"dataframe\">\n  <thead>\n    <tr style=\"text-align: right;\">\n      <th></th>\n      <th>CRIM</th>\n      <th>ZN</th>\n      <th>INDUS</th>\n      <th>CHAS</th>\n      <th>NOX</th>\n      <th>RM</th>\n      <th>AGE</th>\n      <th>DIS</th>\n      <th>RAD</th>\n      <th>TAX</th>\n      <th>PTRATIO</th>\n      <th>B</th>\n      <th>LSTAT</th>\n      <th>target</th>\n    </tr>\n  </thead>\n  <tbody>\n    <tr>\n      <th>0</th>\n      <td>0.00632</td>\n      <td>18.0</td>\n      <td>2.31</td>\n      <td>0.0</td>\n      <td>0.538</td>\n      <td>6.575</td>\n      <td>65.2</td>\n      <td>4.0900</td>\n      <td>1.0</td>\n      <td>296.0</td>\n      <td>15.3</td>\n      <td>396.90</td>\n      <td>4.98</td>\n      <td>24.0</td>\n    </tr>\n    <tr>\n      <th>1</th>\n      <td>0.02731</td>\n      <td>0.0</td>\n      <td>7.07</td>\n      <td>0.0</td>\n      <td>0.469</td>\n      <td>6.421</td>\n      <td>78.9</td>\n      <td>4.9671</td>\n      <td>2.0</td>\n      <td>242.0</td>\n      <td>17.8</td>\n      <td>396.90</td>\n      <td>9.14</td>\n      <td>21.6</td>\n    </tr>\n    <tr>\n      <th>2</th>\n      <td>0.02729</td>\n      <td>0.0</td>\n      <td>7.07</td>\n      <td>0.0</td>\n      <td>0.469</td>\n      <td>7.185</td>\n      <td>61.1</td>\n      <td>4.9671</td>\n      <td>2.0</td>\n      <td>242.0</td>\n      <td>17.8</td>\n      <td>392.83</td>\n      <td>4.03</td>\n      <td>34.7</td>\n    </tr>\n    <tr>\n      <th>3</th>\n      <td>0.03237</td>\n      <td>0.0</td>\n      <td>2.18</td>\n      <td>0.0</td>\n      <td>0.458</td>\n      <td>6.998</td>\n      <td>45.8</td>\n      <td>6.0622</td>\n      <td>3.0</td>\n      <td>222.0</td>\n      <td>18.7</td>\n      <td>394.63</td>\n      <td>2.94</td>\n      <td>33.4</td>\n    </tr>\n    <tr>\n      <th>4</th>\n      <td>0.06905</td>\n      <td>0.0</td>\n      <td>2.18</td>\n      <td>0.0</td>\n      <td>0.458</td>\n      <td>7.147</td>\n      <td>54.2</td>\n      <td>6.0622</td>\n      <td>3.0</td>\n      <td>222.0</td>\n      <td>18.7</td>\n      <td>396.90</td>\n      <td>5.33</td>\n      <td>36.2</td>\n    </tr>\n  </tbody>\n</table>\n</div>",
      "text/plain": "      CRIM    ZN  INDUS  CHAS    NOX  ...    TAX  PTRATIO       B  LSTAT  target\n0  0.00632  18.0   2.31   0.0  0.538  ...  296.0     15.3  396.90   4.98    24.0\n1  0.02731   0.0   7.07   0.0  0.469  ...  242.0     17.8  396.90   9.14    21.6\n2  0.02729   0.0   7.07   0.0  0.469  ...  242.0     17.8  392.83   4.03    34.7\n3  0.03237   0.0   2.18   0.0  0.458  ...  222.0     18.7  394.63   2.94    33.4\n4  0.06905   0.0   2.18   0.0  0.458  ...  222.0     18.7  396.90   5.33    36.2\n\n[5 rows x 14 columns]"
     },
     "execution_count": 67,
     "metadata": {},
     "output_type": "execute_result"
    }
   ]
  },
  {
   "metadata": {
    "trusted": false
   },
   "cell_type": "code",
   "source": "y = ldf['target']\nX = ldf.drop(['target'],axis=1)\n\nX = np.hstack([np.ones(X.shape[0])[:,None], X])\n\nmodel = LR()\nmodel.fit(X,y)\ny_pred = model.predict(X)\n\nprint_regression_metrics(y, y_pred)",
   "execution_count": 68,
   "outputs": [
    {
     "name": "stdout",
     "output_type": "stream",
     "text": "MSE = 21.79, RMSE = 4.67\n"
    }
   ]
  },
  {
   "metadata": {},
   "cell_type": "markdown",
   "source": "#### <b>Задание <span style='color:#686dec'>3.6.6</span></b> \n\n\nНормализуйте признаки и обучите линейную регрессию матричным методом. Какой получился RMSE?"
  },
  {
   "metadata": {
    "trusted": false
   },
   "cell_type": "code",
   "source": "# Разбить таблицу данных на матрицы X и y\nX, y = data['data'], data['target']\nX = (X - X.mean(axis=0)) / X.std(axis=0)\n\n# Добавить фиктивный столбец единиц (bias линейной модели)\nX = np.hstack([np.ones(X.shape[0])[:, np.newaxis], X])",
   "execution_count": 70,
   "outputs": []
  },
  {
   "metadata": {
    "trusted": false
   },
   "cell_type": "code",
   "source": "def linreg_linear(X, y):\n    lsm = inv(np.dot(X.T,X))\n    Xt = np.dot(X.T,y)\n    theta = np.dot(lsm,Xt)\n    return theta\n\ntheta = linreg_linear(X,y)\ny_pred = X.dot(theta)\n\nprint_regression_metrics(y, y_pred)",
   "execution_count": 73,
   "outputs": [
    {
     "name": "stdout",
     "output_type": "stream",
     "text": "MSE = 21.89, RMSE = 4.68\n"
    }
   ]
  }
 ],
 "metadata": {
  "kernelspec": {
   "name": "python3",
   "display_name": "Python 3",
   "language": "python"
  },
  "language_info": {
   "name": "python",
   "version": "3.10.4",
   "mimetype": "text/x-python",
   "codemirror_mode": {
    "name": "ipython",
    "version": 3
   },
   "pygments_lexer": "ipython3",
   "nbconvert_exporter": "python",
   "file_extension": ".py"
  }
 },
 "nbformat": 4,
 "nbformat_minor": 2
}