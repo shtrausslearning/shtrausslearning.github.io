{
 "cells": [
  {
   "metadata": {},
   "cell_type": "markdown",
   "source": "## Метрики качества классификации\n\n### <b><span style='color:#686dec'>Предсказания Стоимости Квартиры</span></b>\n\nТеперь попробуем реализовать классификацию и вычислить разобранные метрики.\nДля начала подгружаем библиотеки"
  },
  {
   "metadata": {
    "trusted": false
   },
   "cell_type": "code",
   "source": "from sklearn.model_selection import train_test_split\nfrom sklearn.linear_model import LogisticRegression",
   "execution_count": 1,
   "outputs": []
  },
  {
   "metadata": {},
   "cell_type": "markdown",
   "source": "### <b><span style='color:#686dec'>Загружаем данные</span></b>"
  },
  {
   "metadata": {
    "trusted": false
   },
   "cell_type": "code",
   "source": "from sklearn.datasets import load_breast_cancer # подгружаем датасет\nbreast_cancer = load_breast_cancer()\nbreast_cancer.keys()",
   "execution_count": 2,
   "outputs": [
    {
     "data": {
      "text/plain": "dict_keys(['data', 'target', 'frame', 'target_names', 'DESCR', 'feature_names', 'filename'])"
     },
     "execution_count": 2,
     "metadata": {},
     "output_type": "execute_result"
    }
   ]
  },
  {
   "metadata": {},
   "cell_type": "markdown",
   "source": "### <b><span style='color:#686dec'>Определяем зависимые и независимые переменные</span></b>\n\nЗададим зависимые (Y) и независимые переменные (X)"
  },
  {
   "metadata": {
    "trusted": false
   },
   "cell_type": "code",
   "source": "Y = breast_cancer.target   # Наша целевая переменная, 0 — если рака нет, 1 — если есть \nX = breast_cancer.data     # X - признаки, по которым мы будем предсказывать рак ",
   "execution_count": 3,
   "outputs": []
  },
  {
   "metadata": {},
   "cell_type": "markdown",
   "source": "\n\n### <b><span style='color:#686dec'>Разбиваем выборку и на train/test</span></b>\n\nРазбиваем выборку на обучающую и тестовую и обучаем нашу модель:"
  },
  {
   "metadata": {
    "trusted": false
   },
   "cell_type": "code",
   "source": "X_train, X_val, Y_train, Y_val = train_test_split(X, Y, test_size = 0.3)\nmodel = LogisticRegression(max_iter=5000)\nmodel.fit(X_train, Y_train)",
   "execution_count": 4,
   "outputs": [
    {
     "data": {
      "text/plain": "LogisticRegression(max_iter=5000)"
     },
     "execution_count": 4,
     "metadata": {},
     "output_type": "execute_result"
    }
   ]
  },
  {
   "metadata": {},
   "cell_type": "markdown",
   "source": "### <b><span style='color:#686dec'>Оценка Модели</span></b>\n\nИ оценим качество модели "
  },
  {
   "metadata": {
    "trusted": false
   },
   "cell_type": "code",
   "source": "from sklearn.metrics import accuracy_score, precision_score, recall_score, f1_score\n\nY_predicted = model.predict(X_val)\nprint('корректность',accuracy_score(Y_val,Y_predicted))\nprint('точность',precision_score(Y_val,Y_predicted))\nprint('полнота',recall_score(Y_val,Y_predicted))\nprint('f1 мера',f1_score(Y_val,Y_predicted))",
   "execution_count": 5,
   "outputs": [
    {
     "name": "stdout",
     "output_type": "stream",
     "text": "корректность 0.9415204678362573\nточность 0.9646017699115044\nполнота 0.9478260869565217\nf1 мера 0.956140350877193\n"
    }
   ]
  },
  {
   "metadata": {},
   "cell_type": "markdown",
   "source": "### <b><span style='color:#686dec'>Задание</span></b>\n\n#### <b>Задание <span style='color:#686dec'>3B.2.1</span></b> \n\nВы создали классификатор, который разделяет экономические и политические новости на два разных Telegram-канала, и хотите проверить его качество.\n- За день вышло 15 политических новостей и 20 экономических.\n- Ваш алгоритм из 15 политических новостей отметил 9 как экономические, а из 20 экономических — 6 как политические."
  },
  {
   "metadata": {
    "trusted": false
   },
   "cell_type": "code",
   "source": "# 15 political, 20 economic (TP+TN+FP+FN = 35)\n# 15 political (6 political 9 econimic)\n# 20 economic (6 political, 15 economic)\n\nTP = 6; FP = 9\nTN = 14; FN = 6\n\nacc = (TP + TN)/(TP+TN+FP+FN)\nprint(acc)",
   "execution_count": 6,
   "outputs": [
    {
     "name": "stdout",
     "output_type": "stream",
     "text": "0.5714285714285714\n"
    }
   ]
  },
  {
   "metadata": {},
   "cell_type": "markdown",
   "source": "#### <b>Задание <span style='color:#686dec'>3B.2.2</span></b> \n\n- Загрузите встроенный в библиотеку sklearn датасет про ирисы с помощью функции load_iris. \n- Обучите модель логистической регрессии (random_state=50, размер тестовой выборки 0.3) и укажите полученное значение метрики"
  },
  {
   "metadata": {
    "trusted": false
   },
   "cell_type": "code",
   "source": "from sklearn.datasets import load_iris\nfrom sklearn.model_selection import train_test_split\nfrom sklearn.linear_model import LogisticRegression\nfrom sklearn.metrics import accuracy_score, precision_score, recall_score, f1_score\n\niris = load_iris()\niris.keys()",
   "execution_count": 7,
   "outputs": [
    {
     "data": {
      "text/plain": "dict_keys(['data', 'target', 'frame', 'target_names', 'DESCR', 'feature_names', 'filename'])"
     },
     "execution_count": 7,
     "metadata": {},
     "output_type": "execute_result"
    }
   ]
  },
  {
   "metadata": {
    "trusted": false
   },
   "cell_type": "code",
   "source": "Y = iris.target   \nX = iris.data",
   "execution_count": 8,
   "outputs": []
  },
  {
   "metadata": {
    "trusted": false
   },
   "cell_type": "code",
   "source": "X_train, X_val, Y_train, Y_val = train_test_split(X, Y, test_size = 0.3, random_state=50)\nmodel = LogisticRegression(max_iter=5000)\nmodel.fit(X_train, Y_train)",
   "execution_count": 9,
   "outputs": [
    {
     "data": {
      "text/plain": "LogisticRegression(max_iter=5000)"
     },
     "execution_count": 9,
     "metadata": {},
     "output_type": "execute_result"
    }
   ]
  },
  {
   "metadata": {
    "trusted": false
   },
   "cell_type": "code",
   "source": "from sklearn.metrics import accuracy_score, precision_score, recall_score, f1_score\n\nY_predicted = model.predict(X_val)\nprint('корректность',round(accuracy_score(Y_val,Y_predicted),3))",
   "execution_count": 10,
   "outputs": [
    {
     "name": "stdout",
     "output_type": "stream",
     "text": "корректность 0.978\n"
    }
   ]
  }
 ],
 "metadata": {
  "kernelspec": {
   "name": "python3",
   "display_name": "Python 3",
   "language": "python"
  },
  "language_info": {
   "name": "python",
   "version": "3.10.4",
   "mimetype": "text/x-python",
   "codemirror_mode": {
    "name": "ipython",
    "version": 3
   },
   "pygments_lexer": "ipython3",
   "nbconvert_exporter": "python",
   "file_extension": ".py"
  }
 },
 "nbformat": 4,
 "nbformat_minor": 2
}