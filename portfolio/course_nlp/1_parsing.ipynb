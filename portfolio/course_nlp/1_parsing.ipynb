{
 "cells": [
  {
   "cell_type": "markdown",
   "metadata": {},
   "source": [
    "\n",
    "## <b><span style='color:#686dec'>1 |</span></b> <b>Введение</b>\n",
    "\n",
    "### **Цель** \n",
    "\n",
    "В этом ДЗ вы напишите свой парсер, который будет бегать по страничкам и автоматически что-то собирать.\n",
    "\n",
    "### **Описание**\n",
    "\n",
    "По аналогии с занятием по парсингу данных, возьмите интересующий вас сайт, на котором можно пособирать какие-то данные (и при этом API не предоставляется).\n",
    "Идеальный датасет должен иметь текстовое описание некоторого объекта и некоторую целевую переменную, соответствующую этому объекту. Например:\n",
    "\n",
    "- Сайт новостей: текстовое описание - сама новость, целевая переменная - количество просмотров новости (можно поделить на число дней с момента даты публикации, чтобы получить “среднее число просмотров в день”).\n",
    "- Сайт с товарами/книгами/фильмами: текстовое описание товара/книги/фильма + средний рейтинг в качестве целевой переменной.\n",
    "- Блоги - тексты заметок + число просмотров.\n",
    "- И любые другие ваши идеи, которые подходят под такой формат.\n",
    "\n",
    "\n",
    "Напишите свой парсер, который будет бегать по страничкам и автоматически что-то собирать.\n",
    "- Не забывайте, что парсинг - это ответственное мероприятие, поэтому не бомбардируйте несчастные сайты слишком частыми запросами (можно ограничить число запросов в секунду при помощи time.sleep(0.3), вставленного в теле цикла)\n",
    "- При необходимости очистить датасет от мусора с помощью регулярных выражений).\n",
    "- Посчитать статистики по собранным данным и провести EDA собранных данных (в случае, если данные представляют собой текст - посчитать частотности слов, выявить наиболее частотные слова и т. п)\n",
    "- Не забудьте сохранить полученный датасет, он вам еще пригодиться в дальнейших домашних заданиях.\n",
    "\n",
    "### **Критерии оценки**\n",
    "\n",
    "- Написан парсер, но датасет по каким-то причинам получить не удалось (например, из-за блокировок) - 4 балла\n",
    "- Написан парсер и собран датасет - 8 баллов\n",
    "- Проведен EDA собранных данных - 2 балла\n",
    "\n"
   ]
  },
  {
   "cell_type": "markdown",
   "metadata": {},
   "source": [
    "## <b><span style='color:#686dec'>2 |</span></b> <b>Парсер</b>\n",
    "\n",
    "### **Отзывы о Сбербанке**\n",
    "\n",
    "- Для этой задачи выберем страницу <code>irecommend.ru</code>. На этой странице можно найти отзывы о разных товарах и услугах\n",
    "- Узнаем что нравится нашим клиентам, и попытаемся найти причины плохих отзывов c помощью дальнейшего EDA, для того чтобы это сделать, нам нужно сначала парсить данные и потом их обработать\n",
    "- Так как отзывы есть для разных услуг и их достаточно много, ограничимся только общими отзывами Сбербанка"
   ]
  },
  {
   "cell_type": "markdown",
   "metadata": {},
   "source": [
    "### **Сохраняем ссылки отзывов**\n",
    "\n",
    "- От каждой страницы мы будем получать по 100 отзывов\n",
    "- Парсинг мы будем делать частично (по 2 страницы), так как парсинг всех страниц (даже с библиотекой time) привадило к блокировкам, либо какая то часть контетна просто не выгружалась \n",
    "- Каждый отзыв расположен на своем личном URL, соответственно сначала парсим сборку отзывов (<code>/sberbank?</code>) (обобщенный вид отзывов) для того чтобы получить URL всех отзывов расположеных на этой странице\n",
    "- Потом уже парсим URL отзывов клиентов и выгружаем интересующее нас информацию об отзыве"
   ]
  },
  {
   "cell_type": "code",
   "execution_count": null,
   "metadata": {
    "trusted": false
   },
   "outputs": [
    {
     "data": {
      "text/plain": [
       "['https://irecommend.ru/content/sberbank?page=22&new=50',\n",
       " 'https://irecommend.ru/content/sberbank?page=23&new=50']"
      ]
     },
     "execution_count": 18,
     "metadata": {},
     "output_type": "execute_result"
    }
   ],
   "source": [
    "# all page review sources\n",
    "\n",
    "# sources = ['https://irecommend.ru/content/sberbank?new=50']\n",
    "# sources.extend([f'https://irecommend.ru/content/sberbank?page={i}&new=50'for i in range(1,2)])\n",
    "# sources\n",
    "\n",
    "sources = [f'https://irecommend.ru/content/sberbank?page={i}&new=50'for i in range(22,24)]\n",
    "sources"
   ]
  },
  {
   "cell_type": "markdown",
   "metadata": {},
   "source": [
    "- Импортируем библиотеки\n",
    "- Пригодятся вспомогательные функции для сохранения списков (для выгрузки индивидуальных отзывов)"
   ]
  },
  {
   "cell_type": "code",
   "execution_count": null,
   "metadata": {
    "trusted": false
   },
   "outputs": [],
   "source": [
    "import requests\n",
    "from bs4 import BeautifulSoup\n",
    "import time as t\n",
    "from tqdm.notebook import tqdm\n",
    "from random import randint\n",
    "import numpy as np\n",
    "import json\n",
    "\n",
    "def write_list(a_list):\n",
    "    print(\"Started writing list data into a json file\")\n",
    "    with open(\"names.json\", \"w\") as fp:\n",
    "        json.dump(a_list, fp)\n",
    "        print(\"Done writing JSON data into .json file\")\n",
    "    fp.close()\n",
    "\n",
    "# Read list to memory\n",
    "def read_list():\n",
    "    # for reading also binary mode is important\n",
    "    with open('names.json', 'rb') as fp:\n",
    "        n_list = json.load(fp)\n",
    "        return n_list"
   ]
  },
  {
   "cell_type": "markdown",
   "metadata": {},
   "source": [
    "- Создаем сессию в <code>requests</code>, из браузера мы копируем информацию и вставляем ее в нашу сессию\n",
    "- Это помогает обходить периодическую блокировку выгрузки данных\n",
    "- Так же мы используем proxy для того чтобы наш IP не внесли в черный список при написании парсера (не используем никаких личных данных) "
   ]
  },
  {
   "cell_type": "code",
   "execution_count": null,
   "metadata": {
    "trusted": false
   },
   "outputs": [],
   "source": [
    "s = requests.Session()\n",
    "s.headers.update({\n",
    "    'Accept': 'text/html,application/xhtml+xml,application/xml;q=0.9,image/avif,image/webp,*/*;q=0.8',\n",
    "    'User-Agent': 'Mozilla/5.0 (X11; Ubuntu; Linux x86_64; rv:109.0) Gecko/20100101 Firefox/112.0',\n",
    "    \n",
    "})\n",
    "\n",
    "s.cookies.update({\n",
    "    'sid': 'ZmIxNDk1MGViZDdmOWQ3NTkxYjBkY2VhOTUxMzhiYTE=|1683738281|4b50f094379eebb1ef9971cce80bd5a5a2aa4510',\n",
    "    'srv_menu_gender': 'women',\n",
    "    'lid': 'ZEACnGRb07W1ZAzPoeVGAgA=',\n",
    "    '_gcl_au': '1.1.178690257.1683739575',\n",
    "    'wt_cdbeid': '1',\n",
    "    'wt3_eid': '%3B717012440280310%7C2168373957543385423%232168374008056837262',\n",
    "    'wt3_sid': '%3B717012440280310',\n",
    "    'wt_rla': '717012440280310%2C18%2C1683739575310',\n",
    "    'sessionId': '1683739575312935624',\n",
    "    'is_synced': 'true',\n",
    "    'qrator_ssid': '1683739576.090.Zk4lm6ShpXdKDJ1p-858bkd8q7lopa6e0s03okmu6qa3kp1fa',\n",
    "    '_gid': 'GA1.2.1392953172.1683739578'\n",
    "})\n",
    "\n",
    "# proxies = {'http': ''}\n",
    "# s.proxies.update(proxies)"
   ]
  },
  {
   "cell_type": "markdown",
   "metadata": {},
   "source": [
    "- Парсим общюю страницу с отзывами, на ней мы найдем URL, которые сохраняем в список <code>reviews</code> (относительный url)\n",
    "- Полный URL сохраняем в <code>review_link</code> и сохраняем список в <code>JSON</code>, для того чтобы не повторять операцию"
   ]
  },
  {
   "cell_type": "code",
   "execution_count": null,
   "metadata": {
    "trusted": false
   },
   "outputs": [
    {
     "data": {
      "application/vnd.jupyter.widget-view+json": {
       "model_id": "18ed08edc1b84fd58da557b8c2658cbb",
       "version_major": 2,
       "version_minor": 0
      },
      "text/plain": [
       "  0%|          | 0/2 [00:00<?, ?it/s]"
      ]
     },
     "metadata": {},
     "output_type": "display_data"
    },
    {
     "name": "stdout",
     "output_type": "stream",
     "text": [
      "200\n",
      "200\n",
      "Started writing list data into a json file\n",
      "Done writing JSON data into .json file\n"
     ]
    }
   ],
   "source": [
    "def parse_page(url):\n",
    "\n",
    "    r = s.get(url)\n",
    "    page = r.text\n",
    "    print(r.status_code)\n",
    "    soup = BeautifulSoup(page, 'html.parser')\n",
    "\n",
    "    # review summary\n",
    "    content = soup.find_all(class_='reviewTextSnippet')\n",
    "\n",
    "    # extract review links\n",
    "    title = soup.find_all(class_='reviewTitle')\n",
    "\n",
    "    reviews = []\n",
    "    for div in title:\n",
    "        reviews.append(div.find('a')['href'])\n",
    "\n",
    "    review_link = []\n",
    "    for review in reviews:\n",
    "        review_link.append('https://irecommend.ru' + review)\n",
    "\n",
    "    return review_link\n",
    "\n",
    "lst_all_review_sources = []\n",
    "for link in tqdm(sources):\n",
    "    lst_all_review_sources.extend(parse_page(link))\n",
    "    t.sleep(randint(10,15))\n",
    "\n",
    "write_list(lst_all_review_sources)\n",
    "\n",
    "#lst_all_review_sources = read_list()\n",
    "# lst_all_review_sources"
   ]
  },
  {
   "cell_type": "code",
   "execution_count": null,
   "metadata": {
    "trusted": false
   },
   "outputs": [
    {
     "data": {
      "text/plain": [
       "['https://irecommend.ru/content/ochen-plokho-57',\n",
       " 'https://irecommend.ru/content/budte-vnimatelny-pri-pomoshchi-mobilnogo-banka-s-karty-kradut-dengi',\n",
       " 'https://irecommend.ru/content/obsluzhivanie-klientov-vse-khuzhe-i-khuzhe',\n",
       " 'https://irecommend.ru/content/vozvrat-deneg',\n",
       " 'https://irecommend.ru/content/ogromnye-ocheredi',\n",
       " 'https://irecommend.ru/content/otkrovenno-lzhivyi-piar-obernetsya-sberbanku-povalnym-nedoveriem',\n",
       " 'https://irecommend.ru/content/kak-my-vlipli-s-ssudoi-v-etom-sderbanke',\n",
       " 'https://irecommend.ru/content/produmannyi-bank',\n",
       " 'https://irecommend.ru/content/vse-luchshe-i-luchshe-0',\n",
       " 'https://irecommend.ru/content/kak-podlechit-nervy-ili-kak-my-brali-ipoteku-ot-sberbanka',\n",
       " 'https://irecommend.ru/content/bank-kotoryi-rabotaet-ne-dlya-lyudei-protiv-lyudei',\n",
       " 'https://irecommend.ru/content/u-menya-propadayut-dengi-s-kartochki',\n",
       " 'https://irecommend.ru/content/lzhivyi-biznes',\n",
       " 'https://irecommend.ru/content/pri-vkhode-odna-mysl-tolko-ne-ochered',\n",
       " 'https://irecommend.ru/content/koshmar-265',\n",
       " 'https://irecommend.ru/content/kazhetsya-rabota-banka-uluchshaetsya',\n",
       " 'https://irecommend.ru/content/karta-kredit-momentum',\n",
       " 'https://irecommend.ru/content/bolshoi-i-poetomu-neudobnyi',\n",
       " 'https://irecommend.ru/content/izdevateltvo-kakoe',\n",
       " 'https://irecommend.ru/content/zhal-nelzya-postavit-otsenku-10',\n",
       " 'https://irecommend.ru/content/dobryi-den-ya-spetsialist-sberbanka-rosii-zvonyu-vam-iz-kieva',\n",
       " 'https://irecommend.ru/content/bank-konechno-ne-vinovat-chto-rukovoditel-otdeleniya-idiot-no-vse-zhe',\n",
       " 'https://irecommend.ru/content/kak-poteryat-5-tysyach-i-isportit-sebe-nastroenie',\n",
       " 'https://irecommend.ru/content/idite-v-nogu-so-vremenem-podarochnaya-karta-nemnogo-foto',\n",
       " 'https://irecommend.ru/content/poluchila-kartu-za-10-minut-ochen-udobnaya',\n",
       " 'https://irecommend.ru/content/kak-obchistit-klientov-drugikh-bankov-dlya-sberbanka-ne-vopros',\n",
       " 'https://irecommend.ru/content/brali-tam-kredit',\n",
       " 'https://irecommend.ru/content/bonusnaya-programma-spasibo-ne-ozhidala-takogo-ot-sbera',\n",
       " 'https://irecommend.ru/content/sberbank-slov-net-odni-emotsii',\n",
       " 'https://irecommend.ru/content/mobilnyi-bank-ot-sberbanka-chto-eto-takoe-i-stoit-li-podklyuchat',\n",
       " 'https://irecommend.ru/content/back-ussr-0',\n",
       " 'https://irecommend.ru/content/dengi-derzhu-tolko-v-sberbanke',\n",
       " 'https://irecommend.ru/content/khotite-poluchit-sms-v-3-chasa-nochi-vam-v-sberbank',\n",
       " 'https://irecommend.ru/content/bez-preduprezhdeniya-podklyuchili-platnuyu-uslugu',\n",
       " 'https://irecommend.ru/content/spasibo-sotrudnikam-sbera-chto-komu-pomogli-smyt-s-karty-pensionerki-nevelikie-dengi-nu-pust',\n",
       " 'https://irecommend.ru/content/sobralsya-zakryt-debetovuyu-kartu-sberatebya-zhdut-syurprizy',\n",
       " 'https://irecommend.ru/content/potrebitelskii-kredit-spb-100-kreditosposobnost-ne-garantiya-polucheniya-kredita-v-sberbanke',\n",
       " 'https://irecommend.ru/content/sberbank-obnaglel-v-konets',\n",
       " 'https://irecommend.ru/content/ostorozhno-moshenniki-11',\n",
       " 'https://irecommend.ru/content/navyazchivye-uslugi',\n",
       " 'https://irecommend.ru/content/bank-ne-bez-izyanov',\n",
       " 'https://irecommend.ru/content/vechnye-ocheredisotrudniki-mnogoe-ne-dogovarivayut',\n",
       " 'https://irecommend.ru/content/kak-ya-zakryvala-schet-v-sberbanke-vykup-sebya-iz-rabstva',\n",
       " 'https://irecommend.ru/content/pro-kreditnuyu-i-debetovuyu-kartu-ot-sberbanka-v-rossii-konkurentov-tochno-net',\n",
       " 'https://irecommend.ru/content/protivorechivyi-opyt-moi-priklyucheniya',\n",
       " 'https://irecommend.ru/content/lichno-dlya-menya-minusov-i-nedochetov-v-sberbanke-polno',\n",
       " 'https://irecommend.ru/content/menya-raduet-1',\n",
       " 'https://irecommend.ru/content/sberbank-rasshchedrilsya-na-bonusy',\n",
       " 'https://irecommend.ru/content/povyazana-ya-so-sberom',\n",
       " 'https://irecommend.ru/content/ob-optsii-sberbank-line-onlain',\n",
       " 'https://irecommend.ru/content/moi-bank',\n",
       " 'https://irecommend.ru/content/otnoshenie-kak-k-skotam',\n",
       " 'https://irecommend.ru/content/neuvazhenie',\n",
       " 'https://irecommend.ru/content/prosto-uzhasnaya-istoriya',\n",
       " 'https://irecommend.ru/content/ranshe-schitala-chto-eto-samyi-luchshii-bank-no-kak-ya-oshibalas',\n",
       " 'https://irecommend.ru/content/uzhasnyi-servis-9',\n",
       " 'https://irecommend.ru/content/vysokaya-komissiya-za-uslugi',\n",
       " 'https://irecommend.ru/content/o-tom-kak-ne-nado-oplachivat-scheta-zarubezhnykh-internet-magazinov-perevodit-dengi-inostran',\n",
       " 'https://irecommend.ru/content/moe-khoroshee-vpechatlenie-o-sbere-och-isportilos-posle-etogo-sluchaya',\n",
       " 'https://irecommend.ru/content/mobilnyi-bank-osteregaites-moshennikov',\n",
       " 'https://irecommend.ru/content/pochemu-zhe-takoe-uzhasnoe-otnoshenie-k-lyudyam-kotorykh-zarabatyvayut',\n",
       " 'https://irecommend.ru/content/meloch-priyatno-15',\n",
       " 'https://irecommend.ru/content/ya-ne-dovolna-3',\n",
       " 'https://irecommend.ru/content/kak-ni-stranno-u-nas-s-sb-osobykh-problem-net',\n",
       " 'https://irecommend.ru/content/lenivye-i-ne-kompetentnye',\n",
       " 'https://irecommend.ru/content/zhdite-zhdite-zhdite',\n",
       " 'https://irecommend.ru/content/zastuplyus-i-pust-v-menya-letyat-yaitsa-pomidory-i-tapki',\n",
       " 'https://irecommend.ru/content/sberbank-0',\n",
       " 'https://irecommend.ru/content/ipoteka-sberbank-bez-pervonachalnogo-vznosa-opisanie-skhemy-za-kotoruyu-nasha-semya-zaplatil',\n",
       " 'https://irecommend.ru/content/kvalifikatsiya-rabotnikov-ostavlyaet-zhelat-luchshego',\n",
       " 'https://irecommend.ru/content/moya-istoriya-otklyucheniya-uslugi-ili-srazu-idite-v-ofis',\n",
       " 'https://irecommend.ru/content/udivlena-naskolko-bystro-sberbank-mne-vydal-kartu-foto-udobnaya-karta-momentum-teper-so-mnoi',\n",
       " 'https://irecommend.ru/content/operatsii-po-karte-s-mobilnogo-telefona',\n",
       " 'https://irecommend.ru/content/moi-opyt-obshcheniya-so-sberbankom',\n",
       " 'https://irecommend.ru/content/vor-v-zakone',\n",
       " 'https://irecommend.ru/content/samyi-nadezhnyi-bank-ili-kak-u-menya-ukrali-dengi',\n",
       " 'https://irecommend.ru/content/nevygodno-i-neinteresno',\n",
       " 'https://irecommend.ru/content/ne-kompitentnost-sotrudnikov-i-uzhasy-oplaty-cherez-terminal',\n",
       " 'https://irecommend.ru/content/poluchit-legko-potratit-slozhno',\n",
       " 'https://irecommend.ru/content/uzhasnyi-bank-no-vybora-net',\n",
       " 'https://irecommend.ru/content/ochen-silno-podvel-chetvero-sutok-khodila-k-nim-kak-na-rabotu',\n",
       " 'https://irecommend.ru/content/khamstvo-i-obman-klient-vsegda-ne-prav',\n",
       " 'https://irecommend.ru/content/moi-priklyucheniya-v-sberbanke',\n",
       " 'https://irecommend.ru/content/apofeoz-marazma',\n",
       " 'https://irecommend.ru/content/karta-momentum-ochen-udobnaya-nuzhnaya-i-prostaya-v-ispolzovanii',\n",
       " 'https://irecommend.ru/content/5050-60',\n",
       " 'https://irecommend.ru/content/moi-sekrety-pochemu-ya-polzuyus-imenno-im',\n",
       " 'https://irecommend.ru/content/zagadochnoe-kodovoe-slovo',\n",
       " 'https://irecommend.ru/content/normalnyi-bank-8',\n",
       " 'https://irecommend.ru/content/razocharovalas-120',\n",
       " 'https://irecommend.ru/content/novogodnii-syurpriz-ot-sberbanka',\n",
       " 'https://irecommend.ru/content/dotoshnye-sotrudniki-pytayutsya-vse-vtyukhat',\n",
       " 'https://irecommend.ru/content/sperbank',\n",
       " 'https://irecommend.ru/content/nachinat-nado-s-sebya',\n",
       " 'https://irecommend.ru/content/telefonnye-strasti-sberbanka',\n",
       " 'https://irecommend.ru/content/lokhotron-v-terminale',\n",
       " 'https://irecommend.ru/content/delayut-dengi-iz-vozdukha-0',\n",
       " 'https://irecommend.ru/content/potrebitelskii-kredit-legko-bystro-dostupno',\n",
       " 'https://irecommend.ru/content/pomenyal-bank-i-zazhil-spokoino',\n",
       " 'https://irecommend.ru/content/esli-ne-nekotorye-sotrudniki-debily-ya-nazvala-ego-khoroshim-ili-kak-mozhno-ostatsya-bez-den']"
      ]
     },
     "execution_count": 4,
     "metadata": {},
     "output_type": "execute_result"
    }
   ],
   "source": [
    "read_list()"
   ]
  },
  {
   "cell_type": "markdown",
   "metadata": {},
   "source": [
    "### **Парсим отзывы клиентов**\n",
    "\n",
    "- Имея URL отзывов, будем парсить сами отзывы\n",
    "- Используем две вспомогательные функции\n",
    "\n",
    "    - <code>parse_review</code> дял выгрузки текста отзыва \n",
    "    - <code>parse_additional</code> которая выгружает дополнительную информацию об отзыве (юзер,дата отзыва,итог,рейтинг)"
   ]
  },
  {
   "cell_type": "code",
   "execution_count": null,
   "metadata": {
    "trusted": false
   },
   "outputs": [],
   "source": [
    "flatten = lambda l: [item for sublist in l for item in sublist]\n",
    "\n",
    "'''\n",
    "\n",
    "Helper function #1\n",
    "Return review \n",
    "\n",
    "'''\n",
    "\n",
    "def parse_review(r,review_url):\n",
    "\n",
    "    page = r.text\n",
    "    soup = BeautifulSoup(page, 'html.parser')\n",
    "\n",
    "    # extract review links\n",
    "    review = soup.find_all(class_='description hasinlineimage')\n",
    "\n",
    "    # review text stored in <p>, can have multiple parts\n",
    "    page_review = []\n",
    "    for i in review:\n",
    "        page_review.append(i.find_all('p'))\n",
    "    \n",
    "    # flatten & store only strings\n",
    "    review_text = []\n",
    "    for i in flatten(page_review):\n",
    "        review_text.append(i.get_text())\n",
    "        \n",
    "    return review_text\n",
    "\n",
    "'''\n",
    "\n",
    "Helper function #2 \n",
    "Return positive points, negative points & conclusion\n",
    "\n",
    "'''\n",
    "\n",
    "def parse_additional(r,review_url):\n",
    "\n",
    "    page = r.text\n",
    "    soup = BeautifulSoup(page, 'html.parser')\n",
    "    \n",
    "    # extract user \n",
    "    user_id = soup.find(itemprop='url')\n",
    "    if(user_id is not None):\n",
    "        user = user_id.get_text()\n",
    "    else:\n",
    "        user = None\n",
    "    \n",
    "    # publish time\n",
    "    \n",
    "    date_id = soup.find(itemprop='datePublished')\n",
    "    \n",
    "    if(date_id is not None):\n",
    "        date = date_id.get('content')\n",
    "    else:\n",
    "        date = None\n",
    "\n",
    "    # extract user verdict (positive/negative)\n",
    "    conclusion_id = soup.find(class_='verdict')\n",
    "    if(conclusion_id is not None):\n",
    "        conclusion = conclusion_id.get_text()\n",
    "    else:\n",
    "        conclusion = None\n",
    "    \n",
    "    # extract user rating (1-5 rating)\n",
    "    rating_id = soup.find(itemprop=\"ratingValue\")\n",
    "    if(rating_id is not None):\n",
    "        rating = rating_id.get(\"content\")\n",
    "    else:\n",
    "        rating = None\n",
    "    \n",
    "    return user,date,conclusion,rating"
   ]
  },
  {
   "cell_type": "markdown",
   "metadata": {},
   "source": [
    "\n",
    "- Парсим частями (по 100 данных), всего 1000 отзывов + что вполне достаточно для примера\n",
    "- Данные из парсера сохраняются итеративно в списки `user`,`time`,`review`,`conclusion`,`rating`\n",
    "- Из рекомендации, советовали использовать разную дельту для времени операции sleep, используем интервал (15-22с) "
   ]
  },
  {
   "cell_type": "code",
   "execution_count": null,
   "metadata": {
    "trusted": false
   },
   "outputs": [
    {
     "name": "stdout",
     "output_type": "stream",
     "text": [
      "irbisirbis не рекомендует 1\n",
      "review extracted: 0\n",
      "Владимирова не рекомендует 1\n",
      "review extracted: 10\n",
      "Maritaimi рекомендует 4\n",
      "review extracted: 20\n",
      "Frau J не рекомендует 1\n",
      "review extracted: 30\n",
      "Елена9924 рекомендует 3\n",
      "review extracted: 40\n",
      "kareglazoe_4udo рекомендует 4\n",
      "review extracted: 50\n",
      "LubovZ не рекомендует 1\n",
      "review extracted: 60\n",
      "дарья2512 рекомендует 4\n",
      "review extracted: 70\n",
      "JeNе4еk не рекомендует 1\n",
      "review extracted: 80\n",
      "плюшка не рекомендует 1\n",
      "review extracted: 90\n"
     ]
    }
   ],
   "source": [
    "'''\n",
    "\n",
    "Parse Data\n",
    "\n",
    "'''\n",
    "\n",
    "# get_data - stores parsed data \n",
    "\n",
    "def get_data(urls):\n",
    "\n",
    "    # Store parsed data for each reviewer\n",
    "    lst_user = []\n",
    "    lst_time = []\n",
    "    lst_review = []\n",
    "    lst_conclusion = []\n",
    "    lst_rating = []\n",
    "\n",
    "    # cycle through all review links on a single page\n",
    "    for ii,review_link in enumerate(urls):\n",
    "\n",
    "        # send request \n",
    "        r = s.get(review_link)\n",
    "        # r = requests.get(review_link)\n",
    "        \n",
    "        if(r.status_code != 200):\n",
    "            print(r.status_code)\n",
    "            break\n",
    "\n",
    "        # store review\n",
    "        lst_review.append(parse_review(r,review_link))\n",
    "\n",
    "        # store additional information\n",
    "        user,time,conclusion,rating = parse_additional(r,review_link)\n",
    "\n",
    "        lst_user.append(user)\n",
    "        lst_time.append(time)\n",
    "        lst_conclusion.append(conclusion)\n",
    "        lst_rating.append(rating)\n",
    "\n",
    "        if(ii%10 == 0):\n",
    "            print(user,conclusion,rating)\n",
    "            print(f'review extracted: {ii}')\n",
    "            \n",
    "        # random sleep\n",
    "        t.sleep(randint(15,22))\n",
    "        \n",
    "    return lst_user,lst_time,lst_review,lst_conclusion,lst_rating\n",
    "\n",
    "user,time,review,conclusion,rating = get_data(lst_all_review_sources)"
   ]
  },
  {
   "cell_type": "markdown",
   "metadata": {},
   "source": [
    "### **Сбор частичных данных**\n",
    "\n",
    "- Так как мы собираем данные частями, сохраним их в <code>csv</code> формате, когда все закончим, сохраняем все в единый <code>csv</code>\n",
    "- Как видим, <code>review</code> уже под конец стал выдавать пустые данные что может обозначать что либо нас уже частично блокируют, либо в в 2012 году еще не было возможности вводить свои отзыв  "
   ]
  },
  {
   "cell_type": "code",
   "execution_count": null,
   "metadata": {
    "trusted": false
   },
   "outputs": [
    {
     "data": {
      "text/html": [
       "<div>\n",
       "<style scoped>\n",
       "    .dataframe tbody tr th:only-of-type {\n",
       "        vertical-align: middle;\n",
       "    }\n",
       "\n",
       "    .dataframe tbody tr th {\n",
       "        vertical-align: top;\n",
       "    }\n",
       "\n",
       "    .dataframe thead th {\n",
       "        text-align: right;\n",
       "    }\n",
       "</style>\n",
       "<table border=\"1\" class=\"dataframe\">\n",
       "  <thead>\n",
       "    <tr style=\"text-align: right;\">\n",
       "      <th></th>\n",
       "      <th>user</th>\n",
       "      <th>time</th>\n",
       "      <th>review</th>\n",
       "      <th>conclusion</th>\n",
       "      <th>rating</th>\n",
       "    </tr>\n",
       "  </thead>\n",
       "  <tbody>\n",
       "    <tr>\n",
       "      <th>0</th>\n",
       "      <td>irbisirbis</td>\n",
       "      <td>2013-08-19T21:42:32+02:00</td>\n",
       "      <td>похоже не один и ни два клиента СБ столкнулись...</td>\n",
       "      <td>не рекомендует</td>\n",
       "      <td>1</td>\n",
       "    </tr>\n",
       "    <tr>\n",
       "      <th>1</th>\n",
       "      <td>hellknows</td>\n",
       "      <td>2013-08-14T10:46:43+02:00</td>\n",
       "      <td>Услугами Сбербанка пользуюсь достаточно долго,...</td>\n",
       "      <td>не рекомендует</td>\n",
       "      <td>3</td>\n",
       "    </tr>\n",
       "    <tr>\n",
       "      <th>2</th>\n",
       "      <td>mescaline_</td>\n",
       "      <td>2013-08-13T10:03:15+02:00</td>\n",
       "      <td>Отвратительное обслуживание клиента! Сбербанк ...</td>\n",
       "      <td>не рекомендует</td>\n",
       "      <td>1</td>\n",
       "    </tr>\n",
       "    <tr>\n",
       "      <th>3</th>\n",
       "      <td>DenisDDDDD</td>\n",
       "      <td>2013-08-13T09:51:49+02:00</td>\n",
       "      <td>г.Казань Очень отвратительная процедура создан...</td>\n",
       "      <td>не рекомендует</td>\n",
       "      <td>1</td>\n",
       "    </tr>\n",
       "    <tr>\n",
       "      <th>4</th>\n",
       "      <td>Natalia23</td>\n",
       "      <td>2013-08-12T17:09:38+02:00</td>\n",
       "      <td>Еще когда работала стал вопрос о том, где же х...</td>\n",
       "      <td>рекомендует</td>\n",
       "      <td>4</td>\n",
       "    </tr>\n",
       "    <tr>\n",
       "      <th>...</th>\n",
       "      <td>...</td>\n",
       "      <td>...</td>\n",
       "      <td>...</td>\n",
       "      <td>...</td>\n",
       "      <td>...</td>\n",
       "    </tr>\n",
       "    <tr>\n",
       "      <th>95</th>\n",
       "      <td>Виктория Юрьевна</td>\n",
       "      <td>2012-12-12T18:05:00+01:00</td>\n",
       "      <td></td>\n",
       "      <td>не рекомендует</td>\n",
       "      <td>1</td>\n",
       "    </tr>\n",
       "    <tr>\n",
       "      <th>96</th>\n",
       "      <td>stasya555</td>\n",
       "      <td>2012-12-06T09:56:14+01:00</td>\n",
       "      <td></td>\n",
       "      <td>не рекомендует</td>\n",
       "      <td>1</td>\n",
       "    </tr>\n",
       "    <tr>\n",
       "      <th>97</th>\n",
       "      <td>Мотылек</td>\n",
       "      <td>2012-11-29T16:46:44+01:00</td>\n",
       "      <td></td>\n",
       "      <td>рекомендует</td>\n",
       "      <td>5</td>\n",
       "    </tr>\n",
       "    <tr>\n",
       "      <th>98</th>\n",
       "      <td>osvald197934310</td>\n",
       "      <td>2012-11-21T04:06:59+01:00</td>\n",
       "      <td></td>\n",
       "      <td>не рекомендует</td>\n",
       "      <td>3</td>\n",
       "    </tr>\n",
       "    <tr>\n",
       "      <th>99</th>\n",
       "      <td>vishnya</td>\n",
       "      <td>2012-11-21T03:35:34+01:00</td>\n",
       "      <td></td>\n",
       "      <td>рекомендует</td>\n",
       "      <td>3</td>\n",
       "    </tr>\n",
       "  </tbody>\n",
       "</table>\n",
       "<p>100 rows × 5 columns</p>\n",
       "</div>"
      ],
      "text/plain": [
       "                user                       time  ...      conclusion rating\n",
       "0         irbisirbis  2013-08-19T21:42:32+02:00  ...  не рекомендует      1\n",
       "1          hellknows  2013-08-14T10:46:43+02:00  ...  не рекомендует      3\n",
       "2         mescaline_  2013-08-13T10:03:15+02:00  ...  не рекомендует      1\n",
       "3         DenisDDDDD  2013-08-13T09:51:49+02:00  ...  не рекомендует      1\n",
       "4          Natalia23  2013-08-12T17:09:38+02:00  ...     рекомендует      4\n",
       "..               ...                        ...  ...             ...    ...\n",
       "95  Виктория Юрьевна  2012-12-12T18:05:00+01:00  ...  не рекомендует      1\n",
       "96         stasya555  2012-12-06T09:56:14+01:00  ...  не рекомендует      1\n",
       "97           Мотылек  2012-11-29T16:46:44+01:00  ...     рекомендует      5\n",
       "98   osvald197934310  2012-11-21T04:06:59+01:00  ...  не рекомендует      3\n",
       "99           vishnya  2012-11-21T03:35:34+01:00  ...     рекомендует      3\n",
       "\n",
       "[100 rows x 5 columns]"
      ]
     },
     "metadata": {},
     "output_type": "display_data"
    }
   ],
   "source": [
    "# Post process & store data in dataframe\n",
    "\n",
    "review_concat = []\n",
    "for lst_review in review:\n",
    "    review_concat.append(\" \".join(lst_review))\n",
    "    \n",
    "import pandas as pd\n",
    "\n",
    "df = pd.DataFrame({'user':user,'time':time,'review':review_concat,'conclusion':conclusion,'rating':rating})\n",
    "df.to_csv('df_2223.csv')\n",
    "display(df)"
   ]
  },
  {
   "cell_type": "markdown",
   "metadata": {},
   "source": [
    "- Итак мы сохранили данные в <code>csv</code> df_01,df_23,df_45,df_67,df_89,df_1011,df_1213,df_1415,df_1617,df_1819,df_2021,df_2223\n",
    "- Итого у нас получилось парсить 1200 отзывов"
   ]
  },
  {
   "cell_type": "code",
   "execution_count": null,
   "metadata": {
    "trusted": false
   },
   "outputs": [
    {
     "data": {
      "text/plain": [
       "'c:\\\\otus_nlp-main\\\\4_parsing'"
      ]
     },
     "execution_count": 6,
     "metadata": {},
     "output_type": "execute_result"
    }
   ],
   "source": [
    "import os\n",
    "os.getcwd()"
   ]
  },
  {
   "cell_type": "code",
   "execution_count": null,
   "metadata": {
    "trusted": false
   },
   "outputs": [],
   "source": [
    "import os\n",
    "import pandas as pd\n",
    "\n",
    "pd_lst = []\n",
    "for dirname, _, filenames in os.walk('c:\\\\otus_nlp-main\\\\4_parsing'):\n",
    "    for filename in filenames:\n",
    "        if('csv' in filename):\n",
    "            pd_lst.append(pd.read_csv(os.path.join(dirname, filename)))\n",
    "\n",
    "parsed_data = pd.concat(pd_lst,axis=0)\n",
    "parsed_data = parsed_data.drop(['Unnamed: 0'],axis=1) # забыли сохранить CSV без индекса"
   ]
  },
  {
   "cell_type": "code",
   "execution_count": null,
   "metadata": {
    "trusted": false
   },
   "outputs": [
    {
     "data": {
      "text/html": [
       "<div>\n",
       "<style scoped>\n",
       "    .dataframe tbody tr th:only-of-type {\n",
       "        vertical-align: middle;\n",
       "    }\n",
       "\n",
       "    .dataframe tbody tr th {\n",
       "        vertical-align: top;\n",
       "    }\n",
       "\n",
       "    .dataframe thead th {\n",
       "        text-align: right;\n",
       "    }\n",
       "</style>\n",
       "<table border=\"1\" class=\"dataframe\">\n",
       "  <thead>\n",
       "    <tr style=\"text-align: right;\">\n",
       "      <th></th>\n",
       "      <th>user</th>\n",
       "      <th>time</th>\n",
       "      <th>review</th>\n",
       "      <th>conclusion</th>\n",
       "      <th>rating</th>\n",
       "    </tr>\n",
       "  </thead>\n",
       "  <tbody>\n",
       "    <tr>\n",
       "      <th>0</th>\n",
       "      <td>dncmail</td>\n",
       "      <td>2023-06-21T08:34:25+02:00</td>\n",
       "      <td>Поделюсь с вами историей, которая произошла со...</td>\n",
       "      <td>не рекомендует</td>\n",
       "      <td>2</td>\n",
       "    </tr>\n",
       "    <tr>\n",
       "      <th>1</th>\n",
       "      <td>fomicevaa851</td>\n",
       "      <td>2023-06-21T07:39:25+02:00</td>\n",
       "      <td>Сама недавно узнала, что в Сбербанке можно пол...</td>\n",
       "      <td>рекомендует</td>\n",
       "      <td>5</td>\n",
       "    </tr>\n",
       "    <tr>\n",
       "      <th>2</th>\n",
       "      <td>AlexStulov</td>\n",
       "      <td>2023-06-14T13:52:43+02:00</td>\n",
       "      <td>Сбер потерял мой миллион. В апреле брал ипотек...</td>\n",
       "      <td>не рекомендует</td>\n",
       "      <td>1</td>\n",
       "    </tr>\n",
       "    <tr>\n",
       "      <th>3</th>\n",
       "      <td>Zakharkot</td>\n",
       "      <td>2023-06-13T08:04:53+02:00</td>\n",
       "      <td>Доброго времени суток всем, я открыл в Сбере в...</td>\n",
       "      <td>рекомендует</td>\n",
       "      <td>5</td>\n",
       "    </tr>\n",
       "    <tr>\n",
       "      <th>4</th>\n",
       "      <td>sanaan</td>\n",
       "      <td>2023-06-11T23:40:00+02:00</td>\n",
       "      <td>Живу с мамой, оплатой коммунальных платежей до...</td>\n",
       "      <td>рекомендует</td>\n",
       "      <td>4</td>\n",
       "    </tr>\n",
       "  </tbody>\n",
       "</table>\n",
       "</div>"
      ],
      "text/plain": [
       "           user                       time  \\\n",
       "0       dncmail  2023-06-21T08:34:25+02:00   \n",
       "1  fomicevaa851  2023-06-21T07:39:25+02:00   \n",
       "2    AlexStulov  2023-06-14T13:52:43+02:00   \n",
       "3     Zakharkot  2023-06-13T08:04:53+02:00   \n",
       "4        sanaan  2023-06-11T23:40:00+02:00   \n",
       "\n",
       "                                              review      conclusion  rating  \n",
       "0  Поделюсь с вами историей, которая произошла со...  не рекомендует       2  \n",
       "1  Сама недавно узнала, что в Сбербанке можно пол...     рекомендует       5  \n",
       "2  Сбер потерял мой миллион. В апреле брал ипотек...  не рекомендует       1  \n",
       "3  Доброго времени суток всем, я открыл в Сбере в...     рекомендует       5  \n",
       "4  Живу с мамой, оплатой коммунальных платежей до...     рекомендует       4  "
      ]
     },
     "execution_count": 15,
     "metadata": {},
     "output_type": "execute_result"
    }
   ],
   "source": [
    "parsed_data.head()"
   ]
  },
  {
   "cell_type": "code",
   "execution_count": null,
   "metadata": {
    "trusted": false
   },
   "outputs": [],
   "source": [
    "parsed_data.to_csv('sberbank_reviews.csv',index=False)"
   ]
  },
  {
   "cell_type": "markdown",
   "metadata": {},
   "source": [
    "## <b><span style='color:#686dec'>3 |</span></b> <b>Разведывательный Анализ</b>\n",
    "\n",
    "### **Цель EDA** \n",
    "\n",
    "Вернемся к требованием:\n",
    "\n",
    "> - При необходимости очистить датасет от мусора с помощью регулярных выражений.\n",
    "> - Посчитать статистики по собранным данным и провести EDA собранных данных (в случае, если данные представляют собой текст - посчитать частотности слов, выявить наиболее частотные слова и т. п)\n",
    "> - Не забудьте сохранить полученный датасет, он вам еще пригодиться в дальнейших домашних заданиях.\n",
    "\n",
    "Данные мы сохранили, теперь будем делать разведовательный анализ; особенно нас интересует что клиентам нравится и не нравится в сбербанке\n",
    "\n",
    "### **Чистка Текста** \n",
    "\n",
    "Сами данные достаточно чиcтые и не содержат лишний мусор, используем библиотеку <code>re</code>"
   ]
  },
  {
   "cell_type": "code",
   "execution_count": null,
   "metadata": {
    "trusted": false
   },
   "outputs": [],
   "source": [
    "import re\n",
    "import pandas as pd\n",
    "\n",
    "sber_reviews = pd.read_csv('sberbank_reviews.csv')"
   ]
  },
  {
   "cell_type": "code",
   "execution_count": null,
   "metadata": {
    "trusted": false
   },
   "outputs": [
    {
     "data": {
      "text/plain": [
       "user           0\n",
       "time           0\n",
       "review        78\n",
       "conclusion     0\n",
       "rating         0\n",
       "dtype: int64"
      ]
     },
     "metadata": {},
     "output_type": "display_data"
    }
   ],
   "source": [
    "display(sber_reviews.isna().sum())\n",
    "sber_reviews_edit = sber_reviews.dropna()"
   ]
  },
  {
   "cell_type": "code",
   "execution_count": null,
   "metadata": {
    "trusted": false
   },
   "outputs": [
    {
     "data": {
      "text/plain": [
       "'Живу с мамой, оплатой коммунальных платежей долго занималась именно она. Платила она всегда наличкой (карты не открывает принципиально) и через сберкассу – по старинке. Пока ей там не начали говорить, что через терминалы можно платить без комиссии. Вот тут она насела на меня. До терминалов мы так и не дошли, но я начала сама оплачивать счета через мобильное приложение Сбербанка, благо QR-коды в этом сильно помогают. Комиссию за некоторые платежи снимали, но я особо этим не парилась, лишь бы матушка была довольна. Какое-то время мы так и жили, пока я не начала пользоваться картами других банков. И услыхала, что в других банках комиссию за коммуналку не взимают. Я очень удивилась, но решила опробовать. Сначала через один банк. Но то ли у меня QR-код тогда не сработал, и искать по реквизитам организацию я не захотела, так что бросила это дело, и снова перешла на Сбербанк с его комиссией. \\n\\n\\n\\n\\n\\n\\n\\n\\n\\n\\nПотом пришел черед открыть карту третьего банка, где мне опять напомнили про платежи без комиссии. Плюс появилась программа лояльности, где посулили 5% кешбэк именно за коммуналку. Вот это предложение меня не на шутку заинтересовало. Не только отмена комиссии, дак еще и кешбэк! Сплошная выгода! И я опробовала. И что могу сказать. У каждого банка свои заморочки, свою плюсы и минусы. Например, если брать Сбербанк, то платить через мобильное приложение было легко, быстро и удобно. Все квитанции сканировались, всё было понятно, но да взимали комиссию. А вот через другие банки можно оплачивать коммуналку без комиссии, но там я столкнулась со своими трудностями. В банке, где начисляют кешбэк за коммунальные платежи, я замучилась сканировать QR-коды. Они тупо читались через раз. Приложение выбивало и сбоило, когда я пыталась навести камеру на QR-код. Мне пришлось искать организации по реквизитам. И пока я с этим делом настойчиво разбиралась, у меня возникло ощущение, что пару платежей я перевела просто не туда! Выяснить это я смогла только через месяц, когда пришли новые квитанции. На удивление оказалось, что все платежи прошли, это хорошо. Поэтому будьте готовы искать организации по реквизитам. Но в этом плане вам помогут сохраненные шаблоны. Потом я попробовала платить через третий банк, и там проблем с чтением QR-кодов уже не возникло, так что оказалось, что есть из чего выбирать. В целом для меня стало открытием, что платить коммуналку через мобильное приложение банков можно без комиссии. Ну, или по старинке, с комиссией через Сбербанк – выбирайте сами.'"
      ]
     },
     "execution_count": 3,
     "metadata": {},
     "output_type": "execute_result"
    }
   ],
   "source": [
    "sber_reviews_edit.iloc[4]['review']"
   ]
  },
  {
   "cell_type": "code",
   "execution_count": null,
   "metadata": {
    "trusted": false
   },
   "outputs": [
    {
     "data": {
      "text/plain": [
       "'Оформили родителям карты МИР. Папе 71, маме 75. Папа ходит более-менее, мама практически не ходит. С трудом и на 2 костылях. Доехали на такси, получили, вернулись домой на такси. На планшете вошли в ЛК папы, все отлично. Вышли, попытались войти в ЛК мамы - пришла СМС, что ЛК заблокирован. Попробовали обратно в папин ЛК зайти - и тот уже заблокирован. Позвонили 900 - нам сказали, что для разблокировки надо ПРИЙТИ В ОТДЕЛЕНИЕ И НАПИСАТЬ ЗАЯВЛЕНИЕ!!! Вот это что вообще??? Клиентоориентированность??? Сколько такси надо ещё вызвать, чтобы всё нормально заработало??? Сами карты работают, вопросов нет. В списке достоинств галки \"Можно не ходить в банк\" и \"Не нужно выходить из дома\" выглядят как откровенное издевательство. Короче - отстой. У меня самого Тиньков, Альфа и Сбер. Сбером много лет не пользуюсь. Видимо, к счастью. Резюме: нам проще порезать и выкинуть эти карты и оформить тот же Тиньков. Там менеджеры сами приезжают и на дому оформляют, а не просят хронически больных людей со слезами ползти в отделение!!! \\xa0 P.S.: 1 поставил только потому что 0 не предлагается. Не тянет этот сервис на 1.'"
      ]
     },
     "execution_count": 4,
     "metadata": {},
     "output_type": "execute_result"
    }
   ],
   "source": [
    "sber_reviews_edit.iloc[7]['review']"
   ]
  },
  {
   "cell_type": "code",
   "execution_count": null,
   "metadata": {
    "trusted": false
   },
   "outputs": [],
   "source": [
    "def clean(ltext):\n",
    "    ltext = re.sub(r':.+?:', '', ltext)\n",
    "    ltext = re.sub(r'\\xa0','',ltext)\n",
    "    ltext = re.sub(r'[\\n]','',ltext)\n",
    "    return ltext"
   ]
  },
  {
   "cell_type": "code",
   "execution_count": null,
   "metadata": {
    "trusted": false
   },
   "outputs": [
    {
     "data": {
      "text/plain": [
       "'Живу с мамой, оплатой коммунальных платежей долго занималась именно она. Платила она всегда наличкой (карты не открывает принципиально) и через сберкассу – по старинке. Пока ей там не начали говорить, что через терминалы можно платить без комиссии. Вот тут она насела на меня. До терминалов мы так и не дошли, но я начала сама оплачивать счета через мобильное приложение Сбербанка, благо QR-коды в этом сильно помогают. Комиссию за некоторые платежи снимали, но я особо этим не парилась, лишь бы матушка была довольна. Какое-то время мы так и жили, пока я не начала пользоваться картами других банков. И услыхала, что в других банках комиссию за коммуналку не взимают. Я очень удивилась, но решила опробовать. Сначала через один банк. Но то ли у меня QR-код тогда не сработал, и искать по реквизитам организацию я не захотела, так что бросила это дело, и снова перешла на Сбербанк с его комиссией. Потом пришел черед открыть карту третьего банка, где мне опять напомнили про платежи без комиссии. Плюс появилась программа лояльности, где посулили 5% кешбэк именно за коммуналку. Вот это предложение меня не на шутку заинтересовало. Не только отмена комиссии, дак еще и кешбэк! Сплошная выгода! И я опробовала. И что могу сказать. У каждого банка свои заморочки, свою плюсы и минусы. Например, если брать Сбербанк, то платить через мобильное приложение было легко, быстро и удобно. Все квитанции сканировались, всё было понятно, но да взимали комиссию. А вот через другие банки можно оплачивать коммуналку без комиссии, но там я столкнулась со своими трудностями. В банке, где начисляют кешбэк за коммунальные платежи, я замучилась сканировать QR-коды. Они тупо читались через раз. Приложение выбивало и сбоило, когда я пыталась навести камеру на QR-код. Мне пришлось искать организации по реквизитам. И пока я с этим делом настойчиво разбиралась, у меня возникло ощущение, что пару платежей я перевела просто не туда! Выяснить это я смогла только через месяц, когда пришли новые квитанции. На удивление оказалось, что все платежи прошли, это хорошо. Поэтому будьте готовы искать организации по реквизитам. Но в этом плане вам помогут сохраненные шаблоны. Потом я попробовала платить через третий банк, и там проблем с чтением QR-кодов уже не возникло, так что оказалось, что есть из чего выбирать. В целом для меня стало открытием, что платить коммуналку через мобильное приложение банков можно без комиссии. Ну, или по старинке, с комиссией через Сбербанк – выбирайте сами.'"
      ]
     },
     "execution_count": 6,
     "metadata": {},
     "output_type": "execute_result"
    }
   ],
   "source": [
    "sber_reviews_edit['review'].apply(clean)[4]"
   ]
  },
  {
   "cell_type": "code",
   "execution_count": null,
   "metadata": {
    "trusted": false
   },
   "outputs": [
    {
     "data": {
      "text/plain": [
       "'Оформили родителям карты МИР. Папе 71, маме 75. Папа ходит более-менее, мама практически не ходит. С трудом и на 2 костылях. Доехали на такси, получили, вернулись домой на такси. На планшете вошли в ЛК папы, все отлично. Вышли, попытались войти в ЛК мамы - пришла СМС, что ЛК заблокирован. Попробовали обратно в папин ЛК зайти - и тот уже заблокирован. Позвонили 900 - нам сказали, что для разблокировки надо ПРИЙТИ В ОТДЕЛЕНИЕ И НАПИСАТЬ ЗАЯВЛЕНИЕ!!! Вот это что вообще??? Клиентоориентированность??? Сколько такси надо ещё вызвать, чтобы всё нормально заработало??? Сами карты работают, вопросов нет. В списке достоинств галки \"Можно не ходить в банк\" и \"Не нужно выходить из дома\" выглядят как откровенное издевательство. Короче - отстой. У меня самого Тиньков, Альфа и Сбер. Сбером много лет не пользуюсь. Видимо, к счастью. Резюме 1 поставил только потому что 0 не предлагается. Не тянет этот сервис на 1.'"
      ]
     },
     "execution_count": 7,
     "metadata": {},
     "output_type": "execute_result"
    }
   ],
   "source": [
    "sber_reviews_edit['review'].apply(clean)[7]"
   ]
  },
  {
   "cell_type": "code",
   "execution_count": null,
   "metadata": {
    "trusted": false
   },
   "outputs": [
    {
     "name": "stderr",
     "output_type": "stream",
     "text": [
      "C:\\Users\\abduv\\AppData\\Local\\Temp\\ipykernel_28680\\2578540058.py:1: SettingWithCopyWarning: \n",
      "A value is trying to be set on a copy of a slice from a DataFrame.\n",
      "Try using .loc[row_indexer,col_indexer] = value instead\n",
      "\n",
      "See the caveats in the documentation: https://pandas.pydata.org/pandas-docs/stable/user_guide/indexing.html#returning-a-view-versus-a-copy\n",
      "  sber_reviews_edit['review_cleaned'] = sber_reviews_edit['review'].apply(clean)\n"
     ]
    }
   ],
   "source": [
    "sber_reviews_edit['review_cleaned'] = sber_reviews_edit['review'].apply(clean)"
   ]
  },
  {
   "cell_type": "code",
   "execution_count": null,
   "metadata": {
    "trusted": false
   },
   "outputs": [],
   "source": [
    "sber_reviews_edit.to_csv('review_cleaned.csv',index=False)"
   ]
  },
  {
   "cell_type": "markdown",
   "metadata": {},
   "source": [
    "### **Токенизация Текста** \n",
    "\n",
    "- Токенизируем наши документы для того чтобы понять содержание текста\n",
    "- Мы можем с помощью unigram,bigram,trigram и тд, для того что-то понять о содержание отзыва "
   ]
  },
  {
   "cell_type": "code",
   "execution_count": null,
   "metadata": {
    "trusted": false
   },
   "outputs": [],
   "source": [
    "from nltk.tokenize import word_tokenize\n",
    "from nltk.corpus import stopwords\n",
    "from string import punctuation\n",
    "stopwords = stopwords.words(\"russian\") # stop words \n",
    "\n",
    "def tokenise_documents(corpus:pd.Series):\n",
    "\n",
    "    # define a function for preprocessing\n",
    "    def text_cleaning(ltext):\n",
    "\n",
    "        ltext = ltext.lower() #changes to lower case\n",
    "        tokens = word_tokenize(ltext) #tokenize the text\n",
    "        punctuation_double = ['``',\"''\"]\n",
    "\n",
    "        clean_list = [] \n",
    "        for token in tokens:\n",
    "            if (token not in stopwords):\n",
    "                if(token not in punctuation and token not in punctuation_double):\n",
    "                    clean_list.append(token) \n",
    "                \n",
    "        return \" \".join(clean_list)# joins the tokens\n",
    "        \n",
    "    return corpus.apply(text_cleaning)\n",
    "\n",
    "tokenised_corpus = tokenise_documents(sber_reviews_edit['review'])"
   ]
  },
  {
   "cell_type": "markdown",
   "metadata": {},
   "source": [
    "### **Частоты слов положительных отзывов** \n",
    "\n",
    "- Используем вспомогательная функция для создания н-грамм для каждого документа в корпусе\n",
    "- Положительных отзывов достаточно много\n"
   ]
  },
  {
   "cell_type": "code",
   "execution_count": null,
   "metadata": {
    "trusted": false
   },
   "outputs": [
    {
     "name": "stdout",
     "output_type": "stream",
     "text": [
      "(548, 5)\n"
     ]
    }
   ],
   "source": [
    "from collections import Counter\n",
    "\n",
    "def n_grams(tokens,n):\n",
    "    lst_bigrams = [' '.join(i) for i in [tokens[i:i+n] for i in range(len(tokens)-n+1)]]\n",
    "    return lst_bigrams\n",
    "\n",
    "recommend = sber_reviews_edit[sber_reviews_edit['conclusion'] == 'рекомендует']\n",
    "tokenised_corpus = tokenise_documents(recommend['review'])\n",
    "print(recommend.shape)\n",
    "\n",
    "# x-gram lists\n",
    "tokenised_documents = [i.split(' ') for i in tokenised_corpus]\n",
    "tokenised_documents_bigram = [n_grams(i.split(' '),2) for i in tokenised_corpus]\n",
    "tokenised_documents_trigram = [n_grams(i.split(' '),3) for i in tokenised_corpus]\n",
    "tokenised_documents_quadragram = [n_grams(i.split(' '),4) for i in tokenised_corpus]"
   ]
  },
  {
   "cell_type": "code",
   "execution_count": null,
   "metadata": {
    "trusted": false
   },
   "outputs": [
    {
     "data": {
      "text/plain": [
       "[('это', 413),\n",
       " ('сбербанка', 330),\n",
       " ('сбербанк', 318),\n",
       " ('деньги', 318),\n",
       " ('очень', 305),\n",
       " ('банк', 304),\n",
       " ('карту', 267),\n",
       " ('банка', 244),\n",
       " ('карты', 242),\n",
       " ('просто', 229),\n",
       " ('спасибо', 203),\n",
       " ('нужно', 202),\n",
       " ('сбербанке', 181),\n",
       " ('время', 180),\n",
       " ('сразу', 176),\n",
       " ('карта', 172),\n",
       " ('онлайн', 171),\n",
       " ('рублей', 169),\n",
       " ('денег', 165),\n",
       " ('лет', 163)]"
      ]
     },
     "execution_count": 11,
     "metadata": {},
     "output_type": "execute_result"
    }
   ],
   "source": [
    "Counter(x for xs in tokenised_documents for x in set(xs)).most_common(20)"
   ]
  },
  {
   "cell_type": "code",
   "execution_count": null,
   "metadata": {
    "trusted": false
   },
   "outputs": [
    {
     "data": {
      "text/plain": [
       "[('сбербанк онлайн', 121),\n",
       " ('мобильный банк', 77),\n",
       " ('очень удобно', 71),\n",
       " ('спасибо сбербанка', 59),\n",
       " ('карту сбербанка', 48),\n",
       " ('следующий день', 44),\n",
       " ('это очень', 42),\n",
       " ('кредитную карту', 41),\n",
       " ('дебетовую карту', 36),\n",
       " ('3 года', 35),\n",
       " ('кредитная карта', 34),\n",
       " ('всем привет', 34),\n",
       " ('льготный период', 33),\n",
       " ('карта сбербанка', 33),\n",
       " ('отделение сбербанка', 33),\n",
       " ('других банках', 32),\n",
       " ('это время', 32),\n",
       " ('бонусы спасибо', 32),\n",
       " ('каждый месяц', 32),\n",
       " ('процентная ставка', 32)]"
      ]
     },
     "execution_count": 12,
     "metadata": {},
     "output_type": "execute_result"
    }
   ],
   "source": [
    "Counter(x for xs in tokenised_documents_bigram for x in set(xs)).most_common(20)"
   ]
  },
  {
   "cell_type": "code",
   "execution_count": null,
   "metadata": {
    "trusted": false
   },
   "outputs": [
    {
     "data": {
      "text/plain": [
       "[('доброго времени суток', 28),\n",
       " ('это очень удобно', 19),\n",
       " ('являюсь клиентом сбербанка', 12),\n",
       " ('всем доброго времени', 11),\n",
       " ('бонусная программа спасибо', 11),\n",
       " ('приложение сбербанк онлайн', 10),\n",
       " ('всем привет сегодня', 10),\n",
       " ('услугами сбербанка пользуюсь', 9),\n",
       " ('период 50 дней', 9),\n",
       " ('бонусы спасибо сбербанка', 9),\n",
       " ('сбербанк онлайн очень', 9),\n",
       " ('60 рублей месяц', 8),\n",
       " ('подключен мобильный банк', 8),\n",
       " ('пользуюсь услугами сбербанка', 7),\n",
       " ('« спасибо сбербанка', 7),\n",
       " ('спасибо сбербанка »', 7),\n",
       " ('« сбербанк »', 7),\n",
       " ('карту другого банка', 7),\n",
       " ('льготный период 50', 7),\n",
       " ('дебетовую карту сбербанка', 7)]"
      ]
     },
     "execution_count": 13,
     "metadata": {},
     "output_type": "execute_result"
    }
   ],
   "source": [
    "Counter(x for xs in tokenised_documents_trigram for x in set(xs)).most_common(20)"
   ]
  },
  {
   "cell_type": "code",
   "execution_count": null,
   "metadata": {
    "trusted": false
   },
   "outputs": [
    {
     "data": {
      "text/plain": [
       "[('всем доброго времени суток', 11),\n",
       " ('« спасибо сбербанка »', 7),\n",
       " ('льготный период 50 дней', 7),\n",
       " ('« мобильный банк »', 5),\n",
       " ('доброго времени суток сегодня', 5),\n",
       " ('-- -- -- --', 4),\n",
       " ('времени суток сегодня хочу', 4),\n",
       " ('универсальный договор банковского обслуживания', 4),\n",
       " ('заработную плату карту сбербанка', 3),\n",
       " ('получала стипендию карту сбербанка', 3),\n",
       " ('хочу рассказать своем опыте', 3),\n",
       " ('спасибо внимание надеюсь отзыв', 3),\n",
       " ('внимание надеюсь отзыв полезен', 3),\n",
       " ('« сбербанк россии »', 3),\n",
       " ('полный пакет мобильного банка', 3),\n",
       " ('получаю зарплату карту сбербанка', 3),\n",
       " ('услугами сбербанка пользуюсь давно', 3),\n",
       " ('мобильном приложении сбербанк онлайн', 3),\n",
       " ('« сбербанк онлайн »', 3),\n",
       " ('пользуюсь услугой мобильный банк', 3)]"
      ]
     },
     "execution_count": 14,
     "metadata": {},
     "output_type": "execute_result"
    }
   ],
   "source": [
    "Counter(x for xs in tokenised_documents_quadragram for x in set(xs)).most_common(20)"
   ]
  },
  {
   "cell_type": "markdown",
   "metadata": {},
   "source": [
    "#### **Выводы** \n",
    "\n",
    "Позитивных тем в отзывах много:\n",
    "\n",
    "<code>бонусная программа спасибо</code>, <code>приложение сбербанк онлай</code>, <code>льготный период 50 дней</code>, <code>мобильный банк</code>\n",
    "\n",
    "Возможные причины положительных отзывов:\n",
    "- программа спасибо больше ассоциируется с положительными отзывами\n",
    "- удобство приложения сбербанка онлайн и мобильного банка\n",
    "- большой льготный период для кредитно карты"
   ]
  },
  {
   "cell_type": "markdown",
   "metadata": {},
   "source": [
    "### **Частоты слов негативных отзывов**\n",
    "\n",
    "- Рассмотрим отзывы клиентов которые не рекомендовали сбербанк, и найдем ключевые темы\n",
    "- Это поможет нам быстро понять что конкретно не устраивает клиентов"
   ]
  },
  {
   "cell_type": "code",
   "execution_count": null,
   "metadata": {
    "trusted": false
   },
   "outputs": [
    {
     "name": "stdout",
     "output_type": "stream",
     "text": [
      "(574, 5)\n"
     ]
    }
   ],
   "source": [
    "not_recommend = sber_reviews_edit[sber_reviews_edit['conclusion'] == 'не рекомендует']\n",
    "print(not_recommend.shape)"
   ]
  },
  {
   "cell_type": "code",
   "execution_count": null,
   "metadata": {
    "trusted": false
   },
   "outputs": [],
   "source": [
    "tokenised_corpus = tokenise_documents(not_recommend['review'])"
   ]
  },
  {
   "cell_type": "code",
   "execution_count": null,
   "metadata": {
    "trusted": false
   },
   "outputs": [],
   "source": [
    "tokenised_documents = [i.split(' ') for i in tokenised_corpus]\n",
    "tokenised_documents_bigram = [n_grams(i.split(' '),2) for i in tokenised_corpus]\n",
    "tokenised_documents_trigram = [n_grams(i.split(' '),3) for i in tokenised_corpus]\n",
    "tokenised_documents_quadragram = [n_grams(i.split(' '),4) for i in tokenised_corpus]"
   ]
  },
  {
   "cell_type": "code",
   "execution_count": null,
   "metadata": {
    "trusted": false
   },
   "outputs": [
    {
     "data": {
      "text/plain": [
       "[('это', 448),\n",
       " ('банк', 384),\n",
       " ('деньги', 354),\n",
       " ('сбербанк', 346),\n",
       " ('банка', 345),\n",
       " ('сбербанка', 331),\n",
       " ('карту', 316),\n",
       " ('карты', 295),\n",
       " ('просто', 242),\n",
       " ('очень', 231),\n",
       " ('время', 225),\n",
       " ('карта', 200),\n",
       " ('день', 195),\n",
       " ('...', 192),\n",
       " ('денег', 189),\n",
       " ('нужно', 185),\n",
       " ('рублей', 182),\n",
       " ('отделение', 181),\n",
       " ('банке', 172),\n",
       " ('сразу', 164)]"
      ]
     },
     "execution_count": 18,
     "metadata": {},
     "output_type": "execute_result"
    }
   ],
   "source": [
    "Counter(x for xs in tokenised_documents for x in set(xs)).most_common(20)"
   ]
  },
  {
   "cell_type": "code",
   "execution_count": null,
   "metadata": {
    "trusted": false
   },
   "outputs": [
    {
     "data": {
      "text/plain": [
       "[('сбербанк онлайн', 91),\n",
       " ('мобильный банк', 76),\n",
       " ('следующий день', 57),\n",
       " ('горячую линию', 56),\n",
       " ('отделение сбербанка', 56),\n",
       " ('отделение банка', 45),\n",
       " ('это время', 45),\n",
       " ('карту сбербанка', 45),\n",
       " ('горячей линии', 43),\n",
       " ('кредитную карту', 41),\n",
       " ('сих пор', 40),\n",
       " ('другом банке', 39),\n",
       " ('свои деньги', 35),\n",
       " ('денежных средств', 35),\n",
       " ('этим банком', 34),\n",
       " ('мои деньги', 33),\n",
       " ('другого банка', 33),\n",
       " ('карты сбербанка', 30),\n",
       " ('2 недели', 30),\n",
       " ('сотрудники банка', 29),\n",
       " ('таким образом', 29),\n",
       " ('клиентом сбербанка', 29),\n",
       " ('снять деньги', 29),\n",
       " ('номер телефона', 29),\n",
       " ('самое интересное', 29),\n",
       " ('личный кабинет', 28),\n",
       " ('это просто', 28),\n",
       " ('деньги карты', 28),\n",
       " ('других банков', 28),\n",
       " ('личном кабинете', 28)]"
      ]
     },
     "execution_count": 19,
     "metadata": {},
     "output_type": "execute_result"
    }
   ],
   "source": [
    "Counter(x for xs in tokenised_documents_bigram for x in set(xs)).most_common(30)"
   ]
  },
  {
   "cell_type": "code",
   "execution_count": null,
   "metadata": {
    "trusted": false
   },
   "outputs": [
    {
     "data": {
      "text/plain": [
       "[('позвонила горячую линию', 18),\n",
       " ('доброго времени суток', 15),\n",
       " ('каково мое удивление', 10),\n",
       " ('являюсь клиентом сбербанка', 10),\n",
       " ('несколько лет назад', 10),\n",
       " ('ближайшее отделение сбербанка', 9),\n",
       " ('горячую линию сбербанка', 9),\n",
       " ('захожу сбербанк онлайн', 8),\n",
       " ('подключить мобильный банк', 8),\n",
       " ('подключен мобильный банк', 8),\n",
       " ('звонить горячую линию', 8),\n",
       " ('услуга мобильный банк', 7),\n",
       " ('окончания срока действия', 7),\n",
       " ('низкие проценты вкладам', 7),\n",
       " ('приложение сбербанк онлайн', 7),\n",
       " ('звоню горячую линию', 7),\n",
       " ('150 рублей год', 6),\n",
       " ('всем доброго времени', 6),\n",
       " ('тех пор пока', 6),\n",
       " ('срок действия моей', 6),\n",
       " ('карту другого банка', 6),\n",
       " ('это очень удобно', 6),\n",
       " ('60 рублей месяц', 6),\n",
       " ('услугу мобильный банк', 6),\n",
       " ('приложении сбербанк онлайн', 5),\n",
       " ('сегодня хочу рассказать', 5),\n",
       " ('срок действия карты', 5),\n",
       " ('оставляет желать лучшего', 5),\n",
       " ('закончился срок действия', 5),\n",
       " ('заявление закрытие счета', 5)]"
      ]
     },
     "execution_count": 20,
     "metadata": {},
     "output_type": "execute_result"
    }
   ],
   "source": [
    "Counter(x for xs in tokenised_documents_trigram for x in set(xs)).most_common(30)"
   ]
  },
  {
   "cell_type": "code",
   "execution_count": null,
   "metadata": {
    "trusted": false
   },
   "outputs": [
    {
     "data": {
      "text/plain": [
       "[('всем доброго времени суток', 6),\n",
       " ('позвонила горячую линию сбербанка', 5),\n",
       " ('пользоваться услугами данного банка', 4),\n",
       " ('окончания срока действия карты', 4),\n",
       " ('всем привет сегодня хочу', 3),\n",
       " ('личный кабинет сбербанк онлайн', 3),\n",
       " ('это самый надежный банк', 3),\n",
       " ('начала звонить горячую линию', 3),\n",
       " ('оао « сбербанк россии', 3),\n",
       " ('« сбербанк россии »', 3),\n",
       " ('пао « сбербанк »', 3),\n",
       " ('срок действия моей карты', 3),\n",
       " ('лет являюсь клиентом сбербанка', 3),\n",
       " ('историей которая произошла мной', 2),\n",
       " ('личного кабинета сбербанк онлайн', 2),\n",
       " ('получаю зарплату карту сбербанка', 2),\n",
       " ('привет сегодня хочу рассказать', 2),\n",
       " ('закончился срок действия моей', 2),\n",
       " ('самых низких процентов вкладам', 2),\n",
       " ('одни самых низких процентов', 2),\n",
       " ('истек срок действия моей', 2),\n",
       " ('доброго времени суток друзья', 2),\n",
       " ('сбербанка несколько лет назад', 2),\n",
       " ('тариф полный снимается 60', 2),\n",
       " ('логин пароль личного кабинета', 2),\n",
       " ('полный снимается 60 рублей', 2),\n",
       " ('сумма 50 тысяч рублей', 2),\n",
       " ('будьте бдительны спасибо внимание', 2),\n",
       " ('самые низкие проценты вкладам', 2),\n",
       " ('низкие проценты вкладам высокие', 2)]"
      ]
     },
     "execution_count": 21,
     "metadata": {},
     "output_type": "execute_result"
    }
   ],
   "source": [
    "Counter(x for xs in tokenised_documents_quadragram for x in set(xs)).most_common(30)"
   ]
  },
  {
   "cell_type": "markdown",
   "metadata": {},
   "source": [
    "#### **Выводы** \n",
    "\n",
    "Негативных тем в отзывах достаточно много\n",
    "\n",
    "<code>горячую линию</code>, <code>окончания срока действия карты</code>, <code>личный кабинет сбербанк онлайн</code>, <code>одни самых низких процентов</code>, <code>срок действия</code>, <code>тариф полный снимается 60 рублей</code></li>, <code>услугу мобильный банк</code>, <code>сбербанк онлайн</code>"
   ]
  },
  {
   "cell_type": "markdown",
   "metadata": {},
   "source": [
    "Возможные причины негативных отзывов:\n",
    "- это взаимодействие с горячей линии \n",
    "- возможные проблемы при истеки срока действии карты \n",
    "- проблемы с личным кабинетом сбербанка онлайн и мобильным банком\n",
    "- низкий проценты (вкладов)\n",
    "- тариф на какой то товар (например кредитная карта)"
   ]
  }
 ],
 "metadata": {
  "kernelspec": {
   "display_name": "Python 3",
   "language": "python",
   "name": "python3"
  },
  "language_info": {
   "codemirror_mode": {
    "name": "ipython",
    "version": 3
   },
   "file_extension": ".py",
   "mimetype": "text/x-python",
   "name": "python",
   "nbconvert_exporter": "python",
   "pygments_lexer": "ipython3",
   "version": "3.10.4"
  }
 },
 "nbformat": 4,
 "nbformat_minor": 2
}
