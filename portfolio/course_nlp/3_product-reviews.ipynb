{
 "cells": [
  {
   "cell_type": "markdown",
   "id": "ee0d860d",
   "metadata": {
    "papermill": {
     "duration": 0.01424,
     "end_time": "2023-07-07T08:07:24.965716",
     "exception": false,
     "start_time": "2023-07-07T08:07:24.951476",
     "status": "completed"
    },
    "tags": []
   },
   "source": [
    "## <b><span style='color:#686dec'>Введение</span></b>\n",
    "\n",
    "### Цель\n",
    "\n",
    "В этом ДЗ вы освоите работу с предобученными векторными представлениями.\n",
    "\n",
    "\n",
    "### Описание\n",
    "\n",
    "В качестве данных возьмите либо датасет, собранный в первом занятии (предпочтительно), либо скачайте данные с отзывами на фильмы с сайта IMDB (https://www.kaggle.com/lakshmi25npathi/imdb-dataset-of-50k-movie-reviews), в которых для каждого отзыва поставлена семантическая оценка - \"позитивный\" или \"негативный\".\n",
    "\n",
    "- Разбейте собранные данные на train/test, отложив 20-30% наблюдений для тестирования.\n",
    "Примените tf-idf преобразование для текстового описания. Используйте как отдельные токены, так и биграммы, отсейте стоп-слова, а также слова, которые встречаются слишком редко или слишком часто (параметры min/max_df), не забудьте убрать l2 регуляризацию, которая по умолчанию включена.\n",
    "- Обучите random forest или градиентный бустинг (LightGBM или catboost) на полученных векторах и подберите оптимальную комбинацию гиперпараметров с помощью GridSearch\n",
    "- Теперь воспользуйтесь предобученными word2vec/fasttext эмбеддингами для векторизации текста. Векторизуйте тексты с помощью метода word2vec/fasttext c весами tf-idf\n",
    "- Совет: для текстов на русском языке можно взять предобученные эмбеддинги с сайта rusvectores https://rusvectores.org/ru/models/ (вам подходят эмбеддинги с параметром тэгсет НЕТ). Для английского языка можете воспользоваться word2vec, обученными на Google News\n",
    "Повторите эксперимент из пункта 4 с использованием полученных в пункте 5 векторов\n",
    "\n",
    "### Критерии оценки\n",
    "\n",
    "- Разбиение на train/test - 1 балл\n",
    "- Предобработка текста при помощи tf-idf - 2 балла\n",
    "- Обучение модели на tf-idf векторах - 2 балла\n",
    "- Предобработка текста при помощи преобученных эмбеддингов word2vec/fasttext - 3 балла\n",
    "- Обучение модели на предобученных эмбеддингах - 2 балла\n",
    "\n"
   ]
  },
  {
   "cell_type": "markdown",
   "id": "7c769267",
   "metadata": {
    "papermill": {
     "duration": 0.013139,
     "end_time": "2023-07-07T08:07:24.992688",
     "exception": false,
     "start_time": "2023-07-07T08:07:24.979549",
     "status": "completed"
    },
    "tags": []
   },
   "source": [
    "## <b><span style='color:#686dec'>Чтение данных</span></b>\n",
    "\n",
    "### Отзывы Сбербанка\n",
    "\n",
    "- Начнем с чтением наших данных которые мы получили с помощью парсера страницы отзывов\n",
    "- В нашем датасете мы сохранили отзывы о сбербанке с признакамиВ:\n",
    "    - <code>user</code> - пользователь/клиент\n",
    "    - <code>time</code> - время написания отзыва\n",
    "    - <code>conclusion</code> - итоговый вывод отзыва \n",
    "    - <code>rating</code> - рейтинг \n",
    "    - <code>review_cleaned</code> - отзыв пользователь/клиент\n",
    "    \n",
    "Корпус (corpus) который мы будем использовать <code>review_cleaned</code> уже был очищен в предыдущем задании \n",
    "\n",
    "### Постановка Задачи\n",
    "\n",
    "\n",
    "- Для упрощение задачи, возьмем целевую переменную conclusion\n",
    "- Это один из критерии оценки клиентов (рекомендует либо не рекомендует), в данном датасете мы спарсили только общие отзывы о сбербанке, соответственно в него может входить разные услуги банка\n",
    "- Будем создавать модель которая по отзыву клиента review_cleaned будет определять тональность отзыва; задача бинарной классификации в natural language processing (NLP)\n"
   ]
  },
  {
   "cell_type": "code",
   "execution_count": 1,
   "id": "25ccba47",
   "metadata": {
    "execution": {
     "iopub.execute_input": "2023-07-07T08:07:25.023465Z",
     "iopub.status.busy": "2023-07-07T08:07:25.023039Z",
     "iopub.status.idle": "2023-07-07T08:07:25.323712Z",
     "shell.execute_reply": "2023-07-07T08:07:25.322918Z"
    },
    "papermill": {
     "duration": 0.318067,
     "end_time": "2023-07-07T08:07:25.325900",
     "exception": false,
     "start_time": "2023-07-07T08:07:25.007833",
     "status": "completed"
    },
    "tags": [],
    "trusted": false
   },
   "outputs": [
    {
     "data": {
      "text/html": [
       "<div>\n",
       "<style scoped>\n",
       "    .dataframe tbody tr th:only-of-type {\n",
       "        vertical-align: middle;\n",
       "    }\n",
       "\n",
       "    .dataframe tbody tr th {\n",
       "        vertical-align: top;\n",
       "    }\n",
       "\n",
       "    .dataframe thead th {\n",
       "        text-align: right;\n",
       "    }\n",
       "</style>\n",
       "<table border=\"1\" class=\"dataframe\">\n",
       "  <thead>\n",
       "    <tr style=\"text-align: right;\">\n",
       "      <th></th>\n",
       "      <th>user</th>\n",
       "      <th>time</th>\n",
       "      <th>conclusion</th>\n",
       "      <th>rating</th>\n",
       "      <th>review_cleaned</th>\n",
       "    </tr>\n",
       "  </thead>\n",
       "  <tbody>\n",
       "    <tr>\n",
       "      <th>0</th>\n",
       "      <td>dncmail</td>\n",
       "      <td>2023-06-21T08:34:25+02:00</td>\n",
       "      <td>не рекомендует</td>\n",
       "      <td>2</td>\n",
       "      <td>Поделюсь с вами историей, которая произошла со...</td>\n",
       "    </tr>\n",
       "    <tr>\n",
       "      <th>1</th>\n",
       "      <td>fomicevaa851</td>\n",
       "      <td>2023-06-21T07:39:25+02:00</td>\n",
       "      <td>рекомендует</td>\n",
       "      <td>5</td>\n",
       "      <td>Сама недавно узнала, что в Сбербанке можно пол...</td>\n",
       "    </tr>\n",
       "    <tr>\n",
       "      <th>2</th>\n",
       "      <td>AlexStulov</td>\n",
       "      <td>2023-06-14T13:52:43+02:00</td>\n",
       "      <td>не рекомендует</td>\n",
       "      <td>1</td>\n",
       "      <td>Сбер потерял мой миллион. В апреле брал ипотек...</td>\n",
       "    </tr>\n",
       "    <tr>\n",
       "      <th>3</th>\n",
       "      <td>Zakharkot</td>\n",
       "      <td>2023-06-13T08:04:53+02:00</td>\n",
       "      <td>рекомендует</td>\n",
       "      <td>5</td>\n",
       "      <td>Доброго времени суток всем, я открыл в Сбере в...</td>\n",
       "    </tr>\n",
       "    <tr>\n",
       "      <th>4</th>\n",
       "      <td>sanaan</td>\n",
       "      <td>2023-06-11T23:40:00+02:00</td>\n",
       "      <td>рекомендует</td>\n",
       "      <td>4</td>\n",
       "      <td>Живу с мамой, оплатой коммунальных платежей до...</td>\n",
       "    </tr>\n",
       "    <tr>\n",
       "      <th>...</th>\n",
       "      <td>...</td>\n",
       "      <td>...</td>\n",
       "      <td>...</td>\n",
       "      <td>...</td>\n",
       "      <td>...</td>\n",
       "    </tr>\n",
       "    <tr>\n",
       "      <th>1117</th>\n",
       "      <td>Mila_Krom</td>\n",
       "      <td>2018-10-14T19:41:26+02:00</td>\n",
       "      <td>рекомендует</td>\n",
       "      <td>3</td>\n",
       "      <td>После того, как нам в ВТБ понизили ставку все...</td>\n",
       "    </tr>\n",
       "    <tr>\n",
       "      <th>1118</th>\n",
       "      <td>Inrak</td>\n",
       "      <td>2018-10-10T07:39:12+02:00</td>\n",
       "      <td>рекомендует</td>\n",
       "      <td>5</td>\n",
       "      <td>В 2013 году при получении зарплатной карты, со...</td>\n",
       "    </tr>\n",
       "    <tr>\n",
       "      <th>1119</th>\n",
       "      <td>nastyamostya</td>\n",
       "      <td>2018-10-03T12:19:22+02:00</td>\n",
       "      <td>рекомендует</td>\n",
       "      <td>5</td>\n",
       "      <td>Давно выбрала для себя лучшее отделение Сбера....</td>\n",
       "    </tr>\n",
       "    <tr>\n",
       "      <th>1120</th>\n",
       "      <td>Татьяна Окрайчик</td>\n",
       "      <td>2018-10-02T15:59:41+02:00</td>\n",
       "      <td>рекомендует</td>\n",
       "      <td>5</td>\n",
       "      <td>Всем доброго времени суток! Сегодня хочу расск...</td>\n",
       "    </tr>\n",
       "    <tr>\n",
       "      <th>1121</th>\n",
       "      <td>Галина_8_8_8</td>\n",
       "      <td>2018-09-26T13:35:02+02:00</td>\n",
       "      <td>рекомендует</td>\n",
       "      <td>5</td>\n",
       "      <td>А мы вот брали ипотеку в Сбере. По нашим с муж...</td>\n",
       "    </tr>\n",
       "  </tbody>\n",
       "</table>\n",
       "<p>1122 rows × 5 columns</p>\n",
       "</div>"
      ],
      "text/plain": [
       "                  user                       time      conclusion  rating  \\\n",
       "0              dncmail  2023-06-21T08:34:25+02:00  не рекомендует       2   \n",
       "1         fomicevaa851  2023-06-21T07:39:25+02:00     рекомендует       5   \n",
       "2           AlexStulov  2023-06-14T13:52:43+02:00  не рекомендует       1   \n",
       "3            Zakharkot  2023-06-13T08:04:53+02:00     рекомендует       5   \n",
       "4               sanaan  2023-06-11T23:40:00+02:00     рекомендует       4   \n",
       "...                ...                        ...             ...     ...   \n",
       "1117         Mila_Krom  2018-10-14T19:41:26+02:00     рекомендует       3   \n",
       "1118             Inrak  2018-10-10T07:39:12+02:00     рекомендует       5   \n",
       "1119      nastyamostya  2018-10-03T12:19:22+02:00     рекомендует       5   \n",
       "1120  Татьяна Окрайчик  2018-10-02T15:59:41+02:00     рекомендует       5   \n",
       "1121      Галина_8_8_8  2018-09-26T13:35:02+02:00     рекомендует       5   \n",
       "\n",
       "                                         review_cleaned  \n",
       "0     Поделюсь с вами историей, которая произошла со...  \n",
       "1     Сама недавно узнала, что в Сбербанке можно пол...  \n",
       "2     Сбер потерял мой миллион. В апреле брал ипотек...  \n",
       "3     Доброго времени суток всем, я открыл в Сбере в...  \n",
       "4     Живу с мамой, оплатой коммунальных платежей до...  \n",
       "...                                                 ...  \n",
       "1117   После того, как нам в ВТБ понизили ставку все...  \n",
       "1118  В 2013 году при получении зарплатной карты, со...  \n",
       "1119  Давно выбрала для себя лучшее отделение Сбера....  \n",
       "1120  Всем доброго времени суток! Сегодня хочу расск...  \n",
       "1121  А мы вот брали ипотеку в Сбере. По нашим с муж...  \n",
       "\n",
       "[1122 rows x 5 columns]"
      ]
     },
     "execution_count": 1,
     "metadata": {},
     "output_type": "execute_result"
    }
   ],
   "source": [
    "import pandas as pd\n",
    "\n",
    "reviews = pd.read_csv('/kaggle/input/product-review/review_cleaned.csv')\n",
    "reviews.drop(['review'],axis=1,inplace=True)\n",
    "reviews"
   ]
  },
  {
   "cell_type": "markdown",
   "id": "b3d7c1a5",
   "metadata": {
    "papermill": {
     "duration": 0.014009,
     "end_time": "2023-07-07T08:07:25.354395",
     "exception": false,
     "start_time": "2023-07-07T08:07:25.340386",
     "status": "completed"
    },
    "tags": []
   },
   "source": [
    "### Распределение целевой переменной\n",
    "\n",
    "В нашем датасете достаточно сбалансированная целевая переменная, <code>accuracy</code> будет достаточно целесообразная метрика для оценки качества моделей"
   ]
  },
  {
   "cell_type": "code",
   "execution_count": 2,
   "id": "8bdbb178",
   "metadata": {
    "execution": {
     "iopub.execute_input": "2023-07-07T08:07:25.384771Z",
     "iopub.status.busy": "2023-07-07T08:07:25.384454Z",
     "iopub.status.idle": "2023-07-07T08:07:25.394829Z",
     "shell.execute_reply": "2023-07-07T08:07:25.393692Z"
    },
    "papermill": {
     "duration": 0.028107,
     "end_time": "2023-07-07T08:07:25.396814",
     "exception": false,
     "start_time": "2023-07-07T08:07:25.368707",
     "status": "completed"
    },
    "tags": [],
    "trusted": false
   },
   "outputs": [
    {
     "data": {
      "text/plain": [
       "не рекомендует    574\n",
       "рекомендует       548\n",
       "Name: conclusion, dtype: int64"
      ]
     },
     "execution_count": 2,
     "metadata": {},
     "output_type": "execute_result"
    }
   ],
   "source": [
    "reviews['conclusion'].value_counts(dropna=False)"
   ]
  },
  {
   "cell_type": "markdown",
   "id": "2ee1a6fa",
   "metadata": {
    "papermill": {
     "duration": 0.015131,
     "end_time": "2023-07-07T08:07:25.426683",
     "exception": false,
     "start_time": "2023-07-07T08:07:25.411552",
     "status": "completed"
    },
    "tags": []
   },
   "source": [
    "## <b><span style='color:#686dec'>Разбиение на выборки</span></b>\n",
    "\n",
    "Из описания:\n",
    "\n",
    ">  Разбейте собранные данные на train/test, отложив 20-30% наблюдений для тестирования\n",
    "\n",
    "- Разобьем выборку на две части; тренировочную (train) и тестовую выборку (test)\n",
    "- На test будем проверять обобщающая способность модели"
   ]
  },
  {
   "cell_type": "code",
   "execution_count": 3,
   "id": "f16a714d",
   "metadata": {
    "execution": {
     "iopub.execute_input": "2023-07-07T08:07:25.459205Z",
     "iopub.status.busy": "2023-07-07T08:07:25.458825Z",
     "iopub.status.idle": "2023-07-07T08:07:26.865608Z",
     "shell.execute_reply": "2023-07-07T08:07:26.864285Z"
    },
    "papermill": {
     "duration": 1.42696,
     "end_time": "2023-07-07T08:07:26.868306",
     "exception": false,
     "start_time": "2023-07-07T08:07:25.441346",
     "status": "completed"
    },
    "tags": [],
    "trusted": false
   },
   "outputs": [],
   "source": [
    "from sklearn.model_selection import train_test_split as tts\n",
    "\n",
    "X_train,X_test = tts(reviews,test_size=0.2,random_state=32)"
   ]
  },
  {
   "cell_type": "code",
   "execution_count": 4,
   "id": "fbcd08ac",
   "metadata": {
    "execution": {
     "iopub.execute_input": "2023-07-07T08:07:26.899943Z",
     "iopub.status.busy": "2023-07-07T08:07:26.898630Z",
     "iopub.status.idle": "2023-07-07T08:07:26.905095Z",
     "shell.execute_reply": "2023-07-07T08:07:26.903847Z"
    },
    "papermill": {
     "duration": 0.024354,
     "end_time": "2023-07-07T08:07:26.907511",
     "exception": false,
     "start_time": "2023-07-07T08:07:26.883157",
     "status": "completed"
    },
    "tags": [],
    "trusted": false
   },
   "outputs": [],
   "source": [
    "# Тренировачная выборка\n",
    "\n",
    "corpus_tr = list(X_train['review_cleaned'])  # корпус \n",
    "target_tr = list(X_train['conclusion'])   # целевая функция"
   ]
  },
  {
   "cell_type": "code",
   "execution_count": 5,
   "id": "8dd73ff1",
   "metadata": {
    "execution": {
     "iopub.execute_input": "2023-07-07T08:07:26.939176Z",
     "iopub.status.busy": "2023-07-07T08:07:26.938802Z",
     "iopub.status.idle": "2023-07-07T08:07:26.944653Z",
     "shell.execute_reply": "2023-07-07T08:07:26.943436Z"
    },
    "papermill": {
     "duration": 0.025344,
     "end_time": "2023-07-07T08:07:26.947301",
     "exception": false,
     "start_time": "2023-07-07T08:07:26.921957",
     "status": "completed"
    },
    "tags": [],
    "trusted": false
   },
   "outputs": [],
   "source": [
    "# Тестовая выборка\n",
    "\n",
    "corpus_te = list(X_test['review_cleaned'])  # корпус \n",
    "target_te = list(X_test['conclusion'])   # целевая функция"
   ]
  },
  {
   "cell_type": "markdown",
   "id": "165681a5",
   "metadata": {
    "papermill": {
     "duration": 0.014423,
     "end_time": "2023-07-07T08:07:26.976379",
     "exception": false,
     "start_time": "2023-07-07T08:07:26.961956",
     "status": "completed"
    },
    "tags": []
   },
   "source": [
    "## <b><span style='color:#686dec'>PART I - TF-IDF трансформация</span></b>\n",
    "\n",
    "Из требовании задания:\n",
    "\n",
    " > Примените <code>tf-idf</code> преобразование для текстового описания. Используйте как <code>отдельные токены</code> (unigram), так и <code>биграммы</code>, отсейте <code>стоп-слова</code>, а также слова, которые встречаются слишком редко или слишком часто (параметры <code>min_df</code>/<code>max_df</code>), не забудьте убрать l2 регуляризацию, которая по умолчанию включена\n",
    " \n",
    "- Задачу разделяем на две части, в первой части мы будем использовать подход преобразование текста в числовое значение с помощью метода (TF-IDF)\n",
    "- Вариантов комбинации параметров модели TF-IDF не мало, попробуем найти комбинацию параметров которая нам даст наиболее точную модель\n",
    "\n",
    "### Варианты TF-IDF\n",
    "\n",
    "Все варианты преобразования документов в корпусе используя TF-IDF для создания векторного представления слов перечислены ниже"
   ]
  },
  {
   "cell_type": "code",
   "execution_count": 6,
   "id": "bc8451fc",
   "metadata": {
    "execution": {
     "iopub.execute_input": "2023-07-07T08:07:27.008581Z",
     "iopub.status.busy": "2023-07-07T08:07:27.007880Z",
     "iopub.status.idle": "2023-07-07T08:07:28.951717Z",
     "shell.execute_reply": "2023-07-07T08:07:28.950411Z"
    },
    "papermill": {
     "duration": 1.962307,
     "end_time": "2023-07-07T08:07:28.954159",
     "exception": false,
     "start_time": "2023-07-07T08:07:26.991852",
     "status": "completed"
    },
    "tags": [],
    "trusted": false
   },
   "outputs": [],
   "source": [
    "from sklearn.feature_extraction.text import TfidfVectorizer\n",
    "from nltk.corpus import stopwords \n",
    "russian_stopwords = stopwords.words(\"russian\")\n",
    "\n",
    "# минимальная частота слов\n",
    "v1_vectoriser = TfidfVectorizer(min_df=3,norm=None)\n",
    "v1_vectoriser.fit(corpus_tr)\n",
    "X1 = v1_vectoriser.transform(corpus_tr)\n",
    "\n",
    "v2_vectoriser = TfidfVectorizer(min_df=2,norm=None)\n",
    "v2_vectoriser.fit(corpus_tr)\n",
    "X2 = v2_vectoriser.transform(corpus_tr)\n",
    "\n",
    "v3_vectoriser = TfidfVectorizer(min_df=1,norm=None)\n",
    "v3_vectoriser.fit(corpus_tr)\n",
    "X3 = v3_vectoriser.transform(corpus_tr)"
   ]
  },
  {
   "cell_type": "code",
   "execution_count": 7,
   "id": "f7e2050a",
   "metadata": {
    "execution": {
     "iopub.execute_input": "2023-07-07T08:07:28.987099Z",
     "iopub.status.busy": "2023-07-07T08:07:28.986687Z",
     "iopub.status.idle": "2023-07-07T08:07:30.285900Z",
     "shell.execute_reply": "2023-07-07T08:07:30.284206Z"
    },
    "papermill": {
     "duration": 1.319163,
     "end_time": "2023-07-07T08:07:30.288439",
     "exception": false,
     "start_time": "2023-07-07T08:07:28.969276",
     "status": "completed"
    },
    "tags": [],
    "trusted": false
   },
   "outputs": [],
   "source": [
    "# стоп слова варианты\n",
    "v4_vectoriser = TfidfVectorizer(min_df=3,norm=None,stop_words=russian_stopwords)\n",
    "v4_vectoriser.fit(corpus_tr)\n",
    "X4 = v4_vectoriser.transform(corpus_tr)\n",
    "\n",
    "v5_vectoriser = TfidfVectorizer(min_df=2,norm=None,stop_words=russian_stopwords)\n",
    "v5_vectoriser.fit(corpus_tr)\n",
    "X5 = v5_vectoriser.transform(corpus_tr)\n",
    "\n",
    "v6_vectoriser = TfidfVectorizer(min_df=1,norm=None,stop_words=russian_stopwords)\n",
    "v6_vectoriser.fit(corpus_tr)\n",
    "X6 = v6_vectoriser.transform(corpus_tr)"
   ]
  },
  {
   "cell_type": "code",
   "execution_count": 8,
   "id": "587a3da9",
   "metadata": {
    "execution": {
     "iopub.execute_input": "2023-07-07T08:07:30.320526Z",
     "iopub.status.busy": "2023-07-07T08:07:30.320204Z",
     "iopub.status.idle": "2023-07-07T08:07:34.806215Z",
     "shell.execute_reply": "2023-07-07T08:07:34.804774Z"
    },
    "papermill": {
     "duration": 4.505572,
     "end_time": "2023-07-07T08:07:34.809103",
     "exception": false,
     "start_time": "2023-07-07T08:07:30.303531",
     "status": "completed"
    },
    "tags": [],
    "trusted": false
   },
   "outputs": [],
   "source": [
    "# н-грам варианты\n",
    "v7_vectoriser = TfidfVectorizer(min_df=2,norm=None,stop_words=russian_stopwords,ngram_range=(1,1))\n",
    "v7_vectoriser.fit(corpus_tr)\n",
    "X7 = v7_vectoriser.transform(corpus_tr)\n",
    "\n",
    "v8_vectoriser = TfidfVectorizer(min_df=2,norm=None,stop_words=russian_stopwords,ngram_range=(1,2))\n",
    "v8_vectoriser.fit(corpus_tr)\n",
    "X8 = v8_vectoriser.transform(corpus_tr)\n",
    "\n",
    "v9_vectoriser = TfidfVectorizer(min_df=2,norm=None,stop_words=russian_stopwords,ngram_range=(1,3))\n",
    "v9_vectoriser.fit(corpus_tr)\n",
    "X9 = v9_vectoriser.transform(corpus_tr)\n",
    "\n",
    "v10_vectoriser = TfidfVectorizer(min_df=2,norm=None,stop_words=russian_stopwords,ngram_range=(2,2))\n",
    "v10_vectoriser.fit(corpus_tr)\n",
    "X10 = v10_vectoriser.transform(corpus_tr)\n",
    "\n",
    "v11_vectoriser = TfidfVectorizer(min_df=2,norm=None,stop_words=russian_stopwords,ngram_range=(3,3))\n",
    "v11_vectoriser.fit(corpus_tr)\n",
    "X11 = v11_vectoriser.transform(corpus_tr)\n",
    "\n",
    "v12_vectoriser = TfidfVectorizer(min_df=2,norm=None,stop_words=russian_stopwords,ngram_range=(4,4))\n",
    "v12_vectoriser.fit(corpus_tr)\n",
    "X12 = v12_vectoriser.transform(corpus_tr)"
   ]
  },
  {
   "cell_type": "code",
   "execution_count": 9,
   "id": "37f6359e",
   "metadata": {
    "execution": {
     "iopub.execute_input": "2023-07-07T08:07:34.839452Z",
     "iopub.status.busy": "2023-07-07T08:07:34.839079Z",
     "iopub.status.idle": "2023-07-07T08:07:36.079605Z",
     "shell.execute_reply": "2023-07-07T08:07:36.078206Z"
    },
    "papermill": {
     "duration": 1.257993,
     "end_time": "2023-07-07T08:07:36.081981",
     "exception": false,
     "start_time": "2023-07-07T08:07:34.823988",
     "status": "completed"
    },
    "tags": [],
    "trusted": false
   },
   "outputs": [],
   "source": [
    "# максимальная частота слов\n",
    "v13_vectoriser = TfidfVectorizer(min_df=2,max_df=0.9,norm=None,stop_words=russian_stopwords)\n",
    "v13_vectoriser.fit(corpus_tr)\n",
    "X13 = v13_vectoriser.transform(corpus_tr)\n",
    "\n",
    "v14_vectoriser = TfidfVectorizer(min_df=2,max_df=0.8,norm=None,stop_words=russian_stopwords)\n",
    "v14_vectoriser.fit(corpus_tr)\n",
    "X14 = v14_vectoriser.transform(corpus_tr)\n",
    "\n",
    "v15_vectoriser = TfidfVectorizer(min_df=2,max_df=0.7,norm=None,stop_words=russian_stopwords)\n",
    "v15_vectoriser.fit(corpus_tr)\n",
    "X15 = v15_vectoriser.transform(corpus_tr)"
   ]
  },
  {
   "cell_type": "markdown",
   "id": "42ba8fc8",
   "metadata": {
    "papermill": {
     "duration": 0.014233,
     "end_time": "2023-07-07T08:07:36.110723",
     "exception": false,
     "start_time": "2023-07-07T08:07:36.096490",
     "status": "completed"
    },
    "tags": []
   },
   "source": [
    "## <b><span style='color:#686dec'>PART I - TF-IDF Модели</span></b>\n",
    "\n",
    "### Варианты Моделей\n",
    "\n",
    "- В плане моделей, попробуем два подхода ансамблья:\n",
    "    - **случайный лес** (который использует бэггинг и метод случайного пространства)\n",
    "    - **градиентный бустинг** СatBoost \n",
    "\n",
    "    \n",
    "Начнем с базового RandomForest (не очень глубокого) <code>model_srf</code>, а потом попробуем улучшить результат с помощью <code>model_drf</code> и <code>model_ocb</code>"
   ]
  },
  {
   "cell_type": "code",
   "execution_count": 10,
   "id": "c299e74a",
   "metadata": {
    "execution": {
     "iopub.execute_input": "2023-07-07T08:07:36.142370Z",
     "iopub.status.busy": "2023-07-07T08:07:36.141941Z",
     "iopub.status.idle": "2023-07-07T08:07:36.913141Z",
     "shell.execute_reply": "2023-07-07T08:07:36.911517Z"
    },
    "papermill": {
     "duration": 0.790237,
     "end_time": "2023-07-07T08:07:36.915622",
     "exception": false,
     "start_time": "2023-07-07T08:07:36.125385",
     "status": "completed"
    },
    "tags": [],
    "trusted": false
   },
   "outputs": [],
   "source": [
    "from sklearn.ensemble import RandomForestClassifier\n",
    "from catboost import CatBoostClassifier\n",
    "\n",
    "model_srf = RandomForestClassifier(n_estimators=10,random_state=32)  # не глубокий случайный лес\n",
    "model_drf = RandomForestClassifier(n_estimators=40,random_state=32)  # глубокий случайный лес\n",
    "model_ocb = CatBoostClassifier(silent=True)  # градиентный бустинг"
   ]
  },
  {
   "cell_type": "code",
   "execution_count": 11,
   "id": "dc96b6c7",
   "metadata": {
    "execution": {
     "iopub.execute_input": "2023-07-07T08:07:36.947830Z",
     "iopub.status.busy": "2023-07-07T08:07:36.946775Z",
     "iopub.status.idle": "2023-07-07T08:07:36.952339Z",
     "shell.execute_reply": "2023-07-07T08:07:36.951605Z"
    },
    "papermill": {
     "duration": 0.024129,
     "end_time": "2023-07-07T08:07:36.954783",
     "exception": false,
     "start_time": "2023-07-07T08:07:36.930654",
     "status": "completed"
    },
    "tags": [],
    "trusted": false
   },
   "outputs": [],
   "source": [
    "from sklearn.metrics import accuracy_score\n",
    "\n",
    "# вспомогательная функция для оценки модели\n",
    "\n",
    "def evaluate_tfidf(X,vect,name,model):\n",
    "\n",
    "    print(f'case_id: :{name}')\n",
    "    print('==================================')\n",
    "    \n",
    "    # train model\n",
    "    model.fit(X,target_tr)\n",
    "    y_model = model.predict(X)\n",
    "    print(f'train: {accuracy_score(target_tr,y_model)}')\n",
    "    \n",
    "    X = vect.transform(corpus_te)\n",
    "    y_model = model.predict(X)\n",
    "    print(f'test: {accuracy_score(y_model,target_te)}')\n",
    "    \n",
    "    print('==================================','\\n')"
   ]
  },
  {
   "cell_type": "markdown",
   "id": "9eee7878",
   "metadata": {
    "papermill": {
     "duration": 0.01475,
     "end_time": "2023-07-07T08:07:36.984370",
     "exception": false,
     "start_time": "2023-07-07T08:07:36.969620",
     "status": "completed"
    },
    "tags": []
   },
   "source": [
    "### Минимальная частота слов\n",
    "\n",
    "Проверим как влияет фильтр минимальной частоты слов (<code>min_df</code>) в документе на результат \n",
    "- <code>v1</code> (<code>min_df=3</code> фильтруем слова которые появляются в документов меньше 3 раз)\n",
    "- <code>v2</code> (<code>min_df=2</code> фильтруем слова которые появляются в документов меньше 2 раз)\n",
    "- <code>v3</code> (<code>min_df=1</code>)\n",
    "\n",
    "Как мы видим, эффект от фильтрации часто встречающихся слов разный"
   ]
  },
  {
   "cell_type": "code",
   "execution_count": 12,
   "id": "e8ec070c",
   "metadata": {
    "execution": {
     "iopub.execute_input": "2023-07-07T08:07:37.014753Z",
     "iopub.status.busy": "2023-07-07T08:07:37.014399Z",
     "iopub.status.idle": "2023-07-07T08:07:37.459323Z",
     "shell.execute_reply": "2023-07-07T08:07:37.458149Z"
    },
    "papermill": {
     "duration": 0.462696,
     "end_time": "2023-07-07T08:07:37.461468",
     "exception": false,
     "start_time": "2023-07-07T08:07:36.998772",
     "status": "completed"
    },
    "tags": [],
    "trusted": false
   },
   "outputs": [
    {
     "name": "stdout",
     "output_type": "stream",
     "text": [
      "case_id: :v3\n",
      "==================================\n",
      "train: 0.9866220735785953\n",
      "test: 0.7288888888888889\n",
      "================================== \n",
      "\n",
      "case_id: :v2\n",
      "==================================\n",
      "train: 0.987736900780379\n",
      "test: 0.7466666666666667\n",
      "================================== \n",
      "\n",
      "case_id: :v1\n",
      "==================================\n",
      "train: 0.9843924191750278\n",
      "test: 0.7111111111111111\n",
      "================================== \n",
      "\n"
     ]
    }
   ],
   "source": [
    "evaluate_tfidf(X3,v3_vectoriser,'v3',model_srf)\n",
    "evaluate_tfidf(X2,v2_vectoriser,'v2',model_srf)\n",
    "evaluate_tfidf(X1,v1_vectoriser,'v1',model_srf) "
   ]
  },
  {
   "cell_type": "markdown",
   "id": "ed28d61b",
   "metadata": {
    "papermill": {
     "duration": 0.014373,
     "end_time": "2023-07-07T08:07:37.490655",
     "exception": false,
     "start_time": "2023-07-07T08:07:37.476282",
     "status": "completed"
    },
    "tags": []
   },
   "source": [
    "### Стоп Слова\n",
    "\n",
    "- Попробуем повысить точность с помощью фильтрации не релевантных слов (стоп слова) \n",
    "- При использовании разных настроек <code>min_df</code> точность модели меняется по разному; <code>min_df=2</code> дает наиболее хороший результат\n",
    "\n",
    "Вариатны:\n",
    "- <code>v4</code> (фильтрация стоп слов с <code>min_df=3</code>)\n",
    "- <code>v5</code> (фильтрация стоп слов с <code>min_df=2</code>)\n",
    "- <code>v6</code> (фильтрация стоп слов с <code>min_df=1</code>)"
   ]
  },
  {
   "cell_type": "code",
   "execution_count": 13,
   "id": "27263291",
   "metadata": {
    "execution": {
     "iopub.execute_input": "2023-07-07T08:07:37.523028Z",
     "iopub.status.busy": "2023-07-07T08:07:37.522714Z",
     "iopub.status.idle": "2023-07-07T08:07:37.935706Z",
     "shell.execute_reply": "2023-07-07T08:07:37.934048Z"
    },
    "papermill": {
     "duration": 0.431476,
     "end_time": "2023-07-07T08:07:37.938144",
     "exception": false,
     "start_time": "2023-07-07T08:07:37.506668",
     "status": "completed"
    },
    "tags": [],
    "trusted": false
   },
   "outputs": [
    {
     "name": "stdout",
     "output_type": "stream",
     "text": [
      "case_id: :v6\n",
      "==================================\n",
      "train: 0.987736900780379\n",
      "test: 0.7155555555555555\n",
      "================================== \n",
      "\n",
      "case_id: :v5\n",
      "==================================\n",
      "train: 0.9866220735785953\n",
      "test: 0.76\n",
      "================================== \n",
      "\n",
      "case_id: :v4\n",
      "==================================\n",
      "train: 0.9866220735785953\n",
      "test: 0.7111111111111111\n",
      "================================== \n",
      "\n"
     ]
    }
   ],
   "source": [
    "evaluate_tfidf(X4,v4_vectoriser,'v6',model_srf)\n",
    "evaluate_tfidf(X5,v5_vectoriser,'v5',model_srf)\n",
    "evaluate_tfidf(X6,v6_vectoriser,'v4',model_srf) "
   ]
  },
  {
   "cell_type": "markdown",
   "id": "d659a7fe",
   "metadata": {
    "papermill": {
     "duration": 0.014734,
     "end_time": "2023-07-07T08:07:37.967842",
     "exception": false,
     "start_time": "2023-07-07T08:07:37.953108",
     "status": "completed"
    },
    "tags": []
   },
   "source": [
    "### н-граммы\n",
    "\n",
    "- Вариант <code>v5</code> дает нам точность 0.76 на тестовой выборке, используем этот вариант и проверим разные комбинации н-грамм\n",
    "- Как мы видим, улучшении никаких нет на тестовой выборке, при использовании bigram,trigram, точность сильно снизилось,  базовые токены (unigram) являются критичным для высокой точности модели\n",
    "\n",
    "Варианты:\n",
    "\n",
    "- <code>v7</code> ngram_range=(1,1) (Только униграммы)\n",
    "- <code>v8</code> ngram_range=(1,2) (Униграммы и биграммы)\n",
    "- <code>v9</code> ngram_range=(1,3) (униграммы, биграммы и триграммы)"
   ]
  },
  {
   "cell_type": "code",
   "execution_count": 14,
   "id": "ce0eef3c",
   "metadata": {
    "execution": {
     "iopub.execute_input": "2023-07-07T08:07:37.999088Z",
     "iopub.status.busy": "2023-07-07T08:07:37.998723Z",
     "iopub.status.idle": "2023-07-07T08:07:38.575672Z",
     "shell.execute_reply": "2023-07-07T08:07:38.573982Z"
    },
    "papermill": {
     "duration": 0.595331,
     "end_time": "2023-07-07T08:07:38.578003",
     "exception": false,
     "start_time": "2023-07-07T08:07:37.982672",
     "status": "completed"
    },
    "tags": [],
    "trusted": false
   },
   "outputs": [
    {
     "name": "stdout",
     "output_type": "stream",
     "text": [
      "case_id: :v9\n",
      "==================================\n",
      "train: 0.987736900780379\n",
      "test: 0.6622222222222223\n",
      "================================== \n",
      "\n",
      "case_id: :v8\n",
      "==================================\n",
      "train: 0.9888517279821628\n",
      "test: 0.7155555555555555\n",
      "================================== \n",
      "\n",
      "case_id: :v7\n",
      "==================================\n",
      "train: 0.9866220735785953\n",
      "test: 0.76\n",
      "================================== \n",
      "\n"
     ]
    }
   ],
   "source": [
    "evaluate_tfidf(X9,v9_vectoriser,'v9',model_srf)\n",
    "evaluate_tfidf(X8,v8_vectoriser,'v8',model_srf)\n",
    "evaluate_tfidf(X7,v7_vectoriser,'v7',model_srf) "
   ]
  },
  {
   "cell_type": "markdown",
   "id": "5296f61c",
   "metadata": {
    "papermill": {
     "duration": 0.014361,
     "end_time": "2023-07-07T08:07:38.606925",
     "exception": false,
     "start_time": "2023-07-07T08:07:38.592564",
     "status": "completed"
    },
    "tags": []
   },
   "source": [
    "Проверим еще варианты:\n",
    "\n",
    "- <code>v10</code> ngram_range=(1,1) (Только униграммы)\n",
    "- <code>v11</code> ngram_range=(2,2) (Только биграммы)\n",
    "- <code>v12</code> ngram_range=(3,3) (Только триграммы)"
   ]
  },
  {
   "cell_type": "code",
   "execution_count": 15,
   "id": "545055ab",
   "metadata": {
    "execution": {
     "iopub.execute_input": "2023-07-07T08:07:38.637913Z",
     "iopub.status.busy": "2023-07-07T08:07:38.637606Z",
     "iopub.status.idle": "2023-07-07T08:07:39.019311Z",
     "shell.execute_reply": "2023-07-07T08:07:39.018410Z"
    },
    "papermill": {
     "duration": 0.399727,
     "end_time": "2023-07-07T08:07:39.021230",
     "exception": false,
     "start_time": "2023-07-07T08:07:38.621503",
     "status": "completed"
    },
    "tags": [],
    "trusted": false
   },
   "outputs": [
    {
     "name": "stdout",
     "output_type": "stream",
     "text": [
      "case_id: :v12\n",
      "==================================\n",
      "train: 0.6622073578595318\n",
      "test: 0.5466666666666666\n",
      "================================== \n",
      "\n",
      "case_id: :v11\n",
      "==================================\n",
      "train: 0.9119286510590858\n",
      "test: 0.6\n",
      "================================== \n",
      "\n",
      "case_id: :v10\n",
      "==================================\n",
      "train: 0.9620958751393534\n",
      "test: 0.6444444444444445\n",
      "================================== \n",
      "\n"
     ]
    }
   ],
   "source": [
    "evaluate_tfidf(X12,v12_vectoriser,'v12',model_srf)\n",
    "evaluate_tfidf(X11,v11_vectoriser,'v11',model_srf)\n",
    "evaluate_tfidf(X10,v10_vectoriser,'v10',model_srf) "
   ]
  },
  {
   "cell_type": "markdown",
   "id": "afbf9d6a",
   "metadata": {
    "papermill": {
     "duration": 0.015181,
     "end_time": "2023-07-07T08:07:39.051559",
     "exception": false,
     "start_time": "2023-07-07T08:07:39.036378",
     "status": "completed"
    },
    "tags": []
   },
   "source": [
    "### Максимальная частота\n",
    "\n",
    "В задании так же упоминается максимальная частота слов <code>max_df</code> в векторизаторе, попробуем варианты:\n",
    "- <code>v13</code> <code>max_df=0.9</code> (фильтруем слова которые появляются в 90% документов)\n",
    "- <code>v14</code> <code>max_df=0.8</code> (фильтруем слова которые появляются в 80% документов)\n",
    "- <code>v15</code> <code>max_df=0.7</code> (фильтруем слова которые появляются в 70% документов)\n",
    "\n",
    "Как мы видим, улучшении никаких нет, при уменьшении часто встречаюшихся слов, точность падает"
   ]
  },
  {
   "cell_type": "code",
   "execution_count": 16,
   "id": "e7d51d71",
   "metadata": {
    "execution": {
     "iopub.execute_input": "2023-07-07T08:07:39.082860Z",
     "iopub.status.busy": "2023-07-07T08:07:39.082557Z",
     "iopub.status.idle": "2023-07-07T08:07:39.499290Z",
     "shell.execute_reply": "2023-07-07T08:07:39.498415Z"
    },
    "papermill": {
     "duration": 0.434829,
     "end_time": "2023-07-07T08:07:39.501331",
     "exception": false,
     "start_time": "2023-07-07T08:07:39.066502",
     "status": "completed"
    },
    "tags": [],
    "trusted": false
   },
   "outputs": [
    {
     "name": "stdout",
     "output_type": "stream",
     "text": [
      "case_id: :v13\n",
      "==================================\n",
      "train: 0.9866220735785953\n",
      "test: 0.76\n",
      "================================== \n",
      "\n",
      "case_id: :v14\n",
      "==================================\n",
      "train: 0.9866220735785953\n",
      "test: 0.76\n",
      "================================== \n",
      "\n",
      "case_id: :v15\n",
      "==================================\n",
      "train: 0.992196209587514\n",
      "test: 0.7155555555555555\n",
      "================================== \n",
      "\n"
     ]
    }
   ],
   "source": [
    "evaluate_tfidf(X13,v13_vectoriser,'v13',model_srf)\n",
    "evaluate_tfidf(X14,v14_vectoriser,'v14',model_srf)\n",
    "evaluate_tfidf(X15,v15_vectoriser,'v15',model_srf)"
   ]
  },
  {
   "cell_type": "markdown",
   "id": "0ebbe9fd",
   "metadata": {
    "papermill": {
     "duration": 0.015322,
     "end_time": "2023-07-07T08:07:39.533629",
     "exception": false,
     "start_time": "2023-07-07T08:07:39.518307",
     "status": "completed"
    },
    "tags": []
   },
   "source": [
    "### Выбор модели\n",
    "\n",
    "- Базовая модель случайного леса не очень глубокая, соответственно может не очень хорошо определить закономерности в данных, попробуем другие варианты перечислены в начале раздела\n",
    "- Воспользуемся вариантом который показал наилучшую обобщающию способность на тестовой выборке (<code>v5</code>)\n",
    "- CatBoost хорошо оптимизируется под любые табличные данные, и как мы видим улучшения нет, обе модели показывают примерно идентичный результат\n",
    "- Соответственно возможно что улучшении на тестовой выборке с TF-IDF (помимо токенизации) особо нет, и нужно проверить эмбеддинговый подход который мы рассмотрим в Part II"
   ]
  },
  {
   "cell_type": "code",
   "execution_count": 17,
   "id": "f7db1b91",
   "metadata": {
    "execution": {
     "iopub.execute_input": "2023-07-07T08:07:39.567079Z",
     "iopub.status.busy": "2023-07-07T08:07:39.566716Z",
     "iopub.status.idle": "2023-07-07T08:07:39.574397Z",
     "shell.execute_reply": "2023-07-07T08:07:39.572707Z"
    },
    "papermill": {
     "duration": 0.026472,
     "end_time": "2023-07-07T08:07:39.576483",
     "exception": false,
     "start_time": "2023-07-07T08:07:39.550011",
     "status": "completed"
    },
    "tags": [],
    "trusted": false
   },
   "outputs": [
    {
     "data": {
      "text/plain": [
       "(897, 11969)"
      ]
     },
     "execution_count": 17,
     "metadata": {},
     "output_type": "execute_result"
    }
   ],
   "source": [
    "# 12000 признаков\n",
    "\n",
    "X5.shape"
   ]
  },
  {
   "cell_type": "code",
   "execution_count": 18,
   "id": "dc5f99c7",
   "metadata": {
    "execution": {
     "iopub.execute_input": "2023-07-07T08:07:39.609711Z",
     "iopub.status.busy": "2023-07-07T08:07:39.609380Z",
     "iopub.status.idle": "2023-07-07T08:08:08.309428Z",
     "shell.execute_reply": "2023-07-07T08:08:08.308007Z"
    },
    "papermill": {
     "duration": 28.71996,
     "end_time": "2023-07-07T08:08:08.311980",
     "exception": false,
     "start_time": "2023-07-07T08:07:39.592020",
     "status": "completed"
    },
    "tags": [],
    "trusted": false
   },
   "outputs": [
    {
     "name": "stdout",
     "output_type": "stream",
     "text": [
      "case_id: :v5_deeprf\n",
      "==================================\n",
      "train: 0.9988851727982163\n",
      "test: 0.8044444444444444\n",
      "================================== \n",
      "\n",
      "case_id: :v5_shallowcatboost\n",
      "==================================\n",
      "train: 0.9654403567447045\n",
      "test: 0.7955555555555556\n",
      "================================== \n",
      "\n"
     ]
    }
   ],
   "source": [
    "evaluate_tfidf(X5,v5_vectoriser,'v5_deeprf',model_drf)\n",
    "evaluate_tfidf(X5,v5_vectoriser,'v5_shallowcatboost',model_ocb)"
   ]
  },
  {
   "cell_type": "markdown",
   "id": "6cb16a1c",
   "metadata": {
    "papermill": {
     "duration": 0.015518,
     "end_time": "2023-07-07T08:08:08.343625",
     "exception": false,
     "start_time": "2023-07-07T08:08:08.328107",
     "status": "completed"
    },
    "tags": []
   },
   "source": [
    "## <b><span style='color:#686dec'>PART I - TF-IDF GridSearchCV</span></b>\n",
    "\n",
    "Из требовании задания:\n",
    "\n",
    "> Обучите random forest или градиентный бустинг (LightGBM или catboost) на полученных векторах и подберите оптимальную комбинацию гиперпараметров с помощью GridSearch\n",
    "\n",
    "- В ручную подборка гиперпараметров может оказаться не самым оптимальным вариантов, поэтому воспользуемся <code>GridSearchCV</code> методом кросс-валидации для подборки гиперпараметров модели\n",
    "- Какую конкретные параметры нужно оптимизировать не уточняется, попробуем найти более оптимальные параметры для модели случайного леса, так как CatBoost показал хуже результат"
   ]
  },
  {
   "cell_type": "markdown",
   "id": "28eedc09",
   "metadata": {
    "papermill": {
     "duration": 0.015495,
     "end_time": "2023-07-07T08:08:08.374995",
     "exception": false,
     "start_time": "2023-07-07T08:08:08.359500",
     "status": "completed"
    },
    "tags": []
   },
   "source": [
    "У случайного леса много параметров которые можно перепобовать, ограничимся:\n",
    "- <code>max_depth</code> максимальная глубина разбиения \n",
    "- <code>n_estimators</code> количество решаущих деревьев\n",
    "- <code>criterion</code> критерии оценки разбиения в узле\n",
    "- <code>min_samples_leaf</code> минимальное количество образцов, необходимое для нахождения в листовом узле каждого дерева\n",
    "- <code>min_samples_split</code> Минимальное количество образцов, необходимое для разбиения внутреннего узла каждого дерева\n",
    "\n",
    "Из соображении времени, количество построенных деревьев ограничивается (e_stimators=100)"
   ]
  },
  {
   "cell_type": "code",
   "execution_count": 19,
   "id": "690d2cf8",
   "metadata": {
    "execution": {
     "iopub.execute_input": "2023-07-07T08:08:08.408173Z",
     "iopub.status.busy": "2023-07-07T08:08:08.407769Z",
     "iopub.status.idle": "2023-07-07T08:08:08.415040Z",
     "shell.execute_reply": "2023-07-07T08:08:08.414215Z"
    },
    "papermill": {
     "duration": 0.025996,
     "end_time": "2023-07-07T08:08:08.416692",
     "exception": false,
     "start_time": "2023-07-07T08:08:08.390696",
     "status": "completed"
    },
    "tags": [],
    "trusted": false
   },
   "outputs": [],
   "source": [
    "from sklearn.model_selection import GridSearchCV\n",
    "from scipy.stats import randint\n",
    "import numpy as np\n",
    "\n",
    "\n",
    "def evaluate_cv(X,name,base_estimator):\n",
    "\n",
    "    print(f'case_id: :{name}')\n",
    "    print('==================================')\n",
    "    \n",
    "    rs_space={'max_depth':list(np.arange(10,60,10)) + [None],\n",
    "              'n_estimators':np.arange(40,120, step=20),\n",
    "              'criterion':['gini','entropy'],\n",
    "              'min_samples_leaf':[1,2,3,4],\n",
    "               'min_samples_split':np.arange(2,6, step=2),\n",
    "              }\n",
    "\n",
    "    model = GridSearchCV(base_estimator,\n",
    "                         rs_space, \n",
    "                         scoring='accuracy', \n",
    "                         n_jobs=-1, \n",
    "                         cv=3)\n",
    "    \n",
    "    # train model\n",
    "    model.fit(X,target_tr)\n",
    "    \n",
    "    print('Best hyperparameters are: '+str(model.best_params_))\n",
    "    print('Best score is: '+str(model.best_score_))\n",
    "    \n",
    "    print('==================================','\\n')\n",
    "    \n"
   ]
  },
  {
   "cell_type": "markdown",
   "id": "c80a180a",
   "metadata": {
    "papermill": {
     "duration": 0.015544,
     "end_time": "2023-07-07T08:08:08.448230",
     "exception": false,
     "start_time": "2023-07-07T08:08:08.432686",
     "status": "completed"
    },
    "tags": []
   },
   "source": [
    "Кросс валидация нам дает немного хуже результат чем на train/test разбиение; в итоге мы получаем **точность 0.78** на тестовой выборке в cv, что не так уж и плохо "
   ]
  },
  {
   "cell_type": "code",
   "execution_count": 20,
   "id": "ade47c78",
   "metadata": {
    "execution": {
     "iopub.execute_input": "2023-07-07T08:08:08.482380Z",
     "iopub.status.busy": "2023-07-07T08:08:08.482001Z",
     "iopub.status.idle": "2023-07-07T08:10:04.306507Z",
     "shell.execute_reply": "2023-07-07T08:10:04.305280Z"
    },
    "papermill": {
     "duration": 115.856879,
     "end_time": "2023-07-07T08:10:04.322049",
     "exception": false,
     "start_time": "2023-07-07T08:08:08.465170",
     "status": "completed"
    },
    "tags": [],
    "trusted": false
   },
   "outputs": [
    {
     "name": "stdout",
     "output_type": "stream",
     "text": [
      "case_id: :random_forest_cv\n",
      "==================================\n",
      "Best hyperparameters are: {'criterion': 'entropy', 'max_depth': 40, 'min_samples_leaf': 3, 'min_samples_split': 2, 'n_estimators': 100}\n",
      "Best score is: 0.7814938684503902\n",
      "================================== \n",
      "\n",
      "CPU times: user 3.13 s, sys: 604 ms, total: 3.73 s\n",
      "Wall time: 1min 55s\n"
     ]
    }
   ],
   "source": [
    "%%time\n",
    "\n",
    "model_drf = RandomForestClassifier(random_state=32)\n",
    "evaluate_cv(X5,'random_forest_cv',model_srf)"
   ]
  },
  {
   "cell_type": "markdown",
   "id": "0920b9d2",
   "metadata": {
    "papermill": {
     "duration": 0.015897,
     "end_time": "2023-07-07T08:10:04.395442",
     "exception": false,
     "start_time": "2023-07-07T08:10:04.379545",
     "status": "completed"
    },
    "tags": []
   },
   "source": [
    "Проверим точность на на всей тестовой и отложенной тестовой выборке на больше объеме данных у нас модель показывает лучше результат"
   ]
  },
  {
   "cell_type": "code",
   "execution_count": 22,
   "id": "56d63a5e",
   "metadata": {
    "execution": {
     "iopub.execute_input": "2023-07-07T08:10:04.430498Z",
     "iopub.status.busy": "2023-07-07T08:10:04.429902Z",
     "iopub.status.idle": "2023-07-07T08:10:05.024873Z",
     "shell.execute_reply": "2023-07-07T08:10:05.023811Z"
    },
    "papermill": {
     "duration": 0.616598,
     "end_time": "2023-07-07T08:10:05.028103",
     "exception": false,
     "start_time": "2023-07-07T08:10:04.411505",
     "status": "completed"
    },
    "tags": [],
    "trusted": false
   },
   "outputs": [
    {
     "name": "stdout",
     "output_type": "stream",
     "text": [
      "case_id: :v5_rf_best\n",
      "==================================\n",
      "train: 0.9821627647714605\n",
      "test: 0.8133333333333334\n",
      "================================== \n",
      "\n"
     ]
    }
   ],
   "source": [
    "best_model = RandomForestClassifier(**{'criterion': 'entropy', \n",
    "                                     'max_depth': 40, \n",
    "                                     'min_samples_leaf': 3, \n",
    "                                     'min_samples_split': 2, \n",
    "                                     'n_estimators': 100, \n",
    "                                     'random_state':32})\n",
    "\n",
    "evaluate_tfidf(X5,v5_vectoriser,'v5_rf_best',best_model)"
   ]
  },
  {
   "cell_type": "markdown",
   "id": "de31df10",
   "metadata": {
    "papermill": {
     "duration": 0.015791,
     "end_time": "2023-07-07T08:10:05.060028",
     "exception": false,
     "start_time": "2023-07-07T08:10:05.044237",
     "status": "completed"
    },
    "tags": []
   },
   "source": [
    "## <b><span style='color:#686dec'>PART II - эмбеддинги</span></b>\n",
    "\n",
    "Из требовании задания:\n",
    "\n",
    "> Теперь воспользуйтесь предобученными word2vec/fasttext эмбеддингами для векторизации текста. Векторизуйте тексты с помощью метода word2vec/fasttext **c весами tf-idf**\n",
    "\n",
    "\n",
    "- В **Part II** у нас меняется подход преобразования документов в числовой формат, от нас требуется воспользоваться ранее предобученные эмбеддинги (на другом корпусе) от **[rusvectores.org](https://rusvectores.org/ru/models/)** и сравнить с предыдущем подходом TF-IDF.\n",
    "- Как и раньше будем ориентироваться на обобщающую способность модели на тестовой выборке\n",
    "\n",
    "Начнем с выгрузки TF-IDF весов из весторизатора <code>v5_vectoriser</code>"
   ]
  },
  {
   "cell_type": "code",
   "execution_count": 23,
   "id": "d46d267f",
   "metadata": {
    "execution": {
     "iopub.execute_input": "2023-07-07T08:10:05.093866Z",
     "iopub.status.busy": "2023-07-07T08:10:05.093228Z",
     "iopub.status.idle": "2023-07-07T08:10:05.102489Z",
     "shell.execute_reply": "2023-07-07T08:10:05.101258Z"
    },
    "papermill": {
     "duration": 0.029037,
     "end_time": "2023-07-07T08:10:05.104826",
     "exception": false,
     "start_time": "2023-07-07T08:10:05.075789",
     "status": "completed"
    },
    "tags": [],
    "trusted": false
   },
   "outputs": [],
   "source": [
    "# Не забываем про веса tfidf; создадим словарь\n",
    "tfidf_weights = dict(zip(list(v5_vectoriser.vocabulary_.keys()),v5_vectoriser.idf_))"
   ]
  },
  {
   "cell_type": "markdown",
   "id": "02ea5cb5",
   "metadata": {
    "papermill": {
     "duration": 0.015599,
     "end_time": "2023-07-07T08:10:05.136730",
     "exception": false,
     "start_time": "2023-07-07T08:10:05.121131",
     "status": "completed"
    },
    "tags": []
   },
   "source": [
    "\n",
    "### Загрузка эмбеддингов\n",
    "\n",
    "Для нашей задачи возьмем предобученные эмбеддинги (варианты без тагсет)\n",
    "- **geowac_lemmas_none_fasttextskipgram_300_5_2020**"
   ]
  },
  {
   "cell_type": "code",
   "execution_count": 24,
   "id": "922bfcca",
   "metadata": {
    "execution": {
     "iopub.execute_input": "2023-07-07T08:10:05.170663Z",
     "iopub.status.busy": "2023-07-07T08:10:05.170334Z",
     "iopub.status.idle": "2023-07-07T08:10:05.447647Z",
     "shell.execute_reply": "2023-07-07T08:10:05.446502Z"
    },
    "papermill": {
     "duration": 0.29761,
     "end_time": "2023-07-07T08:10:05.450259",
     "exception": false,
     "start_time": "2023-07-07T08:10:05.152649",
     "status": "completed"
    },
    "tags": [],
    "trusted": false
   },
   "outputs": [],
   "source": [
    "import gensim\n",
    "import urllib.request\n",
    "import zipfile\n",
    "\n",
    "# название и URL\n",
    "we_models = {\"geowac_lemmas_none_fasttextskipgram_300_5_2020\": \"http://vectors.nlpl.eu/repository/20/213.zip\",}"
   ]
  },
  {
   "cell_type": "code",
   "execution_count": 25,
   "id": "ef373206",
   "metadata": {
    "execution": {
     "iopub.execute_input": "2023-07-07T08:10:05.483736Z",
     "iopub.status.busy": "2023-07-07T08:10:05.483320Z",
     "iopub.status.idle": "2023-07-07T08:11:04.812498Z",
     "shell.execute_reply": "2023-07-07T08:11:04.810952Z"
    },
    "papermill": {
     "duration": 59.348921,
     "end_time": "2023-07-07T08:11:04.815231",
     "exception": false,
     "start_time": "2023-07-07T08:10:05.466310",
     "status": "completed"
    },
    "tags": [],
    "trusted": false
   },
   "outputs": [],
   "source": [
    "# сохраняем модель\n",
    "def get_models(model_url, model_name, path_to_save=\"/kaggle/working/\"):\n",
    "    model_path = path_to_save + model_name + \".zip\"\n",
    "    urllib.request.urlretrieve(model_url, model_path)\n",
    "\n",
    "for model_name, model_url in we_models.items():\n",
    "    get_models(model_url, model_name)"
   ]
  },
  {
   "cell_type": "code",
   "execution_count": 26,
   "id": "0bba6982",
   "metadata": {
    "execution": {
     "iopub.execute_input": "2023-07-07T08:11:04.850341Z",
     "iopub.status.busy": "2023-07-07T08:11:04.849282Z",
     "iopub.status.idle": "2023-07-07T08:11:04.855334Z",
     "shell.execute_reply": "2023-07-07T08:11:04.854347Z"
    },
    "papermill": {
     "duration": 0.025978,
     "end_time": "2023-07-07T08:11:04.857231",
     "exception": false,
     "start_time": "2023-07-07T08:11:04.831253",
     "status": "completed"
    },
    "tags": [],
    "trusted": false
   },
   "outputs": [],
   "source": [
    "# Функция для чтения word2vec / FastText\n",
    "\n",
    "def open_model(model_name,model_path, is_fasttext = True):\n",
    "    \n",
    "    # word2vec (model.bin)\n",
    "    if is_fasttext == False:\n",
    "        model_file = model_path + model_name + \".zip\"\n",
    "        with zipfile.ZipFile(model_file, 'r') as archive:\n",
    "            stream = archive.open('model.bin')\n",
    "            model = gensim.models.KeyedVectors.load_word2vec_format(stream, binary=True)\n",
    "            \n",
    "    # fasttext (model.model)\n",
    "    else:\n",
    "        model_file = model_path + model_name\n",
    "        model = gensim.models.KeyedVectors.load(model_file + \"/model.model\")\n",
    "    return model"
   ]
  },
  {
   "cell_type": "markdown",
   "id": "318a06d5",
   "metadata": {
    "papermill": {
     "duration": 0.015098,
     "end_time": "2023-07-07T08:11:04.887947",
     "exception": false,
     "start_time": "2023-07-07T08:11:04.872849",
     "status": "completed"
    },
    "tags": []
   },
   "source": [
    "Распакуем эмбеддинги и загружаем вектора"
   ]
  },
  {
   "cell_type": "code",
   "execution_count": 27,
   "id": "e3731c54",
   "metadata": {
    "execution": {
     "iopub.execute_input": "2023-07-07T08:11:04.923845Z",
     "iopub.status.busy": "2023-07-07T08:11:04.922759Z",
     "iopub.status.idle": "2023-07-07T08:11:13.769251Z",
     "shell.execute_reply": "2023-07-07T08:11:13.768339Z"
    },
    "papermill": {
     "duration": 8.866734,
     "end_time": "2023-07-07T08:11:13.771845",
     "exception": false,
     "start_time": "2023-07-07T08:11:04.905111",
     "status": "completed"
    },
    "tags": [],
    "trusted": false
   },
   "outputs": [],
   "source": [
    "with zipfile.ZipFile(\"/kaggle/working/geowac_lemmas_none_fasttextskipgram_300_5_2020.zip\", 'r') as zip_ref: \n",
    "    zip_ref.extractall(\"/kaggle/working/geowac_lemmas_none_fasttextskipgram_300_5_2020\")"
   ]
  },
  {
   "cell_type": "code",
   "execution_count": null,
   "id": "25f370e7",
   "metadata": {
    "execution": {
     "iopub.execute_input": "2023-07-07T08:11:13.805506Z",
     "iopub.status.busy": "2023-07-07T08:11:13.805143Z",
     "iopub.status.idle": "2023-07-07T08:11:17.756887Z",
     "shell.execute_reply": "2023-07-07T08:11:17.756145Z"
    },
    "papermill": {
     "duration": 3.971503,
     "end_time": "2023-07-07T08:11:17.759298",
     "exception": false,
     "start_time": "2023-07-07T08:11:13.787795",
     "status": "completed"
    },
    "tags": [],
    "trusted": false
   },
   "outputs": [],
   "source": [
    "# загружаем KeyedVectors эмбеддинговый вектора \n",
    "geowac_model = open_model('geowac_lemmas_none_fasttextskipgram_300_5_2020','/kaggle/working/')"
   ]
  },
  {
   "cell_type": "markdown",
   "id": "6af89d52",
   "metadata": {
    "papermill": {
     "duration": 0.016127,
     "end_time": "2023-07-07T08:11:17.792049",
     "exception": false,
     "start_time": "2023-07-07T08:11:17.775922",
     "status": "completed"
    },
    "tags": []
   },
   "source": [
    "### Токенизация документов\n",
    "\n",
    "- Токенизируем все документы в тренировочной выборке/копрусе, будем использовать стандартный метод из nltk <code>word_tokenize</code>\n",
    "- Токенизированные документы сохраним в <code>lst_corpus_tr</code> и <code>lst_corpus_te</code> для <code>train</code> и <code>test</code> выборки"
   ]
  },
  {
   "cell_type": "code",
   "execution_count": 29,
   "id": "df9b6bc0",
   "metadata": {
    "execution": {
     "iopub.execute_input": "2023-07-07T08:11:17.826577Z",
     "iopub.status.busy": "2023-07-07T08:11:17.826075Z",
     "iopub.status.idle": "2023-07-07T08:11:17.831473Z",
     "shell.execute_reply": "2023-07-07T08:11:17.830408Z"
    },
    "papermill": {
     "duration": 0.025819,
     "end_time": "2023-07-07T08:11:17.833682",
     "exception": false,
     "start_time": "2023-07-07T08:11:17.807863",
     "status": "completed"
    },
    "tags": [],
    "trusted": false
   },
   "outputs": [],
   "source": [
    "from nltk.tokenize import word_tokenize\n",
    "\n",
    "# Preprocessing, returns list instead\n",
    "def tokenise_for_word2vec(text):\n",
    "    \n",
    "    text = text.lower() #changes to lower case\n",
    "    tokens = word_tokenize(text) #tokenize the text\n",
    "    \n",
    "    clean_list = [] \n",
    "    for token in tokens:\n",
    "        clean_list.append(token)\n",
    "        \n",
    "    return clean_list"
   ]
  },
  {
   "cell_type": "code",
   "execution_count": 30,
   "id": "3018106f",
   "metadata": {
    "execution": {
     "iopub.execute_input": "2023-07-07T08:11:17.867747Z",
     "iopub.status.busy": "2023-07-07T08:11:17.867196Z",
     "iopub.status.idle": "2023-07-07T08:11:21.336233Z",
     "shell.execute_reply": "2023-07-07T08:11:21.335129Z"
    },
    "papermill": {
     "duration": 3.488787,
     "end_time": "2023-07-07T08:11:21.338603",
     "exception": false,
     "start_time": "2023-07-07T08:11:17.849816",
     "status": "completed"
    },
    "tags": [],
    "trusted": false
   },
   "outputs": [],
   "source": [
    "lst_corpus_tr = []\n",
    "for doc in corpus_tr:\n",
    "    lst_corpus_tr.append(tokenise_for_word2vec(doc))\n",
    "    \n",
    "lst_corpus_te = []\n",
    "for doc in corpus_te:\n",
    "    lst_corpus_te.append(tokenise_for_word2vec(doc))"
   ]
  },
  {
   "cell_type": "markdown",
   "id": "6e2b15e5",
   "metadata": {
    "papermill": {
     "duration": 0.015048,
     "end_time": "2023-07-07T08:11:21.369241",
     "exception": false,
     "start_time": "2023-07-07T08:11:21.354193",
     "status": "completed"
    },
    "tags": []
   },
   "source": [
    "### Усредненные Вектора (без TF-IDF весов)\n",
    "\n",
    "- Воспользуемся самым простым подходом; для каждого документа мы возьмем **усредненный эмбеддинговый вектор** всех слов которые в него входят\n",
    "- Размерность данных с эмбеддингами получается намного ниже (300) чем в TF-IDF (11969) что должно сказаться на скорости обучения модели\n",
    "- Сохраняем эмбеддинг для каждого документа в <code>X_tr</code> и <code>X_te</code> для <code>train</code> и <code>test</code> выборки "
   ]
  },
  {
   "cell_type": "code",
   "execution_count": 31,
   "id": "9944b45e",
   "metadata": {
    "execution": {
     "iopub.execute_input": "2023-07-07T08:11:21.402696Z",
     "iopub.status.busy": "2023-07-07T08:11:21.402290Z",
     "iopub.status.idle": "2023-07-07T08:11:21.410189Z",
     "shell.execute_reply": "2023-07-07T08:11:21.408879Z"
    },
    "papermill": {
     "duration": 0.027587,
     "end_time": "2023-07-07T08:11:21.412487",
     "exception": false,
     "start_time": "2023-07-07T08:11:21.384900",
     "status": "completed"
    },
    "tags": [],
    "trusted": false
   },
   "outputs": [],
   "source": [
    "# Get average embedding vector for each text\n",
    "\n",
    "def doc_vectoriser(doc, model):\n",
    "    \n",
    "    doc_vector = []\n",
    "    num_words = 0\n",
    "    \n",
    "    for word in doc:\n",
    "        try:\n",
    "            if num_words == 0:\n",
    "                doc_vector = model[word]\n",
    "            else:\n",
    "                doc_vector = np.add(doc_vector, model[word])\n",
    "            num_words += 1\n",
    "        except:\n",
    "            pass  # if embedding vector isn't found\n",
    "     \n",
    "    return np.asarray(doc_vector) / num_words"
   ]
  },
  {
   "cell_type": "code",
   "execution_count": 32,
   "id": "5b9ca51e",
   "metadata": {
    "execution": {
     "iopub.execute_input": "2023-07-07T08:11:21.448946Z",
     "iopub.status.busy": "2023-07-07T08:11:21.448611Z",
     "iopub.status.idle": "2023-07-07T08:11:25.551318Z",
     "shell.execute_reply": "2023-07-07T08:11:25.550158Z"
    },
    "papermill": {
     "duration": 4.122637,
     "end_time": "2023-07-07T08:11:25.553895",
     "exception": false,
     "start_time": "2023-07-07T08:11:21.431258",
     "status": "completed"
    },
    "tags": [],
    "trusted": false
   },
   "outputs": [],
   "source": [
    "X_tr = []\n",
    "for doc in lst_corpus_tr:\n",
    "    X_tr.append(doc_vectoriser(doc,geowac_model))\n",
    "    \n",
    "\n",
    "X_te = []\n",
    "for doc in lst_corpus_te:\n",
    "    X_te.append(doc_vectoriser(doc,geowac_model))"
   ]
  },
  {
   "cell_type": "markdown",
   "id": "0b968b20",
   "metadata": {
    "papermill": {
     "duration": 0.016056,
     "end_time": "2023-07-07T08:11:25.587735",
     "exception": false,
     "start_time": "2023-07-07T08:11:25.571679",
     "status": "completed"
    },
    "tags": []
   },
   "source": [
    "### Усредненные Вектора (c TF-IDF весами)\n",
    "\n",
    "- Мы сохранили веса значимости слов (токенов) в документах корпуса в <code>tfidf_weights</code>\n",
    "- Сохраняем взвешенные эмбеддинг для каждого документа в <code>Xw_tr</code> и <code>Xw_te</code> для <code>train</code> и <code>test</code> выборки "
   ]
  },
  {
   "cell_type": "code",
   "execution_count": 33,
   "id": "5511809a",
   "metadata": {
    "execution": {
     "iopub.execute_input": "2023-07-07T08:11:25.622795Z",
     "iopub.status.busy": "2023-07-07T08:11:25.622413Z",
     "iopub.status.idle": "2023-07-07T08:11:25.629110Z",
     "shell.execute_reply": "2023-07-07T08:11:25.628159Z"
    },
    "papermill": {
     "duration": 0.027215,
     "end_time": "2023-07-07T08:11:25.631743",
     "exception": false,
     "start_time": "2023-07-07T08:11:25.604528",
     "status": "completed"
    },
    "tags": [],
    "trusted": false
   },
   "outputs": [],
   "source": [
    "# Get average embedding vector for each text \n",
    "\n",
    "def doc_vectoriser_tfidf(doc, model):\n",
    "    \n",
    "    doc_vector = []\n",
    "    num_words = 0\n",
    "    \n",
    "    for word in doc:\n",
    "        try:\n",
    "            if num_words == 0:\n",
    "                \n",
    "                # if word is in tfidf dictionary\n",
    "                if(word in tfidf_weights):\n",
    "                    doc_vector = model[word]*(tfidf_weights[word])\n",
    "                else:\n",
    "                    doc_vector = model[word]\n",
    "            else:\n",
    "                \n",
    "                # if word is in tfidf dictionary\n",
    "                if(word in tfidf_weights):\n",
    "                    doc_vector = np.add(doc_vector, model[word]*(tfidf_weights[word]))\n",
    "                else:\n",
    "                    doc_vector = np.add(doc_vector, model[word])\n",
    "                    \n",
    "            num_words += 1\n",
    "        except:\n",
    "            pass  # if embedding vector isn't found\n",
    "     \n",
    "    return np.asarray(doc_vector) / num_words"
   ]
  },
  {
   "cell_type": "code",
   "execution_count": 34,
   "id": "442b6e71",
   "metadata": {
    "execution": {
     "iopub.execute_input": "2023-07-07T08:11:25.666598Z",
     "iopub.status.busy": "2023-07-07T08:11:25.666238Z",
     "iopub.status.idle": "2023-07-07T08:11:30.213460Z",
     "shell.execute_reply": "2023-07-07T08:11:30.212068Z"
    },
    "papermill": {
     "duration": 4.568556,
     "end_time": "2023-07-07T08:11:30.216499",
     "exception": false,
     "start_time": "2023-07-07T08:11:25.647943",
     "status": "completed"
    },
    "tags": [],
    "trusted": false
   },
   "outputs": [],
   "source": [
    "Xw_tr = []\n",
    "for doc in lst_corpus_tr:\n",
    "    Xw_tr.append(doc_vectoriser_tfidf(doc,geowac_model))\n",
    "    \n",
    "Xw_te = []\n",
    "for doc in lst_corpus_te:\n",
    "    Xw_te.append(doc_vectoriser_tfidf(doc,geowac_model))"
   ]
  },
  {
   "cell_type": "markdown",
   "id": "414cf17f",
   "metadata": {
    "papermill": {
     "duration": 0.016182,
     "end_time": "2023-07-07T08:11:30.248714",
     "exception": false,
     "start_time": "2023-07-07T08:11:30.232532",
     "status": "completed"
    },
    "tags": []
   },
   "source": [
    "## <b><span style='color:#686dec'>PART II - Эмбеддинг модели</span></b>\n",
    "\n",
    "### Варианты Моделей\n",
    "\n",
    "Повторим то что мы делали в Part I:\n",
    "\n",
    "- В плане моделей, попробуем два подхода ансаблья, случайный лес (который использует бэггинт и метод случайного пространства) и градиентный бустинг СatBoost \n",
    "- Начнем с базового RandomForest (не очень глубокого) <code>model_srf</code>, а потом попробуем улучшить результат с помошью <code>model_drf</code> и <code>model_ocb</code>"
   ]
  },
  {
   "cell_type": "code",
   "execution_count": 35,
   "id": "df11c760",
   "metadata": {
    "execution": {
     "iopub.execute_input": "2023-07-07T08:11:30.283186Z",
     "iopub.status.busy": "2023-07-07T08:11:30.282303Z",
     "iopub.status.idle": "2023-07-07T08:11:30.290469Z",
     "shell.execute_reply": "2023-07-07T08:11:30.289258Z"
    },
    "papermill": {
     "duration": 0.027526,
     "end_time": "2023-07-07T08:11:30.292474",
     "exception": false,
     "start_time": "2023-07-07T08:11:30.264948",
     "status": "completed"
    },
    "tags": [],
    "trusted": false
   },
   "outputs": [],
   "source": [
    "from sklearn.ensemble import RandomForestClassifier\n",
    "from catboost import CatBoostClassifier\n",
    "\n",
    "model_srf = RandomForestClassifier(n_estimators=10,random_state=32)\n",
    "model_drf = RandomForestClassifier(n_estimators=40,random_state=32)\n",
    "model_ocb = CatBoostClassifier(silent=True)"
   ]
  },
  {
   "cell_type": "code",
   "execution_count": 36,
   "id": "8ee3f646",
   "metadata": {
    "execution": {
     "iopub.execute_input": "2023-07-07T08:11:30.326970Z",
     "iopub.status.busy": "2023-07-07T08:11:30.326622Z",
     "iopub.status.idle": "2023-07-07T08:11:30.333788Z",
     "shell.execute_reply": "2023-07-07T08:11:30.332187Z"
    },
    "papermill": {
     "duration": 0.026872,
     "end_time": "2023-07-07T08:11:30.335715",
     "exception": false,
     "start_time": "2023-07-07T08:11:30.308843",
     "status": "completed"
    },
    "tags": [],
    "trusted": false
   },
   "outputs": [],
   "source": [
    "from sklearn.metrics import accuracy_score\n",
    "\n",
    "# Импортируем матричу фич (эмбеддинги) X_tr, X_te\n",
    "# target_tr, target_te глоб \n",
    "\n",
    "def evaluate_embedding(X_tr,X_te,name,model):\n",
    "\n",
    "    print(f'case_id: :{name}')\n",
    "    print('==================================')\n",
    "    \n",
    "    # train model\n",
    "    model.fit(X_tr,target_tr)\n",
    "    y_model = model.predict(X_tr)\n",
    "    print(f'train: {accuracy_score(target_tr,y_model)}')\n",
    "    \n",
    "    y_model = model.predict(X_te)\n",
    "    print(f'test: {accuracy_score(y_model,target_te)}')\n",
    "    \n",
    "    print('==================================','\\n')"
   ]
  },
  {
   "cell_type": "markdown",
   "id": "a9eaf1c4",
   "metadata": {
    "papermill": {
     "duration": 0.015593,
     "end_time": "2023-07-07T08:11:30.367189",
     "exception": false,
     "start_time": "2023-07-07T08:11:30.351596",
     "status": "completed"
    },
    "tags": []
   },
   "source": [
    "### Варианты Моделей (без TF-IDF весов)\n",
    "\n",
    "- Модели **без TF-IDF весами** для эмбеддингов, как и раньше попробуем базовые модели, после чего мы попытаемся оптимизировать гиперпараметры\n",
    "- Интересно отметить что точность модели очень редко превышает 0.804"
   ]
  },
  {
   "cell_type": "code",
   "execution_count": 37,
   "id": "d6ec555c",
   "metadata": {
    "execution": {
     "iopub.execute_input": "2023-07-07T08:11:30.400621Z",
     "iopub.status.busy": "2023-07-07T08:11:30.400252Z",
     "iopub.status.idle": "2023-07-07T08:11:30.802662Z",
     "shell.execute_reply": "2023-07-07T08:11:30.801324Z"
    },
    "papermill": {
     "duration": 0.422285,
     "end_time": "2023-07-07T08:11:30.805330",
     "exception": false,
     "start_time": "2023-07-07T08:11:30.383045",
     "status": "completed"
    },
    "tags": [],
    "trusted": false
   },
   "outputs": [
    {
     "name": "stdout",
     "output_type": "stream",
     "text": [
      "case_id: :geowac_rf\n",
      "==================================\n",
      "train: 1.0\n",
      "test: 0.7422222222222222\n",
      "================================== \n",
      "\n"
     ]
    }
   ],
   "source": [
    "evaluate_embedding(X_tr,X_te,'geowac_rf',model_drf)"
   ]
  },
  {
   "cell_type": "code",
   "execution_count": 38,
   "id": "947fd136",
   "metadata": {
    "execution": {
     "iopub.execute_input": "2023-07-07T08:11:30.840951Z",
     "iopub.status.busy": "2023-07-07T08:11:30.840595Z",
     "iopub.status.idle": "2023-07-07T08:11:58.871109Z",
     "shell.execute_reply": "2023-07-07T08:11:58.869675Z"
    },
    "papermill": {
     "duration": 28.051609,
     "end_time": "2023-07-07T08:11:58.873594",
     "exception": false,
     "start_time": "2023-07-07T08:11:30.821985",
     "status": "completed"
    },
    "tags": [],
    "trusted": false
   },
   "outputs": [
    {
     "name": "stdout",
     "output_type": "stream",
     "text": [
      "case_id: :geowac_cat\n",
      "==================================\n",
      "train: 1.0\n",
      "test: 0.8044444444444444\n",
      "================================== \n",
      "\n"
     ]
    }
   ],
   "source": [
    "evaluate_embedding(X_tr,X_te,'geowac_cat',model_ocb)"
   ]
  },
  {
   "cell_type": "markdown",
   "id": "680701a4",
   "metadata": {
    "papermill": {
     "duration": 0.016254,
     "end_time": "2023-07-07T08:11:58.906769",
     "exception": false,
     "start_time": "2023-07-07T08:11:58.890515",
     "status": "completed"
    },
    "tags": []
   },
   "source": [
    "### Варианты Моделей (c TF-IDF весами)\n",
    "\n",
    "- Модели **с TF-IDF весами** для эмбеддингов\n",
    "- Точность с весами не улучшилась"
   ]
  },
  {
   "cell_type": "code",
   "execution_count": 39,
   "id": "5a613881",
   "metadata": {
    "execution": {
     "iopub.execute_input": "2023-07-07T08:11:58.941940Z",
     "iopub.status.busy": "2023-07-07T08:11:58.940937Z",
     "iopub.status.idle": "2023-07-07T08:11:59.356095Z",
     "shell.execute_reply": "2023-07-07T08:11:59.354834Z"
    },
    "papermill": {
     "duration": 0.434665,
     "end_time": "2023-07-07T08:11:59.357979",
     "exception": false,
     "start_time": "2023-07-07T08:11:58.923314",
     "status": "completed"
    },
    "tags": [],
    "trusted": false
   },
   "outputs": [
    {
     "name": "stdout",
     "output_type": "stream",
     "text": [
      "case_id: :geowac_rf_tfidf_weights\n",
      "==================================\n",
      "train: 1.0\n",
      "test: 0.6977777777777778\n",
      "================================== \n",
      "\n"
     ]
    }
   ],
   "source": [
    "evaluate_embedding(Xw_tr,Xw_te,'geowac_rf_tfidf_weights',model_drf)"
   ]
  },
  {
   "cell_type": "code",
   "execution_count": 40,
   "id": "268ab9a7",
   "metadata": {
    "execution": {
     "iopub.execute_input": "2023-07-07T08:11:59.392097Z",
     "iopub.status.busy": "2023-07-07T08:11:59.391741Z",
     "iopub.status.idle": "2023-07-07T08:12:27.604819Z",
     "shell.execute_reply": "2023-07-07T08:12:27.603131Z"
    },
    "papermill": {
     "duration": 28.232759,
     "end_time": "2023-07-07T08:12:27.607302",
     "exception": false,
     "start_time": "2023-07-07T08:11:59.374543",
     "status": "completed"
    },
    "tags": [],
    "trusted": false
   },
   "outputs": [
    {
     "name": "stdout",
     "output_type": "stream",
     "text": [
      "case_id: :geowac_cat_tfidf_weights\n",
      "==================================\n",
      "train: 1.0\n",
      "test: 0.7555555555555555\n",
      "================================== \n",
      "\n"
     ]
    }
   ],
   "source": [
    "evaluate_embedding(Xw_tr,Xw_te,'geowac_cat_tfidf_weights',model_ocb)"
   ]
  },
  {
   "cell_type": "markdown",
   "id": "7ce93a27",
   "metadata": {
    "papermill": {
     "duration": 0.015946,
     "end_time": "2023-07-07T08:12:27.640346",
     "exception": false,
     "start_time": "2023-07-07T08:12:27.624400",
     "status": "completed"
    },
    "tags": []
   },
   "source": [
    "- Для более низкого пространства задачи, мы видим что градиентный бустнинг работаел немного лучше чем случайный лес\n",
    "- TF-IDF веса не помогли улучшить ансамлевые модели\n",
    "- Интересно что модель CatBoost показала тот ту же самую точность как и случайный лес и Part I; возможно что сами данные являются источником неточности (проведем анализ результат в разделе 10)"
   ]
  },
  {
   "cell_type": "markdown",
   "id": "924e5afa",
   "metadata": {
    "papermill": {
     "duration": 0.0178,
     "end_time": "2023-07-07T08:12:27.674499",
     "exception": false,
     "start_time": "2023-07-07T08:12:27.656699",
     "status": "completed"
    },
    "tags": []
   },
   "source": [
    "## <b><span style='color:#686dec'>PART II - эмбеддинг GridSearchCV</span></b>\n",
    "\n",
    "### GridSearchCV (без TF-IDF весов)\n",
    "\n",
    "- Воспользуемся той же функции что и раньше для того чтобы оптимизировать гиперпараметры модели\n",
    "- Будем использовать случайны лес, и найдем наилучшие гиперпараметры используя кросс-валидацию <code>GridSearchCV</code>"
   ]
  },
  {
   "cell_type": "code",
   "execution_count": 41,
   "id": "69558018",
   "metadata": {
    "execution": {
     "iopub.execute_input": "2023-07-07T08:12:27.709891Z",
     "iopub.status.busy": "2023-07-07T08:12:27.709200Z",
     "iopub.status.idle": "2023-07-07T08:15:17.437222Z",
     "shell.execute_reply": "2023-07-07T08:15:17.435494Z"
    },
    "papermill": {
     "duration": 169.763469,
     "end_time": "2023-07-07T08:15:17.454379",
     "exception": false,
     "start_time": "2023-07-07T08:12:27.690910",
     "status": "completed"
    },
    "tags": [],
    "trusted": false
   },
   "outputs": [
    {
     "name": "stdout",
     "output_type": "stream",
     "text": [
      "case_id: :geowac_rf_cv\n",
      "==================================\n",
      "Best hyperparameters are: {'criterion': 'entropy', 'max_depth': 10, 'min_samples_leaf': 1, 'min_samples_split': 4, 'n_estimators': 100}\n",
      "Best score is: 0.7725752508361204\n",
      "================================== \n",
      "\n",
      "CPU times: user 3.12 s, sys: 252 ms, total: 3.37 s\n",
      "Wall time: 2min 49s\n"
     ]
    }
   ],
   "source": [
    "%%time\n",
    "\n",
    "model_drf = RandomForestClassifier(random_state=32)\n",
    "evaluate_cv(np.array(X_tr),'geowac_rf_cv',model_drf)"
   ]
  },
  {
   "cell_type": "code",
   "execution_count": 42,
   "id": "766c8937",
   "metadata": {
    "execution": {
     "iopub.execute_input": "2023-07-07T08:15:17.488075Z",
     "iopub.status.busy": "2023-07-07T08:15:17.487756Z",
     "iopub.status.idle": "2023-07-07T08:15:17.493345Z",
     "shell.execute_reply": "2023-07-07T08:15:17.491854Z"
    },
    "papermill": {
     "duration": 0.024967,
     "end_time": "2023-07-07T08:15:17.495526",
     "exception": false,
     "start_time": "2023-07-07T08:15:17.470559",
     "status": "completed"
    },
    "tags": [],
    "trusted": false
   },
   "outputs": [],
   "source": [
    "best_model_rf = RandomForestClassifier(**{'criterion': 'entropy', \n",
    "                                       'max_depth': 10, \n",
    "                                       'min_samples_leaf': 1, \n",
    "                                       'min_samples_split': 4, \n",
    "                                       'n_estimators': 100,\n",
    "                                       'random_state':32})"
   ]
  },
  {
   "cell_type": "code",
   "execution_count": 43,
   "id": "c2cc1384",
   "metadata": {
    "execution": {
     "iopub.execute_input": "2023-07-07T08:15:17.529835Z",
     "iopub.status.busy": "2023-07-07T08:15:17.529534Z",
     "iopub.status.idle": "2023-07-07T08:15:18.651982Z",
     "shell.execute_reply": "2023-07-07T08:15:18.650805Z"
    },
    "papermill": {
     "duration": 1.141883,
     "end_time": "2023-07-07T08:15:18.653845",
     "exception": false,
     "start_time": "2023-07-07T08:15:17.511962",
     "status": "completed"
    },
    "tags": [],
    "trusted": false
   },
   "outputs": [
    {
     "name": "stdout",
     "output_type": "stream",
     "text": [
      "case_id: :geowac_rf_tfidf_weights\n",
      "==================================\n",
      "train: 1.0\n",
      "test: 0.7822222222222223\n",
      "================================== \n",
      "\n"
     ]
    }
   ],
   "source": [
    "evaluate_embedding(X_tr,X_te,'geowac_rf_tfidf_weights',best_model_rf)"
   ]
  },
  {
   "cell_type": "markdown",
   "id": "af412204",
   "metadata": {
    "papermill": {
     "duration": 0.015956,
     "end_time": "2023-07-07T08:15:18.686250",
     "exception": false,
     "start_time": "2023-07-07T08:15:18.670294",
     "status": "completed"
    },
    "tags": []
   },
   "source": [
    "### GridSearchCV (c TF-IDF весами)\n",
    "\n",
    "- Повторяем оптимизацию гиперпараметров для эмбеддингов с весами TF-IDF\n",
    "- Умножив веса из TF-IDF на эмбеддинги не улучшило модель"
   ]
  },
  {
   "cell_type": "code",
   "execution_count": 44,
   "id": "499d35ed",
   "metadata": {
    "execution": {
     "iopub.execute_input": "2023-07-07T08:15:18.720215Z",
     "iopub.status.busy": "2023-07-07T08:15:18.719829Z",
     "iopub.status.idle": "2023-07-07T08:18:08.261275Z",
     "shell.execute_reply": "2023-07-07T08:18:08.260363Z"
    },
    "papermill": {
     "duration": 169.577411,
     "end_time": "2023-07-07T08:18:08.279772",
     "exception": false,
     "start_time": "2023-07-07T08:15:18.702361",
     "status": "completed"
    },
    "tags": [],
    "trusted": false
   },
   "outputs": [
    {
     "name": "stdout",
     "output_type": "stream",
     "text": [
      "case_id: :geowac_rf_cv_tfidf_weights\n",
      "==================================\n",
      "Best hyperparameters are: {'criterion': 'gini', 'max_depth': 10, 'min_samples_leaf': 2, 'min_samples_split': 2, 'n_estimators': 80}\n",
      "Best score is: 0.7647714604236343\n",
      "================================== \n",
      "\n",
      "CPU times: user 2.64 s, sys: 287 ms, total: 2.93 s\n",
      "Wall time: 2min 49s\n"
     ]
    }
   ],
   "source": [
    "%%time\n",
    "\n",
    "model_drf = RandomForestClassifier(random_state=32)\n",
    "evaluate_cv(np.array(Xw_tr),'geowac_rf_cv_tfidf_weights',model_drf)"
   ]
  },
  {
   "cell_type": "markdown",
   "id": "fe744a5a",
   "metadata": {
    "papermill": {
     "duration": 0.01605,
     "end_time": "2023-07-07T08:18:08.312334",
     "exception": false,
     "start_time": "2023-07-07T08:18:08.296284",
     "status": "completed"
    },
    "tags": []
   },
   "source": [
    "## <b><span style='color:#686dec'>Анализ результата</span></b>\n",
    "\n",
    "### Анализ результатов\n",
    "\n",
    "- По итогам построении моделей возникает некий вопрос, почему наши модели ограничиваются точностью в районе 80%\n",
    "- Причин могут быть несколько, давайте сосредоточимся на самих данных и попытаемся понять почему точность модели стагнирует\n",
    "- Вполне вероятно что проблема в самих данных и в постановке задачи бинарной классификации"
   ]
  },
  {
   "cell_type": "code",
   "execution_count": 45,
   "id": "6d0407b8",
   "metadata": {
    "execution": {
     "iopub.execute_input": "2023-07-07T08:18:08.346721Z",
     "iopub.status.busy": "2023-07-07T08:18:08.346413Z",
     "iopub.status.idle": "2023-07-07T08:18:08.352730Z",
     "shell.execute_reply": "2023-07-07T08:18:08.351107Z"
    },
    "papermill": {
     "duration": 0.026263,
     "end_time": "2023-07-07T08:18:08.354813",
     "exception": false,
     "start_time": "2023-07-07T08:18:08.328550",
     "status": "completed"
    },
    "tags": [],
    "trusted": false
   },
   "outputs": [],
   "source": [
    "# tts evaluation function & return model results \n",
    "\n",
    "def evaluate_tfidf(X,vect,name,model):\n",
    "\n",
    "    print(f'case_id: :{name}')\n",
    "    print('==================================')\n",
    "    \n",
    "    # train model\n",
    "    model.fit(X,target_tr)\n",
    "    y_model_tr = model.predict(X)\n",
    "    print(f'train: {accuracy_score(target_tr,y_model_tr)}')\n",
    "    \n",
    "    X = vect.transform(corpus_te)\n",
    "    y_model_te = model.predict(X)\n",
    "    print(f'test: {accuracy_score(y_model_te,target_te)}')\n",
    "    \n",
    "    return pd.Series(y_model_tr),pd.Series(y_model_te)\n",
    "    \n",
    "    print('==================================','\\n')"
   ]
  },
  {
   "cell_type": "markdown",
   "id": "1dbb97a4",
   "metadata": {},
   "source": [
    "Вернемся к TF-IDF подходу:"
   ]
  },
  {
   "cell_type": "code",
   "execution_count": 46,
   "id": "26fbf320",
   "metadata": {
    "execution": {
     "iopub.execute_input": "2023-07-07T08:18:08.389243Z",
     "iopub.status.busy": "2023-07-07T08:18:08.388925Z",
     "iopub.status.idle": "2023-07-07T08:18:08.974008Z",
     "shell.execute_reply": "2023-07-07T08:18:08.972132Z"
    },
    "papermill": {
     "duration": 0.605095,
     "end_time": "2023-07-07T08:18:08.976326",
     "exception": false,
     "start_time": "2023-07-07T08:18:08.371231",
     "status": "completed"
    },
    "tags": [],
    "trusted": false
   },
   "outputs": [
    {
     "name": "stdout",
     "output_type": "stream",
     "text": [
      "case_id: :v5_rf_best\n",
      "==================================\n",
      "train: 0.9821627647714605\n",
      "test: 0.8133333333333334\n"
     ]
    }
   ],
   "source": [
    "ym_train,ym_test = evaluate_tfidf(X5,v5_vectoriser,'v5_rf_best',best_model)"
   ]
  },
  {
   "cell_type": "code",
   "execution_count": 47,
   "id": "7cb4efe9",
   "metadata": {
    "execution": {
     "iopub.execute_input": "2023-07-07T08:18:09.012525Z",
     "iopub.status.busy": "2023-07-07T08:18:09.012193Z",
     "iopub.status.idle": "2023-07-07T08:18:09.019454Z",
     "shell.execute_reply": "2023-07-07T08:18:09.018383Z"
    },
    "papermill": {
     "duration": 0.028337,
     "end_time": "2023-07-07T08:18:09.021935",
     "exception": false,
     "start_time": "2023-07-07T08:18:08.993598",
     "status": "completed"
    },
    "tags": [],
    "trusted": false
   },
   "outputs": [],
   "source": [
    "X_train = X_train.reset_index()\n",
    "X_test = X_test.reset_index()\n",
    "X_train['ypred'] = ym_train\n",
    "X_test['ypred'] = ym_test"
   ]
  },
  {
   "cell_type": "markdown",
   "id": "2f5e5b9e",
   "metadata": {},
   "source": [
    "Найдем по распределению рейтинга правленные и не правленные предсказание модели"
   ]
  },
  {
   "cell_type": "code",
   "execution_count": 48,
   "id": "03ec16aa",
   "metadata": {
    "execution": {
     "iopub.execute_input": "2023-07-07T08:18:09.058092Z",
     "iopub.status.busy": "2023-07-07T08:18:09.057616Z",
     "iopub.status.idle": "2023-07-07T08:18:09.066209Z",
     "shell.execute_reply": "2023-07-07T08:18:09.064374Z"
    },
    "papermill": {
     "duration": 0.029162,
     "end_time": "2023-07-07T08:18:09.068701",
     "exception": false,
     "start_time": "2023-07-07T08:18:09.039539",
     "status": "completed"
    },
    "tags": [],
    "trusted": false
   },
   "outputs": [],
   "source": [
    "X_test['correct'] = (X_test['conclusion'] == X_test['ypred'])"
   ]
  },
  {
   "cell_type": "markdown",
   "id": "82e07f1a",
   "metadata": {
    "papermill": {
     "duration": 0.017072,
     "end_time": "2023-07-07T08:18:09.102929",
     "exception": false,
     "start_time": "2023-07-07T08:18:09.085857",
     "status": "completed"
    },
    "tags": []
   },
   "source": [
    "- Можно отметить что модель часто ошибается когда клиенты ставят **рейтинг 3** (из 1-5)\n",
    "- Средняя оценка вполне может обозначать что клиент достаточно нейтрален; может писать как и положительные, так и негативные комментарии в отзыве что может запутать модель; поэтому можно вполне уверено сказать что постановка задача не самая идеальная\n",
    "- Посмотрим на статистику правильных (True) и не правильно (False) предсказанных отзывов "
   ]
  },
  {
   "cell_type": "code",
   "execution_count": 49,
   "id": "d68a3c17",
   "metadata": {
    "execution": {
     "iopub.execute_input": "2023-07-07T08:18:09.138784Z",
     "iopub.status.busy": "2023-07-07T08:18:09.138454Z",
     "iopub.status.idle": "2023-07-07T08:18:09.163252Z",
     "shell.execute_reply": "2023-07-07T08:18:09.161966Z"
    },
    "papermill": {
     "duration": 0.044931,
     "end_time": "2023-07-07T08:18:09.165257",
     "exception": false,
     "start_time": "2023-07-07T08:18:09.120326",
     "status": "completed"
    },
    "tags": [],
    "trusted": false
   },
   "outputs": [
    {
     "data": {
      "text/html": [
       "<div>\n",
       "<style scoped>\n",
       "    .dataframe tbody tr th:only-of-type {\n",
       "        vertical-align: middle;\n",
       "    }\n",
       "\n",
       "    .dataframe tbody tr th {\n",
       "        vertical-align: top;\n",
       "    }\n",
       "\n",
       "    .dataframe thead tr th {\n",
       "        text-align: left;\n",
       "    }\n",
       "</style>\n",
       "<table border=\"1\" class=\"dataframe\">\n",
       "  <thead>\n",
       "    <tr>\n",
       "      <th>correct</th>\n",
       "      <th colspan=\"5\" halign=\"left\">False</th>\n",
       "      <th colspan=\"5\" halign=\"left\">True</th>\n",
       "    </tr>\n",
       "    <tr>\n",
       "      <th>rating</th>\n",
       "      <th>1</th>\n",
       "      <th>2</th>\n",
       "      <th>3</th>\n",
       "      <th>4</th>\n",
       "      <th>5</th>\n",
       "      <th>1</th>\n",
       "      <th>2</th>\n",
       "      <th>3</th>\n",
       "      <th>4</th>\n",
       "      <th>5</th>\n",
       "    </tr>\n",
       "  </thead>\n",
       "  <tbody>\n",
       "    <tr>\n",
       "      <th>index</th>\n",
       "      <td>10</td>\n",
       "      <td>6</td>\n",
       "      <td>12</td>\n",
       "      <td>4</td>\n",
       "      <td>10</td>\n",
       "      <td>73</td>\n",
       "      <td>17</td>\n",
       "      <td>15</td>\n",
       "      <td>13</td>\n",
       "      <td>65</td>\n",
       "    </tr>\n",
       "  </tbody>\n",
       "</table>\n",
       "</div>"
      ],
      "text/plain": [
       "correct False               True                 \n",
       "rating      1  2   3  4   5     1   2   3   4   5\n",
       "index      10  6  12  4  10    73  17  15  13  65"
      ]
     },
     "execution_count": 49,
     "metadata": {},
     "output_type": "execute_result"
    }
   ],
   "source": [
    "X_test.groupby(by=['correct','rating']).count()[['index']].T"
   ]
  },
  {
   "cell_type": "markdown",
   "id": "985a662b",
   "metadata": {
    "papermill": {
     "duration": 0.01653,
     "end_time": "2023-07-07T08:18:09.198777",
     "exception": false,
     "start_time": "2023-07-07T08:18:09.182247",
     "status": "completed"
    },
    "tags": []
   },
   "source": [
    "- Как и ожидалось, клиент пишет отзыв достаточно сбалансированно и информативно, учитывает положительные так и негативный опыт\n",
    "- Разница между тональностью нейтрального и явно негативно настроенного отзыва достаточно очевидна\n",
    "- Для будущего, рекомендуется разделить метку на еще одну категорию (что-то нейтральное) "
   ]
  },
  {
   "cell_type": "code",
   "execution_count": 50,
   "id": "bdeab1df",
   "metadata": {
    "execution": {
     "iopub.execute_input": "2023-07-07T08:18:09.234155Z",
     "iopub.status.busy": "2023-07-07T08:18:09.233807Z",
     "iopub.status.idle": "2023-07-07T08:18:09.243907Z",
     "shell.execute_reply": "2023-07-07T08:18:09.243010Z"
    },
    "papermill": {
     "duration": 0.02995,
     "end_time": "2023-07-07T08:18:09.245586",
     "exception": false,
     "start_time": "2023-07-07T08:18:09.215636",
     "status": "completed"
    },
    "tags": [],
    "trusted": false
   },
   "outputs": [
    {
     "data": {
      "text/plain": [
       "'Верю всему о чем написано в отзывах, но не со всем могу согласиться. У Сбербанка полно огрехов, недоработок, сбоев, как и у многих других банков. Никто силком в банк не загоняет, нам самим проще не идти против течения и не отстаивать свои права, сказали оформить социальное пособие или зарплату, или пенсию через Сбербанк, мы и оформляем, думаем что он надежнее, или не хочется идти в бухгалтерию права качать. Я точно также столкнулась с проблемой при оформлении своей социальной карты. Когда заказывала карту отказалась от услуги платного мобильного банка, но просила включить услугу бесплатного смс информирования при пользовании Online банком, для получения ключей входа и проводимых операциях в интернет банке. Это две разные услуги, одна платная, другая нет, но это я сейчас так складно излагаю, а когда предъявляла претензии банку, талдычила про мобильный банк вместо услуги бесплатного смс информирования при пользовании интернет банком. Короче они мне про Фому, а я им про Ярему. Теперь про интернет банк, пользуюсь уже два года, до этого пользовалось картой и интернет банком \"промсвязьбанка\" есть с чем сравнить, сначала напрягало большое количество страниц с повторяющимися реквизитами при оплате ЖКХ, причем первый раз нужно создать шаблон, затем его подтвердить и только потом произвести оплату. Здесь они накрутили будь здоров, в \"промсвязьбанке\" эта операция выглядит как заполнение обычной квитанции, никаких вопросов и проблем. Что понравилось у Сбербанка - это платить налоги за квартиру, дачу и т.д., по номеру извещения сразу высвечивается ваша квитанция, оплачиваете одним кликом. В \"промсвязьбанке\" например нужно заполнять все поля самостоятельно, пока заполнишь-состаришься. Также легко в Сбербанке оплатить домашний телефон, не надо ждать квитанции на оплату, набираешь номер телефона и сумма долга на экране. Когда более или менее освоишься и создашь шаблоны, проблем не возникает. Картой Сбербанка пользуюсь при оплате продуктов или товаров в любом магазине , где карты принимают к оплате уже два года. Сразу как появилась услуга \"Спасибо от Сбербанка\", подключилась и потихонечку копятся небольшие денежки, уже расплачивалась ими при покупке мелочевки в интернет магазинах, пустячок, а приятно. Если у вас в семье две карты Сбербанка, легко перебросить деньги с одной карты на другую бесплатно. Вы обращали внимания на огромные очереди в Сбербанках, причем эти очереди состоят не из одних старушек, не умеющих пользоваться интернетом, там полно и молодежи. Спрашивается, почему не провести необходимые платежи дома без очереди, сидя за компьютером с чашкой кофе. Почему молодые люди не могут обучить своих родителей элементарным навыкам работы в интернете, а заставляют стоять в очередях? Та же картина и в магазинах, единицы расплачиваются карточками. Жизнь не стоит на месте, а с каждым годом темп жизни увеличивается и надо стараться идти в ногу, иначе очереди будут только расти. Многих неприятностей можно было бы избежать, если бы наши люди внимательно читали тексты договоров, тарифов обслуживания, а проще инструкции по пользованию банком, картой и т.д. и т.п. И еще не забываете, что в банках работают не инопланетяне, а наши с вами знакомые, друзья, родственники и как научили их работать, так они и работают. Кому интересно, мой отзыв о банке \"Хоум Кредит\" по ссылке.'"
      ]
     },
     "execution_count": 50,
     "metadata": {},
     "output_type": "execute_result"
    }
   ],
   "source": [
    "# нейтральный отзыв \n",
    "X_test[(X_test['correct'] == False) & (X_test['rating'] == 3)]['review_cleaned'].reset_index(drop=True).iloc[2]"
   ]
  },
  {
   "cell_type": "code",
   "execution_count": 51,
   "id": "6576fc58",
   "metadata": {
    "execution": {
     "iopub.execute_input": "2023-07-07T08:18:09.282022Z",
     "iopub.status.busy": "2023-07-07T08:18:09.281675Z",
     "iopub.status.idle": "2023-07-07T08:18:09.289143Z",
     "shell.execute_reply": "2023-07-07T08:18:09.288310Z"
    },
    "papermill": {
     "duration": 0.027853,
     "end_time": "2023-07-07T08:18:09.290868",
     "exception": false,
     "start_time": "2023-07-07T08:18:09.263015",
     "status": "completed"
    },
    "tags": [],
    "trusted": false
   },
   "outputs": [
    {
     "data": {
      "text/plain": [
       "'Наглость \"Сбербанка\" не знает границ! Снятие денежных средств без уведомления клиента, блокировка банковских карт без каких-либо на то причин и самое интересное, что причину блокировки карты нельзя узнать по телефону горячей линии, обязательно нужно посетить офис банка! Отвратительное обслуживание! Больше нет никакого доверия к Сбербанку, боишься хранить свои денежные средства на банковской карте, т.к. в один прекрасный момент их могут списать за какие-либо услуги, не уведомив клиента, либо уведомить только после списания и без вашего согласия. Могут заблокировать карту к примеру после пополнения баланса телефона, который кстати привязан к мобильному банку! В общем творят что хотят, больше вероятности сохранить свои деньги в какой-нибудь шарашкиной конторе, чем в \"государственной организации\" такой как Сбербанк!'"
      ]
     },
     "execution_count": 51,
     "metadata": {},
     "output_type": "execute_result"
    }
   ],
   "source": [
    "# негативных отзыв\n",
    "X_test[(X_test['correct'] == True) & (X_test['rating'] == 1)]['review_cleaned'].reset_index(drop=True).iloc[2]"
   ]
  }
 ],
 "metadata": {
  "kernelspec": {
   "display_name": "Python 3",
   "language": "python",
   "name": "python3"
  },
  "language_info": {
   "codemirror_mode": {
    "name": "ipython",
    "version": 3
   },
   "file_extension": ".py",
   "mimetype": "text/x-python",
   "name": "python",
   "nbconvert_exporter": "python",
   "pygments_lexer": "ipython3",
   "version": "3.10.4"
  },
  "papermill": {
   "default_parameters": {},
   "duration": 656.643255,
   "end_time": "2023-07-07T08:18:11.930180",
   "environment_variables": {},
   "exception": null,
   "input_path": "__notebook__.ipynb",
   "output_path": "__notebook__.ipynb",
   "parameters": {},
   "start_time": "2023-07-07T08:07:15.286925",
   "version": "2.4.0"
  }
 },
 "nbformat": 4,
 "nbformat_minor": 5
}
