{
 "cells": [
  {
   "metadata": {
    "_cell_guid": "b1076dfc-b9ad-4769-8c92-a6c4dae69d19",
    "_uuid": "8f2839f25d086af736a60e9eeb907d3b93b6e0e5",
    "execution": {
     "iopub.execute_input": "2025-01-17T16:02:28.958128Z",
     "iopub.status.busy": "2025-01-17T16:02:28.957705Z",
     "iopub.status.idle": "2025-01-17T16:02:39.835642Z",
     "shell.execute_reply": "2025-01-17T16:02:39.834315Z"
    },
    "papermill": {
     "duration": 10.893104,
     "end_time": "2025-01-17T16:02:39.838585",
     "exception": false,
     "start_time": "2025-01-17T16:02:28.945481",
     "status": "completed"
    },
    "tags": [],
    "trusted": false
   },
   "id": "f9f5b6a0",
   "cell_type": "code",
   "source": "!pip install implicit -qqq\n!pip install catboost -qqq",
   "execution_count": 1,
   "outputs": [
    {
     "name": "stdout",
     "output_type": "stream",
     "text": "\u001b[2K   \u001b[90m━━━━━━━━━━━━━━━━━━━━━━━━━━━━━━━━━━━━━━━━\u001b[0m \u001b[32m8.9/8.9 MB\u001b[0m \u001b[31m66.1 MB/s\u001b[0m eta \u001b[36m0:00:00\u001b[0m\r\n\u001b[?25h"
    }
   ]
  },
  {
   "metadata": {
    "execution": {
     "iopub.execute_input": "2025-01-17T16:02:39.860587Z",
     "iopub.status.busy": "2025-01-17T16:02:39.860261Z",
     "iopub.status.idle": "2025-01-17T16:02:43.670479Z",
     "shell.execute_reply": "2025-01-17T16:02:43.669324Z"
    },
    "papermill": {
     "duration": 3.822725,
     "end_time": "2025-01-17T16:02:43.672566",
     "exception": false,
     "start_time": "2025-01-17T16:02:39.849841",
     "status": "completed"
    },
    "tags": [],
    "trusted": false
   },
   "id": "e747a53f",
   "cell_type": "code",
   "source": "import datetime\nimport numpy as np\nimport pandas as pd\nfrom tqdm.auto import tqdm\nimport matplotlib.pyplot as plt\nimport seaborn as sns\nfrom sklearn.utils import shuffle\nfrom sklearn.model_selection import train_test_split\nfrom sklearn.metrics import roc_auc_score\nimport scipy.sparse as sparse\nfrom catboost import CatBoostClassifier\nimport implicit\nfrom implicit.bpr import BayesianPersonalizedRanking as BPR\nimport warnings; warnings.filterwarnings('ignore')",
   "execution_count": 2,
   "outputs": []
  },
  {
   "metadata": {
    "execution": {
     "iopub.execute_input": "2025-01-17T16:02:43.693994Z",
     "iopub.status.busy": "2025-01-17T16:02:43.693413Z",
     "iopub.status.idle": "2025-01-17T16:02:43.701948Z",
     "shell.execute_reply": "2025-01-17T16:02:43.701042Z"
    },
    "papermill": {
     "duration": 0.021514,
     "end_time": "2025-01-17T16:02:43.704058",
     "exception": false,
     "start_time": "2025-01-17T16:02:43.682544",
     "status": "completed"
    },
    "tags": [],
    "trusted": false
   },
   "id": "7e9da089",
   "cell_type": "code",
   "source": "def recall(df: pd.DataFrame, pred_col='preds', true_col='item_id', k=30) -> float:\n    recall_values = []\n    for _, row in df.iterrows():\n      num_relevant = len(set(row[true_col]) & set(row[pred_col][:k]))\n      num_true = len(row[true_col])\n      recall_values.append(num_relevant / num_true)\n    return np.mean(recall_values)\n\ndef precision(df: pd.DataFrame, pred_col='preds', true_col='item_id', k=30) -> float:\n    precision_values = []\n    for _, row in df.iterrows():\n      num_relevant = len(set(row[true_col]) & set(row[pred_col][:k]))\n      num_true = min(k, len(row[true_col]))\n      precision_values.append(num_relevant / num_true)\n    return np.mean(precision_values)\n\ndef mrr(df: pd.DataFrame, pred_col='preds', true_col='item_id', k=30) -> float:\n    mrr_values = []\n    for _, row in df.iterrows():\n      intersection = set(row[true_col]) & set(row[pred_col][:k])\n      user_mrr = 0\n      if len(intersection) > 0:\n          for item in intersection:\n              user_mrr = max(user_mrr, 1 / (row[pred_col].index(item) + 1))\n      mrr_values.append(user_mrr)\n    return np.mean(mrr_values)",
   "execution_count": 3,
   "outputs": []
  },
  {
   "metadata": {
    "execution": {
     "iopub.execute_input": "2025-01-17T16:02:43.724677Z",
     "iopub.status.busy": "2025-01-17T16:02:43.724292Z",
     "iopub.status.idle": "2025-01-17T16:02:43.736398Z",
     "shell.execute_reply": "2025-01-17T16:02:43.735325Z"
    },
    "papermill": {
     "duration": 0.024528,
     "end_time": "2025-01-17T16:02:43.738169",
     "exception": false,
     "start_time": "2025-01-17T16:02:43.713641",
     "status": "completed"
    },
    "tags": [],
    "trusted": false
   },
   "id": "1b89dab8",
   "cell_type": "code",
   "source": "import os; os.listdir('/kaggle/input/kion-dataset/')",
   "execution_count": 4,
   "outputs": [
    {
     "data": {
      "text/plain": "['items.csv', 'users.csv', 'interactions.csv']"
     },
     "execution_count": 4,
     "metadata": {},
     "output_type": "execute_result"
    }
   ]
  },
  {
   "metadata": {
    "papermill": {
     "duration": 0.009365,
     "end_time": "2025-01-17T16:02:43.757875",
     "exception": false,
     "start_time": "2025-01-17T16:02:43.748510",
     "status": "completed"
    },
    "tags": []
   },
   "id": "73f7fe35",
   "cell_type": "markdown",
   "source": "## <div style=\"padding: 20px;color:white;margin:10;font-size:60%;text-align:left;display:fill;border-radius:10px;background-color:#FFFFFF;overflow:hidden;background-color:#232834\"><b>1 <span style='color:#686dec'>❙</span></b> <b> Background</b></div>\n\nIn this notebook we will be doing the following:\n- Split time interaction data into 3 \"global parts\" (train,val,test). We treat `train` and `val` as subsets for which we have recommendations. And `test` is used for making the user recommendations. The existing interactions are only used as reference to understand how well the models perform together\n- Train **1st stage** BRP model to generate candidates (ranked features) to be used in `val` & `test` classifier model\n- Train **2nd stage** classifier based on positive and negative samples (from `candidate` and `val` missing combination) with their item **ranking** in order of candidate priority from 1st stage model prediction\n- The **2nd stage model** is trained on a **train subset of users**, validated on the **validation subset of users** and then we check how well it performs on the unseen subset of user data, all within the `val` global subset\n- Once we have both models, we create recommendations on the `test` global set (last 7 days)\n- Using the **first stage model**, we create candidates like on `val`, but this time we group them with `test` and define the new rank order, and we evaluate the metrics\n- Lastly we use the **2nd stage model**, trained on validation set `val` to get probability of positive class (`ctb_pred`) using the previous step data, and sort based on this new order `rank_ctb` and reevaluate the new metrics"
  },
  {
   "metadata": {
    "papermill": {
     "duration": 0.0091,
     "end_time": "2025-01-17T16:02:43.776320",
     "exception": false,
     "start_time": "2025-01-17T16:02:43.767220",
     "status": "completed"
    },
    "tags": []
   },
   "id": "7f33dc40",
   "cell_type": "markdown",
   "source": "## <div style=\"padding: 20px;color:white;margin:10;font-size:60%;text-align:left;display:fill;border-radius:10px;background-color:#FFFFFF;overflow:hidden;background-color:#232834\"><b>2 <span style='color:#686dec'>❙</span></b> <b> Read Dataset : Film interactions</b></div>\n\nKION Movie/Serial Dataset:\n- `interactions` contain user/item interaction information\n- `users` contains information about the user (user_id)\n- `items` contains information about the item (item_id)\n\nThe dataset contains quite the typical recommendation contents of user/item interaction data, some information about the user and item (which in this dataset are movies/serials)\n\nLets start off by reading the datasets and exploring them later"
  },
  {
   "metadata": {
    "execution": {
     "iopub.execute_input": "2025-01-17T16:02:43.797352Z",
     "iopub.status.busy": "2025-01-17T16:02:43.797020Z",
     "iopub.status.idle": "2025-01-17T16:02:52.365708Z",
     "shell.execute_reply": "2025-01-17T16:02:52.364657Z"
    },
    "papermill": {
     "duration": 8.58196,
     "end_time": "2025-01-17T16:02:52.367968",
     "exception": false,
     "start_time": "2025-01-17T16:02:43.786008",
     "status": "completed"
    },
    "tags": [],
    "trusted": false
   },
   "id": "21b8ffb9",
   "cell_type": "code",
   "source": "interactions = pd.read_csv(\"/kaggle/input/kion-dataset/interactions.csv\")\nitems = pd.read_csv(\"/kaggle/input/kion-dataset/items.csv\")\nusers = pd.read_csv(\"/kaggle/input/kion-dataset/users.csv\")",
   "execution_count": 5,
   "outputs": []
  },
  {
   "metadata": {
    "execution": {
     "iopub.execute_input": "2025-01-17T16:02:52.390557Z",
     "iopub.status.busy": "2025-01-17T16:02:52.390193Z",
     "iopub.status.idle": "2025-01-17T16:03:05.127008Z",
     "shell.execute_reply": "2025-01-17T16:03:05.125531Z"
    },
    "papermill": {
     "duration": 12.750573,
     "end_time": "2025-01-17T16:03:05.129020",
     "exception": false,
     "start_time": "2025-01-17T16:02:52.378447",
     "status": "completed"
    },
    "tags": [],
    "trusted": false
   },
   "id": "55b367fa",
   "cell_type": "code",
   "source": "# convert the column [last_watch_dt] into datetime\ninteractions['last_watch_dt'] = pd.to_datetime(interactions['last_watch_dt']).map(lambda x: x.date())\n\nprint(f\"Уникальных юзеров в interactions: {interactions['user_id'].nunique()}\")\nprint(f\"Уникальных айтемов в interactions: {interactions['item_id'].nunique()}\")",
   "execution_count": 6,
   "outputs": [
    {
     "name": "stdout",
     "output_type": "stream",
     "text": "Уникальных юзеров в interactions: 962179\nУникальных айтемов в interactions: 15706\n"
    }
   ]
  },
  {
   "metadata": {
    "papermill": {
     "duration": 0.00943,
     "end_time": "2025-01-17T16:03:05.148506",
     "exception": false,
     "start_time": "2025-01-17T16:03:05.139076",
     "status": "completed"
    },
    "tags": []
   },
   "id": "d4a82034",
   "cell_type": "markdown",
   "source": "### <b><span style='color:#686dec'>User/Item Interactions </span></b>\n\nStandard user/item interaction features:\n- `user_id` : users\n- `item_id` : film/serial \n- `last_watch_dt` : The last watched data of movie/serial\n- `total_dur` : Watched duration (implicit interaction)\n- `watched_pct` : Watched percentage (implicit interaction)\n\nWe have a dataset which contains implicit user/item interactions. We'll be using `watched_pct` as our interaction column."
  },
  {
   "metadata": {
    "execution": {
     "iopub.execute_input": "2025-01-17T16:03:05.169504Z",
     "iopub.status.busy": "2025-01-17T16:03:05.169092Z",
     "iopub.status.idle": "2025-01-17T16:03:05.186516Z",
     "shell.execute_reply": "2025-01-17T16:03:05.185290Z"
    },
    "papermill": {
     "duration": 0.029975,
     "end_time": "2025-01-17T16:03:05.188502",
     "exception": false,
     "start_time": "2025-01-17T16:03:05.158527",
     "status": "completed"
    },
    "tags": [],
    "trusted": false
   },
   "id": "018493fa",
   "cell_type": "code",
   "source": "interactions.head()",
   "execution_count": 7,
   "outputs": [
    {
     "data": {
      "text/html": "<div>\n<style scoped>\n    .dataframe tbody tr th:only-of-type {\n        vertical-align: middle;\n    }\n\n    .dataframe tbody tr th {\n        vertical-align: top;\n    }\n\n    .dataframe thead th {\n        text-align: right;\n    }\n</style>\n<table border=\"1\" class=\"dataframe\">\n  <thead>\n    <tr style=\"text-align: right;\">\n      <th></th>\n      <th>user_id</th>\n      <th>item_id</th>\n      <th>last_watch_dt</th>\n      <th>total_dur</th>\n      <th>watched_pct</th>\n    </tr>\n  </thead>\n  <tbody>\n    <tr>\n      <th>0</th>\n      <td>176549</td>\n      <td>9506</td>\n      <td>2021-05-11</td>\n      <td>4250</td>\n      <td>72.0</td>\n    </tr>\n    <tr>\n      <th>1</th>\n      <td>699317</td>\n      <td>1659</td>\n      <td>2021-05-29</td>\n      <td>8317</td>\n      <td>100.0</td>\n    </tr>\n    <tr>\n      <th>2</th>\n      <td>656683</td>\n      <td>7107</td>\n      <td>2021-05-09</td>\n      <td>10</td>\n      <td>0.0</td>\n    </tr>\n    <tr>\n      <th>3</th>\n      <td>864613</td>\n      <td>7638</td>\n      <td>2021-07-05</td>\n      <td>14483</td>\n      <td>100.0</td>\n    </tr>\n    <tr>\n      <th>4</th>\n      <td>964868</td>\n      <td>9506</td>\n      <td>2021-04-30</td>\n      <td>6725</td>\n      <td>100.0</td>\n    </tr>\n  </tbody>\n</table>\n</div>",
      "text/plain": "   user_id  item_id last_watch_dt  total_dur  watched_pct\n0   176549     9506    2021-05-11       4250         72.0\n1   699317     1659    2021-05-29       8317        100.0\n2   656683     7107    2021-05-09         10          0.0\n3   864613     7638    2021-07-05      14483        100.0\n4   964868     9506    2021-04-30       6725        100.0"
     },
     "execution_count": 7,
     "metadata": {},
     "output_type": "execute_result"
    }
   ]
  },
  {
   "metadata": {
    "papermill": {
     "duration": 0.009782,
     "end_time": "2025-01-17T16:03:05.208561",
     "exception": false,
     "start_time": "2025-01-17T16:03:05.198779",
     "status": "completed"
    },
    "tags": []
   },
   "id": "7a24bfb9",
   "cell_type": "markdown",
   "source": "### <b><span style='color:#686dec'>Item Information\n</span></b>\n\nInformation about the movies/serials `item_id` \n\n- `content_type` - Type of item\n- `title` - Title of item\n- `title_orig` - Original title name \n- `release_year` - Date of release\n- `countries` - Countries\n- `for_kids` - For kids \n- `age_rating`- Age rating\n- `studios` - film studio\n- `directors` - Directors\n- `actors`- Actors\n- `keywords` - Keywords\n- `description` - Description"
  },
  {
   "metadata": {
    "execution": {
     "iopub.execute_input": "2025-01-17T16:03:05.231509Z",
     "iopub.status.busy": "2025-01-17T16:03:05.231073Z",
     "iopub.status.idle": "2025-01-17T16:03:05.241656Z",
     "shell.execute_reply": "2025-01-17T16:03:05.240532Z"
    },
    "papermill": {
     "duration": 0.024114,
     "end_time": "2025-01-17T16:03:05.243255",
     "exception": false,
     "start_time": "2025-01-17T16:03:05.219141",
     "status": "completed"
    },
    "tags": [],
    "trusted": false
   },
   "id": "82586b1e",
   "cell_type": "code",
   "source": "users.head(2)",
   "execution_count": 8,
   "outputs": [
    {
     "data": {
      "text/html": "<div>\n<style scoped>\n    .dataframe tbody tr th:only-of-type {\n        vertical-align: middle;\n    }\n\n    .dataframe tbody tr th {\n        vertical-align: top;\n    }\n\n    .dataframe thead th {\n        text-align: right;\n    }\n</style>\n<table border=\"1\" class=\"dataframe\">\n  <thead>\n    <tr style=\"text-align: right;\">\n      <th></th>\n      <th>user_id</th>\n      <th>age</th>\n      <th>income</th>\n      <th>sex</th>\n      <th>kids_flg</th>\n    </tr>\n  </thead>\n  <tbody>\n    <tr>\n      <th>0</th>\n      <td>973171</td>\n      <td>age_25_34</td>\n      <td>income_60_90</td>\n      <td>М</td>\n      <td>1</td>\n    </tr>\n    <tr>\n      <th>1</th>\n      <td>962099</td>\n      <td>age_18_24</td>\n      <td>income_20_40</td>\n      <td>М</td>\n      <td>0</td>\n    </tr>\n  </tbody>\n</table>\n</div>",
      "text/plain": "   user_id        age        income sex  kids_flg\n0   973171  age_25_34  income_60_90   М         1\n1   962099  age_18_24  income_20_40   М         0"
     },
     "execution_count": 8,
     "metadata": {},
     "output_type": "execute_result"
    }
   ]
  },
  {
   "metadata": {
    "papermill": {
     "duration": 0.009568,
     "end_time": "2025-01-17T16:03:05.263286",
     "exception": false,
     "start_time": "2025-01-17T16:03:05.253718",
     "status": "completed"
    },
    "tags": []
   },
   "id": "44520139",
   "cell_type": "markdown",
   "source": "\n### <b><span style='color:#686dec'>User Features</span></b>\n\nFeatures that tell us about the `user_id` \n\n- `age` : Age group \n- `income` : User income \n- `sex` : User gender\n- `kids_flg` : Kid flag identifier\n"
  },
  {
   "metadata": {
    "execution": {
     "iopub.execute_input": "2025-01-17T16:03:05.284544Z",
     "iopub.status.busy": "2025-01-17T16:03:05.284112Z",
     "iopub.status.idle": "2025-01-17T16:03:05.299661Z",
     "shell.execute_reply": "2025-01-17T16:03:05.298591Z"
    },
    "papermill": {
     "duration": 0.028364,
     "end_time": "2025-01-17T16:03:05.301492",
     "exception": false,
     "start_time": "2025-01-17T16:03:05.273128",
     "status": "completed"
    },
    "tags": [],
    "trusted": false
   },
   "id": "8f751795",
   "cell_type": "code",
   "source": "items.head(2)",
   "execution_count": 9,
   "outputs": [
    {
     "data": {
      "text/html": "<div>\n<style scoped>\n    .dataframe tbody tr th:only-of-type {\n        vertical-align: middle;\n    }\n\n    .dataframe tbody tr th {\n        vertical-align: top;\n    }\n\n    .dataframe thead th {\n        text-align: right;\n    }\n</style>\n<table border=\"1\" class=\"dataframe\">\n  <thead>\n    <tr style=\"text-align: right;\">\n      <th></th>\n      <th>item_id</th>\n      <th>content_type</th>\n      <th>title</th>\n      <th>title_orig</th>\n      <th>release_year</th>\n      <th>genres</th>\n      <th>countries</th>\n      <th>for_kids</th>\n      <th>age_rating</th>\n      <th>studios</th>\n      <th>directors</th>\n      <th>actors</th>\n      <th>description</th>\n      <th>keywords</th>\n    </tr>\n  </thead>\n  <tbody>\n    <tr>\n      <th>0</th>\n      <td>10711</td>\n      <td>film</td>\n      <td>Поговори с ней</td>\n      <td>Hable con ella</td>\n      <td>2002.0</td>\n      <td>драмы, зарубежные, детективы, мелодрамы</td>\n      <td>Испания</td>\n      <td>NaN</td>\n      <td>16.0</td>\n      <td>NaN</td>\n      <td>Педро Альмодовар</td>\n      <td>Адольфо Фернандес, Ана Фернандес, Дарио Гранди...</td>\n      <td>Мелодрама легендарного Педро Альмодовара «Пого...</td>\n      <td>Поговори, ней, 2002, Испания, друзья, любовь, ...</td>\n    </tr>\n    <tr>\n      <th>1</th>\n      <td>2508</td>\n      <td>film</td>\n      <td>Голые перцы</td>\n      <td>Search Party</td>\n      <td>2014.0</td>\n      <td>зарубежные, приключения, комедии</td>\n      <td>США</td>\n      <td>NaN</td>\n      <td>16.0</td>\n      <td>NaN</td>\n      <td>Скот Армстронг</td>\n      <td>Адам Палли, Брайан Хаски, Дж.Б. Смув, Джейсон ...</td>\n      <td>Уморительная современная комедия на популярную...</td>\n      <td>Голые, перцы, 2014, США, друзья, свадьбы, прео...</td>\n    </tr>\n  </tbody>\n</table>\n</div>",
      "text/plain": "   item_id content_type           title      title_orig  release_year  \\\n0    10711         film  Поговори с ней  Hable con ella        2002.0   \n1     2508         film     Голые перцы    Search Party        2014.0   \n\n                                    genres countries  for_kids  age_rating  \\\n0  драмы, зарубежные, детективы, мелодрамы   Испания       NaN        16.0   \n1         зарубежные, приключения, комедии       США       NaN        16.0   \n\n  studios         directors  \\\n0     NaN  Педро Альмодовар   \n1     NaN    Скот Армстронг   \n\n                                              actors  \\\n0  Адольфо Фернандес, Ана Фернандес, Дарио Гранди...   \n1  Адам Палли, Брайан Хаски, Дж.Б. Смув, Джейсон ...   \n\n                                         description  \\\n0  Мелодрама легендарного Педро Альмодовара «Пого...   \n1  Уморительная современная комедия на популярную...   \n\n                                            keywords  \n0  Поговори, ней, 2002, Испания, друзья, любовь, ...  \n1  Голые, перцы, 2014, США, друзья, свадьбы, прео...  "
     },
     "execution_count": 9,
     "metadata": {},
     "output_type": "execute_result"
    }
   ]
  },
  {
   "metadata": {
    "papermill": {
     "duration": 0.010351,
     "end_time": "2025-01-17T16:03:05.322584",
     "exception": false,
     "start_time": "2025-01-17T16:03:05.312233",
     "status": "completed"
    },
    "tags": []
   },
   "id": "44ac0a36",
   "cell_type": "markdown",
   "source": "## <div style=\"padding: 20px;color:white;margin:10;font-size:60%;text-align:left;display:fill;border-radius:10px;background-color:#FFFFFF;overflow:hidden;background-color:#232834\"><b>3 <span style='color:#686dec'>❙</span></b> <b> Preprocessing Dataset</b></div>\n\n**Preprocessing stages:**\n\n- We should probably do some form of preprocessing in order for the model to have sufficient data to extract relations in data when training\n\n- Filter from [interactions] views with less than 300 second views\n- Filter [users] (user_id) who have less than 10 film views\n- Filter out [movies] (item_id) which have less than 10 film views\n\n### <b><span style='color:#686dec'>1) Filter accidental views</span></b>\n\nInteraction dataset contains column `total_dur`, which tells us how many seconds the user has watched the `item_id`. Lets filter out items which were for whatever reason started and not watched further, setting the threshold to 300 seconds"
  },
  {
   "metadata": {
    "execution": {
     "iopub.execute_input": "2025-01-17T16:03:05.344577Z",
     "iopub.status.busy": "2025-01-17T16:03:05.344212Z",
     "iopub.status.idle": "2025-01-17T16:03:05.549307Z",
     "shell.execute_reply": "2025-01-17T16:03:05.548156Z"
    },
    "papermill": {
     "duration": 0.218525,
     "end_time": "2025-01-17T16:03:05.551391",
     "exception": false,
     "start_time": "2025-01-17T16:03:05.332866",
     "status": "completed"
    },
    "tags": [],
    "trusted": false
   },
   "id": "53c3ca7e",
   "cell_type": "code",
   "source": "interactions = interactions[interactions['total_dur'] >= 300]",
   "execution_count": 10,
   "outputs": []
  },
  {
   "metadata": {
    "papermill": {
     "duration": 0.009952,
     "end_time": "2025-01-17T16:03:05.571954",
     "exception": false,
     "start_time": "2025-01-17T16:03:05.562002",
     "status": "completed"
    },
    "tags": []
   },
   "id": "02cdf636",
   "cell_type": "markdown",
   "source": "### <b><span style='color:#686dec'>2) User Filtration</span></b>"
  },
  {
   "metadata": {
    "execution": {
     "iopub.execute_input": "2025-01-17T16:03:05.594501Z",
     "iopub.status.busy": "2025-01-17T16:03:05.594137Z",
     "iopub.status.idle": "2025-01-17T16:03:07.999007Z",
     "shell.execute_reply": "2025-01-17T16:03:07.997858Z"
    },
    "papermill": {
     "duration": 2.419088,
     "end_time": "2025-01-17T16:03:08.001388",
     "exception": false,
     "start_time": "2025-01-17T16:03:05.582300",
     "status": "completed"
    },
    "tags": [],
    "trusted": false
   },
   "id": "b0b776f4",
   "cell_type": "code",
   "source": "user_interactions_count = interactions.groupby('user_id')[['item_id']].count().reset_index()\nfiltered_users = user_interactions_count[user_interactions_count['item_id'] >= 10][['user_id']]\ninteractions = filtered_users.merge(interactions, how='left')",
   "execution_count": 11,
   "outputs": []
  },
  {
   "metadata": {
    "papermill": {
     "duration": 0.010486,
     "end_time": "2025-01-17T16:03:08.025319",
     "exception": false,
     "start_time": "2025-01-17T16:03:08.014833",
     "status": "completed"
    },
    "tags": []
   },
   "id": "914636f4",
   "cell_type": "markdown",
   "source": "### <b><span style='color:#686dec'>3) Film Filtration</span></b>"
  },
  {
   "metadata": {
    "execution": {
     "iopub.execute_input": "2025-01-17T16:03:08.047583Z",
     "iopub.status.busy": "2025-01-17T16:03:08.047188Z",
     "iopub.status.idle": "2025-01-17T16:03:09.491524Z",
     "shell.execute_reply": "2025-01-17T16:03:09.490298Z"
    },
    "papermill": {
     "duration": 1.457611,
     "end_time": "2025-01-17T16:03:09.493611",
     "exception": false,
     "start_time": "2025-01-17T16:03:08.036000",
     "status": "completed"
    },
    "tags": [],
    "trusted": false
   },
   "id": "c59b218b",
   "cell_type": "code",
   "source": "item_interactions_count = interactions.groupby('item_id')[['user_id']].count().reset_index()\nfiltered_items = item_interactions_count[item_interactions_count['user_id'] >= 10][['item_id']]\ninteractions = filtered_items.merge(interactions, how='left')",
   "execution_count": 12,
   "outputs": []
  },
  {
   "metadata": {
    "papermill": {
     "duration": 0.010606,
     "end_time": "2025-01-17T16:03:09.515159",
     "exception": false,
     "start_time": "2025-01-17T16:03:09.504553",
     "status": "completed"
    },
    "tags": []
   },
   "id": "16999a0c",
   "cell_type": "markdown",
   "source": "## <div style=\"padding: 20px;color:white;margin:10;font-size:60%;text-align:left;display:fill;border-radius:10px;background-color:#FFFFFF;overflow:hidden;background-color:#232834\"><b>4 <span style='color:#686dec'>❙</span></b> <b> Create subsets</b></div>\n\n### <b><span style='color:#686dec'>Timeseries splitting</span></b>\n\n- We will be splitting the interactions dataset into different parts, based on the datetime columns `last_watch_dt`, which is the only time related column in the dataset\n- Different parts of the interactions datasaet will be used for different purposes in the two stage process\n- In this notebook, we assume that the global training and validation sets are those that we have, beyond this data we want to make predictions, but since we also have this data, well monitor the recommendation metrics"
  },
  {
   "metadata": {
    "execution": {
     "iopub.execute_input": "2025-01-17T16:03:09.539441Z",
     "iopub.status.busy": "2025-01-17T16:03:09.539061Z",
     "iopub.status.idle": "2025-01-17T16:03:10.715929Z",
     "shell.execute_reply": "2025-01-17T16:03:10.714902Z"
    },
    "papermill": {
     "duration": 1.190563,
     "end_time": "2025-01-17T16:03:10.717692",
     "exception": false,
     "start_time": "2025-01-17T16:03:09.527129",
     "status": "completed"
    },
    "tags": [],
    "trusted": false
   },
   "id": "983dd747",
   "cell_type": "code",
   "source": "max_date = interactions['last_watch_dt'].max()\nmin_date = interactions['last_watch_dt'].min()\n\nprint(f\"min дата в interactions: {min_date}\")\nprint(f\"max дата в interactions: {max_date}\")",
   "execution_count": 13,
   "outputs": [
    {
     "name": "stdout",
     "output_type": "stream",
     "text": "min дата в interactions: 2021-03-13\nmax дата в interactions: 2021-08-22\n"
    }
   ]
  },
  {
   "metadata": {
    "papermill": {
     "duration": 0.010587,
     "end_time": "2025-01-17T16:03:10.739920",
     "exception": false,
     "start_time": "2025-01-17T16:03:10.729333",
     "status": "completed"
    },
    "tags": []
   },
   "id": "817e64de",
   "cell_type": "markdown",
   "source": "Split information:\n\n- **`[test]`** : Contains the last **7 days** of interactions \n- **`[train_val]`** : **train & validation** dataset \n- **`[train_val]`** \n    - **`[train]`** **up to last 60 days** of interactions (to test start date)\n    - **`[val]`** **last 60 days** of interactions (to test start date)\n"
  },
  {
   "metadata": {
    "execution": {
     "iopub.execute_input": "2025-01-17T16:03:10.762199Z",
     "iopub.status.busy": "2025-01-17T16:03:10.761849Z",
     "iopub.status.idle": "2025-01-17T16:03:12.677845Z",
     "shell.execute_reply": "2025-01-17T16:03:12.676977Z"
    },
    "papermill": {
     "duration": 1.929255,
     "end_time": "2025-01-17T16:03:12.679663",
     "exception": false,
     "start_time": "2025-01-17T16:03:10.750408",
     "status": "completed"
    },
    "tags": [],
    "trusted": false
   },
   "id": "4a9c1f2a",
   "cell_type": "code",
   "source": "# global test dataset starting time (7 days)\ntest_threshold = max_date - pd.Timedelta(days=7)\n\n# validation dataset starting time (2 months)\nval_threshold = test_threshold - pd.Timedelta(days=60) \n\ntest = interactions[(interactions['last_watch_dt'] >= test_threshold)]\ntrain_val = interactions[(interactions['last_watch_dt'] < test_threshold)]\nval = train_val[(train_val['last_watch_dt'] >= val_threshold)]\ntrain = train_val[(train_val['last_watch_dt'] < val_threshold)]\n\nprint(f\"train: {train.shape}\")\nprint(f\"val: {val.shape}\")\nprint(f\"test: {test.shape}\")",
   "execution_count": 14,
   "outputs": [
    {
     "name": "stdout",
     "output_type": "stream",
     "text": "train: (881660, 5)\nval: (1246263, 5)\ntest: (172593, 5)\n"
    }
   ]
  },
  {
   "metadata": {
    "papermill": {
     "duration": 0.01034,
     "end_time": "2025-01-17T16:03:12.700878",
     "exception": false,
     "start_time": "2025-01-17T16:03:12.690538",
     "status": "completed"
    },
    "tags": []
   },
   "id": "5e513b59",
   "cell_type": "markdown",
   "source": "## <div style=\"padding: 20px;color:white;margin:10;font-size:60%;text-align:left;display:fill;border-radius:10px;background-color:#FFFFFF;overflow:hidden;background-color:#232834\"><b>5 <span style='color:#686dec'>❙</span></b> <b> Item candidate selection</b></div>\n\n**Model 1 purpose**:\n\n- The purpose of the first stage model is to generate item candidates for the second stage model\n- The BPR based model from library implicit will be used, which uses a loss function suitable for sorting.\n- The model outputs will be ranked based on their recommendation order\n\nThe end product of this section will be:\n- `positive samples` : correctly identified `item_id` between the model output (trained on `train`) and the `val` global subset. A limit of `30 candidates (k=30)` is set\n- `negative samples` : joining the prediction & `val`, those which don't have any `watched_pct` data, ie. no interaction is found in `interactions`\n- `rank` in the order that the model had predicted; this will be one of the features in the 2nd stage model"
  },
  {
   "metadata": {
    "execution": {
     "iopub.execute_input": "2025-01-17T16:03:12.723610Z",
     "iopub.status.busy": "2025-01-17T16:03:12.723283Z",
     "iopub.status.idle": "2025-01-17T16:03:34.044520Z",
     "shell.execute_reply": "2025-01-17T16:03:34.043264Z"
    },
    "papermill": {
     "duration": 21.335446,
     "end_time": "2025-01-17T16:03:34.046939",
     "exception": false,
     "start_time": "2025-01-17T16:03:12.711493",
     "status": "completed"
    },
    "tags": [],
    "trusted": false
   },
   "id": "951ef818",
   "cell_type": "code",
   "source": "# train model on [train]\nusers_id = list(np.sort(train.user_id.unique()))\nitems_train = list(train.item_id.unique())\nratings_train = list(train.watched_pct)\n\nrows_train = train.user_id.astype('category').cat.codes\ncols_train = train.item_id.astype('category').cat.codes\n\n# create rating matrix (watched percentage [watched_pct])\ntrain_sparse = sparse.csr_matrix((ratings_train, (rows_train, cols_train)), \n                                 shape=(len(users_id), len(items_train)))\n\nalgo = BPR(factors=50, \n            regularization=0.01, \n            iterations=50, \n            use_gpu=False)\nalgo.fit((train_sparse).astype('double'))\n\n# Output [1] from first model; \n# user and item factorisation matrices\nuser_vecs = algo.user_factors\nitem_vecs = algo.item_factors\n\n\n# BPR implicit prediction \ndef predict(user_vecs, item_vecs, k=10):\n    \n    \"\"\"\n    \n    Helper function for matrix factorisation prediction\n    \n    \"\"\"\n    \n    id2user = dict(zip(rows_train, train.user_id))\n    id2item = dict(zip(cols_train, train.item_id))\n    scores = user_vecs.dot(item_vecs.T)\n\n    ind_part = np.argpartition(scores, -k + 1)[:, -k:].copy()\n    scores_not_sorted = np.take_along_axis(scores, ind_part, axis=1)\n    ind_sorted = np.argsort(scores_not_sorted, axis=1)\n    indices = np.take_along_axis(ind_part, ind_sorted, axis=1)\n    indices = np.flip(indices, 1)\n    preds = pd.DataFrame({\n        'user_id': range(user_vecs.shape[0]),\n        'preds': indices.tolist(),\n        })\n    preds['user_id'] = preds['user_id'].map(id2user)\n    preds['preds'] = preds['preds'].map(lambda inds: [id2item[i] for i in inds])\n    return preds\n\n\nk=30\n\n# films watched in [val] dataset\nval_user_history = val.groupby('user_id')[['item_id']].agg(lambda x: list(x))\n\n# films recommended from algo (on train)\npred_bpr = predict(user_vecs, item_vecs, k)\npred_bpr = val_user_history.merge(pred_bpr, how='left', on='user_id')\npred_bpr = pred_bpr.dropna(subset=['preds'])\npred_bpr.head()",
   "execution_count": 15,
   "outputs": [
    {
     "data": {
      "application/vnd.jupyter.widget-view+json": {
       "model_id": "e0f11a5a7e2e4fe9a05e6febe8c9224b",
       "version_major": 2,
       "version_minor": 0
      },
      "text/plain": "  0%|          | 0/50 [00:00<?, ?it/s]"
     },
     "metadata": {},
     "output_type": "display_data"
    },
    {
     "data": {
      "text/html": "<div>\n<style scoped>\n    .dataframe tbody tr th:only-of-type {\n        vertical-align: middle;\n    }\n\n    .dataframe tbody tr th {\n        vertical-align: top;\n    }\n\n    .dataframe thead th {\n        text-align: right;\n    }\n</style>\n<table border=\"1\" class=\"dataframe\">\n  <thead>\n    <tr style=\"text-align: right;\">\n      <th></th>\n      <th>user_id</th>\n      <th>item_id</th>\n      <th>preds</th>\n    </tr>\n  </thead>\n  <tbody>\n    <tr>\n      <th>0</th>\n      <td>2</td>\n      <td>[242, 3628, 5819, 7106, 7921, 8482, 9164, 1077...</td>\n      <td>[3166, 9164, 12965, 12299, 11919, 8482, 4072, ...</td>\n    </tr>\n    <tr>\n      <th>2</th>\n      <td>21</td>\n      <td>[308, 3784, 4495, 5077, 6384, 7102, 7571, 8251...</td>\n      <td>[849, 1053, 11237, 826, 4382, 11661, 24, 14703...</td>\n    </tr>\n    <tr>\n      <th>3</th>\n      <td>30</td>\n      <td>[1107, 2346, 2743, 3031, 7250, 9728, 9842, 112...</td>\n      <td>[10464, 10440, 16447, 7946, 2100, 2303, 9728, ...</td>\n    </tr>\n    <tr>\n      <th>4</th>\n      <td>46</td>\n      <td>[10440]</td>\n      <td>[142, 4880, 9996, 6809, 11640, 10440, 2498, 86...</td>\n    </tr>\n    <tr>\n      <th>6</th>\n      <td>60</td>\n      <td>[1179, 1343, 1590, 3550, 6044, 6606, 8612, 972...</td>\n      <td>[4880, 13865, 4151, 1083, 7107, 1449, 7571, 11...</td>\n    </tr>\n  </tbody>\n</table>\n</div>",
      "text/plain": "   user_id                                            item_id  \\\n0        2  [242, 3628, 5819, 7106, 7921, 8482, 9164, 1077...   \n2       21  [308, 3784, 4495, 5077, 6384, 7102, 7571, 8251...   \n3       30  [1107, 2346, 2743, 3031, 7250, 9728, 9842, 112...   \n4       46                                            [10440]   \n6       60  [1179, 1343, 1590, 3550, 6044, 6606, 8612, 972...   \n\n                                               preds  \n0  [3166, 9164, 12965, 12299, 11919, 8482, 4072, ...  \n2  [849, 1053, 11237, 826, 4382, 11661, 24, 14703...  \n3  [10464, 10440, 16447, 7946, 2100, 2303, 9728, ...  \n4  [142, 4880, 9996, 6809, 11640, 10440, 2498, 86...  \n6  [4880, 13865, 4151, 1083, 7107, 1449, 7571, 11...  "
     },
     "execution_count": 15,
     "metadata": {},
     "output_type": "execute_result"
    }
   ]
  },
  {
   "metadata": {
    "papermill": {
     "duration": 0.010945,
     "end_time": "2025-01-17T16:03:34.069860",
     "exception": false,
     "start_time": "2025-01-17T16:03:34.058915",
     "status": "completed"
    },
    "tags": []
   },
   "id": "320ae561",
   "cell_type": "markdown",
   "source": "Check the metrics to understand how good the model recommends relevant item_id to users"
  },
  {
   "metadata": {
    "execution": {
     "iopub.execute_input": "2025-01-17T16:03:34.093999Z",
     "iopub.status.busy": "2025-01-17T16:03:34.093600Z",
     "iopub.status.idle": "2025-01-17T16:03:45.243300Z",
     "shell.execute_reply": "2025-01-17T16:03:45.242325Z"
    },
    "papermill": {
     "duration": 11.163802,
     "end_time": "2025-01-17T16:03:45.245043",
     "exception": false,
     "start_time": "2025-01-17T16:03:34.081241",
     "status": "completed"
    },
    "tags": [],
    "trusted": false
   },
   "id": "d7e70dbb",
   "cell_type": "code",
   "source": "\n# metrics for trained bpr prediction & [val] dataset overlap\nprint('recall',round(recall(pred_bpr),3))\nprint('precision',round(precision(pred_bpr),3))\nprint('mrr',round(mrr(pred_bpr),3))",
   "execution_count": 16,
   "outputs": [
    {
     "name": "stdout",
     "output_type": "stream",
     "text": "recall 0.116\nprecision 0.117\nmrr 0.132\n"
    }
   ]
  },
  {
   "metadata": {
    "papermill": {
     "duration": 0.010555,
     "end_time": "2025-01-17T16:03:45.267059",
     "exception": false,
     "start_time": "2025-01-17T16:03:45.256504",
     "status": "completed"
    },
    "tags": []
   },
   "id": "62b1e776",
   "cell_type": "markdown",
   "source": "**Prepare `CatBoost` model dataset:**\n\n- Prepare the dataset for the 2nd stage model, by exploding the `item_id` and adding the order ranking\n- Each rating is partitions for each user, starting from a value of 1"
  },
  {
   "metadata": {
    "execution": {
     "iopub.execute_input": "2025-01-17T16:03:45.290186Z",
     "iopub.status.busy": "2025-01-17T16:03:45.289796Z",
     "iopub.status.idle": "2025-01-17T16:03:45.567889Z",
     "shell.execute_reply": "2025-01-17T16:03:45.566857Z"
    },
    "papermill": {
     "duration": 0.291594,
     "end_time": "2025-01-17T16:03:45.569551",
     "exception": false,
     "start_time": "2025-01-17T16:03:45.277957",
     "status": "completed"
    },
    "tags": [],
    "trusted": false
   },
   "id": "f9904e31",
   "cell_type": "code",
   "source": "\ncandidates = pred_bpr[['user_id', 'preds']]\ncandidates = candidates.explode('preds').rename(columns={'preds': 'item_id'})\ncandidates['rank'] = candidates.groupby('user_id').cumcount() + 1\ncandidates.head()",
   "execution_count": 17,
   "outputs": [
    {
     "data": {
      "text/html": "<div>\n<style scoped>\n    .dataframe tbody tr th:only-of-type {\n        vertical-align: middle;\n    }\n\n    .dataframe tbody tr th {\n        vertical-align: top;\n    }\n\n    .dataframe thead th {\n        text-align: right;\n    }\n</style>\n<table border=\"1\" class=\"dataframe\">\n  <thead>\n    <tr style=\"text-align: right;\">\n      <th></th>\n      <th>user_id</th>\n      <th>item_id</th>\n      <th>rank</th>\n    </tr>\n  </thead>\n  <tbody>\n    <tr>\n      <th>0</th>\n      <td>2</td>\n      <td>3166</td>\n      <td>1</td>\n    </tr>\n    <tr>\n      <th>0</th>\n      <td>2</td>\n      <td>9164</td>\n      <td>2</td>\n    </tr>\n    <tr>\n      <th>0</th>\n      <td>2</td>\n      <td>12965</td>\n      <td>3</td>\n    </tr>\n    <tr>\n      <th>0</th>\n      <td>2</td>\n      <td>12299</td>\n      <td>4</td>\n    </tr>\n    <tr>\n      <th>0</th>\n      <td>2</td>\n      <td>11919</td>\n      <td>5</td>\n    </tr>\n  </tbody>\n</table>\n</div>",
      "text/plain": "   user_id item_id  rank\n0        2    3166     1\n0        2    9164     2\n0        2   12965     3\n0        2   12299     4\n0        2   11919     5"
     },
     "execution_count": 17,
     "metadata": {},
     "output_type": "execute_result"
    }
   ]
  },
  {
   "metadata": {
    "papermill": {
     "duration": 0.011205,
     "end_time": "2025-01-17T16:03:45.592422",
     "exception": false,
     "start_time": "2025-01-17T16:03:45.581217",
     "status": "completed"
    },
    "tags": []
   },
   "id": "987f0fae",
   "cell_type": "markdown",
   "source": "## <div style=\"padding: 20px;color:white;margin:10;font-size:60%;text-align:left;display:fill;border-radius:10px;background-color:#FFFFFF;overflow:hidden;background-color:#232834\"><b>6 <span style='color:#686dec'>❙</span></b> <b> Prepare dataset for 2nd stage model</b></div>\n\n\n**Prepare the `positive` data samples**:\n\n- Using an inner join between datasets `candidates` (1st model prediction) & `val` (global validation dataset)\n- Each row represents a found overlapping `user_id` / `item_id` combination that was present in the interactions dataset (`val`)"
  },
  {
   "metadata": {
    "execution": {
     "iopub.execute_input": "2025-01-17T16:03:45.616479Z",
     "iopub.status.busy": "2025-01-17T16:03:45.616110Z",
     "iopub.status.idle": "2025-01-17T16:03:46.898871Z",
     "shell.execute_reply": "2025-01-17T16:03:46.897563Z"
    },
    "papermill": {
     "duration": 1.296744,
     "end_time": "2025-01-17T16:03:46.900687",
     "exception": false,
     "start_time": "2025-01-17T16:03:45.603943",
     "status": "completed"
    },
    "tags": [],
    "trusted": false
   },
   "id": "a5da68a1",
   "cell_type": "code",
   "source": "pos = candidates.merge(val,\n                       on=['user_id', 'item_id'],\n                       how='inner')\npos['target'] = 1\nprint('number of positive samples',pos.shape)\npos.head()",
   "execution_count": 18,
   "outputs": [
    {
     "name": "stdout",
     "output_type": "stream",
     "text": "number of positive samples (64588, 7)\n"
    },
    {
     "data": {
      "text/html": "<div>\n<style scoped>\n    .dataframe tbody tr th:only-of-type {\n        vertical-align: middle;\n    }\n\n    .dataframe tbody tr th {\n        vertical-align: top;\n    }\n\n    .dataframe thead th {\n        text-align: right;\n    }\n</style>\n<table border=\"1\" class=\"dataframe\">\n  <thead>\n    <tr style=\"text-align: right;\">\n      <th></th>\n      <th>user_id</th>\n      <th>item_id</th>\n      <th>rank</th>\n      <th>last_watch_dt</th>\n      <th>total_dur</th>\n      <th>watched_pct</th>\n      <th>target</th>\n    </tr>\n  </thead>\n  <tbody>\n    <tr>\n      <th>0</th>\n      <td>2</td>\n      <td>9164</td>\n      <td>2</td>\n      <td>2021-06-23</td>\n      <td>6650</td>\n      <td>100.0</td>\n      <td>1</td>\n    </tr>\n    <tr>\n      <th>1</th>\n      <td>2</td>\n      <td>8482</td>\n      <td>6</td>\n      <td>2021-06-18</td>\n      <td>5886</td>\n      <td>100.0</td>\n      <td>1</td>\n    </tr>\n    <tr>\n      <th>2</th>\n      <td>30</td>\n      <td>9728</td>\n      <td>7</td>\n      <td>2021-06-21</td>\n      <td>8436</td>\n      <td>100.0</td>\n      <td>1</td>\n    </tr>\n    <tr>\n      <th>3</th>\n      <td>46</td>\n      <td>10440</td>\n      <td>6</td>\n      <td>2021-07-05</td>\n      <td>7449</td>\n      <td>20.0</td>\n      <td>1</td>\n    </tr>\n    <tr>\n      <th>4</th>\n      <td>60</td>\n      <td>9728</td>\n      <td>22</td>\n      <td>2021-06-23</td>\n      <td>8066</td>\n      <td>100.0</td>\n      <td>1</td>\n    </tr>\n  </tbody>\n</table>\n</div>",
      "text/plain": "   user_id item_id  rank last_watch_dt  total_dur  watched_pct  target\n0        2    9164     2    2021-06-23       6650        100.0       1\n1        2    8482     6    2021-06-18       5886        100.0       1\n2       30    9728     7    2021-06-21       8436        100.0       1\n3       46   10440     6    2021-07-05       7449         20.0       1\n4       60    9728    22    2021-06-23       8066        100.0       1"
     },
     "execution_count": 18,
     "metadata": {},
     "output_type": "execute_result"
    }
   ]
  },
  {
   "metadata": {
    "papermill": {
     "duration": 0.011541,
     "end_time": "2025-01-17T16:03:46.924504",
     "exception": false,
     "start_time": "2025-01-17T16:03:46.912963",
     "status": "completed"
    },
    "tags": []
   },
   "id": "701aee22",
   "cell_type": "markdown",
   "source": "**Prepare `negative` data samples**\n- There will be much more negative samples\n- The validation dataset is added to the predictions using left join, so we will have some negative candidates (user/item) combinations that don't exist in the `val` dataset\n- Well keep the negative to positive sample ration at roughly 2:1"
  },
  {
   "metadata": {
    "execution": {
     "iopub.execute_input": "2025-01-17T16:03:46.949699Z",
     "iopub.status.busy": "2025-01-17T16:03:46.949358Z",
     "iopub.status.idle": "2025-01-17T16:03:48.228659Z",
     "shell.execute_reply": "2025-01-17T16:03:48.227624Z"
    },
    "papermill": {
     "duration": 1.293862,
     "end_time": "2025-01-17T16:03:48.230301",
     "exception": false,
     "start_time": "2025-01-17T16:03:46.936439",
     "status": "completed"
    },
    "tags": [],
    "trusted": false
   },
   "id": "0d713a8a",
   "cell_type": "code",
   "source": "# предсказанные фильмы они не смотрели в валидационной выборке\n# defaults to left join\nneg = candidates.set_index(['user_id', 'item_id'])\\\n        .join(val.set_index(['user_id', 'item_id']))\n\nneg = neg[neg['watched_pct'].isnull()].reset_index()\nprint(neg.shape)\nneg = neg.sample(frac=0.07)\nprint(neg.shape)\nneg['target'] = 0\nneg.head()",
   "execution_count": 19,
   "outputs": [
    {
     "name": "stdout",
     "output_type": "stream",
     "text": "(1814012, 6)\n(126981, 6)\n"
    },
    {
     "data": {
      "text/html": "<div>\n<style scoped>\n    .dataframe tbody tr th:only-of-type {\n        vertical-align: middle;\n    }\n\n    .dataframe tbody tr th {\n        vertical-align: top;\n    }\n\n    .dataframe thead th {\n        text-align: right;\n    }\n</style>\n<table border=\"1\" class=\"dataframe\">\n  <thead>\n    <tr style=\"text-align: right;\">\n      <th></th>\n      <th>user_id</th>\n      <th>item_id</th>\n      <th>rank</th>\n      <th>last_watch_dt</th>\n      <th>total_dur</th>\n      <th>watched_pct</th>\n      <th>target</th>\n    </tr>\n  </thead>\n  <tbody>\n    <tr>\n      <th>130488</th>\n      <td>80687</td>\n      <td>6588</td>\n      <td>10</td>\n      <td>NaN</td>\n      <td>NaN</td>\n      <td>NaN</td>\n      <td>0</td>\n    </tr>\n    <tr>\n      <th>1450066</th>\n      <td>875976</td>\n      <td>16356</td>\n      <td>21</td>\n      <td>NaN</td>\n      <td>NaN</td>\n      <td>NaN</td>\n      <td>0</td>\n    </tr>\n    <tr>\n      <th>1135561</th>\n      <td>685640</td>\n      <td>9157</td>\n      <td>26</td>\n      <td>NaN</td>\n      <td>NaN</td>\n      <td>NaN</td>\n      <td>0</td>\n    </tr>\n    <tr>\n      <th>736980</th>\n      <td>445205</td>\n      <td>10770</td>\n      <td>14</td>\n      <td>NaN</td>\n      <td>NaN</td>\n      <td>NaN</td>\n      <td>0</td>\n    </tr>\n    <tr>\n      <th>1766269</th>\n      <td>1069796</td>\n      <td>6006</td>\n      <td>13</td>\n      <td>NaN</td>\n      <td>NaN</td>\n      <td>NaN</td>\n      <td>0</td>\n    </tr>\n  </tbody>\n</table>\n</div>",
      "text/plain": "         user_id  item_id  rank last_watch_dt  total_dur  watched_pct  target\n130488     80687     6588    10           NaN        NaN          NaN       0\n1450066   875976    16356    21           NaN        NaN          NaN       0\n1135561   685640     9157    26           NaN        NaN          NaN       0\n736980    445205    10770    14           NaN        NaN          NaN       0\n1766269  1069796     6006    13           NaN        NaN          NaN       0"
     },
     "execution_count": 19,
     "metadata": {},
     "output_type": "execute_result"
    }
   ]
  },
  {
   "metadata": {
    "papermill": {
     "duration": 0.011559,
     "end_time": "2025-01-17T16:03:48.254202",
     "exception": false,
     "start_time": "2025-01-17T16:03:48.242643",
     "status": "completed"
    },
    "tags": []
   },
   "id": "37b05e61",
   "cell_type": "markdown",
   "source": "**Split the `val` users**\n\n- Split the `val` unique users into train (`ctb_train_users`), validation (`ctb_eval_users`) and test (`ctb_test_users`) subsets, used only for creating subsets for `catboost` 2nd stage model"
  },
  {
   "metadata": {
    "execution": {
     "iopub.execute_input": "2025-01-17T16:03:48.279266Z",
     "iopub.status.busy": "2025-01-17T16:03:48.278931Z",
     "iopub.status.idle": "2025-01-17T16:03:48.333984Z",
     "shell.execute_reply": "2025-01-17T16:03:48.332763Z"
    },
    "papermill": {
     "duration": 0.069954,
     "end_time": "2025-01-17T16:03:48.335935",
     "exception": false,
     "start_time": "2025-01-17T16:03:48.265981",
     "status": "completed"
    },
    "tags": [],
    "trusted": false
   },
   "id": "edc08389",
   "cell_type": "code",
   "source": "# divide the users into 3 subgroups\n\nctb_train_users, ctb_test_users = train_test_split(val['user_id'].unique(),\n                                                  random_state=1,\n                                                  test_size=0.2)\n\nctb_train_users, ctb_eval_users = train_test_split(ctb_train_users,\n                                                  random_state=1,\n                                                  test_size=0.1)\n\nprint('number of users in ctb train',ctb_train_users)\nprint('number of users in ctb eval',ctb_eval_users)\nprint('number of users in ctb test',ctb_test_users)",
   "execution_count": 20,
   "outputs": [
    {
     "name": "stdout",
     "output_type": "stream",
     "text": "number of users in ctb train [790260 678092  74663 ... 239212 914265 167935]\nnumber of users in ctb eval [633541 825546 531429 ... 102166 686044  55175]\nnumber of users in ctb test [1069931  871670  834200 ...  178739  463296 1091209]\n"
    }
   ]
  },
  {
   "metadata": {
    "papermill": {
     "duration": 0.012554,
     "end_time": "2025-01-17T16:03:48.360800",
     "exception": false,
     "start_time": "2025-01-17T16:03:48.348246",
     "status": "completed"
    },
    "tags": []
   },
   "id": "4426a22b",
   "cell_type": "markdown",
   "source": "Define the subset groups for the user groups we just defined\n- `cbt_train` : used for training\n- `cbt_eval` : used for evaluation during training\n- `cbt_test` : used for test evaluation on unseen data"
  },
  {
   "metadata": {
    "execution": {
     "iopub.execute_input": "2025-01-17T16:03:48.386769Z",
     "iopub.status.busy": "2025-01-17T16:03:48.386398Z",
     "iopub.status.idle": "2025-01-17T16:03:48.603865Z",
     "shell.execute_reply": "2025-01-17T16:03:48.602874Z"
    },
    "papermill": {
     "duration": 0.232796,
     "end_time": "2025-01-17T16:03:48.605655",
     "exception": false,
     "start_time": "2025-01-17T16:03:48.372859",
     "status": "completed"
    },
    "tags": [],
    "trusted": false
   },
   "id": "5b2e55d8",
   "cell_type": "code",
   "source": "select_col = ['user_id', 'item_id', 'rank', 'target']\n\n# Training dataset\nctb_train = shuffle(\n    pd.concat([\n        pos[pos['user_id'].isin(ctb_train_users)],\n        neg[neg['user_id'].isin(ctb_train_users)]\n])[select_col]\n)\ndisplay(ctb_train.head())\n\n\n# Test subset (used to check metrics on unseen users)\nctb_test = shuffle(\n    pd.concat([\n        pos[pos['user_id'].isin(ctb_test_users)],\n        neg[neg['user_id'].isin(ctb_test_users)]\n])[select_col]\n)\n\n# Evaluation train subset\nctb_eval = shuffle(\n    pd.concat([\n        pos[pos['user_id'].isin(ctb_eval_users)],\n        neg[neg['user_id'].isin(ctb_eval_users)]\n])[select_col]\n)",
   "execution_count": 21,
   "outputs": [
    {
     "data": {
      "text/html": "<div>\n<style scoped>\n    .dataframe tbody tr th:only-of-type {\n        vertical-align: middle;\n    }\n\n    .dataframe tbody tr th {\n        vertical-align: top;\n    }\n\n    .dataframe thead th {\n        text-align: right;\n    }\n</style>\n<table border=\"1\" class=\"dataframe\">\n  <thead>\n    <tr style=\"text-align: right;\">\n      <th></th>\n      <th>user_id</th>\n      <th>item_id</th>\n      <th>rank</th>\n      <th>target</th>\n    </tr>\n  </thead>\n  <tbody>\n    <tr>\n      <th>1755444</th>\n      <td>1063468</td>\n      <td>2498</td>\n      <td>1</td>\n      <td>0</td>\n    </tr>\n    <tr>\n      <th>13617</th>\n      <td>232693</td>\n      <td>10440</td>\n      <td>29</td>\n      <td>1</td>\n    </tr>\n    <tr>\n      <th>682599</th>\n      <td>412208</td>\n      <td>8101</td>\n      <td>15</td>\n      <td>0</td>\n    </tr>\n    <tr>\n      <th>1008013</th>\n      <td>609311</td>\n      <td>11275</td>\n      <td>12</td>\n      <td>0</td>\n    </tr>\n    <tr>\n      <th>1588295</th>\n      <td>960986</td>\n      <td>15695</td>\n      <td>24</td>\n      <td>0</td>\n    </tr>\n  </tbody>\n</table>\n</div>",
      "text/plain": "         user_id item_id  rank  target\n1755444  1063468    2498     1       0\n13617     232693   10440    29       1\n682599    412208    8101    15       0\n1008013   609311   11275    12       0\n1588295   960986   15695    24       0"
     },
     "metadata": {},
     "output_type": "display_data"
    }
   ]
  },
  {
   "metadata": {
    "papermill": {
     "duration": 0.012628,
     "end_time": "2025-01-17T16:03:48.632619",
     "exception": false,
     "start_time": "2025-01-17T16:03:48.619991",
     "status": "completed"
    },
    "tags": []
   },
   "id": "ab9b804a",
   "cell_type": "markdown",
   "source": "Add `user_id` and `item_id` features to the train and evaluation subsets"
  },
  {
   "metadata": {
    "execution": {
     "iopub.execute_input": "2025-01-17T16:03:48.660526Z",
     "iopub.status.busy": "2025-01-17T16:03:48.660118Z",
     "iopub.status.idle": "2025-01-17T16:03:49.184123Z",
     "shell.execute_reply": "2025-01-17T16:03:49.183162Z"
    },
    "papermill": {
     "duration": 0.540875,
     "end_time": "2025-01-17T16:03:49.185877",
     "exception": false,
     "start_time": "2025-01-17T16:03:48.645002",
     "status": "completed"
    },
    "tags": [],
    "trusted": false
   },
   "id": "389ac7a5",
   "cell_type": "code",
   "source": "user_col = ['user_id', 'age', 'income', 'sex', 'kids_flg']\nitem_col = ['item_id', 'content_type', 'countries', 'for_kids', 'age_rating', 'studios']\n\n# train   \ntrain_feat = (ctb_train\n              .merge(users[user_col], on=['user_id'], how='left')\n              .merge(items[item_col], on=['item_id'], how='left'))\n\n# evaluation dataset with train for early stopping\neval_feat = (ctb_eval\n             .merge(users[user_col], on=['user_id'], how='left')\n             .merge(items[item_col], on=['item_id'], how='left'))\n\ntrain_feat.head()\n",
   "execution_count": 22,
   "outputs": [
    {
     "data": {
      "text/html": "<div>\n<style scoped>\n    .dataframe tbody tr th:only-of-type {\n        vertical-align: middle;\n    }\n\n    .dataframe tbody tr th {\n        vertical-align: top;\n    }\n\n    .dataframe thead th {\n        text-align: right;\n    }\n</style>\n<table border=\"1\" class=\"dataframe\">\n  <thead>\n    <tr style=\"text-align: right;\">\n      <th></th>\n      <th>user_id</th>\n      <th>item_id</th>\n      <th>rank</th>\n      <th>target</th>\n      <th>age</th>\n      <th>income</th>\n      <th>sex</th>\n      <th>kids_flg</th>\n      <th>content_type</th>\n      <th>countries</th>\n      <th>for_kids</th>\n      <th>age_rating</th>\n      <th>studios</th>\n    </tr>\n  </thead>\n  <tbody>\n    <tr>\n      <th>0</th>\n      <td>1063468</td>\n      <td>2498</td>\n      <td>1</td>\n      <td>0</td>\n      <td>age_45_54</td>\n      <td>income_20_40</td>\n      <td>М</td>\n      <td>0.0</td>\n      <td>film</td>\n      <td>Россия, Армения</td>\n      <td>NaN</td>\n      <td>16.0</td>\n      <td>NaN</td>\n    </tr>\n    <tr>\n      <th>1</th>\n      <td>232693</td>\n      <td>10440</td>\n      <td>29</td>\n      <td>1</td>\n      <td>age_25_34</td>\n      <td>income_40_60</td>\n      <td>Ж</td>\n      <td>0.0</td>\n      <td>series</td>\n      <td>Россия</td>\n      <td>NaN</td>\n      <td>18.0</td>\n      <td>NaN</td>\n    </tr>\n    <tr>\n      <th>2</th>\n      <td>412208</td>\n      <td>8101</td>\n      <td>15</td>\n      <td>0</td>\n      <td>age_25_34</td>\n      <td>income_20_40</td>\n      <td>Ж</td>\n      <td>0.0</td>\n      <td>series</td>\n      <td>Россия</td>\n      <td>NaN</td>\n      <td>0.0</td>\n      <td>NaN</td>\n    </tr>\n    <tr>\n      <th>3</th>\n      <td>609311</td>\n      <td>11275</td>\n      <td>12</td>\n      <td>0</td>\n      <td>age_35_44</td>\n      <td>income_20_40</td>\n      <td>М</td>\n      <td>1.0</td>\n      <td>film</td>\n      <td>Россия</td>\n      <td>NaN</td>\n      <td>16.0</td>\n      <td>NaN</td>\n    </tr>\n    <tr>\n      <th>4</th>\n      <td>960986</td>\n      <td>15695</td>\n      <td>24</td>\n      <td>0</td>\n      <td>age_35_44</td>\n      <td>income_60_90</td>\n      <td>Ж</td>\n      <td>1.0</td>\n      <td>series</td>\n      <td>США</td>\n      <td>NaN</td>\n      <td>12.0</td>\n      <td>NaN</td>\n    </tr>\n  </tbody>\n</table>\n</div>",
      "text/plain": "   user_id item_id  rank  target        age        income sex  kids_flg  \\\n0  1063468    2498     1       0  age_45_54  income_20_40   М       0.0   \n1   232693   10440    29       1  age_25_34  income_40_60   Ж       0.0   \n2   412208    8101    15       0  age_25_34  income_20_40   Ж       0.0   \n3   609311   11275    12       0  age_35_44  income_20_40   М       1.0   \n4   960986   15695    24       0  age_35_44  income_60_90   Ж       1.0   \n\n  content_type        countries  for_kids  age_rating studios  \n0         film  Россия, Армения       NaN        16.0     NaN  \n1       series           Россия       NaN        18.0     NaN  \n2       series           Россия       NaN         0.0     NaN  \n3         film           Россия       NaN        16.0     NaN  \n4       series              США       NaN        12.0     NaN  "
     },
     "execution_count": 22,
     "metadata": {},
     "output_type": "execute_result"
    }
   ]
  },
  {
   "metadata": {
    "papermill": {
     "duration": 0.01284,
     "end_time": "2025-01-17T16:03:49.211602",
     "exception": false,
     "start_time": "2025-01-17T16:03:49.198762",
     "status": "completed"
    },
    "tags": []
   },
   "id": "730ddada",
   "cell_type": "markdown",
   "source": "Split the `target` from the dataset and set the features for training and evaluation subsets"
  },
  {
   "metadata": {
    "execution": {
     "iopub.execute_input": "2025-01-17T16:03:49.238488Z",
     "iopub.status.busy": "2025-01-17T16:03:49.238151Z",
     "iopub.status.idle": "2025-01-17T16:03:49.262276Z",
     "shell.execute_reply": "2025-01-17T16:03:49.261248Z"
    },
    "papermill": {
     "duration": 0.039127,
     "end_time": "2025-01-17T16:03:49.263822",
     "exception": false,
     "start_time": "2025-01-17T16:03:49.224695",
     "status": "completed"
    },
    "tags": [],
    "trusted": false
   },
   "id": "84d0ba8e",
   "cell_type": "code",
   "source": "'''\n\nDefine column information for model \n\n- drop columns [user_id], [item_id]\n- target column: [target]\n- categorical columns: [age] [income] [sex] [content_type] [countries] [studios]\n\n'''\n\n# drop pointless columns and separate target\ndrop_col = ['user_id', 'item_id']\ntarget_col = ['target']\n\n# we will define the categorical columns in catboost\ncat_col = ['age', 'income', 'sex', 'content_type', 'countries', 'studios']\n\nX_train, y_train = train_feat.drop(drop_col + target_col, axis=1), train_feat[target_col]\nX_val, y_val = eval_feat.drop(drop_col + target_col, axis=1), eval_feat[target_col]\nX_train.shape, y_train.shape, X_val.shape, y_val.shape\nX_train.head()",
   "execution_count": 23,
   "outputs": [
    {
     "data": {
      "text/html": "<div>\n<style scoped>\n    .dataframe tbody tr th:only-of-type {\n        vertical-align: middle;\n    }\n\n    .dataframe tbody tr th {\n        vertical-align: top;\n    }\n\n    .dataframe thead th {\n        text-align: right;\n    }\n</style>\n<table border=\"1\" class=\"dataframe\">\n  <thead>\n    <tr style=\"text-align: right;\">\n      <th></th>\n      <th>rank</th>\n      <th>age</th>\n      <th>income</th>\n      <th>sex</th>\n      <th>kids_flg</th>\n      <th>content_type</th>\n      <th>countries</th>\n      <th>for_kids</th>\n      <th>age_rating</th>\n      <th>studios</th>\n    </tr>\n  </thead>\n  <tbody>\n    <tr>\n      <th>0</th>\n      <td>1</td>\n      <td>age_45_54</td>\n      <td>income_20_40</td>\n      <td>М</td>\n      <td>0.0</td>\n      <td>film</td>\n      <td>Россия, Армения</td>\n      <td>NaN</td>\n      <td>16.0</td>\n      <td>NaN</td>\n    </tr>\n    <tr>\n      <th>1</th>\n      <td>29</td>\n      <td>age_25_34</td>\n      <td>income_40_60</td>\n      <td>Ж</td>\n      <td>0.0</td>\n      <td>series</td>\n      <td>Россия</td>\n      <td>NaN</td>\n      <td>18.0</td>\n      <td>NaN</td>\n    </tr>\n    <tr>\n      <th>2</th>\n      <td>15</td>\n      <td>age_25_34</td>\n      <td>income_20_40</td>\n      <td>Ж</td>\n      <td>0.0</td>\n      <td>series</td>\n      <td>Россия</td>\n      <td>NaN</td>\n      <td>0.0</td>\n      <td>NaN</td>\n    </tr>\n    <tr>\n      <th>3</th>\n      <td>12</td>\n      <td>age_35_44</td>\n      <td>income_20_40</td>\n      <td>М</td>\n      <td>1.0</td>\n      <td>film</td>\n      <td>Россия</td>\n      <td>NaN</td>\n      <td>16.0</td>\n      <td>NaN</td>\n    </tr>\n    <tr>\n      <th>4</th>\n      <td>24</td>\n      <td>age_35_44</td>\n      <td>income_60_90</td>\n      <td>Ж</td>\n      <td>1.0</td>\n      <td>series</td>\n      <td>США</td>\n      <td>NaN</td>\n      <td>12.0</td>\n      <td>NaN</td>\n    </tr>\n  </tbody>\n</table>\n</div>",
      "text/plain": "   rank        age        income sex  kids_flg content_type        countries  \\\n0     1  age_45_54  income_20_40   М       0.0         film  Россия, Армения   \n1    29  age_25_34  income_40_60   Ж       0.0       series           Россия   \n2    15  age_25_34  income_20_40   Ж       0.0       series           Россия   \n3    12  age_35_44  income_20_40   М       1.0         film           Россия   \n4    24  age_35_44  income_60_90   Ж       1.0       series              США   \n\n   for_kids  age_rating studios  \n0       NaN        16.0     NaN  \n1       NaN        18.0     NaN  \n2       NaN         0.0     NaN  \n3       NaN        16.0     NaN  \n4       NaN        12.0     NaN  "
     },
     "execution_count": 23,
     "metadata": {},
     "output_type": "execute_result"
    }
   ]
  },
  {
   "metadata": {
    "execution": {
     "iopub.execute_input": "2025-01-17T16:03:49.290771Z",
     "iopub.status.busy": "2025-01-17T16:03:49.290417Z",
     "iopub.status.idle": "2025-01-17T16:03:49.337225Z",
     "shell.execute_reply": "2025-01-17T16:03:49.336175Z"
    },
    "papermill": {
     "duration": 0.062394,
     "end_time": "2025-01-17T16:03:49.339085",
     "exception": false,
     "start_time": "2025-01-17T16:03:49.276691",
     "status": "completed"
    },
    "tags": [],
    "trusted": false
   },
   "id": "8894bf07",
   "cell_type": "code",
   "source": "X_train.isna().sum()",
   "execution_count": 24,
   "outputs": [
    {
     "data": {
      "text/plain": "rank                 0\nage              25220\nincome           25080\nsex              25294\nkids_flg         24161\ncontent_type         0\ncountries            0\nfor_kids        134693\nage_rating           0\nstudios         137203\ndtype: int64"
     },
     "execution_count": 24,
     "metadata": {},
     "output_type": "execute_result"
    }
   ]
  },
  {
   "metadata": {
    "papermill": {
     "duration": 0.013102,
     "end_time": "2025-01-17T16:03:49.365884",
     "exception": false,
     "start_time": "2025-01-17T16:03:49.352782",
     "status": "completed"
    },
    "tags": []
   },
   "id": "a2d50d09",
   "cell_type": "markdown",
   "source": "Process missing values with the most frequent result"
  },
  {
   "metadata": {
    "execution": {
     "iopub.execute_input": "2025-01-17T16:03:49.393469Z",
     "iopub.status.busy": "2025-01-17T16:03:49.393087Z",
     "iopub.status.idle": "2025-01-17T16:03:49.600314Z",
     "shell.execute_reply": "2025-01-17T16:03:49.599411Z"
    },
    "papermill": {
     "duration": 0.223114,
     "end_time": "2025-01-17T16:03:49.602231",
     "exception": false,
     "start_time": "2025-01-17T16:03:49.379117",
     "status": "completed"
    },
    "tags": [],
    "trusted": false
   },
   "id": "f64401a4",
   "cell_type": "code",
   "source": "# fillna for catboost with the most frequent value\nX_train = X_train.fillna(X_train.mode().iloc[0])\n\n# fillna for catboost with the most frequent value\nX_val = X_val.fillna(X_train.mode().iloc[0])",
   "execution_count": 25,
   "outputs": []
  },
  {
   "metadata": {
    "papermill": {
     "duration": 0.013012,
     "end_time": "2025-01-17T16:03:49.628489",
     "exception": false,
     "start_time": "2025-01-17T16:03:49.615477",
     "status": "completed"
    },
    "tags": []
   },
   "id": "148d5a75",
   "cell_type": "markdown",
   "source": "## <div style=\"padding: 20px;color:white;margin:10;font-size:60%;text-align:left;display:fill;border-radius:10px;background-color:#FFFFFF;overflow:hidden;background-color:#232834\"><b>7 <span style='color:#686dec'>❙</span></b> <b> Training & Evaluation of metrics </b></div>\n\n**Model** setting:\n- We define some standard hyperparameters, which havent been optimised\n- Well be comparing the model performance using the `ROCAUC` metric"
  },
  {
   "metadata": {
    "execution": {
     "iopub.execute_input": "2025-01-17T16:03:49.658442Z",
     "iopub.status.busy": "2025-01-17T16:03:49.658071Z",
     "iopub.status.idle": "2025-01-17T16:06:13.417711Z",
     "shell.execute_reply": "2025-01-17T16:06:13.416655Z"
    },
    "papermill": {
     "duration": 143.777389,
     "end_time": "2025-01-17T16:06:13.419416",
     "exception": false,
     "start_time": "2025-01-17T16:03:49.642027",
     "status": "completed"
    },
    "tags": [],
    "trusted": false
   },
   "id": "c3407a3b",
   "cell_type": "code",
   "source": "'''\n\nDefine Hyperparameters for Classifier\n\n'''\n\n# model hyperparameters\nest_params = {\n  'subsample': 0.9,\n  'max_depth': 5,\n  'n_estimators': 2000,\n  'learning_rate': 0.01,\n  'thread_count': 20,\n  'random_state': 42,\n  'verbose': 200,\n}\n\nctb_model = CatBoostClassifier(**est_params)\n\nimport warnings; warnings.filterwarnings('ignore')\nctb_model.fit(X_train,\n              y_train,\n              eval_set=(X_val, y_val),\n              early_stopping_rounds=100,\n              cat_features=cat_col)",
   "execution_count": 26,
   "outputs": [
    {
     "name": "stdout",
     "output_type": "stream",
     "text": "0:\tlearn: 0.6902088\ttest: 0.6903005\tbest: 0.6903005 (0)\ttotal: 150ms\tremaining: 4m 59s\n200:\tlearn: 0.5318929\ttest: 0.5413494\tbest: 0.5413494 (200)\ttotal: 13.4s\tremaining: 1m 59s\n400:\tlearn: 0.5237664\ttest: 0.5347690\tbest: 0.5347690 (400)\ttotal: 28.2s\tremaining: 1m 52s\n600:\tlearn: 0.5206398\ttest: 0.5321545\tbest: 0.5321545 (600)\ttotal: 42.8s\tremaining: 1m 39s\n800:\tlearn: 0.5188275\ttest: 0.5307083\tbest: 0.5307083 (800)\ttotal: 57.8s\tremaining: 1m 26s\n1000:\tlearn: 0.5178101\ttest: 0.5299766\tbest: 0.5299766 (1000)\ttotal: 1m 11s\tremaining: 1m 11s\n1200:\tlearn: 0.5167082\ttest: 0.5291069\tbest: 0.5291069 (1200)\ttotal: 1m 26s\tremaining: 57.6s\n1400:\tlearn: 0.5157984\ttest: 0.5284334\tbest: 0.5284334 (1400)\ttotal: 1m 40s\tremaining: 43.1s\n1600:\tlearn: 0.5151791\ttest: 0.5280492\tbest: 0.5280479 (1598)\ttotal: 1m 54s\tremaining: 28.6s\n1800:\tlearn: 0.5147084\ttest: 0.5277376\tbest: 0.5277376 (1800)\ttotal: 2m 8s\tremaining: 14.2s\n1999:\tlearn: 0.5141424\ttest: 0.5273592\tbest: 0.5273592 (1999)\ttotal: 2m 22s\tremaining: 0us\n\nbestTest = 0.5273591755\nbestIteration = 1999\n\n"
    },
    {
     "data": {
      "text/plain": "<catboost.core.CatBoostClassifier at 0x78e1015b6980>"
     },
     "execution_count": 26,
     "metadata": {},
     "output_type": "execute_result"
    }
   ]
  },
  {
   "metadata": {
    "papermill": {
     "duration": 0.013591,
     "end_time": "2025-01-17T16:06:13.508962",
     "exception": false,
     "start_time": "2025-01-17T16:06:13.495371",
     "status": "completed"
    },
    "tags": []
   },
   "id": "44f58374",
   "cell_type": "markdown",
   "source": "Evaluation of `metrics:`\n\n- Test model on training set and evaluate the `ROCAUC` metric"
  },
  {
   "metadata": {
    "execution": {
     "iopub.execute_input": "2025-01-17T16:06:13.537623Z",
     "iopub.status.busy": "2025-01-17T16:06:13.537281Z",
     "iopub.status.idle": "2025-01-17T16:06:14.100946Z",
     "shell.execute_reply": "2025-01-17T16:06:14.099948Z"
    },
    "papermill": {
     "duration": 0.580029,
     "end_time": "2025-01-17T16:06:14.102674",
     "exception": false,
     "start_time": "2025-01-17T16:06:13.522645",
     "status": "completed"
    },
    "tags": [],
    "trusted": false
   },
   "id": "1ad8a5ed",
   "cell_type": "code",
   "source": "# prediction on train subset of users\ny_pred = ctb_model.predict_proba(X_train)\nf\"ROC AUC score = {roc_auc_score(y_train, y_pred[:, 1]):.2f}\"",
   "execution_count": 27,
   "outputs": [
    {
     "data": {
      "text/plain": "'ROC AUC score = 0.78'"
     },
     "execution_count": 27,
     "metadata": {},
     "output_type": "execute_result"
    }
   ]
  },
  {
   "metadata": {
    "papermill": {
     "duration": 0.01368,
     "end_time": "2025-01-17T16:06:14.130589",
     "exception": false,
     "start_time": "2025-01-17T16:06:14.116909",
     "status": "completed"
    },
    "tags": []
   },
   "id": "2a15788c",
   "cell_type": "markdown",
   "source": "- Test model on unseen test data and evaluate the `ROCAUC` metric"
  },
  {
   "metadata": {
    "execution": {
     "iopub.execute_input": "2025-01-17T16:06:14.159658Z",
     "iopub.status.busy": "2025-01-17T16:06:14.159303Z",
     "iopub.status.idle": "2025-01-17T16:06:14.615920Z",
     "shell.execute_reply": "2025-01-17T16:06:14.614707Z"
    },
    "papermill": {
     "duration": 0.473515,
     "end_time": "2025-01-17T16:06:14.617835",
     "exception": false,
     "start_time": "2025-01-17T16:06:14.144320",
     "status": "completed"
    },
    "tags": [],
    "trusted": false
   },
   "id": "d5ec692e",
   "cell_type": "code",
   "source": "'''\n\nPrepare Test Set\n\n'''\n\ntest_feat = (ctb_test\n             .merge(users[user_col], on=['user_id'], how='left')\n             .merge(items[item_col], on=['item_id'], how='left'))\n\n# fillna for catboost with the most frequent value\ntest_feat = test_feat.fillna(X_train.mode().iloc[0])\n\nX_test, y_test = test_feat.drop(drop_col + target_col, axis=1), test_feat['target']\n\n'''\n\nMake prediction on test set\n\n'''\n\ny_pred = ctb_model.predict_proba(X_test)\nf\"ROC AUC score = {roc_auc_score(y_test, y_pred[:, 1]):.2f}\"",
   "execution_count": 28,
   "outputs": [
    {
     "data": {
      "text/plain": "'ROC AUC score = 0.77'"
     },
     "execution_count": 28,
     "metadata": {},
     "output_type": "execute_result"
    }
   ]
  },
  {
   "metadata": {
    "papermill": {
     "duration": 0.014017,
     "end_time": "2025-01-17T16:06:14.646525",
     "exception": false,
     "start_time": "2025-01-17T16:06:14.632508",
     "status": "completed"
    },
    "tags": []
   },
   "id": "3b6f18a3",
   "cell_type": "markdown",
   "source": "## <div style=\"padding: 20px;color:white;margin:10;font-size:60%;text-align:left;display:fill;border-radius:10px;background-color:#FFFFFF;overflow:hidden;background-color:#232834\"><b>8 <span style='color:#686dec'>❙</span></b> <b> Recommendation on global test </b></div>\n\nTime to make recommendations for period after `val`\n\n- Time to return to the global `test` dataset (ie. last 7 days of interaction data)\n\n- We use the last 7 days of interactions as a way to confirm how well the models will work on unseen data\n\n<br>\n\nStarting off by grouping `item_id` for each user and storing them in a list, as before."
  },
  {
   "metadata": {
    "execution": {
     "iopub.execute_input": "2025-01-17T16:06:14.676014Z",
     "iopub.status.busy": "2025-01-17T16:06:14.675588Z",
     "iopub.status.idle": "2025-01-17T16:06:15.493790Z",
     "shell.execute_reply": "2025-01-17T16:06:15.492562Z"
    },
    "papermill": {
     "duration": 0.835123,
     "end_time": "2025-01-17T16:06:15.495768",
     "exception": false,
     "start_time": "2025-01-17T16:06:14.660645",
     "status": "completed"
    },
    "tags": [],
    "trusted": false
   },
   "id": "4965198a",
   "cell_type": "code",
   "source": "# group [item_id] for each [user_id] in test (main test)\ntest = test[test['user_id'].isin(val['user_id'].unique())] # test user_id must contain val user_id\ntest_user_history = test.groupby('user_id')[['item_id']].agg(lambda x: list(x))\ndisplay(test_user_history.head())",
   "execution_count": 29,
   "outputs": [
    {
     "data": {
      "text/html": "<div>\n<style scoped>\n    .dataframe tbody tr th:only-of-type {\n        vertical-align: middle;\n    }\n\n    .dataframe tbody tr th {\n        vertical-align: top;\n    }\n\n    .dataframe thead th {\n        text-align: right;\n    }\n</style>\n<table border=\"1\" class=\"dataframe\">\n  <thead>\n    <tr style=\"text-align: right;\">\n      <th></th>\n      <th>item_id</th>\n    </tr>\n    <tr>\n      <th>user_id</th>\n      <th></th>\n    </tr>\n  </thead>\n  <tbody>\n    <tr>\n      <th>3</th>\n      <td>[47, 965, 2025, 2722, 9438, 10240]</td>\n    </tr>\n    <tr>\n      <th>21</th>\n      <td>[13787, 14488]</td>\n    </tr>\n    <tr>\n      <th>30</th>\n      <td>[4181, 8584, 8636]</td>\n    </tr>\n    <tr>\n      <th>53</th>\n      <td>[1445, 15629, 15810, 16426]</td>\n    </tr>\n    <tr>\n      <th>98</th>\n      <td>[89, 512]</td>\n    </tr>\n  </tbody>\n</table>\n</div>",
      "text/plain": "                                    item_id\nuser_id                                    \n3        [47, 965, 2025, 2722, 9438, 10240]\n21                           [13787, 14488]\n30                       [4181, 8584, 8636]\n53              [1445, 15629, 15810, 16426]\n98                                [89, 512]"
     },
     "metadata": {},
     "output_type": "display_data"
    }
   ]
  },
  {
   "metadata": {
    "papermill": {
     "duration": 0.014063,
     "end_time": "2025-01-17T16:06:15.524527",
     "exception": false,
     "start_time": "2025-01-17T16:06:15.510464",
     "status": "completed"
    },
    "tags": []
   },
   "id": "92576dd7",
   "cell_type": "markdown",
   "source": "Now, define 100 candidates from the 1st stage model\n- Also lets evaluate the overlapping metrics so we know how well the first stage model alone performs"
  },
  {
   "metadata": {
    "execution": {
     "iopub.execute_input": "2025-01-17T16:06:15.555127Z",
     "iopub.status.busy": "2025-01-17T16:06:15.554683Z",
     "iopub.status.idle": "2025-01-17T16:06:29.945145Z",
     "shell.execute_reply": "2025-01-17T16:06:29.943870Z"
    },
    "papermill": {
     "duration": 14.407948,
     "end_time": "2025-01-17T16:06:29.947056",
     "exception": false,
     "start_time": "2025-01-17T16:06:15.539108",
     "status": "completed"
    },
    "tags": [],
    "trusted": false
   },
   "id": "b188b8c1",
   "cell_type": "code",
   "source": "# first model prediction for k=100\npred_bpr = predict(user_vecs, item_vecs, k=100)\npred_bpr = test_user_history.merge(pred_bpr, how='left', on='user_id')\npred_bpr = pred_bpr.dropna(subset=['preds'])\ndisplay(pred_bpr.head()) # overlap b/w [train] (user_vect/item_vecs) prediction and test set (item_id)\n\n# determine overlapping metrics b/w test and train\nprint('recall',round(recall(pred_bpr, k=20),3))\nprint('precision',round(precision(pred_bpr, k=20),3))\nprint('mrr',round(mrr(pred_bpr, k=20),3))",
   "execution_count": 30,
   "outputs": [
    {
     "data": {
      "text/html": "<div>\n<style scoped>\n    .dataframe tbody tr th:only-of-type {\n        vertical-align: middle;\n    }\n\n    .dataframe tbody tr th {\n        vertical-align: top;\n    }\n\n    .dataframe thead th {\n        text-align: right;\n    }\n</style>\n<table border=\"1\" class=\"dataframe\">\n  <thead>\n    <tr style=\"text-align: right;\">\n      <th></th>\n      <th>user_id</th>\n      <th>item_id</th>\n      <th>preds</th>\n    </tr>\n  </thead>\n  <tbody>\n    <tr>\n      <th>1</th>\n      <td>21</td>\n      <td>[13787, 14488]</td>\n      <td>[849, 1053, 11237, 826, 4382, 11661, 24, 14703...</td>\n    </tr>\n    <tr>\n      <th>2</th>\n      <td>30</td>\n      <td>[4181, 8584, 8636]</td>\n      <td>[10464, 10440, 16447, 7946, 2100, 2303, 9728, ...</td>\n    </tr>\n    <tr>\n      <th>4</th>\n      <td>98</td>\n      <td>[89, 512]</td>\n      <td>[15410, 9713, 14378, 14053, 12604, 11402, 1049...</td>\n    </tr>\n    <tr>\n      <th>5</th>\n      <td>106</td>\n      <td>[337, 1439, 2808, 2836, 5411, 6267, 10544, 128...</td>\n      <td>[16166, 3182, 9506, 15224, 4718, 16270, 10732,...</td>\n    </tr>\n    <tr>\n      <th>8</th>\n      <td>241</td>\n      <td>[6162, 8986, 10440, 12138]</td>\n      <td>[13915, 5894, 6588, 10083, 13935, 13913, 16166...</td>\n    </tr>\n  </tbody>\n</table>\n</div>",
      "text/plain": "   user_id                                            item_id  \\\n1       21                                     [13787, 14488]   \n2       30                                 [4181, 8584, 8636]   \n4       98                                          [89, 512]   \n5      106  [337, 1439, 2808, 2836, 5411, 6267, 10544, 128...   \n8      241                         [6162, 8986, 10440, 12138]   \n\n                                               preds  \n1  [849, 1053, 11237, 826, 4382, 11661, 24, 14703...  \n2  [10464, 10440, 16447, 7946, 2100, 2303, 9728, ...  \n4  [15410, 9713, 14378, 14053, 12604, 11402, 1049...  \n5  [16166, 3182, 9506, 15224, 4718, 16270, 10732,...  \n8  [13915, 5894, 6588, 10083, 13935, 13913, 16166...  "
     },
     "metadata": {},
     "output_type": "display_data"
    },
    {
     "name": "stdout",
     "output_type": "stream",
     "text": "recall 0.044\nprecision 0.044\nmrr 0.021\n"
    }
   ]
  },
  {
   "metadata": {
    "papermill": {
     "duration": 0.014277,
     "end_time": "2025-01-17T16:06:29.976605",
     "exception": false,
     "start_time": "2025-01-17T16:06:29.962328",
     "status": "completed"
    },
    "tags": []
   },
   "id": "dc568fa5",
   "cell_type": "markdown",
   "source": "Now lets rearrange them into two colums and define their ranking order, as before."
  },
  {
   "metadata": {
    "execution": {
     "iopub.execute_input": "2025-01-17T16:06:30.008637Z",
     "iopub.status.busy": "2025-01-17T16:06:30.008302Z",
     "iopub.status.idle": "2025-01-17T16:06:30.315164Z",
     "shell.execute_reply": "2025-01-17T16:06:30.313999Z"
    },
    "papermill": {
     "duration": 0.32509,
     "end_time": "2025-01-17T16:06:30.316936",
     "exception": false,
     "start_time": "2025-01-17T16:06:29.991846",
     "status": "completed"
    },
    "tags": [],
    "trusted": false
   },
   "id": "32864d93",
   "cell_type": "code",
   "source": "pred_bpr = pred_bpr[['user_id', 'preds']] \npred_bpr = pred_bpr.explode('preds').rename(columns={'preds': 'item_id'})\npred_bpr['rank'] = pred_bpr.groupby('user_id').cumcount() + 1 # give rank to each item_id order\npred_bpr.head()",
   "execution_count": 31,
   "outputs": [
    {
     "data": {
      "text/html": "<div>\n<style scoped>\n    .dataframe tbody tr th:only-of-type {\n        vertical-align: middle;\n    }\n\n    .dataframe tbody tr th {\n        vertical-align: top;\n    }\n\n    .dataframe thead th {\n        text-align: right;\n    }\n</style>\n<table border=\"1\" class=\"dataframe\">\n  <thead>\n    <tr style=\"text-align: right;\">\n      <th></th>\n      <th>user_id</th>\n      <th>item_id</th>\n      <th>rank</th>\n    </tr>\n  </thead>\n  <tbody>\n    <tr>\n      <th>1</th>\n      <td>21</td>\n      <td>849</td>\n      <td>1</td>\n    </tr>\n    <tr>\n      <th>1</th>\n      <td>21</td>\n      <td>1053</td>\n      <td>2</td>\n    </tr>\n    <tr>\n      <th>1</th>\n      <td>21</td>\n      <td>11237</td>\n      <td>3</td>\n    </tr>\n    <tr>\n      <th>1</th>\n      <td>21</td>\n      <td>826</td>\n      <td>4</td>\n    </tr>\n    <tr>\n      <th>1</th>\n      <td>21</td>\n      <td>4382</td>\n      <td>5</td>\n    </tr>\n  </tbody>\n</table>\n</div>",
      "text/plain": "   user_id item_id  rank\n1       21     849     1\n1       21    1053     2\n1       21   11237     3\n1       21     826     4\n1       21    4382     5"
     },
     "execution_count": 31,
     "metadata": {},
     "output_type": "execute_result"
    }
   ]
  },
  {
   "metadata": {
    "papermill": {
     "duration": 0.014373,
     "end_time": "2025-01-17T16:06:30.346456",
     "exception": false,
     "start_time": "2025-01-17T16:06:30.332083",
     "status": "completed"
    },
    "tags": []
   },
   "id": "d666255f",
   "cell_type": "markdown",
   "source": "Add `user_id` and `item_id` features to the dataset\n\nWe prepared the dataset on which we will make a prediction using our 2nd model classifier"
  },
  {
   "metadata": {
    "execution": {
     "iopub.execute_input": "2025-01-17T16:06:30.377330Z",
     "iopub.status.busy": "2025-01-17T16:06:30.376980Z",
     "iopub.status.idle": "2025-01-17T16:06:33.913615Z",
     "shell.execute_reply": "2025-01-17T16:06:33.912558Z"
    },
    "papermill": {
     "duration": 3.554528,
     "end_time": "2025-01-17T16:06:33.915569",
     "exception": false,
     "start_time": "2025-01-17T16:06:30.361041",
     "status": "completed"
    },
    "tags": [],
    "trusted": false
   },
   "id": "7ea850bd",
   "cell_type": "code",
   "source": "pred_bpr_ctb = pred_bpr.copy()\n\n# фичи для теста\nscore_feat = (pred_bpr_ctb\n              .merge(users[user_col], on=['user_id'], how='left')\n              .merge(items[item_col], on=['item_id'], how='left'))\n\n# fillna for catboost with the most frequent value\nscore_feat = score_feat.fillna(X_train.mode().iloc[0])\nscore_feat.head()\n",
   "execution_count": 32,
   "outputs": [
    {
     "data": {
      "text/html": "<div>\n<style scoped>\n    .dataframe tbody tr th:only-of-type {\n        vertical-align: middle;\n    }\n\n    .dataframe tbody tr th {\n        vertical-align: top;\n    }\n\n    .dataframe thead th {\n        text-align: right;\n    }\n</style>\n<table border=\"1\" class=\"dataframe\">\n  <thead>\n    <tr style=\"text-align: right;\">\n      <th></th>\n      <th>user_id</th>\n      <th>item_id</th>\n      <th>rank</th>\n      <th>age</th>\n      <th>income</th>\n      <th>sex</th>\n      <th>kids_flg</th>\n      <th>content_type</th>\n      <th>countries</th>\n      <th>for_kids</th>\n      <th>age_rating</th>\n      <th>studios</th>\n    </tr>\n  </thead>\n  <tbody>\n    <tr>\n      <th>0</th>\n      <td>21</td>\n      <td>849</td>\n      <td>1</td>\n      <td>age_45_54</td>\n      <td>income_20_40</td>\n      <td>Ж</td>\n      <td>0.0</td>\n      <td>film</td>\n      <td>США</td>\n      <td>0.0</td>\n      <td>18.0</td>\n      <td>BBC</td>\n    </tr>\n    <tr>\n      <th>1</th>\n      <td>21</td>\n      <td>1053</td>\n      <td>2</td>\n      <td>age_45_54</td>\n      <td>income_20_40</td>\n      <td>Ж</td>\n      <td>0.0</td>\n      <td>film</td>\n      <td>США</td>\n      <td>0.0</td>\n      <td>18.0</td>\n      <td>BBC</td>\n    </tr>\n    <tr>\n      <th>2</th>\n      <td>21</td>\n      <td>11237</td>\n      <td>3</td>\n      <td>age_45_54</td>\n      <td>income_20_40</td>\n      <td>Ж</td>\n      <td>0.0</td>\n      <td>film</td>\n      <td>Россия</td>\n      <td>0.0</td>\n      <td>16.0</td>\n      <td>BBC</td>\n    </tr>\n    <tr>\n      <th>3</th>\n      <td>21</td>\n      <td>826</td>\n      <td>4</td>\n      <td>age_45_54</td>\n      <td>income_20_40</td>\n      <td>Ж</td>\n      <td>0.0</td>\n      <td>film</td>\n      <td>Великобритания</td>\n      <td>0.0</td>\n      <td>16.0</td>\n      <td>BBC</td>\n    </tr>\n    <tr>\n      <th>4</th>\n      <td>21</td>\n      <td>4382</td>\n      <td>5</td>\n      <td>age_45_54</td>\n      <td>income_20_40</td>\n      <td>Ж</td>\n      <td>0.0</td>\n      <td>film</td>\n      <td>США</td>\n      <td>0.0</td>\n      <td>16.0</td>\n      <td>BBC</td>\n    </tr>\n  </tbody>\n</table>\n</div>",
      "text/plain": "   user_id item_id  rank        age        income sex  kids_flg content_type  \\\n0       21     849     1  age_45_54  income_20_40   Ж       0.0         film   \n1       21    1053     2  age_45_54  income_20_40   Ж       0.0         film   \n2       21   11237     3  age_45_54  income_20_40   Ж       0.0         film   \n3       21     826     4  age_45_54  income_20_40   Ж       0.0         film   \n4       21    4382     5  age_45_54  income_20_40   Ж       0.0         film   \n\n        countries  for_kids  age_rating studios  \n0             США       0.0        18.0     BBC  \n1             США       0.0        18.0     BBC  \n2          Россия       0.0        16.0     BBC  \n3  Великобритания       0.0        16.0     BBC  \n4             США       0.0        16.0     BBC  "
     },
     "execution_count": 32,
     "metadata": {},
     "output_type": "execute_result"
    }
   ]
  },
  {
   "metadata": {
    "papermill": {
     "duration": 0.014641,
     "end_time": "2025-01-17T16:06:33.945700",
     "exception": false,
     "start_time": "2025-01-17T16:06:33.931059",
     "status": "completed"
    },
    "tags": []
   },
   "id": "546e2adc",
   "cell_type": "markdown",
   "source": "Using the **2nd stage model**, we create a new sorting order **`rank_ctb`**, which should improve upon the **1 stage model** metrics"
  },
  {
   "metadata": {
    "execution": {
     "iopub.execute_input": "2025-01-17T16:06:33.976934Z",
     "iopub.status.busy": "2025-01-17T16:06:33.976560Z",
     "iopub.status.idle": "2025-01-17T16:06:42.570519Z",
     "shell.execute_reply": "2025-01-17T16:06:42.569464Z"
    },
    "papermill": {
     "duration": 8.611693,
     "end_time": "2025-01-17T16:06:42.572314",
     "exception": false,
     "start_time": "2025-01-17T16:06:33.960621",
     "status": "completed"
    },
    "tags": [],
    "trusted": false
   },
   "id": "f5dde911",
   "cell_type": "code",
   "source": "# prediction and sort by predict proba weak values\nctb_prediction = ctb_model.predict_proba(score_feat.drop(drop_col, axis=1, errors='ignore'))\n\npred_bpr_ctb['ctb_pred'] = ctb_prediction[:, 1] # prob for positive class\n\npred_bpr_ctb = pred_bpr_ctb.sort_values(\n                                        by=['user_id', 'ctb_pred'], \n                                        ascending=[True, False])\npred_bpr_ctb['rank_ctb'] = pred_bpr_ctb.groupby('user_id').cumcount() + 1\npred_bpr_ctb.head()",
   "execution_count": 33,
   "outputs": [
    {
     "data": {
      "text/html": "<div>\n<style scoped>\n    .dataframe tbody tr th:only-of-type {\n        vertical-align: middle;\n    }\n\n    .dataframe tbody tr th {\n        vertical-align: top;\n    }\n\n    .dataframe thead th {\n        text-align: right;\n    }\n</style>\n<table border=\"1\" class=\"dataframe\">\n  <thead>\n    <tr style=\"text-align: right;\">\n      <th></th>\n      <th>user_id</th>\n      <th>item_id</th>\n      <th>rank</th>\n      <th>ctb_pred</th>\n      <th>rank_ctb</th>\n    </tr>\n  </thead>\n  <tbody>\n    <tr>\n      <th>1</th>\n      <td>21</td>\n      <td>11237</td>\n      <td>3</td>\n      <td>0.509732</td>\n      <td>1</td>\n    </tr>\n    <tr>\n      <th>1</th>\n      <td>21</td>\n      <td>11661</td>\n      <td>6</td>\n      <td>0.453971</td>\n      <td>2</td>\n    </tr>\n    <tr>\n      <th>1</th>\n      <td>21</td>\n      <td>15464</td>\n      <td>13</td>\n      <td>0.420558</td>\n      <td>3</td>\n    </tr>\n    <tr>\n      <th>1</th>\n      <td>21</td>\n      <td>10824</td>\n      <td>19</td>\n      <td>0.322406</td>\n      <td>4</td>\n    </tr>\n    <tr>\n      <th>1</th>\n      <td>21</td>\n      <td>12659</td>\n      <td>12</td>\n      <td>0.302753</td>\n      <td>5</td>\n    </tr>\n  </tbody>\n</table>\n</div>",
      "text/plain": "   user_id item_id  rank  ctb_pred  rank_ctb\n1       21   11237     3  0.509732         1\n1       21   11661     6  0.453971         2\n1       21   15464    13  0.420558         3\n1       21   10824    19  0.322406         4\n1       21   12659    12  0.302753         5"
     },
     "execution_count": 33,
     "metadata": {},
     "output_type": "execute_result"
    }
   ]
  },
  {
   "metadata": {
    "execution": {
     "iopub.execute_input": "2025-01-17T16:06:42.604423Z",
     "iopub.status.busy": "2025-01-17T16:06:42.604081Z",
     "iopub.status.idle": "2025-01-17T16:06:48.719187Z",
     "shell.execute_reply": "2025-01-17T16:06:48.717953Z"
    },
    "papermill": {
     "duration": 6.13295,
     "end_time": "2025-01-17T16:06:48.720804",
     "exception": false,
     "start_time": "2025-01-17T16:06:42.587854",
     "status": "completed"
    },
    "tags": [],
    "trusted": false
   },
   "id": "e3fadeac",
   "cell_type": "code",
   "source": "true_items = test.groupby('user_id').agg(lambda x: list(x))[['item_id']].reset_index()\npred_items = pred_bpr_ctb.groupby('user_id').agg(lambda x: list(x))[['item_id']].reset_index().rename(columns={'item_id': 'preds'})\ntrue_pred_items = true_items.merge(pred_items, how='left')\ntrue_pred_items = true_pred_items.dropna(subset=['preds'])\ntrue_pred_items.head()",
   "execution_count": 34,
   "outputs": [
    {
     "data": {
      "text/html": "<div>\n<style scoped>\n    .dataframe tbody tr th:only-of-type {\n        vertical-align: middle;\n    }\n\n    .dataframe tbody tr th {\n        vertical-align: top;\n    }\n\n    .dataframe thead th {\n        text-align: right;\n    }\n</style>\n<table border=\"1\" class=\"dataframe\">\n  <thead>\n    <tr style=\"text-align: right;\">\n      <th></th>\n      <th>user_id</th>\n      <th>item_id</th>\n      <th>preds</th>\n    </tr>\n  </thead>\n  <tbody>\n    <tr>\n      <th>1</th>\n      <td>21</td>\n      <td>[13787, 14488]</td>\n      <td>[11237, 11661, 15464, 10824, 12659, 4382, 8447...</td>\n    </tr>\n    <tr>\n      <th>2</th>\n      <td>30</td>\n      <td>[4181, 8584, 8636]</td>\n      <td>[10440, 1465, 15297, 9728, 676, 12346, 12995, ...</td>\n    </tr>\n    <tr>\n      <th>4</th>\n      <td>98</td>\n      <td>[89, 512]</td>\n      <td>[1204, 9728, 12346, 15410, 14378, 6447, 9653, ...</td>\n    </tr>\n    <tr>\n      <th>5</th>\n      <td>106</td>\n      <td>[337, 1439, 2808, 2836, 5411, 6267, 10544, 128...</td>\n      <td>[3182, 16166, 5894, 9506, 11919, 4718, 5411, 1...</td>\n    </tr>\n    <tr>\n      <th>8</th>\n      <td>241</td>\n      <td>[6162, 8986, 10440, 12138]</td>\n      <td>[5894, 13915, 13913, 16166, 3182, 13018, 10761...</td>\n    </tr>\n  </tbody>\n</table>\n</div>",
      "text/plain": "   user_id                                            item_id  \\\n1       21                                     [13787, 14488]   \n2       30                                 [4181, 8584, 8636]   \n4       98                                          [89, 512]   \n5      106  [337, 1439, 2808, 2836, 5411, 6267, 10544, 128...   \n8      241                         [6162, 8986, 10440, 12138]   \n\n                                               preds  \n1  [11237, 11661, 15464, 10824, 12659, 4382, 8447...  \n2  [10440, 1465, 15297, 9728, 676, 12346, 12995, ...  \n4  [1204, 9728, 12346, 15410, 14378, 6447, 9653, ...  \n5  [3182, 16166, 5894, 9506, 11919, 4718, 5411, 1...  \n8  [5894, 13915, 13913, 16166, 3182, 13018, 10761...  "
     },
     "execution_count": 34,
     "metadata": {},
     "output_type": "execute_result"
    }
   ]
  },
  {
   "metadata": {
    "papermill": {
     "duration": 0.015165,
     "end_time": "2025-01-17T16:06:48.751792",
     "exception": false,
     "start_time": "2025-01-17T16:06:48.736627",
     "status": "completed"
    },
    "tags": []
   },
   "id": "77e2c74d",
   "cell_type": "markdown",
   "source": "Confirm how well the catboost model made user recommendations"
  },
  {
   "metadata": {
    "execution": {
     "iopub.execute_input": "2025-01-17T16:06:48.783669Z",
     "iopub.status.busy": "2025-01-17T16:06:48.783331Z",
     "iopub.status.idle": "2025-01-17T16:06:52.870873Z",
     "shell.execute_reply": "2025-01-17T16:06:52.869337Z"
    },
    "papermill": {
     "duration": 4.105634,
     "end_time": "2025-01-17T16:06:52.872766",
     "exception": false,
     "start_time": "2025-01-17T16:06:48.767132",
     "status": "completed"
    },
    "tags": [],
    "trusted": false
   },
   "id": "c3b4e8a4",
   "cell_type": "code",
   "source": "# evaluate metrics \nprint('recall',round(recall(true_pred_items, k=20),3))\nprint('precision',round(precision(true_pred_items, k=20),3))\nprint('mrr',round(mrr(true_pred_items, k=20),3))",
   "execution_count": 35,
   "outputs": [
    {
     "name": "stdout",
     "output_type": "stream",
     "text": "recall 0.056\nprecision 0.056\nmrr 0.034\n"
    }
   ]
  }
 ],
 "metadata": {
  "kaggle": {
   "accelerator": "none",
   "dataSources": [
    {
     "datasetId": 6409061,
     "sourceId": 10349911,
     "sourceType": "datasetVersion"
    }
   ],
   "dockerImageVersionId": 30839,
   "isGpuEnabled": false,
   "isInternetEnabled": true,
   "language": "python",
   "sourceType": "notebook"
  },
  "kernelspec": {
   "name": "python3",
   "display_name": "Python 3",
   "language": "python"
  },
  "language_info": {
   "name": "python",
   "version": "3.10.4",
   "mimetype": "text/x-python",
   "codemirror_mode": {
    "name": "ipython",
    "version": 3
   },
   "pygments_lexer": "ipython3",
   "nbconvert_exporter": "python",
   "file_extension": ".py"
  },
  "papermill": {
   "default_parameters": {},
   "duration": 268.335348,
   "end_time": "2025-01-17T16:06:54.416375",
   "environment_variables": {},
   "exception": null,
   "input_path": "__notebook__.ipynb",
   "output_path": "__notebook__.ipynb",
   "parameters": {},
   "start_time": "2025-01-17T16:02:26.081027",
   "version": "2.6.0"
  },
  "widgets": {
   "application/vnd.jupyter.widget-state+json": {
    "state": {
     "1b3e0e35d648403ca5a0fd66660a2111": {
      "model_module": "@jupyter-widgets/controls",
      "model_module_version": "2.0.0",
      "model_name": "HTMLStyleModel",
      "state": {
       "_model_module": "@jupyter-widgets/controls",
       "_model_module_version": "2.0.0",
       "_model_name": "HTMLStyleModel",
       "_view_count": null,
       "_view_module": "@jupyter-widgets/base",
       "_view_module_version": "2.0.0",
       "_view_name": "StyleView",
       "background": null,
       "description_width": "",
       "font_size": null,
       "text_color": null
      }
     },
     "2e944dec62624ac097a63b93bd9ceced": {
      "model_module": "@jupyter-widgets/controls",
      "model_module_version": "2.0.0",
      "model_name": "HTMLModel",
      "state": {
       "_dom_classes": [],
       "_model_module": "@jupyter-widgets/controls",
       "_model_module_version": "2.0.0",
       "_model_name": "HTMLModel",
       "_view_count": null,
       "_view_module": "@jupyter-widgets/controls",
       "_view_module_version": "2.0.0",
       "_view_name": "HTMLView",
       "description": "",
       "description_allow_html": false,
       "layout": "IPY_MODEL_ed940d71a41d469a89114c7d26b8ef17",
       "placeholder": "​",
       "style": "IPY_MODEL_a3b6b57ad45242bf83f6a16611b688f2",
       "tabbable": null,
       "tooltip": null,
       "value": " 50/50 [00:09&lt;00:00,  5.30it/s, train_auc=85.71%, skipped=3.56%]"
      }
     },
     "2f46615a888e467eb6e1fcd9458466ff": {
      "model_module": "@jupyter-widgets/base",
      "model_module_version": "2.0.0",
      "model_name": "LayoutModel",
      "state": {
       "_model_module": "@jupyter-widgets/base",
       "_model_module_version": "2.0.0",
       "_model_name": "LayoutModel",
       "_view_count": null,
       "_view_module": "@jupyter-widgets/base",
       "_view_module_version": "2.0.0",
       "_view_name": "LayoutView",
       "align_content": null,
       "align_items": null,
       "align_self": null,
       "border_bottom": null,
       "border_left": null,
       "border_right": null,
       "border_top": null,
       "bottom": null,
       "display": null,
       "flex": null,
       "flex_flow": null,
       "grid_area": null,
       "grid_auto_columns": null,
       "grid_auto_flow": null,
       "grid_auto_rows": null,
       "grid_column": null,
       "grid_gap": null,
       "grid_row": null,
       "grid_template_areas": null,
       "grid_template_columns": null,
       "grid_template_rows": null,
       "height": null,
       "justify_content": null,
       "justify_items": null,
       "left": null,
       "margin": null,
       "max_height": null,
       "max_width": null,
       "min_height": null,
       "min_width": null,
       "object_fit": null,
       "object_position": null,
       "order": null,
       "overflow": null,
       "padding": null,
       "right": null,
       "top": null,
       "visibility": null,
       "width": null
      }
     },
     "5affb8dc0e6c4127b80a89efffa56f7a": {
      "model_module": "@jupyter-widgets/controls",
      "model_module_version": "2.0.0",
      "model_name": "FloatProgressModel",
      "state": {
       "_dom_classes": [],
       "_model_module": "@jupyter-widgets/controls",
       "_model_module_version": "2.0.0",
       "_model_name": "FloatProgressModel",
       "_view_count": null,
       "_view_module": "@jupyter-widgets/controls",
       "_view_module_version": "2.0.0",
       "_view_name": "ProgressView",
       "bar_style": "success",
       "description": "",
       "description_allow_html": false,
       "layout": "IPY_MODEL_9694809ea94542cfbb61f1987047ffb2",
       "max": 50,
       "min": 0,
       "orientation": "horizontal",
       "style": "IPY_MODEL_cb2572e9ba0e434593043df20d8eae85",
       "tabbable": null,
       "tooltip": null,
       "value": 50
      }
     },
     "7cf0bdb3b55342ffaa440c1bed7fcb83": {
      "model_module": "@jupyter-widgets/controls",
      "model_module_version": "2.0.0",
      "model_name": "HTMLModel",
      "state": {
       "_dom_classes": [],
       "_model_module": "@jupyter-widgets/controls",
       "_model_module_version": "2.0.0",
       "_model_name": "HTMLModel",
       "_view_count": null,
       "_view_module": "@jupyter-widgets/controls",
       "_view_module_version": "2.0.0",
       "_view_name": "HTMLView",
       "description": "",
       "description_allow_html": false,
       "layout": "IPY_MODEL_db5402c408ae46a89ecb0ae8cdb5a188",
       "placeholder": "​",
       "style": "IPY_MODEL_1b3e0e35d648403ca5a0fd66660a2111",
       "tabbable": null,
       "tooltip": null,
       "value": "100%"
      }
     },
     "9694809ea94542cfbb61f1987047ffb2": {
      "model_module": "@jupyter-widgets/base",
      "model_module_version": "2.0.0",
      "model_name": "LayoutModel",
      "state": {
       "_model_module": "@jupyter-widgets/base",
       "_model_module_version": "2.0.0",
       "_model_name": "LayoutModel",
       "_view_count": null,
       "_view_module": "@jupyter-widgets/base",
       "_view_module_version": "2.0.0",
       "_view_name": "LayoutView",
       "align_content": null,
       "align_items": null,
       "align_self": null,
       "border_bottom": null,
       "border_left": null,
       "border_right": null,
       "border_top": null,
       "bottom": null,
       "display": null,
       "flex": null,
       "flex_flow": null,
       "grid_area": null,
       "grid_auto_columns": null,
       "grid_auto_flow": null,
       "grid_auto_rows": null,
       "grid_column": null,
       "grid_gap": null,
       "grid_row": null,
       "grid_template_areas": null,
       "grid_template_columns": null,
       "grid_template_rows": null,
       "height": null,
       "justify_content": null,
       "justify_items": null,
       "left": null,
       "margin": null,
       "max_height": null,
       "max_width": null,
       "min_height": null,
       "min_width": null,
       "object_fit": null,
       "object_position": null,
       "order": null,
       "overflow": null,
       "padding": null,
       "right": null,
       "top": null,
       "visibility": null,
       "width": null
      }
     },
     "a3b6b57ad45242bf83f6a16611b688f2": {
      "model_module": "@jupyter-widgets/controls",
      "model_module_version": "2.0.0",
      "model_name": "HTMLStyleModel",
      "state": {
       "_model_module": "@jupyter-widgets/controls",
       "_model_module_version": "2.0.0",
       "_model_name": "HTMLStyleModel",
       "_view_count": null,
       "_view_module": "@jupyter-widgets/base",
       "_view_module_version": "2.0.0",
       "_view_name": "StyleView",
       "background": null,
       "description_width": "",
       "font_size": null,
       "text_color": null
      }
     },
     "cb2572e9ba0e434593043df20d8eae85": {
      "model_module": "@jupyter-widgets/controls",
      "model_module_version": "2.0.0",
      "model_name": "ProgressStyleModel",
      "state": {
       "_model_module": "@jupyter-widgets/controls",
       "_model_module_version": "2.0.0",
       "_model_name": "ProgressStyleModel",
       "_view_count": null,
       "_view_module": "@jupyter-widgets/base",
       "_view_module_version": "2.0.0",
       "_view_name": "StyleView",
       "bar_color": null,
       "description_width": ""
      }
     },
     "db5402c408ae46a89ecb0ae8cdb5a188": {
      "model_module": "@jupyter-widgets/base",
      "model_module_version": "2.0.0",
      "model_name": "LayoutModel",
      "state": {
       "_model_module": "@jupyter-widgets/base",
       "_model_module_version": "2.0.0",
       "_model_name": "LayoutModel",
       "_view_count": null,
       "_view_module": "@jupyter-widgets/base",
       "_view_module_version": "2.0.0",
       "_view_name": "LayoutView",
       "align_content": null,
       "align_items": null,
       "align_self": null,
       "border_bottom": null,
       "border_left": null,
       "border_right": null,
       "border_top": null,
       "bottom": null,
       "display": null,
       "flex": null,
       "flex_flow": null,
       "grid_area": null,
       "grid_auto_columns": null,
       "grid_auto_flow": null,
       "grid_auto_rows": null,
       "grid_column": null,
       "grid_gap": null,
       "grid_row": null,
       "grid_template_areas": null,
       "grid_template_columns": null,
       "grid_template_rows": null,
       "height": null,
       "justify_content": null,
       "justify_items": null,
       "left": null,
       "margin": null,
       "max_height": null,
       "max_width": null,
       "min_height": null,
       "min_width": null,
       "object_fit": null,
       "object_position": null,
       "order": null,
       "overflow": null,
       "padding": null,
       "right": null,
       "top": null,
       "visibility": null,
       "width": null
      }
     },
     "e0f11a5a7e2e4fe9a05e6febe8c9224b": {
      "model_module": "@jupyter-widgets/controls",
      "model_module_version": "2.0.0",
      "model_name": "HBoxModel",
      "state": {
       "_dom_classes": [],
       "_model_module": "@jupyter-widgets/controls",
       "_model_module_version": "2.0.0",
       "_model_name": "HBoxModel",
       "_view_count": null,
       "_view_module": "@jupyter-widgets/controls",
       "_view_module_version": "2.0.0",
       "_view_name": "HBoxView",
       "box_style": "",
       "children": [
        "IPY_MODEL_7cf0bdb3b55342ffaa440c1bed7fcb83",
        "IPY_MODEL_5affb8dc0e6c4127b80a89efffa56f7a",
        "IPY_MODEL_2e944dec62624ac097a63b93bd9ceced"
       ],
       "layout": "IPY_MODEL_2f46615a888e467eb6e1fcd9458466ff",
       "tabbable": null,
       "tooltip": null
      }
     },
     "ed940d71a41d469a89114c7d26b8ef17": {
      "model_module": "@jupyter-widgets/base",
      "model_module_version": "2.0.0",
      "model_name": "LayoutModel",
      "state": {
       "_model_module": "@jupyter-widgets/base",
       "_model_module_version": "2.0.0",
       "_model_name": "LayoutModel",
       "_view_count": null,
       "_view_module": "@jupyter-widgets/base",
       "_view_module_version": "2.0.0",
       "_view_name": "LayoutView",
       "align_content": null,
       "align_items": null,
       "align_self": null,
       "border_bottom": null,
       "border_left": null,
       "border_right": null,
       "border_top": null,
       "bottom": null,
       "display": null,
       "flex": null,
       "flex_flow": null,
       "grid_area": null,
       "grid_auto_columns": null,
       "grid_auto_flow": null,
       "grid_auto_rows": null,
       "grid_column": null,
       "grid_gap": null,
       "grid_row": null,
       "grid_template_areas": null,
       "grid_template_columns": null,
       "grid_template_rows": null,
       "height": null,
       "justify_content": null,
       "justify_items": null,
       "left": null,
       "margin": null,
       "max_height": null,
       "max_width": null,
       "min_height": null,
       "min_width": null,
       "object_fit": null,
       "object_position": null,
       "order": null,
       "overflow": null,
       "padding": null,
       "right": null,
       "top": null,
       "visibility": null,
       "width": null
      }
     }
    },
    "version_major": 2,
    "version_minor": 0
   }
  }
 },
 "nbformat": 4,
 "nbformat_minor": 5
}