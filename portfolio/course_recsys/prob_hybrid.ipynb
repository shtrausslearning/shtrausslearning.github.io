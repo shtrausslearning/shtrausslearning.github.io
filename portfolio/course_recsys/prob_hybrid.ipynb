{
 "cells": [
  {
   "metadata": {
    "_cell_guid": "b1076dfc-b9ad-4769-8c92-a6c4dae69d19",
    "_uuid": "8f2839f25d086af736a60e9eeb907d3b93b6e0e5",
    "execution": {
     "iopub.execute_input": "2025-01-22T05:31:48.282189Z",
     "iopub.status.busy": "2025-01-22T05:31:48.281665Z",
     "iopub.status.idle": "2025-01-22T05:31:59.105884Z",
     "shell.execute_reply": "2025-01-22T05:31:59.104294Z"
    },
    "papermill": {
     "duration": 10.842183,
     "end_time": "2025-01-22T05:31:59.108818",
     "exception": false,
     "start_time": "2025-01-22T05:31:48.266635",
     "status": "completed"
    },
    "tags": [],
    "trusted": false
   },
   "id": "e4f5878b",
   "cell_type": "code",
   "source": "!pip install implicit --quiet\n!pip install catboost --quiet",
   "execution_count": 1,
   "outputs": [
    {
     "name": "stdout",
     "output_type": "stream",
     "text": "\u001b[2K   \u001b[90m━━━━━━━━━━━━━━━━━━━━━━━━━━━━━━━━━━━━━━━━\u001b[0m \u001b[32m8.9/8.9 MB\u001b[0m \u001b[31m58.5 MB/s\u001b[0m eta \u001b[36m0:00:00\u001b[0m\r\n\u001b[?25h"
    }
   ]
  },
  {
   "metadata": {
    "execution": {
     "iopub.execute_input": "2025-01-22T05:31:59.125602Z",
     "iopub.status.busy": "2025-01-22T05:31:59.125246Z",
     "iopub.status.idle": "2025-01-22T05:32:02.591772Z",
     "shell.execute_reply": "2025-01-22T05:32:02.590617Z"
    },
    "papermill": {
     "duration": 3.477711,
     "end_time": "2025-01-22T05:32:02.593870",
     "exception": false,
     "start_time": "2025-01-22T05:31:59.116159",
     "status": "completed"
    },
    "tags": [],
    "trusted": false
   },
   "id": "55ef80b6",
   "cell_type": "code",
   "source": "import datetime\nimport numpy as np\nimport pandas as pd\nfrom tqdm.auto import tqdm\nimport matplotlib.pyplot as plt\nfrom sklearn.utils import shuffle\nfrom sklearn.model_selection import train_test_split\nfrom sklearn.metrics import roc_auc_score\nimport scipy.sparse as sparse\nfrom catboost import CatBoostClassifier\nimport implicit\nfrom implicit.bpr import BayesianPersonalizedRanking as BPR\nimport warnings; warnings.filterwarnings('ignore')",
   "execution_count": 2,
   "outputs": []
  },
  {
   "metadata": {
    "execution": {
     "iopub.execute_input": "2025-01-22T05:32:02.609356Z",
     "iopub.status.busy": "2025-01-22T05:32:02.608793Z",
     "iopub.status.idle": "2025-01-22T05:32:02.617430Z",
     "shell.execute_reply": "2025-01-22T05:32:02.616470Z"
    },
    "papermill": {
     "duration": 0.018473,
     "end_time": "2025-01-22T05:32:02.619311",
     "exception": false,
     "start_time": "2025-01-22T05:32:02.600838",
     "status": "completed"
    },
    "tags": [],
    "trusted": false
   },
   "id": "72cd2e1b",
   "cell_type": "code",
   "source": "def recall(df: pd.DataFrame, pred_col='preds', true_col='item_id', k=30) -> float:\n    recall_values = []\n    for _, row in df.iterrows():\n      num_relevant = len(set(row[true_col]) & set(row[pred_col][:k]))\n      num_true = len(row[true_col])\n      recall_values.append(num_relevant / num_true)\n    return np.mean(recall_values)\n\ndef precision(df: pd.DataFrame, pred_col='preds', true_col='item_id', k=30) -> float:\n    precision_values = []\n    for _, row in df.iterrows():\n      num_relevant = len(set(row[true_col]) & set(row[pred_col][:k]))\n      num_true = min(k, len(row[true_col]))\n      precision_values.append(num_relevant / num_true)\n    return np.mean(precision_values)\n\ndef mrr(df: pd.DataFrame, pred_col='preds', true_col='item_id', k=30) -> float:\n    mrr_values = []\n    for _, row in df.iterrows():\n      intersection = set(row[true_col]) & set(row[pred_col][:k])\n      user_mrr = 0\n      if len(intersection) > 0:\n          for item in intersection:\n              user_mrr = max(user_mrr, 1 / (row[pred_col].index(item) + 1))\n      mrr_values.append(user_mrr)\n    return np.mean(mrr_values)",
   "execution_count": 3,
   "outputs": []
  },
  {
   "metadata": {
    "papermill": {
     "duration": 0.006162,
     "end_time": "2025-01-22T05:32:02.632638",
     "exception": false,
     "start_time": "2025-01-22T05:32:02.626476",
     "status": "completed"
    },
    "tags": []
   },
   "id": "52797453",
   "cell_type": "markdown",
   "source": "\n\n# **Гибридные методы рекомендации**\n\n## <b>1 | Задание</b>\n\n### **Цель:**\n\n- В этом задании вы продолжите работу с двухуровневой моделью, попробуете добавлять (1) новые признаки, (2) а также модели первого уровня, (3) подберете гиперпараметры.\n- В результате доработок качество модели, рассмотренной на занятии, должно улучшиться.\n\n\n### **Пошаговая инструкция:**\n\n- Продолжим работу с данными онлайн-кинотеатра KION: https://github.com/irsafilo/KION_DATASET/tree/main\n- Задача - улучшить качество двухуровневой модели, рассмотренной на занятии, **минимум на 10% по метрике precision@20**. Для этого предлагается проделать хотя бы два из трех шагов:\n\n\n    - (**модификация кандидатов**) добавить одну или несколько моделей первого уровня (можно брать модели из библиотеки implicit или других библиотек); на основе предсказаний этих моделей отобрать объекты-кандидаты для модели второго уровня;\n\n    - **фича-инжиниринг**: поработать с имеющимися характеристиками пользователей и объектов и/или сгенерировать новые фичи на основе популярности объектов/активности пользователей; попробовать учесть временную составляющую, например, считать популярность за разные временные промежутки;\n    - подобрать лучшее train-val-test разбиение; **подобрать гиперпараметры моделей** первого и второго уровней.\n\n- Оценить качество модели по метрикам precision@20, recall@20, mrr@20"
  },
  {
   "metadata": {
    "papermill": {
     "duration": 0.006208,
     "end_time": "2025-01-22T05:32:02.645340",
     "exception": false,
     "start_time": "2025-01-22T05:32:02.639132",
     "status": "completed"
    },
    "tags": []
   },
   "id": "009221da",
   "cell_type": "markdown",
   "source": "## <b>2 | Чтение данных</b>\n\n**`readData`** : класс для чтение и хранение исходных данных"
  },
  {
   "metadata": {
    "execution": {
     "iopub.execute_input": "2025-01-22T05:32:02.660045Z",
     "iopub.status.busy": "2025-01-22T05:32:02.659617Z",
     "iopub.status.idle": "2025-01-22T05:32:02.666651Z",
     "shell.execute_reply": "2025-01-22T05:32:02.665648Z"
    },
    "papermill": {
     "duration": 0.016353,
     "end_time": "2025-01-22T05:32:02.668281",
     "exception": false,
     "start_time": "2025-01-22T05:32:02.651928",
     "status": "completed"
    },
    "tags": [],
    "trusted": false
   },
   "id": "f4b9c604",
   "cell_type": "code",
   "source": "class readData:\n\n    def __init__(self):\n        self.read_data()\n\n    def read_data(self):\n        self.interactions = pd.read_csv(\"/kaggle/input/kion-dataset/interactions.csv\")\n        self.items = pd.read_csv(\"/kaggle/input/kion-dataset/items.csv\")\n        self.users = pd.read_csv(\"/kaggle/input/kion-dataset/users.csv\")\n    \n        # convert the column [last_watch_dt] into datetime\n        self.interactions['last_watch_dt'] = pd.to_datetime(self.interactions['last_watch_dt']).map(lambda x: x.date())\n\n        print(f\"Уникальных юзеров в interactions: {self.interactions['user_id'].nunique()}\")\n        print(f\"Уникальных айтемов в interactions: {self.interactions['item_id'].nunique()}\")\n\n    def show_interactions(self):\n        return self.interactions.head()\n\n    def show_items(self):\n        return self.items.head()\n\n    def show_user(self):\n        return self.users.head()",
   "execution_count": 4,
   "outputs": []
  },
  {
   "metadata": {
    "papermill": {
     "duration": 0.00611,
     "end_time": "2025-01-22T05:32:02.681080",
     "exception": false,
     "start_time": "2025-01-22T05:32:02.674970",
     "status": "completed"
    },
    "tags": []
   },
   "id": "d3f6b763",
   "cell_type": "markdown",
   "source": "## <b>3 | Предобработка данных</b>\n\n**`dataPreprocess`** класс для предобработки данных\n- Для текущего ноутбука мы не меняем выборку \n- класс инициилизирует кюродительский класс где хронятся данные"
  },
  {
   "metadata": {
    "execution": {
     "iopub.execute_input": "2025-01-22T05:32:02.695276Z",
     "iopub.status.busy": "2025-01-22T05:32:02.694876Z",
     "iopub.status.idle": "2025-01-22T05:32:28.421804Z",
     "shell.execute_reply": "2025-01-22T05:32:28.420608Z"
    },
    "papermill": {
     "duration": 25.736195,
     "end_time": "2025-01-22T05:32:28.423673",
     "exception": false,
     "start_time": "2025-01-22T05:32:02.687478",
     "status": "completed"
    },
    "tags": [],
    "trusted": false
   },
   "id": "81e8cd38",
   "cell_type": "code",
   "source": "class dataPreprocess(readData):\n\n    def __init__(self):\n        super().__init__()\n        self.filter_data()\n        self.tts()\n\n    def filter_data(self):\n\n        interactions = self.interactions\n        interactions = interactions[interactions['total_dur'] >= 300]\n        user_interactions_count = interactions.groupby('user_id')[['item_id']].count().reset_index()\n        filtered_users = user_interactions_count[user_interactions_count['item_id'] >= 10][['user_id']]\n        interactions = filtered_users.merge(interactions, how='left')\n        self.interactions = interactions\n\n    def tts(self):\n\n        interactions = self.interactions\n\n        max_date = interactions['last_watch_dt'].max()\n        min_date = interactions['last_watch_dt'].min()\n\n        print(f\"min дата в interactions: {min_date}\")\n        print(f\"max дата в interactions: {max_date}\")\n\n        # global test dataset starting time (7 days)\n        test_threshold = max_date - pd.Timedelta(days=7)\n\n        # validation dataset starting time (2 months)\n        val_threshold = test_threshold - pd.Timedelta(days=60) \n\n        self.test = interactions[(interactions['last_watch_dt'] >= test_threshold)]\n        train_val = interactions[(interactions['last_watch_dt'] < test_threshold)]\n        self.val = train_val[(train_val['last_watch_dt'] >= val_threshold)]\n        self.train = train_val[(train_val['last_watch_dt'] < val_threshold)]\n\n        print('Data split into subsets!')\n        print(f\"train: {self.train.shape}\")\n        print(f\"val: {self.val.shape}\")\n        print(f\"test: {self.test.shape}\")\n\n    def show_subset(self,subset='train'):\n        if(subset == 'train'):\n            return self.train\n        elif(subset == 'val'):\n            return self.val\n        elif(subset == 'test'):\n            return self.test \n\n\nkion = dataPreprocess()\nkion.show_subset('train')",
   "execution_count": 5,
   "outputs": [
    {
     "name": "stdout",
     "output_type": "stream",
     "text": "Уникальных юзеров в interactions: 962179\nУникальных айтемов в interactions: 15706\nmin дата в interactions: 2021-03-13\nmax дата в interactions: 2021-08-22\nData split into subsets!\ntrain: (894491, 5)\nval: (1253718, 5)\ntest: (173795, 5)\n"
    },
    {
     "data": {
      "text/html": "<div>\n<style scoped>\n    .dataframe tbody tr th:only-of-type {\n        vertical-align: middle;\n    }\n\n    .dataframe tbody tr th {\n        vertical-align: top;\n    }\n\n    .dataframe thead th {\n        text-align: right;\n    }\n</style>\n<table border=\"1\" class=\"dataframe\">\n  <thead>\n    <tr style=\"text-align: right;\">\n      <th></th>\n      <th>user_id</th>\n      <th>item_id</th>\n      <th>last_watch_dt</th>\n      <th>total_dur</th>\n      <th>watched_pct</th>\n    </tr>\n  </thead>\n  <tbody>\n    <tr>\n      <th>0</th>\n      <td>2</td>\n      <td>7571</td>\n      <td>2021-05-20</td>\n      <td>6151</td>\n      <td>100.0</td>\n    </tr>\n    <tr>\n      <th>1</th>\n      <td>2</td>\n      <td>3541</td>\n      <td>2021-06-04</td>\n      <td>4320</td>\n      <td>83.0</td>\n    </tr>\n    <tr>\n      <th>2</th>\n      <td>2</td>\n      <td>15266</td>\n      <td>2021-06-01</td>\n      <td>5422</td>\n      <td>100.0</td>\n    </tr>\n    <tr>\n      <th>4</th>\n      <td>2</td>\n      <td>12841</td>\n      <td>2021-06-09</td>\n      <td>8152</td>\n      <td>100.0</td>\n    </tr>\n    <tr>\n      <th>6</th>\n      <td>2</td>\n      <td>4475</td>\n      <td>2021-05-30</td>\n      <td>7029</td>\n      <td>100.0</td>\n    </tr>\n    <tr>\n      <th>...</th>\n      <td>...</td>\n      <td>...</td>\n      <td>...</td>\n      <td>...</td>\n      <td>...</td>\n    </tr>\n    <tr>\n      <th>2321985</th>\n      <td>1097516</td>\n      <td>758</td>\n      <td>2021-04-20</td>\n      <td>796</td>\n      <td>13.0</td>\n    </tr>\n    <tr>\n      <th>2321986</th>\n      <td>1097516</td>\n      <td>14470</td>\n      <td>2021-04-24</td>\n      <td>553</td>\n      <td>7.0</td>\n    </tr>\n    <tr>\n      <th>2321989</th>\n      <td>1097516</td>\n      <td>1331</td>\n      <td>2021-05-17</td>\n      <td>2563</td>\n      <td>39.0</td>\n    </tr>\n    <tr>\n      <th>2321990</th>\n      <td>1097516</td>\n      <td>8454</td>\n      <td>2021-04-22</td>\n      <td>6169</td>\n      <td>100.0</td>\n    </tr>\n    <tr>\n      <th>2321991</th>\n      <td>1097516</td>\n      <td>15421</td>\n      <td>2021-04-23</td>\n      <td>6709</td>\n      <td>100.0</td>\n    </tr>\n  </tbody>\n</table>\n<p>894491 rows × 5 columns</p>\n</div>",
      "text/plain": "         user_id  item_id last_watch_dt  total_dur  watched_pct\n0              2     7571    2021-05-20       6151        100.0\n1              2     3541    2021-06-04       4320         83.0\n2              2    15266    2021-06-01       5422        100.0\n4              2    12841    2021-06-09       8152        100.0\n6              2     4475    2021-05-30       7029        100.0\n...          ...      ...           ...        ...          ...\n2321985  1097516      758    2021-04-20        796         13.0\n2321986  1097516    14470    2021-04-24        553          7.0\n2321989  1097516     1331    2021-05-17       2563         39.0\n2321990  1097516     8454    2021-04-22       6169        100.0\n2321991  1097516    15421    2021-04-23       6709        100.0\n\n[894491 rows x 5 columns]"
     },
     "execution_count": 5,
     "metadata": {},
     "output_type": "execute_result"
    }
   ]
  },
  {
   "metadata": {
    "papermill": {
     "duration": 0.007036,
     "end_time": "2025-01-22T05:32:28.438641",
     "exception": false,
     "start_time": "2025-01-22T05:32:28.431605",
     "status": "completed"
    },
    "tags": []
   },
   "id": "37c4ccde",
   "cell_type": "markdown",
   "source": "## <b>4 | Выбор кандидатов</b>\n\n**`genCandidate`** : Используем для генерации позитивных кадидатов которые используем для фич модели второго уровня\n"
  },
  {
   "metadata": {
    "execution": {
     "iopub.execute_input": "2025-01-22T05:32:28.454711Z",
     "iopub.status.busy": "2025-01-22T05:32:28.454309Z",
     "iopub.status.idle": "2025-01-22T05:32:38.587641Z",
     "shell.execute_reply": "2025-01-22T05:32:38.586728Z"
    },
    "papermill": {
     "duration": 10.144212,
     "end_time": "2025-01-22T05:32:38.589849",
     "exception": false,
     "start_time": "2025-01-22T05:32:28.445637",
     "status": "completed"
    },
    "tags": [],
    "trusted": false
   },
   "id": "65490237",
   "cell_type": "code",
   "source": "class genCandidate:\n\n    def __init__(self,\n                train:pd.DataFrame,\n                val:pd.DataFrame,\n                test:pd.DataFrame):\n        self.train = train\n        self.val = val\n        self.test = test\n\n    def createRatingMatrix(self):\n\n        # train model on [train]\n        users_id = list(np.sort(self.train.user_id.unique()))\n        items_train = list(self.train.item_id.unique())\n        ratings_train = list(self.train.watched_pct)\n\n        # Конвертируем ids \n        self.rows_train = self.train.user_id.astype('category').cat.codes\n        self.cols_train = self.train.item_id.astype('category').cat.codes\n\n        # create sparse rating matrix (watched percentage [watched_pct])\n        self.rating_matrix = sparse.csr_matrix((ratings_train, (self.rows_train,\n                                                                self.cols_train)), \n                                         shape=(len(users_id), len(items_train)))\n    def decompose(self):\n\n        # Модель кандидаты\n        algo = BPR(factors=50, \n                regularization=0.01, \n                iterations=50, \n                use_gpu=False)\n        algo.fit((self.rating_matrix).astype('double'))\n\n        # user and item matrix\n        self.user_vecs = algo.user_factors\n        self.item_vecs = algo.item_factors\n\n    # BPR implicit prediction \n    def predict(self,k=10):\n    \n        \"\"\"\n    \n        Helper function for matrix factorisation prediction\n    \n        \"\"\"\n\n        user_vecs = self.user_vecs\n        item_vecs = self.item_vecs\n    \n        id2user = dict(zip(self.rows_train, self.train.user_id))\n        id2item = dict(zip(self.cols_train, self.train.item_id))\n        scores = user_vecs.dot(item_vecs.T)\n\n        ind_part = np.argpartition(scores, -k + 1)[:, -k:].copy()\n        scores_not_sorted = np.take_along_axis(scores, ind_part, axis=1)\n        ind_sorted = np.argsort(scores_not_sorted, axis=1)\n        indices = np.take_along_axis(ind_part, ind_sorted, axis=1)\n        indices = np.flip(indices, 1)\n        preds = pd.DataFrame({\n            'user_id': range(user_vecs.shape[0]),\n            'preds': indices.tolist(),\n            })\n        preds['user_id'] = preds['user_id'].map(id2user)\n        preds['preds'] = preds['preds'].map(lambda inds: [id2item[i] for i in inds])\n\n        # prediction scores for train \n        self.preds = preds\n\n    def create_candidates(self,k=10,subset='valid'):\n\n        # films watched in [val] dataset\n        if(subset == 'valid'):\n            self.user_history = self.val.groupby('user_id')[['item_id']].agg(lambda x: list(x))\n        elif(subset == 'test'):\n            self.user_history = self.test.groupby('user_id')[['item_id']].agg(lambda x: list(x))\n\n        self.predict(k=k)\n        pred_bpr = self.user_history.merge(self.preds, how='left', on='user_id')\n        pred_bpr = pred_bpr.dropna(subset=['preds'])\n\n        print('recall@k ',round(recall(pred_bpr),2))\n        print('precision@k ',round(precision(pred_bpr),2))\n        print('mrr@k ',round(mrr(pred_bpr),2))\n\n        candidates = pred_bpr[['user_id', 'preds']]\n        candidates = candidates.explode('preds').rename(columns={'preds': 'item_id'})\n        candidates['rank'] = candidates.groupby('user_id').cumcount() + 1\n        self.candidates = candidates\n        \n\ncand = genCandidate(train=kion.train,\n                    val=kion.val,\n                    test=kion.test)\ncand.createRatingMatrix()\ncand.decompose()",
   "execution_count": 6,
   "outputs": [
    {
     "data": {
      "application/vnd.jupyter.widget-view+json": {
       "model_id": "9e88d420e7ba41538b00a46712e1bc4f",
       "version_major": 2,
       "version_minor": 0
      },
      "text/plain": "  0%|          | 0/50 [00:00<?, ?it/s]"
     },
     "metadata": {},
     "output_type": "display_data"
    }
   ]
  },
  {
   "metadata": {
    "execution": {
     "iopub.execute_input": "2025-01-22T05:32:38.607189Z",
     "iopub.status.busy": "2025-01-22T05:32:38.606779Z",
     "iopub.status.idle": "2025-01-22T05:32:38.612425Z",
     "shell.execute_reply": "2025-01-22T05:32:38.611414Z"
    },
    "papermill": {
     "duration": 0.016237,
     "end_time": "2025-01-22T05:32:38.614044",
     "exception": false,
     "start_time": "2025-01-22T05:32:38.597807",
     "status": "completed"
    },
    "tags": [],
    "trusted": false
   },
   "id": "2b6dae38",
   "cell_type": "code",
   "source": "# матрица рейтингов которые получает от\n# декомпозиции train\ncand.rating_matrix",
   "execution_count": 7,
   "outputs": [
    {
     "data": {
      "text/plain": "<72383x11373 sparse matrix of type '<class 'numpy.float64'>'\n\twith 894491 stored elements in Compressed Sparse Row format>"
     },
     "execution_count": 7,
     "metadata": {},
     "output_type": "execute_result"
    }
   ]
  },
  {
   "metadata": {
    "execution": {
     "iopub.execute_input": "2025-01-22T05:32:38.631048Z",
     "iopub.status.busy": "2025-01-22T05:32:38.630630Z",
     "iopub.status.idle": "2025-01-22T05:32:38.637195Z",
     "shell.execute_reply": "2025-01-22T05:32:38.636103Z"
    },
    "papermill": {
     "duration": 0.017107,
     "end_time": "2025-01-22T05:32:38.639025",
     "exception": false,
     "start_time": "2025-01-22T05:32:38.621918",
     "status": "completed"
    },
    "tags": [],
    "trusted": false
   },
   "id": "dcbd0348",
   "cell_type": "code",
   "source": "# вектора пользователей для bpr (factors=50)\ncand.user_vecs",
   "execution_count": 8,
   "outputs": [
    {
     "data": {
      "text/plain": "array([[ 0.12379745, -0.15161823,  0.21322107, ...,  0.30594668,\n         0.03928256,  1.        ],\n       [-0.10700278,  0.20008633, -0.08893105, ..., -0.14906016,\n        -0.05412726,  1.        ],\n       [-0.06540288,  0.1305269 , -0.03879986, ...,  0.10091428,\n        -0.11864812,  1.        ],\n       ...,\n       [-0.05447918,  0.1625216 , -0.00793439, ...,  0.17104897,\n         0.5004299 ,  1.        ],\n       [-0.07643098, -0.09024178,  0.1201185 , ...,  0.29327735,\n        -0.375865  ,  1.        ],\n       [-0.08880109,  0.05362898, -0.01743633, ...,  0.267542  ,\n         0.14116102,  1.        ]], dtype=float32)"
     },
     "execution_count": 8,
     "metadata": {},
     "output_type": "execute_result"
    }
   ]
  },
  {
   "metadata": {
    "papermill": {
     "duration": 0.007494,
     "end_time": "2025-01-22T05:32:38.654107",
     "exception": false,
     "start_time": "2025-01-22T05:32:38.646613",
     "status": "completed"
    },
    "tags": []
   },
   "id": "a0690293",
   "cell_type": "markdown",
   "source": "- Выбираем k=100 для формирования быборки второго уровня\n- Создаем кандидатов для пользователей, это фильмы которые модель считает что он посмотрел, мы это проверим и разделим выборка на позитивные и негативные подвыборки"
  },
  {
   "metadata": {
    "execution": {
     "iopub.execute_input": "2025-01-22T05:32:38.670057Z",
     "iopub.status.busy": "2025-01-22T05:32:38.669628Z",
     "iopub.status.idle": "2025-01-22T05:33:13.281450Z",
     "shell.execute_reply": "2025-01-22T05:33:13.276704Z"
    },
    "papermill": {
     "duration": 34.627892,
     "end_time": "2025-01-22T05:33:13.289356",
     "exception": false,
     "start_time": "2025-01-22T05:32:38.661464",
     "status": "completed"
    },
    "tags": [],
    "trusted": false
   },
   "id": "af9351da",
   "cell_type": "code",
   "source": "# Формируем кандидатов для модели 2го уровня (val)\ncand.create_candidates(k=100)",
   "execution_count": 9,
   "outputs": [
    {
     "name": "stdout",
     "output_type": "stream",
     "text": "recall@k  0.12\nprecision@k  0.12\nmrr@k  0.14\n"
    }
   ]
  },
  {
   "metadata": {
    "papermill": {
     "duration": 0.009202,
     "end_time": "2025-01-22T05:33:13.319145",
     "exception": false,
     "start_time": "2025-01-22T05:33:13.309943",
     "status": "completed"
    },
    "tags": []
   },
   "id": "bdface16",
   "cell_type": "markdown",
   "source": "## <b>5 | Классификатор отбора</b>\n\n### **1) Без оптимизации гиперпараметров**\n\n**`catClassifier`** : класс для обучения модели второго уровня\n- Параметры и исходном ноутбуке не являлись оптимальными, соотвественно качество моделей можно было улучить использовав оптимизацию этих параметров"
  },
  {
   "metadata": {
    "execution": {
     "iopub.execute_input": "2025-01-22T05:33:13.340023Z",
     "iopub.status.busy": "2025-01-22T05:33:13.339624Z",
     "iopub.status.idle": "2025-01-22T05:33:13.362839Z",
     "shell.execute_reply": "2025-01-22T05:33:13.361791Z"
    },
    "papermill": {
     "duration": 0.035898,
     "end_time": "2025-01-22T05:33:13.364797",
     "exception": false,
     "start_time": "2025-01-22T05:33:13.328899",
     "status": "completed"
    },
    "tags": [],
    "trusted": false
   },
   "id": "e6e709b4",
   "cell_type": "code",
   "source": "# Обучаем модель 2го уровня (классификатор)\n# Цель классификатора : пресказывать комбинации которые смотрел клиент\nclass catClassifier:\n\n    def __init__(self,val,candidates,users,items):\n        self.val = val\n        self.candidates = candidates\n        self.users = users\n        self.items = items\n\n    def gen_data(self):\n        \n        # positive candidates\n        pos = self.candidates.merge(self.val,\n                               on=['user_id', 'item_id'],\n                               how='inner')\n        pos['target'] = 1\n        self.pos = pos\n        print('number of positive samples',pos.shape)\n\n        # предсказанные фильмы они не смотрели в валидационной выборке\n        neg = self.candidates.set_index(['user_id', 'item_id'])\\\n                .join(self.val.set_index(['user_id', 'item_id']))\n\n        neg = neg[neg['watched_pct'].isnull()].reset_index()\n        # print(neg.shape)\n        neg = neg.sample(frac=0.07)\n        print('number of negative samples',neg.shape)\n        neg['target'] = 0\n        self.neg = neg\n\n    def create_subsets(self):\n\n        # divide the users into 3 subgroups\n        ctb_train_users, ctb_test_users = train_test_split(self.val['user_id'].unique(),\n                                                  random_state=1,\n                                                  test_size=0.2)\n\n        ctb_train_users, ctb_eval_users = train_test_split(ctb_train_users,\n                                                  random_state=1,\n                                                  test_size=0.1)\n\n        print('number of users in ctb train',ctb_train_users)\n        print('number of users in ctb eval',ctb_eval_users)\n        print('number of users in ctb test',ctb_test_users)\n\n        # Все базовые колонки\n        select_col = ['user_id', 'item_id', 'rank', 'target']\n\n        # train (basic)\n        ctb_train = shuffle(\n        pd.concat([\n            self.pos[self.pos['user_id'].isin(ctb_train_users)],\n            self.neg[self.neg['user_id'].isin(ctb_train_users)]\n        ])[select_col]\n        )\n\n        # test (basic)\n        ctb_test = shuffle(\n        pd.concat([\n            self.pos[self.pos['user_id'].isin(ctb_test_users)],\n            self.neg[self.neg['user_id'].isin(ctb_test_users)]\n        ])[select_col]\n        )\n\n        # evaluation (basic)\n        ctb_eval = shuffle(\n            pd.concat([\n                self.pos[self.pos['user_id'].isin(ctb_eval_users)],\n                self.neg[self.neg['user_id'].isin(ctb_eval_users)]\n        ])[select_col]\n        )\n\n        '''\n        \n        1. Additional Features\n        \n        '''\n        self.user_col = ['user_id', 'age', 'income', 'sex', 'kids_flg']\n        # self.item_col = ['item_id', 'content_type', 'countries', 'for_kids', 'age_rating', 'studios']\n        self.item_col = ['item_id','content_type','countries','for_kids','age_rating','studios','release_year','directors']\n\n        # train   \n        train_feat = (ctb_train\n              .merge(self.users[self.user_col], on=['user_id'], how='left')\n              .merge(self.items[self.item_col], on=['item_id'], how='left'))\n\n        # evaluation \n        eval_feat = (ctb_eval\n             .merge(self.users[self.user_col], on=['user_id'], how='left')\n             .merge(self.items[self.item_col], on=['item_id'], how='left'))\n\n\n        # drop pointless columns and separate target\n        self.drop_col = ['user_id', 'item_id']\n        self.target_col = ['target']\n\n        # we will define the categorical columns in catboost\n        self.cat_col = ['age', 'income', 'sex', 'content_type', 'countries', 'studios','directors']\n\n        self.X_train, self.y_train = train_feat.drop(self.drop_col + self.target_col, axis=1), train_feat[self.target_col]\n        self.X_val, self.y_val = eval_feat.drop(self.drop_col + self.target_col, axis=1), eval_feat[self.target_col]\n\n        # fillna for catboost with the most frequent value\n        self.X_train = self.X_train.fillna(self.X_train.mode().iloc[0])\n        self.X_val = self.X_val.fillna(self.X_train.mode().iloc[0])\n\n\n\n        '''\n        \n        2. Prepare Test Set\n        \n        '''\n        \n        test_feat = (ctb_test\n                     .merge(self.users[self.user_col], on=['user_id'], how='left')\n                     .merge(self.items[self.item_col], on=['item_id'], how='left'))\n        \n        # fillna for catboost with the most frequent value\n        test_feat = test_feat.fillna(self.X_train.mode().iloc[0])\n        self.X_test, self.y_test = test_feat.drop(self.drop_col + self.target_col, axis=1), test_feat['target']\n\n        print(f'X_train: {self.X_train.shape}')\n        print(f'X_val: {self.X_val.shape}')\n        print(f'X_test: {self.X_test.shape}')\n\n    def train(self):\n\n        # model hyperparameters\n        est_params = {\n          'subsample': 0.9,\n          'max_depth': 5,\n          'n_estimators': 5000,\n          'learning_rate': 0.01,\n          'thread_count': 20,\n          'random_state': 42,\n          'verbose': 200,\n        }\n        \n        ctb_model = CatBoostClassifier(**est_params)\n        \n        import warnings; warnings.filterwarnings('ignore')\n        ctb_model.fit(self.X_train,\n                      self.y_train,\n                      eval_set=(self.X_val, self.y_val),\n                      early_stopping_rounds=100,\n                      cat_features=self.cat_col)\n\n        self.model = ctb_model\n\n    def predict_test(self):\n        y_pred = self.model.predict_proba(self.X_test)\n        f\"ROC AUC score = {roc_auc_score(self.y_test, y_pred[:, 1]):.2f}\"\n            \n\n# cat = catClassifier(kion.val, # kion.val : глобальная валидационная выборка взаимодействии\n#                     cand.candidates, # cand.candidates : Кандидаты из модели 1го уровня\n#                     kion.users, # kion.users : признаки пользователя \n#                     kion.items) # kion.items : признаки предметов \n\n\n# cat.gen_data()  # generate positive and negative samples from candidates based on validation set\n# cat.create_subsets() # Формируем X_train,X_test,X_val для модели 2го уровня\n\n# Обучаем модель 2го уровня\n# cat.train()",
   "execution_count": 10,
   "outputs": []
  },
  {
   "metadata": {
    "papermill": {
     "duration": 0.007462,
     "end_time": "2025-01-22T05:33:13.426243",
     "exception": false,
     "start_time": "2025-01-22T05:33:13.418781",
     "status": "completed"
    },
    "tags": []
   },
   "id": "1d16bc4a",
   "cell_type": "markdown",
   "source": "### **2) Оптимизация Гиперапараметров**\n\nМы можем использовать `optuna` для подбора гиперпараметров парамерты которые будем оптимизировать находятся в `param` и имеют значение `trial.suggest_`\n- `subsample`\n- `depth`\n- `n_estimators`\n- `learning_rate`"
  },
  {
   "metadata": {
    "execution": {
     "iopub.execute_input": "2025-01-22T05:33:13.443343Z",
     "iopub.status.busy": "2025-01-22T05:33:13.442903Z",
     "iopub.status.idle": "2025-01-22T05:33:27.341259Z",
     "shell.execute_reply": "2025-01-22T05:33:27.339885Z"
    },
    "papermill": {
     "duration": 13.909316,
     "end_time": "2025-01-22T05:33:27.343260",
     "exception": false,
     "start_time": "2025-01-22T05:33:13.433944",
     "status": "completed"
    },
    "tags": [],
    "trusted": false
   },
   "id": "ee0d3603",
   "cell_type": "code",
   "source": "import optuna\noptuna.logging.set_verbosity(optuna.logging.WARNING)\n\nclass catClassifierOptuna(catClassifier):\n\n    def __init__(self,val,candidates,users,items):\n        self.val = val\n        self.candidates = candidates\n        self.users = users\n        self.items = items\n    \n    def __init__(self,val,candidates,users,items):\n        super().__init__(val,candidates,users,items)\n\n    # обучение модели \n    def train(self):\n        \n        study = optuna.create_study(direction=\"maximize\")\n        study.optimize(self.objective, n_trials=50, timeout=600,show_progress_bar=True)\n\n        # обучаем модель используя параметры которые дали самый высокий ROC-AUC\n        self.model = CatBoostClassifier(**study.best_params,silent=True)\n        \n        import warnings; warnings.filterwarnings('ignore')\n        self.model.fit(self.X_train,\n                      self.y_train,\n                      eval_set=(self.X_val, self.y_val),\n                      early_stopping_rounds=100,\n                      cat_features=self.cat_col)\n\n        self.model = self.model\n    \n\n    # objective function ; что мы оптимизируем -> ROC AUC на тестовой подвыборке\n    def objective(self,trial):\n    \n        param = {\n          'subsample': trial.suggest_float('subsample',0.5,0.95),\n          \"depth\": trial.suggest_int(\"depth\", 1, 15),\n          'n_estimators': trial.suggest_int('n_estimators',5000,7000),\n          'learning_rate': trial.suggest_float('learning_rate',0.001,0.1),\n          'thread_count': 20,\n          'random_state': 42\n        }\n          \n        model = CatBoostClassifier(**param,silent=True)\n    \n        model.fit(self.X_train,\n                      self.y_train,\n                      eval_set=(self.X_val, self.y_val),\n                      early_stopping_rounds=100,\n                      cat_features=self.cat_col)\n    \n        y_pred = model.predict_proba(self.X_test)\n\n        return roc_auc_score(self.y_test, y_pred[:, 1])\n\n\ncat = catClassifierOptuna(kion.val, # kion.val : глобальная валидационная выборка взаимодействии\n                          cand.candidates, # cand.candidates : Кандидаты из модели 1го уровня\n                          kion.users, # kion.users : признаки пользователя \n                          kion.items) # kion.items : признаки предметов \n        \ncat.gen_data()  # generate positive and negative samples from candidates based on validation set\ncat.create_subsets() # Формируем X_train,X_test,X_val для модели 2го уровня",
   "execution_count": 13,
   "outputs": [
    {
     "name": "stdout",
     "output_type": "stream",
     "text": "number of positive samples (121011, 7)\nnumber of negative samples (430233, 6)\nnumber of users in ctb train [267415  29717 913817 ...  39932 202551 485139]\nnumber of users in ctb eval [ 751973  836142  740671 ...    1276 1012693   80378]\nnumber of users in ctb test [ 902000 1004154  188727 ...  636142   56244  933157]\nX_train: (398276, 12)\nX_val: (43384, 12)\nX_test: (109584, 12)\n"
    }
   ]
  },
  {
   "metadata": {
    "execution": {
     "iopub.execute_input": "2025-01-22T05:33:27.360670Z",
     "iopub.status.busy": "2025-01-22T05:33:27.360201Z",
     "iopub.status.idle": "2025-01-22T06:06:01.436770Z",
     "shell.execute_reply": "2025-01-22T06:06:01.434554Z"
    },
    "papermill": {
     "duration": 1954.09011,
     "end_time": "2025-01-22T06:06:01.441467",
     "exception": false,
     "start_time": "2025-01-22T05:33:27.351357",
     "status": "completed"
    },
    "tags": [],
    "trusted": false
   },
   "id": "065a69f2",
   "cell_type": "code",
   "source": "# обучаем модель используя optuna оптимизацию гиперпараметров\ncat.train()",
   "execution_count": 14,
   "outputs": [
    {
     "data": {
      "application/vnd.jupyter.widget-view+json": {
       "model_id": "278cfe2f0ae74b90af528377125daedc",
       "version_major": 2,
       "version_minor": 0
      },
      "text/plain": "  0%|          | 0/50 [00:00<?, ?it/s]"
     },
     "metadata": {},
     "output_type": "display_data"
    }
   ]
  },
  {
   "metadata": {
    "papermill": {
     "duration": 0.008829,
     "end_time": "2025-01-22T06:06:01.462147",
     "exception": false,
     "start_time": "2025-01-22T06:06:01.453318",
     "status": "completed"
    },
    "tags": []
   },
   "id": "fa351004",
   "cell_type": "markdown",
   "source": "## <b>6 | Формирования рекомендации</b>\n\nМы используем выборки **`train`** и **`val`** для того чтобы обучить модели которые будут предсказывать рекоммендации на **`test`**\n- формируем **кандидатов** используя **100 кандидатов** товаров для каждого пользователя"
  },
  {
   "metadata": {
    "papermill": {
     "duration": 0.007785,
     "end_time": "2025-01-22T06:06:01.479239",
     "exception": false,
     "start_time": "2025-01-22T06:06:01.471454",
     "status": "completed"
    },
    "tags": []
   },
   "id": "290e602b",
   "cell_type": "markdown",
   "source": "Готовим фичи тестовой глобальной выборки для модели 2го уровня\n\n- **`cat.user_col`**,**`cat.item_col`** : обязательно используем те же фичи которые использовали для модели 2го уровня"
  },
  {
   "metadata": {
    "execution": {
     "iopub.execute_input": "2025-01-22T06:06:01.498520Z",
     "iopub.status.busy": "2025-01-22T06:06:01.497991Z",
     "iopub.status.idle": "2025-01-22T06:06:01.507666Z",
     "shell.execute_reply": "2025-01-22T06:06:01.506399Z"
    },
    "papermill": {
     "duration": 0.02538,
     "end_time": "2025-01-22T06:06:01.512622",
     "exception": false,
     "start_time": "2025-01-22T06:06:01.487242",
     "status": "completed"
    },
    "tags": [],
    "trusted": false
   },
   "id": "5072f963",
   "cell_type": "code",
   "source": "# модель 2го уровня\ncat.model",
   "execution_count": 15,
   "outputs": [
    {
     "data": {
      "text/plain": "<catboost.core.CatBoostClassifier at 0x7a7331938460>"
     },
     "execution_count": 15,
     "metadata": {},
     "output_type": "execute_result"
    }
   ]
  },
  {
   "metadata": {
    "execution": {
     "iopub.execute_input": "2025-01-22T06:06:01.530243Z",
     "iopub.status.busy": "2025-01-22T06:06:01.529879Z",
     "iopub.status.idle": "2025-01-22T06:06:26.631723Z",
     "shell.execute_reply": "2025-01-22T06:06:26.630304Z"
    },
    "papermill": {
     "duration": 25.113119,
     "end_time": "2025-01-22T06:06:26.633936",
     "exception": false,
     "start_time": "2025-01-22T06:06:01.520817",
     "status": "completed"
    },
    "tags": [],
    "trusted": false
   },
   "id": "8b4bde29",
   "cell_type": "code",
   "source": "# Формируем кандидатов для тестовой выборки\ncand.create_candidates(k=100,subset='test')",
   "execution_count": 16,
   "outputs": [
    {
     "name": "stdout",
     "output_type": "stream",
     "text": "recall@k  0.06\nprecision@k  0.06\nmrr@k  0.03\n"
    }
   ]
  },
  {
   "metadata": {
    "execution": {
     "iopub.execute_input": "2025-01-22T06:06:26.652789Z",
     "iopub.status.busy": "2025-01-22T06:06:26.652378Z",
     "iopub.status.idle": "2025-01-22T06:06:31.524189Z",
     "shell.execute_reply": "2025-01-22T06:06:31.522833Z"
    },
    "papermill": {
     "duration": 4.883767,
     "end_time": "2025-01-22T06:06:31.526289",
     "exception": false,
     "start_time": "2025-01-22T06:06:26.642522",
     "status": "completed"
    },
    "tags": [],
    "trusted": false
   },
   "id": "05b2f966",
   "cell_type": "code",
   "source": "# все кандидаты для тестовой выборки\npred_bpr_ctb = cand.candidates.copy()\n\n# фичи для теста\nscore_feat = (pred_bpr_ctb\n              .merge(kion.users[cat.user_col], on=['user_id'], how='left')\n              .merge(kion.items[cat.item_col], on=['item_id'], how='left'))\n\n# fillna for catboost with the most frequent value\nscore_feat = score_feat.fillna(cat.X_train.mode().iloc[0])\nscore_feat.head()",
   "execution_count": 17,
   "outputs": [
    {
     "data": {
      "text/html": "<div>\n<style scoped>\n    .dataframe tbody tr th:only-of-type {\n        vertical-align: middle;\n    }\n\n    .dataframe tbody tr th {\n        vertical-align: top;\n    }\n\n    .dataframe thead th {\n        text-align: right;\n    }\n</style>\n<table border=\"1\" class=\"dataframe\">\n  <thead>\n    <tr style=\"text-align: right;\">\n      <th></th>\n      <th>user_id</th>\n      <th>item_id</th>\n      <th>rank</th>\n      <th>age</th>\n      <th>income</th>\n      <th>sex</th>\n      <th>kids_flg</th>\n      <th>content_type</th>\n      <th>countries</th>\n      <th>for_kids</th>\n      <th>age_rating</th>\n      <th>studios</th>\n      <th>release_year</th>\n      <th>directors</th>\n    </tr>\n  </thead>\n  <tbody>\n    <tr>\n      <th>0</th>\n      <td>21</td>\n      <td>849</td>\n      <td>1</td>\n      <td>age_45_54</td>\n      <td>income_20_40</td>\n      <td>Ж</td>\n      <td>0.0</td>\n      <td>film</td>\n      <td>США</td>\n      <td>0.0</td>\n      <td>18.0</td>\n      <td>HBO</td>\n      <td>2018.0</td>\n      <td>Кен Кушнер</td>\n    </tr>\n    <tr>\n      <th>1</th>\n      <td>21</td>\n      <td>1053</td>\n      <td>2</td>\n      <td>age_45_54</td>\n      <td>income_20_40</td>\n      <td>Ж</td>\n      <td>0.0</td>\n      <td>film</td>\n      <td>США</td>\n      <td>0.0</td>\n      <td>18.0</td>\n      <td>HBO</td>\n      <td>2020.0</td>\n      <td>Кларк Дьюк</td>\n    </tr>\n    <tr>\n      <th>2</th>\n      <td>21</td>\n      <td>24</td>\n      <td>3</td>\n      <td>age_45_54</td>\n      <td>income_20_40</td>\n      <td>Ж</td>\n      <td>0.0</td>\n      <td>series</td>\n      <td>Германия</td>\n      <td>0.0</td>\n      <td>16.0</td>\n      <td>HBO</td>\n      <td>2020.0</td>\n      <td>Флориан Галленбергер</td>\n    </tr>\n    <tr>\n      <th>3</th>\n      <td>21</td>\n      <td>826</td>\n      <td>4</td>\n      <td>age_45_54</td>\n      <td>income_20_40</td>\n      <td>Ж</td>\n      <td>0.0</td>\n      <td>film</td>\n      <td>Великобритания</td>\n      <td>0.0</td>\n      <td>16.0</td>\n      <td>HBO</td>\n      <td>2020.0</td>\n      <td>Джесси Кинонес</td>\n    </tr>\n    <tr>\n      <th>4</th>\n      <td>21</td>\n      <td>12975</td>\n      <td>5</td>\n      <td>age_45_54</td>\n      <td>income_20_40</td>\n      <td>Ж</td>\n      <td>0.0</td>\n      <td>film</td>\n      <td>США</td>\n      <td>0.0</td>\n      <td>18.0</td>\n      <td>HBO</td>\n      <td>2019.0</td>\n      <td>Майлз Джорис-Пейрафит</td>\n    </tr>\n  </tbody>\n</table>\n</div>",
      "text/plain": "   user_id item_id  rank        age        income sex  kids_flg content_type  \\\n0       21     849     1  age_45_54  income_20_40   Ж       0.0         film   \n1       21    1053     2  age_45_54  income_20_40   Ж       0.0         film   \n2       21      24     3  age_45_54  income_20_40   Ж       0.0       series   \n3       21     826     4  age_45_54  income_20_40   Ж       0.0         film   \n4       21   12975     5  age_45_54  income_20_40   Ж       0.0         film   \n\n        countries  for_kids  age_rating studios  release_year  \\\n0             США       0.0        18.0     HBO        2018.0   \n1             США       0.0        18.0     HBO        2020.0   \n2        Германия       0.0        16.0     HBO        2020.0   \n3  Великобритания       0.0        16.0     HBO        2020.0   \n4             США       0.0        18.0     HBO        2019.0   \n\n               directors  \n0             Кен Кушнер  \n1             Кларк Дьюк  \n2   Флориан Галленбергер  \n3         Джесси Кинонес  \n4  Майлз Джорис-Пейрафит  "
     },
     "execution_count": 17,
     "metadata": {},
     "output_type": "execute_result"
    }
   ]
  },
  {
   "metadata": {
    "execution": {
     "iopub.execute_input": "2025-01-22T06:06:31.544807Z",
     "iopub.status.busy": "2025-01-22T06:06:31.544396Z",
     "iopub.status.idle": "2025-01-22T06:06:31.551228Z",
     "shell.execute_reply": "2025-01-22T06:06:31.549833Z"
    },
    "papermill": {
     "duration": 0.017986,
     "end_time": "2025-01-22T06:06:31.552961",
     "exception": false,
     "start_time": "2025-01-22T06:06:31.534975",
     "status": "completed"
    },
    "tags": [],
    "trusted": false
   },
   "id": "28a39a72",
   "cell_type": "code",
   "source": "# гиперпараметры модели\ncat.model.get_params()",
   "execution_count": 18,
   "outputs": [
    {
     "data": {
      "text/plain": "{'learning_rate': 0.02442520558033121,\n 'depth': 10,\n 'silent': True,\n 'subsample': 0.7247704767962999,\n 'n_estimators': 5613}"
     },
     "execution_count": 18,
     "metadata": {},
     "output_type": "execute_result"
    }
   ]
  },
  {
   "metadata": {
    "execution": {
     "iopub.execute_input": "2025-01-22T06:06:31.571672Z",
     "iopub.status.busy": "2025-01-22T06:06:31.571281Z",
     "iopub.status.idle": "2025-01-22T06:07:08.758099Z",
     "shell.execute_reply": "2025-01-22T06:07:08.756920Z"
    },
    "papermill": {
     "duration": 37.206301,
     "end_time": "2025-01-22T06:07:08.767981",
     "exception": false,
     "start_time": "2025-01-22T06:06:31.561680",
     "status": "completed"
    },
    "tags": [],
    "trusted": false
   },
   "id": "89d7eee7",
   "cell_type": "code",
   "source": "# prediction and sort by predict proba weak values\nctb_prediction = cat.model.predict_proba(score_feat.drop(cat.drop_col, axis=1, errors='ignore'))\n\npred_bpr_ctb['ctb_pred'] = ctb_prediction[:, 1] # prob for positive class\n\npred_bpr_ctb = pred_bpr_ctb.sort_values(\n                                        by=['user_id', 'ctb_pred'], \n                                        ascending=[True, False])\npred_bpr_ctb['rank_ctb'] = pred_bpr_ctb.groupby('user_id').cumcount() + 1\npred_bpr_ctb.head()",
   "execution_count": 19,
   "outputs": [
    {
     "data": {
      "text/html": "<div>\n<style scoped>\n    .dataframe tbody tr th:only-of-type {\n        vertical-align: middle;\n    }\n\n    .dataframe tbody tr th {\n        vertical-align: top;\n    }\n\n    .dataframe thead th {\n        text-align: right;\n    }\n</style>\n<table border=\"1\" class=\"dataframe\">\n  <thead>\n    <tr style=\"text-align: right;\">\n      <th></th>\n      <th>user_id</th>\n      <th>item_id</th>\n      <th>rank</th>\n      <th>ctb_pred</th>\n      <th>rank_ctb</th>\n    </tr>\n  </thead>\n  <tbody>\n    <tr>\n      <th>1</th>\n      <td>21</td>\n      <td>14703</td>\n      <td>62</td>\n      <td>0.493133</td>\n      <td>1</td>\n    </tr>\n    <tr>\n      <th>1</th>\n      <td>21</td>\n      <td>8636</td>\n      <td>75</td>\n      <td>0.429543</td>\n      <td>2</td>\n    </tr>\n    <tr>\n      <th>1</th>\n      <td>21</td>\n      <td>1132</td>\n      <td>64</td>\n      <td>0.422380</td>\n      <td>3</td>\n    </tr>\n    <tr>\n      <th>1</th>\n      <td>21</td>\n      <td>11661</td>\n      <td>36</td>\n      <td>0.419328</td>\n      <td>4</td>\n    </tr>\n    <tr>\n      <th>1</th>\n      <td>21</td>\n      <td>12659</td>\n      <td>10</td>\n      <td>0.346157</td>\n      <td>5</td>\n    </tr>\n  </tbody>\n</table>\n</div>",
      "text/plain": "   user_id item_id  rank  ctb_pred  rank_ctb\n1       21   14703    62  0.493133         1\n1       21    8636    75  0.429543         2\n1       21    1132    64  0.422380         3\n1       21   11661    36  0.419328         4\n1       21   12659    10  0.346157         5"
     },
     "execution_count": 19,
     "metadata": {},
     "output_type": "execute_result"
    }
   ]
  },
  {
   "metadata": {
    "execution": {
     "iopub.execute_input": "2025-01-22T06:07:08.786614Z",
     "iopub.status.busy": "2025-01-22T06:07:08.786257Z",
     "iopub.status.idle": "2025-01-22T06:07:14.885431Z",
     "shell.execute_reply": "2025-01-22T06:07:14.884424Z"
    },
    "papermill": {
     "duration": 6.110808,
     "end_time": "2025-01-22T06:07:14.887424",
     "exception": false,
     "start_time": "2025-01-22T06:07:08.776616",
     "status": "completed"
    },
    "tags": [],
    "trusted": false
   },
   "id": "8bf62a6a",
   "cell_type": "code",
   "source": "true_items = kion.test.groupby('user_id').agg(lambda x: list(x))[['item_id']].reset_index()\npred_items = pred_bpr_ctb.groupby('user_id').agg(lambda x: list(x))[['item_id']].reset_index().rename(columns={'item_id': 'preds'})\ntrue_pred_items = true_items.merge(pred_items, how='left')\ntrue_pred_items = true_pred_items.dropna(subset=['preds'])",
   "execution_count": 20,
   "outputs": []
  },
  {
   "metadata": {
    "execution": {
     "iopub.execute_input": "2025-01-22T06:07:14.906931Z",
     "iopub.status.busy": "2025-01-22T06:07:14.906457Z",
     "iopub.status.idle": "2025-01-22T06:07:18.943800Z",
     "shell.execute_reply": "2025-01-22T06:07:18.942583Z"
    },
    "papermill": {
     "duration": 4.048856,
     "end_time": "2025-01-22T06:07:18.945638",
     "exception": false,
     "start_time": "2025-01-22T06:07:14.896782",
     "status": "completed"
    },
    "tags": [],
    "trusted": false
   },
   "id": "e37c5cfb",
   "cell_type": "code",
   "source": "# Параметры на тестовой выборке\nprint('recall@k',round(recall(true_pred_items, k=20),3))\nprint('precision@k',round(precision(true_pred_items, k=20),3))\nprint('mrr@k',round(mrr(true_pred_items, k=20),3))",
   "execution_count": 21,
   "outputs": [
    {
     "name": "stdout",
     "output_type": "stream",
     "text": "recall@k 0.072\nprecision@k 0.072\nmrr@k 0.051\n"
    }
   ]
  },
  {
   "metadata": {},
   "id": "b9caec03",
   "cell_type": "markdown",
   "source": "### **Шаги для улучшения модели**\n\n**Выбор кандидатов**\n\n- Изночально использовалось **30 кандидатов** для каждого пользователя, качесто обоих моделей увеличивалось при увеличении этого параметр, в этом ноутбуке использовалось **100 кандидатов (positive sample)**.\n- Пробовалось несколько вариантов подбора гиперпараметра **регурелизации**, в исходном ноутабуке использовалось 0.01, при увеличении этого параметра качество модели стало существено хуже. Аналогично если он был сличком маленький, качество модели тоже падало.\n- Так же были попытки улучшить качество модели увеличив `factors` от 50 до 75, но это не повлияло на итоговую метрику\n\n\n**Фичи инжиниринг**\n\nВ исходных данных не все признаки использовались, для улучшения моделей, признаки **`release_year`**,**`directors`** были добавлены для модели 2го уровня что улучшило качество модели\n- Прирост от этого добавления этих фич был в районе 0.01\n\n**Оптимизация Гиперапараметров модели 2го уровня**\n\nМы можем использовать `optuna` для подбора гиперпараметров парамерты которые будем оптимизировать находятся в `param` и имеют значение **`trial.suggest_`**\n- `subsample`\n- `depth`\n- `n_estimators`\n- `learning_rate`\n\nПрирост метрпики от этой оптимизации так же составил примерно 0.01\n\n\n<br>\n\n**До и после метрики**\n\n**metric**| **исходная** | **изменение** \n| -: | - | - |\n| recall | recall@k - | recall@k 0.072\n| precision | было 0.0468 | precision@k 0.072\n| mrr | mrr@k - | mrr@k 0.051 |"
  }
 ],
 "metadata": {
  "kaggle": {
   "accelerator": "none",
   "dataSources": [
    {
     "datasetId": 6409061,
     "sourceId": 10349911,
     "sourceType": "datasetVersion"
    }
   ],
   "dockerImageVersionId": 30839,
   "isGpuEnabled": false,
   "isInternetEnabled": true,
   "language": "python",
   "sourceType": "notebook"
  },
  "kernelspec": {
   "name": "python3",
   "display_name": "Python 3",
   "language": "python"
  },
  "language_info": {
   "name": "python",
   "version": "3.10.4",
   "mimetype": "text/x-python",
   "codemirror_mode": {
    "name": "ipython",
    "version": 3
   },
   "pygments_lexer": "ipython3",
   "nbconvert_exporter": "python",
   "file_extension": ".py"
  },
  "papermill": {
   "default_parameters": {},
   "duration": 2135.595618,
   "end_time": "2025-01-22T06:07:20.888482",
   "environment_variables": {},
   "exception": null,
   "input_path": "__notebook__.ipynb",
   "output_path": "__notebook__.ipynb",
   "parameters": {},
   "start_time": "2025-01-22T05:31:45.292864",
   "version": "2.6.0"
  },
  "widgets": {
   "application/vnd.jupyter.widget-state+json": {
    "state": {
     "00fecb18573d4365aa45468327f33b2d": {
      "model_module": "@jupyter-widgets/base",
      "model_module_version": "2.0.0",
      "model_name": "LayoutModel",
      "state": {
       "_model_module": "@jupyter-widgets/base",
       "_model_module_version": "2.0.0",
       "_model_name": "LayoutModel",
       "_view_count": null,
       "_view_module": "@jupyter-widgets/base",
       "_view_module_version": "2.0.0",
       "_view_name": "LayoutView",
       "align_content": null,
       "align_items": null,
       "align_self": null,
       "border_bottom": null,
       "border_left": null,
       "border_right": null,
       "border_top": null,
       "bottom": null,
       "display": null,
       "flex": null,
       "flex_flow": null,
       "grid_area": null,
       "grid_auto_columns": null,
       "grid_auto_flow": null,
       "grid_auto_rows": null,
       "grid_column": null,
       "grid_gap": null,
       "grid_row": null,
       "grid_template_areas": null,
       "grid_template_columns": null,
       "grid_template_rows": null,
       "height": null,
       "justify_content": null,
       "justify_items": null,
       "left": null,
       "margin": null,
       "max_height": null,
       "max_width": null,
       "min_height": null,
       "min_width": null,
       "object_fit": null,
       "object_position": null,
       "order": null,
       "overflow": null,
       "padding": null,
       "right": null,
       "top": null,
       "visibility": null,
       "width": null
      }
     },
     "164583173dd54ea2b2c0098dff1348a7": {
      "model_module": "@jupyter-widgets/controls",
      "model_module_version": "2.0.0",
      "model_name": "HTMLStyleModel",
      "state": {
       "_model_module": "@jupyter-widgets/controls",
       "_model_module_version": "2.0.0",
       "_model_name": "HTMLStyleModel",
       "_view_count": null,
       "_view_module": "@jupyter-widgets/base",
       "_view_module_version": "2.0.0",
       "_view_name": "StyleView",
       "background": null,
       "description_width": "",
       "font_size": null,
       "text_color": null
      }
     },
     "258bb53a87954a94a041c41b3ba6d3f4": {
      "model_module": "@jupyter-widgets/base",
      "model_module_version": "2.0.0",
      "model_name": "LayoutModel",
      "state": {
       "_model_module": "@jupyter-widgets/base",
       "_model_module_version": "2.0.0",
       "_model_name": "LayoutModel",
       "_view_count": null,
       "_view_module": "@jupyter-widgets/base",
       "_view_module_version": "2.0.0",
       "_view_name": "LayoutView",
       "align_content": null,
       "align_items": null,
       "align_self": null,
       "border_bottom": null,
       "border_left": null,
       "border_right": null,
       "border_top": null,
       "bottom": null,
       "display": null,
       "flex": null,
       "flex_flow": null,
       "grid_area": null,
       "grid_auto_columns": null,
       "grid_auto_flow": null,
       "grid_auto_rows": null,
       "grid_column": null,
       "grid_gap": null,
       "grid_row": null,
       "grid_template_areas": null,
       "grid_template_columns": null,
       "grid_template_rows": null,
       "height": null,
       "justify_content": null,
       "justify_items": null,
       "left": null,
       "margin": null,
       "max_height": null,
       "max_width": null,
       "min_height": null,
       "min_width": null,
       "object_fit": null,
       "object_position": null,
       "order": null,
       "overflow": null,
       "padding": null,
       "right": null,
       "top": null,
       "visibility": null,
       "width": null
      }
     },
     "278cfe2f0ae74b90af528377125daedc": {
      "model_module": "@jupyter-widgets/controls",
      "model_module_version": "2.0.0",
      "model_name": "HBoxModel",
      "state": {
       "_dom_classes": [],
       "_model_module": "@jupyter-widgets/controls",
       "_model_module_version": "2.0.0",
       "_model_name": "HBoxModel",
       "_view_count": null,
       "_view_module": "@jupyter-widgets/controls",
       "_view_module_version": "2.0.0",
       "_view_name": "HBoxView",
       "box_style": "",
       "children": [
        "IPY_MODEL_6f2a6abf567e41f9934822806d4f923c",
        "IPY_MODEL_7c6503ba5bc449b884f16be5db1679ee",
        "IPY_MODEL_7a8b37df50a1452eb1c2d1668bd8d6e8"
       ],
       "layout": "IPY_MODEL_00fecb18573d4365aa45468327f33b2d",
       "tabbable": null,
       "tooltip": null
      }
     },
     "2fcc224e84fa4f9daf7862997ffc3437": {
      "model_module": "@jupyter-widgets/controls",
      "model_module_version": "2.0.0",
      "model_name": "ProgressStyleModel",
      "state": {
       "_model_module": "@jupyter-widgets/controls",
       "_model_module_version": "2.0.0",
       "_model_name": "ProgressStyleModel",
       "_view_count": null,
       "_view_module": "@jupyter-widgets/base",
       "_view_module_version": "2.0.0",
       "_view_name": "StyleView",
       "bar_color": null,
       "description_width": ""
      }
     },
     "6af5867ed342452b81ed5de86aa299f9": {
      "model_module": "@jupyter-widgets/base",
      "model_module_version": "2.0.0",
      "model_name": "LayoutModel",
      "state": {
       "_model_module": "@jupyter-widgets/base",
       "_model_module_version": "2.0.0",
       "_model_name": "LayoutModel",
       "_view_count": null,
       "_view_module": "@jupyter-widgets/base",
       "_view_module_version": "2.0.0",
       "_view_name": "LayoutView",
       "align_content": null,
       "align_items": null,
       "align_self": null,
       "border_bottom": null,
       "border_left": null,
       "border_right": null,
       "border_top": null,
       "bottom": null,
       "display": null,
       "flex": null,
       "flex_flow": null,
       "grid_area": null,
       "grid_auto_columns": null,
       "grid_auto_flow": null,
       "grid_auto_rows": null,
       "grid_column": null,
       "grid_gap": null,
       "grid_row": null,
       "grid_template_areas": null,
       "grid_template_columns": null,
       "grid_template_rows": null,
       "height": null,
       "justify_content": null,
       "justify_items": null,
       "left": null,
       "margin": null,
       "max_height": null,
       "max_width": null,
       "min_height": null,
       "min_width": null,
       "object_fit": null,
       "object_position": null,
       "order": null,
       "overflow": null,
       "padding": null,
       "right": null,
       "top": null,
       "visibility": null,
       "width": null
      }
     },
     "6f2a6abf567e41f9934822806d4f923c": {
      "model_module": "@jupyter-widgets/controls",
      "model_module_version": "2.0.0",
      "model_name": "HTMLModel",
      "state": {
       "_dom_classes": [],
       "_model_module": "@jupyter-widgets/controls",
       "_model_module_version": "2.0.0",
       "_model_name": "HTMLModel",
       "_view_count": null,
       "_view_module": "@jupyter-widgets/controls",
       "_view_module_version": "2.0.0",
       "_view_name": "HTMLView",
       "description": "",
       "description_allow_html": false,
       "layout": "IPY_MODEL_c73445b78ea944a2b5fe7991a1b7c3a3",
       "placeholder": "​",
       "style": "IPY_MODEL_defc87956d8848f999df5c690b9b0973",
       "tabbable": null,
       "tooltip": null,
       "value": "Best trial: 1. Best value: 0.850105:   4%"
      }
     },
     "75141cb9e404402999557241868b82fa": {
      "model_module": "@jupyter-widgets/controls",
      "model_module_version": "2.0.0",
      "model_name": "FloatProgressModel",
      "state": {
       "_dom_classes": [],
       "_model_module": "@jupyter-widgets/controls",
       "_model_module_version": "2.0.0",
       "_model_name": "FloatProgressModel",
       "_view_count": null,
       "_view_module": "@jupyter-widgets/controls",
       "_view_module_version": "2.0.0",
       "_view_name": "ProgressView",
       "bar_style": "success",
       "description": "",
       "description_allow_html": false,
       "layout": "IPY_MODEL_d81e3eaddef948519d0dadcd61eabb9d",
       "max": 50,
       "min": 0,
       "orientation": "horizontal",
       "style": "IPY_MODEL_2fcc224e84fa4f9daf7862997ffc3437",
       "tabbable": null,
       "tooltip": null,
       "value": 50
      }
     },
     "7a8b37df50a1452eb1c2d1668bd8d6e8": {
      "model_module": "@jupyter-widgets/controls",
      "model_module_version": "2.0.0",
      "model_name": "HTMLModel",
      "state": {
       "_dom_classes": [],
       "_model_module": "@jupyter-widgets/controls",
       "_model_module_version": "2.0.0",
       "_model_name": "HTMLModel",
       "_view_count": null,
       "_view_module": "@jupyter-widgets/controls",
       "_view_module_version": "2.0.0",
       "_view_name": "HTMLView",
       "description": "",
       "description_allow_html": false,
       "layout": "IPY_MODEL_6af5867ed342452b81ed5de86aa299f9",
       "placeholder": "​",
       "style": "IPY_MODEL_810f694e94db4b8c84414d9c3bdbb2ac",
       "tabbable": null,
       "tooltip": null,
       "value": " 2/50 [20:12&lt;8:29:21, 636.69s/it, 1212.63/600 seconds]"
      }
     },
     "7c6503ba5bc449b884f16be5db1679ee": {
      "model_module": "@jupyter-widgets/controls",
      "model_module_version": "2.0.0",
      "model_name": "FloatProgressModel",
      "state": {
       "_dom_classes": [],
       "_model_module": "@jupyter-widgets/controls",
       "_model_module_version": "2.0.0",
       "_model_name": "FloatProgressModel",
       "_view_count": null,
       "_view_module": "@jupyter-widgets/controls",
       "_view_module_version": "2.0.0",
       "_view_name": "ProgressView",
       "bar_style": "danger",
       "description": "",
       "description_allow_html": false,
       "layout": "IPY_MODEL_a3b8a05d596a4722936e557ae0839264",
       "max": 50,
       "min": 0,
       "orientation": "horizontal",
       "style": "IPY_MODEL_8610f600435149598d3c4f423688b4a9",
       "tabbable": null,
       "tooltip": null,
       "value": 2
      }
     },
     "810f694e94db4b8c84414d9c3bdbb2ac": {
      "model_module": "@jupyter-widgets/controls",
      "model_module_version": "2.0.0",
      "model_name": "HTMLStyleModel",
      "state": {
       "_model_module": "@jupyter-widgets/controls",
       "_model_module_version": "2.0.0",
       "_model_name": "HTMLStyleModel",
       "_view_count": null,
       "_view_module": "@jupyter-widgets/base",
       "_view_module_version": "2.0.0",
       "_view_name": "StyleView",
       "background": null,
       "description_width": "",
       "font_size": null,
       "text_color": null
      }
     },
     "8610f600435149598d3c4f423688b4a9": {
      "model_module": "@jupyter-widgets/controls",
      "model_module_version": "2.0.0",
      "model_name": "ProgressStyleModel",
      "state": {
       "_model_module": "@jupyter-widgets/controls",
       "_model_module_version": "2.0.0",
       "_model_name": "ProgressStyleModel",
       "_view_count": null,
       "_view_module": "@jupyter-widgets/base",
       "_view_module_version": "2.0.0",
       "_view_name": "StyleView",
       "bar_color": null,
       "description_width": ""
      }
     },
     "990dd72f9baf44aea1bcd3e7f3454d5e": {
      "model_module": "@jupyter-widgets/base",
      "model_module_version": "2.0.0",
      "model_name": "LayoutModel",
      "state": {
       "_model_module": "@jupyter-widgets/base",
       "_model_module_version": "2.0.0",
       "_model_name": "LayoutModel",
       "_view_count": null,
       "_view_module": "@jupyter-widgets/base",
       "_view_module_version": "2.0.0",
       "_view_name": "LayoutView",
       "align_content": null,
       "align_items": null,
       "align_self": null,
       "border_bottom": null,
       "border_left": null,
       "border_right": null,
       "border_top": null,
       "bottom": null,
       "display": null,
       "flex": null,
       "flex_flow": null,
       "grid_area": null,
       "grid_auto_columns": null,
       "grid_auto_flow": null,
       "grid_auto_rows": null,
       "grid_column": null,
       "grid_gap": null,
       "grid_row": null,
       "grid_template_areas": null,
       "grid_template_columns": null,
       "grid_template_rows": null,
       "height": null,
       "justify_content": null,
       "justify_items": null,
       "left": null,
       "margin": null,
       "max_height": null,
       "max_width": null,
       "min_height": null,
       "min_width": null,
       "object_fit": null,
       "object_position": null,
       "order": null,
       "overflow": null,
       "padding": null,
       "right": null,
       "top": null,
       "visibility": null,
       "width": null
      }
     },
     "9e88d420e7ba41538b00a46712e1bc4f": {
      "model_module": "@jupyter-widgets/controls",
      "model_module_version": "2.0.0",
      "model_name": "HBoxModel",
      "state": {
       "_dom_classes": [],
       "_model_module": "@jupyter-widgets/controls",
       "_model_module_version": "2.0.0",
       "_model_name": "HBoxModel",
       "_view_count": null,
       "_view_module": "@jupyter-widgets/controls",
       "_view_module_version": "2.0.0",
       "_view_name": "HBoxView",
       "box_style": "",
       "children": [
        "IPY_MODEL_b268b2714acd44c283e4843e426a8656",
        "IPY_MODEL_75141cb9e404402999557241868b82fa",
        "IPY_MODEL_b90d3294ea3e4a4bae4f52acf4fdd6be"
       ],
       "layout": "IPY_MODEL_c12ea85551b24cf1b47c9a4ffc9dc925",
       "tabbable": null,
       "tooltip": null
      }
     },
     "a3b8a05d596a4722936e557ae0839264": {
      "model_module": "@jupyter-widgets/base",
      "model_module_version": "2.0.0",
      "model_name": "LayoutModel",
      "state": {
       "_model_module": "@jupyter-widgets/base",
       "_model_module_version": "2.0.0",
       "_model_name": "LayoutModel",
       "_view_count": null,
       "_view_module": "@jupyter-widgets/base",
       "_view_module_version": "2.0.0",
       "_view_name": "LayoutView",
       "align_content": null,
       "align_items": null,
       "align_self": null,
       "border_bottom": null,
       "border_left": null,
       "border_right": null,
       "border_top": null,
       "bottom": null,
       "display": null,
       "flex": null,
       "flex_flow": null,
       "grid_area": null,
       "grid_auto_columns": null,
       "grid_auto_flow": null,
       "grid_auto_rows": null,
       "grid_column": null,
       "grid_gap": null,
       "grid_row": null,
       "grid_template_areas": null,
       "grid_template_columns": null,
       "grid_template_rows": null,
       "height": null,
       "justify_content": null,
       "justify_items": null,
       "left": null,
       "margin": null,
       "max_height": null,
       "max_width": null,
       "min_height": null,
       "min_width": null,
       "object_fit": null,
       "object_position": null,
       "order": null,
       "overflow": null,
       "padding": null,
       "right": null,
       "top": null,
       "visibility": null,
       "width": null
      }
     },
     "b268b2714acd44c283e4843e426a8656": {
      "model_module": "@jupyter-widgets/controls",
      "model_module_version": "2.0.0",
      "model_name": "HTMLModel",
      "state": {
       "_dom_classes": [],
       "_model_module": "@jupyter-widgets/controls",
       "_model_module_version": "2.0.0",
       "_model_name": "HTMLModel",
       "_view_count": null,
       "_view_module": "@jupyter-widgets/controls",
       "_view_module_version": "2.0.0",
       "_view_name": "HTMLView",
       "description": "",
       "description_allow_html": false,
       "layout": "IPY_MODEL_258bb53a87954a94a041c41b3ba6d3f4",
       "placeholder": "​",
       "style": "IPY_MODEL_c30950363cbd4144b0c18afb2adad236",
       "tabbable": null,
       "tooltip": null,
       "value": "100%"
      }
     },
     "b90d3294ea3e4a4bae4f52acf4fdd6be": {
      "model_module": "@jupyter-widgets/controls",
      "model_module_version": "2.0.0",
      "model_name": "HTMLModel",
      "state": {
       "_dom_classes": [],
       "_model_module": "@jupyter-widgets/controls",
       "_model_module_version": "2.0.0",
       "_model_name": "HTMLModel",
       "_view_count": null,
       "_view_module": "@jupyter-widgets/controls",
       "_view_module_version": "2.0.0",
       "_view_name": "HTMLView",
       "description": "",
       "description_allow_html": false,
       "layout": "IPY_MODEL_990dd72f9baf44aea1bcd3e7f3454d5e",
       "placeholder": "​",
       "style": "IPY_MODEL_164583173dd54ea2b2c0098dff1348a7",
       "tabbable": null,
       "tooltip": null,
       "value": " 50/50 [00:09&lt;00:00,  5.28it/s, train_auc=85.60%, skipped=3.50%]"
      }
     },
     "c12ea85551b24cf1b47c9a4ffc9dc925": {
      "model_module": "@jupyter-widgets/base",
      "model_module_version": "2.0.0",
      "model_name": "LayoutModel",
      "state": {
       "_model_module": "@jupyter-widgets/base",
       "_model_module_version": "2.0.0",
       "_model_name": "LayoutModel",
       "_view_count": null,
       "_view_module": "@jupyter-widgets/base",
       "_view_module_version": "2.0.0",
       "_view_name": "LayoutView",
       "align_content": null,
       "align_items": null,
       "align_self": null,
       "border_bottom": null,
       "border_left": null,
       "border_right": null,
       "border_top": null,
       "bottom": null,
       "display": null,
       "flex": null,
       "flex_flow": null,
       "grid_area": null,
       "grid_auto_columns": null,
       "grid_auto_flow": null,
       "grid_auto_rows": null,
       "grid_column": null,
       "grid_gap": null,
       "grid_row": null,
       "grid_template_areas": null,
       "grid_template_columns": null,
       "grid_template_rows": null,
       "height": null,
       "justify_content": null,
       "justify_items": null,
       "left": null,
       "margin": null,
       "max_height": null,
       "max_width": null,
       "min_height": null,
       "min_width": null,
       "object_fit": null,
       "object_position": null,
       "order": null,
       "overflow": null,
       "padding": null,
       "right": null,
       "top": null,
       "visibility": null,
       "width": null
      }
     },
     "c30950363cbd4144b0c18afb2adad236": {
      "model_module": "@jupyter-widgets/controls",
      "model_module_version": "2.0.0",
      "model_name": "HTMLStyleModel",
      "state": {
       "_model_module": "@jupyter-widgets/controls",
       "_model_module_version": "2.0.0",
       "_model_name": "HTMLStyleModel",
       "_view_count": null,
       "_view_module": "@jupyter-widgets/base",
       "_view_module_version": "2.0.0",
       "_view_name": "StyleView",
       "background": null,
       "description_width": "",
       "font_size": null,
       "text_color": null
      }
     },
     "c73445b78ea944a2b5fe7991a1b7c3a3": {
      "model_module": "@jupyter-widgets/base",
      "model_module_version": "2.0.0",
      "model_name": "LayoutModel",
      "state": {
       "_model_module": "@jupyter-widgets/base",
       "_model_module_version": "2.0.0",
       "_model_name": "LayoutModel",
       "_view_count": null,
       "_view_module": "@jupyter-widgets/base",
       "_view_module_version": "2.0.0",
       "_view_name": "LayoutView",
       "align_content": null,
       "align_items": null,
       "align_self": null,
       "border_bottom": null,
       "border_left": null,
       "border_right": null,
       "border_top": null,
       "bottom": null,
       "display": null,
       "flex": null,
       "flex_flow": null,
       "grid_area": null,
       "grid_auto_columns": null,
       "grid_auto_flow": null,
       "grid_auto_rows": null,
       "grid_column": null,
       "grid_gap": null,
       "grid_row": null,
       "grid_template_areas": null,
       "grid_template_columns": null,
       "grid_template_rows": null,
       "height": null,
       "justify_content": null,
       "justify_items": null,
       "left": null,
       "margin": null,
       "max_height": null,
       "max_width": null,
       "min_height": null,
       "min_width": null,
       "object_fit": null,
       "object_position": null,
       "order": null,
       "overflow": null,
       "padding": null,
       "right": null,
       "top": null,
       "visibility": null,
       "width": null
      }
     },
     "d81e3eaddef948519d0dadcd61eabb9d": {
      "model_module": "@jupyter-widgets/base",
      "model_module_version": "2.0.0",
      "model_name": "LayoutModel",
      "state": {
       "_model_module": "@jupyter-widgets/base",
       "_model_module_version": "2.0.0",
       "_model_name": "LayoutModel",
       "_view_count": null,
       "_view_module": "@jupyter-widgets/base",
       "_view_module_version": "2.0.0",
       "_view_name": "LayoutView",
       "align_content": null,
       "align_items": null,
       "align_self": null,
       "border_bottom": null,
       "border_left": null,
       "border_right": null,
       "border_top": null,
       "bottom": null,
       "display": null,
       "flex": null,
       "flex_flow": null,
       "grid_area": null,
       "grid_auto_columns": null,
       "grid_auto_flow": null,
       "grid_auto_rows": null,
       "grid_column": null,
       "grid_gap": null,
       "grid_row": null,
       "grid_template_areas": null,
       "grid_template_columns": null,
       "grid_template_rows": null,
       "height": null,
       "justify_content": null,
       "justify_items": null,
       "left": null,
       "margin": null,
       "max_height": null,
       "max_width": null,
       "min_height": null,
       "min_width": null,
       "object_fit": null,
       "object_position": null,
       "order": null,
       "overflow": null,
       "padding": null,
       "right": null,
       "top": null,
       "visibility": null,
       "width": null
      }
     },
     "defc87956d8848f999df5c690b9b0973": {
      "model_module": "@jupyter-widgets/controls",
      "model_module_version": "2.0.0",
      "model_name": "HTMLStyleModel",
      "state": {
       "_model_module": "@jupyter-widgets/controls",
       "_model_module_version": "2.0.0",
       "_model_name": "HTMLStyleModel",
       "_view_count": null,
       "_view_module": "@jupyter-widgets/base",
       "_view_module_version": "2.0.0",
       "_view_name": "StyleView",
       "background": null,
       "description_width": "",
       "font_size": null,
       "text_color": null
      }
     }
    },
    "version_major": 2,
    "version_minor": 0
   }
  }
 },
 "nbformat": 4,
 "nbformat_minor": 5
}