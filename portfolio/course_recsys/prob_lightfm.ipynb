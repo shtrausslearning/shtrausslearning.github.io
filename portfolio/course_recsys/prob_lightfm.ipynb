{
 "cells": [
  {
   "cell_type": "code",
   "execution_count": 1,
   "id": "dc38038a",
   "metadata": {
    "execution": {
     "iopub.execute_input": "2025-01-19T11:16:04.508555Z",
     "iopub.status.busy": "2025-01-19T11:16:04.508197Z",
     "iopub.status.idle": "2025-01-19T11:16:22.185668Z",
     "shell.execute_reply": "2025-01-19T11:16:22.184194Z"
    },
    "papermill": {
     "duration": 17.690885,
     "end_time": "2025-01-19T11:16:22.187775",
     "exception": false,
     "start_time": "2025-01-19T11:16:04.496890",
     "status": "completed"
    },
    "tags": []
   },
   "outputs": [
    {
     "name": "stdout",
     "output_type": "stream",
     "text": [
      "\u001b[2K     \u001b[90m━━━━━━━━━━━━━━━━━━━━━━━━━━━━━━━━━━━━━━━━\u001b[0m \u001b[32m316.4/316.4 kB\u001b[0m \u001b[31m5.8 MB/s\u001b[0m eta \u001b[36m0:00:00\u001b[0m\r\n",
      "\u001b[?25h  Preparing metadata (setup.py) ... \u001b[?25l\u001b[?25hdone\r\n",
      "  Building wheel for lightfm (setup.py) ... \u001b[?25l\u001b[?25hdone\r\n"
     ]
    }
   ],
   "source": [
    "!pip install lightfm --quiet"
   ]
  },
  {
   "cell_type": "code",
   "execution_count": 2,
   "id": "6576e78a",
   "metadata": {
    "_cell_guid": "b1076dfc-b9ad-4769-8c92-a6c4dae69d19",
    "_uuid": "8f2839f25d086af736a60e9eeb907d3b93b6e0e5",
    "execution": {
     "iopub.execute_input": "2025-01-19T11:16:22.209212Z",
     "iopub.status.busy": "2025-01-19T11:16:22.208848Z",
     "iopub.status.idle": "2025-01-19T11:16:24.288599Z",
     "shell.execute_reply": "2025-01-19T11:16:24.287164Z"
    },
    "papermill": {
     "duration": 2.092661,
     "end_time": "2025-01-19T11:16:24.290645",
     "exception": false,
     "start_time": "2025-01-19T11:16:22.197984",
     "status": "completed"
    },
    "tags": []
   },
   "outputs": [],
   "source": [
    "from lightfm import LightFM\n",
    "from lightfm.data import Dataset as LFMDataset\n",
    "import numpy as np\n",
    "import pandas as pd\n",
    "import scipy.sparse as sparse\n",
    "from scipy.sparse import csr_matrix, diags\n",
    "from scipy.sparse.linalg import svds\n",
    "from tqdm import tqdm"
   ]
  },
  {
   "cell_type": "code",
   "execution_count": 3,
   "id": "4b18f59a",
   "metadata": {
    "execution": {
     "iopub.execute_input": "2025-01-19T11:16:24.312462Z",
     "iopub.status.busy": "2025-01-19T11:16:24.311939Z",
     "iopub.status.idle": "2025-01-19T11:16:24.316163Z",
     "shell.execute_reply": "2025-01-19T11:16:24.315283Z"
    },
    "papermill": {
     "duration": 0.016835,
     "end_time": "2025-01-19T11:16:24.317855",
     "exception": false,
     "start_time": "2025-01-19T11:16:24.301020",
     "status": "completed"
    },
    "tags": []
   },
   "outputs": [],
   "source": [
    "path_items = '/kaggle/input/mts-library/items.csv'\n",
    "path_mts_lib = '/kaggle/input/mts-library/mts_lib.csv'\n",
    "path_users = '/kaggle/input/mts-library/users.csv'"
   ]
  },
  {
   "cell_type": "code",
   "execution_count": 4,
   "id": "3082f217",
   "metadata": {
    "execution": {
     "iopub.execute_input": "2025-01-19T11:16:24.339673Z",
     "iopub.status.busy": "2025-01-19T11:16:24.339325Z",
     "iopub.status.idle": "2025-01-19T11:16:24.344830Z",
     "shell.execute_reply": "2025-01-19T11:16:24.343914Z"
    },
    "papermill": {
     "duration": 0.019244,
     "end_time": "2025-01-19T11:16:24.347451",
     "exception": false,
     "start_time": "2025-01-19T11:16:24.328207",
     "status": "completed"
    },
    "tags": []
   },
   "outputs": [],
   "source": [
    "# Функция для подсчета precision \n",
    "\n",
    "#       y_pred  item_id\n",
    "#  idx [a,b,c]  [a,f,d]\n",
    "\n",
    "def precision(df: pd.DataFrame, \n",
    "              pred_col='y_pred', \n",
    "              true_col='item_id', \n",
    "              k=20) -> float:\n",
    "    \n",
    "    precision_values = []\n",
    "    for _, row in df.iterrows():\n",
    "      num_relevant = len(set(row[true_col]) & set(row[pred_col][:k]))\n",
    "      num_true = min(k, len(row[true_col]))\n",
    "      precision_values.append(num_relevant / num_true)\n",
    "    return np.mean(precision_values)"
   ]
  },
  {
   "cell_type": "markdown",
   "id": "55c29b85",
   "metadata": {
    "papermill": {
     "duration": 0.009337,
     "end_time": "2025-01-19T11:16:24.367285",
     "exception": false,
     "start_time": "2025-01-19T11:16:24.357948",
     "status": "completed"
    },
    "tags": []
   },
   "source": [
    "# **Контентные методы рекомендаций**\n",
    "\n",
    "## <b><span style='color:#686dec'>1 | Задание</span></b>\n",
    "\n",
    "- Продолжим работу с данными mts-library: https://www.kaggle.com/datasets/sharthz23/mts-library\n",
    "- Обучите LightFM только на взаимодействиях и только на признаках пользователей и айтемов.\n",
    "- Сравните качество полученных моделей, а также модели, рассмотренной на занятии, по метрике **precision@20**\n",
    "- Напишите выводы о проделанной работе: в каком случае качество модели оказалось лучше, почему."
   ]
  },
  {
   "cell_type": "markdown",
   "id": "14a0f044",
   "metadata": {
    "papermill": {
     "duration": 0.010748,
     "end_time": "2025-01-19T11:16:24.388121",
     "exception": false,
     "start_time": "2025-01-19T11:16:24.377373",
     "status": "completed"
    },
    "tags": []
   },
   "source": [
    "## <b><span style='color:#686dec'>2 | Чтение данных</span></b>\n",
    "\n",
    "Взаимодействии пользоватетей и предметов\n",
    "\n",
    "\n"
   ]
  },
  {
   "cell_type": "code",
   "execution_count": 5,
   "id": "01c6d160",
   "metadata": {
    "execution": {
     "iopub.execute_input": "2025-01-19T11:16:24.408748Z",
     "iopub.status.busy": "2025-01-19T11:16:24.408382Z",
     "iopub.status.idle": "2025-01-19T11:16:25.532052Z",
     "shell.execute_reply": "2025-01-19T11:16:25.531048Z"
    },
    "papermill": {
     "duration": 1.135618,
     "end_time": "2025-01-19T11:16:25.533755",
     "exception": false,
     "start_time": "2025-01-19T11:16:24.398137",
     "status": "completed"
    },
    "tags": []
   },
   "outputs": [
    {
     "data": {
      "text/html": [
       "<div>\n",
       "<style scoped>\n",
       "    .dataframe tbody tr th:only-of-type {\n",
       "        vertical-align: middle;\n",
       "    }\n",
       "\n",
       "    .dataframe tbody tr th {\n",
       "        vertical-align: top;\n",
       "    }\n",
       "\n",
       "    .dataframe thead th {\n",
       "        text-align: right;\n",
       "    }\n",
       "</style>\n",
       "<table border=\"1\" class=\"dataframe\">\n",
       "  <thead>\n",
       "    <tr style=\"text-align: right;\">\n",
       "      <th></th>\n",
       "      <th>user_id</th>\n",
       "      <th>item_id</th>\n",
       "      <th>progress</th>\n",
       "      <th>rating</th>\n",
       "      <th>start_date</th>\n",
       "    </tr>\n",
       "  </thead>\n",
       "  <tbody>\n",
       "    <tr>\n",
       "      <th>0</th>\n",
       "      <td>126706</td>\n",
       "      <td>14433</td>\n",
       "      <td>80</td>\n",
       "      <td>NaN</td>\n",
       "      <td>2018-01-01</td>\n",
       "    </tr>\n",
       "    <tr>\n",
       "      <th>1</th>\n",
       "      <td>127290</td>\n",
       "      <td>140952</td>\n",
       "      <td>58</td>\n",
       "      <td>NaN</td>\n",
       "      <td>2018-01-01</td>\n",
       "    </tr>\n",
       "    <tr>\n",
       "      <th>2</th>\n",
       "      <td>66991</td>\n",
       "      <td>198453</td>\n",
       "      <td>89</td>\n",
       "      <td>NaN</td>\n",
       "      <td>2018-01-01</td>\n",
       "    </tr>\n",
       "    <tr>\n",
       "      <th>3</th>\n",
       "      <td>46791</td>\n",
       "      <td>83486</td>\n",
       "      <td>23</td>\n",
       "      <td>5.0</td>\n",
       "      <td>2018-01-01</td>\n",
       "    </tr>\n",
       "    <tr>\n",
       "      <th>4</th>\n",
       "      <td>79313</td>\n",
       "      <td>188770</td>\n",
       "      <td>88</td>\n",
       "      <td>5.0</td>\n",
       "      <td>2018-01-01</td>\n",
       "    </tr>\n",
       "  </tbody>\n",
       "</table>\n",
       "</div>"
      ],
      "text/plain": [
       "   user_id  item_id  progress  rating  start_date\n",
       "0   126706    14433        80     NaN  2018-01-01\n",
       "1   127290   140952        58     NaN  2018-01-01\n",
       "2    66991   198453        89     NaN  2018-01-01\n",
       "3    46791    83486        23     5.0  2018-01-01\n",
       "4    79313   188770        88     5.0  2018-01-01"
      ]
     },
     "execution_count": 5,
     "metadata": {},
     "output_type": "execute_result"
    }
   ],
   "source": [
    "df = pd.read_csv(path_mts_lib)\n",
    "df.head()"
   ]
  },
  {
   "cell_type": "markdown",
   "id": "71f8a4ef",
   "metadata": {
    "papermill": {
     "duration": 0.009403,
     "end_time": "2025-01-19T11:16:25.553144",
     "exception": false,
     "start_time": "2025-01-19T11:16:25.543741",
     "status": "completed"
    },
    "tags": []
   },
   "source": [
    "Возмем данные только для 2018 год"
   ]
  },
  {
   "cell_type": "code",
   "execution_count": 6,
   "id": "7b323171",
   "metadata": {
    "execution": {
     "iopub.execute_input": "2025-01-19T11:16:25.574653Z",
     "iopub.status.busy": "2025-01-19T11:16:25.574283Z",
     "iopub.status.idle": "2025-01-19T11:16:25.805512Z",
     "shell.execute_reply": "2025-01-19T11:16:25.804275Z"
    },
    "papermill": {
     "duration": 0.244012,
     "end_time": "2025-01-19T11:16:25.807472",
     "exception": false,
     "start_time": "2025-01-19T11:16:25.563460",
     "status": "completed"
    },
    "tags": []
   },
   "outputs": [
    {
     "name": "stdout",
     "output_type": "stream",
     "text": [
      "2018-01-02 00:00:00\n",
      "2018-12-31 00:00:00\n"
     ]
    }
   ],
   "source": [
    "df['start_date'] = df['start_date'].astype('datetime64[ns]')\n",
    "df = df[(df['start_date'] > '2018-01-01') & (df['start_date'] < '2019-01-01')]\n",
    "print(df['start_date'].min())\n",
    "print(df['start_date'].max())"
   ]
  },
  {
   "cell_type": "code",
   "execution_count": 7,
   "id": "d4fc5928",
   "metadata": {
    "execution": {
     "iopub.execute_input": "2025-01-19T11:16:25.828834Z",
     "iopub.status.busy": "2025-01-19T11:16:25.828429Z",
     "iopub.status.idle": "2025-01-19T11:16:26.271300Z",
     "shell.execute_reply": "2025-01-19T11:16:26.269633Z"
    },
    "papermill": {
     "duration": 0.455498,
     "end_time": "2025-01-19T11:16:26.273271",
     "exception": false,
     "start_time": "2025-01-19T11:16:25.817773",
     "status": "completed"
    },
    "tags": []
   },
   "outputs": [],
   "source": [
    "# Загружаем признаки для пользователей и предметов\n",
    "u_features = pd.read_csv(path_users)\n",
    "i_features = pd.read_csv(path_items)\n",
    "i_features.rename(columns={'id': 'item_id'}, inplace=True)"
   ]
  },
  {
   "cell_type": "code",
   "execution_count": 8,
   "id": "a30b290a",
   "metadata": {
    "execution": {
     "iopub.execute_input": "2025-01-19T11:16:26.294115Z",
     "iopub.status.busy": "2025-01-19T11:16:26.293698Z",
     "iopub.status.idle": "2025-01-19T11:16:26.303086Z",
     "shell.execute_reply": "2025-01-19T11:16:26.302225Z"
    },
    "papermill": {
     "duration": 0.021595,
     "end_time": "2025-01-19T11:16:26.304597",
     "exception": false,
     "start_time": "2025-01-19T11:16:26.283002",
     "status": "completed"
    },
    "tags": []
   },
   "outputs": [
    {
     "data": {
      "text/html": [
       "<div>\n",
       "<style scoped>\n",
       "    .dataframe tbody tr th:only-of-type {\n",
       "        vertical-align: middle;\n",
       "    }\n",
       "\n",
       "    .dataframe tbody tr th {\n",
       "        vertical-align: top;\n",
       "    }\n",
       "\n",
       "    .dataframe thead th {\n",
       "        text-align: right;\n",
       "    }\n",
       "</style>\n",
       "<table border=\"1\" class=\"dataframe\">\n",
       "  <thead>\n",
       "    <tr style=\"text-align: right;\">\n",
       "      <th></th>\n",
       "      <th>user_id</th>\n",
       "      <th>age</th>\n",
       "      <th>sex</th>\n",
       "    </tr>\n",
       "  </thead>\n",
       "  <tbody>\n",
       "    <tr>\n",
       "      <th>0</th>\n",
       "      <td>1</td>\n",
       "      <td>45_54</td>\n",
       "      <td>NaN</td>\n",
       "    </tr>\n",
       "    <tr>\n",
       "      <th>1</th>\n",
       "      <td>2</td>\n",
       "      <td>18_24</td>\n",
       "      <td>0.0</td>\n",
       "    </tr>\n",
       "    <tr>\n",
       "      <th>2</th>\n",
       "      <td>3</td>\n",
       "      <td>65_inf</td>\n",
       "      <td>0.0</td>\n",
       "    </tr>\n",
       "    <tr>\n",
       "      <th>3</th>\n",
       "      <td>4</td>\n",
       "      <td>18_24</td>\n",
       "      <td>0.0</td>\n",
       "    </tr>\n",
       "    <tr>\n",
       "      <th>4</th>\n",
       "      <td>5</td>\n",
       "      <td>35_44</td>\n",
       "      <td>0.0</td>\n",
       "    </tr>\n",
       "  </tbody>\n",
       "</table>\n",
       "</div>"
      ],
      "text/plain": [
       "   user_id     age  sex\n",
       "0        1   45_54  NaN\n",
       "1        2   18_24  0.0\n",
       "2        3  65_inf  0.0\n",
       "3        4   18_24  0.0\n",
       "4        5   35_44  0.0"
      ]
     },
     "metadata": {},
     "output_type": "display_data"
    }
   ],
   "source": [
    "display(u_features.head())"
   ]
  },
  {
   "cell_type": "code",
   "execution_count": 9,
   "id": "97334331",
   "metadata": {
    "execution": {
     "iopub.execute_input": "2025-01-19T11:16:26.326122Z",
     "iopub.status.busy": "2025-01-19T11:16:26.325754Z",
     "iopub.status.idle": "2025-01-19T11:16:26.335632Z",
     "shell.execute_reply": "2025-01-19T11:16:26.334630Z"
    },
    "papermill": {
     "duration": 0.02243,
     "end_time": "2025-01-19T11:16:26.337337",
     "exception": false,
     "start_time": "2025-01-19T11:16:26.314907",
     "status": "completed"
    },
    "tags": []
   },
   "outputs": [
    {
     "data": {
      "text/html": [
       "<div>\n",
       "<style scoped>\n",
       "    .dataframe tbody tr th:only-of-type {\n",
       "        vertical-align: middle;\n",
       "    }\n",
       "\n",
       "    .dataframe tbody tr th {\n",
       "        vertical-align: top;\n",
       "    }\n",
       "\n",
       "    .dataframe thead th {\n",
       "        text-align: right;\n",
       "    }\n",
       "</style>\n",
       "<table border=\"1\" class=\"dataframe\">\n",
       "  <thead>\n",
       "    <tr style=\"text-align: right;\">\n",
       "      <th></th>\n",
       "      <th>item_id</th>\n",
       "      <th>title</th>\n",
       "      <th>genres</th>\n",
       "      <th>authors</th>\n",
       "      <th>year</th>\n",
       "    </tr>\n",
       "  </thead>\n",
       "  <tbody>\n",
       "    <tr>\n",
       "      <th>0</th>\n",
       "      <td>128115</td>\n",
       "      <td>Ворон-челобитчик</td>\n",
       "      <td>Зарубежные детские книги,Сказки,Зарубежная кла...</td>\n",
       "      <td>Михаил Салтыков-Щедрин</td>\n",
       "      <td>1886</td>\n",
       "    </tr>\n",
       "    <tr>\n",
       "      <th>1</th>\n",
       "      <td>210979</td>\n",
       "      <td>Скрипка Ротшильда</td>\n",
       "      <td>Классическая проза,Литература 19 века,Русская ...</td>\n",
       "      <td>Антон Чехов</td>\n",
       "      <td>1894</td>\n",
       "    </tr>\n",
       "    <tr>\n",
       "      <th>2</th>\n",
       "      <td>95632</td>\n",
       "      <td>Испорченные дети</td>\n",
       "      <td>Зарубежная классика,Классическая проза,Литерат...</td>\n",
       "      <td>Михаил Салтыков-Щедрин</td>\n",
       "      <td>1869</td>\n",
       "    </tr>\n",
       "    <tr>\n",
       "      <th>3</th>\n",
       "      <td>247906</td>\n",
       "      <td>Странный человек</td>\n",
       "      <td>Пьесы и драматургия,Литература 19 века</td>\n",
       "      <td>Михаил Лермонтов</td>\n",
       "      <td>1831</td>\n",
       "    </tr>\n",
       "    <tr>\n",
       "      <th>4</th>\n",
       "      <td>294280</td>\n",
       "      <td>Господа ташкентцы</td>\n",
       "      <td>Зарубежная классика,Классическая проза,Литерат...</td>\n",
       "      <td>Михаил Салтыков-Щедрин</td>\n",
       "      <td>1873</td>\n",
       "    </tr>\n",
       "  </tbody>\n",
       "</table>\n",
       "</div>"
      ],
      "text/plain": [
       "   item_id              title  \\\n",
       "0   128115   Ворон-челобитчик   \n",
       "1   210979  Скрипка Ротшильда   \n",
       "2    95632   Испорченные дети   \n",
       "3   247906   Странный человек   \n",
       "4   294280  Господа ташкентцы   \n",
       "\n",
       "                                              genres                 authors  \\\n",
       "0  Зарубежные детские книги,Сказки,Зарубежная кла...  Михаил Салтыков-Щедрин   \n",
       "1  Классическая проза,Литература 19 века,Русская ...             Антон Чехов   \n",
       "2  Зарубежная классика,Классическая проза,Литерат...  Михаил Салтыков-Щедрин   \n",
       "3             Пьесы и драматургия,Литература 19 века        Михаил Лермонтов   \n",
       "4  Зарубежная классика,Классическая проза,Литерат...  Михаил Салтыков-Щедрин   \n",
       "\n",
       "   year  \n",
       "0  1886  \n",
       "1  1894  \n",
       "2  1869  \n",
       "3  1831  \n",
       "4  1873  "
      ]
     },
     "metadata": {},
     "output_type": "display_data"
    }
   ],
   "source": [
    "#  Признаци фильмов \n",
    "display(i_features.head())"
   ]
  },
  {
   "cell_type": "code",
   "execution_count": 10,
   "id": "1155f3af",
   "metadata": {
    "execution": {
     "iopub.execute_input": "2025-01-19T11:16:26.360174Z",
     "iopub.status.busy": "2025-01-19T11:16:26.359816Z",
     "iopub.status.idle": "2025-01-19T11:16:26.547093Z",
     "shell.execute_reply": "2025-01-19T11:16:26.546101Z"
    },
    "papermill": {
     "duration": 0.201441,
     "end_time": "2025-01-19T11:16:26.548925",
     "exception": false,
     "start_time": "2025-01-19T11:16:26.347484",
     "status": "completed"
    },
    "tags": []
   },
   "outputs": [],
   "source": [
    "# удаляем дубликаты, оставляя последний по времени\n",
    "df = df.sort_values('start_date').drop_duplicates(subset=['user_id', 'item_id'], \n",
    "                                                  keep='last')"
   ]
  },
  {
   "cell_type": "code",
   "execution_count": 11,
   "id": "07c4ce1d",
   "metadata": {
    "execution": {
     "iopub.execute_input": "2025-01-19T11:16:26.574063Z",
     "iopub.status.busy": "2025-01-19T11:16:26.573670Z",
     "iopub.status.idle": "2025-01-19T11:16:26.702261Z",
     "shell.execute_reply": "2025-01-19T11:16:26.701121Z"
    },
    "papermill": {
     "duration": 0.143445,
     "end_time": "2025-01-19T11:16:26.704346",
     "exception": false,
     "start_time": "2025-01-19T11:16:26.560901",
     "status": "completed"
    },
    "tags": []
   },
   "outputs": [
    {
     "data": {
      "text/plain": [
       "user_id                     85673\n",
       "item_id                    210979\n",
       "progress                      100\n",
       "rating                        5.0\n",
       "start_date    2018-01-02 00:00:00\n",
       "Name: 3536, dtype: object"
      ]
     },
     "execution_count": 11,
     "metadata": {},
     "output_type": "execute_result"
    }
   ],
   "source": [
    "# Используем только взаимодействия у которых 30% просмотра\n",
    "df = df[df['progress'] > 30]\n",
    "\n",
    "# Отфильтруем данные \n",
    "def filter_data(df, user_count=20, item_count=30):\n",
    "    item_counts = df.groupby('item_id')['user_id'].count()\n",
    "    pop_items = item_counts[item_counts >= user_count]\n",
    "    df_implicit = df[df['item_id'].isin(pop_items.index)]\n",
    "\n",
    "    user_counts = df.groupby('user_id')['item_id'].count()\n",
    "    pop_users = user_counts[user_counts >= item_count]\n",
    "    df = df[df['user_id'].isin(pop_users.index)].copy()\n",
    "    return df\n",
    "\n",
    "df = filter_data(df,\n",
    "                 user_count=20,\n",
    "                 item_count=20)\n",
    "df.iloc[1,:]"
   ]
  },
  {
   "cell_type": "code",
   "execution_count": 12,
   "id": "996de17d",
   "metadata": {
    "execution": {
     "iopub.execute_input": "2025-01-19T11:16:26.726174Z",
     "iopub.status.busy": "2025-01-19T11:16:26.725816Z",
     "iopub.status.idle": "2025-01-19T11:16:26.741503Z",
     "shell.execute_reply": "2025-01-19T11:16:26.740521Z"
    },
    "papermill": {
     "duration": 0.028411,
     "end_time": "2025-01-19T11:16:26.743170",
     "exception": false,
     "start_time": "2025-01-19T11:16:26.714759",
     "status": "completed"
    },
    "tags": []
   },
   "outputs": [
    {
     "name": "stdout",
     "output_type": "stream",
     "text": [
      "(17512, 5) (1482, 3)\n"
     ]
    }
   ],
   "source": [
    "# Логическая проверка; в взаимодействии должны быть фильмы только из данных фичей\n",
    "i_features = i_features[i_features['item_id'].isin(df['item_id'])].copy()\n",
    "u_features = u_features[u_features['user_id'].isin(df['user_id'])].copy()\n",
    "print(i_features.shape,u_features.shape)"
   ]
  },
  {
   "cell_type": "code",
   "execution_count": 13,
   "id": "5ffeeda4",
   "metadata": {
    "execution": {
     "iopub.execute_input": "2025-01-19T11:16:26.766400Z",
     "iopub.status.busy": "2025-01-19T11:16:26.766052Z",
     "iopub.status.idle": "2025-01-19T11:16:26.854021Z",
     "shell.execute_reply": "2025-01-19T11:16:26.852921Z"
    },
    "papermill": {
     "duration": 0.101714,
     "end_time": "2025-01-19T11:16:26.855941",
     "exception": false,
     "start_time": "2025-01-19T11:16:26.754227",
     "status": "completed"
    },
    "tags": []
   },
   "outputs": [],
   "source": [
    "# Создаем новый порядок для пользователей и предметов\n",
    "user_idx = df.user_id.astype('category').cat.codes\n",
    "item_idx = df.item_id.astype('category').cat.codes\n",
    "user2id = dict(zip(df.user_id, user_idx))\n",
    "item2id = dict(zip(df.item_id, item_idx))\n",
    "\n",
    "# Преобразуем ids\n",
    "df.user_id = df.user_id.map(user2id)\n",
    "df.item_id = df.item_id.map(item2id)\n",
    "i_features.item_id = i_features.item_id.map(item2id)\n",
    "u_features.user_id = u_features.user_id.map(user2id)"
   ]
  },
  {
   "cell_type": "code",
   "execution_count": 14,
   "id": "464c45a9",
   "metadata": {
    "execution": {
     "iopub.execute_input": "2025-01-19T11:16:26.880764Z",
     "iopub.status.busy": "2025-01-19T11:16:26.880359Z",
     "iopub.status.idle": "2025-01-19T11:16:26.960013Z",
     "shell.execute_reply": "2025-01-19T11:16:26.959044Z"
    },
    "papermill": {
     "duration": 0.093238,
     "end_time": "2025-01-19T11:16:26.961594",
     "exception": false,
     "start_time": "2025-01-19T11:16:26.868356",
     "status": "completed"
    },
    "tags": []
   },
   "outputs": [
    {
     "data": {
      "text/html": [
       "<div>\n",
       "<style scoped>\n",
       "    .dataframe tbody tr th:only-of-type {\n",
       "        vertical-align: middle;\n",
       "    }\n",
       "\n",
       "    .dataframe tbody tr th {\n",
       "        vertical-align: top;\n",
       "    }\n",
       "\n",
       "    .dataframe thead th {\n",
       "        text-align: right;\n",
       "    }\n",
       "</style>\n",
       "<table border=\"1\" class=\"dataframe\">\n",
       "  <thead>\n",
       "    <tr style=\"text-align: right;\">\n",
       "      <th></th>\n",
       "      <th>user_id</th>\n",
       "      <th>item_id</th>\n",
       "      <th>progress</th>\n",
       "      <th>rating</th>\n",
       "      <th>start_date</th>\n",
       "    </tr>\n",
       "  </thead>\n",
       "  <tbody>\n",
       "    <tr>\n",
       "      <th>3555</th>\n",
       "      <td>user 921</td>\n",
       "      <td>item 2116</td>\n",
       "      <td>100</td>\n",
       "      <td>5.0</td>\n",
       "      <td>2018-01-02</td>\n",
       "    </tr>\n",
       "    <tr>\n",
       "      <th>3536</th>\n",
       "      <td>user 848</td>\n",
       "      <td>item 11499</td>\n",
       "      <td>100</td>\n",
       "      <td>5.0</td>\n",
       "      <td>2018-01-02</td>\n",
       "    </tr>\n",
       "    <tr>\n",
       "      <th>3577</th>\n",
       "      <td>user 848</td>\n",
       "      <td>item 6289</td>\n",
       "      <td>100</td>\n",
       "      <td>5.0</td>\n",
       "      <td>2018-01-02</td>\n",
       "    </tr>\n",
       "    <tr>\n",
       "      <th>3570</th>\n",
       "      <td>user 606</td>\n",
       "      <td>item 6907</td>\n",
       "      <td>92</td>\n",
       "      <td>NaN</td>\n",
       "      <td>2018-01-02</td>\n",
       "    </tr>\n",
       "    <tr>\n",
       "      <th>3567</th>\n",
       "      <td>user 921</td>\n",
       "      <td>item 7631</td>\n",
       "      <td>100</td>\n",
       "      <td>5.0</td>\n",
       "      <td>2018-01-02</td>\n",
       "    </tr>\n",
       "  </tbody>\n",
       "</table>\n",
       "</div>"
      ],
      "text/plain": [
       "       user_id     item_id  progress  rating start_date\n",
       "3555  user 921   item 2116       100     5.0 2018-01-02\n",
       "3536  user 848  item 11499       100     5.0 2018-01-02\n",
       "3577  user 848   item 6289       100     5.0 2018-01-02\n",
       "3570  user 606   item 6907        92     NaN 2018-01-02\n",
       "3567  user 921   item 7631       100     5.0 2018-01-02"
      ]
     },
     "execution_count": 14,
     "metadata": {},
     "output_type": "execute_result"
    }
   ],
   "source": [
    "df['user_id'] = df['user_id'].apply(lambda x: 'user ' + str(x))\n",
    "df['item_id'] = df['item_id'].apply(lambda x: 'item ' + str(x))\n",
    "i_features['item_id'] = i_features['item_id'].apply(lambda x: 'item ' + str(x))\n",
    "u_features['user_id'] = u_features['user_id'].apply(lambda x: 'user ' + str(x))\n",
    "df.head()"
   ]
  },
  {
   "cell_type": "code",
   "execution_count": 15,
   "id": "34caf62d",
   "metadata": {
    "execution": {
     "iopub.execute_input": "2025-01-19T11:16:26.985121Z",
     "iopub.status.busy": "2025-01-19T11:16:26.984754Z",
     "iopub.status.idle": "2025-01-19T11:16:27.049009Z",
     "shell.execute_reply": "2025-01-19T11:16:27.048057Z"
    },
    "papermill": {
     "duration": 0.077645,
     "end_time": "2025-01-19T11:16:27.050846",
     "exception": false,
     "start_time": "2025-01-19T11:16:26.973201",
     "status": "completed"
    },
    "tags": []
   },
   "outputs": [],
   "source": [
    "# Разбиваем данные на две выборки \n",
    "def train_test_split(X, user_col, time_col):\n",
    "  full_history = X.sort_values([user_col, time_col]).groupby(user_col)\n",
    "  test = full_history.tail(1)\n",
    "  train = full_history.head(-1)\n",
    "  return train, test\n",
    "\n",
    "train, test = train_test_split(df, 'user_id', 'start_date')"
   ]
  },
  {
   "cell_type": "code",
   "execution_count": 16,
   "id": "623b312d",
   "metadata": {
    "execution": {
     "iopub.execute_input": "2025-01-19T11:16:27.073930Z",
     "iopub.status.busy": "2025-01-19T11:16:27.073517Z",
     "iopub.status.idle": "2025-01-19T11:16:27.082706Z",
     "shell.execute_reply": "2025-01-19T11:16:27.081683Z"
    },
    "papermill": {
     "duration": 0.024212,
     "end_time": "2025-01-19T11:16:27.086057",
     "exception": false,
     "start_time": "2025-01-19T11:16:27.061845",
     "status": "completed"
    },
    "tags": []
   },
   "outputs": [
    {
     "name": "stdout",
     "output_type": "stream",
     "text": [
      "train (77164, 5)\n",
      "test (1565, 5)\n",
      "train tmin  2018-01-02 00:00:00  tmax  2018-12-31 00:00:00\n",
      "test tmin  2018-01-30 00:00:00  tmax  2018-12-31 00:00:00\n"
     ]
    }
   ],
   "source": [
    "print('train',train.shape)\n",
    "print('test',test.shape)\n",
    "print('train tmin ',train['start_date'].min(),' tmax ',train['start_date'].max())\n",
    "print('test tmin ',test['start_date'].min(),' tmax ',test['start_date'].max())"
   ]
  },
  {
   "cell_type": "code",
   "execution_count": 17,
   "id": "63c71afc",
   "metadata": {
    "execution": {
     "iopub.execute_input": "2025-01-19T11:16:27.111963Z",
     "iopub.status.busy": "2025-01-19T11:16:27.111576Z",
     "iopub.status.idle": "2025-01-19T11:16:27.131385Z",
     "shell.execute_reply": "2025-01-19T11:16:27.130347Z"
    },
    "papermill": {
     "duration": 0.033474,
     "end_time": "2025-01-19T11:16:27.133025",
     "exception": false,
     "start_time": "2025-01-19T11:16:27.099551",
     "status": "completed"
    },
    "tags": []
   },
   "outputs": [
    {
     "data": {
      "text/plain": [
       "17148"
      ]
     },
     "execution_count": 17,
     "metadata": {},
     "output_type": "execute_result"
    }
   ],
   "source": [
    "# Количество уникальных фильмов которые мы можем порекомендовать после фильтрации\n",
    "len(train['item_id'].unique())"
   ]
  },
  {
   "cell_type": "markdown",
   "id": "8ebf6230",
   "metadata": {
    "papermill": {
     "duration": 0.01051,
     "end_time": "2025-01-19T11:16:27.154574",
     "exception": false,
     "start_time": "2025-01-19T11:16:27.144064",
     "status": "completed"
    },
    "tags": []
   },
   "source": [
    "## <b><span style='color:#686dec'>4 | Предобработка</span></b>\n",
    "\n",
    "### **Подготовка признаков**\n",
    "\n",
    "Подготавливаем фичи для **`LightFM`**\n",
    "\n",
    "#### **(a) Признаки пользователя**\n",
    "\n",
    "У нас только два признака пользователя"
   ]
  },
  {
   "cell_type": "code",
   "execution_count": 18,
   "id": "73bc013f",
   "metadata": {
    "execution": {
     "iopub.execute_input": "2025-01-19T11:16:27.177416Z",
     "iopub.status.busy": "2025-01-19T11:16:27.177055Z",
     "iopub.status.idle": "2025-01-19T11:16:27.217403Z",
     "shell.execute_reply": "2025-01-19T11:16:27.216433Z"
    },
    "papermill": {
     "duration": 0.053432,
     "end_time": "2025-01-19T11:16:27.219009",
     "exception": false,
     "start_time": "2025-01-19T11:16:27.165577",
     "status": "completed"
    },
    "tags": []
   },
   "outputs": [
    {
     "data": {
      "text/plain": [
       "user_id\n",
       "user 0        [age_35_44, sex_0.0]\n",
       "user 1        [age_18_24, sex_0.0]\n",
       "user 2        [age_18_24, sex_0.0]\n",
       "user 3       [age_65_inf, sex_1.0]\n",
       "user 4        [age_55_64, sex_0.0]\n",
       "                     ...          \n",
       "user 1560     [age_18_24, sex_0.0]\n",
       "user 1561     [age_18_24, sex_1.0]\n",
       "user 1562     [age_45_54, sex_1.0]\n",
       "user 1563     [age_55_64, sex_1.0]\n",
       "user 1564     [age_35_44, sex_0.0]\n",
       "Name: features, Length: 1482, dtype: object"
      ]
     },
     "execution_count": 18,
     "metadata": {},
     "output_type": "execute_result"
    }
   ],
   "source": [
    "# user features \n",
    "u_features.set_index('user_id', inplace=True)\n",
    "\n",
    "# merge features into one column; merging column name with column value \n",
    "u_features_list = u_features.apply(\n",
    "    lambda feature_values: [f'{feature}_{feature_values[feature]}' for feature in feature_values.index if not pd.isna(feature_values[feature])],\n",
    "    axis=1)\n",
    "u_features_list = u_features_list.rename('features')\n",
    "u_features_list"
   ]
  },
  {
   "cell_type": "code",
   "execution_count": 19,
   "id": "16b18339",
   "metadata": {
    "execution": {
     "iopub.execute_input": "2025-01-19T11:16:27.243283Z",
     "iopub.status.busy": "2025-01-19T11:16:27.242924Z",
     "iopub.status.idle": "2025-01-19T11:16:27.250656Z",
     "shell.execute_reply": "2025-01-19T11:16:27.249593Z"
    },
    "papermill": {
     "duration": 0.02175,
     "end_time": "2025-01-19T11:16:27.252507",
     "exception": false,
     "start_time": "2025-01-19T11:16:27.230757",
     "status": "completed"
    },
    "tags": []
   },
   "outputs": [
    {
     "data": {
      "text/plain": [
       "{'age_18_24',\n",
       " 'age_25_34',\n",
       " 'age_35_44',\n",
       " 'age_45_54',\n",
       " 'age_55_64',\n",
       " 'age_65_inf',\n",
       " 'sex_0.0',\n",
       " 'sex_1.0'}"
      ]
     },
     "execution_count": 19,
     "metadata": {},
     "output_type": "execute_result"
    }
   ],
   "source": [
    "# all unique combinations for user features\n",
    "user_tags = set(u_features_list.explode().dropna().values)\n",
    "user_tags"
   ]
  },
  {
   "cell_type": "markdown",
   "id": "1776d871",
   "metadata": {
    "papermill": {
     "duration": 0.010685,
     "end_time": "2025-01-19T11:16:27.274797",
     "exception": false,
     "start_time": "2025-01-19T11:16:27.264112",
     "status": "completed"
    },
    "tags": []
   },
   "source": [
    "#### **(b) признаки предметов**\n",
    "\n",
    "Имея **`genres`**, посчитаем статистику по жанрам и оставим только топ 100 жанров"
   ]
  },
  {
   "cell_type": "code",
   "execution_count": 20,
   "id": "db17e100",
   "metadata": {
    "execution": {
     "iopub.execute_input": "2025-01-19T11:16:27.298421Z",
     "iopub.status.busy": "2025-01-19T11:16:27.298028Z",
     "iopub.status.idle": "2025-01-19T11:16:27.473190Z",
     "shell.execute_reply": "2025-01-19T11:16:27.471960Z"
    },
    "papermill": {
     "duration": 0.18965,
     "end_time": "2025-01-19T11:16:27.475332",
     "exception": false,
     "start_time": "2025-01-19T11:16:27.285682",
     "status": "completed"
    },
    "tags": []
   },
   "outputs": [
    {
     "data": {
      "text/html": [
       "<div>\n",
       "<style scoped>\n",
       "    .dataframe tbody tr th:only-of-type {\n",
       "        vertical-align: middle;\n",
       "    }\n",
       "\n",
       "    .dataframe tbody tr th {\n",
       "        vertical-align: top;\n",
       "    }\n",
       "\n",
       "    .dataframe thead th {\n",
       "        text-align: right;\n",
       "    }\n",
       "</style>\n",
       "<table border=\"1\" class=\"dataframe\">\n",
       "  <thead>\n",
       "    <tr style=\"text-align: right;\">\n",
       "      <th></th>\n",
       "      <th>title</th>\n",
       "      <th>genres</th>\n",
       "      <th>authors</th>\n",
       "      <th>year</th>\n",
       "      <th>reads</th>\n",
       "    </tr>\n",
       "    <tr>\n",
       "      <th>item_id</th>\n",
       "      <th></th>\n",
       "      <th></th>\n",
       "      <th></th>\n",
       "      <th></th>\n",
       "      <th></th>\n",
       "    </tr>\n",
       "  </thead>\n",
       "  <tbody>\n",
       "    <tr>\n",
       "      <th>item 7037</th>\n",
       "      <td>Ворон-челобитчик</td>\n",
       "      <td>[зарубежные детские книги, сказки, зарубежная ...</td>\n",
       "      <td>Михаил Салтыков-Щедрин</td>\n",
       "      <td>1886</td>\n",
       "      <td>1</td>\n",
       "    </tr>\n",
       "    <tr>\n",
       "      <th>item 11499</th>\n",
       "      <td>Скрипка Ротшильда</td>\n",
       "      <td>[классическая проза, литература 19 века, русск...</td>\n",
       "      <td>Антон Чехов</td>\n",
       "      <td>1894</td>\n",
       "      <td>1</td>\n",
       "    </tr>\n",
       "    <tr>\n",
       "      <th>item 7296</th>\n",
       "      <td>Соседи</td>\n",
       "      <td>[зарубежные детские книги, сказки, русская кла...</td>\n",
       "      <td>Михаил Салтыков-Щедрин</td>\n",
       "      <td>NaN</td>\n",
       "      <td>1</td>\n",
       "    </tr>\n",
       "    <tr>\n",
       "      <th>item 4125</th>\n",
       "      <td>Ярмарка тщеславия</td>\n",
       "      <td>[зарубежная классика, зарубежная старинная лит...</td>\n",
       "      <td>Уильям Теккерей</td>\n",
       "      <td>1848</td>\n",
       "      <td>3</td>\n",
       "    </tr>\n",
       "    <tr>\n",
       "      <th>item 15550</th>\n",
       "      <td>Хитрость</td>\n",
       "      <td>[зарубежная классика, классическая проза]</td>\n",
       "      <td>Ги де Мопассан</td>\n",
       "      <td>NaN</td>\n",
       "      <td>2</td>\n",
       "    </tr>\n",
       "  </tbody>\n",
       "</table>\n",
       "</div>"
      ],
      "text/plain": [
       "                        title  \\\n",
       "item_id                         \n",
       "item 7037    Ворон-челобитчик   \n",
       "item 11499  Скрипка Ротшильда   \n",
       "item 7296              Соседи   \n",
       "item 4125   Ярмарка тщеславия   \n",
       "item 15550           Хитрость   \n",
       "\n",
       "                                                       genres  \\\n",
       "item_id                                                         \n",
       "item 7037   [зарубежные детские книги, сказки, зарубежная ...   \n",
       "item 11499  [классическая проза, литература 19 века, русск...   \n",
       "item 7296   [зарубежные детские книги, сказки, русская кла...   \n",
       "item 4125   [зарубежная классика, зарубежная старинная лит...   \n",
       "item 15550          [зарубежная классика, классическая проза]   \n",
       "\n",
       "                           authors  year  reads  \n",
       "item_id                                          \n",
       "item 7037   Михаил Салтыков-Щедрин  1886      1  \n",
       "item 11499             Антон Чехов  1894      1  \n",
       "item 7296   Михаил Салтыков-Щедрин   NaN      1  \n",
       "item 4125          Уильям Теккерей  1848      3  \n",
       "item 15550          Ги де Мопассан   NaN      2  "
      ]
     },
     "execution_count": 20,
     "metadata": {},
     "output_type": "execute_result"
    }
   ],
   "source": [
    "# i_features['item_id'].value_counts()\n",
    "i_features_lfm = i_features.copy()\n",
    "i_features_lfm.set_index('item_id', inplace=True) # each row represents a unique item feature\n",
    "\n",
    "# from interactions add the number of reads of the particular item\n",
    "i_features_lfm['reads'] = df.groupby('item_id')['user_id'].count()\n",
    "\n",
    "# column genres contains genres separated by ,\n",
    "i_features_lfm['genres'] = i_features_lfm['genres'].str.lower().str.split(',')\n",
    "i_features_lfm['genres'] = i_features_lfm['genres'].apply(lambda x: x if isinstance(x, list) else [])\n",
    "i_features_lfm.head()"
   ]
  },
  {
   "cell_type": "code",
   "execution_count": 21,
   "id": "f40b38ad",
   "metadata": {
    "execution": {
     "iopub.execute_input": "2025-01-19T11:16:27.505157Z",
     "iopub.status.busy": "2025-01-19T11:16:27.504467Z",
     "iopub.status.idle": "2025-01-19T11:16:27.545169Z",
     "shell.execute_reply": "2025-01-19T11:16:27.543914Z"
    },
    "papermill": {
     "duration": 0.056296,
     "end_time": "2025-01-19T11:16:27.548264",
     "exception": false,
     "start_time": "2025-01-19T11:16:27.491968",
     "status": "completed"
    },
    "tags": []
   },
   "outputs": [],
   "source": [
    "# count the number of genre references in column genres\n",
    "genres_count = i_features_lfm[['genres', 'reads']].explode('genres').groupby('genres')['reads'].sum()"
   ]
  },
  {
   "cell_type": "code",
   "execution_count": 22,
   "id": "50c4767d",
   "metadata": {
    "execution": {
     "iopub.execute_input": "2025-01-19T11:16:27.587626Z",
     "iopub.status.busy": "2025-01-19T11:16:27.587270Z",
     "iopub.status.idle": "2025-01-19T11:16:27.595224Z",
     "shell.execute_reply": "2025-01-19T11:16:27.594232Z"
    },
    "papermill": {
     "duration": 0.028501,
     "end_time": "2025-01-19T11:16:27.597184",
     "exception": false,
     "start_time": "2025-01-19T11:16:27.568683",
     "status": "completed"
    },
    "tags": []
   },
   "outputs": [
    {
     "data": {
      "text/plain": [
       "genres\n",
       "любовное фэнтези         18595\n",
       "попаданцы                12132\n",
       "героическое фэнтези       9038\n",
       "современные детективы     8018\n",
       "магические академии       6674\n",
       "                         ...  \n",
       "растениеводство              1\n",
       "коммерческое право           1\n",
       "молитвы в исламе             1\n",
       "международное право          1\n",
       "астрономия                   1\n",
       "Name: reads, Length: 455, dtype: int64"
      ]
     },
     "execution_count": 22,
     "metadata": {},
     "output_type": "execute_result"
    }
   ],
   "source": [
    "# the top genres in the user/item interactions\n",
    "genres_count.sort_values(ascending=False)"
   ]
  },
  {
   "cell_type": "code",
   "execution_count": 23,
   "id": "91380876",
   "metadata": {
    "execution": {
     "iopub.execute_input": "2025-01-19T11:16:27.630188Z",
     "iopub.status.busy": "2025-01-19T11:16:27.629829Z",
     "iopub.status.idle": "2025-01-19T11:16:27.636833Z",
     "shell.execute_reply": "2025-01-19T11:16:27.635912Z"
    },
    "papermill": {
     "duration": 0.021597,
     "end_time": "2025-01-19T11:16:27.638681",
     "exception": false,
     "start_time": "2025-01-19T11:16:27.617084",
     "status": "completed"
    },
    "tags": []
   },
   "outputs": [
    {
     "data": {
      "text/plain": [
       "Index(['любовное фэнтези', 'попаданцы', 'героическое фэнтези',\n",
       "       'современные детективы', 'магические академии', 'боевая фантастика',\n",
       "       'книги про волшебников', 'боевое фэнтези', 'зарубежные любовные романы',\n",
       "       'современные любовные романы', 'иронические детективы',\n",
       "       'юмористическое фэнтези', 'остросюжетные любовные романы',\n",
       "       'космическая фантастика', 'современная русская литература',\n",
       "       'короткие любовные романы', 'зарубежные детективы',\n",
       "       'детективное фэнтези', 'триллеры', 'городское фэнтези',\n",
       "       'любовно-фантастические романы', 'историческая фантастика',\n",
       "       'научная фантастика', 'эротические романы', 'полицейские детективы',\n",
       "       'героическая фантастика', 'мистика', 'фэнтези про драконов',\n",
       "       'социальная фантастика', 'исторические детективы'],\n",
       "      dtype='object', name='genres')"
      ]
     },
     "execution_count": 23,
     "metadata": {},
     "output_type": "execute_result"
    }
   ],
   "source": [
    "# item_tags : top n genres by read count\n",
    "n = 100\n",
    "item_tags = genres_count.sort_values(ascending=False)[:n].index\n",
    "item_tags[:30]"
   ]
  },
  {
   "cell_type": "code",
   "execution_count": 24,
   "id": "821e1c5b",
   "metadata": {
    "execution": {
     "iopub.execute_input": "2025-01-19T11:16:27.666974Z",
     "iopub.status.busy": "2025-01-19T11:16:27.666578Z",
     "iopub.status.idle": "2025-01-19T11:16:27.703094Z",
     "shell.execute_reply": "2025-01-19T11:16:27.701937Z"
    },
    "papermill": {
     "duration": 0.050325,
     "end_time": "2025-01-19T11:16:27.704715",
     "exception": false,
     "start_time": "2025-01-19T11:16:27.654390",
     "status": "completed"
    },
    "tags": []
   },
   "outputs": [
    {
     "data": {
      "text/html": [
       "<div>\n",
       "<style scoped>\n",
       "    .dataframe tbody tr th:only-of-type {\n",
       "        vertical-align: middle;\n",
       "    }\n",
       "\n",
       "    .dataframe tbody tr th {\n",
       "        vertical-align: top;\n",
       "    }\n",
       "\n",
       "    .dataframe thead th {\n",
       "        text-align: right;\n",
       "    }\n",
       "</style>\n",
       "<table border=\"1\" class=\"dataframe\">\n",
       "  <thead>\n",
       "    <tr style=\"text-align: right;\">\n",
       "      <th></th>\n",
       "      <th>title</th>\n",
       "      <th>genres</th>\n",
       "      <th>authors</th>\n",
       "      <th>year</th>\n",
       "      <th>reads</th>\n",
       "      <th>features</th>\n",
       "    </tr>\n",
       "    <tr>\n",
       "      <th>item_id</th>\n",
       "      <th></th>\n",
       "      <th></th>\n",
       "      <th></th>\n",
       "      <th></th>\n",
       "      <th></th>\n",
       "      <th></th>\n",
       "    </tr>\n",
       "  </thead>\n",
       "  <tbody>\n",
       "    <tr>\n",
       "      <th>item 7037</th>\n",
       "      <td>Ворон-челобитчик</td>\n",
       "      <td>[зарубежные детские книги, сказки, зарубежная ...</td>\n",
       "      <td>Михаил Салтыков-Щедрин</td>\n",
       "      <td>1886</td>\n",
       "      <td>1</td>\n",
       "      <td>[зарубежные детские книги, сказки, зарубежная ...</td>\n",
       "    </tr>\n",
       "    <tr>\n",
       "      <th>item 11499</th>\n",
       "      <td>Скрипка Ротшильда</td>\n",
       "      <td>[классическая проза, литература 19 века, русск...</td>\n",
       "      <td>Антон Чехов</td>\n",
       "      <td>1894</td>\n",
       "      <td>1</td>\n",
       "      <td>[классическая проза, литература 19 века, русск...</td>\n",
       "    </tr>\n",
       "    <tr>\n",
       "      <th>item 7296</th>\n",
       "      <td>Соседи</td>\n",
       "      <td>[зарубежные детские книги, сказки, русская кла...</td>\n",
       "      <td>Михаил Салтыков-Щедрин</td>\n",
       "      <td>NaN</td>\n",
       "      <td>1</td>\n",
       "      <td>[зарубежные детские книги, сказки, русская кла...</td>\n",
       "    </tr>\n",
       "    <tr>\n",
       "      <th>item 4125</th>\n",
       "      <td>Ярмарка тщеславия</td>\n",
       "      <td>[зарубежная классика, зарубежная старинная лит...</td>\n",
       "      <td>Уильям Теккерей</td>\n",
       "      <td>1848</td>\n",
       "      <td>3</td>\n",
       "      <td>[зарубежная классика, классическая проза, лите...</td>\n",
       "    </tr>\n",
       "    <tr>\n",
       "      <th>item 15550</th>\n",
       "      <td>Хитрость</td>\n",
       "      <td>[зарубежная классика, классическая проза]</td>\n",
       "      <td>Ги де Мопассан</td>\n",
       "      <td>NaN</td>\n",
       "      <td>2</td>\n",
       "      <td>[зарубежная классика, классическая проза]</td>\n",
       "    </tr>\n",
       "  </tbody>\n",
       "</table>\n",
       "</div>"
      ],
      "text/plain": [
       "                        title  \\\n",
       "item_id                         \n",
       "item 7037    Ворон-челобитчик   \n",
       "item 11499  Скрипка Ротшильда   \n",
       "item 7296              Соседи   \n",
       "item 4125   Ярмарка тщеславия   \n",
       "item 15550           Хитрость   \n",
       "\n",
       "                                                       genres  \\\n",
       "item_id                                                         \n",
       "item 7037   [зарубежные детские книги, сказки, зарубежная ...   \n",
       "item 11499  [классическая проза, литература 19 века, русск...   \n",
       "item 7296   [зарубежные детские книги, сказки, русская кла...   \n",
       "item 4125   [зарубежная классика, зарубежная старинная лит...   \n",
       "item 15550          [зарубежная классика, классическая проза]   \n",
       "\n",
       "                           authors  year  reads  \\\n",
       "item_id                                           \n",
       "item 7037   Михаил Салтыков-Щедрин  1886      1   \n",
       "item 11499             Антон Чехов  1894      1   \n",
       "item 7296   Михаил Салтыков-Щедрин   NaN      1   \n",
       "item 4125          Уильям Теккерей  1848      3   \n",
       "item 15550          Ги де Мопассан   NaN      2   \n",
       "\n",
       "                                                     features  \n",
       "item_id                                                        \n",
       "item 7037   [зарубежные детские книги, сказки, зарубежная ...  \n",
       "item 11499  [классическая проза, литература 19 века, русск...  \n",
       "item 7296   [зарубежные детские книги, сказки, русская кла...  \n",
       "item 4125   [зарубежная классика, классическая проза, лите...  \n",
       "item 15550          [зарубежная классика, классическая проза]  "
      ]
     },
     "execution_count": 24,
     "metadata": {},
     "output_type": "execute_result"
    }
   ],
   "source": [
    "# filter the column genres list to include only the top 50 genres \n",
    "def filter_genres(genres_list, valid_genres=None):\n",
    "    if not genres_list:\n",
    "        return []\n",
    "    return [genre for genre in genres_list if genre in valid_genres]\n",
    "\n",
    "i_features_lfm['features'] = i_features_lfm['genres'].apply(filter_genres, valid_genres=set(item_tags))\n",
    "i_features_lfm.head()"
   ]
  },
  {
   "cell_type": "code",
   "execution_count": 25,
   "id": "1bd599c6",
   "metadata": {
    "execution": {
     "iopub.execute_input": "2025-01-19T11:16:27.730424Z",
     "iopub.status.busy": "2025-01-19T11:16:27.729940Z",
     "iopub.status.idle": "2025-01-19T11:16:27.743109Z",
     "shell.execute_reply": "2025-01-19T11:16:27.742054Z"
    },
    "papermill": {
     "duration": 0.027971,
     "end_time": "2025-01-19T11:16:27.744987",
     "exception": false,
     "start_time": "2025-01-19T11:16:27.717016",
     "status": "completed"
    },
    "tags": []
   },
   "outputs": [
    {
     "data": {
      "text/plain": [
       "item_id\n",
       "item 7037     [зарубежные детские книги, сказки, зарубежная ...\n",
       "item 11499    [классическая проза, литература 19 века, русск...\n",
       "item 7296     [зарубежные детские книги, сказки, русская кла...\n",
       "item 4125     [зарубежная классика, классическая проза, лите...\n",
       "item 15550            [зарубежная классика, классическая проза]\n",
       "                                    ...                        \n",
       "item 14903    [эротические романы, короткие любовные романы,...\n",
       "item 12570                                [политология, газеты]\n",
       "item 3146                                  [журнальные издания]\n",
       "item 16184                                [политология, газеты]\n",
       "item 3477                                              [газеты]\n",
       "Name: features, Length: 17512, dtype: object"
      ]
     },
     "execution_count": 25,
     "metadata": {},
     "output_type": "execute_result"
    }
   ],
   "source": [
    "i_features_list = i_features_lfm['features']\n",
    "i_features_list"
   ]
  },
  {
   "cell_type": "markdown",
   "id": "7def8647",
   "metadata": {
    "papermill": {
     "duration": 0.013915,
     "end_time": "2025-01-19T11:16:27.776441",
     "exception": false,
     "start_time": "2025-01-19T11:16:27.762526",
     "status": "completed"
    },
    "tags": []
   },
   "source": [
    "## <b><span style='color:#686dec'>5 | Модель 1 : Взаимодействий & Признаки</span></b>\n",
    "\n",
    " Для первого подхода, мы будем использовать подход который делали на занятии где мы использовали взаимодействии и фичи пользователя и предмета\n",
    "\n",
    "\n",
    "### **LightFM dataset**"
   ]
  },
  {
   "cell_type": "code",
   "execution_count": 26,
   "id": "81011673",
   "metadata": {
    "execution": {
     "iopub.execute_input": "2025-01-19T11:16:27.805077Z",
     "iopub.status.busy": "2025-01-19T11:16:27.804519Z",
     "iopub.status.idle": "2025-01-19T11:16:27.811767Z",
     "shell.execute_reply": "2025-01-19T11:16:27.810967Z"
    },
    "papermill": {
     "duration": 0.024324,
     "end_time": "2025-01-19T11:16:27.813937",
     "exception": false,
     "start_time": "2025-01-19T11:16:27.789613",
     "status": "completed"
    },
    "tags": []
   },
   "outputs": [
    {
     "name": "stdout",
     "output_type": "stream",
     "text": [
      "{'sex_0.0', 'age_35_44', 'age_25_34', 'age_55_64', 'age_45_54', 'age_65_inf', 'age_18_24', 'sex_1.0'}\n",
      "Index(['любовное фэнтези', 'попаданцы', 'героическое фэнтези',\n",
      "       'современные детективы', 'магические академии', 'боевая фантастика',\n",
      "       'книги про волшебников', 'боевое фэнтези', 'зарубежные любовные романы',\n",
      "       'современные любовные романы'],\n",
      "      dtype='object', name='genres')\n"
     ]
    }
   ],
   "source": [
    "print(user_tags)\n",
    "print(item_tags[:10])"
   ]
  },
  {
   "cell_type": "code",
   "execution_count": 27,
   "id": "2db5192e",
   "metadata": {
    "_kg_hide-input": true,
    "execution": {
     "iopub.execute_input": "2025-01-19T11:16:27.842573Z",
     "iopub.status.busy": "2025-01-19T11:16:27.842107Z",
     "iopub.status.idle": "2025-01-19T11:16:32.675077Z",
     "shell.execute_reply": "2025-01-19T11:16:32.673993Z"
    },
    "papermill": {
     "duration": 4.84819,
     "end_time": "2025-01-19T11:16:32.676975",
     "exception": false,
     "start_time": "2025-01-19T11:16:27.828785",
     "status": "completed"
    },
    "tags": []
   },
   "outputs": [
    {
     "name": "stdout",
     "output_type": "stream",
     "text": [
      "interactions (1565, 17512)\n",
      "interactions data [1 1 1 1 1 1 1 1 1 1]\n",
      "interactions weight [ 64. 100.  35.  42. 100. 100. 100. 100. 100. 100.]\n"
     ]
    },
    {
     "data": {
      "text/plain": [
       "<lightfm.lightfm.LightFM at 0x7c479fc3b790>"
      ]
     },
     "execution_count": 27,
     "metadata": {},
     "output_type": "execute_result"
    }
   ],
   "source": [
    "'''\n",
    "\n",
    "Create LightFM dataset \n",
    "\n",
    "'''\n",
    "\n",
    "lfm_dataset = LFMDataset()\n",
    "\n",
    "# unique value in interactions (user,items)\n",
    "lfm_dataset.fit_partial(users=df['user_id'].unique(), \n",
    "                        items=df['item_id'].unique())\n",
    "\n",
    "lfm_dataset.fit_partial(user_features=user_tags, \n",
    "                        item_features=item_tags)\n",
    "\n",
    "# мапперы для id LightFM и id данных\n",
    "user_mapping, item_mapping = lfm_dataset.mapping()[0], lfm_dataset.mapping()[2]\n",
    "inv_user_mapping = {value: key for key, value in user_mapping.items()}\n",
    "inv_item_mapping = {value: key for key, value in item_mapping.items()}\n",
    "\n",
    "'''\n",
    "\n",
    "Build features\n",
    "\n",
    "'''\n",
    "\n",
    "sparse_i_features = lfm_dataset.build_item_features([[row.item_id, row.features] for row in i_features_list.reset_index().itertuples()])\n",
    "sparse_u_features = lfm_dataset.build_user_features([[row.user_id, row.features] for row in u_features_list.reset_index().itertuples()])\n",
    "(interactions, weights) = lfm_dataset.build_interactions([(row.user_id, row.item_id, row.progress) for row in train.itertuples()])\n",
    "\n",
    "print('interactions',interactions.shape) \n",
    "print('interactions data',interactions.data[:10])\n",
    "print('interactions weight', weights.data[:10])\n",
    "\n",
    "\n",
    "'''\n",
    "\n",
    "Train Model\n",
    "\n",
    "'''\n",
    "\n",
    "lightfm = LightFM(no_components=20, \n",
    "                  loss='warp')\n",
    "\n",
    "lightfm.fit(interactions, \n",
    "            user_features=sparse_u_features, \n",
    "            item_features=sparse_i_features, \n",
    "            epochs=40, num_threads=8)"
   ]
  },
  {
   "cell_type": "code",
   "execution_count": 28,
   "id": "e1c43adb",
   "metadata": {
    "execution": {
     "iopub.execute_input": "2025-01-19T11:16:32.703661Z",
     "iopub.status.busy": "2025-01-19T11:16:32.703270Z",
     "iopub.status.idle": "2025-01-19T11:16:32.710004Z",
     "shell.execute_reply": "2025-01-19T11:16:32.708519Z"
    },
    "papermill": {
     "duration": 0.022674,
     "end_time": "2025-01-19T11:16:32.712348",
     "exception": false,
     "start_time": "2025-01-19T11:16:32.689674",
     "status": "completed"
    },
    "tags": []
   },
   "outputs": [],
   "source": [
    "def inference(model,\n",
    "              user_id,\n",
    "              top_k=10,\n",
    "              user_features=None,\n",
    "              item_features=None):\n",
    "\n",
    "    # user_ids -> LightFM id \n",
    "    pred = model.predict(user_ids=user_id,  # user_id LightFM\n",
    "                           item_ids=sorted(item_mapping.values()), # Все item_id LightFM\n",
    "                           user_features=sparse_u_features, \n",
    "                           item_features=sparse_i_features)\n",
    "    \n",
    "    k = top_k\n",
    "    ids = np.argpartition(pred, - k)[- k:] \n",
    "    rel = pred[ids]\n",
    "    res = pd.DataFrame(zip(ids, rel), \n",
    "                       columns=['y_pred', 'relevance'])\n",
    "    # res['item_id'] = res['item_id'].map(inv_item_mapping)\n",
    "    res['user_id'] = [user_id for i in range(0,res.shape[0])]\n",
    "    return res"
   ]
  },
  {
   "cell_type": "code",
   "execution_count": 29,
   "id": "6641585e",
   "metadata": {
    "execution": {
     "iopub.execute_input": "2025-01-19T11:16:32.739348Z",
     "iopub.status.busy": "2025-01-19T11:16:32.738980Z",
     "iopub.status.idle": "2025-01-19T11:16:40.780157Z",
     "shell.execute_reply": "2025-01-19T11:16:40.778582Z"
    },
    "papermill": {
     "duration": 8.055938,
     "end_time": "2025-01-19T11:16:40.782115",
     "exception": false,
     "start_time": "2025-01-19T11:16:32.726177",
     "status": "completed"
    },
    "tags": []
   },
   "outputs": [
    {
     "name": "stderr",
     "output_type": "stream",
     "text": [
      "100%|██████████| 1565/1565 [00:07<00:00, 196.68it/s]\n"
     ]
    }
   ],
   "source": [
    "lst_inference = []\n",
    "\n",
    "#  Для всех user_id из train (user X)\n",
    "for user in tqdm(sorted(user_mapping.values())):\n",
    "    lst_inference.append(inference(model=lightfm,\n",
    "                          user_id=user,\n",
    "                          top_k=20))\n",
    "\n",
    "df_inference = pd.concat(lst_inference)"
   ]
  },
  {
   "cell_type": "code",
   "execution_count": 30,
   "id": "5a7b2392",
   "metadata": {
    "execution": {
     "iopub.execute_input": "2025-01-19T11:16:40.818358Z",
     "iopub.status.busy": "2025-01-19T11:16:40.817980Z",
     "iopub.status.idle": "2025-01-19T11:16:40.827157Z",
     "shell.execute_reply": "2025-01-19T11:16:40.826003Z"
    },
    "papermill": {
     "duration": 0.029342,
     "end_time": "2025-01-19T11:16:40.828790",
     "exception": false,
     "start_time": "2025-01-19T11:16:40.799448",
     "status": "completed"
    },
    "tags": []
   },
   "outputs": [
    {
     "data": {
      "text/html": [
       "<div>\n",
       "<style scoped>\n",
       "    .dataframe tbody tr th:only-of-type {\n",
       "        vertical-align: middle;\n",
       "    }\n",
       "\n",
       "    .dataframe tbody tr th {\n",
       "        vertical-align: top;\n",
       "    }\n",
       "\n",
       "    .dataframe thead th {\n",
       "        text-align: right;\n",
       "    }\n",
       "</style>\n",
       "<table border=\"1\" class=\"dataframe\">\n",
       "  <thead>\n",
       "    <tr style=\"text-align: right;\">\n",
       "      <th></th>\n",
       "      <th>y_pred</th>\n",
       "      <th>relevance</th>\n",
       "      <th>user_id</th>\n",
       "    </tr>\n",
       "  </thead>\n",
       "  <tbody>\n",
       "    <tr>\n",
       "      <th>0</th>\n",
       "      <td>10</td>\n",
       "      <td>-47.367077</td>\n",
       "      <td>0</td>\n",
       "    </tr>\n",
       "    <tr>\n",
       "      <th>1</th>\n",
       "      <td>1542</td>\n",
       "      <td>-47.349598</td>\n",
       "      <td>0</td>\n",
       "    </tr>\n",
       "    <tr>\n",
       "      <th>2</th>\n",
       "      <td>6356</td>\n",
       "      <td>-47.328232</td>\n",
       "      <td>0</td>\n",
       "    </tr>\n",
       "    <tr>\n",
       "      <th>3</th>\n",
       "      <td>930</td>\n",
       "      <td>-47.339104</td>\n",
       "      <td>0</td>\n",
       "    </tr>\n",
       "    <tr>\n",
       "      <th>4</th>\n",
       "      <td>2938</td>\n",
       "      <td>-47.288143</td>\n",
       "      <td>0</td>\n",
       "    </tr>\n",
       "  </tbody>\n",
       "</table>\n",
       "</div>"
      ],
      "text/plain": [
       "   y_pred  relevance  user_id\n",
       "0      10 -47.367077        0\n",
       "1    1542 -47.349598        0\n",
       "2    6356 -47.328232        0\n",
       "3     930 -47.339104        0\n",
       "4    2938 -47.288143        0"
      ]
     },
     "execution_count": 30,
     "metadata": {},
     "output_type": "execute_result"
    }
   ],
   "source": [
    "df_inference.head()"
   ]
  },
  {
   "cell_type": "code",
   "execution_count": 31,
   "id": "9d882f8b",
   "metadata": {
    "execution": {
     "iopub.execute_input": "2025-01-19T11:16:40.866659Z",
     "iopub.status.busy": "2025-01-19T11:16:40.866276Z",
     "iopub.status.idle": "2025-01-19T11:16:41.350314Z",
     "shell.execute_reply": "2025-01-19T11:16:41.349287Z"
    },
    "papermill": {
     "duration": 0.504122,
     "end_time": "2025-01-19T11:16:41.352002",
     "exception": false,
     "start_time": "2025-01-19T11:16:40.847880",
     "status": "completed"
    },
    "tags": []
   },
   "outputs": [
    {
     "data": {
      "text/html": [
       "<div>\n",
       "<style scoped>\n",
       "    .dataframe tbody tr th:only-of-type {\n",
       "        vertical-align: middle;\n",
       "    }\n",
       "\n",
       "    .dataframe tbody tr th {\n",
       "        vertical-align: top;\n",
       "    }\n",
       "\n",
       "    .dataframe thead th {\n",
       "        text-align: right;\n",
       "    }\n",
       "</style>\n",
       "<table border=\"1\" class=\"dataframe\">\n",
       "  <thead>\n",
       "    <tr style=\"text-align: right;\">\n",
       "      <th></th>\n",
       "      <th>y_pred</th>\n",
       "      <th>item_id</th>\n",
       "    </tr>\n",
       "    <tr>\n",
       "      <th>user_id</th>\n",
       "      <th></th>\n",
       "      <th></th>\n",
       "    </tr>\n",
       "  </thead>\n",
       "  <tbody>\n",
       "    <tr>\n",
       "      <th>user 0</th>\n",
       "      <td>[item 1729, item 10171, item 3252, item 9847, ...</td>\n",
       "      <td>[item 8391, item 11677, item 9991, item 13581,...</td>\n",
       "    </tr>\n",
       "    <tr>\n",
       "      <th>user 1</th>\n",
       "      <td>[item 260, item 10469, item 2469, item 3398, i...</td>\n",
       "      <td>[item 15894, item 10185, item 7475, item 13534...</td>\n",
       "    </tr>\n",
       "    <tr>\n",
       "      <th>user 10</th>\n",
       "      <td>[item 15456, item 9481, item 4596, item 8656, ...</td>\n",
       "      <td>[item 13448, item 2236, item 5657, item 14069,...</td>\n",
       "    </tr>\n",
       "    <tr>\n",
       "      <th>user 100</th>\n",
       "      <td>[item 14037, item 13055, item 8543, item 14616...</td>\n",
       "      <td>[item 11373, item 7555, item 8133, item 2662, ...</td>\n",
       "    </tr>\n",
       "    <tr>\n",
       "      <th>user 1000</th>\n",
       "      <td>[item 17039, item 13021, item 8513, item 669, ...</td>\n",
       "      <td>[item 9829, item 5744, item 10201, item 7491, ...</td>\n",
       "    </tr>\n",
       "  </tbody>\n",
       "</table>\n",
       "</div>"
      ],
      "text/plain": [
       "                                                      y_pred  \\\n",
       "user_id                                                        \n",
       "user 0     [item 1729, item 10171, item 3252, item 9847, ...   \n",
       "user 1     [item 260, item 10469, item 2469, item 3398, i...   \n",
       "user 10    [item 15456, item 9481, item 4596, item 8656, ...   \n",
       "user 100   [item 14037, item 13055, item 8543, item 14616...   \n",
       "user 1000  [item 17039, item 13021, item 8513, item 669, ...   \n",
       "\n",
       "                                                     item_id  \n",
       "user_id                                                       \n",
       "user 0     [item 8391, item 11677, item 9991, item 13581,...  \n",
       "user 1     [item 15894, item 10185, item 7475, item 13534...  \n",
       "user 10    [item 13448, item 2236, item 5657, item 14069,...  \n",
       "user 100   [item 11373, item 7555, item 8133, item 2662, ...  \n",
       "user 1000  [item 9829, item 5744, item 10201, item 7491, ...  "
      ]
     },
     "execution_count": 31,
     "metadata": {},
     "output_type": "execute_result"
    }
   ],
   "source": [
    "# Преобразует LightFM item_id -> df item_id\n",
    "def map_predictions(x):\n",
    "    return inv_item_mapping[x['y_pred']]\n",
    "\n",
    "# Преобразует LightFM user_id -> df user_id\n",
    "def map_users(x):\n",
    "    return inv_user_mapping[x['user_id']]\n",
    "\n",
    "df_inference['y_pred'] = df_inference.apply(map_predictions,axis=1)\n",
    "df_inference['user_id'] = df_inference.apply(map_users,axis=1)\n",
    "\n",
    "# aggregations for [user_id]\n",
    "agg_inf = df_inference.groupby('user_id')['y_pred'].apply(lambda x: list(x)).to_frame()\n",
    "agg_train = train.groupby('user_id')['item_id'].apply(lambda x: list(x)).to_frame()\n",
    "merged_inf = agg_inf.merge(agg_train,left_index=True,right_index=True)\n",
    "merged_inf.head()"
   ]
  },
  {
   "cell_type": "code",
   "execution_count": 32,
   "id": "c0bd1738",
   "metadata": {
    "execution": {
     "iopub.execute_input": "2025-01-19T11:16:41.388438Z",
     "iopub.status.busy": "2025-01-19T11:16:41.388062Z",
     "iopub.status.idle": "2025-01-19T11:16:41.508911Z",
     "shell.execute_reply": "2025-01-19T11:16:41.507744Z"
    },
    "papermill": {
     "duration": 0.141589,
     "end_time": "2025-01-19T11:16:41.510621",
     "exception": false,
     "start_time": "2025-01-19T11:16:41.369032",
     "status": "completed"
    },
    "tags": []
   },
   "outputs": [
    {
     "name": "stdout",
     "output_type": "stream",
     "text": [
      "precision k@20: 0.1853\n"
     ]
    }
   ],
   "source": [
    "# Посчитаем precision \n",
    "print('precision k@20:',round(precision(merged_inf,\n",
    "                                        pred_col='y_pred',\n",
    "                                        true_col='item_id',\n",
    "                                        k=20),4))"
   ]
  },
  {
   "cell_type": "markdown",
   "id": "6a5224b7",
   "metadata": {
    "papermill": {
     "duration": 0.01676,
     "end_time": "2025-01-19T11:16:41.544064",
     "exception": false,
     "start_time": "2025-01-19T11:16:41.527304",
     "status": "completed"
    },
    "tags": []
   },
   "source": [
    "## <b><span style='color:#686dec'>6 | Модель 2 : Только взаимодействий</span></b>\n",
    "\n",
    "Для второго подхода мы используем только взаимодействии \n",
    "\n",
    "### **LightFM dataset**"
   ]
  },
  {
   "cell_type": "code",
   "execution_count": 33,
   "id": "92244da9",
   "metadata": {
    "execution": {
     "iopub.execute_input": "2025-01-19T11:16:41.581288Z",
     "iopub.status.busy": "2025-01-19T11:16:41.580805Z",
     "iopub.status.idle": "2025-01-19T11:16:44.053784Z",
     "shell.execute_reply": "2025-01-19T11:16:44.052689Z"
    },
    "papermill": {
     "duration": 2.492897,
     "end_time": "2025-01-19T11:16:44.055470",
     "exception": false,
     "start_time": "2025-01-19T11:16:41.562573",
     "status": "completed"
    },
    "tags": []
   },
   "outputs": [
    {
     "name": "stdout",
     "output_type": "stream",
     "text": [
      "interactions shape\n",
      "(1565, 17512)\n",
      "interactions (1565, 17512)\n",
      "interactions data [1 1 1 1 1 1 1 1 1 1]\n",
      "interactions weight [ 64. 100.  35.  42. 100. 100. 100. 100. 100. 100.]\n"
     ]
    },
    {
     "data": {
      "text/plain": [
       "<lightfm.lightfm.LightFM at 0x7c479ae5fa00>"
      ]
     },
     "execution_count": 33,
     "metadata": {},
     "output_type": "execute_result"
    }
   ],
   "source": [
    "'''\n",
    "\n",
    "Create LightFM dataset \n",
    "\n",
    "'''\n",
    "\n",
    "lfm_dataset = LFMDataset()\n",
    "\n",
    "lfm_dataset.fit_partial(users=df['user_id'].unique(), \n",
    "                        items=df['item_id'].unique())\n",
    "\n",
    "lfm_dataset.fit_partial(user_features=user_tags, \n",
    "                        item_features=item_tags)\n",
    "\n",
    "user_mapping, item_mapping = lfm_dataset.mapping()[0], lfm_dataset.mapping()[2]\n",
    "inv_user_mapping = {value: key for key, value in user_mapping.items()}\n",
    "inv_item_mapping = {value: key for key, value in item_mapping.items()}\n",
    "\n",
    "print('interactions shape')\n",
    "print(lfm_dataset.interactions_shape())\n",
    "\n",
    "'''\n",
    "\n",
    "Build features (Interactions Only)\n",
    "\n",
    "'''\n",
    "\n",
    "# train - interactions dataset \n",
    "(interactions, weights) = lfm_dataset.build_interactions([(row.user_id, row.item_id, row.progress) for row in train.itertuples()])\n",
    "\n",
    "print('interactions',interactions.shape) \n",
    "print('interactions data',interactions.data[:10])\n",
    "print('interactions weight', weights.data[:10])\n",
    "\n",
    "\n",
    "'''\n",
    "\n",
    "Train Model\n",
    "\n",
    "'''\n",
    "\n",
    "lightfm_inter = LightFM(no_components=20, \n",
    "                        loss='warp')\n",
    "\n",
    "lightfm_inter.fit(interactions, \n",
    "                  epochs=40, \n",
    "                  num_threads=8)"
   ]
  },
  {
   "cell_type": "code",
   "execution_count": 34,
   "id": "3c82cf3b",
   "metadata": {
    "execution": {
     "iopub.execute_input": "2025-01-19T11:16:44.090812Z",
     "iopub.status.busy": "2025-01-19T11:16:44.090406Z",
     "iopub.status.idle": "2025-01-19T11:16:44.096253Z",
     "shell.execute_reply": "2025-01-19T11:16:44.095248Z"
    },
    "papermill": {
     "duration": 0.024943,
     "end_time": "2025-01-19T11:16:44.097807",
     "exception": false,
     "start_time": "2025-01-19T11:16:44.072864",
     "status": "completed"
    },
    "tags": []
   },
   "outputs": [],
   "source": [
    "def inference(model,\n",
    "              user_id,\n",
    "              top_k=10,\n",
    "              user_features=None,\n",
    "              item_features=None):\n",
    "\n",
    "    # user_ids -> LightFM id \n",
    "    pred = model.predict(user_ids=user_id,  # user_id LightFM\n",
    "                         item_ids=sorted(item_mapping.values())) # Все item_id LightFM\n",
    "    \n",
    "    k = top_k\n",
    "    ids = np.argpartition(pred, - k)[- k:] \n",
    "    rel = pred[ids]\n",
    "    res = pd.DataFrame(zip(ids, rel), \n",
    "                       columns=['y_pred', 'relevance'])\n",
    "    # res['item_id'] = res['item_id'].map(inv_item_mapping)\n",
    "    res['user_id'] = [user_id for i in range(0,res.shape[0])]\n",
    "    return res"
   ]
  },
  {
   "cell_type": "code",
   "execution_count": 35,
   "id": "ba1809d9",
   "metadata": {
    "execution": {
     "iopub.execute_input": "2025-01-19T11:16:44.133607Z",
     "iopub.status.busy": "2025-01-19T11:16:44.133256Z",
     "iopub.status.idle": "2025-01-19T11:16:50.525935Z",
     "shell.execute_reply": "2025-01-19T11:16:50.524795Z"
    },
    "papermill": {
     "duration": 6.412038,
     "end_time": "2025-01-19T11:16:50.527956",
     "exception": false,
     "start_time": "2025-01-19T11:16:44.115918",
     "status": "completed"
    },
    "tags": []
   },
   "outputs": [
    {
     "name": "stderr",
     "output_type": "stream",
     "text": [
      "100%|██████████| 1565/1565 [00:06<00:00, 248.41it/s]\n"
     ]
    }
   ],
   "source": [
    "lst_inference = []\n",
    "for user in tqdm(sorted(user_mapping.values())):\n",
    "    lst_inference.append(inference(model=lightfm_inter,\n",
    "                          user_id=user,\n",
    "                          top_k=20))\n",
    "\n",
    "df_inference_inter = pd.concat(lst_inference)"
   ]
  },
  {
   "cell_type": "code",
   "execution_count": 36,
   "id": "88c85cfa",
   "metadata": {
    "execution": {
     "iopub.execute_input": "2025-01-19T11:16:50.570555Z",
     "iopub.status.busy": "2025-01-19T11:16:50.570231Z",
     "iopub.status.idle": "2025-01-19T11:16:50.579099Z",
     "shell.execute_reply": "2025-01-19T11:16:50.578233Z"
    },
    "papermill": {
     "duration": 0.03159,
     "end_time": "2025-01-19T11:16:50.580629",
     "exception": false,
     "start_time": "2025-01-19T11:16:50.549039",
     "status": "completed"
    },
    "tags": []
   },
   "outputs": [
    {
     "data": {
      "text/html": [
       "<div>\n",
       "<style scoped>\n",
       "    .dataframe tbody tr th:only-of-type {\n",
       "        vertical-align: middle;\n",
       "    }\n",
       "\n",
       "    .dataframe tbody tr th {\n",
       "        vertical-align: top;\n",
       "    }\n",
       "\n",
       "    .dataframe thead th {\n",
       "        text-align: right;\n",
       "    }\n",
       "</style>\n",
       "<table border=\"1\" class=\"dataframe\">\n",
       "  <thead>\n",
       "    <tr style=\"text-align: right;\">\n",
       "      <th></th>\n",
       "      <th>y_pred</th>\n",
       "      <th>relevance</th>\n",
       "      <th>user_id</th>\n",
       "    </tr>\n",
       "  </thead>\n",
       "  <tbody>\n",
       "    <tr>\n",
       "      <th>0</th>\n",
       "      <td>2956</td>\n",
       "      <td>1.709743</td>\n",
       "      <td>0</td>\n",
       "    </tr>\n",
       "    <tr>\n",
       "      <th>1</th>\n",
       "      <td>111</td>\n",
       "      <td>1.717322</td>\n",
       "      <td>0</td>\n",
       "    </tr>\n",
       "    <tr>\n",
       "      <th>2</th>\n",
       "      <td>61</td>\n",
       "      <td>1.762205</td>\n",
       "      <td>0</td>\n",
       "    </tr>\n",
       "    <tr>\n",
       "      <th>3</th>\n",
       "      <td>272</td>\n",
       "      <td>1.861350</td>\n",
       "      <td>0</td>\n",
       "    </tr>\n",
       "    <tr>\n",
       "      <th>4</th>\n",
       "      <td>3001</td>\n",
       "      <td>1.842448</td>\n",
       "      <td>0</td>\n",
       "    </tr>\n",
       "  </tbody>\n",
       "</table>\n",
       "</div>"
      ],
      "text/plain": [
       "   y_pred  relevance  user_id\n",
       "0    2956   1.709743        0\n",
       "1     111   1.717322        0\n",
       "2      61   1.762205        0\n",
       "3     272   1.861350        0\n",
       "4    3001   1.842448        0"
      ]
     },
     "execution_count": 36,
     "metadata": {},
     "output_type": "execute_result"
    }
   ],
   "source": [
    "df_inference_inter.head()"
   ]
  },
  {
   "cell_type": "code",
   "execution_count": 37,
   "id": "8fc59367",
   "metadata": {
    "execution": {
     "iopub.execute_input": "2025-01-19T11:16:50.624440Z",
     "iopub.status.busy": "2025-01-19T11:16:50.624120Z",
     "iopub.status.idle": "2025-01-19T11:16:50.993060Z",
     "shell.execute_reply": "2025-01-19T11:16:50.991805Z"
    },
    "papermill": {
     "duration": 0.391684,
     "end_time": "2025-01-19T11:16:50.994991",
     "exception": false,
     "start_time": "2025-01-19T11:16:50.603307",
     "status": "completed"
    },
    "tags": []
   },
   "outputs": [
    {
     "data": {
      "text/html": [
       "<div>\n",
       "<style scoped>\n",
       "    .dataframe tbody tr th:only-of-type {\n",
       "        vertical-align: middle;\n",
       "    }\n",
       "\n",
       "    .dataframe tbody tr th {\n",
       "        vertical-align: top;\n",
       "    }\n",
       "\n",
       "    .dataframe thead th {\n",
       "        text-align: right;\n",
       "    }\n",
       "</style>\n",
       "<table border=\"1\" class=\"dataframe\">\n",
       "  <thead>\n",
       "    <tr style=\"text-align: right;\">\n",
       "      <th></th>\n",
       "      <th>y_pred</th>\n",
       "      <th>relevance</th>\n",
       "      <th>user_id</th>\n",
       "    </tr>\n",
       "  </thead>\n",
       "  <tbody>\n",
       "    <tr>\n",
       "      <th>0</th>\n",
       "      <td>item 16997</td>\n",
       "      <td>1.709743</td>\n",
       "      <td>user 921</td>\n",
       "    </tr>\n",
       "    <tr>\n",
       "      <th>1</th>\n",
       "      <td>item 16554</td>\n",
       "      <td>1.717322</td>\n",
       "      <td>user 921</td>\n",
       "    </tr>\n",
       "    <tr>\n",
       "      <th>2</th>\n",
       "      <td>item 1573</td>\n",
       "      <td>1.762205</td>\n",
       "      <td>user 921</td>\n",
       "    </tr>\n",
       "    <tr>\n",
       "      <th>3</th>\n",
       "      <td>item 2298</td>\n",
       "      <td>1.861350</td>\n",
       "      <td>user 921</td>\n",
       "    </tr>\n",
       "    <tr>\n",
       "      <th>4</th>\n",
       "      <td>item 12542</td>\n",
       "      <td>1.842448</td>\n",
       "      <td>user 921</td>\n",
       "    </tr>\n",
       "  </tbody>\n",
       "</table>\n",
       "</div>"
      ],
      "text/plain": [
       "       y_pred  relevance   user_id\n",
       "0  item 16997   1.709743  user 921\n",
       "1  item 16554   1.717322  user 921\n",
       "2   item 1573   1.762205  user 921\n",
       "3   item 2298   1.861350  user 921\n",
       "4  item 12542   1.842448  user 921"
      ]
     },
     "execution_count": 37,
     "metadata": {},
     "output_type": "execute_result"
    }
   ],
   "source": [
    "def map_predictions(x):\n",
    "    return inv_item_mapping[x['y_pred']]\n",
    "\n",
    "def map_users(x):\n",
    "    return inv_user_mapping[x['user_id']]\n",
    "\n",
    "df_inference_inter['y_pred'] = df_inference_inter.apply(map_predictions,axis=1)\n",
    "df_inference_inter['user_id'] = df_inference_inter.apply(map_users,axis=1)\n",
    "df_inference_inter.head()"
   ]
  },
  {
   "cell_type": "code",
   "execution_count": 38,
   "id": "ababe168",
   "metadata": {
    "execution": {
     "iopub.execute_input": "2025-01-19T11:16:51.036694Z",
     "iopub.status.busy": "2025-01-19T11:16:51.036348Z",
     "iopub.status.idle": "2025-01-19T11:16:51.153430Z",
     "shell.execute_reply": "2025-01-19T11:16:51.152447Z"
    },
    "papermill": {
     "duration": 0.140005,
     "end_time": "2025-01-19T11:16:51.155337",
     "exception": false,
     "start_time": "2025-01-19T11:16:51.015332",
     "status": "completed"
    },
    "tags": []
   },
   "outputs": [],
   "source": [
    "agg_inf_inter = df_inference_inter.groupby('user_id')['y_pred'].apply(lambda x: list(x)).to_frame()\n",
    "agg_train = train.groupby('user_id')['item_id'].apply(lambda x: list(x)).to_frame()\n",
    "merged_inf_inter = agg_inf_inter.merge(agg_train,left_index=True,right_index=True)"
   ]
  },
  {
   "cell_type": "code",
   "execution_count": 39,
   "id": "51ebef89",
   "metadata": {
    "execution": {
     "iopub.execute_input": "2025-01-19T11:16:51.197940Z",
     "iopub.status.busy": "2025-01-19T11:16:51.197568Z",
     "iopub.status.idle": "2025-01-19T11:16:51.318944Z",
     "shell.execute_reply": "2025-01-19T11:16:51.317624Z"
    },
    "papermill": {
     "duration": 0.143904,
     "end_time": "2025-01-19T11:16:51.320488",
     "exception": false,
     "start_time": "2025-01-19T11:16:51.176584",
     "status": "completed"
    },
    "tags": []
   },
   "outputs": [
    {
     "name": "stdout",
     "output_type": "stream",
     "text": [
      "precision k@20: 0.4533\n"
     ]
    }
   ],
   "source": [
    "print('precision k@20:',round(precision(merged_inf_inter,\n",
    "                                        pred_col='y_pred',\n",
    "                                        true_col='item_id',\n",
    "                                        k=20),4))"
   ]
  },
  {
   "cell_type": "markdown",
   "id": "eef45960",
   "metadata": {
    "papermill": {
     "duration": 0.020554,
     "end_time": "2025-01-19T11:16:51.362383",
     "exception": false,
     "start_time": "2025-01-19T11:16:51.341829",
     "status": "completed"
    },
    "tags": []
   },
   "source": [
    "## <b><span style='color:#686dec'>7 | Модель 3 : Только признаки</span></b>\n",
    "\n",
    "Для последнего подхода мы используем только признаки пользователя и предметов\n",
    "\n",
    "### **LightFM dataset**"
   ]
  },
  {
   "cell_type": "code",
   "execution_count": 40,
   "id": "7f71c129",
   "metadata": {
    "execution": {
     "iopub.execute_input": "2025-01-19T11:16:51.405888Z",
     "iopub.status.busy": "2025-01-19T11:16:51.405465Z",
     "iopub.status.idle": "2025-01-19T11:16:51.940043Z",
     "shell.execute_reply": "2025-01-19T11:16:51.938977Z"
    },
    "papermill": {
     "duration": 0.557616,
     "end_time": "2025-01-19T11:16:51.941791",
     "exception": false,
     "start_time": "2025-01-19T11:16:51.384175",
     "status": "completed"
    },
    "tags": []
   },
   "outputs": [
    {
     "data": {
      "text/plain": [
       "<lightfm.lightfm.LightFM at 0x7c479ae5fd30>"
      ]
     },
     "execution_count": 40,
     "metadata": {},
     "output_type": "execute_result"
    }
   ],
   "source": [
    "'''\n",
    "\n",
    "Create LightFM dataset \n",
    "\n",
    "'''\n",
    "\n",
    "lfm_dataset = LFMDataset()\n",
    "\n",
    "lfm_dataset.fit_partial(users=df['user_id'].unique(), \n",
    "                        items=df['item_id'].unique())\n",
    "\n",
    "lfm_dataset.fit_partial(user_features=user_tags, \n",
    "                        item_features=item_tags)\n",
    "\n",
    "user_mapping, item_mapping = lfm_dataset.mapping()[0], lfm_dataset.mapping()[2]\n",
    "inv_user_mapping = {value: key for key, value in user_mapping.items()}\n",
    "inv_item_mapping = {value: key for key, value in item_mapping.items()}\n",
    "\n",
    "num_users, num_items = lfm_dataset.interactions_shape()\n",
    "\n",
    "'''\n",
    "\n",
    "Build features\n",
    "\n",
    "'''\n",
    "\n",
    "sparse_i_features = lfm_dataset.build_item_features([[row.item_id, row.features] for row in i_features_list.reset_index().itertuples()])\n",
    "sparse_u_features = lfm_dataset.build_user_features([[row.user_id, row.features] for row in u_features_list.reset_index().itertuples()])\n",
    "\n",
    "\n",
    "'''\n",
    "\n",
    "Train Model\n",
    "\n",
    "'''\n",
    "\n",
    "dummy = csr_matrix(np.zeros((num_users, num_items)))\n",
    "\n",
    "lightfm_feat = LightFM(no_components=20, \n",
    "                      loss='warp')\n",
    "\n",
    "lightfm_feat.fit(interactions=dummy, \n",
    "                    user_features=sparse_u_features, \n",
    "                    item_features=sparse_i_features, \n",
    "                    epochs=40)"
   ]
  },
  {
   "cell_type": "code",
   "execution_count": 41,
   "id": "53030cd3",
   "metadata": {
    "execution": {
     "iopub.execute_input": "2025-01-19T11:16:51.984680Z",
     "iopub.status.busy": "2025-01-19T11:16:51.984337Z",
     "iopub.status.idle": "2025-01-19T11:16:51.990701Z",
     "shell.execute_reply": "2025-01-19T11:16:51.989398Z"
    },
    "papermill": {
     "duration": 0.030107,
     "end_time": "2025-01-19T11:16:51.992390",
     "exception": false,
     "start_time": "2025-01-19T11:16:51.962283",
     "status": "completed"
    },
    "tags": []
   },
   "outputs": [],
   "source": [
    "def inference(model,\n",
    "              user_id,\n",
    "              top_k=10,\n",
    "              user_features=None,\n",
    "              item_features=None):\n",
    "\n",
    "    # user_ids -> LightFM id \n",
    "    pred = model.predict(user_ids=user_id,  # user_id LightFM\n",
    "                           item_ids=sorted(item_mapping.values()),  # Все item_id LightFM\n",
    "                           user_features=sparse_u_features, \n",
    "                           item_features=sparse_i_features,num_threads=16)\n",
    "    \n",
    "    k = top_k\n",
    "    ids = np.argpartition(pred, - k)[- k:] \n",
    "    rel = pred[ids]\n",
    "    res = pd.DataFrame(zip(ids, rel), \n",
    "                       columns=['y_pred', 'relevance'])\n",
    "    # res['item_id'] = res['item_id'].map(inv_item_mapping)\n",
    "    res['user_id'] = [user_id for i in range(0,res.shape[0])]\n",
    "    return res"
   ]
  },
  {
   "cell_type": "code",
   "execution_count": 42,
   "id": "4c612b34",
   "metadata": {
    "execution": {
     "iopub.execute_input": "2025-01-19T11:16:52.034428Z",
     "iopub.status.busy": "2025-01-19T11:16:52.034094Z",
     "iopub.status.idle": "2025-01-19T11:16:58.412385Z",
     "shell.execute_reply": "2025-01-19T11:16:58.411334Z"
    },
    "papermill": {
     "duration": 6.401648,
     "end_time": "2025-01-19T11:16:58.414359",
     "exception": false,
     "start_time": "2025-01-19T11:16:52.012711",
     "status": "completed"
    },
    "tags": []
   },
   "outputs": [
    {
     "name": "stderr",
     "output_type": "stream",
     "text": [
      "100%|██████████| 1565/1565 [00:06<00:00, 253.49it/s]\n"
     ]
    }
   ],
   "source": [
    "lst_inference = []\n",
    "for user in tqdm(sorted(user_mapping.values())):\n",
    "    lst_inference.append(inference(model=lightfm_feat,\n",
    "                          user_id=user,\n",
    "                          top_k=20))\n",
    "\n",
    "df_inference_feat = pd.concat(lst_inference)"
   ]
  },
  {
   "cell_type": "code",
   "execution_count": 43,
   "id": "81dd1337",
   "metadata": {
    "execution": {
     "iopub.execute_input": "2025-01-19T11:16:58.465270Z",
     "iopub.status.busy": "2025-01-19T11:16:58.464922Z",
     "iopub.status.idle": "2025-01-19T11:16:58.954144Z",
     "shell.execute_reply": "2025-01-19T11:16:58.953003Z"
    },
    "papermill": {
     "duration": 0.517076,
     "end_time": "2025-01-19T11:16:58.956160",
     "exception": false,
     "start_time": "2025-01-19T11:16:58.439084",
     "status": "completed"
    },
    "tags": []
   },
   "outputs": [
    {
     "data": {
      "text/html": [
       "<div>\n",
       "<style scoped>\n",
       "    .dataframe tbody tr th:only-of-type {\n",
       "        vertical-align: middle;\n",
       "    }\n",
       "\n",
       "    .dataframe tbody tr th {\n",
       "        vertical-align: top;\n",
       "    }\n",
       "\n",
       "    .dataframe thead th {\n",
       "        text-align: right;\n",
       "    }\n",
       "</style>\n",
       "<table border=\"1\" class=\"dataframe\">\n",
       "  <thead>\n",
       "    <tr style=\"text-align: right;\">\n",
       "      <th></th>\n",
       "      <th>y_pred</th>\n",
       "      <th>item_id</th>\n",
       "    </tr>\n",
       "    <tr>\n",
       "      <th>user_id</th>\n",
       "      <th></th>\n",
       "      <th></th>\n",
       "    </tr>\n",
       "  </thead>\n",
       "  <tbody>\n",
       "    <tr>\n",
       "      <th>user 0</th>\n",
       "      <td>[item 12733, item 17326, item 16302, item 1238...</td>\n",
       "      <td>[item 8391, item 11677, item 9991, item 13581,...</td>\n",
       "    </tr>\n",
       "    <tr>\n",
       "      <th>user 1</th>\n",
       "      <td>[item 13967, item 13915, item 8750, item 9356,...</td>\n",
       "      <td>[item 15894, item 10185, item 7475, item 13534...</td>\n",
       "    </tr>\n",
       "    <tr>\n",
       "      <th>user 10</th>\n",
       "      <td>[item 16041, item 3718, item 4034, item 4323, ...</td>\n",
       "      <td>[item 13448, item 2236, item 5657, item 14069,...</td>\n",
       "    </tr>\n",
       "    <tr>\n",
       "      <th>user 100</th>\n",
       "      <td>[item 11072, item 13483, item 5651, item 15967...</td>\n",
       "      <td>[item 11373, item 7555, item 8133, item 2662, ...</td>\n",
       "    </tr>\n",
       "    <tr>\n",
       "      <th>user 1000</th>\n",
       "      <td>[item 12384, item 13038, item 17507, item 3081...</td>\n",
       "      <td>[item 9829, item 5744, item 10201, item 7491, ...</td>\n",
       "    </tr>\n",
       "  </tbody>\n",
       "</table>\n",
       "</div>"
      ],
      "text/plain": [
       "                                                      y_pred  \\\n",
       "user_id                                                        \n",
       "user 0     [item 12733, item 17326, item 16302, item 1238...   \n",
       "user 1     [item 13967, item 13915, item 8750, item 9356,...   \n",
       "user 10    [item 16041, item 3718, item 4034, item 4323, ...   \n",
       "user 100   [item 11072, item 13483, item 5651, item 15967...   \n",
       "user 1000  [item 12384, item 13038, item 17507, item 3081...   \n",
       "\n",
       "                                                     item_id  \n",
       "user_id                                                       \n",
       "user 0     [item 8391, item 11677, item 9991, item 13581,...  \n",
       "user 1     [item 15894, item 10185, item 7475, item 13534...  \n",
       "user 10    [item 13448, item 2236, item 5657, item 14069,...  \n",
       "user 100   [item 11373, item 7555, item 8133, item 2662, ...  \n",
       "user 1000  [item 9829, item 5744, item 10201, item 7491, ...  "
      ]
     },
     "execution_count": 43,
     "metadata": {},
     "output_type": "execute_result"
    }
   ],
   "source": [
    "def map_predictions(x):\n",
    "    return inv_item_mapping[x['y_pred']]\n",
    "\n",
    "def map_users(x):\n",
    "    return inv_user_mapping[x['user_id']]\n",
    "\n",
    "df_inference_feat['y_pred'] = df_inference_feat.apply(map_predictions,axis=1)\n",
    "df_inference_feat['user_id'] = df_inference_feat.apply(map_users,axis=1)\n",
    "\n",
    "# aggregations for [user_id]\n",
    "agg_inf_feat = df_inference_feat.groupby('user_id')['y_pred'].apply(lambda x: list(x)).to_frame()\n",
    "agg_train = train.groupby('user_id')['item_id'].apply(lambda x: list(x)).to_frame()\n",
    "merged_inf_feat = agg_inf_feat.merge(agg_train,left_index=True,right_index=True)\n",
    "merged_inf_feat.head()"
   ]
  },
  {
   "cell_type": "code",
   "execution_count": 44,
   "id": "58fd3251",
   "metadata": {
    "execution": {
     "iopub.execute_input": "2025-01-19T11:16:59.005761Z",
     "iopub.status.busy": "2025-01-19T11:16:59.005367Z",
     "iopub.status.idle": "2025-01-19T11:16:59.127344Z",
     "shell.execute_reply": "2025-01-19T11:16:59.126167Z"
    },
    "papermill": {
     "duration": 0.148483,
     "end_time": "2025-01-19T11:16:59.129280",
     "exception": false,
     "start_time": "2025-01-19T11:16:58.980797",
     "status": "completed"
    },
    "tags": []
   },
   "outputs": [
    {
     "name": "stdout",
     "output_type": "stream",
     "text": [
      "precision k@20: 0.0008\n"
     ]
    }
   ],
   "source": [
    "print('precision k@20:',round(precision(merged_inf_feat,\n",
    "                                        pred_col='y_pred',\n",
    "                                        true_col='item_id',\n",
    "                                        k=20),4))"
   ]
  }
 ],
 "metadata": {
  "kaggle": {
   "accelerator": "none",
   "dataSources": [
    {
     "datasetId": 6468482,
     "sourceId": 10449978,
     "sourceType": "datasetVersion"
    }
   ],
   "dockerImageVersionId": 30822,
   "isGpuEnabled": false,
   "isInternetEnabled": true,
   "language": "python",
   "sourceType": "notebook"
  },
  "kernelspec": {
   "display_name": "Python 3",
   "language": "python",
   "name": "python3"
  },
  "language_info": {
   "codemirror_mode": {
    "name": "ipython",
    "version": 3
   },
   "file_extension": ".py",
   "mimetype": "text/x-python",
   "name": "python",
   "nbconvert_exporter": "python",
   "pygments_lexer": "ipython3",
   "version": "3.10.12"
  },
  "papermill": {
   "default_parameters": {},
   "duration": 58.262235,
   "end_time": "2025-01-19T11:16:59.976781",
   "environment_variables": {},
   "exception": null,
   "input_path": "__notebook__.ipynb",
   "output_path": "__notebook__.ipynb",
   "parameters": {},
   "start_time": "2025-01-19T11:16:01.714546",
   "version": "2.6.0"
  }
 },
 "nbformat": 4,
 "nbformat_minor": 5
}
