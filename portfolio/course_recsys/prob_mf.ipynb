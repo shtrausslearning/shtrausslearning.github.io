{
 "cells": [
  {
   "metadata": {
    "execution": {
     "iopub.execute_input": "2025-01-29T19:43:48.160524Z",
     "iopub.status.busy": "2025-01-29T19:43:48.160080Z",
     "iopub.status.idle": "2025-01-29T19:48:41.911448Z",
     "shell.execute_reply": "2025-01-29T19:48:41.910167Z"
    },
    "papermill": {
     "duration": 293.777658,
     "end_time": "2025-01-29T19:48:41.913491",
     "exception": false,
     "start_time": "2025-01-29T19:43:48.135833",
     "status": "completed"
    },
    "tags": [],
    "trusted": false
   },
   "id": "6008f04c",
   "cell_type": "code",
   "source": "!pip install replay-rec --quiet\n!pip install implicit --quiet\n!pip install lightfm --quiet\n!pip install apyori --quiet",
   "execution_count": 1,
   "outputs": [
    {
     "name": "stdout",
     "output_type": "stream",
     "text": "\u001b[2K     \u001b[90m━━━━━━━━━━━━━━━━━━━━━━━━━━━━━━━━━━━━━━━━\u001b[0m \u001b[32m196.8/196.8 kB\u001b[0m \u001b[31m8.7 MB/s\u001b[0m eta \u001b[36m0:00:00\u001b[0m\r\n\u001b[?25h  Preparing metadata (setup.py) ... \u001b[?25l\u001b[?25hdone\r\n  Installing build dependencies ... \u001b[?25l\u001b[?25hdone\r\n  Getting requirements to build wheel ... \u001b[?25l\u001b[?25hdone\r\n  Preparing metadata (pyproject.toml) ... \u001b[?25l\u001b[?25hdone\r\n\u001b[2K   \u001b[90m━━━━━━━━━━━━━━━━━━━━━━━━━━━━━━━━━━━━━━━━\u001b[0m \u001b[32m235.9/235.9 kB\u001b[0m \u001b[31m14.7 MB/s\u001b[0m eta \u001b[36m0:00:00\u001b[0m\r\n\u001b[2K   \u001b[90m━━━━━━━━━━━━━━━━━━━━━━━━━━━━━━━━━━━━━━━━\u001b[0m \u001b[32m390.6/390.6 kB\u001b[0m \u001b[31m24.2 MB/s\u001b[0m eta \u001b[36m0:00:00\u001b[0m\r\n\u001b[2K   \u001b[90m━━━━━━━━━━━━━━━━━━━━━━━━━━━━━━━━━━━━━━━━\u001b[0m \u001b[32m31.0/31.0 MB\u001b[0m \u001b[31m4.2 MB/s\u001b[0m eta \u001b[36m0:00:00\u001b[0m\r\n\u001b[2K   \u001b[90m━━━━━━━━━━━━━━━━━━━━━━━━━━━━━━━━━━━━━━━━\u001b[0m \u001b[32m290.5/290.5 kB\u001b[0m \u001b[31m16.3 MB/s\u001b[0m eta \u001b[36m0:00:00\u001b[0m\r\n\u001b[?25h  Building wheel for fixed-install-nmslib (setup.py) ... \u001b[?25l\u001b[?25hdone\r\n  Building wheel for hnswlib (pyproject.toml) ... \u001b[?25l\u001b[?25hdone\r\n\u001b[31mERROR: pip's dependency resolver does not currently take into account all the packages that are installed. This behaviour is the source of the following dependency conflicts.\r\ndistributed 2024.8.0 requires dask==2024.8.0, but you have dask 2024.12.1 which is incompatible.\u001b[0m\u001b[31m\r\n\u001b[2K   \u001b[90m━━━━━━━━━━━━━━━━━━━━━━━━━━━━━━━━━━━━━━━━\u001b[0m \u001b[32m8.9/8.9 MB\u001b[0m \u001b[31m95.1 MB/s\u001b[0m eta \u001b[36m0:00:00\u001b[0m\r\n\u001b[2K     \u001b[90m━━━━━━━━━━━━━━━━━━━━━━━━━━━━━━━━━━━━━━━━\u001b[0m \u001b[32m316.4/316.4 kB\u001b[0m \u001b[31m14.6 MB/s\u001b[0m eta \u001b[36m0:00:00\u001b[0m\r\n\u001b[?25h  Preparing metadata (setup.py) ... \u001b[?25l\u001b[?25hdone\r\n  Building wheel for lightfm (setup.py) ... \u001b[?25l\u001b[?25hdone\r\n  Preparing metadata (setup.py) ... \u001b[?25l\u001b[?25hdone\r\n  Building wheel for apyori (setup.py) ... \u001b[?25l\u001b[?25hdone\r\n"
    }
   ]
  },
  {
   "metadata": {
    "execution": {
     "iopub.execute_input": "2025-01-29T19:48:41.976575Z",
     "iopub.status.busy": "2025-01-29T19:48:41.976181Z",
     "iopub.status.idle": "2025-01-29T19:48:49.429048Z",
     "shell.execute_reply": "2025-01-29T19:48:49.427977Z"
    },
    "papermill": {
     "duration": 7.486251,
     "end_time": "2025-01-29T19:48:49.431031",
     "exception": false,
     "start_time": "2025-01-29T19:48:41.944780",
     "status": "completed"
    },
    "tags": [],
    "trusted": false
   },
   "id": "05c04a42",
   "cell_type": "code",
   "source": "import numpy as np\nimport pandas as pd\nimport os\nfrom sklearn.metrics import mean_absolute_error\nfrom scipy.sparse import csr_matrix\nfrom scipy.sparse.linalg import svds\nimport scipy.sparse as sparse\nimport scipy\nfrom tqdm import tqdm\nimport warnings; warnings.filterwarnings('ignore')\n\nfrom replay.metrics import Experiment\nimport implicit # для ALS\nfrom datasets import load_dataset\nimport matplotlib.pyplot as plt",
   "execution_count": 2,
   "outputs": []
  },
  {
   "metadata": {
    "papermill": {
     "duration": 0.03163,
     "end_time": "2025-01-29T19:48:49.493579",
     "exception": false,
     "start_time": "2025-01-29T19:48:49.461949",
     "status": "completed"
    },
    "tags": []
   },
   "id": "4d90cb4b",
   "cell_type": "markdown",
   "source": "# **Модели матричной факторизации**\n\n## **<span style='color:#686dec'>1 | Задание</span>**\n\n- Выберите любой понравившийся вам набор данных с количеством рейтингов более 1М по ссылке: https://huggingface.co/datasets/McAuley-Lab/Amazon-Reviews-2023\n- Проведите базовый EDA - распределения рейтингов, количество уникальных товаров и т.д. При необходимости фильтруйте данные.\n- Сделайте разбиение данных на train и test методом leave-one-out.\n- На основании вашего датасета постройте 3-4 рекомендательных модели. Можно включить простой бейзлайн типа модели, рекомендующей самые популярные товары, а также использовать библиотеку implicit и другие.\n- Оцените качество полученных рекомендаций по метрикам HR@10, MRR@10, NDCG@10, coverage.\n- Напишите выводы о проделанной работе: качество какой модели оказалось лучше, почему."
  },
  {
   "metadata": {
    "papermill": {
     "duration": 0.029891,
     "end_time": "2025-01-29T19:48:49.553973",
     "exception": false,
     "start_time": "2025-01-29T19:48:49.524082",
     "status": "completed"
    },
    "tags": []
   },
   "id": "715cdc65",
   "cell_type": "markdown",
   "source": "## **<span style='color:#686dec'>2 | Чтение данных</span>**\n\n### **Датасет взаимодействии**\n\nДля датасета, загружаем данные по взаимодейстию покупателя с товарами програмного обеспечения"
  },
  {
   "metadata": {
    "_cell_guid": "b1076dfc-b9ad-4769-8c92-a6c4dae69d19",
    "_uuid": "8f2839f25d086af736a60e9eeb907d3b93b6e0e5",
    "execution": {
     "iopub.execute_input": "2025-01-29T19:48:49.618543Z",
     "iopub.status.busy": "2025-01-29T19:48:49.617939Z",
     "iopub.status.idle": "2025-01-29T19:52:04.930206Z",
     "shell.execute_reply": "2025-01-29T19:52:04.928747Z"
    },
    "papermill": {
     "duration": 195.348014,
     "end_time": "2025-01-29T19:52:04.932929",
     "exception": false,
     "start_time": "2025-01-29T19:48:49.584915",
     "status": "completed"
    },
    "tags": [],
    "trusted": false
   },
   "id": "a0319764",
   "cell_type": "code",
   "source": "dataset = load_dataset(\"McAuley-Lab/Amazon-Reviews-2023\", \n                       \"raw_review_Software\", \n                       trust_remote_code=True)\ndataset_df = dataset['full'].to_pandas()\n\n# Конвертируем datetime в ms\ndataset_df['timestamp'] = pd.to_datetime(dataset_df['timestamp'], unit='ms')\n\ndataset_df.drop(['title','text','images','helpful_vote','verified_purchase'],axis=1,inplace=True)\ndataset_df = dataset_df.rename(columns={'parent_asin':'item_id'})",
   "execution_count": 3,
   "outputs": [
    {
     "data": {
      "application/vnd.jupyter.widget-view+json": {
       "model_id": "518037aadb624f68a71f93bd3d2b3d12",
       "version_major": 2,
       "version_minor": 0
      },
      "text/plain": "README.md:   0%|          | 0.00/30.3k [00:00<?, ?B/s]"
     },
     "metadata": {},
     "output_type": "display_data"
    },
    {
     "data": {
      "application/vnd.jupyter.widget-view+json": {
       "model_id": "7ec76c98f9174ebdac3e184c99694071",
       "version_major": 2,
       "version_minor": 0
      },
      "text/plain": "Amazon-Reviews-2023.py:   0%|          | 0.00/39.6k [00:00<?, ?B/s]"
     },
     "metadata": {},
     "output_type": "display_data"
    },
    {
     "data": {
      "application/vnd.jupyter.widget-view+json": {
       "model_id": "c1032b61fd274e7991069d3044739734",
       "version_major": 2,
       "version_minor": 0
      },
      "text/plain": "Software.jsonl:   0%|          | 0.00/1.87G [00:00<?, ?B/s]"
     },
     "metadata": {},
     "output_type": "display_data"
    },
    {
     "data": {
      "application/vnd.jupyter.widget-view+json": {
       "model_id": "b29437c936dd40c3b7d6f30f1691ed62",
       "version_major": 2,
       "version_minor": 0
      },
      "text/plain": "Generating full split: 0 examples [00:00, ? examples/s]"
     },
     "metadata": {},
     "output_type": "display_data"
    }
   ]
  },
  {
   "metadata": {
    "papermill": {
     "duration": 0.031094,
     "end_time": "2025-01-29T19:52:04.996501",
     "exception": false,
     "start_time": "2025-01-29T19:52:04.965407",
     "status": "completed"
    },
    "tags": []
   },
   "id": "7d59423a",
   "cell_type": "markdown",
   "source": "Удаляем дубликаты для комбинации трех колонок **`user_id`**, **`item_id`**, **`timestamp`**"
  },
  {
   "metadata": {
    "execution": {
     "iopub.execute_input": "2025-01-29T19:52:05.062647Z",
     "iopub.status.busy": "2025-01-29T19:52:05.062202Z",
     "iopub.status.idle": "2025-01-29T19:52:24.397449Z",
     "shell.execute_reply": "2025-01-29T19:52:24.396276Z"
    },
    "papermill": {
     "duration": 19.37102,
     "end_time": "2025-01-29T19:52:24.399383",
     "exception": false,
     "start_time": "2025-01-29T19:52:05.028363",
     "status": "completed"
    },
    "tags": [],
    "trusted": false
   },
   "id": "9672ed5f",
   "cell_type": "code",
   "source": "# подсчет дубликатов \ndataset_df[['user_id','item_id','timestamp']].value_counts()",
   "execution_count": 4,
   "outputs": [
    {
     "data": {
      "text/plain": "user_id                       item_id     timestamp              \nAGALPU5ARZEK75CGKYELK232AHGA  B06XP4F49R  2019-01-23 22:01:29.630    27\nAE3QHFBC2YC4YRQJZWSP2Z7LUVNA  B00BJ4ETBW  2015-04-25 07:45:40.000    11\nAHK7CJWVLIXTRDTPJ5ZEEL56UCVA  B01LXOU5PM  2018-09-26 00:17:44.554    10\nAGCHXQUQ54YTXOGYRWFSV4MQFMQA  B00O109QX2  2018-04-08 15:37:17.347    10\nAGNGFKMPODAP7XWAGIC42WCSGBMQ  B00IG2DOKM  2016-08-18 13:08:27.000    10\n                                                                     ..\nAFEUXIC24P7FP4T6M6M5CZO33NKQ  B00DVKOYBM  2015-09-07 20:33:11.000     1\nAFEUXHN4I3PIA6WYZQT2SEJUSXWA  B00XGNNN52  2017-07-29 18:00:39.829     1\n                              B0081JPTXK  2013-04-03 18:31:55.000     1\n                              B007TBAQCK  2016-07-23 16:24:17.000     1\nAHZZZYHANWL2OW5PGXDOBUTJXCTA  B07RCG9SRL  2020-04-23 04:02:34.597     1\nName: count, Length: 4829120, dtype: int64"
     },
     "execution_count": 4,
     "metadata": {},
     "output_type": "execute_result"
    }
   ]
  },
  {
   "metadata": {
    "execution": {
     "iopub.execute_input": "2025-01-29T19:52:24.462734Z",
     "iopub.status.busy": "2025-01-29T19:52:24.462315Z",
     "iopub.status.idle": "2025-01-29T19:52:29.307521Z",
     "shell.execute_reply": "2025-01-29T19:52:29.306215Z"
    },
    "papermill": {
     "duration": 4.879188,
     "end_time": "2025-01-29T19:52:29.309534",
     "exception": false,
     "start_time": "2025-01-29T19:52:24.430346",
     "status": "completed"
    },
    "tags": [],
    "trusted": false
   },
   "id": "6d8450fb",
   "cell_type": "code",
   "source": "# удаляем эти дубликаты (одновременно преобрел несколько товаров)\ndataset_df.drop_duplicates(subset=['user_id','item_id','timestamp'],inplace=True)",
   "execution_count": 5,
   "outputs": []
  },
  {
   "metadata": {
    "papermill": {
     "duration": 0.030412,
     "end_time": "2025-01-29T19:52:29.371115",
     "exception": false,
     "start_time": "2025-01-29T19:52:29.340703",
     "status": "completed"
    },
    "tags": []
   },
   "id": "4a6abe21",
   "cell_type": "markdown",
   "source": "### **Датасет товаров**\n\n- **`parent_asin`** : идентификатор (программное обеспечение) товара\n- **`user_id`** : Идентификатор Пользователь"
  },
  {
   "metadata": {
    "execution": {
     "iopub.execute_input": "2025-01-29T19:52:29.434986Z",
     "iopub.status.busy": "2025-01-29T19:52:29.434294Z",
     "iopub.status.idle": "2025-01-29T19:53:10.830076Z",
     "shell.execute_reply": "2025-01-29T19:53:10.828880Z"
    },
    "papermill": {
     "duration": 41.43013,
     "end_time": "2025-01-29T19:53:10.831876",
     "exception": false,
     "start_time": "2025-01-29T19:52:29.401746",
     "status": "completed"
    },
    "tags": [],
    "trusted": false
   },
   "id": "5b4b8b12",
   "cell_type": "code",
   "source": "meta = load_dataset(\"McAuley-Lab/Amazon-Reviews-2023\", \n                    \"raw_meta_Software\",\n                    trust_remote_code=True)\nldf = meta[\"full\"].to_pandas()\nldf = ldf.rename(columns={'parent_asin':'item_id'})\nldf.drop(['features','description','images','videos','details',\n          'bought_together','subtitle','author','categories'],axis=1,inplace=True)\nldf = ldf[~(ldf['price'] == 'None')]\nldf['price'] = ldf['price'].astype('float')\nldf.head()",
   "execution_count": 6,
   "outputs": [
    {
     "data": {
      "application/vnd.jupyter.widget-view+json": {
       "model_id": "6fb0cf4d235c47658e9e64ddf6a33c20",
       "version_major": 2,
       "version_minor": 0
      },
      "text/plain": "meta_Software.jsonl:   0%|          | 0.00/256M [00:00<?, ?B/s]"
     },
     "metadata": {},
     "output_type": "display_data"
    },
    {
     "data": {
      "application/vnd.jupyter.widget-view+json": {
       "model_id": "33369ea4fd1e49cf86d637dac2dd24f3",
       "version_major": 2,
       "version_minor": 0
      },
      "text/plain": "Generating full split: 0 examples [00:00, ? examples/s]"
     },
     "metadata": {},
     "output_type": "display_data"
    },
    {
     "data": {
      "text/html": "<div>\n<style scoped>\n    .dataframe tbody tr th:only-of-type {\n        vertical-align: middle;\n    }\n\n    .dataframe tbody tr th {\n        vertical-align: top;\n    }\n\n    .dataframe thead th {\n        text-align: right;\n    }\n</style>\n<table border=\"1\" class=\"dataframe\">\n  <thead>\n    <tr style=\"text-align: right;\">\n      <th></th>\n      <th>main_category</th>\n      <th>title</th>\n      <th>average_rating</th>\n      <th>rating_number</th>\n      <th>price</th>\n      <th>store</th>\n      <th>item_id</th>\n    </tr>\n  </thead>\n  <tbody>\n    <tr>\n      <th>0</th>\n      <td>Appstore for Android</td>\n      <td>Accupressure Guide</td>\n      <td>3.6</td>\n      <td>NaN</td>\n      <td>0.00</td>\n      <td>mAppsguru</td>\n      <td>B00VRPSGEO</td>\n    </tr>\n    <tr>\n      <th>1</th>\n      <td>Appstore for Android</td>\n      <td>Ankylosaurus Fights Back - Smithsonian's Prehi...</td>\n      <td>4.0</td>\n      <td>NaN</td>\n      <td>2.99</td>\n      <td>Oceanhouse Media, Inc</td>\n      <td>B00NWQXXHQ</td>\n    </tr>\n    <tr>\n      <th>2</th>\n      <td>Appstore for Android</td>\n      <td>Mahjong 2015</td>\n      <td>3.1</td>\n      <td>NaN</td>\n      <td>0.00</td>\n      <td>sophiathach</td>\n      <td>B00RFKP6AC</td>\n    </tr>\n    <tr>\n      <th>3</th>\n      <td>Appstore for Android</td>\n      <td>Jewels Brick Breakout</td>\n      <td>4.2</td>\n      <td>NaN</td>\n      <td>0.00</td>\n      <td>Bad Chicken</td>\n      <td>B00SP2QU0E</td>\n    </tr>\n    <tr>\n      <th>4</th>\n      <td>Appstore for Android</td>\n      <td>Traffic Police: Off-Road Cub</td>\n      <td>3.3</td>\n      <td>NaN</td>\n      <td>0.00</td>\n      <td>Dast 2 For Metro</td>\n      <td>B01DZIT64O</td>\n    </tr>\n  </tbody>\n</table>\n</div>",
      "text/plain": "          main_category                                              title  \\\n0  Appstore for Android                                 Accupressure Guide   \n1  Appstore for Android  Ankylosaurus Fights Back - Smithsonian's Prehi...   \n2  Appstore for Android                                       Mahjong 2015   \n3  Appstore for Android                              Jewels Brick Breakout   \n4  Appstore for Android                       Traffic Police: Off-Road Cub   \n\n   average_rating  rating_number  price                  store     item_id  \n0             3.6            NaN   0.00              mAppsguru  B00VRPSGEO  \n1             4.0            NaN   2.99  Oceanhouse Media, Inc  B00NWQXXHQ  \n2             3.1            NaN   0.00            sophiathach  B00RFKP6AC  \n3             4.2            NaN   0.00            Bad Chicken  B00SP2QU0E  \n4             3.3            NaN   0.00       Dast 2 For Metro  B01DZIT64O  "
     },
     "execution_count": 6,
     "metadata": {},
     "output_type": "execute_result"
    }
   ]
  },
  {
   "metadata": {
    "papermill": {
     "duration": 0.031713,
     "end_time": "2025-01-29T19:53:10.895701",
     "exception": false,
     "start_time": "2025-01-29T19:53:10.863988",
     "status": "completed"
    },
    "tags": []
   },
   "id": "cd48b3e2",
   "cell_type": "markdown",
   "source": "## **<span style='color:#686dec'>3 | Разведовательный анализ</span>**\n\n### **Распределение рейтинг пользователей**\n\nРейтинги которые ставя пользователи "
  },
  {
   "metadata": {
    "execution": {
     "iopub.execute_input": "2025-01-29T19:53:10.960188Z",
     "iopub.status.busy": "2025-01-29T19:53:10.959756Z",
     "iopub.status.idle": "2025-01-29T19:53:11.334544Z",
     "shell.execute_reply": "2025-01-29T19:53:11.333212Z"
    },
    "papermill": {
     "duration": 0.409035,
     "end_time": "2025-01-29T19:53:11.336570",
     "exception": false,
     "start_time": "2025-01-29T19:53:10.927535",
     "status": "completed"
    },
    "tags": [],
    "trusted": false
   },
   "id": "a928e0fd",
   "cell_type": "code",
   "source": "# Среднее рейтинга товара\nldf.average_rating.hist(bins=50)",
   "execution_count": 7,
   "outputs": [
    {
     "data": {
      "text/plain": "<Axes: >"
     },
     "execution_count": 7,
     "metadata": {},
     "output_type": "execute_result"
    },
    {
     "data": {
      "image/png": "[encoded data removed]",
      "text/plain": "<Figure size 640x480 with 1 Axes>"
     },
     "metadata": {},
     "output_type": "display_data"
    }
   ]
  },
  {
   "metadata": {
    "papermill": {
     "duration": 0.032047,
     "end_time": "2025-01-29T19:53:11.401813",
     "exception": false,
     "start_time": "2025-01-29T19:53:11.369766",
     "status": "completed"
    },
    "tags": []
   },
   "id": "4e93a602",
   "cell_type": "markdown",
   "source": "### **Количество рейитингов**\n\nКоличество рейтингов у пользователя"
  },
  {
   "metadata": {
    "execution": {
     "iopub.execute_input": "2025-01-29T19:53:11.564717Z",
     "iopub.status.busy": "2025-01-29T19:53:11.564294Z",
     "iopub.status.idle": "2025-01-29T19:53:16.183607Z",
     "shell.execute_reply": "2025-01-29T19:53:16.182310Z"
    },
    "papermill": {
     "duration": 4.750343,
     "end_time": "2025-01-29T19:53:16.185797",
     "exception": false,
     "start_time": "2025-01-29T19:53:11.435454",
     "status": "completed"
    },
    "tags": [],
    "trusted": false
   },
   "id": "e5c864d2",
   "cell_type": "code",
   "source": "# Среднее количество ретингов\nldf.rating_number.value_counts().hist(bins=3000)\nplt.xlim(0,100)",
   "execution_count": 8,
   "outputs": [
    {
     "data": {
      "text/plain": "(0.0, 100.0)"
     },
     "execution_count": 8,
     "metadata": {},
     "output_type": "execute_result"
    },
    {
     "data": {
      "image/png": "[encoded data removed]",
      "text/plain": "<Figure size 640x480 with 1 Axes>"
     },
     "metadata": {},
     "output_type": "display_data"
    }
   ]
  },
  {
   "metadata": {
    "execution": {
     "iopub.execute_input": "2025-01-29T19:53:16.254515Z",
     "iopub.status.busy": "2025-01-29T19:53:16.254131Z",
     "iopub.status.idle": "2025-01-29T19:53:16.456553Z",
     "shell.execute_reply": "2025-01-29T19:53:16.455348Z"
    },
    "papermill": {
     "duration": 0.238964,
     "end_time": "2025-01-29T19:53:16.458645",
     "exception": false,
     "start_time": "2025-01-29T19:53:16.219681",
     "status": "completed"
    },
    "tags": [],
    "trusted": false
   },
   "id": "d27f7e3b",
   "cell_type": "code",
   "source": "df = dataset_df.copy()",
   "execution_count": 9,
   "outputs": []
  },
  {
   "metadata": {
    "execution": {
     "iopub.execute_input": "2025-01-29T19:53:16.526032Z",
     "iopub.status.busy": "2025-01-29T19:53:16.525657Z",
     "iopub.status.idle": "2025-01-29T19:53:16.539279Z",
     "shell.execute_reply": "2025-01-29T19:53:16.537897Z"
    },
    "papermill": {
     "duration": 0.04907,
     "end_time": "2025-01-29T19:53:16.541181",
     "exception": false,
     "start_time": "2025-01-29T19:53:16.492111",
     "status": "completed"
    },
    "tags": [],
    "trusted": false
   },
   "id": "3ac54ca0",
   "cell_type": "code",
   "source": "# main category\nldf['main_category'].value_counts()",
   "execution_count": 10,
   "outputs": [
    {
     "data": {
      "text/plain": "main_category\nAppstore for Android    67849\nSoftware                 2922\nHome Audio & Theater        1\nComputers                   1\nName: count, dtype: int64"
     },
     "execution_count": 10,
     "metadata": {},
     "output_type": "execute_result"
    }
   ]
  },
  {
   "metadata": {
    "execution": {
     "iopub.execute_input": "2025-01-29T19:53:16.608601Z",
     "iopub.status.busy": "2025-01-29T19:53:16.608189Z",
     "iopub.status.idle": "2025-01-29T19:53:18.200849Z",
     "shell.execute_reply": "2025-01-29T19:53:18.199647Z"
    },
    "papermill": {
     "duration": 1.628676,
     "end_time": "2025-01-29T19:53:18.202785",
     "exception": false,
     "start_time": "2025-01-29T19:53:16.574109",
     "status": "completed"
    },
    "tags": [],
    "trusted": false
   },
   "id": "9d36f76d",
   "cell_type": "code",
   "source": "ldf['price'].hist(bins=1000)\nplt.xlim(0,100)",
   "execution_count": 11,
   "outputs": [
    {
     "data": {
      "text/plain": "(0.0, 100.0)"
     },
     "execution_count": 11,
     "metadata": {},
     "output_type": "execute_result"
    },
    {
     "data": {
      "image/png": "[encoded data removed]",
      "text/plain": "<Figure size 640x480 with 1 Axes>"
     },
     "metadata": {},
     "output_type": "display_data"
    }
   ]
  },
  {
   "metadata": {
    "papermill": {
     "duration": 0.033163,
     "end_time": "2025-01-29T19:53:18.269233",
     "exception": false,
     "start_time": "2025-01-29T19:53:18.236070",
     "status": "completed"
    },
    "tags": []
   },
   "id": "6bcd1f24",
   "cell_type": "markdown",
   "source": "## **<span style='color:#686dec'>4 | Преподработка</span>**\n\n### **a) Фильтрация данных по признаку фичей**\n\nОтфильтруем по колонкам признаков фичей:\n- **`average_price`** : Средний рейтинг товара\n- **`rating_number`** : Количество отзывов\n\n\nОставляем только взамидействии пользователей с этими товарами, остальные удаляем\n- Цель нашей рекомендации, предложить пользователю товары которые хорошо оценивали и количество оценок тоже много"
  },
  {
   "metadata": {
    "execution": {
     "iopub.execute_input": "2025-01-29T19:53:18.337479Z",
     "iopub.status.busy": "2025-01-29T19:53:18.337021Z",
     "iopub.status.idle": "2025-01-29T19:53:20.881743Z",
     "shell.execute_reply": "2025-01-29T19:53:20.880009Z"
    },
    "papermill": {
     "duration": 2.581161,
     "end_time": "2025-01-29T19:53:20.883895",
     "exception": false,
     "start_time": "2025-01-29T19:53:18.302734",
     "status": "completed"
    },
    "tags": [],
    "trusted": false
   },
   "id": "e603a2f9",
   "cell_type": "code",
   "source": "'''\n\nФильтрация по фичам [ldf]\n\n'''\n\nprint('уникальных пользователей: ',df['user_id'].nunique())\nprint('Количество взаимодействии в исходной выборке ',df.shape[0])\nprint('Количество товаров в исходной выборке ',ldf.shape[0])\n# Количество товаров в исходной выборке\n\n# Средний рейтинг тована > 3.5\n# Количество рейтингов > 50 раз\nldf = ldf[(ldf['average_rating'] >= 4.0) & (ldf['rating_number'] > 500)]\n\ndf = df[df['item_id'].isin(ldf['item_id'])]\nprint('Количество взаимодействии после фильтрации ',df.shape[0])\nprint('Количество товаров после фильтрации ',ldf.shape[0])",
   "execution_count": 12,
   "outputs": [
    {
     "name": "stdout",
     "output_type": "stream",
     "text": "уникальных пользователей:  2589466\nКоличество взаимодействии в исходной выборке  4829120\nКоличество товаров в исходной выборке  70985\nКоличество взаимодействии после фильтрации  1545391\nКоличество товаров после фильтрации  1487\n"
    }
   ]
  },
  {
   "metadata": {
    "execution": {
     "iopub.execute_input": "2025-01-29T19:53:20.952308Z",
     "iopub.status.busy": "2025-01-29T19:53:20.951881Z",
     "iopub.status.idle": "2025-01-29T19:53:21.442482Z",
     "shell.execute_reply": "2025-01-29T19:53:21.441212Z"
    },
    "papermill": {
     "duration": 0.527167,
     "end_time": "2025-01-29T19:53:21.444571",
     "exception": false,
     "start_time": "2025-01-29T19:53:20.917404",
     "status": "completed"
    },
    "tags": [],
    "trusted": false
   },
   "id": "36fd9495",
   "cell_type": "code",
   "source": "print('уникальных пользователей: ',df['user_id'].nunique())",
   "execution_count": 13,
   "outputs": [
    {
     "name": "stdout",
     "output_type": "stream",
     "text": "уникальных пользователей:  1133626\n"
    }
   ]
  },
  {
   "metadata": {
    "papermill": {
     "duration": 0.036215,
     "end_time": "2025-01-29T19:53:21.519785",
     "exception": false,
     "start_time": "2025-01-29T19:53:21.483570",
     "status": "completed"
    },
    "tags": []
   },
   "id": "332dc9e2",
   "cell_type": "markdown",
   "source": "### **b) Фильтрация данных по взаимодействиям**\n\nФильруем по данным взаимодействии пользователей и товаром:\n- фильтруем пользователей у которых мало взаимодейсвии\n- фильтруем товары которых мало покупали"
  },
  {
   "metadata": {
    "execution": {
     "iopub.execute_input": "2025-01-29T19:53:21.594144Z",
     "iopub.status.busy": "2025-01-29T19:53:21.593723Z",
     "iopub.status.idle": "2025-01-29T19:53:23.054408Z",
     "shell.execute_reply": "2025-01-29T19:53:23.053214Z"
    },
    "papermill": {
     "duration": 1.501074,
     "end_time": "2025-01-29T19:53:23.056230",
     "exception": false,
     "start_time": "2025-01-29T19:53:21.555156",
     "status": "completed"
    },
    "tags": [],
    "trusted": false
   },
   "id": "31b39751",
   "cell_type": "code",
   "source": "'''\n\nФильтрации по взаимодействиям [df]\n\n'''\n\n# Количество взаимодействии для пользователя\nuser_counts = df['user_id'].value_counts()\n\n# Пользователи у которых больше n пользователей\nuser_count_limit_users = user_counts[user_counts > 10].index\ndf = df[df['user_id'].isin(user_count_limit_users)]\nprint('Количество взаимодействии после фильтрации ',df.shape[0])\n\n# Товары которыйх покупали мельше n раз\nitem_counts = df['item_id'].value_counts()\ndf = df[~df['item_id'].isin(item_counts[item_counts < 30].index)]\nprint('Размер датасета после фильтрации товаров: ',df.shape[0])",
   "execution_count": 14,
   "outputs": [
    {
     "name": "stdout",
     "output_type": "stream",
     "text": "Количество взаимодействии после фильтрации  42234\nРазмер датасета после фильтрации товаров:  35520\n"
    }
   ]
  },
  {
   "metadata": {
    "papermill": {
     "duration": 0.033673,
     "end_time": "2025-01-29T19:53:23.123080",
     "exception": false,
     "start_time": "2025-01-29T19:53:23.089407",
     "status": "completed"
    },
    "tags": []
   },
   "id": "383bbc5a",
   "cell_type": "markdown",
   "source": "### **Расспределение рейтингов**"
  },
  {
   "metadata": {
    "execution": {
     "iopub.execute_input": "2025-01-29T19:53:23.193700Z",
     "iopub.status.busy": "2025-01-29T19:53:23.193298Z",
     "iopub.status.idle": "2025-01-29T19:53:23.202812Z",
     "shell.execute_reply": "2025-01-29T19:53:23.201642Z"
    },
    "papermill": {
     "duration": 0.047654,
     "end_time": "2025-01-29T19:53:23.204408",
     "exception": false,
     "start_time": "2025-01-29T19:53:23.156754",
     "status": "completed"
    },
    "tags": [],
    "trusted": false
   },
   "id": "d1034462",
   "cell_type": "code",
   "source": "df['rating'].value_counts(normalize=True)*100",
   "execution_count": 15,
   "outputs": [
    {
     "data": {
      "text/plain": "rating\n5.0    60.526464\n4.0    12.722410\n3.0    11.627252\n1.0    11.221847\n2.0     3.902027\nName: proportion, dtype: float64"
     },
     "execution_count": 15,
     "metadata": {},
     "output_type": "execute_result"
    }
   ]
  },
  {
   "metadata": {
    "papermill": {
     "duration": 0.033582,
     "end_time": "2025-01-29T19:53:23.271468",
     "exception": false,
     "start_time": "2025-01-29T19:53:23.237886",
     "status": "completed"
    },
    "tags": []
   },
   "id": "fff47144",
   "cell_type": "markdown",
   "source": "### **Преобразуем IDs**\n\nПреобразуем идентификаторы в датасетах, чтобы они начинались с 0"
  },
  {
   "metadata": {
    "execution": {
     "iopub.execute_input": "2025-01-29T19:53:23.342243Z",
     "iopub.status.busy": "2025-01-29T19:53:23.341894Z",
     "iopub.status.idle": "2025-01-29T19:53:23.368294Z",
     "shell.execute_reply": "2025-01-29T19:53:23.367149Z"
    },
    "papermill": {
     "duration": 0.062856,
     "end_time": "2025-01-29T19:53:23.370330",
     "exception": false,
     "start_time": "2025-01-29T19:53:23.307474",
     "status": "completed"
    },
    "tags": [],
    "trusted": false
   },
   "id": "00058284",
   "cell_type": "code",
   "source": "'''\n\nReset user_id, item_id index to start from 0\n\n'''\n\nall_users = df['user_id'].unique().tolist()  # all unique users in ratings data\nall_items = df['item_id'].unique().tolist() # all unique movies in ratings data\n\nn_users = df['user_id'].nunique() # number of unique users\nn_items = df['item_id'].nunique() # number of unique movies\n\nuser_id2idx = dict(zip(all_users, range(n_users)))\nitem_id2idx = dict(zip(all_items, range(n_items)))\n\ndf['user_id'] = df['user_id'].map(user_id2idx) # redefine user id  (for better interpretation)\ndf['item_id'] = df['item_id'].map(item_id2idx) # redefine movie id (for better interpretation)",
   "execution_count": 16,
   "outputs": []
  },
  {
   "metadata": {
    "execution": {
     "iopub.execute_input": "2025-01-29T19:53:23.440291Z",
     "iopub.status.busy": "2025-01-29T19:53:23.439863Z",
     "iopub.status.idle": "2025-01-29T19:53:23.447049Z",
     "shell.execute_reply": "2025-01-29T19:53:23.445985Z"
    },
    "papermill": {
     "duration": 0.044107,
     "end_time": "2025-01-29T19:53:23.448686",
     "exception": false,
     "start_time": "2025-01-29T19:53:23.404579",
     "status": "completed"
    },
    "tags": [],
    "trusted": false
   },
   "id": "e1bdddbe",
   "cell_type": "code",
   "source": "print(all_items[:5]) # all unique items found in user/item interaction dataset\nprint(n_items,'unique items found in user/item interaction dataset after filtration')\nprint(ldf.shape[0],'unique items found in metadata')\nprint(df.shape[0],'number of interactions')",
   "execution_count": 17,
   "outputs": [
    {
     "name": "stdout",
     "output_type": "stream",
     "text": "['B075VFR5DB', 'B0117U0G3M', 'B012GOSOD2', 'B00LV4D70O', 'B0094BB4TW']\n223 unique items found in user/item interaction dataset after filtration\n1487 unique items found in metadata\n35520 number of interactions\n"
    }
   ]
  },
  {
   "metadata": {
    "execution": {
     "iopub.execute_input": "2025-01-29T19:53:23.517932Z",
     "iopub.status.busy": "2025-01-29T19:53:23.517528Z",
     "iopub.status.idle": "2025-01-29T19:53:23.525632Z",
     "shell.execute_reply": "2025-01-29T19:53:23.524524Z"
    },
    "papermill": {
     "duration": 0.04421,
     "end_time": "2025-01-29T19:53:23.527246",
     "exception": false,
     "start_time": "2025-01-29T19:53:23.483036",
     "status": "completed"
    },
    "tags": [],
    "trusted": false
   },
   "id": "83244169",
   "cell_type": "code",
   "source": "# convert item_id \nldf = ldf[ldf['item_id'].isin(all_items)]\nldf['item_id'] = ldf['item_id'].map(item_id2idx)",
   "execution_count": 18,
   "outputs": []
  },
  {
   "metadata": {
    "papermill": {
     "duration": 0.033588,
     "end_time": "2025-01-29T19:53:23.594551",
     "exception": false,
     "start_time": "2025-01-29T19:53:23.560963",
     "status": "completed"
    },
    "tags": []
   },
   "id": "eb30b6e0",
   "cell_type": "markdown",
   "source": "### **Создаем подвыборки**\n\nРазбиваем данные на две подвыборки, `train` и `test`, будем импользовать первую для обучения моделей и формирования рекомендации"
  },
  {
   "metadata": {
    "execution": {
     "iopub.execute_input": "2025-01-29T19:53:23.663958Z",
     "iopub.status.busy": "2025-01-29T19:53:23.663561Z",
     "iopub.status.idle": "2025-01-29T19:53:23.713745Z",
     "shell.execute_reply": "2025-01-29T19:53:23.712666Z"
    },
    "papermill": {
     "duration": 0.086631,
     "end_time": "2025-01-29T19:53:23.715407",
     "exception": false,
     "start_time": "2025-01-29T19:53:23.628776",
     "status": "completed"
    },
    "tags": [],
    "trusted": false
   },
   "id": "88f35fd1",
   "cell_type": "code",
   "source": "USER_COL = 'user_id'\nITEM_COL = 'item_id'\nTIMESTAMP = 'timestamp'\n\ndef train_test_split(\n    clickstream_df,\n    test_quantile=0.9\n):\n    \"\"\"\n    Split clickstream by date.\n    \"\"\"\n    clickstream_df = clickstream_df.sort_values([USER_COL, TIMESTAMP])\n    test_timepoint = clickstream_df[TIMESTAMP].quantile(\n    q=test_quantile, interpolation='nearest'\n    )\n    test = clickstream_df.query(f'{TIMESTAMP} >= @test_timepoint')\n    train = clickstream_df.drop(test.index)\n\n    test = test[test[USER_COL].isin(train[USER_COL])]\n    test = test[test[ITEM_COL].isin(train[ITEM_COL])]\n\n    test_full_history = test.sort_values([USER_COL, TIMESTAMP]).groupby(USER_COL)\n    last_item = test_full_history.tail(1)\n    test_history = test_full_history.head(-1)\n\n    test = pd.concat([train, test_history])\n\n    test.reset_index(drop=True, inplace=True)\n    train.reset_index(drop=True, inplace=True)\n    return train, test, last_item\n\ntrain,test,last_item = train_test_split(df)\n\nprint('Training ',train.shape[0])\nprint('Test ',test.shape[0])\nprint('Last Item ',last_item.shape[0])",
   "execution_count": 19,
   "outputs": [
    {
     "name": "stdout",
     "output_type": "stream",
     "text": "Training  31967\nTest  33102\nLast Item  507\n"
    }
   ]
  },
  {
   "metadata": {
    "papermill": {
     "duration": 0.034202,
     "end_time": "2025-01-29T19:53:23.784016",
     "exception": false,
     "start_time": "2025-01-29T19:53:23.749814",
     "status": "completed"
    },
    "tags": []
   },
   "id": "c9802626",
   "cell_type": "markdown",
   "source": "## **<span style='color:#686dec'>4 | Моделирование</span>**\n\n### **а) Самые популярные**\n\nИз выборки, выберем топ n количество товаров, которые будем рекоммендовать всем, строим рекомендации на основе эвристик"
  },
  {
   "metadata": {
    "execution": {
     "iopub.execute_input": "2025-01-29T19:53:23.853559Z",
     "iopub.status.busy": "2025-01-29T19:53:23.853136Z",
     "iopub.status.idle": "2025-01-29T19:53:23.893095Z",
     "shell.execute_reply": "2025-01-29T19:53:23.892037Z"
    },
    "papermill": {
     "duration": 0.076682,
     "end_time": "2025-01-29T19:53:23.894887",
     "exception": false,
     "start_time": "2025-01-29T19:53:23.818205",
     "status": "completed"
    },
    "tags": [],
    "trusted": false
   },
   "id": "c1132fcd",
   "cell_type": "code",
   "source": "'''\n\nMost popular items (top 10)\n\n'''\n\nfrom collections import Counter\n\ncount_items = Counter(train['item_id'])\ncount_items = [*count_items.items()]\ncount_items.sort(key=lambda x: x[1], reverse=True)\n\npred_items = [k for k, v in count_items[:10]]\npred_counter = test.copy()\npred_counter['item_id'] = [pred_items] * len(pred_counter)\npred_counter = pred_counter.drop_duplicates(subset='user_id').explode('item_id')\npred_counter = pred_counter[['user_id','item_id','rating']]\npred_counter.head()",
   "execution_count": 20,
   "outputs": [
    {
     "data": {
      "text/html": "<div>\n<style scoped>\n    .dataframe tbody tr th:only-of-type {\n        vertical-align: middle;\n    }\n\n    .dataframe tbody tr th {\n        vertical-align: top;\n    }\n\n    .dataframe thead th {\n        text-align: right;\n    }\n</style>\n<table border=\"1\" class=\"dataframe\">\n  <thead>\n    <tr style=\"text-align: right;\">\n      <th></th>\n      <th>user_id</th>\n      <th>item_id</th>\n      <th>rating</th>\n    </tr>\n  </thead>\n  <tbody>\n    <tr>\n      <th>0</th>\n      <td>0</td>\n      <td>36</td>\n      <td>5.0</td>\n    </tr>\n    <tr>\n      <th>0</th>\n      <td>0</td>\n      <td>35</td>\n      <td>5.0</td>\n    </tr>\n    <tr>\n      <th>0</th>\n      <td>0</td>\n      <td>4</td>\n      <td>5.0</td>\n    </tr>\n    <tr>\n      <th>0</th>\n      <td>0</td>\n      <td>55</td>\n      <td>5.0</td>\n    </tr>\n    <tr>\n      <th>0</th>\n      <td>0</td>\n      <td>60</td>\n      <td>5.0</td>\n    </tr>\n  </tbody>\n</table>\n</div>",
      "text/plain": "   user_id item_id  rating\n0        0      36     5.0\n0        0      35     5.0\n0        0       4     5.0\n0        0      55     5.0\n0        0      60     5.0"
     },
     "execution_count": 20,
     "metadata": {},
     "output_type": "execute_result"
    }
   ]
  },
  {
   "metadata": {
    "papermill": {
     "duration": 0.033771,
     "end_time": "2025-01-29T19:53:23.962971",
     "exception": false,
     "start_time": "2025-01-29T19:53:23.929200",
     "status": "completed"
    },
    "tags": []
   },
   "id": "4663c1ca",
   "cell_type": "markdown",
   "source": "### **b) Самые популярные с максимальным рейтингом**\n\nТак же рассмотрим такой же вариант но с высокими рейтингами"
  },
  {
   "metadata": {
    "execution": {
     "iopub.execute_input": "2025-01-29T19:53:24.032240Z",
     "iopub.status.busy": "2025-01-29T19:53:24.031875Z",
     "iopub.status.idle": "2025-01-29T19:53:24.062449Z",
     "shell.execute_reply": "2025-01-29T19:53:24.061442Z"
    },
    "papermill": {
     "duration": 0.067489,
     "end_time": "2025-01-29T19:53:24.064304",
     "exception": false,
     "start_time": "2025-01-29T19:53:23.996815",
     "status": "completed"
    },
    "tags": [],
    "trusted": false
   },
   "id": "b53e2c2e",
   "cell_type": "code",
   "source": "from collections import Counter\n\ncount_items = Counter(train[train.rating == 5]['item_id'])\ncount_items = [*count_items.items()]\ncount_items.sort(key=lambda x: x[1], reverse=True)\n\npred_items = [k for k, v in count_items[:10]]\npred_highest = test.copy()\npred_highest['item_id'] = [pred_items] * len(pred_highest)\npred_highest = pred_highest.drop_duplicates(subset='user_id').explode('item_id')\npred_highest = pred_highest[['user_id','item_id','rating']]\npred_highest.head()",
   "execution_count": 21,
   "outputs": [
    {
     "data": {
      "text/html": "<div>\n<style scoped>\n    .dataframe tbody tr th:only-of-type {\n        vertical-align: middle;\n    }\n\n    .dataframe tbody tr th {\n        vertical-align: top;\n    }\n\n    .dataframe thead th {\n        text-align: right;\n    }\n</style>\n<table border=\"1\" class=\"dataframe\">\n  <thead>\n    <tr style=\"text-align: right;\">\n      <th></th>\n      <th>user_id</th>\n      <th>item_id</th>\n      <th>rating</th>\n    </tr>\n  </thead>\n  <tbody>\n    <tr>\n      <th>0</th>\n      <td>0</td>\n      <td>55</td>\n      <td>5.0</td>\n    </tr>\n    <tr>\n      <th>0</th>\n      <td>0</td>\n      <td>36</td>\n      <td>5.0</td>\n    </tr>\n    <tr>\n      <th>0</th>\n      <td>0</td>\n      <td>4</td>\n      <td>5.0</td>\n    </tr>\n    <tr>\n      <th>0</th>\n      <td>0</td>\n      <td>98</td>\n      <td>5.0</td>\n    </tr>\n    <tr>\n      <th>0</th>\n      <td>0</td>\n      <td>71</td>\n      <td>5.0</td>\n    </tr>\n  </tbody>\n</table>\n</div>",
      "text/plain": "   user_id item_id  rating\n0        0      55     5.0\n0        0      36     5.0\n0        0       4     5.0\n0        0      98     5.0\n0        0      71     5.0"
     },
     "execution_count": 21,
     "metadata": {},
     "output_type": "execute_result"
    }
   ]
  },
  {
   "metadata": {
    "papermill": {
     "duration": 0.033966,
     "end_time": "2025-01-29T19:53:24.133649",
     "exception": false,
     "start_time": "2025-01-29T19:53:24.099683",
     "status": "completed"
    },
    "tags": []
   },
   "id": "bc0454a6",
   "cell_type": "markdown",
   "source": "### **c) Apriori**\n\nПопробуем подход `apriori`, будем рекомендовать фильмы на основе патернов просмотров во у всех пользователей. Построив правила на основе гиперпараметров, находим пересечение между простотров фильмов пользователя и в правиле от `from`. Ecли пересечение есть, рекомендуем все последующие фильмы в правиле `to`   "
  },
  {
   "metadata": {
    "execution": {
     "iopub.execute_input": "2025-01-29T19:53:24.204067Z",
     "iopub.status.busy": "2025-01-29T19:53:24.203679Z",
     "iopub.status.idle": "2025-01-29T19:53:24.276574Z",
     "shell.execute_reply": "2025-01-29T19:53:24.275514Z"
    },
    "papermill": {
     "duration": 0.110585,
     "end_time": "2025-01-29T19:53:24.278509",
     "exception": false,
     "start_time": "2025-01-29T19:53:24.167924",
     "status": "completed"
    },
    "tags": [],
    "trusted": false
   },
   "id": "bc0ef3af",
   "cell_type": "code",
   "source": "# Все фильмы с рейтингом 3+\nldf = train[train.rating > 2].copy()\nhighest_ratings_user = ldf.groupby('user_id')['item_id'].apply(lambda r: ' '.join([str(A) for A in r]))\nhighest_ratings_user.head()",
   "execution_count": 22,
   "outputs": [
    {
     "data": {
      "text/plain": "user_id\n0                                  11 9 6 5 4 3 2\n1                      18 17 16 15 14 13 8 3 4 12\n2        17 29 28 27 26 25 16 24 23 22 21 4 20 19\n3                                     22 24 32 30\n4    29 49 48 47 46 45 44 42 41 40 39 38 37 36 14\nName: item_id, dtype: object"
     },
     "execution_count": 22,
     "metadata": {},
     "output_type": "execute_result"
    }
   ]
  },
  {
   "metadata": {
    "execution": {
     "iopub.execute_input": "2025-01-29T19:53:24.349189Z",
     "iopub.status.busy": "2025-01-29T19:53:24.348787Z",
     "iopub.status.idle": "2025-01-29T19:53:24.363843Z",
     "shell.execute_reply": "2025-01-29T19:53:24.362507Z"
    },
    "papermill": {
     "duration": 0.052613,
     "end_time": "2025-01-29T19:53:24.365973",
     "exception": false,
     "start_time": "2025-01-29T19:53:24.313360",
     "status": "completed"
    },
    "tags": [],
    "trusted": false
   },
   "id": "9d19552d",
   "cell_type": "code",
   "source": "import apyori\n\n# строим правила для последовательностей просмотров фильмов\nassociation_rules = apyori.apriori(highest_ratings_user.apply(lambda r: r.split(' ')), \n                                   min_support=0.02, \n                                   min_confidence=0.1, \n                                   min_lift=2, \n                                   min_length=2)",
   "execution_count": 23,
   "outputs": []
  },
  {
   "metadata": {
    "execution": {
     "iopub.execute_input": "2025-01-29T19:53:24.438188Z",
     "iopub.status.busy": "2025-01-29T19:53:24.437719Z",
     "iopub.status.idle": "2025-01-29T19:53:26.152823Z",
     "shell.execute_reply": "2025-01-29T19:53:26.151772Z"
    },
    "papermill": {
     "duration": 1.75248,
     "end_time": "2025-01-29T19:53:26.154606",
     "exception": false,
     "start_time": "2025-01-29T19:53:24.402126",
     "status": "completed"
    },
    "tags": [],
    "trusted": false
   },
   "id": "f9eb4029",
   "cell_type": "code",
   "source": "# выводим правила\nasr_df = pd.DataFrame(columns = ['from', 'to', 'confidence', 'support', 'lift'])\nfor item in association_rules:\n    pair = item[0] \n    items = [x for x in pair]\n    asr_df.loc[len(asr_df), :] =  ' '.join(list(item[2][0][0])), \\\n                                  ' '.join(list(item[2][0][1])),\\\n                                  item[2][0][2], item[1], item[2][0][3]\n\n# правила (от)\nprint(asr_df.shape)\nasr_df.head()",
   "execution_count": 24,
   "outputs": [
    {
     "name": "stdout",
     "output_type": "stream",
     "text": "(1486, 5)\n"
    },
    {
     "data": {
      "text/html": "<div>\n<style scoped>\n    .dataframe tbody tr th:only-of-type {\n        vertical-align: middle;\n    }\n\n    .dataframe tbody tr th {\n        vertical-align: top;\n    }\n\n    .dataframe thead th {\n        text-align: right;\n    }\n</style>\n<table border=\"1\" class=\"dataframe\">\n  <thead>\n    <tr style=\"text-align: right;\">\n      <th></th>\n      <th>from</th>\n      <th>to</th>\n      <th>confidence</th>\n      <th>support</th>\n      <th>lift</th>\n    </tr>\n  </thead>\n  <tbody>\n    <tr>\n      <th>0</th>\n      <td>100</td>\n      <td>157</td>\n      <td>0.431034</td>\n      <td>0.028879</td>\n      <td>3.941537</td>\n    </tr>\n    <tr>\n      <th>1</th>\n      <td>100</td>\n      <td>36</td>\n      <td>0.614943</td>\n      <td>0.041201</td>\n      <td>2.042207</td>\n    </tr>\n    <tr>\n      <th>2</th>\n      <td>100</td>\n      <td>41</td>\n      <td>0.333333</td>\n      <td>0.022333</td>\n      <td>2.208333</td>\n    </tr>\n    <tr>\n      <th>3</th>\n      <td>100</td>\n      <td>55</td>\n      <td>0.678161</td>\n      <td>0.045437</td>\n      <td>2.41589</td>\n    </tr>\n    <tr>\n      <th>4</th>\n      <td>100</td>\n      <td>61</td>\n      <td>0.304598</td>\n      <td>0.020408</td>\n      <td>3.282325</td>\n    </tr>\n  </tbody>\n</table>\n</div>",
      "text/plain": "  from   to confidence   support      lift\n0  100  157   0.431034  0.028879  3.941537\n1  100   36   0.614943  0.041201  2.042207\n2  100   41   0.333333  0.022333  2.208333\n3  100   55   0.678161  0.045437   2.41589\n4  100   61   0.304598  0.020408  3.282325"
     },
     "execution_count": 24,
     "metadata": {},
     "output_type": "execute_result"
    }
   ]
  },
  {
   "metadata": {
    "execution": {
     "iopub.execute_input": "2025-01-29T19:53:26.225167Z",
     "iopub.status.busy": "2025-01-29T19:53:26.224804Z",
     "iopub.status.idle": "2025-01-29T19:54:28.968692Z",
     "shell.execute_reply": "2025-01-29T19:54:28.967588Z"
    },
    "papermill": {
     "duration": 62.781408,
     "end_time": "2025-01-29T19:54:28.970724",
     "exception": false,
     "start_time": "2025-01-29T19:53:26.189316",
     "status": "completed"
    },
    "tags": [],
    "trusted": false
   },
   "id": "9081c7b6",
   "cell_type": "code",
   "source": "# функция которая выводит рекомендации и метрику lift\ndef get_recom_aprio(x):\n    \n    result = []; lift= []; ii = 0\n    for iii,row in asr_df.iterrows():\n        watched = set(x['history'].split(' ')) # watched films\n        froms = set(row['from'].split(' ')) # watched film rules\n        overlap = set(x['history'].split(' ')) & set(row['from'].split(' '))\n\n        if len(overlap) > 0:\n            to_watch = [int(i) for i in row['to'].split(' ')]\n            to_lifts = [row['lift']] * len(to_watch)\n            result.extend(to_watch)\n            lift.extend(to_lifts)\n            ii+=1\n\n        if(ii==10):\n            break\n\n    return result, lift \n\ndf_highest_ratings_user = highest_ratings_user.to_frame()\ndf_highest_ratings_user.columns = ['history']\ndf_highest_ratings_user[['item_id','rating']] = df_highest_ratings_user.apply(get_recom_aprio,axis=1,result_type='expand')",
   "execution_count": 25,
   "outputs": []
  },
  {
   "metadata": {
    "execution": {
     "iopub.execute_input": "2025-01-29T19:54:29.042066Z",
     "iopub.status.busy": "2025-01-29T19:54:29.041704Z",
     "iopub.status.idle": "2025-01-29T19:54:29.055124Z",
     "shell.execute_reply": "2025-01-29T19:54:29.054165Z"
    },
    "papermill": {
     "duration": 0.050984,
     "end_time": "2025-01-29T19:54:29.056763",
     "exception": false,
     "start_time": "2025-01-29T19:54:29.005779",
     "status": "completed"
    },
    "tags": [],
    "trusted": false
   },
   "id": "8b9d2b7f",
   "cell_type": "code",
   "source": "# history : история просмотров\n# item_id : рекомендации для этого пользователя\ndf_highest_ratings_user.head()",
   "execution_count": 26,
   "outputs": [
    {
     "data": {
      "text/html": "<div>\n<style scoped>\n    .dataframe tbody tr th:only-of-type {\n        vertical-align: middle;\n    }\n\n    .dataframe tbody tr th {\n        vertical-align: top;\n    }\n\n    .dataframe thead th {\n        text-align: right;\n    }\n</style>\n<table border=\"1\" class=\"dataframe\">\n  <thead>\n    <tr style=\"text-align: right;\">\n      <th></th>\n      <th>history</th>\n      <th>item_id</th>\n      <th>rating</th>\n    </tr>\n    <tr>\n      <th>user_id</th>\n      <th></th>\n      <th></th>\n      <th></th>\n    </tr>\n  </thead>\n  <tbody>\n    <tr>\n      <th>0</th>\n      <td>11 9 6 5 4 3 2</td>\n      <td>[8, 71, 6, 66, 66, 3, 23, 23, 71, 4, 71, 35, 36]</td>\n      <td>[4.899327708033203, 2.109130967156173, 7.78656...</td>\n    </tr>\n    <tr>\n      <th>1</th>\n      <td>18 17 16 15 14 13 8 3 4 12</td>\n      <td>[3, 15, 17, 23, 29, 4, 16, 3, 71, 3]</td>\n      <td>[3.2042398665227205, 2.5517071972488337, 2.030...</td>\n    </tr>\n    <tr>\n      <th>2</th>\n      <td>17 29 28 27 26 25 16 24 23 22 21 4 20 19</td>\n      <td>[3, 22, 27, 48, 27, 28, 5, 6, 66, 7]</td>\n      <td>[2.211219357649202, 5.536115916955017, 4.82478...</td>\n    </tr>\n    <tr>\n      <th>3</th>\n      <td>22 24 32 30</td>\n      <td>[27]</td>\n      <td>[8.403523489932885]</td>\n    </tr>\n    <tr>\n      <th>4</th>\n      <td>29 49 48 47 46 45 44 42 41 40 39 38 37 36 14</td>\n      <td>[16, 3, 71, 43, 56, 98, 98, 40, 41, 42]</td>\n      <td>[2.005609955120359, 2.142369678198331, 2.67433...</td>\n    </tr>\n  </tbody>\n</table>\n</div>",
      "text/plain": "                                              history  \\\nuser_id                                                 \n0                                      11 9 6 5 4 3 2   \n1                          18 17 16 15 14 13 8 3 4 12   \n2            17 29 28 27 26 25 16 24 23 22 21 4 20 19   \n3                                         22 24 32 30   \n4        29 49 48 47 46 45 44 42 41 40 39 38 37 36 14   \n\n                                                  item_id  \\\nuser_id                                                     \n0        [8, 71, 6, 66, 66, 3, 23, 23, 71, 4, 71, 35, 36]   \n1                    [3, 15, 17, 23, 29, 4, 16, 3, 71, 3]   \n2                    [3, 22, 27, 48, 27, 28, 5, 6, 66, 7]   \n3                                                    [27]   \n4                 [16, 3, 71, 43, 56, 98, 98, 40, 41, 42]   \n\n                                                    rating  \nuser_id                                                     \n0        [4.899327708033203, 2.109130967156173, 7.78656...  \n1        [3.2042398665227205, 2.5517071972488337, 2.030...  \n2        [2.211219357649202, 5.536115916955017, 4.82478...  \n3                                      [8.403523489932885]  \n4        [2.005609955120359, 2.142369678198331, 2.67433...  "
     },
     "execution_count": 26,
     "metadata": {},
     "output_type": "execute_result"
    }
   ]
  },
  {
   "metadata": {
    "execution": {
     "iopub.execute_input": "2025-01-29T19:54:29.129112Z",
     "iopub.status.busy": "2025-01-29T19:54:29.128737Z",
     "iopub.status.idle": "2025-01-29T19:54:29.158604Z",
     "shell.execute_reply": "2025-01-29T19:54:29.157395Z"
    },
    "papermill": {
     "duration": 0.06829,
     "end_time": "2025-01-29T19:54:29.160420",
     "exception": false,
     "start_time": "2025-01-29T19:54:29.092130",
     "status": "completed"
    },
    "tags": [],
    "trusted": false
   },
   "id": "4615645b",
   "cell_type": "code",
   "source": "df_apriori = df_highest_ratings_user.explode(['item_id','rating'])\ndf_apriori = df_apriori.reset_index() \ndf_apriori.drop(['history'],axis=1,inplace=True)\ndf_apriori = df_apriori.dropna(subset=['item_id'],axis=0)\ndf_apriori['item_id'] = df_apriori['item_id'].astype(int)\ndf_apriori.head()",
   "execution_count": 27,
   "outputs": [
    {
     "data": {
      "text/html": "<div>\n<style scoped>\n    .dataframe tbody tr th:only-of-type {\n        vertical-align: middle;\n    }\n\n    .dataframe tbody tr th {\n        vertical-align: top;\n    }\n\n    .dataframe thead th {\n        text-align: right;\n    }\n</style>\n<table border=\"1\" class=\"dataframe\">\n  <thead>\n    <tr style=\"text-align: right;\">\n      <th></th>\n      <th>user_id</th>\n      <th>item_id</th>\n      <th>rating</th>\n    </tr>\n  </thead>\n  <tbody>\n    <tr>\n      <th>0</th>\n      <td>0</td>\n      <td>8</td>\n      <td>4.899328</td>\n    </tr>\n    <tr>\n      <th>1</th>\n      <td>0</td>\n      <td>71</td>\n      <td>2.109131</td>\n    </tr>\n    <tr>\n      <th>2</th>\n      <td>0</td>\n      <td>6</td>\n      <td>7.786568</td>\n    </tr>\n    <tr>\n      <th>3</th>\n      <td>0</td>\n      <td>66</td>\n      <td>4.463851</td>\n    </tr>\n    <tr>\n      <th>4</th>\n      <td>0</td>\n      <td>66</td>\n      <td>4.544918</td>\n    </tr>\n  </tbody>\n</table>\n</div>",
      "text/plain": "   user_id  item_id    rating\n0        0        8  4.899328\n1        0       71  2.109131\n2        0        6  7.786568\n3        0       66  4.463851\n4        0       66  4.544918"
     },
     "execution_count": 27,
     "metadata": {},
     "output_type": "execute_result"
    }
   ]
  },
  {
   "metadata": {
    "papermill": {
     "duration": 0.035053,
     "end_time": "2025-01-29T19:54:29.231029",
     "exception": false,
     "start_time": "2025-01-29T19:54:29.195976",
     "status": "completed"
    },
    "tags": []
   },
   "id": "5193e8be",
   "cell_type": "markdown",
   "source": "### **d) SVD (Single Value Decomposition)**\n\nДля `SVD` разложения, создалим матрицу рейтингов для каждой комбинации `user_id` и `item_id`. Разложим ее на матрицу пользователей и товаров, затем посчитаем `scores`\n\nДля предсказания, для каждого пользователя берем топ n этих `score`из отсортированного вектора"
  },
  {
   "metadata": {
    "execution": {
     "iopub.execute_input": "2025-01-29T19:54:29.303482Z",
     "iopub.status.busy": "2025-01-29T19:54:29.303087Z",
     "iopub.status.idle": "2025-01-29T19:54:29.312960Z",
     "shell.execute_reply": "2025-01-29T19:54:29.311830Z"
    },
    "papermill": {
     "duration": 0.047754,
     "end_time": "2025-01-29T19:54:29.314709",
     "exception": false,
     "start_time": "2025-01-29T19:54:29.266955",
     "status": "completed"
    },
    "tags": [],
    "trusted": false
   },
   "id": "7ce60a2c",
   "cell_type": "code",
   "source": "class BaseFactorizationModel:\n    def __init__(self,\n                 random_state=0, \n                 user_col='user_id', \n                 item_col='item_id', \n                 rating_col='rating'):\n        \n        self.random_state = np.random.RandomState(random_state)\n        self.user_col = user_col\n        self.item_col = item_col\n        self.rating_col = rating_col\n        self.user_matrix = None\n        self.item_matrix = None\n\n    # sparse matrix of rating matrix\n    def get_rating_matrix(self,df):\n        \n        rating = list(df[self.rating_col])\n        rows = df[self.user_col].astype('category').cat.codes\n        cols = df[self.item_col].astype('category').cat.codes\n        df_sparse = sparse.csr_matrix((rating, (rows, cols)))\n        return df_sparse\n\n    \n    \"\"\"\n    \n    When we receive the matrix with scores, for each user\n    sort and get the top k \n    \n    \"\"\"\n    \n    def predict(self, \n                scores,             # (user,film) score matrix\n                rating_matrix=None, # (user,film) rating matrix\n                filter_seen=False, \n                k=10):\n        \n        if filter_seen:\n            scores = np.multiply(scores,\n            np.invert(rating_matrix.astype(bool))\n            )\n\n        ind_part = np.argpartition(scores, -k + 1)[:, -k:].copy()  \n        scores_not_sorted = np.take_along_axis(scores, ind_part, axis=1)\n        ind_sorted = np.argsort(scores_not_sorted, axis=1) # \n        scores_sorted = np.sort(scores_not_sorted, axis=1) \n        indices = np.take_along_axis(ind_part, ind_sorted, axis=1)\n\n        preds = pd.DataFrame({\n            self.user_col: range(scores.shape[0]), # each user \n            self.item_col: np.flip(indices, axis=1).tolist(), # movieId index \n            self.rating_col: np.flip(scores_sorted, axis=1).tolist() # movieId score\n            })\n        \n        preds = preds.explode([self.item_col, self.rating_col])\n\n        return preds\n",
   "execution_count": 28,
   "outputs": []
  },
  {
   "metadata": {
    "execution": {
     "iopub.execute_input": "2025-01-29T19:54:29.387366Z",
     "iopub.status.busy": "2025-01-29T19:54:29.386993Z",
     "iopub.status.idle": "2025-01-29T19:54:29.393455Z",
     "shell.execute_reply": "2025-01-29T19:54:29.392307Z"
    },
    "papermill": {
     "duration": 0.044888,
     "end_time": "2025-01-29T19:54:29.395288",
     "exception": false,
     "start_time": "2025-01-29T19:54:29.350400",
     "status": "completed"
    },
    "tags": [],
    "trusted": false
   },
   "id": "d2ccd627",
   "cell_type": "code",
   "source": "class SVD(BaseFactorizationModel):\n    \n    def __init__(self, \n                 random_state=0, \n                 user_col='user_id', \n                 item_col='item_id',\n                 n_factors=10): # hyperparameter\n        super().__init__(random_state, user_col, item_col)\n        self.n_factors = n_factors\n\n    \"\"\"\n    \n    Calculate the scores for each user\n    \n    \"\"\"\n        \n    def fit(self, data):\n        \n        # user,item rating matrix\n        self.rating_matrix = self.get_rating_matrix(data) \n        csr_rating_matrix = self.rating_matrix\n\n        # svd decomposition of user_id vs item_id grating matrix\n        user_matrix, singular_values, item_matrix = svds(A=csr_rating_matrix, \n                                                         k=self.n_factors)\n    \n        user_matrix = user_matrix * np.sqrt(singular_values)  # (unique users,k latent features)\n        item_matrix = item_matrix.T * np.sqrt(singular_values) # (unique films, k latent features)\n        self.scores = user_matrix @ item_matrix.T  # score matrix for each user & film (unique users, unique films)\n        \n        self.user_matrix = user_matrix\n        self.item_matrix = item_matrix",
   "execution_count": 29,
   "outputs": []
  },
  {
   "metadata": {
    "execution": {
     "iopub.execute_input": "2025-01-29T19:54:29.467638Z",
     "iopub.status.busy": "2025-01-29T19:54:29.467212Z",
     "iopub.status.idle": "2025-01-29T19:54:29.643664Z",
     "shell.execute_reply": "2025-01-29T19:54:29.641578Z"
    },
    "papermill": {
     "duration": 0.215066,
     "end_time": "2025-01-29T19:54:29.645859",
     "exception": false,
     "start_time": "2025-01-29T19:54:29.430793",
     "status": "completed"
    },
    "tags": [],
    "trusted": false
   },
   "id": "823c17b3",
   "cell_type": "code",
   "source": "# Обучаем модель\nsvd_model = SVD()\nsvd_model.fit(train)\n\nprint(svd_model.scores.shape) \nprint(svd_model.user_matrix.shape)\nprint(svd_model.item_matrix.shape)\n\n# Обучаем модель\npreds_svd = svd_model.predict(svd_model.scores,        # user movie scores from svd decomposition\n                              svd_model.rating_matrix) # user movie ratings \npreds_svd.head()",
   "execution_count": 30,
   "outputs": [
    {
     "name": "stdout",
     "output_type": "stream",
     "text": "(2637, 223)\n(2637, 10)\n(223, 10)\n"
    },
    {
     "data": {
      "text/html": "<div>\n<style scoped>\n    .dataframe tbody tr th:only-of-type {\n        vertical-align: middle;\n    }\n\n    .dataframe tbody tr th {\n        vertical-align: top;\n    }\n\n    .dataframe thead th {\n        text-align: right;\n    }\n</style>\n<table border=\"1\" class=\"dataframe\">\n  <thead>\n    <tr style=\"text-align: right;\">\n      <th></th>\n      <th>user_id</th>\n      <th>item_id</th>\n      <th>rating</th>\n    </tr>\n  </thead>\n  <tbody>\n    <tr>\n      <th>0</th>\n      <td>0</td>\n      <td>23</td>\n      <td>2.524573</td>\n    </tr>\n    <tr>\n      <th>0</th>\n      <td>0</td>\n      <td>4</td>\n      <td>2.4697</td>\n    </tr>\n    <tr>\n      <th>0</th>\n      <td>0</td>\n      <td>3</td>\n      <td>1.522159</td>\n    </tr>\n    <tr>\n      <th>0</th>\n      <td>0</td>\n      <td>66</td>\n      <td>1.360593</td>\n    </tr>\n    <tr>\n      <th>0</th>\n      <td>0</td>\n      <td>13</td>\n      <td>0.965334</td>\n    </tr>\n  </tbody>\n</table>\n</div>",
      "text/plain": "   user_id item_id    rating\n0        0      23  2.524573\n0        0       4    2.4697\n0        0       3  1.522159\n0        0      66  1.360593\n0        0      13  0.965334"
     },
     "execution_count": 30,
     "metadata": {},
     "output_type": "execute_result"
    }
   ]
  },
  {
   "metadata": {
    "execution": {
     "iopub.execute_input": "2025-01-29T19:54:29.731096Z",
     "iopub.status.busy": "2025-01-29T19:54:29.730696Z",
     "iopub.status.idle": "2025-01-29T19:54:29.734678Z",
     "shell.execute_reply": "2025-01-29T19:54:29.733570Z"
    },
    "papermill": {
     "duration": 0.042463,
     "end_time": "2025-01-29T19:54:29.736474",
     "exception": false,
     "start_time": "2025-01-29T19:54:29.694011",
     "status": "completed"
    },
    "tags": [],
    "trusted": false
   },
   "id": "eb5269c6",
   "cell_type": "code",
   "source": "# train[train['user_id'] == ids] # train\n# preds_svd[preds_svd['user_id'] == ids] # predictions",
   "execution_count": 31,
   "outputs": []
  },
  {
   "metadata": {
    "papermill": {
     "duration": 0.035215,
     "end_time": "2025-01-29T19:54:29.807614",
     "exception": false,
     "start_time": "2025-01-29T19:54:29.772399",
     "status": "completed"
    },
    "tags": []
   },
   "id": "7ebf4490",
   "cell_type": "markdown",
   "source": "### **e) iALS (Alternating Least Squares)**\n\nАналогично с `SVD`, в `iALS`, делаем декомпозицию мартицы рейтингов товаров пользователями"
  },
  {
   "metadata": {
    "execution": {
     "iopub.execute_input": "2025-01-29T19:54:29.880057Z",
     "iopub.status.busy": "2025-01-29T19:54:29.879681Z",
     "iopub.status.idle": "2025-01-29T19:54:30.822688Z",
     "shell.execute_reply": "2025-01-29T19:54:30.820270Z"
    },
    "papermill": {
     "duration": 0.981988,
     "end_time": "2025-01-29T19:54:30.825006",
     "exception": false,
     "start_time": "2025-01-29T19:54:29.843018",
     "status": "completed"
    },
    "tags": [],
    "trusted": false
   },
   "id": "064f1e45",
   "cell_type": "code",
   "source": "# create the user movie rating matrix \nbase_model = BaseFactorizationModel()\nrating_matrix = base_model.get_rating_matrix(train) # sparse rating matrix\n\nials_model = implicit.als.AlternatingLeastSquares(factors=20, \n                                                  regularization=0.01, \n                                                  iterations=50, use_gpu=False)\n# ials_model.fit((train_sparse).astype('double'))\nials_model.fit(rating_matrix)\n\nuser_vecs = ials_model.user_factors\nitem_vecs = ials_model.item_factors\nprint(user_vecs.shape, item_vecs.shape)\n\n# iALS scores\nscores = user_vecs.dot(item_vecs.T)\n\npreds_ials = base_model.predict(scores, rating_matrix)\npreds_ials",
   "execution_count": 32,
   "outputs": [
    {
     "data": {
      "application/vnd.jupyter.widget-view+json": {
       "model_id": "53db8d9f5a56437b9897e4a0daeac72d",
       "version_major": 2,
       "version_minor": 0
      },
      "text/plain": "  0%|          | 0/50 [00:00<?, ?it/s]"
     },
     "metadata": {},
     "output_type": "display_data"
    },
    {
     "name": "stdout",
     "output_type": "stream",
     "text": "(2637, 20) (223, 20)\n"
    },
    {
     "data": {
      "text/html": "<div>\n<style scoped>\n    .dataframe tbody tr th:only-of-type {\n        vertical-align: middle;\n    }\n\n    .dataframe tbody tr th {\n        vertical-align: top;\n    }\n\n    .dataframe thead th {\n        text-align: right;\n    }\n</style>\n<table border=\"1\" class=\"dataframe\">\n  <thead>\n    <tr style=\"text-align: right;\">\n      <th></th>\n      <th>user_id</th>\n      <th>item_id</th>\n      <th>rating</th>\n    </tr>\n  </thead>\n  <tbody>\n    <tr>\n      <th>0</th>\n      <td>0</td>\n      <td>23</td>\n      <td>0.994244</td>\n    </tr>\n    <tr>\n      <th>0</th>\n      <td>0</td>\n      <td>7</td>\n      <td>0.810566</td>\n    </tr>\n    <tr>\n      <th>0</th>\n      <td>0</td>\n      <td>66</td>\n      <td>0.810353</td>\n    </tr>\n    <tr>\n      <th>0</th>\n      <td>0</td>\n      <td>6</td>\n      <td>0.782333</td>\n    </tr>\n    <tr>\n      <th>0</th>\n      <td>0</td>\n      <td>5</td>\n      <td>0.742521</td>\n    </tr>\n    <tr>\n      <th>...</th>\n      <td>...</td>\n      <td>...</td>\n      <td>...</td>\n    </tr>\n    <tr>\n      <th>2636</th>\n      <td>2636</td>\n      <td>9</td>\n      <td>0.731683</td>\n    </tr>\n    <tr>\n      <th>2636</th>\n      <td>2636</td>\n      <td>105</td>\n      <td>0.727632</td>\n    </tr>\n    <tr>\n      <th>2636</th>\n      <td>2636</td>\n      <td>101</td>\n      <td>0.706921</td>\n    </tr>\n    <tr>\n      <th>2636</th>\n      <td>2636</td>\n      <td>55</td>\n      <td>0.646084</td>\n    </tr>\n    <tr>\n      <th>2636</th>\n      <td>2636</td>\n      <td>67</td>\n      <td>0.628524</td>\n    </tr>\n  </tbody>\n</table>\n<p>26370 rows × 3 columns</p>\n</div>",
      "text/plain": "      user_id item_id    rating\n0           0      23  0.994244\n0           0       7  0.810566\n0           0      66  0.810353\n0           0       6  0.782333\n0           0       5  0.742521\n...       ...     ...       ...\n2636     2636       9  0.731683\n2636     2636     105  0.727632\n2636     2636     101  0.706921\n2636     2636      55  0.646084\n2636     2636      67  0.628524\n\n[26370 rows x 3 columns]"
     },
     "execution_count": 32,
     "metadata": {},
     "output_type": "execute_result"
    }
   ]
  },
  {
   "metadata": {
    "papermill": {
     "duration": 0.035669,
     "end_time": "2025-01-29T19:54:30.931464",
     "exception": false,
     "start_time": "2025-01-29T19:54:30.895795",
     "status": "completed"
    },
    "tags": []
   },
   "id": "eb37ec13",
   "cell_type": "markdown",
   "source": "## <b><span style='color:#686dec'>5 | Оценка метрик</span></b>\n\n### **Оценка метрик**\n\nВ конце мы сравниваем насколько хорошо модели делаю предсказания"
  },
  {
   "metadata": {
    "execution": {
     "iopub.execute_input": "2025-01-29T19:54:31.005184Z",
     "iopub.status.busy": "2025-01-29T19:54:31.004748Z",
     "iopub.status.idle": "2025-01-29T19:54:34.201845Z",
     "shell.execute_reply": "2025-01-29T19:54:34.200704Z"
    },
    "papermill": {
     "duration": 3.236196,
     "end_time": "2025-01-29T19:54:34.203715",
     "exception": false,
     "start_time": "2025-01-29T19:54:30.967519",
     "status": "completed"
    },
    "tags": [],
    "trusted": false
   },
   "id": "45c8b2ea",
   "cell_type": "code",
   "source": "from replay.metrics import HitRate, NDCG, MAP, Coverage, MRR\n\n\nK = [10]\nmetrics = Experiment(\n    [\n        NDCG(K),\n        MRR(K),\n        Coverage(K),\n        HitRate(K),\n    ],\n    train,\n    test,\n    query_column='user_id', \n    item_column= 'item_id',\n    rating_column='rating'\n)\n\nmetrics.add_result('Популярные',pred_counter)\nmetrics.add_result('Популярные высокий рейтинг',pred_highest)\nmetrics.add_result('Apriori',df_apriori)\nmetrics.add_result(\"iALS\", preds_ials)\nmetrics.add_result('SVD', preds_svd)\nmetrics.results",
   "execution_count": 33,
   "outputs": [
    {
     "data": {
      "text/html": "<div>\n<style scoped>\n    .dataframe tbody tr th:only-of-type {\n        vertical-align: middle;\n    }\n\n    .dataframe tbody tr th {\n        vertical-align: top;\n    }\n\n    .dataframe thead th {\n        text-align: right;\n    }\n</style>\n<table border=\"1\" class=\"dataframe\">\n  <thead>\n    <tr style=\"text-align: right;\">\n      <th></th>\n      <th>NDCG@10</th>\n      <th>MRR@10</th>\n      <th>Coverage@10</th>\n      <th>HitRate@10</th>\n    </tr>\n  </thead>\n  <tbody>\n    <tr>\n      <th>Популярные</th>\n      <td>0.279331</td>\n      <td>0.448207</td>\n      <td>0.044843</td>\n      <td>0.826318</td>\n    </tr>\n    <tr>\n      <th>Популярные высокий рейтинг</th>\n      <td>0.275444</td>\n      <td>0.451899</td>\n      <td>0.044843</td>\n      <td>0.878650</td>\n    </tr>\n    <tr>\n      <th>Apriori</th>\n      <td>0.292923</td>\n      <td>0.465507</td>\n      <td>0.237668</td>\n      <td>0.799014</td>\n    </tr>\n    <tr>\n      <th>iALS</th>\n      <td>0.182182</td>\n      <td>0.346100</td>\n      <td>0.739910</td>\n      <td>0.613955</td>\n    </tr>\n    <tr>\n      <th>SVD</th>\n      <td>0.212864</td>\n      <td>0.399959</td>\n      <td>0.421525</td>\n      <td>0.658324</td>\n    </tr>\n  </tbody>\n</table>\n</div>",
      "text/plain": "                             NDCG@10    MRR@10  Coverage@10  HitRate@10\nПопулярные                  0.279331  0.448207     0.044843    0.826318\nПопулярные высокий рейтинг  0.275444  0.451899     0.044843    0.878650\nApriori                     0.292923  0.465507     0.237668    0.799014\niALS                        0.182182  0.346100     0.739910    0.613955\nSVD                         0.212864  0.399959     0.421525    0.658324"
     },
     "execution_count": 33,
     "metadata": {},
     "output_type": "execute_result"
    }
   ]
  },
  {
   "metadata": {},
   "id": "22419cdf",
   "cell_type": "markdown",
   "source": "### **Выводы**\n\nВспомним что наши метрики оценки означают:\n\n- `NDCG` измеряет качество ранжирования рекомендованных элементов. Чем выше значение, тем лучше модель ранжирует релевантные элементы.\n\n- `MRR` измеряет среднюю обратную позицию первого релевантного элемента в списке рекомендаций. Высокие значения указывают на то, что релевантные элементы находятся ближе к началу списка.\n\n- `Coverage` показывает долю уникальных элементов, рекомендованных моделью, по сравнению с общим количеством доступных элементов. Высокое значение указывает на хорошее разнообразие рекомендаций.\n\n- `Hitrate` измеряет долю случаев, когда хотя бы один из рекомендованных элементов для пользователя является релевантным. Высокие значения указывают на то, доля пользователей для которых модель может рекомендовать как минимум один релевантный элемент\n\nВажно учитывать, какие качества рекомендаций наиболее критичны для задачи: \n- Если важен **ранжированный список**, стоит обратить внимание на то что эвристические можели как и `apriori` показали себя лучше чем более продвинутые как `ALS`;\n- Если требуется **разнообразие** для пользователей, то мы видим что эвристические модели тут мало эффективны, так как мы сами отобрали малую группу фильмом. `apriori`, дант лучше результат, но количество правил по которым мы можем рекомендовать тоже огранисино и зависит от выбранных гиперпараметров. Более прдвинутые методы как `ALS` рекомендую более разнообразные фильмы. \n\nВ целом выборка у нас не очень большая, и похоже что в данных не очень сложная структура и популярность элементов играет важную роль, что дает нам лучше метрики для более простых подходов. \n\nДля формаровагия рекомендации можно было бы использовать `SVD` для предоставления более разнообразного контента для пользователей которые хотя такого контента (выборочные клиенты), а `apriori` использовать как гланым методом для формирования рекомендации."
  }
 ],
 "metadata": {
  "kaggle": {
   "accelerator": "none",
   "dataSources": [],
   "dockerImageVersionId": 30822,
   "isGpuEnabled": false,
   "isInternetEnabled": true,
   "language": "python",
   "sourceType": "notebook"
  },
  "kernelspec": {
   "name": "python3",
   "display_name": "Python 3",
   "language": "python"
  },
  "language_info": {
   "name": "python",
   "version": "3.10.4",
   "mimetype": "text/x-python",
   "codemirror_mode": {
    "name": "ipython",
    "version": 3
   },
   "pygments_lexer": "ipython3",
   "nbconvert_exporter": "python",
   "file_extension": ".py"
  },
  "papermill": {
   "default_parameters": {},
   "duration": 652.326062,
   "end_time": "2025-01-29T19:54:37.676995",
   "environment_variables": {},
   "exception": null,
   "input_path": "__notebook__.ipynb",
   "output_path": "__notebook__.ipynb",
   "parameters": {},
   "start_time": "2025-01-29T19:43:45.350933",
   "version": "2.6.0"
  },
  "widgets": {
   "application/vnd.jupyter.widget-state+json": {
    "state": {
     "024532ee570141c7bfdb7732e8ac0fd7": {
      "model_module": "@jupyter-widgets/base",
      "model_module_version": "2.0.0",
      "model_name": "LayoutModel",
      "state": {
       "_model_module": "@jupyter-widgets/base",
       "_model_module_version": "2.0.0",
       "_model_name": "LayoutModel",
       "_view_count": null,
       "_view_module": "@jupyter-widgets/base",
       "_view_module_version": "2.0.0",
       "_view_name": "LayoutView",
       "align_content": null,
       "align_items": null,
       "align_self": null,
       "border_bottom": null,
       "border_left": null,
       "border_right": null,
       "border_top": null,
       "bottom": null,
       "display": null,
       "flex": null,
       "flex_flow": null,
       "grid_area": null,
       "grid_auto_columns": null,
       "grid_auto_flow": null,
       "grid_auto_rows": null,
       "grid_column": null,
       "grid_gap": null,
       "grid_row": null,
       "grid_template_areas": null,
       "grid_template_columns": null,
       "grid_template_rows": null,
       "height": null,
       "justify_content": null,
       "justify_items": null,
       "left": null,
       "margin": null,
       "max_height": null,
       "max_width": null,
       "min_height": null,
       "min_width": null,
       "object_fit": null,
       "object_position": null,
       "order": null,
       "overflow": null,
       "padding": null,
       "right": null,
       "top": null,
       "visibility": null,
       "width": "20px"
      }
     },
     "03c89437c35847e3b952a216d317e868": {
      "model_module": "@jupyter-widgets/base",
      "model_module_version": "2.0.0",
      "model_name": "LayoutModel",
      "state": {
       "_model_module": "@jupyter-widgets/base",
       "_model_module_version": "2.0.0",
       "_model_name": "LayoutModel",
       "_view_count": null,
       "_view_module": "@jupyter-widgets/base",
       "_view_module_version": "2.0.0",
       "_view_name": "LayoutView",
       "align_content": null,
       "align_items": null,
       "align_self": null,
       "border_bottom": null,
       "border_left": null,
       "border_right": null,
       "border_top": null,
       "bottom": null,
       "display": null,
       "flex": null,
       "flex_flow": null,
       "grid_area": null,
       "grid_auto_columns": null,
       "grid_auto_flow": null,
       "grid_auto_rows": null,
       "grid_column": null,
       "grid_gap": null,
       "grid_row": null,
       "grid_template_areas": null,
       "grid_template_columns": null,
       "grid_template_rows": null,
       "height": null,
       "justify_content": null,
       "justify_items": null,
       "left": null,
       "margin": null,
       "max_height": null,
       "max_width": null,
       "min_height": null,
       "min_width": null,
       "object_fit": null,
       "object_position": null,
       "order": null,
       "overflow": null,
       "padding": null,
       "right": null,
       "top": null,
       "visibility": null,
       "width": null
      }
     },
     "04bc7877d6294a4b8e77d67a89d4294a": {
      "model_module": "@jupyter-widgets/controls",
      "model_module_version": "2.0.0",
      "model_name": "FloatProgressModel",
      "state": {
       "_dom_classes": [],
       "_model_module": "@jupyter-widgets/controls",
       "_model_module_version": "2.0.0",
       "_model_name": "FloatProgressModel",
       "_view_count": null,
       "_view_module": "@jupyter-widgets/controls",
       "_view_module_version": "2.0.0",
       "_view_name": "ProgressView",
       "bar_style": "success",
       "description": "",
       "description_allow_html": false,
       "layout": "IPY_MODEL_aed47622a4274fd79d800f044ab5aab7",
       "max": 1,
       "min": 0,
       "orientation": "horizontal",
       "style": "IPY_MODEL_3a4a973d060f4b9eaa7c1547cf674f28",
       "tabbable": null,
       "tooltip": null,
       "value": 1
      }
     },
     "070b90f19a06466c9aff002065404b36": {
      "model_module": "@jupyter-widgets/base",
      "model_module_version": "2.0.0",
      "model_name": "LayoutModel",
      "state": {
       "_model_module": "@jupyter-widgets/base",
       "_model_module_version": "2.0.0",
       "_model_name": "LayoutModel",
       "_view_count": null,
       "_view_module": "@jupyter-widgets/base",
       "_view_module_version": "2.0.0",
       "_view_name": "LayoutView",
       "align_content": null,
       "align_items": null,
       "align_self": null,
       "border_bottom": null,
       "border_left": null,
       "border_right": null,
       "border_top": null,
       "bottom": null,
       "display": null,
       "flex": null,
       "flex_flow": null,
       "grid_area": null,
       "grid_auto_columns": null,
       "grid_auto_flow": null,
       "grid_auto_rows": null,
       "grid_column": null,
       "grid_gap": null,
       "grid_row": null,
       "grid_template_areas": null,
       "grid_template_columns": null,
       "grid_template_rows": null,
       "height": null,
       "justify_content": null,
       "justify_items": null,
       "left": null,
       "margin": null,
       "max_height": null,
       "max_width": null,
       "min_height": null,
       "min_width": null,
       "object_fit": null,
       "object_position": null,
       "order": null,
       "overflow": null,
       "padding": null,
       "right": null,
       "top": null,
       "visibility": null,
       "width": null
      }
     },
     "0a9977bc659c4c028eaea65de8805580": {
      "model_module": "@jupyter-widgets/base",
      "model_module_version": "2.0.0",
      "model_name": "LayoutModel",
      "state": {
       "_model_module": "@jupyter-widgets/base",
       "_model_module_version": "2.0.0",
       "_model_name": "LayoutModel",
       "_view_count": null,
       "_view_module": "@jupyter-widgets/base",
       "_view_module_version": "2.0.0",
       "_view_name": "LayoutView",
       "align_content": null,
       "align_items": null,
       "align_self": null,
       "border_bottom": null,
       "border_left": null,
       "border_right": null,
       "border_top": null,
       "bottom": null,
       "display": null,
       "flex": null,
       "flex_flow": null,
       "grid_area": null,
       "grid_auto_columns": null,
       "grid_auto_flow": null,
       "grid_auto_rows": null,
       "grid_column": null,
       "grid_gap": null,
       "grid_row": null,
       "grid_template_areas": null,
       "grid_template_columns": null,
       "grid_template_rows": null,
       "height": null,
       "justify_content": null,
       "justify_items": null,
       "left": null,
       "margin": null,
       "max_height": null,
       "max_width": null,
       "min_height": null,
       "min_width": null,
       "object_fit": null,
       "object_position": null,
       "order": null,
       "overflow": null,
       "padding": null,
       "right": null,
       "top": null,
       "visibility": null,
       "width": null
      }
     },
     "0de9608be1714bcbb85c4256719e2c3e": {
      "model_module": "@jupyter-widgets/base",
      "model_module_version": "2.0.0",
      "model_name": "LayoutModel",
      "state": {
       "_model_module": "@jupyter-widgets/base",
       "_model_module_version": "2.0.0",
       "_model_name": "LayoutModel",
       "_view_count": null,
       "_view_module": "@jupyter-widgets/base",
       "_view_module_version": "2.0.0",
       "_view_name": "LayoutView",
       "align_content": null,
       "align_items": null,
       "align_self": null,
       "border_bottom": null,
       "border_left": null,
       "border_right": null,
       "border_top": null,
       "bottom": null,
       "display": null,
       "flex": null,
       "flex_flow": null,
       "grid_area": null,
       "grid_auto_columns": null,
       "grid_auto_flow": null,
       "grid_auto_rows": null,
       "grid_column": null,
       "grid_gap": null,
       "grid_row": null,
       "grid_template_areas": null,
       "grid_template_columns": null,
       "grid_template_rows": null,
       "height": null,
       "justify_content": null,
       "justify_items": null,
       "left": null,
       "margin": null,
       "max_height": null,
       "max_width": null,
       "min_height": null,
       "min_width": null,
       "object_fit": null,
       "object_position": null,
       "order": null,
       "overflow": null,
       "padding": null,
       "right": null,
       "top": null,
       "visibility": null,
       "width": null
      }
     },
     "1097666fa306446cbc004a7259c8b8b4": {
      "model_module": "@jupyter-widgets/base",
      "model_module_version": "2.0.0",
      "model_name": "LayoutModel",
      "state": {
       "_model_module": "@jupyter-widgets/base",
       "_model_module_version": "2.0.0",
       "_model_name": "LayoutModel",
       "_view_count": null,
       "_view_module": "@jupyter-widgets/base",
       "_view_module_version": "2.0.0",
       "_view_name": "LayoutView",
       "align_content": null,
       "align_items": null,
       "align_self": null,
       "border_bottom": null,
       "border_left": null,
       "border_right": null,
       "border_top": null,
       "bottom": null,
       "display": null,
       "flex": null,
       "flex_flow": null,
       "grid_area": null,
       "grid_auto_columns": null,
       "grid_auto_flow": null,
       "grid_auto_rows": null,
       "grid_column": null,
       "grid_gap": null,
       "grid_row": null,
       "grid_template_areas": null,
       "grid_template_columns": null,
       "grid_template_rows": null,
       "height": null,
       "justify_content": null,
       "justify_items": null,
       "left": null,
       "margin": null,
       "max_height": null,
       "max_width": null,
       "min_height": null,
       "min_width": null,
       "object_fit": null,
       "object_position": null,
       "order": null,
       "overflow": null,
       "padding": null,
       "right": null,
       "top": null,
       "visibility": null,
       "width": null
      }
     },
     "1a635424cbbf4274abdb61232605a78a": {
      "model_module": "@jupyter-widgets/base",
      "model_module_version": "2.0.0",
      "model_name": "LayoutModel",
      "state": {
       "_model_module": "@jupyter-widgets/base",
       "_model_module_version": "2.0.0",
       "_model_name": "LayoutModel",
       "_view_count": null,
       "_view_module": "@jupyter-widgets/base",
       "_view_module_version": "2.0.0",
       "_view_name": "LayoutView",
       "align_content": null,
       "align_items": null,
       "align_self": null,
       "border_bottom": null,
       "border_left": null,
       "border_right": null,
       "border_top": null,
       "bottom": null,
       "display": null,
       "flex": null,
       "flex_flow": null,
       "grid_area": null,
       "grid_auto_columns": null,
       "grid_auto_flow": null,
       "grid_auto_rows": null,
       "grid_column": null,
       "grid_gap": null,
       "grid_row": null,
       "grid_template_areas": null,
       "grid_template_columns": null,
       "grid_template_rows": null,
       "height": null,
       "justify_content": null,
       "justify_items": null,
       "left": null,
       "margin": null,
       "max_height": null,
       "max_width": null,
       "min_height": null,
       "min_width": null,
       "object_fit": null,
       "object_position": null,
       "order": null,
       "overflow": null,
       "padding": null,
       "right": null,
       "top": null,
       "visibility": null,
       "width": null
      }
     },
     "1ae49e6c69d14ab4bace3639b4dddf8d": {
      "model_module": "@jupyter-widgets/controls",
      "model_module_version": "2.0.0",
      "model_name": "FloatProgressModel",
      "state": {
       "_dom_classes": [],
       "_model_module": "@jupyter-widgets/controls",
       "_model_module_version": "2.0.0",
       "_model_name": "FloatProgressModel",
       "_view_count": null,
       "_view_module": "@jupyter-widgets/controls",
       "_view_module_version": "2.0.0",
       "_view_name": "ProgressView",
       "bar_style": "success",
       "description": "",
       "description_allow_html": false,
       "layout": "IPY_MODEL_33f1448e5fd6425eb79cef61ba67b93c",
       "max": 1869151448,
       "min": 0,
       "orientation": "horizontal",
       "style": "IPY_MODEL_7405283e0ea148ee82dba2d7e1b675e1",
       "tabbable": null,
       "tooltip": null,
       "value": 1869151448
      }
     },
     "1c0748e96e0e42c599bb4a88f64a7161": {
      "model_module": "@jupyter-widgets/controls",
      "model_module_version": "2.0.0",
      "model_name": "HTMLModel",
      "state": {
       "_dom_classes": [],
       "_model_module": "@jupyter-widgets/controls",
       "_model_module_version": "2.0.0",
       "_model_name": "HTMLModel",
       "_view_count": null,
       "_view_module": "@jupyter-widgets/controls",
       "_view_module_version": "2.0.0",
       "_view_name": "HTMLView",
       "description": "",
       "description_allow_html": false,
       "layout": "IPY_MODEL_1097666fa306446cbc004a7259c8b8b4",
       "placeholder": "​",
       "style": "IPY_MODEL_72459e67979947d0af6c347b32baebf3",
       "tabbable": null,
       "tooltip": null,
       "value": " 1.87G/1.87G [01:11&lt;00:00, 26.0MB/s]"
      }
     },
     "1ead84ce77624ba482484d3aef432bd5": {
      "model_module": "@jupyter-widgets/controls",
      "model_module_version": "2.0.0",
      "model_name": "HTMLModel",
      "state": {
       "_dom_classes": [],
       "_model_module": "@jupyter-widgets/controls",
       "_model_module_version": "2.0.0",
       "_model_name": "HTMLModel",
       "_view_count": null,
       "_view_module": "@jupyter-widgets/controls",
       "_view_module_version": "2.0.0",
       "_view_name": "HTMLView",
       "description": "",
       "description_allow_html": false,
       "layout": "IPY_MODEL_2acd7d4fc5df49d1a01c324f2a9d2f1f",
       "placeholder": "​",
       "style": "IPY_MODEL_28e8e1b402984494898132eb2f8d0f9e",
       "tabbable": null,
       "tooltip": null,
       "value": " 4880181/0 [01:45&lt;00:00, 48047.45 examples/s]"
      }
     },
     "1fe1c65e81814dc9b1b677be9fbc6986": {
      "model_module": "@jupyter-widgets/controls",
      "model_module_version": "2.0.0",
      "model_name": "HTMLStyleModel",
      "state": {
       "_model_module": "@jupyter-widgets/controls",
       "_model_module_version": "2.0.0",
       "_model_name": "HTMLStyleModel",
       "_view_count": null,
       "_view_module": "@jupyter-widgets/base",
       "_view_module_version": "2.0.0",
       "_view_name": "StyleView",
       "background": null,
       "description_width": "",
       "font_size": null,
       "text_color": null
      }
     },
     "20aa608624f74c189c02448d3ae3a2a4": {
      "model_module": "@jupyter-widgets/base",
      "model_module_version": "2.0.0",
      "model_name": "LayoutModel",
      "state": {
       "_model_module": "@jupyter-widgets/base",
       "_model_module_version": "2.0.0",
       "_model_name": "LayoutModel",
       "_view_count": null,
       "_view_module": "@jupyter-widgets/base",
       "_view_module_version": "2.0.0",
       "_view_name": "LayoutView",
       "align_content": null,
       "align_items": null,
       "align_self": null,
       "border_bottom": null,
       "border_left": null,
       "border_right": null,
       "border_top": null,
       "bottom": null,
       "display": null,
       "flex": null,
       "flex_flow": null,
       "grid_area": null,
       "grid_auto_columns": null,
       "grid_auto_flow": null,
       "grid_auto_rows": null,
       "grid_column": null,
       "grid_gap": null,
       "grid_row": null,
       "grid_template_areas": null,
       "grid_template_columns": null,
       "grid_template_rows": null,
       "height": null,
       "justify_content": null,
       "justify_items": null,
       "left": null,
       "margin": null,
       "max_height": null,
       "max_width": null,
       "min_height": null,
       "min_width": null,
       "object_fit": null,
       "object_position": null,
       "order": null,
       "overflow": null,
       "padding": null,
       "right": null,
       "top": null,
       "visibility": null,
       "width": null
      }
     },
     "21e643ee754340ddad2ef6bfab91b40f": {
      "model_module": "@jupyter-widgets/controls",
      "model_module_version": "2.0.0",
      "model_name": "ProgressStyleModel",
      "state": {
       "_model_module": "@jupyter-widgets/controls",
       "_model_module_version": "2.0.0",
       "_model_name": "ProgressStyleModel",
       "_view_count": null,
       "_view_module": "@jupyter-widgets/base",
       "_view_module_version": "2.0.0",
       "_view_name": "StyleView",
       "bar_color": null,
       "description_width": ""
      }
     },
     "2230b256fc8448c8818ac0a96e1fa209": {
      "model_module": "@jupyter-widgets/controls",
      "model_module_version": "2.0.0",
      "model_name": "FloatProgressModel",
      "state": {
       "_dom_classes": [],
       "_model_module": "@jupyter-widgets/controls",
       "_model_module_version": "2.0.0",
       "_model_name": "FloatProgressModel",
       "_view_count": null,
       "_view_module": "@jupyter-widgets/controls",
       "_view_module_version": "2.0.0",
       "_view_name": "ProgressView",
       "bar_style": "success",
       "description": "",
       "description_allow_html": false,
       "layout": "IPY_MODEL_5cd563ba592945a3a62743627cbb5fa3",
       "max": 1,
       "min": 0,
       "orientation": "horizontal",
       "style": "IPY_MODEL_9d21a4f3af6c4ad7aa26e61a7f1d0c86",
       "tabbable": null,
       "tooltip": null,
       "value": 1
      }
     },
     "26b93335859f442fad5824dd0262f3a0": {
      "model_module": "@jupyter-widgets/base",
      "model_module_version": "2.0.0",
      "model_name": "LayoutModel",
      "state": {
       "_model_module": "@jupyter-widgets/base",
       "_model_module_version": "2.0.0",
       "_model_name": "LayoutModel",
       "_view_count": null,
       "_view_module": "@jupyter-widgets/base",
       "_view_module_version": "2.0.0",
       "_view_name": "LayoutView",
       "align_content": null,
       "align_items": null,
       "align_self": null,
       "border_bottom": null,
       "border_left": null,
       "border_right": null,
       "border_top": null,
       "bottom": null,
       "display": null,
       "flex": null,
       "flex_flow": null,
       "grid_area": null,
       "grid_auto_columns": null,
       "grid_auto_flow": null,
       "grid_auto_rows": null,
       "grid_column": null,
       "grid_gap": null,
       "grid_row": null,
       "grid_template_areas": null,
       "grid_template_columns": null,
       "grid_template_rows": null,
       "height": null,
       "justify_content": null,
       "justify_items": null,
       "left": null,
       "margin": null,
       "max_height": null,
       "max_width": null,
       "min_height": null,
       "min_width": null,
       "object_fit": null,
       "object_position": null,
       "order": null,
       "overflow": null,
       "padding": null,
       "right": null,
       "top": null,
       "visibility": null,
       "width": null
      }
     },
     "283721db167b49c4b77452dfc34ca0f8": {
      "model_module": "@jupyter-widgets/base",
      "model_module_version": "2.0.0",
      "model_name": "LayoutModel",
      "state": {
       "_model_module": "@jupyter-widgets/base",
       "_model_module_version": "2.0.0",
       "_model_name": "LayoutModel",
       "_view_count": null,
       "_view_module": "@jupyter-widgets/base",
       "_view_module_version": "2.0.0",
       "_view_name": "LayoutView",
       "align_content": null,
       "align_items": null,
       "align_self": null,
       "border_bottom": null,
       "border_left": null,
       "border_right": null,
       "border_top": null,
       "bottom": null,
       "display": null,
       "flex": null,
       "flex_flow": null,
       "grid_area": null,
       "grid_auto_columns": null,
       "grid_auto_flow": null,
       "grid_auto_rows": null,
       "grid_column": null,
       "grid_gap": null,
       "grid_row": null,
       "grid_template_areas": null,
       "grid_template_columns": null,
       "grid_template_rows": null,
       "height": null,
       "justify_content": null,
       "justify_items": null,
       "left": null,
       "margin": null,
       "max_height": null,
       "max_width": null,
       "min_height": null,
       "min_width": null,
       "object_fit": null,
       "object_position": null,
       "order": null,
       "overflow": null,
       "padding": null,
       "right": null,
       "top": null,
       "visibility": null,
       "width": null
      }
     },
     "28e8e1b402984494898132eb2f8d0f9e": {
      "model_module": "@jupyter-widgets/controls",
      "model_module_version": "2.0.0",
      "model_name": "HTMLStyleModel",
      "state": {
       "_model_module": "@jupyter-widgets/controls",
       "_model_module_version": "2.0.0",
       "_model_name": "HTMLStyleModel",
       "_view_count": null,
       "_view_module": "@jupyter-widgets/base",
       "_view_module_version": "2.0.0",
       "_view_name": "StyleView",
       "background": null,
       "description_width": "",
       "font_size": null,
       "text_color": null
      }
     },
     "2acd7d4fc5df49d1a01c324f2a9d2f1f": {
      "model_module": "@jupyter-widgets/base",
      "model_module_version": "2.0.0",
      "model_name": "LayoutModel",
      "state": {
       "_model_module": "@jupyter-widgets/base",
       "_model_module_version": "2.0.0",
       "_model_name": "LayoutModel",
       "_view_count": null,
       "_view_module": "@jupyter-widgets/base",
       "_view_module_version": "2.0.0",
       "_view_name": "LayoutView",
       "align_content": null,
       "align_items": null,
       "align_self": null,
       "border_bottom": null,
       "border_left": null,
       "border_right": null,
       "border_top": null,
       "bottom": null,
       "display": null,
       "flex": null,
       "flex_flow": null,
       "grid_area": null,
       "grid_auto_columns": null,
       "grid_auto_flow": null,
       "grid_auto_rows": null,
       "grid_column": null,
       "grid_gap": null,
       "grid_row": null,
       "grid_template_areas": null,
       "grid_template_columns": null,
       "grid_template_rows": null,
       "height": null,
       "justify_content": null,
       "justify_items": null,
       "left": null,
       "margin": null,
       "max_height": null,
       "max_width": null,
       "min_height": null,
       "min_width": null,
       "object_fit": null,
       "object_position": null,
       "order": null,
       "overflow": null,
       "padding": null,
       "right": null,
       "top": null,
       "visibility": null,
       "width": null
      }
     },
     "2e1497814ae24afc89cfd851a7354989": {
      "model_module": "@jupyter-widgets/controls",
      "model_module_version": "2.0.0",
      "model_name": "HTMLStyleModel",
      "state": {
       "_model_module": "@jupyter-widgets/controls",
       "_model_module_version": "2.0.0",
       "_model_name": "HTMLStyleModel",
       "_view_count": null,
       "_view_module": "@jupyter-widgets/base",
       "_view_module_version": "2.0.0",
       "_view_name": "StyleView",
       "background": null,
       "description_width": "",
       "font_size": null,
       "text_color": null
      }
     },
     "3014cc50609d4137904a40d293f38852": {
      "model_module": "@jupyter-widgets/base",
      "model_module_version": "2.0.0",
      "model_name": "LayoutModel",
      "state": {
       "_model_module": "@jupyter-widgets/base",
       "_model_module_version": "2.0.0",
       "_model_name": "LayoutModel",
       "_view_count": null,
       "_view_module": "@jupyter-widgets/base",
       "_view_module_version": "2.0.0",
       "_view_name": "LayoutView",
       "align_content": null,
       "align_items": null,
       "align_self": null,
       "border_bottom": null,
       "border_left": null,
       "border_right": null,
       "border_top": null,
       "bottom": null,
       "display": null,
       "flex": null,
       "flex_flow": null,
       "grid_area": null,
       "grid_auto_columns": null,
       "grid_auto_flow": null,
       "grid_auto_rows": null,
       "grid_column": null,
       "grid_gap": null,
       "grid_row": null,
       "grid_template_areas": null,
       "grid_template_columns": null,
       "grid_template_rows": null,
       "height": null,
       "justify_content": null,
       "justify_items": null,
       "left": null,
       "margin": null,
       "max_height": null,
       "max_width": null,
       "min_height": null,
       "min_width": null,
       "object_fit": null,
       "object_position": null,
       "order": null,
       "overflow": null,
       "padding": null,
       "right": null,
       "top": null,
       "visibility": null,
       "width": null
      }
     },
     "30683e1cfd4448dabab593ebb6ce1640": {
      "model_module": "@jupyter-widgets/controls",
      "model_module_version": "2.0.0",
      "model_name": "HTMLStyleModel",
      "state": {
       "_model_module": "@jupyter-widgets/controls",
       "_model_module_version": "2.0.0",
       "_model_name": "HTMLStyleModel",
       "_view_count": null,
       "_view_module": "@jupyter-widgets/base",
       "_view_module_version": "2.0.0",
       "_view_name": "StyleView",
       "background": null,
       "description_width": "",
       "font_size": null,
       "text_color": null
      }
     },
     "33369ea4fd1e49cf86d637dac2dd24f3": {
      "model_module": "@jupyter-widgets/controls",
      "model_module_version": "2.0.0",
      "model_name": "HBoxModel",
      "state": {
       "_dom_classes": [],
       "_model_module": "@jupyter-widgets/controls",
       "_model_module_version": "2.0.0",
       "_model_name": "HBoxModel",
       "_view_count": null,
       "_view_module": "@jupyter-widgets/controls",
       "_view_module_version": "2.0.0",
       "_view_name": "HBoxView",
       "box_style": "",
       "children": [
        "IPY_MODEL_d9004a391e5442edaf8c4d14cfe2347d",
        "IPY_MODEL_b5fe02dae8e545cba65ebad8e0f694af",
        "IPY_MODEL_f1e6f77c3cb34ecba34bfd17b072d8d6"
       ],
       "layout": "IPY_MODEL_cb91273ed75b48d3859f68f1c1c5b784",
       "tabbable": null,
       "tooltip": null
      }
     },
     "33f1448e5fd6425eb79cef61ba67b93c": {
      "model_module": "@jupyter-widgets/base",
      "model_module_version": "2.0.0",
      "model_name": "LayoutModel",
      "state": {
       "_model_module": "@jupyter-widgets/base",
       "_model_module_version": "2.0.0",
       "_model_name": "LayoutModel",
       "_view_count": null,
       "_view_module": "@jupyter-widgets/base",
       "_view_module_version": "2.0.0",
       "_view_name": "LayoutView",
       "align_content": null,
       "align_items": null,
       "align_self": null,
       "border_bottom": null,
       "border_left": null,
       "border_right": null,
       "border_top": null,
       "bottom": null,
       "display": null,
       "flex": null,
       "flex_flow": null,
       "grid_area": null,
       "grid_auto_columns": null,
       "grid_auto_flow": null,
       "grid_auto_rows": null,
       "grid_column": null,
       "grid_gap": null,
       "grid_row": null,
       "grid_template_areas": null,
       "grid_template_columns": null,
       "grid_template_rows": null,
       "height": null,
       "justify_content": null,
       "justify_items": null,
       "left": null,
       "margin": null,
       "max_height": null,
       "max_width": null,
       "min_height": null,
       "min_width": null,
       "object_fit": null,
       "object_position": null,
       "order": null,
       "overflow": null,
       "padding": null,
       "right": null,
       "top": null,
       "visibility": null,
       "width": null
      }
     },
     "39e7dc195cc041e48efc0a710991df58": {
      "model_module": "@jupyter-widgets/base",
      "model_module_version": "2.0.0",
      "model_name": "LayoutModel",
      "state": {
       "_model_module": "@jupyter-widgets/base",
       "_model_module_version": "2.0.0",
       "_model_name": "LayoutModel",
       "_view_count": null,
       "_view_module": "@jupyter-widgets/base",
       "_view_module_version": "2.0.0",
       "_view_name": "LayoutView",
       "align_content": null,
       "align_items": null,
       "align_self": null,
       "border_bottom": null,
       "border_left": null,
       "border_right": null,
       "border_top": null,
       "bottom": null,
       "display": null,
       "flex": null,
       "flex_flow": null,
       "grid_area": null,
       "grid_auto_columns": null,
       "grid_auto_flow": null,
       "grid_auto_rows": null,
       "grid_column": null,
       "grid_gap": null,
       "grid_row": null,
       "grid_template_areas": null,
       "grid_template_columns": null,
       "grid_template_rows": null,
       "height": null,
       "justify_content": null,
       "justify_items": null,
       "left": null,
       "margin": null,
       "max_height": null,
       "max_width": null,
       "min_height": null,
       "min_width": null,
       "object_fit": null,
       "object_position": null,
       "order": null,
       "overflow": null,
       "padding": null,
       "right": null,
       "top": null,
       "visibility": null,
       "width": null
      }
     },
     "3a4a973d060f4b9eaa7c1547cf674f28": {
      "model_module": "@jupyter-widgets/controls",
      "model_module_version": "2.0.0",
      "model_name": "ProgressStyleModel",
      "state": {
       "_model_module": "@jupyter-widgets/controls",
       "_model_module_version": "2.0.0",
       "_model_name": "ProgressStyleModel",
       "_view_count": null,
       "_view_module": "@jupyter-widgets/base",
       "_view_module_version": "2.0.0",
       "_view_name": "StyleView",
       "bar_color": null,
       "description_width": ""
      }
     },
     "3b83639a0f4548fca8086c0db457cbd9": {
      "model_module": "@jupyter-widgets/base",
      "model_module_version": "2.0.0",
      "model_name": "LayoutModel",
      "state": {
       "_model_module": "@jupyter-widgets/base",
       "_model_module_version": "2.0.0",
       "_model_name": "LayoutModel",
       "_view_count": null,
       "_view_module": "@jupyter-widgets/base",
       "_view_module_version": "2.0.0",
       "_view_name": "LayoutView",
       "align_content": null,
       "align_items": null,
       "align_self": null,
       "border_bottom": null,
       "border_left": null,
       "border_right": null,
       "border_top": null,
       "bottom": null,
       "display": null,
       "flex": null,
       "flex_flow": null,
       "grid_area": null,
       "grid_auto_columns": null,
       "grid_auto_flow": null,
       "grid_auto_rows": null,
       "grid_column": null,
       "grid_gap": null,
       "grid_row": null,
       "grid_template_areas": null,
       "grid_template_columns": null,
       "grid_template_rows": null,
       "height": null,
       "justify_content": null,
       "justify_items": null,
       "left": null,
       "margin": null,
       "max_height": null,
       "max_width": null,
       "min_height": null,
       "min_width": null,
       "object_fit": null,
       "object_position": null,
       "order": null,
       "overflow": null,
       "padding": null,
       "right": null,
       "top": null,
       "visibility": null,
       "width": null
      }
     },
     "3bf997b61ebd4c1ab71a416863b3ec7f": {
      "model_module": "@jupyter-widgets/controls",
      "model_module_version": "2.0.0",
      "model_name": "HTMLModel",
      "state": {
       "_dom_classes": [],
       "_model_module": "@jupyter-widgets/controls",
       "_model_module_version": "2.0.0",
       "_model_name": "HTMLModel",
       "_view_count": null,
       "_view_module": "@jupyter-widgets/controls",
       "_view_module_version": "2.0.0",
       "_view_name": "HTMLView",
       "description": "",
       "description_allow_html": false,
       "layout": "IPY_MODEL_0de9608be1714bcbb85c4256719e2c3e",
       "placeholder": "​",
       "style": "IPY_MODEL_b6cf76737df6477780508c36f565eaac",
       "tabbable": null,
       "tooltip": null,
       "value": "Computing checksums: 100%"
      }
     },
     "3eb83f8224f941aabb0f58b4d5958f8c": {
      "model_module": "@jupyter-widgets/base",
      "model_module_version": "2.0.0",
      "model_name": "LayoutModel",
      "state": {
       "_model_module": "@jupyter-widgets/base",
       "_model_module_version": "2.0.0",
       "_model_name": "LayoutModel",
       "_view_count": null,
       "_view_module": "@jupyter-widgets/base",
       "_view_module_version": "2.0.0",
       "_view_name": "LayoutView",
       "align_content": null,
       "align_items": null,
       "align_self": null,
       "border_bottom": null,
       "border_left": null,
       "border_right": null,
       "border_top": null,
       "bottom": null,
       "display": null,
       "flex": null,
       "flex_flow": null,
       "grid_area": null,
       "grid_auto_columns": null,
       "grid_auto_flow": null,
       "grid_auto_rows": null,
       "grid_column": null,
       "grid_gap": null,
       "grid_row": null,
       "grid_template_areas": null,
       "grid_template_columns": null,
       "grid_template_rows": null,
       "height": null,
       "justify_content": null,
       "justify_items": null,
       "left": null,
       "margin": null,
       "max_height": null,
       "max_width": null,
       "min_height": null,
       "min_width": null,
       "object_fit": null,
       "object_position": null,
       "order": null,
       "overflow": null,
       "padding": null,
       "right": null,
       "top": null,
       "visibility": null,
       "width": null
      }
     },
     "3f724866a58040bd85be3d4cf44fe717": {
      "model_module": "@jupyter-widgets/base",
      "model_module_version": "2.0.0",
      "model_name": "LayoutModel",
      "state": {
       "_model_module": "@jupyter-widgets/base",
       "_model_module_version": "2.0.0",
       "_model_name": "LayoutModel",
       "_view_count": null,
       "_view_module": "@jupyter-widgets/base",
       "_view_module_version": "2.0.0",
       "_view_name": "LayoutView",
       "align_content": null,
       "align_items": null,
       "align_self": null,
       "border_bottom": null,
       "border_left": null,
       "border_right": null,
       "border_top": null,
       "bottom": null,
       "display": null,
       "flex": null,
       "flex_flow": null,
       "grid_area": null,
       "grid_auto_columns": null,
       "grid_auto_flow": null,
       "grid_auto_rows": null,
       "grid_column": null,
       "grid_gap": null,
       "grid_row": null,
       "grid_template_areas": null,
       "grid_template_columns": null,
       "grid_template_rows": null,
       "height": null,
       "justify_content": null,
       "justify_items": null,
       "left": null,
       "margin": null,
       "max_height": null,
       "max_width": null,
       "min_height": null,
       "min_width": null,
       "object_fit": null,
       "object_position": null,
       "order": null,
       "overflow": null,
       "padding": null,
       "right": null,
       "top": null,
       "visibility": null,
       "width": null
      }
     },
     "50c58caf138444248764d3f9f52108b4": {
      "model_module": "@jupyter-widgets/controls",
      "model_module_version": "2.0.0",
      "model_name": "HTMLModel",
      "state": {
       "_dom_classes": [],
       "_model_module": "@jupyter-widgets/controls",
       "_model_module_version": "2.0.0",
       "_model_name": "HTMLModel",
       "_view_count": null,
       "_view_module": "@jupyter-widgets/controls",
       "_view_module_version": "2.0.0",
       "_view_name": "HTMLView",
       "description": "",
       "description_allow_html": false,
       "layout": "IPY_MODEL_df810382f9eb48b1a4787fa71c9850d2",
       "placeholder": "​",
       "style": "IPY_MODEL_e24b991ad13b461790ec84be6a8c7888",
       "tabbable": null,
       "tooltip": null,
       "value": " 1/1 [00:00&lt;00:00, 117.07it/s]"
      }
     },
     "518037aadb624f68a71f93bd3d2b3d12": {
      "model_module": "@jupyter-widgets/controls",
      "model_module_version": "2.0.0",
      "model_name": "HBoxModel",
      "state": {
       "_dom_classes": [],
       "_model_module": "@jupyter-widgets/controls",
       "_model_module_version": "2.0.0",
       "_model_name": "HBoxModel",
       "_view_count": null,
       "_view_module": "@jupyter-widgets/controls",
       "_view_module_version": "2.0.0",
       "_view_name": "HBoxView",
       "box_style": "",
       "children": [
        "IPY_MODEL_e99ed6d97f3942bd93d994804378a007",
        "IPY_MODEL_f569d37e4ba44114a8faaa28475d69d9",
        "IPY_MODEL_b71df37ea64f4fc28a8a0a5a477d3f14"
       ],
       "layout": "IPY_MODEL_0a9977bc659c4c028eaea65de8805580",
       "tabbable": null,
       "tooltip": null
      }
     },
     "53db8d9f5a56437b9897e4a0daeac72d": {
      "model_module": "@jupyter-widgets/controls",
      "model_module_version": "2.0.0",
      "model_name": "HBoxModel",
      "state": {
       "_dom_classes": [],
       "_model_module": "@jupyter-widgets/controls",
       "_model_module_version": "2.0.0",
       "_model_name": "HBoxModel",
       "_view_count": null,
       "_view_module": "@jupyter-widgets/controls",
       "_view_module_version": "2.0.0",
       "_view_name": "HBoxView",
       "box_style": "",
       "children": [
        "IPY_MODEL_5810289a2a4b4fe989ef6054584fb5f4",
        "IPY_MODEL_c84b8f0757984d26ae51c132ada60118",
        "IPY_MODEL_b07c44172e2e48c2b17372c5fa6efbc2"
       ],
       "layout": "IPY_MODEL_3b83639a0f4548fca8086c0db457cbd9",
       "tabbable": null,
       "tooltip": null
      }
     },
     "558724b9f3224edc87d206707bda3144": {
      "model_module": "@jupyter-widgets/controls",
      "model_module_version": "2.0.0",
      "model_name": "HBoxModel",
      "state": {
       "_dom_classes": [],
       "_model_module": "@jupyter-widgets/controls",
       "_model_module_version": "2.0.0",
       "_model_name": "HBoxModel",
       "_view_count": null,
       "_view_module": "@jupyter-widgets/controls",
       "_view_module_version": "2.0.0",
       "_view_name": "HBoxView",
       "box_style": "",
       "children": [
        "IPY_MODEL_3bf997b61ebd4c1ab71a416863b3ec7f",
        "IPY_MODEL_ea91ea29923c44808800ff92909a5588",
        "IPY_MODEL_bb429fa9981449caad9b5546a78a8026"
       ],
       "layout": "IPY_MODEL_39e7dc195cc041e48efc0a710991df58",
       "tabbable": null,
       "tooltip": null
      }
     },
     "56ef5d1c6237457f847e5f3e089995e4": {
      "model_module": "@jupyter-widgets/controls",
      "model_module_version": "2.0.0",
      "model_name": "HTMLModel",
      "state": {
       "_dom_classes": [],
       "_model_module": "@jupyter-widgets/controls",
       "_model_module_version": "2.0.0",
       "_model_name": "HTMLModel",
       "_view_count": null,
       "_view_module": "@jupyter-widgets/controls",
       "_view_module_version": "2.0.0",
       "_view_name": "HTMLView",
       "description": "",
       "description_allow_html": false,
       "layout": "IPY_MODEL_b343a11243a943c5aeeeab3716d189d9",
       "placeholder": "​",
       "style": "IPY_MODEL_942fd7e00c3940b8bb4957b3fdf12118",
       "tabbable": null,
       "tooltip": null,
       "value": "Computing checksums: 100%"
      }
     },
     "5810289a2a4b4fe989ef6054584fb5f4": {
      "model_module": "@jupyter-widgets/controls",
      "model_module_version": "2.0.0",
      "model_name": "HTMLModel",
      "state": {
       "_dom_classes": [],
       "_model_module": "@jupyter-widgets/controls",
       "_model_module_version": "2.0.0",
       "_model_name": "HTMLModel",
       "_view_count": null,
       "_view_module": "@jupyter-widgets/controls",
       "_view_module_version": "2.0.0",
       "_view_name": "HTMLView",
       "description": "",
       "description_allow_html": false,
       "layout": "IPY_MODEL_26b93335859f442fad5824dd0262f3a0",
       "placeholder": "​",
       "style": "IPY_MODEL_9d76a9887d3d470283b692a7488c0330",
       "tabbable": null,
       "tooltip": null,
       "value": "100%"
      }
     },
     "59e0f859a842414f85fe3b7472b16f4d": {
      "model_module": "@jupyter-widgets/base",
      "model_module_version": "2.0.0",
      "model_name": "LayoutModel",
      "state": {
       "_model_module": "@jupyter-widgets/base",
       "_model_module_version": "2.0.0",
       "_model_name": "LayoutModel",
       "_view_count": null,
       "_view_module": "@jupyter-widgets/base",
       "_view_module_version": "2.0.0",
       "_view_name": "LayoutView",
       "align_content": null,
       "align_items": null,
       "align_self": null,
       "border_bottom": null,
       "border_left": null,
       "border_right": null,
       "border_top": null,
       "bottom": null,
       "display": null,
       "flex": null,
       "flex_flow": null,
       "grid_area": null,
       "grid_auto_columns": null,
       "grid_auto_flow": null,
       "grid_auto_rows": null,
       "grid_column": null,
       "grid_gap": null,
       "grid_row": null,
       "grid_template_areas": null,
       "grid_template_columns": null,
       "grid_template_rows": null,
       "height": null,
       "justify_content": null,
       "justify_items": null,
       "left": null,
       "margin": null,
       "max_height": null,
       "max_width": null,
       "min_height": null,
       "min_width": null,
       "object_fit": null,
       "object_position": null,
       "order": null,
       "overflow": null,
       "padding": null,
       "right": null,
       "top": null,
       "visibility": null,
       "width": null
      }
     },
     "5a1a9822e0344845ba57e49711c1b7d7": {
      "model_module": "@jupyter-widgets/controls",
      "model_module_version": "2.0.0",
      "model_name": "HTMLModel",
      "state": {
       "_dom_classes": [],
       "_model_module": "@jupyter-widgets/controls",
       "_model_module_version": "2.0.0",
       "_model_name": "HTMLModel",
       "_view_count": null,
       "_view_module": "@jupyter-widgets/controls",
       "_view_module_version": "2.0.0",
       "_view_name": "HTMLView",
       "description": "",
       "description_allow_html": false,
       "layout": "IPY_MODEL_3eb83f8224f941aabb0f58b4d5958f8c",
       "placeholder": "​",
       "style": "IPY_MODEL_f352dbf953284aeda19356ad11006f5f",
       "tabbable": null,
       "tooltip": null,
       "value": "Software.jsonl: 100%"
      }
     },
     "5a6e7cb2992e427793157568388b75d3": {
      "model_module": "@jupyter-widgets/controls",
      "model_module_version": "2.0.0",
      "model_name": "HBoxModel",
      "state": {
       "_dom_classes": [],
       "_model_module": "@jupyter-widgets/controls",
       "_model_module_version": "2.0.0",
       "_model_name": "HBoxModel",
       "_view_count": null,
       "_view_module": "@jupyter-widgets/controls",
       "_view_module_version": "2.0.0",
       "_view_name": "HBoxView",
       "box_style": "",
       "children": [
        "IPY_MODEL_56ef5d1c6237457f847e5f3e089995e4",
        "IPY_MODEL_04bc7877d6294a4b8e77d67a89d4294a",
        "IPY_MODEL_50c58caf138444248764d3f9f52108b4"
       ],
       "layout": "IPY_MODEL_03c89437c35847e3b952a216d317e868",
       "tabbable": null,
       "tooltip": null
      }
     },
     "5c0305ea026a438fbedcf1a75199a0ce": {
      "model_module": "@jupyter-widgets/base",
      "model_module_version": "2.0.0",
      "model_name": "LayoutModel",
      "state": {
       "_model_module": "@jupyter-widgets/base",
       "_model_module_version": "2.0.0",
       "_model_name": "LayoutModel",
       "_view_count": null,
       "_view_module": "@jupyter-widgets/base",
       "_view_module_version": "2.0.0",
       "_view_name": "LayoutView",
       "align_content": null,
       "align_items": null,
       "align_self": null,
       "border_bottom": null,
       "border_left": null,
       "border_right": null,
       "border_top": null,
       "bottom": null,
       "display": null,
       "flex": null,
       "flex_flow": null,
       "grid_area": null,
       "grid_auto_columns": null,
       "grid_auto_flow": null,
       "grid_auto_rows": null,
       "grid_column": null,
       "grid_gap": null,
       "grid_row": null,
       "grid_template_areas": null,
       "grid_template_columns": null,
       "grid_template_rows": null,
       "height": null,
       "justify_content": null,
       "justify_items": null,
       "left": null,
       "margin": null,
       "max_height": null,
       "max_width": null,
       "min_height": null,
       "min_width": null,
       "object_fit": null,
       "object_position": null,
       "order": null,
       "overflow": null,
       "padding": null,
       "right": null,
       "top": null,
       "visibility": null,
       "width": null
      }
     },
     "5cd563ba592945a3a62743627cbb5fa3": {
      "model_module": "@jupyter-widgets/base",
      "model_module_version": "2.0.0",
      "model_name": "LayoutModel",
      "state": {
       "_model_module": "@jupyter-widgets/base",
       "_model_module_version": "2.0.0",
       "_model_name": "LayoutModel",
       "_view_count": null,
       "_view_module": "@jupyter-widgets/base",
       "_view_module_version": "2.0.0",
       "_view_name": "LayoutView",
       "align_content": null,
       "align_items": null,
       "align_self": null,
       "border_bottom": null,
       "border_left": null,
       "border_right": null,
       "border_top": null,
       "bottom": null,
       "display": null,
       "flex": null,
       "flex_flow": null,
       "grid_area": null,
       "grid_auto_columns": null,
       "grid_auto_flow": null,
       "grid_auto_rows": null,
       "grid_column": null,
       "grid_gap": null,
       "grid_row": null,
       "grid_template_areas": null,
       "grid_template_columns": null,
       "grid_template_rows": null,
       "height": null,
       "justify_content": null,
       "justify_items": null,
       "left": null,
       "margin": null,
       "max_height": null,
       "max_width": null,
       "min_height": null,
       "min_width": null,
       "object_fit": null,
       "object_position": null,
       "order": null,
       "overflow": null,
       "padding": null,
       "right": null,
       "top": null,
       "visibility": null,
       "width": "20px"
      }
     },
     "634070e373f64d24a5adb733f2ff233e": {
      "model_module": "@jupyter-widgets/controls",
      "model_module_version": "2.0.0",
      "model_name": "HTMLModel",
      "state": {
       "_dom_classes": [],
       "_model_module": "@jupyter-widgets/controls",
       "_model_module_version": "2.0.0",
       "_model_name": "HTMLModel",
       "_view_count": null,
       "_view_module": "@jupyter-widgets/controls",
       "_view_module_version": "2.0.0",
       "_view_name": "HTMLView",
       "description": "",
       "description_allow_html": false,
       "layout": "IPY_MODEL_59e0f859a842414f85fe3b7472b16f4d",
       "placeholder": "​",
       "style": "IPY_MODEL_7d91e860f03748b9b6cd02af029e8211",
       "tabbable": null,
       "tooltip": null,
       "value": "meta_Software.jsonl: 100%"
      }
     },
     "64475ba735c64eea9a12272035a67fab": {
      "model_module": "@jupyter-widgets/base",
      "model_module_version": "2.0.0",
      "model_name": "LayoutModel",
      "state": {
       "_model_module": "@jupyter-widgets/base",
       "_model_module_version": "2.0.0",
       "_model_name": "LayoutModel",
       "_view_count": null,
       "_view_module": "@jupyter-widgets/base",
       "_view_module_version": "2.0.0",
       "_view_name": "LayoutView",
       "align_content": null,
       "align_items": null,
       "align_self": null,
       "border_bottom": null,
       "border_left": null,
       "border_right": null,
       "border_top": null,
       "bottom": null,
       "display": null,
       "flex": null,
       "flex_flow": null,
       "grid_area": null,
       "grid_auto_columns": null,
       "grid_auto_flow": null,
       "grid_auto_rows": null,
       "grid_column": null,
       "grid_gap": null,
       "grid_row": null,
       "grid_template_areas": null,
       "grid_template_columns": null,
       "grid_template_rows": null,
       "height": null,
       "justify_content": null,
       "justify_items": null,
       "left": null,
       "margin": null,
       "max_height": null,
       "max_width": null,
       "min_height": null,
       "min_width": null,
       "object_fit": null,
       "object_position": null,
       "order": null,
       "overflow": null,
       "padding": null,
       "right": null,
       "top": null,
       "visibility": null,
       "width": null
      }
     },
     "66d94a77c45949a7a24a20f0b55601d0": {
      "model_module": "@jupyter-widgets/base",
      "model_module_version": "2.0.0",
      "model_name": "LayoutModel",
      "state": {
       "_model_module": "@jupyter-widgets/base",
       "_model_module_version": "2.0.0",
       "_model_name": "LayoutModel",
       "_view_count": null,
       "_view_module": "@jupyter-widgets/base",
       "_view_module_version": "2.0.0",
       "_view_name": "LayoutView",
       "align_content": null,
       "align_items": null,
       "align_self": null,
       "border_bottom": null,
       "border_left": null,
       "border_right": null,
       "border_top": null,
       "bottom": null,
       "display": null,
       "flex": null,
       "flex_flow": null,
       "grid_area": null,
       "grid_auto_columns": null,
       "grid_auto_flow": null,
       "grid_auto_rows": null,
       "grid_column": null,
       "grid_gap": null,
       "grid_row": null,
       "grid_template_areas": null,
       "grid_template_columns": null,
       "grid_template_rows": null,
       "height": null,
       "justify_content": null,
       "justify_items": null,
       "left": null,
       "margin": null,
       "max_height": null,
       "max_width": null,
       "min_height": null,
       "min_width": null,
       "object_fit": null,
       "object_position": null,
       "order": null,
       "overflow": null,
       "padding": null,
       "right": null,
       "top": null,
       "visibility": null,
       "width": null
      }
     },
     "6a4ceeaec5154b0dba89fc7c17b617e5": {
      "model_module": "@jupyter-widgets/base",
      "model_module_version": "2.0.0",
      "model_name": "LayoutModel",
      "state": {
       "_model_module": "@jupyter-widgets/base",
       "_model_module_version": "2.0.0",
       "_model_name": "LayoutModel",
       "_view_count": null,
       "_view_module": "@jupyter-widgets/base",
       "_view_module_version": "2.0.0",
       "_view_name": "LayoutView",
       "align_content": null,
       "align_items": null,
       "align_self": null,
       "border_bottom": null,
       "border_left": null,
       "border_right": null,
       "border_top": null,
       "bottom": null,
       "display": null,
       "flex": null,
       "flex_flow": null,
       "grid_area": null,
       "grid_auto_columns": null,
       "grid_auto_flow": null,
       "grid_auto_rows": null,
       "grid_column": null,
       "grid_gap": null,
       "grid_row": null,
       "grid_template_areas": null,
       "grid_template_columns": null,
       "grid_template_rows": null,
       "height": null,
       "justify_content": null,
       "justify_items": null,
       "left": null,
       "margin": null,
       "max_height": null,
       "max_width": null,
       "min_height": null,
       "min_width": null,
       "object_fit": null,
       "object_position": null,
       "order": null,
       "overflow": null,
       "padding": null,
       "right": null,
       "top": null,
       "visibility": null,
       "width": null
      }
     },
     "6fb0cf4d235c47658e9e64ddf6a33c20": {
      "model_module": "@jupyter-widgets/controls",
      "model_module_version": "2.0.0",
      "model_name": "HBoxModel",
      "state": {
       "_dom_classes": [],
       "_model_module": "@jupyter-widgets/controls",
       "_model_module_version": "2.0.0",
       "_model_name": "HBoxModel",
       "_view_count": null,
       "_view_module": "@jupyter-widgets/controls",
       "_view_module_version": "2.0.0",
       "_view_name": "HBoxView",
       "box_style": "",
       "children": [
        "IPY_MODEL_634070e373f64d24a5adb733f2ff233e",
        "IPY_MODEL_721f4bc3a71e4cbe842bc629abda0f20",
        "IPY_MODEL_b09fb39d5d434b8c977bba8b986c3d8d"
       ],
       "layout": "IPY_MODEL_b5e3077c74cc477b9410764db5578083",
       "tabbable": null,
       "tooltip": null
      }
     },
     "721f4bc3a71e4cbe842bc629abda0f20": {
      "model_module": "@jupyter-widgets/controls",
      "model_module_version": "2.0.0",
      "model_name": "FloatProgressModel",
      "state": {
       "_dom_classes": [],
       "_model_module": "@jupyter-widgets/controls",
       "_model_module_version": "2.0.0",
       "_model_name": "FloatProgressModel",
       "_view_count": null,
       "_view_module": "@jupyter-widgets/controls",
       "_view_module_version": "2.0.0",
       "_view_name": "ProgressView",
       "bar_style": "success",
       "description": "",
       "description_allow_html": false,
       "layout": "IPY_MODEL_6a4ceeaec5154b0dba89fc7c17b617e5",
       "max": 256220771,
       "min": 0,
       "orientation": "horizontal",
       "style": "IPY_MODEL_a26d27120b4f4527811676fd88036e01",
       "tabbable": null,
       "tooltip": null,
       "value": 256220771
      }
     },
     "72459e67979947d0af6c347b32baebf3": {
      "model_module": "@jupyter-widgets/controls",
      "model_module_version": "2.0.0",
      "model_name": "HTMLStyleModel",
      "state": {
       "_model_module": "@jupyter-widgets/controls",
       "_model_module_version": "2.0.0",
       "_model_name": "HTMLStyleModel",
       "_view_count": null,
       "_view_module": "@jupyter-widgets/base",
       "_view_module_version": "2.0.0",
       "_view_name": "StyleView",
       "background": null,
       "description_width": "",
       "font_size": null,
       "text_color": null
      }
     },
     "7405283e0ea148ee82dba2d7e1b675e1": {
      "model_module": "@jupyter-widgets/controls",
      "model_module_version": "2.0.0",
      "model_name": "ProgressStyleModel",
      "state": {
       "_model_module": "@jupyter-widgets/controls",
       "_model_module_version": "2.0.0",
       "_model_name": "ProgressStyleModel",
       "_view_count": null,
       "_view_module": "@jupyter-widgets/base",
       "_view_module_version": "2.0.0",
       "_view_name": "StyleView",
       "bar_color": null,
       "description_width": ""
      }
     },
     "7d91e860f03748b9b6cd02af029e8211": {
      "model_module": "@jupyter-widgets/controls",
      "model_module_version": "2.0.0",
      "model_name": "HTMLStyleModel",
      "state": {
       "_model_module": "@jupyter-widgets/controls",
       "_model_module_version": "2.0.0",
       "_model_name": "HTMLStyleModel",
       "_view_count": null,
       "_view_module": "@jupyter-widgets/base",
       "_view_module_version": "2.0.0",
       "_view_name": "StyleView",
       "background": null,
       "description_width": "",
       "font_size": null,
       "text_color": null
      }
     },
     "7ec76c98f9174ebdac3e184c99694071": {
      "model_module": "@jupyter-widgets/controls",
      "model_module_version": "2.0.0",
      "model_name": "HBoxModel",
      "state": {
       "_dom_classes": [],
       "_model_module": "@jupyter-widgets/controls",
       "_model_module_version": "2.0.0",
       "_model_name": "HBoxModel",
       "_view_count": null,
       "_view_module": "@jupyter-widgets/controls",
       "_view_module_version": "2.0.0",
       "_view_name": "HBoxView",
       "box_style": "",
       "children": [
        "IPY_MODEL_bb374ae36a824065b8821111a5e80d65",
        "IPY_MODEL_8eae413e8008457eb8ddfc8841e863b0",
        "IPY_MODEL_8ca31d785f8f4a5eb348dbe59099f3fb"
       ],
       "layout": "IPY_MODEL_3014cc50609d4137904a40d293f38852",
       "tabbable": null,
       "tooltip": null
      }
     },
     "8ca31d785f8f4a5eb348dbe59099f3fb": {
      "model_module": "@jupyter-widgets/controls",
      "model_module_version": "2.0.0",
      "model_name": "HTMLModel",
      "state": {
       "_dom_classes": [],
       "_model_module": "@jupyter-widgets/controls",
       "_model_module_version": "2.0.0",
       "_model_name": "HTMLModel",
       "_view_count": null,
       "_view_module": "@jupyter-widgets/controls",
       "_view_module_version": "2.0.0",
       "_view_name": "HTMLView",
       "description": "",
       "description_allow_html": false,
       "layout": "IPY_MODEL_fa67c3fd08cf49d98ad4dbc864398dae",
       "placeholder": "​",
       "style": "IPY_MODEL_30683e1cfd4448dabab593ebb6ce1640",
       "tabbable": null,
       "tooltip": null,
       "value": " 39.6k/39.6k [00:00&lt;00:00, 3.27MB/s]"
      }
     },
     "8e675911abac4a7da6b168b2f92431e0": {
      "model_module": "@jupyter-widgets/base",
      "model_module_version": "2.0.0",
      "model_name": "LayoutModel",
      "state": {
       "_model_module": "@jupyter-widgets/base",
       "_model_module_version": "2.0.0",
       "_model_name": "LayoutModel",
       "_view_count": null,
       "_view_module": "@jupyter-widgets/base",
       "_view_module_version": "2.0.0",
       "_view_name": "LayoutView",
       "align_content": null,
       "align_items": null,
       "align_self": null,
       "border_bottom": null,
       "border_left": null,
       "border_right": null,
       "border_top": null,
       "bottom": null,
       "display": null,
       "flex": null,
       "flex_flow": null,
       "grid_area": null,
       "grid_auto_columns": null,
       "grid_auto_flow": null,
       "grid_auto_rows": null,
       "grid_column": null,
       "grid_gap": null,
       "grid_row": null,
       "grid_template_areas": null,
       "grid_template_columns": null,
       "grid_template_rows": null,
       "height": null,
       "justify_content": null,
       "justify_items": null,
       "left": null,
       "margin": null,
       "max_height": null,
       "max_width": null,
       "min_height": null,
       "min_width": null,
       "object_fit": null,
       "object_position": null,
       "order": null,
       "overflow": null,
       "padding": null,
       "right": null,
       "top": null,
       "visibility": null,
       "width": null
      }
     },
     "8eae413e8008457eb8ddfc8841e863b0": {
      "model_module": "@jupyter-widgets/controls",
      "model_module_version": "2.0.0",
      "model_name": "FloatProgressModel",
      "state": {
       "_dom_classes": [],
       "_model_module": "@jupyter-widgets/controls",
       "_model_module_version": "2.0.0",
       "_model_name": "FloatProgressModel",
       "_view_count": null,
       "_view_module": "@jupyter-widgets/controls",
       "_view_module_version": "2.0.0",
       "_view_name": "ProgressView",
       "bar_style": "success",
       "description": "",
       "description_allow_html": false,
       "layout": "IPY_MODEL_5c0305ea026a438fbedcf1a75199a0ce",
       "max": 39620,
       "min": 0,
       "orientation": "horizontal",
       "style": "IPY_MODEL_f5a93050a94a46c2b295f55a5d7aba4d",
       "tabbable": null,
       "tooltip": null,
       "value": 39620
      }
     },
     "942fd7e00c3940b8bb4957b3fdf12118": {
      "model_module": "@jupyter-widgets/controls",
      "model_module_version": "2.0.0",
      "model_name": "HTMLStyleModel",
      "state": {
       "_model_module": "@jupyter-widgets/controls",
       "_model_module_version": "2.0.0",
       "_model_name": "HTMLStyleModel",
       "_view_count": null,
       "_view_module": "@jupyter-widgets/base",
       "_view_module_version": "2.0.0",
       "_view_name": "StyleView",
       "background": null,
       "description_width": "",
       "font_size": null,
       "text_color": null
      }
     },
     "9bb6ddd8905d47999e97d17cf4c25828": {
      "model_module": "@jupyter-widgets/base",
      "model_module_version": "2.0.0",
      "model_name": "LayoutModel",
      "state": {
       "_model_module": "@jupyter-widgets/base",
       "_model_module_version": "2.0.0",
       "_model_name": "LayoutModel",
       "_view_count": null,
       "_view_module": "@jupyter-widgets/base",
       "_view_module_version": "2.0.0",
       "_view_name": "LayoutView",
       "align_content": null,
       "align_items": null,
       "align_self": null,
       "border_bottom": null,
       "border_left": null,
       "border_right": null,
       "border_top": null,
       "bottom": null,
       "display": null,
       "flex": null,
       "flex_flow": null,
       "grid_area": null,
       "grid_auto_columns": null,
       "grid_auto_flow": null,
       "grid_auto_rows": null,
       "grid_column": null,
       "grid_gap": null,
       "grid_row": null,
       "grid_template_areas": null,
       "grid_template_columns": null,
       "grid_template_rows": null,
       "height": null,
       "justify_content": null,
       "justify_items": null,
       "left": null,
       "margin": null,
       "max_height": null,
       "max_width": null,
       "min_height": null,
       "min_width": null,
       "object_fit": null,
       "object_position": null,
       "order": null,
       "overflow": null,
       "padding": null,
       "right": null,
       "top": null,
       "visibility": null,
       "width": null
      }
     },
     "9d21a4f3af6c4ad7aa26e61a7f1d0c86": {
      "model_module": "@jupyter-widgets/controls",
      "model_module_version": "2.0.0",
      "model_name": "ProgressStyleModel",
      "state": {
       "_model_module": "@jupyter-widgets/controls",
       "_model_module_version": "2.0.0",
       "_model_name": "ProgressStyleModel",
       "_view_count": null,
       "_view_module": "@jupyter-widgets/base",
       "_view_module_version": "2.0.0",
       "_view_name": "StyleView",
       "bar_color": null,
       "description_width": ""
      }
     },
     "9d76a9887d3d470283b692a7488c0330": {
      "model_module": "@jupyter-widgets/controls",
      "model_module_version": "2.0.0",
      "model_name": "HTMLStyleModel",
      "state": {
       "_model_module": "@jupyter-widgets/controls",
       "_model_module_version": "2.0.0",
       "_model_name": "HTMLStyleModel",
       "_view_count": null,
       "_view_module": "@jupyter-widgets/base",
       "_view_module_version": "2.0.0",
       "_view_name": "StyleView",
       "background": null,
       "description_width": "",
       "font_size": null,
       "text_color": null
      }
     },
     "a26d27120b4f4527811676fd88036e01": {
      "model_module": "@jupyter-widgets/controls",
      "model_module_version": "2.0.0",
      "model_name": "ProgressStyleModel",
      "state": {
       "_model_module": "@jupyter-widgets/controls",
       "_model_module_version": "2.0.0",
       "_model_name": "ProgressStyleModel",
       "_view_count": null,
       "_view_module": "@jupyter-widgets/base",
       "_view_module_version": "2.0.0",
       "_view_name": "StyleView",
       "bar_color": null,
       "description_width": ""
      }
     },
     "a672dbde80c04de293afa737ec70d4ce": {
      "model_module": "@jupyter-widgets/base",
      "model_module_version": "2.0.0",
      "model_name": "LayoutModel",
      "state": {
       "_model_module": "@jupyter-widgets/base",
       "_model_module_version": "2.0.0",
       "_model_name": "LayoutModel",
       "_view_count": null,
       "_view_module": "@jupyter-widgets/base",
       "_view_module_version": "2.0.0",
       "_view_name": "LayoutView",
       "align_content": null,
       "align_items": null,
       "align_self": null,
       "border_bottom": null,
       "border_left": null,
       "border_right": null,
       "border_top": null,
       "bottom": null,
       "display": null,
       "flex": null,
       "flex_flow": null,
       "grid_area": null,
       "grid_auto_columns": null,
       "grid_auto_flow": null,
       "grid_auto_rows": null,
       "grid_column": null,
       "grid_gap": null,
       "grid_row": null,
       "grid_template_areas": null,
       "grid_template_columns": null,
       "grid_template_rows": null,
       "height": null,
       "justify_content": null,
       "justify_items": null,
       "left": null,
       "margin": null,
       "max_height": null,
       "max_width": null,
       "min_height": null,
       "min_width": null,
       "object_fit": null,
       "object_position": null,
       "order": null,
       "overflow": null,
       "padding": null,
       "right": null,
       "top": null,
       "visibility": null,
       "width": null
      }
     },
     "aaa79cbdeaa1416a80ad08084416f663": {
      "model_module": "@jupyter-widgets/controls",
      "model_module_version": "2.0.0",
      "model_name": "HTMLStyleModel",
      "state": {
       "_model_module": "@jupyter-widgets/controls",
       "_model_module_version": "2.0.0",
       "_model_name": "HTMLStyleModel",
       "_view_count": null,
       "_view_module": "@jupyter-widgets/base",
       "_view_module_version": "2.0.0",
       "_view_name": "StyleView",
       "background": null,
       "description_width": "",
       "font_size": null,
       "text_color": null
      }
     },
     "aed47622a4274fd79d800f044ab5aab7": {
      "model_module": "@jupyter-widgets/base",
      "model_module_version": "2.0.0",
      "model_name": "LayoutModel",
      "state": {
       "_model_module": "@jupyter-widgets/base",
       "_model_module_version": "2.0.0",
       "_model_name": "LayoutModel",
       "_view_count": null,
       "_view_module": "@jupyter-widgets/base",
       "_view_module_version": "2.0.0",
       "_view_name": "LayoutView",
       "align_content": null,
       "align_items": null,
       "align_self": null,
       "border_bottom": null,
       "border_left": null,
       "border_right": null,
       "border_top": null,
       "bottom": null,
       "display": null,
       "flex": null,
       "flex_flow": null,
       "grid_area": null,
       "grid_auto_columns": null,
       "grid_auto_flow": null,
       "grid_auto_rows": null,
       "grid_column": null,
       "grid_gap": null,
       "grid_row": null,
       "grid_template_areas": null,
       "grid_template_columns": null,
       "grid_template_rows": null,
       "height": null,
       "justify_content": null,
       "justify_items": null,
       "left": null,
       "margin": null,
       "max_height": null,
       "max_width": null,
       "min_height": null,
       "min_width": null,
       "object_fit": null,
       "object_position": null,
       "order": null,
       "overflow": null,
       "padding": null,
       "right": null,
       "top": null,
       "visibility": null,
       "width": null
      }
     },
     "b07c44172e2e48c2b17372c5fa6efbc2": {
      "model_module": "@jupyter-widgets/controls",
      "model_module_version": "2.0.0",
      "model_name": "HTMLModel",
      "state": {
       "_dom_classes": [],
       "_model_module": "@jupyter-widgets/controls",
       "_model_module_version": "2.0.0",
       "_model_name": "HTMLModel",
       "_view_count": null,
       "_view_module": "@jupyter-widgets/controls",
       "_view_module_version": "2.0.0",
       "_view_name": "HTMLView",
       "description": "",
       "description_allow_html": false,
       "layout": "IPY_MODEL_070b90f19a06466c9aff002065404b36",
       "placeholder": "​",
       "style": "IPY_MODEL_c9a73f52cd9945adbfeb0f0649da29a2",
       "tabbable": null,
       "tooltip": null,
       "value": " 50/50 [00:00&lt;00:00, 60.42it/s]"
      }
     },
     "b09fb39d5d434b8c977bba8b986c3d8d": {
      "model_module": "@jupyter-widgets/controls",
      "model_module_version": "2.0.0",
      "model_name": "HTMLModel",
      "state": {
       "_dom_classes": [],
       "_model_module": "@jupyter-widgets/controls",
       "_model_module_version": "2.0.0",
       "_model_name": "HTMLModel",
       "_view_count": null,
       "_view_module": "@jupyter-widgets/controls",
       "_view_module_version": "2.0.0",
       "_view_name": "HTMLView",
       "description": "",
       "description_allow_html": false,
       "layout": "IPY_MODEL_a672dbde80c04de293afa737ec70d4ce",
       "placeholder": "​",
       "style": "IPY_MODEL_1fe1c65e81814dc9b1b677be9fbc6986",
       "tabbable": null,
       "tooltip": null,
       "value": " 256M/256M [00:09&lt;00:00, 26.1MB/s]"
      }
     },
     "b29437c936dd40c3b7d6f30f1691ed62": {
      "model_module": "@jupyter-widgets/controls",
      "model_module_version": "2.0.0",
      "model_name": "HBoxModel",
      "state": {
       "_dom_classes": [],
       "_model_module": "@jupyter-widgets/controls",
       "_model_module_version": "2.0.0",
       "_model_name": "HBoxModel",
       "_view_count": null,
       "_view_module": "@jupyter-widgets/controls",
       "_view_module_version": "2.0.0",
       "_view_name": "HBoxView",
       "box_style": "",
       "children": [
        "IPY_MODEL_c584256bdda54168b44a457cff610c0c",
        "IPY_MODEL_2230b256fc8448c8818ac0a96e1fa209",
        "IPY_MODEL_1ead84ce77624ba482484d3aef432bd5"
       ],
       "layout": "IPY_MODEL_beb01aa9a9ed43ddbde4ddc48392b515",
       "tabbable": null,
       "tooltip": null
      }
     },
     "b343a11243a943c5aeeeab3716d189d9": {
      "model_module": "@jupyter-widgets/base",
      "model_module_version": "2.0.0",
      "model_name": "LayoutModel",
      "state": {
       "_model_module": "@jupyter-widgets/base",
       "_model_module_version": "2.0.0",
       "_model_name": "LayoutModel",
       "_view_count": null,
       "_view_module": "@jupyter-widgets/base",
       "_view_module_version": "2.0.0",
       "_view_name": "LayoutView",
       "align_content": null,
       "align_items": null,
       "align_self": null,
       "border_bottom": null,
       "border_left": null,
       "border_right": null,
       "border_top": null,
       "bottom": null,
       "display": null,
       "flex": null,
       "flex_flow": null,
       "grid_area": null,
       "grid_auto_columns": null,
       "grid_auto_flow": null,
       "grid_auto_rows": null,
       "grid_column": null,
       "grid_gap": null,
       "grid_row": null,
       "grid_template_areas": null,
       "grid_template_columns": null,
       "grid_template_rows": null,
       "height": null,
       "justify_content": null,
       "justify_items": null,
       "left": null,
       "margin": null,
       "max_height": null,
       "max_width": null,
       "min_height": null,
       "min_width": null,
       "object_fit": null,
       "object_position": null,
       "order": null,
       "overflow": null,
       "padding": null,
       "right": null,
       "top": null,
       "visibility": null,
       "width": null
      }
     },
     "b378e846148148d691229cef5dba9dbe": {
      "model_module": "@jupyter-widgets/controls",
      "model_module_version": "2.0.0",
      "model_name": "HTMLStyleModel",
      "state": {
       "_model_module": "@jupyter-widgets/controls",
       "_model_module_version": "2.0.0",
       "_model_name": "HTMLStyleModel",
       "_view_count": null,
       "_view_module": "@jupyter-widgets/base",
       "_view_module_version": "2.0.0",
       "_view_name": "StyleView",
       "background": null,
       "description_width": "",
       "font_size": null,
       "text_color": null
      }
     },
     "b5e3077c74cc477b9410764db5578083": {
      "model_module": "@jupyter-widgets/base",
      "model_module_version": "2.0.0",
      "model_name": "LayoutModel",
      "state": {
       "_model_module": "@jupyter-widgets/base",
       "_model_module_version": "2.0.0",
       "_model_name": "LayoutModel",
       "_view_count": null,
       "_view_module": "@jupyter-widgets/base",
       "_view_module_version": "2.0.0",
       "_view_name": "LayoutView",
       "align_content": null,
       "align_items": null,
       "align_self": null,
       "border_bottom": null,
       "border_left": null,
       "border_right": null,
       "border_top": null,
       "bottom": null,
       "display": null,
       "flex": null,
       "flex_flow": null,
       "grid_area": null,
       "grid_auto_columns": null,
       "grid_auto_flow": null,
       "grid_auto_rows": null,
       "grid_column": null,
       "grid_gap": null,
       "grid_row": null,
       "grid_template_areas": null,
       "grid_template_columns": null,
       "grid_template_rows": null,
       "height": null,
       "justify_content": null,
       "justify_items": null,
       "left": null,
       "margin": null,
       "max_height": null,
       "max_width": null,
       "min_height": null,
       "min_width": null,
       "object_fit": null,
       "object_position": null,
       "order": null,
       "overflow": null,
       "padding": null,
       "right": null,
       "top": null,
       "visibility": null,
       "width": null
      }
     },
     "b5fe02dae8e545cba65ebad8e0f694af": {
      "model_module": "@jupyter-widgets/controls",
      "model_module_version": "2.0.0",
      "model_name": "FloatProgressModel",
      "state": {
       "_dom_classes": [],
       "_model_module": "@jupyter-widgets/controls",
       "_model_module_version": "2.0.0",
       "_model_name": "FloatProgressModel",
       "_view_count": null,
       "_view_module": "@jupyter-widgets/controls",
       "_view_module_version": "2.0.0",
       "_view_name": "ProgressView",
       "bar_style": "success",
       "description": "",
       "description_allow_html": false,
       "layout": "IPY_MODEL_024532ee570141c7bfdb7732e8ac0fd7",
       "max": 1,
       "min": 0,
       "orientation": "horizontal",
       "style": "IPY_MODEL_21e643ee754340ddad2ef6bfab91b40f",
       "tabbable": null,
       "tooltip": null,
       "value": 1
      }
     },
     "b6cf76737df6477780508c36f565eaac": {
      "model_module": "@jupyter-widgets/controls",
      "model_module_version": "2.0.0",
      "model_name": "HTMLStyleModel",
      "state": {
       "_model_module": "@jupyter-widgets/controls",
       "_model_module_version": "2.0.0",
       "_model_name": "HTMLStyleModel",
       "_view_count": null,
       "_view_module": "@jupyter-widgets/base",
       "_view_module_version": "2.0.0",
       "_view_name": "StyleView",
       "background": null,
       "description_width": "",
       "font_size": null,
       "text_color": null
      }
     },
     "b71df37ea64f4fc28a8a0a5a477d3f14": {
      "model_module": "@jupyter-widgets/controls",
      "model_module_version": "2.0.0",
      "model_name": "HTMLModel",
      "state": {
       "_dom_classes": [],
       "_model_module": "@jupyter-widgets/controls",
       "_model_module_version": "2.0.0",
       "_model_name": "HTMLModel",
       "_view_count": null,
       "_view_module": "@jupyter-widgets/controls",
       "_view_module_version": "2.0.0",
       "_view_name": "HTMLView",
       "description": "",
       "description_allow_html": false,
       "layout": "IPY_MODEL_3f724866a58040bd85be3d4cf44fe717",
       "placeholder": "​",
       "style": "IPY_MODEL_b378e846148148d691229cef5dba9dbe",
       "tabbable": null,
       "tooltip": null,
       "value": " 30.3k/30.3k [00:00&lt;00:00, 2.14MB/s]"
      }
     },
     "bb374ae36a824065b8821111a5e80d65": {
      "model_module": "@jupyter-widgets/controls",
      "model_module_version": "2.0.0",
      "model_name": "HTMLModel",
      "state": {
       "_dom_classes": [],
       "_model_module": "@jupyter-widgets/controls",
       "_model_module_version": "2.0.0",
       "_model_name": "HTMLModel",
       "_view_count": null,
       "_view_module": "@jupyter-widgets/controls",
       "_view_module_version": "2.0.0",
       "_view_name": "HTMLView",
       "description": "",
       "description_allow_html": false,
       "layout": "IPY_MODEL_1a635424cbbf4274abdb61232605a78a",
       "placeholder": "​",
       "style": "IPY_MODEL_c1088a19dbd9402e8dd5547569092581",
       "tabbable": null,
       "tooltip": null,
       "value": "Amazon-Reviews-2023.py: 100%"
      }
     },
     "bb429fa9981449caad9b5546a78a8026": {
      "model_module": "@jupyter-widgets/controls",
      "model_module_version": "2.0.0",
      "model_name": "HTMLModel",
      "state": {
       "_dom_classes": [],
       "_model_module": "@jupyter-widgets/controls",
       "_model_module_version": "2.0.0",
       "_model_name": "HTMLModel",
       "_view_count": null,
       "_view_module": "@jupyter-widgets/controls",
       "_view_module_version": "2.0.0",
       "_view_name": "HTMLView",
       "description": "",
       "description_allow_html": false,
       "layout": "IPY_MODEL_8e675911abac4a7da6b168b2f92431e0",
       "placeholder": "​",
       "style": "IPY_MODEL_ef3ac10e6b8241d8beb71504a260ea90",
       "tabbable": null,
       "tooltip": null,
       "value": " 1/1 [00:00&lt;00:00, 118.47it/s]"
      }
     },
     "bd2fbf77decb466cb0945e67fb3955a7": {
      "model_module": "@jupyter-widgets/base",
      "model_module_version": "2.0.0",
      "model_name": "LayoutModel",
      "state": {
       "_model_module": "@jupyter-widgets/base",
       "_model_module_version": "2.0.0",
       "_model_name": "LayoutModel",
       "_view_count": null,
       "_view_module": "@jupyter-widgets/base",
       "_view_module_version": "2.0.0",
       "_view_name": "LayoutView",
       "align_content": null,
       "align_items": null,
       "align_self": null,
       "border_bottom": null,
       "border_left": null,
       "border_right": null,
       "border_top": null,
       "bottom": null,
       "display": null,
       "flex": null,
       "flex_flow": null,
       "grid_area": null,
       "grid_auto_columns": null,
       "grid_auto_flow": null,
       "grid_auto_rows": null,
       "grid_column": null,
       "grid_gap": null,
       "grid_row": null,
       "grid_template_areas": null,
       "grid_template_columns": null,
       "grid_template_rows": null,
       "height": null,
       "justify_content": null,
       "justify_items": null,
       "left": null,
       "margin": null,
       "max_height": null,
       "max_width": null,
       "min_height": null,
       "min_width": null,
       "object_fit": null,
       "object_position": null,
       "order": null,
       "overflow": null,
       "padding": null,
       "right": null,
       "top": null,
       "visibility": null,
       "width": null
      }
     },
     "beb01aa9a9ed43ddbde4ddc48392b515": {
      "model_module": "@jupyter-widgets/base",
      "model_module_version": "2.0.0",
      "model_name": "LayoutModel",
      "state": {
       "_model_module": "@jupyter-widgets/base",
       "_model_module_version": "2.0.0",
       "_model_name": "LayoutModel",
       "_view_count": null,
       "_view_module": "@jupyter-widgets/base",
       "_view_module_version": "2.0.0",
       "_view_name": "LayoutView",
       "align_content": null,
       "align_items": null,
       "align_self": null,
       "border_bottom": null,
       "border_left": null,
       "border_right": null,
       "border_top": null,
       "bottom": null,
       "display": null,
       "flex": null,
       "flex_flow": null,
       "grid_area": null,
       "grid_auto_columns": null,
       "grid_auto_flow": null,
       "grid_auto_rows": null,
       "grid_column": null,
       "grid_gap": null,
       "grid_row": null,
       "grid_template_areas": null,
       "grid_template_columns": null,
       "grid_template_rows": null,
       "height": null,
       "justify_content": null,
       "justify_items": null,
       "left": null,
       "margin": null,
       "max_height": null,
       "max_width": null,
       "min_height": null,
       "min_width": null,
       "object_fit": null,
       "object_position": null,
       "order": null,
       "overflow": null,
       "padding": null,
       "right": null,
       "top": null,
       "visibility": null,
       "width": null
      }
     },
     "c1032b61fd274e7991069d3044739734": {
      "model_module": "@jupyter-widgets/controls",
      "model_module_version": "2.0.0",
      "model_name": "HBoxModel",
      "state": {
       "_dom_classes": [],
       "_model_module": "@jupyter-widgets/controls",
       "_model_module_version": "2.0.0",
       "_model_name": "HBoxModel",
       "_view_count": null,
       "_view_module": "@jupyter-widgets/controls",
       "_view_module_version": "2.0.0",
       "_view_name": "HBoxView",
       "box_style": "",
       "children": [
        "IPY_MODEL_5a1a9822e0344845ba57e49711c1b7d7",
        "IPY_MODEL_1ae49e6c69d14ab4bace3639b4dddf8d",
        "IPY_MODEL_1c0748e96e0e42c599bb4a88f64a7161"
       ],
       "layout": "IPY_MODEL_bd2fbf77decb466cb0945e67fb3955a7",
       "tabbable": null,
       "tooltip": null
      }
     },
     "c1088a19dbd9402e8dd5547569092581": {
      "model_module": "@jupyter-widgets/controls",
      "model_module_version": "2.0.0",
      "model_name": "HTMLStyleModel",
      "state": {
       "_model_module": "@jupyter-widgets/controls",
       "_model_module_version": "2.0.0",
       "_model_name": "HTMLStyleModel",
       "_view_count": null,
       "_view_module": "@jupyter-widgets/base",
       "_view_module_version": "2.0.0",
       "_view_name": "StyleView",
       "background": null,
       "description_width": "",
       "font_size": null,
       "text_color": null
      }
     },
     "c2eb174ee6574aa89655bf72765bcd52": {
      "model_module": "@jupyter-widgets/controls",
      "model_module_version": "2.0.0",
      "model_name": "ProgressStyleModel",
      "state": {
       "_model_module": "@jupyter-widgets/controls",
       "_model_module_version": "2.0.0",
       "_model_name": "ProgressStyleModel",
       "_view_count": null,
       "_view_module": "@jupyter-widgets/base",
       "_view_module_version": "2.0.0",
       "_view_name": "StyleView",
       "bar_color": null,
       "description_width": ""
      }
     },
     "c584256bdda54168b44a457cff610c0c": {
      "model_module": "@jupyter-widgets/controls",
      "model_module_version": "2.0.0",
      "model_name": "HTMLModel",
      "state": {
       "_dom_classes": [],
       "_model_module": "@jupyter-widgets/controls",
       "_model_module_version": "2.0.0",
       "_model_name": "HTMLModel",
       "_view_count": null,
       "_view_module": "@jupyter-widgets/controls",
       "_view_module_version": "2.0.0",
       "_view_name": "HTMLView",
       "description": "",
       "description_allow_html": false,
       "layout": "IPY_MODEL_20aa608624f74c189c02448d3ae3a2a4",
       "placeholder": "​",
       "style": "IPY_MODEL_d20a1c96807f493d88afb907c1b0b575",
       "tabbable": null,
       "tooltip": null,
       "value": "Generating full split: "
      }
     },
     "c84b8f0757984d26ae51c132ada60118": {
      "model_module": "@jupyter-widgets/controls",
      "model_module_version": "2.0.0",
      "model_name": "FloatProgressModel",
      "state": {
       "_dom_classes": [],
       "_model_module": "@jupyter-widgets/controls",
       "_model_module_version": "2.0.0",
       "_model_name": "FloatProgressModel",
       "_view_count": null,
       "_view_module": "@jupyter-widgets/controls",
       "_view_module_version": "2.0.0",
       "_view_name": "ProgressView",
       "bar_style": "success",
       "description": "",
       "description_allow_html": false,
       "layout": "IPY_MODEL_283721db167b49c4b77452dfc34ca0f8",
       "max": 50,
       "min": 0,
       "orientation": "horizontal",
       "style": "IPY_MODEL_e232b944d6814395b02435ea550a5ed1",
       "tabbable": null,
       "tooltip": null,
       "value": 50
      }
     },
     "c9a73f52cd9945adbfeb0f0649da29a2": {
      "model_module": "@jupyter-widgets/controls",
      "model_module_version": "2.0.0",
      "model_name": "HTMLStyleModel",
      "state": {
       "_model_module": "@jupyter-widgets/controls",
       "_model_module_version": "2.0.0",
       "_model_name": "HTMLStyleModel",
       "_view_count": null,
       "_view_module": "@jupyter-widgets/base",
       "_view_module_version": "2.0.0",
       "_view_name": "StyleView",
       "background": null,
       "description_width": "",
       "font_size": null,
       "text_color": null
      }
     },
     "cb91273ed75b48d3859f68f1c1c5b784": {
      "model_module": "@jupyter-widgets/base",
      "model_module_version": "2.0.0",
      "model_name": "LayoutModel",
      "state": {
       "_model_module": "@jupyter-widgets/base",
       "_model_module_version": "2.0.0",
       "_model_name": "LayoutModel",
       "_view_count": null,
       "_view_module": "@jupyter-widgets/base",
       "_view_module_version": "2.0.0",
       "_view_name": "LayoutView",
       "align_content": null,
       "align_items": null,
       "align_self": null,
       "border_bottom": null,
       "border_left": null,
       "border_right": null,
       "border_top": null,
       "bottom": null,
       "display": null,
       "flex": null,
       "flex_flow": null,
       "grid_area": null,
       "grid_auto_columns": null,
       "grid_auto_flow": null,
       "grid_auto_rows": null,
       "grid_column": null,
       "grid_gap": null,
       "grid_row": null,
       "grid_template_areas": null,
       "grid_template_columns": null,
       "grid_template_rows": null,
       "height": null,
       "justify_content": null,
       "justify_items": null,
       "left": null,
       "margin": null,
       "max_height": null,
       "max_width": null,
       "min_height": null,
       "min_width": null,
       "object_fit": null,
       "object_position": null,
       "order": null,
       "overflow": null,
       "padding": null,
       "right": null,
       "top": null,
       "visibility": null,
       "width": null
      }
     },
     "d20a1c96807f493d88afb907c1b0b575": {
      "model_module": "@jupyter-widgets/controls",
      "model_module_version": "2.0.0",
      "model_name": "HTMLStyleModel",
      "state": {
       "_model_module": "@jupyter-widgets/controls",
       "_model_module_version": "2.0.0",
       "_model_name": "HTMLStyleModel",
       "_view_count": null,
       "_view_module": "@jupyter-widgets/base",
       "_view_module_version": "2.0.0",
       "_view_name": "StyleView",
       "background": null,
       "description_width": "",
       "font_size": null,
       "text_color": null
      }
     },
     "d9004a391e5442edaf8c4d14cfe2347d": {
      "model_module": "@jupyter-widgets/controls",
      "model_module_version": "2.0.0",
      "model_name": "HTMLModel",
      "state": {
       "_dom_classes": [],
       "_model_module": "@jupyter-widgets/controls",
       "_model_module_version": "2.0.0",
       "_model_name": "HTMLModel",
       "_view_count": null,
       "_view_module": "@jupyter-widgets/controls",
       "_view_module_version": "2.0.0",
       "_view_name": "HTMLView",
       "description": "",
       "description_allow_html": false,
       "layout": "IPY_MODEL_efcf99bd6b8243178da77cab97467fc6",
       "placeholder": "​",
       "style": "IPY_MODEL_aaa79cbdeaa1416a80ad08084416f663",
       "tabbable": null,
       "tooltip": null,
       "value": "Generating full split: "
      }
     },
     "dbb743920df44e38ac71b049260dfd5d": {
      "model_module": "@jupyter-widgets/controls",
      "model_module_version": "2.0.0",
      "model_name": "HTMLStyleModel",
      "state": {
       "_model_module": "@jupyter-widgets/controls",
       "_model_module_version": "2.0.0",
       "_model_name": "HTMLStyleModel",
       "_view_count": null,
       "_view_module": "@jupyter-widgets/base",
       "_view_module_version": "2.0.0",
       "_view_name": "StyleView",
       "background": null,
       "description_width": "",
       "font_size": null,
       "text_color": null
      }
     },
     "df810382f9eb48b1a4787fa71c9850d2": {
      "model_module": "@jupyter-widgets/base",
      "model_module_version": "2.0.0",
      "model_name": "LayoutModel",
      "state": {
       "_model_module": "@jupyter-widgets/base",
       "_model_module_version": "2.0.0",
       "_model_name": "LayoutModel",
       "_view_count": null,
       "_view_module": "@jupyter-widgets/base",
       "_view_module_version": "2.0.0",
       "_view_name": "LayoutView",
       "align_content": null,
       "align_items": null,
       "align_self": null,
       "border_bottom": null,
       "border_left": null,
       "border_right": null,
       "border_top": null,
       "bottom": null,
       "display": null,
       "flex": null,
       "flex_flow": null,
       "grid_area": null,
       "grid_auto_columns": null,
       "grid_auto_flow": null,
       "grid_auto_rows": null,
       "grid_column": null,
       "grid_gap": null,
       "grid_row": null,
       "grid_template_areas": null,
       "grid_template_columns": null,
       "grid_template_rows": null,
       "height": null,
       "justify_content": null,
       "justify_items": null,
       "left": null,
       "margin": null,
       "max_height": null,
       "max_width": null,
       "min_height": null,
       "min_width": null,
       "object_fit": null,
       "object_position": null,
       "order": null,
       "overflow": null,
       "padding": null,
       "right": null,
       "top": null,
       "visibility": null,
       "width": null
      }
     },
     "e232b944d6814395b02435ea550a5ed1": {
      "model_module": "@jupyter-widgets/controls",
      "model_module_version": "2.0.0",
      "model_name": "ProgressStyleModel",
      "state": {
       "_model_module": "@jupyter-widgets/controls",
       "_model_module_version": "2.0.0",
       "_model_name": "ProgressStyleModel",
       "_view_count": null,
       "_view_module": "@jupyter-widgets/base",
       "_view_module_version": "2.0.0",
       "_view_name": "StyleView",
       "bar_color": null,
       "description_width": ""
      }
     },
     "e24b991ad13b461790ec84be6a8c7888": {
      "model_module": "@jupyter-widgets/controls",
      "model_module_version": "2.0.0",
      "model_name": "HTMLStyleModel",
      "state": {
       "_model_module": "@jupyter-widgets/controls",
       "_model_module_version": "2.0.0",
       "_model_name": "HTMLStyleModel",
       "_view_count": null,
       "_view_module": "@jupyter-widgets/base",
       "_view_module_version": "2.0.0",
       "_view_name": "StyleView",
       "background": null,
       "description_width": "",
       "font_size": null,
       "text_color": null
      }
     },
     "e3263f6c7a104efca4b75187c6d6d0ec": {
      "model_module": "@jupyter-widgets/base",
      "model_module_version": "2.0.0",
      "model_name": "LayoutModel",
      "state": {
       "_model_module": "@jupyter-widgets/base",
       "_model_module_version": "2.0.0",
       "_model_name": "LayoutModel",
       "_view_count": null,
       "_view_module": "@jupyter-widgets/base",
       "_view_module_version": "2.0.0",
       "_view_name": "LayoutView",
       "align_content": null,
       "align_items": null,
       "align_self": null,
       "border_bottom": null,
       "border_left": null,
       "border_right": null,
       "border_top": null,
       "bottom": null,
       "display": null,
       "flex": null,
       "flex_flow": null,
       "grid_area": null,
       "grid_auto_columns": null,
       "grid_auto_flow": null,
       "grid_auto_rows": null,
       "grid_column": null,
       "grid_gap": null,
       "grid_row": null,
       "grid_template_areas": null,
       "grid_template_columns": null,
       "grid_template_rows": null,
       "height": null,
       "justify_content": null,
       "justify_items": null,
       "left": null,
       "margin": null,
       "max_height": null,
       "max_width": null,
       "min_height": null,
       "min_width": null,
       "object_fit": null,
       "object_position": null,
       "order": null,
       "overflow": null,
       "padding": null,
       "right": null,
       "top": null,
       "visibility": null,
       "width": null
      }
     },
     "e99ed6d97f3942bd93d994804378a007": {
      "model_module": "@jupyter-widgets/controls",
      "model_module_version": "2.0.0",
      "model_name": "HTMLModel",
      "state": {
       "_dom_classes": [],
       "_model_module": "@jupyter-widgets/controls",
       "_model_module_version": "2.0.0",
       "_model_name": "HTMLModel",
       "_view_count": null,
       "_view_module": "@jupyter-widgets/controls",
       "_view_module_version": "2.0.0",
       "_view_name": "HTMLView",
       "description": "",
       "description_allow_html": false,
       "layout": "IPY_MODEL_e3263f6c7a104efca4b75187c6d6d0ec",
       "placeholder": "​",
       "style": "IPY_MODEL_dbb743920df44e38ac71b049260dfd5d",
       "tabbable": null,
       "tooltip": null,
       "value": "README.md: 100%"
      }
     },
     "ea626c66f4e54806935ab373295c63ce": {
      "model_module": "@jupyter-widgets/controls",
      "model_module_version": "2.0.0",
      "model_name": "ProgressStyleModel",
      "state": {
       "_model_module": "@jupyter-widgets/controls",
       "_model_module_version": "2.0.0",
       "_model_name": "ProgressStyleModel",
       "_view_count": null,
       "_view_module": "@jupyter-widgets/base",
       "_view_module_version": "2.0.0",
       "_view_name": "StyleView",
       "bar_color": null,
       "description_width": ""
      }
     },
     "ea91ea29923c44808800ff92909a5588": {
      "model_module": "@jupyter-widgets/controls",
      "model_module_version": "2.0.0",
      "model_name": "FloatProgressModel",
      "state": {
       "_dom_classes": [],
       "_model_module": "@jupyter-widgets/controls",
       "_model_module_version": "2.0.0",
       "_model_name": "FloatProgressModel",
       "_view_count": null,
       "_view_module": "@jupyter-widgets/controls",
       "_view_module_version": "2.0.0",
       "_view_name": "ProgressView",
       "bar_style": "success",
       "description": "",
       "description_allow_html": false,
       "layout": "IPY_MODEL_9bb6ddd8905d47999e97d17cf4c25828",
       "max": 1,
       "min": 0,
       "orientation": "horizontal",
       "style": "IPY_MODEL_ea626c66f4e54806935ab373295c63ce",
       "tabbable": null,
       "tooltip": null,
       "value": 1
      }
     },
     "ef3ac10e6b8241d8beb71504a260ea90": {
      "model_module": "@jupyter-widgets/controls",
      "model_module_version": "2.0.0",
      "model_name": "HTMLStyleModel",
      "state": {
       "_model_module": "@jupyter-widgets/controls",
       "_model_module_version": "2.0.0",
       "_model_name": "HTMLStyleModel",
       "_view_count": null,
       "_view_module": "@jupyter-widgets/base",
       "_view_module_version": "2.0.0",
       "_view_name": "StyleView",
       "background": null,
       "description_width": "",
       "font_size": null,
       "text_color": null
      }
     },
     "efcf99bd6b8243178da77cab97467fc6": {
      "model_module": "@jupyter-widgets/base",
      "model_module_version": "2.0.0",
      "model_name": "LayoutModel",
      "state": {
       "_model_module": "@jupyter-widgets/base",
       "_model_module_version": "2.0.0",
       "_model_name": "LayoutModel",
       "_view_count": null,
       "_view_module": "@jupyter-widgets/base",
       "_view_module_version": "2.0.0",
       "_view_name": "LayoutView",
       "align_content": null,
       "align_items": null,
       "align_self": null,
       "border_bottom": null,
       "border_left": null,
       "border_right": null,
       "border_top": null,
       "bottom": null,
       "display": null,
       "flex": null,
       "flex_flow": null,
       "grid_area": null,
       "grid_auto_columns": null,
       "grid_auto_flow": null,
       "grid_auto_rows": null,
       "grid_column": null,
       "grid_gap": null,
       "grid_row": null,
       "grid_template_areas": null,
       "grid_template_columns": null,
       "grid_template_rows": null,
       "height": null,
       "justify_content": null,
       "justify_items": null,
       "left": null,
       "margin": null,
       "max_height": null,
       "max_width": null,
       "min_height": null,
       "min_width": null,
       "object_fit": null,
       "object_position": null,
       "order": null,
       "overflow": null,
       "padding": null,
       "right": null,
       "top": null,
       "visibility": null,
       "width": null
      }
     },
     "f1e6f77c3cb34ecba34bfd17b072d8d6": {
      "model_module": "@jupyter-widgets/controls",
      "model_module_version": "2.0.0",
      "model_name": "HTMLModel",
      "state": {
       "_dom_classes": [],
       "_model_module": "@jupyter-widgets/controls",
       "_model_module_version": "2.0.0",
       "_model_name": "HTMLModel",
       "_view_count": null,
       "_view_module": "@jupyter-widgets/controls",
       "_view_module_version": "2.0.0",
       "_view_name": "HTMLView",
       "description": "",
       "description_allow_html": false,
       "layout": "IPY_MODEL_64475ba735c64eea9a12272035a67fab",
       "placeholder": "​",
       "style": "IPY_MODEL_2e1497814ae24afc89cfd851a7354989",
       "tabbable": null,
       "tooltip": null,
       "value": " 89251/0 [00:27&lt;00:00, 3626.40 examples/s]"
      }
     },
     "f352dbf953284aeda19356ad11006f5f": {
      "model_module": "@jupyter-widgets/controls",
      "model_module_version": "2.0.0",
      "model_name": "HTMLStyleModel",
      "state": {
       "_model_module": "@jupyter-widgets/controls",
       "_model_module_version": "2.0.0",
       "_model_name": "HTMLStyleModel",
       "_view_count": null,
       "_view_module": "@jupyter-widgets/base",
       "_view_module_version": "2.0.0",
       "_view_name": "StyleView",
       "background": null,
       "description_width": "",
       "font_size": null,
       "text_color": null
      }
     },
     "f569d37e4ba44114a8faaa28475d69d9": {
      "model_module": "@jupyter-widgets/controls",
      "model_module_version": "2.0.0",
      "model_name": "FloatProgressModel",
      "state": {
       "_dom_classes": [],
       "_model_module": "@jupyter-widgets/controls",
       "_model_module_version": "2.0.0",
       "_model_name": "FloatProgressModel",
       "_view_count": null,
       "_view_module": "@jupyter-widgets/controls",
       "_view_module_version": "2.0.0",
       "_view_name": "ProgressView",
       "bar_style": "success",
       "description": "",
       "description_allow_html": false,
       "layout": "IPY_MODEL_66d94a77c45949a7a24a20f0b55601d0",
       "max": 30343,
       "min": 0,
       "orientation": "horizontal",
       "style": "IPY_MODEL_c2eb174ee6574aa89655bf72765bcd52",
       "tabbable": null,
       "tooltip": null,
       "value": 30343
      }
     },
     "f5a93050a94a46c2b295f55a5d7aba4d": {
      "model_module": "@jupyter-widgets/controls",
      "model_module_version": "2.0.0",
      "model_name": "ProgressStyleModel",
      "state": {
       "_model_module": "@jupyter-widgets/controls",
       "_model_module_version": "2.0.0",
       "_model_name": "ProgressStyleModel",
       "_view_count": null,
       "_view_module": "@jupyter-widgets/base",
       "_view_module_version": "2.0.0",
       "_view_name": "StyleView",
       "bar_color": null,
       "description_width": ""
      }
     },
     "fa67c3fd08cf49d98ad4dbc864398dae": {
      "model_module": "@jupyter-widgets/base",
      "model_module_version": "2.0.0",
      "model_name": "LayoutModel",
      "state": {
       "_model_module": "@jupyter-widgets/base",
       "_model_module_version": "2.0.0",
       "_model_name": "LayoutModel",
       "_view_count": null,
       "_view_module": "@jupyter-widgets/base",
       "_view_module_version": "2.0.0",
       "_view_name": "LayoutView",
       "align_content": null,
       "align_items": null,
       "align_self": null,
       "border_bottom": null,
       "border_left": null,
       "border_right": null,
       "border_top": null,
       "bottom": null,
       "display": null,
       "flex": null,
       "flex_flow": null,
       "grid_area": null,
       "grid_auto_columns": null,
       "grid_auto_flow": null,
       "grid_auto_rows": null,
       "grid_column": null,
       "grid_gap": null,
       "grid_row": null,
       "grid_template_areas": null,
       "grid_template_columns": null,
       "grid_template_rows": null,
       "height": null,
       "justify_content": null,
       "justify_items": null,
       "left": null,
       "margin": null,
       "max_height": null,
       "max_width": null,
       "min_height": null,
       "min_width": null,
       "object_fit": null,
       "object_position": null,
       "order": null,
       "overflow": null,
       "padding": null,
       "right": null,
       "top": null,
       "visibility": null,
       "width": null
      }
     }
    },
    "version_major": 2,
    "version_minor": 0
   }
  }
 },
 "nbformat": 4,
 "nbformat_minor": 5
}