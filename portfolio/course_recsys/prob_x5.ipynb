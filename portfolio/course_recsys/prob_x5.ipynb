{
 "cells": [
  {
   "metadata": {
    "id": "nNzmA4NX9JSe",
    "papermill": {
     "duration": 0.009105,
     "end_time": "2025-01-22T20:18:14.992990",
     "exception": false,
     "start_time": "2025-01-22T20:18:14.983885",
     "status": "completed"
    },
    "tags": []
   },
   "id": "b9484366",
   "cell_type": "markdown",
   "source": "# **Реализация X-Learner**\n\n[![GitHub](https://img.shields.io/badge/Download-28343D?style=for-the-badge&logo=jupyter&logoColor=white)](https://shtrausslearning.github.io/notebooks/course_recsys/prob_x5.ipynb)\n\n## **1 | Задание**\n\n- Повторите метод **`X-learner`** перекрестной зависимости для обучения моделей.\n- Обратите внимание, что вам необходимо реализовать метод без использования встроенных подходов\n- Воспользуйтесь датасетами **`fetch_x5`**, которые были использованы в демонстрации на вебинаре.\n- Разбейте данные на выборки train, valid, test.\n- Обратите внимание, что для обучения перекрестной зависимости вам необходимо использовать выборки контрольной и тестовой групп независимо друг от друга.\n    - Обучите независимо базовые модели на данных контрольной группы и целевой.\n    - Скорректируйте таргет.\n    - Обучите модели на скорректированных таргетах.\n    - Оцените качество полученной модели X-learner на **тестовой выборке** при разных значениях **параметра g**. Сравните по метрике **uplift@10%** с моделями, полученными на вебинаре.\n- Опционально: замерьте качество полученной модели по другим метрикам, которые вы знаете."
  },
  {
   "metadata": {
    "execution": {
     "iopub.execute_input": "2025-01-22T20:18:15.008612Z",
     "iopub.status.busy": "2025-01-22T20:18:15.008169Z",
     "iopub.status.idle": "2025-01-22T20:18:18.915854Z",
     "shell.execute_reply": "2025-01-22T20:18:18.914407Z"
    },
    "papermill": {
     "duration": 3.918191,
     "end_time": "2025-01-22T20:18:18.918145",
     "exception": false,
     "start_time": "2025-01-22T20:18:14.999954",
     "status": "completed"
    },
    "tags": [],
    "trusted": false
   },
   "id": "bea54d4f",
   "cell_type": "code",
   "source": "from sklearn.model_selection import train_test_split\nfrom sklearn.model_selection import StratifiedKFold\nfrom sklearn.preprocessing import LabelEncoder\nfrom catboost import CatBoostRegressor\nfrom matplotlib import pyplot as plt\nimport seaborn as sns\nimport pandas as pd\nimport numpy as np\n\nimport warnings\nwarnings.filterwarnings('ignore')",
   "execution_count": 1,
   "outputs": []
  },
  {
   "metadata": {
    "execution": {
     "iopub.execute_input": "2025-01-22T20:18:18.933212Z",
     "iopub.status.busy": "2025-01-22T20:18:18.932572Z",
     "iopub.status.idle": "2025-01-22T20:18:18.937017Z",
     "shell.execute_reply": "2025-01-22T20:18:18.936015Z"
    },
    "papermill": {
     "duration": 0.014065,
     "end_time": "2025-01-22T20:18:18.939154",
     "exception": false,
     "start_time": "2025-01-22T20:18:18.925089",
     "status": "completed"
    },
    "tags": [],
    "trusted": false
   },
   "id": "063c9624",
   "cell_type": "code",
   "source": "random_state = 47\nk = 0.1",
   "execution_count": 2,
   "outputs": []
  },
  {
   "metadata": {
    "execution": {
     "iopub.execute_input": "2025-01-22T20:18:18.953663Z",
     "iopub.status.busy": "2025-01-22T20:18:18.953340Z",
     "iopub.status.idle": "2025-01-22T20:18:18.959117Z",
     "shell.execute_reply": "2025-01-22T20:18:18.957803Z"
    },
    "papermill": {
     "duration": 0.015298,
     "end_time": "2025-01-22T20:18:18.961260",
     "exception": false,
     "start_time": "2025-01-22T20:18:18.945962",
     "status": "completed"
    },
    "tags": [],
    "trusted": false
   },
   "id": "e872b2e1",
   "cell_type": "code",
   "source": "# функция для оценки uplift@k\ndef uplift_at_k(uplift_scores, y_true, treatment, k):\n    \n    n_top = int(len(uplift_scores) * k)\n    indices = np.argsort(-uplift_scores)[:n_top]\n    \n    treat_top = treatment.iloc[indices]\n    y_top = y_true.iloc[indices]\n    return y_top[treat_top == 1].mean() - y_top[treat_top == 0].mean()",
   "execution_count": 3,
   "outputs": []
  },
  {
   "metadata": {
    "execution": {
     "iopub.execute_input": "2025-01-22T20:18:18.977583Z",
     "iopub.status.busy": "2025-01-22T20:18:18.977242Z",
     "iopub.status.idle": "2025-01-22T20:18:18.982146Z",
     "shell.execute_reply": "2025-01-22T20:18:18.980789Z"
    },
    "papermill": {
     "duration": 0.01519,
     "end_time": "2025-01-22T20:18:18.984215",
     "exception": false,
     "start_time": "2025-01-22T20:18:18.969025",
     "status": "completed"
    },
    "tags": [],
    "trusted": false
   },
   "id": "7e79be1b",
   "cell_type": "code",
   "source": "models_results = {\n    'approach': [],\n    f'train_uplift@{k*100}%': [],\n    f'test_uplift@{k*100}%': []\n}",
   "execution_count": 4,
   "outputs": []
  },
  {
   "metadata": {
    "id": "DfrkF0FP9JSi",
    "papermill": {
     "duration": 0.0063,
     "end_time": "2025-01-22T20:18:18.997247",
     "exception": false,
     "start_time": "2025-01-22T20:18:18.990947",
     "status": "completed"
    },
    "tags": []
   },
   "id": "61ad2008",
   "cell_type": "markdown",
   "source": "## **2 | Читаем данныем**\n\nИспользуем датасет **`fetch_x5_clients`**\n\n- **`treatment_flg`** : вектор воздействии с клиентом, данные содердат клиенты с которыми мы взаимодействовали (treatment_flg=1) [target] и те с которыми мы не взаимодействовали (treatment_flg=0) [control]\n- **`target`** : результат воздействия, негативный результат (target = 0), позитивны результат (target = 1)"
  },
  {
   "metadata": {
    "execution": {
     "iopub.execute_input": "2025-01-22T20:18:19.013697Z",
     "iopub.status.busy": "2025-01-22T20:18:19.013242Z",
     "iopub.status.idle": "2025-01-22T20:18:20.648242Z",
     "shell.execute_reply": "2025-01-22T20:18:20.646680Z"
    },
    "id": "Dq7g7mdA9JSj",
    "outputId": "3ee80e1a-418e-4156-f257-a372cbec4bd5",
    "papermill": {
     "duration": 1.644727,
     "end_time": "2025-01-22T20:18:20.650236",
     "exception": false,
     "start_time": "2025-01-22T20:18:19.005509",
     "status": "completed"
    },
    "tags": [],
    "trusted": false
   },
   "id": "f889cbe3",
   "cell_type": "code",
   "source": "import pandas as pd\n\ndf_clients = pd.read_csv('/kaggle/input/fetch-x5/fetch_x5_clients.csv')\ndf_train = pd.read_csv('/kaggle/input/fetch-x5/fetch_x5_train.csv')\n\n# Клиенты\ndf_clients.head()",
   "execution_count": 5,
   "outputs": [
    {
     "data": {
      "text/html": "<div>\n<style scoped>\n    .dataframe tbody tr th:only-of-type {\n        vertical-align: middle;\n    }\n\n    .dataframe tbody tr th {\n        vertical-align: top;\n    }\n\n    .dataframe thead th {\n        text-align: right;\n    }\n</style>\n<table border=\"1\" class=\"dataframe\">\n  <thead>\n    <tr style=\"text-align: right;\">\n      <th></th>\n      <th>client_id</th>\n      <th>first_issue_date</th>\n      <th>first_redeem_date</th>\n      <th>age</th>\n      <th>gender</th>\n    </tr>\n  </thead>\n  <tbody>\n    <tr>\n      <th>0</th>\n      <td>000012768d</td>\n      <td>2017-08-05 15:40:48</td>\n      <td>2018-01-04 19:30:07</td>\n      <td>45</td>\n      <td>U</td>\n    </tr>\n    <tr>\n      <th>1</th>\n      <td>000036f903</td>\n      <td>2017-04-10 13:54:23</td>\n      <td>2017-04-23 12:37:56</td>\n      <td>72</td>\n      <td>F</td>\n    </tr>\n    <tr>\n      <th>2</th>\n      <td>000048b7a6</td>\n      <td>2018-12-15 13:33:11</td>\n      <td>NaN</td>\n      <td>68</td>\n      <td>F</td>\n    </tr>\n    <tr>\n      <th>3</th>\n      <td>000073194a</td>\n      <td>2017-05-23 12:56:14</td>\n      <td>2017-11-24 11:18:01</td>\n      <td>60</td>\n      <td>F</td>\n    </tr>\n    <tr>\n      <th>4</th>\n      <td>00007c7133</td>\n      <td>2017-05-22 16:17:08</td>\n      <td>2018-12-31 17:17:33</td>\n      <td>67</td>\n      <td>U</td>\n    </tr>\n  </tbody>\n</table>\n</div>",
      "text/plain": "    client_id     first_issue_date    first_redeem_date  age gender\n0  000012768d  2017-08-05 15:40:48  2018-01-04 19:30:07   45      U\n1  000036f903  2017-04-10 13:54:23  2017-04-23 12:37:56   72      F\n2  000048b7a6  2018-12-15 13:33:11                  NaN   68      F\n3  000073194a  2017-05-23 12:56:14  2017-11-24 11:18:01   60      F\n4  00007c7133  2017-05-22 16:17:08  2018-12-31 17:17:33   67      U"
     },
     "execution_count": 5,
     "metadata": {},
     "output_type": "execute_result"
    }
   ]
  },
  {
   "metadata": {
    "execution": {
     "iopub.execute_input": "2025-01-22T20:18:20.665722Z",
     "iopub.status.busy": "2025-01-22T20:18:20.665294Z",
     "iopub.status.idle": "2025-01-22T20:18:20.676789Z",
     "shell.execute_reply": "2025-01-22T20:18:20.675554Z"
    },
    "id": "ODjWasCR9JSk",
    "outputId": "23843a31-54a4-43eb-c24e-cd7ae296c2d7",
    "papermill": {
     "duration": 0.021532,
     "end_time": "2025-01-22T20:18:20.678702",
     "exception": false,
     "start_time": "2025-01-22T20:18:20.657170",
     "status": "completed"
    },
    "tags": [],
    "trusted": false
   },
   "id": "212874a6",
   "cell_type": "code",
   "source": "# результат иследования воздействия на клеинта\ndf_train.head()",
   "execution_count": 6,
   "outputs": [
    {
     "data": {
      "text/html": "<div>\n<style scoped>\n    .dataframe tbody tr th:only-of-type {\n        vertical-align: middle;\n    }\n\n    .dataframe tbody tr th {\n        vertical-align: top;\n    }\n\n    .dataframe thead th {\n        text-align: right;\n    }\n</style>\n<table border=\"1\" class=\"dataframe\">\n  <thead>\n    <tr style=\"text-align: right;\">\n      <th></th>\n      <th>client_id</th>\n      <th>treatment_flg</th>\n      <th>target</th>\n    </tr>\n  </thead>\n  <tbody>\n    <tr>\n      <th>0</th>\n      <td>000012768d</td>\n      <td>0</td>\n      <td>1</td>\n    </tr>\n    <tr>\n      <th>1</th>\n      <td>000036f903</td>\n      <td>1</td>\n      <td>1</td>\n    </tr>\n    <tr>\n      <th>2</th>\n      <td>00010925a5</td>\n      <td>1</td>\n      <td>1</td>\n    </tr>\n    <tr>\n      <th>3</th>\n      <td>0001f552b0</td>\n      <td>1</td>\n      <td>1</td>\n    </tr>\n    <tr>\n      <th>4</th>\n      <td>00020e7b18</td>\n      <td>1</td>\n      <td>1</td>\n    </tr>\n  </tbody>\n</table>\n</div>",
      "text/plain": "    client_id  treatment_flg  target\n0  000012768d              0       1\n1  000036f903              1       1\n2  00010925a5              1       1\n3  0001f552b0              1       1\n4  00020e7b18              1       1"
     },
     "execution_count": 6,
     "metadata": {},
     "output_type": "execute_result"
    }
   ]
  },
  {
   "metadata": {
    "execution": {
     "iopub.execute_input": "2025-01-22T20:18:20.693760Z",
     "iopub.status.busy": "2025-01-22T20:18:20.693349Z",
     "iopub.status.idle": "2025-01-22T20:18:21.030374Z",
     "shell.execute_reply": "2025-01-22T20:18:21.028405Z"
    },
    "papermill": {
     "duration": 0.347074,
     "end_time": "2025-01-22T20:18:21.032593",
     "exception": false,
     "start_time": "2025-01-22T20:18:20.685519",
     "status": "completed"
    },
    "tags": [],
    "trusted": false
   },
   "id": "d0ee628e",
   "cell_type": "code",
   "source": "df_clients = df_clients[df_clients['client_id'].isin(df_train['client_id'])]\nprint(df_clients.shape, df_train.shape)",
   "execution_count": 7,
   "outputs": [
    {
     "name": "stdout",
     "output_type": "stream",
     "text": "(200039, 5) (200039, 3)\n"
    }
   ]
  },
  {
   "metadata": {
    "execution": {
     "iopub.execute_input": "2025-01-22T20:18:21.048383Z",
     "iopub.status.busy": "2025-01-22T20:18:21.048011Z",
     "iopub.status.idle": "2025-01-22T20:18:21.058072Z",
     "shell.execute_reply": "2025-01-22T20:18:21.056742Z"
    },
    "papermill": {
     "duration": 0.020112,
     "end_time": "2025-01-22T20:18:21.059592",
     "exception": false,
     "start_time": "2025-01-22T20:18:21.039480",
     "status": "completed"
    },
    "tags": [],
    "trusted": false
   },
   "id": "5e36be47",
   "cell_type": "code",
   "source": "print(f\"Dataset features shape: {df_clients.shape}\")\nprint(f\"Dataset train shape: {df_train.shape}\")\nprint(f\"Dataset target mean: {df_train.target.mean()}\")\nprint(f\"Dataset treatment mean: {df_train.treatment_flg.mean()}\")",
   "execution_count": 8,
   "outputs": [
    {
     "name": "stdout",
     "output_type": "stream",
     "text": "Dataset features shape: (200039, 5)\nDataset train shape: (200039, 3)\nDataset target mean: 0.6198891216212838\nDataset treatment mean: 0.4998075375301816\n"
    }
   ]
  },
  {
   "metadata": {
    "execution": {
     "iopub.execute_input": "2025-01-22T20:18:21.074959Z",
     "iopub.status.busy": "2025-01-22T20:18:21.074453Z",
     "iopub.status.idle": "2025-01-22T20:18:21.162287Z",
     "shell.execute_reply": "2025-01-22T20:18:21.160918Z"
    },
    "papermill": {
     "duration": 0.097909,
     "end_time": "2025-01-22T20:18:21.164356",
     "exception": false,
     "start_time": "2025-01-22T20:18:21.066447",
     "status": "completed"
    },
    "tags": [],
    "trusted": false
   },
   "id": "653fa708",
   "cell_type": "code",
   "source": "df_clients = df_clients.dropna()\ndf_clients.shape",
   "execution_count": 9,
   "outputs": [
    {
     "data": {
      "text/plain": "(182493, 5)"
     },
     "execution_count": 9,
     "metadata": {},
     "output_type": "execute_result"
    }
   ]
  },
  {
   "metadata": {
    "execution": {
     "iopub.execute_input": "2025-01-22T20:18:21.180843Z",
     "iopub.status.busy": "2025-01-22T20:18:21.180364Z",
     "iopub.status.idle": "2025-01-22T20:18:21.299630Z",
     "shell.execute_reply": "2025-01-22T20:18:21.298261Z"
    },
    "papermill": {
     "duration": 0.129933,
     "end_time": "2025-01-22T20:18:21.301867",
     "exception": false,
     "start_time": "2025-01-22T20:18:21.171934",
     "status": "completed"
    },
    "tags": [],
    "trusted": false
   },
   "id": "19535bc1",
   "cell_type": "code",
   "source": "df_features = df_train.merge(df_clients,on='client_id')\ndf_features.index = df_features['client_id']\ndel df_features['client_id']",
   "execution_count": 10,
   "outputs": []
  },
  {
   "metadata": {
    "id": "lprp0mLf9JSn",
    "papermill": {
     "duration": 0.006424,
     "end_time": "2025-01-22T20:18:21.315355",
     "exception": false,
     "start_time": "2025-01-22T20:18:21.308931",
     "status": "completed"
    },
    "tags": []
   },
   "id": "9e7f5cfd",
   "cell_type": "markdown",
   "source": "## **3 | Предобработка**\n\n- Будем использовать градиентный бустинг, поэтому нам надо конвертировать категориальные признаки в цифровые\n- Обработаем datetime фичи в цифровые значения; UNIX время"
  },
  {
   "metadata": {
    "execution": {
     "iopub.execute_input": "2025-01-22T20:18:21.330697Z",
     "iopub.status.busy": "2025-01-22T20:18:21.330274Z",
     "iopub.status.idle": "2025-01-22T20:18:21.421331Z",
     "shell.execute_reply": "2025-01-22T20:18:21.419895Z"
    },
    "id": "IhZ5vebo9JSo",
    "papermill": {
     "duration": 0.101311,
     "end_time": "2025-01-22T20:18:21.423469",
     "exception": false,
     "start_time": "2025-01-22T20:18:21.322158",
     "status": "completed"
    },
    "tags": [],
    "trusted": false
   },
   "id": "5d84d433",
   "cell_type": "code",
   "source": "from sklearn.preprocessing import LabelEncoder\n\nencoder = LabelEncoder()\ndf_features['gender'] = encoder.fit_transform(df_features['gender'])",
   "execution_count": 11,
   "outputs": []
  },
  {
   "metadata": {
    "execution": {
     "iopub.execute_input": "2025-01-22T20:18:21.440854Z",
     "iopub.status.busy": "2025-01-22T20:18:21.440458Z",
     "iopub.status.idle": "2025-01-22T20:18:21.588583Z",
     "shell.execute_reply": "2025-01-22T20:18:21.587339Z"
    },
    "id": "3NpGvllM9JSo",
    "outputId": "3b8e25d5-f97c-45e6-98a4-de7df242e228",
    "papermill": {
     "duration": 0.159556,
     "end_time": "2025-01-22T20:18:21.590728",
     "exception": false,
     "start_time": "2025-01-22T20:18:21.431172",
     "status": "completed"
    },
    "tags": [],
    "trusted": false
   },
   "id": "b16dc8c4",
   "cell_type": "code",
   "source": "# преобразуем datetime в unix\ndf_features['first_issue_time'] = (pd.to_datetime(df_features['first_issue_date'])- pd.Timestamp('1970-01-01')) // pd.Timedelta('1s')\ndf_features['first_redeem_time'] = (pd.to_datetime(df_features['first_redeem_date']) - pd.Timestamp('1970-01-01')) // pd.Timedelta('1s')\ndf_features['issue_redeem_delay'] = df_features['first_redeem_time'] - df_features['first_issue_time']\ndf_features = df_features.drop(['first_issue_date', 'first_redeem_date'], axis=1)\n\ndf_features.head(2)",
   "execution_count": 12,
   "outputs": [
    {
     "data": {
      "text/html": "<div>\n<style scoped>\n    .dataframe tbody tr th:only-of-type {\n        vertical-align: middle;\n    }\n\n    .dataframe tbody tr th {\n        vertical-align: top;\n    }\n\n    .dataframe thead th {\n        text-align: right;\n    }\n</style>\n<table border=\"1\" class=\"dataframe\">\n  <thead>\n    <tr style=\"text-align: right;\">\n      <th></th>\n      <th>treatment_flg</th>\n      <th>target</th>\n      <th>age</th>\n      <th>gender</th>\n      <th>first_issue_time</th>\n      <th>first_redeem_time</th>\n      <th>issue_redeem_delay</th>\n    </tr>\n    <tr>\n      <th>client_id</th>\n      <th></th>\n      <th></th>\n      <th></th>\n      <th></th>\n      <th></th>\n      <th></th>\n      <th></th>\n    </tr>\n  </thead>\n  <tbody>\n    <tr>\n      <th>000012768d</th>\n      <td>0</td>\n      <td>1</td>\n      <td>45</td>\n      <td>2</td>\n      <td>1501947648</td>\n      <td>1515094207</td>\n      <td>13146559</td>\n    </tr>\n    <tr>\n      <th>000036f903</th>\n      <td>1</td>\n      <td>1</td>\n      <td>72</td>\n      <td>0</td>\n      <td>1491832463</td>\n      <td>1492951076</td>\n      <td>1118613</td>\n    </tr>\n  </tbody>\n</table>\n</div>",
      "text/plain": "            treatment_flg  target  age  gender  first_issue_time  \\\nclient_id                                                          \n000012768d              0       1   45       2        1501947648   \n000036f903              1       1   72       0        1491832463   \n\n            first_redeem_time  issue_redeem_delay  \nclient_id                                          \n000012768d         1515094207            13146559  \n000036f903         1492951076             1118613  "
     },
     "execution_count": 12,
     "metadata": {},
     "output_type": "execute_result"
    }
   ]
  },
  {
   "metadata": {
    "execution": {
     "iopub.execute_input": "2025-01-22T20:18:21.607800Z",
     "iopub.status.busy": "2025-01-22T20:18:21.607353Z",
     "iopub.status.idle": "2025-01-22T20:18:21.717550Z",
     "shell.execute_reply": "2025-01-22T20:18:21.716218Z"
    },
    "papermill": {
     "duration": 0.12161,
     "end_time": "2025-01-22T20:18:21.719884",
     "exception": false,
     "start_time": "2025-01-22T20:18:21.598274",
     "status": "completed"
    },
    "tags": [],
    "trusted": false
   },
   "id": "66149ba9",
   "cell_type": "code",
   "source": "# убираем дубликаты если они есть\ndf_features = df_features.drop_duplicates()",
   "execution_count": 13,
   "outputs": []
  },
  {
   "metadata": {
    "id": "xiNslQ0l9JSp",
    "papermill": {
     "duration": 0.006871,
     "end_time": "2025-01-22T20:18:21.734367",
     "exception": false,
     "start_time": "2025-01-22T20:18:21.727496",
     "status": "completed"
    },
    "tags": []
   },
   "id": "21b63ecc",
   "cell_type": "markdown",
   "source": "\n## **4 | Train/Test подвыборки**\n\nРазбиваем данные на две подвыборки, определив `y` и `T` "
  },
  {
   "metadata": {
    "execution": {
     "iopub.execute_input": "2025-01-22T20:18:21.750340Z",
     "iopub.status.busy": "2025-01-22T20:18:21.749943Z",
     "iopub.status.idle": "2025-01-22T20:18:21.798266Z",
     "shell.execute_reply": "2025-01-22T20:18:21.797110Z"
    },
    "id": "KFiXnW4a9JSp",
    "papermill": {
     "duration": 0.058845,
     "end_time": "2025-01-22T20:18:21.800322",
     "exception": false,
     "start_time": "2025-01-22T20:18:21.741477",
     "status": "completed"
    },
    "tags": [],
    "trusted": false
   },
   "id": "0a86d901",
   "cell_type": "code",
   "source": "from sklearn.model_selection import train_test_split\n\ny = \"target\"\nT = \"treatment_flg\"\nX = [\"age\",\"gender\",\"first_issue_time\",\"first_redeem_time\",\"issue_redeem_delay\"]\n\ntrain, test = train_test_split(df_features,\n                               test_size=0.3,\n                               random_state=47)",
   "execution_count": 14,
   "outputs": []
  },
  {
   "metadata": {
    "id": "yQPhYMrw9JSs",
    "papermill": {
     "duration": 0.00668,
     "end_time": "2025-01-22T20:18:21.814137",
     "exception": false,
     "start_time": "2025-01-22T20:18:21.807457",
     "status": "completed"
    },
    "tags": []
   },
   "id": "fd06e355",
   "cell_type": "markdown",
   "source": "\n\n## **5 | Целевые вектора**\n\nПроверим баланс челевого вектора"
  },
  {
   "metadata": {
    "execution": {
     "iopub.execute_input": "2025-01-22T20:18:21.830128Z",
     "iopub.status.busy": "2025-01-22T20:18:21.829662Z",
     "iopub.status.idle": "2025-01-22T20:18:21.837906Z",
     "shell.execute_reply": "2025-01-22T20:18:21.836327Z"
    },
    "id": "ERag4erj9JSs",
    "outputId": "e4679e4b-69cb-4d05-f0ce-57a5de02cee9",
    "papermill": {
     "duration": 0.018545,
     "end_time": "2025-01-22T20:18:21.839678",
     "exception": false,
     "start_time": "2025-01-22T20:18:21.821133",
     "status": "completed"
    },
    "tags": [],
    "trusted": false
   },
   "id": "788c9c35",
   "cell_type": "code",
   "source": "print('train target ratio',round(train[y].mean(),3))\nprint('test target ratio',round(test[y].mean(),3))",
   "execution_count": 15,
   "outputs": [
    {
     "name": "stdout",
     "output_type": "stream",
     "text": "train target ratio 0.645\ntest target ratio 0.644\n"
    }
   ]
  },
  {
   "metadata": {
    "id": "_wmmg6ra9JSt",
    "papermill": {
     "duration": 0.007031,
     "end_time": "2025-01-22T20:18:21.854261",
     "exception": false,
     "start_time": "2025-01-22T20:18:21.847230",
     "status": "completed"
    },
    "tags": []
   },
   "id": "921507c5",
   "cell_type": "markdown",
   "source": "## **6 | Моделировние**\n\n### **X-learner approach**\n\n**1) Строим две независимые модели на контрольной и тестовой группах**\n\n\n- $\n\\hat{M}_0(X) \\approx E[Y| T=0, X]\n$\n\n- $\n\\hat{M}_1(X) \\approx E[Y| T=1, X]\n$\n\n<br>\n\n**2) Рассчитываем разность (собственно, Uplift) между значением целевой переменной при воздействии на объекты и без воздействия**\n\n- $\n\\hat{\\tau}(X, T=0) = \\hat{M}_1(X, T=0) - Y_{T=0}\n$\n\n- $\n\\hat{\\tau}(X, T=1) = Y_{T=1} - \\hat{M}_0(X, T=1)\n$\n\n<br>\n\n**3) Строим две прогнозные модели на фичах сэмплов и значениях Uplift**\n\n- $\n\\hat{M}_{\\tau 0}(X) \\approx E[\\hat{\\tau}(X)|T=0]\n$\n\n- $\n\\hat{M}_{\\tau 1}(X) \\approx E[\\hat{\\tau}(X)|T=1]\n$\n\n<br>\n\n**4) Результаты применения двух моделей складываем с учётом веса $\\hat{e}(x)$; propensity score model**\n\n- $\n\\hat{\\tau(x)} = \\hat{M}_{\\tau 0}(X)\\hat{e}(x) +  \\hat{M}_{\\tau 1}(X)(1-\\hat{e}(x))\n$"
  },
  {
   "metadata": {
    "id": "R5jpSeaS9JSu",
    "papermill": {
     "duration": 0.006849,
     "end_time": "2025-01-22T20:18:21.868480",
     "exception": false,
     "start_time": "2025-01-22T20:18:21.861631",
     "status": "completed"
    },
    "tags": []
   },
   "id": "e71d9fd1",
   "cell_type": "markdown",
   "source": "### **1) Обучение независимые модели**\n\n**Строим две независимые модели на контрольной и тестовой группах**\n- Контрольная группа **`m0`** (treatment_flg = 0)\n- Целевая группа **`m1`** (treatment_flg = 1)\n\nТак же обучаем **propensity score** модель, она у нас не будем константой"
  },
  {
   "metadata": {
    "execution": {
     "iopub.execute_input": "2025-01-22T20:18:21.884694Z",
     "iopub.status.busy": "2025-01-22T20:18:21.884295Z",
     "iopub.status.idle": "2025-01-22T20:18:22.006382Z",
     "shell.execute_reply": "2025-01-22T20:18:22.005236Z"
    },
    "papermill": {
     "duration": 0.132826,
     "end_time": "2025-01-22T20:18:22.008699",
     "exception": false,
     "start_time": "2025-01-22T20:18:21.875873",
     "status": "completed"
    },
    "tags": [],
    "trusted": false
   },
   "id": "198ef79c",
   "cell_type": "code",
   "source": "from sklearn.linear_model import LogisticRegression\n\nnp.random.seed(123)\n\n# модели первого уровня\nm0 = CatBoostRegressor(iterations=100,depth=4,learning_rate=0.1,random_seed=42,verbose=0)\nm1 = CatBoostRegressor(iterations=100,depth=4,learning_rate=0.1,random_seed=42,verbose=0)\n\n# propensity модель\ng = LogisticRegression(solver=\"lbfgs\", penalty='none') ",
   "execution_count": 16,
   "outputs": []
  },
  {
   "metadata": {
    "execution": {
     "iopub.execute_input": "2025-01-22T20:18:22.025849Z",
     "iopub.status.busy": "2025-01-22T20:18:22.025449Z",
     "iopub.status.idle": "2025-01-22T20:18:23.674141Z",
     "shell.execute_reply": "2025-01-22T20:18:23.672941Z"
    },
    "id": "FgvtU6M39JSv",
    "outputId": "19dda66e-3de4-4920-80a1-ab6dc3626a1c",
    "papermill": {
     "duration": 1.659815,
     "end_time": "2025-01-22T20:18:23.676268",
     "exception": false,
     "start_time": "2025-01-22T20:18:22.016453",
     "status": "completed"
    },
    "tags": [],
    "trusted": false
   },
   "id": "364b3fbf",
   "cell_type": "code",
   "source": "m0.fit(train.query(f\"{T}==0\")[X], train.query(f\"{T}==0\")[y])\nm1.fit(train.query(f\"{T}==1\")[X], train.query(f\"{T}==1\")[y])   \ng.fit(train[X], train[T]);\n\nd_train = np.where(train[T]==0,\n                   m1.predict(train[X]) - train[y],\n                   train[y] - m0.predict(train[X]))",
   "execution_count": 17,
   "outputs": []
  },
  {
   "metadata": {
    "id": "AO_bk-fy9JSw",
    "papermill": {
     "duration": 0.006804,
     "end_time": "2025-01-22T20:18:23.690333",
     "exception": false,
     "start_time": "2025-01-22T20:18:23.683529",
     "status": "completed"
    },
    "tags": []
   },
   "id": "29218448",
   "cell_type": "markdown",
   "source": "### **2) Корректировка таргетов**\n\nРассчитываем разность (собственно, Uplift) между значением целевой переменной при воздействии на объекты и без воздействия"
  },
  {
   "metadata": {
    "execution": {
     "iopub.execute_input": "2025-01-22T20:18:23.706091Z",
     "iopub.status.busy": "2025-01-22T20:18:23.705607Z",
     "iopub.status.idle": "2025-01-22T20:18:23.747329Z",
     "shell.execute_reply": "2025-01-22T20:18:23.746070Z"
    },
    "id": "vecYClXb9JSw",
    "papermill": {
     "duration": 0.052097,
     "end_time": "2025-01-22T20:18:23.749454",
     "exception": false,
     "start_time": "2025-01-22T20:18:23.697357",
     "status": "completed"
    },
    "tags": [],
    "trusted": false
   },
   "id": "f62205de",
   "cell_type": "code",
   "source": "# corrected labels for 2nd group of models\nd_train = np.where(train[T]==0,\n                   m1.predict(train[X]) - train[y],\n                   train[y] - m0.predict(train[X]))",
   "execution_count": 18,
   "outputs": []
  },
  {
   "metadata": {
    "id": "Zdwm3ZTC9JSx",
    "papermill": {
     "duration": 0.00699,
     "end_time": "2025-01-22T20:18:23.763925",
     "exception": false,
     "start_time": "2025-01-22T20:18:23.756935",
     "status": "completed"
    },
    "tags": []
   },
   "id": "9ac94696",
   "cell_type": "markdown",
   "source": "### **3) Обучаем скорректированных моделей**\n\nUsing the adjusted target variables ( for both the target and control groups, we train the main models"
  },
  {
   "metadata": {
    "execution": {
     "iopub.execute_input": "2025-01-22T20:18:23.779799Z",
     "iopub.status.busy": "2025-01-22T20:18:23.779326Z",
     "iopub.status.idle": "2025-01-22T20:18:24.971346Z",
     "shell.execute_reply": "2025-01-22T20:18:24.970156Z"
    },
    "id": "YSwLETb-9JSw",
    "outputId": "ca84709b-a523-44d8-c0ee-0f8b2e33a391",
    "papermill": {
     "duration": 1.20235,
     "end_time": "2025-01-22T20:18:24.973459",
     "exception": false,
     "start_time": "2025-01-22T20:18:23.771109",
     "status": "completed"
    },
    "tags": [],
    "trusted": false
   },
   "id": "fe1e353f",
   "cell_type": "code",
   "source": "# second stage\nmx0 = CatBoostRegressor(iterations=100,depth=4,learning_rate=0.1,random_seed=42,verbose=0)\nmx1 = CatBoostRegressor(iterations=100,depth=4,learning_rate=0.1,random_seed=42,verbose=0)\n\nmx0.fit(train.query(f\"{T}==0\")[X], d_train[train[T]==0])\nmx1.fit(train.query(f\"{T}==1\")[X], d_train[train[T]==1]);",
   "execution_count": 19,
   "outputs": []
  },
  {
   "metadata": {},
   "id": "47dea2a3",
   "cell_type": "markdown",
   "source": "### **4) Результаты применения двух моделей складываем с учётом веса**\n\nРезультаты применения двух моделей складываем с учётом веса"
  },
  {
   "metadata": {
    "execution": {
     "iopub.execute_input": "2025-01-22T20:18:24.989690Z",
     "iopub.status.busy": "2025-01-22T20:18:24.989260Z",
     "iopub.status.idle": "2025-01-22T20:18:25.095422Z",
     "shell.execute_reply": "2025-01-22T20:18:25.094005Z"
    },
    "papermill": {
     "duration": 0.116585,
     "end_time": "2025-01-22T20:18:25.097495",
     "exception": false,
     "start_time": "2025-01-22T20:18:24.980910",
     "status": "completed"
    },
    "tags": [],
    "trusted": false
   },
   "id": "138a9e34",
   "cell_type": "code",
   "source": "def ps_predict(df, t): \n    return g.predict_proba(df[X])[:, t]\n    \nx_cate_train = (ps_predict(train,1)*mx0.predict(train[X]) +\n                ps_predict(train,0)*mx1.predict(train[X]))\n\nx_cate_test = (ps_predict(test,1)*mx0.predict(test[X]) +\n                                ps_predict(test,0)*mx1.predict(test[X]))\nx_cate_test_res = test.assign(cate=x_cate_test)",
   "execution_count": 20,
   "outputs": []
  },
  {
   "metadata": {
    "id": "q1mV-ErxMK9k",
    "papermill": {
     "duration": 0.006691,
     "end_time": "2025-01-22T20:18:25.111144",
     "exception": false,
     "start_time": "2025-01-22T20:18:25.104453",
     "status": "completed"
    },
    "tags": []
   },
   "id": "a523749c",
   "cell_type": "markdown",
   "source": "## **7 | Оценка качества метрики**\n\n#### Uplift@k metric\n\nОцениваем метрику **`uplift_at_k`** (k=0.1) для двух выборок"
  },
  {
   "metadata": {
    "execution": {
     "iopub.execute_input": "2025-01-22T20:18:25.126559Z",
     "iopub.status.busy": "2025-01-22T20:18:25.126106Z",
     "iopub.status.idle": "2025-01-22T20:18:25.173159Z",
     "shell.execute_reply": "2025-01-22T20:18:25.171286Z"
    },
    "papermill": {
     "duration": 0.057336,
     "end_time": "2025-01-22T20:18:25.175328",
     "exception": false,
     "start_time": "2025-01-22T20:18:25.117992",
     "status": "completed"
    },
    "tags": [],
    "trusted": false
   },
   "id": "ba88ef56",
   "cell_type": "code",
   "source": "ct_score_train = uplift_at_k(x_cate_train, train[y].copy(), train[T].copy(), k)\nct_score_test = uplift_at_k(x_cate_test, test[y].copy(), test[T].copy(), k)\nprint('train uplift @k=10%',round(ct_score_train,3))\nprint('test set uplift @k=10%',round(ct_score_test,3))",
   "execution_count": 21,
   "outputs": [
    {
     "name": "stdout",
     "output_type": "stream",
     "text": "train uplift @k=10% 0.147\ntest set uplift @k=10% 0.109\n"
    }
   ]
  },
  {
   "metadata": {},
   "id": "01fd49ba",
   "cell_type": "markdown",
   "source": "Сравним как модель себя показала по сравнению в другими моделями"
  },
  {
   "metadata": {
    "execution": {
     "iopub.execute_input": "2025-01-22T20:18:25.191181Z",
     "iopub.status.busy": "2025-01-22T20:18:25.190801Z",
     "iopub.status.idle": "2025-01-22T20:18:25.211561Z",
     "shell.execute_reply": "2025-01-22T20:18:25.210266Z"
    },
    "papermill": {
     "duration": 0.03081,
     "end_time": "2025-01-22T20:18:25.213424",
     "exception": false,
     "start_time": "2025-01-22T20:18:25.182614",
     "status": "completed"
    },
    "tags": [],
    "trusted": false
   },
   "id": "4cb9a479",
   "cell_type": "code",
   "source": "import io\n\nstrs = \"\"\"\napproach\ttrain_uplift@10.0%\ttest_uplift@10.0%\n2\tTwo-Model Approach (T-Learner)\t0.146412\t0.114067\n0\tClassTransformation\t0.149799\t0.111760\n3\tTwo-Model Approach (ddr_control)\t0.121663\t0.108137\n4\tTwo-Model Approach (ddr_treatment)\t0.101789\t0.076922\n1\tS-Learner\t0.075230\t0.075230\n\"\"\"\n\nmodels_results = pd.read_csv(io.StringIO(strs),sep='\\t').to_dict('list')\nmodels_results['approach'].append('X Learner')\nmodels_results[f'train_uplift@{k*100}%'].append(ct_score_train)\nmodels_results[f'test_uplift@{k*100}%'].append(ct_score_test)\npd.DataFrame(models_results).sort_values(by='test_uplift@10.0%',ascending=False)",
   "execution_count": 22,
   "outputs": [
    {
     "data": {
      "text/html": "<div>\n<style scoped>\n    .dataframe tbody tr th:only-of-type {\n        vertical-align: middle;\n    }\n\n    .dataframe tbody tr th {\n        vertical-align: top;\n    }\n\n    .dataframe thead th {\n        text-align: right;\n    }\n</style>\n<table border=\"1\" class=\"dataframe\">\n  <thead>\n    <tr style=\"text-align: right;\">\n      <th></th>\n      <th>approach</th>\n      <th>train_uplift@10.0%</th>\n      <th>test_uplift@10.0%</th>\n    </tr>\n  </thead>\n  <tbody>\n    <tr>\n      <th>0</th>\n      <td>Two-Model Approach (T-Learner)</td>\n      <td>0.146412</td>\n      <td>0.114067</td>\n    </tr>\n    <tr>\n      <th>1</th>\n      <td>ClassTransformation</td>\n      <td>0.149799</td>\n      <td>0.111760</td>\n    </tr>\n    <tr>\n      <th>5</th>\n      <td>X Learner</td>\n      <td>0.147077</td>\n      <td>0.109125</td>\n    </tr>\n    <tr>\n      <th>2</th>\n      <td>Two-Model Approach (ddr_control)</td>\n      <td>0.121663</td>\n      <td>0.108137</td>\n    </tr>\n    <tr>\n      <th>3</th>\n      <td>Two-Model Approach (ddr_treatment)</td>\n      <td>0.101789</td>\n      <td>0.076922</td>\n    </tr>\n    <tr>\n      <th>4</th>\n      <td>S-Learner</td>\n      <td>0.075230</td>\n      <td>0.075230</td>\n    </tr>\n  </tbody>\n</table>\n</div>",
      "text/plain": "                             approach  train_uplift@10.0%  test_uplift@10.0%\n0      Two-Model Approach (T-Learner)            0.146412           0.114067\n1                 ClassTransformation            0.149799           0.111760\n5                           X Learner            0.147077           0.109125\n2    Two-Model Approach (ddr_control)            0.121663           0.108137\n3  Two-Model Approach (ddr_treatment)            0.101789           0.076922\n4                           S-Learner            0.075230           0.075230"
     },
     "execution_count": 22,
     "metadata": {},
     "output_type": "execute_result"
    }
   ]
  }
 ],
 "metadata": {
  "colab": {
   "provenance": []
  },
  "kaggle": {
   "accelerator": "none",
   "dataSources": [
    {
     "datasetId": 6528144,
     "sourceId": 10550860,
     "sourceType": "datasetVersion"
    }
   ],
   "dockerImageVersionId": 30839,
   "isGpuEnabled": false,
   "isInternetEnabled": true,
   "language": "python",
   "sourceType": "notebook"
  },
  "kernelspec": {
   "name": "python3",
   "display_name": "Python 3",
   "language": "python"
  },
  "language_info": {
   "name": "python",
   "version": "3.10.4",
   "mimetype": "text/x-python",
   "codemirror_mode": {
    "name": "ipython",
    "version": 3
   },
   "pygments_lexer": "ipython3",
   "nbconvert_exporter": "python",
   "file_extension": ".py"
  },
  "papermill": {
   "default_parameters": {},
   "duration": 14.340183,
   "end_time": "2025-01-22T20:18:26.345347",
   "environment_variables": {},
   "exception": null,
   "input_path": "__notebook__.ipynb",
   "output_path": "__notebook__.ipynb",
   "parameters": {},
   "start_time": "2025-01-22T20:18:12.005164",
   "version": "2.6.0"
  }
 },
 "nbformat": 4,
 "nbformat_minor": 5
}