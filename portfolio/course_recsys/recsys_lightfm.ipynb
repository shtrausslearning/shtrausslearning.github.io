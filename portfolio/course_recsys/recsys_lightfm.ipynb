{
 "cells": [
  {
   "metadata": {
    "execution": {
     "iopub.status.busy": "2024-09-22T14:06:57.736313Z",
     "iopub.execute_input": "2024-09-22T14:06:57.736745Z",
     "iopub.status.idle": "2024-09-22T14:07:10.684211Z",
     "shell.execute_reply.started": "2024-09-22T14:06:57.736707Z",
     "shell.execute_reply": "2024-09-22T14:07:10.682142Z"
    },
    "trusted": false
   },
   "cell_type": "code",
   "source": "!pip install lightfm -qqq",
   "execution_count": 102,
   "outputs": []
  },
  {
   "metadata": {
    "execution": {
     "iopub.status.busy": "2024-09-22T14:07:10.688349Z",
     "iopub.execute_input": "2024-09-22T14:07:10.689052Z",
     "iopub.status.idle": "2024-09-22T14:07:10.697292Z",
     "shell.execute_reply.started": "2024-09-22T14:07:10.688999Z",
     "shell.execute_reply": "2024-09-22T14:07:10.695935Z"
    },
    "trusted": false
   },
   "cell_type": "code",
   "source": "from lightfm import LightFM\nfrom lightfm.data import Dataset as LFMDataset\nimport numpy as np\nimport pandas as pd\nimport scipy.sparse as sparse\nfrom scipy.sparse import csr_matrix, diags\nfrom scipy.sparse.linalg import svds\nfrom tqdm import tqdm",
   "execution_count": 103,
   "outputs": []
  },
  {
   "metadata": {},
   "cell_type": "markdown",
   "source": "# Контентные методы рекомендаций\n\n## <div style=\"padding: 30px;color:white;margin:10;font-size:60%;text-align:left;display:fill;border-radius:10px;background-color:#FFFFFF;overflow:hidden;background-color:#232834\"><b><span style='color:#686dec'>1 |</span></b> <b>Введение</b></div>\n\n### LightFM\n\n- `LightFM` это гибридный алгоритм рекомендаций, который сочетает в себе методы `коллаборативной фильтрации` и контентной фильтрации. \n- Эмбеддинги пользователей и эмбеддинги объектов можно обучать как с использованием их признаков, так и без.\n- Если признаки используются, то эмбеддинги пользователей и объектов представляют собой сумму векторов их признаков (включая id как признак)."
  },
  {
   "metadata": {},
   "cell_type": "markdown",
   "source": "## <div style=\"padding: 30px;color:white;margin:10;font-size:60%;text-align:left;display:fill;border-radius:10px;background-color:#FFFFFF;overflow:hidden;background-color:#232834\"><b><span style='color:#686dec'>2 |</span></b> <b>Данные</b></div>\n\n### MTC библиотека книг \n\n- Продолжаем использовать `mts` данные прочитанных книг. \n- Как и прошлый раз мы загружаем `mts_lib.csv` в котором у нас хронится информация о чтение книг.\n- У нас две метрики оценки товара `implicit`  и `explicit`, сегодня мы будем использовать `progress` \n"
  },
  {
   "metadata": {
    "execution": {
     "iopub.status.busy": "2024-09-22T14:07:10.699784Z",
     "iopub.execute_input": "2024-09-22T14:07:10.700670Z",
     "iopub.status.idle": "2024-09-22T14:07:11.558715Z",
     "shell.execute_reply.started": "2024-09-22T14:07:10.700602Z",
     "shell.execute_reply": "2024-09-22T14:07:11.557360Z"
    },
    "trusted": false
   },
   "cell_type": "code",
   "source": "df = pd.read_csv('/kaggle/input/mtc-data/mts_lib.csv')\ndf.head()",
   "execution_count": 104,
   "outputs": [
    {
     "execution_count": 104,
     "output_type": "execute_result",
     "data": {
      "text/plain": "   user_id  item_id  progress  rating  start_date\n0   126706    14433        80     NaN  2018-01-01\n1   127290   140952        58     NaN  2018-01-01\n2    66991   198453        89     NaN  2018-01-01\n3    46791    83486        23     5.0  2018-01-01\n4    79313   188770        88     5.0  2018-01-01",
      "text/html": "<div>\n<style scoped>\n    .dataframe tbody tr th:only-of-type {\n        vertical-align: middle;\n    }\n\n    .dataframe tbody tr th {\n        vertical-align: top;\n    }\n\n    .dataframe thead th {\n        text-align: right;\n    }\n</style>\n<table border=\"1\" class=\"dataframe\">\n  <thead>\n    <tr style=\"text-align: right;\">\n      <th></th>\n      <th>user_id</th>\n      <th>item_id</th>\n      <th>progress</th>\n      <th>rating</th>\n      <th>start_date</th>\n    </tr>\n  </thead>\n  <tbody>\n    <tr>\n      <th>0</th>\n      <td>126706</td>\n      <td>14433</td>\n      <td>80</td>\n      <td>NaN</td>\n      <td>2018-01-01</td>\n    </tr>\n    <tr>\n      <th>1</th>\n      <td>127290</td>\n      <td>140952</td>\n      <td>58</td>\n      <td>NaN</td>\n      <td>2018-01-01</td>\n    </tr>\n    <tr>\n      <th>2</th>\n      <td>66991</td>\n      <td>198453</td>\n      <td>89</td>\n      <td>NaN</td>\n      <td>2018-01-01</td>\n    </tr>\n    <tr>\n      <th>3</th>\n      <td>46791</td>\n      <td>83486</td>\n      <td>23</td>\n      <td>5.0</td>\n      <td>2018-01-01</td>\n    </tr>\n    <tr>\n      <th>4</th>\n      <td>79313</td>\n      <td>188770</td>\n      <td>88</td>\n      <td>5.0</td>\n      <td>2018-01-01</td>\n    </tr>\n  </tbody>\n</table>\n</div>"
     },
     "metadata": {}
    }
   ]
  },
  {
   "metadata": {
    "execution": {
     "iopub.status.busy": "2024-09-22T14:07:11.560238Z",
     "iopub.execute_input": "2024-09-22T14:07:11.560663Z",
     "iopub.status.idle": "2024-09-22T14:07:11.567288Z",
     "shell.execute_reply.started": "2024-09-22T14:07:11.560620Z",
     "shell.execute_reply": "2024-09-22T14:07:11.565816Z"
    },
    "trusted": false
   },
   "cell_type": "code",
   "source": "def get_data_info(data, \n                  user_id='user_id', \n                  item_id='item_id'):\n    print(f'Размер датасета = {data.shape[0]} \\nколичество пользователей = {data[user_id].nunique()} \\nколичество объектов = {data[item_id].nunique()}')",
   "execution_count": 105,
   "outputs": []
  },
  {
   "metadata": {
    "execution": {
     "iopub.status.busy": "2024-09-22T14:07:11.570675Z",
     "iopub.execute_input": "2024-09-22T14:07:11.571084Z",
     "iopub.status.idle": "2024-09-22T14:07:19.267302Z",
     "shell.execute_reply.started": "2024-09-22T14:07:11.571042Z",
     "shell.execute_reply": "2024-09-22T14:07:19.266207Z"
    },
    "trusted": false
   },
   "cell_type": "code",
   "source": "# конвертируем в дату\ndf.loc[:, 'start_date'] = pd.to_datetime(df['start_date'], \n                                         format=\"%Y-%m-%d\")\n\n# удаляем дубликаты, оставляя последний по времени\ndf = df.sort_values('start_date').drop_duplicates(subset=['user_id', 'item_id'], \n                                                  keep='last')\n\nget_data_info(df)",
   "execution_count": 106,
   "outputs": [
    {
     "name": "stdout",
     "text": "Размер датасета = 1532998 \nколичество пользователей = 151600 \nколичество объектов = 59599\n",
     "output_type": "stream"
    }
   ]
  },
  {
   "metadata": {},
   "cell_type": "markdown",
   "source": "## <div style=\"padding: 30px;color:white;margin:10;font-size:60%;text-align:left;display:fill;border-radius:10px;background-color:#FFFFFF;overflow:hidden;background-color:#232834\"><b><span style='color:#686dec'>3 |</span></b> <b>Предобработка</b></div>\n\n### Фильтрация\n\n- Возмем только данные пользователей с прогрессом чтения `книг > 30`\n- Большая часть данных имеет прогресс 0, и не является релевантным"
  },
  {
   "metadata": {
    "execution": {
     "iopub.status.busy": "2024-09-22T14:07:19.268763Z",
     "iopub.execute_input": "2024-09-22T14:07:19.269189Z",
     "iopub.status.idle": "2024-09-22T14:07:19.294004Z",
     "shell.execute_reply.started": "2024-09-22T14:07:19.269148Z",
     "shell.execute_reply": "2024-09-22T14:07:19.292736Z"
    },
    "trusted": false
   },
   "cell_type": "code",
   "source": "df.progress.value_counts()",
   "execution_count": 107,
   "outputs": [
    {
     "execution_count": 107,
     "output_type": "execute_result",
     "data": {
      "text/plain": "progress\n100    228230\n0      200915\n99      56710\n1       48356\n2       33917\n        ...  \n74       8427\n79       8426\n76       8407\n58       8316\n63       8267\nName: count, Length: 101, dtype: int64"
     },
     "metadata": {}
    }
   ]
  },
  {
   "metadata": {
    "execution": {
     "iopub.status.busy": "2024-09-22T14:07:19.295766Z",
     "iopub.execute_input": "2024-09-22T14:07:19.296647Z",
     "iopub.status.idle": "2024-09-22T14:07:19.381251Z",
     "shell.execute_reply.started": "2024-09-22T14:07:19.296591Z",
     "shell.execute_reply": "2024-09-22T14:07:19.380058Z"
    },
    "trusted": false
   },
   "cell_type": "code",
   "source": "# remove user processes less than 30\ndf = df[df['progress'] > 30]",
   "execution_count": 108,
   "outputs": []
  },
  {
   "metadata": {
    "execution": {
     "iopub.status.busy": "2024-09-22T14:07:19.382895Z",
     "iopub.execute_input": "2024-09-22T14:07:19.383292Z",
     "iopub.status.idle": "2024-09-22T14:07:19.569089Z",
     "shell.execute_reply.started": "2024-09-22T14:07:19.383251Z",
     "shell.execute_reply": "2024-09-22T14:07:19.567648Z"
    },
    "trusted": false
   },
   "cell_type": "code",
   "source": "def filter_data(df, user_count=5, item_count=5):\n\n    # select users who have selected [item_count] or more\n    user_counts = df.groupby('user_id')['item_id'].count()\n    pop_users = user_counts[user_counts >= item_count]\n    df = df[df['user_id'].isin(pop_users.index)].copy()\n    return df\n\ndf = filter_data(df)\nget_data_info(df)",
   "execution_count": 109,
   "outputs": [
    {
     "name": "stdout",
     "text": "Размер датасета = 654819 \nколичество пользователей = 64955 \nколичество объектов = 59485\n",
     "output_type": "stream"
    }
   ]
  },
  {
   "metadata": {},
   "cell_type": "markdown",
   "source": "### Чтение Фич Пользователей, Товара\n\nК данным `df` мы можем подтянуть дополнительную информацию о пользователе (`user_id`) и товара (`item_id`)\n\n"
  },
  {
   "metadata": {
    "execution": {
     "iopub.status.busy": "2024-09-22T14:07:19.570522Z",
     "iopub.execute_input": "2024-09-22T14:07:19.570877Z",
     "iopub.status.idle": "2024-09-22T14:07:19.855217Z",
     "shell.execute_reply.started": "2024-09-22T14:07:19.570841Z",
     "shell.execute_reply": "2024-09-22T14:07:19.854108Z"
    },
    "trusted": false
   },
   "cell_type": "code",
   "source": "u_features = pd.read_csv('/kaggle/input/mtc-data/users.csv')\ni_features = pd.read_csv('/kaggle/input/mtc-data/items.csv')\ni_features.rename(columns={'id': 'item_id'}, inplace=True)",
   "execution_count": 110,
   "outputs": []
  },
  {
   "metadata": {},
   "cell_type": "markdown",
   "source": "Удостоверимся что новые данные содержать только пользователей и товары которые есть в `df`"
  },
  {
   "metadata": {
    "execution": {
     "iopub.status.busy": "2024-09-22T14:07:19.856486Z",
     "iopub.execute_input": "2024-09-22T14:07:19.856825Z",
     "iopub.status.idle": "2024-09-22T14:07:19.897446Z",
     "shell.execute_reply.started": "2024-09-22T14:07:19.856790Z",
     "shell.execute_reply": "2024-09-22T14:07:19.895965Z"
    },
    "trusted": false
   },
   "cell_type": "code",
   "source": "# make sure the feature are present in rating dataframe df\ni_features = i_features[i_features['item_id'].isin(df['item_id'])].copy()\nu_features = u_features[u_features['user_id'].isin(df['user_id'])].copy()",
   "execution_count": 111,
   "outputs": []
  },
  {
   "metadata": {},
   "cell_type": "markdown",
   "source": "Создадим мапперы для `user2id` и `item2id`"
  },
  {
   "metadata": {
    "execution": {
     "iopub.status.busy": "2024-09-22T14:07:19.898855Z",
     "iopub.execute_input": "2024-09-22T14:07:19.899261Z",
     "iopub.status.idle": "2024-09-22T14:07:20.664824Z",
     "shell.execute_reply.started": "2024-09-22T14:07:19.899220Z",
     "shell.execute_reply": "2024-09-22T14:07:20.663503Z"
    },
    "trusted": false
   },
   "cell_type": "code",
   "source": "user_idx = df['user_id'].astype('category').cat.codes\nitem_idx = df['item_id'].astype('category').cat.codes\nuser2id = dict(zip(df['user_id'], user_idx))\nitem2id = dict(zip(df['item_id'], item_idx))",
   "execution_count": 112,
   "outputs": []
  },
  {
   "metadata": {},
   "cell_type": "markdown",
   "source": "### Фичи Пользователей\n\nДля каждого пользователя `user_id`\n- Возростной диапазон `age`\n- Пол `sex`"
  },
  {
   "metadata": {
    "execution": {
     "iopub.status.busy": "2024-09-22T14:07:20.666352Z",
     "iopub.execute_input": "2024-09-22T14:07:20.666764Z",
     "iopub.status.idle": "2024-09-22T14:07:20.680896Z",
     "shell.execute_reply.started": "2024-09-22T14:07:20.666712Z",
     "shell.execute_reply": "2024-09-22T14:07:20.679643Z"
    },
    "trusted": false
   },
   "cell_type": "code",
   "source": "# user features\nu_features.head()",
   "execution_count": 113,
   "outputs": [
    {
     "execution_count": 113,
     "output_type": "execute_result",
     "data": {
      "text/plain": "    user_id     age  sex\n0         1   45_54  NaN\n2         3  65_inf  0.0\n10       11   55_64  0.0\n11       12   55_64  1.0\n12       13   25_34  0.0",
      "text/html": "<div>\n<style scoped>\n    .dataframe tbody tr th:only-of-type {\n        vertical-align: middle;\n    }\n\n    .dataframe tbody tr th {\n        vertical-align: top;\n    }\n\n    .dataframe thead th {\n        text-align: right;\n    }\n</style>\n<table border=\"1\" class=\"dataframe\">\n  <thead>\n    <tr style=\"text-align: right;\">\n      <th></th>\n      <th>user_id</th>\n      <th>age</th>\n      <th>sex</th>\n    </tr>\n  </thead>\n  <tbody>\n    <tr>\n      <th>0</th>\n      <td>1</td>\n      <td>45_54</td>\n      <td>NaN</td>\n    </tr>\n    <tr>\n      <th>2</th>\n      <td>3</td>\n      <td>65_inf</td>\n      <td>0.0</td>\n    </tr>\n    <tr>\n      <th>10</th>\n      <td>11</td>\n      <td>55_64</td>\n      <td>0.0</td>\n    </tr>\n    <tr>\n      <th>11</th>\n      <td>12</td>\n      <td>55_64</td>\n      <td>1.0</td>\n    </tr>\n    <tr>\n      <th>12</th>\n      <td>13</td>\n      <td>25_34</td>\n      <td>0.0</td>\n    </tr>\n  </tbody>\n</table>\n</div>"
     },
     "metadata": {}
    }
   ]
  },
  {
   "metadata": {},
   "cell_type": "markdown",
   "source": "### Фичи товаров \n\nДля каждого товара `item_id`\n- Титул `title`\n- Жанр `genres`\n- Писатель `authors`\n- Год выпуска `year`"
  },
  {
   "metadata": {
    "execution": {
     "iopub.status.busy": "2024-09-22T14:07:20.682197Z",
     "iopub.execute_input": "2024-09-22T14:07:20.682566Z",
     "iopub.status.idle": "2024-09-22T14:07:20.703194Z",
     "shell.execute_reply.started": "2024-09-22T14:07:20.682517Z",
     "shell.execute_reply": "2024-09-22T14:07:20.702269Z"
    },
    "trusted": false
   },
   "cell_type": "code",
   "source": "# item features \ni_features.head()",
   "execution_count": 114,
   "outputs": [
    {
     "execution_count": 114,
     "output_type": "execute_result",
     "data": {
      "text/plain": "   item_id              title  \\\n0   128115   Ворон-челобитчик   \n1   210979  Скрипка Ротшильда   \n2    95632   Испорченные дети   \n3   247906   Странный человек   \n4   294280  Господа ташкентцы   \n\n                                              genres                 authors  \\\n0  Зарубежные детские книги,Сказки,Зарубежная кла...  Михаил Салтыков-Щедрин   \n1  Классическая проза,Литература 19 века,Русская ...             Антон Чехов   \n2  Зарубежная классика,Классическая проза,Литерат...  Михаил Салтыков-Щедрин   \n3             Пьесы и драматургия,Литература 19 века        Михаил Лермонтов   \n4  Зарубежная классика,Классическая проза,Литерат...  Михаил Салтыков-Щедрин   \n\n   year  \n0  1886  \n1  1894  \n2  1869  \n3  1831  \n4  1873  ",
      "text/html": "<div>\n<style scoped>\n    .dataframe tbody tr th:only-of-type {\n        vertical-align: middle;\n    }\n\n    .dataframe tbody tr th {\n        vertical-align: top;\n    }\n\n    .dataframe thead th {\n        text-align: right;\n    }\n</style>\n<table border=\"1\" class=\"dataframe\">\n  <thead>\n    <tr style=\"text-align: right;\">\n      <th></th>\n      <th>item_id</th>\n      <th>title</th>\n      <th>genres</th>\n      <th>authors</th>\n      <th>year</th>\n    </tr>\n  </thead>\n  <tbody>\n    <tr>\n      <th>0</th>\n      <td>128115</td>\n      <td>Ворон-челобитчик</td>\n      <td>Зарубежные детские книги,Сказки,Зарубежная кла...</td>\n      <td>Михаил Салтыков-Щедрин</td>\n      <td>1886</td>\n    </tr>\n    <tr>\n      <th>1</th>\n      <td>210979</td>\n      <td>Скрипка Ротшильда</td>\n      <td>Классическая проза,Литература 19 века,Русская ...</td>\n      <td>Антон Чехов</td>\n      <td>1894</td>\n    </tr>\n    <tr>\n      <th>2</th>\n      <td>95632</td>\n      <td>Испорченные дети</td>\n      <td>Зарубежная классика,Классическая проза,Литерат...</td>\n      <td>Михаил Салтыков-Щедрин</td>\n      <td>1869</td>\n    </tr>\n    <tr>\n      <th>3</th>\n      <td>247906</td>\n      <td>Странный человек</td>\n      <td>Пьесы и драматургия,Литература 19 века</td>\n      <td>Михаил Лермонтов</td>\n      <td>1831</td>\n    </tr>\n    <tr>\n      <th>4</th>\n      <td>294280</td>\n      <td>Господа ташкентцы</td>\n      <td>Зарубежная классика,Классическая проза,Литерат...</td>\n      <td>Михаил Салтыков-Щедрин</td>\n      <td>1873</td>\n    </tr>\n  </tbody>\n</table>\n</div>"
     },
     "metadata": {}
    }
   ]
  },
  {
   "metadata": {
    "execution": {
     "iopub.status.busy": "2024-09-22T14:07:20.708840Z",
     "iopub.execute_input": "2024-09-22T14:07:20.710103Z",
     "iopub.status.idle": "2024-09-22T14:07:20.724340Z",
     "shell.execute_reply.started": "2024-09-22T14:07:20.710046Z",
     "shell.execute_reply": "2024-09-22T14:07:20.722960Z"
    },
    "trusted": false
   },
   "cell_type": "code",
   "source": "u_features['age'].value_counts()",
   "execution_count": 115,
   "outputs": [
    {
     "execution_count": 115,
     "output_type": "execute_result",
     "data": {
      "text/plain": "age\n18_24     21396\n25_34     12207\n35_44      7422\n55_64      7256\n45_54      6186\n65_inf     4016\nName: count, dtype: int64"
     },
     "metadata": {}
    }
   ]
  },
  {
   "metadata": {},
   "cell_type": "markdown",
   "source": "### Разбиение на подвыборки\n\nСтандартная практика разбиение данных на обучаюшию и тестовую выборку"
  },
  {
   "metadata": {
    "execution": {
     "iopub.status.busy": "2024-09-22T14:07:20.725632Z",
     "iopub.execute_input": "2024-09-22T14:07:20.726005Z",
     "iopub.status.idle": "2024-09-22T14:07:21.808314Z",
     "shell.execute_reply.started": "2024-09-22T14:07:20.725946Z",
     "shell.execute_reply": "2024-09-22T14:07:21.807121Z"
    },
    "trusted": false
   },
   "cell_type": "code",
   "source": "def train_test_split(X, user_col, time_col):\n    full_history = X.sort_values([user_col, time_col]).groupby(user_col)\n    test = full_history.tail(1)\n    train = full_history.head(-1)\n    return train, test\n\ntrain, test = train_test_split(df, 'user_id', 'start_date')",
   "execution_count": 116,
   "outputs": []
  },
  {
   "metadata": {},
   "cell_type": "markdown",
   "source": "## <div style=\"padding: 30px;color:white;margin:10;font-size:60%;text-align:left;display:fill;border-radius:10px;background-color:#FFFFFF;overflow:hidden;background-color:#232834\"><b><span style='color:#686dec'>4 |</span></b> <b>Подготовка данных для LightFM</b></div>\n\n### (A) Вектор Комбинации Фичей Пользователя\n\nВспомним нашу матрицу фичей для пользователей"
  },
  {
   "metadata": {
    "execution": {
     "iopub.status.busy": "2024-09-22T14:07:21.809669Z",
     "iopub.execute_input": "2024-09-22T14:07:21.810061Z",
     "iopub.status.idle": "2024-09-22T14:07:21.825343Z",
     "shell.execute_reply.started": "2024-09-22T14:07:21.810013Z",
     "shell.execute_reply": "2024-09-22T14:07:21.824086Z"
    },
    "trusted": false
   },
   "cell_type": "code",
   "source": "u_features.head()",
   "execution_count": 117,
   "outputs": [
    {
     "execution_count": 117,
     "output_type": "execute_result",
     "data": {
      "text/plain": "    user_id     age  sex\n0         1   45_54  NaN\n2         3  65_inf  0.0\n10       11   55_64  0.0\n11       12   55_64  1.0\n12       13   25_34  0.0",
      "text/html": "<div>\n<style scoped>\n    .dataframe tbody tr th:only-of-type {\n        vertical-align: middle;\n    }\n\n    .dataframe tbody tr th {\n        vertical-align: top;\n    }\n\n    .dataframe thead th {\n        text-align: right;\n    }\n</style>\n<table border=\"1\" class=\"dataframe\">\n  <thead>\n    <tr style=\"text-align: right;\">\n      <th></th>\n      <th>user_id</th>\n      <th>age</th>\n      <th>sex</th>\n    </tr>\n  </thead>\n  <tbody>\n    <tr>\n      <th>0</th>\n      <td>1</td>\n      <td>45_54</td>\n      <td>NaN</td>\n    </tr>\n    <tr>\n      <th>2</th>\n      <td>3</td>\n      <td>65_inf</td>\n      <td>0.0</td>\n    </tr>\n    <tr>\n      <th>10</th>\n      <td>11</td>\n      <td>55_64</td>\n      <td>0.0</td>\n    </tr>\n    <tr>\n      <th>11</th>\n      <td>12</td>\n      <td>55_64</td>\n      <td>1.0</td>\n    </tr>\n    <tr>\n      <th>12</th>\n      <td>13</td>\n      <td>25_34</td>\n      <td>0.0</td>\n    </tr>\n  </tbody>\n</table>\n</div>"
     },
     "metadata": {}
    }
   ]
  },
  {
   "metadata": {},
   "cell_type": "markdown",
   "source": "Сгуппируем название фичей и их значение и поместим их в один вектор `u_features_list`"
  },
  {
   "metadata": {
    "execution": {
     "iopub.status.busy": "2024-09-22T14:07:21.826999Z",
     "iopub.execute_input": "2024-09-22T14:07:21.827371Z",
     "iopub.status.idle": "2024-09-22T14:07:23.079130Z",
     "shell.execute_reply.started": "2024-09-22T14:07:21.827332Z",
     "shell.execute_reply": "2024-09-22T14:07:23.077819Z"
    },
    "trusted": false
   },
   "cell_type": "code",
   "source": "# set index as user_id\nu_features.set_index('user_id', inplace=True)\n\n# create feature name & value \nu_features_list = u_features.apply(\n    lambda feature_values: [f'{feature}_{feature_values[feature]}' \n                            for feature in feature_values.index \n                            if not pd.isna(feature_values[feature])],\n    axis=1\n    )\nu_features_list = u_features_list.rename('features')\nu_features_list",
   "execution_count": 118,
   "outputs": [
    {
     "execution_count": 118,
     "output_type": "execute_result",
     "data": {
      "text/plain": "user_id\n1                   [age_45_54]\n3         [age_65_inf, sex_0.0]\n11         [age_55_64, sex_0.0]\n12         [age_55_64, sex_1.0]\n13         [age_25_34, sex_0.0]\n                  ...          \n159603     [age_18_24, sex_1.0]\n159605     [age_18_24, sex_0.0]\n159606     [age_25_34, sex_0.0]\n159607              [age_25_34]\n159610     [age_35_44, sex_0.0]\nName: features, Length: 58529, dtype: object"
     },
     "metadata": {}
    }
   ]
  },
  {
   "metadata": {},
   "cell_type": "markdown",
   "source": "Все уникальные варианты в этом векторе"
  },
  {
   "metadata": {
    "execution": {
     "iopub.status.busy": "2024-09-22T14:07:23.080685Z",
     "iopub.execute_input": "2024-09-22T14:07:23.081170Z",
     "iopub.status.idle": "2024-09-22T14:07:23.117547Z",
     "shell.execute_reply.started": "2024-09-22T14:07:23.081125Z",
     "shell.execute_reply": "2024-09-22T14:07:23.116435Z"
    },
    "trusted": false
   },
   "cell_type": "code",
   "source": "# all unique feature name & value \nuser_tags = set(u_features_list.explode().dropna().values)\nuser_tags",
   "execution_count": 119,
   "outputs": [
    {
     "execution_count": 119,
     "output_type": "execute_result",
     "data": {
      "text/plain": "{'age_18_24',\n 'age_25_34',\n 'age_35_44',\n 'age_45_54',\n 'age_55_64',\n 'age_65_inf',\n 'sex_0.0',\n 'sex_1.0'}"
     },
     "metadata": {}
    }
   ]
  },
  {
   "metadata": {},
   "cell_type": "markdown",
   "source": "### (B) Фичи предметов\n\nВозмем только топ `50 жанров`"
  },
  {
   "metadata": {
    "execution": {
     "iopub.status.busy": "2024-09-22T14:07:23.118905Z",
     "iopub.execute_input": "2024-09-22T14:07:23.119307Z",
     "iopub.status.idle": "2024-09-22T14:07:23.128700Z",
     "shell.execute_reply.started": "2024-09-22T14:07:23.119252Z",
     "shell.execute_reply": "2024-09-22T14:07:23.127410Z"
    },
    "trusted": false
   },
   "cell_type": "code",
   "source": "# book genre\ni_features['genres']",
   "execution_count": 120,
   "outputs": [
    {
     "execution_count": 120,
     "output_type": "execute_result",
     "data": {
      "text/plain": "0        Зарубежные детские книги,Сказки,Зарубежная кла...\n1        Классическая проза,Литература 19 века,Русская ...\n2        Зарубежная классика,Классическая проза,Литерат...\n3                   Пьесы и драматургия,Литература 19 века\n4        Зарубежная классика,Классическая проза,Литерат...\n                               ...                        \n59594                Политология,Книги по экономике,Газеты\n59595                Политология,Книги по экономике,Газеты\n59596                     Политология,Общая история,Газеты\n59597                                   Журнальные издания\n59598    Журнальные издания,Энциклопедии,Научная фантас...\nName: genres, Length: 59485, dtype: object"
     },
     "metadata": {}
    }
   ]
  },
  {
   "metadata": {
    "execution": {
     "iopub.status.busy": "2024-09-22T14:07:23.130120Z",
     "iopub.execute_input": "2024-09-22T14:07:23.130496Z",
     "iopub.status.idle": "2024-09-22T14:07:23.154142Z",
     "shell.execute_reply.started": "2024-09-22T14:07:23.130444Z",
     "shell.execute_reply": "2024-09-22T14:07:23.153045Z"
    },
    "trusted": false
   },
   "cell_type": "code",
   "source": "i_features_lfm = i_features.copy()\ni_features_lfm.set_index('item_id', inplace=True)\ni_features_lfm.head()",
   "execution_count": 121,
   "outputs": [
    {
     "execution_count": 121,
     "output_type": "execute_result",
     "data": {
      "text/plain": "                     title                                             genres  \\\nitem_id                                                                         \n128115    Ворон-челобитчик  Зарубежные детские книги,Сказки,Зарубежная кла...   \n210979   Скрипка Ротшильда  Классическая проза,Литература 19 века,Русская ...   \n95632     Испорченные дети  Зарубежная классика,Классическая проза,Литерат...   \n247906    Странный человек             Пьесы и драматургия,Литература 19 века   \n294280   Господа ташкентцы  Зарубежная классика,Классическая проза,Литерат...   \n\n                        authors  year  \nitem_id                                \n128115   Михаил Салтыков-Щедрин  1886  \n210979              Антон Чехов  1894  \n95632    Михаил Салтыков-Щедрин  1869  \n247906         Михаил Лермонтов  1831  \n294280   Михаил Салтыков-Щедрин  1873  ",
      "text/html": "<div>\n<style scoped>\n    .dataframe tbody tr th:only-of-type {\n        vertical-align: middle;\n    }\n\n    .dataframe tbody tr th {\n        vertical-align: top;\n    }\n\n    .dataframe thead th {\n        text-align: right;\n    }\n</style>\n<table border=\"1\" class=\"dataframe\">\n  <thead>\n    <tr style=\"text-align: right;\">\n      <th></th>\n      <th>title</th>\n      <th>genres</th>\n      <th>authors</th>\n      <th>year</th>\n    </tr>\n    <tr>\n      <th>item_id</th>\n      <th></th>\n      <th></th>\n      <th></th>\n      <th></th>\n    </tr>\n  </thead>\n  <tbody>\n    <tr>\n      <th>128115</th>\n      <td>Ворон-челобитчик</td>\n      <td>Зарубежные детские книги,Сказки,Зарубежная кла...</td>\n      <td>Михаил Салтыков-Щедрин</td>\n      <td>1886</td>\n    </tr>\n    <tr>\n      <th>210979</th>\n      <td>Скрипка Ротшильда</td>\n      <td>Классическая проза,Литература 19 века,Русская ...</td>\n      <td>Антон Чехов</td>\n      <td>1894</td>\n    </tr>\n    <tr>\n      <th>95632</th>\n      <td>Испорченные дети</td>\n      <td>Зарубежная классика,Классическая проза,Литерат...</td>\n      <td>Михаил Салтыков-Щедрин</td>\n      <td>1869</td>\n    </tr>\n    <tr>\n      <th>247906</th>\n      <td>Странный человек</td>\n      <td>Пьесы и драматургия,Литература 19 века</td>\n      <td>Михаил Лермонтов</td>\n      <td>1831</td>\n    </tr>\n    <tr>\n      <th>294280</th>\n      <td>Господа ташкентцы</td>\n      <td>Зарубежная классика,Классическая проза,Литерат...</td>\n      <td>Михаил Салтыков-Щедрин</td>\n      <td>1873</td>\n    </tr>\n  </tbody>\n</table>\n</div>"
     },
     "metadata": {}
    }
   ]
  },
  {
   "metadata": {
    "execution": {
     "iopub.status.busy": "2024-09-22T14:07:23.155504Z",
     "iopub.execute_input": "2024-09-22T14:07:23.155846Z",
     "iopub.status.idle": "2024-09-22T14:07:23.224198Z",
     "shell.execute_reply.started": "2024-09-22T14:07:23.155809Z",
     "shell.execute_reply": "2024-09-22T14:07:23.223008Z"
    },
    "trusted": false
   },
   "cell_type": "code",
   "source": "# посчитаем количество рвз книга была прочитана\ni_features_lfm['reads'] = df.groupby('item_id')['user_id'].count()\ni_features_lfm.head()",
   "execution_count": 122,
   "outputs": [
    {
     "execution_count": 122,
     "output_type": "execute_result",
     "data": {
      "text/plain": "                     title                                             genres  \\\nitem_id                                                                         \n128115    Ворон-челобитчик  Зарубежные детские книги,Сказки,Зарубежная кла...   \n210979   Скрипка Ротшильда  Классическая проза,Литература 19 века,Русская ...   \n95632     Испорченные дети  Зарубежная классика,Классическая проза,Литерат...   \n247906    Странный человек             Пьесы и драматургия,Литература 19 века   \n294280   Господа ташкентцы  Зарубежная классика,Классическая проза,Литерат...   \n\n                        authors  year  reads  \nitem_id                                       \n128115   Михаил Салтыков-Щедрин  1886     11  \n210979              Антон Чехов  1894     87  \n95632    Михаил Салтыков-Щедрин  1869      5  \n247906         Михаил Лермонтов  1831      6  \n294280   Михаил Салтыков-Щедрин  1873      7  ",
      "text/html": "<div>\n<style scoped>\n    .dataframe tbody tr th:only-of-type {\n        vertical-align: middle;\n    }\n\n    .dataframe tbody tr th {\n        vertical-align: top;\n    }\n\n    .dataframe thead th {\n        text-align: right;\n    }\n</style>\n<table border=\"1\" class=\"dataframe\">\n  <thead>\n    <tr style=\"text-align: right;\">\n      <th></th>\n      <th>title</th>\n      <th>genres</th>\n      <th>authors</th>\n      <th>year</th>\n      <th>reads</th>\n    </tr>\n    <tr>\n      <th>item_id</th>\n      <th></th>\n      <th></th>\n      <th></th>\n      <th></th>\n      <th></th>\n    </tr>\n  </thead>\n  <tbody>\n    <tr>\n      <th>128115</th>\n      <td>Ворон-челобитчик</td>\n      <td>Зарубежные детские книги,Сказки,Зарубежная кла...</td>\n      <td>Михаил Салтыков-Щедрин</td>\n      <td>1886</td>\n      <td>11</td>\n    </tr>\n    <tr>\n      <th>210979</th>\n      <td>Скрипка Ротшильда</td>\n      <td>Классическая проза,Литература 19 века,Русская ...</td>\n      <td>Антон Чехов</td>\n      <td>1894</td>\n      <td>87</td>\n    </tr>\n    <tr>\n      <th>95632</th>\n      <td>Испорченные дети</td>\n      <td>Зарубежная классика,Классическая проза,Литерат...</td>\n      <td>Михаил Салтыков-Щедрин</td>\n      <td>1869</td>\n      <td>5</td>\n    </tr>\n    <tr>\n      <th>247906</th>\n      <td>Странный человек</td>\n      <td>Пьесы и драматургия,Литература 19 века</td>\n      <td>Михаил Лермонтов</td>\n      <td>1831</td>\n      <td>6</td>\n    </tr>\n    <tr>\n      <th>294280</th>\n      <td>Господа ташкентцы</td>\n      <td>Зарубежная классика,Классическая проза,Литерат...</td>\n      <td>Михаил Салтыков-Щедрин</td>\n      <td>1873</td>\n      <td>7</td>\n    </tr>\n  </tbody>\n</table>\n</div>"
     },
     "metadata": {}
    }
   ]
  },
  {
   "metadata": {
    "execution": {
     "iopub.status.busy": "2024-09-22T14:07:23.225972Z",
     "iopub.execute_input": "2024-09-22T14:07:23.226410Z",
     "iopub.status.idle": "2024-09-22T14:07:23.367923Z",
     "shell.execute_reply.started": "2024-09-22T14:07:23.226370Z",
     "shell.execute_reply": "2024-09-22T14:07:23.366758Z"
    },
    "trusted": false
   },
   "cell_type": "code",
   "source": "# genre features (list)\ni_features_lfm['genres'] = i_features_lfm['genres'].str.lower().str.split(',')\ni_features_lfm['genres'] = i_features_lfm['genres'].apply(lambda x: x if isinstance(x, list) else [])\ni_features_lfm[['genres','reads']].head()",
   "execution_count": 123,
   "outputs": [
    {
     "execution_count": 123,
     "output_type": "execute_result",
     "data": {
      "text/plain": "                                                    genres  reads\nitem_id                                                          \n128115   [зарубежные детские книги, сказки, зарубежная ...     11\n210979   [классическая проза, литература 19 века, русск...     87\n95632    [зарубежная классика, классическая проза, лите...      5\n247906           [пьесы и драматургия, литература 19 века]      6\n294280   [зарубежная классика, классическая проза, лите...      7",
      "text/html": "<div>\n<style scoped>\n    .dataframe tbody tr th:only-of-type {\n        vertical-align: middle;\n    }\n\n    .dataframe tbody tr th {\n        vertical-align: top;\n    }\n\n    .dataframe thead th {\n        text-align: right;\n    }\n</style>\n<table border=\"1\" class=\"dataframe\">\n  <thead>\n    <tr style=\"text-align: right;\">\n      <th></th>\n      <th>genres</th>\n      <th>reads</th>\n    </tr>\n    <tr>\n      <th>item_id</th>\n      <th></th>\n      <th></th>\n    </tr>\n  </thead>\n  <tbody>\n    <tr>\n      <th>128115</th>\n      <td>[зарубежные детские книги, сказки, зарубежная ...</td>\n      <td>11</td>\n    </tr>\n    <tr>\n      <th>210979</th>\n      <td>[классическая проза, литература 19 века, русск...</td>\n      <td>87</td>\n    </tr>\n    <tr>\n      <th>95632</th>\n      <td>[зарубежная классика, классическая проза, лите...</td>\n      <td>5</td>\n    </tr>\n    <tr>\n      <th>247906</th>\n      <td>[пьесы и драматургия, литература 19 века]</td>\n      <td>6</td>\n    </tr>\n    <tr>\n      <th>294280</th>\n      <td>[зарубежная классика, классическая проза, лите...</td>\n      <td>7</td>\n    </tr>\n  </tbody>\n</table>\n</div>"
     },
     "metadata": {}
    }
   ]
  },
  {
   "metadata": {
    "execution": {
     "iopub.status.busy": "2024-09-22T14:07:23.369758Z",
     "iopub.execute_input": "2024-09-22T14:07:23.370166Z",
     "iopub.status.idle": "2024-09-22T14:07:23.427636Z",
     "shell.execute_reply.started": "2024-09-22T14:07:23.370126Z",
     "shell.execute_reply": "2024-09-22T14:07:23.426071Z"
    },
    "trusted": false
   },
   "cell_type": "code",
   "source": "i_features_lfm[['genres','reads']].explode('genres')",
   "execution_count": 124,
   "outputs": [
    {
     "execution_count": 124,
     "output_type": "execute_result",
     "data": {
      "text/plain": "                           genres  reads\nitem_id                                 \n128115   зарубежные детские книги     11\n128115                     сказки     11\n128115        зарубежная классика     11\n128115         литература 19 века     11\n128115           русская классика     11\n...                           ...    ...\n125582                     газеты     10\n33188          журнальные издания      5\n65317          журнальные издания      4\n65317                энциклопедии      4\n65317          научная фантастика      4\n\n[126510 rows x 2 columns]",
      "text/html": "<div>\n<style scoped>\n    .dataframe tbody tr th:only-of-type {\n        vertical-align: middle;\n    }\n\n    .dataframe tbody tr th {\n        vertical-align: top;\n    }\n\n    .dataframe thead th {\n        text-align: right;\n    }\n</style>\n<table border=\"1\" class=\"dataframe\">\n  <thead>\n    <tr style=\"text-align: right;\">\n      <th></th>\n      <th>genres</th>\n      <th>reads</th>\n    </tr>\n    <tr>\n      <th>item_id</th>\n      <th></th>\n      <th></th>\n    </tr>\n  </thead>\n  <tbody>\n    <tr>\n      <th>128115</th>\n      <td>зарубежные детские книги</td>\n      <td>11</td>\n    </tr>\n    <tr>\n      <th>128115</th>\n      <td>сказки</td>\n      <td>11</td>\n    </tr>\n    <tr>\n      <th>128115</th>\n      <td>зарубежная классика</td>\n      <td>11</td>\n    </tr>\n    <tr>\n      <th>128115</th>\n      <td>литература 19 века</td>\n      <td>11</td>\n    </tr>\n    <tr>\n      <th>128115</th>\n      <td>русская классика</td>\n      <td>11</td>\n    </tr>\n    <tr>\n      <th>...</th>\n      <td>...</td>\n      <td>...</td>\n    </tr>\n    <tr>\n      <th>125582</th>\n      <td>газеты</td>\n      <td>10</td>\n    </tr>\n    <tr>\n      <th>33188</th>\n      <td>журнальные издания</td>\n      <td>5</td>\n    </tr>\n    <tr>\n      <th>65317</th>\n      <td>журнальные издания</td>\n      <td>4</td>\n    </tr>\n    <tr>\n      <th>65317</th>\n      <td>энциклопедии</td>\n      <td>4</td>\n    </tr>\n    <tr>\n      <th>65317</th>\n      <td>научная фантастика</td>\n      <td>4</td>\n    </tr>\n  </tbody>\n</table>\n<p>126510 rows × 2 columns</p>\n</div>"
     },
     "metadata": {}
    }
   ]
  },
  {
   "metadata": {
    "execution": {
     "iopub.status.busy": "2024-09-22T14:07:23.429261Z",
     "iopub.execute_input": "2024-09-22T14:07:23.429769Z",
     "iopub.status.idle": "2024-09-22T14:07:23.508785Z",
     "shell.execute_reply.started": "2024-09-22T14:07:23.429706Z",
     "shell.execute_reply": "2024-09-22T14:07:23.507690Z"
    },
    "trusted": false
   },
   "cell_type": "code",
   "source": "# genre based read count\ngenres_count = i_features_lfm[['genres','reads']].explode('genres').groupby('genres')['reads'].sum()\ngenres_count.sort_values(ascending=False)",
   "execution_count": 125,
   "outputs": [
    {
     "execution_count": 125,
     "output_type": "execute_result",
     "data": {
      "text/plain": "genres\nлюбовное фэнтези               72008\nпопаданцы                      52832\nсовременные любовные романы    49248\nсовременные детективы          46660\nгероическое фэнтези            40794\n                               ...  \nлитература 7 класс                 3\nэкономическая статистика           2\nвоздушный транспорт                2\nнаучно-практические журналы        2\nматематика 3 класс                 1\nName: reads, Length: 640, dtype: int64"
     },
     "metadata": {}
    }
   ]
  },
  {
   "metadata": {
    "execution": {
     "iopub.status.busy": "2024-09-22T14:07:23.510049Z",
     "iopub.execute_input": "2024-09-22T14:07:23.510386Z",
     "iopub.status.idle": "2024-09-22T14:07:23.520328Z",
     "shell.execute_reply.started": "2024-09-22T14:07:23.510352Z",
     "shell.execute_reply": "2024-09-22T14:07:23.518858Z"
    },
    "trusted": false
   },
   "cell_type": "code",
   "source": "# top 50 genres by read ammount; get their index in dataframe \nitem_tags = genres_count.sort_values(ascending=False)[:50].index\nlist(item_tags[:10])",
   "execution_count": 126,
   "outputs": [
    {
     "execution_count": 126,
     "output_type": "execute_result",
     "data": {
      "text/plain": "['любовное фэнтези',\n 'попаданцы',\n 'современные любовные романы',\n 'современные детективы',\n 'героическое фэнтези',\n 'современная русская литература',\n 'боевая фантастика',\n 'зарубежные любовные романы',\n 'боевое фэнтези',\n 'эротические романы']"
     },
     "metadata": {}
    }
   ]
  },
  {
   "metadata": {
    "execution": {
     "iopub.status.busy": "2024-09-22T14:07:23.521876Z",
     "iopub.execute_input": "2024-09-22T14:07:23.522464Z",
     "iopub.status.idle": "2024-09-22T14:07:23.641758Z",
     "shell.execute_reply.started": "2024-09-22T14:07:23.522409Z",
     "shell.execute_reply": "2024-09-22T14:07:23.640259Z"
    },
    "trusted": false
   },
   "cell_type": "code",
   "source": "# filter item dataframe; select only top 50 genres \ndef filter_genres(genres_list, valid_genres=None):\n    if not genres_list:\n        return []\n    return [genre for genre in genres_list if genre in valid_genres]\n\n# filter genres\ni_features_lfm['features'] = i_features_lfm['genres'].apply(filter_genres, \n                                                            valid_genres=set(item_tags))\ni_features_list = i_features_lfm['features']\ni_features_lfm.head()",
   "execution_count": 127,
   "outputs": [
    {
     "execution_count": 127,
     "output_type": "execute_result",
     "data": {
      "text/plain": "                     title                                             genres  \\\nitem_id                                                                         \n128115    Ворон-челобитчик  [зарубежные детские книги, сказки, зарубежная ...   \n210979   Скрипка Ротшильда  [классическая проза, литература 19 века, русск...   \n95632     Испорченные дети  [зарубежная классика, классическая проза, лите...   \n247906    Странный человек          [пьесы и драматургия, литература 19 века]   \n294280   Господа ташкентцы  [зарубежная классика, классическая проза, лите...   \n\n                        authors  year  reads  \\\nitem_id                                        \n128115   Михаил Салтыков-Щедрин  1886     11   \n210979              Антон Чехов  1894     87   \n95632    Михаил Салтыков-Щедрин  1869      5   \n247906         Михаил Лермонтов  1831      6   \n294280   Михаил Салтыков-Щедрин  1873      7   \n\n                                                  features  \nitem_id                                                     \n128115   [зарубежная классика, литература 19 века, русс...  \n210979              [литература 19 века, русская классика]  \n95632    [зарубежная классика, литература 19 века, русс...  \n247906                                [литература 19 века]  \n294280   [зарубежная классика, литература 19 века, русс...  ",
      "text/html": "<div>\n<style scoped>\n    .dataframe tbody tr th:only-of-type {\n        vertical-align: middle;\n    }\n\n    .dataframe tbody tr th {\n        vertical-align: top;\n    }\n\n    .dataframe thead th {\n        text-align: right;\n    }\n</style>\n<table border=\"1\" class=\"dataframe\">\n  <thead>\n    <tr style=\"text-align: right;\">\n      <th></th>\n      <th>title</th>\n      <th>genres</th>\n      <th>authors</th>\n      <th>year</th>\n      <th>reads</th>\n      <th>features</th>\n    </tr>\n    <tr>\n      <th>item_id</th>\n      <th></th>\n      <th></th>\n      <th></th>\n      <th></th>\n      <th></th>\n      <th></th>\n    </tr>\n  </thead>\n  <tbody>\n    <tr>\n      <th>128115</th>\n      <td>Ворон-челобитчик</td>\n      <td>[зарубежные детские книги, сказки, зарубежная ...</td>\n      <td>Михаил Салтыков-Щедрин</td>\n      <td>1886</td>\n      <td>11</td>\n      <td>[зарубежная классика, литература 19 века, русс...</td>\n    </tr>\n    <tr>\n      <th>210979</th>\n      <td>Скрипка Ротшильда</td>\n      <td>[классическая проза, литература 19 века, русск...</td>\n      <td>Антон Чехов</td>\n      <td>1894</td>\n      <td>87</td>\n      <td>[литература 19 века, русская классика]</td>\n    </tr>\n    <tr>\n      <th>95632</th>\n      <td>Испорченные дети</td>\n      <td>[зарубежная классика, классическая проза, лите...</td>\n      <td>Михаил Салтыков-Щедрин</td>\n      <td>1869</td>\n      <td>5</td>\n      <td>[зарубежная классика, литература 19 века, русс...</td>\n    </tr>\n    <tr>\n      <th>247906</th>\n      <td>Странный человек</td>\n      <td>[пьесы и драматургия, литература 19 века]</td>\n      <td>Михаил Лермонтов</td>\n      <td>1831</td>\n      <td>6</td>\n      <td>[литература 19 века]</td>\n    </tr>\n    <tr>\n      <th>294280</th>\n      <td>Господа ташкентцы</td>\n      <td>[зарубежная классика, классическая проза, лите...</td>\n      <td>Михаил Салтыков-Щедрин</td>\n      <td>1873</td>\n      <td>7</td>\n      <td>[зарубежная классика, литература 19 века, русс...</td>\n    </tr>\n  </tbody>\n</table>\n</div>"
     },
     "metadata": {}
    }
   ]
  },
  {
   "metadata": {},
   "cell_type": "markdown",
   "source": "## <div style=\"padding: 30px;color:white;margin:10;font-size:60%;text-align:left;display:fill;border-radius:10px;background-color:#FFFFFF;overflow:hidden;background-color:#232834\"><b><span style='color:#686dec'>5 |</span></b> <b>Создаем Датасет LightFM</b></div>\n\nДля того чтобы сделать предсказание, условно нужно сделать 3 шага перед `predict`\n- (a) Построение матрицу взаимодействии `.fit_partial()` для LightFM датасет\n- (b) Построение признаков пользователей и объектов `build_item_features()` для LightFM датасет\n- (с) Добавляем интеракции в LightFM датасет `build_interactions()`"
  },
  {
   "metadata": {
    "execution": {
     "iopub.status.busy": "2024-09-22T14:07:23.643200Z",
     "iopub.execute_input": "2024-09-22T14:07:23.643559Z",
     "iopub.status.idle": "2024-09-22T14:07:23.674436Z",
     "shell.execute_reply.started": "2024-09-22T14:07:23.643522Z",
     "shell.execute_reply": "2024-09-22T14:07:23.673010Z"
    },
    "trusted": false
   },
   "cell_type": "code",
   "source": "\"\"\"\n\n(A) Построем матрицу взимодействий \n\n- LightFM работает с sparse формате\n- Датасе конвертирует данные в sparse формат \n- Матрица взаимодействий - матрица размером (количество пользователей,количество объектов)\n\n\"\"\"\n\nlfm_dataset = LFMDataset()",
   "execution_count": 128,
   "outputs": []
  },
  {
   "metadata": {
    "execution": {
     "iopub.status.busy": "2024-09-22T14:07:23.676210Z",
     "iopub.execute_input": "2024-09-22T14:07:23.676753Z",
     "iopub.status.idle": "2024-09-22T14:07:23.719756Z",
     "shell.execute_reply.started": "2024-09-22T14:07:23.676691Z",
     "shell.execute_reply": "2024-09-22T14:07:23.718102Z"
    },
    "trusted": false
   },
   "cell_type": "code",
   "source": "# Список уникальных пользователей и предметов\nprint('user_id',df['user_id'].unique()[:5]) # (1)\nprint('item_id',df['item_id'].unique()[:5]) # (2)",
   "execution_count": 129,
   "outputs": [
    {
     "name": "stdout",
     "text": "user_id [47427 99355 55263 58868 40184]\nitem_id [ 46915 249281  80651 164458 128111]\n",
     "output_type": "stream"
    }
   ]
  },
  {
   "metadata": {
    "execution": {
     "iopub.status.busy": "2024-09-22T14:07:23.721708Z",
     "iopub.execute_input": "2024-09-22T14:07:23.722853Z",
     "iopub.status.idle": "2024-09-22T14:07:23.730245Z",
     "shell.execute_reply.started": "2024-09-22T14:07:23.722790Z",
     "shell.execute_reply": "2024-09-22T14:07:23.729062Z"
    },
    "trusted": false
   },
   "cell_type": "code",
   "source": "# (4) список уникальных фичи пред0-дбь зщжюметов\nlist(item_tags[:10])",
   "execution_count": 130,
   "outputs": [
    {
     "execution_count": 130,
     "output_type": "execute_result",
     "data": {
      "text/plain": "['любовное фэнтези',\n 'попаданцы',\n 'современные любовные романы',\n 'современные детективы',\n 'героическое фэнтези',\n 'современная русская литература',\n 'боевая фантастика',\n 'зарубежные любовные романы',\n 'боевое фэнтези',\n 'эротические романы']"
     },
     "metadata": {}
    }
   ]
  },
  {
   "metadata": {
    "execution": {
     "iopub.status.busy": "2024-09-22T14:07:23.732167Z",
     "iopub.execute_input": "2024-09-22T14:07:23.732542Z",
     "iopub.status.idle": "2024-09-22T14:07:23.874620Z",
     "shell.execute_reply.started": "2024-09-22T14:07:23.732502Z",
     "shell.execute_reply": "2024-09-22T14:07:23.873327Z"
    },
    "trusted": false
   },
   "cell_type": "code",
   "source": "# set unique users & items \nlfm_dataset.fit_partial(users=df['user_id'].unique(),  # (1)\n                        items=df['item_id'].unique())  # (2)\n\n# user features & item features\nlfm_dataset.fit_partial(user_features=user_tags, # (3)\n                        item_features=item_tags) # (4)\n\n# матрица взаимодействий\nlfm_dataset.interactions_shape()",
   "execution_count": 131,
   "outputs": [
    {
     "execution_count": 131,
     "output_type": "execute_result",
     "data": {
      "text/plain": "(64955, 59485)"
     },
     "metadata": {}
    }
   ]
  },
  {
   "metadata": {
    "execution": {
     "iopub.status.busy": "2024-09-22T14:07:23.876503Z",
     "iopub.execute_input": "2024-09-22T14:07:23.877043Z",
     "iopub.status.idle": "2024-09-22T14:07:23.944589Z",
     "shell.execute_reply.started": "2024-09-22T14:07:23.876965Z",
     "shell.execute_reply": "2024-09-22T14:07:23.943225Z"
    },
    "trusted": false
   },
   "cell_type": "code",
   "source": "\"\"\"\n\nMappers\n\n\"\"\"\n\nuser_mapping = lfm_dataset.mapping()[0]\nitem_mapping = lfm_dataset.mapping()[2]\n\nprint('user mapping')\nfor ii,(i,j) in enumerate(user_mapping.items()):\n    if(ii<5):\n        print(i,j)\n        \nprint('\\nitem mapping')\nfor ii,(i,j) in enumerate(item_mapping.items()):\n    if(ii<5):\n        print(i,j)\n        \ninv_user_mapping = {value: key for key, value in user_mapping.items()}\ninv_item_mapping = {value: key for key, value in item_mapping.items()}",
   "execution_count": 132,
   "outputs": [
    {
     "name": "stdout",
     "text": "user mapping\n47427 0\n99355 1\n55263 2\n58868 3\n40184 4\n\nitem mapping\n46915 0\n249281 1\n80651 2\n164458 3\n128111 4\n",
     "output_type": "stream"
    }
   ]
  },
  {
   "metadata": {
    "execution": {
     "iopub.status.busy": "2024-09-22T14:07:23.946129Z",
     "iopub.execute_input": "2024-09-22T14:07:23.946539Z",
     "iopub.status.idle": "2024-09-22T14:07:24.671424Z",
     "shell.execute_reply.started": "2024-09-22T14:07:23.946494Z",
     "shell.execute_reply": "2024-09-22T14:07:24.670207Z"
    },
    "trusted": false
   },
   "cell_type": "code",
   "source": "'''\n\n(B) Построем признаки пользователей и объектов\n\n'''\n\nsparse_i_features = lfm_dataset.build_item_features([[row.item_id, row.features] for row in i_features_list.reset_index().itertuples()])\nsparse_u_features = lfm_dataset.build_user_features([[row.user_id, row.features] for row in u_features_list.reset_index().itertuples()])\nsparse_i_features",
   "execution_count": 133,
   "outputs": [
    {
     "execution_count": 133,
     "output_type": "execute_result",
     "data": {
      "text/plain": "<Compressed Sparse Row sparse matrix of dtype 'float32'\n\twith 131534 stored elements and shape (59485, 59535)>"
     },
     "metadata": {}
    }
   ]
  },
  {
   "metadata": {
    "execution": {
     "iopub.status.busy": "2024-09-22T14:07:24.672658Z",
     "iopub.execute_input": "2024-09-22T14:07:24.673020Z",
     "iopub.status.idle": "2024-09-22T14:07:24.682269Z",
     "shell.execute_reply.started": "2024-09-22T14:07:24.672967Z",
     "shell.execute_reply": "2024-09-22T14:07:24.681036Z"
    },
    "trusted": false
   },
   "cell_type": "code",
   "source": "# check what the data contains\nsparse_i_features[51, :].nonzero(), sparse_i_features[51, :].data",
   "execution_count": 134,
   "outputs": [
    {
     "execution_count": 134,
     "output_type": "execute_result",
     "data": {
      "text/plain": "((array([0], dtype=int32), array([51], dtype=int32)),\n array([1.], dtype=float32))"
     },
     "metadata": {}
    }
   ]
  },
  {
   "metadata": {
    "execution": {
     "iopub.status.busy": "2024-09-22T14:07:24.683832Z",
     "iopub.execute_input": "2024-09-22T14:07:24.685121Z",
     "iopub.status.idle": "2024-09-22T14:07:27.271286Z",
     "shell.execute_reply.started": "2024-09-22T14:07:24.685071Z",
     "shell.execute_reply": "2024-09-22T14:07:27.270269Z"
    },
    "trusted": false
   },
   "cell_type": "code",
   "source": "\"\"\"\n\n(С) Добавляем интеракции в датасет\n\n- [user_id] [item_id] [progress] из главной матрицы\n\n\"\"\"\n\n# Трансформируем \n(interactions, weights) = lfm_dataset.build_interactions([(row.user_id, row.item_id, row.progress) for row in train.itertuples()])",
   "execution_count": 135,
   "outputs": []
  },
  {
   "metadata": {},
   "cell_type": "markdown",
   "source": "Посмотрим на содержание матриц interactions и weights: используя матрицу interactions можно легко перейти от рейтингов к бинарному фидбеку. Будем использовать weights."
  },
  {
   "metadata": {
    "execution": {
     "iopub.status.busy": "2024-09-22T14:07:27.272491Z",
     "iopub.execute_input": "2024-09-22T14:07:27.272846Z",
     "iopub.status.idle": "2024-09-22T14:07:27.279338Z",
     "shell.execute_reply.started": "2024-09-22T14:07:27.272807Z",
     "shell.execute_reply": "2024-09-22T14:07:27.278196Z"
    },
    "trusted": false
   },
   "cell_type": "code",
   "source": "print(interactions.shape)\nprint(interactions.data) # interaction \nprint(weights.data) # progress",
   "execution_count": 136,
   "outputs": [
    {
     "name": "stdout",
     "text": "(64955, 59485)\n[1 1 1 ... 1 1 1]\n[65. 78. 77. ... 85. 60. 33.]\n",
     "output_type": "stream"
    }
   ]
  },
  {
   "metadata": {},
   "cell_type": "markdown",
   "source": "## <div style=\"padding: 30px;color:white;margin:10;font-size:60%;text-align:left;display:fill;border-radius:10px;background-color:#FFFFFF;overflow:hidden;background-color:#232834\"><b><span style='color:#686dec'>6 |</span></b> <b>Обучаем Модель LightFM</b></div>\n\nВ модели тва гиперпараметра; `no_components` и `loss`\n\nДля `fit` нужно \n- Нужен интеракции (которые получили через `build_interactions()` (C)\n- Нужны `user_features` и `item_features` (построили через `build_item_features()` (B)"
  },
  {
   "metadata": {
    "execution": {
     "iopub.status.busy": "2024-09-22T14:07:27.280579Z",
     "iopub.execute_input": "2024-09-22T14:07:27.280973Z",
     "iopub.status.idle": "2024-09-22T14:08:31.564184Z",
     "shell.execute_reply.started": "2024-09-22T14:07:27.280935Z",
     "shell.execute_reply": "2024-09-22T14:08:31.563070Z"
    },
    "trusted": false
   },
   "cell_type": "code",
   "source": "%%time\nlightfm = LightFM(no_components=50, \n                  loss='warp')\n\nlightfm.fit(interactions, \n            user_features=sparse_u_features, \n            item_features=sparse_i_features, \n            epochs=40, \n            num_threads=8)",
   "execution_count": 137,
   "outputs": [
    {
     "name": "stdout",
     "text": "CPU times: user 4min 1s, sys: 146 ms, total: 4min 1s\nWall time: 1min 4s\n",
     "output_type": "stream"
    },
    {
     "execution_count": 137,
     "output_type": "execute_result",
     "data": {
      "text/plain": "<lightfm.lightfm.LightFM at 0x7ba3aa7fc3d0>"
     },
     "metadata": {}
    }
   ]
  },
  {
   "metadata": {},
   "cell_type": "markdown",
   "source": "## <div style=\"padding: 30px;color:white;margin:10;font-size:60%;text-align:left;display:fill;border-radius:10px;background-color:#FFFFFF;overflow:hidden;background-color:#232834\"><b><span style='color:#686dec'>7 |</span></b> <b>Предсказание для одного пользователя</b></div>\n\n### (A) Через метод predict\n\nДля примера возмем пользователя `2535`, воспольземся предсказанием используя `predict`. Посчитаем жанры книг для этого пользователя."
  },
  {
   "metadata": {
    "execution": {
     "iopub.status.busy": "2024-09-22T14:08:31.565834Z",
     "iopub.execute_input": "2024-09-22T14:08:31.566602Z",
     "iopub.status.idle": "2024-09-22T14:08:31.593431Z",
     "shell.execute_reply.started": "2024-09-22T14:08:31.566544Z",
     "shell.execute_reply": "2024-09-22T14:08:31.592349Z"
    },
    "trusted": false
   },
   "cell_type": "code",
   "source": "# merge on item_id, \ntrain[train.user_id == 2535].merge(i_features)['genres'].value_counts()",
   "execution_count": 138,
   "outputs": [
    {
     "execution_count": 138,
     "output_type": "execute_result",
     "data": {
      "text/plain": "genres\nСовременная русская литература                           19\nСовременная зарубежная литература                         6\nЛегкая проза                                              2\nСаморазвитие / личностный рост,О психологии популярно     2\nМистика,Современная зарубежная литература                 2\nСовременные детективы                                     1\nИсторическая литература,Культурология                     1\nКниги для детей                                           1\nЮмор и сатира,Современная русская литература              1\nЗарубежная публицистика,Биографии и мемуары               1\nСовременная русская литература,Юмористическая проза       1\nКниги для подростков,Детская проза                        1\nОбщая психология,Современная русская литература           1\nЗарубежная классика,Литература 20 века                    1\nName: count, dtype: int64"
     },
     "metadata": {}
    }
   ]
  },
  {
   "metadata": {
    "execution": {
     "iopub.status.busy": "2024-09-22T14:08:31.594629Z",
     "iopub.execute_input": "2024-09-22T14:08:31.594942Z",
     "iopub.status.idle": "2024-09-22T14:08:31.628479Z",
     "shell.execute_reply.started": "2024-09-22T14:08:31.594908Z",
     "shell.execute_reply": "2024-09-22T14:08:31.627296Z"
    },
    "trusted": false
   },
   "cell_type": "code",
   "source": "pred = lightfm.predict(user_ids=user_mapping[2535], \n                       item_ids=sorted(item_mapping.values()), \n                       user_features=sparse_u_features, \n                       item_features=sparse_i_features)",
   "execution_count": 139,
   "outputs": []
  },
  {
   "metadata": {
    "execution": {
     "iopub.status.busy": "2024-09-22T14:08:31.629818Z",
     "iopub.execute_input": "2024-09-22T14:08:31.630199Z",
     "iopub.status.idle": "2024-09-22T14:08:31.637846Z",
     "shell.execute_reply.started": "2024-09-22T14:08:31.630160Z",
     "shell.execute_reply": "2024-09-22T14:08:31.636774Z"
    },
    "trusted": false
   },
   "cell_type": "code",
   "source": "# предсказание для каждой книги\npred",
   "execution_count": 140,
   "outputs": [
    {
     "execution_count": 140,
     "output_type": "execute_result",
     "data": {
      "text/plain": "array([-152.5988 , -152.75304, -154.45453, ..., -153.4577 , -154.3803 ,\n       -153.56342], dtype=float32)"
     },
     "metadata": {}
    }
   ]
  },
  {
   "metadata": {
    "execution": {
     "iopub.status.busy": "2024-09-22T14:08:31.639264Z",
     "iopub.execute_input": "2024-09-22T14:08:31.639651Z",
     "iopub.status.idle": "2024-09-22T14:08:31.814387Z",
     "shell.execute_reply.started": "2024-09-22T14:08:31.639613Z",
     "shell.execute_reply": "2024-09-22T14:08:31.813326Z"
    },
    "trusted": false
   },
   "cell_type": "code",
   "source": "k = 10\nids = np.argpartition(pred,-k)[-k:]\nrel = pred[ids]\nres = pd.DataFrame(zip(ids, rel), \n                   columns=['item_id', 'relevance'])\nres['item_id'] = res['item_id'].map(inv_item_mapping)",
   "execution_count": 141,
   "outputs": []
  },
  {
   "metadata": {
    "execution": {
     "iopub.status.busy": "2024-09-22T14:08:31.820367Z",
     "iopub.execute_input": "2024-09-22T14:08:31.820779Z",
     "iopub.status.idle": "2024-09-22T14:08:31.847403Z",
     "shell.execute_reply.started": "2024-09-22T14:08:31.820731Z",
     "shell.execute_reply": "2024-09-22T14:08:31.846208Z"
    },
    "trusted": false
   },
   "cell_type": "code",
   "source": "res.merge(i_features).head()",
   "execution_count": 142,
   "outputs": [
    {
     "execution_count": 142,
     "output_type": "execute_result",
     "data": {
      "text/plain": "   item_id   relevance                                              title  \\\n0    99616 -147.307663  Когда дыхание растворяется в воздухе. Иногда с...   \n1   237169 -147.230911                                        Понаехавшая   \n2    90225 -145.876343                            Зулейха открывает глаза   \n3   107876 -146.454849  Женщины непреклонного возраста и др. беспринцЫ...   \n4   184129 -147.189774                          Не оглядывающийся никогда   \n\n                                              genres           authors  year  \n0  Зарубежная публицистика,Современная зарубежная...      Пол Каланити  2016  \n1                     Современная русская литература    Наринэ Абгарян  2011  \n2                     Современная русская литература      Гузель Яхина  2015  \n3  Современная русская литература,Юмористическая ...  Александр Цыпкин  2018  \n4                     Современная русская литература  Татьяна Устинова  2011  ",
      "text/html": "<div>\n<style scoped>\n    .dataframe tbody tr th:only-of-type {\n        vertical-align: middle;\n    }\n\n    .dataframe tbody tr th {\n        vertical-align: top;\n    }\n\n    .dataframe thead th {\n        text-align: right;\n    }\n</style>\n<table border=\"1\" class=\"dataframe\">\n  <thead>\n    <tr style=\"text-align: right;\">\n      <th></th>\n      <th>item_id</th>\n      <th>relevance</th>\n      <th>title</th>\n      <th>genres</th>\n      <th>authors</th>\n      <th>year</th>\n    </tr>\n  </thead>\n  <tbody>\n    <tr>\n      <th>0</th>\n      <td>99616</td>\n      <td>-147.307663</td>\n      <td>Когда дыхание растворяется в воздухе. Иногда с...</td>\n      <td>Зарубежная публицистика,Современная зарубежная...</td>\n      <td>Пол Каланити</td>\n      <td>2016</td>\n    </tr>\n    <tr>\n      <th>1</th>\n      <td>237169</td>\n      <td>-147.230911</td>\n      <td>Понаехавшая</td>\n      <td>Современная русская литература</td>\n      <td>Наринэ Абгарян</td>\n      <td>2011</td>\n    </tr>\n    <tr>\n      <th>2</th>\n      <td>90225</td>\n      <td>-145.876343</td>\n      <td>Зулейха открывает глаза</td>\n      <td>Современная русская литература</td>\n      <td>Гузель Яхина</td>\n      <td>2015</td>\n    </tr>\n    <tr>\n      <th>3</th>\n      <td>107876</td>\n      <td>-146.454849</td>\n      <td>Женщины непреклонного возраста и др. беспринцЫ...</td>\n      <td>Современная русская литература,Юмористическая ...</td>\n      <td>Александр Цыпкин</td>\n      <td>2018</td>\n    </tr>\n    <tr>\n      <th>4</th>\n      <td>184129</td>\n      <td>-147.189774</td>\n      <td>Не оглядывающийся никогда</td>\n      <td>Современная русская литература</td>\n      <td>Татьяна Устинова</td>\n      <td>2011</td>\n    </tr>\n  </tbody>\n</table>\n</div>"
     },
     "metadata": {}
    }
   ]
  },
  {
   "metadata": {},
   "cell_type": "markdown",
   "source": "### (B) Ручным подходом\n\nВернемся к формуле:\n\n$$r_{ui} = <q_u , p_i> + b_u + b_i$$\n\n$$q_u = \\sum_{j \\in f_u} e^U_j$$\n$$ e^U_j = w^U_j  e_j$$\n$$b_u = \\sum_{j \\in f_u} b^U_j$$\n$$ b^U_j = w^U_j  b_j$$\n\n<br>\n\nгде $q_u, p_i$ - вектора пользователя и объекта, являющиеся суммой векторов и их признаков\n$b_u, b_i$ - смещения для признаков пользователя и объекта\n"
  },
  {
   "metadata": {
    "execution": {
     "iopub.status.busy": "2024-09-22T14:08:31.848845Z",
     "iopub.execute_input": "2024-09-22T14:08:31.849306Z",
     "iopub.status.idle": "2024-09-22T14:08:31.856184Z",
     "shell.execute_reply.started": "2024-09-22T14:08:31.849256Z",
     "shell.execute_reply": "2024-09-22T14:08:31.854968Z"
    },
    "trusted": false
   },
   "cell_type": "code",
   "source": "item_id_lfm = item_mapping[55913]\nuser_id_lfm = user_mapping[2535]",
   "execution_count": 143,
   "outputs": []
  },
  {
   "metadata": {
    "execution": {
     "iopub.status.busy": "2024-09-22T14:08:31.857524Z",
     "iopub.execute_input": "2024-09-22T14:08:31.857876Z",
     "iopub.status.idle": "2024-09-22T14:08:31.871720Z",
     "shell.execute_reply.started": "2024-09-22T14:08:31.857841Z",
     "shell.execute_reply": "2024-09-22T14:08:31.870589Z"
    },
    "trusted": false
   },
   "cell_type": "code",
   "source": "# user\nu_biases, u_vectors = lightfm.get_user_representations()\nu_vectors.shape, u_biases.shape",
   "execution_count": 144,
   "outputs": [
    {
     "execution_count": 144,
     "output_type": "execute_result",
     "data": {
      "text/plain": "((64963, 50), (64963,))"
     },
     "metadata": {}
    }
   ]
  },
  {
   "metadata": {
    "execution": {
     "iopub.status.busy": "2024-09-22T14:08:31.872948Z",
     "iopub.execute_input": "2024-09-22T14:08:31.873298Z",
     "iopub.status.idle": "2024-09-22T14:08:31.888387Z",
     "shell.execute_reply.started": "2024-09-22T14:08:31.873263Z",
     "shell.execute_reply": "2024-09-22T14:08:31.887069Z"
    },
    "trusted": false
   },
   "cell_type": "code",
   "source": "i_biases, i_vectors = lightfm.get_item_representations()\ni_vectors.shape, i_biases.shape",
   "execution_count": 145,
   "outputs": [
    {
     "execution_count": 145,
     "output_type": "execute_result",
     "data": {
      "text/plain": "((59535, 50), (59535,))"
     },
     "metadata": {}
    }
   ]
  },
  {
   "metadata": {
    "execution": {
     "iopub.status.busy": "2024-09-22T14:08:31.890111Z",
     "iopub.execute_input": "2024-09-22T14:08:31.890538Z",
     "iopub.status.idle": "2024-09-22T14:08:31.900494Z",
     "shell.execute_reply.started": "2024-09-22T14:08:31.890473Z",
     "shell.execute_reply": "2024-09-22T14:08:31.899249Z"
    },
    "trusted": false
   },
   "cell_type": "code",
   "source": "user_vector = sparse_u_features[user_id_lfm] @ u_vectors\nitem_vector = sparse_i_features[item_id_lfm] @ i_vectors\nrel_ours = (user_vector @ item_vector.T + sparse_u_features[user_id_lfm] @ u_biases + sparse_i_features[item_id_lfm] @ i_biases).ravel()[0]",
   "execution_count": 146,
   "outputs": []
  },
  {
   "metadata": {
    "execution": {
     "iopub.status.busy": "2024-09-22T14:08:31.902047Z",
     "iopub.execute_input": "2024-09-22T14:08:31.902434Z",
     "iopub.status.idle": "2024-09-22T14:08:31.916111Z",
     "shell.execute_reply.started": "2024-09-22T14:08:31.902387Z",
     "shell.execute_reply": "2024-09-22T14:08:31.915052Z"
    },
    "trusted": false
   },
   "cell_type": "code",
   "source": "rel_ours",
   "execution_count": 147,
   "outputs": [
    {
     "execution_count": 147,
     "output_type": "execute_result",
     "data": {
      "text/plain": "-147.31015"
     },
     "metadata": {}
    }
   ]
  }
 ],
 "metadata": {
  "kernelspec": {
   "name": "python3",
   "display_name": "Python 3",
   "language": "python"
  },
  "language_info": {
   "name": "python",
   "version": "3.10.4",
   "mimetype": "text/x-python",
   "codemirror_mode": {
    "name": "ipython",
    "version": 3
   },
   "pygments_lexer": "ipython3",
   "nbconvert_exporter": "python",
   "file_extension": ".py"
  },
  "kaggle": {
   "accelerator": "none",
   "dataSources": [
    {
     "sourceId": 9320008,
     "sourceType": "datasetVersion",
     "datasetId": 5645479
    }
   ],
   "dockerImageVersionId": 30761,
   "isInternetEnabled": true,
   "language": "python",
   "sourceType": "notebook",
   "isGpuEnabled": false
  }
 },
 "nbformat": 4,
 "nbformat_minor": 4
}