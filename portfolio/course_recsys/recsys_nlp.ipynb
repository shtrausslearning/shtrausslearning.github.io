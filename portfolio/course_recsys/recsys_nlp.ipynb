{
 "cells": [
  {
   "metadata": {
    "_uuid": "d7aa1b0ad6979877450f9cd89e1e37289b51cf6e",
    "id": "-PRmQSN7uvcX",
    "papermill": {
     "duration": 0.01034,
     "end_time": "2024-09-18T04:42:02.295820",
     "exception": false,
     "start_time": "2024-09-18T04:42:02.285480",
     "status": "completed"
    },
    "tags": []
   },
   "id": "e8bbb80a",
   "cell_type": "markdown",
   "source": "# Рекомендация фильмов по текстовому описанию\n\n## <div style=\"padding: 30px;color:white;margin:10;font-size:60%;text-align:left;display:fill;border-radius:10px;background-color:#FFFFFF;overflow:hidden;background-color:#232834\"><b><span style='color:#686dec'>1 |</span></b> <b>Введение</b></div>\n\n\n### Извлечение информацию из текста\n\n- Тексовые данные из себя представляют набор неструктуированных данных\n- Существуют разные подходы для извлечения нужной нам инофрмации которые дадут нам возможность построить рекоммендации на основе текстовых данных\n\n### NLP подходы для создания фичей\n\n- Первых подход который мы рассмотрим для каждого текста создает набор фичей которые он встречает в тексте, извлекая нужную информацию из всех текстов, мы фиксируем количество колонок. Количнство колонок пропорциональна количеству уникальных слов во всех документах; `Bag of Words` (BoW) подходы\n- Второй подход так же создает набор  фичей, но мы заранее определяем эго размер. Обучив эти фичи у нас для конкретного слова есть свой вектор представлений в многовекторном пространстве. Эти данные хранятся в самой модели и их можно извлекать при необходимости, и использовать на новых докумаетах. Подавая новые документы в модель мы обычно выбираем арифмическое среднее векторов всех слов в документе, таким образом получая для каждого документа фиксированный веркор; `эмбеддинговый` подход\n\n### Оценка схожости\n\n- Как и раньше, получив некоторую матрицу представлений для каждого документа, нам нужно посчитать оценку схожости, это может быть `cosine_similarity` и тд.\n- Мы будем использовать упрощенный вариант `linear_kernel`"
  },
  {
   "metadata": {
    "_uuid": "6b418588e3f9139f74cb3a9546f5dca49729579b",
    "id": "xSY8gqrnuvcZ",
    "papermill": {
     "duration": 0.008989,
     "end_time": "2024-09-18T04:42:02.369626",
     "exception": false,
     "start_time": "2024-09-18T04:42:02.360637",
     "status": "completed"
    },
    "tags": []
   },
   "id": "b7047d20",
   "cell_type": "markdown",
   "source": "## <div style=\"padding: 30px;color:white;margin:10;font-size:60%;text-align:left;display:fill;border-radius:10px;background-color:#FFFFFF;overflow:hidden;background-color:#232834\"><b><span style='color:#686dec'>2 |</span></b> <b>Чтение данных</b></div>\n\n\nДавайте теперь загрузим данные. Для этой задачи мы воспользуемся данные кратких описании разных фильмов. И на основе этих текстовых данных будем строить реком"
  },
  {
   "metadata": {
    "_uuid": "c1fdd129c1cbab68ae3e6bf2062575f01f80b87c",
    "execution": {
     "iopub.execute_input": "2024-09-18T04:42:02.390187Z",
     "iopub.status.busy": "2024-09-18T04:42:02.389345Z",
     "iopub.status.idle": "2024-09-18T04:42:03.308677Z",
     "shell.execute_reply": "2024-09-18T04:42:03.307754Z"
    },
    "id": "TT-ndvQiuvcZ",
    "papermill": {
     "duration": 0.932205,
     "end_time": "2024-09-18T04:42:03.311125",
     "exception": false,
     "start_time": "2024-09-18T04:42:02.378920",
     "status": "completed"
    },
    "tags": [],
    "trusted": false
   },
   "id": "2a28477c",
   "cell_type": "code",
   "source": "import pandas as pd\nimport numpy as np\nimport warnings; warnings.filterwarnings('ignore')\n\nmovies = pd.read_csv('/kaggle/input/tmdb-movie-metadata/tmdb_5000_movies.csv')",
   "execution_count": 1,
   "outputs": []
  },
  {
   "metadata": {
    "_uuid": "402a28d17c13bba3f2060d72c2ff75f5377a9f01",
    "id": "XSC-v8ISuvca",
    "papermill": {
     "duration": 0.009331,
     "end_time": "2024-09-18T04:42:03.331508",
     "exception": false,
     "start_time": "2024-09-18T04:42:03.322177",
     "status": "completed"
    },
    "tags": []
   },
   "id": "589fd8aa",
   "cell_type": "markdown",
   "source": "Датасет содержит следующие характеристики:\n* `budget` - бюджет, на который был снят фильм.\n* `genre` - Жанр фильма, боевик, комедия, триллер и т.д.\n* `homepage` - Ссылка на домашнюю страницу фильма.\n* `id` - Фактически это идентификатор фильма.\n* `keywords` - Ключевые слова или теги, связанные с фильмом.\n* `original_language` - Язык, на котором был снят фильм.\n* `original_title` - Название фильма до перевода или адаптации.\n* `overview` - Краткое описание фильма.\n* `popularity` - Числовое значение, указывающее на популярность фильма.\n* `production_companies` - Производственная компания фильма.\n* `production_countries` - Страна, в которой был снят фильм.\n* `release_date` - Дата выхода фильма в прокат.\n* `revenue` - Мировой доход, полученный фильмом.\n* `runtime` - Время работы фильма в минутах.\n* `status` - \"Released\" или \"Rumored\".\n* `tagline` - Заголовок фильма.\n* `title` - Название фильма.\n* `vote_average` - средний рейтинг, полученный фильмом.\n* `vote_count` - количество набранных голосов.\n\n"
  },
  {
   "metadata": {
    "_uuid": "e88ed16f798ec3a094fce8aaf8a971f7b2aae83e",
    "id": "MoAIqymWuvca",
    "papermill": {
     "duration": 0.009506,
     "end_time": "2024-09-18T04:42:03.350838",
     "exception": false,
     "start_time": "2024-09-18T04:42:03.341332",
     "status": "completed"
    },
    "tags": []
   },
   "id": "2e2ea24f",
   "cell_type": "markdown",
   "source": "Посмотрим на сами данные"
  },
  {
   "metadata": {
    "_uuid": "71d266ed92947c51acf07189d3b42379134ef6e7",
    "execution": {
     "iopub.execute_input": "2024-09-18T04:42:03.371214Z",
     "iopub.status.busy": "2024-09-18T04:42:03.370571Z",
     "iopub.status.idle": "2024-09-18T04:42:03.400299Z",
     "shell.execute_reply": "2024-09-18T04:42:03.399468Z"
    },
    "id": "RFfrgxZRuvca",
    "outputId": "0bb49dfa-9707-4b93-e3f3-77b7ee20905d",
    "papermill": {
     "duration": 0.042179,
     "end_time": "2024-09-18T04:42:03.402455",
     "exception": false,
     "start_time": "2024-09-18T04:42:03.360276",
     "status": "completed"
    },
    "tags": [],
    "trusted": false
   },
   "id": "3297244a",
   "cell_type": "code",
   "source": "movies.head(5)",
   "execution_count": 2,
   "outputs": [
    {
     "data": {
      "text/html": "<div>\n<style scoped>\n    .dataframe tbody tr th:only-of-type {\n        vertical-align: middle;\n    }\n\n    .dataframe tbody tr th {\n        vertical-align: top;\n    }\n\n    .dataframe thead th {\n        text-align: right;\n    }\n</style>\n<table border=\"1\" class=\"dataframe\">\n  <thead>\n    <tr style=\"text-align: right;\">\n      <th></th>\n      <th>budget</th>\n      <th>genres</th>\n      <th>homepage</th>\n      <th>id</th>\n      <th>keywords</th>\n      <th>original_language</th>\n      <th>original_title</th>\n      <th>overview</th>\n      <th>popularity</th>\n      <th>production_companies</th>\n      <th>production_countries</th>\n      <th>release_date</th>\n      <th>revenue</th>\n      <th>runtime</th>\n      <th>spoken_languages</th>\n      <th>status</th>\n      <th>tagline</th>\n      <th>title</th>\n      <th>vote_average</th>\n      <th>vote_count</th>\n    </tr>\n  </thead>\n  <tbody>\n    <tr>\n      <th>0</th>\n      <td>237000000</td>\n      <td>[{\"id\": 28, \"name\": \"Action\"}, {\"id\": 12, \"nam...</td>\n      <td>http://www.avatarmovie.com/</td>\n      <td>19995</td>\n      <td>[{\"id\": 1463, \"name\": \"culture clash\"}, {\"id\":...</td>\n      <td>en</td>\n      <td>Avatar</td>\n      <td>In the 22nd century, a paraplegic Marine is di...</td>\n      <td>150.437577</td>\n      <td>[{\"name\": \"Ingenious Film Partners\", \"id\": 289...</td>\n      <td>[{\"iso_3166_1\": \"US\", \"name\": \"United States o...</td>\n      <td>2009-12-10</td>\n      <td>2787965087</td>\n      <td>162.0</td>\n      <td>[{\"iso_639_1\": \"en\", \"name\": \"English\"}, {\"iso...</td>\n      <td>Released</td>\n      <td>Enter the World of Pandora.</td>\n      <td>Avatar</td>\n      <td>7.2</td>\n      <td>11800</td>\n    </tr>\n    <tr>\n      <th>1</th>\n      <td>300000000</td>\n      <td>[{\"id\": 12, \"name\": \"Adventure\"}, {\"id\": 14, \"...</td>\n      <td>http://disney.go.com/disneypictures/pirates/</td>\n      <td>285</td>\n      <td>[{\"id\": 270, \"name\": \"ocean\"}, {\"id\": 726, \"na...</td>\n      <td>en</td>\n      <td>Pirates of the Caribbean: At World's End</td>\n      <td>Captain Barbossa, long believed to be dead, ha...</td>\n      <td>139.082615</td>\n      <td>[{\"name\": \"Walt Disney Pictures\", \"id\": 2}, {\"...</td>\n      <td>[{\"iso_3166_1\": \"US\", \"name\": \"United States o...</td>\n      <td>2007-05-19</td>\n      <td>961000000</td>\n      <td>169.0</td>\n      <td>[{\"iso_639_1\": \"en\", \"name\": \"English\"}]</td>\n      <td>Released</td>\n      <td>At the end of the world, the adventure begins.</td>\n      <td>Pirates of the Caribbean: At World's End</td>\n      <td>6.9</td>\n      <td>4500</td>\n    </tr>\n    <tr>\n      <th>2</th>\n      <td>245000000</td>\n      <td>[{\"id\": 28, \"name\": \"Action\"}, {\"id\": 12, \"nam...</td>\n      <td>http://www.sonypictures.com/movies/spectre/</td>\n      <td>206647</td>\n      <td>[{\"id\": 470, \"name\": \"spy\"}, {\"id\": 818, \"name...</td>\n      <td>en</td>\n      <td>Spectre</td>\n      <td>A cryptic message from Bond’s past sends him o...</td>\n      <td>107.376788</td>\n      <td>[{\"name\": \"Columbia Pictures\", \"id\": 5}, {\"nam...</td>\n      <td>[{\"iso_3166_1\": \"GB\", \"name\": \"United Kingdom\"...</td>\n      <td>2015-10-26</td>\n      <td>880674609</td>\n      <td>148.0</td>\n      <td>[{\"iso_639_1\": \"fr\", \"name\": \"Fran\\u00e7ais\"},...</td>\n      <td>Released</td>\n      <td>A Plan No One Escapes</td>\n      <td>Spectre</td>\n      <td>6.3</td>\n      <td>4466</td>\n    </tr>\n    <tr>\n      <th>3</th>\n      <td>250000000</td>\n      <td>[{\"id\": 28, \"name\": \"Action\"}, {\"id\": 80, \"nam...</td>\n      <td>http://www.thedarkknightrises.com/</td>\n      <td>49026</td>\n      <td>[{\"id\": 849, \"name\": \"dc comics\"}, {\"id\": 853,...</td>\n      <td>en</td>\n      <td>The Dark Knight Rises</td>\n      <td>Following the death of District Attorney Harve...</td>\n      <td>112.312950</td>\n      <td>[{\"name\": \"Legendary Pictures\", \"id\": 923}, {\"...</td>\n      <td>[{\"iso_3166_1\": \"US\", \"name\": \"United States o...</td>\n      <td>2012-07-16</td>\n      <td>1084939099</td>\n      <td>165.0</td>\n      <td>[{\"iso_639_1\": \"en\", \"name\": \"English\"}]</td>\n      <td>Released</td>\n      <td>The Legend Ends</td>\n      <td>The Dark Knight Rises</td>\n      <td>7.6</td>\n      <td>9106</td>\n    </tr>\n    <tr>\n      <th>4</th>\n      <td>260000000</td>\n      <td>[{\"id\": 28, \"name\": \"Action\"}, {\"id\": 12, \"nam...</td>\n      <td>http://movies.disney.com/john-carter</td>\n      <td>49529</td>\n      <td>[{\"id\": 818, \"name\": \"based on novel\"}, {\"id\":...</td>\n      <td>en</td>\n      <td>John Carter</td>\n      <td>John Carter is a war-weary, former military ca...</td>\n      <td>43.926995</td>\n      <td>[{\"name\": \"Walt Disney Pictures\", \"id\": 2}]</td>\n      <td>[{\"iso_3166_1\": \"US\", \"name\": \"United States o...</td>\n      <td>2012-03-07</td>\n      <td>284139100</td>\n      <td>132.0</td>\n      <td>[{\"iso_639_1\": \"en\", \"name\": \"English\"}]</td>\n      <td>Released</td>\n      <td>Lost in our world, found in another.</td>\n      <td>John Carter</td>\n      <td>6.1</td>\n      <td>2124</td>\n    </tr>\n  </tbody>\n</table>\n</div>",
      "text/plain": "      budget                                             genres  \\\n0  237000000  [{\"id\": 28, \"name\": \"Action\"}, {\"id\": 12, \"nam...   \n1  300000000  [{\"id\": 12, \"name\": \"Adventure\"}, {\"id\": 14, \"...   \n2  245000000  [{\"id\": 28, \"name\": \"Action\"}, {\"id\": 12, \"nam...   \n3  250000000  [{\"id\": 28, \"name\": \"Action\"}, {\"id\": 80, \"nam...   \n4  260000000  [{\"id\": 28, \"name\": \"Action\"}, {\"id\": 12, \"nam...   \n\n                                       homepage      id  \\\n0                   http://www.avatarmovie.com/   19995   \n1  http://disney.go.com/disneypictures/pirates/     285   \n2   http://www.sonypictures.com/movies/spectre/  206647   \n3            http://www.thedarkknightrises.com/   49026   \n4          http://movies.disney.com/john-carter   49529   \n\n                                            keywords original_language  \\\n0  [{\"id\": 1463, \"name\": \"culture clash\"}, {\"id\":...                en   \n1  [{\"id\": 270, \"name\": \"ocean\"}, {\"id\": 726, \"na...                en   \n2  [{\"id\": 470, \"name\": \"spy\"}, {\"id\": 818, \"name...                en   \n3  [{\"id\": 849, \"name\": \"dc comics\"}, {\"id\": 853,...                en   \n4  [{\"id\": 818, \"name\": \"based on novel\"}, {\"id\":...                en   \n\n                             original_title  \\\n0                                    Avatar   \n1  Pirates of the Caribbean: At World's End   \n2                                   Spectre   \n3                     The Dark Knight Rises   \n4                               John Carter   \n\n                                            overview  popularity  \\\n0  In the 22nd century, a paraplegic Marine is di...  150.437577   \n1  Captain Barbossa, long believed to be dead, ha...  139.082615   \n2  A cryptic message from Bond’s past sends him o...  107.376788   \n3  Following the death of District Attorney Harve...  112.312950   \n4  John Carter is a war-weary, former military ca...   43.926995   \n\n                                production_companies  \\\n0  [{\"name\": \"Ingenious Film Partners\", \"id\": 289...   \n1  [{\"name\": \"Walt Disney Pictures\", \"id\": 2}, {\"...   \n2  [{\"name\": \"Columbia Pictures\", \"id\": 5}, {\"nam...   \n3  [{\"name\": \"Legendary Pictures\", \"id\": 923}, {\"...   \n4        [{\"name\": \"Walt Disney Pictures\", \"id\": 2}]   \n\n                                production_countries release_date     revenue  \\\n0  [{\"iso_3166_1\": \"US\", \"name\": \"United States o...   2009-12-10  2787965087   \n1  [{\"iso_3166_1\": \"US\", \"name\": \"United States o...   2007-05-19   961000000   \n2  [{\"iso_3166_1\": \"GB\", \"name\": \"United Kingdom\"...   2015-10-26   880674609   \n3  [{\"iso_3166_1\": \"US\", \"name\": \"United States o...   2012-07-16  1084939099   \n4  [{\"iso_3166_1\": \"US\", \"name\": \"United States o...   2012-03-07   284139100   \n\n   runtime                                   spoken_languages    status  \\\n0    162.0  [{\"iso_639_1\": \"en\", \"name\": \"English\"}, {\"iso...  Released   \n1    169.0           [{\"iso_639_1\": \"en\", \"name\": \"English\"}]  Released   \n2    148.0  [{\"iso_639_1\": \"fr\", \"name\": \"Fran\\u00e7ais\"},...  Released   \n3    165.0           [{\"iso_639_1\": \"en\", \"name\": \"English\"}]  Released   \n4    132.0           [{\"iso_639_1\": \"en\", \"name\": \"English\"}]  Released   \n\n                                          tagline  \\\n0                     Enter the World of Pandora.   \n1  At the end of the world, the adventure begins.   \n2                           A Plan No One Escapes   \n3                                 The Legend Ends   \n4            Lost in our world, found in another.   \n\n                                      title  vote_average  vote_count  \n0                                    Avatar           7.2       11800  \n1  Pirates of the Caribbean: At World's End           6.9        4500  \n2                                   Spectre           6.3        4466  \n3                     The Dark Knight Rises           7.6        9106  \n4                               John Carter           6.1        2124  "
     },
     "execution_count": 2,
     "metadata": {},
     "output_type": "execute_result"
    }
   ]
  },
  {
   "metadata": {
    "_uuid": "ee603279675033fc397f0c94738e20b34f35312b",
    "id": "3ioD0_aEuvca",
    "papermill": {
     "duration": 0.009603,
     "end_time": "2024-09-18T04:42:03.422465",
     "exception": false,
     "start_time": "2024-09-18T04:42:03.412862",
     "status": "completed"
    },
    "tags": []
   },
   "id": "a77b4e4e",
   "cell_type": "markdown",
   "source": "## <div style=\"padding: 30px;color:white;margin:10;font-size:60%;text-align:left;display:fill;border-radius:10px;background-color:#FFFFFF;overflow:hidden;background-color:#232834\"><b><span style='color:#686dec'>3 |</span></b> <b>Подход Взвешенного Рейтинга</b></div>\n\n\nНе забигая вперед, вспомним как мы можем создать некий беислайн для рекомендации; \n- Cоздадим для всех пользователей одну и ту же рекомендацию \n\nФильмов в данных много, но не все мы хотели бы рекоммендовать, один из простейших подходов это фильтрация на остнове каких то метрик\n- Прежде чем приступить к работе, нам нужно получить метрику для оценки фильма\n- Рассчитать оценку для каждого фильма, отсортировать оценки и рекомендовать пользователям фильмы с наилучшим рейтингом\n- Мы можем использовать `средний рейтинг` фильма в качестве оценки, но это будет не совсем корректно, так как фильм со средним рейтингом 8,9 и всего 3 голосами не может считаться лучшим, чем фильм со средним рейтингом 7,8, но 40 голосами\n- Поэтому в качестве оценки мы будем использовать `взвешенный рейтинг` IMDB (wr)"
  },
  {
   "metadata": {
    "_uuid": "5799b99c5e5ed5b7723ae8b31e1fc9fb1e7b89ec",
    "execution": {
     "iopub.execute_input": "2024-09-18T04:42:03.443980Z",
     "iopub.status.busy": "2024-09-18T04:42:03.443076Z",
     "iopub.status.idle": "2024-09-18T04:42:03.451594Z",
     "shell.execute_reply": "2024-09-18T04:42:03.450544Z"
    },
    "id": "IKNF_HYxuvca",
    "outputId": "a9fc8135-764d-431f-80b2-5e699fb59200",
    "papermill": {
     "duration": 0.021475,
     "end_time": "2024-09-18T04:42:03.453776",
     "exception": false,
     "start_time": "2024-09-18T04:42:03.432301",
     "status": "completed"
    },
    "tags": [],
    "trusted": false
   },
   "id": "264a3d8b",
   "cell_type": "code",
   "source": "C= movies['vote_average'].mean()\nC.round(2)",
   "execution_count": 3,
   "outputs": [
    {
     "data": {
      "text/plain": "6.09"
     },
     "execution_count": 3,
     "metadata": {},
     "output_type": "execute_result"
    }
   ]
  },
  {
   "metadata": {
    "_uuid": "02fa8642f75bcef6d4a79e029af6dfeebf19e3a5",
    "id": "Ob2ocJnmuvca",
    "papermill": {
     "duration": 0.009752,
     "end_time": "2024-09-18T04:42:03.473746",
     "exception": false,
     "start_time": "2024-09-18T04:42:03.463994",
     "status": "completed"
    },
    "tags": []
   },
   "id": "87b0ef93",
   "cell_type": "markdown",
   "source": "- Итак, средняя оценка всех фильмов составляет около 6 по 10-балльной шкале\n- Следующий шаг - определение подходящего значения m (минимального количества голосов, необходимого для включения в таблицу)\n- Мы будем использовать 90-й процентиль в качестве отсечки. Другими словами, чтобы фильм попал в чарт, он должен набрать больше голосов, чем хотя бы 90 % фильмов в списке."
  },
  {
   "metadata": {
    "_uuid": "f2f1eaff1e4349b5d2d11dd5ce79c19a85561148",
    "execution": {
     "iopub.execute_input": "2024-09-18T04:42:03.495273Z",
     "iopub.status.busy": "2024-09-18T04:42:03.494990Z",
     "iopub.status.idle": "2024-09-18T04:42:03.503472Z",
     "shell.execute_reply": "2024-09-18T04:42:03.502592Z"
    },
    "id": "qdPHOOOhuvca",
    "outputId": "050afbc7-3757-42e0-9f31-5ad56fafe967",
    "papermill": {
     "duration": 0.021126,
     "end_time": "2024-09-18T04:42:03.505309",
     "exception": false,
     "start_time": "2024-09-18T04:42:03.484183",
     "status": "completed"
    },
    "tags": [],
    "trusted": false
   },
   "id": "ce3b57a2",
   "cell_type": "code",
   "source": "m= movies['vote_count'].quantile(0.9)\nm.round(2)",
   "execution_count": 4,
   "outputs": [
    {
     "data": {
      "text/plain": "1838.4"
     },
     "execution_count": 4,
     "metadata": {},
     "output_type": "execute_result"
    }
   ]
  },
  {
   "metadata": {
    "_uuid": "b77dea5a38ca2c399e3abeac1487e784fe146078",
    "id": "Xj-77HdVuvca",
    "papermill": {
     "duration": 0.009956,
     "end_time": "2024-09-18T04:42:03.525387",
     "exception": false,
     "start_time": "2024-09-18T04:42:03.515431",
     "status": "completed"
    },
    "tags": []
   },
   "id": "7a34d6d6",
   "cell_type": "markdown",
   "source": "Теперь мы можем отфильтровать фильмы, которые попадают в таблицу"
  },
  {
   "metadata": {
    "_uuid": "a22008df6d81d3b716d39a56efd3d547345bfbce",
    "execution": {
     "iopub.execute_input": "2024-09-18T04:42:03.546802Z",
     "iopub.status.busy": "2024-09-18T04:42:03.546521Z",
     "iopub.status.idle": "2024-09-18T04:42:03.558592Z",
     "shell.execute_reply": "2024-09-18T04:42:03.557716Z"
    },
    "id": "2gx6Dltauvca",
    "outputId": "b5a47f35-d4c9-434b-fb70-8763f2971fbb",
    "papermill": {
     "duration": 0.025116,
     "end_time": "2024-09-18T04:42:03.560587",
     "exception": false,
     "start_time": "2024-09-18T04:42:03.535471",
     "status": "completed"
    },
    "tags": [],
    "trusted": false
   },
   "id": "fa2ff043",
   "cell_type": "code",
   "source": "q_movies = movies.copy().loc[movies['vote_count'] >= m]\nq_movies.shape",
   "execution_count": 5,
   "outputs": [
    {
     "data": {
      "text/plain": "(481, 20)"
     },
     "execution_count": 5,
     "metadata": {},
     "output_type": "execute_result"
    }
   ]
  },
  {
   "metadata": {
    "_uuid": "cf1fe5a3692caee41a6e7a74c3fde6aeb8a62947",
    "id": "UzrpezW9uvca",
    "papermill": {
     "duration": 0.010287,
     "end_time": "2024-09-18T04:42:03.581410",
     "exception": false,
     "start_time": "2024-09-18T04:42:03.571123",
     "status": "completed"
    },
    "tags": []
   },
   "id": "4e0972cd",
   "cell_type": "markdown",
   "source": "- Мы видим, что в этом списке 481 фильм. \n- Теперь нам нужно рассчитать нашу метрику для каждого фильма, отвечающего требованиям. Для этого мы определим функцию **weighted_rating()** и определим новую функцию **score**"
  },
  {
   "metadata": {
    "_uuid": "bb680ed0fb1c3020785d34152c57c6e2279d4424",
    "execution": {
     "iopub.execute_input": "2024-09-18T04:42:03.603277Z",
     "iopub.status.busy": "2024-09-18T04:42:03.602995Z",
     "iopub.status.idle": "2024-09-18T04:42:03.607458Z",
     "shell.execute_reply": "2024-09-18T04:42:03.606637Z"
    },
    "id": "qDY-6PC7uvcb",
    "papermill": {
     "duration": 0.017507,
     "end_time": "2024-09-18T04:42:03.609302",
     "exception": false,
     "start_time": "2024-09-18T04:42:03.591795",
     "status": "completed"
    },
    "tags": [],
    "trusted": false
   },
   "id": "392a7a55",
   "cell_type": "code",
   "source": "def weighted_rating(x, m=m, C=C):\n    v = x['vote_count']\n    R = x['vote_average']\n    # Расчет по формуле IMDB\n    return (v/(v+m) * R) + (m/(m+v) * C)",
   "execution_count": 6,
   "outputs": []
  },
  {
   "metadata": {
    "_uuid": "d2d189929715237ab19a18fb8747239b86092968",
    "execution": {
     "iopub.execute_input": "2024-09-18T04:42:03.631105Z",
     "iopub.status.busy": "2024-09-18T04:42:03.630807Z",
     "iopub.status.idle": "2024-09-18T04:42:03.644774Z",
     "shell.execute_reply": "2024-09-18T04:42:03.643950Z"
    },
    "id": "njdpIz80uvcb",
    "papermill": {
     "duration": 0.026931,
     "end_time": "2024-09-18T04:42:03.646701",
     "exception": false,
     "start_time": "2024-09-18T04:42:03.619770",
     "status": "completed"
    },
    "tags": [],
    "trusted": false
   },
   "id": "65a6f71f",
   "cell_type": "code",
   "source": "# Определим новую функцию 'score' и рассчитаем ее значение с помощью `weighted_rating()`.\nq_movies['score'] = q_movies.apply(weighted_rating, axis=1)",
   "execution_count": 7,
   "outputs": []
  },
  {
   "metadata": {
    "_uuid": "4cdd60c146173606146ec4fc3a1c9d8c184cb81c",
    "id": "z3Jq7-2_uvcb",
    "papermill": {
     "duration": 0.010307,
     "end_time": "2024-09-18T04:42:03.667469",
     "exception": false,
     "start_time": "2024-09-18T04:42:03.657162",
     "status": "completed"
    },
    "tags": []
   },
   "id": "bbaf2f0e",
   "cell_type": "markdown",
   "source": "- Наконец, отсортируем DataFrame по признаку оценки и выведем название, количество голосов, среднее количество голосов и взвешенный рейтинг или оценку 10 лучших фильмов"
  },
  {
   "metadata": {
    "_uuid": "a9a9fc3810ea67c31908bbdf8bb930daa918102b",
    "execution": {
     "iopub.execute_input": "2024-09-18T04:42:03.689688Z",
     "iopub.status.busy": "2024-09-18T04:42:03.689401Z",
     "iopub.status.idle": "2024-09-18T04:42:03.705348Z",
     "shell.execute_reply": "2024-09-18T04:42:03.704407Z"
    },
    "id": "sEIPnUlpuvcb",
    "outputId": "cab2840a-a97a-4ef4-fd2d-49c71b562e6e",
    "papermill": {
     "duration": 0.029048,
     "end_time": "2024-09-18T04:42:03.707170",
     "exception": false,
     "start_time": "2024-09-18T04:42:03.678122",
     "status": "completed"
    },
    "tags": [],
    "trusted": false
   },
   "id": "e5c3f4b3",
   "cell_type": "code",
   "source": "#Сортировка фильмов на основе рейтинга, рассчитанного выше\nq_movies = q_movies.sort_values('score', ascending=False)\n\n#Вывод 15 лучших фильмов\nq_movies[['title', 'vote_count', 'vote_average', 'score']].head(10)",
   "execution_count": 8,
   "outputs": [
    {
     "data": {
      "text/html": "<div>\n<style scoped>\n    .dataframe tbody tr th:only-of-type {\n        vertical-align: middle;\n    }\n\n    .dataframe tbody tr th {\n        vertical-align: top;\n    }\n\n    .dataframe thead th {\n        text-align: right;\n    }\n</style>\n<table border=\"1\" class=\"dataframe\">\n  <thead>\n    <tr style=\"text-align: right;\">\n      <th></th>\n      <th>title</th>\n      <th>vote_count</th>\n      <th>vote_average</th>\n      <th>score</th>\n    </tr>\n  </thead>\n  <tbody>\n    <tr>\n      <th>1881</th>\n      <td>The Shawshank Redemption</td>\n      <td>8205</td>\n      <td>8.5</td>\n      <td>8.059258</td>\n    </tr>\n    <tr>\n      <th>662</th>\n      <td>Fight Club</td>\n      <td>9413</td>\n      <td>8.3</td>\n      <td>7.939256</td>\n    </tr>\n    <tr>\n      <th>65</th>\n      <td>The Dark Knight</td>\n      <td>12002</td>\n      <td>8.2</td>\n      <td>7.920020</td>\n    </tr>\n    <tr>\n      <th>3232</th>\n      <td>Pulp Fiction</td>\n      <td>8428</td>\n      <td>8.3</td>\n      <td>7.904645</td>\n    </tr>\n    <tr>\n      <th>96</th>\n      <td>Inception</td>\n      <td>13752</td>\n      <td>8.1</td>\n      <td>7.863239</td>\n    </tr>\n    <tr>\n      <th>3337</th>\n      <td>The Godfather</td>\n      <td>5893</td>\n      <td>8.4</td>\n      <td>7.851236</td>\n    </tr>\n    <tr>\n      <th>95</th>\n      <td>Interstellar</td>\n      <td>10867</td>\n      <td>8.1</td>\n      <td>7.809479</td>\n    </tr>\n    <tr>\n      <th>809</th>\n      <td>Forrest Gump</td>\n      <td>7927</td>\n      <td>8.2</td>\n      <td>7.803188</td>\n    </tr>\n    <tr>\n      <th>329</th>\n      <td>The Lord of the Rings: The Return of the King</td>\n      <td>8064</td>\n      <td>8.1</td>\n      <td>7.727243</td>\n    </tr>\n    <tr>\n      <th>1990</th>\n      <td>The Empire Strikes Back</td>\n      <td>5879</td>\n      <td>8.2</td>\n      <td>7.697884</td>\n    </tr>\n  </tbody>\n</table>\n</div>",
      "text/plain": "                                              title  vote_count  vote_average  \\\n1881                       The Shawshank Redemption        8205           8.5   \n662                                      Fight Club        9413           8.3   \n65                                  The Dark Knight       12002           8.2   \n3232                                   Pulp Fiction        8428           8.3   \n96                                        Inception       13752           8.1   \n3337                                  The Godfather        5893           8.4   \n95                                     Interstellar       10867           8.1   \n809                                    Forrest Gump        7927           8.2   \n329   The Lord of the Rings: The Return of the King        8064           8.1   \n1990                        The Empire Strikes Back        5879           8.2   \n\n         score  \n1881  8.059258  \n662   7.939256  \n65    7.920020  \n3232  7.904645  \n96    7.863239  \n3337  7.851236  \n95    7.809479  \n809   7.803188  \n329   7.727243  \n1990  7.697884  "
     },
     "execution_count": 8,
     "metadata": {},
     "output_type": "execute_result"
    }
   ]
  },
  {
   "metadata": {
    "_uuid": "207f7058f92698b5fd776f7771a3ac0cc2928bf1",
    "execution": {
     "iopub.execute_input": "2024-09-18T04:42:03.730075Z",
     "iopub.status.busy": "2024-09-18T04:42:03.729785Z",
     "iopub.status.idle": "2024-09-18T04:42:03.832030Z",
     "shell.execute_reply": "2024-09-18T04:42:03.831112Z"
    },
    "id": "aLvSFwaeuvcb",
    "outputId": "21f98244-e40e-4907-961a-b144069d632c",
    "papermill": {
     "duration": 0.1161,
     "end_time": "2024-09-18T04:42:03.834209",
     "exception": false,
     "start_time": "2024-09-18T04:42:03.718109",
     "status": "completed"
    },
    "tags": [],
    "trusted": false
   },
   "id": "7b812195",
   "cell_type": "code",
   "source": "pop = movies.sort_values('popularity', ascending=False)\nldf = pop[['title','popularity']].head(6)\nldf.style\\\n    .bar(align='mid',\n         color=['#d65f5f','#d65f5f'])",
   "execution_count": 9,
   "outputs": [
    {
     "data": {
      "text/html": "<style type=\"text/css\">\n#T_44a01_row0_col1 {\n  width: 10em;\n  background: linear-gradient(90deg, #d65f5f 100.0%, transparent 100.0%);\n}\n#T_44a01_row1_col1 {\n  width: 10em;\n  background: linear-gradient(90deg, #d65f5f 82.7%, transparent 82.7%);\n}\n#T_44a01_row2_col1 {\n  width: 10em;\n  background: linear-gradient(90deg, #d65f5f 58.8%, transparent 58.8%);\n}\n#T_44a01_row3_col1 {\n  width: 10em;\n  background: linear-gradient(90deg, #d65f5f 54.9%, transparent 54.9%);\n}\n#T_44a01_row4_col1 {\n  width: 10em;\n  background: linear-gradient(90deg, #d65f5f 49.6%, transparent 49.6%);\n}\n#T_44a01_row5_col1 {\n  width: 10em;\n  background: linear-gradient(90deg, #d65f5f 47.8%, transparent 47.8%);\n}\n</style>\n<table id=\"T_44a01\">\n  <thead>\n    <tr>\n      <th class=\"blank level0\" >&nbsp;</th>\n      <th id=\"T_44a01_level0_col0\" class=\"col_heading level0 col0\" >title</th>\n      <th id=\"T_44a01_level0_col1\" class=\"col_heading level0 col1\" >popularity</th>\n    </tr>\n  </thead>\n  <tbody>\n    <tr>\n      <th id=\"T_44a01_level0_row0\" class=\"row_heading level0 row0\" >546</th>\n      <td id=\"T_44a01_row0_col0\" class=\"data row0 col0\" >Minions</td>\n      <td id=\"T_44a01_row0_col1\" class=\"data row0 col1\" >875.581305</td>\n    </tr>\n    <tr>\n      <th id=\"T_44a01_level0_row1\" class=\"row_heading level0 row1\" >95</th>\n      <td id=\"T_44a01_row1_col0\" class=\"data row1 col0\" >Interstellar</td>\n      <td id=\"T_44a01_row1_col1\" class=\"data row1 col1\" >724.247784</td>\n    </tr>\n    <tr>\n      <th id=\"T_44a01_level0_row2\" class=\"row_heading level0 row2\" >788</th>\n      <td id=\"T_44a01_row2_col0\" class=\"data row2 col0\" >Deadpool</td>\n      <td id=\"T_44a01_row2_col1\" class=\"data row2 col1\" >514.569956</td>\n    </tr>\n    <tr>\n      <th id=\"T_44a01_level0_row3\" class=\"row_heading level0 row3\" >94</th>\n      <td id=\"T_44a01_row3_col0\" class=\"data row3 col0\" >Guardians of the Galaxy</td>\n      <td id=\"T_44a01_row3_col1\" class=\"data row3 col1\" >481.098624</td>\n    </tr>\n    <tr>\n      <th id=\"T_44a01_level0_row4\" class=\"row_heading level0 row4\" >127</th>\n      <td id=\"T_44a01_row4_col0\" class=\"data row4 col0\" >Mad Max: Fury Road</td>\n      <td id=\"T_44a01_row4_col1\" class=\"data row4 col1\" >434.278564</td>\n    </tr>\n    <tr>\n      <th id=\"T_44a01_level0_row5\" class=\"row_heading level0 row5\" >28</th>\n      <td id=\"T_44a01_row5_col0\" class=\"data row5 col0\" >Jurassic World</td>\n      <td id=\"T_44a01_row5_col1\" class=\"data row5 col1\" >418.708552</td>\n    </tr>\n  </tbody>\n</table>\n",
      "text/plain": "<pandas.io.formats.style.Styler at 0x7854897d2290>"
     },
     "execution_count": 9,
     "metadata": {},
     "output_type": "execute_result"
    }
   ]
  },
  {
   "metadata": {
    "_uuid": "d1cf28fc0c22afa80edc6d464177035357721d35",
    "id": "53V05-cEuvcb",
    "papermill": {
     "duration": 0.011007,
     "end_time": "2024-09-18T04:42:03.857524",
     "exception": false,
     "start_time": "2024-09-18T04:42:03.846517",
     "status": "completed"
    },
    "tags": []
   },
   "id": "3768f620",
   "cell_type": "markdown",
   "source": "- Следует иметь в виду, что эти демографические рекомендательные системы предоставляют общую таблицу рекомендуемых фильмов для всех пользователей. \n- Они не учитывают интересы и вкусы конкретного пользователя\n- Далее мы рассмотрим варианты NLP рекомендовательных систем, представим что пользователь только что посмотрел фильм `The Dark Knight Rises`, и теперь мы хотим посоветовать походие фильмы этому пользователю. Имея информацию об обзорах фильмов`overview`, мы можем найти походие фильмы по описанию, те. если в векторном пространстве вектора будут похожими, мы можем их рекемендовать"
  },
  {
   "metadata": {
    "_uuid": "b0a813c803b0ba1f0204188ab2a63dc7f59ce2eb",
    "id": "IEgFUB6zuvcb",
    "papermill": {
     "duration": 0.011279,
     "end_time": "2024-09-18T04:42:03.880287",
     "exception": false,
     "start_time": "2024-09-18T04:42:03.869008",
     "status": "completed"
    },
    "tags": []
   },
   "id": "a2ca6c8b",
   "cell_type": "markdown",
   "source": "## <div style=\"padding: 30px;color:white;margin:10;font-size:60%;text-align:left;display:fill;border-radius:10px;background-color:#FFFFFF;overflow:hidden;background-color:#232834\"><b><span style='color:#686dec'>4 |</span></b> <b>Подход TFIDF Векторов</b></div>\n\n- Мы рассчитаем попарные оценки сходства для всех фильмов на основе описания их сюжета и будем рекомендовать фильмы на основе этих оценок сходства.\n- Описание сюжета приведено в `overview` фиче нашего набора данных.\nДавайте посмотрим на данные."
  },
  {
   "metadata": {
    "_uuid": "5e676c38ace04a24205b76b16dac0fa3e058027f",
    "execution": {
     "iopub.execute_input": "2024-09-18T04:42:03.904685Z",
     "iopub.status.busy": "2024-09-18T04:42:03.904306Z",
     "iopub.status.idle": "2024-09-18T04:42:03.911284Z",
     "shell.execute_reply": "2024-09-18T04:42:03.910374Z"
    },
    "id": "XsbpBBabuvcb",
    "outputId": "38100378-3ed8-497e-f56f-38ef8ac4fce5",
    "papermill": {
     "duration": 0.021623,
     "end_time": "2024-09-18T04:42:03.913383",
     "exception": false,
     "start_time": "2024-09-18T04:42:03.891760",
     "status": "completed"
    },
    "tags": [],
    "trusted": false
   },
   "id": "ff663425",
   "cell_type": "code",
   "source": "movies['overview'].head(5)",
   "execution_count": 10,
   "outputs": [
    {
     "data": {
      "text/plain": "0    In the 22nd century, a paraplegic Marine is di...\n1    Captain Barbossa, long believed to be dead, ha...\n2    A cryptic message from Bond’s past sends him o...\n3    Following the death of District Attorney Harve...\n4    John Carter is a war-weary, former military ca...\nName: overview, dtype: object"
     },
     "execution_count": 10,
     "metadata": {},
     "output_type": "execute_result"
    }
   ]
  },
  {
   "metadata": {
    "_uuid": "277a9bb5b00a6bd2469c45777f9c659066f402b3",
    "id": "jxUGiPzsuvcb",
    "papermill": {
     "duration": 0.011285,
     "end_time": "2024-09-18T04:42:03.936259",
     "exception": false,
     "start_time": "2024-09-18T04:42:03.924974",
     "status": "completed"
    },
    "tags": []
   },
   "id": "6ca6dee8",
   "cell_type": "markdown",
   "source": "- Теперь мы вычислим векторы Term Frequency-Inverse Document Frequency (TF-IDF) для каждого обзора\n- Суть подхода в том что мы пробигая по всем документам, сохраняем все уникальные слова/токены и считаем их количество во всех документах; `TF`\n- Особенность этого метода это дополнительный термин который оценивает важность слова (в каких документах встречается относительно всех документах); `IDF`"
  },
  {
   "metadata": {
    "_uuid": "a92da8cde39c61deef5a1b8efa31ed84cda7f5fe",
    "execution": {
     "iopub.execute_input": "2024-09-18T04:42:03.960560Z",
     "iopub.status.busy": "2024-09-18T04:42:03.960234Z",
     "iopub.status.idle": "2024-09-18T04:42:05.348943Z",
     "shell.execute_reply": "2024-09-18T04:42:05.347639Z"
    },
    "id": "6pKi4N79uvcb",
    "outputId": "f7c32035-b828-4dc5-9fca-433b585715c2",
    "papermill": {
     "duration": 1.40338,
     "end_time": "2024-09-18T04:42:05.351021",
     "exception": false,
     "start_time": "2024-09-18T04:42:03.947641",
     "status": "completed"
    },
    "tags": [],
    "trusted": false
   },
   "id": "6c4164d8",
   "cell_type": "code",
   "source": "from sklearn.feature_extraction.text import TfidfVectorizer\n\n#Определим объект векторизатора TF-IDF. Удалим все английские стоп-слова, такие как 'the', 'a'\ntfidf = TfidfVectorizer(stop_words='english')\n\n#Заменим NaN пустой строкой\nmovies['overview'] = movies['overview'].fillna('')\n\n#Построим требуемую матрицу TF-IDF путем подгонки и преобразования данных\ntfidf_matrix = tfidf.fit_transform(movies['overview'])\n\nprint('tfidf matrix size:',tfidf_matrix.shape)",
   "execution_count": 11,
   "outputs": [
    {
     "name": "stdout",
     "output_type": "stream",
     "text": "tfidf matrix size: (4803, 20978)\n"
    }
   ]
  },
  {
   "metadata": {
    "_uuid": "6bde57434bf9a0e8f8b229d36901d75b77ff962f",
    "id": "iMbVd8aTuvcb",
    "papermill": {
     "duration": 0.011337,
     "end_time": "2024-09-18T04:42:05.374119",
     "exception": false,
     "start_time": "2024-09-18T04:42:05.362782",
     "status": "completed"
    },
    "tags": []
   },
   "id": "a54cb3c0",
   "cell_type": "markdown",
   "source": "Мы видим, что для описания 4800 фильмов в нашем наборе данных было использовано более 20 000 различных слов.\n\nТеперь, имея на руках эти вектора вредставлений всех документов, мы можем вычислить оценку сходства. Для этого можно использовать различные метрики, такие как Евклидова, Пирсона или косинусная метрика. Разные метрики хорошо работают в разных сценариях, и часто бывает полезно поэкспериментировать.\n\nМы будем использовать `косинусоидальное сходство` между двумя фильмами. Мы используем косинусоидальную метрику, поскольку оно не зависит от амплитуды и относительно легко и быстро вычисляется. "
  },
  {
   "metadata": {
    "_uuid": "c1c138ae64648cb5a94127a06441d88dddc2bd9a",
    "id": "Kc_0TPS_uvcb",
    "papermill": {
     "duration": 0.01126,
     "end_time": "2024-09-18T04:42:05.397002",
     "exception": false,
     "start_time": "2024-09-18T04:42:05.385742",
     "status": "completed"
    },
    "tags": []
   },
   "id": "ee272537",
   "cell_type": "markdown",
   "source": "Поскольку мы использовали векторизатор TF-IDF, вычисление точечного произведения напрямую даст нам оценку косинусного сходства. Поэтому мы будем использовать `linear_kernel` от sklearn вместо `cosine_similarity`, так как это быстрее."
  },
  {
   "metadata": {
    "_uuid": "5eb17d12220eecab4faf01bbfd13e79d8e446537",
    "execution": {
     "iopub.execute_input": "2024-09-18T04:42:05.422145Z",
     "iopub.status.busy": "2024-09-18T04:42:05.421408Z",
     "iopub.status.idle": "2024-09-18T04:42:05.885498Z",
     "shell.execute_reply": "2024-09-18T04:42:05.884647Z"
    },
    "id": "ycGwzKGIuvcb",
    "papermill": {
     "duration": 0.479112,
     "end_time": "2024-09-18T04:42:05.887931",
     "exception": false,
     "start_time": "2024-09-18T04:42:05.408819",
     "status": "completed"
    },
    "tags": [],
    "trusted": false
   },
   "id": "9b47a517",
   "cell_type": "code",
   "source": "from sklearn.metrics.pairwise import linear_kernel\n\ncosine_sim = linear_kernel(tfidf_matrix, tfidf_matrix)",
   "execution_count": 12,
   "outputs": []
  },
  {
   "metadata": {
    "_uuid": "55df2df36be98e6dec5f617a5aa51b77c500faa4",
    "execution": {
     "iopub.execute_input": "2024-09-18T04:42:05.913086Z",
     "iopub.status.busy": "2024-09-18T04:42:05.912721Z",
     "iopub.status.idle": "2024-09-18T04:42:05.918262Z",
     "shell.execute_reply": "2024-09-18T04:42:05.917562Z"
    },
    "id": "CWWtDzNKuvcb",
    "papermill": {
     "duration": 0.019946,
     "end_time": "2024-09-18T04:42:05.920158",
     "exception": false,
     "start_time": "2024-09-18T04:42:05.900212",
     "status": "completed"
    },
    "tags": [],
    "trusted": false
   },
   "id": "ae0232a2",
   "cell_type": "code",
   "source": "indices = pd.Series(movies.index,\n                    index=movies['title']).drop_duplicates()",
   "execution_count": 13,
   "outputs": []
  },
  {
   "metadata": {
    "_uuid": "9c383fcbb916dce464b01adf980d26ad96aebe0e",
    "execution": {
     "iopub.execute_input": "2024-09-18T04:42:05.944979Z",
     "iopub.status.busy": "2024-09-18T04:42:05.944656Z",
     "iopub.status.idle": "2024-09-18T04:42:05.952795Z",
     "shell.execute_reply": "2024-09-18T04:42:05.952055Z"
    },
    "id": "yr4eFdj0uvcc",
    "papermill": {
     "duration": 0.02242,
     "end_time": "2024-09-18T04:42:05.954567",
     "exception": false,
     "start_time": "2024-09-18T04:42:05.932147",
     "status": "completed"
    },
    "tags": [],
    "trusted": false
   },
   "id": "e7cd4e4b",
   "cell_type": "code",
   "source": "def get_recommendations(title, cosine_sim=cosine_sim, scores=cosine_sim):\n    \n    # Получение индекса фильма, соответствующего названию\n    idx = indices[title]\n\n    # Получение оценок парного сходства всех фильмов с этим фильмом\n    sim_scores = list(enumerate(cosine_sim[idx]))\n\n    # Сортировка фильмов по степени сходства\n    sim_scores = sorted(sim_scores, key=lambda x: x[1], reverse=True)\n    \n    #  10 самых похожих фильмов\n    sim_scores = sim_scores[1:11]\n    \n    idx = []; vals = []\n    for i in sim_scores:\n        idx.append(i[0])\n        vals.append(i[1])\n        \n    pd_scores = pd.Series(vals,index=idx,name='similarity')\n    \n    # Get the movie indices\n    movie_indices = [i[0] for i in sim_scores]\n    merged = pd.concat([movies['title'].iloc[movie_indices],pd_scores],axis=1)\n    \n    \n    \n    # Return the top 10 most similar movies\n    return merged.style\\\n    .bar(align='mid',\n         color=['#d65f5f','#d65f5f'])",
   "execution_count": 14,
   "outputs": []
  },
  {
   "metadata": {
    "_uuid": "14d722124f82e69cb444adcc589e396c75cbb4ff",
    "execution": {
     "iopub.execute_input": "2024-09-18T04:42:05.979379Z",
     "iopub.status.busy": "2024-09-18T04:42:05.979076Z",
     "iopub.status.idle": "2024-09-18T04:42:05.995800Z",
     "shell.execute_reply": "2024-09-18T04:42:05.994969Z"
    },
    "id": "JMHKI0T2uvcc",
    "outputId": "05a15236-bee2-473a-b7c6-8aff425ef9bb",
    "papermill": {
     "duration": 0.031622,
     "end_time": "2024-09-18T04:42:05.998174",
     "exception": false,
     "start_time": "2024-09-18T04:42:05.966552",
     "status": "completed"
    },
    "tags": [],
    "trusted": false
   },
   "id": "ef45896f",
   "cell_type": "code",
   "source": "get_recommendations('The Dark Knight Rises')",
   "execution_count": 15,
   "outputs": [
    {
     "data": {
      "text/html": "<style type=\"text/css\">\n#T_ac143_row0_col1 {\n  width: 10em;\n  background: linear-gradient(90deg, #d65f5f 100.0%, transparent 100.0%);\n}\n#T_ac143_row1_col1 {\n  width: 10em;\n  background: linear-gradient(90deg, #d65f5f 99.0%, transparent 99.0%);\n}\n#T_ac143_row2_col1 {\n  width: 10em;\n  background: linear-gradient(90deg, #d65f5f 95.5%, transparent 95.5%);\n}\n#T_ac143_row3_col1 {\n  width: 10em;\n  background: linear-gradient(90deg, #d65f5f 87.7%, transparent 87.7%);\n}\n#T_ac143_row4_col1 {\n  width: 10em;\n  background: linear-gradient(90deg, #d65f5f 61.5%, transparent 61.5%);\n}\n#T_ac143_row5_col1 {\n  width: 10em;\n  background: linear-gradient(90deg, #d65f5f 55.7%, transparent 55.7%);\n}\n#T_ac143_row6_col1 {\n  width: 10em;\n  background: linear-gradient(90deg, #d65f5f 55.3%, transparent 55.3%);\n}\n#T_ac143_row7_col1 {\n  width: 10em;\n  background: linear-gradient(90deg, #d65f5f 44.4%, transparent 44.4%);\n}\n#T_ac143_row8_col1 {\n  width: 10em;\n  background: linear-gradient(90deg, #d65f5f 43.8%, transparent 43.8%);\n}\n#T_ac143_row9_col1 {\n  width: 10em;\n  background: linear-gradient(90deg, #d65f5f 43.3%, transparent 43.3%);\n}\n</style>\n<table id=\"T_ac143\">\n  <thead>\n    <tr>\n      <th class=\"blank level0\" >&nbsp;</th>\n      <th id=\"T_ac143_level0_col0\" class=\"col_heading level0 col0\" >title</th>\n      <th id=\"T_ac143_level0_col1\" class=\"col_heading level0 col1\" >similarity</th>\n    </tr>\n  </thead>\n  <tbody>\n    <tr>\n      <th id=\"T_ac143_level0_row0\" class=\"row_heading level0 row0\" >65</th>\n      <td id=\"T_ac143_row0_col0\" class=\"data row0 col0\" >The Dark Knight</td>\n      <td id=\"T_ac143_row0_col1\" class=\"data row0 col1\" >0.301512</td>\n    </tr>\n    <tr>\n      <th id=\"T_ac143_level0_row1\" class=\"row_heading level0 row1\" >299</th>\n      <td id=\"T_ac143_row1_col0\" class=\"data row1 col0\" >Batman Forever</td>\n      <td id=\"T_ac143_row1_col1\" class=\"data row1 col1\" >0.298570</td>\n    </tr>\n    <tr>\n      <th id=\"T_ac143_level0_row2\" class=\"row_heading level0 row2\" >428</th>\n      <td id=\"T_ac143_row2_col0\" class=\"data row2 col0\" >Batman Returns</td>\n      <td id=\"T_ac143_row2_col1\" class=\"data row2 col1\" >0.287851</td>\n    </tr>\n    <tr>\n      <th id=\"T_ac143_level0_row3\" class=\"row_heading level0 row3\" >1359</th>\n      <td id=\"T_ac143_row3_col0\" class=\"data row3 col0\" >Batman</td>\n      <td id=\"T_ac143_row3_col1\" class=\"data row3 col1\" >0.264461</td>\n    </tr>\n    <tr>\n      <th id=\"T_ac143_level0_row4\" class=\"row_heading level0 row4\" >3854</th>\n      <td id=\"T_ac143_row4_col0\" class=\"data row4 col0\" >Batman: The Dark Knight Returns, Part 2</td>\n      <td id=\"T_ac143_row4_col1\" class=\"data row4 col1\" >0.185450</td>\n    </tr>\n    <tr>\n      <th id=\"T_ac143_level0_row5\" class=\"row_heading level0 row5\" >119</th>\n      <td id=\"T_ac143_row5_col0\" class=\"data row5 col0\" >Batman Begins</td>\n      <td id=\"T_ac143_row5_col1\" class=\"data row5 col1\" >0.167996</td>\n    </tr>\n    <tr>\n      <th id=\"T_ac143_level0_row6\" class=\"row_heading level0 row6\" >2507</th>\n      <td id=\"T_ac143_row6_col0\" class=\"data row6 col0\" >Slow Burn</td>\n      <td id=\"T_ac143_row6_col1\" class=\"data row6 col1\" >0.166829</td>\n    </tr>\n    <tr>\n      <th id=\"T_ac143_level0_row7\" class=\"row_heading level0 row7\" >9</th>\n      <td id=\"T_ac143_row7_col0\" class=\"data row7 col0\" >Batman v Superman: Dawn of Justice</td>\n      <td id=\"T_ac143_row7_col1\" class=\"data row7 col1\" >0.133740</td>\n    </tr>\n    <tr>\n      <th id=\"T_ac143_level0_row8\" class=\"row_heading level0 row8\" >1181</th>\n      <td id=\"T_ac143_row8_col0\" class=\"data row8 col0\" >JFK</td>\n      <td id=\"T_ac143_row8_col1\" class=\"data row8 col1\" >0.132197</td>\n    </tr>\n    <tr>\n      <th id=\"T_ac143_level0_row9\" class=\"row_heading level0 row9\" >210</th>\n      <td id=\"T_ac143_row9_col0\" class=\"data row9 col0\" >Batman & Robin</td>\n      <td id=\"T_ac143_row9_col1\" class=\"data row9 col1\" >0.130455</td>\n    </tr>\n  </tbody>\n</table>\n",
      "text/plain": "<pandas.io.formats.style.Styler at 0x785478f6f790>"
     },
     "execution_count": 15,
     "metadata": {},
     "output_type": "execute_result"
    }
   ]
  },
  {
   "metadata": {
    "_uuid": "902b9f1ab91921889c85e9008818dcc0b4710ccd",
    "execution": {
     "iopub.execute_input": "2024-09-18T04:42:06.024981Z",
     "iopub.status.busy": "2024-09-18T04:42:06.024155Z",
     "iopub.status.idle": "2024-09-18T04:42:06.039374Z",
     "shell.execute_reply": "2024-09-18T04:42:06.038379Z"
    },
    "id": "Kc-yebRSuvcc",
    "papermill": {
     "duration": 0.030323,
     "end_time": "2024-09-18T04:42:06.041514",
     "exception": false,
     "start_time": "2024-09-18T04:42:06.011191",
     "status": "completed"
    },
    "tags": [],
    "trusted": false
   },
   "id": "c92cc71e",
   "cell_type": "code",
   "source": "get_recommendations('The Avengers')",
   "execution_count": 16,
   "outputs": [
    {
     "data": {
      "text/html": "<style type=\"text/css\">\n#T_86ceb_row0_col1 {\n  width: 10em;\n  background: linear-gradient(90deg, #d65f5f 100.0%, transparent 100.0%);\n}\n#T_86ceb_row1_col1 {\n  width: 10em;\n  background: linear-gradient(90deg, #d65f5f 83.9%, transparent 83.9%);\n}\n#T_86ceb_row2_col1 {\n  width: 10em;\n  background: linear-gradient(90deg, #d65f5f 75.4%, transparent 75.4%);\n}\n#T_86ceb_row3_col1 {\n  width: 10em;\n  background: linear-gradient(90deg, #d65f5f 73.5%, transparent 73.5%);\n}\n#T_86ceb_row4_col1 {\n  width: 10em;\n  background: linear-gradient(90deg, #d65f5f 72.6%, transparent 72.6%);\n}\n#T_86ceb_row5_col1 {\n  width: 10em;\n  background: linear-gradient(90deg, #d65f5f 66.7%, transparent 66.7%);\n}\n#T_86ceb_row6_col1 {\n  width: 10em;\n  background: linear-gradient(90deg, #d65f5f 64.3%, transparent 64.3%);\n}\n#T_86ceb_row7_col1 {\n  width: 10em;\n  background: linear-gradient(90deg, #d65f5f 63.0%, transparent 63.0%);\n}\n#T_86ceb_row8_col1 {\n  width: 10em;\n  background: linear-gradient(90deg, #d65f5f 59.2%, transparent 59.2%);\n}\n#T_86ceb_row9_col1 {\n  width: 10em;\n  background: linear-gradient(90deg, #d65f5f 58.9%, transparent 58.9%);\n}\n</style>\n<table id=\"T_86ceb\">\n  <thead>\n    <tr>\n      <th class=\"blank level0\" >&nbsp;</th>\n      <th id=\"T_86ceb_level0_col0\" class=\"col_heading level0 col0\" >title</th>\n      <th id=\"T_86ceb_level0_col1\" class=\"col_heading level0 col1\" >similarity</th>\n    </tr>\n  </thead>\n  <tbody>\n    <tr>\n      <th id=\"T_86ceb_level0_row0\" class=\"row_heading level0 row0\" >7</th>\n      <td id=\"T_86ceb_row0_col0\" class=\"data row0 col0\" >Avengers: Age of Ultron</td>\n      <td id=\"T_86ceb_row0_col1\" class=\"data row0 col1\" >0.146374</td>\n    </tr>\n    <tr>\n      <th id=\"T_86ceb_level0_row1\" class=\"row_heading level0 row1\" >3144</th>\n      <td id=\"T_86ceb_row1_col0\" class=\"data row1 col0\" >Plastic</td>\n      <td id=\"T_86ceb_row1_col1\" class=\"data row1 col1\" >0.122791</td>\n    </tr>\n    <tr>\n      <th id=\"T_86ceb_level0_row2\" class=\"row_heading level0 row2\" >1715</th>\n      <td id=\"T_86ceb_row2_col0\" class=\"data row2 col0\" >Timecop</td>\n      <td id=\"T_86ceb_row2_col1\" class=\"data row2 col1\" >0.110385</td>\n    </tr>\n    <tr>\n      <th id=\"T_86ceb_level0_row3\" class=\"row_heading level0 row3\" >4124</th>\n      <td id=\"T_86ceb_row3_col0\" class=\"data row3 col0\" >This Thing of Ours</td>\n      <td id=\"T_86ceb_row3_col1\" class=\"data row3 col1\" >0.107529</td>\n    </tr>\n    <tr>\n      <th id=\"T_86ceb_level0_row4\" class=\"row_heading level0 row4\" >3311</th>\n      <td id=\"T_86ceb_row4_col0\" class=\"data row4 col0\" >Thank You for Smoking</td>\n      <td id=\"T_86ceb_row4_col1\" class=\"data row4 col1\" >0.106203</td>\n    </tr>\n    <tr>\n      <th id=\"T_86ceb_level0_row5\" class=\"row_heading level0 row5\" >3033</th>\n      <td id=\"T_86ceb_row5_col0\" class=\"data row5 col0\" >The Corruptor</td>\n      <td id=\"T_86ceb_row5_col1\" class=\"data row5 col1\" >0.097598</td>\n    </tr>\n    <tr>\n      <th id=\"T_86ceb_level0_row6\" class=\"row_heading level0 row6\" >588</th>\n      <td id=\"T_86ceb_row6_col0\" class=\"data row6 col0\" >Wall Street: Money Never Sleeps</td>\n      <td id=\"T_86ceb_row6_col1\" class=\"data row6 col1\" >0.094084</td>\n    </tr>\n    <tr>\n      <th id=\"T_86ceb_level0_row7\" class=\"row_heading level0 row7\" >2136</th>\n      <td id=\"T_86ceb_row7_col0\" class=\"data row7 col0\" >Team America: World Police</td>\n      <td id=\"T_86ceb_row7_col1\" class=\"data row7 col1\" >0.092244</td>\n    </tr>\n    <tr>\n      <th id=\"T_86ceb_level0_row8\" class=\"row_heading level0 row8\" >1468</th>\n      <td id=\"T_86ceb_row8_col0\" class=\"data row8 col0\" >The Fountain</td>\n      <td id=\"T_86ceb_row8_col1\" class=\"data row8 col1\" >0.086643</td>\n    </tr>\n    <tr>\n      <th id=\"T_86ceb_level0_row9\" class=\"row_heading level0 row9\" >1286</th>\n      <td id=\"T_86ceb_row9_col0\" class=\"data row9 col0\" >Snowpiercer</td>\n      <td id=\"T_86ceb_row9_col1\" class=\"data row9 col1\" >0.086189</td>\n    </tr>\n  </tbody>\n</table>\n",
      "text/plain": "<pandas.io.formats.style.Styler at 0x785478f6f490>"
     },
     "execution_count": 16,
     "metadata": {},
     "output_type": "execute_result"
    }
   ]
  },
  {
   "metadata": {
    "id": "MZgKUj04meRo",
    "papermill": {
     "duration": 0.01243,
     "end_time": "2024-09-18T04:42:06.066210",
     "exception": false,
     "start_time": "2024-09-18T04:42:06.053780",
     "status": "completed"
    },
    "tags": []
   },
   "id": "98c67541",
   "cell_type": "markdown",
   "source": "\n## <div style=\"padding: 30px;color:white;margin:10;font-size:60%;text-align:left;display:fill;border-radius:10px;background-color:#FFFFFF;overflow:hidden;background-color:#232834\"><b><span style='color:#686dec'>5 |</span></b> <b>Подход Эмбедингов Языковой Модели</b></div>\n\n- Даллее посмотрим вариант уже с `эмбеддингами`\n- Мы можем использовать язоковые модели для того чтобы сопаставить словам (из документов) некий эмбеддинг вектор и усреднить, получив среднее значение для документов в фиче `overview`\n- Одна из моделей которую мы можем использовать это моделт `LaBSE`, в модели используются эмбелддинги слов размера 768 \n- Воспользуемся библиотекой `transformers` для быстрой подгрузки модели и эго токенизатора. Токенищатор нам нужен будет для того чтобы разбить документы на части, создав вводные данные для модели `inputs`, мы так же в условии токенизации будем использовать `truncate` и максммальную длину 512"
  },
  {
   "metadata": {
    "execution": {
     "iopub.execute_input": "2024-09-18T04:42:06.092446Z",
     "iopub.status.busy": "2024-09-18T04:42:06.092098Z",
     "iopub.status.idle": "2024-09-18T04:42:22.294795Z",
     "shell.execute_reply": "2024-09-18T04:42:22.293741Z"
    },
    "id": "7-B1Ai8zEh7T",
    "outputId": "cd833441-d517-4d5f-cbc4-d30c486904f9",
    "papermill": {
     "duration": 16.218359,
     "end_time": "2024-09-18T04:42:22.297075",
     "exception": false,
     "start_time": "2024-09-18T04:42:06.078716",
     "status": "completed"
    },
    "tags": [],
    "trusted": false
   },
   "id": "f36a00f8",
   "cell_type": "code",
   "source": "from transformers import AutoTokenizer, AutoModel\nimport torch\nimport numpy as np\n\ndevice = torch.device(\"cuda\" if torch.cuda.is_available() else \"cpu\")\nprint(f\"Using device: {device}\")\n\n# Load pre-trained LaBSE model and tokenizer\ntokenizer = AutoTokenizer.from_pretrained(\"sentence-transformers/LaBSE\")\nmodel = AutoModel.from_pretrained(\"sentence-transformers/LaBSE\").to(device)",
   "execution_count": 17,
   "outputs": [
    {
     "name": "stdout",
     "output_type": "stream",
     "text": "Using device: cuda\n"
    },
    {
     "data": {
      "application/vnd.jupyter.widget-view+json": {
       "model_id": "781a6df26dca411f83b603824a78c990",
       "version_major": 2,
       "version_minor": 0
      },
      "text/plain": "tokenizer_config.json:   0%|          | 0.00/397 [00:00<?, ?B/s]"
     },
     "metadata": {},
     "output_type": "display_data"
    },
    {
     "data": {
      "application/vnd.jupyter.widget-view+json": {
       "model_id": "003d0b4e1093486aa970a42b5484b3a8",
       "version_major": 2,
       "version_minor": 0
      },
      "text/plain": "config.json:   0%|          | 0.00/804 [00:00<?, ?B/s]"
     },
     "metadata": {},
     "output_type": "display_data"
    },
    {
     "data": {
      "application/vnd.jupyter.widget-view+json": {
       "model_id": "d08cd34471db410e9624321c5b4d4cb7",
       "version_major": 2,
       "version_minor": 0
      },
      "text/plain": "vocab.txt:   0%|          | 0.00/5.22M [00:00<?, ?B/s]"
     },
     "metadata": {},
     "output_type": "display_data"
    },
    {
     "data": {
      "application/vnd.jupyter.widget-view+json": {
       "model_id": "c1ade7e79bcb4c92a3fbb999adae740f",
       "version_major": 2,
       "version_minor": 0
      },
      "text/plain": "tokenizer.json:   0%|          | 0.00/9.62M [00:00<?, ?B/s]"
     },
     "metadata": {},
     "output_type": "display_data"
    },
    {
     "data": {
      "application/vnd.jupyter.widget-view+json": {
       "model_id": "10833b1de82344db8f11aad96e997774",
       "version_major": 2,
       "version_minor": 0
      },
      "text/plain": "special_tokens_map.json:   0%|          | 0.00/112 [00:00<?, ?B/s]"
     },
     "metadata": {},
     "output_type": "display_data"
    },
    {
     "data": {
      "application/vnd.jupyter.widget-view+json": {
       "model_id": "9cc87b6cf1484b89b04a242f896892fe",
       "version_major": 2,
       "version_minor": 0
      },
      "text/plain": "pytorch_model.bin:   0%|          | 0.00/1.88G [00:00<?, ?B/s]"
     },
     "metadata": {},
     "output_type": "display_data"
    }
   ]
  },
  {
   "metadata": {},
   "id": "4cbed6d3",
   "cell_type": "markdown",
   "source": "- `get_labse_vectors_batch` для каждого документа в `overview` сопоставляет токену соответсвующий вектор представления из одного из предобученнвх слоев модели. Для каждого документа мы усредняем значение всех слов которые есть в словаре.\n- Размерность эмбеддингов в этой модели 768"
  },
  {
   "metadata": {
    "execution": {
     "iopub.execute_input": "2024-09-18T04:42:22.326662Z",
     "iopub.status.busy": "2024-09-18T04:42:22.325894Z",
     "iopub.status.idle": "2024-09-18T04:42:47.173452Z",
     "shell.execute_reply": "2024-09-18T04:42:47.172516Z"
    },
    "id": "KiPP_zgqXQZv",
    "outputId": "a7e44fb8-2683-4baa-826a-c5a88f34779b",
    "papermill": {
     "duration": 24.863964,
     "end_time": "2024-09-18T04:42:47.175407",
     "exception": false,
     "start_time": "2024-09-18T04:42:22.311443",
     "status": "completed"
    },
    "tags": [],
    "trusted": false
   },
   "id": "a2bc1a7a",
   "cell_type": "code",
   "source": "import numpy as np\nimport pandas as pd\nfrom tqdm import tqdm\n\ndef get_labse_vectors_batch(texts, model, tokenizer, device, batch_size=32):\n    embeddings = []\n\n    num_batches = (len(texts) + batch_size - 1) // batch_size\n\n    for i in tqdm(range(0, len(texts), batch_size), total=num_batches, desc=\"Generating LaBSE vectors\"):\n        batch = texts[i:i+batch_size]\n        inputs = tokenizer(batch, return_tensors=\"pt\", padding=True, truncation=True, max_length=512)\n        inputs = {k: v.to(device) for k, v in inputs.items()}\n\n        with torch.no_grad():\n            outputs = model(**inputs)\n\n        batch_embeddings = outputs.last_hidden_state[:, 0, :].cpu().numpy()\n        embeddings.append(batch_embeddings)\n\n    return np.vstack(embeddings)\n\n\nmovies['overview'] = movies['overview'].fillna('')\noverviews = movies['overview'].tolist()\n\nlabse_vectors = get_labse_vectors_batch(overviews, model, tokenizer, device)\nlabse_vectors.shape",
   "execution_count": 18,
   "outputs": [
    {
     "name": "stderr",
     "output_type": "stream",
     "text": "Generating LaBSE vectors: 100%|██████████| 151/151 [00:24<00:00,  6.08it/s]\n"
    },
    {
     "data": {
      "text/plain": "(4803, 768)"
     },
     "execution_count": 18,
     "metadata": {},
     "output_type": "execute_result"
    }
   ]
  },
  {
   "metadata": {
    "execution": {
     "iopub.execute_input": "2024-09-18T04:42:47.228813Z",
     "iopub.status.busy": "2024-09-18T04:42:47.228303Z",
     "iopub.status.idle": "2024-09-18T04:42:47.234321Z",
     "shell.execute_reply": "2024-09-18T04:42:47.233471Z"
    },
    "id": "VOpJlnSOa43P",
    "outputId": "50b9dff9-bee3-4e40-828c-67ee023f0b17",
    "papermill": {
     "duration": 0.034596,
     "end_time": "2024-09-18T04:42:47.236164",
     "exception": false,
     "start_time": "2024-09-18T04:42:47.201568",
     "status": "completed"
    },
    "tags": [],
    "trusted": false
   },
   "id": "9b9874ca",
   "cell_type": "code",
   "source": "labse_vectors.shape",
   "execution_count": 19,
   "outputs": [
    {
     "data": {
      "text/plain": "(4803, 768)"
     },
     "execution_count": 19,
     "metadata": {},
     "output_type": "execute_result"
    }
   ]
  },
  {
   "metadata": {
    "execution": {
     "iopub.execute_input": "2024-09-18T04:42:47.289358Z",
     "iopub.status.busy": "2024-09-18T04:42:47.289063Z",
     "iopub.status.idle": "2024-09-18T04:42:47.483875Z",
     "shell.execute_reply": "2024-09-18T04:42:47.482468Z"
    },
    "id": "rJK2o3a8NEPp",
    "papermill": {
     "duration": 0.225118,
     "end_time": "2024-09-18T04:42:47.487400",
     "exception": false,
     "start_time": "2024-09-18T04:42:47.262282",
     "status": "completed"
    },
    "tags": [],
    "trusted": false
   },
   "id": "a6369862",
   "cell_type": "code",
   "source": "from sklearn.metrics.pairwise import linear_kernel\n\nlabse_cosine_sim = linear_kernel(labse_vectors, labse_vectors)\n\nindices = pd.Series(movies.index, index=movies['title']).drop_duplicates()",
   "execution_count": 20,
   "outputs": []
  },
  {
   "metadata": {
    "execution": {
     "iopub.execute_input": "2024-09-18T04:42:47.564377Z",
     "iopub.status.busy": "2024-09-18T04:42:47.563978Z",
     "iopub.status.idle": "2024-09-18T04:42:47.586193Z",
     "shell.execute_reply": "2024-09-18T04:42:47.585172Z"
    },
    "id": "o9y-cmr3NEWP",
    "outputId": "2cd7b9fc-535c-4eee-ef97-a9a22773dc90",
    "papermill": {
     "duration": 0.05573,
     "end_time": "2024-09-18T04:42:47.588519",
     "exception": false,
     "start_time": "2024-09-18T04:42:47.532789",
     "status": "completed"
    },
    "tags": [],
    "trusted": false
   },
   "id": "cfebaecc",
   "cell_type": "code",
   "source": "get_recommendations('The Dark Knight Rises', labse_cosine_sim)",
   "execution_count": 21,
   "outputs": [
    {
     "data": {
      "text/html": "<style type=\"text/css\">\n#T_a30d8_row0_col1 {\n  width: 10em;\n  background: linear-gradient(90deg, #d65f5f 100.0%, transparent 100.0%);\n}\n#T_a30d8_row1_col1 {\n  width: 10em;\n  background: linear-gradient(90deg, #d65f5f 95.3%, transparent 95.3%);\n}\n#T_a30d8_row2_col1 {\n  width: 10em;\n  background: linear-gradient(90deg, #d65f5f 94.8%, transparent 94.8%);\n}\n#T_a30d8_row3_col1 {\n  width: 10em;\n  background: linear-gradient(90deg, #d65f5f 94.4%, transparent 94.4%);\n}\n#T_a30d8_row4_col1 {\n  width: 10em;\n  background: linear-gradient(90deg, #d65f5f 93.6%, transparent 93.6%);\n}\n#T_a30d8_row5_col1 {\n  width: 10em;\n  background: linear-gradient(90deg, #d65f5f 93.0%, transparent 93.0%);\n}\n#T_a30d8_row6_col1, #T_a30d8_row7_col1 {\n  width: 10em;\n  background: linear-gradient(90deg, #d65f5f 92.9%, transparent 92.9%);\n}\n#T_a30d8_row8_col1 {\n  width: 10em;\n  background: linear-gradient(90deg, #d65f5f 92.8%, transparent 92.8%);\n}\n#T_a30d8_row9_col1 {\n  width: 10em;\n  background: linear-gradient(90deg, #d65f5f 92.5%, transparent 92.5%);\n}\n</style>\n<table id=\"T_a30d8\">\n  <thead>\n    <tr>\n      <th class=\"blank level0\" >&nbsp;</th>\n      <th id=\"T_a30d8_level0_col0\" class=\"col_heading level0 col0\" >title</th>\n      <th id=\"T_a30d8_level0_col1\" class=\"col_heading level0 col1\" >similarity</th>\n    </tr>\n  </thead>\n  <tbody>\n    <tr>\n      <th id=\"T_a30d8_level0_row0\" class=\"row_heading level0 row0\" >1253</th>\n      <td id=\"T_a30d8_row0_col0\" class=\"data row0 col0\" >Kiss of Death</td>\n      <td id=\"T_a30d8_row0_col1\" class=\"data row0 col1\" >480.728943</td>\n    </tr>\n    <tr>\n      <th id=\"T_a30d8_level0_row1\" class=\"row_heading level0 row1\" >65</th>\n      <td id=\"T_a30d8_row1_col0\" class=\"data row1 col0\" >The Dark Knight</td>\n      <td id=\"T_a30d8_row1_col1\" class=\"data row1 col1\" >458.324799</td>\n    </tr>\n    <tr>\n      <th id=\"T_a30d8_level0_row2\" class=\"row_heading level0 row2\" >1422</th>\n      <td id=\"T_a30d8_row2_col0\" class=\"data row2 col0\" >The X Files: I Want to Believe</td>\n      <td id=\"T_a30d8_row2_col1\" class=\"data row2 col1\" >455.618408</td>\n    </tr>\n    <tr>\n      <th id=\"T_a30d8_level0_row3\" class=\"row_heading level0 row3\" >600</th>\n      <td id=\"T_a30d8_row3_col0\" class=\"data row3 col0\" >Killer Elite</td>\n      <td id=\"T_a30d8_row3_col1\" class=\"data row3 col1\" >453.634796</td>\n    </tr>\n    <tr>\n      <th id=\"T_a30d8_level0_row4\" class=\"row_heading level0 row4\" >1209</th>\n      <td id=\"T_a30d8_row4_col0\" class=\"data row4 col0\" >The Rainmaker</td>\n      <td id=\"T_a30d8_row4_col1\" class=\"data row4 col1\" >450.117798</td>\n    </tr>\n    <tr>\n      <th id=\"T_a30d8_level0_row5\" class=\"row_heading level0 row5\" >982</th>\n      <td id=\"T_a30d8_row5_col0\" class=\"data row5 col0\" >Run All Night</td>\n      <td id=\"T_a30d8_row5_col1\" class=\"data row5 col1\" >446.992432</td>\n    </tr>\n    <tr>\n      <th id=\"T_a30d8_level0_row6\" class=\"row_heading level0 row6\" >1830</th>\n      <td id=\"T_a30d8_row6_col0\" class=\"data row6 col0\" >Ride Along</td>\n      <td id=\"T_a30d8_row6_col1\" class=\"data row6 col1\" >446.656616</td>\n    </tr>\n    <tr>\n      <th id=\"T_a30d8_level0_row7\" class=\"row_heading level0 row7\" >987</th>\n      <td id=\"T_a30d8_row7_col0\" class=\"data row7 col0\" >Dream House</td>\n      <td id=\"T_a30d8_row7_col1\" class=\"data row7 col1\" >446.387756</td>\n    </tr>\n    <tr>\n      <th id=\"T_a30d8_level0_row8\" class=\"row_heading level0 row8\" >3805</th>\n      <td id=\"T_a30d8_row8_col0\" class=\"data row8 col0\" >Purple Violets</td>\n      <td id=\"T_a30d8_row8_col1\" class=\"data row8 col1\" >446.120972</td>\n    </tr>\n    <tr>\n      <th id=\"T_a30d8_level0_row9\" class=\"row_heading level0 row9\" >210</th>\n      <td id=\"T_a30d8_row9_col0\" class=\"data row9 col0\" >Batman & Robin</td>\n      <td id=\"T_a30d8_row9_col1\" class=\"data row9 col1\" >444.635986</td>\n    </tr>\n  </tbody>\n</table>\n",
      "text/plain": "<pandas.io.formats.style.Styler at 0x7853ac393910>"
     },
     "execution_count": 21,
     "metadata": {},
     "output_type": "execute_result"
    }
   ]
  },
  {
   "metadata": {
    "id": "cfsk5CUSmQIq",
    "papermill": {
     "duration": 0.030527,
     "end_time": "2024-09-18T04:42:47.651969",
     "exception": false,
     "start_time": "2024-09-18T04:42:47.621442",
     "status": "completed"
    },
    "tags": []
   },
   "id": "881e8f82",
   "cell_type": "markdown",
   "source": "## <div style=\"padding: 30px;color:white;margin:10;font-size:60%;text-align:left;display:fill;border-radius:10px;background-color:#FFFFFF;overflow:hidden;background-color:#232834\"><b><span style='color:#686dec'>6 |</span></b> <b>Подход FastText Эмбедингов</b></div>\n\n- Последний подход мы попробуем это подход предобученных `fasttext` эмбеддингов. \n- Решая задачу предсказания контекста на остнове стреднего слова и на остнове среднего предсказания контекстных слов используя нейросеть Fasttext позволяет нам обучиь эмбединговый слой. \n- Качество эмбединговых векторов напрямую зависит от корпуса документов на которой мы их обучили\n- В данном примере используем эмбединги обуены на корпусе новостей `fasttext-wiki-news-subwords-300` в котором вектора слов имеют размер 300 пространств"
  },
  {
   "metadata": {
    "execution": {
     "iopub.execute_input": "2024-09-18T04:42:47.705585Z",
     "iopub.status.busy": "2024-09-18T04:42:47.705077Z",
     "iopub.status.idle": "2024-09-18T04:49:52.636628Z",
     "shell.execute_reply": "2024-09-18T04:49:52.635772Z"
    },
    "id": "4zYab8ydjZHf",
    "outputId": "171bd9cc-3bf8-4d3a-c85e-0913b6369b60",
    "papermill": {
     "duration": 424.960847,
     "end_time": "2024-09-18T04:49:52.639146",
     "exception": false,
     "start_time": "2024-09-18T04:42:47.678299",
     "status": "completed"
    },
    "tags": [],
    "trusted": false
   },
   "id": "f4821223",
   "cell_type": "code",
   "source": "from gensim.models import FastText\nimport gensim.downloader as api\nimport numpy as np\n\nmodel = api.load('fasttext-wiki-news-subwords-300')",
   "execution_count": 22,
   "outputs": [
    {
     "name": "stdout",
     "output_type": "stream",
     "text": "[==================================================] 100.0% 958.5/958.4MB downloaded\n"
    }
   ]
  },
  {
   "metadata": {},
   "id": "28621bad",
   "cell_type": "markdown",
   "source": "`get_weighted_fasttext_vectors_batch` извлекает среднее значение всех слов для каждого документа, также часто мы совмещаем эмбединги свесте с весами TFIDF для каждого слова"
  },
  {
   "metadata": {
    "execution": {
     "iopub.execute_input": "2024-09-18T04:50:08.938856Z",
     "iopub.status.busy": "2024-09-18T04:50:08.938035Z",
     "iopub.status.idle": "2024-09-18T04:50:12.557431Z",
     "shell.execute_reply": "2024-09-18T04:50:12.556475Z"
    },
    "id": "JCOtkXR0Efe4",
    "outputId": "ccecbff9-f687-4171-e62a-e3304d4bebd5",
    "papermill": {
     "duration": 11.858098,
     "end_time": "2024-09-18T04:50:12.559858",
     "exception": false,
     "start_time": "2024-09-18T04:50:00.701760",
     "status": "completed"
    },
    "tags": [],
    "trusted": false
   },
   "id": "702224af",
   "cell_type": "code",
   "source": "def get_weighted_fasttext_vectors_batch(texts, model, tfidf_vectorizer, tfidf_matrix, batch_size=1000):\n    embeddings = []\n    num_batches = (len(texts) + batch_size - 1) // batch_size\n\n    for i in tqdm(range(0, len(texts), batch_size), total=num_batches, desc=\"Generating weighted FastText vectors\"):\n        batch = texts[i:i+batch_size]\n        batch_embeddings = []\n\n        for j, text in enumerate(batch):\n            words = text.split()\n            word_vectors = []\n            weights = []\n\n            for word in words:\n                if word in model and word in tfidf_vectorizer.vocabulary_:\n                    word_vectors.append(model[word])\n                    tfidf_index = tfidf_vectorizer.vocabulary_[word]\n                    weight = tfidf_matrix[i+j, tfidf_index]\n                    weights.append(weight)\n\n            if word_vectors:\n                weighted_vectors = np.array(word_vectors) * np.array(weights)[:, np.newaxis]\n                avg_vector = np.sum(weighted_vectors, axis=0) / np.sum(weights)\n            else:\n                avg_vector = np.zeros(model.vector_size)\n\n            batch_embeddings.append(avg_vector)\n\n        embeddings.extend(batch_embeddings)\n\n    return np.array(embeddings)\n\n\nmovies['overview'] = movies['overview'].fillna('')\n\noverviews = movies['overview'].tolist()\n\ntfidf_vectorizer = TfidfVectorizer(stop_words='english')\ntfidf_matrix = tfidf_vectorizer.fit_transform(overviews)\n\nfasttext_vectors = get_weighted_fasttext_vectors_batch(overviews, model, tfidf_vectorizer, tfidf_matrix)\n\n\nfasttext_vectors.shape",
   "execution_count": 23,
   "outputs": [
    {
     "name": "stderr",
     "output_type": "stream",
     "text": "Generating weighted FastText vectors: 100%|██████████| 5/5 [00:03<00:00,  1.53it/s]\n"
    },
    {
     "data": {
      "text/plain": "(4803, 300)"
     },
     "execution_count": 23,
     "metadata": {},
     "output_type": "execute_result"
    }
   ]
  },
  {
   "metadata": {},
   "id": "76f3ee7f",
   "cell_type": "markdown",
   "source": "Имея фичу матрицу `fasttext_vectors` построем матрицу схожости, как мы делали и раньше `fasttext_cosine_sim`"
  },
  {
   "metadata": {
    "execution": {
     "iopub.execute_input": "2024-09-18T04:50:28.855250Z",
     "iopub.status.busy": "2024-09-18T04:50:28.854829Z",
     "iopub.status.idle": "2024-09-18T04:50:29.053967Z",
     "shell.execute_reply": "2024-09-18T04:50:29.052451Z"
    },
    "id": "-GQjRJQ8mBLZ",
    "papermill": {
     "duration": 8.38566,
     "end_time": "2024-09-18T04:50:29.057728",
     "exception": false,
     "start_time": "2024-09-18T04:50:20.672068",
     "status": "completed"
    },
    "tags": [],
    "trusted": false
   },
   "id": "bd89c506",
   "cell_type": "code",
   "source": "from sklearn.metrics.pairwise import linear_kernel\n\nfasttext_cosine_sim = linear_kernel(fasttext_vectors, fasttext_vectors)\n\nindices = pd.Series(movies.index, index=movies['title']).drop_duplicates()",
   "execution_count": 24,
   "outputs": []
  },
  {
   "metadata": {},
   "id": "15653833",
   "cell_type": "markdown",
   "source": "Делаем рекомендации для фильма `The Dark Knight Rise`"
  },
  {
   "metadata": {
    "execution": {
     "iopub.execute_input": "2024-09-18T04:50:45.549319Z",
     "iopub.status.busy": "2024-09-18T04:50:45.548942Z",
     "iopub.status.idle": "2024-09-18T04:50:45.567207Z",
     "shell.execute_reply": "2024-09-18T04:50:45.566273Z"
    },
    "id": "AqIMwtcdmBMA",
    "outputId": "7c510405-1f8a-473a-ae21-e8b9289b6640",
    "papermill": {
     "duration": 8.172346,
     "end_time": "2024-09-18T04:50:45.569368",
     "exception": false,
     "start_time": "2024-09-18T04:50:37.397022",
     "status": "completed"
    },
    "tags": [],
    "trusted": false
   },
   "id": "f7072ddb",
   "cell_type": "code",
   "source": "get_recommendations('The Dark Knight Rises', fasttext_cosine_sim)",
   "execution_count": 25,
   "outputs": [
    {
     "data": {
      "text/html": "<style type=\"text/css\">\n#T_0d826_row0_col1 {\n  width: 10em;\n  background: linear-gradient(90deg, #d65f5f 100.0%, transparent 100.0%);\n}\n#T_0d826_row1_col1 {\n  width: 10em;\n  background: linear-gradient(90deg, #d65f5f 99.4%, transparent 99.4%);\n}\n#T_0d826_row2_col1 {\n  width: 10em;\n  background: linear-gradient(90deg, #d65f5f 98.5%, transparent 98.5%);\n}\n#T_0d826_row3_col1 {\n  width: 10em;\n  background: linear-gradient(90deg, #d65f5f 97.8%, transparent 97.8%);\n}\n#T_0d826_row4_col1 {\n  width: 10em;\n  background: linear-gradient(90deg, #d65f5f 97.4%, transparent 97.4%);\n}\n#T_0d826_row5_col1, #T_0d826_row6_col1 {\n  width: 10em;\n  background: linear-gradient(90deg, #d65f5f 97.1%, transparent 97.1%);\n}\n#T_0d826_row7_col1 {\n  width: 10em;\n  background: linear-gradient(90deg, #d65f5f 96.5%, transparent 96.5%);\n}\n#T_0d826_row8_col1 {\n  width: 10em;\n  background: linear-gradient(90deg, #d65f5f 95.9%, transparent 95.9%);\n}\n#T_0d826_row9_col1 {\n  width: 10em;\n  background: linear-gradient(90deg, #d65f5f 95.6%, transparent 95.6%);\n}\n</style>\n<table id=\"T_0d826\">\n  <thead>\n    <tr>\n      <th class=\"blank level0\" >&nbsp;</th>\n      <th id=\"T_0d826_level0_col0\" class=\"col_heading level0 col0\" >title</th>\n      <th id=\"T_0d826_level0_col1\" class=\"col_heading level0 col1\" >similarity</th>\n    </tr>\n  </thead>\n  <tbody>\n    <tr>\n      <th id=\"T_0d826_level0_row0\" class=\"row_heading level0 row0\" >2435</th>\n      <td id=\"T_0d826_row0_col0\" class=\"data row0 col0\" >Running Scared</td>\n      <td id=\"T_0d826_row0_col1\" class=\"data row0 col1\" >0.346712</td>\n    </tr>\n    <tr>\n      <th id=\"T_0d826_level0_row1\" class=\"row_heading level0 row1\" >2910</th>\n      <td id=\"T_0d826_row1_col0\" class=\"data row1 col0\" >A Tale of Three Cities</td>\n      <td id=\"T_0d826_row1_col1\" class=\"data row1 col1\" >0.344737</td>\n    </tr>\n    <tr>\n      <th id=\"T_0d826_level0_row2\" class=\"row_heading level0 row2\" >4367</th>\n      <td id=\"T_0d826_row2_col0\" class=\"data row2 col0\" >The Broken Hearts Club: A Romantic Comedy</td>\n      <td id=\"T_0d826_row2_col1\" class=\"data row2 col1\" >0.341655</td>\n    </tr>\n    <tr>\n      <th id=\"T_0d826_level0_row3\" class=\"row_heading level0 row3\" >176</th>\n      <td id=\"T_0d826_row3_col0\" class=\"data row3 col0\" >The Revenant</td>\n      <td id=\"T_0d826_row3_col1\" class=\"data row3 col1\" >0.339179</td>\n    </tr>\n    <tr>\n      <th id=\"T_0d826_level0_row4\" class=\"row_heading level0 row4\" >3475</th>\n      <td id=\"T_0d826_row4_col0\" class=\"data row4 col0\" >Casa De Mi Padre</td>\n      <td id=\"T_0d826_row4_col1\" class=\"data row4 col1\" >0.337685</td>\n    </tr>\n    <tr>\n      <th id=\"T_0d826_level0_row5\" class=\"row_heading level0 row5\" >3374</th>\n      <td id=\"T_0d826_row5_col0\" class=\"data row5 col0\" >Veer-Zaara</td>\n      <td id=\"T_0d826_row5_col1\" class=\"data row5 col1\" >0.336817</td>\n    </tr>\n    <tr>\n      <th id=\"T_0d826_level0_row6\" class=\"row_heading level0 row6\" >2807</th>\n      <td id=\"T_0d826_row6_col0\" class=\"data row6 col0\" >The Perfect Game</td>\n      <td id=\"T_0d826_row6_col1\" class=\"data row6 col1\" >0.336533</td>\n    </tr>\n    <tr>\n      <th id=\"T_0d826_level0_row7\" class=\"row_heading level0 row7\" >935</th>\n      <td id=\"T_0d826_row7_col0\" class=\"data row7 col0\" >Herbie Fully Loaded</td>\n      <td id=\"T_0d826_row7_col1\" class=\"data row7 col1\" >0.334470</td>\n    </tr>\n    <tr>\n      <th id=\"T_0d826_level0_row8\" class=\"row_heading level0 row8\" >2850</th>\n      <td id=\"T_0d826_row8_col0\" class=\"data row8 col0\" >Tales from the Crypt: Demon Knight</td>\n      <td id=\"T_0d826_row8_col1\" class=\"data row8 col1\" >0.332519</td>\n    </tr>\n    <tr>\n      <th id=\"T_0d826_level0_row9\" class=\"row_heading level0 row9\" >1293</th>\n      <td id=\"T_0d826_row9_col0\" class=\"data row9 col0\" >Frankenweenie</td>\n      <td id=\"T_0d826_row9_col1\" class=\"data row9 col1\" >0.331367</td>\n    </tr>\n  </tbody>\n</table>\n",
      "text/plain": "<pandas.io.formats.style.Styler at 0x785478eb09a0>"
     },
     "execution_count": 25,
     "metadata": {},
     "output_type": "execute_result"
    }
   ]
  },
  {
   "metadata": {
    "_uuid": "146302c25776b2c0076e64663a5e2e41e977fd2c",
    "id": "MbTEQB8puvcc",
    "papermill": {
     "duration": 8.13923,
     "end_time": "2024-09-18T04:51:01.988596",
     "exception": false,
     "start_time": "2024-09-18T04:50:53.849366",
     "status": "completed"
    },
    "tags": []
   },
   "id": "d50cd08e",
   "cell_type": "markdown",
   "source": "- Несмотря на то, что наша система неплохо справляется с поиском фильмов с похожим сюжетом, качество рекомендаций оставляет желать лучшего.\n- \"Тёмный рыцарь: Возрождение *легенды*\" возвращает все фильмы о Бэтмене, в то время как люди, которым понравился этот фильм, скорее всего, больше склонны любить другие фильмы Кристофера Нолана. Это то, что не может уловить текущая система."
  }
 ],
 "metadata": {
  "accelerator": "GPU",
  "colab": {
   "gpuType": "T4",
   "provenance": []
  },
  "kaggle": {
   "accelerator": "gpu",
   "dataSources": [
    {
     "datasetId": 138,
     "sourceId": 4508,
     "sourceType": "datasetVersion"
    },
    {
     "datasetId": 3405,
     "sourceId": 6663,
     "sourceType": "datasetVersion"
    }
   ],
   "dockerImageVersionId": 30761,
   "isGpuEnabled": true,
   "isInternetEnabled": true,
   "language": "python",
   "sourceType": "notebook"
  },
  "kernelspec": {
   "name": "python3",
   "display_name": "Python 3",
   "language": "python"
  },
  "language_info": {
   "name": "python",
   "version": "3.10.4",
   "mimetype": "text/x-python",
   "codemirror_mode": {
    "name": "ipython",
    "version": 3
   },
   "pygments_lexer": "ipython3",
   "nbconvert_exporter": "python",
   "file_extension": ".py"
  },
  "papermill": {
   "default_parameters": {},
   "duration": 553.544793,
   "end_time": "2024-09-18T04:51:13.168711",
   "environment_variables": {},
   "exception": null,
   "input_path": "__notebook__.ipynb",
   "output_path": "__notebook__.ipynb",
   "parameters": {},
   "start_time": "2024-09-18T04:41:59.623918",
   "version": "2.6.0"
  },
  "widgets": {
   "application/vnd.jupyter.widget-state+json": {
    "state": {
     "003d0b4e1093486aa970a42b5484b3a8": {
      "model_module": "@jupyter-widgets/controls",
      "model_module_version": "1.5.0",
      "model_name": "HBoxModel",
      "state": {
       "_dom_classes": [],
       "_model_module": "@jupyter-widgets/controls",
       "_model_module_version": "1.5.0",
       "_model_name": "HBoxModel",
       "_view_count": null,
       "_view_module": "@jupyter-widgets/controls",
       "_view_module_version": "1.5.0",
       "_view_name": "HBoxView",
       "box_style": "",
       "children": [
        "IPY_MODEL_6bbf5d9d40bd4fd786f9fb04bcf488c4",
        "IPY_MODEL_a88f2d17067849d5b1248fe48620d72b",
        "IPY_MODEL_3e995fbb637a4da59bb6d1cfebf2b78c"
       ],
       "layout": "IPY_MODEL_30da4f1ec58344fba92db29a87b9c6e3"
      }
     },
     "097f7520ffac47d294723d6f4c35ac32": {
      "model_module": "@jupyter-widgets/controls",
      "model_module_version": "1.5.0",
      "model_name": "DescriptionStyleModel",
      "state": {
       "_model_module": "@jupyter-widgets/controls",
       "_model_module_version": "1.5.0",
       "_model_name": "DescriptionStyleModel",
       "_view_count": null,
       "_view_module": "@jupyter-widgets/base",
       "_view_module_version": "1.2.0",
       "_view_name": "StyleView",
       "description_width": ""
      }
     },
     "0d3b88d6d3f1446493dc3749ca3ff314": {
      "model_module": "@jupyter-widgets/base",
      "model_module_version": "1.2.0",
      "model_name": "LayoutModel",
      "state": {
       "_model_module": "@jupyter-widgets/base",
       "_model_module_version": "1.2.0",
       "_model_name": "LayoutModel",
       "_view_count": null,
       "_view_module": "@jupyter-widgets/base",
       "_view_module_version": "1.2.0",
       "_view_name": "LayoutView",
       "align_content": null,
       "align_items": null,
       "align_self": null,
       "border": null,
       "bottom": null,
       "display": null,
       "flex": null,
       "flex_flow": null,
       "grid_area": null,
       "grid_auto_columns": null,
       "grid_auto_flow": null,
       "grid_auto_rows": null,
       "grid_column": null,
       "grid_gap": null,
       "grid_row": null,
       "grid_template_areas": null,
       "grid_template_columns": null,
       "grid_template_rows": null,
       "height": null,
       "justify_content": null,
       "justify_items": null,
       "left": null,
       "margin": null,
       "max_height": null,
       "max_width": null,
       "min_height": null,
       "min_width": null,
       "object_fit": null,
       "object_position": null,
       "order": null,
       "overflow": null,
       "overflow_x": null,
       "overflow_y": null,
       "padding": null,
       "right": null,
       "top": null,
       "visibility": null,
       "width": null
      }
     },
     "10833b1de82344db8f11aad96e997774": {
      "model_module": "@jupyter-widgets/controls",
      "model_module_version": "1.5.0",
      "model_name": "HBoxModel",
      "state": {
       "_dom_classes": [],
       "_model_module": "@jupyter-widgets/controls",
       "_model_module_version": "1.5.0",
       "_model_name": "HBoxModel",
       "_view_count": null,
       "_view_module": "@jupyter-widgets/controls",
       "_view_module_version": "1.5.0",
       "_view_name": "HBoxView",
       "box_style": "",
       "children": [
        "IPY_MODEL_cbe28f0499744f1588bb3ea1de3f6357",
        "IPY_MODEL_94448068b06d40cba1c6ec700b76831b",
        "IPY_MODEL_dd44505d8db84581b39618052bd18225"
       ],
       "layout": "IPY_MODEL_7b79e28978db42f3a334b9e6802f5e40"
      }
     },
     "1b6dabcc8b0948d08c2f01138558e00b": {
      "model_module": "@jupyter-widgets/controls",
      "model_module_version": "1.5.0",
      "model_name": "FloatProgressModel",
      "state": {
       "_dom_classes": [],
       "_model_module": "@jupyter-widgets/controls",
       "_model_module_version": "1.5.0",
       "_model_name": "FloatProgressModel",
       "_view_count": null,
       "_view_module": "@jupyter-widgets/controls",
       "_view_module_version": "1.5.0",
       "_view_name": "ProgressView",
       "bar_style": "success",
       "description": "",
       "description_tooltip": null,
       "layout": "IPY_MODEL_a655ad94990a4336a853d9d2e42e4b10",
       "max": 9621556,
       "min": 0,
       "orientation": "horizontal",
       "style": "IPY_MODEL_7b4ef6bd3a074669bfc2090c2756fbec",
       "value": 9621556
      }
     },
     "1ce8f2281a514d2891259ec6b3416d2e": {
      "model_module": "@jupyter-widgets/controls",
      "model_module_version": "1.5.0",
      "model_name": "DescriptionStyleModel",
      "state": {
       "_model_module": "@jupyter-widgets/controls",
       "_model_module_version": "1.5.0",
       "_model_name": "DescriptionStyleModel",
       "_view_count": null,
       "_view_module": "@jupyter-widgets/base",
       "_view_module_version": "1.2.0",
       "_view_name": "StyleView",
       "description_width": ""
      }
     },
     "2380596e16304c16bc02ca470315b0b8": {
      "model_module": "@jupyter-widgets/controls",
      "model_module_version": "1.5.0",
      "model_name": "HTMLModel",
      "state": {
       "_dom_classes": [],
       "_model_module": "@jupyter-widgets/controls",
       "_model_module_version": "1.5.0",
       "_model_name": "HTMLModel",
       "_view_count": null,
       "_view_module": "@jupyter-widgets/controls",
       "_view_module_version": "1.5.0",
       "_view_name": "HTMLView",
       "description": "",
       "description_tooltip": null,
       "layout": "IPY_MODEL_41677ad663db4f4eb0fc19cf393a491c",
       "placeholder": "​",
       "style": "IPY_MODEL_bcd7b797839948368ee9b2d081cf20ea",
       "value": "vocab.txt: 100%"
      }
     },
     "23f5c836ea1d4828af20ca57363bc3a0": {
      "model_module": "@jupyter-widgets/controls",
      "model_module_version": "1.5.0",
      "model_name": "FloatProgressModel",
      "state": {
       "_dom_classes": [],
       "_model_module": "@jupyter-widgets/controls",
       "_model_module_version": "1.5.0",
       "_model_name": "FloatProgressModel",
       "_view_count": null,
       "_view_module": "@jupyter-widgets/controls",
       "_view_module_version": "1.5.0",
       "_view_name": "ProgressView",
       "bar_style": "success",
       "description": "",
       "description_tooltip": null,
       "layout": "IPY_MODEL_688514b5db7f490598d1e17805e3cb5f",
       "max": 5220781,
       "min": 0,
       "orientation": "horizontal",
       "style": "IPY_MODEL_b2fc0f1cf64a4fa6b6eda261d8f7177a",
       "value": 5220781
      }
     },
     "276825a322f24355a9949397b419b428": {
      "model_module": "@jupyter-widgets/controls",
      "model_module_version": "1.5.0",
      "model_name": "HTMLModel",
      "state": {
       "_dom_classes": [],
       "_model_module": "@jupyter-widgets/controls",
       "_model_module_version": "1.5.0",
       "_model_name": "HTMLModel",
       "_view_count": null,
       "_view_module": "@jupyter-widgets/controls",
       "_view_module_version": "1.5.0",
       "_view_name": "HTMLView",
       "description": "",
       "description_tooltip": null,
       "layout": "IPY_MODEL_763f84b4b78f4590804c908f633e46c3",
       "placeholder": "​",
       "style": "IPY_MODEL_5f52d206902b470b83e1e78a32b66e9c",
       "value": "pytorch_model.bin: 100%"
      }
     },
     "2d3fcd0cae384f1d9dfd255924154df4": {
      "model_module": "@jupyter-widgets/controls",
      "model_module_version": "1.5.0",
      "model_name": "FloatProgressModel",
      "state": {
       "_dom_classes": [],
       "_model_module": "@jupyter-widgets/controls",
       "_model_module_version": "1.5.0",
       "_model_name": "FloatProgressModel",
       "_view_count": null,
       "_view_module": "@jupyter-widgets/controls",
       "_view_module_version": "1.5.0",
       "_view_name": "ProgressView",
       "bar_style": "success",
       "description": "",
       "description_tooltip": null,
       "layout": "IPY_MODEL_5211255efa7f43e3ab1044c470f870d5",
       "max": 397,
       "min": 0,
       "orientation": "horizontal",
       "style": "IPY_MODEL_3bf67d8ca0254a7ba8c43745af4904f1",
       "value": 397
      }
     },
     "2f12b4f3621d4f6b8be4f3c6d4171fcd": {
      "model_module": "@jupyter-widgets/base",
      "model_module_version": "1.2.0",
      "model_name": "LayoutModel",
      "state": {
       "_model_module": "@jupyter-widgets/base",
       "_model_module_version": "1.2.0",
       "_model_name": "LayoutModel",
       "_view_count": null,
       "_view_module": "@jupyter-widgets/base",
       "_view_module_version": "1.2.0",
       "_view_name": "LayoutView",
       "align_content": null,
       "align_items": null,
       "align_self": null,
       "border": null,
       "bottom": null,
       "display": null,
       "flex": null,
       "flex_flow": null,
       "grid_area": null,
       "grid_auto_columns": null,
       "grid_auto_flow": null,
       "grid_auto_rows": null,
       "grid_column": null,
       "grid_gap": null,
       "grid_row": null,
       "grid_template_areas": null,
       "grid_template_columns": null,
       "grid_template_rows": null,
       "height": null,
       "justify_content": null,
       "justify_items": null,
       "left": null,
       "margin": null,
       "max_height": null,
       "max_width": null,
       "min_height": null,
       "min_width": null,
       "object_fit": null,
       "object_position": null,
       "order": null,
       "overflow": null,
       "overflow_x": null,
       "overflow_y": null,
       "padding": null,
       "right": null,
       "top": null,
       "visibility": null,
       "width": null
      }
     },
     "2f6ba0b869c74cb89eb67af93003ce24": {
      "model_module": "@jupyter-widgets/base",
      "model_module_version": "1.2.0",
      "model_name": "LayoutModel",
      "state": {
       "_model_module": "@jupyter-widgets/base",
       "_model_module_version": "1.2.0",
       "_model_name": "LayoutModel",
       "_view_count": null,
       "_view_module": "@jupyter-widgets/base",
       "_view_module_version": "1.2.0",
       "_view_name": "LayoutView",
       "align_content": null,
       "align_items": null,
       "align_self": null,
       "border": null,
       "bottom": null,
       "display": null,
       "flex": null,
       "flex_flow": null,
       "grid_area": null,
       "grid_auto_columns": null,
       "grid_auto_flow": null,
       "grid_auto_rows": null,
       "grid_column": null,
       "grid_gap": null,
       "grid_row": null,
       "grid_template_areas": null,
       "grid_template_columns": null,
       "grid_template_rows": null,
       "height": null,
       "justify_content": null,
       "justify_items": null,
       "left": null,
       "margin": null,
       "max_height": null,
       "max_width": null,
       "min_height": null,
       "min_width": null,
       "object_fit": null,
       "object_position": null,
       "order": null,
       "overflow": null,
       "overflow_x": null,
       "overflow_y": null,
       "padding": null,
       "right": null,
       "top": null,
       "visibility": null,
       "width": null
      }
     },
     "30da4f1ec58344fba92db29a87b9c6e3": {
      "model_module": "@jupyter-widgets/base",
      "model_module_version": "1.2.0",
      "model_name": "LayoutModel",
      "state": {
       "_model_module": "@jupyter-widgets/base",
       "_model_module_version": "1.2.0",
       "_model_name": "LayoutModel",
       "_view_count": null,
       "_view_module": "@jupyter-widgets/base",
       "_view_module_version": "1.2.0",
       "_view_name": "LayoutView",
       "align_content": null,
       "align_items": null,
       "align_self": null,
       "border": null,
       "bottom": null,
       "display": null,
       "flex": null,
       "flex_flow": null,
       "grid_area": null,
       "grid_auto_columns": null,
       "grid_auto_flow": null,
       "grid_auto_rows": null,
       "grid_column": null,
       "grid_gap": null,
       "grid_row": null,
       "grid_template_areas": null,
       "grid_template_columns": null,
       "grid_template_rows": null,
       "height": null,
       "justify_content": null,
       "justify_items": null,
       "left": null,
       "margin": null,
       "max_height": null,
       "max_width": null,
       "min_height": null,
       "min_width": null,
       "object_fit": null,
       "object_position": null,
       "order": null,
       "overflow": null,
       "overflow_x": null,
       "overflow_y": null,
       "padding": null,
       "right": null,
       "top": null,
       "visibility": null,
       "width": null
      }
     },
     "3bf67d8ca0254a7ba8c43745af4904f1": {
      "model_module": "@jupyter-widgets/controls",
      "model_module_version": "1.5.0",
      "model_name": "ProgressStyleModel",
      "state": {
       "_model_module": "@jupyter-widgets/controls",
       "_model_module_version": "1.5.0",
       "_model_name": "ProgressStyleModel",
       "_view_count": null,
       "_view_module": "@jupyter-widgets/base",
       "_view_module_version": "1.2.0",
       "_view_name": "StyleView",
       "bar_color": null,
       "description_width": ""
      }
     },
     "3e995fbb637a4da59bb6d1cfebf2b78c": {
      "model_module": "@jupyter-widgets/controls",
      "model_module_version": "1.5.0",
      "model_name": "HTMLModel",
      "state": {
       "_dom_classes": [],
       "_model_module": "@jupyter-widgets/controls",
       "_model_module_version": "1.5.0",
       "_model_name": "HTMLModel",
       "_view_count": null,
       "_view_module": "@jupyter-widgets/controls",
       "_view_module_version": "1.5.0",
       "_view_name": "HTMLView",
       "description": "",
       "description_tooltip": null,
       "layout": "IPY_MODEL_57a003511a414109abdb46fe19495643",
       "placeholder": "​",
       "style": "IPY_MODEL_ce0aeaa9fea3408f8dde992e7f080f0f",
       "value": " 804/804 [00:00&lt;00:00, 65.0kB/s]"
      }
     },
     "40a440c5aa684ed394ef158b1f820f7e": {
      "model_module": "@jupyter-widgets/controls",
      "model_module_version": "1.5.0",
      "model_name": "HTMLModel",
      "state": {
       "_dom_classes": [],
       "_model_module": "@jupyter-widgets/controls",
       "_model_module_version": "1.5.0",
       "_model_name": "HTMLModel",
       "_view_count": null,
       "_view_module": "@jupyter-widgets/controls",
       "_view_module_version": "1.5.0",
       "_view_name": "HTMLView",
       "description": "",
       "description_tooltip": null,
       "layout": "IPY_MODEL_7fe5be4dfc9148679a2e1469677e0f74",
       "placeholder": "​",
       "style": "IPY_MODEL_6fd43747296644dc8fdc13e7f1f1b36d",
       "value": " 1.88G/1.88G [00:06&lt;00:00, 291MB/s]"
      }
     },
     "41677ad663db4f4eb0fc19cf393a491c": {
      "model_module": "@jupyter-widgets/base",
      "model_module_version": "1.2.0",
      "model_name": "LayoutModel",
      "state": {
       "_model_module": "@jupyter-widgets/base",
       "_model_module_version": "1.2.0",
       "_model_name": "LayoutModel",
       "_view_count": null,
       "_view_module": "@jupyter-widgets/base",
       "_view_module_version": "1.2.0",
       "_view_name": "LayoutView",
       "align_content": null,
       "align_items": null,
       "align_self": null,
       "border": null,
       "bottom": null,
       "display": null,
       "flex": null,
       "flex_flow": null,
       "grid_area": null,
       "grid_auto_columns": null,
       "grid_auto_flow": null,
       "grid_auto_rows": null,
       "grid_column": null,
       "grid_gap": null,
       "grid_row": null,
       "grid_template_areas": null,
       "grid_template_columns": null,
       "grid_template_rows": null,
       "height": null,
       "justify_content": null,
       "justify_items": null,
       "left": null,
       "margin": null,
       "max_height": null,
       "max_width": null,
       "min_height": null,
       "min_width": null,
       "object_fit": null,
       "object_position": null,
       "order": null,
       "overflow": null,
       "overflow_x": null,
       "overflow_y": null,
       "padding": null,
       "right": null,
       "top": null,
       "visibility": null,
       "width": null
      }
     },
     "41ae3342683940ccbc31a1026c10476f": {
      "model_module": "@jupyter-widgets/controls",
      "model_module_version": "1.5.0",
      "model_name": "DescriptionStyleModel",
      "state": {
       "_model_module": "@jupyter-widgets/controls",
       "_model_module_version": "1.5.0",
       "_model_name": "DescriptionStyleModel",
       "_view_count": null,
       "_view_module": "@jupyter-widgets/base",
       "_view_module_version": "1.2.0",
       "_view_name": "StyleView",
       "description_width": ""
      }
     },
     "4b41b9d932cd471b91428c6c05e60d9e": {
      "model_module": "@jupyter-widgets/base",
      "model_module_version": "1.2.0",
      "model_name": "LayoutModel",
      "state": {
       "_model_module": "@jupyter-widgets/base",
       "_model_module_version": "1.2.0",
       "_model_name": "LayoutModel",
       "_view_count": null,
       "_view_module": "@jupyter-widgets/base",
       "_view_module_version": "1.2.0",
       "_view_name": "LayoutView",
       "align_content": null,
       "align_items": null,
       "align_self": null,
       "border": null,
       "bottom": null,
       "display": null,
       "flex": null,
       "flex_flow": null,
       "grid_area": null,
       "grid_auto_columns": null,
       "grid_auto_flow": null,
       "grid_auto_rows": null,
       "grid_column": null,
       "grid_gap": null,
       "grid_row": null,
       "grid_template_areas": null,
       "grid_template_columns": null,
       "grid_template_rows": null,
       "height": null,
       "justify_content": null,
       "justify_items": null,
       "left": null,
       "margin": null,
       "max_height": null,
       "max_width": null,
       "min_height": null,
       "min_width": null,
       "object_fit": null,
       "object_position": null,
       "order": null,
       "overflow": null,
       "overflow_x": null,
       "overflow_y": null,
       "padding": null,
       "right": null,
       "top": null,
       "visibility": null,
       "width": null
      }
     },
     "4cc20b21098a44359611b03af367f932": {
      "model_module": "@jupyter-widgets/base",
      "model_module_version": "1.2.0",
      "model_name": "LayoutModel",
      "state": {
       "_model_module": "@jupyter-widgets/base",
       "_model_module_version": "1.2.0",
       "_model_name": "LayoutModel",
       "_view_count": null,
       "_view_module": "@jupyter-widgets/base",
       "_view_module_version": "1.2.0",
       "_view_name": "LayoutView",
       "align_content": null,
       "align_items": null,
       "align_self": null,
       "border": null,
       "bottom": null,
       "display": null,
       "flex": null,
       "flex_flow": null,
       "grid_area": null,
       "grid_auto_columns": null,
       "grid_auto_flow": null,
       "grid_auto_rows": null,
       "grid_column": null,
       "grid_gap": null,
       "grid_row": null,
       "grid_template_areas": null,
       "grid_template_columns": null,
       "grid_template_rows": null,
       "height": null,
       "justify_content": null,
       "justify_items": null,
       "left": null,
       "margin": null,
       "max_height": null,
       "max_width": null,
       "min_height": null,
       "min_width": null,
       "object_fit": null,
       "object_position": null,
       "order": null,
       "overflow": null,
       "overflow_x": null,
       "overflow_y": null,
       "padding": null,
       "right": null,
       "top": null,
       "visibility": null,
       "width": null
      }
     },
     "50361ff728bd4118a88144bb74a4d352": {
      "model_module": "@jupyter-widgets/base",
      "model_module_version": "1.2.0",
      "model_name": "LayoutModel",
      "state": {
       "_model_module": "@jupyter-widgets/base",
       "_model_module_version": "1.2.0",
       "_model_name": "LayoutModel",
       "_view_count": null,
       "_view_module": "@jupyter-widgets/base",
       "_view_module_version": "1.2.0",
       "_view_name": "LayoutView",
       "align_content": null,
       "align_items": null,
       "align_self": null,
       "border": null,
       "bottom": null,
       "display": null,
       "flex": null,
       "flex_flow": null,
       "grid_area": null,
       "grid_auto_columns": null,
       "grid_auto_flow": null,
       "grid_auto_rows": null,
       "grid_column": null,
       "grid_gap": null,
       "grid_row": null,
       "grid_template_areas": null,
       "grid_template_columns": null,
       "grid_template_rows": null,
       "height": null,
       "justify_content": null,
       "justify_items": null,
       "left": null,
       "margin": null,
       "max_height": null,
       "max_width": null,
       "min_height": null,
       "min_width": null,
       "object_fit": null,
       "object_position": null,
       "order": null,
       "overflow": null,
       "overflow_x": null,
       "overflow_y": null,
       "padding": null,
       "right": null,
       "top": null,
       "visibility": null,
       "width": null
      }
     },
     "5211255efa7f43e3ab1044c470f870d5": {
      "model_module": "@jupyter-widgets/base",
      "model_module_version": "1.2.0",
      "model_name": "LayoutModel",
      "state": {
       "_model_module": "@jupyter-widgets/base",
       "_model_module_version": "1.2.0",
       "_model_name": "LayoutModel",
       "_view_count": null,
       "_view_module": "@jupyter-widgets/base",
       "_view_module_version": "1.2.0",
       "_view_name": "LayoutView",
       "align_content": null,
       "align_items": null,
       "align_self": null,
       "border": null,
       "bottom": null,
       "display": null,
       "flex": null,
       "flex_flow": null,
       "grid_area": null,
       "grid_auto_columns": null,
       "grid_auto_flow": null,
       "grid_auto_rows": null,
       "grid_column": null,
       "grid_gap": null,
       "grid_row": null,
       "grid_template_areas": null,
       "grid_template_columns": null,
       "grid_template_rows": null,
       "height": null,
       "justify_content": null,
       "justify_items": null,
       "left": null,
       "margin": null,
       "max_height": null,
       "max_width": null,
       "min_height": null,
       "min_width": null,
       "object_fit": null,
       "object_position": null,
       "order": null,
       "overflow": null,
       "overflow_x": null,
       "overflow_y": null,
       "padding": null,
       "right": null,
       "top": null,
       "visibility": null,
       "width": null
      }
     },
     "531f3fbf1d684d22a932a96357afdd44": {
      "model_module": "@jupyter-widgets/controls",
      "model_module_version": "1.5.0",
      "model_name": "FloatProgressModel",
      "state": {
       "_dom_classes": [],
       "_model_module": "@jupyter-widgets/controls",
       "_model_module_version": "1.5.0",
       "_model_name": "FloatProgressModel",
       "_view_count": null,
       "_view_module": "@jupyter-widgets/controls",
       "_view_module_version": "1.5.0",
       "_view_name": "ProgressView",
       "bar_style": "success",
       "description": "",
       "description_tooltip": null,
       "layout": "IPY_MODEL_5f118f2ddb5a41b48d66c3f8228ab36d",
       "max": 1883785969,
       "min": 0,
       "orientation": "horizontal",
       "style": "IPY_MODEL_81b2fd5119fa4bcd96a03e61ed071b93",
       "value": 1883785969
      }
     },
     "57a003511a414109abdb46fe19495643": {
      "model_module": "@jupyter-widgets/base",
      "model_module_version": "1.2.0",
      "model_name": "LayoutModel",
      "state": {
       "_model_module": "@jupyter-widgets/base",
       "_model_module_version": "1.2.0",
       "_model_name": "LayoutModel",
       "_view_count": null,
       "_view_module": "@jupyter-widgets/base",
       "_view_module_version": "1.2.0",
       "_view_name": "LayoutView",
       "align_content": null,
       "align_items": null,
       "align_self": null,
       "border": null,
       "bottom": null,
       "display": null,
       "flex": null,
       "flex_flow": null,
       "grid_area": null,
       "grid_auto_columns": null,
       "grid_auto_flow": null,
       "grid_auto_rows": null,
       "grid_column": null,
       "grid_gap": null,
       "grid_row": null,
       "grid_template_areas": null,
       "grid_template_columns": null,
       "grid_template_rows": null,
       "height": null,
       "justify_content": null,
       "justify_items": null,
       "left": null,
       "margin": null,
       "max_height": null,
       "max_width": null,
       "min_height": null,
       "min_width": null,
       "object_fit": null,
       "object_position": null,
       "order": null,
       "overflow": null,
       "overflow_x": null,
       "overflow_y": null,
       "padding": null,
       "right": null,
       "top": null,
       "visibility": null,
       "width": null
      }
     },
     "5838f11c11294a47b40faba3f76ae4e1": {
      "model_module": "@jupyter-widgets/base",
      "model_module_version": "1.2.0",
      "model_name": "LayoutModel",
      "state": {
       "_model_module": "@jupyter-widgets/base",
       "_model_module_version": "1.2.0",
       "_model_name": "LayoutModel",
       "_view_count": null,
       "_view_module": "@jupyter-widgets/base",
       "_view_module_version": "1.2.0",
       "_view_name": "LayoutView",
       "align_content": null,
       "align_items": null,
       "align_self": null,
       "border": null,
       "bottom": null,
       "display": null,
       "flex": null,
       "flex_flow": null,
       "grid_area": null,
       "grid_auto_columns": null,
       "grid_auto_flow": null,
       "grid_auto_rows": null,
       "grid_column": null,
       "grid_gap": null,
       "grid_row": null,
       "grid_template_areas": null,
       "grid_template_columns": null,
       "grid_template_rows": null,
       "height": null,
       "justify_content": null,
       "justify_items": null,
       "left": null,
       "margin": null,
       "max_height": null,
       "max_width": null,
       "min_height": null,
       "min_width": null,
       "object_fit": null,
       "object_position": null,
       "order": null,
       "overflow": null,
       "overflow_x": null,
       "overflow_y": null,
       "padding": null,
       "right": null,
       "top": null,
       "visibility": null,
       "width": null
      }
     },
     "5e5ad2f34559468d9cccc3034f4635fc": {
      "model_module": "@jupyter-widgets/base",
      "model_module_version": "1.2.0",
      "model_name": "LayoutModel",
      "state": {
       "_model_module": "@jupyter-widgets/base",
       "_model_module_version": "1.2.0",
       "_model_name": "LayoutModel",
       "_view_count": null,
       "_view_module": "@jupyter-widgets/base",
       "_view_module_version": "1.2.0",
       "_view_name": "LayoutView",
       "align_content": null,
       "align_items": null,
       "align_self": null,
       "border": null,
       "bottom": null,
       "display": null,
       "flex": null,
       "flex_flow": null,
       "grid_area": null,
       "grid_auto_columns": null,
       "grid_auto_flow": null,
       "grid_auto_rows": null,
       "grid_column": null,
       "grid_gap": null,
       "grid_row": null,
       "grid_template_areas": null,
       "grid_template_columns": null,
       "grid_template_rows": null,
       "height": null,
       "justify_content": null,
       "justify_items": null,
       "left": null,
       "margin": null,
       "max_height": null,
       "max_width": null,
       "min_height": null,
       "min_width": null,
       "object_fit": null,
       "object_position": null,
       "order": null,
       "overflow": null,
       "overflow_x": null,
       "overflow_y": null,
       "padding": null,
       "right": null,
       "top": null,
       "visibility": null,
       "width": null
      }
     },
     "5e904ae884c14743b7b4c070368d9a7f": {
      "model_module": "@jupyter-widgets/base",
      "model_module_version": "1.2.0",
      "model_name": "LayoutModel",
      "state": {
       "_model_module": "@jupyter-widgets/base",
       "_model_module_version": "1.2.0",
       "_model_name": "LayoutModel",
       "_view_count": null,
       "_view_module": "@jupyter-widgets/base",
       "_view_module_version": "1.2.0",
       "_view_name": "LayoutView",
       "align_content": null,
       "align_items": null,
       "align_self": null,
       "border": null,
       "bottom": null,
       "display": null,
       "flex": null,
       "flex_flow": null,
       "grid_area": null,
       "grid_auto_columns": null,
       "grid_auto_flow": null,
       "grid_auto_rows": null,
       "grid_column": null,
       "grid_gap": null,
       "grid_row": null,
       "grid_template_areas": null,
       "grid_template_columns": null,
       "grid_template_rows": null,
       "height": null,
       "justify_content": null,
       "justify_items": null,
       "left": null,
       "margin": null,
       "max_height": null,
       "max_width": null,
       "min_height": null,
       "min_width": null,
       "object_fit": null,
       "object_position": null,
       "order": null,
       "overflow": null,
       "overflow_x": null,
       "overflow_y": null,
       "padding": null,
       "right": null,
       "top": null,
       "visibility": null,
       "width": null
      }
     },
     "5f118f2ddb5a41b48d66c3f8228ab36d": {
      "model_module": "@jupyter-widgets/base",
      "model_module_version": "1.2.0",
      "model_name": "LayoutModel",
      "state": {
       "_model_module": "@jupyter-widgets/base",
       "_model_module_version": "1.2.0",
       "_model_name": "LayoutModel",
       "_view_count": null,
       "_view_module": "@jupyter-widgets/base",
       "_view_module_version": "1.2.0",
       "_view_name": "LayoutView",
       "align_content": null,
       "align_items": null,
       "align_self": null,
       "border": null,
       "bottom": null,
       "display": null,
       "flex": null,
       "flex_flow": null,
       "grid_area": null,
       "grid_auto_columns": null,
       "grid_auto_flow": null,
       "grid_auto_rows": null,
       "grid_column": null,
       "grid_gap": null,
       "grid_row": null,
       "grid_template_areas": null,
       "grid_template_columns": null,
       "grid_template_rows": null,
       "height": null,
       "justify_content": null,
       "justify_items": null,
       "left": null,
       "margin": null,
       "max_height": null,
       "max_width": null,
       "min_height": null,
       "min_width": null,
       "object_fit": null,
       "object_position": null,
       "order": null,
       "overflow": null,
       "overflow_x": null,
       "overflow_y": null,
       "padding": null,
       "right": null,
       "top": null,
       "visibility": null,
       "width": null
      }
     },
     "5f52d206902b470b83e1e78a32b66e9c": {
      "model_module": "@jupyter-widgets/controls",
      "model_module_version": "1.5.0",
      "model_name": "DescriptionStyleModel",
      "state": {
       "_model_module": "@jupyter-widgets/controls",
       "_model_module_version": "1.5.0",
       "_model_name": "DescriptionStyleModel",
       "_view_count": null,
       "_view_module": "@jupyter-widgets/base",
       "_view_module_version": "1.2.0",
       "_view_name": "StyleView",
       "description_width": ""
      }
     },
     "688514b5db7f490598d1e17805e3cb5f": {
      "model_module": "@jupyter-widgets/base",
      "model_module_version": "1.2.0",
      "model_name": "LayoutModel",
      "state": {
       "_model_module": "@jupyter-widgets/base",
       "_model_module_version": "1.2.0",
       "_model_name": "LayoutModel",
       "_view_count": null,
       "_view_module": "@jupyter-widgets/base",
       "_view_module_version": "1.2.0",
       "_view_name": "LayoutView",
       "align_content": null,
       "align_items": null,
       "align_self": null,
       "border": null,
       "bottom": null,
       "display": null,
       "flex": null,
       "flex_flow": null,
       "grid_area": null,
       "grid_auto_columns": null,
       "grid_auto_flow": null,
       "grid_auto_rows": null,
       "grid_column": null,
       "grid_gap": null,
       "grid_row": null,
       "grid_template_areas": null,
       "grid_template_columns": null,
       "grid_template_rows": null,
       "height": null,
       "justify_content": null,
       "justify_items": null,
       "left": null,
       "margin": null,
       "max_height": null,
       "max_width": null,
       "min_height": null,
       "min_width": null,
       "object_fit": null,
       "object_position": null,
       "order": null,
       "overflow": null,
       "overflow_x": null,
       "overflow_y": null,
       "padding": null,
       "right": null,
       "top": null,
       "visibility": null,
       "width": null
      }
     },
     "699c0876408d42e681066c75924351d2": {
      "model_module": "@jupyter-widgets/controls",
      "model_module_version": "1.5.0",
      "model_name": "HTMLModel",
      "state": {
       "_dom_classes": [],
       "_model_module": "@jupyter-widgets/controls",
       "_model_module_version": "1.5.0",
       "_model_name": "HTMLModel",
       "_view_count": null,
       "_view_module": "@jupyter-widgets/controls",
       "_view_module_version": "1.5.0",
       "_view_name": "HTMLView",
       "description": "",
       "description_tooltip": null,
       "layout": "IPY_MODEL_971b292cfc064644b754e3027bef17ef",
       "placeholder": "​",
       "style": "IPY_MODEL_8b6baeeb5b5941ae833dc4d88338522b",
       "value": "tokenizer_config.json: 100%"
      }
     },
     "6bbf5d9d40bd4fd786f9fb04bcf488c4": {
      "model_module": "@jupyter-widgets/controls",
      "model_module_version": "1.5.0",
      "model_name": "HTMLModel",
      "state": {
       "_dom_classes": [],
       "_model_module": "@jupyter-widgets/controls",
       "_model_module_version": "1.5.0",
       "_model_name": "HTMLModel",
       "_view_count": null,
       "_view_module": "@jupyter-widgets/controls",
       "_view_module_version": "1.5.0",
       "_view_name": "HTMLView",
       "description": "",
       "description_tooltip": null,
       "layout": "IPY_MODEL_5e904ae884c14743b7b4c070368d9a7f",
       "placeholder": "​",
       "style": "IPY_MODEL_097f7520ffac47d294723d6f4c35ac32",
       "value": "config.json: 100%"
      }
     },
     "6fd43747296644dc8fdc13e7f1f1b36d": {
      "model_module": "@jupyter-widgets/controls",
      "model_module_version": "1.5.0",
      "model_name": "DescriptionStyleModel",
      "state": {
       "_model_module": "@jupyter-widgets/controls",
       "_model_module_version": "1.5.0",
       "_model_name": "DescriptionStyleModel",
       "_view_count": null,
       "_view_module": "@jupyter-widgets/base",
       "_view_module_version": "1.2.0",
       "_view_name": "StyleView",
       "description_width": ""
      }
     },
     "763f84b4b78f4590804c908f633e46c3": {
      "model_module": "@jupyter-widgets/base",
      "model_module_version": "1.2.0",
      "model_name": "LayoutModel",
      "state": {
       "_model_module": "@jupyter-widgets/base",
       "_model_module_version": "1.2.0",
       "_model_name": "LayoutModel",
       "_view_count": null,
       "_view_module": "@jupyter-widgets/base",
       "_view_module_version": "1.2.0",
       "_view_name": "LayoutView",
       "align_content": null,
       "align_items": null,
       "align_self": null,
       "border": null,
       "bottom": null,
       "display": null,
       "flex": null,
       "flex_flow": null,
       "grid_area": null,
       "grid_auto_columns": null,
       "grid_auto_flow": null,
       "grid_auto_rows": null,
       "grid_column": null,
       "grid_gap": null,
       "grid_row": null,
       "grid_template_areas": null,
       "grid_template_columns": null,
       "grid_template_rows": null,
       "height": null,
       "justify_content": null,
       "justify_items": null,
       "left": null,
       "margin": null,
       "max_height": null,
       "max_width": null,
       "min_height": null,
       "min_width": null,
       "object_fit": null,
       "object_position": null,
       "order": null,
       "overflow": null,
       "overflow_x": null,
       "overflow_y": null,
       "padding": null,
       "right": null,
       "top": null,
       "visibility": null,
       "width": null
      }
     },
     "776c5e71c0e64fec9a6d7d5a94c966e1": {
      "model_module": "@jupyter-widgets/controls",
      "model_module_version": "1.5.0",
      "model_name": "HTMLModel",
      "state": {
       "_dom_classes": [],
       "_model_module": "@jupyter-widgets/controls",
       "_model_module_version": "1.5.0",
       "_model_name": "HTMLModel",
       "_view_count": null,
       "_view_module": "@jupyter-widgets/controls",
       "_view_module_version": "1.5.0",
       "_view_name": "HTMLView",
       "description": "",
       "description_tooltip": null,
       "layout": "IPY_MODEL_5838f11c11294a47b40faba3f76ae4e1",
       "placeholder": "​",
       "style": "IPY_MODEL_1ce8f2281a514d2891259ec6b3416d2e",
       "value": " 397/397 [00:00&lt;00:00, 32.9kB/s]"
      }
     },
     "781a6df26dca411f83b603824a78c990": {
      "model_module": "@jupyter-widgets/controls",
      "model_module_version": "1.5.0",
      "model_name": "HBoxModel",
      "state": {
       "_dom_classes": [],
       "_model_module": "@jupyter-widgets/controls",
       "_model_module_version": "1.5.0",
       "_model_name": "HBoxModel",
       "_view_count": null,
       "_view_module": "@jupyter-widgets/controls",
       "_view_module_version": "1.5.0",
       "_view_name": "HBoxView",
       "box_style": "",
       "children": [
        "IPY_MODEL_699c0876408d42e681066c75924351d2",
        "IPY_MODEL_2d3fcd0cae384f1d9dfd255924154df4",
        "IPY_MODEL_776c5e71c0e64fec9a6d7d5a94c966e1"
       ],
       "layout": "IPY_MODEL_797e2e786e7c46baa82c8e94e51806c1"
      }
     },
     "797e2e786e7c46baa82c8e94e51806c1": {
      "model_module": "@jupyter-widgets/base",
      "model_module_version": "1.2.0",
      "model_name": "LayoutModel",
      "state": {
       "_model_module": "@jupyter-widgets/base",
       "_model_module_version": "1.2.0",
       "_model_name": "LayoutModel",
       "_view_count": null,
       "_view_module": "@jupyter-widgets/base",
       "_view_module_version": "1.2.0",
       "_view_name": "LayoutView",
       "align_content": null,
       "align_items": null,
       "align_self": null,
       "border": null,
       "bottom": null,
       "display": null,
       "flex": null,
       "flex_flow": null,
       "grid_area": null,
       "grid_auto_columns": null,
       "grid_auto_flow": null,
       "grid_auto_rows": null,
       "grid_column": null,
       "grid_gap": null,
       "grid_row": null,
       "grid_template_areas": null,
       "grid_template_columns": null,
       "grid_template_rows": null,
       "height": null,
       "justify_content": null,
       "justify_items": null,
       "left": null,
       "margin": null,
       "max_height": null,
       "max_width": null,
       "min_height": null,
       "min_width": null,
       "object_fit": null,
       "object_position": null,
       "order": null,
       "overflow": null,
       "overflow_x": null,
       "overflow_y": null,
       "padding": null,
       "right": null,
       "top": null,
       "visibility": null,
       "width": null
      }
     },
     "7b4ef6bd3a074669bfc2090c2756fbec": {
      "model_module": "@jupyter-widgets/controls",
      "model_module_version": "1.5.0",
      "model_name": "ProgressStyleModel",
      "state": {
       "_model_module": "@jupyter-widgets/controls",
       "_model_module_version": "1.5.0",
       "_model_name": "ProgressStyleModel",
       "_view_count": null,
       "_view_module": "@jupyter-widgets/base",
       "_view_module_version": "1.2.0",
       "_view_name": "StyleView",
       "bar_color": null,
       "description_width": ""
      }
     },
     "7b79e28978db42f3a334b9e6802f5e40": {
      "model_module": "@jupyter-widgets/base",
      "model_module_version": "1.2.0",
      "model_name": "LayoutModel",
      "state": {
       "_model_module": "@jupyter-widgets/base",
       "_model_module_version": "1.2.0",
       "_model_name": "LayoutModel",
       "_view_count": null,
       "_view_module": "@jupyter-widgets/base",
       "_view_module_version": "1.2.0",
       "_view_name": "LayoutView",
       "align_content": null,
       "align_items": null,
       "align_self": null,
       "border": null,
       "bottom": null,
       "display": null,
       "flex": null,
       "flex_flow": null,
       "grid_area": null,
       "grid_auto_columns": null,
       "grid_auto_flow": null,
       "grid_auto_rows": null,
       "grid_column": null,
       "grid_gap": null,
       "grid_row": null,
       "grid_template_areas": null,
       "grid_template_columns": null,
       "grid_template_rows": null,
       "height": null,
       "justify_content": null,
       "justify_items": null,
       "left": null,
       "margin": null,
       "max_height": null,
       "max_width": null,
       "min_height": null,
       "min_width": null,
       "object_fit": null,
       "object_position": null,
       "order": null,
       "overflow": null,
       "overflow_x": null,
       "overflow_y": null,
       "padding": null,
       "right": null,
       "top": null,
       "visibility": null,
       "width": null
      }
     },
     "7fe5be4dfc9148679a2e1469677e0f74": {
      "model_module": "@jupyter-widgets/base",
      "model_module_version": "1.2.0",
      "model_name": "LayoutModel",
      "state": {
       "_model_module": "@jupyter-widgets/base",
       "_model_module_version": "1.2.0",
       "_model_name": "LayoutModel",
       "_view_count": null,
       "_view_module": "@jupyter-widgets/base",
       "_view_module_version": "1.2.0",
       "_view_name": "LayoutView",
       "align_content": null,
       "align_items": null,
       "align_self": null,
       "border": null,
       "bottom": null,
       "display": null,
       "flex": null,
       "flex_flow": null,
       "grid_area": null,
       "grid_auto_columns": null,
       "grid_auto_flow": null,
       "grid_auto_rows": null,
       "grid_column": null,
       "grid_gap": null,
       "grid_row": null,
       "grid_template_areas": null,
       "grid_template_columns": null,
       "grid_template_rows": null,
       "height": null,
       "justify_content": null,
       "justify_items": null,
       "left": null,
       "margin": null,
       "max_height": null,
       "max_width": null,
       "min_height": null,
       "min_width": null,
       "object_fit": null,
       "object_position": null,
       "order": null,
       "overflow": null,
       "overflow_x": null,
       "overflow_y": null,
       "padding": null,
       "right": null,
       "top": null,
       "visibility": null,
       "width": null
      }
     },
     "81b2fd5119fa4bcd96a03e61ed071b93": {
      "model_module": "@jupyter-widgets/controls",
      "model_module_version": "1.5.0",
      "model_name": "ProgressStyleModel",
      "state": {
       "_model_module": "@jupyter-widgets/controls",
       "_model_module_version": "1.5.0",
       "_model_name": "ProgressStyleModel",
       "_view_count": null,
       "_view_module": "@jupyter-widgets/base",
       "_view_module_version": "1.2.0",
       "_view_name": "StyleView",
       "bar_color": null,
       "description_width": ""
      }
     },
     "8b6baeeb5b5941ae833dc4d88338522b": {
      "model_module": "@jupyter-widgets/controls",
      "model_module_version": "1.5.0",
      "model_name": "DescriptionStyleModel",
      "state": {
       "_model_module": "@jupyter-widgets/controls",
       "_model_module_version": "1.5.0",
       "_model_name": "DescriptionStyleModel",
       "_view_count": null,
       "_view_module": "@jupyter-widgets/base",
       "_view_module_version": "1.2.0",
       "_view_name": "StyleView",
       "description_width": ""
      }
     },
     "934c24f1d4f3469c9d3a5fb9b60608a8": {
      "model_module": "@jupyter-widgets/controls",
      "model_module_version": "1.5.0",
      "model_name": "HTMLModel",
      "state": {
       "_dom_classes": [],
       "_model_module": "@jupyter-widgets/controls",
       "_model_module_version": "1.5.0",
       "_model_name": "HTMLModel",
       "_view_count": null,
       "_view_module": "@jupyter-widgets/controls",
       "_view_module_version": "1.5.0",
       "_view_name": "HTMLView",
       "description": "",
       "description_tooltip": null,
       "layout": "IPY_MODEL_5e5ad2f34559468d9cccc3034f4635fc",
       "placeholder": "​",
       "style": "IPY_MODEL_41ae3342683940ccbc31a1026c10476f",
       "value": "tokenizer.json: 100%"
      }
     },
     "94448068b06d40cba1c6ec700b76831b": {
      "model_module": "@jupyter-widgets/controls",
      "model_module_version": "1.5.0",
      "model_name": "FloatProgressModel",
      "state": {
       "_dom_classes": [],
       "_model_module": "@jupyter-widgets/controls",
       "_model_module_version": "1.5.0",
       "_model_name": "FloatProgressModel",
       "_view_count": null,
       "_view_module": "@jupyter-widgets/controls",
       "_view_module_version": "1.5.0",
       "_view_name": "ProgressView",
       "bar_style": "success",
       "description": "",
       "description_tooltip": null,
       "layout": "IPY_MODEL_4b41b9d932cd471b91428c6c05e60d9e",
       "max": 112,
       "min": 0,
       "orientation": "horizontal",
       "style": "IPY_MODEL_dc25597ced0b46e58af86bf5bab254d3",
       "value": 112
      }
     },
     "971b292cfc064644b754e3027bef17ef": {
      "model_module": "@jupyter-widgets/base",
      "model_module_version": "1.2.0",
      "model_name": "LayoutModel",
      "state": {
       "_model_module": "@jupyter-widgets/base",
       "_model_module_version": "1.2.0",
       "_model_name": "LayoutModel",
       "_view_count": null,
       "_view_module": "@jupyter-widgets/base",
       "_view_module_version": "1.2.0",
       "_view_name": "LayoutView",
       "align_content": null,
       "align_items": null,
       "align_self": null,
       "border": null,
       "bottom": null,
       "display": null,
       "flex": null,
       "flex_flow": null,
       "grid_area": null,
       "grid_auto_columns": null,
       "grid_auto_flow": null,
       "grid_auto_rows": null,
       "grid_column": null,
       "grid_gap": null,
       "grid_row": null,
       "grid_template_areas": null,
       "grid_template_columns": null,
       "grid_template_rows": null,
       "height": null,
       "justify_content": null,
       "justify_items": null,
       "left": null,
       "margin": null,
       "max_height": null,
       "max_width": null,
       "min_height": null,
       "min_width": null,
       "object_fit": null,
       "object_position": null,
       "order": null,
       "overflow": null,
       "overflow_x": null,
       "overflow_y": null,
       "padding": null,
       "right": null,
       "top": null,
       "visibility": null,
       "width": null
      }
     },
     "9cc87b6cf1484b89b04a242f896892fe": {
      "model_module": "@jupyter-widgets/controls",
      "model_module_version": "1.5.0",
      "model_name": "HBoxModel",
      "state": {
       "_dom_classes": [],
       "_model_module": "@jupyter-widgets/controls",
       "_model_module_version": "1.5.0",
       "_model_name": "HBoxModel",
       "_view_count": null,
       "_view_module": "@jupyter-widgets/controls",
       "_view_module_version": "1.5.0",
       "_view_name": "HBoxView",
       "box_style": "",
       "children": [
        "IPY_MODEL_276825a322f24355a9949397b419b428",
        "IPY_MODEL_531f3fbf1d684d22a932a96357afdd44",
        "IPY_MODEL_40a440c5aa684ed394ef158b1f820f7e"
       ],
       "layout": "IPY_MODEL_e434f45601914613948a21ce651eb7e6"
      }
     },
     "a0d68a7e659e423ba855066accf3c77e": {
      "model_module": "@jupyter-widgets/base",
      "model_module_version": "1.2.0",
      "model_name": "LayoutModel",
      "state": {
       "_model_module": "@jupyter-widgets/base",
       "_model_module_version": "1.2.0",
       "_model_name": "LayoutModel",
       "_view_count": null,
       "_view_module": "@jupyter-widgets/base",
       "_view_module_version": "1.2.0",
       "_view_name": "LayoutView",
       "align_content": null,
       "align_items": null,
       "align_self": null,
       "border": null,
       "bottom": null,
       "display": null,
       "flex": null,
       "flex_flow": null,
       "grid_area": null,
       "grid_auto_columns": null,
       "grid_auto_flow": null,
       "grid_auto_rows": null,
       "grid_column": null,
       "grid_gap": null,
       "grid_row": null,
       "grid_template_areas": null,
       "grid_template_columns": null,
       "grid_template_rows": null,
       "height": null,
       "justify_content": null,
       "justify_items": null,
       "left": null,
       "margin": null,
       "max_height": null,
       "max_width": null,
       "min_height": null,
       "min_width": null,
       "object_fit": null,
       "object_position": null,
       "order": null,
       "overflow": null,
       "overflow_x": null,
       "overflow_y": null,
       "padding": null,
       "right": null,
       "top": null,
       "visibility": null,
       "width": null
      }
     },
     "a655ad94990a4336a853d9d2e42e4b10": {
      "model_module": "@jupyter-widgets/base",
      "model_module_version": "1.2.0",
      "model_name": "LayoutModel",
      "state": {
       "_model_module": "@jupyter-widgets/base",
       "_model_module_version": "1.2.0",
       "_model_name": "LayoutModel",
       "_view_count": null,
       "_view_module": "@jupyter-widgets/base",
       "_view_module_version": "1.2.0",
       "_view_name": "LayoutView",
       "align_content": null,
       "align_items": null,
       "align_self": null,
       "border": null,
       "bottom": null,
       "display": null,
       "flex": null,
       "flex_flow": null,
       "grid_area": null,
       "grid_auto_columns": null,
       "grid_auto_flow": null,
       "grid_auto_rows": null,
       "grid_column": null,
       "grid_gap": null,
       "grid_row": null,
       "grid_template_areas": null,
       "grid_template_columns": null,
       "grid_template_rows": null,
       "height": null,
       "justify_content": null,
       "justify_items": null,
       "left": null,
       "margin": null,
       "max_height": null,
       "max_width": null,
       "min_height": null,
       "min_width": null,
       "object_fit": null,
       "object_position": null,
       "order": null,
       "overflow": null,
       "overflow_x": null,
       "overflow_y": null,
       "padding": null,
       "right": null,
       "top": null,
       "visibility": null,
       "width": null
      }
     },
     "a88f2d17067849d5b1248fe48620d72b": {
      "model_module": "@jupyter-widgets/controls",
      "model_module_version": "1.5.0",
      "model_name": "FloatProgressModel",
      "state": {
       "_dom_classes": [],
       "_model_module": "@jupyter-widgets/controls",
       "_model_module_version": "1.5.0",
       "_model_name": "FloatProgressModel",
       "_view_count": null,
       "_view_module": "@jupyter-widgets/controls",
       "_view_module_version": "1.5.0",
       "_view_name": "ProgressView",
       "bar_style": "success",
       "description": "",
       "description_tooltip": null,
       "layout": "IPY_MODEL_0d3b88d6d3f1446493dc3749ca3ff314",
       "max": 804,
       "min": 0,
       "orientation": "horizontal",
       "style": "IPY_MODEL_e424a053c226467c80e0196858073878",
       "value": 804
      }
     },
     "af15e79db7b44465ba96e95e80aa92e3": {
      "model_module": "@jupyter-widgets/controls",
      "model_module_version": "1.5.0",
      "model_name": "DescriptionStyleModel",
      "state": {
       "_model_module": "@jupyter-widgets/controls",
       "_model_module_version": "1.5.0",
       "_model_name": "DescriptionStyleModel",
       "_view_count": null,
       "_view_module": "@jupyter-widgets/base",
       "_view_module_version": "1.2.0",
       "_view_name": "StyleView",
       "description_width": ""
      }
     },
     "b2fc0f1cf64a4fa6b6eda261d8f7177a": {
      "model_module": "@jupyter-widgets/controls",
      "model_module_version": "1.5.0",
      "model_name": "ProgressStyleModel",
      "state": {
       "_model_module": "@jupyter-widgets/controls",
       "_model_module_version": "1.5.0",
       "_model_name": "ProgressStyleModel",
       "_view_count": null,
       "_view_module": "@jupyter-widgets/base",
       "_view_module_version": "1.2.0",
       "_view_name": "StyleView",
       "bar_color": null,
       "description_width": ""
      }
     },
     "b78f9f6092174f0ab1bb1a8b367a6a8e": {
      "model_module": "@jupyter-widgets/controls",
      "model_module_version": "1.5.0",
      "model_name": "DescriptionStyleModel",
      "state": {
       "_model_module": "@jupyter-widgets/controls",
       "_model_module_version": "1.5.0",
       "_model_name": "DescriptionStyleModel",
       "_view_count": null,
       "_view_module": "@jupyter-widgets/base",
       "_view_module_version": "1.2.0",
       "_view_name": "StyleView",
       "description_width": ""
      }
     },
     "bcd7b797839948368ee9b2d081cf20ea": {
      "model_module": "@jupyter-widgets/controls",
      "model_module_version": "1.5.0",
      "model_name": "DescriptionStyleModel",
      "state": {
       "_model_module": "@jupyter-widgets/controls",
       "_model_module_version": "1.5.0",
       "_model_name": "DescriptionStyleModel",
       "_view_count": null,
       "_view_module": "@jupyter-widgets/base",
       "_view_module_version": "1.2.0",
       "_view_name": "StyleView",
       "description_width": ""
      }
     },
     "c1ade7e79bcb4c92a3fbb999adae740f": {
      "model_module": "@jupyter-widgets/controls",
      "model_module_version": "1.5.0",
      "model_name": "HBoxModel",
      "state": {
       "_dom_classes": [],
       "_model_module": "@jupyter-widgets/controls",
       "_model_module_version": "1.5.0",
       "_model_name": "HBoxModel",
       "_view_count": null,
       "_view_module": "@jupyter-widgets/controls",
       "_view_module_version": "1.5.0",
       "_view_name": "HBoxView",
       "box_style": "",
       "children": [
        "IPY_MODEL_934c24f1d4f3469c9d3a5fb9b60608a8",
        "IPY_MODEL_1b6dabcc8b0948d08c2f01138558e00b",
        "IPY_MODEL_d3a322e508724dc18c61e924e6b0c9cf"
       ],
       "layout": "IPY_MODEL_4cc20b21098a44359611b03af367f932"
      }
     },
     "c41bff3e3b2442138ac88026b96bb091": {
      "model_module": "@jupyter-widgets/controls",
      "model_module_version": "1.5.0",
      "model_name": "HTMLModel",
      "state": {
       "_dom_classes": [],
       "_model_module": "@jupyter-widgets/controls",
       "_model_module_version": "1.5.0",
       "_model_name": "HTMLModel",
       "_view_count": null,
       "_view_module": "@jupyter-widgets/controls",
       "_view_module_version": "1.5.0",
       "_view_name": "HTMLView",
       "description": "",
       "description_tooltip": null,
       "layout": "IPY_MODEL_2f6ba0b869c74cb89eb67af93003ce24",
       "placeholder": "​",
       "style": "IPY_MODEL_af15e79db7b44465ba96e95e80aa92e3",
       "value": " 5.22M/5.22M [00:00&lt;00:00, 16.5MB/s]"
      }
     },
     "c80f7b771eb943ab9c5187be785c374c": {
      "model_module": "@jupyter-widgets/base",
      "model_module_version": "1.2.0",
      "model_name": "LayoutModel",
      "state": {
       "_model_module": "@jupyter-widgets/base",
       "_model_module_version": "1.2.0",
       "_model_name": "LayoutModel",
       "_view_count": null,
       "_view_module": "@jupyter-widgets/base",
       "_view_module_version": "1.2.0",
       "_view_name": "LayoutView",
       "align_content": null,
       "align_items": null,
       "align_self": null,
       "border": null,
       "bottom": null,
       "display": null,
       "flex": null,
       "flex_flow": null,
       "grid_area": null,
       "grid_auto_columns": null,
       "grid_auto_flow": null,
       "grid_auto_rows": null,
       "grid_column": null,
       "grid_gap": null,
       "grid_row": null,
       "grid_template_areas": null,
       "grid_template_columns": null,
       "grid_template_rows": null,
       "height": null,
       "justify_content": null,
       "justify_items": null,
       "left": null,
       "margin": null,
       "max_height": null,
       "max_width": null,
       "min_height": null,
       "min_width": null,
       "object_fit": null,
       "object_position": null,
       "order": null,
       "overflow": null,
       "overflow_x": null,
       "overflow_y": null,
       "padding": null,
       "right": null,
       "top": null,
       "visibility": null,
       "width": null
      }
     },
     "cbe28f0499744f1588bb3ea1de3f6357": {
      "model_module": "@jupyter-widgets/controls",
      "model_module_version": "1.5.0",
      "model_name": "HTMLModel",
      "state": {
       "_dom_classes": [],
       "_model_module": "@jupyter-widgets/controls",
       "_model_module_version": "1.5.0",
       "_model_name": "HTMLModel",
       "_view_count": null,
       "_view_module": "@jupyter-widgets/controls",
       "_view_module_version": "1.5.0",
       "_view_name": "HTMLView",
       "description": "",
       "description_tooltip": null,
       "layout": "IPY_MODEL_2f12b4f3621d4f6b8be4f3c6d4171fcd",
       "placeholder": "​",
       "style": "IPY_MODEL_db9ca56bc63844369eeb317a5a884325",
       "value": "special_tokens_map.json: 100%"
      }
     },
     "cda36697c14a4f20b9ba3106573674af": {
      "model_module": "@jupyter-widgets/controls",
      "model_module_version": "1.5.0",
      "model_name": "DescriptionStyleModel",
      "state": {
       "_model_module": "@jupyter-widgets/controls",
       "_model_module_version": "1.5.0",
       "_model_name": "DescriptionStyleModel",
       "_view_count": null,
       "_view_module": "@jupyter-widgets/base",
       "_view_module_version": "1.2.0",
       "_view_name": "StyleView",
       "description_width": ""
      }
     },
     "ce0aeaa9fea3408f8dde992e7f080f0f": {
      "model_module": "@jupyter-widgets/controls",
      "model_module_version": "1.5.0",
      "model_name": "DescriptionStyleModel",
      "state": {
       "_model_module": "@jupyter-widgets/controls",
       "_model_module_version": "1.5.0",
       "_model_name": "DescriptionStyleModel",
       "_view_count": null,
       "_view_module": "@jupyter-widgets/base",
       "_view_module_version": "1.2.0",
       "_view_name": "StyleView",
       "description_width": ""
      }
     },
     "d08cd34471db410e9624321c5b4d4cb7": {
      "model_module": "@jupyter-widgets/controls",
      "model_module_version": "1.5.0",
      "model_name": "HBoxModel",
      "state": {
       "_dom_classes": [],
       "_model_module": "@jupyter-widgets/controls",
       "_model_module_version": "1.5.0",
       "_model_name": "HBoxModel",
       "_view_count": null,
       "_view_module": "@jupyter-widgets/controls",
       "_view_module_version": "1.5.0",
       "_view_name": "HBoxView",
       "box_style": "",
       "children": [
        "IPY_MODEL_2380596e16304c16bc02ca470315b0b8",
        "IPY_MODEL_23f5c836ea1d4828af20ca57363bc3a0",
        "IPY_MODEL_c41bff3e3b2442138ac88026b96bb091"
       ],
       "layout": "IPY_MODEL_a0d68a7e659e423ba855066accf3c77e"
      }
     },
     "d3a322e508724dc18c61e924e6b0c9cf": {
      "model_module": "@jupyter-widgets/controls",
      "model_module_version": "1.5.0",
      "model_name": "HTMLModel",
      "state": {
       "_dom_classes": [],
       "_model_module": "@jupyter-widgets/controls",
       "_model_module_version": "1.5.0",
       "_model_name": "HTMLModel",
       "_view_count": null,
       "_view_module": "@jupyter-widgets/controls",
       "_view_module_version": "1.5.0",
       "_view_name": "HTMLView",
       "description": "",
       "description_tooltip": null,
       "layout": "IPY_MODEL_c80f7b771eb943ab9c5187be785c374c",
       "placeholder": "​",
       "style": "IPY_MODEL_b78f9f6092174f0ab1bb1a8b367a6a8e",
       "value": " 9.62M/9.62M [00:00&lt;00:00, 23.9MB/s]"
      }
     },
     "db9ca56bc63844369eeb317a5a884325": {
      "model_module": "@jupyter-widgets/controls",
      "model_module_version": "1.5.0",
      "model_name": "DescriptionStyleModel",
      "state": {
       "_model_module": "@jupyter-widgets/controls",
       "_model_module_version": "1.5.0",
       "_model_name": "DescriptionStyleModel",
       "_view_count": null,
       "_view_module": "@jupyter-widgets/base",
       "_view_module_version": "1.2.0",
       "_view_name": "StyleView",
       "description_width": ""
      }
     },
     "dc25597ced0b46e58af86bf5bab254d3": {
      "model_module": "@jupyter-widgets/controls",
      "model_module_version": "1.5.0",
      "model_name": "ProgressStyleModel",
      "state": {
       "_model_module": "@jupyter-widgets/controls",
       "_model_module_version": "1.5.0",
       "_model_name": "ProgressStyleModel",
       "_view_count": null,
       "_view_module": "@jupyter-widgets/base",
       "_view_module_version": "1.2.0",
       "_view_name": "StyleView",
       "bar_color": null,
       "description_width": ""
      }
     },
     "dd44505d8db84581b39618052bd18225": {
      "model_module": "@jupyter-widgets/controls",
      "model_module_version": "1.5.0",
      "model_name": "HTMLModel",
      "state": {
       "_dom_classes": [],
       "_model_module": "@jupyter-widgets/controls",
       "_model_module_version": "1.5.0",
       "_model_name": "HTMLModel",
       "_view_count": null,
       "_view_module": "@jupyter-widgets/controls",
       "_view_module_version": "1.5.0",
       "_view_name": "HTMLView",
       "description": "",
       "description_tooltip": null,
       "layout": "IPY_MODEL_50361ff728bd4118a88144bb74a4d352",
       "placeholder": "​",
       "style": "IPY_MODEL_cda36697c14a4f20b9ba3106573674af",
       "value": " 112/112 [00:00&lt;00:00, 7.10kB/s]"
      }
     },
     "e424a053c226467c80e0196858073878": {
      "model_module": "@jupyter-widgets/controls",
      "model_module_version": "1.5.0",
      "model_name": "ProgressStyleModel",
      "state": {
       "_model_module": "@jupyter-widgets/controls",
       "_model_module_version": "1.5.0",
       "_model_name": "ProgressStyleModel",
       "_view_count": null,
       "_view_module": "@jupyter-widgets/base",
       "_view_module_version": "1.2.0",
       "_view_name": "StyleView",
       "bar_color": null,
       "description_width": ""
      }
     },
     "e434f45601914613948a21ce651eb7e6": {
      "model_module": "@jupyter-widgets/base",
      "model_module_version": "1.2.0",
      "model_name": "LayoutModel",
      "state": {
       "_model_module": "@jupyter-widgets/base",
       "_model_module_version": "1.2.0",
       "_model_name": "LayoutModel",
       "_view_count": null,
       "_view_module": "@jupyter-widgets/base",
       "_view_module_version": "1.2.0",
       "_view_name": "LayoutView",
       "align_content": null,
       "align_items": null,
       "align_self": null,
       "border": null,
       "bottom": null,
       "display": null,
       "flex": null,
       "flex_flow": null,
       "grid_area": null,
       "grid_auto_columns": null,
       "grid_auto_flow": null,
       "grid_auto_rows": null,
       "grid_column": null,
       "grid_gap": null,
       "grid_row": null,
       "grid_template_areas": null,
       "grid_template_columns": null,
       "grid_template_rows": null,
       "height": null,
       "justify_content": null,
       "justify_items": null,
       "left": null,
       "margin": null,
       "max_height": null,
       "max_width": null,
       "min_height": null,
       "min_width": null,
       "object_fit": null,
       "object_position": null,
       "order": null,
       "overflow": null,
       "overflow_x": null,
       "overflow_y": null,
       "padding": null,
       "right": null,
       "top": null,
       "visibility": null,
       "width": null
      }
     }
    },
    "version_major": 2,
    "version_minor": 0
   }
  }
 },
 "nbformat": 4,
 "nbformat_minor": 5
}