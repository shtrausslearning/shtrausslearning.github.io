{
 "cells": [
  {
   "metadata": {
    "execution": {
     "iopub.execute_input": "2023-07-28T09:04:11.390904Z",
     "iopub.status.busy": "2023-07-28T09:04:11.389823Z",
     "iopub.status.idle": "2023-07-28T09:04:30.105723Z",
     "shell.execute_reply": "2023-07-28T09:04:30.103742Z"
    },
    "papermill": {
     "duration": 18.756179,
     "end_time": "2023-07-28T09:04:30.108718",
     "exception": false,
     "start_time": "2023-07-28T09:04:11.352539",
     "status": "completed"
    },
    "tags": [],
    "trusted": false
   },
   "id": "bc88ff91",
   "cell_type": "code",
   "source": "pip install -U kaleido",
   "execution_count": 1,
   "outputs": [
    {
     "name": "stdout",
     "output_type": "stream",
     "text": "Collecting kaleido\r\n  Downloading kaleido-0.2.1-py2.py3-none-manylinux1_x86_64.whl (79.9 MB)\r\n\u001b[2K     \u001b[90m━━━━━━━━━━━━━━━━━━━━━━━━━━━━━━━━━━━━━━━━\u001b[0m \u001b[32m79.9/79.9 MB\u001b[0m \u001b[31m13.6 MB/s\u001b[0m eta \u001b[36m0:00:00\u001b[0m\r\n\u001b[?25hInstalling collected packages: kaleido\r\nSuccessfully installed kaleido-0.2.1\r\n\u001b[33mWARNING: Running pip as the 'root' user can result in broken permissions and conflicting behaviour with the system package manager. It is recommended to use a virtual environment instead: https://pip.pypa.io/warnings/venv\u001b[0m\u001b[33m\r\n\u001b[0mNote: you may need to restart the kernel to use updated packages.\n"
    }
   ]
  },
  {
   "metadata": {
    "papermill": {
     "duration": 0.032584,
     "end_time": "2023-07-28T09:04:30.174522",
     "exception": false,
     "start_time": "2023-07-28T09:04:30.141938",
     "status": "completed"
    },
    "tags": []
   },
   "id": "666fc0b5",
   "cell_type": "markdown",
   "source": "\n![](https://i.imgur.com/SLT8Zfk.jpg)\n\n\n## <div style=\"padding: 30px;color:white;margin:10;font-size:60%;text-align:left;display:fill;border-radius:10px;background-color:#FFFFFF;overflow:hidden;background-color:#3b3745\"><b><span style='color:#F1A424'>1 |</span></b> <b>BACKGROUND</b></div>\n\nIn this section we will outline what customer feedback is, why it is an important part of any business, not only for financial companies, but in general. Show some examples, which should show that it can take some time to manually read and analyse what each consumer complaint is about. How can we utilise consumer feedback to streamline the process of consumer-company interaction (the need)\n\n### <p style=\"padding: 0px;color:white;text-align:left;\"><b><span style='color:#F1A424;text-align:center'>CONSUMER FEEDBACK</span></b></p>\n    \nLet's point our some key points about consumer feedback:\n    \n\n<b><span style='color:#FFC300'>Consumer feedback</span></b> is an important part of day to day financial business operations\nCompanies offering products must be able to know what their consumers think of their products\nEg. positive & negative feedback & can be obtained from a number of sources (eg. twitter)\nIn this case, we obtain data from a <a href=\"https://www.consumerfinance.gov/data-research/consumer-complaints/\"><b>database</b></a>, which registers consumers feedback of financial products\nCustomers have specific <b>issue</b> on a number of <b>topics</b> they want want the company to address\nThe form of consumer communication with the financial institution is via the <b>web</b> (as will be shown later)\n"
  },
  {
   "metadata": {
    "papermill": {
     "duration": 0.031625,
     "end_time": "2023-07-28T09:04:30.238417",
     "exception": false,
     "start_time": "2023-07-28T09:04:30.206792",
     "status": "completed"
    },
    "tags": []
   },
   "id": "cbe49f44",
   "cell_type": "markdown",
   "source": "<div style=\"color:white;display:fill;border-radius:8px;font-size:100%; letter-spacing:1.0px;\"><p style=\"padding: 5px;color:white;text-align:left;\"><b><span style='color:#F1A424;text-align:center'>USEFULNESS OF CONSUMER FEEDBACK</span></b></p></div>\n\n**<span style='color:#FFC300'>Can your customers tell you something important?</span>** | **[Source](https://www.startquestion.com/blog/7-reasons-why-customer-feedback-is-important-to-your-business/)**\n\n> If you run your own business, I know you do your best to please your customers <br>\n> Satisfy their needs, and keep them loyal to your brand.  <br>\n> But how can you be sure that your efforts bring desired results?  <br>\n> If you do not try to find out what your clients think about your service <br>\n> You will never be able to give them the best customer experience. <br>\n> **<mark style=\"background-color:#FFC300;color:white;border-radius:5px;opacity:0.7\">Their opinions</mark>** about their experience with your brand are helpful information<br> \n> That you can **<mark style=\"background-color:#FFC300;color:white;border-radius:5px;opacity:0.7\">use to adjust your business to fit their needs more accurately</mark>**\n\n- The source clearly outlines that consumer feedback is quite critical for any business\n- **<span style='color:#FFC300'>Consumer feedback</span>** in our problem is related to a consumer having an `issue` with a particualr financial `product` or alike"
  },
  {
   "metadata": {
    "papermill": {
     "duration": 0.031439,
     "end_time": "2023-07-28T09:04:30.302025",
     "exception": false,
     "start_time": "2023-07-28T09:04:30.270586",
     "status": "completed"
    },
    "tags": []
   },
   "id": "555531ec",
   "cell_type": "markdown",
   "source": "<div style=\"color:white;display:fill;border-radius:8px;font-size:100%; letter-spacing:1.0px;\"><p style=\"padding: 5px;color:white;text-align:left;\"><b><span style='color:#F1A424;text-align:center'>CONSUMER FEEDBACK EXAMPLES</span></b></p></div>\n\nLet's look at a couple of examples of a consumer's addresses to a company:\n\nProduct: **<mark style=\"background-color:#FFC300;color:white;border-radius:5px;opacity:1.0\">Credit reporting</mark>** | Issue: **<mark style=\"background-color:#393939;color:white;border-radius:5px;opacity:1.0\">Incorrect information on credit report</mark>**\n\n> After looking at my credit report I saw a collection account that does not belong to me. I am not allowed to dispute this information online on Experian or over the phone making it impossible for me. This false information is ruining my credit and knowing full well this people did not do their job and allow people to just post false accounts on my report. They need to delete this information immediately and do a proper investigation as this information is not mine. ' \n\nProduct: **<mark style=\"background-color:#FFC300;color:white;border-radius:5px;opacity:1.0\">Credit card</mark>** | Issue: **<mark style=\"background-color:#393939;color:white;border-radius:5px;opacity:1.0\">Credit line increase/decrease</mark>**\n\n> \"XXXX i receive an email from citibank regarding my XXXX credit card. It was an offer to request a credit increase and it clearly stated that there would be NO Credit bureau inquiry made. I clicked on the link in the email and entered the requested information. a couple of days later I received an alert from my credit bureau monitoring service that a hard inquiry was done. Upon looking at the report it showed Citibank credit cards making a hard credit inquiry which was completely opposite of what their email stated. I called citi and they confimred that the email stated there would be no creidt inquiry done however they said that the request was made on a different citibank credit card which is why the hard inquiry was made. I explained to the rep I clicked on the link they provided and if was for a different account of mine it was not my issue but theirs and they need to remove the inquiry. They told me to send a letter to their credit dispute department explaining it. I sent the letter after waiting more than a month I received a blunt statement stating the it was a valid credit request and they will not remove the inquiry from my credit bureau. Citi performed bait and switch by offering a no inquiry credit request and then doing a hard inquiry which has negatively affected my credit score. I asked to remove it and received a generic letter stating they would not with no number to contact the department that sent the letter when i called the main customer service number they said that department dosent talk to customers and there was nothing else they can do. This has negatively affected my credit score and will remain on my credit report for 2 years because citi 's False advertising. and then their lack of fixing their error \"\n\n<br>\n\nAfter reading this long complaint: \n\n<div style=\" background-color:#3b3745; padding: 13px 13px; border-radius: 8px; color: white; width: auto;\">\n<ul>\n<li>It should become apparent that <b>manual evaluation</b> of each consumer issue can can a while to process and is very inefficient</li>\n<li>For a timely & helpful consumer response, the <b>relevant problem</b> not only must be processed in a timely manner, but passed on to <b>a specific expert that has experience dealing with the particular issue</b>\n</li>\n</ul></div>"
  },
  {
   "metadata": {
    "papermill": {
     "duration": 0.031437,
     "end_time": "2023-07-28T09:04:30.365343",
     "exception": false,
     "start_time": "2023-07-28T09:04:30.333906",
     "status": "completed"
    },
    "tags": []
   },
   "id": "322f896e",
   "cell_type": "markdown",
   "source": "<p>\n\n\n## <div style=\"padding: 30px;color:white;margin:10;font-size:60%;text-align:left;display:fill;border-radius:10px;background-color:#FFFFFF;overflow:hidden;background-color:#3b3745\"><b><span style='color:#F1A424'>2 |</span></b> <b>NOTEBOOK WORKFLOW</b></div>\n\n### <b><span style='color:#F1A424;text-align:center'>STUDY AIM</span></b>\n    \n- In this notebook, we'll be utilising <b><span style='color:#FFC300'>machine learning</span></b>, to create a model(s) that will be able to classify the type of complaint (as we did above) (by both <b>product</b> & <b>issue</b>)\n- Such a model can be useful for a company to quickly understand the type of complaint & appoint a financial expert that will be able to solve the problem\n\n<br>\n   \n### <b><span style='color:#F1A424;text-align:center'>AUTOMATED TICKET CLASSIFICATION MODEL</span></b>\n    \nOur approach will include **<span style='color:#FFC300'>separate models</span>**, that will be in charge of classifying data on different subsets of data\n\n- **<span style='color:#FFC300'>M1</span>** will be classifying a  **<mark style=\"background-color:#FFC300;color:white;border-radius:5px;opacity:1.0\">product</mark>** based on the customer's input complaint (`text`) (eg. Credit Reporting)\n- <b><span style='color:#FFC300'>M2</span></b> will be in charge of classifying the particular <b><mark style=\"background-color:#FFC300;color:white;border-radius:5px;opacity:1.0\">issue</mark></b> to which the complaint belongs to (<b>text</b>)"
  },
  {
   "metadata": {
    "papermill": {
     "duration": 0.030524,
     "end_time": "2023-07-28T09:04:30.426911",
     "exception": false,
     "start_time": "2023-07-28T09:04:30.396387",
     "status": "completed"
    },
    "tags": []
   },
   "id": "3d73db1c",
   "cell_type": "markdown",
   "source": "<p>\n\n## <div style=\"padding: 30px;color:white;margin:10;font-size:60%;text-align:left;display:fill;border-radius:10px;background-color:#FFFFFF;overflow:hidden;background-color:#3b3745\"><b><span style='color:#F1A424'>3 |</span></b> <b>DATA PREPROCESSING</b></div>\n\nIn this section, we will dive in to the dataset, making some slight adjustments; loading the data, looking at missing data, looking at the features & make some slight adustments\n\n### <b><span style='color:#F1A424;text-align:center'>CONSUMER COMPLAINT DATABASE</span></b>\n\n- Download full [**Dataset**](https://www.consumerfinance.gov/data-research/consumer-complaints/) from the provided link if you want to have the up to date data\n- Complaints that the Consumer Financial Protection Bureau (CFPB) sends to companies for response are published in the Consumer Complaint Database after the company responds\n- Confirming a commercial relationship with the consumer, or after 15 days, whichever comes first"
  },
  {
   "metadata": {
    "papermill": {
     "duration": 0.033392,
     "end_time": "2023-07-28T09:04:30.492187",
     "exception": false,
     "start_time": "2023-07-28T09:04:30.458795",
     "status": "completed"
    },
    "tags": []
   },
   "id": "816bd149",
   "cell_type": "markdown",
   "source": "### <b><span style='color:#F1A424;text-align:center'>LOAD DATASET</span></b>\n\nWe start off by loading the dataset (we are loading the dataset without any missing data in `consumer complaint narrative` (which is the complaint)"
  },
  {
   "metadata": {
    "execution": {
     "iopub.execute_input": "2023-07-28T09:04:30.555018Z",
     "iopub.status.busy": "2023-07-28T09:04:30.554602Z",
     "iopub.status.idle": "2023-07-28T09:05:07.503105Z",
     "shell.execute_reply": "2023-07-28T09:05:07.501994Z"
    },
    "papermill": {
     "duration": 37.017013,
     "end_time": "2023-07-28T09:05:07.539748",
     "exception": false,
     "start_time": "2023-07-28T09:04:30.522735",
     "status": "completed"
    },
    "tags": [],
    "trusted": false
   },
   "id": "3ae8b3f0",
   "cell_type": "code",
   "source": "%%time\nimport pandas as pd\nimport plotly.express as px\nimport numpy as np\nimport seaborn as sns\nimport matplotlib.pyplot as plt\n\ndf = pd.read_csv('/kaggle/input/complaintsfull/main.csv',low_memory=False)\ndf = df.drop(['Unnamed: 0'],axis=1)",
   "execution_count": 2,
   "outputs": [
    {
     "name": "stdout",
     "output_type": "stream",
     "text": "CPU times: user 22.3 s, sys: 3.15 s, total: 25.5 s\nWall time: 36.9 s\n"
    }
   ]
  },
  {
   "metadata": {
    "papermill": {
     "duration": 0.058572,
     "end_time": "2023-07-28T09:05:07.653450",
     "exception": false,
     "start_time": "2023-07-28T09:05:07.594878",
     "status": "completed"
    },
    "tags": []
   },
   "id": "930b757f",
   "cell_type": "markdown",
   "source": "### <b><span style='color:#F1A424;text-align:center'>TARGET LABELS</span></b>\n\nA quick glimps into the dataset gives us the view of the features that will be of interest to us in this study\n\n<div style=\" background-color:#3b3745; padding: 13px 13px; border-radius: 8px; color: white\">\n    \n- <b>Product</b> (Type of financial product)\n- <b>Sub-product</b>  (A more detailed subset of product)\n- <b>Issue</b> (What was the problem)\n- <b>Sub-issue</b> (A more detailed subset of product)"
  },
  {
   "metadata": {
    "papermill": {
     "duration": 0.031622,
     "end_time": "2023-07-28T09:05:07.717279",
     "exception": false,
     "start_time": "2023-07-28T09:05:07.685657",
     "status": "completed"
    },
    "tags": []
   },
   "id": "9210206b",
   "cell_type": "markdown",
   "source": "### <b><span style='color:#F1A424;text-align:center'>MISSING DATA</span></b>\n\nVisualise missing data in the dataset, looks like we have quite a bit overall & some in target variables (`Sub-Product` & `Sub-Issue`)"
  },
  {
   "metadata": {
    "execution": {
     "iopub.execute_input": "2023-07-28T09:05:07.783195Z",
     "iopub.status.busy": "2023-07-28T09:05:07.781995Z",
     "iopub.status.idle": "2023-07-28T09:05:20.059909Z",
     "shell.execute_reply": "2023-07-28T09:05:20.058842Z"
    },
    "papermill": {
     "duration": 12.314995,
     "end_time": "2023-07-28T09:05:20.063613",
     "exception": false,
     "start_time": "2023-07-28T09:05:07.748618",
     "status": "completed"
    },
    "tags": [],
    "trusted": false
   },
   "id": "ddcee8ed",
   "cell_type": "code",
   "source": "import missingno as ms\nms.matrix(df)",
   "execution_count": 3,
   "outputs": [
    {
     "data": {
      "text/plain": "<AxesSubplot:>"
     },
     "execution_count": 3,
     "metadata": {},
     "output_type": "execute_result"
    },
    {
     "data": {
      "image/png": "[encoded data removed]",
      "text/plain": "<Figure size 1800x720 with 2 Axes>"
     },
     "metadata": {
      "needs_background": "light"
     },
     "output_type": "display_data"
    }
   ]
  },
  {
   "metadata": {
    "papermill": {
     "duration": 0.032905,
     "end_time": "2023-07-28T09:05:20.129565",
     "exception": false,
     "start_time": "2023-07-28T09:05:20.096660",
     "status": "completed"
    },
    "tags": []
   },
   "id": "26b5d239",
   "cell_type": "markdown",
   "source": "<div style=\" background-color:#3b3745; padding: 13px 13px; border-radius: 8px; color: white\">\n<ul>\n    <li> We have quite a bit of missing data, we have already removed rows, which have missing data in our text target (consumer complaint narrative)</li>\n    <li> And quite a heavy dataset, let's utilise only the relevant data for our problem (by the end of this section) which should reduce the number of rows in our data significatntly\n</ul>"
  },
  {
   "metadata": {
    "papermill": {
     "duration": 0.033921,
     "end_time": "2023-07-28T09:05:20.196959",
     "exception": false,
     "start_time": "2023-07-28T09:05:20.163038",
     "status": "completed"
    },
    "tags": []
   },
   "id": "340ca8ec",
   "cell_type": "markdown",
   "source": "### <b><span style='color:#F1A424;text-align:center'>FEATURE DESCRIPTION</span></b>\n\nBrief summary of what each feature represents in our dataset"
  },
  {
   "metadata": {
    "editable": false,
    "execution": {
     "iopub.execute_input": "2023-07-28T09:05:20.265399Z",
     "iopub.status.busy": "2023-07-28T09:05:20.264965Z",
     "iopub.status.idle": "2023-07-28T09:05:20.273352Z",
     "shell.execute_reply": "2023-07-28T09:05:20.272249Z"
    },
    "papermill": {
     "duration": 0.04645,
     "end_time": "2023-07-28T09:05:20.276824",
     "exception": false,
     "start_time": "2023-07-28T09:05:20.230374",
     "status": "completed"
    },
    "tags": [],
    "trusted": false
   },
   "id": "73e41ce4",
   "cell_type": "code",
   "source": "print('Dataset Features')\ndf.columns",
   "execution_count": 4,
   "outputs": [
    {
     "name": "stdout",
     "output_type": "stream",
     "text": "Dataset Features\n"
    },
    {
     "data": {
      "text/plain": "Index(['Date received', 'Product', 'Sub-product', 'Issue', 'Sub-issue',\n       'Consumer complaint narrative', 'Company public response', 'Company',\n       'State', 'ZIP code', 'Tags', 'Consumer consent provided?',\n       'Submitted via', 'Date sent to company', 'Company response to consumer',\n       'Timely response?', 'Consumer disputed?', 'Complaint ID', 'Year',\n       'Month', 'Day', 'DoW'],\n      dtype='object')"
     },
     "execution_count": 4,
     "metadata": {},
     "output_type": "execute_result"
    }
   ]
  },
  {
   "metadata": {
    "editable": false,
    "papermill": {
     "duration": 0.034059,
     "end_time": "2023-07-28T09:05:20.345497",
     "exception": false,
     "start_time": "2023-07-28T09:05:20.311438",
     "status": "completed"
    },
    "tags": []
   },
   "id": "fa44d715",
   "cell_type": "markdown",
   "source": "<div style=\" background-color:#3b3745; padding: 13px 13px; border-radius: 8px; color: white\">\n    \n<ul>\n    <li><b><span style='color:#FFC300'>Date received</span></b> - When the complaint was addressed</li>\n    <li><b><span style='color:#FFC300'>Product</span></b> - Complaint Type</li>\n    <li><b><span style='color:#FFC300'>Issue</span></b> - Brief summary of the issue</li>\n    <li><b><span style='color:#FFC300'>Consumer complaint narrative</span></b> - What the customer wrote (documents)</li>\n    <li><b><span style='color:#FFC300'>Company public response</span></b> - How did the company respond</li>\n    <li><b><span style='color:#FFC300'>State</span></b> - State in which the complaint was made</li>\n    <li><b><span style='color:#FFC300'>Submitted</span></b> - Form of complaint</li>\n    <li><b><span style='color:#FFC300'>Customer disputed?</span></b> - Did the customer dispute the response</li>\n\n</ul>\n</div>\n\n<br>"
  },
  {
   "metadata": {
    "papermill": {
     "duration": 0.03536,
     "end_time": "2023-07-28T09:05:20.414777",
     "exception": false,
     "start_time": "2023-07-28T09:05:20.379417",
     "status": "completed"
    },
    "tags": []
   },
   "id": "56130c36",
   "cell_type": "markdown",
   "source": "### <b><span style='color:#F1A424;text-align:center'>ADDING DATETIME FEATURES</span></b>\n\nLets add time-series based features, normalise column and column subset names & remove some column subset data for our target variable\n\n- We have two timeline features, `Date received` & `Date sent to company`\n- Lets extract additional features which can be useful for EDA"
  },
  {
   "metadata": {
    "editable": false,
    "execution": {
     "iopub.execute_input": "2023-07-28T09:05:20.486342Z",
     "iopub.status.busy": "2023-07-28T09:05:20.485880Z",
     "iopub.status.idle": "2023-07-28T09:05:21.705849Z",
     "shell.execute_reply": "2023-07-28T09:05:21.704430Z"
    },
    "papermill": {
     "duration": 1.259348,
     "end_time": "2023-07-28T09:05:21.709413",
     "exception": false,
     "start_time": "2023-07-28T09:05:20.450065",
     "status": "completed"
    },
    "tags": [],
    "trusted": false
   },
   "id": "32b04b3b",
   "cell_type": "code",
   "source": "def object_to_datetime_features(df,column):\n\n    df[column] = df[column].astype('datetime64[ns]')\n    df['Year'] = df[column].dt.year\n    df['Month'] = df[column].dt.month\n    df['Day'] = df[column].dt.day\n    df['DoW'] = df[column].dt.dayofweek\n    df['DoW'] = df['DoW'].replace({0:'Monday',1:'Tuesday',2:'Wednesday',\n                                   3:'Thursday',4:'Friday',5:'Saturday',6:'Sunday'})\n    return df\n\ndf = object_to_datetime_features(df,'Date received')\ndf.columns",
   "execution_count": 5,
   "outputs": [
    {
     "data": {
      "text/plain": "Index(['Date received', 'Product', 'Sub-product', 'Issue', 'Sub-issue',\n       'Consumer complaint narrative', 'Company public response', 'Company',\n       'State', 'ZIP code', 'Tags', 'Consumer consent provided?',\n       'Submitted via', 'Date sent to company', 'Company response to consumer',\n       'Timely response?', 'Consumer disputed?', 'Complaint ID', 'Year',\n       'Month', 'Day', 'DoW'],\n      dtype='object')"
     },
     "execution_count": 5,
     "metadata": {},
     "output_type": "execute_result"
    }
   ]
  },
  {
   "metadata": {
    "papermill": {
     "duration": 0.032467,
     "end_time": "2023-07-28T09:05:21.779003",
     "exception": false,
     "start_time": "2023-07-28T09:05:21.746536",
     "status": "completed"
    },
    "tags": []
   },
   "id": "c3208d35",
   "cell_type": "markdown",
   "source": "### <b><span style='color:#F1A424;text-align:center'>COLUMN NAME NORMALISATION</span></b>\n\nLets convert all column names to a lower register"
  },
  {
   "metadata": {
    "editable": false,
    "execution": {
     "iopub.execute_input": "2023-07-28T09:05:21.850266Z",
     "iopub.status.busy": "2023-07-28T09:05:21.849844Z",
     "iopub.status.idle": "2023-07-28T09:05:21.858166Z",
     "shell.execute_reply": "2023-07-28T09:05:21.857012Z"
    },
    "papermill": {
     "duration": 0.047862,
     "end_time": "2023-07-28T09:05:21.860793",
     "exception": false,
     "start_time": "2023-07-28T09:05:21.812931",
     "status": "completed"
    },
    "tags": [],
    "trusted": false
   },
   "id": "1f7428a8",
   "cell_type": "code",
   "source": "# lower the register of columns\n\ndef normalise_column_names(df):\n    \n    normalised_features = [i.lower() for i in list(df.columns)]\n    df.columns = normalised_features\n    return df\n\ndf = normalise_column_names(df)",
   "execution_count": 6,
   "outputs": []
  },
  {
   "metadata": {
    "papermill": {
     "duration": 0.032715,
     "end_time": "2023-07-28T09:05:21.926981",
     "exception": false,
     "start_time": "2023-07-28T09:05:21.894266",
     "status": "completed"
    },
    "tags": []
   },
   "id": "048e01ec",
   "cell_type": "markdown",
   "source": "### <b><span style='color:#F1A424;text-align:center'>NORMALISATION OF SUBSET NAMES</span></b>\n\nLets convert all subset feature names into a lower register as well"
  },
  {
   "metadata": {
    "execution": {
     "iopub.execute_input": "2023-07-28T09:05:21.997660Z",
     "iopub.status.busy": "2023-07-28T09:05:21.996603Z",
     "iopub.status.idle": "2023-07-28T09:05:22.144543Z",
     "shell.execute_reply": "2023-07-28T09:05:22.143413Z"
    },
    "papermill": {
     "duration": 0.185813,
     "end_time": "2023-07-28T09:05:22.146981",
     "exception": false,
     "start_time": "2023-07-28T09:05:21.961168",
     "status": "completed"
    },
    "tags": [],
    "trusted": false
   },
   "id": "bcae9956",
   "cell_type": "code",
   "source": "# show the names of each subset\n\ndef show_subset_names(df,column):    \n    return df[column].value_counts().index\n\nshow_subset_names(df,'product')",
   "execution_count": 7,
   "outputs": [
    {
     "data": {
      "text/plain": "Index(['Credit reporting, credit repair services, or other personal consumer reports',\n       'Debt collection', 'Mortgage', 'Credit card or prepaid card',\n       'Checking or savings account', 'Student loan', 'Credit reporting',\n       'Money transfer, virtual currency, or money service',\n       'Vehicle loan or lease', 'Credit card', 'Bank account or service',\n       'Payday loan, title loan, or personal loan', 'Consumer Loan',\n       'Payday loan', 'Money transfers', 'Prepaid card',\n       'Other financial service', 'Virtual currency'],\n      dtype='object')"
     },
     "execution_count": 7,
     "metadata": {},
     "output_type": "execute_result"
    }
   ]
  },
  {
   "metadata": {
    "execution": {
     "iopub.execute_input": "2023-07-28T09:05:22.219127Z",
     "iopub.status.busy": "2023-07-28T09:05:22.217831Z",
     "iopub.status.idle": "2023-07-28T09:05:23.772456Z",
     "shell.execute_reply": "2023-07-28T09:05:23.771284Z"
    },
    "papermill": {
     "duration": 1.593406,
     "end_time": "2023-07-28T09:05:23.775139",
     "exception": false,
     "start_time": "2023-07-28T09:05:22.181733",
     "status": "completed"
    },
    "tags": [],
    "trusted": false
   },
   "id": "3578aa40",
   "cell_type": "code",
   "source": "def normalise_subset_names(df,column):\n    subset_names = list(df[column].value_counts().index)\n    norm_subset_names = [i.lower() for i in subset_names]\n    dict_replace = dict(zip(subset_names,norm_subset_names))\n    df[column] = df[column].replace(dict_replace)    \n    return df\n\ndf = normalise_subset_names(df,'product')\nshow_subset_names(df,'product')",
   "execution_count": 8,
   "outputs": [
    {
     "data": {
      "text/plain": "Index(['credit reporting, credit repair services, or other personal consumer reports',\n       'debt collection', 'mortgage', 'credit card or prepaid card',\n       'checking or savings account', 'student loan', 'credit reporting',\n       'money transfer, virtual currency, or money service',\n       'vehicle loan or lease', 'credit card', 'bank account or service',\n       'payday loan, title loan, or personal loan', 'consumer loan',\n       'payday loan', 'money transfers', 'prepaid card',\n       'other financial service', 'virtual currency'],\n      dtype='object')"
     },
     "execution_count": 8,
     "metadata": {},
     "output_type": "execute_result"
    }
   ]
  },
  {
   "metadata": {
    "papermill": {
     "duration": 0.037341,
     "end_time": "2023-07-28T09:05:23.846996",
     "exception": false,
     "start_time": "2023-07-28T09:05:23.809655",
     "status": "completed"
    },
    "tags": []
   },
   "id": "b9a989a7",
   "cell_type": "markdown",
   "source": "### <b><span style='color:#F1A424;text-align:center'>FILTER SUBSET DATA</span></b>\n\nLet's keep only specific subsets of data in the **product** column"
  },
  {
   "metadata": {
    "_kg_hide-input": true,
    "execution": {
     "iopub.execute_input": "2023-07-28T09:05:23.919529Z",
     "iopub.status.busy": "2023-07-28T09:05:23.918262Z",
     "iopub.status.idle": "2023-07-28T09:05:23.932027Z",
     "shell.execute_reply": "2023-07-28T09:05:23.930784Z"
    },
    "papermill": {
     "duration": 0.052194,
     "end_time": "2023-07-28T09:05:23.934475",
     "exception": false,
     "start_time": "2023-07-28T09:05:23.882281",
     "status": "completed"
    },
    "tags": [],
    "trusted": false
   },
   "id": "8829b969",
   "cell_type": "code",
   "source": "# keep only specific subset in a feature\n\ndef keep_subset(df,column,lst):\n    \n    all_features = list(df[column].value_counts().index)\n    keep_features = lst\n    \n    # subset data\n    subset_data = dict(tuple(df.groupby(column)))\n    subset_data_filter = lambda x, y: dict([ (i,x[i]) for i in x if i in set(y) ])\n    \n    # dictionary with only selected keys\n    filtered_data = subset_data_filter(subset_data,lst)\n    filtered_df = pd.concat(filtered_data.values())\n    filtered_df.reset_index(drop=True,inplace=True)\n    return filtered_df\n    \n# remove specific subset from feature\n\ndef remove_subset(df,column,lst):\n    \n    all_features = list(df[column].value_counts().index)\n    keep_features = lst\n    \n    # subset data\n    subset_data = dict(tuple(df.groupby(column)))\n    set_all_features = set(all_features)\n    set_keep_features = set(lst)\n    \n    # features of dictionary which should remain\n    remaining_features = set_all_features - set_keep_features\n \n    subset_data_filter = lambda x, y: dict([ (i,x[i]) for i in x if i in set(y) ])\n    filtered_data = subset_data_filter(subset_data,remaining_features)\n    filtered_df = pd.concat(filtered_data.values())\n    filtered_df.reset_index(drop=True,inplace=True)\n    return filtered_df",
   "execution_count": 9,
   "outputs": []
  },
  {
   "metadata": {
    "execution": {
     "iopub.execute_input": "2023-07-28T09:05:24.006812Z",
     "iopub.status.busy": "2023-07-28T09:05:24.005693Z",
     "iopub.status.idle": "2023-07-28T09:05:26.594291Z",
     "shell.execute_reply": "2023-07-28T09:05:26.593079Z"
    },
    "papermill": {
     "duration": 2.627975,
     "end_time": "2023-07-28T09:05:26.596966",
     "exception": false,
     "start_time": "2023-07-28T09:05:23.968991",
     "status": "completed"
    },
    "tags": [],
    "trusted": false
   },
   "id": "53cf4b2c",
   "cell_type": "code",
   "source": "lst_keep = ['credit reporting', 'debt collection', 'mortgage', 'credit card',\n            'bank account or service', 'consumer Loan', 'student loan',\n            'payday loan', 'prepaid card', 'money transfers',\n            'other financial service', 'virtual currency']\n\ndf = keep_subset(df,'product',lst_keep)\n# sdf = remove_subset(df,'product',lst_remove)\ndf['product'].value_counts()",
   "execution_count": 10,
   "outputs": [
    {
     "data": {
      "text/plain": "debt collection            195373\nmortgage                    99141\nstudent loan                33606\ncredit reporting            31587\ncredit card                 18838\nbank account or service     14885\npayday loan                  1746\nmoney transfers              1497\nprepaid card                 1450\nother financial service       292\nvirtual currency               16\nName: product, dtype: int64"
     },
     "execution_count": 10,
     "metadata": {},
     "output_type": "execute_result"
    }
   ]
  },
  {
   "metadata": {
    "papermill": {
     "duration": 0.034668,
     "end_time": "2023-07-28T09:05:26.667042",
     "exception": false,
     "start_time": "2023-07-28T09:05:26.632374",
     "status": "completed"
    },
    "tags": []
   },
   "id": "f857e1ab",
   "cell_type": "markdown",
   "source": "### <b><span style='color:#F1A424;text-align:center'>SELECT SUBSET OF DATA</span></b>\n\n- Let's choose only a specific subset of time series data because to reduce the computational load\n- We can note that data beyond 2017 has only three of the available subsets"
  },
  {
   "metadata": {
    "editable": false,
    "execution": {
     "iopub.execute_input": "2023-07-28T09:05:26.740660Z",
     "iopub.status.busy": "2023-07-28T09:05:26.739532Z",
     "iopub.status.idle": "2023-07-28T09:05:26.782325Z",
     "shell.execute_reply": "2023-07-28T09:05:26.781161Z"
    },
    "papermill": {
     "duration": 0.092303,
     "end_time": "2023-07-28T09:05:26.793853",
     "exception": false,
     "start_time": "2023-07-28T09:05:26.701550",
     "status": "completed"
    },
    "tags": [],
    "trusted": false
   },
   "id": "a4b9ca15",
   "cell_type": "code",
   "source": "df['year'].value_counts()",
   "execution_count": 11,
   "outputs": [
    {
     "data": {
      "text/plain": "2016    73146\n2017    59087\n2015    51779\n2021    50757\n2022    42867\n2018    41708\n2020    40801\n2019    38286\nName: year, dtype: int64"
     },
     "execution_count": 11,
     "metadata": {},
     "output_type": "execute_result"
    }
   ]
  },
  {
   "metadata": {
    "execution": {
     "iopub.execute_input": "2023-07-28T09:05:26.868580Z",
     "iopub.status.busy": "2023-07-28T09:05:26.866475Z",
     "iopub.status.idle": "2023-07-28T09:05:28.128440Z",
     "shell.execute_reply": "2023-07-28T09:05:28.127160Z"
    },
    "papermill": {
     "duration": 1.301963,
     "end_time": "2023-07-28T09:05:28.131373",
     "exception": false,
     "start_time": "2023-07-28T09:05:26.829410",
     "status": "completed"
    },
    "tags": [],
    "trusted": false
   },
   "id": "dc5a631f",
   "cell_type": "code",
   "source": "ldf = df.groupby('product').count()['day'].to_frame().sort_values(ascending=False,by='day')\n\nldf.style\\\n    .bar(align='mid',\n         color=['#d65f5f','#F1A424'])",
   "execution_count": 12,
   "outputs": [
    {
     "data": {
      "text/html": "<style type=\"text/css\">\n#T_b97a1_row0_col0 {\n  width: 10em;\n  height: 80%;\n  background: linear-gradient(90deg,#F1A424 100.0%, transparent 100.0%);\n}\n#T_b97a1_row1_col0 {\n  width: 10em;\n  height: 80%;\n  background: linear-gradient(90deg,#F1A424 50.7%, transparent 50.7%);\n}\n#T_b97a1_row2_col0 {\n  width: 10em;\n  height: 80%;\n  background: linear-gradient(90deg,#F1A424 17.2%, transparent 17.2%);\n}\n#T_b97a1_row3_col0 {\n  width: 10em;\n  height: 80%;\n  background: linear-gradient(90deg,#F1A424 16.2%, transparent 16.2%);\n}\n#T_b97a1_row4_col0 {\n  width: 10em;\n  height: 80%;\n  background: linear-gradient(90deg,#F1A424 9.6%, transparent 9.6%);\n}\n#T_b97a1_row5_col0 {\n  width: 10em;\n  height: 80%;\n  background: linear-gradient(90deg,#F1A424 7.6%, transparent 7.6%);\n}\n#T_b97a1_row6_col0 {\n  width: 10em;\n  height: 80%;\n  background: linear-gradient(90deg,#F1A424 0.9%, transparent 0.9%);\n}\n#T_b97a1_row7_col0 {\n  width: 10em;\n  height: 80%;\n  background: linear-gradient(90deg,#F1A424 0.8%, transparent 0.8%);\n}\n#T_b97a1_row8_col0 {\n  width: 10em;\n  height: 80%;\n  background: linear-gradient(90deg,#F1A424 0.7%, transparent 0.7%);\n}\n#T_b97a1_row9_col0 {\n  width: 10em;\n  height: 80%;\n  background: linear-gradient(90deg,#F1A424 0.1%, transparent 0.1%);\n}\n#T_b97a1_row10_col0 {\n  width: 10em;\n  height: 80%;\n  background: linear-gradient(90deg,#F1A424 0.0%, transparent 0.0%);\n}\n</style>\n<table id=\"T_b97a1_\">\n  <thead>\n    <tr>\n      <th class=\"blank level0\" >&nbsp;</th>\n      <th class=\"col_heading level0 col0\" >day</th>\n    </tr>\n    <tr>\n      <th class=\"index_name level0\" >product</th>\n      <th class=\"blank col0\" >&nbsp;</th>\n    </tr>\n  </thead>\n  <tbody>\n    <tr>\n      <th id=\"T_b97a1_level0_row0\" class=\"row_heading level0 row0\" >debt collection</th>\n      <td id=\"T_b97a1_row0_col0\" class=\"data row0 col0\" >195373</td>\n    </tr>\n    <tr>\n      <th id=\"T_b97a1_level0_row1\" class=\"row_heading level0 row1\" >mortgage</th>\n      <td id=\"T_b97a1_row1_col0\" class=\"data row1 col0\" >99141</td>\n    </tr>\n    <tr>\n      <th id=\"T_b97a1_level0_row2\" class=\"row_heading level0 row2\" >student loan</th>\n      <td id=\"T_b97a1_row2_col0\" class=\"data row2 col0\" >33606</td>\n    </tr>\n    <tr>\n      <th id=\"T_b97a1_level0_row3\" class=\"row_heading level0 row3\" >credit reporting</th>\n      <td id=\"T_b97a1_row3_col0\" class=\"data row3 col0\" >31587</td>\n    </tr>\n    <tr>\n      <th id=\"T_b97a1_level0_row4\" class=\"row_heading level0 row4\" >credit card</th>\n      <td id=\"T_b97a1_row4_col0\" class=\"data row4 col0\" >18838</td>\n    </tr>\n    <tr>\n      <th id=\"T_b97a1_level0_row5\" class=\"row_heading level0 row5\" >bank account or service</th>\n      <td id=\"T_b97a1_row5_col0\" class=\"data row5 col0\" >14885</td>\n    </tr>\n    <tr>\n      <th id=\"T_b97a1_level0_row6\" class=\"row_heading level0 row6\" >payday loan</th>\n      <td id=\"T_b97a1_row6_col0\" class=\"data row6 col0\" >1746</td>\n    </tr>\n    <tr>\n      <th id=\"T_b97a1_level0_row7\" class=\"row_heading level0 row7\" >money transfers</th>\n      <td id=\"T_b97a1_row7_col0\" class=\"data row7 col0\" >1497</td>\n    </tr>\n    <tr>\n      <th id=\"T_b97a1_level0_row8\" class=\"row_heading level0 row8\" >prepaid card</th>\n      <td id=\"T_b97a1_row8_col0\" class=\"data row8 col0\" >1450</td>\n    </tr>\n    <tr>\n      <th id=\"T_b97a1_level0_row9\" class=\"row_heading level0 row9\" >other financial service</th>\n      <td id=\"T_b97a1_row9_col0\" class=\"data row9 col0\" >292</td>\n    </tr>\n    <tr>\n      <th id=\"T_b97a1_level0_row10\" class=\"row_heading level0 row10\" >virtual currency</th>\n      <td id=\"T_b97a1_row10_col0\" class=\"data row10 col0\" >16</td>\n    </tr>\n  </tbody>\n</table>\n",
      "text/plain": "<pandas.io.formats.style.Styler at 0x7b73654a21d0>"
     },
     "execution_count": 12,
     "metadata": {},
     "output_type": "execute_result"
    }
   ]
  },
  {
   "metadata": {
    "editable": false,
    "papermill": {
     "duration": 0.035358,
     "end_time": "2023-07-28T09:05:28.206711",
     "exception": false,
     "start_time": "2023-07-28T09:05:28.171353",
     "status": "completed"
    },
    "tags": []
   },
   "id": "ce7d3b67",
   "cell_type": "markdown",
   "source": "We still have 184 thousand samples to go by, which should still be sufficient for our task"
  },
  {
   "metadata": {
    "editable": false,
    "execution": {
     "iopub.execute_input": "2023-07-28T09:05:28.279325Z",
     "iopub.status.busy": "2023-07-28T09:05:28.278892Z",
     "iopub.status.idle": "2023-07-28T09:05:28.418548Z",
     "shell.execute_reply": "2023-07-28T09:05:28.417182Z"
    },
    "papermill": {
     "duration": 0.180157,
     "end_time": "2023-07-28T09:05:28.422497",
     "exception": false,
     "start_time": "2023-07-28T09:05:28.242340",
     "status": "completed"
    },
    "tags": [],
    "trusted": false
   },
   "id": "e2909c21",
   "cell_type": "code",
   "source": "df = df[df['year'].isin([2015,2016,2017])]\nprint(f'final shape: {df.shape}')",
   "execution_count": 13,
   "outputs": [
    {
     "name": "stdout",
     "output_type": "stream",
     "text": "final shape: (184012, 22)\n"
    }
   ]
  },
  {
   "metadata": {
    "papermill": {
     "duration": 0.034933,
     "end_time": "2023-07-28T09:05:28.492961",
     "exception": false,
     "start_time": "2023-07-28T09:05:28.458028",
     "status": "completed"
    },
    "tags": []
   },
   "id": "316ee7ec",
   "cell_type": "markdown",
   "source": "<p>\n\n## <div style=\"padding: 30px;color:white;margin:10;font-size:60%;text-align:left;display:fill;border-radius:10px;background-color:#FFFFFF;overflow:hidden;background-color:#3b3745\"><b><span style='color:#F1A424'>4 |</span></b> <b>TARGET DISTRIBUTION</b></div>\n\nThe **target variable** in our problem:\n- Product Value Distribution (target variable for **<span style='color:#FFC300'>M1</span>**)\n\n"
  },
  {
   "metadata": {
    "papermill": {
     "duration": 0.036333,
     "end_time": "2023-07-28T09:05:28.564973",
     "exception": false,
     "start_time": "2023-07-28T09:05:28.528640",
     "status": "completed"
    },
    "tags": []
   },
   "id": "44f040a8",
   "cell_type": "markdown",
   "source": "### <b><span style='color:#F1A424;text-align:center'>PRODUCT</span></b>\n\nLet's plot the grouped subset distribution for feature `Product` "
  },
  {
   "metadata": {
    "_kg_hide-input": true,
    "execution": {
     "iopub.execute_input": "2023-07-28T09:05:28.644197Z",
     "iopub.status.busy": "2023-07-28T09:05:28.642834Z",
     "iopub.status.idle": "2023-07-28T09:05:31.312967Z",
     "shell.execute_reply": "2023-07-28T09:05:31.311565Z"
    },
    "papermill": {
     "duration": 2.713699,
     "end_time": "2023-07-28T09:05:31.315903",
     "exception": false,
     "start_time": "2023-07-28T09:05:28.602204",
     "status": "completed"
    },
    "tags": [],
    "trusted": false
   },
   "id": "5d82734f",
   "cell_type": "code",
   "source": "fig = px.bar((df['product']\n              .value_counts(ascending=False)\n              .to_frame()),\n             x='product',\n             template='plotly_white',\n             title='Product Subset Distribution')\n\nfig.update_traces(marker_line_color='#F1A424',\n                  marker_line_width=0.1,\n                  marker={'color':'#F1A424'},width=0.5)\n\nfig.show(\"png\")",
   "execution_count": 14,
   "outputs": [
    {
     "data": {
      "image/png": "[encoded data removed]"
     },
     "metadata": {},
     "output_type": "display_data"
    }
   ]
  },
  {
   "metadata": {
    "papermill": {
     "duration": 0.042713,
     "end_time": "2023-07-28T09:05:32.111586",
     "exception": false,
     "start_time": "2023-07-28T09:05:32.068873",
     "status": "completed"
    },
    "tags": []
   },
   "id": "4f49d909",
   "cell_type": "markdown",
   "source": "<div style=\" background-color:#3b3745; padding: 13px 13px; border-radius: 8px; color: white\">\n<ul>\n    <li> We can note that we have some target class inbalance, in both product and issue features, </li>\n    <li> Lets stick <b>stratification</b>, we need to make sure each class is represented in both datasets\n</ul>"
  },
  {
   "metadata": {
    "papermill": {
     "duration": 0.042356,
     "end_time": "2023-07-28T09:05:32.196399",
     "exception": false,
     "start_time": "2023-07-28T09:05:32.154043",
     "status": "completed"
    },
    "tags": []
   },
   "id": "03bb20bd",
   "cell_type": "markdown",
   "source": "<p>\n\n## <div style=\"padding: 30px;color:white;margin:10;font-size:60%;text-align:left;display:fill;border-radius:10px;background-color:#FFFFFF;overflow:hidden;background-color:#3b3745\"><b><span style='color:#F1A424'>5 |</span></b> <b>EXPLORATORY DATA ANALYSIS</b></div>\n\nThe dataset contains a lot of **categorical** which can be grouped & analysed:\n- Consumer Complaint Method (How was the complaint made?)\n- Company to which the consumer complained (To which company was the complaint made)\n- Consumer Complaint Timeline (When were the complaints made?)\n- Consumer Complaint Timeline Group Trends (grouping data; are there any trends in the timeline)\n- Consumer Address State (In which state was the complaint made?)\n- Company Response to Consumer Complaints (What was the response to the complaint?)\n- Consumer Response to company response (Did the consumer dispuse the response?)"
  },
  {
   "metadata": {
    "papermill": {
     "duration": 0.040206,
     "end_time": "2023-07-28T09:05:32.277858",
     "exception": false,
     "start_time": "2023-07-28T09:05:32.237652",
     "status": "completed"
    },
    "tags": []
   },
   "id": "5d8fc342",
   "cell_type": "markdown",
   "source": "### <b><span style='color:#F1A424;text-align:center'>CONSUMER COMPLAINT METHOD</span></b>\n\n\n- All customers addresses for which we have text data are submitted via the **web**\n- This implies that all other forms of text data of complaints were not registered in the data for other forms of complaint submission"
  },
  {
   "metadata": {
    "editable": false,
    "execution": {
     "iopub.execute_input": "2023-07-28T09:05:32.361032Z",
     "iopub.status.busy": "2023-07-28T09:05:32.360607Z",
     "iopub.status.idle": "2023-07-28T09:05:32.394230Z",
     "shell.execute_reply": "2023-07-28T09:05:32.393132Z"
    },
    "papermill": {
     "duration": 0.078068,
     "end_time": "2023-07-28T09:05:32.396762",
     "exception": false,
     "start_time": "2023-07-28T09:05:32.318694",
     "status": "completed"
    },
    "tags": [],
    "trusted": false
   },
   "id": "66ec1674",
   "cell_type": "code",
   "source": "df['submitted via'].value_counts(ascending=True)",
   "execution_count": 16,
   "outputs": [
    {
     "data": {
      "text/plain": "Web    184012\nName: submitted via, dtype: int64"
     },
     "execution_count": 16,
     "metadata": {},
     "output_type": "execute_result"
    }
   ]
  },
  {
   "metadata": {
    "papermill": {
     "duration": 0.040985,
     "end_time": "2023-07-28T09:05:32.479187",
     "exception": false,
     "start_time": "2023-07-28T09:05:32.438202",
     "status": "completed"
    },
    "tags": []
   },
   "id": "57ff9103",
   "cell_type": "markdown",
   "source": "### <b><span style='color:#F1A424;text-align:center'>FINANCIAL COMPANY</span></b>\n\nLet's visualise the top 10 companies for which we have consumer complaint feedback \n\n"
  },
  {
   "metadata": {
    "execution": {
     "iopub.execute_input": "2023-07-28T09:05:32.562971Z",
     "iopub.status.busy": "2023-07-28T09:05:32.562558Z",
     "iopub.status.idle": "2023-07-28T09:05:32.574418Z",
     "shell.execute_reply": "2023-07-28T09:05:32.573368Z"
    },
    "papermill": {
     "duration": 0.056767,
     "end_time": "2023-07-28T09:05:32.576898",
     "exception": false,
     "start_time": "2023-07-28T09:05:32.520131",
     "status": "completed"
    },
    "tags": [],
    "trusted": false
   },
   "id": "b410e252",
   "cell_type": "code",
   "source": "# plot subset value counts \n\ndef plot_subset_counts(df,column,orient='h',top=None):\n    \n    ldf = df[column].value_counts(ascending=False).to_frame()\n    ldf.columns = ['values']\n    \n    if(top):\n        ldf = ldf[:top]\n    \n    if(orient is 'h'):\n        fig = px.bar(data_frame=ldf,\n                     x = ldf.index,\n                     y = 'values',\n                     template='plotly_white',\n                     title='Subset Value-Counts')\n\n    elif('v'):\n\n        fig = px.bar(data_frame=ldf,\n                             y = ldf.index,\n                             x = 'values',\n                             template='plotly_white',\n                             title='Subset Value-Counts')\n        \n    fig.update_layout(height=400)\n    fig.update_traces(marker_line_color='white',\n                      marker_line_width=0.5,\n                      marker={'color':'#F1A424'},\n                      width=0.75)\n    \n    fig.show(\"png\")",
   "execution_count": 17,
   "outputs": []
  },
  {
   "metadata": {
    "execution": {
     "iopub.execute_input": "2023-07-28T09:05:32.660353Z",
     "iopub.status.busy": "2023-07-28T09:05:32.659918Z",
     "iopub.status.idle": "2023-07-28T09:05:32.850124Z",
     "shell.execute_reply": "2023-07-28T09:05:32.848921Z"
    },
    "papermill": {
     "duration": 0.235235,
     "end_time": "2023-07-28T09:05:32.852864",
     "exception": false,
     "start_time": "2023-07-28T09:05:32.617629",
     "status": "completed"
    },
    "tags": [],
    "trusted": false
   },
   "id": "b25e1af6",
   "cell_type": "code",
   "source": "plot_subset_counts(df,'company',orient='v',top=10)",
   "execution_count": 18,
   "outputs": [
    {
     "data": {
      "image/png": "[encoded data removed]"
     },
     "metadata": {},
     "output_type": "display_data"
    }
   ]
  },
  {
   "metadata": {
    "papermill": {
     "duration": 0.041564,
     "end_time": "2023-07-28T09:05:32.936923",
     "exception": false,
     "start_time": "2023-07-28T09:05:32.895359",
     "status": "completed"
    },
    "tags": []
   },
   "id": "f44c620c",
   "cell_type": "markdown",
   "source": "### <b><span style='color:#F1A424;text-align:center'>COMPANY RESPONSE</span></b>\n\n\nLet's look at the data about what the company decided to do about the registered complaint"
  },
  {
   "metadata": {
    "execution": {
     "iopub.execute_input": "2023-07-28T09:05:33.023339Z",
     "iopub.status.busy": "2023-07-28T09:05:33.022001Z",
     "iopub.status.idle": "2023-07-28T09:05:33.054373Z",
     "shell.execute_reply": "2023-07-28T09:05:33.053089Z"
    },
    "papermill": {
     "duration": 0.078511,
     "end_time": "2023-07-28T09:05:33.057228",
     "exception": false,
     "start_time": "2023-07-28T09:05:32.978717",
     "status": "completed"
    },
    "tags": [],
    "trusted": false
   },
   "id": "418caad7",
   "cell_type": "code",
   "source": "ldf = df['company public response'].value_counts(ascending=False).to_frame()\n\nldf.style\\\n    .bar(align='mid',\n         color=['#3b3745','#F1A424'])",
   "execution_count": 19,
   "outputs": [
    {
     "data": {
      "text/html": "<style type=\"text/css\">\n#T_60bfc_row0_col0 {\n  width: 10em;\n  height: 80%;\n  background: linear-gradient(90deg,#F1A424 100.0%, transparent 100.0%);\n}\n#T_60bfc_row1_col0 {\n  width: 10em;\n  height: 80%;\n  background: linear-gradient(90deg,#F1A424 45.5%, transparent 45.5%);\n}\n#T_60bfc_row2_col0 {\n  width: 10em;\n  height: 80%;\n  background: linear-gradient(90deg,#F1A424 43.0%, transparent 43.0%);\n}\n#T_60bfc_row3_col0 {\n  width: 10em;\n  height: 80%;\n  background: linear-gradient(90deg,#F1A424 4.4%, transparent 4.4%);\n}\n#T_60bfc_row4_col0 {\n  width: 10em;\n  height: 80%;\n  background: linear-gradient(90deg,#F1A424 4.3%, transparent 4.3%);\n}\n#T_60bfc_row5_col0 {\n  width: 10em;\n  height: 80%;\n  background: linear-gradient(90deg,#F1A424 3.5%, transparent 3.5%);\n}\n#T_60bfc_row6_col0 {\n  width: 10em;\n  height: 80%;\n  background: linear-gradient(90deg,#F1A424 3.2%, transparent 3.2%);\n}\n#T_60bfc_row7_col0 {\n  width: 10em;\n  height: 80%;\n  background: linear-gradient(90deg,#F1A424 2.0%, transparent 2.0%);\n}\n#T_60bfc_row8_col0 {\n  width: 10em;\n  height: 80%;\n  background: linear-gradient(90deg,#F1A424 1.8%, transparent 1.8%);\n}\n#T_60bfc_row9_col0 {\n  width: 10em;\n  height: 80%;\n  background: linear-gradient(90deg,#F1A424 0.0%, transparent 0.0%);\n}\n</style>\n<table id=\"T_60bfc_\">\n  <thead>\n    <tr>\n      <th class=\"blank level0\" >&nbsp;</th>\n      <th class=\"col_heading level0 col0\" >company public response</th>\n    </tr>\n  </thead>\n  <tbody>\n    <tr>\n      <th id=\"T_60bfc_level0_row0\" class=\"row_heading level0 row0\" >Company has responded to the consumer and the CFPB and chooses not to provide a public response</th>\n      <td id=\"T_60bfc_row0_col0\" class=\"data row0 col0\" >41598</td>\n    </tr>\n    <tr>\n      <th id=\"T_60bfc_level0_row1\" class=\"row_heading level0 row1\" >Company chooses not to provide a public response</th>\n      <td id=\"T_60bfc_row1_col0\" class=\"data row1 col0\" >18935</td>\n    </tr>\n    <tr>\n      <th id=\"T_60bfc_level0_row2\" class=\"row_heading level0 row2\" >Company believes it acted appropriately as authorized by contract or law</th>\n      <td id=\"T_60bfc_row2_col0\" class=\"data row2 col0\" >17907</td>\n    </tr>\n    <tr>\n      <th id=\"T_60bfc_level0_row3\" class=\"row_heading level0 row3\" >Company believes the complaint is the result of a misunderstanding</th>\n      <td id=\"T_60bfc_row3_col0\" class=\"data row3 col0\" >1839</td>\n    </tr>\n    <tr>\n      <th id=\"T_60bfc_level0_row4\" class=\"row_heading level0 row4\" >Company disputes the facts presented in the complaint</th>\n      <td id=\"T_60bfc_row4_col0\" class=\"data row4 col0\" >1792</td>\n    </tr>\n    <tr>\n      <th id=\"T_60bfc_level0_row5\" class=\"row_heading level0 row5\" >Company believes complaint caused principally by actions of third party outside the control or direction of the company</th>\n      <td id=\"T_60bfc_row5_col0\" class=\"data row5 col0\" >1436</td>\n    </tr>\n    <tr>\n      <th id=\"T_60bfc_level0_row6\" class=\"row_heading level0 row6\" >Company believes complaint is the result of an isolated error</th>\n      <td id=\"T_60bfc_row6_col0\" class=\"data row6 col0\" >1345</td>\n    </tr>\n    <tr>\n      <th id=\"T_60bfc_level0_row7\" class=\"row_heading level0 row7\" >Company believes complaint represents an opportunity for improvement to better serve consumers</th>\n      <td id=\"T_60bfc_row7_col0\" class=\"data row7 col0\" >813</td>\n    </tr>\n    <tr>\n      <th id=\"T_60bfc_level0_row8\" class=\"row_heading level0 row8\" >Company can't verify or dispute the facts in the complaint</th>\n      <td id=\"T_60bfc_row8_col0\" class=\"data row8 col0\" >768</td>\n    </tr>\n    <tr>\n      <th id=\"T_60bfc_level0_row9\" class=\"row_heading level0 row9\" >Company believes complaint relates to a discontinued policy or procedure</th>\n      <td id=\"T_60bfc_row9_col0\" class=\"data row9 col0\" >18</td>\n    </tr>\n  </tbody>\n</table>\n",
      "text/plain": "<pandas.io.formats.style.Styler at 0x7b73654b0410>"
     },
     "execution_count": 19,
     "metadata": {},
     "output_type": "execute_result"
    }
   ]
  },
  {
   "metadata": {
    "editable": false,
    "papermill": {
     "duration": 0.0423,
     "end_time": "2023-07-28T09:05:33.144618",
     "exception": false,
     "start_time": "2023-07-28T09:05:33.102318",
     "status": "completed"
    },
    "tags": []
   },
   "id": "5505a714",
   "cell_type": "markdown",
   "source": "<div style=\" background-color:#3b3745; padding: 13px 13px; border-radius: 8px; color: white\">\n<ul>\n    <li>Most of the consumer complaints were addressed in private as opposed to public</li>\n</ul>\n</div>"
  },
  {
   "metadata": {
    "papermill": {
     "duration": 0.04244,
     "end_time": "2023-07-28T09:05:33.230654",
     "exception": false,
     "start_time": "2023-07-28T09:05:33.188214",
     "status": "completed"
    },
    "tags": []
   },
   "id": "dbf45e31",
   "cell_type": "markdown",
   "source": "### <b><span style='color:#F1A424;text-align:center'>COMPLAINT TIMELINE</span></b>\n\n\n- Let's look at the **weekly** (using `resample`) complaint addresses (let's see if there are some trends in the time series data)"
  },
  {
   "metadata": {
    "_kg_hide-input": true,
    "execution": {
     "iopub.execute_input": "2023-07-28T09:05:33.317479Z",
     "iopub.status.busy": "2023-07-28T09:05:33.317032Z",
     "iopub.status.idle": "2023-07-28T09:05:34.088311Z",
     "shell.execute_reply": "2023-07-28T09:05:34.087178Z"
    },
    "papermill": {
     "duration": 0.818187,
     "end_time": "2023-07-28T09:05:34.091222",
     "exception": false,
     "start_time": "2023-07-28T09:05:33.273035",
     "status": "completed"
    },
    "tags": [],
    "trusted": false
   },
   "id": "9b389807",
   "cell_type": "code",
   "source": "# Daily Complaints\ncomplaints = df.copy()\ncomplaints_daily = complaints.groupby(['date received']).agg(\"count\")[[\"product\"]] # daily addresses\n\n# Sample weekly\ncomplaints_weekly = complaints_daily.reset_index()\ncomplaints_weekly = complaints_weekly.resample('W', on='date received').sum() # weekly addresses\n\nfig = px.line(complaints_weekly,complaints_weekly.index,y=\"product\",\n              template=\"plotly_white\",title=\"Weekly Complaints\",height=400)\nfig.update_traces(line_color='#F1A424')\nfig.show(\"png\")",
   "execution_count": 20,
   "outputs": [
    {
     "data": {
      "image/png": "[encoded data removed]"
     },
     "metadata": {},
     "output_type": "display_data"
    }
   ]
  },
  {
   "metadata": {
    "editable": false,
    "papermill": {
     "duration": 0.043918,
     "end_time": "2023-07-28T09:05:34.178876",
     "exception": false,
     "start_time": "2023-07-28T09:05:34.134958",
     "status": "completed"
    },
    "tags": []
   },
   "id": "163b63f0",
   "cell_type": "markdown",
   "source": "<div style=\" background-color:#3b3745; padding: 13px 13px; border-radius: 8px; color: white\">\n<ul>\n    <li>We can observe an increasing trend in complaints registed (this could be because users simply regitered the complaints more)</li>\n    <li>After April 2nd, 2017, there is a rapid decline in registered complaints\n    <li>Some interesting peaks with an unusually high number of registed complaints occured in 2017 (January,September)</li>\n    <li>We can note that the pandemic had also an effect on the number of complaints registed</li>\n</ul>\n</div>"
  },
  {
   "metadata": {
    "papermill": {
     "duration": 0.043471,
     "end_time": "2023-07-28T09:05:34.265977",
     "exception": false,
     "start_time": "2023-07-28T09:05:34.222506",
     "status": "completed"
    },
    "tags": []
   },
   "id": "5e968305",
   "cell_type": "markdown",
   "source": "### <b><span style='color:#F1A424;text-align:center'>CONSUMER COMPLAINT TIMELINE TRENDS</span></b>\n\n\nLet's group all complaint data into groups for **Day of the month** (DoM), **time of the year** (ToY) & **day of the week** (DoW)"
  },
  {
   "metadata": {
    "_kg_hide-input": true,
    "execution": {
     "iopub.execute_input": "2023-07-28T09:05:34.354281Z",
     "iopub.status.busy": "2023-07-28T09:05:34.353855Z",
     "iopub.status.idle": "2023-07-28T09:05:34.613471Z",
     "shell.execute_reply": "2023-07-28T09:05:34.612285Z"
    },
    "papermill": {
     "duration": 0.307041,
     "end_time": "2023-07-28T09:05:34.616382",
     "exception": false,
     "start_time": "2023-07-28T09:05:34.309341",
     "status": "completed"
    },
    "tags": [],
    "trusted": false
   },
   "id": "d02bef4a",
   "cell_type": "code",
   "source": "fig = px.bar(df['day'].value_counts(ascending=True).to_frame(),y='day',\n             template='plotly_white',height=300,\n             title='Day of the Month Complaint Trends')\nfig.update_xaxes(tickvals = [i for i in range(0,32,1)])\nfig.update_traces(marker_line_color='#F1A424',marker_line_width=0.1,\n                  marker={'color':'#F1A424'},width=0.5)\nfig.update_traces(textfont_size=12, textangle=0, \n                  textposition=\"outside\", cliponaxis=False)\nfig.show(\"png\")",
   "execution_count": 21,
   "outputs": [
    {
     "data": {
      "image/png": "[encoded data removed]"
     },
     "metadata": {},
     "output_type": "display_data"
    }
   ]
  },
  {
   "metadata": {
    "_kg_hide-input": true,
    "execution": {
     "iopub.execute_input": "2023-07-28T09:05:34.707848Z",
     "iopub.status.busy": "2023-07-28T09:05:34.706808Z",
     "iopub.status.idle": "2023-07-28T09:05:34.844712Z",
     "shell.execute_reply": "2023-07-28T09:05:34.843534Z"
    },
    "papermill": {
     "duration": 0.186702,
     "end_time": "2023-07-28T09:05:34.847513",
     "exception": false,
     "start_time": "2023-07-28T09:05:34.660811",
     "status": "completed"
    },
    "tags": [],
    "trusted": false
   },
   "id": "0b47e0e2",
   "cell_type": "code",
   "source": "fig = px.bar(df['month'].value_counts(ascending=False).to_frame(),y='month',\n             template='plotly_white',height=300,\n             title='Month of the Year Complaint Trends')\nfig.update_xaxes(tickvals = [i for i in range(0,13,1)])\nfig.update_traces(marker_line_color='#F1A424',marker_line_width=0.1,\n                  marker={'color':'#F1A424'},width=0.5)\nfig.show(\"png\")",
   "execution_count": 22,
   "outputs": [
    {
     "data": {
      "image/png": "[encoded data removed]"
     },
     "metadata": {},
     "output_type": "display_data"
    }
   ]
  },
  {
   "metadata": {
    "_kg_hide-input": true,
    "editable": false,
    "execution": {
     "iopub.execute_input": "2023-07-28T09:05:34.938107Z",
     "iopub.status.busy": "2023-07-28T09:05:34.937684Z",
     "iopub.status.idle": "2023-07-28T09:05:35.087411Z",
     "shell.execute_reply": "2023-07-28T09:05:35.086131Z"
    },
    "papermill": {
     "duration": 0.198016,
     "end_time": "2023-07-28T09:05:35.090682",
     "exception": false,
     "start_time": "2023-07-28T09:05:34.892666",
     "status": "completed"
    },
    "tags": [],
    "trusted": false
   },
   "id": "5e786aab",
   "cell_type": "code",
   "source": "# By DoW\nfig = px.bar(df['dow'].value_counts(ascending=False).to_frame(),y='dow',\n             template='plotly_white',height=300,\n             title='Day of the Week Complaint Trends')\nfig.update_traces(marker_line_color='#F1A424',marker_line_width=0.1,\n                  marker={'color':'#F1A424'},width=0.5)\nfig.update_traces(textfont_size=12, textangle=0, textposition=\"outside\", cliponaxis=False)\nfig.show(\"png\")",
   "execution_count": 23,
   "outputs": [
    {
     "data": {
      "image/png": "[encoded data removed]"
     },
     "metadata": {},
     "output_type": "display_data"
    }
   ]
  },
  {
   "metadata": {
    "editable": false,
    "papermill": {
     "duration": 0.04602,
     "end_time": "2023-07-28T09:05:35.182590",
     "exception": false,
     "start_time": "2023-07-28T09:05:35.136570",
     "status": "completed"
    },
    "tags": []
   },
   "id": "67077a98",
   "cell_type": "markdown",
   "source": "<div style=\" background-color:#3b3745; padding: 13px 13px; border-radius: 8px; color: white\">\n<ul>\n    <li>Day of the month seems to be quite a cyclic trend, with lower numbers closer to the weekends</li>\n    <li><b>July</b>, <b>August</b> & <b>September</b> are associated with increased complaints, <b>December</b>, <b>January</b> & <b>February</b> associated with lower number of complaints</li>\n    <li><b>Novermber</b>, <b>December</b>, <b>January</b> & <b>February</b> don't have adequate data</li>\n    <li><b>Tuesdays</b> & <b>Wednesdays</b> tend to be the most common day a consumer will write a complaint</li>\n    <li>Consumers don't tend to write complaints on weekends (<b>Saturday</b>,<b>Sunday</b>)</li>\n</ul>\n</div>"
  },
  {
   "metadata": {
    "papermill": {
     "duration": 0.044869,
     "end_time": "2023-07-28T09:05:35.273247",
     "exception": false,
     "start_time": "2023-07-28T09:05:35.228378",
     "status": "completed"
    },
    "tags": []
   },
   "id": "a3293583",
   "cell_type": "markdown",
   "source": "### <b><span style='color:#F1A424;text-align:center'>COMPLAINT ORIGIN (STATE) </span></b>\n\nLet's investigate the distribution from which geographical state the complaint was made from"
  },
  {
   "metadata": {
    "execution": {
     "iopub.execute_input": "2023-07-28T09:05:35.365796Z",
     "iopub.status.busy": "2023-07-28T09:05:35.365370Z",
     "iopub.status.idle": "2023-07-28T09:05:35.519087Z",
     "shell.execute_reply": "2023-07-28T09:05:35.517893Z"
    },
    "papermill": {
     "duration": 0.203876,
     "end_time": "2023-07-28T09:05:35.521834",
     "exception": false,
     "start_time": "2023-07-28T09:05:35.317958",
     "status": "completed"
    },
    "tags": [],
    "trusted": false
   },
   "id": "afac4c02",
   "cell_type": "code",
   "source": "ldf = df['state'].value_counts(ascending=True).to_frame()[50:]\n\nfig = px.bar(ldf,x='state',template='plotly_white',\n       title='State of Complaint',height=400)\n\nfig.update_traces(marker_line_color='#F1A424',marker_line_width=1,\n                  marker={'color':'#F1A424'},width=0.4)\nfig.show(\"png\")",
   "execution_count": 24,
   "outputs": [
    {
     "data": {
      "image/png": "[encoded data removed]"
     },
     "metadata": {},
     "output_type": "display_data"
    }
   ]
  },
  {
   "metadata": {
    "editable": false,
    "papermill": {
     "duration": 0.044445,
     "end_time": "2023-07-28T09:05:35.612449",
     "exception": false,
     "start_time": "2023-07-28T09:05:35.568004",
     "status": "completed"
    },
    "tags": []
   },
   "id": "2a9f5b45",
   "cell_type": "markdown",
   "source": "<div style=\" background-color:#3b3745; padding: 13px 13px; border-radius: 8px; color: white\">\n<ul>\n    <li>Most of the consumer complaints are from California, Florida, Texas, Georgia and New York</li>\n</ul>\n</div>"
  },
  {
   "metadata": {
    "papermill": {
     "duration": 0.043624,
     "end_time": "2023-07-28T09:05:35.699821",
     "exception": false,
     "start_time": "2023-07-28T09:05:35.656197",
     "status": "completed"
    },
    "tags": []
   },
   "id": "0c821141",
   "cell_type": "markdown",
   "source": "### <b><span style='color:#F1A424;text-align:center'>COMPARING RESPONSE TO DISPUTES</span></b>\n\n\nLastly, we can combine the last two sections and see for each `Product`, how many disputes there have been each month"
  },
  {
   "metadata": {
    "execution": {
     "iopub.execute_input": "2023-07-28T09:05:35.792553Z",
     "iopub.status.busy": "2023-07-28T09:05:35.792117Z",
     "iopub.status.idle": "2023-07-28T09:05:38.676272Z",
     "shell.execute_reply": "2023-07-28T09:05:38.675161Z"
    },
    "papermill": {
     "duration": 2.934472,
     "end_time": "2023-07-28T09:05:38.679064",
     "exception": false,
     "start_time": "2023-07-28T09:05:35.744592",
     "status": "completed"
    },
    "tags": [],
    "trusted": false
   },
   "id": "66e3881b",
   "cell_type": "code",
   "source": "disputed = df[['product','consumer disputed?','month']]\n\nfig = px.histogram(disputed, y='product', \n                   color='consumer disputed?',\n                   template='plotly_white',\n                   height = 700,\n                   barmode='group',\n                   color_discrete_sequence=['#F1A424','#3b3745'],\n                   facet_col_wrap=3,\n                   facet_col='month')\n\nfig.update_layout(showlegend=False)\nfig.update_layout(barmode=\"overlay\")\nfig.update_traces(opacity=0.5)\nfig.show(\"png\")",
   "execution_count": 25,
   "outputs": [
    {
     "data": {
      "image/png": "[encoded data removed]"
     },
     "metadata": {},
     "output_type": "display_data"
    }
   ]
  },
  {
   "metadata": {
    "editable": false,
    "papermill": {
     "duration": 0.047679,
     "end_time": "2023-07-28T09:05:38.776035",
     "exception": false,
     "start_time": "2023-07-28T09:05:38.728356",
     "status": "completed"
    },
    "tags": []
   },
   "id": "2a67863f",
   "cell_type": "markdown",
   "source": "<div style=\" background-color:#3b3745; padding: 13px 13px; border-radius: 8px; color: white\">\n<ul>\n    <li><b>Morgage</b> & <b>Debt Collection</b> tend to be quite often disputed all year round</li>\n    <li>September & October have the highest disputed cases for <b>Morgage</b> & <b>Debt Collection</b> </li>\n    <li>July & August have an unusually high ammount of <b>credit reporting</b> complaints</li>\n    \n</ul>\n</div>"
  },
  {
   "metadata": {
    "papermill": {
     "duration": 0.048829,
     "end_time": "2023-07-28T09:05:38.872203",
     "exception": false,
     "start_time": "2023-07-28T09:05:38.823374",
     "status": "completed"
    },
    "tags": []
   },
   "id": "5a89b8c9",
   "cell_type": "markdown",
   "source": "<p>\n\n## <div style=\"padding: 30px;color:white;margin:10;font-size:60%;text-align:left;display:fill;border-radius:10px;background-color:#FFFFFF;overflow:hidden;background-color:#3b3745\"><b><span style='color:#F1A424'>6 |</span></b> <b>PREPARING DATA FOR MODELING</b></div>\n\n- We've done some exploratory data analysis & understand our problem target variables a little better, let's focus on preparing the data for machine learning \n- In total, we have **<span style='color:#FFC300'>1159430 complaints</span>**, although not evenly distributed as we saw in **<span style='color:#FFC300'>Section 3</span>**\n- Our smallest class (**<span style='color:#FFC300'>virtual currency</span>**) has only **<span style='color:#FFC300'>16 issues</span>** (which is very little data)"
  },
  {
   "metadata": {
    "editable": false,
    "execution": {
     "iopub.execute_input": "2023-07-28T09:05:38.970043Z",
     "iopub.status.busy": "2023-07-28T09:05:38.969625Z",
     "iopub.status.idle": "2023-07-28T09:05:39.003764Z",
     "shell.execute_reply": "2023-07-28T09:05:39.002627Z"
    },
    "papermill": {
     "duration": 0.087106,
     "end_time": "2023-07-28T09:05:39.006500",
     "exception": false,
     "start_time": "2023-07-28T09:05:38.919394",
     "status": "completed"
    },
    "tags": [],
    "trusted": false
   },
   "id": "9a5a0fda",
   "cell_type": "code",
   "source": "df['product'].value_counts(ascending=False).to_frame().sum()",
   "execution_count": 26,
   "outputs": [
    {
     "data": {
      "text/plain": "product    184012\ndtype: int64"
     },
     "execution_count": 26,
     "metadata": {},
     "output_type": "execute_result"
    }
   ]
  },
  {
   "metadata": {
    "editable": false,
    "execution": {
     "iopub.execute_input": "2023-07-28T09:05:39.117273Z",
     "iopub.status.busy": "2023-07-28T09:05:39.112456Z",
     "iopub.status.idle": "2023-07-28T09:05:39.169130Z",
     "shell.execute_reply": "2023-07-28T09:05:39.167917Z"
    },
    "papermill": {
     "duration": 0.12012,
     "end_time": "2023-07-28T09:05:39.173656",
     "exception": false,
     "start_time": "2023-07-28T09:05:39.053536",
     "status": "completed"
    },
    "tags": [],
    "trusted": false
   },
   "id": "c32dcc34",
   "cell_type": "code",
   "source": "df['product'].value_counts(ascending=False).to_frame().tail(3)",
   "execution_count": 27,
   "outputs": [
    {
     "data": {
      "text/html": "<div>\n<style scoped>\n    .dataframe tbody tr th:only-of-type {\n        vertical-align: middle;\n    }\n\n    .dataframe tbody tr th {\n        vertical-align: top;\n    }\n\n    .dataframe thead th {\n        text-align: right;\n    }\n</style>\n<table border=\"1\" class=\"dataframe\">\n  <thead>\n    <tr style=\"text-align: right;\">\n      <th></th>\n      <th>product</th>\n    </tr>\n  </thead>\n  <tbody>\n    <tr>\n      <th>prepaid card</th>\n      <td>1450</td>\n    </tr>\n    <tr>\n      <th>other financial service</th>\n      <td>292</td>\n    </tr>\n    <tr>\n      <th>virtual currency</th>\n      <td>16</td>\n    </tr>\n  </tbody>\n</table>\n</div>",
      "text/plain": "                         product\nprepaid card                1450\nother financial service      292\nvirtual currency              16"
     },
     "execution_count": 27,
     "metadata": {},
     "output_type": "execute_result"
    }
   ]
  },
  {
   "metadata": {
    "papermill": {
     "duration": 0.068529,
     "end_time": "2023-07-28T09:05:39.313529",
     "exception": false,
     "start_time": "2023-07-28T09:05:39.245000",
     "status": "completed"
    },
    "tags": []
   },
   "id": "df966288",
   "cell_type": "markdown",
   "source": "### <b><span style='color:#F1A424;text-align:center'>REVIEW CLASS DISBALANCE</span></b>\n\nThere doesn't seem to be any error associated with labelling, so let's not remove this subset\n\n> Circle is a Boston-based financial services company that uses blockchain technology for its peer-to-peer payments and cryptocurrency-related products.\n\nDespite wanting to utilise **Stratification**, it seems like we may not have enough data for the model to be able to classify complaints with little data available"
  },
  {
   "metadata": {
    "editable": false,
    "execution": {
     "iopub.execute_input": "2023-07-28T09:05:39.455123Z",
     "iopub.status.busy": "2023-07-28T09:05:39.454675Z",
     "iopub.status.idle": "2023-07-28T09:05:39.565809Z",
     "shell.execute_reply": "2023-07-28T09:05:39.564706Z"
    },
    "papermill": {
     "duration": 0.18421,
     "end_time": "2023-07-28T09:05:39.569172",
     "exception": false,
     "start_time": "2023-07-28T09:05:39.384962",
     "status": "completed"
    },
    "tags": [],
    "trusted": false
   },
   "id": "d735b0dc",
   "cell_type": "code",
   "source": "print('Sample from virtual currency:')\nvc = dict(tuple(df.groupby(by='product')))['virtual currency']\nvc.iloc[[0]]['consumer complaint narrative'].values[0]",
   "execution_count": 28,
   "outputs": [
    {
     "name": "stdout",
     "output_type": "stream",
     "text": "Sample from virtual currency:\n"
    },
    {
     "data": {
      "text/plain": "'Signedup XXXX family members for referrals on Coinbase.com. Coinbase at that time offered {$75.00} for each person referred to their service. I referred all XXXX and they met the terms Coinbase intially offered. Signup took a while do to money transfer timeframes setup by Coinbase. In that time, Coinbase changed their promotion and terms to {$10.00} for referrals. When asked why, they said they could change terms at anytime ( even if signup up for {$75.00} referral bonus ) and that family members did not meet the terms either. Felt like they just change terms to disclude giving out referral bonuses.'"
     },
     "execution_count": 28,
     "metadata": {},
     "output_type": "execute_result"
    }
   ]
  },
  {
   "metadata": {
    "papermill": {
     "duration": 0.048869,
     "end_time": "2023-07-28T09:05:39.673763",
     "exception": false,
     "start_time": "2023-07-28T09:05:39.624894",
     "status": "completed"
    },
    "tags": []
   },
   "id": "067d670b",
   "cell_type": "markdown",
   "source": "### <b><span style='color:#F1A424;text-align:center'>PRODUCT SUBSET AMBIGUITY</span></b>\n\n\n- We have a feature `Credit reporting, credit repair services, or other personal consumer reports`, it seems like this feature is not quite sorted \n- We already have a separate subgroup for **Credit reporting**, but not for **cedit repair services** or **other consumer reports**\n- There is the possibility that this subgroup will contain complaints of other subgroups, which would affect the model accuracy\n- Lets remove the subset: **Credit reporting, credit repair services, or other personal consumer reports** for the time being \n\nSome of the approaches we could take are:\n- Try to sort the data by keywords\n"
  },
  {
   "metadata": {
    "_kg_hide-input": true,
    "editable": false,
    "execution": {
     "iopub.execute_input": "2023-07-28T09:05:39.814248Z",
     "iopub.status.busy": "2023-07-28T09:05:39.813725Z",
     "iopub.status.idle": "2023-07-28T09:05:39.828118Z",
     "shell.execute_reply": "2023-07-28T09:05:39.826890Z"
    },
    "papermill": {
     "duration": 0.09139,
     "end_time": "2023-07-28T09:05:39.833682",
     "exception": false,
     "start_time": "2023-07-28T09:05:39.742292",
     "status": "completed"
    },
    "tags": [],
    "trusted": false
   },
   "id": "e731a7ea",
   "cell_type": "code",
   "source": "# When we have a feature that contains subsets, we can remove unwanted subsets\n        \ndef remove_subset(df,feature,lst_groups):\n    \n    ndf = df.copy()\n\n    # Let's down sample all classes with frequencies above 4k\n    group = dict(tuple(ndf.groupby(by=feature)))\n    subset_group = list(group.keys()) # subsets in feature\n    \n    # Check if features exist in columns\n    if(set(lst_groups).issubset(subset_group)):\n\n        # remove unwanted subset\n        for k in lst_groups:\n            group.pop(k, None)\n\n        df = pd.concat(list(group.values()))\n        df.reset_index(inplace=True,drop=True)\n\n        return df    ",
   "execution_count": 29,
   "outputs": []
  },
  {
   "metadata": {
    "editable": false,
    "papermill": {
     "duration": 0.069851,
     "end_time": "2023-07-28T09:05:39.973541",
     "exception": false,
     "start_time": "2023-07-28T09:05:39.903690",
     "status": "completed"
    },
    "tags": []
   },
   "id": "02a14654",
   "cell_type": "markdown",
   "source": "- We are down to 611,233 complaints (about have of what we had)\n- Let's also confirm that our function **remove_subset** works correctly"
  },
  {
   "metadata": {
    "papermill": {
     "duration": 0.066845,
     "end_time": "2023-07-28T09:05:40.109356",
     "exception": false,
     "start_time": "2023-07-28T09:05:40.042511",
     "status": "completed"
    },
    "tags": []
   },
   "id": "a154f36a",
   "cell_type": "markdown",
   "source": "### <b><span style='color:#F1A424;text-align:center'>LIMIT TARGET CLASS SUBSET SAMPLES</span></b>\n\nWe saw that we have quite a bit of data available\n- Most of which are in particular classes (eg. credit collection ,debt reporting & mortgage)\n- Let's limit our data to **4000 text samples** from each class using function `downsample_features`"
  },
  {
   "metadata": {
    "_kg_hide-input": true,
    "editable": false,
    "execution": {
     "iopub.execute_input": "2023-07-28T09:05:40.229742Z",
     "iopub.status.busy": "2023-07-28T09:05:40.229323Z",
     "iopub.status.idle": "2023-07-28T09:05:40.239623Z",
     "shell.execute_reply": "2023-07-28T09:05:40.238475Z"
    },
    "papermill": {
     "duration": 0.064767,
     "end_time": "2023-07-28T09:05:40.242170",
     "exception": false,
     "start_time": "2023-07-28T09:05:40.177403",
     "status": "completed"
    },
    "tags": [],
    "trusted": false
   },
   "id": "e85ec3e7",
   "cell_type": "code",
   "source": "# Downsample selected \n\ndef downsample_subset(df,feature,lst_groups,samples=4000):\n\n    ndf = df.copy()\n\n    # Let's down sample all classes with frequencies above 4k\n    group = dict(tuple(ndf.groupby(by=feature)))\n    subset_group = list(group.keys())\n\n    # Check if features exist in columns\n    if(set(lst_groups).issubset(subset_group)):\n\n        dict_downsamples = {}\n        for feature in lst_groups:\n            dict_downsamples[feature] = group[feature].sample(samples)\n\n        # remove old data\n        for k in lst_groups:\n            group.pop(k, None)\n\n        # read them back\n        group.update(dict_downsamples)\n\n        df = pd.concat(list(group.values()))\n        df.reset_index(inplace=True,drop=True)\n\n        return df\n    \n    else:\n        print('feature not found in dataframe')\n        ",
   "execution_count": 30,
   "outputs": []
  },
  {
   "metadata": {
    "editable": false,
    "execution": {
     "iopub.execute_input": "2023-07-28T09:05:40.345281Z",
     "iopub.status.busy": "2023-07-28T09:05:40.340302Z",
     "iopub.status.idle": "2023-07-28T09:05:40.701705Z",
     "shell.execute_reply": "2023-07-28T09:05:40.700519Z"
    },
    "papermill": {
     "duration": 0.414676,
     "end_time": "2023-07-28T09:05:40.705169",
     "exception": false,
     "start_time": "2023-07-28T09:05:40.290493",
     "status": "completed"
    },
    "tags": [],
    "trusted": false
   },
   "id": "2b7c2f21",
   "cell_type": "code",
   "source": "# Select subset features which have more than 4000 samples\nsubset_list = list(df['product'].value_counts()[df['product'].value_counts().values > 4000].index)\ndf = downsample_subset(df,'product',subset_list,samples=4000)",
   "execution_count": 31,
   "outputs": []
  },
  {
   "metadata": {
    "editable": false,
    "papermill": {
     "duration": 0.069977,
     "end_time": "2023-07-28T09:05:40.846889",
     "exception": false,
     "start_time": "2023-07-28T09:05:40.776912",
     "status": "completed"
    },
    "tags": []
   },
   "id": "47009e8f",
   "cell_type": "markdown",
   "source": "- Let's check if our function `downsample_subset` works correctly"
  },
  {
   "metadata": {
    "editable": false,
    "execution": {
     "iopub.execute_input": "2023-07-28T09:05:40.971579Z",
     "iopub.status.busy": "2023-07-28T09:05:40.971061Z",
     "iopub.status.idle": "2023-07-28T09:05:40.988490Z",
     "shell.execute_reply": "2023-07-28T09:05:40.987356Z"
    },
    "papermill": {
     "duration": 0.094704,
     "end_time": "2023-07-28T09:05:40.991914",
     "exception": false,
     "start_time": "2023-07-28T09:05:40.897210",
     "status": "completed"
    },
    "tags": [],
    "trusted": false
   },
   "id": "ec4e1089",
   "cell_type": "code",
   "source": "df['product'].value_counts()",
   "execution_count": 32,
   "outputs": [
    {
     "data": {
      "text/plain": "debt collection            4000\nmortgage                   4000\ncredit reporting           4000\ncredit card                4000\nstudent loan               4000\nbank account or service    4000\npayday loan                1746\nmoney transfers            1497\nprepaid card               1450\nother financial service     292\nvirtual currency             16\nName: product, dtype: int64"
     },
     "execution_count": 32,
     "metadata": {},
     "output_type": "execute_result"
    }
   ]
  },
  {
   "metadata": {
    "papermill": {
     "duration": 0.069678,
     "end_time": "2023-07-28T09:05:41.132326",
     "exception": false,
     "start_time": "2023-07-28T09:05:41.062648",
     "status": "completed"
    },
    "tags": []
   },
   "id": "b76d8e82",
   "cell_type": "markdown",
   "source": "### <b><span style='color:#F1A424;text-align:center'>TRAIN-TEST SUBSET SPLITTING</span></b>\n\n- Next, as per standard requirements, we need to be able to validate the model after training\n- We will split the data into two groups, training & validation subsets with a validation size of **0.2**\n- **<span style='color:#FFC300'>Stratification</span>** will also be applied to both groups, in order to guarantee all classes in both subgroups"
  },
  {
   "metadata": {
    "editable": false,
    "execution": {
     "iopub.execute_input": "2023-07-28T09:05:41.272284Z",
     "iopub.status.busy": "2023-07-28T09:05:41.271797Z",
     "iopub.status.idle": "2023-07-28T09:05:41.309433Z",
     "shell.execute_reply": "2023-07-28T09:05:41.308338Z"
    },
    "papermill": {
     "duration": 0.10979,
     "end_time": "2023-07-28T09:05:41.312964",
     "exception": false,
     "start_time": "2023-07-28T09:05:41.203174",
     "status": "completed"
    },
    "tags": [],
    "trusted": false
   },
   "id": "9a5b626c",
   "cell_type": "code",
   "source": "# Select only relevant data\ndf_data = df[['consumer complaint narrative','product']]\ndf_data.columns = ['text','label']\ndf_data.head()",
   "execution_count": 33,
   "outputs": [
    {
     "data": {
      "text/html": "<div>\n<style scoped>\n    .dataframe tbody tr th:only-of-type {\n        vertical-align: middle;\n    }\n\n    .dataframe tbody tr th {\n        vertical-align: top;\n    }\n\n    .dataframe thead th {\n        text-align: right;\n    }\n</style>\n<table border=\"1\" class=\"dataframe\">\n  <thead>\n    <tr style=\"text-align: right;\">\n      <th></th>\n      <th>text</th>\n      <th>label</th>\n    </tr>\n  </thead>\n  <tbody>\n    <tr>\n      <th>0</th>\n      <td>I made a wire transfer through Citibank to XXX...</td>\n      <td>money transfers</td>\n    </tr>\n    <tr>\n      <th>1</th>\n      <td>I purchased a money order on XX/XX/2016 ( to c...</td>\n      <td>money transfers</td>\n    </tr>\n    <tr>\n      <th>2</th>\n      <td>I have complained of false online transfer num...</td>\n      <td>money transfers</td>\n    </tr>\n    <tr>\n      <th>3</th>\n      <td>I paid by bank wire transfer on XXXX/XXXX/XXXX...</td>\n      <td>money transfers</td>\n    </tr>\n    <tr>\n      <th>4</th>\n      <td>I found a XXXX Bulldog for sale on XXXX after ...</td>\n      <td>money transfers</td>\n    </tr>\n  </tbody>\n</table>\n</div>",
      "text/plain": "                                                text            label\n0  I made a wire transfer through Citibank to XXX...  money transfers\n1  I purchased a money order on XX/XX/2016 ( to c...  money transfers\n2  I have complained of false online transfer num...  money transfers\n3  I paid by bank wire transfer on XXXX/XXXX/XXXX...  money transfers\n4  I found a XXXX Bulldog for sale on XXXX after ...  money transfers"
     },
     "execution_count": 33,
     "metadata": {},
     "output_type": "execute_result"
    }
   ]
  },
  {
   "metadata": {
    "editable": false,
    "execution": {
     "iopub.execute_input": "2023-07-28T09:05:41.436827Z",
     "iopub.status.busy": "2023-07-28T09:05:41.436441Z",
     "iopub.status.idle": "2023-07-28T09:05:41.723586Z",
     "shell.execute_reply": "2023-07-28T09:05:41.722289Z"
    },
    "papermill": {
     "duration": 0.342848,
     "end_time": "2023-07-28T09:05:41.727671",
     "exception": false,
     "start_time": "2023-07-28T09:05:41.384823",
     "status": "completed"
    },
    "tags": [],
    "trusted": false
   },
   "id": "7af4b6e5",
   "cell_type": "code",
   "source": "from sklearn.model_selection import train_test_split as tts\n\ntrain_files,test_files, train_labels, test_labels = tts(df_data['text'],\n                                                        df_data['label'],\n                                                        test_size=0.1,\n                                                        random_state=32,\n                                                        stratify=df_data['label'])\n\ntrain_files = pd.DataFrame(train_files)\ntest_files = pd.DataFrame(test_files)\ntrain_files['label'] = train_labels\ntest_files['label'] = test_labels",
   "execution_count": 34,
   "outputs": []
  },
  {
   "metadata": {
    "editable": false,
    "execution": {
     "iopub.execute_input": "2023-07-28T09:05:41.889159Z",
     "iopub.status.busy": "2023-07-28T09:05:41.888635Z",
     "iopub.status.idle": "2023-07-28T09:05:41.899752Z",
     "shell.execute_reply": "2023-07-28T09:05:41.898560Z"
    },
    "papermill": {
     "duration": 0.095815,
     "end_time": "2023-07-28T09:05:41.902855",
     "exception": false,
     "start_time": "2023-07-28T09:05:41.807040",
     "status": "completed"
    },
    "tags": [],
    "trusted": false
   },
   "id": "1c4d0acb",
   "cell_type": "code",
   "source": "print(type(train_files))\nprint('Training Data',train_files.shape)\nprint('Validation Data',test_files.shape)",
   "execution_count": 35,
   "outputs": [
    {
     "name": "stdout",
     "output_type": "stream",
     "text": "<class 'pandas.core.frame.DataFrame'>\nTraining Data (26100, 2)\nValidation Data (2901, 2)\n"
    }
   ]
  },
  {
   "metadata": {
    "_kg_hide-input": true,
    "editable": false,
    "execution": {
     "iopub.execute_input": "2023-07-28T09:05:42.028062Z",
     "iopub.status.busy": "2023-07-28T09:05:42.027655Z",
     "iopub.status.idle": "2023-07-28T09:05:42.326374Z",
     "shell.execute_reply": "2023-07-28T09:05:42.325163Z"
    },
    "papermill": {
     "duration": 0.358049,
     "end_time": "2023-07-28T09:05:42.329281",
     "exception": false,
     "start_time": "2023-07-28T09:05:41.971232",
     "status": "completed"
    },
    "tags": [],
    "trusted": false
   },
   "id": "1af1c553",
   "cell_type": "code",
   "source": "import plotly.express as px\n\ntrain_values = train_files['label'].value_counts()\ntest_values = test_files['label'].value_counts()\nvisual = pd.concat([train_values,test_values],axis=1)\nvisual = visual.T\nvisual.index = ['train','test']\n\nfig = px.bar(visual,template='plotly_white',\n       barmode='group',text_auto=True,height=300,\n       title='Train/Test Split Distribution')\n\nfig.show(\"png\")",
   "execution_count": 36,
   "outputs": [
    {
     "data": {
      "image/png": "[encoded data removed]"
     },
     "metadata": {},
     "output_type": "display_data"
    }
   ]
  },
  {
   "metadata": {
    "papermill": {
     "duration": 0.050864,
     "end_time": "2023-07-28T09:05:42.429944",
     "exception": false,
     "start_time": "2023-07-28T09:05:42.379080",
     "status": "completed"
    },
    "tags": []
   },
   "id": "417463c8",
   "cell_type": "markdown",
   "source": "![](https://i.imgur.com/F3MTDMN.jpg)\n\n## <div style=\"padding: 30px;color:white;margin:10;font-size:60%;text-align:left;display:fill;border-radius:10px;background-color:#FFFFFF;overflow:hidden;background-color:#3b3745\"><b><span style='color:#F1A424'>7 |</span></b> <b>LINEAR BASELINE MODEL</b></div>\n\nIn order to create a baseline model, let's extract the hidden state data from `DistilBERT` and use it as features for our linear model\n\n### <b><span style='color:#F1A424;text-align:center'>GENERATING DATASET</span></b>\n\n- We have a daframe containing **text** & **label** data for both training & validation datasets\n- We'll use HF's more intuitive to use `Dataset` class (which allows us to convert between types very easily)"
  },
  {
   "metadata": {
    "execution": {
     "iopub.execute_input": "2023-07-28T09:05:42.532043Z",
     "iopub.status.busy": "2023-07-28T09:05:42.531605Z",
     "iopub.status.idle": "2023-07-28T09:05:42.547038Z",
     "shell.execute_reply": "2023-07-28T09:05:42.545964Z"
    },
    "papermill": {
     "duration": 0.07003,
     "end_time": "2023-07-28T09:05:42.549757",
     "exception": false,
     "start_time": "2023-07-28T09:05:42.479727",
     "status": "completed"
    },
    "tags": [],
    "trusted": false
   },
   "id": "0d1f7ad5",
   "cell_type": "code",
   "source": "train_files",
   "execution_count": 37,
   "outputs": [
    {
     "data": {
      "text/html": "<div>\n<style scoped>\n    .dataframe tbody tr th:only-of-type {\n        vertical-align: middle;\n    }\n\n    .dataframe tbody tr th {\n        vertical-align: top;\n    }\n\n    .dataframe thead th {\n        text-align: right;\n    }\n</style>\n<table border=\"1\" class=\"dataframe\">\n  <thead>\n    <tr style=\"text-align: right;\">\n      <th></th>\n      <th>text</th>\n      <th>label</th>\n    </tr>\n  </thead>\n  <tbody>\n    <tr>\n      <th>8290</th>\n      <td>I paid off all of my bills and should not have...</td>\n      <td>debt collection</td>\n    </tr>\n    <tr>\n      <th>1520</th>\n      <td>Several checks were issued from XXXX for possi...</td>\n      <td>other financial service</td>\n    </tr>\n    <tr>\n      <th>23071</th>\n      <td>In XXXX, we my husband and myself took out a l...</td>\n      <td>student loan</td>\n    </tr>\n    <tr>\n      <th>4123</th>\n      <td>I use an Amex Serve card ( a prepaid debit car...</td>\n      <td>prepaid card</td>\n    </tr>\n    <tr>\n      <th>16470</th>\n      <td>Despite YEARS of stellar credit reports and sc...</td>\n      <td>credit reporting</td>\n    </tr>\n    <tr>\n      <th>...</th>\n      <td>...</td>\n      <td>...</td>\n    </tr>\n    <tr>\n      <th>21733</th>\n      <td>I know that I am victim of student loan scam. ...</td>\n      <td>student loan</td>\n    </tr>\n    <tr>\n      <th>27578</th>\n      <td>On XX/XX/XXXX I made a payment of {$380.00} to...</td>\n      <td>bank account or service</td>\n    </tr>\n    <tr>\n      <th>26297</th>\n      <td>XXXX XXXX XXXX XXXX XXXX, AZ XXXX : ( XXXX ) X...</td>\n      <td>bank account or service</td>\n    </tr>\n    <tr>\n      <th>17867</th>\n      <td>After nearly a decade of business with Bank of...</td>\n      <td>credit card</td>\n    </tr>\n    <tr>\n      <th>144</th>\n      <td>On XXXX XXXX, 2015, I made a purchase on EBay....</td>\n      <td>money transfers</td>\n    </tr>\n  </tbody>\n</table>\n<p>26100 rows × 2 columns</p>\n</div>",
      "text/plain": "                                                    text  \\\n8290   I paid off all of my bills and should not have...   \n1520   Several checks were issued from XXXX for possi...   \n23071  In XXXX, we my husband and myself took out a l...   \n4123   I use an Amex Serve card ( a prepaid debit car...   \n16470  Despite YEARS of stellar credit reports and sc...   \n...                                                  ...   \n21733  I know that I am victim of student loan scam. ...   \n27578  On XX/XX/XXXX I made a payment of {$380.00} to...   \n26297  XXXX XXXX XXXX XXXX XXXX, AZ XXXX : ( XXXX ) X...   \n17867  After nearly a decade of business with Bank of...   \n144    On XXXX XXXX, 2015, I made a purchase on EBay....   \n\n                         label  \n8290           debt collection  \n1520   other financial service  \n23071             student loan  \n4123              prepaid card  \n16470         credit reporting  \n...                        ...  \n21733             student loan  \n27578  bank account or service  \n26297  bank account or service  \n17867              credit card  \n144            money transfers  \n\n[26100 rows x 2 columns]"
     },
     "execution_count": 37,
     "metadata": {},
     "output_type": "execute_result"
    }
   ]
  },
  {
   "metadata": {
    "execution": {
     "iopub.execute_input": "2023-07-28T09:05:42.652775Z",
     "iopub.status.busy": "2023-07-28T09:05:42.651697Z",
     "iopub.status.idle": "2023-07-28T09:05:44.218131Z",
     "shell.execute_reply": "2023-07-28T09:05:44.217082Z"
    },
    "papermill": {
     "duration": 1.620812,
     "end_time": "2023-07-28T09:05:44.220577",
     "exception": false,
     "start_time": "2023-07-28T09:05:42.599765",
     "status": "completed"
    },
    "tags": [],
    "trusted": false
   },
   "id": "a47f271f",
   "cell_type": "code",
   "source": "import transformers\ntransformers.logging.set_verbosity_error()\nimport warnings; warnings.filterwarnings('ignore')\nimport os; os.environ['WANDB_DISABLED'] = 'true'\nfrom datasets import Dataset,Features,Value,ClassLabel, DatasetDict \n\ntraindts = Dataset.from_pandas(train_files)\ntraindts = traindts.class_encode_column(\"label\")\ntestdts = Dataset.from_pandas(test_files)\ntestdts = testdts.class_encode_column(\"label\")",
   "execution_count": 38,
   "outputs": [
    {
     "data": {
      "application/vnd.jupyter.widget-view+json": {
       "model_id": "4eeda1c7ca8040f985073dfadafa411d",
       "version_major": 2,
       "version_minor": 0
      },
      "text/plain": "Casting to class labels:   0%|          | 0/27 [00:00<?, ?ba/s]"
     },
     "metadata": {},
     "output_type": "display_data"
    },
    {
     "data": {
      "application/vnd.jupyter.widget-view+json": {
       "model_id": "602b7a0864fe4b24b0f02bc63aaa5e54",
       "version_major": 2,
       "version_minor": 0
      },
      "text/plain": "Casting the dataset:   0%|          | 0/3 [00:00<?, ?ba/s]"
     },
     "metadata": {},
     "output_type": "display_data"
    },
    {
     "data": {
      "application/vnd.jupyter.widget-view+json": {
       "model_id": "6c77964e0c1a4024869f2c662a01ac90",
       "version_major": 2,
       "version_minor": 0
      },
      "text/plain": "Casting to class labels:   0%|          | 0/3 [00:00<?, ?ba/s]"
     },
     "metadata": {},
     "output_type": "display_data"
    },
    {
     "data": {
      "application/vnd.jupyter.widget-view+json": {
       "model_id": "d27b636f2bd344c9bc94182e32b20e74",
       "version_major": 2,
       "version_minor": 0
      },
      "text/plain": "Casting the dataset:   0%|          | 0/1 [00:00<?, ?ba/s]"
     },
     "metadata": {},
     "output_type": "display_data"
    }
   ]
  },
  {
   "metadata": {
    "execution": {
     "iopub.execute_input": "2023-07-28T09:05:44.326938Z",
     "iopub.status.busy": "2023-07-28T09:05:44.324540Z",
     "iopub.status.idle": "2023-07-28T09:05:44.334610Z",
     "shell.execute_reply": "2023-07-28T09:05:44.333375Z"
    },
    "papermill": {
     "duration": 0.064739,
     "end_time": "2023-07-28T09:05:44.336994",
     "exception": false,
     "start_time": "2023-07-28T09:05:44.272255",
     "status": "completed"
    },
    "tags": [],
    "trusted": false
   },
   "id": "468f3835",
   "cell_type": "code",
   "source": "# Pandas indicies not reset ie. __index_level_0__ additional column is added, resetting index\ncorpus = DatasetDict({\"train\" : traindts , \n                      \"validation\" : testdts })\ncorpus['train']",
   "execution_count": 39,
   "outputs": [
    {
     "data": {
      "text/plain": "Dataset({\n    features: ['text', 'label', '__index_level_0__'],\n    num_rows: 26100\n})"
     },
     "execution_count": 39,
     "metadata": {},
     "output_type": "execute_result"
    }
   ]
  },
  {
   "metadata": {
    "papermill": {
     "duration": 0.089473,
     "end_time": "2023-07-28T09:05:44.493420",
     "exception": false,
     "start_time": "2023-07-28T09:05:44.403947",
     "status": "completed"
    },
    "tags": []
   },
   "id": "4c9d1435",
   "cell_type": "markdown",
   "source": "### <b><span style='color:#F1A424;text-align:center'>TOKENISATION</span></b>\n\n- Time to tokenise the **text** data\n- We'll be using the `AutoTokenizer` class from a pretrained model `distilbert-base-uncased` in order to generate **subword** tokens"
  },
  {
   "metadata": {
    "editable": false,
    "execution": {
     "iopub.execute_input": "2023-07-28T09:05:44.649153Z",
     "iopub.status.busy": "2023-07-28T09:05:44.648605Z",
     "iopub.status.idle": "2023-07-28T09:06:18.641535Z",
     "shell.execute_reply": "2023-07-28T09:06:18.640004Z"
    },
    "papermill": {
     "duration": 34.072922,
     "end_time": "2023-07-28T09:06:18.643869",
     "exception": false,
     "start_time": "2023-07-28T09:05:44.570947",
     "status": "completed"
    },
    "tags": [],
    "trusted": false
   },
   "id": "5081195b",
   "cell_type": "code",
   "source": "from transformers import AutoTokenizer\n\n# Load parameters of the tokeniser\nmodel_ckpt = \"distilbert-base-uncased\"\ntokenizer = AutoTokenizer.from_pretrained(model_ckpt)\n\n# Tokenisation function\ndef tokenise(batch):\n    return tokenizer(batch[\"text\"], \n                     padding=True, \n                     truncation=True)\n\n# apply to the entire dataset (train,test and validation dataset)\ncorpus_tokenised = corpus.map(tokenise, \n                              batched=True, \n                              batch_size=None)\n\nprint(corpus_tokenised[\"train\"].column_names)",
   "execution_count": 40,
   "outputs": [
    {
     "data": {
      "application/vnd.jupyter.widget-view+json": {
       "model_id": "87ac990b69e74c5a8a06071d3c76ae20",
       "version_major": 2,
       "version_minor": 0
      },
      "text/plain": "Downloading:   0%|          | 0.00/28.0 [00:00<?, ?B/s]"
     },
     "metadata": {},
     "output_type": "display_data"
    },
    {
     "data": {
      "application/vnd.jupyter.widget-view+json": {
       "model_id": "6fd22090ca6a4560acfe79094770a33c",
       "version_major": 2,
       "version_minor": 0
      },
      "text/plain": "Downloading:   0%|          | 0.00/483 [00:00<?, ?B/s]"
     },
     "metadata": {},
     "output_type": "display_data"
    },
    {
     "data": {
      "application/vnd.jupyter.widget-view+json": {
       "model_id": "8a3b5077e9ee43c1be0c43a633eaca3d",
       "version_major": 2,
       "version_minor": 0
      },
      "text/plain": "Downloading:   0%|          | 0.00/226k [00:00<?, ?B/s]"
     },
     "metadata": {},
     "output_type": "display_data"
    },
    {
     "data": {
      "application/vnd.jupyter.widget-view+json": {
       "model_id": "45664bee2a5a45ca98f408dd506e0139",
       "version_major": 2,
       "version_minor": 0
      },
      "text/plain": "Downloading:   0%|          | 0.00/455k [00:00<?, ?B/s]"
     },
     "metadata": {},
     "output_type": "display_data"
    },
    {
     "data": {
      "application/vnd.jupyter.widget-view+json": {
       "model_id": "1c371256e1074dc8923393e2c1c604be",
       "version_major": 2,
       "version_minor": 0
      },
      "text/plain": "  0%|          | 0/1 [00:00<?, ?ba/s]"
     },
     "metadata": {},
     "output_type": "display_data"
    },
    {
     "data": {
      "application/vnd.jupyter.widget-view+json": {
       "model_id": "aa44423a661f472d8a1d27f415b4ad47",
       "version_major": 2,
       "version_minor": 0
      },
      "text/plain": "  0%|          | 0/1 [00:00<?, ?ba/s]"
     },
     "metadata": {},
     "output_type": "display_data"
    },
    {
     "name": "stdout",
     "output_type": "stream",
     "text": "['text', 'label', '__index_level_0__', 'input_ids', 'attention_mask']\n"
    }
   ]
  },
  {
   "metadata": {
    "papermill": {
     "duration": 0.049959,
     "end_time": "2023-07-28T09:06:18.745252",
     "exception": false,
     "start_time": "2023-07-28T09:06:18.695293",
     "status": "completed"
    },
    "tags": []
   },
   "id": "b8114a97",
   "cell_type": "markdown",
   "source": "### <b><span style='color:#F1A424;text-align:center'>LOADING PRESET MODEL</span></b>\n\nHuggingFace allows us to load a variety of pretrained models:\n- Let's utlilise the **<span style='color:#F1A424'>[distilbert-base-uncased](https://huggingface.co/distilbert-base-uncased)</span>** model\n    \n    \nThe model was trained to predict **[mask] values**\n- Given an input sequence (the above link shows an example)\n    \n    \nLet's use it to extract the **<span style='color:#F1A424'>last hidden state</span>** of each input sequence\n- Use it to train a more tradition machine learning model (baseline **<span style='color:#F1A424'>M1</span>** model)"
  },
  {
   "metadata": {
    "editable": false,
    "execution": {
     "iopub.execute_input": "2023-07-28T09:06:18.849688Z",
     "iopub.status.busy": "2023-07-28T09:06:18.848688Z",
     "iopub.status.idle": "2023-07-28T09:06:34.991734Z",
     "shell.execute_reply": "2023-07-28T09:06:34.990362Z"
    },
    "papermill": {
     "duration": 16.199116,
     "end_time": "2023-07-28T09:06:34.994805",
     "exception": false,
     "start_time": "2023-07-28T09:06:18.795689",
     "status": "completed"
    },
    "tags": [],
    "trusted": false
   },
   "id": "123522a5",
   "cell_type": "code",
   "source": "from transformers import AutoModel\nimport torch\n\n# load a pretrained transformer model\nmodel_ckpt = \"distilbert-base-uncased\"\ndevice = torch.device(\"cuda\" if torch.cuda.is_available() else \"cpu\")\nprint(device)\n\n# move model to device\nmodel = AutoModel.from_pretrained(model_ckpt).to(device)",
   "execution_count": 41,
   "outputs": [
    {
     "name": "stdout",
     "output_type": "stream",
     "text": "cuda\nhuggingface/tokenizers: The current process just got forked, after parallelism has already been used. Disabling parallelism to avoid deadlocks...\nTo disable this warning, you can either:\n\t- Avoid using `tokenizers` before the fork if possible\n\t- Explicitly set the environment variable TOKENIZERS_PARALLELISM=(true | false)\nhuggingface/tokenizers: The current process just got forked, after parallelism has already been used. Disabling parallelism to avoid deadlocks...\nTo disable this warning, you can either:\n\t- Avoid using `tokenizers` before the fork if possible\n\t- Explicitly set the environment variable TOKENIZERS_PARALLELISM=(true | false)\nhuggingface/tokenizers: The current process just got forked, after parallelism has already been used. Disabling parallelism to avoid deadlocks...\nTo disable this warning, you can either:\n\t- Avoid using `tokenizers` before the fork if possible\n\t- Explicitly set the environment variable TOKENIZERS_PARALLELISM=(true | false)\n"
    },
    {
     "data": {
      "application/vnd.jupyter.widget-view+json": {
       "model_id": "e7c07b8171d949828ea946491c69f5e8",
       "version_major": 2,
       "version_minor": 0
      },
      "text/plain": "Downloading:   0%|          | 0.00/256M [00:00<?, ?B/s]"
     },
     "metadata": {},
     "output_type": "display_data"
    }
   ]
  },
  {
   "metadata": {
    "papermill": {
     "duration": 0.05502,
     "end_time": "2023-07-28T09:06:35.103918",
     "exception": false,
     "start_time": "2023-07-28T09:06:35.048898",
     "status": "completed"
    },
    "tags": []
   },
   "id": "7c25c6aa",
   "cell_type": "markdown",
   "source": "### <b><span style='color:#F1A424;text-align:center'>EXTRACT MODEL HIDDEN STATE</span></b>\n\n- For each tokenised input `text`, we can utilise the loaded model & extract the last hidden state that can be used as features for machine learning models\n- The same strategy was applied in notebook **[Twitter Emotion Classification](https://www.kaggle.com/code/shtrausslearning/twitter-emotion-classification#5-|-Training-a-Text-Classifier)**"
  },
  {
   "metadata": {
    "editable": false,
    "execution": {
     "iopub.execute_input": "2023-07-28T09:06:35.221418Z",
     "iopub.status.busy": "2023-07-28T09:06:35.218782Z",
     "iopub.status.idle": "2023-07-28T09:06:35.229065Z",
     "shell.execute_reply": "2023-07-28T09:06:35.227594Z"
    },
    "papermill": {
     "duration": 0.071054,
     "end_time": "2023-07-28T09:06:35.231797",
     "exception": false,
     "start_time": "2023-07-28T09:06:35.160743",
     "status": "completed"
    },
    "tags": [],
    "trusted": false
   },
   "id": "dceb2989",
   "cell_type": "code",
   "source": "# Function used to store last_hidden_state data of distilbert-base-uncased\ndef extract_hidden_states(batch):\n    \n    # Place model inputs on the GPU\n    inputs = {k:v.to(device) for k,v in batch.items()\n              if k in tokenizer.model_input_names}\n    \n    # Extract last hidden states\n    with torch.no_grad():\n        last_hidden_state = model(**inputs).last_hidden_state\n        \n    # Return vector for [CLS] token\n    return {\"hidden_state\": last_hidden_state[:,0].cpu().numpy()}",
   "execution_count": 42,
   "outputs": []
  },
  {
   "metadata": {
    "papermill": {
     "duration": 0.053529,
     "end_time": "2023-07-28T09:06:35.340384",
     "exception": false,
     "start_time": "2023-07-28T09:06:35.286855",
     "status": "completed"
    },
    "tags": []
   },
   "id": "894ca0cc",
   "cell_type": "markdown",
   "source": "### <b><span style='color:#F1A424;text-align:center'>TO TENSORS</span></b>\n\nBefore training using the `pytorch` model, we need to set the corresponding format using `set_format`"
  },
  {
   "metadata": {
    "editable": false,
    "execution": {
     "iopub.execute_input": "2023-07-28T09:06:35.450002Z",
     "iopub.status.busy": "2023-07-28T09:06:35.449549Z",
     "iopub.status.idle": "2023-07-28T09:06:35.460121Z",
     "shell.execute_reply": "2023-07-28T09:06:35.458901Z"
    },
    "papermill": {
     "duration": 0.068661,
     "end_time": "2023-07-28T09:06:35.462651",
     "exception": false,
     "start_time": "2023-07-28T09:06:35.393990",
     "status": "completed"
    },
    "tags": [],
    "trusted": false
   },
   "id": "e41eee80",
   "cell_type": "code",
   "source": "# Change Data to Torch tensor\ncorpus_tokenised.set_format(\"torch\",\n                            columns=[\"input_ids\", \"attention_mask\", \"label\"])\ncorpus_tokenised",
   "execution_count": 43,
   "outputs": [
    {
     "data": {
      "text/plain": "DatasetDict({\n    train: Dataset({\n        features: ['text', 'label', '__index_level_0__', 'input_ids', 'attention_mask'],\n        num_rows: 26100\n    })\n    validation: Dataset({\n        features: ['text', 'label', '__index_level_0__', 'input_ids', 'attention_mask'],\n        num_rows: 2901\n    })\n})"
     },
     "execution_count": 43,
     "metadata": {},
     "output_type": "execute_result"
    }
   ]
  },
  {
   "metadata": {
    "papermill": {
     "duration": 0.05426,
     "end_time": "2023-07-28T09:06:35.571518",
     "exception": false,
     "start_time": "2023-07-28T09:06:35.517258",
     "status": "completed"
    },
    "tags": []
   },
   "id": "03259053",
   "cell_type": "markdown",
   "source": "### <b><span style='color:#F1A424;text-align:center'>INFERENCE & EXTRACT HIDDEN STATE</span></b>\n\nUisng `map` we can apply the function `extract_hidden_states` to both **training** & **validation** datasets"
  },
  {
   "metadata": {
    "editable": false,
    "execution": {
     "iopub.execute_input": "2023-07-28T09:06:35.683730Z",
     "iopub.status.busy": "2023-07-28T09:06:35.682533Z",
     "iopub.status.idle": "2023-07-28T09:10:58.578088Z",
     "shell.execute_reply": "2023-07-28T09:10:58.576672Z"
    },
    "papermill": {
     "duration": 262.954764,
     "end_time": "2023-07-28T09:10:58.581247",
     "exception": false,
     "start_time": "2023-07-28T09:06:35.626483",
     "status": "completed"
    },
    "tags": [],
    "trusted": false
   },
   "id": "55fd25c3",
   "cell_type": "code",
   "source": "# Extract last hidden states (faster w/ GPU)\ncorpus_hidden = corpus_tokenised.map(extract_hidden_states, \n                                     batched=True,\n                                     batch_size=32)\ncorpus_hidden[\"train\"].column_names",
   "execution_count": 44,
   "outputs": [
    {
     "data": {
      "application/vnd.jupyter.widget-view+json": {
       "model_id": "cfd19f2b528342898e147723b0536ce9",
       "version_major": 2,
       "version_minor": 0
      },
      "text/plain": "  0%|          | 0/816 [00:00<?, ?ba/s]"
     },
     "metadata": {},
     "output_type": "display_data"
    },
    {
     "data": {
      "application/vnd.jupyter.widget-view+json": {
       "model_id": "9024cdb54647417796e0339cab3f710b",
       "version_major": 2,
       "version_minor": 0
      },
      "text/plain": "  0%|          | 0/91 [00:00<?, ?ba/s]"
     },
     "metadata": {},
     "output_type": "display_data"
    },
    {
     "data": {
      "text/plain": "['text',\n 'label',\n '__index_level_0__',\n 'input_ids',\n 'attention_mask',\n 'hidden_state']"
     },
     "execution_count": 44,
     "metadata": {},
     "output_type": "execute_result"
    }
   ]
  },
  {
   "metadata": {
    "editable": false,
    "execution": {
     "iopub.execute_input": "2023-07-28T09:10:58.694048Z",
     "iopub.status.busy": "2023-07-28T09:10:58.693588Z",
     "iopub.status.idle": "2023-07-28T09:10:58.720438Z",
     "shell.execute_reply": "2023-07-28T09:10:58.719197Z"
    },
    "papermill": {
     "duration": 0.085704,
     "end_time": "2023-07-28T09:10:58.723182",
     "exception": false,
     "start_time": "2023-07-28T09:10:58.637478",
     "status": "completed"
    },
    "tags": [],
    "trusted": false
   },
   "id": "a776241f",
   "cell_type": "code",
   "source": "# Empty cache\ntorch.cuda.empty_cache()",
   "execution_count": 45,
   "outputs": []
  },
  {
   "metadata": {
    "papermill": {
     "duration": 0.05466,
     "end_time": "2023-07-28T09:10:58.832230",
     "exception": false,
     "start_time": "2023-07-28T09:10:58.777570",
     "status": "completed"
    },
    "tags": []
   },
   "id": "f12800e6",
   "cell_type": "markdown",
   "source": "The extracted hidden state corpus `corpus_hidden` has been uploaded to **[dataset](https://www.kaggle.com/datasets/shtrausslearning/hiddenstatedata)**"
  },
  {
   "metadata": {
    "editable": false,
    "execution": {
     "iopub.execute_input": "2023-07-28T09:10:58.943428Z",
     "iopub.status.busy": "2023-07-28T09:10:58.941952Z",
     "iopub.status.idle": "2023-07-28T09:11:00.174363Z",
     "shell.execute_reply": "2023-07-28T09:11:00.173113Z"
    },
    "papermill": {
     "duration": 1.29114,
     "end_time": "2023-07-28T09:11:00.177458",
     "exception": false,
     "start_time": "2023-07-28T09:10:58.886318",
     "status": "completed"
    },
    "tags": [],
    "trusted": false
   },
   "id": "e629f9c1",
   "cell_type": "code",
   "source": "# Save our data\ncorpus_hidden.set_format(type=\"pandas\")\n\n# Add label data to dataframe\ndef label_int2str(row):\n    return corpus[\"train\"].features[\"label\"].int2str(row)\n\nldf = corpus_hidden[\"train\"][:]\nldf[\"label_name\"] = ldf[\"label\"].apply(label_int2str)\nldf.to_pickle('training.df')\n\nldf = corpus_hidden[\"validation\"][:]\nldf[\"label_name\"] = ldf[\"label\"].apply(label_int2str)\nldf.to_pickle('validation.df')",
   "execution_count": 46,
   "outputs": []
  },
  {
   "metadata": {
    "editable": false,
    "execution": {
     "iopub.execute_input": "2023-07-28T09:11:00.289753Z",
     "iopub.status.busy": "2023-07-28T09:11:00.289338Z",
     "iopub.status.idle": "2023-07-28T09:11:01.459292Z",
     "shell.execute_reply": "2023-07-28T09:11:01.457810Z"
    },
    "papermill": {
     "duration": 1.230109,
     "end_time": "2023-07-28T09:11:01.462367",
     "exception": false,
     "start_time": "2023-07-28T09:11:00.232258",
     "status": "completed"
    },
    "tags": [],
    "trusted": false
   },
   "id": "f6a625a9",
   "cell_type": "code",
   "source": "!ls /kaggle/working/\n# !ls /kaggle/input/hiddenstatedata/",
   "execution_count": 47,
   "outputs": [
    {
     "name": "stdout",
     "output_type": "stream",
     "text": "huggingface/tokenizers: The current process just got forked, after parallelism has already been used. Disabling parallelism to avoid deadlocks...\nTo disable this warning, you can either:\n\t- Avoid using `tokenizers` before the fork if possible\n\t- Explicitly set the environment variable TOKENIZERS_PARALLELISM=(true | false)\n__notebook__.ipynb  training.df  validation.df\r\n"
    }
   ]
  },
  {
   "metadata": {
    "papermill": {
     "duration": 0.063137,
     "end_time": "2023-07-28T09:11:01.579382",
     "exception": false,
     "start_time": "2023-07-28T09:11:01.516245",
     "status": "completed"
    },
    "tags": []
   },
   "id": "61d90534",
   "cell_type": "markdown",
   "source": "### <b><span style='color:#F1A424;text-align:center'>DEFINING HIDDEN STATE DATASET</span></b>\n\n- Having extracted the last hidden state data from model **distilbert-base-uncased**, let's define the training data\n- The process is quite long so we'll load the data saved in the last section from **training.csv** & **validation.csv**"
  },
  {
   "metadata": {
    "editable": false,
    "execution": {
     "iopub.execute_input": "2023-07-28T09:11:01.690046Z",
     "iopub.status.busy": "2023-07-28T09:11:01.689587Z",
     "iopub.status.idle": "2023-07-28T09:11:02.131984Z",
     "shell.execute_reply": "2023-07-28T09:11:02.130797Z"
    },
    "papermill": {
     "duration": 0.50165,
     "end_time": "2023-07-28T09:11:02.135045",
     "exception": false,
     "start_time": "2023-07-28T09:11:01.633395",
     "status": "completed"
    },
    "tags": [],
    "trusted": false
   },
   "id": "48d22707",
   "cell_type": "code",
   "source": "# reload saved data\nimport pandas as pd\nimport pickle\n\n# Load hidden state data\n# training = pd.read_pickle('/kaggle/input/hiddenstatedata/training.df')\n# validation = pd.read_pickle('/kaggle/input/hiddenstatedata/validation.df')\ntraining = pd.read_pickle('training.df')\nvalidation = pd.read_pickle('validation.df')\ntraining.head()\n\nlabels = training[['label','label_name']]",
   "execution_count": 48,
   "outputs": []
  },
  {
   "metadata": {
    "editable": false,
    "execution": {
     "iopub.execute_input": "2023-07-28T09:11:02.248932Z",
     "iopub.status.busy": "2023-07-28T09:11:02.248501Z",
     "iopub.status.idle": "2023-07-28T09:11:02.271312Z",
     "shell.execute_reply": "2023-07-28T09:11:02.269962Z"
    },
    "papermill": {
     "duration": 0.084249,
     "end_time": "2023-07-28T09:11:02.274452",
     "exception": false,
     "start_time": "2023-07-28T09:11:02.190203",
     "status": "completed"
    },
    "tags": [],
    "trusted": false
   },
   "id": "206817ee",
   "cell_type": "code",
   "source": "label = []\nfor i in labels.label.unique():\n    label.append(labels[labels['label'] == i].iloc[[0]]['label_name'].values[0])\n    \nlabel",
   "execution_count": 49,
   "outputs": [
    {
     "data": {
      "text/plain": "['debt collection',\n 'other financial service',\n 'student loan',\n 'prepaid card',\n 'credit reporting',\n 'mortgage',\n 'payday loan',\n 'credit card',\n 'bank account or service',\n 'money transfers',\n 'virtual currency']"
     },
     "execution_count": 49,
     "metadata": {},
     "output_type": "execute_result"
    }
   ]
  },
  {
   "metadata": {
    "editable": false,
    "execution": {
     "iopub.execute_input": "2023-07-28T09:11:02.388320Z",
     "iopub.status.busy": "2023-07-28T09:11:02.386268Z",
     "iopub.status.idle": "2023-07-28T09:11:02.479129Z",
     "shell.execute_reply": "2023-07-28T09:11:02.477889Z"
    },
    "papermill": {
     "duration": 0.1518,
     "end_time": "2023-07-28T09:11:02.481970",
     "exception": false,
     "start_time": "2023-07-28T09:11:02.330170",
     "status": "completed"
    },
    "tags": [],
    "trusted": false
   },
   "id": "6bf5dce5",
   "cell_type": "code",
   "source": "# # Define our training & validation datasets\n\nimport numpy as np\nX_train = np.stack(training['hidden_state'])\nX_valid = np.stack(validation[\"hidden_state\"])\ny_train = np.array(training[\"label\"])\ny_valid = np.array(validation[\"label\"])\nprint(f'Training Dataset: {X_train.shape}')\nprint(f'Validation Dataset {X_valid.shape}')",
   "execution_count": 50,
   "outputs": [
    {
     "name": "stdout",
     "output_type": "stream",
     "text": "Training Dataset: (26100, 768)\nValidation Dataset (2901, 768)\n"
    }
   ]
  },
  {
   "metadata": {
    "papermill": {
     "duration": 0.054625,
     "end_time": "2023-07-28T09:11:02.593861",
     "exception": false,
     "start_time": "2023-07-28T09:11:02.539236",
     "status": "completed"
    },
    "tags": []
   },
   "id": "84475cc8",
   "cell_type": "markdown",
   "source": "### <b><span style='color:#F1A424;text-align:center'>TRAIN MODEL</span></b>\n\nLet's start with something quite simplistic, `LogisticRegression` often work quite well"
  },
  {
   "metadata": {
    "execution": {
     "iopub.execute_input": "2023-07-28T09:11:02.704784Z",
     "iopub.status.busy": "2023-07-28T09:11:02.703938Z",
     "iopub.status.idle": "2023-07-28T09:16:08.274902Z",
     "shell.execute_reply": "2023-07-28T09:16:08.273658Z"
    },
    "papermill": {
     "duration": 305.750605,
     "end_time": "2023-07-28T09:16:08.398267",
     "exception": false,
     "start_time": "2023-07-28T09:11:02.647662",
     "status": "completed"
    },
    "tags": [],
    "trusted": false
   },
   "id": "55e3beae",
   "cell_type": "code",
   "source": "%%time\n\nfrom sklearn.linear_model import LogisticRegression as LR\n\n# We increase `max_iter` to guarantee convergence\nlr_clf = LR(max_iter = 2000)\nlr_clf.fit(X_train, y_train)",
   "execution_count": 51,
   "outputs": [
    {
     "name": "stdout",
     "output_type": "stream",
     "text": "CPU times: user 8min 59s, sys: 39.2 s, total: 9min 38s\nWall time: 5min 5s\n"
    },
    {
     "data": {
      "text/plain": "LogisticRegression(max_iter=2000)"
     },
     "execution_count": 51,
     "metadata": {},
     "output_type": "execute_result"
    }
   ]
  },
  {
   "metadata": {
    "editable": false,
    "execution": {
     "iopub.execute_input": "2023-07-28T09:16:08.581991Z",
     "iopub.status.busy": "2023-07-28T09:16:08.581560Z",
     "iopub.status.idle": "2023-07-28T09:16:08.926649Z",
     "shell.execute_reply": "2023-07-28T09:16:08.925087Z"
    },
    "papermill": {
     "duration": 0.408468,
     "end_time": "2023-07-28T09:16:08.931376",
     "exception": false,
     "start_time": "2023-07-28T09:16:08.522908",
     "status": "completed"
    },
    "tags": [],
    "trusted": false
   },
   "id": "01da5e9e",
   "cell_type": "code",
   "source": "# Predictions\ny_preds_train = lr_clf.predict(X_train)\ny_preds_valid = lr_clf.predict(X_valid)\nprint('LogisticRegression:')\nprint(f'training accuracy: {round(lr_clf.score(X_train, y_train),3)}')\nprint(f'validation accuracy: {round(lr_clf.score(X_valid, y_valid),3)}')",
   "execution_count": 52,
   "outputs": [
    {
     "name": "stdout",
     "output_type": "stream",
     "text": "LogisticRegression:\ntraining accuracy: 0.807\nvalidation accuracy: 0.772\n"
    }
   ]
  },
  {
   "metadata": {
    "editable": false,
    "execution": {
     "iopub.execute_input": "2023-07-28T09:16:09.107689Z",
     "iopub.status.busy": "2023-07-28T09:16:09.107251Z",
     "iopub.status.idle": "2023-07-28T09:16:09.119430Z",
     "shell.execute_reply": "2023-07-28T09:16:09.118235Z"
    },
    "papermill": {
     "duration": 0.070654,
     "end_time": "2023-07-28T09:16:09.121985",
     "exception": false,
     "start_time": "2023-07-28T09:16:09.051331",
     "status": "completed"
    },
    "tags": [],
    "trusted": false
   },
   "id": "5cad053f",
   "cell_type": "code",
   "source": "# save sklearn model\nimport joblib\n\nfilename = 'classifier.joblib.pkl'\n_ = joblib.dump(lr_clf, filename, compress=9)\n\n# load sklearn model\n# lr_clf = joblib.load('/kaggle/input/hiddenstatedata/' + filename)\n# lr_clf",
   "execution_count": 53,
   "outputs": []
  },
  {
   "metadata": {
    "_kg_hide-input": true,
    "editable": false,
    "execution": {
     "iopub.execute_input": "2023-07-28T09:16:09.236135Z",
     "iopub.status.busy": "2023-07-28T09:16:09.235688Z",
     "iopub.status.idle": "2023-07-28T09:16:09.245785Z",
     "shell.execute_reply": "2023-07-28T09:16:09.244552Z"
    },
    "papermill": {
     "duration": 0.07029,
     "end_time": "2023-07-28T09:16:09.248432",
     "exception": false,
     "start_time": "2023-07-28T09:16:09.178142",
     "status": "completed"
    },
    "tags": [],
    "trusted": false
   },
   "id": "fd99ba11",
   "cell_type": "code",
   "source": "import matplotlib.pyplot as plt\nfrom sklearn.metrics import ConfusionMatrixDisplay, confusion_matrix\n\ndef plot_confusion_matrix(y_model, y_true, labels):\n    cm = confusion_matrix(y_true,y_model,normalize='true')\n    fig, ax = plt.subplots(figsize=(8,8))\n    disp = ConfusionMatrixDisplay(confusion_matrix=cm.round(2).copy(), display_labels=labels)\n    disp.plot(ax=ax, colorbar=False)\n    plt.title(\"Confusion matrix\")\n    plt.xticks(rotation = 90) # Rotates X-Axis Ticks by 45-degrees\n    plt.tight_layout()\n    plt.show()",
   "execution_count": 54,
   "outputs": []
  },
  {
   "metadata": {
    "editable": false,
    "execution": {
     "iopub.execute_input": "2023-07-28T09:16:09.364373Z",
     "iopub.status.busy": "2023-07-28T09:16:09.363215Z",
     "iopub.status.idle": "2023-07-28T09:16:10.327152Z",
     "shell.execute_reply": "2023-07-28T09:16:10.326063Z"
    },
    "papermill": {
     "duration": 1.025148,
     "end_time": "2023-07-28T09:16:10.330108",
     "exception": false,
     "start_time": "2023-07-28T09:16:09.304960",
     "status": "completed"
    },
    "tags": [],
    "trusted": false
   },
   "id": "c03faea6",
   "cell_type": "code",
   "source": "labels = list(training.label_name.value_counts().index)\n\n# Validation Dataset Confusion Matrix\nplot_confusion_matrix(y_preds_valid, y_valid, labels)",
   "execution_count": 55,
   "outputs": [
    {
     "data": {
      "image/png": "[encoded data removed]",
      "text/plain": "<Figure size 576x576 with 1 Axes>"
     },
     "metadata": {
      "needs_background": "light"
     },
     "output_type": "display_data"
    }
   ]
  },
  {
   "metadata": {
    "papermill": {
     "duration": 0.057245,
     "end_time": "2023-07-28T09:16:10.446209",
     "exception": false,
     "start_time": "2023-07-28T09:16:10.388964",
     "status": "completed"
    },
    "tags": []
   },
   "id": "f1fe6da4",
   "cell_type": "markdown",
   "source": "<div style=\" background-color:#3b3745; padding: 13px 13px; border-radius: 8px; color: white\">\n<ul>\n    <li>Compressed distilbert embedding features work quite well in this this problem</li>\n    <li>Looks like we have quite a good model to begin with, scoring a validation accuracy of 0.77</li>\n    <li>We can note that the model <b>payday loan</b> & <b>virtual currency</b> are very pooly predicted subsets</li>\n    <li><b>other financial services</b> is predicted quite well (which is surprising because for the transformer model, we have the opposite)\n</ul>\n</div>"
  },
  {
   "metadata": {
    "papermill": {
     "duration": 0.05797,
     "end_time": "2023-07-28T09:16:10.561959",
     "exception": false,
     "start_time": "2023-07-28T09:16:10.503989",
     "status": "completed"
    },
    "tags": []
   },
   "id": "8a1dd18d",
   "cell_type": "markdown",
   "source": "<p>\n\n## <div style=\"padding: 30px;color:white;margin:10;font-size:60%;text-align:left;display:fill;border-radius:10px;background-color:#FFFFFF;overflow:hidden;background-color:#3b3745\"><b><span style='color:#F1A424'>8 |</span></b> <b>FINE-TUNE DISTILBERT</b></div>\n\n- With the fine-tune approach, we do not use the **<mark style=\"background-color:#FFC300;color:white;border-radius:5px;opacity:0.7\">hidden states</mark>** as fixed features\n- Instead, we train them from a given model state\n- This requires the **<span style='color:#FFC300'>classification head</span>** to be differentiable (neural network for classification)"
  },
  {
   "metadata": {
    "papermill": {
     "duration": 0.057426,
     "end_time": "2023-07-28T09:16:10.677257",
     "exception": false,
     "start_time": "2023-07-28T09:16:10.619831",
     "status": "completed"
    },
    "tags": []
   },
   "id": "1df99c6a",
   "cell_type": "markdown",
   "source": "### <b><span style='color:#F1A424;text-align:center'>LOAD PRETRAINED MODEL</span></b>\n\n- We'll load the same **<mark style=\"background-color:#FFC300;color:white;border-radius:5px;opacity:0.7\">DistilBERT</mark>** model using `model_ckpt` **\"distilbert-base-uncased\"** \n- This time however we will be loading `AutoModelForSequenceClassification` (we used `AutoModel` when we extracted embedding features)\n- `AutoModelForSequenceClassification` model has a **<span style='color:#FFC300'>classification head</span>** on top of the pretrained model outputs\n- We only need to specify the **<span style='color:#FFC300'>number of labels</span>** the model has to predict `num_labels`"
  },
  {
   "metadata": {
    "execution": {
     "iopub.execute_input": "2023-07-28T09:16:10.799450Z",
     "iopub.status.busy": "2023-07-28T09:16:10.797567Z",
     "iopub.status.idle": "2023-07-28T09:16:10.804127Z",
     "shell.execute_reply": "2023-07-28T09:16:10.802949Z"
    },
    "papermill": {
     "duration": 0.068996,
     "end_time": "2023-07-28T09:16:10.806717",
     "exception": false,
     "start_time": "2023-07-28T09:16:10.737721",
     "status": "completed"
    },
    "tags": [],
    "trusted": false
   },
   "id": "8b0ab22e",
   "cell_type": "code",
   "source": "# Empty cache\ntorch.cuda.empty_cache()",
   "execution_count": 56,
   "outputs": []
  },
  {
   "metadata": {
    "execution": {
     "iopub.execute_input": "2023-07-28T09:16:10.927864Z",
     "iopub.status.busy": "2023-07-28T09:16:10.925620Z",
     "iopub.status.idle": "2023-07-28T09:16:10.936404Z",
     "shell.execute_reply": "2023-07-28T09:16:10.935189Z"
    },
    "papermill": {
     "duration": 0.073071,
     "end_time": "2023-07-28T09:16:10.938758",
     "exception": false,
     "start_time": "2023-07-28T09:16:10.865687",
     "status": "completed"
    },
    "tags": [],
    "trusted": false
   },
   "id": "11042aa5",
   "cell_type": "code",
   "source": "# Change Data to Torch tensor\ncorpus_tokenised.set_format(\"torch\",\n                            columns=[\"input_ids\", \"attention_mask\", \"label\"])\ncorpus_tokenised",
   "execution_count": 57,
   "outputs": [
    {
     "data": {
      "text/plain": "DatasetDict({\n    train: Dataset({\n        features: ['text', 'label', '__index_level_0__', 'input_ids', 'attention_mask'],\n        num_rows: 26100\n    })\n    validation: Dataset({\n        features: ['text', 'label', '__index_level_0__', 'input_ids', 'attention_mask'],\n        num_rows: 2901\n    })\n})"
     },
     "execution_count": 57,
     "metadata": {},
     "output_type": "execute_result"
    }
   ]
  },
  {
   "metadata": {
    "execution": {
     "iopub.execute_input": "2023-07-28T09:16:11.058470Z",
     "iopub.status.busy": "2023-07-28T09:16:11.057218Z",
     "iopub.status.idle": "2023-07-28T09:16:12.660452Z",
     "shell.execute_reply": "2023-07-28T09:16:12.659253Z"
    },
    "papermill": {
     "duration": 1.666462,
     "end_time": "2023-07-28T09:16:12.663692",
     "exception": false,
     "start_time": "2023-07-28T09:16:10.997230",
     "status": "completed"
    },
    "tags": [],
    "trusted": false
   },
   "id": "f74bad97",
   "cell_type": "code",
   "source": "from transformers import AutoModelForSequenceClassification\nimport torch\n\ndevice = torch.device(\"cuda\" if torch.cuda.is_available() else \"cpu\")\nmodel_ckpt = \"distilbert-base-uncased\"\n\nmodel = (AutoModelForSequenceClassification\n         .from_pretrained(model_ckpt, \n                          num_labels=len(labels))\n         .to(device))",
   "execution_count": 58,
   "outputs": []
  },
  {
   "metadata": {
    "papermill": {
     "duration": 0.059073,
     "end_time": "2023-07-28T09:16:12.781814",
     "exception": false,
     "start_time": "2023-07-28T09:16:12.722741",
     "status": "completed"
    },
    "tags": []
   },
   "id": "9f2d56b1",
   "cell_type": "markdown",
   "source": "### <b><span style='color:#F1A424;text-align:center'>EVALUATION METRICS</span></b>\n\nWe'll monitor the `F1 score`  & `accuracy`, the function is required to be passed in the `Trainer` class"
  },
  {
   "metadata": {
    "execution": {
     "iopub.execute_input": "2023-07-28T09:16:12.899712Z",
     "iopub.status.busy": "2023-07-28T09:16:12.899276Z",
     "iopub.status.idle": "2023-07-28T09:16:12.906628Z",
     "shell.execute_reply": "2023-07-28T09:16:12.905427Z"
    },
    "papermill": {
     "duration": 0.070392,
     "end_time": "2023-07-28T09:16:12.909281",
     "exception": false,
     "start_time": "2023-07-28T09:16:12.838889",
     "status": "completed"
    },
    "tags": [],
    "trusted": false
   },
   "id": "e22c5b8b",
   "cell_type": "code",
   "source": "from sklearn.metrics import accuracy_score, f1_score\n\ndef compute_metrics(pred):\n    labels = pred.label_ids\n    preds = pred.predictions.argmax(-1)\n    f1 = f1_score(labels, preds, average=\"weighted\")\n    acc = accuracy_score(labels, preds)\n    return {\"accuracy\": acc, \"f1\": f1}",
   "execution_count": 59,
   "outputs": []
  },
  {
   "metadata": {
    "papermill": {
     "duration": 0.057975,
     "end_time": "2023-07-28T09:16:13.025656",
     "exception": false,
     "start_time": "2023-07-28T09:16:12.967681",
     "status": "completed"
    },
    "tags": []
   },
   "id": "2f459805",
   "cell_type": "markdown",
   "source": "### <b><span style='color:#F1A424;text-align:center'>DEFINE TRAINER</span></b>\n\n- Next we need to define the model **training parameters**, which can be done using `TrainingArguments`\n- Let's train the **<mark style=\"background-color:#FFC300;color:white;border-radius:5px;opacity:0.7\">DistilBERT</mark>** model for **3 iterations** with a **learning rate of 2e-5** and a **batch size of 64**\n- The `Trainer` requires inputs of a model, model arguments, metrics, the datasets (train,validation) & the tokeniser"
  },
  {
   "metadata": {
    "execution": {
     "iopub.execute_input": "2023-07-28T09:16:13.143783Z",
     "iopub.status.busy": "2023-07-28T09:16:13.142646Z",
     "iopub.status.idle": "2023-07-28T09:16:18.016622Z",
     "shell.execute_reply": "2023-07-28T09:16:18.015431Z"
    },
    "papermill": {
     "duration": 4.935696,
     "end_time": "2023-07-28T09:16:18.019860",
     "exception": false,
     "start_time": "2023-07-28T09:16:13.084164",
     "status": "completed"
    },
    "tags": [],
    "trusted": false
   },
   "id": "fa120816",
   "cell_type": "code",
   "source": "from transformers import Trainer, TrainingArguments\nfrom transformers import Trainer\n\nbs = 16 # batch size\nmodel_name = f\"{model_ckpt}-finetuned-financial\"\nlabels = corpus_tokenised[\"train\"].features[\"label\"].names\n\n# Training Arguments\ntraining_args = TrainingArguments(output_dir=model_name,\n                                  num_train_epochs=3,             # number of training epochs\n                                  learning_rate=2e-5,             # model learning rate\n                                  per_device_train_batch_size=bs, # batch size\n                                  per_device_eval_batch_size=bs,  # batch size\n                                  weight_decay=0.01,\n                                  evaluation_strategy=\"epoch\",\n                                  disable_tqdm=False, \n                                  report_to=\"none\",\n                                  push_to_hub=False,\n                                  log_level=\"error\")\n\n\ntrainer = Trainer(model=model,                                 # Model\n                  args=training_args,                          # Training arguments (above)\n                  compute_metrics=compute_metrics,             # Computational Metrics\n                  train_dataset=corpus_tokenised[\"train\"],     # Training Dataset   \n                  eval_dataset=corpus_tokenised[\"validation\"], # Evaluation Dataset\n                  tokenizer=tokenizer)",
   "execution_count": 60,
   "outputs": []
  },
  {
   "metadata": {
    "papermill": {
     "duration": 0.056193,
     "end_time": "2023-07-28T09:16:20.406609",
     "exception": false,
     "start_time": "2023-07-28T09:16:20.350416",
     "status": "completed"
    },
    "tags": []
   },
   "id": "bd94d136",
   "cell_type": "markdown",
   "source": "### <b><span style='color:#F1A424;text-align:center'>TRAIN MODEL</span></b>\n\nLet's finally fine-tune our transform model to fit our classification problem "
  },
  {
   "metadata": {
    "execution": {
     "iopub.execute_input": "2023-07-28T09:16:20.523246Z",
     "iopub.status.busy": "2023-07-28T09:16:20.522816Z",
     "iopub.status.idle": "2023-07-28T09:53:41.808396Z",
     "shell.execute_reply": "2023-07-28T09:53:41.806821Z"
    },
    "papermill": {
     "duration": 2241.347798,
     "end_time": "2023-07-28T09:53:41.811432",
     "exception": false,
     "start_time": "2023-07-28T09:16:20.463634",
     "status": "completed"
    },
    "tags": [],
    "trusted": false
   },
   "id": "5ead4472",
   "cell_type": "code",
   "source": "%%time\n\n# Train & save model\ntrainer.train()\ntrainer.save_model()",
   "execution_count": 62,
   "outputs": [
    {
     "data": {
      "text/html": "\n    <div>\n      \n      <progress value='4896' max='4896' style='width:300px; height:20px; vertical-align: middle;'></progress>\n      [4896/4896 37:20, Epoch 3/3]\n    </div>\n    <table border=\"1\" class=\"dataframe\">\n  <thead>\n <tr style=\"text-align: left;\">\n      <th>Epoch</th>\n      <th>Training Loss</th>\n      <th>Validation Loss</th>\n      <th>Accuracy</th>\n      <th>F1</th>\n    </tr>\n  </thead>\n  <tbody>\n    <tr>\n      <td>1</td>\n      <td>0.535000</td>\n      <td>0.528666</td>\n      <td>0.842468</td>\n      <td>0.839433</td>\n    </tr>\n    <tr>\n      <td>2</td>\n      <td>0.410300</td>\n      <td>0.483131</td>\n      <td>0.858669</td>\n      <td>0.855979</td>\n    </tr>\n    <tr>\n      <td>3</td>\n      <td>0.312500</td>\n      <td>0.477747</td>\n      <td>0.866942</td>\n      <td>0.864213</td>\n    </tr>\n  </tbody>\n</table><p>",
      "text/plain": "<IPython.core.display.HTML object>"
     },
     "metadata": {},
     "output_type": "display_data"
    },
    {
     "name": "stdout",
     "output_type": "stream",
     "text": "CPU times: user 36min 55s, sys: 16.5 s, total: 37min 12s\nWall time: 37min 21s\n"
    }
   ]
  },
  {
   "metadata": {
    "execution": {
     "iopub.execute_input": "2023-07-28T09:53:41.935843Z",
     "iopub.status.busy": "2023-07-28T09:53:41.933578Z",
     "iopub.status.idle": "2023-07-28T09:53:41.939707Z",
     "shell.execute_reply": "2023-07-28T09:53:41.938675Z"
    },
    "papermill": {
     "duration": 0.073739,
     "end_time": "2023-07-28T09:53:41.942066",
     "exception": false,
     "start_time": "2023-07-28T09:53:41.868327",
     "status": "completed"
    },
    "tags": [],
    "trusted": false
   },
   "id": "539958af",
   "cell_type": "code",
   "source": "# from transformers import pipeline\n# load from previously saved model\n# classifier = pipeline(\"text-classification\", model=\"distilbert-base-uncased-finetuned-financial\")",
   "execution_count": 63,
   "outputs": []
  },
  {
   "metadata": {
    "papermill": {
     "duration": 0.055943,
     "end_time": "2023-07-28T09:53:42.054771",
     "exception": false,
     "start_time": "2023-07-28T09:53:41.998828",
     "status": "completed"
    },
    "tags": []
   },
   "id": "97a5a1c7",
   "cell_type": "markdown",
   "source": "### <b><span style='color:#F1A424;text-align:center'>INFERENCE</span></b>\n\nLet's utilise our fine-tuned transformer model for inference on the validation dataset"
  },
  {
   "metadata": {
    "execution": {
     "iopub.execute_input": "2023-07-28T09:53:42.170632Z",
     "iopub.status.busy": "2023-07-28T09:53:42.169534Z",
     "iopub.status.idle": "2023-07-28T09:54:09.138044Z",
     "shell.execute_reply": "2023-07-28T09:54:09.136818Z"
    },
    "papermill": {
     "duration": 27.029636,
     "end_time": "2023-07-28T09:54:09.140863",
     "exception": false,
     "start_time": "2023-07-28T09:53:42.111227",
     "status": "completed"
    },
    "tags": [],
    "trusted": false
   },
   "id": "af4a1bf3",
   "cell_type": "code",
   "source": "# Predict on Validation Dataset\npred_output = trainer.predict(corpus_tokenised[\"validation\"])\npred_output",
   "execution_count": 64,
   "outputs": [
    {
     "data": {
      "text/html": "\n    <div>\n      \n      <progress value='182' max='182' style='width:300px; height:20px; vertical-align: middle;'></progress>\n      [182/182 00:26]\n    </div>\n    ",
      "text/plain": "<IPython.core.display.HTML object>"
     },
     "metadata": {},
     "output_type": "display_data"
    },
    {
     "data": {
      "text/plain": "PredictionOutput(predictions=array([[ 0.4898075 , -1.1539025 , -2.4000468 , ...,  2.664791  ,\n        -1.7696137 , -1.85924   ],\n       [ 5.524978  ,  1.4433606 , -1.2144918 , ..., -2.0602236 ,\n        -2.2785227 , -3.1501598 ],\n       [-0.99464035,  1.410322  ,  5.1908035 , ..., -2.1883903 ,\n        -1.5084958 , -3.9436107 ],\n       ...,\n       [ 0.8029568 ,  2.751484  , -1.0246688 , ..., -2.6813054 ,\n         0.32632264, -3.8141603 ],\n       [ 0.27522528, -1.2025931 , -0.14139701, ..., -2.684458  ,\n        -1.0188793 , -3.16859   ],\n       [-0.17902231, -1.83018   , -0.8901656 , ..., -3.2526188 ,\n         0.6185259 , -3.5121055 ]], dtype=float32), label_ids=array([4, 1, 2, ..., 0, 5, 5]), metrics={'test_loss': 0.47774738073349, 'test_accuracy': 0.8669424336435712, 'test_f1': 0.8642125632561599, 'test_runtime': 26.9558, 'test_samples_per_second': 107.621, 'test_steps_per_second': 6.752})"
     },
     "execution_count": 64,
     "metadata": {},
     "output_type": "execute_result"
    }
   ]
  },
  {
   "metadata": {
    "execution": {
     "iopub.execute_input": "2023-07-28T09:54:09.259962Z",
     "iopub.status.busy": "2023-07-28T09:54:09.258744Z",
     "iopub.status.idle": "2023-07-28T09:54:09.267769Z",
     "shell.execute_reply": "2023-07-28T09:54:09.265873Z"
    },
    "papermill": {
     "duration": 0.072368,
     "end_time": "2023-07-28T09:54:09.270943",
     "exception": false,
     "start_time": "2023-07-28T09:54:09.198575",
     "status": "completed"
    },
    "tags": [],
    "trusted": false
   },
   "id": "a3e4fe88",
   "cell_type": "code",
   "source": "print(f'Output Predition: {pred_output.predictions.shape}')\nprint(pred_output.predictions)",
   "execution_count": 65,
   "outputs": [
    {
     "name": "stdout",
     "output_type": "stream",
     "text": "Output Predition: (2901, 11)\n[[ 0.4898075  -1.1539025  -2.4000468  ...  2.664791   -1.7696137\n  -1.85924   ]\n [ 5.524978    1.4433606  -1.2144918  ... -2.0602236  -2.2785227\n  -3.1501598 ]\n [-0.99464035  1.410322    5.1908035  ... -2.1883903  -1.5084958\n  -3.9436107 ]\n ...\n [ 0.8029568   2.751484   -1.0246688  ... -2.6813054   0.32632264\n  -3.8141603 ]\n [ 0.27522528 -1.2025931  -0.14139701 ... -2.684458   -1.0188793\n  -3.16859   ]\n [-0.17902231 -1.83018    -0.8901656  ... -3.2526188   0.6185259\n  -3.5121055 ]]\n"
    }
   ]
  },
  {
   "metadata": {
    "execution": {
     "iopub.execute_input": "2023-07-28T09:54:09.396229Z",
     "iopub.status.busy": "2023-07-28T09:54:09.395404Z",
     "iopub.status.idle": "2023-07-28T09:54:09.404104Z",
     "shell.execute_reply": "2023-07-28T09:54:09.402610Z"
    },
    "papermill": {
     "duration": 0.073493,
     "end_time": "2023-07-28T09:54:09.406668",
     "exception": false,
     "start_time": "2023-07-28T09:54:09.333175",
     "status": "completed"
    },
    "tags": [],
    "trusted": false
   },
   "id": "e9ecf43c",
   "cell_type": "code",
   "source": "import numpy as np\n\n# Decode the predictions greedily using argmax (highest value of all classes)\ny_preds = np.argmax(pred_output.predictions,axis=1)\nprint(f'Output Prediction:{y_preds.shape}')\nprint(f'Predictions: {y_preds}')",
   "execution_count": 66,
   "outputs": [
    {
     "name": "stdout",
     "output_type": "stream",
     "text": "Output Prediction:(2901,)\nPredictions: [4 0 2 ... 1 5 5]\n"
    }
   ]
  },
  {
   "metadata": {
    "execution": {
     "iopub.execute_input": "2023-07-28T09:54:09.525580Z",
     "iopub.status.busy": "2023-07-28T09:54:09.525189Z",
     "iopub.status.idle": "2023-07-28T09:54:10.470647Z",
     "shell.execute_reply": "2023-07-28T09:54:10.469526Z"
    },
    "papermill": {
     "duration": 1.009306,
     "end_time": "2023-07-28T09:54:10.473971",
     "exception": false,
     "start_time": "2023-07-28T09:54:09.464665",
     "status": "completed"
    },
    "tags": [],
    "trusted": false
   },
   "id": "9d9be9fe",
   "cell_type": "code",
   "source": "# Validation \nplot_confusion_matrix(y_preds,y_valid,labels)",
   "execution_count": 67,
   "outputs": [
    {
     "data": {
      "image/png": "[encoded data removed]",
      "text/plain": "<Figure size 576x576 with 1 Axes>"
     },
     "metadata": {
      "needs_background": "light"
     },
     "output_type": "display_data"
    }
   ]
  },
  {
   "metadata": {
    "papermill": {
     "duration": 0.059935,
     "end_time": "2023-07-28T09:54:10.594548",
     "exception": false,
     "start_time": "2023-07-28T09:54:10.534613",
     "status": "completed"
    },
    "tags": []
   },
   "id": "3e354588",
   "cell_type": "markdown",
   "source": "<div style=\" background-color:#3b3745; padding: 13px 13px; border-radius: 8px; color: white\">\n<ul>\n    <li>Fine-tuning a pretrained-transformed works sufficiently better than our baseline approach</li>\n    <li><b>virtual currency</b> is also not predicted very well (same as the linear model)</li>\n    <li><b>payday loan</b> is predicted well but <b>other financial services</b> poorly\n</ul>\n</div>"
  }
 ],
 "metadata": {
  "kernelspec": {
   "name": "python3",
   "display_name": "Python 3",
   "language": "python"
  },
  "language_info": {
   "name": "python",
   "version": "3.10.4",
   "mimetype": "text/x-python",
   "codemirror_mode": {
    "name": "ipython",
    "version": 3
   },
   "pygments_lexer": "ipython3",
   "nbconvert_exporter": "python",
   "file_extension": ".py"
  },
  "papermill": {
   "default_parameters": {},
   "duration": 3013.353676,
   "end_time": "2023-07-28T09:54:13.779697",
   "environment_variables": {},
   "exception": null,
   "input_path": "__notebook__.ipynb",
   "output_path": "__notebook__.ipynb",
   "parameters": {},
   "start_time": "2023-07-28T09:04:00.426021",
   "version": "2.3.4"
  },
  "widgets": {
   "application/vnd.jupyter.widget-state+json": {
    "state": {
     "00dba9b6d7a04e8394b4c2dae1037a40": {
      "model_module": "@jupyter-widgets/controls",
      "model_module_version": "1.5.0",
      "model_name": "DescriptionStyleModel",
      "state": {
       "_model_module": "@jupyter-widgets/controls",
       "_model_module_version": "1.5.0",
       "_model_name": "DescriptionStyleModel",
       "_view_count": null,
       "_view_module": "@jupyter-widgets/base",
       "_view_module_version": "1.2.0",
       "_view_name": "StyleView",
       "description_width": ""
      }
     },
     "02aa8d11e2e94653ae8d545a3b7c0fd9": {
      "model_module": "@jupyter-widgets/base",
      "model_module_version": "1.2.0",
      "model_name": "LayoutModel",
      "state": {
       "_model_module": "@jupyter-widgets/base",
       "_model_module_version": "1.2.0",
       "_model_name": "LayoutModel",
       "_view_count": null,
       "_view_module": "@jupyter-widgets/base",
       "_view_module_version": "1.2.0",
       "_view_name": "LayoutView",
       "align_content": null,
       "align_items": null,
       "align_self": null,
       "border": null,
       "bottom": null,
       "display": null,
       "flex": null,
       "flex_flow": null,
       "grid_area": null,
       "grid_auto_columns": null,
       "grid_auto_flow": null,
       "grid_auto_rows": null,
       "grid_column": null,
       "grid_gap": null,
       "grid_row": null,
       "grid_template_areas": null,
       "grid_template_columns": null,
       "grid_template_rows": null,
       "height": null,
       "justify_content": null,
       "justify_items": null,
       "left": null,
       "margin": null,
       "max_height": null,
       "max_width": null,
       "min_height": null,
       "min_width": null,
       "object_fit": null,
       "object_position": null,
       "order": null,
       "overflow": null,
       "overflow_x": null,
       "overflow_y": null,
       "padding": null,
       "right": null,
       "top": null,
       "visibility": null,
       "width": null
      }
     },
     "03225c19b93f4df89abd8d998d7ef0ff": {
      "model_module": "@jupyter-widgets/base",
      "model_module_version": "1.2.0",
      "model_name": "LayoutModel",
      "state": {
       "_model_module": "@jupyter-widgets/base",
       "_model_module_version": "1.2.0",
       "_model_name": "LayoutModel",
       "_view_count": null,
       "_view_module": "@jupyter-widgets/base",
       "_view_module_version": "1.2.0",
       "_view_name": "LayoutView",
       "align_content": null,
       "align_items": null,
       "align_self": null,
       "border": null,
       "bottom": null,
       "display": null,
       "flex": null,
       "flex_flow": null,
       "grid_area": null,
       "grid_auto_columns": null,
       "grid_auto_flow": null,
       "grid_auto_rows": null,
       "grid_column": null,
       "grid_gap": null,
       "grid_row": null,
       "grid_template_areas": null,
       "grid_template_columns": null,
       "grid_template_rows": null,
       "height": null,
       "justify_content": null,
       "justify_items": null,
       "left": null,
       "margin": null,
       "max_height": null,
       "max_width": null,
       "min_height": null,
       "min_width": null,
       "object_fit": null,
       "object_position": null,
       "order": null,
       "overflow": null,
       "overflow_x": null,
       "overflow_y": null,
       "padding": null,
       "right": null,
       "top": null,
       "visibility": null,
       "width": null
      }
     },
     "033b83285a674b0e83fc9d579b38af3e": {
      "model_module": "@jupyter-widgets/base",
      "model_module_version": "1.2.0",
      "model_name": "LayoutModel",
      "state": {
       "_model_module": "@jupyter-widgets/base",
       "_model_module_version": "1.2.0",
       "_model_name": "LayoutModel",
       "_view_count": null,
       "_view_module": "@jupyter-widgets/base",
       "_view_module_version": "1.2.0",
       "_view_name": "LayoutView",
       "align_content": null,
       "align_items": null,
       "align_self": null,
       "border": null,
       "bottom": null,
       "display": null,
       "flex": null,
       "flex_flow": null,
       "grid_area": null,
       "grid_auto_columns": null,
       "grid_auto_flow": null,
       "grid_auto_rows": null,
       "grid_column": null,
       "grid_gap": null,
       "grid_row": null,
       "grid_template_areas": null,
       "grid_template_columns": null,
       "grid_template_rows": null,
       "height": null,
       "justify_content": null,
       "justify_items": null,
       "left": null,
       "margin": null,
       "max_height": null,
       "max_width": null,
       "min_height": null,
       "min_width": null,
       "object_fit": null,
       "object_position": null,
       "order": null,
       "overflow": null,
       "overflow_x": null,
       "overflow_y": null,
       "padding": null,
       "right": null,
       "top": null,
       "visibility": null,
       "width": null
      }
     },
     "04490f3e24bc4a919d1e7846af8992f7": {
      "model_module": "@jupyter-widgets/controls",
      "model_module_version": "1.5.0",
      "model_name": "HTMLModel",
      "state": {
       "_dom_classes": [],
       "_model_module": "@jupyter-widgets/controls",
       "_model_module_version": "1.5.0",
       "_model_name": "HTMLModel",
       "_view_count": null,
       "_view_module": "@jupyter-widgets/controls",
       "_view_module_version": "1.5.0",
       "_view_name": "HTMLView",
       "description": "",
       "description_tooltip": null,
       "layout": "IPY_MODEL_463c7cd0b1df4d08850f0acf9a4ae4cc",
       "placeholder": "​",
       "style": "IPY_MODEL_8291a927a2334cd889f336b2ddc74b8f",
       "value": "Casting the dataset: 100%"
      }
     },
     "055539458d6046eebbe5e389d9c1309d": {
      "model_module": "@jupyter-widgets/base",
      "model_module_version": "1.2.0",
      "model_name": "LayoutModel",
      "state": {
       "_model_module": "@jupyter-widgets/base",
       "_model_module_version": "1.2.0",
       "_model_name": "LayoutModel",
       "_view_count": null,
       "_view_module": "@jupyter-widgets/base",
       "_view_module_version": "1.2.0",
       "_view_name": "LayoutView",
       "align_content": null,
       "align_items": null,
       "align_self": null,
       "border": null,
       "bottom": null,
       "display": null,
       "flex": null,
       "flex_flow": null,
       "grid_area": null,
       "grid_auto_columns": null,
       "grid_auto_flow": null,
       "grid_auto_rows": null,
       "grid_column": null,
       "grid_gap": null,
       "grid_row": null,
       "grid_template_areas": null,
       "grid_template_columns": null,
       "grid_template_rows": null,
       "height": null,
       "justify_content": null,
       "justify_items": null,
       "left": null,
       "margin": null,
       "max_height": null,
       "max_width": null,
       "min_height": null,
       "min_width": null,
       "object_fit": null,
       "object_position": null,
       "order": null,
       "overflow": null,
       "overflow_x": null,
       "overflow_y": null,
       "padding": null,
       "right": null,
       "top": null,
       "visibility": null,
       "width": null
      }
     },
     "0b37b76b6f564503bffaf9927f83151b": {
      "model_module": "@jupyter-widgets/base",
      "model_module_version": "1.2.0",
      "model_name": "LayoutModel",
      "state": {
       "_model_module": "@jupyter-widgets/base",
       "_model_module_version": "1.2.0",
       "_model_name": "LayoutModel",
       "_view_count": null,
       "_view_module": "@jupyter-widgets/base",
       "_view_module_version": "1.2.0",
       "_view_name": "LayoutView",
       "align_content": null,
       "align_items": null,
       "align_self": null,
       "border": null,
       "bottom": null,
       "display": null,
       "flex": null,
       "flex_flow": null,
       "grid_area": null,
       "grid_auto_columns": null,
       "grid_auto_flow": null,
       "grid_auto_rows": null,
       "grid_column": null,
       "grid_gap": null,
       "grid_row": null,
       "grid_template_areas": null,
       "grid_template_columns": null,
       "grid_template_rows": null,
       "height": null,
       "justify_content": null,
       "justify_items": null,
       "left": null,
       "margin": null,
       "max_height": null,
       "max_width": null,
       "min_height": null,
       "min_width": null,
       "object_fit": null,
       "object_position": null,
       "order": null,
       "overflow": null,
       "overflow_x": null,
       "overflow_y": null,
       "padding": null,
       "right": null,
       "top": null,
       "visibility": null,
       "width": null
      }
     },
     "0bc5e710930f4333adab384545b5e050": {
      "model_module": "@jupyter-widgets/controls",
      "model_module_version": "1.5.0",
      "model_name": "DescriptionStyleModel",
      "state": {
       "_model_module": "@jupyter-widgets/controls",
       "_model_module_version": "1.5.0",
       "_model_name": "DescriptionStyleModel",
       "_view_count": null,
       "_view_module": "@jupyter-widgets/base",
       "_view_module_version": "1.2.0",
       "_view_name": "StyleView",
       "description_width": ""
      }
     },
     "0bd879f987a14724a12eaa95dede44a6": {
      "model_module": "@jupyter-widgets/controls",
      "model_module_version": "1.5.0",
      "model_name": "HTMLModel",
      "state": {
       "_dom_classes": [],
       "_model_module": "@jupyter-widgets/controls",
       "_model_module_version": "1.5.0",
       "_model_name": "HTMLModel",
       "_view_count": null,
       "_view_module": "@jupyter-widgets/controls",
       "_view_module_version": "1.5.0",
       "_view_name": "HTMLView",
       "description": "",
       "description_tooltip": null,
       "layout": "IPY_MODEL_d7d5a81d72d04954b6069a0efe6400ea",
       "placeholder": "​",
       "style": "IPY_MODEL_24ccba14143047d38c9050290c84290a",
       "value": " 28.0/28.0 [00:00&lt;00:00, 568B/s]"
      }
     },
     "0c91f79954284e2a86a4685ba318ea3a": {
      "model_module": "@jupyter-widgets/controls",
      "model_module_version": "1.5.0",
      "model_name": "DescriptionStyleModel",
      "state": {
       "_model_module": "@jupyter-widgets/controls",
       "_model_module_version": "1.5.0",
       "_model_name": "DescriptionStyleModel",
       "_view_count": null,
       "_view_module": "@jupyter-widgets/base",
       "_view_module_version": "1.2.0",
       "_view_name": "StyleView",
       "description_width": ""
      }
     },
     "0e71c3fac5e443b6b2420add0fc8ffc2": {
      "model_module": "@jupyter-widgets/controls",
      "model_module_version": "1.5.0",
      "model_name": "DescriptionStyleModel",
      "state": {
       "_model_module": "@jupyter-widgets/controls",
       "_model_module_version": "1.5.0",
       "_model_name": "DescriptionStyleModel",
       "_view_count": null,
       "_view_module": "@jupyter-widgets/base",
       "_view_module_version": "1.2.0",
       "_view_name": "StyleView",
       "description_width": ""
      }
     },
     "0f227cdbf1b3489f927a1ae7bb5d4d97": {
      "model_module": "@jupyter-widgets/base",
      "model_module_version": "1.2.0",
      "model_name": "LayoutModel",
      "state": {
       "_model_module": "@jupyter-widgets/base",
       "_model_module_version": "1.2.0",
       "_model_name": "LayoutModel",
       "_view_count": null,
       "_view_module": "@jupyter-widgets/base",
       "_view_module_version": "1.2.0",
       "_view_name": "LayoutView",
       "align_content": null,
       "align_items": null,
       "align_self": null,
       "border": null,
       "bottom": null,
       "display": null,
       "flex": null,
       "flex_flow": null,
       "grid_area": null,
       "grid_auto_columns": null,
       "grid_auto_flow": null,
       "grid_auto_rows": null,
       "grid_column": null,
       "grid_gap": null,
       "grid_row": null,
       "grid_template_areas": null,
       "grid_template_columns": null,
       "grid_template_rows": null,
       "height": null,
       "justify_content": null,
       "justify_items": null,
       "left": null,
       "margin": null,
       "max_height": null,
       "max_width": null,
       "min_height": null,
       "min_width": null,
       "object_fit": null,
       "object_position": null,
       "order": null,
       "overflow": null,
       "overflow_x": null,
       "overflow_y": null,
       "padding": null,
       "right": null,
       "top": null,
       "visibility": null,
       "width": null
      }
     },
     "0f4200e286544dcfab83696e343d4b25": {
      "model_module": "@jupyter-widgets/base",
      "model_module_version": "1.2.0",
      "model_name": "LayoutModel",
      "state": {
       "_model_module": "@jupyter-widgets/base",
       "_model_module_version": "1.2.0",
       "_model_name": "LayoutModel",
       "_view_count": null,
       "_view_module": "@jupyter-widgets/base",
       "_view_module_version": "1.2.0",
       "_view_name": "LayoutView",
       "align_content": null,
       "align_items": null,
       "align_self": null,
       "border": null,
       "bottom": null,
       "display": null,
       "flex": null,
       "flex_flow": null,
       "grid_area": null,
       "grid_auto_columns": null,
       "grid_auto_flow": null,
       "grid_auto_rows": null,
       "grid_column": null,
       "grid_gap": null,
       "grid_row": null,
       "grid_template_areas": null,
       "grid_template_columns": null,
       "grid_template_rows": null,
       "height": null,
       "justify_content": null,
       "justify_items": null,
       "left": null,
       "margin": null,
       "max_height": null,
       "max_width": null,
       "min_height": null,
       "min_width": null,
       "object_fit": null,
       "object_position": null,
       "order": null,
       "overflow": null,
       "overflow_x": null,
       "overflow_y": null,
       "padding": null,
       "right": null,
       "top": null,
       "visibility": null,
       "width": null
      }
     },
     "128ff939dfa2439bbda200b5656aecb0": {
      "model_module": "@jupyter-widgets/base",
      "model_module_version": "1.2.0",
      "model_name": "LayoutModel",
      "state": {
       "_model_module": "@jupyter-widgets/base",
       "_model_module_version": "1.2.0",
       "_model_name": "LayoutModel",
       "_view_count": null,
       "_view_module": "@jupyter-widgets/base",
       "_view_module_version": "1.2.0",
       "_view_name": "LayoutView",
       "align_content": null,
       "align_items": null,
       "align_self": null,
       "border": null,
       "bottom": null,
       "display": null,
       "flex": null,
       "flex_flow": null,
       "grid_area": null,
       "grid_auto_columns": null,
       "grid_auto_flow": null,
       "grid_auto_rows": null,
       "grid_column": null,
       "grid_gap": null,
       "grid_row": null,
       "grid_template_areas": null,
       "grid_template_columns": null,
       "grid_template_rows": null,
       "height": null,
       "justify_content": null,
       "justify_items": null,
       "left": null,
       "margin": null,
       "max_height": null,
       "max_width": null,
       "min_height": null,
       "min_width": null,
       "object_fit": null,
       "object_position": null,
       "order": null,
       "overflow": null,
       "overflow_x": null,
       "overflow_y": null,
       "padding": null,
       "right": null,
       "top": null,
       "visibility": null,
       "width": null
      }
     },
     "164248790cb949168af8aebe487e851e": {
      "model_module": "@jupyter-widgets/controls",
      "model_module_version": "1.5.0",
      "model_name": "DescriptionStyleModel",
      "state": {
       "_model_module": "@jupyter-widgets/controls",
       "_model_module_version": "1.5.0",
       "_model_name": "DescriptionStyleModel",
       "_view_count": null,
       "_view_module": "@jupyter-widgets/base",
       "_view_module_version": "1.2.0",
       "_view_name": "StyleView",
       "description_width": ""
      }
     },
     "1724036924324902a47965adec88a2c0": {
      "model_module": "@jupyter-widgets/controls",
      "model_module_version": "1.5.0",
      "model_name": "ProgressStyleModel",
      "state": {
       "_model_module": "@jupyter-widgets/controls",
       "_model_module_version": "1.5.0",
       "_model_name": "ProgressStyleModel",
       "_view_count": null,
       "_view_module": "@jupyter-widgets/base",
       "_view_module_version": "1.2.0",
       "_view_name": "StyleView",
       "bar_color": null,
       "description_width": ""
      }
     },
     "18340d20033644a6a5289a8a80617a86": {
      "model_module": "@jupyter-widgets/controls",
      "model_module_version": "1.5.0",
      "model_name": "DescriptionStyleModel",
      "state": {
       "_model_module": "@jupyter-widgets/controls",
       "_model_module_version": "1.5.0",
       "_model_name": "DescriptionStyleModel",
       "_view_count": null,
       "_view_module": "@jupyter-widgets/base",
       "_view_module_version": "1.2.0",
       "_view_name": "StyleView",
       "description_width": ""
      }
     },
     "1909c6219cf643b8ade7fa6b7c21568e": {
      "model_module": "@jupyter-widgets/controls",
      "model_module_version": "1.5.0",
      "model_name": "ProgressStyleModel",
      "state": {
       "_model_module": "@jupyter-widgets/controls",
       "_model_module_version": "1.5.0",
       "_model_name": "ProgressStyleModel",
       "_view_count": null,
       "_view_module": "@jupyter-widgets/base",
       "_view_module_version": "1.2.0",
       "_view_name": "StyleView",
       "bar_color": null,
       "description_width": ""
      }
     },
     "1b7ddc858e2443f3a666defab69e5a66": {
      "model_module": "@jupyter-widgets/controls",
      "model_module_version": "1.5.0",
      "model_name": "DescriptionStyleModel",
      "state": {
       "_model_module": "@jupyter-widgets/controls",
       "_model_module_version": "1.5.0",
       "_model_name": "DescriptionStyleModel",
       "_view_count": null,
       "_view_module": "@jupyter-widgets/base",
       "_view_module_version": "1.2.0",
       "_view_name": "StyleView",
       "description_width": ""
      }
     },
     "1c371256e1074dc8923393e2c1c604be": {
      "model_module": "@jupyter-widgets/controls",
      "model_module_version": "1.5.0",
      "model_name": "HBoxModel",
      "state": {
       "_dom_classes": [],
       "_model_module": "@jupyter-widgets/controls",
       "_model_module_version": "1.5.0",
       "_model_name": "HBoxModel",
       "_view_count": null,
       "_view_module": "@jupyter-widgets/controls",
       "_view_module_version": "1.5.0",
       "_view_name": "HBoxView",
       "box_style": "",
       "children": [
        "IPY_MODEL_6b9b582ca8444c1b9d5800d512be67b7",
        "IPY_MODEL_8d3b08050fa448cda6a7d94347a93fde",
        "IPY_MODEL_5ac91eec1bb94cdab90970ab74cd99f2"
       ],
       "layout": "IPY_MODEL_f70b3c22112c4438befb8801962002f6"
      }
     },
     "1f3292a8616447b59ce0fdcb3c7a782d": {
      "model_module": "@jupyter-widgets/controls",
      "model_module_version": "1.5.0",
      "model_name": "HTMLModel",
      "state": {
       "_dom_classes": [],
       "_model_module": "@jupyter-widgets/controls",
       "_model_module_version": "1.5.0",
       "_model_name": "HTMLModel",
       "_view_count": null,
       "_view_module": "@jupyter-widgets/controls",
       "_view_module_version": "1.5.0",
       "_view_name": "HTMLView",
       "description": "",
       "description_tooltip": null,
       "layout": "IPY_MODEL_033b83285a674b0e83fc9d579b38af3e",
       "placeholder": "​",
       "style": "IPY_MODEL_6d656ddc4ffc491d84d3917059c3e7f5",
       "value": " 816/816 [03:56&lt;00:00,  3.65ba/s]"
      }
     },
     "2112abeacdd0483ab28b544658488d5c": {
      "model_module": "@jupyter-widgets/controls",
      "model_module_version": "1.5.0",
      "model_name": "FloatProgressModel",
      "state": {
       "_dom_classes": [],
       "_model_module": "@jupyter-widgets/controls",
       "_model_module_version": "1.5.0",
       "_model_name": "FloatProgressModel",
       "_view_count": null,
       "_view_module": "@jupyter-widgets/controls",
       "_view_module_version": "1.5.0",
       "_view_name": "ProgressView",
       "bar_style": "success",
       "description": "",
       "description_tooltip": null,
       "layout": "IPY_MODEL_03225c19b93f4df89abd8d998d7ef0ff",
       "max": 3,
       "min": 0,
       "orientation": "horizontal",
       "style": "IPY_MODEL_76df06d2583742b5af40f9fb64002298",
       "value": 3
      }
     },
     "2171799a98b842a59180007c3574ee03": {
      "model_module": "@jupyter-widgets/controls",
      "model_module_version": "1.5.0",
      "model_name": "FloatProgressModel",
      "state": {
       "_dom_classes": [],
       "_model_module": "@jupyter-widgets/controls",
       "_model_module_version": "1.5.0",
       "_model_name": "FloatProgressModel",
       "_view_count": null,
       "_view_module": "@jupyter-widgets/controls",
       "_view_module_version": "1.5.0",
       "_view_name": "ProgressView",
       "bar_style": "success",
       "description": "",
       "description_tooltip": null,
       "layout": "IPY_MODEL_b1e4bde4a80f4a6b8950a0bba07e67a7",
       "max": 483,
       "min": 0,
       "orientation": "horizontal",
       "style": "IPY_MODEL_fa4911df198742e8b9b171cc3acd3d85",
       "value": 483
      }
     },
     "23333ede01f64adf898e937e6de2bbd5": {
      "model_module": "@jupyter-widgets/base",
      "model_module_version": "1.2.0",
      "model_name": "LayoutModel",
      "state": {
       "_model_module": "@jupyter-widgets/base",
       "_model_module_version": "1.2.0",
       "_model_name": "LayoutModel",
       "_view_count": null,
       "_view_module": "@jupyter-widgets/base",
       "_view_module_version": "1.2.0",
       "_view_name": "LayoutView",
       "align_content": null,
       "align_items": null,
       "align_self": null,
       "border": null,
       "bottom": null,
       "display": null,
       "flex": null,
       "flex_flow": null,
       "grid_area": null,
       "grid_auto_columns": null,
       "grid_auto_flow": null,
       "grid_auto_rows": null,
       "grid_column": null,
       "grid_gap": null,
       "grid_row": null,
       "grid_template_areas": null,
       "grid_template_columns": null,
       "grid_template_rows": null,
       "height": null,
       "justify_content": null,
       "justify_items": null,
       "left": null,
       "margin": null,
       "max_height": null,
       "max_width": null,
       "min_height": null,
       "min_width": null,
       "object_fit": null,
       "object_position": null,
       "order": null,
       "overflow": null,
       "overflow_x": null,
       "overflow_y": null,
       "padding": null,
       "right": null,
       "top": null,
       "visibility": null,
       "width": null
      }
     },
     "24ccba14143047d38c9050290c84290a": {
      "model_module": "@jupyter-widgets/controls",
      "model_module_version": "1.5.0",
      "model_name": "DescriptionStyleModel",
      "state": {
       "_model_module": "@jupyter-widgets/controls",
       "_model_module_version": "1.5.0",
       "_model_name": "DescriptionStyleModel",
       "_view_count": null,
       "_view_module": "@jupyter-widgets/base",
       "_view_module_version": "1.2.0",
       "_view_name": "StyleView",
       "description_width": ""
      }
     },
     "2778f0060f784196beced9ef93ee45c8": {
      "model_module": "@jupyter-widgets/base",
      "model_module_version": "1.2.0",
      "model_name": "LayoutModel",
      "state": {
       "_model_module": "@jupyter-widgets/base",
       "_model_module_version": "1.2.0",
       "_model_name": "LayoutModel",
       "_view_count": null,
       "_view_module": "@jupyter-widgets/base",
       "_view_module_version": "1.2.0",
       "_view_name": "LayoutView",
       "align_content": null,
       "align_items": null,
       "align_self": null,
       "border": null,
       "bottom": null,
       "display": null,
       "flex": null,
       "flex_flow": null,
       "grid_area": null,
       "grid_auto_columns": null,
       "grid_auto_flow": null,
       "grid_auto_rows": null,
       "grid_column": null,
       "grid_gap": null,
       "grid_row": null,
       "grid_template_areas": null,
       "grid_template_columns": null,
       "grid_template_rows": null,
       "height": null,
       "justify_content": null,
       "justify_items": null,
       "left": null,
       "margin": null,
       "max_height": null,
       "max_width": null,
       "min_height": null,
       "min_width": null,
       "object_fit": null,
       "object_position": null,
       "order": null,
       "overflow": null,
       "overflow_x": null,
       "overflow_y": null,
       "padding": null,
       "right": null,
       "top": null,
       "visibility": null,
       "width": null
      }
     },
     "29b2403c1e7f493fbcaa51f85974d8a7": {
      "model_module": "@jupyter-widgets/controls",
      "model_module_version": "1.5.0",
      "model_name": "HTMLModel",
      "state": {
       "_dom_classes": [],
       "_model_module": "@jupyter-widgets/controls",
       "_model_module_version": "1.5.0",
       "_model_name": "HTMLModel",
       "_view_count": null,
       "_view_module": "@jupyter-widgets/controls",
       "_view_module_version": "1.5.0",
       "_view_name": "HTMLView",
       "description": "",
       "description_tooltip": null,
       "layout": "IPY_MODEL_b5ba00f74c764997acd79d76774ff405",
       "placeholder": "​",
       "style": "IPY_MODEL_6830cda5bc8a43e7a9d50d936f2589e6",
       "value": "Downloading: 100%"
      }
     },
     "2b16b6c0cb094b1dafae3db517229842": {
      "model_module": "@jupyter-widgets/base",
      "model_module_version": "1.2.0",
      "model_name": "LayoutModel",
      "state": {
       "_model_module": "@jupyter-widgets/base",
       "_model_module_version": "1.2.0",
       "_model_name": "LayoutModel",
       "_view_count": null,
       "_view_module": "@jupyter-widgets/base",
       "_view_module_version": "1.2.0",
       "_view_name": "LayoutView",
       "align_content": null,
       "align_items": null,
       "align_self": null,
       "border": null,
       "bottom": null,
       "display": null,
       "flex": null,
       "flex_flow": null,
       "grid_area": null,
       "grid_auto_columns": null,
       "grid_auto_flow": null,
       "grid_auto_rows": null,
       "grid_column": null,
       "grid_gap": null,
       "grid_row": null,
       "grid_template_areas": null,
       "grid_template_columns": null,
       "grid_template_rows": null,
       "height": null,
       "justify_content": null,
       "justify_items": null,
       "left": null,
       "margin": null,
       "max_height": null,
       "max_width": null,
       "min_height": null,
       "min_width": null,
       "object_fit": null,
       "object_position": null,
       "order": null,
       "overflow": null,
       "overflow_x": null,
       "overflow_y": null,
       "padding": null,
       "right": null,
       "top": null,
       "visibility": null,
       "width": null
      }
     },
     "2f0b719ac5044580b153a2bbb695d35d": {
      "model_module": "@jupyter-widgets/controls",
      "model_module_version": "1.5.0",
      "model_name": "HTMLModel",
      "state": {
       "_dom_classes": [],
       "_model_module": "@jupyter-widgets/controls",
       "_model_module_version": "1.5.0",
       "_model_name": "HTMLModel",
       "_view_count": null,
       "_view_module": "@jupyter-widgets/controls",
       "_view_module_version": "1.5.0",
       "_view_name": "HTMLView",
       "description": "",
       "description_tooltip": null,
       "layout": "IPY_MODEL_7843c8d703ef4e41a77545d33e8202ed",
       "placeholder": "​",
       "style": "IPY_MODEL_d7ce2006279a47809ba6cd9151b03828",
       "value": "100%"
      }
     },
     "3214679f98ee44bda099fb1041054d99": {
      "model_module": "@jupyter-widgets/controls",
      "model_module_version": "1.5.0",
      "model_name": "HTMLModel",
      "state": {
       "_dom_classes": [],
       "_model_module": "@jupyter-widgets/controls",
       "_model_module_version": "1.5.0",
       "_model_name": "HTMLModel",
       "_view_count": null,
       "_view_module": "@jupyter-widgets/controls",
       "_view_module_version": "1.5.0",
       "_view_name": "HTMLView",
       "description": "",
       "description_tooltip": null,
       "layout": "IPY_MODEL_b4510b5e01cd4228865348010bdc0039",
       "placeholder": "​",
       "style": "IPY_MODEL_baf1731c5ae54383b368128e76118a95",
       "value": "Downloading: 100%"
      }
     },
     "35b1e3358faa44b5beb2c2c8d7237ee6": {
      "model_module": "@jupyter-widgets/base",
      "model_module_version": "1.2.0",
      "model_name": "LayoutModel",
      "state": {
       "_model_module": "@jupyter-widgets/base",
       "_model_module_version": "1.2.0",
       "_model_name": "LayoutModel",
       "_view_count": null,
       "_view_module": "@jupyter-widgets/base",
       "_view_module_version": "1.2.0",
       "_view_name": "LayoutView",
       "align_content": null,
       "align_items": null,
       "align_self": null,
       "border": null,
       "bottom": null,
       "display": null,
       "flex": null,
       "flex_flow": null,
       "grid_area": null,
       "grid_auto_columns": null,
       "grid_auto_flow": null,
       "grid_auto_rows": null,
       "grid_column": null,
       "grid_gap": null,
       "grid_row": null,
       "grid_template_areas": null,
       "grid_template_columns": null,
       "grid_template_rows": null,
       "height": null,
       "justify_content": null,
       "justify_items": null,
       "left": null,
       "margin": null,
       "max_height": null,
       "max_width": null,
       "min_height": null,
       "min_width": null,
       "object_fit": null,
       "object_position": null,
       "order": null,
       "overflow": null,
       "overflow_x": null,
       "overflow_y": null,
       "padding": null,
       "right": null,
       "top": null,
       "visibility": null,
       "width": null
      }
     },
     "393f2016ce7c4457852d40cdb412cc20": {
      "model_module": "@jupyter-widgets/base",
      "model_module_version": "1.2.0",
      "model_name": "LayoutModel",
      "state": {
       "_model_module": "@jupyter-widgets/base",
       "_model_module_version": "1.2.0",
       "_model_name": "LayoutModel",
       "_view_count": null,
       "_view_module": "@jupyter-widgets/base",
       "_view_module_version": "1.2.0",
       "_view_name": "LayoutView",
       "align_content": null,
       "align_items": null,
       "align_self": null,
       "border": null,
       "bottom": null,
       "display": null,
       "flex": null,
       "flex_flow": null,
       "grid_area": null,
       "grid_auto_columns": null,
       "grid_auto_flow": null,
       "grid_auto_rows": null,
       "grid_column": null,
       "grid_gap": null,
       "grid_row": null,
       "grid_template_areas": null,
       "grid_template_columns": null,
       "grid_template_rows": null,
       "height": null,
       "justify_content": null,
       "justify_items": null,
       "left": null,
       "margin": null,
       "max_height": null,
       "max_width": null,
       "min_height": null,
       "min_width": null,
       "object_fit": null,
       "object_position": null,
       "order": null,
       "overflow": null,
       "overflow_x": null,
       "overflow_y": null,
       "padding": null,
       "right": null,
       "top": null,
       "visibility": null,
       "width": null
      }
     },
     "3c0ded557ad842ba907fc82925c069de": {
      "model_module": "@jupyter-widgets/controls",
      "model_module_version": "1.5.0",
      "model_name": "HTMLModel",
      "state": {
       "_dom_classes": [],
       "_model_module": "@jupyter-widgets/controls",
       "_model_module_version": "1.5.0",
       "_model_name": "HTMLModel",
       "_view_count": null,
       "_view_module": "@jupyter-widgets/controls",
       "_view_module_version": "1.5.0",
       "_view_name": "HTMLView",
       "description": "",
       "description_tooltip": null,
       "layout": "IPY_MODEL_0f4200e286544dcfab83696e343d4b25",
       "placeholder": "​",
       "style": "IPY_MODEL_959ded2095ce401cb010fbf0fa46aa11",
       "value": "100%"
      }
     },
     "3f5ed27db979472f992707145efd8b17": {
      "model_module": "@jupyter-widgets/base",
      "model_module_version": "1.2.0",
      "model_name": "LayoutModel",
      "state": {
       "_model_module": "@jupyter-widgets/base",
       "_model_module_version": "1.2.0",
       "_model_name": "LayoutModel",
       "_view_count": null,
       "_view_module": "@jupyter-widgets/base",
       "_view_module_version": "1.2.0",
       "_view_name": "LayoutView",
       "align_content": null,
       "align_items": null,
       "align_self": null,
       "border": null,
       "bottom": null,
       "display": null,
       "flex": null,
       "flex_flow": null,
       "grid_area": null,
       "grid_auto_columns": null,
       "grid_auto_flow": null,
       "grid_auto_rows": null,
       "grid_column": null,
       "grid_gap": null,
       "grid_row": null,
       "grid_template_areas": null,
       "grid_template_columns": null,
       "grid_template_rows": null,
       "height": null,
       "justify_content": null,
       "justify_items": null,
       "left": null,
       "margin": null,
       "max_height": null,
       "max_width": null,
       "min_height": null,
       "min_width": null,
       "object_fit": null,
       "object_position": null,
       "order": null,
       "overflow": null,
       "overflow_x": null,
       "overflow_y": null,
       "padding": null,
       "right": null,
       "top": null,
       "visibility": null,
       "width": null
      }
     },
     "427f7d5b2fe446fa88b98f24c24a25f3": {
      "model_module": "@jupyter-widgets/controls",
      "model_module_version": "1.5.0",
      "model_name": "HTMLModel",
      "state": {
       "_dom_classes": [],
       "_model_module": "@jupyter-widgets/controls",
       "_model_module_version": "1.5.0",
       "_model_name": "HTMLModel",
       "_view_count": null,
       "_view_module": "@jupyter-widgets/controls",
       "_view_module_version": "1.5.0",
       "_view_name": "HTMLView",
       "description": "",
       "description_tooltip": null,
       "layout": "IPY_MODEL_627b052a8f91489b84bef7aa8063491b",
       "placeholder": "​",
       "style": "IPY_MODEL_b086d38d1d5f42c0b2a14b957da0a4c7",
       "value": " 256M/256M [00:07&lt;00:00, 34.2MB/s]"
      }
     },
     "4475ae3607fc4e0aa41adf09fd60709b": {
      "model_module": "@jupyter-widgets/controls",
      "model_module_version": "1.5.0",
      "model_name": "HTMLModel",
      "state": {
       "_dom_classes": [],
       "_model_module": "@jupyter-widgets/controls",
       "_model_module_version": "1.5.0",
       "_model_name": "HTMLModel",
       "_view_count": null,
       "_view_module": "@jupyter-widgets/controls",
       "_view_module_version": "1.5.0",
       "_view_name": "HTMLView",
       "description": "",
       "description_tooltip": null,
       "layout": "IPY_MODEL_35b1e3358faa44b5beb2c2c8d7237ee6",
       "placeholder": "​",
       "style": "IPY_MODEL_164248790cb949168af8aebe487e851e",
       "value": "100%"
      }
     },
     "454a0c82407c45a1820aa621dc0ebd3a": {
      "model_module": "@jupyter-widgets/base",
      "model_module_version": "1.2.0",
      "model_name": "LayoutModel",
      "state": {
       "_model_module": "@jupyter-widgets/base",
       "_model_module_version": "1.2.0",
       "_model_name": "LayoutModel",
       "_view_count": null,
       "_view_module": "@jupyter-widgets/base",
       "_view_module_version": "1.2.0",
       "_view_name": "LayoutView",
       "align_content": null,
       "align_items": null,
       "align_self": null,
       "border": null,
       "bottom": null,
       "display": null,
       "flex": null,
       "flex_flow": null,
       "grid_area": null,
       "grid_auto_columns": null,
       "grid_auto_flow": null,
       "grid_auto_rows": null,
       "grid_column": null,
       "grid_gap": null,
       "grid_row": null,
       "grid_template_areas": null,
       "grid_template_columns": null,
       "grid_template_rows": null,
       "height": null,
       "justify_content": null,
       "justify_items": null,
       "left": null,
       "margin": null,
       "max_height": null,
       "max_width": null,
       "min_height": null,
       "min_width": null,
       "object_fit": null,
       "object_position": null,
       "order": null,
       "overflow": null,
       "overflow_x": null,
       "overflow_y": null,
       "padding": null,
       "right": null,
       "top": null,
       "visibility": null,
       "width": null
      }
     },
     "45664bee2a5a45ca98f408dd506e0139": {
      "model_module": "@jupyter-widgets/controls",
      "model_module_version": "1.5.0",
      "model_name": "HBoxModel",
      "state": {
       "_dom_classes": [],
       "_model_module": "@jupyter-widgets/controls",
       "_model_module_version": "1.5.0",
       "_model_name": "HBoxModel",
       "_view_count": null,
       "_view_module": "@jupyter-widgets/controls",
       "_view_module_version": "1.5.0",
       "_view_name": "HBoxView",
       "box_style": "",
       "children": [
        "IPY_MODEL_ad574864530d42c9a74b93235efb2704",
        "IPY_MODEL_f1e0e2b5f06a409ab7950ec506c2ff28",
        "IPY_MODEL_f926e39186a741bf9bc964e84f982248"
       ],
       "layout": "IPY_MODEL_de1699f0d95040409faf7afb82970cb2"
      }
     },
     "463c7cd0b1df4d08850f0acf9a4ae4cc": {
      "model_module": "@jupyter-widgets/base",
      "model_module_version": "1.2.0",
      "model_name": "LayoutModel",
      "state": {
       "_model_module": "@jupyter-widgets/base",
       "_model_module_version": "1.2.0",
       "_model_name": "LayoutModel",
       "_view_count": null,
       "_view_module": "@jupyter-widgets/base",
       "_view_module_version": "1.2.0",
       "_view_name": "LayoutView",
       "align_content": null,
       "align_items": null,
       "align_self": null,
       "border": null,
       "bottom": null,
       "display": null,
       "flex": null,
       "flex_flow": null,
       "grid_area": null,
       "grid_auto_columns": null,
       "grid_auto_flow": null,
       "grid_auto_rows": null,
       "grid_column": null,
       "grid_gap": null,
       "grid_row": null,
       "grid_template_areas": null,
       "grid_template_columns": null,
       "grid_template_rows": null,
       "height": null,
       "justify_content": null,
       "justify_items": null,
       "left": null,
       "margin": null,
       "max_height": null,
       "max_width": null,
       "min_height": null,
       "min_width": null,
       "object_fit": null,
       "object_position": null,
       "order": null,
       "overflow": null,
       "overflow_x": null,
       "overflow_y": null,
       "padding": null,
       "right": null,
       "top": null,
       "visibility": null,
       "width": null
      }
     },
     "4840a76472b14c328339feb56983670b": {
      "model_module": "@jupyter-widgets/base",
      "model_module_version": "1.2.0",
      "model_name": "LayoutModel",
      "state": {
       "_model_module": "@jupyter-widgets/base",
       "_model_module_version": "1.2.0",
       "_model_name": "LayoutModel",
       "_view_count": null,
       "_view_module": "@jupyter-widgets/base",
       "_view_module_version": "1.2.0",
       "_view_name": "LayoutView",
       "align_content": null,
       "align_items": null,
       "align_self": null,
       "border": null,
       "bottom": null,
       "display": null,
       "flex": null,
       "flex_flow": null,
       "grid_area": null,
       "grid_auto_columns": null,
       "grid_auto_flow": null,
       "grid_auto_rows": null,
       "grid_column": null,
       "grid_gap": null,
       "grid_row": null,
       "grid_template_areas": null,
       "grid_template_columns": null,
       "grid_template_rows": null,
       "height": null,
       "justify_content": null,
       "justify_items": null,
       "left": null,
       "margin": null,
       "max_height": null,
       "max_width": null,
       "min_height": null,
       "min_width": null,
       "object_fit": null,
       "object_position": null,
       "order": null,
       "overflow": null,
       "overflow_x": null,
       "overflow_y": null,
       "padding": null,
       "right": null,
       "top": null,
       "visibility": null,
       "width": null
      }
     },
     "485b01f97fa6496e9e2f9d1a7a8e004e": {
      "model_module": "@jupyter-widgets/controls",
      "model_module_version": "1.5.0",
      "model_name": "FloatProgressModel",
      "state": {
       "_dom_classes": [],
       "_model_module": "@jupyter-widgets/controls",
       "_model_module_version": "1.5.0",
       "_model_name": "FloatProgressModel",
       "_view_count": null,
       "_view_module": "@jupyter-widgets/controls",
       "_view_module_version": "1.5.0",
       "_view_name": "ProgressView",
       "bar_style": "success",
       "description": "",
       "description_tooltip": null,
       "layout": "IPY_MODEL_4840a76472b14c328339feb56983670b",
       "max": 267967963,
       "min": 0,
       "orientation": "horizontal",
       "style": "IPY_MODEL_859d6301ef14497797cc336e4e165fd2",
       "value": 267967963
      }
     },
     "49d1cf06231c4141beed85b6cd05ce8c": {
      "model_module": "@jupyter-widgets/controls",
      "model_module_version": "1.5.0",
      "model_name": "HTMLModel",
      "state": {
       "_dom_classes": [],
       "_model_module": "@jupyter-widgets/controls",
       "_model_module_version": "1.5.0",
       "_model_name": "HTMLModel",
       "_view_count": null,
       "_view_module": "@jupyter-widgets/controls",
       "_view_module_version": "1.5.0",
       "_view_name": "HTMLView",
       "description": "",
       "description_tooltip": null,
       "layout": "IPY_MODEL_afc26f5c406b4089a98c39eafc84a673",
       "placeholder": "​",
       "style": "IPY_MODEL_1b7ddc858e2443f3a666defab69e5a66",
       "value": " 1/1 [00:03&lt;00:00,  3.85s/ba]"
      }
     },
     "4eeda1c7ca8040f985073dfadafa411d": {
      "model_module": "@jupyter-widgets/controls",
      "model_module_version": "1.5.0",
      "model_name": "HBoxModel",
      "state": {
       "_dom_classes": [],
       "_model_module": "@jupyter-widgets/controls",
       "_model_module_version": "1.5.0",
       "_model_name": "HBoxModel",
       "_view_count": null,
       "_view_module": "@jupyter-widgets/controls",
       "_view_module_version": "1.5.0",
       "_view_name": "HBoxView",
       "box_style": "",
       "children": [
        "IPY_MODEL_7d8723f33bef42b3a5279eb353d1fd1e",
        "IPY_MODEL_cc2651e513ea4fbdb8e7e5cb68b20da2",
        "IPY_MODEL_cab2b62a744745a0b0160c95aa36a399"
       ],
       "layout": "IPY_MODEL_454a0c82407c45a1820aa621dc0ebd3a"
      }
     },
     "51465a66cd0b4f7eb6d1e77358a9e686": {
      "model_module": "@jupyter-widgets/controls",
      "model_module_version": "1.5.0",
      "model_name": "HTMLModel",
      "state": {
       "_dom_classes": [],
       "_model_module": "@jupyter-widgets/controls",
       "_model_module_version": "1.5.0",
       "_model_name": "HTMLModel",
       "_view_count": null,
       "_view_module": "@jupyter-widgets/controls",
       "_view_module_version": "1.5.0",
       "_view_name": "HTMLView",
       "description": "",
       "description_tooltip": null,
       "layout": "IPY_MODEL_2778f0060f784196beced9ef93ee45c8",
       "placeholder": "​",
       "style": "IPY_MODEL_79cab69d1aa249879e196fb53bdef3c1",
       "value": "Downloading: 100%"
      }
     },
     "51da286029104366b0762f2cec708735": {
      "model_module": "@jupyter-widgets/base",
      "model_module_version": "1.2.0",
      "model_name": "LayoutModel",
      "state": {
       "_model_module": "@jupyter-widgets/base",
       "_model_module_version": "1.2.0",
       "_model_name": "LayoutModel",
       "_view_count": null,
       "_view_module": "@jupyter-widgets/base",
       "_view_module_version": "1.2.0",
       "_view_name": "LayoutView",
       "align_content": null,
       "align_items": null,
       "align_self": null,
       "border": null,
       "bottom": null,
       "display": null,
       "flex": null,
       "flex_flow": null,
       "grid_area": null,
       "grid_auto_columns": null,
       "grid_auto_flow": null,
       "grid_auto_rows": null,
       "grid_column": null,
       "grid_gap": null,
       "grid_row": null,
       "grid_template_areas": null,
       "grid_template_columns": null,
       "grid_template_rows": null,
       "height": null,
       "justify_content": null,
       "justify_items": null,
       "left": null,
       "margin": null,
       "max_height": null,
       "max_width": null,
       "min_height": null,
       "min_width": null,
       "object_fit": null,
       "object_position": null,
       "order": null,
       "overflow": null,
       "overflow_x": null,
       "overflow_y": null,
       "padding": null,
       "right": null,
       "top": null,
       "visibility": null,
       "width": null
      }
     },
     "5225911de46349e0bd01e22da9471990": {
      "model_module": "@jupyter-widgets/controls",
      "model_module_version": "1.5.0",
      "model_name": "HTMLModel",
      "state": {
       "_dom_classes": [],
       "_model_module": "@jupyter-widgets/controls",
       "_model_module_version": "1.5.0",
       "_model_name": "HTMLModel",
       "_view_count": null,
       "_view_module": "@jupyter-widgets/controls",
       "_view_module_version": "1.5.0",
       "_view_name": "HTMLView",
       "description": "",
       "description_tooltip": null,
       "layout": "IPY_MODEL_ef7c71604c624d6787c0446bd968ca4c",
       "placeholder": "​",
       "style": "IPY_MODEL_0c91f79954284e2a86a4685ba318ea3a",
       "value": " 3/3 [00:00&lt;00:00, 44.10ba/s]"
      }
     },
     "52c62109198d49b599a4aa1a23c01b70": {
      "model_module": "@jupyter-widgets/base",
      "model_module_version": "1.2.0",
      "model_name": "LayoutModel",
      "state": {
       "_model_module": "@jupyter-widgets/base",
       "_model_module_version": "1.2.0",
       "_model_name": "LayoutModel",
       "_view_count": null,
       "_view_module": "@jupyter-widgets/base",
       "_view_module_version": "1.2.0",
       "_view_name": "LayoutView",
       "align_content": null,
       "align_items": null,
       "align_self": null,
       "border": null,
       "bottom": null,
       "display": null,
       "flex": null,
       "flex_flow": null,
       "grid_area": null,
       "grid_auto_columns": null,
       "grid_auto_flow": null,
       "grid_auto_rows": null,
       "grid_column": null,
       "grid_gap": null,
       "grid_row": null,
       "grid_template_areas": null,
       "grid_template_columns": null,
       "grid_template_rows": null,
       "height": null,
       "justify_content": null,
       "justify_items": null,
       "left": null,
       "margin": null,
       "max_height": null,
       "max_width": null,
       "min_height": null,
       "min_width": null,
       "object_fit": null,
       "object_position": null,
       "order": null,
       "overflow": null,
       "overflow_x": null,
       "overflow_y": null,
       "padding": null,
       "right": null,
       "top": null,
       "visibility": null,
       "width": null
      }
     },
     "54a300dd9c0048fca258c00ec4b27c47": {
      "model_module": "@jupyter-widgets/controls",
      "model_module_version": "1.5.0",
      "model_name": "ProgressStyleModel",
      "state": {
       "_model_module": "@jupyter-widgets/controls",
       "_model_module_version": "1.5.0",
       "_model_name": "ProgressStyleModel",
       "_view_count": null,
       "_view_module": "@jupyter-widgets/base",
       "_view_module_version": "1.2.0",
       "_view_name": "StyleView",
       "bar_color": null,
       "description_width": ""
      }
     },
     "56b3586f95824f83aaabeebd7578ad25": {
      "model_module": "@jupyter-widgets/controls",
      "model_module_version": "1.5.0",
      "model_name": "FloatProgressModel",
      "state": {
       "_dom_classes": [],
       "_model_module": "@jupyter-widgets/controls",
       "_model_module_version": "1.5.0",
       "_model_name": "FloatProgressModel",
       "_view_count": null,
       "_view_module": "@jupyter-widgets/controls",
       "_view_module_version": "1.5.0",
       "_view_name": "ProgressView",
       "bar_style": "success",
       "description": "",
       "description_tooltip": null,
       "layout": "IPY_MODEL_2b16b6c0cb094b1dafae3db517229842",
       "max": 816,
       "min": 0,
       "orientation": "horizontal",
       "style": "IPY_MODEL_1724036924324902a47965adec88a2c0",
       "value": 816
      }
     },
     "5aaf1c7af9414192b31269019acf475a": {
      "model_module": "@jupyter-widgets/controls",
      "model_module_version": "1.5.0",
      "model_name": "FloatProgressModel",
      "state": {
       "_dom_classes": [],
       "_model_module": "@jupyter-widgets/controls",
       "_model_module_version": "1.5.0",
       "_model_name": "FloatProgressModel",
       "_view_count": null,
       "_view_module": "@jupyter-widgets/controls",
       "_view_module_version": "1.5.0",
       "_view_name": "ProgressView",
       "bar_style": "success",
       "description": "",
       "description_tooltip": null,
       "layout": "IPY_MODEL_a38dae44824444558083638e370e8323",
       "max": 1,
       "min": 0,
       "orientation": "horizontal",
       "style": "IPY_MODEL_c7a7f29d303442708b4382dae0cc4d64",
       "value": 1
      }
     },
     "5ac91eec1bb94cdab90970ab74cd99f2": {
      "model_module": "@jupyter-widgets/controls",
      "model_module_version": "1.5.0",
      "model_name": "HTMLModel",
      "state": {
       "_dom_classes": [],
       "_model_module": "@jupyter-widgets/controls",
       "_model_module_version": "1.5.0",
       "_model_name": "HTMLModel",
       "_view_count": null,
       "_view_module": "@jupyter-widgets/controls",
       "_view_module_version": "1.5.0",
       "_view_name": "HTMLView",
       "description": "",
       "description_tooltip": null,
       "layout": "IPY_MODEL_0b37b76b6f564503bffaf9927f83151b",
       "placeholder": "​",
       "style": "IPY_MODEL_b6ecef04749a4e6e945a08ce039c26ef",
       "value": " 1/1 [00:27&lt;00:00, 27.89s/ba]"
      }
     },
     "5c3a17b024bf4b89a8493916301c3dee": {
      "model_module": "@jupyter-widgets/base",
      "model_module_version": "1.2.0",
      "model_name": "LayoutModel",
      "state": {
       "_model_module": "@jupyter-widgets/base",
       "_model_module_version": "1.2.0",
       "_model_name": "LayoutModel",
       "_view_count": null,
       "_view_module": "@jupyter-widgets/base",
       "_view_module_version": "1.2.0",
       "_view_name": "LayoutView",
       "align_content": null,
       "align_items": null,
       "align_self": null,
       "border": null,
       "bottom": null,
       "display": null,
       "flex": null,
       "flex_flow": null,
       "grid_area": null,
       "grid_auto_columns": null,
       "grid_auto_flow": null,
       "grid_auto_rows": null,
       "grid_column": null,
       "grid_gap": null,
       "grid_row": null,
       "grid_template_areas": null,
       "grid_template_columns": null,
       "grid_template_rows": null,
       "height": null,
       "justify_content": null,
       "justify_items": null,
       "left": null,
       "margin": null,
       "max_height": null,
       "max_width": null,
       "min_height": null,
       "min_width": null,
       "object_fit": null,
       "object_position": null,
       "order": null,
       "overflow": null,
       "overflow_x": null,
       "overflow_y": null,
       "padding": null,
       "right": null,
       "top": null,
       "visibility": null,
       "width": null
      }
     },
     "5dbfee38a08b46beaf5f8260f4f9634c": {
      "model_module": "@jupyter-widgets/controls",
      "model_module_version": "1.5.0",
      "model_name": "DescriptionStyleModel",
      "state": {
       "_model_module": "@jupyter-widgets/controls",
       "_model_module_version": "1.5.0",
       "_model_name": "DescriptionStyleModel",
       "_view_count": null,
       "_view_module": "@jupyter-widgets/base",
       "_view_module_version": "1.2.0",
       "_view_name": "StyleView",
       "description_width": ""
      }
     },
     "602b7a0864fe4b24b0f02bc63aaa5e54": {
      "model_module": "@jupyter-widgets/controls",
      "model_module_version": "1.5.0",
      "model_name": "HBoxModel",
      "state": {
       "_dom_classes": [],
       "_model_module": "@jupyter-widgets/controls",
       "_model_module_version": "1.5.0",
       "_model_name": "HBoxModel",
       "_view_count": null,
       "_view_module": "@jupyter-widgets/controls",
       "_view_module_version": "1.5.0",
       "_view_name": "HBoxView",
       "box_style": "",
       "children": [
        "IPY_MODEL_04490f3e24bc4a919d1e7846af8992f7",
        "IPY_MODEL_9abddd5f3689415d9b0a799f26f853d2",
        "IPY_MODEL_78b6fafa0bcc4369b67be18a67f32484"
       ],
       "layout": "IPY_MODEL_02aa8d11e2e94653ae8d545a3b7c0fd9"
      }
     },
     "60775eeea0824dad8f5320fc89effb89": {
      "model_module": "@jupyter-widgets/controls",
      "model_module_version": "1.5.0",
      "model_name": "FloatProgressModel",
      "state": {
       "_dom_classes": [],
       "_model_module": "@jupyter-widgets/controls",
       "_model_module_version": "1.5.0",
       "_model_name": "FloatProgressModel",
       "_view_count": null,
       "_view_module": "@jupyter-widgets/controls",
       "_view_module_version": "1.5.0",
       "_view_name": "ProgressView",
       "bar_style": "success",
       "description": "",
       "description_tooltip": null,
       "layout": "IPY_MODEL_b3a07200bf5a45339f23412ffc1698c1",
       "max": 1,
       "min": 0,
       "orientation": "horizontal",
       "style": "IPY_MODEL_eeab8240fbc44e59b00e2dc82ace5ed4",
       "value": 1
      }
     },
     "627b052a8f91489b84bef7aa8063491b": {
      "model_module": "@jupyter-widgets/base",
      "model_module_version": "1.2.0",
      "model_name": "LayoutModel",
      "state": {
       "_model_module": "@jupyter-widgets/base",
       "_model_module_version": "1.2.0",
       "_model_name": "LayoutModel",
       "_view_count": null,
       "_view_module": "@jupyter-widgets/base",
       "_view_module_version": "1.2.0",
       "_view_name": "LayoutView",
       "align_content": null,
       "align_items": null,
       "align_self": null,
       "border": null,
       "bottom": null,
       "display": null,
       "flex": null,
       "flex_flow": null,
       "grid_area": null,
       "grid_auto_columns": null,
       "grid_auto_flow": null,
       "grid_auto_rows": null,
       "grid_column": null,
       "grid_gap": null,
       "grid_row": null,
       "grid_template_areas": null,
       "grid_template_columns": null,
       "grid_template_rows": null,
       "height": null,
       "justify_content": null,
       "justify_items": null,
       "left": null,
       "margin": null,
       "max_height": null,
       "max_width": null,
       "min_height": null,
       "min_width": null,
       "object_fit": null,
       "object_position": null,
       "order": null,
       "overflow": null,
       "overflow_x": null,
       "overflow_y": null,
       "padding": null,
       "right": null,
       "top": null,
       "visibility": null,
       "width": null
      }
     },
     "648e3222e4db47b487e57f709ffdb198": {
      "model_module": "@jupyter-widgets/base",
      "model_module_version": "1.2.0",
      "model_name": "LayoutModel",
      "state": {
       "_model_module": "@jupyter-widgets/base",
       "_model_module_version": "1.2.0",
       "_model_name": "LayoutModel",
       "_view_count": null,
       "_view_module": "@jupyter-widgets/base",
       "_view_module_version": "1.2.0",
       "_view_name": "LayoutView",
       "align_content": null,
       "align_items": null,
       "align_self": null,
       "border": null,
       "bottom": null,
       "display": null,
       "flex": null,
       "flex_flow": null,
       "grid_area": null,
       "grid_auto_columns": null,
       "grid_auto_flow": null,
       "grid_auto_rows": null,
       "grid_column": null,
       "grid_gap": null,
       "grid_row": null,
       "grid_template_areas": null,
       "grid_template_columns": null,
       "grid_template_rows": null,
       "height": null,
       "justify_content": null,
       "justify_items": null,
       "left": null,
       "margin": null,
       "max_height": null,
       "max_width": null,
       "min_height": null,
       "min_width": null,
       "object_fit": null,
       "object_position": null,
       "order": null,
       "overflow": null,
       "overflow_x": null,
       "overflow_y": null,
       "padding": null,
       "right": null,
       "top": null,
       "visibility": null,
       "width": null
      }
     },
     "6830cda5bc8a43e7a9d50d936f2589e6": {
      "model_module": "@jupyter-widgets/controls",
      "model_module_version": "1.5.0",
      "model_name": "DescriptionStyleModel",
      "state": {
       "_model_module": "@jupyter-widgets/controls",
       "_model_module_version": "1.5.0",
       "_model_name": "DescriptionStyleModel",
       "_view_count": null,
       "_view_module": "@jupyter-widgets/base",
       "_view_module_version": "1.2.0",
       "_view_name": "StyleView",
       "description_width": ""
      }
     },
     "6b9b582ca8444c1b9d5800d512be67b7": {
      "model_module": "@jupyter-widgets/controls",
      "model_module_version": "1.5.0",
      "model_name": "HTMLModel",
      "state": {
       "_dom_classes": [],
       "_model_module": "@jupyter-widgets/controls",
       "_model_module_version": "1.5.0",
       "_model_name": "HTMLModel",
       "_view_count": null,
       "_view_module": "@jupyter-widgets/controls",
       "_view_module_version": "1.5.0",
       "_view_name": "HTMLView",
       "description": "",
       "description_tooltip": null,
       "layout": "IPY_MODEL_c37b17fb3b0c4909a4f52464c16c8322",
       "placeholder": "​",
       "style": "IPY_MODEL_71b5279ff62840ce9cd45cc12c1d454a",
       "value": "100%"
      }
     },
     "6c77964e0c1a4024869f2c662a01ac90": {
      "model_module": "@jupyter-widgets/controls",
      "model_module_version": "1.5.0",
      "model_name": "HBoxModel",
      "state": {
       "_dom_classes": [],
       "_model_module": "@jupyter-widgets/controls",
       "_model_module_version": "1.5.0",
       "_model_name": "HBoxModel",
       "_view_count": null,
       "_view_module": "@jupyter-widgets/controls",
       "_view_module_version": "1.5.0",
       "_view_name": "HBoxView",
       "box_style": "",
       "children": [
        "IPY_MODEL_8c4dff1d9f444696b6b9f4095a59837f",
        "IPY_MODEL_2112abeacdd0483ab28b544658488d5c",
        "IPY_MODEL_5225911de46349e0bd01e22da9471990"
       ],
       "layout": "IPY_MODEL_c2a2721b5401430aa109fb5013fe4bb8"
      }
     },
     "6d656ddc4ffc491d84d3917059c3e7f5": {
      "model_module": "@jupyter-widgets/controls",
      "model_module_version": "1.5.0",
      "model_name": "DescriptionStyleModel",
      "state": {
       "_model_module": "@jupyter-widgets/controls",
       "_model_module_version": "1.5.0",
       "_model_name": "DescriptionStyleModel",
       "_view_count": null,
       "_view_module": "@jupyter-widgets/base",
       "_view_module_version": "1.2.0",
       "_view_name": "StyleView",
       "description_width": ""
      }
     },
     "6fd22090ca6a4560acfe79094770a33c": {
      "model_module": "@jupyter-widgets/controls",
      "model_module_version": "1.5.0",
      "model_name": "HBoxModel",
      "state": {
       "_dom_classes": [],
       "_model_module": "@jupyter-widgets/controls",
       "_model_module_version": "1.5.0",
       "_model_name": "HBoxModel",
       "_view_count": null,
       "_view_module": "@jupyter-widgets/controls",
       "_view_module_version": "1.5.0",
       "_view_name": "HBoxView",
       "box_style": "",
       "children": [
        "IPY_MODEL_ee20feb0f6e74289b31501c841e99d88",
        "IPY_MODEL_2171799a98b842a59180007c3574ee03",
        "IPY_MODEL_c93c19abf3b24ef885324276d8b54d31"
       ],
       "layout": "IPY_MODEL_51da286029104366b0762f2cec708735"
      }
     },
     "71b5279ff62840ce9cd45cc12c1d454a": {
      "model_module": "@jupyter-widgets/controls",
      "model_module_version": "1.5.0",
      "model_name": "DescriptionStyleModel",
      "state": {
       "_model_module": "@jupyter-widgets/controls",
       "_model_module_version": "1.5.0",
       "_model_name": "DescriptionStyleModel",
       "_view_count": null,
       "_view_module": "@jupyter-widgets/base",
       "_view_module_version": "1.2.0",
       "_view_name": "StyleView",
       "description_width": ""
      }
     },
     "750f0584df674e319416e53aedee4e41": {
      "model_module": "@jupyter-widgets/base",
      "model_module_version": "1.2.0",
      "model_name": "LayoutModel",
      "state": {
       "_model_module": "@jupyter-widgets/base",
       "_model_module_version": "1.2.0",
       "_model_name": "LayoutModel",
       "_view_count": null,
       "_view_module": "@jupyter-widgets/base",
       "_view_module_version": "1.2.0",
       "_view_name": "LayoutView",
       "align_content": null,
       "align_items": null,
       "align_self": null,
       "border": null,
       "bottom": null,
       "display": null,
       "flex": null,
       "flex_flow": null,
       "grid_area": null,
       "grid_auto_columns": null,
       "grid_auto_flow": null,
       "grid_auto_rows": null,
       "grid_column": null,
       "grid_gap": null,
       "grid_row": null,
       "grid_template_areas": null,
       "grid_template_columns": null,
       "grid_template_rows": null,
       "height": null,
       "justify_content": null,
       "justify_items": null,
       "left": null,
       "margin": null,
       "max_height": null,
       "max_width": null,
       "min_height": null,
       "min_width": null,
       "object_fit": null,
       "object_position": null,
       "order": null,
       "overflow": null,
       "overflow_x": null,
       "overflow_y": null,
       "padding": null,
       "right": null,
       "top": null,
       "visibility": null,
       "width": null
      }
     },
     "76df06d2583742b5af40f9fb64002298": {
      "model_module": "@jupyter-widgets/controls",
      "model_module_version": "1.5.0",
      "model_name": "ProgressStyleModel",
      "state": {
       "_model_module": "@jupyter-widgets/controls",
       "_model_module_version": "1.5.0",
       "_model_name": "ProgressStyleModel",
       "_view_count": null,
       "_view_module": "@jupyter-widgets/base",
       "_view_module_version": "1.2.0",
       "_view_name": "StyleView",
       "bar_color": null,
       "description_width": ""
      }
     },
     "7843c8d703ef4e41a77545d33e8202ed": {
      "model_module": "@jupyter-widgets/base",
      "model_module_version": "1.2.0",
      "model_name": "LayoutModel",
      "state": {
       "_model_module": "@jupyter-widgets/base",
       "_model_module_version": "1.2.0",
       "_model_name": "LayoutModel",
       "_view_count": null,
       "_view_module": "@jupyter-widgets/base",
       "_view_module_version": "1.2.0",
       "_view_name": "LayoutView",
       "align_content": null,
       "align_items": null,
       "align_self": null,
       "border": null,
       "bottom": null,
       "display": null,
       "flex": null,
       "flex_flow": null,
       "grid_area": null,
       "grid_auto_columns": null,
       "grid_auto_flow": null,
       "grid_auto_rows": null,
       "grid_column": null,
       "grid_gap": null,
       "grid_row": null,
       "grid_template_areas": null,
       "grid_template_columns": null,
       "grid_template_rows": null,
       "height": null,
       "justify_content": null,
       "justify_items": null,
       "left": null,
       "margin": null,
       "max_height": null,
       "max_width": null,
       "min_height": null,
       "min_width": null,
       "object_fit": null,
       "object_position": null,
       "order": null,
       "overflow": null,
       "overflow_x": null,
       "overflow_y": null,
       "padding": null,
       "right": null,
       "top": null,
       "visibility": null,
       "width": null
      }
     },
     "78b6fafa0bcc4369b67be18a67f32484": {
      "model_module": "@jupyter-widgets/controls",
      "model_module_version": "1.5.0",
      "model_name": "HTMLModel",
      "state": {
       "_dom_classes": [],
       "_model_module": "@jupyter-widgets/controls",
       "_model_module_version": "1.5.0",
       "_model_name": "HTMLModel",
       "_view_count": null,
       "_view_module": "@jupyter-widgets/controls",
       "_view_module_version": "1.5.0",
       "_view_name": "HTMLView",
       "description": "",
       "description_tooltip": null,
       "layout": "IPY_MODEL_0f227cdbf1b3489f927a1ae7bb5d4d97",
       "placeholder": "​",
       "style": "IPY_MODEL_bbd40b7bf0fc40428bcb64539272e982",
       "value": " 3/3 [00:00&lt;00:00, 13.46ba/s]"
      }
     },
     "78c02b7c096646a796d42dfeb7d1f1db": {
      "model_module": "@jupyter-widgets/controls",
      "model_module_version": "1.5.0",
      "model_name": "HTMLModel",
      "state": {
       "_dom_classes": [],
       "_model_module": "@jupyter-widgets/controls",
       "_model_module_version": "1.5.0",
       "_model_name": "HTMLModel",
       "_view_count": null,
       "_view_module": "@jupyter-widgets/controls",
       "_view_module_version": "1.5.0",
       "_view_name": "HTMLView",
       "description": "",
       "description_tooltip": null,
       "layout": "IPY_MODEL_5c3a17b024bf4b89a8493916301c3dee",
       "placeholder": "​",
       "style": "IPY_MODEL_18340d20033644a6a5289a8a80617a86",
       "value": " 226k/226k [00:00&lt;00:00, 3.04MB/s]"
      }
     },
     "79cab69d1aa249879e196fb53bdef3c1": {
      "model_module": "@jupyter-widgets/controls",
      "model_module_version": "1.5.0",
      "model_name": "DescriptionStyleModel",
      "state": {
       "_model_module": "@jupyter-widgets/controls",
       "_model_module_version": "1.5.0",
       "_model_name": "DescriptionStyleModel",
       "_view_count": null,
       "_view_module": "@jupyter-widgets/base",
       "_view_module_version": "1.2.0",
       "_view_name": "StyleView",
       "description_width": ""
      }
     },
     "7a8911b04f1a48b288519fcbf45869ae": {
      "model_module": "@jupyter-widgets/controls",
      "model_module_version": "1.5.0",
      "model_name": "DescriptionStyleModel",
      "state": {
       "_model_module": "@jupyter-widgets/controls",
       "_model_module_version": "1.5.0",
       "_model_name": "DescriptionStyleModel",
       "_view_count": null,
       "_view_module": "@jupyter-widgets/base",
       "_view_module_version": "1.2.0",
       "_view_name": "StyleView",
       "description_width": ""
      }
     },
     "7c2c646160e2457197d54cae1f9f6e3d": {
      "model_module": "@jupyter-widgets/controls",
      "model_module_version": "1.5.0",
      "model_name": "DescriptionStyleModel",
      "state": {
       "_model_module": "@jupyter-widgets/controls",
       "_model_module_version": "1.5.0",
       "_model_name": "DescriptionStyleModel",
       "_view_count": null,
       "_view_module": "@jupyter-widgets/base",
       "_view_module_version": "1.2.0",
       "_view_name": "StyleView",
       "description_width": ""
      }
     },
     "7d8723f33bef42b3a5279eb353d1fd1e": {
      "model_module": "@jupyter-widgets/controls",
      "model_module_version": "1.5.0",
      "model_name": "HTMLModel",
      "state": {
       "_dom_classes": [],
       "_model_module": "@jupyter-widgets/controls",
       "_model_module_version": "1.5.0",
       "_model_name": "HTMLModel",
       "_view_count": null,
       "_view_module": "@jupyter-widgets/controls",
       "_view_module_version": "1.5.0",
       "_view_name": "HTMLView",
       "description": "",
       "description_tooltip": null,
       "layout": "IPY_MODEL_055539458d6046eebbe5e389d9c1309d",
       "placeholder": "​",
       "style": "IPY_MODEL_0bc5e710930f4333adab384545b5e050",
       "value": "Casting to class labels: 100%"
      }
     },
     "8034be1e73ff4eb28ce40e51d47deb59": {
      "model_module": "@jupyter-widgets/base",
      "model_module_version": "1.2.0",
      "model_name": "LayoutModel",
      "state": {
       "_model_module": "@jupyter-widgets/base",
       "_model_module_version": "1.2.0",
       "_model_name": "LayoutModel",
       "_view_count": null,
       "_view_module": "@jupyter-widgets/base",
       "_view_module_version": "1.2.0",
       "_view_name": "LayoutView",
       "align_content": null,
       "align_items": null,
       "align_self": null,
       "border": null,
       "bottom": null,
       "display": null,
       "flex": null,
       "flex_flow": null,
       "grid_area": null,
       "grid_auto_columns": null,
       "grid_auto_flow": null,
       "grid_auto_rows": null,
       "grid_column": null,
       "grid_gap": null,
       "grid_row": null,
       "grid_template_areas": null,
       "grid_template_columns": null,
       "grid_template_rows": null,
       "height": null,
       "justify_content": null,
       "justify_items": null,
       "left": null,
       "margin": null,
       "max_height": null,
       "max_width": null,
       "min_height": null,
       "min_width": null,
       "object_fit": null,
       "object_position": null,
       "order": null,
       "overflow": null,
       "overflow_x": null,
       "overflow_y": null,
       "padding": null,
       "right": null,
       "top": null,
       "visibility": null,
       "width": null
      }
     },
     "8291a927a2334cd889f336b2ddc74b8f": {
      "model_module": "@jupyter-widgets/controls",
      "model_module_version": "1.5.0",
      "model_name": "DescriptionStyleModel",
      "state": {
       "_model_module": "@jupyter-widgets/controls",
       "_model_module_version": "1.5.0",
       "_model_name": "DescriptionStyleModel",
       "_view_count": null,
       "_view_module": "@jupyter-widgets/base",
       "_view_module_version": "1.2.0",
       "_view_name": "StyleView",
       "description_width": ""
      }
     },
     "859d6301ef14497797cc336e4e165fd2": {
      "model_module": "@jupyter-widgets/controls",
      "model_module_version": "1.5.0",
      "model_name": "ProgressStyleModel",
      "state": {
       "_model_module": "@jupyter-widgets/controls",
       "_model_module_version": "1.5.0",
       "_model_name": "ProgressStyleModel",
       "_view_count": null,
       "_view_module": "@jupyter-widgets/base",
       "_view_module_version": "1.2.0",
       "_view_name": "StyleView",
       "bar_color": null,
       "description_width": ""
      }
     },
     "87ac990b69e74c5a8a06071d3c76ae20": {
      "model_module": "@jupyter-widgets/controls",
      "model_module_version": "1.5.0",
      "model_name": "HBoxModel",
      "state": {
       "_dom_classes": [],
       "_model_module": "@jupyter-widgets/controls",
       "_model_module_version": "1.5.0",
       "_model_name": "HBoxModel",
       "_view_count": null,
       "_view_module": "@jupyter-widgets/controls",
       "_view_module_version": "1.5.0",
       "_view_name": "HBoxView",
       "box_style": "",
       "children": [
        "IPY_MODEL_29b2403c1e7f493fbcaa51f85974d8a7",
        "IPY_MODEL_91556e57ecc84938b8f84ea51163b83a",
        "IPY_MODEL_0bd879f987a14724a12eaa95dede44a6"
       ],
       "layout": "IPY_MODEL_f1ca70aa4e8e4684baca9222ad067bc2"
      }
     },
     "882bb755687b4ef7a5b3c6ee356aef85": {
      "model_module": "@jupyter-widgets/base",
      "model_module_version": "1.2.0",
      "model_name": "LayoutModel",
      "state": {
       "_model_module": "@jupyter-widgets/base",
       "_model_module_version": "1.2.0",
       "_model_name": "LayoutModel",
       "_view_count": null,
       "_view_module": "@jupyter-widgets/base",
       "_view_module_version": "1.2.0",
       "_view_name": "LayoutView",
       "align_content": null,
       "align_items": null,
       "align_self": null,
       "border": null,
       "bottom": null,
       "display": null,
       "flex": null,
       "flex_flow": null,
       "grid_area": null,
       "grid_auto_columns": null,
       "grid_auto_flow": null,
       "grid_auto_rows": null,
       "grid_column": null,
       "grid_gap": null,
       "grid_row": null,
       "grid_template_areas": null,
       "grid_template_columns": null,
       "grid_template_rows": null,
       "height": null,
       "justify_content": null,
       "justify_items": null,
       "left": null,
       "margin": null,
       "max_height": null,
       "max_width": null,
       "min_height": null,
       "min_width": null,
       "object_fit": null,
       "object_position": null,
       "order": null,
       "overflow": null,
       "overflow_x": null,
       "overflow_y": null,
       "padding": null,
       "right": null,
       "top": null,
       "visibility": null,
       "width": null
      }
     },
     "8a19fa2897344038a29c32b1d8e5df7a": {
      "model_module": "@jupyter-widgets/base",
      "model_module_version": "1.2.0",
      "model_name": "LayoutModel",
      "state": {
       "_model_module": "@jupyter-widgets/base",
       "_model_module_version": "1.2.0",
       "_model_name": "LayoutModel",
       "_view_count": null,
       "_view_module": "@jupyter-widgets/base",
       "_view_module_version": "1.2.0",
       "_view_name": "LayoutView",
       "align_content": null,
       "align_items": null,
       "align_self": null,
       "border": null,
       "bottom": null,
       "display": null,
       "flex": null,
       "flex_flow": null,
       "grid_area": null,
       "grid_auto_columns": null,
       "grid_auto_flow": null,
       "grid_auto_rows": null,
       "grid_column": null,
       "grid_gap": null,
       "grid_row": null,
       "grid_template_areas": null,
       "grid_template_columns": null,
       "grid_template_rows": null,
       "height": null,
       "justify_content": null,
       "justify_items": null,
       "left": null,
       "margin": null,
       "max_height": null,
       "max_width": null,
       "min_height": null,
       "min_width": null,
       "object_fit": null,
       "object_position": null,
       "order": null,
       "overflow": null,
       "overflow_x": null,
       "overflow_y": null,
       "padding": null,
       "right": null,
       "top": null,
       "visibility": null,
       "width": null
      }
     },
     "8a3b5077e9ee43c1be0c43a633eaca3d": {
      "model_module": "@jupyter-widgets/controls",
      "model_module_version": "1.5.0",
      "model_name": "HBoxModel",
      "state": {
       "_dom_classes": [],
       "_model_module": "@jupyter-widgets/controls",
       "_model_module_version": "1.5.0",
       "_model_name": "HBoxModel",
       "_view_count": null,
       "_view_module": "@jupyter-widgets/controls",
       "_view_module_version": "1.5.0",
       "_view_name": "HBoxView",
       "box_style": "",
       "children": [
        "IPY_MODEL_51465a66cd0b4f7eb6d1e77358a9e686",
        "IPY_MODEL_fdadc79f51bf4dea9aed4ad05d3616ae",
        "IPY_MODEL_78c02b7c096646a796d42dfeb7d1f1db"
       ],
       "layout": "IPY_MODEL_23333ede01f64adf898e937e6de2bbd5"
      }
     },
     "8c4dff1d9f444696b6b9f4095a59837f": {
      "model_module": "@jupyter-widgets/controls",
      "model_module_version": "1.5.0",
      "model_name": "HTMLModel",
      "state": {
       "_dom_classes": [],
       "_model_module": "@jupyter-widgets/controls",
       "_model_module_version": "1.5.0",
       "_model_name": "HTMLModel",
       "_view_count": null,
       "_view_module": "@jupyter-widgets/controls",
       "_view_module_version": "1.5.0",
       "_view_name": "HTMLView",
       "description": "",
       "description_tooltip": null,
       "layout": "IPY_MODEL_8034be1e73ff4eb28ce40e51d47deb59",
       "placeholder": "​",
       "style": "IPY_MODEL_f0bd1159599d4c8f86e699e36d6c9437",
       "value": "Casting to class labels: 100%"
      }
     },
     "8d047b2795cc457db2b97cac9efab012": {
      "model_module": "@jupyter-widgets/controls",
      "model_module_version": "1.5.0",
      "model_name": "ProgressStyleModel",
      "state": {
       "_model_module": "@jupyter-widgets/controls",
       "_model_module_version": "1.5.0",
       "_model_name": "ProgressStyleModel",
       "_view_count": null,
       "_view_module": "@jupyter-widgets/base",
       "_view_module_version": "1.2.0",
       "_view_name": "StyleView",
       "bar_color": null,
       "description_width": ""
      }
     },
     "8d3b08050fa448cda6a7d94347a93fde": {
      "model_module": "@jupyter-widgets/controls",
      "model_module_version": "1.5.0",
      "model_name": "FloatProgressModel",
      "state": {
       "_dom_classes": [],
       "_model_module": "@jupyter-widgets/controls",
       "_model_module_version": "1.5.0",
       "_model_name": "FloatProgressModel",
       "_view_count": null,
       "_view_module": "@jupyter-widgets/controls",
       "_view_module_version": "1.5.0",
       "_view_name": "ProgressView",
       "bar_style": "success",
       "description": "",
       "description_tooltip": null,
       "layout": "IPY_MODEL_750f0584df674e319416e53aedee4e41",
       "max": 1,
       "min": 0,
       "orientation": "horizontal",
       "style": "IPY_MODEL_c8d88beb16b0478380d078040113e4c7",
       "value": 1
      }
     },
     "9024cdb54647417796e0339cab3f710b": {
      "model_module": "@jupyter-widgets/controls",
      "model_module_version": "1.5.0",
      "model_name": "HBoxModel",
      "state": {
       "_dom_classes": [],
       "_model_module": "@jupyter-widgets/controls",
       "_model_module_version": "1.5.0",
       "_model_name": "HBoxModel",
       "_view_count": null,
       "_view_module": "@jupyter-widgets/controls",
       "_view_module_version": "1.5.0",
       "_view_name": "HBoxView",
       "box_style": "",
       "children": [
        "IPY_MODEL_3c0ded557ad842ba907fc82925c069de",
        "IPY_MODEL_b0cbdd9b4cbe404eb033d002569a3000",
        "IPY_MODEL_9c5bb09372364c26afc69b023ba30dfe"
       ],
       "layout": "IPY_MODEL_df452705affd4130aa674bf4b0440e47"
      }
     },
     "91556e57ecc84938b8f84ea51163b83a": {
      "model_module": "@jupyter-widgets/controls",
      "model_module_version": "1.5.0",
      "model_name": "FloatProgressModel",
      "state": {
       "_dom_classes": [],
       "_model_module": "@jupyter-widgets/controls",
       "_model_module_version": "1.5.0",
       "_model_name": "FloatProgressModel",
       "_view_count": null,
       "_view_module": "@jupyter-widgets/controls",
       "_view_module_version": "1.5.0",
       "_view_name": "ProgressView",
       "bar_style": "success",
       "description": "",
       "description_tooltip": null,
       "layout": "IPY_MODEL_d3d75dbbd4e04a778f57cab320ea5637",
       "max": 28,
       "min": 0,
       "orientation": "horizontal",
       "style": "IPY_MODEL_dd7082f0a6ca498b988f3f56cf1c9959",
       "value": 28
      }
     },
     "9371232231224aa388d61382d13348eb": {
      "model_module": "@jupyter-widgets/base",
      "model_module_version": "1.2.0",
      "model_name": "LayoutModel",
      "state": {
       "_model_module": "@jupyter-widgets/base",
       "_model_module_version": "1.2.0",
       "_model_name": "LayoutModel",
       "_view_count": null,
       "_view_module": "@jupyter-widgets/base",
       "_view_module_version": "1.2.0",
       "_view_name": "LayoutView",
       "align_content": null,
       "align_items": null,
       "align_self": null,
       "border": null,
       "bottom": null,
       "display": null,
       "flex": null,
       "flex_flow": null,
       "grid_area": null,
       "grid_auto_columns": null,
       "grid_auto_flow": null,
       "grid_auto_rows": null,
       "grid_column": null,
       "grid_gap": null,
       "grid_row": null,
       "grid_template_areas": null,
       "grid_template_columns": null,
       "grid_template_rows": null,
       "height": null,
       "justify_content": null,
       "justify_items": null,
       "left": null,
       "margin": null,
       "max_height": null,
       "max_width": null,
       "min_height": null,
       "min_width": null,
       "object_fit": null,
       "object_position": null,
       "order": null,
       "overflow": null,
       "overflow_x": null,
       "overflow_y": null,
       "padding": null,
       "right": null,
       "top": null,
       "visibility": null,
       "width": null
      }
     },
     "946729cb75674a558883033a265334b5": {
      "model_module": "@jupyter-widgets/base",
      "model_module_version": "1.2.0",
      "model_name": "LayoutModel",
      "state": {
       "_model_module": "@jupyter-widgets/base",
       "_model_module_version": "1.2.0",
       "_model_name": "LayoutModel",
       "_view_count": null,
       "_view_module": "@jupyter-widgets/base",
       "_view_module_version": "1.2.0",
       "_view_name": "LayoutView",
       "align_content": null,
       "align_items": null,
       "align_self": null,
       "border": null,
       "bottom": null,
       "display": null,
       "flex": null,
       "flex_flow": null,
       "grid_area": null,
       "grid_auto_columns": null,
       "grid_auto_flow": null,
       "grid_auto_rows": null,
       "grid_column": null,
       "grid_gap": null,
       "grid_row": null,
       "grid_template_areas": null,
       "grid_template_columns": null,
       "grid_template_rows": null,
       "height": null,
       "justify_content": null,
       "justify_items": null,
       "left": null,
       "margin": null,
       "max_height": null,
       "max_width": null,
       "min_height": null,
       "min_width": null,
       "object_fit": null,
       "object_position": null,
       "order": null,
       "overflow": null,
       "overflow_x": null,
       "overflow_y": null,
       "padding": null,
       "right": null,
       "top": null,
       "visibility": null,
       "width": null
      }
     },
     "959ded2095ce401cb010fbf0fa46aa11": {
      "model_module": "@jupyter-widgets/controls",
      "model_module_version": "1.5.0",
      "model_name": "DescriptionStyleModel",
      "state": {
       "_model_module": "@jupyter-widgets/controls",
       "_model_module_version": "1.5.0",
       "_model_name": "DescriptionStyleModel",
       "_view_count": null,
       "_view_module": "@jupyter-widgets/base",
       "_view_module_version": "1.2.0",
       "_view_name": "StyleView",
       "description_width": ""
      }
     },
     "98ab1649b01c4e7ba2f761089654fe94": {
      "model_module": "@jupyter-widgets/controls",
      "model_module_version": "1.5.0",
      "model_name": "DescriptionStyleModel",
      "state": {
       "_model_module": "@jupyter-widgets/controls",
       "_model_module_version": "1.5.0",
       "_model_name": "DescriptionStyleModel",
       "_view_count": null,
       "_view_module": "@jupyter-widgets/base",
       "_view_module_version": "1.2.0",
       "_view_name": "StyleView",
       "description_width": ""
      }
     },
     "9abddd5f3689415d9b0a799f26f853d2": {
      "model_module": "@jupyter-widgets/controls",
      "model_module_version": "1.5.0",
      "model_name": "FloatProgressModel",
      "state": {
       "_dom_classes": [],
       "_model_module": "@jupyter-widgets/controls",
       "_model_module_version": "1.5.0",
       "_model_name": "FloatProgressModel",
       "_view_count": null,
       "_view_module": "@jupyter-widgets/controls",
       "_view_module_version": "1.5.0",
       "_view_name": "ProgressView",
       "bar_style": "success",
       "description": "",
       "description_tooltip": null,
       "layout": "IPY_MODEL_393f2016ce7c4457852d40cdb412cc20",
       "max": 3,
       "min": 0,
       "orientation": "horizontal",
       "style": "IPY_MODEL_ee6c3ba55b1f4a26a2299c5f572bbbf8",
       "value": 3
      }
     },
     "9c5bb09372364c26afc69b023ba30dfe": {
      "model_module": "@jupyter-widgets/controls",
      "model_module_version": "1.5.0",
      "model_name": "HTMLModel",
      "state": {
       "_dom_classes": [],
       "_model_module": "@jupyter-widgets/controls",
       "_model_module_version": "1.5.0",
       "_model_name": "HTMLModel",
       "_view_count": null,
       "_view_module": "@jupyter-widgets/controls",
       "_view_module_version": "1.5.0",
       "_view_name": "HTMLView",
       "description": "",
       "description_tooltip": null,
       "layout": "IPY_MODEL_c0567b9df2ae409a80a84ab3fe6196b1",
       "placeholder": "​",
       "style": "IPY_MODEL_f905aa0e7b57484cbde3c54615aa8215",
       "value": " 91/91 [00:26&lt;00:00,  3.83ba/s]"
      }
     },
     "a19e98329bee4a25bae189fdf63259e0": {
      "model_module": "@jupyter-widgets/base",
      "model_module_version": "1.2.0",
      "model_name": "LayoutModel",
      "state": {
       "_model_module": "@jupyter-widgets/base",
       "_model_module_version": "1.2.0",
       "_model_name": "LayoutModel",
       "_view_count": null,
       "_view_module": "@jupyter-widgets/base",
       "_view_module_version": "1.2.0",
       "_view_name": "LayoutView",
       "align_content": null,
       "align_items": null,
       "align_self": null,
       "border": null,
       "bottom": null,
       "display": null,
       "flex": null,
       "flex_flow": null,
       "grid_area": null,
       "grid_auto_columns": null,
       "grid_auto_flow": null,
       "grid_auto_rows": null,
       "grid_column": null,
       "grid_gap": null,
       "grid_row": null,
       "grid_template_areas": null,
       "grid_template_columns": null,
       "grid_template_rows": null,
       "height": null,
       "justify_content": null,
       "justify_items": null,
       "left": null,
       "margin": null,
       "max_height": null,
       "max_width": null,
       "min_height": null,
       "min_width": null,
       "object_fit": null,
       "object_position": null,
       "order": null,
       "overflow": null,
       "overflow_x": null,
       "overflow_y": null,
       "padding": null,
       "right": null,
       "top": null,
       "visibility": null,
       "width": null
      }
     },
     "a38dae44824444558083638e370e8323": {
      "model_module": "@jupyter-widgets/base",
      "model_module_version": "1.2.0",
      "model_name": "LayoutModel",
      "state": {
       "_model_module": "@jupyter-widgets/base",
       "_model_module_version": "1.2.0",
       "_model_name": "LayoutModel",
       "_view_count": null,
       "_view_module": "@jupyter-widgets/base",
       "_view_module_version": "1.2.0",
       "_view_name": "LayoutView",
       "align_content": null,
       "align_items": null,
       "align_self": null,
       "border": null,
       "bottom": null,
       "display": null,
       "flex": null,
       "flex_flow": null,
       "grid_area": null,
       "grid_auto_columns": null,
       "grid_auto_flow": null,
       "grid_auto_rows": null,
       "grid_column": null,
       "grid_gap": null,
       "grid_row": null,
       "grid_template_areas": null,
       "grid_template_columns": null,
       "grid_template_rows": null,
       "height": null,
       "justify_content": null,
       "justify_items": null,
       "left": null,
       "margin": null,
       "max_height": null,
       "max_width": null,
       "min_height": null,
       "min_width": null,
       "object_fit": null,
       "object_position": null,
       "order": null,
       "overflow": null,
       "overflow_x": null,
       "overflow_y": null,
       "padding": null,
       "right": null,
       "top": null,
       "visibility": null,
       "width": null
      }
     },
     "aa44423a661f472d8a1d27f415b4ad47": {
      "model_module": "@jupyter-widgets/controls",
      "model_module_version": "1.5.0",
      "model_name": "HBoxModel",
      "state": {
       "_dom_classes": [],
       "_model_module": "@jupyter-widgets/controls",
       "_model_module_version": "1.5.0",
       "_model_name": "HBoxModel",
       "_view_count": null,
       "_view_module": "@jupyter-widgets/controls",
       "_view_module_version": "1.5.0",
       "_view_name": "HBoxView",
       "box_style": "",
       "children": [
        "IPY_MODEL_2f0b719ac5044580b153a2bbb695d35d",
        "IPY_MODEL_60775eeea0824dad8f5320fc89effb89",
        "IPY_MODEL_49d1cf06231c4141beed85b6cd05ce8c"
       ],
       "layout": "IPY_MODEL_3f5ed27db979472f992707145efd8b17"
      }
     },
     "ab23b81d9b2c455698570f62dd9d3e4a": {
      "model_module": "@jupyter-widgets/base",
      "model_module_version": "1.2.0",
      "model_name": "LayoutModel",
      "state": {
       "_model_module": "@jupyter-widgets/base",
       "_model_module_version": "1.2.0",
       "_model_name": "LayoutModel",
       "_view_count": null,
       "_view_module": "@jupyter-widgets/base",
       "_view_module_version": "1.2.0",
       "_view_name": "LayoutView",
       "align_content": null,
       "align_items": null,
       "align_self": null,
       "border": null,
       "bottom": null,
       "display": null,
       "flex": null,
       "flex_flow": null,
       "grid_area": null,
       "grid_auto_columns": null,
       "grid_auto_flow": null,
       "grid_auto_rows": null,
       "grid_column": null,
       "grid_gap": null,
       "grid_row": null,
       "grid_template_areas": null,
       "grid_template_columns": null,
       "grid_template_rows": null,
       "height": null,
       "justify_content": null,
       "justify_items": null,
       "left": null,
       "margin": null,
       "max_height": null,
       "max_width": null,
       "min_height": null,
       "min_width": null,
       "object_fit": null,
       "object_position": null,
       "order": null,
       "overflow": null,
       "overflow_x": null,
       "overflow_y": null,
       "padding": null,
       "right": null,
       "top": null,
       "visibility": null,
       "width": null
      }
     },
     "ac884fba78ab430a92877559a5cfdafe": {
      "model_module": "@jupyter-widgets/controls",
      "model_module_version": "1.5.0",
      "model_name": "HTMLModel",
      "state": {
       "_dom_classes": [],
       "_model_module": "@jupyter-widgets/controls",
       "_model_module_version": "1.5.0",
       "_model_name": "HTMLModel",
       "_view_count": null,
       "_view_module": "@jupyter-widgets/controls",
       "_view_module_version": "1.5.0",
       "_view_name": "HTMLView",
       "description": "",
       "description_tooltip": null,
       "layout": "IPY_MODEL_946729cb75674a558883033a265334b5",
       "placeholder": "​",
       "style": "IPY_MODEL_ed2d3ffbe0eb41cf91f56f975142079f",
       "value": "Casting the dataset: 100%"
      }
     },
     "ad574864530d42c9a74b93235efb2704": {
      "model_module": "@jupyter-widgets/controls",
      "model_module_version": "1.5.0",
      "model_name": "HTMLModel",
      "state": {
       "_dom_classes": [],
       "_model_module": "@jupyter-widgets/controls",
       "_model_module_version": "1.5.0",
       "_model_name": "HTMLModel",
       "_view_count": null,
       "_view_module": "@jupyter-widgets/controls",
       "_view_module_version": "1.5.0",
       "_view_name": "HTMLView",
       "description": "",
       "description_tooltip": null,
       "layout": "IPY_MODEL_e050ee50147c4b6ca19dc52396276015",
       "placeholder": "​",
       "style": "IPY_MODEL_0e71c3fac5e443b6b2420add0fc8ffc2",
       "value": "Downloading: 100%"
      }
     },
     "afc26f5c406b4089a98c39eafc84a673": {
      "model_module": "@jupyter-widgets/base",
      "model_module_version": "1.2.0",
      "model_name": "LayoutModel",
      "state": {
       "_model_module": "@jupyter-widgets/base",
       "_model_module_version": "1.2.0",
       "_model_name": "LayoutModel",
       "_view_count": null,
       "_view_module": "@jupyter-widgets/base",
       "_view_module_version": "1.2.0",
       "_view_name": "LayoutView",
       "align_content": null,
       "align_items": null,
       "align_self": null,
       "border": null,
       "bottom": null,
       "display": null,
       "flex": null,
       "flex_flow": null,
       "grid_area": null,
       "grid_auto_columns": null,
       "grid_auto_flow": null,
       "grid_auto_rows": null,
       "grid_column": null,
       "grid_gap": null,
       "grid_row": null,
       "grid_template_areas": null,
       "grid_template_columns": null,
       "grid_template_rows": null,
       "height": null,
       "justify_content": null,
       "justify_items": null,
       "left": null,
       "margin": null,
       "max_height": null,
       "max_width": null,
       "min_height": null,
       "min_width": null,
       "object_fit": null,
       "object_position": null,
       "order": null,
       "overflow": null,
       "overflow_x": null,
       "overflow_y": null,
       "padding": null,
       "right": null,
       "top": null,
       "visibility": null,
       "width": null
      }
     },
     "b086d38d1d5f42c0b2a14b957da0a4c7": {
      "model_module": "@jupyter-widgets/controls",
      "model_module_version": "1.5.0",
      "model_name": "DescriptionStyleModel",
      "state": {
       "_model_module": "@jupyter-widgets/controls",
       "_model_module_version": "1.5.0",
       "_model_name": "DescriptionStyleModel",
       "_view_count": null,
       "_view_module": "@jupyter-widgets/base",
       "_view_module_version": "1.2.0",
       "_view_name": "StyleView",
       "description_width": ""
      }
     },
     "b0cbdd9b4cbe404eb033d002569a3000": {
      "model_module": "@jupyter-widgets/controls",
      "model_module_version": "1.5.0",
      "model_name": "FloatProgressModel",
      "state": {
       "_dom_classes": [],
       "_model_module": "@jupyter-widgets/controls",
       "_model_module_version": "1.5.0",
       "_model_name": "FloatProgressModel",
       "_view_count": null,
       "_view_module": "@jupyter-widgets/controls",
       "_view_module_version": "1.5.0",
       "_view_name": "ProgressView",
       "bar_style": "success",
       "description": "",
       "description_tooltip": null,
       "layout": "IPY_MODEL_d06ca0d7343d40c4b9a24eb4878ebe7c",
       "max": 91,
       "min": 0,
       "orientation": "horizontal",
       "style": "IPY_MODEL_d0ace4f092cb46ed90cefc410bd22232",
       "value": 91
      }
     },
     "b1e4bde4a80f4a6b8950a0bba07e67a7": {
      "model_module": "@jupyter-widgets/base",
      "model_module_version": "1.2.0",
      "model_name": "LayoutModel",
      "state": {
       "_model_module": "@jupyter-widgets/base",
       "_model_module_version": "1.2.0",
       "_model_name": "LayoutModel",
       "_view_count": null,
       "_view_module": "@jupyter-widgets/base",
       "_view_module_version": "1.2.0",
       "_view_name": "LayoutView",
       "align_content": null,
       "align_items": null,
       "align_self": null,
       "border": null,
       "bottom": null,
       "display": null,
       "flex": null,
       "flex_flow": null,
       "grid_area": null,
       "grid_auto_columns": null,
       "grid_auto_flow": null,
       "grid_auto_rows": null,
       "grid_column": null,
       "grid_gap": null,
       "grid_row": null,
       "grid_template_areas": null,
       "grid_template_columns": null,
       "grid_template_rows": null,
       "height": null,
       "justify_content": null,
       "justify_items": null,
       "left": null,
       "margin": null,
       "max_height": null,
       "max_width": null,
       "min_height": null,
       "min_width": null,
       "object_fit": null,
       "object_position": null,
       "order": null,
       "overflow": null,
       "overflow_x": null,
       "overflow_y": null,
       "padding": null,
       "right": null,
       "top": null,
       "visibility": null,
       "width": null
      }
     },
     "b3a07200bf5a45339f23412ffc1698c1": {
      "model_module": "@jupyter-widgets/base",
      "model_module_version": "1.2.0",
      "model_name": "LayoutModel",
      "state": {
       "_model_module": "@jupyter-widgets/base",
       "_model_module_version": "1.2.0",
       "_model_name": "LayoutModel",
       "_view_count": null,
       "_view_module": "@jupyter-widgets/base",
       "_view_module_version": "1.2.0",
       "_view_name": "LayoutView",
       "align_content": null,
       "align_items": null,
       "align_self": null,
       "border": null,
       "bottom": null,
       "display": null,
       "flex": null,
       "flex_flow": null,
       "grid_area": null,
       "grid_auto_columns": null,
       "grid_auto_flow": null,
       "grid_auto_rows": null,
       "grid_column": null,
       "grid_gap": null,
       "grid_row": null,
       "grid_template_areas": null,
       "grid_template_columns": null,
       "grid_template_rows": null,
       "height": null,
       "justify_content": null,
       "justify_items": null,
       "left": null,
       "margin": null,
       "max_height": null,
       "max_width": null,
       "min_height": null,
       "min_width": null,
       "object_fit": null,
       "object_position": null,
       "order": null,
       "overflow": null,
       "overflow_x": null,
       "overflow_y": null,
       "padding": null,
       "right": null,
       "top": null,
       "visibility": null,
       "width": null
      }
     },
     "b4510b5e01cd4228865348010bdc0039": {
      "model_module": "@jupyter-widgets/base",
      "model_module_version": "1.2.0",
      "model_name": "LayoutModel",
      "state": {
       "_model_module": "@jupyter-widgets/base",
       "_model_module_version": "1.2.0",
       "_model_name": "LayoutModel",
       "_view_count": null,
       "_view_module": "@jupyter-widgets/base",
       "_view_module_version": "1.2.0",
       "_view_name": "LayoutView",
       "align_content": null,
       "align_items": null,
       "align_self": null,
       "border": null,
       "bottom": null,
       "display": null,
       "flex": null,
       "flex_flow": null,
       "grid_area": null,
       "grid_auto_columns": null,
       "grid_auto_flow": null,
       "grid_auto_rows": null,
       "grid_column": null,
       "grid_gap": null,
       "grid_row": null,
       "grid_template_areas": null,
       "grid_template_columns": null,
       "grid_template_rows": null,
       "height": null,
       "justify_content": null,
       "justify_items": null,
       "left": null,
       "margin": null,
       "max_height": null,
       "max_width": null,
       "min_height": null,
       "min_width": null,
       "object_fit": null,
       "object_position": null,
       "order": null,
       "overflow": null,
       "overflow_x": null,
       "overflow_y": null,
       "padding": null,
       "right": null,
       "top": null,
       "visibility": null,
       "width": null
      }
     },
     "b5ba00f74c764997acd79d76774ff405": {
      "model_module": "@jupyter-widgets/base",
      "model_module_version": "1.2.0",
      "model_name": "LayoutModel",
      "state": {
       "_model_module": "@jupyter-widgets/base",
       "_model_module_version": "1.2.0",
       "_model_name": "LayoutModel",
       "_view_count": null,
       "_view_module": "@jupyter-widgets/base",
       "_view_module_version": "1.2.0",
       "_view_name": "LayoutView",
       "align_content": null,
       "align_items": null,
       "align_self": null,
       "border": null,
       "bottom": null,
       "display": null,
       "flex": null,
       "flex_flow": null,
       "grid_area": null,
       "grid_auto_columns": null,
       "grid_auto_flow": null,
       "grid_auto_rows": null,
       "grid_column": null,
       "grid_gap": null,
       "grid_row": null,
       "grid_template_areas": null,
       "grid_template_columns": null,
       "grid_template_rows": null,
       "height": null,
       "justify_content": null,
       "justify_items": null,
       "left": null,
       "margin": null,
       "max_height": null,
       "max_width": null,
       "min_height": null,
       "min_width": null,
       "object_fit": null,
       "object_position": null,
       "order": null,
       "overflow": null,
       "overflow_x": null,
       "overflow_y": null,
       "padding": null,
       "right": null,
       "top": null,
       "visibility": null,
       "width": null
      }
     },
     "b6ecef04749a4e6e945a08ce039c26ef": {
      "model_module": "@jupyter-widgets/controls",
      "model_module_version": "1.5.0",
      "model_name": "DescriptionStyleModel",
      "state": {
       "_model_module": "@jupyter-widgets/controls",
       "_model_module_version": "1.5.0",
       "_model_name": "DescriptionStyleModel",
       "_view_count": null,
       "_view_module": "@jupyter-widgets/base",
       "_view_module_version": "1.2.0",
       "_view_name": "StyleView",
       "description_width": ""
      }
     },
     "baf1731c5ae54383b368128e76118a95": {
      "model_module": "@jupyter-widgets/controls",
      "model_module_version": "1.5.0",
      "model_name": "DescriptionStyleModel",
      "state": {
       "_model_module": "@jupyter-widgets/controls",
       "_model_module_version": "1.5.0",
       "_model_name": "DescriptionStyleModel",
       "_view_count": null,
       "_view_module": "@jupyter-widgets/base",
       "_view_module_version": "1.2.0",
       "_view_name": "StyleView",
       "description_width": ""
      }
     },
     "bbd40b7bf0fc40428bcb64539272e982": {
      "model_module": "@jupyter-widgets/controls",
      "model_module_version": "1.5.0",
      "model_name": "DescriptionStyleModel",
      "state": {
       "_model_module": "@jupyter-widgets/controls",
       "_model_module_version": "1.5.0",
       "_model_name": "DescriptionStyleModel",
       "_view_count": null,
       "_view_module": "@jupyter-widgets/base",
       "_view_module_version": "1.2.0",
       "_view_name": "StyleView",
       "description_width": ""
      }
     },
     "c0567b9df2ae409a80a84ab3fe6196b1": {
      "model_module": "@jupyter-widgets/base",
      "model_module_version": "1.2.0",
      "model_name": "LayoutModel",
      "state": {
       "_model_module": "@jupyter-widgets/base",
       "_model_module_version": "1.2.0",
       "_model_name": "LayoutModel",
       "_view_count": null,
       "_view_module": "@jupyter-widgets/base",
       "_view_module_version": "1.2.0",
       "_view_name": "LayoutView",
       "align_content": null,
       "align_items": null,
       "align_self": null,
       "border": null,
       "bottom": null,
       "display": null,
       "flex": null,
       "flex_flow": null,
       "grid_area": null,
       "grid_auto_columns": null,
       "grid_auto_flow": null,
       "grid_auto_rows": null,
       "grid_column": null,
       "grid_gap": null,
       "grid_row": null,
       "grid_template_areas": null,
       "grid_template_columns": null,
       "grid_template_rows": null,
       "height": null,
       "justify_content": null,
       "justify_items": null,
       "left": null,
       "margin": null,
       "max_height": null,
       "max_width": null,
       "min_height": null,
       "min_width": null,
       "object_fit": null,
       "object_position": null,
       "order": null,
       "overflow": null,
       "overflow_x": null,
       "overflow_y": null,
       "padding": null,
       "right": null,
       "top": null,
       "visibility": null,
       "width": null
      }
     },
     "c2a2721b5401430aa109fb5013fe4bb8": {
      "model_module": "@jupyter-widgets/base",
      "model_module_version": "1.2.0",
      "model_name": "LayoutModel",
      "state": {
       "_model_module": "@jupyter-widgets/base",
       "_model_module_version": "1.2.0",
       "_model_name": "LayoutModel",
       "_view_count": null,
       "_view_module": "@jupyter-widgets/base",
       "_view_module_version": "1.2.0",
       "_view_name": "LayoutView",
       "align_content": null,
       "align_items": null,
       "align_self": null,
       "border": null,
       "bottom": null,
       "display": null,
       "flex": null,
       "flex_flow": null,
       "grid_area": null,
       "grid_auto_columns": null,
       "grid_auto_flow": null,
       "grid_auto_rows": null,
       "grid_column": null,
       "grid_gap": null,
       "grid_row": null,
       "grid_template_areas": null,
       "grid_template_columns": null,
       "grid_template_rows": null,
       "height": null,
       "justify_content": null,
       "justify_items": null,
       "left": null,
       "margin": null,
       "max_height": null,
       "max_width": null,
       "min_height": null,
       "min_width": null,
       "object_fit": null,
       "object_position": null,
       "order": null,
       "overflow": null,
       "overflow_x": null,
       "overflow_y": null,
       "padding": null,
       "right": null,
       "top": null,
       "visibility": null,
       "width": null
      }
     },
     "c37b17fb3b0c4909a4f52464c16c8322": {
      "model_module": "@jupyter-widgets/base",
      "model_module_version": "1.2.0",
      "model_name": "LayoutModel",
      "state": {
       "_model_module": "@jupyter-widgets/base",
       "_model_module_version": "1.2.0",
       "_model_name": "LayoutModel",
       "_view_count": null,
       "_view_module": "@jupyter-widgets/base",
       "_view_module_version": "1.2.0",
       "_view_name": "LayoutView",
       "align_content": null,
       "align_items": null,
       "align_self": null,
       "border": null,
       "bottom": null,
       "display": null,
       "flex": null,
       "flex_flow": null,
       "grid_area": null,
       "grid_auto_columns": null,
       "grid_auto_flow": null,
       "grid_auto_rows": null,
       "grid_column": null,
       "grid_gap": null,
       "grid_row": null,
       "grid_template_areas": null,
       "grid_template_columns": null,
       "grid_template_rows": null,
       "height": null,
       "justify_content": null,
       "justify_items": null,
       "left": null,
       "margin": null,
       "max_height": null,
       "max_width": null,
       "min_height": null,
       "min_width": null,
       "object_fit": null,
       "object_position": null,
       "order": null,
       "overflow": null,
       "overflow_x": null,
       "overflow_y": null,
       "padding": null,
       "right": null,
       "top": null,
       "visibility": null,
       "width": null
      }
     },
     "c7a7f29d303442708b4382dae0cc4d64": {
      "model_module": "@jupyter-widgets/controls",
      "model_module_version": "1.5.0",
      "model_name": "ProgressStyleModel",
      "state": {
       "_model_module": "@jupyter-widgets/controls",
       "_model_module_version": "1.5.0",
       "_model_name": "ProgressStyleModel",
       "_view_count": null,
       "_view_module": "@jupyter-widgets/base",
       "_view_module_version": "1.2.0",
       "_view_name": "StyleView",
       "bar_color": null,
       "description_width": ""
      }
     },
     "c8d88beb16b0478380d078040113e4c7": {
      "model_module": "@jupyter-widgets/controls",
      "model_module_version": "1.5.0",
      "model_name": "ProgressStyleModel",
      "state": {
       "_model_module": "@jupyter-widgets/controls",
       "_model_module_version": "1.5.0",
       "_model_name": "ProgressStyleModel",
       "_view_count": null,
       "_view_module": "@jupyter-widgets/base",
       "_view_module_version": "1.2.0",
       "_view_name": "StyleView",
       "bar_color": null,
       "description_width": ""
      }
     },
     "c93c19abf3b24ef885324276d8b54d31": {
      "model_module": "@jupyter-widgets/controls",
      "model_module_version": "1.5.0",
      "model_name": "HTMLModel",
      "state": {
       "_dom_classes": [],
       "_model_module": "@jupyter-widgets/controls",
       "_model_module_version": "1.5.0",
       "_model_name": "HTMLModel",
       "_view_count": null,
       "_view_module": "@jupyter-widgets/controls",
       "_view_module_version": "1.5.0",
       "_view_name": "HTMLView",
       "description": "",
       "description_tooltip": null,
       "layout": "IPY_MODEL_648e3222e4db47b487e57f709ffdb198",
       "placeholder": "​",
       "style": "IPY_MODEL_7a8911b04f1a48b288519fcbf45869ae",
       "value": " 483/483 [00:00&lt;00:00, 7.12kB/s]"
      }
     },
     "cab2b62a744745a0b0160c95aa36a399": {
      "model_module": "@jupyter-widgets/controls",
      "model_module_version": "1.5.0",
      "model_name": "HTMLModel",
      "state": {
       "_dom_classes": [],
       "_model_module": "@jupyter-widgets/controls",
       "_model_module_version": "1.5.0",
       "_model_name": "HTMLModel",
       "_view_count": null,
       "_view_module": "@jupyter-widgets/controls",
       "_view_module_version": "1.5.0",
       "_view_name": "HTMLView",
       "description": "",
       "description_tooltip": null,
       "layout": "IPY_MODEL_9371232231224aa388d61382d13348eb",
       "placeholder": "​",
       "style": "IPY_MODEL_98ab1649b01c4e7ba2f761089654fe94",
       "value": " 27/27 [00:00&lt;00:00, 80.11ba/s]"
      }
     },
     "cc2651e513ea4fbdb8e7e5cb68b20da2": {
      "model_module": "@jupyter-widgets/controls",
      "model_module_version": "1.5.0",
      "model_name": "FloatProgressModel",
      "state": {
       "_dom_classes": [],
       "_model_module": "@jupyter-widgets/controls",
       "_model_module_version": "1.5.0",
       "_model_name": "FloatProgressModel",
       "_view_count": null,
       "_view_module": "@jupyter-widgets/controls",
       "_view_module_version": "1.5.0",
       "_view_name": "ProgressView",
       "bar_style": "success",
       "description": "",
       "description_tooltip": null,
       "layout": "IPY_MODEL_128ff939dfa2439bbda200b5656aecb0",
       "max": 27,
       "min": 0,
       "orientation": "horizontal",
       "style": "IPY_MODEL_1909c6219cf643b8ade7fa6b7c21568e",
       "value": 27
      }
     },
     "cfd19f2b528342898e147723b0536ce9": {
      "model_module": "@jupyter-widgets/controls",
      "model_module_version": "1.5.0",
      "model_name": "HBoxModel",
      "state": {
       "_dom_classes": [],
       "_model_module": "@jupyter-widgets/controls",
       "_model_module_version": "1.5.0",
       "_model_name": "HBoxModel",
       "_view_count": null,
       "_view_module": "@jupyter-widgets/controls",
       "_view_module_version": "1.5.0",
       "_view_name": "HBoxView",
       "box_style": "",
       "children": [
        "IPY_MODEL_4475ae3607fc4e0aa41adf09fd60709b",
        "IPY_MODEL_56b3586f95824f83aaabeebd7578ad25",
        "IPY_MODEL_1f3292a8616447b59ce0fdcb3c7a782d"
       ],
       "layout": "IPY_MODEL_f2e3193516df493c9dc5869189d0af7a"
      }
     },
     "d011b552f0e54e1dbc3f46c88271eafd": {
      "model_module": "@jupyter-widgets/controls",
      "model_module_version": "1.5.0",
      "model_name": "HTMLModel",
      "state": {
       "_dom_classes": [],
       "_model_module": "@jupyter-widgets/controls",
       "_model_module_version": "1.5.0",
       "_model_name": "HTMLModel",
       "_view_count": null,
       "_view_module": "@jupyter-widgets/controls",
       "_view_module_version": "1.5.0",
       "_view_name": "HTMLView",
       "description": "",
       "description_tooltip": null,
       "layout": "IPY_MODEL_ab23b81d9b2c455698570f62dd9d3e4a",
       "placeholder": "​",
       "style": "IPY_MODEL_5dbfee38a08b46beaf5f8260f4f9634c",
       "value": " 1/1 [00:00&lt;00:00, 19.15ba/s]"
      }
     },
     "d06ca0d7343d40c4b9a24eb4878ebe7c": {
      "model_module": "@jupyter-widgets/base",
      "model_module_version": "1.2.0",
      "model_name": "LayoutModel",
      "state": {
       "_model_module": "@jupyter-widgets/base",
       "_model_module_version": "1.2.0",
       "_model_name": "LayoutModel",
       "_view_count": null,
       "_view_module": "@jupyter-widgets/base",
       "_view_module_version": "1.2.0",
       "_view_name": "LayoutView",
       "align_content": null,
       "align_items": null,
       "align_self": null,
       "border": null,
       "bottom": null,
       "display": null,
       "flex": null,
       "flex_flow": null,
       "grid_area": null,
       "grid_auto_columns": null,
       "grid_auto_flow": null,
       "grid_auto_rows": null,
       "grid_column": null,
       "grid_gap": null,
       "grid_row": null,
       "grid_template_areas": null,
       "grid_template_columns": null,
       "grid_template_rows": null,
       "height": null,
       "justify_content": null,
       "justify_items": null,
       "left": null,
       "margin": null,
       "max_height": null,
       "max_width": null,
       "min_height": null,
       "min_width": null,
       "object_fit": null,
       "object_position": null,
       "order": null,
       "overflow": null,
       "overflow_x": null,
       "overflow_y": null,
       "padding": null,
       "right": null,
       "top": null,
       "visibility": null,
       "width": null
      }
     },
     "d0ace4f092cb46ed90cefc410bd22232": {
      "model_module": "@jupyter-widgets/controls",
      "model_module_version": "1.5.0",
      "model_name": "ProgressStyleModel",
      "state": {
       "_model_module": "@jupyter-widgets/controls",
       "_model_module_version": "1.5.0",
       "_model_name": "ProgressStyleModel",
       "_view_count": null,
       "_view_module": "@jupyter-widgets/base",
       "_view_module_version": "1.2.0",
       "_view_name": "StyleView",
       "bar_color": null,
       "description_width": ""
      }
     },
     "d1250cdc50754cc28e9be8331f3e4d82": {
      "model_module": "@jupyter-widgets/base",
      "model_module_version": "1.2.0",
      "model_name": "LayoutModel",
      "state": {
       "_model_module": "@jupyter-widgets/base",
       "_model_module_version": "1.2.0",
       "_model_name": "LayoutModel",
       "_view_count": null,
       "_view_module": "@jupyter-widgets/base",
       "_view_module_version": "1.2.0",
       "_view_name": "LayoutView",
       "align_content": null,
       "align_items": null,
       "align_self": null,
       "border": null,
       "bottom": null,
       "display": null,
       "flex": null,
       "flex_flow": null,
       "grid_area": null,
       "grid_auto_columns": null,
       "grid_auto_flow": null,
       "grid_auto_rows": null,
       "grid_column": null,
       "grid_gap": null,
       "grid_row": null,
       "grid_template_areas": null,
       "grid_template_columns": null,
       "grid_template_rows": null,
       "height": null,
       "justify_content": null,
       "justify_items": null,
       "left": null,
       "margin": null,
       "max_height": null,
       "max_width": null,
       "min_height": null,
       "min_width": null,
       "object_fit": null,
       "object_position": null,
       "order": null,
       "overflow": null,
       "overflow_x": null,
       "overflow_y": null,
       "padding": null,
       "right": null,
       "top": null,
       "visibility": null,
       "width": null
      }
     },
     "d27b636f2bd344c9bc94182e32b20e74": {
      "model_module": "@jupyter-widgets/controls",
      "model_module_version": "1.5.0",
      "model_name": "HBoxModel",
      "state": {
       "_dom_classes": [],
       "_model_module": "@jupyter-widgets/controls",
       "_model_module_version": "1.5.0",
       "_model_name": "HBoxModel",
       "_view_count": null,
       "_view_module": "@jupyter-widgets/controls",
       "_view_module_version": "1.5.0",
       "_view_name": "HBoxView",
       "box_style": "",
       "children": [
        "IPY_MODEL_ac884fba78ab430a92877559a5cfdafe",
        "IPY_MODEL_5aaf1c7af9414192b31269019acf475a",
        "IPY_MODEL_d011b552f0e54e1dbc3f46c88271eafd"
       ],
       "layout": "IPY_MODEL_52c62109198d49b599a4aa1a23c01b70"
      }
     },
     "d3d75dbbd4e04a778f57cab320ea5637": {
      "model_module": "@jupyter-widgets/base",
      "model_module_version": "1.2.0",
      "model_name": "LayoutModel",
      "state": {
       "_model_module": "@jupyter-widgets/base",
       "_model_module_version": "1.2.0",
       "_model_name": "LayoutModel",
       "_view_count": null,
       "_view_module": "@jupyter-widgets/base",
       "_view_module_version": "1.2.0",
       "_view_name": "LayoutView",
       "align_content": null,
       "align_items": null,
       "align_self": null,
       "border": null,
       "bottom": null,
       "display": null,
       "flex": null,
       "flex_flow": null,
       "grid_area": null,
       "grid_auto_columns": null,
       "grid_auto_flow": null,
       "grid_auto_rows": null,
       "grid_column": null,
       "grid_gap": null,
       "grid_row": null,
       "grid_template_areas": null,
       "grid_template_columns": null,
       "grid_template_rows": null,
       "height": null,
       "justify_content": null,
       "justify_items": null,
       "left": null,
       "margin": null,
       "max_height": null,
       "max_width": null,
       "min_height": null,
       "min_width": null,
       "object_fit": null,
       "object_position": null,
       "order": null,
       "overflow": null,
       "overflow_x": null,
       "overflow_y": null,
       "padding": null,
       "right": null,
       "top": null,
       "visibility": null,
       "width": null
      }
     },
     "d7ce2006279a47809ba6cd9151b03828": {
      "model_module": "@jupyter-widgets/controls",
      "model_module_version": "1.5.0",
      "model_name": "DescriptionStyleModel",
      "state": {
       "_model_module": "@jupyter-widgets/controls",
       "_model_module_version": "1.5.0",
       "_model_name": "DescriptionStyleModel",
       "_view_count": null,
       "_view_module": "@jupyter-widgets/base",
       "_view_module_version": "1.2.0",
       "_view_name": "StyleView",
       "description_width": ""
      }
     },
     "d7d5a81d72d04954b6069a0efe6400ea": {
      "model_module": "@jupyter-widgets/base",
      "model_module_version": "1.2.0",
      "model_name": "LayoutModel",
      "state": {
       "_model_module": "@jupyter-widgets/base",
       "_model_module_version": "1.2.0",
       "_model_name": "LayoutModel",
       "_view_count": null,
       "_view_module": "@jupyter-widgets/base",
       "_view_module_version": "1.2.0",
       "_view_name": "LayoutView",
       "align_content": null,
       "align_items": null,
       "align_self": null,
       "border": null,
       "bottom": null,
       "display": null,
       "flex": null,
       "flex_flow": null,
       "grid_area": null,
       "grid_auto_columns": null,
       "grid_auto_flow": null,
       "grid_auto_rows": null,
       "grid_column": null,
       "grid_gap": null,
       "grid_row": null,
       "grid_template_areas": null,
       "grid_template_columns": null,
       "grid_template_rows": null,
       "height": null,
       "justify_content": null,
       "justify_items": null,
       "left": null,
       "margin": null,
       "max_height": null,
       "max_width": null,
       "min_height": null,
       "min_width": null,
       "object_fit": null,
       "object_position": null,
       "order": null,
       "overflow": null,
       "overflow_x": null,
       "overflow_y": null,
       "padding": null,
       "right": null,
       "top": null,
       "visibility": null,
       "width": null
      }
     },
     "dd7082f0a6ca498b988f3f56cf1c9959": {
      "model_module": "@jupyter-widgets/controls",
      "model_module_version": "1.5.0",
      "model_name": "ProgressStyleModel",
      "state": {
       "_model_module": "@jupyter-widgets/controls",
       "_model_module_version": "1.5.0",
       "_model_name": "ProgressStyleModel",
       "_view_count": null,
       "_view_module": "@jupyter-widgets/base",
       "_view_module_version": "1.2.0",
       "_view_name": "StyleView",
       "bar_color": null,
       "description_width": ""
      }
     },
     "de1699f0d95040409faf7afb82970cb2": {
      "model_module": "@jupyter-widgets/base",
      "model_module_version": "1.2.0",
      "model_name": "LayoutModel",
      "state": {
       "_model_module": "@jupyter-widgets/base",
       "_model_module_version": "1.2.0",
       "_model_name": "LayoutModel",
       "_view_count": null,
       "_view_module": "@jupyter-widgets/base",
       "_view_module_version": "1.2.0",
       "_view_name": "LayoutView",
       "align_content": null,
       "align_items": null,
       "align_self": null,
       "border": null,
       "bottom": null,
       "display": null,
       "flex": null,
       "flex_flow": null,
       "grid_area": null,
       "grid_auto_columns": null,
       "grid_auto_flow": null,
       "grid_auto_rows": null,
       "grid_column": null,
       "grid_gap": null,
       "grid_row": null,
       "grid_template_areas": null,
       "grid_template_columns": null,
       "grid_template_rows": null,
       "height": null,
       "justify_content": null,
       "justify_items": null,
       "left": null,
       "margin": null,
       "max_height": null,
       "max_width": null,
       "min_height": null,
       "min_width": null,
       "object_fit": null,
       "object_position": null,
       "order": null,
       "overflow": null,
       "overflow_x": null,
       "overflow_y": null,
       "padding": null,
       "right": null,
       "top": null,
       "visibility": null,
       "width": null
      }
     },
     "df452705affd4130aa674bf4b0440e47": {
      "model_module": "@jupyter-widgets/base",
      "model_module_version": "1.2.0",
      "model_name": "LayoutModel",
      "state": {
       "_model_module": "@jupyter-widgets/base",
       "_model_module_version": "1.2.0",
       "_model_name": "LayoutModel",
       "_view_count": null,
       "_view_module": "@jupyter-widgets/base",
       "_view_module_version": "1.2.0",
       "_view_name": "LayoutView",
       "align_content": null,
       "align_items": null,
       "align_self": null,
       "border": null,
       "bottom": null,
       "display": null,
       "flex": null,
       "flex_flow": null,
       "grid_area": null,
       "grid_auto_columns": null,
       "grid_auto_flow": null,
       "grid_auto_rows": null,
       "grid_column": null,
       "grid_gap": null,
       "grid_row": null,
       "grid_template_areas": null,
       "grid_template_columns": null,
       "grid_template_rows": null,
       "height": null,
       "justify_content": null,
       "justify_items": null,
       "left": null,
       "margin": null,
       "max_height": null,
       "max_width": null,
       "min_height": null,
       "min_width": null,
       "object_fit": null,
       "object_position": null,
       "order": null,
       "overflow": null,
       "overflow_x": null,
       "overflow_y": null,
       "padding": null,
       "right": null,
       "top": null,
       "visibility": null,
       "width": null
      }
     },
     "e050ee50147c4b6ca19dc52396276015": {
      "model_module": "@jupyter-widgets/base",
      "model_module_version": "1.2.0",
      "model_name": "LayoutModel",
      "state": {
       "_model_module": "@jupyter-widgets/base",
       "_model_module_version": "1.2.0",
       "_model_name": "LayoutModel",
       "_view_count": null,
       "_view_module": "@jupyter-widgets/base",
       "_view_module_version": "1.2.0",
       "_view_name": "LayoutView",
       "align_content": null,
       "align_items": null,
       "align_self": null,
       "border": null,
       "bottom": null,
       "display": null,
       "flex": null,
       "flex_flow": null,
       "grid_area": null,
       "grid_auto_columns": null,
       "grid_auto_flow": null,
       "grid_auto_rows": null,
       "grid_column": null,
       "grid_gap": null,
       "grid_row": null,
       "grid_template_areas": null,
       "grid_template_columns": null,
       "grid_template_rows": null,
       "height": null,
       "justify_content": null,
       "justify_items": null,
       "left": null,
       "margin": null,
       "max_height": null,
       "max_width": null,
       "min_height": null,
       "min_width": null,
       "object_fit": null,
       "object_position": null,
       "order": null,
       "overflow": null,
       "overflow_x": null,
       "overflow_y": null,
       "padding": null,
       "right": null,
       "top": null,
       "visibility": null,
       "width": null
      }
     },
     "e637428328de440ab23a5211ac2405dd": {
      "model_module": "@jupyter-widgets/base",
      "model_module_version": "1.2.0",
      "model_name": "LayoutModel",
      "state": {
       "_model_module": "@jupyter-widgets/base",
       "_model_module_version": "1.2.0",
       "_model_name": "LayoutModel",
       "_view_count": null,
       "_view_module": "@jupyter-widgets/base",
       "_view_module_version": "1.2.0",
       "_view_name": "LayoutView",
       "align_content": null,
       "align_items": null,
       "align_self": null,
       "border": null,
       "bottom": null,
       "display": null,
       "flex": null,
       "flex_flow": null,
       "grid_area": null,
       "grid_auto_columns": null,
       "grid_auto_flow": null,
       "grid_auto_rows": null,
       "grid_column": null,
       "grid_gap": null,
       "grid_row": null,
       "grid_template_areas": null,
       "grid_template_columns": null,
       "grid_template_rows": null,
       "height": null,
       "justify_content": null,
       "justify_items": null,
       "left": null,
       "margin": null,
       "max_height": null,
       "max_width": null,
       "min_height": null,
       "min_width": null,
       "object_fit": null,
       "object_position": null,
       "order": null,
       "overflow": null,
       "overflow_x": null,
       "overflow_y": null,
       "padding": null,
       "right": null,
       "top": null,
       "visibility": null,
       "width": null
      }
     },
     "e7c07b8171d949828ea946491c69f5e8": {
      "model_module": "@jupyter-widgets/controls",
      "model_module_version": "1.5.0",
      "model_name": "HBoxModel",
      "state": {
       "_dom_classes": [],
       "_model_module": "@jupyter-widgets/controls",
       "_model_module_version": "1.5.0",
       "_model_name": "HBoxModel",
       "_view_count": null,
       "_view_module": "@jupyter-widgets/controls",
       "_view_module_version": "1.5.0",
       "_view_name": "HBoxView",
       "box_style": "",
       "children": [
        "IPY_MODEL_3214679f98ee44bda099fb1041054d99",
        "IPY_MODEL_485b01f97fa6496e9e2f9d1a7a8e004e",
        "IPY_MODEL_427f7d5b2fe446fa88b98f24c24a25f3"
       ],
       "layout": "IPY_MODEL_8a19fa2897344038a29c32b1d8e5df7a"
      }
     },
     "ed2d3ffbe0eb41cf91f56f975142079f": {
      "model_module": "@jupyter-widgets/controls",
      "model_module_version": "1.5.0",
      "model_name": "DescriptionStyleModel",
      "state": {
       "_model_module": "@jupyter-widgets/controls",
       "_model_module_version": "1.5.0",
       "_model_name": "DescriptionStyleModel",
       "_view_count": null,
       "_view_module": "@jupyter-widgets/base",
       "_view_module_version": "1.2.0",
       "_view_name": "StyleView",
       "description_width": ""
      }
     },
     "ee20feb0f6e74289b31501c841e99d88": {
      "model_module": "@jupyter-widgets/controls",
      "model_module_version": "1.5.0",
      "model_name": "HTMLModel",
      "state": {
       "_dom_classes": [],
       "_model_module": "@jupyter-widgets/controls",
       "_model_module_version": "1.5.0",
       "_model_name": "HTMLModel",
       "_view_count": null,
       "_view_module": "@jupyter-widgets/controls",
       "_view_module_version": "1.5.0",
       "_view_name": "HTMLView",
       "description": "",
       "description_tooltip": null,
       "layout": "IPY_MODEL_d1250cdc50754cc28e9be8331f3e4d82",
       "placeholder": "​",
       "style": "IPY_MODEL_7c2c646160e2457197d54cae1f9f6e3d",
       "value": "Downloading: 100%"
      }
     },
     "ee6c3ba55b1f4a26a2299c5f572bbbf8": {
      "model_module": "@jupyter-widgets/controls",
      "model_module_version": "1.5.0",
      "model_name": "ProgressStyleModel",
      "state": {
       "_model_module": "@jupyter-widgets/controls",
       "_model_module_version": "1.5.0",
       "_model_name": "ProgressStyleModel",
       "_view_count": null,
       "_view_module": "@jupyter-widgets/base",
       "_view_module_version": "1.2.0",
       "_view_name": "StyleView",
       "bar_color": null,
       "description_width": ""
      }
     },
     "eeab8240fbc44e59b00e2dc82ace5ed4": {
      "model_module": "@jupyter-widgets/controls",
      "model_module_version": "1.5.0",
      "model_name": "ProgressStyleModel",
      "state": {
       "_model_module": "@jupyter-widgets/controls",
       "_model_module_version": "1.5.0",
       "_model_name": "ProgressStyleModel",
       "_view_count": null,
       "_view_module": "@jupyter-widgets/base",
       "_view_module_version": "1.2.0",
       "_view_name": "StyleView",
       "bar_color": null,
       "description_width": ""
      }
     },
     "ef7c71604c624d6787c0446bd968ca4c": {
      "model_module": "@jupyter-widgets/base",
      "model_module_version": "1.2.0",
      "model_name": "LayoutModel",
      "state": {
       "_model_module": "@jupyter-widgets/base",
       "_model_module_version": "1.2.0",
       "_model_name": "LayoutModel",
       "_view_count": null,
       "_view_module": "@jupyter-widgets/base",
       "_view_module_version": "1.2.0",
       "_view_name": "LayoutView",
       "align_content": null,
       "align_items": null,
       "align_self": null,
       "border": null,
       "bottom": null,
       "display": null,
       "flex": null,
       "flex_flow": null,
       "grid_area": null,
       "grid_auto_columns": null,
       "grid_auto_flow": null,
       "grid_auto_rows": null,
       "grid_column": null,
       "grid_gap": null,
       "grid_row": null,
       "grid_template_areas": null,
       "grid_template_columns": null,
       "grid_template_rows": null,
       "height": null,
       "justify_content": null,
       "justify_items": null,
       "left": null,
       "margin": null,
       "max_height": null,
       "max_width": null,
       "min_height": null,
       "min_width": null,
       "object_fit": null,
       "object_position": null,
       "order": null,
       "overflow": null,
       "overflow_x": null,
       "overflow_y": null,
       "padding": null,
       "right": null,
       "top": null,
       "visibility": null,
       "width": null
      }
     },
     "f0bd1159599d4c8f86e699e36d6c9437": {
      "model_module": "@jupyter-widgets/controls",
      "model_module_version": "1.5.0",
      "model_name": "DescriptionStyleModel",
      "state": {
       "_model_module": "@jupyter-widgets/controls",
       "_model_module_version": "1.5.0",
       "_model_name": "DescriptionStyleModel",
       "_view_count": null,
       "_view_module": "@jupyter-widgets/base",
       "_view_module_version": "1.2.0",
       "_view_name": "StyleView",
       "description_width": ""
      }
     },
     "f1ca70aa4e8e4684baca9222ad067bc2": {
      "model_module": "@jupyter-widgets/base",
      "model_module_version": "1.2.0",
      "model_name": "LayoutModel",
      "state": {
       "_model_module": "@jupyter-widgets/base",
       "_model_module_version": "1.2.0",
       "_model_name": "LayoutModel",
       "_view_count": null,
       "_view_module": "@jupyter-widgets/base",
       "_view_module_version": "1.2.0",
       "_view_name": "LayoutView",
       "align_content": null,
       "align_items": null,
       "align_self": null,
       "border": null,
       "bottom": null,
       "display": null,
       "flex": null,
       "flex_flow": null,
       "grid_area": null,
       "grid_auto_columns": null,
       "grid_auto_flow": null,
       "grid_auto_rows": null,
       "grid_column": null,
       "grid_gap": null,
       "grid_row": null,
       "grid_template_areas": null,
       "grid_template_columns": null,
       "grid_template_rows": null,
       "height": null,
       "justify_content": null,
       "justify_items": null,
       "left": null,
       "margin": null,
       "max_height": null,
       "max_width": null,
       "min_height": null,
       "min_width": null,
       "object_fit": null,
       "object_position": null,
       "order": null,
       "overflow": null,
       "overflow_x": null,
       "overflow_y": null,
       "padding": null,
       "right": null,
       "top": null,
       "visibility": null,
       "width": null
      }
     },
     "f1e0e2b5f06a409ab7950ec506c2ff28": {
      "model_module": "@jupyter-widgets/controls",
      "model_module_version": "1.5.0",
      "model_name": "FloatProgressModel",
      "state": {
       "_dom_classes": [],
       "_model_module": "@jupyter-widgets/controls",
       "_model_module_version": "1.5.0",
       "_model_name": "FloatProgressModel",
       "_view_count": null,
       "_view_module": "@jupyter-widgets/controls",
       "_view_module_version": "1.5.0",
       "_view_name": "ProgressView",
       "bar_style": "success",
       "description": "",
       "description_tooltip": null,
       "layout": "IPY_MODEL_882bb755687b4ef7a5b3c6ee356aef85",
       "max": 466062,
       "min": 0,
       "orientation": "horizontal",
       "style": "IPY_MODEL_8d047b2795cc457db2b97cac9efab012",
       "value": 466062
      }
     },
     "f2e3193516df493c9dc5869189d0af7a": {
      "model_module": "@jupyter-widgets/base",
      "model_module_version": "1.2.0",
      "model_name": "LayoutModel",
      "state": {
       "_model_module": "@jupyter-widgets/base",
       "_model_module_version": "1.2.0",
       "_model_name": "LayoutModel",
       "_view_count": null,
       "_view_module": "@jupyter-widgets/base",
       "_view_module_version": "1.2.0",
       "_view_name": "LayoutView",
       "align_content": null,
       "align_items": null,
       "align_self": null,
       "border": null,
       "bottom": null,
       "display": null,
       "flex": null,
       "flex_flow": null,
       "grid_area": null,
       "grid_auto_columns": null,
       "grid_auto_flow": null,
       "grid_auto_rows": null,
       "grid_column": null,
       "grid_gap": null,
       "grid_row": null,
       "grid_template_areas": null,
       "grid_template_columns": null,
       "grid_template_rows": null,
       "height": null,
       "justify_content": null,
       "justify_items": null,
       "left": null,
       "margin": null,
       "max_height": null,
       "max_width": null,
       "min_height": null,
       "min_width": null,
       "object_fit": null,
       "object_position": null,
       "order": null,
       "overflow": null,
       "overflow_x": null,
       "overflow_y": null,
       "padding": null,
       "right": null,
       "top": null,
       "visibility": null,
       "width": null
      }
     },
     "f70b3c22112c4438befb8801962002f6": {
      "model_module": "@jupyter-widgets/base",
      "model_module_version": "1.2.0",
      "model_name": "LayoutModel",
      "state": {
       "_model_module": "@jupyter-widgets/base",
       "_model_module_version": "1.2.0",
       "_model_name": "LayoutModel",
       "_view_count": null,
       "_view_module": "@jupyter-widgets/base",
       "_view_module_version": "1.2.0",
       "_view_name": "LayoutView",
       "align_content": null,
       "align_items": null,
       "align_self": null,
       "border": null,
       "bottom": null,
       "display": null,
       "flex": null,
       "flex_flow": null,
       "grid_area": null,
       "grid_auto_columns": null,
       "grid_auto_flow": null,
       "grid_auto_rows": null,
       "grid_column": null,
       "grid_gap": null,
       "grid_row": null,
       "grid_template_areas": null,
       "grid_template_columns": null,
       "grid_template_rows": null,
       "height": null,
       "justify_content": null,
       "justify_items": null,
       "left": null,
       "margin": null,
       "max_height": null,
       "max_width": null,
       "min_height": null,
       "min_width": null,
       "object_fit": null,
       "object_position": null,
       "order": null,
       "overflow": null,
       "overflow_x": null,
       "overflow_y": null,
       "padding": null,
       "right": null,
       "top": null,
       "visibility": null,
       "width": null
      }
     },
     "f905aa0e7b57484cbde3c54615aa8215": {
      "model_module": "@jupyter-widgets/controls",
      "model_module_version": "1.5.0",
      "model_name": "DescriptionStyleModel",
      "state": {
       "_model_module": "@jupyter-widgets/controls",
       "_model_module_version": "1.5.0",
       "_model_name": "DescriptionStyleModel",
       "_view_count": null,
       "_view_module": "@jupyter-widgets/base",
       "_view_module_version": "1.2.0",
       "_view_name": "StyleView",
       "description_width": ""
      }
     },
     "f926e39186a741bf9bc964e84f982248": {
      "model_module": "@jupyter-widgets/controls",
      "model_module_version": "1.5.0",
      "model_name": "HTMLModel",
      "state": {
       "_dom_classes": [],
       "_model_module": "@jupyter-widgets/controls",
       "_model_module_version": "1.5.0",
       "_model_name": "HTMLModel",
       "_view_count": null,
       "_view_module": "@jupyter-widgets/controls",
       "_view_module_version": "1.5.0",
       "_view_name": "HTMLView",
       "description": "",
       "description_tooltip": null,
       "layout": "IPY_MODEL_e637428328de440ab23a5211ac2405dd",
       "placeholder": "​",
       "style": "IPY_MODEL_00dba9b6d7a04e8394b4c2dae1037a40",
       "value": " 455k/455k [00:00&lt;00:00, 4.63MB/s]"
      }
     },
     "fa4911df198742e8b9b171cc3acd3d85": {
      "model_module": "@jupyter-widgets/controls",
      "model_module_version": "1.5.0",
      "model_name": "ProgressStyleModel",
      "state": {
       "_model_module": "@jupyter-widgets/controls",
       "_model_module_version": "1.5.0",
       "_model_name": "ProgressStyleModel",
       "_view_count": null,
       "_view_module": "@jupyter-widgets/base",
       "_view_module_version": "1.2.0",
       "_view_name": "StyleView",
       "bar_color": null,
       "description_width": ""
      }
     },
     "fdadc79f51bf4dea9aed4ad05d3616ae": {
      "model_module": "@jupyter-widgets/controls",
      "model_module_version": "1.5.0",
      "model_name": "FloatProgressModel",
      "state": {
       "_dom_classes": [],
       "_model_module": "@jupyter-widgets/controls",
       "_model_module_version": "1.5.0",
       "_model_name": "FloatProgressModel",
       "_view_count": null,
       "_view_module": "@jupyter-widgets/controls",
       "_view_module_version": "1.5.0",
       "_view_name": "ProgressView",
       "bar_style": "success",
       "description": "",
       "description_tooltip": null,
       "layout": "IPY_MODEL_a19e98329bee4a25bae189fdf63259e0",
       "max": 231508,
       "min": 0,
       "orientation": "horizontal",
       "style": "IPY_MODEL_54a300dd9c0048fca258c00ec4b27c47",
       "value": 231508
      }
     }
    },
    "version_major": 2,
    "version_minor": 0
   }
  }
 },
 "nbformat": 4,
 "nbformat_minor": 5
}