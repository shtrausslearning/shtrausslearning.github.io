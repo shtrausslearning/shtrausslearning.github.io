{
 "cells": [
  {
   "cell_type": "markdown",
   "id": "c16b7927-abd2-493a-a9b8-8682818cf7e3",
   "metadata": {},
   "source": [
    "<h1><b>Работа с гипотезами</b></h1>\n",
    "\n",
    "<h2><b>1 | <span style=\"color: #10a3d7\">INTRODUCTION</span></b></h2>\n",
    "\n",
    "\n",
    "<h3><b><span style=\"color: #10a3d7\">⡱⡷</span> Об эксперементе</b></h3>\n",
    "\n",
    "- Пришло время проанализировать результаты эксперимента, который мы провели вместе с командой дата сайентистов. \n",
    "- Эксперимент проходил **с 2023-01-01 по 2023-01-07** (7 дней) включительно. Для эксперимента были **задействованы 2 и 1 группы** \n",
    "- В **группе 2** был использован один из новых алгоритмов рекомендации постов, **группа 1 использовалась в качестве контроля**. \n",
    "\n",
    "<h3><b><span style=\"color: #10a3d7\">⡱⡷</span> Гипотиза</b></h3>\n",
    "\n",
    "> Основная гипотеза заключается в том, что новый алгоритм во **2-й группе** приведет **к увеличению CTR.**\n",
    "\n",
    "<h3><b><span style=\"color: #10a3d7\">⡱⡷</span> Наша задача</b></h3>\n",
    "\n",
    "Ваша задача — **проанализировать данные АB-теста**\n",
    "\n",
    "**Выбрать метод** анализа и **сравнить CTR** в двух группах, мы разбирали:\n",
    "   \n",
    "* **`t-тест`**\n",
    "* **`Пуассоновский бутстреп`**\n",
    "* **`тест Манна-Уитни`**\n",
    "* **`t-тест на сглаженном ctr (α=5)`**\n",
    "* **`t-тест и тест Манна-Уитни поверх бакетного преобразования`**\n",
    "\n",
    "- Сравните данные этими тестами. А еще посмотрите на распределения глазами. Почему тесты сработали так как сработали? \n",
    "- Опишите потенциальную ситуацию, когда такое изменение могло произойти. Тут нет идеального ответа, подумайте.\n",
    "- Напишите рекомендацию, будем ли мы раскатывать новый алгоритм на всех новых пользователей или все-таки не стоит"
   ]
  },
  {
   "cell_type": "markdown",
   "id": "b607d773-3afb-482f-b0a9-ccfa3c969bf5",
   "metadata": {},
   "source": [
    "<h2><b>2 | <span style=\"color: #10a3d7\">DATA EXPORT</span></b></h2>\n",
    "\n",
    "\n",
    "- Данные с БД содержат 4 колонки; **`exp_group`** (группа в эксперементе) **`user_id`** (пользователь) **`likes`** (количество поставленных лайков) **`views`** (количество просмотров)\n",
    "\n",
    "<h3><b><span style=\"color: #10a3d7\">⡱⡷</span> Данные в БД</b></h3>\n",
    "\n",
    "Данные эксперемента загружены в БД, и нам потребуется выгрузить их и провести свои анализ \n",
    "\n",
    "```\n",
    "      exp_group    user_id    likes    views        ctr\n",
    "--  -----------  ---------  -------  -------  ---------\n",
    " 0            1     109963        3       15  0.2\n",
    " 1            1      26117       32      141  0.22695\n",
    " 2            1     138232       18       73  0.246575\n",
    " 3            1      26295       33      122  0.270492\n",
    " 4            1      18392        7       32  0.21875\n",
    " 5            2     131473       14      134  0.104478\n",
    " 6            2      23985        7       87  0.0804598\n",
    " 7            2      24523       11      101  0.108911\n",
    " 8            2      32420       26      128  0.203125\n",
    " 9            2      24239       40       90  0.444444\n",
    "```\n",
    "\n",
    "<br>\n",
    "\n",
    "<h3><b><span style=\"color: #10a3d7\">⡱⡷</span> Выгрузка из БД</b></h3>\n",
    "\n",
    "Выгрузим данные из БД\n",
    "\n",
    "```python\n",
    "query = '''\n",
    "select exp_group, \n",
    "    user_id, \n",
    "    sum(action = 'like') likes,\n",
    "    sum(action = 'view') views,\n",
    "    likes/views ctr\n",
    "from {db}.feed_actions \n",
    "where toDate(time) between '2023-01-01' and '2023-01-07'\n",
    "    and exp_group in (1,2)\n",
    "group by exp_group, user_id \n",
    "'''\n",
    "\n",
    "df = ph.read_clickhouse(query, connection = connection)\n",
    "```\n",
    "\n",
    "\n",
    "Начнем с выгрузкой данных и подгрузка в наш ноутбук\n",
    "\n",
    "- Определим схему данных и посмотрим на нее после загрузки чтобы проверить типы колонок\n",
    "- Так выгрузим несколько строк из нашего датасета"
   ]
  },
  {
   "cell_type": "code",
   "execution_count": 220,
   "id": "e12eddb7-1056-4a38-8005-48bc08006ec5",
   "metadata": {},
   "outputs": [],
   "source": [
    "from scipy import stats\n",
    "import pandas as pd \n",
    "import numpy as np\n",
    "import seaborn as sns;\n",
    "sns.set_style('whitegrid')"
   ]
  },
  {
   "cell_type": "code",
   "execution_count": 34,
   "id": "3e6af0ae-e182-441b-9ce2-ac1a7c68b457",
   "metadata": {},
   "outputs": [],
   "source": [
    "dtypes = {'exp_group':int, \n",
    "          'user_id':int, \n",
    "          'likes':int, \n",
    "          'views':int}\n",
    "\n",
    "df = pd.read_csv('ctr_data.csv',dtype=dtypes)"
   ]
  },
  {
   "cell_type": "code",
   "execution_count": 35,
   "id": "2245b6ea-34bc-452c-8a2d-fd640cd102ff",
   "metadata": {},
   "outputs": [
    {
     "data": {
      "text/html": [
       "<div>\n",
       "<style scoped>\n",
       "    .dataframe tbody tr th:only-of-type {\n",
       "        vertical-align: middle;\n",
       "    }\n",
       "\n",
       "    .dataframe tbody tr th {\n",
       "        vertical-align: top;\n",
       "    }\n",
       "\n",
       "    .dataframe thead th {\n",
       "        text-align: right;\n",
       "    }\n",
       "</style>\n",
       "<table border=\"1\" class=\"dataframe\">\n",
       "  <thead>\n",
       "    <tr style=\"text-align: right;\">\n",
       "      <th></th>\n",
       "      <th>exp_group</th>\n",
       "      <th>user_id</th>\n",
       "      <th>likes</th>\n",
       "      <th>views</th>\n",
       "      <th>ctr</th>\n",
       "    </tr>\n",
       "  </thead>\n",
       "  <tbody>\n",
       "    <tr>\n",
       "      <th>0</th>\n",
       "      <td>1</td>\n",
       "      <td>109963</td>\n",
       "      <td>3</td>\n",
       "      <td>15</td>\n",
       "      <td>0.200000</td>\n",
       "    </tr>\n",
       "    <tr>\n",
       "      <th>1</th>\n",
       "      <td>1</td>\n",
       "      <td>26117</td>\n",
       "      <td>32</td>\n",
       "      <td>141</td>\n",
       "      <td>0.226950</td>\n",
       "    </tr>\n",
       "    <tr>\n",
       "      <th>2</th>\n",
       "      <td>1</td>\n",
       "      <td>138232</td>\n",
       "      <td>18</td>\n",
       "      <td>73</td>\n",
       "      <td>0.246575</td>\n",
       "    </tr>\n",
       "    <tr>\n",
       "      <th>3</th>\n",
       "      <td>1</td>\n",
       "      <td>26295</td>\n",
       "      <td>33</td>\n",
       "      <td>122</td>\n",
       "      <td>0.270492</td>\n",
       "    </tr>\n",
       "    <tr>\n",
       "      <th>4</th>\n",
       "      <td>1</td>\n",
       "      <td>18392</td>\n",
       "      <td>7</td>\n",
       "      <td>32</td>\n",
       "      <td>0.218750</td>\n",
       "    </tr>\n",
       "  </tbody>\n",
       "</table>\n",
       "</div>"
      ],
      "text/plain": [
       "   exp_group  user_id  likes  views       ctr\n",
       "0          1   109963      3     15  0.200000\n",
       "1          1    26117     32    141  0.226950\n",
       "2          1   138232     18     73  0.246575\n",
       "3          1    26295     33    122  0.270492\n",
       "4          1    18392      7     32  0.218750"
      ]
     },
     "execution_count": 35,
     "metadata": {},
     "output_type": "execute_result"
    }
   ],
   "source": [
    "df.head(5)"
   ]
  },
  {
   "cell_type": "markdown",
   "id": "78db9317-097a-484d-a467-b929103af35d",
   "metadata": {},
   "source": [
    "<h2><b>3 | <span style=\"color: #10a3d7\">DESCRIPTIVE STATISTICS</span></b></h2>\n",
    "\n",
    "Разделим данные на две выборки, тестовая и контрольные подвыборки, после чего сравним описательную статистику\n",
    "\n",
    "- **`Контрольная`** : `exp_group = 1`\n",
    "- **`Тестовая`** : `exp_group = 2`"
   ]
  },
  {
   "cell_type": "code",
   "execution_count": 36,
   "id": "71afa876-2082-4e7c-b703-6abf8a32ee4b",
   "metadata": {},
   "outputs": [
    {
     "data": {
      "text/html": [
       "<div>\n",
       "<style scoped>\n",
       "    .dataframe tbody tr th:only-of-type {\n",
       "        vertical-align: middle;\n",
       "    }\n",
       "\n",
       "    .dataframe tbody tr th {\n",
       "        vertical-align: top;\n",
       "    }\n",
       "\n",
       "    .dataframe thead th {\n",
       "        text-align: right;\n",
       "    }\n",
       "</style>\n",
       "<table border=\"1\" class=\"dataframe\">\n",
       "  <thead>\n",
       "    <tr style=\"text-align: right;\">\n",
       "      <th>exp_group</th>\n",
       "      <th>1</th>\n",
       "      <th>2</th>\n",
       "    </tr>\n",
       "  </thead>\n",
       "  <tbody>\n",
       "    <tr>\n",
       "      <th>count</th>\n",
       "      <td>10079.000000</td>\n",
       "      <td>9952.000000</td>\n",
       "    </tr>\n",
       "    <tr>\n",
       "      <th>mean</th>\n",
       "      <td>0.215605</td>\n",
       "      <td>0.214419</td>\n",
       "    </tr>\n",
       "    <tr>\n",
       "      <th>std</th>\n",
       "      <td>0.084160</td>\n",
       "      <td>0.144180</td>\n",
       "    </tr>\n",
       "    <tr>\n",
       "      <th>min</th>\n",
       "      <td>0.000000</td>\n",
       "      <td>0.000000</td>\n",
       "    </tr>\n",
       "    <tr>\n",
       "      <th>25%</th>\n",
       "      <td>0.160097</td>\n",
       "      <td>0.095238</td>\n",
       "    </tr>\n",
       "    <tr>\n",
       "      <th>50%</th>\n",
       "      <td>0.203125</td>\n",
       "      <td>0.142857</td>\n",
       "    </tr>\n",
       "    <tr>\n",
       "      <th>75%</th>\n",
       "      <td>0.257654</td>\n",
       "      <td>0.325000</td>\n",
       "    </tr>\n",
       "    <tr>\n",
       "      <th>max</th>\n",
       "      <td>0.722222</td>\n",
       "      <td>0.923077</td>\n",
       "    </tr>\n",
       "  </tbody>\n",
       "</table>\n",
       "</div>"
      ],
      "text/plain": [
       "exp_group             1            2\n",
       "count      10079.000000  9952.000000\n",
       "mean           0.215605     0.214419\n",
       "std            0.084160     0.144180\n",
       "min            0.000000     0.000000\n",
       "25%            0.160097     0.095238\n",
       "50%            0.203125     0.142857\n",
       "75%            0.257654     0.325000\n",
       "max            0.722222     0.923077"
      ]
     },
     "execution_count": 36,
     "metadata": {},
     "output_type": "execute_result"
    }
   ],
   "source": [
    "df.groupby('exp_group')['ctr'].describe().T"
   ]
  },
  {
   "cell_type": "code",
   "execution_count": 37,
   "id": "3109e145",
   "metadata": {},
   "outputs": [],
   "source": [
    "c = df[df['exp_group']==1]  # Контрольная группа\n",
    "t = df[df['exp_group']==2]  # Тестовая группа (новый алгоритм)"
   ]
  },
  {
   "cell_type": "markdown",
   "id": "2c188857-aed6-494d-bc55-ee750d35f097",
   "metadata": {},
   "source": [
    "<h2><b>4 | <span style=\"color: #10a3d7\">UNIVARIATE STATISTICS</span></b></h2>\n",
    "\n",
    "Посмотрим на расспределение, одномерное для облих выборок\n",
    "\n",
    "- Можем видить что одномерное расспределение у обоих выборок очень разное\n",
    "- Для **`контролькой`** (1) группы, расспределение похоже на **нормальное расспределение с небольшым перекосом влево**\n",
    "- А вот распределение во второй **`тестовой`** (2) группе уже получилось с **явной бимодальность**"
   ]
  },
  {
   "cell_type": "code",
   "execution_count": 223,
   "id": "18a0aa8f-dcb8-44b7-a9fa-de9b7ef7388a",
   "metadata": {},
   "outputs": [
    {
     "data": {
      "text/plain": [
       "<seaborn.axisgrid.FacetGrid at 0x798158ef0e10>"
      ]
     },
     "execution_count": 223,
     "metadata": {},
     "output_type": "execute_result"
    },
    {
     "data": {
      "image/png": "[encoded data removed]",
      "text/plain": [
       "<Figure size 683.986x400 with 1 Axes>"
      ]
     },
     "metadata": {},
     "output_type": "display_data"
    }
   ],
   "source": [
    "sns.displot(data=df, \n",
    "            x='ctr',\n",
    "            hue='exp_group',\n",
    "            kind='kde',\n",
    "            palette=\"tab10\",\n",
    "            height=4,aspect=1.5)"
   ]
  },
  {
   "cell_type": "markdown",
   "id": "7b5dd7f0-6970-42c4-977b-00c2bfb74d85",
   "metadata": {},
   "source": [
    "- Такое изменение в **`ctr`** возможно что связанно с **рассхождением мнением о новом изменении**, кому то понравилось, а кому то нет, и тут видно что пик у левой выше чем у контролькой группы\n",
    "- Так же **`t-test`** нельзя применять на таких расспределении, нужен другой способ справнения эффекта кового функционала"
   ]
  },
  {
   "cell_type": "markdown",
   "id": "d6b40d6b-fb4e-4fd9-ba93-5eb9c9ad26e9",
   "metadata": {},
   "source": [
    "<h2><b>5 | <span style=\"color: #10a3d7\">STATISTICAL TESTING</span></b></h2>\n",
    "\n",
    "\n",
    "<h3><b><span style=\"color: #10a3d7\">⡱⡷</span> Тест Стьюдента</b></h3>\n",
    "\n",
    "> * $H_0$ - средние значения **CTR в контрольной** и экспериментальной группaх равны.  \n",
    "> * $H_1$ - средние значения **CTR в тестовой группе выше**, чем в контрольной.\n",
    "\n",
    "- Не может отвергнуть нулевую гипотизу, нет доказательств того, что среднее значение c.ctr меньше, чем среднее значение t.ctr."
   ]
  },
  {
   "cell_type": "code",
   "execution_count": 39,
   "id": "42d16014-7c4b-479c-8a56-2f39373359d2",
   "metadata": {},
   "outputs": [
    {
     "data": {
      "text/plain": [
       "np.float64(0.7609688434562429)"
      ]
     },
     "execution_count": 39,
     "metadata": {},
     "output_type": "execute_result"
    }
   ],
   "source": [
    "stats.ttest_ind(c.ctr,\n",
    "                t.ctr,\n",
    "                equal_var=False,\n",
    "                alternative='less').pvalue "
   ]
  },
  {
   "cell_type": "markdown",
   "id": "1c899995-8e4e-4f0c-bf41-12181a985921",
   "metadata": {},
   "source": [
    "**Обратная алтернативная гипотиза Стьюдента**\n",
    "\n",
    "Проверим обратную альтернативную гипотезу:  \n",
    "> * $H_0$ - средние значения **CTR в контрольной** и экспериментальной группaх равны.  \n",
    "> * $H_1$  - средние значения **CTR в тестовой группе ниже**, чем в контрольной.\n",
    "\n",
    "- Не может отвергнуть нулевую гипотизу, нет доказательств того, что среднее значение c.ctr больше, чем среднее значение t.ctr."
   ]
  },
  {
   "cell_type": "code",
   "execution_count": 40,
   "id": "d28c7f77-a13b-4695-9651-a6656e2814e9",
   "metadata": {},
   "outputs": [
    {
     "data": {
      "text/plain": [
       "np.float64(0.23903115654375706)"
      ]
     },
     "execution_count": 40,
     "metadata": {},
     "output_type": "execute_result"
    }
   ],
   "source": [
    "stats.ttest_ind(c.ctr,\n",
    "                t.ctr,\n",
    "                equal_var=False,\n",
    "                alternative='greater').pvalue "
   ]
  },
  {
   "cell_type": "markdown",
   "id": "a518d428-716b-435e-b320-48f482f6074d",
   "metadata": {},
   "source": [
    "<h3><b><span style=\"color: #10a3d7\">⡱⡷</span> Тест Манна-Уитни</b></h3>\n",
    "\n",
    "**Составим гипотизы**\n",
    "\n",
    "> - **$H_0$** - $P(X > Y) = P(Y > X)$ означает, что **случайные величины $X$ и $Y$ имеют одинаковое распределение**\n",
    "> - **$H_1$** - $P(X > Y) > P(Y > X)$ означает, что вероятность $X$ быть больше $Y$ больше, чем вероятность $Y$ быть больше $X$ ('greater')\n",
    "\n",
    "Таким образом, тест Манна-Уитни проверяет, есть ли статистически значимая разница в расположении распределений двух независимых выборок $X$ и $Y$, без предположения о нормальности данных. \n",
    "\n",
    "| `alternative` | Альтернативная гипотеза H1                           | Что это означает                                            |\n",
    "| ------------- | ---------------------------------------------------- | ----------------------------------------------------------- |\n",
    "| `'less'`      | P(X<Y)>P(X>Y)                                        | Первая выборка имеет меньшие значения, чем вторая           |\n",
    "| `'greater'`   | P(X>Y)>P(X<Y)                                        | Первая выборка имеет большие значения, чем вторая           |\n",
    "| `'two-sided'` | Распределения различаются (без направления различия) | Есть отличие в двух выборках, но неизвестно в какую сторону |\n"
   ]
  },
  {
   "cell_type": "code",
   "execution_count": 41,
   "id": "b2fdd71b-399f-4ea2-914f-896e1d1f7186",
   "metadata": {},
   "outputs": [
    {
     "data": {
      "text/plain": [
       "np.float64(3.0188242308889518e-56)"
      ]
     },
     "execution_count": 41,
     "metadata": {},
     "output_type": "execute_result"
    }
   ],
   "source": [
    "# random sample from c > t\n",
    "stats.mannwhitneyu(c.ctr,\n",
    "                   t.ctr,\n",
    "                   alternative='greater').pvalue"
   ]
  },
  {
   "cell_type": "markdown",
   "id": "6e38baf9-d053-4754-871b-251e3db19d7f",
   "metadata": {},
   "source": [
    "**Обратная алтернативная гипотиза Манна-Уитни**"
   ]
  },
  {
   "cell_type": "code",
   "execution_count": 42,
   "id": "15779fb8-688f-4f2b-b3f6-42d4bcb4a5da",
   "metadata": {},
   "outputs": [
    {
     "data": {
      "text/plain": [
       "np.float64(1.0)"
      ]
     },
     "execution_count": 42,
     "metadata": {},
     "output_type": "execute_result"
    }
   ],
   "source": [
    "stats.mannwhitneyu(c.ctr,\n",
    "                   t.ctr,\n",
    "                   alternative='less').pvalue"
   ]
  },
  {
   "cell_type": "markdown",
   "id": "bf182d5d-1100-4db8-93fe-a7e9b27644c7",
   "metadata": {},
   "source": [
    "<h3><b><span style=\"color: #10a3d7\">⡱⡷</span> Итоги статистических тестов</b></h3>\n",
    "\n",
    "Подведем итоги двух статистических тестов\n",
    "\n",
    "- **Тест Стьюдента не прокрасился из-за заложенного в t статистику сравнения среднего выборок**, а они в двух выборках практически идентичны.  \n",
    "- А вот **тест Манна-Уитни** учитывает расположение элементов выборок относительно друг друга (однородность распределений), а не значения элементов.\n",
    "- Поэтому он и не зависит от средних выборок и **показал наличие статистически значимых различий в выборках**.\n",
    "- Что касается гипотезы, то подтверждается **`обратная альтернативная`** гипотеза:\n",
    "   - Вероятность получения случайного числа CTR из контрольной группы большего по значению, чем случайного числа CTR из тестовой группы выше, чем вероятность получения случайного числа CTR из контрольной группы меньшего по значению, чем случайного числа CTR из тестовой группы.\n",
    "\n"
   ]
  },
  {
   "cell_type": "markdown",
   "id": "dd05dbf2-524f-4b83-aade-cc78d95fab48",
   "metadata": {},
   "source": [
    "<h2><b>6 | <span style=\"color: #10a3d7\">SMOOTHED CTR METRIC</span></b></h2>\n",
    "\n",
    "<h3><b><span style=\"color: #10a3d7\">⡱⡷</span> Количество просмотров</b></h3>\n",
    "\n",
    "Проведем еще один тест"
   ]
  },
  {
   "cell_type": "markdown",
   "id": "4a1eec42-071a-42e7-8e50-6d0ad269b50e",
   "metadata": {},
   "source": [
    "Проверим качество **`CTR`** в выборках **по количеству просмотров** на пользователя"
   ]
  },
  {
   "cell_type": "code",
   "execution_count": 43,
   "id": "6714ac66",
   "metadata": {},
   "outputs": [
    {
     "data": {
      "text/html": [
       "<div>\n",
       "<style scoped>\n",
       "    .dataframe tbody tr th:only-of-type {\n",
       "        vertical-align: middle;\n",
       "    }\n",
       "\n",
       "    .dataframe tbody tr th {\n",
       "        vertical-align: top;\n",
       "    }\n",
       "\n",
       "    .dataframe thead th {\n",
       "        text-align: right;\n",
       "    }\n",
       "</style>\n",
       "<table border=\"1\" class=\"dataframe\">\n",
       "  <thead>\n",
       "    <tr style=\"text-align: right;\">\n",
       "      <th>exp_group</th>\n",
       "      <th>1</th>\n",
       "      <th>2</th>\n",
       "    </tr>\n",
       "  </thead>\n",
       "  <tbody>\n",
       "    <tr>\n",
       "      <th>count</th>\n",
       "      <td>10079.000000</td>\n",
       "      <td>9952.000000</td>\n",
       "    </tr>\n",
       "    <tr>\n",
       "      <th>mean</th>\n",
       "      <td>66.299831</td>\n",
       "      <td>66.148513</td>\n",
       "    </tr>\n",
       "    <tr>\n",
       "      <th>std</th>\n",
       "      <td>45.043411</td>\n",
       "      <td>45.151210</td>\n",
       "    </tr>\n",
       "    <tr>\n",
       "      <th>min</th>\n",
       "      <td>2.000000</td>\n",
       "      <td>1.000000</td>\n",
       "    </tr>\n",
       "    <tr>\n",
       "      <th>25%</th>\n",
       "      <td>32.000000</td>\n",
       "      <td>32.000000</td>\n",
       "    </tr>\n",
       "    <tr>\n",
       "      <th>50%</th>\n",
       "      <td>56.000000</td>\n",
       "      <td>56.000000</td>\n",
       "    </tr>\n",
       "    <tr>\n",
       "      <th>75%</th>\n",
       "      <td>90.000000</td>\n",
       "      <td>91.000000</td>\n",
       "    </tr>\n",
       "    <tr>\n",
       "      <th>max</th>\n",
       "      <td>311.000000</td>\n",
       "      <td>321.000000</td>\n",
       "    </tr>\n",
       "  </tbody>\n",
       "</table>\n",
       "</div>"
      ],
      "text/plain": [
       "exp_group             1            2\n",
       "count      10079.000000  9952.000000\n",
       "mean          66.299831    66.148513\n",
       "std           45.043411    45.151210\n",
       "min            2.000000     1.000000\n",
       "25%           32.000000    32.000000\n",
       "50%           56.000000    56.000000\n",
       "75%           90.000000    91.000000\n",
       "max          311.000000   321.000000"
      ]
     },
     "execution_count": 43,
     "metadata": {},
     "output_type": "execute_result"
    }
   ],
   "source": [
    "df.groupby('exp_group')['views'].describe().T"
   ]
  },
  {
   "cell_type": "code",
   "execution_count": 178,
   "id": "38dbdc6d-c884-4bf2-ba5f-734987e1feaf",
   "metadata": {},
   "outputs": [],
   "source": [
    "# sns.set_palette(\"bright\")"
   ]
  },
  {
   "cell_type": "code",
   "execution_count": 227,
   "id": "f9536135-dc59-4c85-b70e-d36240fb8fa2",
   "metadata": {},
   "outputs": [
    {
     "data": {
      "text/plain": [
       "<Axes: xlabel='views', ylabel='Count'>"
      ]
     },
     "execution_count": 227,
     "metadata": {},
     "output_type": "execute_result"
    },
    {
     "data": {
      "image/png": "[encoded data removed]",
      "text/plain": [
       "<Figure size 640x480 with 1 Axes>"
      ]
     },
     "metadata": {},
     "output_type": "display_data"
    }
   ],
   "source": [
    "sns.histplot(\n",
    "    df,\n",
    "    x=\"views\", \n",
    "    hue=\"exp_group\",\n",
    "    edgecolor=\".4\",\n",
    "    linewidth=.5,\n",
    "    palette=\"tab10\"\n",
    ")"
   ]
  },
  {
   "cell_type": "markdown",
   "id": "13a8172c",
   "metadata": {},
   "source": [
    "Возникает важный вопрос, достатосно ли это количество просмотров"
   ]
  },
  {
   "cell_type": "markdown",
   "id": "83f581dd-d072-4e8d-bc54-dbb1cc3d0fe7",
   "metadata": {},
   "source": [
    "<h3><b><span style=\"color: #10a3d7\">⡱⡷</span> Формируем колонку с сглаженным CTR</b></h3>\n",
    "\n",
    "Количество просмотров на пользователя\n",
    "\n",
    "- **`CTR`** в обеих группах сильно зашумлен данными от пользователей с низким количеством просмотров. \n",
    "- **В двух группах 75-й процентиль это ~ 90 просмотров на юзера!**.\n",
    "Такого количества просмотров недостаточно для точной оценки CTR.\n",
    "- **Применение процедуры сглаживания Лапласа к метрике CTR обосновано**\n",
    "\n",
    "<br>\n",
    "\n",
    "<center>$smoothed CTR_u = \\dfrac{clicks_u+\\alpha*globalCTR}{views_u + \\alpha}$</center>\n",
    "\n",
    "\n",
    "Где $\\alpha$ — гиперпараметр.   \n",
    "\n",
    "Идея проста: \n",
    "\n",
    "- Когда просмотров много, сглаженный CTR почти равен CTR пользователя. \n",
    "- Когда просмотров мало, сглаженный CTR почти равен общегрупповому CTR.\n",
    "\n",
    "Иначе говоря, если у пользователя **много просмотров**, мы можем быть уверены, что **клики / просмотры — хорошая оценка его CTR**, \n",
    "а когда у пользователя просмотров мало, мы устанавливаем в качестве оценки общегрупповой CTR"
   ]
  },
  {
   "cell_type": "code",
   "execution_count": 45,
   "id": "eaabb947",
   "metadata": {},
   "outputs": [],
   "source": [
    "gctr1 = c['likes'].sum()/c['views'].sum()\n",
    "gctr2 = t['likes'].sum()/t['views'].sum()"
   ]
  },
  {
   "cell_type": "code",
   "execution_count": 46,
   "id": "40beed1b",
   "metadata": {},
   "outputs": [],
   "source": [
    "def get_smooth(x):\n",
    "    if x.exp_group == 1:\n",
    "        return (x.likes + 5 * gctr1) / (x.views + 5)\n",
    "    else:\n",
    "        return (x.likes + 5 * gctr2) / (x.views + 5)    \n",
    "\n",
    "df['smooth_ctr'] = df.apply(get_smooth,axis=1)"
   ]
  },
  {
   "cell_type": "code",
   "execution_count": 47,
   "id": "2aaec6ba",
   "metadata": {},
   "outputs": [],
   "source": [
    "c = df.query('exp_group == 1') # control \n",
    "t = df.query('exp_group == 2') # test "
   ]
  },
  {
   "cell_type": "markdown",
   "id": "285ad28d-d8ba-4854-a47e-7b753d02455d",
   "metadata": {},
   "source": [
    "<h3><b><span style=\"color: #10a3d7\">⡱⡷</span> Проведем t-тест Стьюдента на сглаженных CTR</b></h3>\n",
    "\n",
    "* $H_0$ - средние значения CTR в контрольной и экспериментальной группaх **равны**  \n",
    "* $H_1$ - **средние значения CTR в тестовой группе выше**, чем в контрольной."
   ]
  },
  {
   "cell_type": "code",
   "execution_count": 228,
   "id": "7fc2a9b1-7816-42b5-b239-eff19db8f461",
   "metadata": {},
   "outputs": [
    {
     "data": {
      "text/plain": [
       "<seaborn.axisgrid.FacetGrid at 0x798158802210>"
      ]
     },
     "execution_count": 228,
     "metadata": {},
     "output_type": "execute_result"
    },
    {
     "data": {
      "image/png": "[encoded data removed]",
      "text/plain": [
       "<Figure size 643.986x350 with 1 Axes>"
      ]
     },
     "metadata": {},
     "output_type": "display_data"
    }
   ],
   "source": [
    "sns.displot(data=df,\n",
    "            x='ctr',\n",
    "            hue='exp_group',\n",
    "            kind='kde', \n",
    "            height=3.5, \n",
    "            aspect=1.6,\n",
    "            palette=\"tab10\")"
   ]
  },
  {
   "cell_type": "code",
   "execution_count": 229,
   "id": "512b97e3-5e57-4673-9764-e60b443c8fa9",
   "metadata": {},
   "outputs": [
    {
     "data": {
      "text/plain": [
       "<seaborn.axisgrid.FacetGrid at 0x7981588fd810>"
      ]
     },
     "execution_count": 229,
     "metadata": {},
     "output_type": "execute_result"
    },
    {
     "data": {
      "image/png": "[encoded data removed]",
      "text/plain": [
       "<Figure size 643.986x350 with 1 Axes>"
      ]
     },
     "metadata": {},
     "output_type": "display_data"
    }
   ],
   "source": [
    "sns.displot(data=df, \n",
    "            x='smooth_ctr',\n",
    "            hue='exp_group',\n",
    "            kind='kde', \n",
    "            height=3.5,\n",
    "            aspect=1.6,\n",
    "            palette=\"tab10\")"
   ]
  },
  {
   "cell_type": "code",
   "execution_count": 213,
   "id": "7e0962c0-dc48-4869-bbcc-72ea58e0f6d3",
   "metadata": {},
   "outputs": [
    {
     "data": {
      "text/plain": [
       "TtestResult(statistic=np.float64(2.2841320431616983), pvalue=np.float64(0.9888115092220721), df=np.float64(15791.866890424124))"
      ]
     },
     "execution_count": 213,
     "metadata": {},
     "output_type": "execute_result"
    }
   ],
   "source": [
    "# t-test independent\n",
    "stats.ttest_ind(\n",
    "                c.smooth_ctr,\n",
    "                t.smooth_ctr,\n",
    "                equal_var=False,\n",
    "                alternative='less')"
   ]
  },
  {
   "cell_type": "markdown",
   "id": "4fe3391e-318b-4e8d-a26f-3aa04419b04d",
   "metadata": {},
   "source": [
    "Проверим обратную альтернативную гипотезу:  \n",
    "* $H_0$  - средние значения CTR в контрольной и экспериментальной группaх равны.  \n",
    "* $H_1$  - средние значения CTR в тестовой группе ниже, чем в контрольной.  "
   ]
  },
  {
   "cell_type": "code",
   "execution_count": 51,
   "id": "bf38a308-8ddc-4b6c-bd4c-c9521067d95b",
   "metadata": {},
   "outputs": [
    {
     "data": {
      "text/plain": [
       "TtestResult(statistic=np.float64(2.2841320431616983), pvalue=np.float64(0.011188490777927938), df=np.float64(15791.866890424124))"
      ]
     },
     "execution_count": 51,
     "metadata": {},
     "output_type": "execute_result"
    }
   ],
   "source": [
    "# can't reject \n",
    "stats.ttest_ind(\n",
    "                c.smooth_ctr,\n",
    "                t.smooth_ctr,\n",
    "                equal_var=False,\n",
    "                alternative='greater')"
   ]
  },
  {
   "cell_type": "markdown",
   "id": "89c9520f-baca-4c54-98ca-3250cf0ab599",
   "metadata": {},
   "source": [
    "Отлично, тест прокрасился! pval < 0.05"
   ]
  },
  {
   "cell_type": "code",
   "execution_count": 52,
   "id": "fdad4837-35b6-4449-9860-49bbd3d6fa53",
   "metadata": {},
   "outputs": [
    {
     "name": "stdout",
     "output_type": "stream",
     "text": [
      "before: 0.001, after: 0.003\n"
     ]
    }
   ],
   "source": [
    "# difference on means bw groups before after \n",
    "mean_ctr_before = df[df['exp_group']==1].ctr.mean()-df[df['exp_group']==2].ctr.mean()\n",
    "mean_ctr_after =  df[df['exp_group']==1].smooth_ctr.mean()-df[df['exp_group']==2].smooth_ctr.mean()\n",
    "\n",
    "print(f'before: {round(mean_ctr_before,3)}, after: {round(mean_ctr_after,3)}')"
   ]
  },
  {
   "cell_type": "code",
   "execution_count": 53,
   "id": "dd248f7a-2966-47eb-b53f-787728ace341",
   "metadata": {},
   "outputs": [
    {
     "data": {
      "text/plain": [
       "np.float64(2.772)"
      ]
     },
     "execution_count": 53,
     "metadata": {},
     "output_type": "execute_result"
    }
   ],
   "source": [
    "round(mean_ctr_after / mean_ctr_before,3)"
   ]
  },
  {
   "cell_type": "code",
   "execution_count": 54,
   "id": "c1d1f875-5d2b-4b9d-a14b-688eefd7b5be",
   "metadata": {},
   "outputs": [
    {
     "name": "stdout",
     "output_type": "stream",
     "text": [
      "1.1792320742547526\n"
     ]
    }
   ],
   "source": [
    "print(c.ctr.std() / c.smooth_ctr.std())"
   ]
  },
  {
   "cell_type": "markdown",
   "id": "45401846-22f4-4707-a1bb-33b30af67dde",
   "metadata": {},
   "source": [
    "- **Разница средних значений CTR в тестовой выборке после сглаживания Лапласа увеличилась в 2.7 раз!**\n",
    "- После сглаживания Лапласа стандартное отклонение CTR в обеих выборках уменьшилось на ~ 17%\n",
    "- Из-за увеличения разности средних в три раза и уменьшения стандартного отклонения уменьшились оценки дисперсии. Это и дало увлечение t критерия в три раза, что и снизило p-value."
   ]
  },
  {
   "cell_type": "markdown",
   "id": "0b872df4-04f3-4f54-bc5f-134f852f83ec",
   "metadata": {},
   "source": [
    "**Вывод: применение сглаживания Лапласа для метрики CTR позволило увеличить чувствительность t-критерия и обнаружить статистически значимую разницу в группах.**   \n",
    "\n",
    "Однако теоретической гарантии, что его направленность совпадает с направленностью общего количества лайков, нет и применять такой метод следует только на свой страх и риск."
   ]
  },
  {
   "cell_type": "markdown",
   "id": "7e77c731-2922-4638-bd6c-172a95474297",
   "metadata": {},
   "source": [
    "<h3><b><span style=\"color: #10a3d7\">⡱⡷</span> Проведем Тест Манна-Уитни на сглаженных CTR</b></h3>"
   ]
  },
  {
   "cell_type": "code",
   "execution_count": 55,
   "id": "c3951be8-2e96-4b8a-96d2-729dcfa7bdaa",
   "metadata": {},
   "outputs": [
    {
     "data": {
      "text/plain": [
       "np.float64(8.081982057135114e-62)"
      ]
     },
     "execution_count": 55,
     "metadata": {},
     "output_type": "execute_result"
    }
   ],
   "source": [
    "# alternatie: random sample from control larger than random sample from test\n",
    "stats.mannwhitneyu(c.smooth_ctr,\n",
    "                   t.smooth_ctr,\n",
    "                   alternative='greater').pvalue"
   ]
  },
  {
   "cell_type": "code",
   "execution_count": 56,
   "id": "fab0be39-333d-4d94-8b54-ba9585f2a3c9",
   "metadata": {},
   "outputs": [
    {
     "data": {
      "text/plain": [
       "np.float64(1.0)"
      ]
     },
     "execution_count": 56,
     "metadata": {},
     "output_type": "execute_result"
    }
   ],
   "source": [
    "# alternative: random sample from control lower than random sample from control \n",
    "stats.mannwhitneyu(c.smooth_ctr,\n",
    "                   t.smooth_ctr,\n",
    "                   alternative='less').pvalue"
   ]
  },
  {
   "cell_type": "markdown",
   "id": "f04efa3f-56a5-4f8f-b7c7-c3ed1ef09b8f",
   "metadata": {},
   "source": [
    "- Как и ожидалось, тест Манна-Уитни показал наличие статистически значимых различий в выборках сглаженных **`CTR`** \n",
    "- Тест учитывает расположение элементов выборок относительно друг друга (однородность распределений), а не значения элементов.\n",
    "- Поэтому **он и не зависит от изменившихся после сглаживания средних выборок** и **на чувствительность теста такое преобразование практически не повлияло.**"
   ]
  },
  {
   "cell_type": "markdown",
   "id": "ff4a74cd-da50-4fbe-8b96-ccc65f9476f6",
   "metadata": {},
   "source": [
    "<h2><b>7 | <span style=\"color: #10a3d7\">NON-PARAMETRIC BOOTSTRAP</span></b></h2>\n",
    "\n",
    "Создалим две псевдовыборки\n",
    "\n",
    "- Для сравнения среднего **`CTR`** в первой(контрольной) и второй(тестовых) группах, применим **непараметрический бутстреп**\n",
    "- Будем **рандомно генировать псевдовыборки** из **`CTR`** групп 1 и 2 длиной этих групп и каждую итерацию считать среднее по этим CTR и записывать их в список, на основе которых потом проведем анализ.\n",
    "- Построим **`kde`** получившихся распределений средних **`CTR`** из этих 100/1000 псевдовыборок из тестовой и контрольной групп.\n",
    "- Визуально заметно, как **средние значения CTR** в псевдовыборках из **контрольной группы больше**"
   ]
  },
  {
   "cell_type": "code",
   "execution_count": 57,
   "id": "165bd2d5-1605-46f8-93c1-7700e5d56f3b",
   "metadata": {},
   "outputs": [],
   "source": [
    "import numpy as np\n",
    "\n",
    "def boostrap_sample_mean(df,n_samples=10):\n",
    "\n",
    "    lst_means = []\n",
    "    for i in range(n_samples):\n",
    "        samples = np.random.choice(df['ctr'], \n",
    "                                   size=len(df), \n",
    "                                   replace=True)\n",
    "        lst_means.append(np.mean(samples))\n",
    "\n",
    "    return lst_means"
   ]
  },
  {
   "cell_type": "code",
   "execution_count": 230,
   "id": "eb91704a-3354-4c1a-a9bc-c7ce652353d3",
   "metadata": {},
   "outputs": [
    {
     "data": {
      "text/plain": [
       "<seaborn.axisgrid.FacetGrid at 0x798158799090>"
      ]
     },
     "execution_count": 230,
     "metadata": {},
     "output_type": "execute_result"
    },
    {
     "data": {
      "image/png": "[encoded data removed]",
      "text/plain": [
       "<Figure size 643.986x350 with 1 Axes>"
      ]
     },
     "metadata": {},
     "output_type": "display_data"
    }
   ],
   "source": [
    "cb = boostrap_sample_mean(c,100)\n",
    "tb = boostrap_sample_mean(t,100)\n",
    "cbs = pd.Series(cb,name='bootstap_ctl').to_frame()\n",
    "tbs = pd.Series(tb,name='bootstap_ctl').to_frame()\n",
    "cbs['exp_group'] = 0\n",
    "tbs['exp_group'] = 1\n",
    "m = pd.concat([cbs,tbs])\n",
    "sns.displot(data=m, \n",
    "            x='bootstap_ctl',\n",
    "            hue='exp_group',\n",
    "            kind='kde', \n",
    "            height=3.5, \n",
    "            aspect=1.6,\n",
    "            palette=\"tab10\")"
   ]
  },
  {
   "cell_type": "code",
   "execution_count": 231,
   "id": "1b653374-e32f-4a12-9197-f1248ce5464d",
   "metadata": {},
   "outputs": [
    {
     "data": {
      "text/plain": [
       "<seaborn.axisgrid.FacetGrid at 0x79815873afd0>"
      ]
     },
     "execution_count": 231,
     "metadata": {},
     "output_type": "execute_result"
    },
    {
     "data": {
      "image/png": "[encoded data removed]",
      "text/plain": [
       "<Figure size 643.986x350 with 1 Axes>"
      ]
     },
     "metadata": {},
     "output_type": "display_data"
    }
   ],
   "source": [
    "cb = boostrap_sample_mean(c,1000)\n",
    "tb = boostrap_sample_mean(t,1000)\n",
    "cbs = pd.Series(cb,name='bootstap_ctl').to_frame()\n",
    "tbs = pd.Series(tb,name='bootstap_ctl').to_frame()\n",
    "cbs['exp_group'] = 0\n",
    "tbs['exp_group'] = 1\n",
    "m = pd.concat([cbs,tbs])\n",
    "sns.displot(data=m, \n",
    "            x='bootstap_ctl',\n",
    "            hue='exp_group',\n",
    "            kind='kde', \n",
    "            height=3.5,\n",
    "            aspect=1.6,\n",
    "            palette=\"tab10\")"
   ]
  },
  {
   "cell_type": "markdown",
   "id": "849013ea-7b30-442a-9b42-3b69327c0faa",
   "metadata": {},
   "source": [
    "Проведем тесты параметрическим методом с использованием **t-критерия Стьюдента** и его непараметрическим аналогом - W критерием Уилкоксона в тесте Манна-Уитни .\n",
    "\n",
    "* $H_0$ - средние значения **`CTR`** в контрольной и экспериментальной группaх равны.  \n",
    "* $H_1$ - средние значения **`CTR`** в контрольной группе выше, чем в тестовой."
   ]
  },
  {
   "cell_type": "code",
   "execution_count": 60,
   "id": "a3eb5e22-0064-4d4a-8647-ee64475fbec5",
   "metadata": {},
   "outputs": [],
   "source": [
    "cbst = m.query('exp_group == 0')\n",
    "tbst = m.query('exp_group == 1')"
   ]
  },
  {
   "cell_type": "code",
   "execution_count": 61,
   "id": "924cae00-4c91-4e62-ac9e-9abf413bcb23",
   "metadata": {},
   "outputs": [
    {
     "data": {
      "text/plain": [
       "np.float64(1.9380769874716835e-103)"
      ]
     },
     "execution_count": 61,
     "metadata": {},
     "output_type": "execute_result"
    }
   ],
   "source": [
    "'''\n",
    "\n",
    "In essence, this code tests whether the average of  cbst.bootstap_ctl  is significantly greater than the average of tbst.bootstap_ctl , without assuming equal variances between the groups. \n",
    "\n",
    "The output  pvalue  tells you the significance level of that test: a small p-value (e.g., less than 0.05) suggests strong evidence that  cbst.bootstap_ctl  has a greater mean than  tbst.bootstap_ctl .\n",
    "\n",
    "In other words, there is very strong statistical evidence to reject the null hypothesis, you reject the null hypothesis in favor of the alternative hypothesis.\n",
    "\n",
    "'''\n",
    "\n",
    "stats.ttest_ind(cbst.bootstap_ctl, \n",
    "                tbst.bootstap_ctl, \n",
    "                equal_var=False,\n",
    "                alternative='greater').pvalue"
   ]
  },
  {
   "cell_type": "markdown",
   "id": "3da69254-f95c-403c-b193-f9531f71dea0",
   "metadata": {},
   "source": [
    "- Принимаем **односторонюю гипотезу** о большем значении среднего в распредлении средних **`CTR`** пседовыборок из группы 1, т.е. контрольной, отвергая нулевую гипотизу в сторону альтернативной \n",
    "- Новый ML алгоритм во 2 группе привел к снижению **`CTR`**"
   ]
  },
  {
   "cell_type": "code",
   "execution_count": 62,
   "id": "5692fd43-62b2-4b7a-806b-f649c3fd3caa",
   "metadata": {},
   "outputs": [
    {
     "data": {
      "text/plain": [
       "np.float64(1.9816531341532074e-96)"
      ]
     },
     "execution_count": 62,
     "metadata": {},
     "output_type": "execute_result"
    }
   ],
   "source": [
    "# random sample from control greater than random sample from test\n",
    "stats.mannwhitneyu(cbst.bootstap_ctl,\n",
    "                   tbst.bootstap_ctl, \n",
    "                   alternative='greater').pvalue"
   ]
  },
  {
   "cell_type": "markdown",
   "id": "34689dd8-d371-47a8-b9f0-39391ed1332b",
   "metadata": {},
   "source": [
    "<h3><b><span style=\"color: #10a3d7\">⡱⡷</span> Вывод</b></h3>\n",
    "\n",
    "Принимаем гипотезу о том:\n",
    "- Вероятность получения **случайного числа среднего CTR из псевдовыборки контрольной группы большего по значению**, чем случайного числа среднего CTR из псевдовыборки тестовой группы **выше**, чем вероятность получения случайного числа среденего CTR из псевдовыборки контрольной группы меньшего по значению, чем случайного числа среднего CTR из псевдовыборки тестовой группы.\n",
    "\n",
    "<h3><b><span style=\"color: #10a3d7\">⡱⡷</span> Недостаток бутстреп</b></h3>\n",
    "\n",
    "К недостатку бутсрепа можно отнести \n",
    "- использование малореалистичного предположения о независимости перевыборок \n",
    "- и значительные вычислительные затраты при их многократном построении."
   ]
  },
  {
   "cell_type": "markdown",
   "id": "a98c4c9c-6936-4650-a56f-a9169530cd40",
   "metadata": {},
   "source": [
    "<h2><b>8 | <span style=\"color: #10a3d7\">POISSON BOOTSTRAP</span></b></h2>\n",
    "\n",
    "Разновидность классического бутстрапа (bootstrap), метода статистического ресемплинга. В классическом бутстрапе для создания каждой новой выборки случайным образом выбираются с возвратом наблюдения из исходной выборки, при этом размер каждой бутстрап-выборки равен исходному объему. В Poisson bootstrap подход отличается по способу выбора:\n",
    "\n",
    "- Каждому наблюдению в исходной выборке **присваивается число появлений (веса)** в бутстрап-выборке, которое выбирается из пуассоновского распределения с параметром 1\n",
    "- Количество раз, которое каждое наблюдение попадает в бутстрап-выборку, является **независимой случайной величиной**.\n",
    "- Размер самой бутстрап-выборки становится случайной величиной, с ожидаемым значением равным исходному объему, но фактически может отличаться от него.\n",
    "- В классическом бутстрапе веса следуют мультиномальному распределению с суммой весов фиксированной и равной размеру выборки, а в пуассоновском весовые переменные независимы.\n"
   ]
  },
  {
   "cell_type": "code",
   "execution_count": 232,
   "id": "9ba60847-589a-4770-9bf6-8fcdc043f477",
   "metadata": {},
   "outputs": [
    {
     "data": {
      "text/plain": [
       "<seaborn.axisgrid.FacetGrid at 0x798158601e50>"
      ]
     },
     "execution_count": 232,
     "metadata": {},
     "output_type": "execute_result"
    },
    {
     "data": {
      "image/png": "[encoded data removed]",
      "text/plain": [
       "<Figure size 643.986x350 with 1 Axes>"
      ]
     },
     "metadata": {},
     "output_type": "display_data"
    }
   ],
   "source": [
    "def pboostrap_sample_mean(df,n_samples):\n",
    "    poisson_samples = stats.poisson(1).rvs((n_samples, len(df.likes.values))).astype(np.int64) # (n_samples,n_likes)\n",
    "    return (poisson_samples*df.likes.values).sum(axis=1)/(poisson_samples*df.views.values).sum(axis=1)\n",
    "\n",
    "cb = pboostrap_sample_mean(c,1000)\n",
    "tb = pboostrap_sample_mean(t,1000)\n",
    "cbs = pd.Series(cb,name='pbootstap_ctl').to_frame()\n",
    "tbs = pd.Series(tb,name='pbootstap_ctl').to_frame()\n",
    "cbs['exp_group'] = 0\n",
    "tbs['exp_group'] = 1\n",
    "m = pd.concat([cbs,tbs])\n",
    "sns.displot(data=m, \n",
    "            x='pbootstap_ctl',\n",
    "            hue='exp_group',\n",
    "            kind='kde', \n",
    "            height=3.5, \n",
    "            aspect=1.6,\n",
    "            palette=\"tab10\")\n"
   ]
  },
  {
   "cell_type": "markdown",
   "id": "6e384f60-e99d-448b-b897-b9fbdadb06bb",
   "metadata": {},
   "source": [
    "- Очевидно, что глобальные **`CTR`** в **псевдовыборках из контрольной группы больше**, чем в тествой, так как графики их распределений даже не пересекаются.\n",
    "- Можно утверждать, что новый ML алгоритм (группа 2) в тестовоaй группе 2 (красная на графике выше) **приводит к снижению глобального CTR**\n",
    "   \n",
    "**Проведем тест параметрическим методом с использованием t-критерия Стьюдента.**"
   ]
  },
  {
   "cell_type": "code",
   "execution_count": 64,
   "id": "16d7cbe5-c1a0-4776-a167-9d3f17507fbb",
   "metadata": {},
   "outputs": [
    {
     "data": {
      "text/plain": [
       "TtestResult(statistic=np.float64(200.72534507069847), pvalue=np.float64(0.0), df=np.float64(1505.7451048818073))"
      ]
     },
     "execution_count": 64,
     "metadata": {},
     "output_type": "execute_result"
    }
   ],
   "source": [
    "stats.ttest_ind(cb, \n",
    "                tb, \n",
    "                equal_var=False,\n",
    "                alternative='greater')"
   ]
  },
  {
   "cell_type": "markdown",
   "id": "5b03f2e0-c61b-4c16-af9b-38e55b46fd09",
   "metadata": {},
   "source": [
    "- p-value = 0, что очевидно меньше уровня значимости в 0.05. \n",
    "- Следовательно можем принять гипотезу, что среднее значение глобальных CTR псевдовыборок контрольной группы больше, чем среднее значение глобальных CTR псевдовыборок тестовой группы.  \n",
    "- Новый ML алгоритм во 2 группе привел к снижению CTR."
   ]
  },
  {
   "cell_type": "markdown",
   "id": "d05cc328-c66b-426e-b60f-a4610f4b9cc3",
   "metadata": {},
   "source": [
    "<h2><b>9 | <span style=\"color: #10a3d7\">BUCKETISED STATISTICAL TESTS</span></b></h2>\n",
    "   \n",
    "Порядок действии:\n",
    "\n",
    "- Необходимо разбить пользователей на n «корзинок» («бакетов»).\n",
    "- Нужно гарантировать, что каждый пользователь попадет только в один бакет и пользователи по бакетам будут распределены равномерно. \n",
    "- Это можно гарантировать с помощью того же хеширования с солью. Каждый бакет теперь становится как бы «метапользователем», участвующим в эксперименте.\n",
    "- И внутри такого «метапользователя» показатель нужно как-то агрегировать.\n",
    "- Будем вычеслять среднее CTR по бакету.   \n",
    "\n",
    "Разделим контрольные и тестовые группы по 50 бакетов и считаем в каждом бакете среднее. \n",
    "\n",
    "В итоге на выходе получим две выборки из 50 значений средних CTR по этим «метапользователям». \n",
    "\n",
    "Это как будто мы сделали бутстреп, но только не сгенерировав псевдовыборку, а откусив правильным образом кусок из имеющейся."
   ]
  },
  {
   "cell_type": "markdown",
   "id": "97fe3491-faec-403e-adcf-2c388619dcb5",
   "metadata": {},
   "source": [
    "Разделим две группы пользователей на 50 бакетов прямо в ClickHouse с помощью функции хэширования **xxHash64**:"
   ]
  },
  {
   "cell_type": "markdown",
   "id": "2d5dad71-b26c-41cb-8029-b0fcf22f38ee",
   "metadata": {},
   "source": [
    "```sql\n",
    "query1 = \"\"\"\n",
    "select \n",
    "    exp_group, \n",
    "    bucket,\n",
    "    sum(likes)/sum(views) as bucket_ctr\n",
    "from \n",
    "    (\n",
    "    select \n",
    "        exp_group, \n",
    "        xxHash64(user_id)%50 as bucket,\n",
    "        user_id,\n",
    "        sum(action = 'like') as likes,\n",
    "        sum(action = 'view') as views,\n",
    "        likes/views as ctr\n",
    "    from {db}.feed_actions \n",
    "    where toDate(time) between '2023-01-01' and '2023-01-07'\n",
    "          and exp_group in (1,2)\n",
    "    group by exp_group, bucket, user_id\n",
    "    )\n",
    "group by exp_group, bucket\n",
    "\"\"\"\n",
    "\n",
    "df1 = ph.read_clickhouse(query1, \n",
    "                        connection = connection)\n",
    "```"
   ]
  },
  {
   "cell_type": "markdown",
   "id": "849d9612-682f-47ab-a677-c21acb117c88",
   "metadata": {},
   "source": [
    "Выгрузив данные, загружаем их из локального фаила"
   ]
  },
  {
   "cell_type": "code",
   "execution_count": 65,
   "id": "0873ebd2-f281-4fd0-8599-79b27ad1ca08",
   "metadata": {},
   "outputs": [
    {
     "data": {
      "text/html": [
       "<div>\n",
       "<style scoped>\n",
       "    .dataframe tbody tr th:only-of-type {\n",
       "        vertical-align: middle;\n",
       "    }\n",
       "\n",
       "    .dataframe tbody tr th {\n",
       "        vertical-align: top;\n",
       "    }\n",
       "\n",
       "    .dataframe thead th {\n",
       "        text-align: right;\n",
       "    }\n",
       "</style>\n",
       "<table border=\"1\" class=\"dataframe\">\n",
       "  <thead>\n",
       "    <tr style=\"text-align: right;\">\n",
       "      <th></th>\n",
       "      <th>exp_group</th>\n",
       "      <th>bucket</th>\n",
       "      <th>bucket_ctr</th>\n",
       "    </tr>\n",
       "  </thead>\n",
       "  <tbody>\n",
       "    <tr>\n",
       "      <th>0</th>\n",
       "      <td>1</td>\n",
       "      <td>0</td>\n",
       "      <td>0.196481</td>\n",
       "    </tr>\n",
       "    <tr>\n",
       "      <th>1</th>\n",
       "      <td>2</td>\n",
       "      <td>0</td>\n",
       "      <td>0.194262</td>\n",
       "    </tr>\n",
       "    <tr>\n",
       "      <th>2</th>\n",
       "      <td>1</td>\n",
       "      <td>1</td>\n",
       "      <td>0.211887</td>\n",
       "    </tr>\n",
       "    <tr>\n",
       "      <th>3</th>\n",
       "      <td>2</td>\n",
       "      <td>1</td>\n",
       "      <td>0.215328</td>\n",
       "    </tr>\n",
       "    <tr>\n",
       "      <th>4</th>\n",
       "      <td>1</td>\n",
       "      <td>2</td>\n",
       "      <td>0.206271</td>\n",
       "    </tr>\n",
       "  </tbody>\n",
       "</table>\n",
       "</div>"
      ],
      "text/plain": [
       "   exp_group  bucket  bucket_ctr\n",
       "0          1       0    0.196481\n",
       "1          2       0    0.194262\n",
       "2          1       1    0.211887\n",
       "3          2       1    0.215328\n",
       "4          1       2    0.206271"
      ]
     },
     "execution_count": 65,
     "metadata": {},
     "output_type": "execute_result"
    }
   ],
   "source": [
    "import os; os.listdir()\n",
    "import pandas as pd\n",
    "\n",
    "bu = pd.read_csv('bucket_ctr.csv',sep=',',index_col=[0])\n",
    "bu.head()"
   ]
  },
  {
   "cell_type": "code",
   "execution_count": 66,
   "id": "50a5d60b",
   "metadata": {},
   "outputs": [],
   "source": [
    "# делим на группы\n",
    "bc = bu[bu['exp_group']==1]\n",
    "bt = bu[bu['exp_group']==2]"
   ]
  },
  {
   "cell_type": "code",
   "execution_count": 67,
   "id": "8e04ae08",
   "metadata": {},
   "outputs": [
    {
     "data": {
      "text/plain": [
       "np.float64(1.0)"
      ]
     },
     "execution_count": 67,
     "metadata": {},
     "output_type": "execute_result"
    }
   ],
   "source": [
    "round(stats.ttest_ind(bc.bucket_ctr,\n",
    "                bt.bucket_ctr,\n",
    "                equal_var=False, \n",
    "                alternative='less').pvalue,5)"
   ]
  },
  {
   "cell_type": "markdown",
   "id": "bedf1260",
   "metadata": {},
   "source": [
    "- Такой высокий **p-value** говорит о большом противоречии с алтереативной гипотезы; значении сренего одинаковы либо среднее из контрольной группы больше\n",
    "- Нет статистического обоснования того что значение из контролькой группы меньше, опровергаем нулевую гипотизу"
   ]
  },
  {
   "cell_type": "code",
   "execution_count": 68,
   "id": "9520c471",
   "metadata": {},
   "outputs": [
    {
     "data": {
      "text/plain": [
       "np.float64(0.0)"
      ]
     },
     "execution_count": 68,
     "metadata": {},
     "output_type": "execute_result"
    }
   ],
   "source": [
    "round(stats.ttest_ind(bc.bucket_ctr,\n",
    "                bt.bucket_ctr,\n",
    "                equal_var=False, \n",
    "                alternative='greater').pvalue,5)"
   ]
  },
  {
   "cell_type": "markdown",
   "id": "7488ea8e",
   "metadata": {},
   "source": [
    "- Отвергаем нулевую гипотизу в пользу альтернативной\n",
    "- Этот подход так же говорит о том что значение среднего больше в контрольной группе "
   ]
  },
  {
   "cell_type": "code",
   "execution_count": 69,
   "id": "4002d0bb-f507-4c3f-ac77-1216946fd94c",
   "metadata": {},
   "outputs": [
    {
     "data": {
      "text/plain": [
       "MannwhitneyuResult(statistic=np.float64(1995.0), pvalue=np.float64(1.429981968246323e-07))"
      ]
     },
     "execution_count": 69,
     "metadata": {},
     "output_type": "execute_result"
    }
   ],
   "source": [
    "stats.mannwhitneyu(bc.bucket_ctr, \n",
    "                   bt.bucket_ctr, \n",
    "                   alternative='greater')"
   ]
  },
  {
   "cell_type": "markdown",
   "id": "266e7772-17a9-4022-b1dc-04b71673c0a4",
   "metadata": {},
   "source": [
    "- Отклоняем нулевую гипотизу в пользу альтернативной, вероятность того что случайные значении из контролькой группы больше "
   ]
  },
  {
   "cell_type": "markdown",
   "id": "93dc7e42-750b-484d-b745-b3aed33b1c57",
   "metadata": {},
   "source": [
    "<h2><b>10 | <span style=\"color: #10a3d7\">CONCLUSION</span></b></h2>\n",
    "\n",
    "Выполнено статистическое тестирование **гипотезы о том что новый алгоритм во 2-й группе приведет к увеличению CTR** с использованием параметрических и непараметричсеких методов:\n",
    "    \n",
    "<ul>\n",
    "    <li><b>t-тест</b> на всех группах без предобработки</li>\n",
    "    <li>Тест Манна-Уитни на всех группах без предобработки</li>\n",
    "    <li>Непараметрический бутстреп</li>\n",
    "    <li>Пуассоновский бутстреп</li>\n",
    "    <li><b>t-тест</b> и тест Манна-Уитни на сглаженном ctr (α=5)</li>\n",
    "    <li><b>t-тест</b> и тест Манна-Уитни поверх бакетного преобразования</li>\n",
    "</ul>\n",
    "\n",
    "\n",
    "По результатам выполнения серии тестов, данная гипотеза была отвергнута и принята обратная: \n",
    "- **новый ML алгоритм в тестовой группе приведет к снижению CTR по сравнению с CTR в контрольной**\n",
    "- Однако не все тесты обнаружили статистически значимое различие в группах.\n",
    "- Тест Стьюдента на группах без предобработки не прокрасился из-за заложенного в t статистику сравнения среднего выборок, а они в двух выборках практически идентичны. Но после применения сглаживания Лапласа для метрики CTR, которое позволило увеличить чувствительность t критерия, была обнаружена статистически значимая разница в группах и принята обратная альтернативная гипотеза:   \n",
    "Cредние значения CTR в тестовой группе ниже, чем в контрольной.\n",
    "\n",
    "<br>\n",
    "\n",
    "<div style=\" background-color:#10a3d7; padding: 8px 10px; border-radius: 8px; color: white\">\n",
    "<b>Рекоммендация:\n",
    "<ul>\n",
    "<li>Не раскатывать алгоритм на всех пользователей. </li>\n",
    "<li>Во-первых, потому что пуассоновский бутстреп показал, что CTR в таргет группе стал ниже, чем в контрольной группе.</li>\n",
    "<li>Во-вторых, стоит также разобраться, почему CTR стал бимодальным.</li></b>\n",
    "</ul>\n",
    "</div> "
   ]
  }
 ],
 "metadata": {
  "kernelspec": {
   "display_name": "Python 3 (ipykernel)",
   "language": "python",
   "name": "python3"
  },
  "language_info": {
   "codemirror_mode": {
    "name": "ipython",
    "version": 3
   },
   "file_extension": ".py",
   "mimetype": "text/x-python",
   "name": "python",
   "nbconvert_exporter": "python",
   "pygments_lexer": "ipython3",
   "version": "3.13.3"
  }
 },
 "nbformat": 4,
 "nbformat_minor": 5
}
