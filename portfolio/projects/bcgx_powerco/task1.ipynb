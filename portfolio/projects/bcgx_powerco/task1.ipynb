{
 "cells": [
  {
   "cell_type": "markdown",
   "id": "2b534421-03da-4ceb-91e1-70590f5ef974",
   "metadata": {},
   "source": [
    "# **Key roles and responsibilities of a Data Scientist at BCG X**\n",
    "\n",
    "## **Background**\n",
    "\n",
    "BCG X is transforming businesses using data science to help companies generate competitive advantage. To do this, we typically follow a 5-step methodology:\n",
    "\n",
    "1) **`Business understanding`** & **`problem framing`**: what is the context of this problem and why are they trying to solve it?   \n",
    "2) **`Exploratory data analysis`** & **`data cleaning`**: what data are we working with, what does it look like and how can we make it better?\n",
    "3) **`Feature engineering`**: can we enrich this dataset using our own expertise or third party information?   \n",
    "4) **`Modeling`** and **`evaluation`**: can we use this dataset to accurately make predictions? If so, are they reliable?\n",
    "5) **`Insights`** & **`Recommendations`**: how we can communicate the value of these predictions by explaining them in a way that matters to the business?\n",
    "\n",
    "The tasks in this program will be focused on using different parts of this methodology at different times, so you’ll get a taste of the overall process.\n",
    "\n",
    "It’s a really exciting time to be working with BCG X as more clients are needing data to drive key decisions. So, let’s check out what case you’ll be working on!"
   ]
  },
  {
   "cell_type": "markdown",
   "id": "0b6ce650-eb25-4343-8e85-a10cb8c0b449",
   "metadata": {},
   "source": [
    "## **The brief from PowerCo**\n",
    "\n",
    "The Associate Director (AD) of the Data Science team held a team meeting to discuss the client brief. You’ll be working closely with Estelle Altazin, a senior data scientist on your team.\n",
    "\n",
    "Here are the key takeaways from the meeting:\n",
    "\n",
    "- Your client is PowerCo - a major **gas and electricity utility that supplies to small and medium sized enterprises**\n",
    "- The energy market has had a lot of change in recent years and there are **more options than ever for customers to choose from**\n",
    "- PowerCo are concerned about their customers leaving for better offers from other energy providers\n",
    "- When a customer leaves to use another service provider, this is called churn\n",
    "- This is becoming a big issue for PowerCo and they have engaged BCG to help diagnose the reason why their customers are churning\n",
    "\n",
    "During the meeting your AD discussed some potential reasons for this churn, one being how **“sensitive” the price** is. \n",
    "\n",
    "- In other words, **how much is price a factor in a customer’s choice** to stay with or leave PowerCo?\n",
    "- So, now it’s time for you to **investigate this hypothesis**"
   ]
  },
  {
   "cell_type": "markdown",
   "id": "e26ef1ab-b772-4b76-9a42-3de9fac76e57",
   "metadata": {},
   "source": [
    "## **Your task - we need to understand PowerCo’s problem in detail**\n",
    "\n",
    "First things first, you and Estelle need to understand the problem that PowerCo is facing at a deeper level and plan how you’ll tackle it. If you recall the 5 steps in the Data Science methodology, this is called “business understanding & problem framing”.\n",
    "\n",
    "Your AD wants you and Estelle to email him by COB today outlining:\n",
    "\n",
    "- the data that we’ll need from the client, and\n",
    "- the techniques we’ll use to investigate the issue.\n",
    "\n",
    "**Use the text field below to write your email, here’s what you’ll need to include:**\n",
    "\n",
    "You must formulate PowerCo’s issue as a problem using the 5 step data science process and lay out the major steps needed to test it.\n",
    "\n",
    "- What do you think are the key reasons for a customer deciding to stay with or switch energy providers? For example: price, is it clean energy, customer service, location etc.\n",
    "- What data do you think would be useful in order to investigate these key reasons? E.g. customer purchasing trends over past 5 years, location of business etc.\n",
    "- If you were to get this data, how could you analyse or visualize it to test whether these reasons may have an impact on churn?"
   ]
  },
  {
   "cell_type": "markdown",
   "id": "0d55f78d-e056-4ede-ba5b-a85bce383ae5",
   "metadata": {},
   "source": [
    "## **Email**\n",
    "\n",
    "Hi [AD],\n",
    "\n",
    "In order to test the hypothesis of whether churn is driven by the customers’ price sensitivity, we would need to model churn probabilities of customers, and derive the effect of prices on churn rates. \n",
    "\n",
    "We would need the following data to be able to build the models.\n",
    "\n",
    "- Customer data - which should include characteristics of each client, for example, industry, historical electricity consumption, date joined as customer etc.\n",
    "- Churn data - which should indicate if customer has churned\n",
    "- Historical price data – which should indicate the prices the client charges to each customer for both electricity and gas at granular time intervals\n",
    "\n",
    "\n",
    "Once we have the data, the work plan would be:\n",
    "\n",
    "- We need to define what price sensitivity is and calculate it\n",
    "- We need to prepare the data and engineer features \n",
    "- Then, we can test our hypothesis using a binary classification model (e.g. Logistic Regression, Random Forest, Gradient Boosted Machines to name a few)\n",
    "- We would choose a model from one of the tested algorithms based on the model complexity, the explainability, and the accuracy of the models.\n",
    "- With the trained model, we would be able to extrapolate the extent to which price sensitivity influences churn\n",
    "\n",
    "\n",
    "Regards, [Your name]"
   ]
  }
 ],
 "metadata": {
  "kernelspec": {
   "display_name": "Python 3 (ipykernel)",
   "language": "python",
   "name": "python3"
  },
  "language_info": {
   "codemirror_mode": {
    "name": "ipython",
    "version": 3
   },
   "file_extension": ".py",
   "mimetype": "text/x-python",
   "name": "python",
   "nbconvert_exporter": "python",
   "pygments_lexer": "ipython3",
   "version": "3.12.4"
  }
 },
 "nbformat": 4,
 "nbformat_minor": 5
}
